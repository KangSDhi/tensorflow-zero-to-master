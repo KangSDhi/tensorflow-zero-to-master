{
 "cells": [
  {
   "cell_type": "markdown",
   "source": "# In this notebook, we're going to cover some of the most fundamental concepts of tensor using tensorflow \n\nMore specifically, we're going to cover:\n* Introduction to tensors\n* Getting information from tensors\n* Manipulating tensors\n* Tensors & NumPy\n* Using @tf.function (a way to speed up your regular Python functions)\n* Using GPUs with Tensorflow (or TPUs)\n* Exercises to try for yourself!",
   "metadata": {
    "collapsed": false
   },
   "id": "1cdb7d85d753d0a"
  },
  {
   "cell_type": "markdown",
   "source": "## Introduction to tensors ",
   "metadata": {
    "collapsed": false
   },
   "id": "b9b666db48431892"
  },
  {
   "cell_type": "code",
   "source": "# Import TensorFlow\nimport tensorflow as tf\nprint(tf.__version__)",
   "metadata": {
    "collapsed": false,
    "trusted": false,
    "ExecuteTime": {
     "end_time": "2025-07-14T01:52:41.397734Z",
     "start_time": "2025-07-14T01:52:39.263445Z"
    }
   },
   "id": "3da9ef7bb594b35c",
   "outputs": [
    {
     "name": "stderr",
     "output_type": "stream",
     "text": [
      "2025-07-14 08:52:39.568089: I tensorflow/core/util/port.cc:113] oneDNN custom operations are on. You may see slightly different numerical results due to floating-point round-off errors from different computation orders. To turn them off, set the environment variable `TF_ENABLE_ONEDNN_OPTS=0`.\n",
      "2025-07-14 08:52:39.569890: I external/local_tsl/tsl/cuda/cudart_stub.cc:31] Could not find cuda drivers on your machine, GPU will not be used.\n",
      "2025-07-14 08:52:39.605593: E external/local_xla/xla/stream_executor/cuda/cuda_dnn.cc:9261] Unable to register cuDNN factory: Attempting to register factory for plugin cuDNN when one has already been registered\n",
      "2025-07-14 08:52:39.605644: E external/local_xla/xla/stream_executor/cuda/cuda_fft.cc:607] Unable to register cuFFT factory: Attempting to register factory for plugin cuFFT when one has already been registered\n",
      "2025-07-14 08:52:39.607953: E external/local_xla/xla/stream_executor/cuda/cuda_blas.cc:1515] Unable to register cuBLAS factory: Attempting to register factory for plugin cuBLAS when one has already been registered\n",
      "2025-07-14 08:52:39.616385: I external/local_tsl/tsl/cuda/cudart_stub.cc:31] Could not find cuda drivers on your machine, GPU will not be used.\n",
      "2025-07-14 08:52:39.617264: I tensorflow/core/platform/cpu_feature_guard.cc:182] This TensorFlow binary is optimized to use available CPU instructions in performance-critical operations.\n",
      "To enable the following instructions: AVX2 AVX_VNNI FMA, in other operations, rebuild TensorFlow with the appropriate compiler flags.\n",
      "2025-07-14 08:52:40.244124: W tensorflow/compiler/tf2tensorrt/utils/py_utils.cc:38] TF-TRT Warning: Could not find TensorRT\n",
      "2025-07-14 08:52:41.105311: W external/local_tsl/tsl/lib/monitoring/collection_registry.cc:81] Trying to register 2 metrics with the same name: /tensorflow/core/bfc_allocator_delay. The old value will be erased in order to register a new one. Please check if you link the metric more than once, or if the name is already used by other metrics.\n",
      "2025-07-14 08:52:41.105540: W external/local_tsl/tsl/lib/monitoring/collection_registry.cc:81] Trying to register 2 metrics with the same name: /xla/service/gpu/compiled_programs_count. The old value will be erased in order to register a new one. Please check if you link the metric more than once, or if the name is already used by other metrics.\n",
      "2025-07-14 08:52:41.106533: W external/local_tsl/tsl/lib/monitoring/collection_registry.cc:81] Trying to register 2 metrics with the same name: /jax/pjrt/pjrt_executable_executions. The old value will be erased in order to register a new one. Please check if you link the metric more than once, or if the name is already used by other metrics.\n",
      "2025-07-14 08:52:41.106545: W external/local_tsl/tsl/lib/monitoring/collection_registry.cc:81] Trying to register 2 metrics with the same name: /jax/pjrt/pjrt_executable_execution_time_usecs. The old value will be erased in order to register a new one. Please check if you link the metric more than once, or if the name is already used by other metrics.\n",
      "2025-07-14 08:52:49.724385: I itex/core/wrapper/itex_gpu_wrapper.cc:38] Intel Extension for Tensorflow* GPU backend is loaded.\n",
      "2025-07-14 08:52:49.725390: I external/local_xla/xla/pjrt/pjrt_api.cc:67] PJRT_Api is set for device type xpu\n",
      "2025-07-14 08:52:49.725414: I external/local_xla/xla/pjrt/pjrt_api.cc:72] PJRT plugin for XPU has PJRT API version 0.33. The framework PJRT API version is 0.34.\n",
      "2025-07-14 08:52:49.745517: I external/intel_xla/xla/stream_executor/sycl/sycl_gpu_runtime.cc:134] Selected platform: Intel(R) oneAPI Unified Runtime over Level-Zero\n",
      "2025-07-14 08:52:49.745712: I external/intel_xla/xla/stream_executor/sycl/sycl_gpu_runtime.cc:159] number of sub-devices is zero, expose root device.\n",
      "2025-07-14 08:52:49.750813: I external/xla/xla/service/service.cc:168] XLA service 0x58e39d712ba0 initialized for platform SYCL (this does not guarantee that XLA will be used). Devices:\n",
      "2025-07-14 08:52:49.750844: I external/xla/xla/service/service.cc:176]   StreamExecutor device (0): Intel(R) Graphics [0x64a0], <undefined>\n",
      "2025-07-14 08:52:49.751557: I itex/core/devices/gpu/itex_gpu_runtime.cc:130] Selected platform: Intel(R) oneAPI Unified Runtime over Level-Zero\n",
      "2025-07-14 08:52:49.751690: I itex/core/devices/gpu/itex_gpu_runtime.cc:155] number of sub-devices is zero, expose root device.\n",
      "2025-07-14 08:52:49.776743: I external/intel_xla/xla/pjrt/se_xpu_pjrt_client.cc:97] Using BFC allocator.\n",
      "2025-07-14 08:52:49.776802: I external/xla/xla/pjrt/gpu/gpu_helpers.cc:106] XLA backend allocating 15909938380 bytes on device 0 for BFCAllocator.\n",
      "2025-07-14 08:52:49.777569: I external/local_xla/xla/pjrt/pjrt_c_api_client.cc:119] PjRtCApiClient created.\n"
     ]
    },
    {
     "name": "stdout",
     "output_type": "stream",
     "text": [
      "2.15.0\n"
     ]
    }
   ],
   "execution_count": 1
  },
  {
   "cell_type": "code",
   "source": "# Create tensors with tf.constant()\nscalar = tf.constant(7)\nscalar",
   "metadata": {
    "collapsed": false,
    "trusted": false,
    "ExecuteTime": {
     "end_time": "2025-07-14T01:52:41.684153Z",
     "start_time": "2025-07-14T01:52:41.656181Z"
    }
   },
   "id": "dc7efd4766d031c3",
   "outputs": [
    {
     "name": "stderr",
     "output_type": "stream",
     "text": [
      "2025-07-14 08:52:41.658539: I tensorflow/core/common_runtime/next_pluggable_device/next_pluggable_device_factory.cc:118] Created 1 TensorFlow NextPluggableDevices. Physical device type: XPU\n"
     ]
    },
    {
     "data": {
      "text/plain": [
       "<tf.Tensor: shape=(), dtype=int32, numpy=7>"
      ]
     },
     "execution_count": 2,
     "metadata": {},
     "output_type": "execute_result"
    }
   ],
   "execution_count": 2
  },
  {
   "cell_type": "code",
   "source": "# Check the number of dimensions of a tensor (ndim stands for number of dimensions)\nscalar.ndim",
   "metadata": {
    "collapsed": false,
    "trusted": false,
    "ExecuteTime": {
     "end_time": "2025-07-14T01:52:41.725139Z",
     "start_time": "2025-07-14T01:52:41.721633Z"
    }
   },
   "id": "d4f5d5f3cb78057b",
   "outputs": [
    {
     "data": {
      "text/plain": [
       "0"
      ]
     },
     "execution_count": 3,
     "metadata": {},
     "output_type": "execute_result"
    }
   ],
   "execution_count": 3
  },
  {
   "cell_type": "code",
   "source": "# Create a vector\nvector = tf.constant([10, 10])\nvector",
   "metadata": {
    "collapsed": false,
    "trusted": false,
    "ExecuteTime": {
     "end_time": "2025-07-14T01:52:41.789612Z",
     "start_time": "2025-07-14T01:52:41.783990Z"
    }
   },
   "id": "212f91148efbdba1",
   "outputs": [
    {
     "data": {
      "text/plain": [
       "<tf.Tensor: shape=(2,), dtype=int32, numpy=array([10, 10], dtype=int32)>"
      ]
     },
     "execution_count": 4,
     "metadata": {},
     "output_type": "execute_result"
    }
   ],
   "execution_count": 4
  },
  {
   "cell_type": "code",
   "source": "# Check dimension of our vector\nvector.ndim",
   "metadata": {
    "collapsed": false,
    "trusted": false,
    "ExecuteTime": {
     "end_time": "2025-07-14T01:52:41.860756Z",
     "start_time": "2025-07-14T01:52:41.850387Z"
    }
   },
   "id": "3dc08da1e7775566",
   "outputs": [
    {
     "data": {
      "text/plain": [
       "1"
      ]
     },
     "execution_count": 5,
     "metadata": {},
     "output_type": "execute_result"
    }
   ],
   "execution_count": 5
  },
  {
   "cell_type": "code",
   "source": "# Create matrix (has more than 1 dimension)\nmatrix = tf.constant([[10, 7], \n                      [7, 10]])\nmatrix",
   "metadata": {
    "collapsed": false,
    "trusted": false,
    "ExecuteTime": {
     "end_time": "2025-07-14T01:52:41.922443Z",
     "start_time": "2025-07-14T01:52:41.918932Z"
    }
   },
   "id": "5175b56a0e924c6",
   "outputs": [
    {
     "data": {
      "text/plain": [
       "<tf.Tensor: shape=(2, 2), dtype=int32, numpy=\n",
       "array([[10,  7],\n",
       "       [ 7, 10]], dtype=int32)>"
      ]
     },
     "execution_count": 6,
     "metadata": {},
     "output_type": "execute_result"
    }
   ],
   "execution_count": 6
  },
  {
   "cell_type": "code",
   "source": "matrix.ndim",
   "metadata": {
    "collapsed": false,
    "trusted": false,
    "ExecuteTime": {
     "end_time": "2025-07-14T01:52:42.023501Z",
     "start_time": "2025-07-14T01:52:42.020287Z"
    }
   },
   "id": "4bff36716ae077b",
   "outputs": [
    {
     "data": {
      "text/plain": [
       "2"
      ]
     },
     "execution_count": 7,
     "metadata": {},
     "output_type": "execute_result"
    }
   ],
   "execution_count": 7
  },
  {
   "cell_type": "code",
   "source": "# Create another matrix\nanother_matrix = tf.constant([[10., 7.],\n                              [3., 2.],\n                              [8., 9.]], dtype=tf.float16) # Specify the data type with dtype parameter\nanother_matrix",
   "metadata": {
    "collapsed": false,
    "trusted": false,
    "ExecuteTime": {
     "end_time": "2025-07-14T01:52:42.438251Z",
     "start_time": "2025-07-14T01:52:42.423844Z"
    }
   },
   "id": "d858e39c875bff3f",
   "outputs": [
    {
     "data": {
      "text/plain": [
       "<tf.Tensor: shape=(3, 2), dtype=float16, numpy=\n",
       "array([[10.,  7.],\n",
       "       [ 3.,  2.],\n",
       "       [ 8.,  9.]], dtype=float16)>"
      ]
     },
     "execution_count": 8,
     "metadata": {},
     "output_type": "execute_result"
    }
   ],
   "execution_count": 8
  },
  {
   "cell_type": "code",
   "source": "# What's the number of dimensions of another_matrix?\nanother_matrix.ndim",
   "metadata": {
    "collapsed": false,
    "trusted": false,
    "ExecuteTime": {
     "end_time": "2025-07-14T01:52:42.548246Z",
     "start_time": "2025-07-14T01:52:42.545056Z"
    }
   },
   "id": "92c2ff7d1c3152b7",
   "outputs": [
    {
     "data": {
      "text/plain": [
       "2"
      ]
     },
     "execution_count": 9,
     "metadata": {},
     "output_type": "execute_result"
    }
   ],
   "execution_count": 9
  },
  {
   "cell_type": "code",
   "source": "# Let's create a tensor\ntensor = tf.constant([[[1, 2, 3], \n                       [4, 5, 6]],\n                      [[7, 8, 9],\n                       [10, 11, 12]],\n                      [[13, 14, 15],\n                       [16, 17, 18]]])\ntensor",
   "metadata": {
    "collapsed": false,
    "trusted": false,
    "ExecuteTime": {
     "end_time": "2025-07-14T01:52:42.670779Z",
     "start_time": "2025-07-14T01:52:42.665357Z"
    }
   },
   "id": "d6b363aee7da22e8",
   "outputs": [
    {
     "data": {
      "text/plain": [
       "<tf.Tensor: shape=(3, 2, 3), dtype=int32, numpy=\n",
       "array([[[ 1,  2,  3],\n",
       "        [ 4,  5,  6]],\n",
       "\n",
       "       [[ 7,  8,  9],\n",
       "        [10, 11, 12]],\n",
       "\n",
       "       [[13, 14, 15],\n",
       "        [16, 17, 18]]], dtype=int32)>"
      ]
     },
     "execution_count": 10,
     "metadata": {},
     "output_type": "execute_result"
    }
   ],
   "execution_count": 10
  },
  {
   "cell_type": "code",
   "source": "tensor.ndim",
   "metadata": {
    "collapsed": false,
    "trusted": false,
    "ExecuteTime": {
     "end_time": "2025-07-14T01:52:42.780865Z",
     "start_time": "2025-07-14T01:52:42.777458Z"
    }
   },
   "id": "8595861e006005c7",
   "outputs": [
    {
     "data": {
      "text/plain": [
       "3"
      ]
     },
     "execution_count": 11,
     "metadata": {},
     "output_type": "execute_result"
    }
   ],
   "execution_count": 11
  },
  {
   "cell_type": "markdown",
   "source": "What we've created so far:\n\n* Scalar: a single number\n* Vector: a number with direction (e.g. wind speed and direction)\n* Matrix: a 2-dimensional array of numbers\n* Tensor: an n-dimensional array of numbers (when n can be any number, a 0-dimensional tensor is a scalar, a 1-dimensional tensor is a vector)",
   "metadata": {
    "collapsed": false
   },
   "id": "d57b25090863dde"
  },
  {
   "cell_type": "markdown",
   "source": "### Creating tensors with `tf.Variable`",
   "metadata": {
    "collapsed": false
   },
   "id": "4e74e7fea5038a28"
  },
  {
   "cell_type": "code",
   "source": "# Create the same tensor with tf.Variable() as above\nchangeable_tensor = tf.Variable([10, 7])\nunchangeable_tensor = tf.constant([10, 7])\nchangeable_tensor, unchangeable_tensor",
   "metadata": {
    "collapsed": false,
    "trusted": false,
    "ExecuteTime": {
     "end_time": "2025-07-14T01:52:42.862076Z",
     "start_time": "2025-07-14T01:52:42.839984Z"
    }
   },
   "id": "95461d8718694d01",
   "outputs": [
    {
     "data": {
      "text/plain": [
       "(<tf.Variable 'Variable:0' shape=(2,) dtype=int32, numpy=array([10,  7], dtype=int32)>,\n",
       " <tf.Tensor: shape=(2,), dtype=int32, numpy=array([10,  7], dtype=int32)>)"
      ]
     },
     "execution_count": 12,
     "metadata": {},
     "output_type": "execute_result"
    }
   ],
   "execution_count": 12
  },
  {
   "cell_type": "code",
   "source": " # Let's try change one of the elements in our changeable tensor\nchangeable_tensor[0] = 7",
   "metadata": {
    "collapsed": false,
    "trusted": false,
    "ExecuteTime": {
     "end_time": "2025-07-14T01:52:42.920743Z",
     "start_time": "2025-07-14T01:52:42.901393Z"
    }
   },
   "id": "200fadbb1f76c32",
   "outputs": [
    {
     "ename": "TypeError",
     "evalue": "'ResourceVariable' object does not support item assignment",
     "output_type": "error",
     "traceback": [
      "\u001B[31m---------------------------------------------------------------------------\u001B[39m",
      "\u001B[31mTypeError\u001B[39m                                 Traceback (most recent call last)",
      "\u001B[36mCell\u001B[39m\u001B[36m \u001B[39m\u001B[32mIn[13]\u001B[39m\u001B[32m, line 2\u001B[39m\n\u001B[32m      1\u001B[39m  \u001B[38;5;66;03m# Let's try change one of the elements in our changeable tensor\u001B[39;00m\n\u001B[32m----> \u001B[39m\u001B[32m2\u001B[39m \u001B[43mchangeable_tensor\u001B[49m\u001B[43m[\u001B[49m\u001B[32;43m0\u001B[39;49m\u001B[43m]\u001B[49m = \u001B[32m7\u001B[39m\n",
      "\u001B[31mTypeError\u001B[39m: 'ResourceVariable' object does not support item assignment"
     ]
    }
   ],
   "execution_count": 13
  },
  {
   "cell_type": "code",
   "source": "# How about we try .assign()\nchangeable_tensor[0].assign(7)\nchangeable_tensor",
   "metadata": {
    "collapsed": false,
    "trusted": false,
    "ExecuteTime": {
     "end_time": "2025-07-14T01:52:59.828810Z",
     "start_time": "2025-07-14T01:52:59.812783Z"
    }
   },
   "id": "a7fcae81e9584b92",
   "outputs": [
    {
     "data": {
      "text/plain": [
       "<tf.Variable 'Variable:0' shape=(2,) dtype=int32, numpy=array([7, 7], dtype=int32)>"
      ]
     },
     "execution_count": 14,
     "metadata": {},
     "output_type": "execute_result"
    }
   ],
   "execution_count": 14
  },
  {
   "cell_type": "code",
   "source": "# Let's try change our unchangeable tensor\nunchangeable_tensor[0].assign(7)\nunchangeable_tensor",
   "metadata": {
    "collapsed": false,
    "trusted": false,
    "ExecuteTime": {
     "end_time": "2025-07-14T01:52:59.930593Z",
     "start_time": "2025-07-14T01:52:59.883329Z"
    }
   },
   "id": "93d79cfac649bf61",
   "outputs": [
    {
     "ename": "AttributeError",
     "evalue": "'tensorflow.python.framework.ops.EagerTensor' object has no attribute 'assign'",
     "output_type": "error",
     "traceback": [
      "\u001B[31m---------------------------------------------------------------------------\u001B[39m",
      "\u001B[31mAttributeError\u001B[39m                            Traceback (most recent call last)",
      "\u001B[36mCell\u001B[39m\u001B[36m \u001B[39m\u001B[32mIn[15]\u001B[39m\u001B[32m, line 2\u001B[39m\n\u001B[32m      1\u001B[39m \u001B[38;5;66;03m# Let's try change our unchangeable tensor\u001B[39;00m\n\u001B[32m----> \u001B[39m\u001B[32m2\u001B[39m \u001B[43munchangeable_tensor\u001B[49m\u001B[43m[\u001B[49m\u001B[32;43m0\u001B[39;49m\u001B[43m]\u001B[49m\u001B[43m.\u001B[49m\u001B[43massign\u001B[49m(\u001B[32m7\u001B[39m)\n\u001B[32m      3\u001B[39m unchangeable_tensor\n",
      "\u001B[36mFile \u001B[39m\u001B[32m~/anaconda3/envs/idp/lib/python3.11/site-packages/tensorflow/python/framework/tensor.py:261\u001B[39m, in \u001B[36mTensor.__getattr__\u001B[39m\u001B[34m(self, name)\u001B[39m\n\u001B[32m    253\u001B[39m \u001B[38;5;28;01mif\u001B[39;00m name \u001B[38;5;129;01min\u001B[39;00m {\u001B[33m\"\u001B[39m\u001B[33mT\u001B[39m\u001B[33m\"\u001B[39m, \u001B[33m\"\u001B[39m\u001B[33mastype\u001B[39m\u001B[33m\"\u001B[39m, \u001B[33m\"\u001B[39m\u001B[33mravel\u001B[39m\u001B[33m\"\u001B[39m, \u001B[33m\"\u001B[39m\u001B[33mtranspose\u001B[39m\u001B[33m\"\u001B[39m, \u001B[33m\"\u001B[39m\u001B[33mreshape\u001B[39m\u001B[33m\"\u001B[39m, \u001B[33m\"\u001B[39m\u001B[33mclip\u001B[39m\u001B[33m\"\u001B[39m, \u001B[33m\"\u001B[39m\u001B[33msize\u001B[39m\u001B[33m\"\u001B[39m,\n\u001B[32m    254\u001B[39m             \u001B[33m\"\u001B[39m\u001B[33mtolist\u001B[39m\u001B[33m\"\u001B[39m, \u001B[33m\"\u001B[39m\u001B[33mdata\u001B[39m\u001B[33m\"\u001B[39m}:\n\u001B[32m    255\u001B[39m   \u001B[38;5;66;03m# TODO(wangpeng): Export the enable_numpy_behavior knob\u001B[39;00m\n\u001B[32m    256\u001B[39m   \u001B[38;5;28;01mraise\u001B[39;00m \u001B[38;5;167;01mAttributeError\u001B[39;00m(\n\u001B[32m    257\u001B[39m       \u001B[33mf\u001B[39m\u001B[33m\"\u001B[39m\u001B[38;5;132;01m{\u001B[39;00m\u001B[38;5;28mtype\u001B[39m(\u001B[38;5;28mself\u001B[39m).\u001B[34m__name__\u001B[39m\u001B[38;5;132;01m}\u001B[39;00m\u001B[33m object has no attribute \u001B[39m\u001B[33m'\u001B[39m\u001B[38;5;132;01m{\u001B[39;00mname\u001B[38;5;132;01m}\u001B[39;00m\u001B[33m'\u001B[39m\u001B[33m. \u001B[39m\u001B[33m\"\u001B[39m + \u001B[33m\"\"\"\u001B[39m\n\u001B[32m    258\u001B[39m \u001B[33m    If you are looking for numpy-related methods, please run the following:\u001B[39m\n\u001B[32m    259\u001B[39m \u001B[33m    tf.experimental.numpy.experimental_enable_numpy_behavior()\u001B[39m\n\u001B[32m    260\u001B[39m \u001B[33m  \u001B[39m\u001B[33m\"\"\"\u001B[39m)\n\u001B[32m--> \u001B[39m\u001B[32m261\u001B[39m \u001B[38;5;28;43mself\u001B[39;49m\u001B[43m.\u001B[49m\u001B[34;43m__getattribute__\u001B[39;49m\u001B[43m(\u001B[49m\u001B[43mname\u001B[49m\u001B[43m)\u001B[49m\n",
      "\u001B[31mAttributeError\u001B[39m: 'tensorflow.python.framework.ops.EagerTensor' object has no attribute 'assign'"
     ]
    }
   ],
   "execution_count": 15
  },
  {
   "cell_type": "markdown",
   "source": "🔑 **Note:** Rarely in practice will you need to decide whether to use `tf.constant` or `tf.Variable` to create tensors, as TensorFlow does this for you. However, if in doubt, use `tf.Constant` and change it later if needed.",
   "metadata": {
    "collapsed": false
   },
   "id": "66922015e6cf882f"
  },
  {
   "cell_type": "markdown",
   "source": "### Creating random tensors\n\nRandom tensors are tensors of some arbitrary size which contain random numbers",
   "metadata": {
    "collapsed": false
   },
   "id": "b6f6ef2590274beb"
  },
  {
   "cell_type": "code",
   "source": "# Create two random (but the same) tensors\nrandom_1 = tf.random.Generator.from_seed(7) # set seed for reproducibility\nrandom_1 = random_1.normal(shape=(3, 2))\nrandom_2 = tf.random.Generator.from_seed(7)\nrandom_2 = random_2.normal(shape=(3, 2))\n\n# Are they equal?\nrandom_1, random_2, random_1 == random_2",
   "metadata": {
    "collapsed": false,
    "trusted": false,
    "ExecuteTime": {
     "end_time": "2025-07-14T01:52:55.768678Z",
     "start_time": "2025-07-14T01:52:55.232591Z"
    }
   },
   "id": "6b0f67dba7d6c48c",
   "outputs": [
    {
     "data": {
      "text/plain": [
       "(<tf.Tensor: shape=(3, 2), dtype=float32, numpy=\n",
       " array([[-1.3240396 ,  0.2878567 ],\n",
       "        [-0.8757902 , -0.08856976],\n",
       "        [ 0.69211644,  0.84215707]], dtype=float32)>,\n",
       " <tf.Tensor: shape=(3, 2), dtype=float32, numpy=\n",
       " array([[-1.3240396 ,  0.2878567 ],\n",
       "        [-0.8757902 , -0.08856976],\n",
       "        [ 0.69211644,  0.84215707]], dtype=float32)>,\n",
       " <tf.Tensor: shape=(3, 2), dtype=bool, numpy=\n",
       " array([[ True,  True],\n",
       "        [ True,  True],\n",
       "        [ True,  True]])>)"
      ]
     },
     "execution_count": 16,
     "metadata": {},
     "output_type": "execute_result"
    }
   ],
   "execution_count": 16
  },
  {
   "cell_type": "markdown",
   "source": "### Shuffle the order of elements in a tensor",
   "metadata": {
    "collapsed": false
   },
   "id": "3bc8ca8bf94571a1"
  },
  {
   "cell_type": "code",
   "source": "# Shuffle a tensor (valuable for when you want to shuffle your data so the inherent order doesn't effect learning)\nnot_shuffled = tf.constant([[10, 7],\n                            [3, 4],\n                            [2, 5]])\n# Shuffle our non-shuffled tensor\ntf.random.shuffle(not_shuffled)",
   "metadata": {
    "collapsed": false,
    "trusted": false,
    "ExecuteTime": {
     "end_time": "2025-07-14T01:52:55.809741Z",
     "start_time": "2025-07-14T01:52:55.801227Z"
    }
   },
   "id": "6d3fa7e16f74f2f3",
   "outputs": [
    {
     "data": {
      "text/plain": [
       "<tf.Tensor: shape=(3, 2), dtype=int32, numpy=\n",
       "array([[ 2,  5],\n",
       "       [ 3,  4],\n",
       "       [10,  7]], dtype=int32)>"
      ]
     },
     "execution_count": 17,
     "metadata": {},
     "output_type": "execute_result"
    }
   ],
   "execution_count": 17
  },
  {
   "cell_type": "code",
   "source": "# Shuffle our non-shuffled tensor\n# tf.random.set_seed(42)\ntf.random.shuffle(not_shuffled, seed=42)",
   "metadata": {
    "collapsed": false,
    "trusted": false,
    "ExecuteTime": {
     "end_time": "2025-07-14T01:52:55.905286Z",
     "start_time": "2025-07-14T01:52:55.900474Z"
    }
   },
   "id": "895e6aa85681d88",
   "outputs": [
    {
     "data": {
      "text/plain": [
       "<tf.Tensor: shape=(3, 2), dtype=int32, numpy=\n",
       "array([[ 2,  5],\n",
       "       [ 3,  4],\n",
       "       [10,  7]], dtype=int32)>"
      ]
     },
     "execution_count": 18,
     "metadata": {},
     "output_type": "execute_result"
    }
   ],
   "execution_count": 18
  },
  {
   "cell_type": "markdown",
   "source": "**Exercise:** Read through TensorFlow documentation on random seed generation:\nhttps://www.tensorflow.org/api_docs/python/tf/random/set_seed and practice writing 5 random tensors and shuffle them\n\nIt looks like if we want our shuffled tensors to be in the same order, we've got to use the global level random seed as well as the operation level random seed:\n\n> Rule 4: \"If both the global and the operation seed are set: Both seeds are used in conjunction to determine the random sequence.\"",
   "metadata": {
    "collapsed": false
   },
   "id": "f38153171e81ed17"
  },
  {
   "cell_type": "code",
   "source": "not_shuffled, tf.random.shuffle(not_shuffled)",
   "metadata": {
    "collapsed": false,
    "trusted": false,
    "ExecuteTime": {
     "end_time": "2025-07-14T01:52:56.003896Z",
     "start_time": "2025-07-14T01:52:55.998506Z"
    }
   },
   "id": "ddf68cd1ebf7de15",
   "outputs": [
    {
     "data": {
      "text/plain": [
       "(<tf.Tensor: shape=(3, 2), dtype=int32, numpy=\n",
       " array([[10,  7],\n",
       "        [ 3,  4],\n",
       "        [ 2,  5]], dtype=int32)>,\n",
       " <tf.Tensor: shape=(3, 2), dtype=int32, numpy=\n",
       " array([[ 3,  4],\n",
       "        [ 2,  5],\n",
       "        [10,  7]], dtype=int32)>)"
      ]
     },
     "execution_count": 19,
     "metadata": {},
     "output_type": "execute_result"
    }
   ],
   "execution_count": 19
  },
  {
   "cell_type": "code",
   "source": "tf.random.set_seed(42) # Global Seed Random Seed\ntf.random.shuffle(not_shuffled, seed=42) # operation level random seed\n",
   "metadata": {
    "collapsed": false,
    "trusted": false,
    "ExecuteTime": {
     "end_time": "2025-07-14T01:52:56.156518Z",
     "start_time": "2025-07-14T01:52:56.150904Z"
    }
   },
   "id": "c8981e3c05ca7109",
   "outputs": [
    {
     "data": {
      "text/plain": [
       "<tf.Tensor: shape=(3, 2), dtype=int32, numpy=\n",
       "array([[10,  7],\n",
       "       [ 3,  4],\n",
       "       [ 2,  5]], dtype=int32)>"
      ]
     },
     "execution_count": 20,
     "metadata": {},
     "output_type": "execute_result"
    }
   ],
   "execution_count": 20
  },
  {
   "cell_type": "markdown",
   "source": "### Other ways to make tensors",
   "metadata": {
    "collapsed": false
   },
   "id": "1272814472320e80"
  },
  {
   "cell_type": "code",
   "source": "# Create a tensor of all ones\ntf.ones([10, 7])",
   "metadata": {
    "collapsed": false,
    "trusted": false,
    "ExecuteTime": {
     "end_time": "2025-07-14T01:52:56.232351Z",
     "start_time": "2025-07-14T01:52:56.216564Z"
    }
   },
   "id": "868a00127008b803",
   "outputs": [
    {
     "data": {
      "text/plain": [
       "<tf.Tensor: shape=(10, 7), dtype=float32, numpy=\n",
       "array([[1., 1., 1., 1., 1., 1., 1.],\n",
       "       [1., 1., 1., 1., 1., 1., 1.],\n",
       "       [1., 1., 1., 1., 1., 1., 1.],\n",
       "       [1., 1., 1., 1., 1., 1., 1.],\n",
       "       [1., 1., 1., 1., 1., 1., 1.],\n",
       "       [1., 1., 1., 1., 1., 1., 1.],\n",
       "       [1., 1., 1., 1., 1., 1., 1.],\n",
       "       [1., 1., 1., 1., 1., 1., 1.],\n",
       "       [1., 1., 1., 1., 1., 1., 1.],\n",
       "       [1., 1., 1., 1., 1., 1., 1.]], dtype=float32)>"
      ]
     },
     "execution_count": 21,
     "metadata": {},
     "output_type": "execute_result"
    }
   ],
   "execution_count": 21
  },
  {
   "cell_type": "code",
   "source": "# Create a tensor of all zeroes\ntf.zeros(shape=(3, 4))",
   "metadata": {
    "collapsed": false,
    "trusted": false,
    "ExecuteTime": {
     "end_time": "2025-07-14T01:53:04.639056Z",
     "start_time": "2025-07-14T01:53:04.630550Z"
    }
   },
   "id": "da251c2887806cff",
   "outputs": [
    {
     "data": {
      "text/plain": [
       "<tf.Tensor: shape=(3, 4), dtype=float32, numpy=\n",
       "array([[0., 0., 0., 0.],\n",
       "       [0., 0., 0., 0.],\n",
       "       [0., 0., 0., 0.]], dtype=float32)>"
      ]
     },
     "execution_count": 22,
     "metadata": {},
     "output_type": "execute_result"
    }
   ],
   "execution_count": 22
  },
  {
   "cell_type": "markdown",
   "source": "### Turn NumPy arrays into tensors\n\nThe main difference between NumPy arrays and TensorFlow tensors is that tensors can be run on a GPU (mush faster for numerical computing).",
   "metadata": {
    "collapsed": false
   },
   "id": "10d38fb203abaa23"
  },
  {
   "cell_type": "code",
   "source": "# You can also turn NumPy arrays into tensors\nimport numpy as np\nnumpy_A = np.arange(1, 25, dtype=np.int32) # Create a Numpy array between 1 and 25\nnumpy_A\n\n# X = tf.constant(some_matrix) # Capital for matrix or tensor\n# y = tf.constant(vector) # non-capital for vector",
   "metadata": {
    "collapsed": false,
    "trusted": false,
    "ExecuteTime": {
     "end_time": "2025-07-14T01:52:56.401181Z",
     "start_time": "2025-07-14T01:52:56.395049Z"
    }
   },
   "id": "f6b512aa04a59a2a",
   "outputs": [
    {
     "data": {
      "text/plain": [
       "array([ 1,  2,  3,  4,  5,  6,  7,  8,  9, 10, 11, 12, 13, 14, 15, 16, 17,\n",
       "       18, 19, 20, 21, 22, 23, 24], dtype=int32)"
      ]
     },
     "execution_count": 23,
     "metadata": {},
     "output_type": "execute_result"
    }
   ],
   "execution_count": 23
  },
  {
   "cell_type": "code",
   "source": "A = tf.constant(numpy_A, shape=(3, 8))\nB = tf.constant(numpy_A)\nA, B",
   "metadata": {
    "collapsed": false,
    "trusted": false,
    "ExecuteTime": {
     "end_time": "2025-07-14T01:52:56.727263Z",
     "start_time": "2025-07-14T01:52:56.721624Z"
    }
   },
   "id": "7c20ab1797cc35be",
   "outputs": [
    {
     "data": {
      "text/plain": [
       "(<tf.Tensor: shape=(3, 8), dtype=int32, numpy=\n",
       " array([[ 1,  2,  3,  4,  5,  6,  7,  8],\n",
       "        [ 9, 10, 11, 12, 13, 14, 15, 16],\n",
       "        [17, 18, 19, 20, 21, 22, 23, 24]], dtype=int32)>,\n",
       " <tf.Tensor: shape=(24,), dtype=int32, numpy=\n",
       " array([ 1,  2,  3,  4,  5,  6,  7,  8,  9, 10, 11, 12, 13, 14, 15, 16, 17,\n",
       "        18, 19, 20, 21, 22, 23, 24], dtype=int32)>)"
      ]
     },
     "execution_count": 24,
     "metadata": {},
     "output_type": "execute_result"
    }
   ],
   "execution_count": 24
  },
  {
   "cell_type": "code",
   "source": "3 * 8",
   "metadata": {
    "collapsed": false,
    "trusted": false,
    "ExecuteTime": {
     "end_time": "2025-07-14T01:52:56.794548Z",
     "start_time": "2025-07-14T01:52:56.790455Z"
    }
   },
   "id": "c601b2a8e9b22b2a",
   "outputs": [
    {
     "data": {
      "text/plain": [
       "24"
      ]
     },
     "execution_count": 25,
     "metadata": {},
     "output_type": "execute_result"
    }
   ],
   "execution_count": 25
  },
  {
   "cell_type": "code",
   "source": "A.ndim",
   "metadata": {
    "collapsed": false,
    "trusted": false,
    "ExecuteTime": {
     "end_time": "2025-07-14T01:52:56.878179Z",
     "start_time": "2025-07-14T01:52:56.874656Z"
    }
   },
   "id": "92505fdba5228f7c",
   "outputs": [
    {
     "data": {
      "text/plain": [
       "2"
      ]
     },
     "execution_count": 26,
     "metadata": {},
     "output_type": "execute_result"
    }
   ],
   "execution_count": 26
  },
  {
   "cell_type": "markdown",
   "source": "### Getting information from tensors\n\nWhen dealing with tensors you probably want to be aware of the following attributes:\n* Shape\n* Rank\n* Axis or dimension\n* Size",
   "metadata": {
    "collapsed": false
   },
   "id": "d55be717c40035aa"
  },
  {
   "cell_type": "code",
   "source": "# Create a rank 4 tensor (4 dimensions)\nrank_4_tensor = tf.zeros(shape=[2, 3, 4, 5])\nrank_4_tensor",
   "metadata": {
    "collapsed": false,
    "trusted": false,
    "ExecuteTime": {
     "end_time": "2025-07-14T01:52:56.961428Z",
     "start_time": "2025-07-14T01:52:56.934804Z"
    }
   },
   "id": "8282f8dad6824041",
   "outputs": [
    {
     "data": {
      "text/plain": [
       "<tf.Tensor: shape=(2, 3, 4, 5), dtype=float32, numpy=\n",
       "array([[[[0., 0., 0., 0., 0.],\n",
       "         [0., 0., 0., 0., 0.],\n",
       "         [0., 0., 0., 0., 0.],\n",
       "         [0., 0., 0., 0., 0.]],\n",
       "\n",
       "        [[0., 0., 0., 0., 0.],\n",
       "         [0., 0., 0., 0., 0.],\n",
       "         [0., 0., 0., 0., 0.],\n",
       "         [0., 0., 0., 0., 0.]],\n",
       "\n",
       "        [[0., 0., 0., 0., 0.],\n",
       "         [0., 0., 0., 0., 0.],\n",
       "         [0., 0., 0., 0., 0.],\n",
       "         [0., 0., 0., 0., 0.]]],\n",
       "\n",
       "\n",
       "       [[[0., 0., 0., 0., 0.],\n",
       "         [0., 0., 0., 0., 0.],\n",
       "         [0., 0., 0., 0., 0.],\n",
       "         [0., 0., 0., 0., 0.]],\n",
       "\n",
       "        [[0., 0., 0., 0., 0.],\n",
       "         [0., 0., 0., 0., 0.],\n",
       "         [0., 0., 0., 0., 0.],\n",
       "         [0., 0., 0., 0., 0.]],\n",
       "\n",
       "        [[0., 0., 0., 0., 0.],\n",
       "         [0., 0., 0., 0., 0.],\n",
       "         [0., 0., 0., 0., 0.],\n",
       "         [0., 0., 0., 0., 0.]]]], dtype=float32)>"
      ]
     },
     "execution_count": 27,
     "metadata": {},
     "output_type": "execute_result"
    }
   ],
   "execution_count": 27
  },
  {
   "cell_type": "code",
   "source": "rank_4_tensor[0]",
   "metadata": {
    "collapsed": false,
    "trusted": false,
    "ExecuteTime": {
     "end_time": "2025-07-14T01:52:57.000019Z",
     "start_time": "2025-07-14T01:52:56.995163Z"
    }
   },
   "id": "a1307741bbf6403d",
   "outputs": [
    {
     "data": {
      "text/plain": [
       "<tf.Tensor: shape=(3, 4, 5), dtype=float32, numpy=\n",
       "array([[[0., 0., 0., 0., 0.],\n",
       "        [0., 0., 0., 0., 0.],\n",
       "        [0., 0., 0., 0., 0.],\n",
       "        [0., 0., 0., 0., 0.]],\n",
       "\n",
       "       [[0., 0., 0., 0., 0.],\n",
       "        [0., 0., 0., 0., 0.],\n",
       "        [0., 0., 0., 0., 0.],\n",
       "        [0., 0., 0., 0., 0.]],\n",
       "\n",
       "       [[0., 0., 0., 0., 0.],\n",
       "        [0., 0., 0., 0., 0.],\n",
       "        [0., 0., 0., 0., 0.],\n",
       "        [0., 0., 0., 0., 0.]]], dtype=float32)>"
      ]
     },
     "execution_count": 28,
     "metadata": {},
     "output_type": "execute_result"
    }
   ],
   "execution_count": 28
  },
  {
   "cell_type": "code",
   "source": "rank_4_tensor.shape, rank_4_tensor.ndim, tf.size(rank_4_tensor)",
   "metadata": {
    "collapsed": false,
    "trusted": false,
    "ExecuteTime": {
     "end_time": "2025-07-14T01:52:57.058432Z",
     "start_time": "2025-07-14T01:52:57.054036Z"
    }
   },
   "id": "439bb6aa8dff23db",
   "outputs": [
    {
     "data": {
      "text/plain": [
       "(TensorShape([2, 3, 4, 5]), 4, <tf.Tensor: shape=(), dtype=int32, numpy=120>)"
      ]
     },
     "execution_count": 29,
     "metadata": {},
     "output_type": "execute_result"
    }
   ],
   "execution_count": 29
  },
  {
   "cell_type": "code",
   "source": "2 * 3 * 4 * 5",
   "metadata": {
    "collapsed": false,
    "trusted": false,
    "ExecuteTime": {
     "end_time": "2025-07-14T01:52:57.153986Z",
     "start_time": "2025-07-14T01:52:57.122860Z"
    }
   },
   "id": "2c6ae1c8b3518f81",
   "outputs": [
    {
     "data": {
      "text/plain": [
       "120"
      ]
     },
     "execution_count": 30,
     "metadata": {},
     "output_type": "execute_result"
    }
   ],
   "execution_count": 30
  },
  {
   "cell_type": "code",
   "source": "# Get various attributes of our tensor\nprint(\"Datatype of every element:\", rank_4_tensor.dtype)\nprint(\"Number of dimensions (rank):\", rank_4_tensor.ndim)\nprint(\"Shape of tensor:\", rank_4_tensor.shape)\nprint(\"Elements along the 0 axis:\", rank_4_tensor.shape[0])\nprint(\"Elements along the last axis:\", rank_4_tensor.shape[-1])\nprint(\"Total number of elements in our tensor:\", tf.size(rank_4_tensor))\nprint(\"Total number of elements in our tensor:\", tf.size(rank_4_tensor).numpy())",
   "metadata": {
    "collapsed": false,
    "trusted": false,
    "ExecuteTime": {
     "end_time": "2025-07-14T01:52:57.200942Z",
     "start_time": "2025-07-14T01:52:57.197459Z"
    }
   },
   "id": "983e9321cd3ec9c0",
   "outputs": [
    {
     "name": "stdout",
     "output_type": "stream",
     "text": [
      "Datatype of every element: <dtype: 'float32'>\n",
      "Number of dimensions (rank): 4\n",
      "Shape of tensor: (2, 3, 4, 5)\n",
      "Elements along the 0 axis: 2\n",
      "Elements along the last axis: 5\n",
      "Total number of elements in our tensor: tf.Tensor(120, shape=(), dtype=int32)\n",
      "Total number of elements in our tensor: 120\n"
     ]
    }
   ],
   "execution_count": 31
  },
  {
   "cell_type": "markdown",
   "source": "### Indexing tensors\n\nTensors can be indexing just like Python lists.",
   "metadata": {
    "collapsed": false
   },
   "id": "5499f9d66a9d7371"
  },
  {
   "cell_type": "code",
   "source": "some_list = [1, 2, 3, 4]\nsome_list[:2]",
   "metadata": {
    "collapsed": false,
    "trusted": false,
    "ExecuteTime": {
     "end_time": "2025-07-14T01:52:57.264700Z",
     "start_time": "2025-07-14T01:52:57.260965Z"
    }
   },
   "id": "8052772360c93835",
   "outputs": [
    {
     "data": {
      "text/plain": [
       "[1, 2]"
      ]
     },
     "execution_count": 32,
     "metadata": {},
     "output_type": "execute_result"
    }
   ],
   "execution_count": 32
  },
  {
   "cell_type": "code",
   "source": "# Get the first 2 elements of each dimension\nrank_4_tensor[:2, :2, :2, :2]",
   "metadata": {
    "collapsed": false,
    "trusted": false,
    "ExecuteTime": {
     "end_time": "2025-07-14T01:52:57.326311Z",
     "start_time": "2025-07-14T01:52:57.320504Z"
    }
   },
   "id": "b966aabfb5997157",
   "outputs": [
    {
     "data": {
      "text/plain": [
       "<tf.Tensor: shape=(2, 2, 2, 2), dtype=float32, numpy=\n",
       "array([[[[0., 0.],\n",
       "         [0., 0.]],\n",
       "\n",
       "        [[0., 0.],\n",
       "         [0., 0.]]],\n",
       "\n",
       "\n",
       "       [[[0., 0.],\n",
       "         [0., 0.]],\n",
       "\n",
       "        [[0., 0.],\n",
       "         [0., 0.]]]], dtype=float32)>"
      ]
     },
     "execution_count": 33,
     "metadata": {},
     "output_type": "execute_result"
    }
   ],
   "execution_count": 33
  },
  {
   "cell_type": "code",
   "source": "some_list[:1]",
   "metadata": {
    "collapsed": false,
    "trusted": false,
    "ExecuteTime": {
     "end_time": "2025-07-14T01:52:57.396626Z",
     "start_time": "2025-07-14T01:52:57.386194Z"
    }
   },
   "id": "595ed631de6eca2c",
   "outputs": [
    {
     "data": {
      "text/plain": [
       "[1]"
      ]
     },
     "execution_count": 34,
     "metadata": {},
     "output_type": "execute_result"
    }
   ],
   "execution_count": 34
  },
  {
   "cell_type": "code",
   "source": "rank_4_tensor.shape",
   "metadata": {
    "collapsed": false,
    "trusted": false,
    "ExecuteTime": {
     "end_time": "2025-07-14T01:52:57.471407Z",
     "start_time": "2025-07-14T01:52:57.467445Z"
    }
   },
   "id": "55f8fc22e9d64b3f",
   "outputs": [
    {
     "data": {
      "text/plain": [
       "TensorShape([2, 3, 4, 5])"
      ]
     },
     "execution_count": 35,
     "metadata": {},
     "output_type": "execute_result"
    }
   ],
   "execution_count": 35
  },
  {
   "cell_type": "code",
   "source": "# Get the first element from each dimension from each index except for the final one\nrank_4_tensor[:1, :1, :1, :]",
   "metadata": {
    "collapsed": false,
    "trusted": false,
    "ExecuteTime": {
     "end_time": "2025-07-14T01:52:57.541340Z",
     "start_time": "2025-07-14T01:52:57.535050Z"
    }
   },
   "id": "f55851e8a5e19ab0",
   "outputs": [
    {
     "data": {
      "text/plain": [
       "<tf.Tensor: shape=(1, 1, 1, 5), dtype=float32, numpy=array([[[[0., 0., 0., 0., 0.]]]], dtype=float32)>"
      ]
     },
     "execution_count": 36,
     "metadata": {},
     "output_type": "execute_result"
    }
   ],
   "execution_count": 36
  },
  {
   "cell_type": "code",
   "source": "# Create a rank 2 tensor (2 dimensions)\nrank_2_tensor = tf.constant([[10, 7],\n                             [3, 4]])\nrank_2_tensor.shape, rank_2_tensor.ndim",
   "metadata": {
    "collapsed": false,
    "trusted": false,
    "ExecuteTime": {
     "end_time": "2025-07-14T01:52:57.603161Z",
     "start_time": "2025-07-14T01:52:57.598288Z"
    }
   },
   "id": "a11ee30bcbf47cec",
   "outputs": [
    {
     "data": {
      "text/plain": [
       "(TensorShape([2, 2]), 2)"
      ]
     },
     "execution_count": 37,
     "metadata": {},
     "output_type": "execute_result"
    }
   ],
   "execution_count": 37
  },
  {
   "cell_type": "code",
   "source": "rank_2_tensor",
   "metadata": {
    "collapsed": false,
    "trusted": false,
    "ExecuteTime": {
     "end_time": "2025-07-14T01:52:57.662274Z",
     "start_time": "2025-07-14T01:52:57.659373Z"
    }
   },
   "id": "3904f6ba44a99235",
   "outputs": [
    {
     "data": {
      "text/plain": [
       "<tf.Tensor: shape=(2, 2), dtype=int32, numpy=\n",
       "array([[10,  7],\n",
       "       [ 3,  4]], dtype=int32)>"
      ]
     },
     "execution_count": 38,
     "metadata": {},
     "output_type": "execute_result"
    }
   ],
   "execution_count": 38
  },
  {
   "cell_type": "code",
   "source": "some_list, some_list[-1]",
   "metadata": {
    "collapsed": false,
    "trusted": false,
    "ExecuteTime": {
     "end_time": "2025-07-14T01:52:57.759255Z",
     "start_time": "2025-07-14T01:52:57.755276Z"
    }
   },
   "id": "45424baa55db1fc9",
   "outputs": [
    {
     "data": {
      "text/plain": [
       "([1, 2, 3, 4], 4)"
      ]
     },
     "execution_count": 39,
     "metadata": {},
     "output_type": "execute_result"
    }
   ],
   "execution_count": 39
  },
  {
   "cell_type": "code",
   "source": "# Get the last item of each of row of our rank 2 tensor\nrank_2_tensor[:, -1]",
   "metadata": {
    "collapsed": false,
    "trusted": false,
    "ExecuteTime": {
     "end_time": "2025-07-14T01:52:57.863129Z",
     "start_time": "2025-07-14T01:52:57.840903Z"
    }
   },
   "id": "fcc79e91410c2f02",
   "outputs": [
    {
     "data": {
      "text/plain": [
       "<tf.Tensor: shape=(2,), dtype=int32, numpy=array([7, 4], dtype=int32)>"
      ]
     },
     "execution_count": 40,
     "metadata": {},
     "output_type": "execute_result"
    }
   ],
   "execution_count": 40
  },
  {
   "cell_type": "code",
   "source": "# Add in extra dimension to our rank 2 tensor\nrank_3_tensor = rank_2_tensor[..., tf.newaxis]\nrank_3_tensor",
   "metadata": {
    "collapsed": false,
    "trusted": false,
    "ExecuteTime": {
     "end_time": "2025-07-14T01:52:57.931644Z",
     "start_time": "2025-07-14T01:52:57.927151Z"
    }
   },
   "id": "bbb57efc52567507",
   "outputs": [
    {
     "data": {
      "text/plain": [
       "<tf.Tensor: shape=(2, 2, 1), dtype=int32, numpy=\n",
       "array([[[10],\n",
       "        [ 7]],\n",
       "\n",
       "       [[ 3],\n",
       "        [ 4]]], dtype=int32)>"
      ]
     },
     "execution_count": 41,
     "metadata": {},
     "output_type": "execute_result"
    }
   ],
   "execution_count": 41
  },
  {
   "cell_type": "code",
   "source": "# Alternative to tf.newAxis\ntf.expand_dims(rank_2_tensor, axis=-1) # \"-1\" means expand the final axis",
   "metadata": {
    "collapsed": false,
    "trusted": false,
    "ExecuteTime": {
     "end_time": "2025-07-14T01:52:57.999470Z",
     "start_time": "2025-07-14T01:52:57.995021Z"
    }
   },
   "id": "c8be8d53aab853cd",
   "outputs": [
    {
     "data": {
      "text/plain": [
       "<tf.Tensor: shape=(2, 2, 1), dtype=int32, numpy=\n",
       "array([[[10],\n",
       "        [ 7]],\n",
       "\n",
       "       [[ 3],\n",
       "        [ 4]]], dtype=int32)>"
      ]
     },
     "execution_count": 42,
     "metadata": {},
     "output_type": "execute_result"
    }
   ],
   "execution_count": 42
  },
  {
   "cell_type": "code",
   "source": "# Expand the 0-axis\ntf.expand_dims(rank_2_tensor, axis=0) # expand the 0-axis",
   "metadata": {
    "collapsed": false,
    "trusted": false,
    "ExecuteTime": {
     "end_time": "2025-07-14T01:52:58.081479Z",
     "start_time": "2025-07-14T01:52:58.077434Z"
    }
   },
   "id": "8e9575a1e6ec64b4",
   "outputs": [
    {
     "data": {
      "text/plain": [
       "<tf.Tensor: shape=(1, 2, 2), dtype=int32, numpy=\n",
       "array([[[10,  7],\n",
       "        [ 3,  4]]], dtype=int32)>"
      ]
     },
     "execution_count": 43,
     "metadata": {},
     "output_type": "execute_result"
    }
   ],
   "execution_count": 43
  },
  {
   "cell_type": "code",
   "source": "rank_2_tensor",
   "metadata": {
    "collapsed": false,
    "trusted": false,
    "ExecuteTime": {
     "end_time": "2025-07-14T01:52:58.156921Z",
     "start_time": "2025-07-14T01:52:58.153452Z"
    }
   },
   "id": "bb94fa9224bd1430",
   "outputs": [
    {
     "data": {
      "text/plain": [
       "<tf.Tensor: shape=(2, 2), dtype=int32, numpy=\n",
       "array([[10,  7],\n",
       "       [ 3,  4]], dtype=int32)>"
      ]
     },
     "execution_count": 44,
     "metadata": {},
     "output_type": "execute_result"
    }
   ],
   "execution_count": 44
  },
  {
   "cell_type": "markdown",
   "source": "### Manipulating tensors (tensor operation)\n\n**Basic operations**\n\n`+`, `-`, `*`, `/`",
   "metadata": {
    "collapsed": false
   },
   "id": "a1f91b378d8c3d62"
  },
  {
   "cell_type": "code",
   "source": "# You can add values to a tensor using the addition operator\ntensor = tf.constant([[10, 7], [3, 4]])\ntensor + 10",
   "metadata": {
    "collapsed": false,
    "trusted": false,
    "ExecuteTime": {
     "end_time": "2025-07-14T01:52:58.242175Z",
     "start_time": "2025-07-14T01:52:58.237542Z"
    }
   },
   "id": "17bc50b51c961275",
   "outputs": [
    {
     "data": {
      "text/plain": [
       "<tf.Tensor: shape=(2, 2), dtype=int32, numpy=\n",
       "array([[20, 17],\n",
       "       [13, 14]], dtype=int32)>"
      ]
     },
     "execution_count": 45,
     "metadata": {},
     "output_type": "execute_result"
    }
   ],
   "execution_count": 45
  },
  {
   "cell_type": "code",
   "source": "# Original tensor is unchanged\ntensor",
   "metadata": {
    "collapsed": false,
    "trusted": false,
    "ExecuteTime": {
     "end_time": "2025-07-14T01:52:58.371524Z",
     "start_time": "2025-07-14T01:52:58.367877Z"
    }
   },
   "id": "bb5ef7d86aa93664",
   "outputs": [
    {
     "data": {
      "text/plain": [
       "<tf.Tensor: shape=(2, 2), dtype=int32, numpy=\n",
       "array([[10,  7],\n",
       "       [ 3,  4]], dtype=int32)>"
      ]
     },
     "execution_count": 46,
     "metadata": {},
     "output_type": "execute_result"
    }
   ],
   "execution_count": 46
  },
  {
   "cell_type": "code",
   "source": "# Multiplication also works\ntensor * 10",
   "metadata": {
    "collapsed": false,
    "trusted": false,
    "ExecuteTime": {
     "end_time": "2025-07-14T01:52:58.628352Z",
     "start_time": "2025-07-14T01:52:58.621983Z"
    }
   },
   "id": "8551fe569f547bd0",
   "outputs": [
    {
     "data": {
      "text/plain": [
       "<tf.Tensor: shape=(2, 2), dtype=int32, numpy=\n",
       "array([[100,  70],\n",
       "       [ 30,  40]], dtype=int32)>"
      ]
     },
     "execution_count": 47,
     "metadata": {},
     "output_type": "execute_result"
    }
   ],
   "execution_count": 47
  },
  {
   "cell_type": "code",
   "source": "# Substraction if you want\ntensor - 10",
   "metadata": {
    "collapsed": false,
    "trusted": false,
    "ExecuteTime": {
     "end_time": "2025-07-14T01:52:58.747261Z",
     "start_time": "2025-07-14T01:52:58.741842Z"
    }
   },
   "id": "655998c2702a0a4",
   "outputs": [
    {
     "data": {
      "text/plain": [
       "<tf.Tensor: shape=(2, 2), dtype=int32, numpy=\n",
       "array([[ 0, -3],\n",
       "       [-7, -6]], dtype=int32)>"
      ]
     },
     "execution_count": 48,
     "metadata": {},
     "output_type": "execute_result"
    }
   ],
   "execution_count": 48
  },
  {
   "cell_type": "code",
   "source": "# We can use the tensorflow built-in function too\ntf.multiply(tensor, 10)",
   "metadata": {
    "collapsed": false,
    "trusted": false,
    "ExecuteTime": {
     "end_time": "2025-07-14T01:52:58.883329Z",
     "start_time": "2025-07-14T01:52:58.879470Z"
    }
   },
   "id": "7ab327e83b8fb142",
   "outputs": [
    {
     "data": {
      "text/plain": [
       "<tf.Tensor: shape=(2, 2), dtype=int32, numpy=\n",
       "array([[100,  70],\n",
       "       [ 30,  40]], dtype=int32)>"
      ]
     },
     "execution_count": 49,
     "metadata": {},
     "output_type": "execute_result"
    }
   ],
   "execution_count": 49
  },
  {
   "cell_type": "code",
   "source": "tensor",
   "metadata": {
    "collapsed": false,
    "trusted": false,
    "ExecuteTime": {
     "end_time": "2025-07-14T01:52:59.055996Z",
     "start_time": "2025-07-14T01:52:59.051965Z"
    }
   },
   "id": "f9f5499d6ff383e1",
   "outputs": [
    {
     "data": {
      "text/plain": [
       "<tf.Tensor: shape=(2, 2), dtype=int32, numpy=\n",
       "array([[10,  7],\n",
       "       [ 3,  4]], dtype=int32)>"
      ]
     },
     "execution_count": 50,
     "metadata": {},
     "output_type": "execute_result"
    }
   ],
   "execution_count": 50
  },
  {
   "cell_type": "markdown",
   "source": "**Matrix multiplication**\n\nIn machine learning, matrix multiplication is one of the most common tensor operations.\n\nThere are two rules our tensor (or matrices) need to fullfil if we're going to matrix multiply them:\n1. The inner dimension must match\n2. The resulting matrix has the shape of the inner dimensions",
   "metadata": {
    "collapsed": false
   },
   "id": "88c4ec5fda126f"
  },
  {
   "cell_type": "code",
   "source": "# Matrix multiplication in tensorflow\nprint(tensor)\ntf.matmul(tensor, tensor)",
   "metadata": {
    "collapsed": false,
    "trusted": false,
    "ExecuteTime": {
     "end_time": "2025-07-14T01:52:59.204840Z",
     "start_time": "2025-07-14T01:52:59.192632Z"
    }
   },
   "id": "4b74ca6655a61655",
   "outputs": [
    {
     "name": "stdout",
     "output_type": "stream",
     "text": [
      "tf.Tensor(\n",
      "[[10  7]\n",
      " [ 3  4]], shape=(2, 2), dtype=int32)\n"
     ]
    },
    {
     "data": {
      "text/plain": [
       "<tf.Tensor: shape=(2, 2), dtype=int32, numpy=\n",
       "array([[121,  98],\n",
       "       [ 42,  37]], dtype=int32)>"
      ]
     },
     "execution_count": 51,
     "metadata": {},
     "output_type": "execute_result"
    }
   ],
   "execution_count": 51
  },
  {
   "cell_type": "code",
   "source": "tensor * tensor",
   "metadata": {
    "collapsed": false,
    "trusted": false,
    "ExecuteTime": {
     "end_time": "2025-07-14T01:52:59.324783Z",
     "start_time": "2025-07-14T01:52:59.320512Z"
    }
   },
   "id": "efdc247045648271",
   "outputs": [
    {
     "data": {
      "text/plain": [
       "<tf.Tensor: shape=(2, 2), dtype=int32, numpy=\n",
       "array([[100,  49],\n",
       "       [  9,  16]], dtype=int32)>"
      ]
     },
     "execution_count": 52,
     "metadata": {},
     "output_type": "execute_result"
    }
   ],
   "execution_count": 52
  },
  {
   "cell_type": "code",
   "source": "# Matrix multiplication with Python operator \"@\"\ntensor @ tensor",
   "metadata": {
    "collapsed": false,
    "trusted": false,
    "ExecuteTime": {
     "end_time": "2025-07-14T01:52:59.568146Z",
     "start_time": "2025-07-14T01:52:59.563891Z"
    }
   },
   "id": "7ccc62ca5961037a",
   "outputs": [
    {
     "data": {
      "text/plain": [
       "<tf.Tensor: shape=(2, 2), dtype=int32, numpy=\n",
       "array([[121,  98],\n",
       "       [ 42,  37]], dtype=int32)>"
      ]
     },
     "execution_count": 53,
     "metadata": {},
     "output_type": "execute_result"
    }
   ],
   "execution_count": 53
  },
  {
   "cell_type": "code",
   "source": "tensor.shape",
   "metadata": {
    "collapsed": false,
    "trusted": false,
    "ExecuteTime": {
     "end_time": "2025-07-14T01:52:59.743165Z",
     "start_time": "2025-07-14T01:52:59.739857Z"
    }
   },
   "id": "6f976f4493944013",
   "outputs": [
    {
     "data": {
      "text/plain": [
       "TensorShape([2, 2])"
      ]
     },
     "execution_count": 54,
     "metadata": {},
     "output_type": "execute_result"
    }
   ],
   "execution_count": 54
  },
  {
   "cell_type": "code",
   "source": "# Create a tensor (3, 2) tensor\nX = tf.constant([[1,2],\n                 [3,4],\n                 [5,6 ]])\n# Create another (3, 2) tensor\nY = tf.constant([[7, 8],\n                 [9, 10],\n                 [11, 12]])\nX, Y",
   "metadata": {
    "collapsed": false,
    "trusted": false,
    "ExecuteTime": {
     "end_time": "2025-07-14T01:52:59.817478Z",
     "start_time": "2025-07-14T01:52:59.813505Z"
    }
   },
   "id": "6544deae7b6f0da3",
   "outputs": [
    {
     "data": {
      "text/plain": [
       "(<tf.Tensor: shape=(3, 2), dtype=int32, numpy=\n",
       " array([[1, 2],\n",
       "        [3, 4],\n",
       "        [5, 6]], dtype=int32)>,\n",
       " <tf.Tensor: shape=(3, 2), dtype=int32, numpy=\n",
       " array([[ 7,  8],\n",
       "        [ 9, 10],\n",
       "        [11, 12]], dtype=int32)>)"
      ]
     },
     "execution_count": 55,
     "metadata": {},
     "output_type": "execute_result"
    }
   ],
   "execution_count": 55
  },
  {
   "cell_type": "code",
   "source": "# Try to matrix multiply tensors of same shape\ntf.matmul(X, Y)",
   "metadata": {
    "collapsed": false,
    "trusted": false,
    "ExecuteTime": {
     "end_time": "2025-07-14T01:53:00.080343Z",
     "start_time": "2025-07-14T01:52:59.944489Z"
    }
   },
   "id": "93c47e7193e8b1ca",
   "outputs": [
    {
     "ename": "InvalidArgumentError",
     "evalue": "{{function_node __wrapped__MatMul_device_/job:localhost/replica:0/task:0/device:CPU:0}} Matrix size-incompatible: In[0]: [3,2], In[1]: [3,2] [Op:MatMul] name: ",
     "output_type": "error",
     "traceback": [
      "\u001B[31m---------------------------------------------------------------------------\u001B[39m",
      "\u001B[31mInvalidArgumentError\u001B[39m                      Traceback (most recent call last)",
      "\u001B[36mCell\u001B[39m\u001B[36m \u001B[39m\u001B[32mIn[56]\u001B[39m\u001B[32m, line 2\u001B[39m\n\u001B[32m      1\u001B[39m \u001B[38;5;66;03m# Try to matrix multiply tensors of same shape\u001B[39;00m\n\u001B[32m----> \u001B[39m\u001B[32m2\u001B[39m \u001B[43mtf\u001B[49m\u001B[43m.\u001B[49m\u001B[43mmatmul\u001B[49m\u001B[43m(\u001B[49m\u001B[43mX\u001B[49m\u001B[43m,\u001B[49m\u001B[43m \u001B[49m\u001B[43mY\u001B[49m\u001B[43m)\u001B[49m\n",
      "\u001B[36mFile \u001B[39m\u001B[32m~/anaconda3/envs/idp/lib/python3.11/site-packages/tensorflow/python/ops/weak_tensor_ops.py:142\u001B[39m, in \u001B[36mweak_tensor_binary_op_wrapper.<locals>.wrapper\u001B[39m\u001B[34m(*args, **kwargs)\u001B[39m\n\u001B[32m    140\u001B[39m \u001B[38;5;28;01mdef\u001B[39;00m\u001B[38;5;250m \u001B[39m\u001B[34mwrapper\u001B[39m(*args, **kwargs):\n\u001B[32m    141\u001B[39m   \u001B[38;5;28;01mif\u001B[39;00m \u001B[38;5;129;01mnot\u001B[39;00m ops.is_auto_dtype_conversion_enabled():\n\u001B[32m--> \u001B[39m\u001B[32m142\u001B[39m     \u001B[38;5;28;01mreturn\u001B[39;00m \u001B[43mop\u001B[49m\u001B[43m(\u001B[49m\u001B[43m*\u001B[49m\u001B[43margs\u001B[49m\u001B[43m,\u001B[49m\u001B[43m \u001B[49m\u001B[43m*\u001B[49m\u001B[43m*\u001B[49m\u001B[43mkwargs\u001B[49m\u001B[43m)\u001B[49m\n\u001B[32m    143\u001B[39m   bound_arguments = signature.bind(*args, **kwargs)\n\u001B[32m    144\u001B[39m   bound_arguments.apply_defaults()\n",
      "\u001B[36mFile \u001B[39m\u001B[32m~/anaconda3/envs/idp/lib/python3.11/site-packages/tensorflow/python/util/traceback_utils.py:153\u001B[39m, in \u001B[36mfilter_traceback.<locals>.error_handler\u001B[39m\u001B[34m(*args, **kwargs)\u001B[39m\n\u001B[32m    151\u001B[39m \u001B[38;5;28;01mexcept\u001B[39;00m \u001B[38;5;167;01mException\u001B[39;00m \u001B[38;5;28;01mas\u001B[39;00m e:\n\u001B[32m    152\u001B[39m   filtered_tb = _process_traceback_frames(e.__traceback__)\n\u001B[32m--> \u001B[39m\u001B[32m153\u001B[39m   \u001B[38;5;28;01mraise\u001B[39;00m e.with_traceback(filtered_tb) \u001B[38;5;28;01mfrom\u001B[39;00m\u001B[38;5;250m \u001B[39m\u001B[38;5;28;01mNone\u001B[39;00m\n\u001B[32m    154\u001B[39m \u001B[38;5;28;01mfinally\u001B[39;00m:\n\u001B[32m    155\u001B[39m   \u001B[38;5;28;01mdel\u001B[39;00m filtered_tb\n",
      "\u001B[36mFile \u001B[39m\u001B[32m~/anaconda3/envs/idp/lib/python3.11/site-packages/tensorflow/python/framework/ops.py:5883\u001B[39m, in \u001B[36mraise_from_not_ok_status\u001B[39m\u001B[34m(e, name)\u001B[39m\n\u001B[32m   5881\u001B[39m \u001B[38;5;28;01mdef\u001B[39;00m\u001B[38;5;250m \u001B[39m\u001B[34mraise_from_not_ok_status\u001B[39m(e, name) -> NoReturn:\n\u001B[32m   5882\u001B[39m   e.message += (\u001B[33m\"\u001B[39m\u001B[33m name: \u001B[39m\u001B[33m\"\u001B[39m + \u001B[38;5;28mstr\u001B[39m(name \u001B[38;5;28;01mif\u001B[39;00m name \u001B[38;5;129;01mis\u001B[39;00m \u001B[38;5;129;01mnot\u001B[39;00m \u001B[38;5;28;01mNone\u001B[39;00m \u001B[38;5;28;01melse\u001B[39;00m \u001B[33m\"\u001B[39m\u001B[33m\"\u001B[39m))\n\u001B[32m-> \u001B[39m\u001B[32m5883\u001B[39m   \u001B[38;5;28;01mraise\u001B[39;00m core._status_to_exception(e) \u001B[38;5;28;01mfrom\u001B[39;00m\u001B[38;5;250m \u001B[39m\u001B[38;5;28;01mNone\u001B[39;00m\n",
      "\u001B[31mInvalidArgumentError\u001B[39m: {{function_node __wrapped__MatMul_device_/job:localhost/replica:0/task:0/device:CPU:0}} Matrix size-incompatible: In[0]: [3,2], In[1]: [3,2] [Op:MatMul] name: "
     ]
    }
   ],
   "execution_count": 56
  },
  {
   "cell_type": "code",
   "source": "Y",
   "metadata": {
    "collapsed": false,
    "trusted": false,
    "ExecuteTime": {
     "end_time": "2025-07-14T01:53:11.097648Z",
     "start_time": "2025-07-14T01:53:11.093404Z"
    }
   },
   "id": "fd4c1346ffd42a0f",
   "outputs": [
    {
     "data": {
      "text/plain": [
       "<tf.Tensor: shape=(3, 2), dtype=int32, numpy=\n",
       "array([[ 7,  8],\n",
       "       [ 9, 10],\n",
       "       [11, 12]], dtype=int32)>"
      ]
     },
     "execution_count": 57,
     "metadata": {},
     "output_type": "execute_result"
    }
   ],
   "execution_count": 57
  },
  {
   "cell_type": "code",
   "source": "# Let's change the shape of Y\ntf.reshape(Y, shape=(2, 3))",
   "metadata": {
    "collapsed": false,
    "trusted": false,
    "ExecuteTime": {
     "end_time": "2025-07-14T01:53:11.173237Z",
     "start_time": "2025-07-14T01:53:11.169097Z"
    }
   },
   "id": "7f4821da2703d1df",
   "outputs": [
    {
     "data": {
      "text/plain": [
       "<tf.Tensor: shape=(2, 3), dtype=int32, numpy=\n",
       "array([[ 7,  8,  9],\n",
       "       [10, 11, 12]], dtype=int32)>"
      ]
     },
     "execution_count": 58,
     "metadata": {},
     "output_type": "execute_result"
    }
   ],
   "execution_count": 58
  },
  {
   "cell_type": "code",
   "source": "X.shape, tf.reshape(Y, shape=(2, 3)).shape",
   "metadata": {
    "collapsed": false,
    "trusted": false,
    "ExecuteTime": {
     "end_time": "2025-07-14T01:53:11.290308Z",
     "start_time": "2025-07-14T01:53:11.286057Z"
    }
   },
   "id": "4ea0c32baf58a306",
   "outputs": [
    {
     "data": {
      "text/plain": [
       "(TensorShape([3, 2]), TensorShape([2, 3]))"
      ]
     },
     "execution_count": 59,
     "metadata": {},
     "output_type": "execute_result"
    }
   ],
   "execution_count": 59
  },
  {
   "cell_type": "code",
   "source": "# Try to matrix multiply X by reshaped Y\nX @ tf.reshape(Y, shape=(2, 3))",
   "metadata": {
    "collapsed": false,
    "trusted": false,
    "ExecuteTime": {
     "end_time": "2025-07-14T01:53:19.737385Z",
     "start_time": "2025-07-14T01:53:19.732982Z"
    }
   },
   "id": "1fac56d3064d3f16",
   "outputs": [
    {
     "data": {
      "text/plain": [
       "<tf.Tensor: shape=(3, 3), dtype=int32, numpy=\n",
       "array([[ 27,  30,  33],\n",
       "       [ 61,  68,  75],\n",
       "       [ 95, 106, 117]], dtype=int32)>"
      ]
     },
     "execution_count": 60,
     "metadata": {},
     "output_type": "execute_result"
    }
   ],
   "execution_count": 60
  },
  {
   "cell_type": "code",
   "source": "tf.matmul(X, tf.reshape(Y, shape=(2, 3)))",
   "metadata": {
    "collapsed": false,
    "trusted": false,
    "ExecuteTime": {
     "end_time": "2025-07-14T01:53:19.828794Z",
     "start_time": "2025-07-14T01:53:19.823996Z"
    }
   },
   "id": "b083746b2bcc511e",
   "outputs": [
    {
     "data": {
      "text/plain": [
       "<tf.Tensor: shape=(3, 3), dtype=int32, numpy=\n",
       "array([[ 27,  30,  33],\n",
       "       [ 61,  68,  75],\n",
       "       [ 95, 106, 117]], dtype=int32)>"
      ]
     },
     "execution_count": 61,
     "metadata": {},
     "output_type": "execute_result"
    }
   ],
   "execution_count": 61
  },
  {
   "cell_type": "code",
   "source": "tf.reshape(X, shape=(2, 3)).shape, Y.shape",
   "metadata": {
    "collapsed": false,
    "trusted": false,
    "ExecuteTime": {
     "end_time": "2025-07-14T01:53:11.392221Z",
     "start_time": "2025-07-14T01:53:11.384900Z"
    }
   },
   "id": "f0ef7a54be0117d5",
   "outputs": [
    {
     "data": {
      "text/plain": [
       "(TensorShape([2, 3]), TensorShape([3, 2]))"
      ]
     },
     "execution_count": 62,
     "metadata": {},
     "output_type": "execute_result"
    }
   ],
   "execution_count": 62
  },
  {
   "cell_type": "code",
   "source": "# Try change the shape of X instead of Y\ntf.matmul(tf.reshape(X, shape=(2, 3)), Y)",
   "metadata": {
    "collapsed": false,
    "trusted": false,
    "ExecuteTime": {
     "end_time": "2025-07-14T01:53:11.530797Z",
     "start_time": "2025-07-14T01:53:11.474381Z"
    }
   },
   "id": "479edd9a1bfaa98c",
   "outputs": [
    {
     "data": {
      "text/plain": [
       "<tf.Tensor: shape=(2, 2), dtype=int32, numpy=\n",
       "array([[ 58,  64],\n",
       "       [139, 154]], dtype=int32)>"
      ]
     },
     "execution_count": 63,
     "metadata": {},
     "output_type": "execute_result"
    }
   ],
   "execution_count": 63
  },
  {
   "cell_type": "code",
   "source": "# Can do the same with transpose\nX, tf.transpose(X), tf.reshape(X, shape=(2, 3))",
   "metadata": {
    "collapsed": false,
    "trusted": false,
    "ExecuteTime": {
     "end_time": "2025-07-14T01:53:11.616655Z",
     "start_time": "2025-07-14T01:53:11.577935Z"
    }
   },
   "id": "9993cca2805ff25f",
   "outputs": [
    {
     "data": {
      "text/plain": [
       "(<tf.Tensor: shape=(3, 2), dtype=int32, numpy=\n",
       " array([[1, 2],\n",
       "        [3, 4],\n",
       "        [5, 6]], dtype=int32)>,\n",
       " <tf.Tensor: shape=(2, 3), dtype=int32, numpy=\n",
       " array([[1, 3, 5],\n",
       "        [2, 4, 6]], dtype=int32)>,\n",
       " <tf.Tensor: shape=(2, 3), dtype=int32, numpy=\n",
       " array([[1, 2, 3],\n",
       "        [4, 5, 6]], dtype=int32)>)"
      ]
     },
     "execution_count": 64,
     "metadata": {},
     "output_type": "execute_result"
    }
   ],
   "execution_count": 64
  },
  {
   "cell_type": "code",
   "source": "# Try matrix multiplication with transpose rather than reshape\ntf.matmul(tf.transpose(X), Y)",
   "metadata": {
    "collapsed": false,
    "trusted": false,
    "ExecuteTime": {
     "end_time": "2025-07-14T01:53:11.692391Z",
     "start_time": "2025-07-14T01:53:11.685181Z"
    }
   },
   "id": "3ca7a91a83e642a7",
   "outputs": [
    {
     "data": {
      "text/plain": [
       "<tf.Tensor: shape=(2, 2), dtype=int32, numpy=\n",
       "array([[ 89,  98],\n",
       "       [116, 128]], dtype=int32)>"
      ]
     },
     "execution_count": 65,
     "metadata": {},
     "output_type": "execute_result"
    }
   ],
   "execution_count": 65
  },
  {
   "cell_type": "markdown",
   "source": "📖 **Resource:** Info and example of matrix multiplication: https://www.mathsisfun.com/algebra/matrix-multiplying.html",
   "metadata": {
    "collapsed": false
   },
   "id": "3c43e0c7a55bb179"
  },
  {
   "cell_type": "markdown",
   "source": "**The dot product**\n\nMatrix multiplication is also referrred to as the dot product.\n\nYou can perform matrix multiplication using:\n* `tf.matmul()`\n* `tf.tensordot()`\n* `@`",
   "metadata": {
    "collapsed": false
   },
   "id": "9448aeefe6528c0"
  },
  {
   "cell_type": "code",
   "source": "X, Y",
   "metadata": {
    "collapsed": false,
    "trusted": false,
    "ExecuteTime": {
     "end_time": "2025-07-14T01:53:11.776980Z",
     "start_time": "2025-07-14T01:53:11.773195Z"
    }
   },
   "id": "bd19c4be27841c9a",
   "outputs": [
    {
     "data": {
      "text/plain": [
       "(<tf.Tensor: shape=(3, 2), dtype=int32, numpy=\n",
       " array([[1, 2],\n",
       "        [3, 4],\n",
       "        [5, 6]], dtype=int32)>,\n",
       " <tf.Tensor: shape=(3, 2), dtype=int32, numpy=\n",
       " array([[ 7,  8],\n",
       "        [ 9, 10],\n",
       "        [11, 12]], dtype=int32)>)"
      ]
     },
     "execution_count": 66,
     "metadata": {},
     "output_type": "execute_result"
    }
   ],
   "execution_count": 66
  },
  {
   "cell_type": "code",
   "source": "# Perform the dot product on X and Y (requires X or Y to be transposed)\ntf.tensordot(tf.transpose(X), Y, axes=1)",
   "metadata": {
    "collapsed": false,
    "trusted": false
   },
   "id": "6f2c413b7359594e",
   "outputs": [
    {
     "data": {
      "text/plain": [
       "<tf.Tensor: shape=(2, 2), dtype=int32, numpy=\n",
       "array([[ 89,  98],\n",
       "       [116, 128]], dtype=int32)>"
      ]
     },
     "execution_count": 67,
     "metadata": {},
     "output_type": "execute_result"
    }
   ],
   "execution_count": 67
  },
  {
   "cell_type": "code",
   "source": "# Perform matrix multiplication between X and Y (transposed)\ntf.matmul(X, tf.transpose(Y))",
   "metadata": {
    "collapsed": false,
    "trusted": false,
    "ExecuteTime": {
     "end_time": "2025-07-14T01:53:12.011356Z",
     "start_time": "2025-07-14T01:53:12.005212Z"
    }
   },
   "id": "992b8f7996288d8b",
   "outputs": [
    {
     "data": {
      "text/plain": [
       "<tf.Tensor: shape=(3, 3), dtype=int32, numpy=\n",
       "array([[ 23,  29,  35],\n",
       "       [ 53,  67,  81],\n",
       "       [ 83, 105, 127]], dtype=int32)>"
      ]
     },
     "execution_count": 68,
     "metadata": {},
     "output_type": "execute_result"
    }
   ],
   "execution_count": 68
  },
  {
   "cell_type": "code",
   "source": "# Perform matrix multiplication between X and Y (reshaped)\ntf.matmul(X, tf.reshape(Y, shape=(2, 3)))",
   "metadata": {
    "collapsed": false,
    "trusted": false,
    "ExecuteTime": {
     "end_time": "2025-07-14T01:53:12.110428Z",
     "start_time": "2025-07-14T01:53:12.104428Z"
    }
   },
   "id": "907fa87bba49ff5b",
   "outputs": [
    {
     "data": {
      "text/plain": [
       "<tf.Tensor: shape=(3, 3), dtype=int32, numpy=\n",
       "array([[ 27,  30,  33],\n",
       "       [ 61,  68,  75],\n",
       "       [ 95, 106, 117]], dtype=int32)>"
      ]
     },
     "execution_count": 69,
     "metadata": {},
     "output_type": "execute_result"
    }
   ],
   "execution_count": 69
  },
  {
   "cell_type": "code",
   "source": "# Check the values of Y, reshape Y and transposed Y\nprint(\"Normal Y:\")\nprint(Y, \"\\n\") # \"\\n\" is for newline\n\nprint(\"Y reshaped to (2, 3):\")\nprint(tf.reshape(Y, (2, 3)), \"\\n\")\n\nprint(\"Y transposed:\")\nprint(tf.transpose(Y))",
   "metadata": {
    "collapsed": false,
    "trusted": false,
    "ExecuteTime": {
     "end_time": "2025-07-14T01:53:12.364208Z",
     "start_time": "2025-07-14T01:53:12.356427Z"
    }
   },
   "id": "f36983b0c71c9eca",
   "outputs": [
    {
     "name": "stdout",
     "output_type": "stream",
     "text": [
      "Normal Y:\n",
      "tf.Tensor(\n",
      "[[ 7  8]\n",
      " [ 9 10]\n",
      " [11 12]], shape=(3, 2), dtype=int32) \n",
      "\n",
      "Y reshaped to (2, 3):\n",
      "tf.Tensor(\n",
      "[[ 7  8  9]\n",
      " [10 11 12]], shape=(2, 3), dtype=int32) \n",
      "\n",
      "Y transposed:\n",
      "tf.Tensor(\n",
      "[[ 7  9 11]\n",
      " [ 8 10 12]], shape=(2, 3), dtype=int32)\n"
     ]
    }
   ],
   "execution_count": 70
  },
  {
   "cell_type": "code",
   "source": "tf.matmul(X, tf.transpose(Y))",
   "metadata": {
    "collapsed": false,
    "trusted": false,
    "ExecuteTime": {
     "end_time": "2025-07-14T01:53:12.514465Z",
     "start_time": "2025-07-14T01:53:12.508415Z"
    }
   },
   "id": "3cef8e8c512c3d50",
   "outputs": [
    {
     "data": {
      "text/plain": [
       "<tf.Tensor: shape=(3, 3), dtype=int32, numpy=\n",
       "array([[ 23,  29,  35],\n",
       "       [ 53,  67,  81],\n",
       "       [ 83, 105, 127]], dtype=int32)>"
      ]
     },
     "execution_count": 71,
     "metadata": {},
     "output_type": "execute_result"
    }
   ],
   "execution_count": 71
  },
  {
   "cell_type": "markdown",
   "source": "Generally, when performing matrix multiplication on two tensors and one of the axes doesn't line up, you will transpose (rather than reshape) one of the tensors to get satisify the matrix multiplication rules.",
   "metadata": {
    "collapsed": false
   },
   "id": "896eae7438cf27ef"
  },
  {
   "cell_type": "markdown",
   "source": " ### Changing the datatype of a tensor",
   "metadata": {
    "collapsed": false
   },
   "id": "e64a0cd103fc8bb4"
  },
  {
   "cell_type": "code",
   "source": "tf.__version__",
   "metadata": {
    "collapsed": false,
    "trusted": false,
    "ExecuteTime": {
     "end_time": "2025-07-14T01:53:12.600160Z",
     "start_time": "2025-07-14T01:53:12.584582Z"
    }
   },
   "id": "745973056b486cba",
   "outputs": [
    {
     "data": {
      "text/plain": [
       "'2.15.0'"
      ]
     },
     "execution_count": 72,
     "metadata": {},
     "output_type": "execute_result"
    }
   ],
   "execution_count": 72
  },
  {
   "cell_type": "code",
   "source": "# Create a new tensor with default datatype (float32)\nB = tf.constant([1.7, 7.4])\nB, B.dtype",
   "metadata": {
    "collapsed": false,
    "trusted": false,
    "ExecuteTime": {
     "end_time": "2025-07-14T01:53:12.765464Z",
     "start_time": "2025-07-14T01:53:12.757943Z"
    }
   },
   "id": "b18e755fd53b887c",
   "outputs": [
    {
     "data": {
      "text/plain": [
       "(<tf.Tensor: shape=(2,), dtype=float32, numpy=array([1.7, 7.4], dtype=float32)>,\n",
       " tf.float32)"
      ]
     },
     "execution_count": 73,
     "metadata": {},
     "output_type": "execute_result"
    }
   ],
   "execution_count": 73
  },
  {
   "cell_type": "code",
   "source": "C = tf.constant([7, 10])\nC, C.dtype",
   "metadata": {
    "collapsed": false,
    "trusted": false,
    "ExecuteTime": {
     "end_time": "2025-07-14T01:53:12.858984Z",
     "start_time": "2025-07-14T01:53:12.854813Z"
    }
   },
   "id": "10cb19fac3bc63c9",
   "outputs": [
    {
     "data": {
      "text/plain": [
       "(<tf.Tensor: shape=(2,), dtype=int32, numpy=array([ 7, 10], dtype=int32)>,\n",
       " tf.int32)"
      ]
     },
     "execution_count": 74,
     "metadata": {},
     "output_type": "execute_result"
    }
   ],
   "execution_count": 74
  },
  {
   "cell_type": "code",
   "source": "# Change from float32 to float16 (reduced precision)\nD = tf.cast(B, dtype=tf.float16)\nD, D.dtype",
   "metadata": {
    "collapsed": false,
    "trusted": false,
    "ExecuteTime": {
     "end_time": "2025-07-14T01:53:12.969598Z",
     "start_time": "2025-07-14T01:53:12.947181Z"
    }
   },
   "id": "d5ed5132efbc3993",
   "outputs": [
    {
     "data": {
      "text/plain": [
       "(<tf.Tensor: shape=(2,), dtype=float16, numpy=array([1.7, 7.4], dtype=float16)>,\n",
       " tf.float16)"
      ]
     },
     "execution_count": 75,
     "metadata": {},
     "output_type": "execute_result"
    }
   ],
   "execution_count": 75
  },
  {
   "cell_type": "code",
   "source": "# Change from int32 to float32\nE = tf.cast(C, dtype=tf.float32)\nE, E.dtype",
   "metadata": {
    "collapsed": false,
    "trusted": false,
    "ExecuteTime": {
     "end_time": "2025-07-14T01:53:13.055160Z",
     "start_time": "2025-07-14T01:53:13.012857Z"
    }
   },
   "id": "f3b716356088b1f4",
   "outputs": [
    {
     "data": {
      "text/plain": [
       "(<tf.Tensor: shape=(2,), dtype=float32, numpy=array([ 7., 10.], dtype=float32)>,\n",
       " tf.float32)"
      ]
     },
     "execution_count": 76,
     "metadata": {},
     "output_type": "execute_result"
    }
   ],
   "execution_count": 76
  },
  {
   "cell_type": "code",
   "source": "E_float16 = tf.cast(E, dtype=tf.float16)\nE_float16",
   "metadata": {
    "collapsed": false,
    "trusted": false,
    "ExecuteTime": {
     "end_time": "2025-07-14T01:53:13.096670Z",
     "start_time": "2025-07-14T01:53:13.090121Z"
    }
   },
   "id": "6662ebc47339af4c",
   "outputs": [
    {
     "data": {
      "text/plain": [
       "<tf.Tensor: shape=(2,), dtype=float16, numpy=array([ 7., 10.], dtype=float16)>"
      ]
     },
     "execution_count": 77,
     "metadata": {},
     "output_type": "execute_result"
    }
   ],
   "execution_count": 77
  },
  {
   "cell_type": "markdown",
   "source": "### Aggregating tensors\n\nAggregating tensors = condensing then from multiple values down to a smaller amount of values.",
   "metadata": {
    "collapsed": false
   },
   "id": "606cd8bb6676bb9e"
  },
  {
   "cell_type": "code",
   "source": "# Get the absolute values\nD = tf.constant([-7, -10])\nD",
   "metadata": {
    "collapsed": false,
    "trusted": false,
    "ExecuteTime": {
     "end_time": "2025-07-14T01:53:13.196040Z",
     "start_time": "2025-07-14T01:53:13.184782Z"
    }
   },
   "id": "233489da16acc7d6",
   "outputs": [
    {
     "data": {
      "text/plain": [
       "<tf.Tensor: shape=(2,), dtype=int32, numpy=array([ -7, -10], dtype=int32)>"
      ]
     },
     "execution_count": 78,
     "metadata": {},
     "output_type": "execute_result"
    }
   ],
   "execution_count": 78
  },
  {
   "cell_type": "code",
   "source": "# Get the absolute values\ntf.abs(D)",
   "metadata": {
    "collapsed": false,
    "trusted": false,
    "ExecuteTime": {
     "end_time": "2025-07-14T01:53:13.274041Z",
     "start_time": "2025-07-14T01:53:13.264610Z"
    }
   },
   "id": "52597d881ba95645",
   "outputs": [
    {
     "data": {
      "text/plain": [
       "<tf.Tensor: shape=(2,), dtype=int32, numpy=array([ 7, 10], dtype=int32)>"
      ]
     },
     "execution_count": 79,
     "metadata": {},
     "output_type": "execute_result"
    }
   ],
   "execution_count": 79
  },
  {
   "cell_type": "markdown",
   "source": "Let's go through the following forms of aggregation:\n* Get the minimum\n* Get the maximum\n* Get the mean of tensor\n* Get the sum of a tensor",
   "metadata": {
    "collapsed": false
   },
   "id": "bfac75008c94b12b"
  },
  {
   "cell_type": "code",
   "source": "# Create a random tensor with values between 0 and 100 of size 50\nE = tf.constant(np.random.randint(0, 100, size=50))\nE",
   "metadata": {
    "collapsed": false,
    "trusted": false,
    "ExecuteTime": {
     "end_time": "2025-07-14T01:53:13.340724Z",
     "start_time": "2025-07-14T01:53:13.334013Z"
    }
   },
   "id": "1e7de2147454d346",
   "outputs": [
    {
     "data": {
      "text/plain": [
       "<tf.Tensor: shape=(50,), dtype=int64, numpy=\n",
       "array([54, 33, 59, 56,  4, 40, 69, 23, 77, 42, 14, 67, 59, 25, 55, 66, 51,\n",
       "       94, 59, 24, 79,  6, 18, 63, 92, 99, 53, 89, 19, 34, 80, 48, 76, 72,\n",
       "       60, 15, 72, 60, 79, 24, 24, 43, 28, 42,  4, 73, 86, 71, 16, 89])>"
      ]
     },
     "execution_count": 80,
     "metadata": {},
     "output_type": "execute_result"
    }
   ],
   "execution_count": 80
  },
  {
   "cell_type": "code",
   "source": "tf.size(E), E.shape, E.ndim",
   "metadata": {
    "collapsed": false,
    "trusted": false,
    "ExecuteTime": {
     "end_time": "2025-07-14T01:53:13.410489Z",
     "start_time": "2025-07-14T01:53:13.394002Z"
    }
   },
   "id": "c15563f6b6a5b7eb",
   "outputs": [
    {
     "data": {
      "text/plain": [
       "(<tf.Tensor: shape=(), dtype=int32, numpy=50>, TensorShape([50]), 1)"
      ]
     },
     "execution_count": 81,
     "metadata": {},
     "output_type": "execute_result"
    }
   ],
   "execution_count": 81
  },
  {
   "cell_type": "code",
   "source": "# Find the minimum\ntf.reduce_min(E)",
   "metadata": {
    "collapsed": false,
    "trusted": false,
    "ExecuteTime": {
     "end_time": "2025-07-14T01:53:13.479578Z",
     "start_time": "2025-07-14T01:53:13.465070Z"
    }
   },
   "id": "c26627b74790ed76",
   "outputs": [
    {
     "data": {
      "text/plain": [
       "<tf.Tensor: shape=(), dtype=int64, numpy=4>"
      ]
     },
     "execution_count": 82,
     "metadata": {},
     "output_type": "execute_result"
    }
   ],
   "execution_count": 82
  },
  {
   "cell_type": "code",
   "source": "# Find the maximum\ntf.reduce_max(E)",
   "metadata": {
    "collapsed": false,
    "trusted": false,
    "ExecuteTime": {
     "end_time": "2025-07-14T01:53:13.534218Z",
     "start_time": "2025-07-14T01:53:13.526777Z"
    }
   },
   "id": "6c90606fe0c9f40f",
   "outputs": [
    {
     "data": {
      "text/plain": [
       "<tf.Tensor: shape=(), dtype=int64, numpy=99>"
      ]
     },
     "execution_count": 83,
     "metadata": {},
     "output_type": "execute_result"
    }
   ],
   "execution_count": 83
  },
  {
   "cell_type": "code",
   "source": "# Find the mean\ntf.reduce_mean(E)",
   "metadata": {
    "collapsed": false,
    "trusted": false,
    "ExecuteTime": {
     "end_time": "2025-07-14T01:53:13.624618Z",
     "start_time": "2025-07-14T01:53:13.601777Z"
    }
   },
   "id": "2075ad6484def5be",
   "outputs": [
    {
     "data": {
      "text/plain": [
       "<tf.Tensor: shape=(), dtype=int64, numpy=51>"
      ]
     },
     "execution_count": 84,
     "metadata": {},
     "output_type": "execute_result"
    }
   ],
   "execution_count": 84
  },
  {
   "cell_type": "code",
   "source": "# Find the sum\ntf.reduce_sum(E)",
   "metadata": {
    "collapsed": false,
    "trusted": false,
    "ExecuteTime": {
     "end_time": "2025-07-14T01:53:13.684977Z",
     "start_time": "2025-07-14T01:53:13.665678Z"
    }
   },
   "id": "42a8c67af0aadc97",
   "outputs": [
    {
     "data": {
      "text/plain": [
       "<tf.Tensor: shape=(), dtype=int64, numpy=2585>"
      ]
     },
     "execution_count": 85,
     "metadata": {},
     "output_type": "execute_result"
    }
   ],
   "execution_count": 85
  },
  {
   "cell_type": "markdown",
   "source": "🛠️ **Exercise:** With what we've just learned, find the variance and standard deviation of our `E` tensor using TensorFlow methods.",
   "metadata": {
    "collapsed": false
   },
   "id": "edffbc445f0994d6"
  },
  {
   "cell_type": "code",
   "source": "# Find the variance of our tensor\ntf.reduce_variance(E) # won't work...",
   "metadata": {
    "collapsed": false,
    "trusted": false,
    "ExecuteTime": {
     "end_time": "2025-07-14T01:53:13.754471Z",
     "start_time": "2025-07-14T01:53:13.731833Z"
    }
   },
   "id": "dff125f1e772b7b",
   "outputs": [
    {
     "ename": "AttributeError",
     "evalue": "module 'tensorflow' has no attribute 'reduce_variance'",
     "output_type": "error",
     "traceback": [
      "\u001B[31m---------------------------------------------------------------------------\u001B[39m",
      "\u001B[31mAttributeError\u001B[39m                            Traceback (most recent call last)",
      "\u001B[36mCell\u001B[39m\u001B[36m \u001B[39m\u001B[32mIn[86]\u001B[39m\u001B[32m, line 2\u001B[39m\n\u001B[32m      1\u001B[39m \u001B[38;5;66;03m# Find the variance of our tensor\u001B[39;00m\n\u001B[32m----> \u001B[39m\u001B[32m2\u001B[39m \u001B[43mtf\u001B[49m\u001B[43m.\u001B[49m\u001B[43mreduce_variance\u001B[49m(E) \u001B[38;5;66;03m# won't work...\u001B[39;00m\n",
      "\u001B[31mAttributeError\u001B[39m: module 'tensorflow' has no attribute 'reduce_variance'"
     ]
    }
   ],
   "execution_count": 86
  },
  {
   "cell_type": "code",
   "source": "# To find the variance of our tensor, we need access to tensorflow_probability\nimport tensorflow_probability as tfp\ntfp.stats.variance(E)",
   "metadata": {
    "collapsed": false,
    "trusted": false,
    "ExecuteTime": {
     "end_time": "2025-07-14T01:53:34.993245Z",
     "start_time": "2025-07-14T01:53:21.395217Z"
    }
   },
   "id": "4125590cd0ffdc7d",
   "outputs": [
    {
     "data": {
      "text/plain": [
       "<tf.Tensor: shape=(), dtype=int64, numpy=687>"
      ]
     },
     "execution_count": 87,
     "metadata": {},
     "output_type": "execute_result"
    }
   ],
   "execution_count": 87
  },
  {
   "cell_type": "code",
   "source": "# Find the standard deviation\ntf.math.reduce_std(tf.cast(E, dtype=tf.float32))",
   "metadata": {
    "collapsed": false,
    "trusted": false,
    "ExecuteTime": {
     "end_time": "2025-07-14T01:53:26.619860Z",
     "start_time": "2025-07-14T01:53:35.035578Z"
    }
   },
   "id": "79ab2453d9f2ea4c",
   "outputs": [
    {
     "data": {
      "text/plain": [
       "<tf.Tensor: shape=(), dtype=float32, numpy=26.209349>"
      ]
     },
     "execution_count": 88,
     "metadata": {},
     "output_type": "execute_result"
    }
   ],
   "execution_count": 88
  },
  {
   "cell_type": "code",
   "source": "tf.math.reduce_std(E)",
   "metadata": {
    "collapsed": false,
    "trusted": false,
    "ExecuteTime": {
     "end_time": "2025-07-14T01:53:26.786975Z",
     "start_time": "2025-07-14T01:53:26.682253Z"
    }
   },
   "id": "81eaad6136cd7460",
   "outputs": [
    {
     "ename": "TypeError",
     "evalue": "Input must be either real or complex. Received integer type <dtype: 'int64'>.",
     "output_type": "error",
     "traceback": [
      "\u001B[31m---------------------------------------------------------------------------\u001B[39m",
      "\u001B[31mTypeError\u001B[39m                                 Traceback (most recent call last)",
      "\u001B[36mCell\u001B[39m\u001B[36m \u001B[39m\u001B[32mIn[89]\u001B[39m\u001B[32m, line 1\u001B[39m\n\u001B[32m----> \u001B[39m\u001B[32m1\u001B[39m \u001B[43mtf\u001B[49m\u001B[43m.\u001B[49m\u001B[43mmath\u001B[49m\u001B[43m.\u001B[49m\u001B[43mreduce_std\u001B[49m\u001B[43m(\u001B[49m\u001B[43mE\u001B[49m\u001B[43m)\u001B[49m\n",
      "\u001B[36mFile \u001B[39m\u001B[32m~/anaconda3/envs/idp/lib/python3.11/site-packages/tensorflow/python/ops/weak_tensor_ops.py:88\u001B[39m, in \u001B[36mweak_tensor_unary_op_wrapper.<locals>.wrapper\u001B[39m\u001B[34m(*args, **kwargs)\u001B[39m\n\u001B[32m     86\u001B[39m \u001B[38;5;28;01mdef\u001B[39;00m\u001B[38;5;250m \u001B[39m\u001B[34mwrapper\u001B[39m(*args, **kwargs):\n\u001B[32m     87\u001B[39m   \u001B[38;5;28;01mif\u001B[39;00m \u001B[38;5;129;01mnot\u001B[39;00m ops.is_auto_dtype_conversion_enabled():\n\u001B[32m---> \u001B[39m\u001B[32m88\u001B[39m     \u001B[38;5;28;01mreturn\u001B[39;00m \u001B[43mop\u001B[49m\u001B[43m(\u001B[49m\u001B[43m*\u001B[49m\u001B[43margs\u001B[49m\u001B[43m,\u001B[49m\u001B[43m \u001B[49m\u001B[43m*\u001B[49m\u001B[43m*\u001B[49m\u001B[43mkwargs\u001B[49m\u001B[43m)\u001B[49m\n\u001B[32m     89\u001B[39m   bound_arguments = signature.bind(*args, **kwargs)\n\u001B[32m     90\u001B[39m   bound_arguments.apply_defaults()\n",
      "\u001B[36mFile \u001B[39m\u001B[32m~/anaconda3/envs/idp/lib/python3.11/site-packages/tensorflow/python/util/traceback_utils.py:153\u001B[39m, in \u001B[36mfilter_traceback.<locals>.error_handler\u001B[39m\u001B[34m(*args, **kwargs)\u001B[39m\n\u001B[32m    151\u001B[39m \u001B[38;5;28;01mexcept\u001B[39;00m \u001B[38;5;167;01mException\u001B[39;00m \u001B[38;5;28;01mas\u001B[39;00m e:\n\u001B[32m    152\u001B[39m   filtered_tb = _process_traceback_frames(e.__traceback__)\n\u001B[32m--> \u001B[39m\u001B[32m153\u001B[39m   \u001B[38;5;28;01mraise\u001B[39;00m e.with_traceback(filtered_tb) \u001B[38;5;28;01mfrom\u001B[39;00m\u001B[38;5;250m \u001B[39m\u001B[38;5;28;01mNone\u001B[39;00m\n\u001B[32m    154\u001B[39m \u001B[38;5;28;01mfinally\u001B[39;00m:\n\u001B[32m    155\u001B[39m   \u001B[38;5;28;01mdel\u001B[39;00m filtered_tb\n",
      "\u001B[36mFile \u001B[39m\u001B[32m~/anaconda3/envs/idp/lib/python3.11/site-packages/tensorflow/python/ops/math_ops.py:2822\u001B[39m, in \u001B[36mreduce_variance\u001B[39m\u001B[34m(input_tensor, axis, keepdims, name)\u001B[39m\n\u001B[32m   2820\u001B[39m means = reduce_mean(input_tensor, axis=axis, keepdims=\u001B[38;5;28;01mTrue\u001B[39;00m)\n\u001B[32m   2821\u001B[39m \u001B[38;5;28;01mif\u001B[39;00m means.dtype.is_integer:\n\u001B[32m-> \u001B[39m\u001B[32m2822\u001B[39m   \u001B[38;5;28;01mraise\u001B[39;00m \u001B[38;5;167;01mTypeError\u001B[39;00m(\u001B[33mf\u001B[39m\u001B[33m\"\u001B[39m\u001B[33mInput must be either real or complex. \u001B[39m\u001B[33m\"\u001B[39m\n\u001B[32m   2823\u001B[39m                   \u001B[33mf\u001B[39m\u001B[33m\"\u001B[39m\u001B[33mReceived integer type \u001B[39m\u001B[38;5;132;01m{\u001B[39;00mmeans.dtype\u001B[38;5;132;01m}\u001B[39;00m\u001B[33m.\u001B[39m\u001B[33m\"\u001B[39m)\n\u001B[32m   2824\u001B[39m diff = input_tensor - means\n\u001B[32m   2825\u001B[39m \u001B[38;5;28;01mif\u001B[39;00m diff.dtype.is_complex:\n\u001B[32m   2826\u001B[39m   \u001B[38;5;66;03m# For complex values we need to take the absolute value before squaring.\u001B[39;00m\n\u001B[32m   2827\u001B[39m   \u001B[38;5;66;03m# This is achieved by multiplying with the conjugate.\u001B[39;00m\n",
      "\u001B[31mTypeError\u001B[39m: Input must be either real or complex. Received integer type <dtype: 'int64'>."
     ]
    }
   ],
   "execution_count": 89
  },
  {
   "cell_type": "code",
   "source": "tf.math.reduce_variance(tf.cast(E, dtype=tf.float32))",
   "metadata": {
    "collapsed": false,
    "trusted": false,
    "ExecuteTime": {
     "end_time": "2025-07-14T01:53:32.468603Z",
     "start_time": "2025-07-14T01:53:32.460574Z"
    }
   },
   "id": "aae0f1805c17341",
   "outputs": [
    {
     "data": {
      "text/plain": [
       "<tf.Tensor: shape=(), dtype=float32, numpy=686.93>"
      ]
     },
     "execution_count": 90,
     "metadata": {},
     "output_type": "execute_result"
    }
   ],
   "execution_count": 90
  },
  {
   "cell_type": "markdown",
   "source": "### Find the positional maximum and minimum",
   "metadata": {
    "collapsed": false
   },
   "id": "a0f2765a2ca530a"
  },
  {
   "cell_type": "code",
   "source": "# Create a new tensor for finding positional minimum and maximum\ntf.random.set_seed(42)\nF = tf.random.uniform(shape=[50])\nF",
   "metadata": {
    "collapsed": false,
    "trusted": false,
    "ExecuteTime": {
     "end_time": "2025-07-14T01:53:32.583602Z",
     "start_time": "2025-07-14T01:53:32.518056Z"
    }
   },
   "id": "923fab7fcf2ac923",
   "outputs": [
    {
     "data": {
      "text/plain": [
       "<tf.Tensor: shape=(50,), dtype=float32, numpy=\n",
       "array([0.6645621 , 0.44100678, 0.3528825 , 0.46448255, 0.03366041,\n",
       "       0.68467236, 0.74011743, 0.8724445 , 0.22632635, 0.22319686,\n",
       "       0.3103881 , 0.7223358 , 0.13318717, 0.5480639 , 0.5746088 ,\n",
       "       0.8996835 , 0.00946367, 0.5212307 , 0.6345445 , 0.1993283 ,\n",
       "       0.72942245, 0.54583454, 0.10756552, 0.6767061 , 0.6602763 ,\n",
       "       0.33695042, 0.60141766, 0.21062577, 0.8527372 , 0.44062173,\n",
       "       0.9485276 , 0.23752594, 0.81179297, 0.5263394 , 0.494308  ,\n",
       "       0.21612847, 0.8457197 , 0.8718841 , 0.3083862 , 0.6868038 ,\n",
       "       0.23764038, 0.7817228 , 0.9671384 , 0.06870162, 0.79873943,\n",
       "       0.66028714, 0.5871513 , 0.16461694, 0.7381023 , 0.32054043],\n",
       "      dtype=float32)>"
      ]
     },
     "execution_count": 91,
     "metadata": {},
     "output_type": "execute_result"
    }
   ],
   "execution_count": 91
  },
  {
   "cell_type": "code",
   "source": "# Find the positional maximum\ntf.argmax(F)",
   "metadata": {
    "collapsed": false,
    "trusted": false,
    "ExecuteTime": {
     "end_time": "2025-07-14T01:53:40.534574Z",
     "start_time": "2025-07-14T01:53:32.620995Z"
    }
   },
   "id": "20c312f3b65b95d0",
   "outputs": [
    {
     "data": {
      "text/plain": [
       "<tf.Tensor: shape=(), dtype=int64, numpy=42>"
      ]
     },
     "execution_count": 92,
     "metadata": {},
     "output_type": "execute_result"
    }
   ],
   "execution_count": 92
  },
  {
   "cell_type": "code",
   "source": "# Index on our largest value position\nF[tf.argmax(F)]",
   "metadata": {
    "collapsed": false,
    "trusted": false,
    "ExecuteTime": {
     "end_time": "2025-07-14T01:53:40.599047Z",
     "start_time": "2025-07-14T01:53:40.557015Z"
    }
   },
   "id": "d8afed6242de09f0",
   "outputs": [
    {
     "data": {
      "text/plain": [
       "<tf.Tensor: shape=(), dtype=float32, numpy=0.9671384>"
      ]
     },
     "execution_count": 93,
     "metadata": {},
     "output_type": "execute_result"
    }
   ],
   "execution_count": 93
  },
  {
   "cell_type": "code",
   "source": "# Find the max value of F\ntf.reduce_max(F)",
   "metadata": {
    "collapsed": false,
    "trusted": false,
    "ExecuteTime": {
     "end_time": "2025-07-14T01:53:41.053285Z",
     "start_time": "2025-07-14T01:53:40.629960Z"
    }
   },
   "id": "f5bbcba6add0f515",
   "outputs": [
    {
     "data": {
      "text/plain": [
       "<tf.Tensor: shape=(), dtype=float32, numpy=0.9671384>"
      ]
     },
     "execution_count": 94,
     "metadata": {},
     "output_type": "execute_result"
    }
   ],
   "execution_count": 94
  },
  {
   "cell_type": "code",
   "source": "# Check for equality\nF[tf.argmax(F)] == tf.reduce_max(F)",
   "metadata": {
    "collapsed": false,
    "trusted": false,
    "ExecuteTime": {
     "end_time": "2025-07-14T01:53:41.093057Z",
     "start_time": "2025-07-14T01:53:41.080116Z"
    }
   },
   "id": "4cebec9af689c2c4",
   "outputs": [
    {
     "data": {
      "text/plain": [
       "<tf.Tensor: shape=(), dtype=bool, numpy=True>"
      ]
     },
     "execution_count": 95,
     "metadata": {},
     "output_type": "execute_result"
    }
   ],
   "execution_count": 95
  },
  {
   "cell_type": "code",
   "source": "# Find the position minimum\ntf.argmin(F)",
   "metadata": {
    "collapsed": false,
    "trusted": false,
    "ExecuteTime": {
     "end_time": "2025-07-14T01:53:41.189383Z",
     "start_time": "2025-07-14T01:53:41.180892Z"
    }
   },
   "id": "6f24b7d8631774cc",
   "outputs": [
    {
     "data": {
      "text/plain": [
       "<tf.Tensor: shape=(), dtype=int64, numpy=16>"
      ]
     },
     "execution_count": 96,
     "metadata": {},
     "output_type": "execute_result"
    }
   ],
   "execution_count": 96
  },
  {
   "cell_type": "code",
   "source": "# Find the minimum using the positional minimum index\nF[tf.argmin(F)]",
   "metadata": {
    "collapsed": false,
    "trusted": false,
    "ExecuteTime": {
     "end_time": "2025-07-14T01:53:41.289191Z",
     "start_time": "2025-07-14T01:53:41.253393Z"
    }
   },
   "id": "ddaafd9f92d34def",
   "outputs": [
    {
     "data": {
      "text/plain": [
       "<tf.Tensor: shape=(), dtype=float32, numpy=0.009463668>"
      ]
     },
     "execution_count": 97,
     "metadata": {},
     "output_type": "execute_result"
    }
   ],
   "execution_count": 97
  },
  {
   "cell_type": "code",
   "source": "# Check for equality\nF[tf.argmin(F)] == tf.reduce_min(F)",
   "metadata": {
    "collapsed": false,
    "trusted": false,
    "ExecuteTime": {
     "end_time": "2025-07-14T01:53:49.872907Z",
     "start_time": "2025-07-14T01:53:41.327290Z"
    }
   },
   "id": "b1f54973776c884a",
   "outputs": [
    {
     "data": {
      "text/plain": [
       "<tf.Tensor: shape=(), dtype=bool, numpy=True>"
      ]
     },
     "execution_count": 98,
     "metadata": {},
     "output_type": "execute_result"
    }
   ],
   "execution_count": 98
  },
  {
   "cell_type": "markdown",
   "source": "### Squeezing a tensor (removing all single dimensions)",
   "metadata": {
    "collapsed": false
   },
   "id": "707ead4067f77b59"
  },
  {
   "cell_type": "code",
   "source": "# Create a tensor to get started\ntf.random.set_seed(42)\nG = tf.constant(tf.random.uniform(shape=[50]), shape=(1, 1, 1, 1, 50))\nG",
   "metadata": {
    "collapsed": false,
    "trusted": false,
    "ExecuteTime": {
     "end_time": "2025-07-14T01:53:49.905049Z",
     "start_time": "2025-07-14T01:53:49.895453Z"
    }
   },
   "id": "69fe40b3fe3cdf9d",
   "outputs": [
    {
     "data": {
      "text/plain": [
       "<tf.Tensor: shape=(1, 1, 1, 1, 50), dtype=float32, numpy=\n",
       "array([[[[[0.6645621 , 0.44100678, 0.3528825 , 0.46448255, 0.03366041,\n",
       "           0.68467236, 0.74011743, 0.8724445 , 0.22632635, 0.22319686,\n",
       "           0.3103881 , 0.7223358 , 0.13318717, 0.5480639 , 0.5746088 ,\n",
       "           0.8996835 , 0.00946367, 0.5212307 , 0.6345445 , 0.1993283 ,\n",
       "           0.72942245, 0.54583454, 0.10756552, 0.6767061 , 0.6602763 ,\n",
       "           0.33695042, 0.60141766, 0.21062577, 0.8527372 , 0.44062173,\n",
       "           0.9485276 , 0.23752594, 0.81179297, 0.5263394 , 0.494308  ,\n",
       "           0.21612847, 0.8457197 , 0.8718841 , 0.3083862 , 0.6868038 ,\n",
       "           0.23764038, 0.7817228 , 0.9671384 , 0.06870162, 0.79873943,\n",
       "           0.66028714, 0.5871513 , 0.16461694, 0.7381023 , 0.32054043]]]]],\n",
       "      dtype=float32)>"
      ]
     },
     "execution_count": 99,
     "metadata": {},
     "output_type": "execute_result"
    }
   ],
   "execution_count": 99
  },
  {
   "cell_type": "code",
   "source": "G.shape",
   "metadata": {
    "collapsed": false,
    "trusted": false,
    "ExecuteTime": {
     "end_time": "2025-07-14T01:53:49.949439Z",
     "start_time": "2025-07-14T01:53:49.945651Z"
    }
   },
   "id": "ba0668eaaf7063d3",
   "outputs": [
    {
     "data": {
      "text/plain": [
       "TensorShape([1, 1, 1, 1, 50])"
      ]
     },
     "execution_count": 100,
     "metadata": {},
     "output_type": "execute_result"
    }
   ],
   "execution_count": 100
  },
  {
   "cell_type": "code",
   "source": "G_squeezed = tf.squeeze(G)\nG_squeezed, G_squeezed.shape",
   "metadata": {
    "collapsed": false,
    "trusted": false,
    "ExecuteTime": {
     "end_time": "2025-07-14T01:53:41.349058Z",
     "start_time": "2025-07-14T01:53:50.012937Z"
    }
   },
   "id": "4763efbc57de0311",
   "outputs": [
    {
     "data": {
      "text/plain": [
       "(<tf.Tensor: shape=(50,), dtype=float32, numpy=\n",
       " array([0.6645621 , 0.44100678, 0.3528825 , 0.46448255, 0.03366041,\n",
       "        0.68467236, 0.74011743, 0.8724445 , 0.22632635, 0.22319686,\n",
       "        0.3103881 , 0.7223358 , 0.13318717, 0.5480639 , 0.5746088 ,\n",
       "        0.8996835 , 0.00946367, 0.5212307 , 0.6345445 , 0.1993283 ,\n",
       "        0.72942245, 0.54583454, 0.10756552, 0.6767061 , 0.6602763 ,\n",
       "        0.33695042, 0.60141766, 0.21062577, 0.8527372 , 0.44062173,\n",
       "        0.9485276 , 0.23752594, 0.81179297, 0.5263394 , 0.494308  ,\n",
       "        0.21612847, 0.8457197 , 0.8718841 , 0.3083862 , 0.6868038 ,\n",
       "        0.23764038, 0.7817228 , 0.9671384 , 0.06870162, 0.79873943,\n",
       "        0.66028714, 0.5871513 , 0.16461694, 0.7381023 , 0.32054043],\n",
       "       dtype=float32)>,\n",
       " TensorShape([50]))"
      ]
     },
     "execution_count": 101,
     "metadata": {},
     "output_type": "execute_result"
    }
   ],
   "execution_count": 101
  },
  {
   "cell_type": "markdown",
   "source": "### One-hot encoding tensors\n",
   "metadata": {
    "collapsed": false
   },
   "id": "d4ecb2bd989bdbba"
  },
  {
   "cell_type": "code",
   "source": "# Create a list of indices\nsome_list = [0, 1, 2, 3] # could be red, green, blue, purple\n\n# One hot encode our list of indices\ntf.one_hot(some_list, depth=4)",
   "metadata": {
    "collapsed": false,
    "trusted": false,
    "ExecuteTime": {
     "end_time": "2025-07-14T01:53:45.329619Z",
     "start_time": "2025-07-14T01:53:41.373619Z"
    }
   },
   "id": "1ad2581bfc8af633",
   "outputs": [
    {
     "data": {
      "text/plain": [
       "<tf.Tensor: shape=(4, 4), dtype=float32, numpy=\n",
       "array([[1., 0., 0., 0.],\n",
       "       [0., 1., 0., 0.],\n",
       "       [0., 0., 1., 0.],\n",
       "       [0., 0., 0., 1.]], dtype=float32)>"
      ]
     },
     "execution_count": 102,
     "metadata": {},
     "output_type": "execute_result"
    }
   ],
   "execution_count": 102
  },
  {
   "cell_type": "code",
   "source": "# Specify custom values for one hot encoding\ntf.one_hot(some_list, depth=4, on_value=\"yo I love deep learning\", off_value=\"I also like to dance\")",
   "metadata": {
    "collapsed": false,
    "trusted": false,
    "ExecuteTime": {
     "end_time": "2025-07-14T01:53:45.386682Z",
     "start_time": "2025-07-14T01:53:45.363812Z"
    }
   },
   "id": "4bf4d3801d873442",
   "outputs": [
    {
     "data": {
      "text/plain": [
       "<tf.Tensor: shape=(4, 4), dtype=string, numpy=\n",
       "array([[b'yo I love deep learning', b'I also like to dance',\n",
       "        b'I also like to dance', b'I also like to dance'],\n",
       "       [b'I also like to dance', b'yo I love deep learning',\n",
       "        b'I also like to dance', b'I also like to dance'],\n",
       "       [b'I also like to dance', b'I also like to dance',\n",
       "        b'yo I love deep learning', b'I also like to dance'],\n",
       "       [b'I also like to dance', b'I also like to dance',\n",
       "        b'I also like to dance', b'yo I love deep learning']],\n",
       "      dtype=object)>"
      ]
     },
     "execution_count": 103,
     "metadata": {},
     "output_type": "execute_result"
    }
   ],
   "execution_count": 103
  },
  {
   "cell_type": "markdown",
   "source": "### Squaring, log, square root",
   "metadata": {
    "collapsed": false
   },
   "id": "8d7d9894fbd95fd5"
  },
  {
   "cell_type": "code",
   "source": "H = tf.range(1, 10)\nH",
   "metadata": {
    "collapsed": false,
    "trusted": false,
    "ExecuteTime": {
     "end_time": "2025-07-14T01:53:45.535010Z",
     "start_time": "2025-07-14T01:53:45.528960Z"
    }
   },
   "id": "f3c7b868c1fed30b",
   "outputs": [
    {
     "data": {
      "text/plain": [
       "<tf.Tensor: shape=(9,), dtype=int32, numpy=array([1, 2, 3, 4, 5, 6, 7, 8, 9], dtype=int32)>"
      ]
     },
     "execution_count": 104,
     "metadata": {},
     "output_type": "execute_result"
    }
   ],
   "execution_count": 104
  },
  {
   "cell_type": "code",
   "source": "# Square it\ntf.square(H)",
   "metadata": {
    "collapsed": false,
    "trusted": false,
    "ExecuteTime": {
     "end_time": "2025-07-14T01:53:45.677466Z",
     "start_time": "2025-07-14T01:53:45.669796Z"
    }
   },
   "id": "52636861d5f83acc",
   "outputs": [
    {
     "data": {
      "text/plain": [
       "<tf.Tensor: shape=(9,), dtype=int32, numpy=array([ 1,  4,  9, 16, 25, 36, 49, 64, 81], dtype=int32)>"
      ]
     },
     "execution_count": 105,
     "metadata": {},
     "output_type": "execute_result"
    }
   ],
   "execution_count": 105
  },
  {
   "cell_type": "code",
   "source": "# Find the squareroot (will error, method requires non-int type)\ntf.sqrt(H)",
   "metadata": {
    "collapsed": false,
    "trusted": false,
    "ExecuteTime": {
     "end_time": "2025-07-14T01:53:45.789216Z",
     "start_time": "2025-07-14T01:53:45.749644Z"
    }
   },
   "id": "450aff6e85681c0b",
   "outputs": [
    {
     "ename": "InvalidArgumentError",
     "evalue": "Value for attr 'T' of int32 is not in the list of allowed values: bfloat16, half, float, double, complex64, complex128\n\t; NodeDef: {{node Sqrt}}; Op<name=Sqrt; signature=x:T -> y:T; attr=T:type,allowed=[DT_BFLOAT16, DT_HALF, DT_FLOAT, DT_DOUBLE, DT_COMPLEX64, DT_COMPLEX128]> [Op:Sqrt] name: ",
     "output_type": "error",
     "traceback": [
      "\u001B[31m---------------------------------------------------------------------------\u001B[39m",
      "\u001B[31mInvalidArgumentError\u001B[39m                      Traceback (most recent call last)",
      "\u001B[36mCell\u001B[39m\u001B[36m \u001B[39m\u001B[32mIn[106]\u001B[39m\u001B[32m, line 2\u001B[39m\n\u001B[32m      1\u001B[39m \u001B[38;5;66;03m# Find the squareroot (will error, method requires non-int type)\u001B[39;00m\n\u001B[32m----> \u001B[39m\u001B[32m2\u001B[39m \u001B[43mtf\u001B[49m\u001B[43m.\u001B[49m\u001B[43msqrt\u001B[49m\u001B[43m(\u001B[49m\u001B[43mH\u001B[49m\u001B[43m)\u001B[49m\n",
      "\u001B[36mFile \u001B[39m\u001B[32m~/anaconda3/envs/idp/lib/python3.11/site-packages/tensorflow/python/ops/weak_tensor_ops.py:88\u001B[39m, in \u001B[36mweak_tensor_unary_op_wrapper.<locals>.wrapper\u001B[39m\u001B[34m(*args, **kwargs)\u001B[39m\n\u001B[32m     86\u001B[39m \u001B[38;5;28;01mdef\u001B[39;00m\u001B[38;5;250m \u001B[39m\u001B[34mwrapper\u001B[39m(*args, **kwargs):\n\u001B[32m     87\u001B[39m   \u001B[38;5;28;01mif\u001B[39;00m \u001B[38;5;129;01mnot\u001B[39;00m ops.is_auto_dtype_conversion_enabled():\n\u001B[32m---> \u001B[39m\u001B[32m88\u001B[39m     \u001B[38;5;28;01mreturn\u001B[39;00m \u001B[43mop\u001B[49m\u001B[43m(\u001B[49m\u001B[43m*\u001B[49m\u001B[43margs\u001B[49m\u001B[43m,\u001B[49m\u001B[43m \u001B[49m\u001B[43m*\u001B[49m\u001B[43m*\u001B[49m\u001B[43mkwargs\u001B[49m\u001B[43m)\u001B[49m\n\u001B[32m     89\u001B[39m   bound_arguments = signature.bind(*args, **kwargs)\n\u001B[32m     90\u001B[39m   bound_arguments.apply_defaults()\n",
      "\u001B[36mFile \u001B[39m\u001B[32m~/anaconda3/envs/idp/lib/python3.11/site-packages/tensorflow/python/util/traceback_utils.py:153\u001B[39m, in \u001B[36mfilter_traceback.<locals>.error_handler\u001B[39m\u001B[34m(*args, **kwargs)\u001B[39m\n\u001B[32m    151\u001B[39m \u001B[38;5;28;01mexcept\u001B[39;00m \u001B[38;5;167;01mException\u001B[39;00m \u001B[38;5;28;01mas\u001B[39;00m e:\n\u001B[32m    152\u001B[39m   filtered_tb = _process_traceback_frames(e.__traceback__)\n\u001B[32m--> \u001B[39m\u001B[32m153\u001B[39m   \u001B[38;5;28;01mraise\u001B[39;00m e.with_traceback(filtered_tb) \u001B[38;5;28;01mfrom\u001B[39;00m\u001B[38;5;250m \u001B[39m\u001B[38;5;28;01mNone\u001B[39;00m\n\u001B[32m    154\u001B[39m \u001B[38;5;28;01mfinally\u001B[39;00m:\n\u001B[32m    155\u001B[39m   \u001B[38;5;28;01mdel\u001B[39;00m filtered_tb\n",
      "\u001B[36mFile \u001B[39m\u001B[32m~/anaconda3/envs/idp/lib/python3.11/site-packages/tensorflow/python/framework/ops.py:5883\u001B[39m, in \u001B[36mraise_from_not_ok_status\u001B[39m\u001B[34m(e, name)\u001B[39m\n\u001B[32m   5881\u001B[39m \u001B[38;5;28;01mdef\u001B[39;00m\u001B[38;5;250m \u001B[39m\u001B[34mraise_from_not_ok_status\u001B[39m(e, name) -> NoReturn:\n\u001B[32m   5882\u001B[39m   e.message += (\u001B[33m\"\u001B[39m\u001B[33m name: \u001B[39m\u001B[33m\"\u001B[39m + \u001B[38;5;28mstr\u001B[39m(name \u001B[38;5;28;01mif\u001B[39;00m name \u001B[38;5;129;01mis\u001B[39;00m \u001B[38;5;129;01mnot\u001B[39;00m \u001B[38;5;28;01mNone\u001B[39;00m \u001B[38;5;28;01melse\u001B[39;00m \u001B[33m\"\u001B[39m\u001B[33m\"\u001B[39m))\n\u001B[32m-> \u001B[39m\u001B[32m5883\u001B[39m   \u001B[38;5;28;01mraise\u001B[39;00m core._status_to_exception(e) \u001B[38;5;28;01mfrom\u001B[39;00m\u001B[38;5;250m \u001B[39m\u001B[38;5;28;01mNone\u001B[39;00m\n",
      "\u001B[31mInvalidArgumentError\u001B[39m: Value for attr 'T' of int32 is not in the list of allowed values: bfloat16, half, float, double, complex64, complex128\n\t; NodeDef: {{node Sqrt}}; Op<name=Sqrt; signature=x:T -> y:T; attr=T:type,allowed=[DT_BFLOAT16, DT_HALF, DT_FLOAT, DT_DOUBLE, DT_COMPLEX64, DT_COMPLEX128]> [Op:Sqrt] name: "
     ]
    }
   ],
   "execution_count": 106
  },
  {
   "cell_type": "code",
   "source": "# Find the squareroot\ntf.sqrt(tf.cast(H, dtype=tf.float32))",
   "metadata": {
    "collapsed": false,
    "trusted": false,
    "ExecuteTime": {
     "end_time": "2025-07-14T01:53:52.219670Z",
     "start_time": "2025-07-14T01:53:52.211723Z"
    }
   },
   "id": "ae1fcf8c08a8af2",
   "outputs": [
    {
     "data": {
      "text/plain": [
       "<tf.Tensor: shape=(9,), dtype=float32, numpy=\n",
       "array([1.       , 1.4142135, 1.7320508, 2.       , 2.236068 , 2.4494896,\n",
       "       2.6457512, 2.828427 , 3.       ], dtype=float32)>"
      ]
     },
     "execution_count": 107,
     "metadata": {},
     "output_type": "execute_result"
    }
   ],
   "execution_count": 107
  },
  {
   "cell_type": "code",
   "source": "# Find the log\ntf.math.log(tf.cast(H, dtype=tf.float32))",
   "metadata": {
    "collapsed": false,
    "trusted": false,
    "ExecuteTime": {
     "end_time": "2025-07-14T01:53:52.342738Z",
     "start_time": "2025-07-14T01:53:52.255705Z"
    }
   },
   "id": "70b7cf0cae223b9d",
   "outputs": [
    {
     "data": {
      "text/plain": [
       "<tf.Tensor: shape=(9,), dtype=float32, numpy=\n",
       "array([0.       , 0.6931472, 1.0986123, 1.3862944, 1.609438 , 1.7917595,\n",
       "       1.9459102, 2.0794415, 2.1972246], dtype=float32)>"
      ]
     },
     "execution_count": 108,
     "metadata": {},
     "output_type": "execute_result"
    }
   ],
   "execution_count": 108
  },
  {
   "cell_type": "markdown",
   "source": "### Tensor and NumPy\n\nTensorFlow interacts beautifully with NumPy arrays.",
   "metadata": {
    "collapsed": false
   },
   "id": "e67c730bc35b015b"
  },
  {
   "cell_type": "code",
   "source": "# Create a tensor directly from a NumPy array\nJ = tf.constant(np.array([3., 7., 10.]))\nJ",
   "metadata": {
    "collapsed": false,
    "trusted": false,
    "ExecuteTime": {
     "end_time": "2025-07-14T01:53:52.373538Z",
     "start_time": "2025-07-14T01:53:52.366191Z"
    }
   },
   "id": "ee2f249911d58030",
   "outputs": [
    {
     "data": {
      "text/plain": [
       "<tf.Tensor: shape=(3,), dtype=float64, numpy=array([ 3.,  7., 10.])>"
      ]
     },
     "execution_count": 109,
     "metadata": {},
     "output_type": "execute_result"
    }
   ],
   "execution_count": 109
  },
  {
   "cell_type": "code",
   "source": "# Convert our tensor back to a NumPy array\nnp.array(J), type(np.array(J))",
   "metadata": {
    "collapsed": false,
    "trusted": false,
    "ExecuteTime": {
     "end_time": "2025-07-14T01:53:52.432708Z",
     "start_time": "2025-07-14T01:53:52.429427Z"
    }
   },
   "id": "2f1b87d4abbc9eba",
   "outputs": [
    {
     "data": {
      "text/plain": [
       "(array([ 3.,  7., 10.]), numpy.ndarray)"
      ]
     },
     "execution_count": 110,
     "metadata": {},
     "output_type": "execute_result"
    }
   ],
   "execution_count": 110
  },
  {
   "cell_type": "code",
   "source": "# Convert tensor J to a NumPy array\nJ.numpy(), type(J.numpy())",
   "metadata": {
    "collapsed": false,
    "trusted": false,
    "ExecuteTime": {
     "end_time": "2025-07-14T01:53:52.497458Z",
     "start_time": "2025-07-14T01:53:52.493441Z"
    }
   },
   "id": "fb17795bbf5c26e6",
   "outputs": [
    {
     "data": {
      "text/plain": [
       "(array([ 3.,  7., 10.]), numpy.ndarray)"
      ]
     },
     "execution_count": 111,
     "metadata": {},
     "output_type": "execute_result"
    }
   ],
   "execution_count": 111
  },
  {
   "cell_type": "code",
   "source": "# The default types of each are slightly different\nnumpy_J = tf.constant(np.array([3., 7., 10.]))\ntensor_J = tf.constant([3., 7., 10.])\n\n# Check the datatypes of each\nnumpy_J.dtype, tensor_J.dtype",
   "metadata": {
    "collapsed": false,
    "trusted": false,
    "ExecuteTime": {
     "end_time": "2025-07-14T01:53:52.571657Z",
     "start_time": "2025-07-14T01:53:52.559415Z"
    }
   },
   "id": "180a3eaf12cf796a",
   "outputs": [
    {
     "data": {
      "text/plain": [
       "(tf.float64, tf.float32)"
      ]
     },
     "execution_count": 112,
     "metadata": {},
     "output_type": "execute_result"
    }
   ],
   "execution_count": 112
  },
  {
   "cell_type": "markdown",
   "source": "### Finding access to GPUs",
   "metadata": {
    "collapsed": false
   },
   "id": "8e4a576911f771d7"
  },
  {
   "cell_type": "code",
   "source": "tf.config.list_physical_devices()",
   "metadata": {
    "collapsed": false,
    "trusted": false,
    "ExecuteTime": {
     "end_time": "2025-07-14T01:54:04.746680Z",
     "start_time": "2025-07-14T01:54:04.742210Z"
    }
   },
   "id": "714bda32637d44e2",
   "outputs": [
    {
     "data": {
      "text/plain": [
       "[PhysicalDevice(name='/physical_device:CPU:0', device_type='CPU'),\n",
       " PhysicalDevice(name='/physical_device:XPU:0', device_type='XPU')]"
      ]
     },
     "execution_count": 115,
     "metadata": {},
     "output_type": "execute_result"
    }
   ],
   "execution_count": 115
  },
  {
   "cell_type": "code",
   "source": "!nvidia-smi",
   "metadata": {
    "collapsed": false,
    "trusted": false,
    "ExecuteTime": {
     "end_time": "2025-07-14T01:55:23.390867Z",
     "start_time": "2025-07-14T01:55:23.228925Z"
    }
   },
   "id": "4d2afecb9db61b47",
   "outputs": [
    {
     "name": "stdout",
     "output_type": "stream",
     "text": [
      "/bin/bash: line 1: nvidia-smi: command not found\r\n"
     ]
    }
   ],
   "execution_count": 117
  },
  {
   "cell_type": "markdown",
   "source": "**Note:** If you have access to a CUDA-enable GPU, TensorFlow will automatically use it whenver possible.",
   "metadata": {
    "collapsed": false
   },
   "id": "1003bcaeddd8d132"
  },
  {
   "cell_type": "code",
   "source": "!sycl-ls\n",
   "metadata": {
    "collapsed": false,
    "trusted": false,
    "ExecuteTime": {
     "end_time": "2025-07-14T01:55:34.977555Z",
     "start_time": "2025-07-14T01:55:26.460647Z"
    }
   },
   "id": "f35d9f3e00888ad8",
   "outputs": [
    {
     "name": "stdout",
     "output_type": "stream",
     "text": [
      "[level_zero:gpu][level_zero:0] Intel(R) oneAPI Unified Runtime over Level-Zero, Intel(R) Graphics [0x64a0] 20.4.4 [1.6.33944+12]\r\n",
      "[opencl:cpu][opencl:0] Intel(R) OpenCL, Intel(R) Core(TM) Ultra 7 258V OpenCL 3.0 (Build 0) [2025.20.6.0.04_224945]\r\n",
      "[opencl:gpu][opencl:1] Intel(R) OpenCL Graphics, Intel(R) Graphics [0x64a0] OpenCL 3.0 NEO  [25.22.33944]\r\n"
     ]
    }
   ],
   "execution_count": 118
  },
  {
   "metadata": {},
   "cell_type": "code",
   "outputs": [],
   "execution_count": null,
   "source": "",
   "id": "34fcef9dab6b8d23"
  }
 ],
 "metadata": {
  "kernelspec": {
   "display_name": "Python 3",
   "language": "python",
   "name": "python3"
  },
  "language_info": {
   "codemirror_mode": {
    "name": "ipython",
    "version": 2
   },
   "file_extension": ".py",
   "mimetype": "text/x-python",
   "name": "python",
   "nbconvert_exporter": "python",
   "pygments_lexer": "ipython2",
   "version": "2.7.6"
  }
 },
 "nbformat": 4,
 "nbformat_minor": 5
}
