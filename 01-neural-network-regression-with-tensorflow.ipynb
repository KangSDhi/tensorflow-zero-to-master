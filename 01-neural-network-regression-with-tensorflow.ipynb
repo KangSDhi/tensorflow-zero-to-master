{
 "cells": [
  {
   "cell_type": "markdown",
   "source": [
    "# Introduction to Regression with Neural Networks in TensorFlow\n",
    "\n",
    "There are many definitions for regression problem but in our case, we're going to simplify it: predicting a numerical variable based on some other combination of variables, even shorther... predicting a number."
   ],
   "metadata": {
    "collapsed": false
   },
   "id": "6ebb1111b9c93791"
  },
  {
   "cell_type": "code",
   "execution_count": 1,
   "outputs": [
    {
     "name": "stderr",
     "output_type": "stream",
     "text": [
      "2023-09-29 18:32:07.169346: I tensorflow/core/platform/cpu_feature_guard.cc:182] This TensorFlow binary is optimized to use available CPU instructions in performance-critical operations.\n",
      "To enable the following instructions: SSE4.1 SSE4.2 AVX AVX2 FMA, in other operations, rebuild TensorFlow with the appropriate compiler flags.\n"
     ]
    },
    {
     "name": "stdout",
     "output_type": "stream",
     "text": [
      "2.12.0\n"
     ]
    }
   ],
   "source": [
    "# Import TensorFlow\n",
    "import tensorflow as tf\n",
    "print(tf.__version__)"
   ],
   "metadata": {
    "collapsed": false,
    "ExecuteTime": {
     "end_time": "2023-09-29T11:32:09.353398553Z",
     "start_time": "2023-09-29T11:32:06.927947440Z"
    }
   },
   "id": "d4e5f09eca05ca59"
  },
  {
   "cell_type": "markdown",
   "source": [
    "## Creating data to view and fit"
   ],
   "metadata": {
    "collapsed": false
   },
   "id": "8407fe85818d8aac"
  },
  {
   "cell_type": "code",
   "execution_count": 2,
   "outputs": [
    {
     "data": {
      "text/plain": "<matplotlib.collections.PathCollection at 0x7fb2a77deed0>"
     },
     "execution_count": 2,
     "metadata": {},
     "output_type": "execute_result"
    },
    {
     "data": {
      "text/plain": "<Figure size 640x480 with 1 Axes>",
      "image/png": "[encoded data removed]"
     },
     "metadata": {},
     "output_type": "display_data"
    }
   ],
   "source": [
    "import numpy as np\n",
    "import matplotlib.pyplot as plt\n",
    "\n",
    "# Create features\n",
    "X = np.array([-7.0, -4.0, -1.0, 2.0, 5.0, 8.0, 11.0, 14.0])\n",
    "\n",
    "# Create labels\n",
    "y = np.array([3.0, 6.0, 9.0, 12.0, 15.0, 18.0, 21.0, 24.0])\n",
    "\n",
    "# Visualize it\n",
    "plt.scatter(X, y)"
   ],
   "metadata": {
    "collapsed": false,
    "ExecuteTime": {
     "end_time": "2023-09-29T11:32:09.848411441Z",
     "start_time": "2023-09-29T11:32:09.350545123Z"
    }
   },
   "id": "135387d48040aa65"
  },
  {
   "cell_type": "code",
   "execution_count": 3,
   "outputs": [
    {
     "data": {
      "text/plain": "array([ True,  True,  True,  True,  True,  True,  True,  True])"
     },
     "execution_count": 3,
     "metadata": {},
     "output_type": "execute_result"
    }
   ],
   "source": [
    "y == X + 10"
   ],
   "metadata": {
    "collapsed": false,
    "ExecuteTime": {
     "end_time": "2023-09-29T11:32:09.851583377Z",
     "start_time": "2023-09-29T11:32:09.844871963Z"
    }
   },
   "id": "35d94d5b061cfa67"
  },
  {
   "cell_type": "markdown",
   "source": [
    "## Input and output shapes"
   ],
   "metadata": {
    "collapsed": false
   },
   "id": "420b161819373fbe"
  },
  {
   "cell_type": "code",
   "execution_count": 4,
   "outputs": [
    {
     "name": "stderr",
     "output_type": "stream",
     "text": [
      "2023-09-29 18:32:09.849228: I tensorflow/core/common_runtime/process_util.cc:146] Creating new thread pool with default inter op setting: 2. Tune using inter_op_parallelism_threads for best performance.\n"
     ]
    },
    {
     "data": {
      "text/plain": "(<tf.Tensor: shape=(3,), dtype=string, numpy=array([b'bedroom', b'bathroom', b'garage'], dtype=object)>,\n <tf.Tensor: shape=(1,), dtype=int32, numpy=array([939700], dtype=int32)>)"
     },
     "execution_count": 4,
     "metadata": {},
     "output_type": "execute_result"
    }
   ],
   "source": [
    "# Create a demo tensor for our housing price prediction problem\n",
    "house_info = tf.constant([\"bedroom\", \"bathroom\", \"garage\"])\n",
    "house_price = tf.constant([939700])\n",
    "house_info, house_price"
   ],
   "metadata": {
    "collapsed": false,
    "ExecuteTime": {
     "end_time": "2023-09-29T11:32:09.981677612Z",
     "start_time": "2023-09-29T11:32:09.849206377Z"
    }
   },
   "id": "f6848417caa4070a"
  },
  {
   "cell_type": "code",
   "execution_count": 5,
   "outputs": [
    {
     "data": {
      "text/plain": "(-7.0, 3.0)"
     },
     "execution_count": 5,
     "metadata": {},
     "output_type": "execute_result"
    }
   ],
   "source": [
    "X[0], y[0]"
   ],
   "metadata": {
    "collapsed": false,
    "ExecuteTime": {
     "end_time": "2023-09-29T11:32:09.982069260Z",
     "start_time": "2023-09-29T11:32:09.882835269Z"
    }
   },
   "id": "2af8bcb603f84f47"
  },
  {
   "cell_type": "code",
   "execution_count": 6,
   "outputs": [
    {
     "data": {
      "text/plain": "(-4.0, 6.0)"
     },
     "execution_count": 6,
     "metadata": {},
     "output_type": "execute_result"
    }
   ],
   "source": [
    "X[1], y[1]"
   ],
   "metadata": {
    "collapsed": false,
    "ExecuteTime": {
     "end_time": "2023-09-29T11:32:09.982800736Z",
     "start_time": "2023-09-29T11:32:09.886927547Z"
    }
   },
   "id": "abfb4fe2f54c9ccd"
  },
  {
   "cell_type": "code",
   "execution_count": 7,
   "outputs": [
    {
     "data": {
      "text/plain": "((), ())"
     },
     "execution_count": 7,
     "metadata": {},
     "output_type": "execute_result"
    }
   ],
   "source": [
    "input_shape = X[0].shape\n",
    "output_shape = y[0].shape\n",
    "input_shape, output_shape"
   ],
   "metadata": {
    "collapsed": false,
    "ExecuteTime": {
     "end_time": "2023-09-29T11:32:09.983307485Z",
     "start_time": "2023-09-29T11:32:09.928242508Z"
    }
   },
   "id": "7ae73a2555815544"
  },
  {
   "cell_type": "code",
   "execution_count": 8,
   "outputs": [
    {
     "data": {
      "text/plain": "0"
     },
     "execution_count": 8,
     "metadata": {},
     "output_type": "execute_result"
    }
   ],
   "source": [
    "X[0].ndim"
   ],
   "metadata": {
    "collapsed": false,
    "ExecuteTime": {
     "end_time": "2023-09-29T11:32:09.983876627Z",
     "start_time": "2023-09-29T11:32:09.928556726Z"
    }
   },
   "id": "8a2ef4c080258f67"
  },
  {
   "cell_type": "code",
   "execution_count": 9,
   "outputs": [
    {
     "data": {
      "text/plain": "(-7.0, 3.0)"
     },
     "execution_count": 9,
     "metadata": {},
     "output_type": "execute_result"
    }
   ],
   "source": [
    "X[0], y[0]"
   ],
   "metadata": {
    "collapsed": false,
    "ExecuteTime": {
     "end_time": "2023-09-29T11:32:09.984317854Z",
     "start_time": "2023-09-29T11:32:09.928784546Z"
    }
   },
   "id": "8dfe9ccbe865992c"
  },
  {
   "cell_type": "code",
   "execution_count": 10,
   "outputs": [
    {
     "data": {
      "text/plain": "(<tf.Tensor: shape=(8,), dtype=float32, numpy=array([-7., -4., -1.,  2.,  5.,  8., 11., 14.], dtype=float32)>,\n <tf.Tensor: shape=(8,), dtype=float32, numpy=array([ 3.,  6.,  9., 12., 15., 18., 21., 24.], dtype=float32)>)"
     },
     "execution_count": 10,
     "metadata": {},
     "output_type": "execute_result"
    }
   ],
   "source": [
    "# Turn our NumPy arrays into tensors with dtype float32\n",
    "X = tf.cast(tf.constant(X), dtype=tf.float32)\n",
    "y = tf.cast(tf.constant(y), dtype=tf.float32)\n",
    "X, y"
   ],
   "metadata": {
    "collapsed": false,
    "ExecuteTime": {
     "end_time": "2023-09-29T11:32:09.984826877Z",
     "start_time": "2023-09-29T11:32:09.928983797Z"
    }
   },
   "id": "77e963d826e1c5ee"
  },
  {
   "cell_type": "code",
   "execution_count": 11,
   "outputs": [
    {
     "data": {
      "text/plain": "(TensorShape([]), TensorShape([]))"
     },
     "execution_count": 11,
     "metadata": {},
     "output_type": "execute_result"
    }
   ],
   "source": [
    "input_shape = X[0].shape\n",
    "output_shape = y[0].shape\n",
    "input_shape, output_shape"
   ],
   "metadata": {
    "collapsed": false,
    "ExecuteTime": {
     "end_time": "2023-09-29T11:32:09.995798163Z",
     "start_time": "2023-09-29T11:32:09.929229636Z"
    }
   },
   "id": "14e27954e5032236"
  },
  {
   "cell_type": "code",
   "execution_count": 12,
   "outputs": [
    {
     "data": {
      "text/plain": "<matplotlib.collections.PathCollection at 0x7fb2a7886190>"
     },
     "execution_count": 12,
     "metadata": {},
     "output_type": "execute_result"
    },
    {
     "data": {
      "text/plain": "<Figure size 640x480 with 1 Axes>",
      "image/png": "[encoded data removed]"
     },
     "metadata": {},
     "output_type": "display_data"
    }
   ],
   "source": [
    "plt.scatter(X, y)"
   ],
   "metadata": {
    "collapsed": false,
    "ExecuteTime": {
     "end_time": "2023-09-29T11:32:10.360376244Z",
     "start_time": "2023-09-29T11:32:09.971508838Z"
    }
   },
   "id": "e697df78c938eedc"
  },
  {
   "cell_type": "markdown",
   "source": [
    "## Steps in modeling with TensorFlow\n",
    "\n",
    "1. **Creating a model** - define the input and output layers, as well as the hidden layers of a deep learning model.\n",
    "2. **Compiling a model** - define the loss function (in other words, the function which tells our model how wrong it is) and the optimizer (tells our model how to improve the patterns its learning) and evaluation metrics (what we can use to interpret the performance our model).\n",
    "3. **Fitting a model** - letting the model try to find patterns between X & y (features and labels)."
   ],
   "metadata": {
    "collapsed": false
   },
   "id": "e9796f121f9b42fe"
  },
  {
   "cell_type": "code",
   "execution_count": 13,
   "outputs": [],
   "source": [
    "# # Optionally, the first layer can receive an `input_shape` argument:\n",
    "# model = tf.keras.Sequential()\n",
    "# model.add(tf.keras.layers.Dense(8, input_shape=(16,)))\n",
    "# # Afterwards, we do automatic shape inference:\n",
    "# model.add(tf.keras.layers.Dense(4))\n",
    "# \n",
    "# model = tf.keras.Sequential()\n",
    "# model.add(tf.keras.layers.Dense(8, input_shape=(16, )))\n",
    "# ...\n",
    "# \n",
    "# model = tf.keras.Sequential()\n",
    "# model.add(tf.keras.layers.Dense(1))"
   ],
   "metadata": {
    "collapsed": false,
    "ExecuteTime": {
     "end_time": "2023-09-29T11:32:10.360690044Z",
     "start_time": "2023-09-29T11:32:10.116841242Z"
    }
   },
   "id": "e65f811a3ad5e9e1"
  },
  {
   "cell_type": "code",
   "execution_count": 14,
   "outputs": [
    {
     "name": "stdout",
     "output_type": "stream",
     "text": [
      "Epoch 1/5\n",
      "1/1 [==============================] - 0s 474ms/step - loss: 15.2877 - mae: 15.2877\n",
      "Epoch 2/5\n",
      "1/1 [==============================] - 0s 5ms/step - loss: 15.0064 - mae: 15.0064\n",
      "Epoch 3/5\n",
      "1/1 [==============================] - 0s 5ms/step - loss: 14.8093 - mae: 14.8093\n",
      "Epoch 4/5\n",
      "1/1 [==============================] - 0s 6ms/step - loss: 14.6768 - mae: 14.6768\n",
      "Epoch 5/5\n",
      "1/1 [==============================] - 0s 4ms/step - loss: 14.5443 - mae: 14.5443\n"
     ]
    },
    {
     "data": {
      "text/plain": "<keras.callbacks.History at 0x7fb2a46d8090>"
     },
     "execution_count": 14,
     "metadata": {},
     "output_type": "execute_result"
    }
   ],
   "source": [
    "# Set random seed\n",
    "tf.random.set_seed(42)\n",
    "\n",
    "# 1. Create a model using the Sequential API\n",
    "model = tf.keras.Sequential([\n",
    "    tf.keras.layers.Dense(1)\n",
    "])\n",
    "\n",
    "# 2. Compile the model\n",
    "model.compile(loss=tf.keras.losses.mae, # mae is short for mean absolute error\n",
    "              optimizer=tf.keras.optimizers.SGD(), # sgd is short for stochstic gradient descent\n",
    "              metrics=[\"mae\"])\n",
    "\n",
    "# 3. Fit the model\n",
    "# model.fit(X, y, epochs=5) # This line will error if you're running TensorFlow 2.7.0+!\n",
    "model.fit(tf.expand_dims(X, axis=-1), y, epochs=5)"
   ],
   "metadata": {
    "collapsed": false,
    "ExecuteTime": {
     "end_time": "2023-09-29T11:32:11.006475715Z",
     "start_time": "2023-09-29T11:32:10.162668472Z"
    }
   },
   "id": "cc71e5f4aac7d8a6"
  },
  {
   "cell_type": "code",
   "execution_count": 15,
   "outputs": [
    {
     "data": {
      "text/plain": "(<tf.Tensor: shape=(8,), dtype=float32, numpy=array([-7., -4., -1.,  2.,  5.,  8., 11., 14.], dtype=float32)>,\n <tf.Tensor: shape=(8,), dtype=float32, numpy=array([ 3.,  6.,  9., 12., 15., 18., 21., 24.], dtype=float32)>)"
     },
     "execution_count": 15,
     "metadata": {},
     "output_type": "execute_result"
    }
   ],
   "source": [
    "# Check out X and y\n",
    "X, y"
   ],
   "metadata": {
    "collapsed": false,
    "ExecuteTime": {
     "end_time": "2023-09-29T11:32:11.007045060Z",
     "start_time": "2023-09-29T11:32:10.937963667Z"
    }
   },
   "id": "b1b4a1c994642378"
  },
  {
   "cell_type": "code",
   "execution_count": 16,
   "outputs": [
    {
     "name": "stdout",
     "output_type": "stream",
     "text": [
      "1/1 [==============================] - 0s 110ms/step\n"
     ]
    },
    {
     "data": {
      "text/plain": "array([[-4.6021957]], dtype=float32)"
     },
     "execution_count": 16,
     "metadata": {},
     "output_type": "execute_result"
    }
   ],
   "source": [
    "# Try and make a prediction using our model\n",
    "y_pred = model.predict([17.0])\n",
    "y_pred"
   ],
   "metadata": {
    "collapsed": false,
    "ExecuteTime": {
     "end_time": "2023-09-29T11:32:11.136279464Z",
     "start_time": "2023-09-29T11:32:10.946371226Z"
    }
   },
   "id": "6c9feaa2ed2266c8"
  },
  {
   "cell_type": "code",
   "execution_count": 17,
   "outputs": [
    {
     "data": {
      "text/plain": "array([[4.3978043]], dtype=float32)"
     },
     "execution_count": 17,
     "metadata": {},
     "output_type": "execute_result"
    }
   ],
   "source": [
    "y_pred + 9"
   ],
   "metadata": {
    "collapsed": false,
    "ExecuteTime": {
     "end_time": "2023-09-29T11:32:11.213467193Z",
     "start_time": "2023-09-29T11:32:11.116254066Z"
    }
   },
   "id": "6ac8363b8e315b33"
  },
  {
   "cell_type": "markdown",
   "source": [
    "## Improving our model\n",
    "\n",
    "We can improve our model, by altering the steps we took to create a model.\n",
    "\n",
    "1. **Creating a model** - here we might add more layers, increase the number of hidden units (all called neurons) within each of the hidden layers, change the activation function of each layer.\n",
    "2. **Compiling a model** - here we might change the optimization function or perhaps the **learning rate** of the optimization function.\n",
    "3. **Fitting a model** - here we might fit a model for more **epochs** (leave it training for longer) or on more data (give the model more examples to learn from)."
   ],
   "metadata": {
    "collapsed": false
   },
   "id": "ee325f78f13dbc6f"
  },
  {
   "cell_type": "code",
   "execution_count": 18,
   "outputs": [
    {
     "name": "stdout",
     "output_type": "stream",
     "text": [
      "Epoch 1/100\n",
      "1/1 [==============================] - 0s 317ms/step - loss: 13.3473 - mae: 13.3473\n",
      "Epoch 2/100\n",
      "1/1 [==============================] - 0s 6ms/step - loss: 13.2148 - mae: 13.2148\n",
      "Epoch 3/100\n",
      "1/1 [==============================] - 0s 4ms/step - loss: 13.0823 - mae: 13.0823\n",
      "Epoch 4/100\n",
      "1/1 [==============================] - 0s 4ms/step - loss: 12.9498 - mae: 12.9498\n",
      "Epoch 5/100\n",
      "1/1 [==============================] - 0s 4ms/step - loss: 12.8173 - mae: 12.8173\n",
      "Epoch 6/100\n",
      "1/1 [==============================] - 0s 5ms/step - loss: 12.6848 - mae: 12.6848\n",
      "Epoch 7/100\n",
      "1/1 [==============================] - 0s 5ms/step - loss: 12.5523 - mae: 12.5523\n",
      "Epoch 8/100\n",
      "1/1 [==============================] - 0s 6ms/step - loss: 12.4198 - mae: 12.4198\n",
      "Epoch 9/100\n",
      "1/1 [==============================] - 0s 5ms/step - loss: 12.2873 - mae: 12.2873\n",
      "Epoch 10/100\n",
      "1/1 [==============================] - 0s 5ms/step - loss: 12.1548 - mae: 12.1548\n",
      "Epoch 11/100\n",
      "1/1 [==============================] - 0s 5ms/step - loss: 12.0223 - mae: 12.0223\n",
      "Epoch 12/100\n",
      "1/1 [==============================] - 0s 6ms/step - loss: 11.8898 - mae: 11.8898\n",
      "Epoch 13/100\n",
      "1/1 [==============================] - 0s 4ms/step - loss: 11.7573 - mae: 11.7573\n",
      "Epoch 14/100\n",
      "1/1 [==============================] - 0s 5ms/step - loss: 11.6248 - mae: 11.6248\n",
      "Epoch 15/100\n",
      "1/1 [==============================] - 0s 6ms/step - loss: 11.4923 - mae: 11.4923\n",
      "Epoch 16/100\n",
      "1/1 [==============================] - 0s 5ms/step - loss: 11.3598 - mae: 11.3598\n",
      "Epoch 17/100\n",
      "1/1 [==============================] - 0s 6ms/step - loss: 11.2273 - mae: 11.2273\n",
      "Epoch 18/100\n",
      "1/1 [==============================] - 0s 5ms/step - loss: 11.0948 - mae: 11.0948\n",
      "Epoch 19/100\n",
      "1/1 [==============================] - 0s 6ms/step - loss: 10.9623 - mae: 10.9623\n",
      "Epoch 20/100\n",
      "1/1 [==============================] - 0s 5ms/step - loss: 10.8298 - mae: 10.8298\n",
      "Epoch 21/100\n",
      "1/1 [==============================] - 0s 6ms/step - loss: 10.6973 - mae: 10.6973\n",
      "Epoch 22/100\n",
      "1/1 [==============================] - 0s 6ms/step - loss: 10.5648 - mae: 10.5648\n",
      "Epoch 23/100\n",
      "1/1 [==============================] - 0s 7ms/step - loss: 10.4323 - mae: 10.4323\n",
      "Epoch 24/100\n",
      "1/1 [==============================] - 0s 6ms/step - loss: 10.2998 - mae: 10.2998\n",
      "Epoch 25/100\n",
      "1/1 [==============================] - 0s 5ms/step - loss: 10.1673 - mae: 10.1673\n",
      "Epoch 26/100\n",
      "1/1 [==============================] - 0s 5ms/step - loss: 10.0348 - mae: 10.0348\n",
      "Epoch 27/100\n",
      "1/1 [==============================] - 0s 6ms/step - loss: 9.9023 - mae: 9.9023\n",
      "Epoch 28/100\n",
      "1/1 [==============================] - 0s 5ms/step - loss: 9.7698 - mae: 9.7698\n",
      "Epoch 29/100\n",
      "1/1 [==============================] - 0s 6ms/step - loss: 9.6373 - mae: 9.6373\n",
      "Epoch 30/100\n",
      "1/1 [==============================] - 0s 5ms/step - loss: 9.5048 - mae: 9.5048\n",
      "Epoch 31/100\n",
      "1/1 [==============================] - 0s 6ms/step - loss: 9.3723 - mae: 9.3723\n",
      "Epoch 32/100\n",
      "1/1 [==============================] - 0s 5ms/step - loss: 9.2398 - mae: 9.2398\n",
      "Epoch 33/100\n",
      "1/1 [==============================] - 0s 6ms/step - loss: 9.1073 - mae: 9.1073\n",
      "Epoch 34/100\n",
      "1/1 [==============================] - 0s 5ms/step - loss: 8.9748 - mae: 8.9748\n",
      "Epoch 35/100\n",
      "1/1 [==============================] - 0s 6ms/step - loss: 8.8423 - mae: 8.8423\n",
      "Epoch 36/100\n",
      "1/1 [==============================] - 0s 6ms/step - loss: 8.7098 - mae: 8.7098\n",
      "Epoch 37/100\n",
      "1/1 [==============================] - 0s 5ms/step - loss: 8.5773 - mae: 8.5773\n",
      "Epoch 38/100\n",
      "1/1 [==============================] - 0s 5ms/step - loss: 8.4448 - mae: 8.4448\n",
      "Epoch 39/100\n",
      "1/1 [==============================] - 0s 5ms/step - loss: 8.3123 - mae: 8.3123\n",
      "Epoch 40/100\n",
      "1/1 [==============================] - 0s 6ms/step - loss: 8.1798 - mae: 8.1798\n",
      "Epoch 41/100\n",
      "1/1 [==============================] - 0s 5ms/step - loss: 8.0473 - mae: 8.0473\n",
      "Epoch 42/100\n",
      "1/1 [==============================] - 0s 5ms/step - loss: 7.9148 - mae: 7.9148\n",
      "Epoch 43/100\n",
      "1/1 [==============================] - 0s 5ms/step - loss: 7.7823 - mae: 7.7823\n",
      "Epoch 44/100\n",
      "1/1 [==============================] - 0s 5ms/step - loss: 7.6498 - mae: 7.6498\n",
      "Epoch 45/100\n",
      "1/1 [==============================] - 0s 5ms/step - loss: 7.5173 - mae: 7.5173\n",
      "Epoch 46/100\n",
      "1/1 [==============================] - 0s 6ms/step - loss: 7.3848 - mae: 7.3848\n",
      "Epoch 47/100\n",
      "1/1 [==============================] - 0s 5ms/step - loss: 7.2523 - mae: 7.2523\n",
      "Epoch 48/100\n",
      "1/1 [==============================] - 0s 6ms/step - loss: 7.1475 - mae: 7.1475\n",
      "Epoch 49/100\n",
      "1/1 [==============================] - 0s 6ms/step - loss: 7.1419 - mae: 7.1419\n",
      "Epoch 50/100\n",
      "1/1 [==============================] - 0s 5ms/step - loss: 7.1363 - mae: 7.1363\n",
      "Epoch 51/100\n",
      "1/1 [==============================] - 0s 4ms/step - loss: 7.1306 - mae: 7.1306\n",
      "Epoch 52/100\n",
      "1/1 [==============================] - 0s 4ms/step - loss: 7.1250 - mae: 7.1250\n",
      "Epoch 53/100\n",
      "1/1 [==============================] - 0s 4ms/step - loss: 7.1194 - mae: 7.1194\n",
      "Epoch 54/100\n",
      "1/1 [==============================] - 0s 5ms/step - loss: 7.1138 - mae: 7.1138\n",
      "Epoch 55/100\n",
      "1/1 [==============================] - 0s 4ms/step - loss: 7.1081 - mae: 7.1081\n",
      "Epoch 56/100\n",
      "1/1 [==============================] - 0s 4ms/step - loss: 7.1025 - mae: 7.1025\n",
      "Epoch 57/100\n",
      "1/1 [==============================] - 0s 4ms/step - loss: 7.0969 - mae: 7.0969\n",
      "Epoch 58/100\n",
      "1/1 [==============================] - 0s 4ms/step - loss: 7.0913 - mae: 7.0913\n",
      "Epoch 59/100\n",
      "1/1 [==============================] - 0s 5ms/step - loss: 7.0856 - mae: 7.0856\n",
      "Epoch 60/100\n",
      "1/1 [==============================] - 0s 4ms/step - loss: 7.0800 - mae: 7.0800\n",
      "Epoch 61/100\n",
      "1/1 [==============================] - 0s 5ms/step - loss: 7.0744 - mae: 7.0744\n",
      "Epoch 62/100\n",
      "1/1 [==============================] - 0s 4ms/step - loss: 7.0688 - mae: 7.0688\n",
      "Epoch 63/100\n",
      "1/1 [==============================] - 0s 5ms/step - loss: 7.0631 - mae: 7.0631\n",
      "Epoch 64/100\n",
      "1/1 [==============================] - 0s 5ms/step - loss: 7.0575 - mae: 7.0575\n",
      "Epoch 65/100\n",
      "1/1 [==============================] - 0s 5ms/step - loss: 7.0519 - mae: 7.0519\n",
      "Epoch 66/100\n",
      "1/1 [==============================] - 0s 5ms/step - loss: 7.0463 - mae: 7.0463\n",
      "Epoch 67/100\n",
      "1/1 [==============================] - 0s 5ms/step - loss: 7.0406 - mae: 7.0406\n",
      "Epoch 68/100\n",
      "1/1 [==============================] - 0s 5ms/step - loss: 7.0350 - mae: 7.0350\n",
      "Epoch 69/100\n",
      "1/1 [==============================] - 0s 4ms/step - loss: 7.0294 - mae: 7.0294\n",
      "Epoch 70/100\n",
      "1/1 [==============================] - 0s 5ms/step - loss: 7.0238 - mae: 7.0238\n",
      "Epoch 71/100\n",
      "1/1 [==============================] - 0s 4ms/step - loss: 7.0181 - mae: 7.0181\n",
      "Epoch 72/100\n",
      "1/1 [==============================] - 0s 4ms/step - loss: 7.0125 - mae: 7.0125\n",
      "Epoch 73/100\n",
      "1/1 [==============================] - 0s 4ms/step - loss: 7.0069 - mae: 7.0069\n",
      "Epoch 74/100\n",
      "1/1 [==============================] - 0s 5ms/step - loss: 7.0013 - mae: 7.0013\n",
      "Epoch 75/100\n",
      "1/1 [==============================] - 0s 5ms/step - loss: 6.9956 - mae: 6.9956\n",
      "Epoch 76/100\n",
      "1/1 [==============================] - 0s 7ms/step - loss: 6.9900 - mae: 6.9900\n",
      "Epoch 77/100\n",
      "1/1 [==============================] - 0s 5ms/step - loss: 6.9844 - mae: 6.9844\n",
      "Epoch 78/100\n",
      "1/1 [==============================] - 0s 5ms/step - loss: 6.9788 - mae: 6.9788\n",
      "Epoch 79/100\n",
      "1/1 [==============================] - 0s 4ms/step - loss: 6.9731 - mae: 6.9731\n",
      "Epoch 80/100\n",
      "1/1 [==============================] - 0s 4ms/step - loss: 6.9675 - mae: 6.9675\n",
      "Epoch 81/100\n",
      "1/1 [==============================] - 0s 5ms/step - loss: 6.9619 - mae: 6.9619\n",
      "Epoch 82/100\n",
      "1/1 [==============================] - 0s 4ms/step - loss: 6.9563 - mae: 6.9563\n",
      "Epoch 83/100\n",
      "1/1 [==============================] - 0s 4ms/step - loss: 6.9506 - mae: 6.9506\n",
      "Epoch 84/100\n",
      "1/1 [==============================] - 0s 4ms/step - loss: 6.9450 - mae: 6.9450\n",
      "Epoch 85/100\n",
      "1/1 [==============================] - 0s 4ms/step - loss: 6.9394 - mae: 6.9394\n",
      "Epoch 86/100\n",
      "1/1 [==============================] - 0s 4ms/step - loss: 6.9338 - mae: 6.9338\n",
      "Epoch 87/100\n",
      "1/1 [==============================] - 0s 4ms/step - loss: 6.9281 - mae: 6.9281\n",
      "Epoch 88/100\n",
      "1/1 [==============================] - 0s 5ms/step - loss: 6.9225 - mae: 6.9225\n",
      "Epoch 89/100\n",
      "1/1 [==============================] - 0s 5ms/step - loss: 6.9169 - mae: 6.9169\n",
      "Epoch 90/100\n",
      "1/1 [==============================] - 0s 4ms/step - loss: 6.9113 - mae: 6.9113\n",
      "Epoch 91/100\n",
      "1/1 [==============================] - 0s 4ms/step - loss: 6.9056 - mae: 6.9056\n",
      "Epoch 92/100\n",
      "1/1 [==============================] - 0s 5ms/step - loss: 6.9000 - mae: 6.9000\n",
      "Epoch 93/100\n",
      "1/1 [==============================] - 0s 4ms/step - loss: 6.8944 - mae: 6.8944\n",
      "Epoch 94/100\n",
      "1/1 [==============================] - 0s 4ms/step - loss: 6.8888 - mae: 6.8888\n",
      "Epoch 95/100\n",
      "1/1 [==============================] - 0s 3ms/step - loss: 6.8831 - mae: 6.8831\n",
      "Epoch 96/100\n",
      "1/1 [==============================] - 0s 4ms/step - loss: 6.8775 - mae: 6.8775\n",
      "Epoch 97/100\n",
      "1/1 [==============================] - 0s 5ms/step - loss: 6.8719 - mae: 6.8719\n",
      "Epoch 98/100\n",
      "1/1 [==============================] - 0s 4ms/step - loss: 6.8663 - mae: 6.8663\n",
      "Epoch 99/100\n",
      "1/1 [==============================] - 0s 4ms/step - loss: 6.8606 - mae: 6.8606\n",
      "Epoch 100/100\n",
      "1/1 [==============================] - 0s 4ms/step - loss: 6.8550 - mae: 6.8550\n"
     ]
    },
    {
     "data": {
      "text/plain": "<keras.callbacks.History at 0x7fb2a457c050>"
     },
     "execution_count": 18,
     "metadata": {},
     "output_type": "execute_result"
    }
   ],
   "source": [
    "# Let's rebuild our model\n",
    "\n",
    "# 1. Create the model\n",
    "model = tf.keras.Sequential([\n",
    "    tf.keras.layers.Dense(1)\n",
    "])\n",
    "\n",
    "# 2. Compile the model\n",
    "model.compile(loss=tf.keras.losses.mae,\n",
    "              optimizer=tf.keras.optimizers.SGD(),\n",
    "              metrics=[\"mae\"])\n",
    "\n",
    "# 3. Fit the model (this time we'll train for longer)\n",
    "model.fit(tf.expand_dims(X, axis=-1), y, epochs=100)"
   ],
   "metadata": {
    "collapsed": false,
    "ExecuteTime": {
     "end_time": "2023-09-29T11:32:12.793396311Z",
     "start_time": "2023-09-29T11:32:11.158059212Z"
    }
   },
   "id": "b26232423384ab79"
  },
  {
   "cell_type": "code",
   "execution_count": 19,
   "outputs": [
    {
     "data": {
      "text/plain": "(<tf.Tensor: shape=(8,), dtype=float32, numpy=array([-7., -4., -1.,  2.,  5.,  8., 11., 14.], dtype=float32)>,\n <tf.Tensor: shape=(8,), dtype=float32, numpy=array([ 3.,  6.,  9., 12., 15., 18., 21., 24.], dtype=float32)>)"
     },
     "execution_count": 19,
     "metadata": {},
     "output_type": "execute_result"
    }
   ],
   "source": [
    "# Reminder ourselves of the data\n",
    "X, y"
   ],
   "metadata": {
    "collapsed": false,
    "ExecuteTime": {
     "end_time": "2023-09-29T11:32:12.793809147Z",
     "start_time": "2023-09-29T11:32:12.197642237Z"
    }
   },
   "id": "e9b4e45adea19edc"
  },
  {
   "cell_type": "code",
   "execution_count": 20,
   "outputs": [
    {
     "name": "stdout",
     "output_type": "stream",
     "text": [
      "1/1 [==============================] - 0s 60ms/step\n"
     ]
    },
    {
     "data": {
      "text/plain": "array([[29.5742]], dtype=float32)"
     },
     "execution_count": 20,
     "metadata": {},
     "output_type": "execute_result"
    }
   ],
   "source": [
    "# Let's see if our model's prediction has improved...\n",
    "model.predict([17.0])"
   ],
   "metadata": {
    "collapsed": false,
    "ExecuteTime": {
     "end_time": "2023-09-29T11:32:13.381391231Z",
     "start_time": "2023-09-29T11:32:12.201534829Z"
    }
   },
   "id": "4fa1532cec878a87"
  },
  {
   "cell_type": "code",
   "execution_count": 21,
   "outputs": [
    {
     "name": "stdout",
     "output_type": "stream",
     "text": [
      "Epoch 1/100\n",
      "1/1 [==============================] - 1s 536ms/step - loss: 14.4448 - mae: 14.4448\n",
      "Epoch 2/100\n",
      "1/1 [==============================] - 0s 18ms/step - loss: 13.7506 - mae: 13.7506\n",
      "Epoch 3/100\n",
      "1/1 [==============================] - 0s 11ms/step - loss: 13.0637 - mae: 13.0637\n",
      "Epoch 4/100\n",
      "1/1 [==============================] - 0s 12ms/step - loss: 12.3825 - mae: 12.3825\n",
      "Epoch 5/100\n",
      "1/1 [==============================] - 0s 6ms/step - loss: 11.7051 - mae: 11.7051\n",
      "Epoch 6/100\n",
      "1/1 [==============================] - 0s 7ms/step - loss: 11.0291 - mae: 11.0291\n",
      "Epoch 7/100\n",
      "1/1 [==============================] - 0s 29ms/step - loss: 10.3524 - mae: 10.3524\n",
      "Epoch 8/100\n",
      "1/1 [==============================] - 0s 15ms/step - loss: 9.6721 - mae: 9.6721\n",
      "Epoch 9/100\n",
      "1/1 [==============================] - 0s 9ms/step - loss: 8.9852 - mae: 8.9852\n",
      "Epoch 10/100\n",
      "1/1 [==============================] - 0s 12ms/step - loss: 8.2884 - mae: 8.2884\n",
      "Epoch 11/100\n",
      "1/1 [==============================] - 0s 10ms/step - loss: 7.5785 - mae: 7.5785\n",
      "Epoch 12/100\n",
      "1/1 [==============================] - 0s 12ms/step - loss: 6.8521 - mae: 6.8521\n",
      "Epoch 13/100\n",
      "1/1 [==============================] - 0s 12ms/step - loss: 6.6400 - mae: 6.6400\n",
      "Epoch 14/100\n",
      "1/1 [==============================] - 0s 8ms/step - loss: 6.9886 - mae: 6.9886\n",
      "Epoch 15/100\n",
      "1/1 [==============================] - 0s 10ms/step - loss: 7.2769 - mae: 7.2769\n",
      "Epoch 16/100\n",
      "1/1 [==============================] - 0s 11ms/step - loss: 7.6605 - mae: 7.6605\n",
      "Epoch 17/100\n",
      "1/1 [==============================] - 0s 20ms/step - loss: 7.7976 - mae: 7.7976\n",
      "Epoch 18/100\n",
      "1/1 [==============================] - 0s 5ms/step - loss: 7.7447 - mae: 7.7447\n",
      "Epoch 19/100\n",
      "1/1 [==============================] - 0s 6ms/step - loss: 7.5460 - mae: 7.5460\n",
      "Epoch 20/100\n",
      "1/1 [==============================] - 0s 15ms/step - loss: 7.2356 - mae: 7.2356\n",
      "Epoch 21/100\n",
      "1/1 [==============================] - 0s 10ms/step - loss: 6.8637 - mae: 6.8637\n",
      "Epoch 22/100\n",
      "1/1 [==============================] - 0s 17ms/step - loss: 6.6047 - mae: 6.6047\n",
      "Epoch 23/100\n",
      "1/1 [==============================] - 0s 11ms/step - loss: 6.3367 - mae: 6.3367\n",
      "Epoch 24/100\n",
      "1/1 [==============================] - 0s 22ms/step - loss: 6.0626 - mae: 6.0626\n",
      "Epoch 25/100\n",
      "1/1 [==============================] - 0s 15ms/step - loss: 5.9940 - mae: 5.9940\n",
      "Epoch 26/100\n",
      "1/1 [==============================] - 0s 21ms/step - loss: 5.9572 - mae: 5.9572\n",
      "Epoch 27/100\n",
      "1/1 [==============================] - 0s 16ms/step - loss: 6.1474 - mae: 6.1474\n",
      "Epoch 28/100\n",
      "1/1 [==============================] - 0s 21ms/step - loss: 6.2351 - mae: 6.2351\n",
      "Epoch 29/100\n",
      "1/1 [==============================] - 0s 16ms/step - loss: 6.2307 - mae: 6.2307\n",
      "Epoch 30/100\n",
      "1/1 [==============================] - 0s 15ms/step - loss: 6.1450 - mae: 6.1450\n",
      "Epoch 31/100\n",
      "1/1 [==============================] - 0s 15ms/step - loss: 5.9859 - mae: 5.9859\n",
      "Epoch 32/100\n",
      "1/1 [==============================] - 0s 15ms/step - loss: 5.7592 - mae: 5.7592\n",
      "Epoch 33/100\n",
      "1/1 [==============================] - 0s 15ms/step - loss: 5.4685 - mae: 5.4685\n",
      "Epoch 34/100\n",
      "1/1 [==============================] - 0s 14ms/step - loss: 5.3178 - mae: 5.3178\n",
      "Epoch 35/100\n",
      "1/1 [==============================] - 0s 15ms/step - loss: 5.1988 - mae: 5.1988\n",
      "Epoch 36/100\n",
      "1/1 [==============================] - 0s 16ms/step - loss: 5.2242 - mae: 5.2242\n",
      "Epoch 37/100\n",
      "1/1 [==============================] - 0s 16ms/step - loss: 5.2401 - mae: 5.2401\n",
      "Epoch 38/100\n",
      "1/1 [==============================] - 0s 16ms/step - loss: 5.2143 - mae: 5.2143\n",
      "Epoch 39/100\n",
      "1/1 [==============================] - 0s 16ms/step - loss: 5.1493 - mae: 5.1493\n",
      "Epoch 40/100\n",
      "1/1 [==============================] - 0s 16ms/step - loss: 5.0477 - mae: 5.0477\n",
      "Epoch 41/100\n",
      "1/1 [==============================] - 0s 17ms/step - loss: 4.9119 - mae: 4.9119\n",
      "Epoch 42/100\n",
      "1/1 [==============================] - 0s 16ms/step - loss: 4.7443 - mae: 4.7443\n",
      "Epoch 43/100\n",
      "1/1 [==============================] - 0s 16ms/step - loss: 4.5472 - mae: 4.5472\n",
      "Epoch 44/100\n",
      "1/1 [==============================] - 0s 16ms/step - loss: 4.3225 - mae: 4.3225\n",
      "Epoch 45/100\n",
      "1/1 [==============================] - 0s 16ms/step - loss: 4.1400 - mae: 4.1400\n",
      "Epoch 46/100\n",
      "1/1 [==============================] - 0s 17ms/step - loss: 4.0349 - mae: 4.0349\n",
      "Epoch 47/100\n",
      "1/1 [==============================] - 0s 16ms/step - loss: 3.9645 - mae: 3.9645\n",
      "Epoch 48/100\n",
      "1/1 [==============================] - 0s 16ms/step - loss: 3.8803 - mae: 3.8803\n",
      "Epoch 49/100\n",
      "1/1 [==============================] - 0s 17ms/step - loss: 3.6818 - mae: 3.6818\n",
      "Epoch 50/100\n",
      "1/1 [==============================] - 0s 19ms/step - loss: 3.4567 - mae: 3.4567\n",
      "Epoch 51/100\n",
      "1/1 [==============================] - 0s 33ms/step - loss: 3.2755 - mae: 3.2755\n",
      "Epoch 52/100\n",
      "1/1 [==============================] - 0s 10ms/step - loss: 3.1425 - mae: 3.1425\n",
      "Epoch 53/100\n",
      "1/1 [==============================] - 0s 12ms/step - loss: 3.0208 - mae: 3.0208\n",
      "Epoch 54/100\n",
      "1/1 [==============================] - 0s 17ms/step - loss: 2.8474 - mae: 2.8474\n",
      "Epoch 55/100\n",
      "1/1 [==============================] - 0s 18ms/step - loss: 2.6241 - mae: 2.6241\n",
      "Epoch 56/100\n",
      "1/1 [==============================] - 0s 8ms/step - loss: 2.3527 - mae: 2.3527\n",
      "Epoch 57/100\n",
      "1/1 [==============================] - 0s 16ms/step - loss: 2.1600 - mae: 2.1600\n",
      "Epoch 58/100\n",
      "1/1 [==============================] - 0s 17ms/step - loss: 2.0877 - mae: 2.0877\n",
      "Epoch 59/100\n",
      "1/1 [==============================] - 0s 16ms/step - loss: 1.8923 - mae: 1.8923\n",
      "Epoch 60/100\n",
      "1/1 [==============================] - 0s 17ms/step - loss: 1.5489 - mae: 1.5489\n",
      "Epoch 61/100\n",
      "1/1 [==============================] - 0s 26ms/step - loss: 1.2526 - mae: 1.2526\n",
      "Epoch 62/100\n",
      "1/1 [==============================] - 0s 22ms/step - loss: 1.1154 - mae: 1.1154\n",
      "Epoch 63/100\n",
      "1/1 [==============================] - 0s 19ms/step - loss: 0.8646 - mae: 0.8646\n",
      "Epoch 64/100\n",
      "1/1 [==============================] - 0s 14ms/step - loss: 0.4642 - mae: 0.4642\n",
      "Epoch 65/100\n",
      "1/1 [==============================] - 0s 14ms/step - loss: 0.3877 - mae: 0.3877\n",
      "Epoch 66/100\n",
      "1/1 [==============================] - 0s 14ms/step - loss: 0.5291 - mae: 0.5291\n",
      "Epoch 67/100\n",
      "1/1 [==============================] - 0s 15ms/step - loss: 0.4514 - mae: 0.4514\n",
      "Epoch 68/100\n",
      "1/1 [==============================] - 0s 22ms/step - loss: 0.7193 - mae: 0.7193\n",
      "Epoch 69/100\n",
      "1/1 [==============================] - 0s 15ms/step - loss: 0.9811 - mae: 0.9811\n",
      "Epoch 70/100\n",
      "1/1 [==============================] - 0s 13ms/step - loss: 1.0201 - mae: 1.0201\n",
      "Epoch 71/100\n",
      "1/1 [==============================] - 0s 11ms/step - loss: 0.8627 - mae: 0.8627\n",
      "Epoch 72/100\n",
      "1/1 [==============================] - 0s 12ms/step - loss: 0.8847 - mae: 0.8847\n",
      "Epoch 73/100\n",
      "1/1 [==============================] - 0s 7ms/step - loss: 0.9735 - mae: 0.9735\n",
      "Epoch 74/100\n",
      "1/1 [==============================] - 0s 8ms/step - loss: 0.8556 - mae: 0.8556\n",
      "Epoch 75/100\n",
      "1/1 [==============================] - 0s 10ms/step - loss: 0.5879 - mae: 0.5879\n",
      "Epoch 76/100\n",
      "1/1 [==============================] - 0s 7ms/step - loss: 0.5907 - mae: 0.5907\n",
      "Epoch 77/100\n",
      "1/1 [==============================] - 0s 8ms/step - loss: 0.5359 - mae: 0.5359\n",
      "Epoch 78/100\n",
      "1/1 [==============================] - 0s 8ms/step - loss: 0.3205 - mae: 0.3205\n",
      "Epoch 79/100\n",
      "1/1 [==============================] - 0s 8ms/step - loss: 0.0409 - mae: 0.0409\n",
      "Epoch 80/100\n",
      "1/1 [==============================] - 0s 8ms/step - loss: 0.3816 - mae: 0.3816\n",
      "Epoch 81/100\n",
      "1/1 [==============================] - 0s 8ms/step - loss: 0.5383 - mae: 0.5383\n",
      "Epoch 82/100\n",
      "1/1 [==============================] - 0s 8ms/step - loss: 0.5269 - mae: 0.5269\n",
      "Epoch 83/100\n",
      "1/1 [==============================] - 0s 9ms/step - loss: 0.3673 - mae: 0.3673\n",
      "Epoch 84/100\n",
      "1/1 [==============================] - 0s 8ms/step - loss: 0.4152 - mae: 0.4152\n",
      "Epoch 85/100\n",
      "1/1 [==============================] - 0s 7ms/step - loss: 0.4896 - mae: 0.4896\n",
      "Epoch 86/100\n",
      "1/1 [==============================] - 0s 9ms/step - loss: 0.3104 - mae: 0.3104\n",
      "Epoch 87/100\n",
      "1/1 [==============================] - 0s 8ms/step - loss: 0.2025 - mae: 0.2025\n",
      "Epoch 88/100\n",
      "1/1 [==============================] - 0s 8ms/step - loss: 0.3454 - mae: 0.3454\n",
      "Epoch 89/100\n",
      "1/1 [==============================] - 0s 8ms/step - loss: 0.2432 - mae: 0.2432\n",
      "Epoch 90/100\n",
      "1/1 [==============================] - 0s 8ms/step - loss: 0.2326 - mae: 0.2326\n",
      "Epoch 91/100\n",
      "1/1 [==============================] - 0s 8ms/step - loss: 0.3697 - mae: 0.3697\n",
      "Epoch 92/100\n",
      "1/1 [==============================] - 0s 9ms/step - loss: 0.3023 - mae: 0.3023\n",
      "Epoch 93/100\n",
      "1/1 [==============================] - 0s 8ms/step - loss: 0.1083 - mae: 0.1083\n",
      "Epoch 94/100\n",
      "1/1 [==============================] - 0s 7ms/step - loss: 0.2784 - mae: 0.2784\n",
      "Epoch 95/100\n",
      "1/1 [==============================] - 0s 7ms/step - loss: 0.2190 - mae: 0.2190\n",
      "Epoch 96/100\n",
      "1/1 [==============================] - 0s 6ms/step - loss: 0.1159 - mae: 0.1159\n",
      "Epoch 97/100\n",
      "1/1 [==============================] - 0s 7ms/step - loss: 0.1641 - mae: 0.1641\n",
      "Epoch 98/100\n",
      "1/1 [==============================] - 0s 6ms/step - loss: 0.1739 - mae: 0.1739\n",
      "Epoch 99/100\n",
      "1/1 [==============================] - 0s 8ms/step - loss: 0.1645 - mae: 0.1645\n",
      "Epoch 100/100\n",
      "1/1 [==============================] - 0s 7ms/step - loss: 0.0704 - mae: 0.0704\n"
     ]
    },
    {
     "data": {
      "text/plain": "<keras.callbacks.History at 0x7fb2a438a990>"
     },
     "execution_count": 21,
     "metadata": {},
     "output_type": "execute_result"
    }
   ],
   "source": [
    "# Let's see if we can make another to improve our model\n",
    "\n",
    "# 1. Create the model (this time with an extra hidden layer with 100 hidden units)\n",
    "model = tf.keras.Sequential([\n",
    "    tf.keras.layers.Dense(50, activation=None),\n",
    "    tf.keras.layers.Dense(1)\n",
    "])\n",
    "\n",
    "# 2. Compile the model\n",
    "model.compile(loss=\"mae\",\n",
    "              optimizer=tf.keras.optimizers.Adam(learning_rate=0.01),\n",
    "              metrics=[\"mae\"])\n",
    "\n",
    "# 3. Fit the model\n",
    "model.fit(tf.expand_dims(X, axis=-1), y, epochs=100)"
   ],
   "metadata": {
    "collapsed": false,
    "ExecuteTime": {
     "end_time": "2023-09-29T11:32:17.122621622Z",
     "start_time": "2023-09-29T11:32:12.338127202Z"
    }
   },
   "id": "8b9aa4f166adf717"
  },
  {
   "cell_type": "code",
   "execution_count": 22,
   "outputs": [
    {
     "data": {
      "text/plain": "(<tf.Tensor: shape=(8,), dtype=float32, numpy=array([-7., -4., -1.,  2.,  5.,  8., 11., 14.], dtype=float32)>,\n <tf.Tensor: shape=(8,), dtype=float32, numpy=array([ 3.,  6.,  9., 12., 15., 18., 21., 24.], dtype=float32)>)"
     },
     "execution_count": 22,
     "metadata": {},
     "output_type": "execute_result"
    }
   ],
   "source": [
    "# Let's remind ourselves of the data\n",
    "X, y"
   ],
   "metadata": {
    "collapsed": false,
    "ExecuteTime": {
     "end_time": "2023-09-29T11:32:17.123020240Z",
     "start_time": "2023-09-29T11:32:15.421723166Z"
    }
   },
   "id": "6b5bd6ece9fcbd99"
  },
  {
   "cell_type": "code",
   "execution_count": 23,
   "outputs": [
    {
     "name": "stdout",
     "output_type": "stream",
     "text": [
      "1/1 [==============================] - 0s 63ms/step\n"
     ]
    },
    {
     "data": {
      "text/plain": "array([[27.010427]], dtype=float32)"
     },
     "execution_count": 23,
     "metadata": {},
     "output_type": "execute_result"
    }
   ],
   "source": [
    "# Let's  try to make a prediction\n",
    "model.predict([17.0])"
   ],
   "metadata": {
    "collapsed": false,
    "ExecuteTime": {
     "end_time": "2023-09-29T11:32:17.123598244Z",
     "start_time": "2023-09-29T11:32:15.464738505Z"
    }
   },
   "id": "a0f497158a07079a"
  },
  {
   "cell_type": "markdown",
   "source": [
    "## Evaluating a model\n",
    "\n",
    "In practice, a typical workflow you'll go through when building neural networks is:\n",
    "\n",
    "```\n",
    "Build a model -> fit it -> evaluate it -> tweak a model -> fit it -> evaluate it -> tweak a model -> fit it -> evaluate it...\n",
    "```\n",
    "\n"
   ],
   "metadata": {
    "collapsed": false
   },
   "id": "8586a632a5e30d87"
  },
  {
   "cell_type": "markdown",
   "source": [
    "When it comes to evaluation... there are 3 words you should memorize:\n",
    "\n",
    "> \"Visualize, visualize, visualize\"\n",
    "\n",
    "It's a good idea to visualize:\n",
    "* The data - what data are we working with? What does it look like?\n",
    "* The model itself - what does our model look like?\n",
    "* The training of a model - how does a model perform while it learns?\n",
    "* The predictions of the model - how do the predictions od a model line up against the ground truth (the original labels)?"
   ],
   "metadata": {
    "collapsed": false
   },
   "id": "b0557d4d9296152e"
  },
  {
   "cell_type": "code",
   "execution_count": 24,
   "outputs": [
    {
     "data": {
      "text/plain": "<tf.Tensor: shape=(50,), dtype=int32, numpy=\narray([-100,  -96,  -92,  -88,  -84,  -80,  -76,  -72,  -68,  -64,  -60,\n        -56,  -52,  -48,  -44,  -40,  -36,  -32,  -28,  -24,  -20,  -16,\n        -12,   -8,   -4,    0,    4,    8,   12,   16,   20,   24,   28,\n         32,   36,   40,   44,   48,   52,   56,   60,   64,   68,   72,\n         76,   80,   84,   88,   92,   96], dtype=int32)>"
     },
     "execution_count": 24,
     "metadata": {},
     "output_type": "execute_result"
    }
   ],
   "source": [
    "# Make a bigger dataset\n",
    "X = tf.range(-100, 100, 4)\n",
    "X"
   ],
   "metadata": {
    "collapsed": false,
    "ExecuteTime": {
     "end_time": "2023-09-29T11:32:17.123858132Z",
     "start_time": "2023-09-29T11:32:15.539465891Z"
    }
   },
   "id": "ebfdaf1ca49a3887"
  },
  {
   "cell_type": "code",
   "execution_count": 25,
   "outputs": [
    {
     "data": {
      "text/plain": "<tf.Tensor: shape=(50,), dtype=int32, numpy=\narray([-90, -86, -82, -78, -74, -70, -66, -62, -58, -54, -50, -46, -42,\n       -38, -34, -30, -26, -22, -18, -14, -10,  -6,  -2,   2,   6,  10,\n        14,  18,  22,  26,  30,  34,  38,  42,  46,  50,  54,  58,  62,\n        66,  70,  74,  78,  82,  86,  90,  94,  98, 102, 106], dtype=int32)>"
     },
     "execution_count": 25,
     "metadata": {},
     "output_type": "execute_result"
    }
   ],
   "source": [
    "# Make labels for the dataset\n",
    "y = X + 10\n",
    "y"
   ],
   "metadata": {
    "collapsed": false,
    "ExecuteTime": {
     "end_time": "2023-09-29T11:32:17.124105146Z",
     "start_time": "2023-09-29T11:32:15.581341521Z"
    }
   },
   "id": "5573573108e8addc"
  },
  {
   "cell_type": "code",
   "execution_count": 26,
   "outputs": [
    {
     "data": {
      "text/plain": "<matplotlib.collections.PathCollection at 0x7fb2a4293790>"
     },
     "execution_count": 26,
     "metadata": {},
     "output_type": "execute_result"
    },
    {
     "data": {
      "text/plain": "<Figure size 640x480 with 1 Axes>",
      "image/png": "[encoded data removed]"
     },
     "metadata": {},
     "output_type": "display_data"
    }
   ],
   "source": [
    "# Visualize the data\n",
    "import matplotlib.pyplot as plt\n",
    "\n",
    "plt.scatter(X, y)"
   ],
   "metadata": {
    "collapsed": false,
    "ExecuteTime": {
     "end_time": "2023-09-29T11:32:17.124741551Z",
     "start_time": "2023-09-29T11:32:15.581602291Z"
    }
   },
   "id": "819381cfdadb50fa"
  },
  {
   "cell_type": "markdown",
   "source": [
    "### The 3 sets...\n",
    "\n",
    "* **Training set** - the model learns from this data, which is typically 70-80% of total data you have available.\n",
    "* **Validation set** - the model gets tuned oh this data, which is typically 10-15% of the data available.\n",
    "* **Test set** - the model gets evaluated on this data to test what is has learned, this set is typically 10-15% of the total data available."
   ],
   "metadata": {
    "collapsed": false
   },
   "id": "811bf5a27ae79738"
  },
  {
   "cell_type": "code",
   "execution_count": 27,
   "outputs": [
    {
     "data": {
      "text/plain": "50"
     },
     "execution_count": 27,
     "metadata": {},
     "output_type": "execute_result"
    }
   ],
   "source": [
    "# Check the length of how many samples we have\n",
    "len(X)"
   ],
   "metadata": {
    "collapsed": false,
    "ExecuteTime": {
     "end_time": "2023-09-29T11:32:17.124993212Z",
     "start_time": "2023-09-29T11:32:15.838073120Z"
    }
   },
   "id": "65fe1205cafb59"
  },
  {
   "cell_type": "code",
   "execution_count": 28,
   "outputs": [
    {
     "data": {
      "text/plain": "(40, 10, 40, 10)"
     },
     "execution_count": 28,
     "metadata": {},
     "output_type": "execute_result"
    }
   ],
   "source": [
    "# Split the data into train and test sets\n",
    "X_train = X[:40] # first 40 are training samples (80% of the data)\n",
    "y_train = y[:40] \n",
    "X_test = X[40:] # last 10 are testing samples (20% of the data)\n",
    "y_test = y[40:]\n",
    "\n",
    "len(X_train), len(X_test), len(y_train), len(y_test)"
   ],
   "metadata": {
    "collapsed": false,
    "ExecuteTime": {
     "end_time": "2023-09-29T11:32:17.132330428Z",
     "start_time": "2023-09-29T11:32:15.838415321Z"
    }
   },
   "id": "6d4cae941d61ab0d"
  },
  {
   "cell_type": "markdown",
   "source": [
    "### Visualing the data\n",
    "\n",
    "Now we've got our data in training and test sets... let's visualize it again!"
   ],
   "metadata": {
    "collapsed": false
   },
   "id": "83c7526489cf18e8"
  },
  {
   "cell_type": "code",
   "execution_count": 29,
   "outputs": [
    {
     "data": {
      "text/plain": "<Figure size 1000x700 with 1 Axes>",
      "image/png": "[encoded data removed]"
     },
     "metadata": {},
     "output_type": "display_data"
    }
   ],
   "source": [
    "plt.figure(figsize=(10, 7))\n",
    "# Plot training data in blue\n",
    "plt.scatter(X_train, y_train, c=\"b\", label=\"Training data\")\n",
    "# Plot test data in green\n",
    "plt.scatter(X_test, y_test, c=\"g\", label=\"Testing data\")\n",
    "# Show a legend\n",
    "plt.legend();"
   ],
   "metadata": {
    "collapsed": false,
    "ExecuteTime": {
     "end_time": "2023-09-29T11:32:17.133528727Z",
     "start_time": "2023-09-29T11:32:15.838623289Z"
    }
   },
   "id": "ab7249faa73bbe9"
  },
  {
   "cell_type": "code",
   "execution_count": 30,
   "outputs": [],
   "source": [
    "# Let's have a look at how to build a neural network for our data\n",
    "\n",
    "# 1. Create a model\n",
    "model = tf.keras.Sequential([\n",
    "    tf.keras.layers.Dense(1)\n",
    "])\n",
    "\n",
    "# 2. Compile the model\n",
    "model.compile(loss=tf.keras.losses.mae,\n",
    "              optimizer=tf.keras.optimizers.SGD(),\n",
    "              metrics=[\"mae\"])\n",
    "\n",
    "# 3. Fit the model\n",
    "# model.fit(tf.expand_dims(X_train, axis=-1), y_train, epochs=100)"
   ],
   "metadata": {
    "collapsed": false,
    "ExecuteTime": {
     "end_time": "2023-09-29T11:32:17.133722135Z",
     "start_time": "2023-09-29T11:32:16.055107755Z"
    }
   },
   "id": "d8ffee7c2a8e42f7"
  },
  {
   "cell_type": "markdown",
   "source": [
    "### Visualizing the model"
   ],
   "metadata": {
    "collapsed": false
   },
   "id": "898b10b4eeedd11e"
  },
  {
   "cell_type": "code",
   "execution_count": 31,
   "outputs": [
    {
     "ename": "ValueError",
     "evalue": "This model has not yet been built. Build the model first by calling `build()` or by calling the model on a batch of data.",
     "output_type": "error",
     "traceback": [
      "\u001B[0;31m---------------------------------------------------------------------------\u001B[0m",
      "\u001B[0;31mValueError\u001B[0m                                Traceback (most recent call last)",
      "Cell \u001B[0;32mIn[31], line 1\u001B[0m\n\u001B[0;32m----> 1\u001B[0m model\u001B[38;5;241m.\u001B[39msummary()\n",
      "File \u001B[0;32m~/anaconda3/envs/tensorflow-zero-to-master/lib/python3.11/site-packages/keras/engine/training.py:3229\u001B[0m, in \u001B[0;36mModel.summary\u001B[0;34m(self, line_length, positions, print_fn, expand_nested, show_trainable, layer_range)\u001B[0m\n\u001B[1;32m   3198\u001B[0m \u001B[38;5;250m\u001B[39m\u001B[38;5;124;03m\"\"\"Prints a string summary of the network.\u001B[39;00m\n\u001B[1;32m   3199\u001B[0m \n\u001B[1;32m   3200\u001B[0m \u001B[38;5;124;03mArgs:\u001B[39;00m\n\u001B[0;32m   (...)\u001B[0m\n\u001B[1;32m   3226\u001B[0m \u001B[38;5;124;03m    ValueError: if `summary()` is called before the model is built.\u001B[39;00m\n\u001B[1;32m   3227\u001B[0m \u001B[38;5;124;03m\"\"\"\u001B[39;00m\n\u001B[1;32m   3228\u001B[0m \u001B[38;5;28;01mif\u001B[39;00m \u001B[38;5;129;01mnot\u001B[39;00m \u001B[38;5;28mself\u001B[39m\u001B[38;5;241m.\u001B[39mbuilt:\n\u001B[0;32m-> 3229\u001B[0m     \u001B[38;5;28;01mraise\u001B[39;00m \u001B[38;5;167;01mValueError\u001B[39;00m(\n\u001B[1;32m   3230\u001B[0m         \u001B[38;5;124m\"\u001B[39m\u001B[38;5;124mThis model has not yet been built. \u001B[39m\u001B[38;5;124m\"\u001B[39m\n\u001B[1;32m   3231\u001B[0m         \u001B[38;5;124m\"\u001B[39m\u001B[38;5;124mBuild the model first by calling `build()` or by calling \u001B[39m\u001B[38;5;124m\"\u001B[39m\n\u001B[1;32m   3232\u001B[0m         \u001B[38;5;124m\"\u001B[39m\u001B[38;5;124mthe model on a batch of data.\u001B[39m\u001B[38;5;124m\"\u001B[39m\n\u001B[1;32m   3233\u001B[0m     )\n\u001B[1;32m   3234\u001B[0m layer_utils\u001B[38;5;241m.\u001B[39mprint_summary(\n\u001B[1;32m   3235\u001B[0m     \u001B[38;5;28mself\u001B[39m,\n\u001B[1;32m   3236\u001B[0m     line_length\u001B[38;5;241m=\u001B[39mline_length,\n\u001B[0;32m   (...)\u001B[0m\n\u001B[1;32m   3241\u001B[0m     layer_range\u001B[38;5;241m=\u001B[39mlayer_range,\n\u001B[1;32m   3242\u001B[0m )\n",
      "\u001B[0;31mValueError\u001B[0m: This model has not yet been built. Build the model first by calling `build()` or by calling the model on a batch of data."
     ]
    }
   ],
   "source": [
    "model.summary()"
   ],
   "metadata": {
    "collapsed": false,
    "ExecuteTime": {
     "end_time": "2023-09-29T11:32:17.135257762Z",
     "start_time": "2023-09-29T11:32:16.066011550Z"
    }
   },
   "id": "5c62d9de9c0b5118"
  },
  {
   "cell_type": "code",
   "execution_count": 32,
   "outputs": [
    {
     "data": {
      "text/plain": "(<tf.Tensor: shape=(), dtype=int32, numpy=-100>,\n <tf.Tensor: shape=(), dtype=int32, numpy=-90>)"
     },
     "execution_count": 32,
     "metadata": {},
     "output_type": "execute_result"
    }
   ],
   "source": [
    "X[0], y[0]"
   ],
   "metadata": {
    "collapsed": false,
    "ExecuteTime": {
     "end_time": "2023-09-29T11:32:33.785516949Z",
     "start_time": "2023-09-29T11:32:33.742165112Z"
    }
   },
   "id": "46ca08d5fb0a5d65"
  },
  {
   "cell_type": "code",
   "execution_count": 33,
   "outputs": [],
   "source": [
    "# Let's create a model which builds automatically by defining the input_shape argument in the first layer\n",
    "tf.random.set_seed(42)\n",
    "\n",
    "# 1. Create a model (same as above)\n",
    "model = tf.keras.Sequential([\n",
    "    tf.keras.layers.Dense(10, input_shape=[1], name=\"input_layer\"),\n",
    "    tf.keras.layers.Dense(1, name=\"output_layer\")\n",
    "], name=\"model_1\")\n",
    "\n",
    "# 2. Compile the model (same as above)\n",
    "model.compile(loss=tf.keras.losses.mae,\n",
    "              optimizer=tf.keras.optimizers.SGD(),\n",
    "              metrics=[\"mae\"])"
   ],
   "metadata": {
    "collapsed": false,
    "ExecuteTime": {
     "end_time": "2023-09-29T11:32:35.416818892Z",
     "start_time": "2023-09-29T11:32:35.288452689Z"
    }
   },
   "id": "42cd0d927d2d8699"
  },
  {
   "cell_type": "code",
   "execution_count": 34,
   "outputs": [
    {
     "name": "stdout",
     "output_type": "stream",
     "text": [
      "Model: \"model_1\"\n",
      "_________________________________________________________________\n",
      " Layer (type)                Output Shape              Param #   \n",
      "=================================================================\n",
      " input_layer (Dense)         (None, 10)                20        \n",
      "                                                                 \n",
      " output_layer (Dense)        (None, 1)                 11        \n",
      "                                                                 \n",
      "=================================================================\n",
      "Total params: 31\n",
      "Trainable params: 31\n",
      "Non-trainable params: 0\n",
      "_________________________________________________________________\n"
     ]
    }
   ],
   "source": [
    "model.summary()"
   ],
   "metadata": {
    "collapsed": false,
    "ExecuteTime": {
     "end_time": "2023-09-29T11:32:36.956318975Z",
     "start_time": "2023-09-29T11:32:36.912216205Z"
    }
   },
   "id": "12813b7ae6d41c34"
  },
  {
   "cell_type": "markdown",
   "source": [
    "* Total params - total number of parameters in the model.\n",
    "* Trainable parameters - these are the parameters (patterns) the model can update as it trains.\n",
    "* Non-trainable params - these parameters aren't updated during training (this is typical when you bring in already learn patterns or parameters from other models during **transfer learning**)\n",
    "\n",
    "**Resource:** For a more in-depth overview of the trainable parameters within a layer, check out [MIT's introduction to deep learning video](https://www.youtube.com/watch?v=QDX-1M5Nj7s&list=PLtBw6njQRU-rwp5__7C0oIVt26ZgjG9NI&index=2).\n",
    "\n",
    "**Exercise:** Try playing around with the number of hidden units in the dense layer, see how that effects the number of parameters (total and trainable) by calling `model.summary`."
   ],
   "metadata": {
    "collapsed": false
   },
   "id": "fe2ddf6925ef3e1b"
  },
  {
   "cell_type": "code",
   "execution_count": 35,
   "outputs": [
    {
     "data": {
      "text/plain": "<keras.callbacks.History at 0x7fb28c216750>"
     },
     "execution_count": 35,
     "metadata": {},
     "output_type": "execute_result"
    }
   ],
   "source": [
    "# Let's fit our model to the training data\n",
    "model.fit(X_train, y_train, epochs=100, verbose=0)"
   ],
   "metadata": {
    "collapsed": false,
    "ExecuteTime": {
     "end_time": "2023-09-29T11:32:42.356820856Z",
     "start_time": "2023-09-29T11:32:40.769518923Z"
    }
   },
   "id": "6cae2a5b5d81a33c"
  },
  {
   "cell_type": "code",
   "execution_count": 36,
   "outputs": [
    {
     "name": "stdout",
     "output_type": "stream",
     "text": [
      "Model: \"model_1\"\n",
      "_________________________________________________________________\n",
      " Layer (type)                Output Shape              Param #   \n",
      "=================================================================\n",
      " input_layer (Dense)         (None, 10)                20        \n",
      "                                                                 \n",
      " output_layer (Dense)        (None, 1)                 11        \n",
      "                                                                 \n",
      "=================================================================\n",
      "Total params: 31\n",
      "Trainable params: 31\n",
      "Non-trainable params: 0\n",
      "_________________________________________________________________\n"
     ]
    }
   ],
   "source": [
    "# Get a summary of our model\n",
    "model.summary()"
   ],
   "metadata": {
    "collapsed": false,
    "ExecuteTime": {
     "end_time": "2023-09-29T11:32:43.714248343Z",
     "start_time": "2023-09-29T11:32:43.620797451Z"
    }
   },
   "id": "ef79d837a807dbff"
  },
  {
   "cell_type": "code",
   "execution_count": 37,
   "outputs": [
    {
     "data": {
      "image/png": "[encoded data removed]",
      "text/plain": "<IPython.core.display.Image object>"
     },
     "execution_count": 37,
     "metadata": {},
     "output_type": "execute_result"
    }
   ],
   "source": [
    "# from tensorflow.keras.utils import plot_model\n",
    "# plot_model(model)\n",
    "tf.keras.utils.plot_model(model=model, show_shapes=True)"
   ],
   "metadata": {
    "collapsed": false,
    "ExecuteTime": {
     "end_time": "2023-09-29T11:32:45.602859991Z",
     "start_time": "2023-09-29T11:32:45.520735859Z"
    }
   },
   "id": "9f76823a012a16fc"
  },
  {
   "cell_type": "markdown",
   "source": [
    "### Visualizing our model's predictions\n",
    "\n",
    "To visualize predictions, it's a good idea to plot them against the ground truth labels.\n",
    "\n",
    "Often you'll see this in the form of `y_test` or `y_true` versus `y_pred` (ground truth versus your model's predictions)"
   ],
   "metadata": {
    "collapsed": false
   },
   "id": "f5244483f581fae1"
  },
  {
   "cell_type": "code",
   "execution_count": 38,
   "outputs": [
    {
     "name": "stdout",
     "output_type": "stream",
     "text": [
      "1/1 [==============================] - 0s 68ms/step\n"
     ]
    },
    {
     "data": {
      "text/plain": "array([[ 69.493095],\n       [ 74.01369 ],\n       [ 78.53426 ],\n       [ 83.054855],\n       [ 87.57544 ],\n       [ 92.09602 ],\n       [ 96.6166  ],\n       [101.13719 ],\n       [105.657776],\n       [110.17836 ]], dtype=float32)"
     },
     "execution_count": 38,
     "metadata": {},
     "output_type": "execute_result"
    }
   ],
   "source": [
    "y_pred = model.predict(X_test)\n",
    "y_pred"
   ],
   "metadata": {
    "collapsed": false,
    "ExecuteTime": {
     "end_time": "2023-09-29T11:32:49.575826897Z",
     "start_time": "2023-09-29T11:32:49.295315543Z"
    }
   },
   "id": "293c2620b65dc170"
  },
  {
   "cell_type": "code",
   "execution_count": 39,
   "outputs": [
    {
     "data": {
      "text/plain": "<tf.Tensor: shape=(10,), dtype=int32, numpy=array([ 70,  74,  78,  82,  86,  90,  94,  98, 102, 106], dtype=int32)>"
     },
     "execution_count": 39,
     "metadata": {},
     "output_type": "execute_result"
    }
   ],
   "source": [
    "y_test"
   ],
   "metadata": {
    "collapsed": false,
    "ExecuteTime": {
     "end_time": "2023-09-29T11:32:51.437402581Z",
     "start_time": "2023-09-29T11:32:51.413547088Z"
    }
   },
   "id": "6c948e1753458992"
  },
  {
   "cell_type": "markdown",
   "source": [
    "key **Note:** If you feel like you're going to reuse some kind of functionality in the future, it's a good idea to turn it into function."
   ],
   "metadata": {
    "collapsed": false
   },
   "id": "39dcf705504e7045"
  },
  {
   "cell_type": "code",
   "execution_count": 40,
   "outputs": [],
   "source": [
    "# Let's create a plotting function\n",
    "def plot_predictions(train_data=X_train,\n",
    "                     train_labels=y_train,\n",
    "                     test_data=X_test,\n",
    "                     test_labels=y_test,\n",
    "                     predictions=y_pred):\n",
    "    \"\"\"\n",
    "    Plots training data, test data and compares predictions to ground truth labels.\n",
    "    \"\"\"\n",
    "    \n",
    "    plt.figure(figsize=(10, 7))\n",
    "    # Plot training data in blue\n",
    "    plt.scatter(train_data, train_labels, c=\"b\", label=\"Training data\")\n",
    "    # Plot testing data in green\n",
    "    plt.scatter(test_data, test_labels, c=\"g\", label=\"Testing data\")\n",
    "    # Plot model's predictions in red\n",
    "    plt.scatter(test_data, predictions, c=\"r\", label=\"Predictions\")\n",
    "    # Show the legend\n",
    "    plt.legend();"
   ],
   "metadata": {
    "collapsed": false,
    "ExecuteTime": {
     "end_time": "2023-09-29T11:32:56.265725702Z",
     "start_time": "2023-09-29T11:32:56.231353912Z"
    }
   },
   "id": "71cba8a1be7b2c81"
  },
  {
   "cell_type": "code",
   "execution_count": 41,
   "outputs": [
    {
     "data": {
      "text/plain": "<Figure size 1000x700 with 1 Axes>",
      "image/png": "[encoded data removed]"
     },
     "metadata": {},
     "output_type": "display_data"
    }
   ],
   "source": [
    "plot_predictions(train_data=X_train,\n",
    "                 train_labels=y_train,\n",
    "                 test_data=X_test,\n",
    "                 test_labels=y_test,\n",
    "                 predictions=y_pred)"
   ],
   "metadata": {
    "collapsed": false,
    "ExecuteTime": {
     "end_time": "2023-09-29T11:32:57.758927805Z",
     "start_time": "2023-09-29T11:32:57.505468097Z"
    }
   },
   "id": "2a6d51a53151bf01"
  },
  {
   "cell_type": "markdown",
   "source": [
    "### Evaluating our model's predictions with regression evaluation metrics\n",
    "\n",
    "Depending on the problem you're working on, there will be different evaluation metrics to evaluate your model's performance.\n",
    "\n",
    "Since we're working on a regresion, two of the main metrics:\n",
    "* MAE - mean absolute error, \"on average, how wrong is each of my model's predictions\"\n",
    "* MSE - mean square error, \"square the average errors\""
   ],
   "metadata": {
    "collapsed": false
   },
   "id": "9ebf4e56a0b6b139"
  },
  {
   "cell_type": "code",
   "execution_count": 45,
   "outputs": [
    {
     "name": "stdout",
     "output_type": "stream",
     "text": [
      "1/1 [==============================] - 0s 31ms/step - loss: 1.9371 - mae: 1.9371\n"
     ]
    },
    {
     "data": {
      "text/plain": "[1.937110185623169, 1.937110185623169]"
     },
     "execution_count": 45,
     "metadata": {},
     "output_type": "execute_result"
    }
   ],
   "source": [
    "# Evaluate the model on the test\n",
    "model.evaluate(X_test, y_test)"
   ],
   "metadata": {
    "collapsed": false,
    "ExecuteTime": {
     "end_time": "2023-09-29T11:48:52.650045920Z",
     "start_time": "2023-09-29T11:48:52.554840463Z"
    }
   },
   "id": "36177621aade1e45"
  },
  {
   "cell_type": "code",
   "execution_count": null,
   "outputs": [],
   "source": [
    "# Calculate the mean absolute error\n"
   ],
   "metadata": {
    "collapsed": false
   },
   "id": "575b0fa5aebbd5fd"
  },
  {
   "cell_type": "code",
   "execution_count": 43,
   "outputs": [
    {
     "data": {
      "text/plain": "array([[ 69.493095],\n       [ 74.01369 ],\n       [ 78.53426 ],\n       [ 83.054855],\n       [ 87.57544 ],\n       [ 92.09602 ],\n       [ 96.6166  ],\n       [101.13719 ],\n       [105.657776],\n       [110.17836 ]], dtype=float32)"
     },
     "execution_count": 43,
     "metadata": {},
     "output_type": "execute_result"
    }
   ],
   "source": [
    "y_pred"
   ],
   "metadata": {
    "collapsed": false,
    "ExecuteTime": {
     "end_time": "2023-09-29T11:47:59.245216239Z",
     "start_time": "2023-09-29T11:47:59.151216824Z"
    }
   },
   "id": "aedf7261aa2cc7ac"
  },
  {
   "cell_type": "code",
   "execution_count": 44,
   "outputs": [
    {
     "data": {
      "text/plain": "<tf.Tensor: shape=(10,), dtype=int32, numpy=array([ 70,  74,  78,  82,  86,  90,  94,  98, 102, 106], dtype=int32)>"
     },
     "execution_count": 44,
     "metadata": {},
     "output_type": "execute_result"
    }
   ],
   "source": [
    "y_test"
   ],
   "metadata": {
    "collapsed": false,
    "ExecuteTime": {
     "end_time": "2023-09-29T11:48:04.043285921Z",
     "start_time": "2023-09-29T11:48:03.990217800Z"
    }
   },
   "id": "5dad140f654bcf85"
  },
  {
   "cell_type": "code",
   "execution_count": null,
   "outputs": [],
   "source": [],
   "metadata": {
    "collapsed": false
   },
   "id": "cd2acac44e2bdbab"
  }
 ],
 "metadata": {
  "kernelspec": {
   "display_name": "Python 3",
   "language": "python",
   "name": "python3"
  },
  "language_info": {
   "codemirror_mode": {
    "name": "ipython",
    "version": 2
   },
   "file_extension": ".py",
   "mimetype": "text/x-python",
   "name": "python",
   "nbconvert_exporter": "python",
   "pygments_lexer": "ipython2",
   "version": "2.7.6"
  }
 },
 "nbformat": 4,
 "nbformat_minor": 5
}
