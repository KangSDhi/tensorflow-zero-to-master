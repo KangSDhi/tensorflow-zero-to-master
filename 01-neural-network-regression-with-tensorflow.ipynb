{
 "cells": [
  {
   "cell_type": "markdown",
   "source": [
    "# Introduction to Regression with Neural Networks in TensorFlow\n",
    "\n",
    "There are many definitions for regression problem but in our case, we're going to simplify it: predicting a numerical variable based on some other combination of variables, even shorther... predicting a number."
   ],
   "metadata": {
    "collapsed": false,
    "id": "6ebb1111b9c93791"
   },
   "id": "6ebb1111b9c93791"
  },
  {
   "cell_type": "code",
   "execution_count": 7,
   "outputs": [
    {
     "name": "stdout",
     "output_type": "stream",
     "text": [
      "2.12.0\n"
     ]
    }
   ],
   "source": [
    "# Import TensorFlow\n",
    "import tensorflow as tf\n",
    "print(tf.__version__)"
   ],
   "metadata": {
    "colab": {
     "base_uri": "https://localhost:8080/"
    },
    "id": "d4e5f09eca05ca59",
    "executionInfo": {
     "status": "ok",
     "timestamp": 1696076685065,
     "user_tz": -420,
     "elapsed": 6829,
     "user": {
      "displayName": "kang sigit",
      "userId": "15887135570512197739"
     }
    },
    "outputId": "8fac66e9-5ff3-47cc-a5a1-950e6758ea44",
    "ExecuteTime": {
     "end_time": "2024-01-08T06:37:05.701901306Z",
     "start_time": "2024-01-08T06:37:05.647723434Z"
    }
   },
   "id": "d4e5f09eca05ca59"
  },
  {
   "cell_type": "markdown",
   "source": [
    "## Creating data to view and fit"
   ],
   "metadata": {
    "collapsed": false,
    "id": "8407fe85818d8aac"
   },
   "id": "8407fe85818d8aac"
  },
  {
   "cell_type": "code",
   "execution_count": 8,
   "outputs": [
    {
     "data": {
      "text/plain": "<matplotlib.collections.PathCollection at 0x7f36ccc30390>"
     },
     "execution_count": 8,
     "metadata": {},
     "output_type": "execute_result"
    },
    {
     "data": {
      "text/plain": "<Figure size 640x480 with 1 Axes>",
      "image/png": "[encoded data removed]"
     },
     "metadata": {},
     "output_type": "display_data"
    }
   ],
   "source": [
    "import numpy as np\n",
    "import matplotlib.pyplot as plt\n",
    "\n",
    "# Create features\n",
    "X = np.array([-7.0, -4.0, -1.0, 2.0, 5.0, 8.0, 11.0, 14.0])\n",
    "\n",
    "# Create labels\n",
    "y = np.array([3.0, 6.0, 9.0, 12.0, 15.0, 18.0, 21.0, 24.0])\n",
    "\n",
    "# Visualize it\n",
    "plt.scatter(X, y)"
   ],
   "metadata": {
    "colab": {
     "base_uri": "https://localhost:8080/",
     "height": 453
    },
    "id": "135387d48040aa65",
    "executionInfo": {
     "status": "ok",
     "timestamp": 1696076685066,
     "user_tz": -420,
     "elapsed": 7,
     "user": {
      "displayName": "kang sigit",
      "userId": "15887135570512197739"
     }
    },
    "outputId": "4c919eb6-14cb-4524-bef2-d3a95e3bc6a2",
    "ExecuteTime": {
     "end_time": "2024-01-08T06:37:07.172763517Z",
     "start_time": "2024-01-08T06:37:07.047412964Z"
    }
   },
   "id": "135387d48040aa65"
  },
  {
   "cell_type": "code",
   "execution_count": 9,
   "outputs": [
    {
     "data": {
      "text/plain": "array([ True,  True,  True,  True,  True,  True,  True,  True])"
     },
     "execution_count": 9,
     "metadata": {},
     "output_type": "execute_result"
    }
   ],
   "source": [
    "y == X + 10"
   ],
   "metadata": {
    "colab": {
     "base_uri": "https://localhost:8080/"
    },
    "id": "35d94d5b061cfa67",
    "executionInfo": {
     "status": "ok",
     "timestamp": 1696076685862,
     "user_tz": -420,
     "elapsed": 801,
     "user": {
      "displayName": "kang sigit",
      "userId": "15887135570512197739"
     }
    },
    "outputId": "fd62bc5a-e1d3-41a5-9d24-79c48cbf489f",
    "ExecuteTime": {
     "end_time": "2024-01-08T06:37:07.930967085Z",
     "start_time": "2024-01-08T06:37:07.880112136Z"
    }
   },
   "id": "35d94d5b061cfa67"
  },
  {
   "cell_type": "markdown",
   "source": [
    "## Input and output shapes"
   ],
   "metadata": {
    "collapsed": false,
    "id": "420b161819373fbe"
   },
   "id": "420b161819373fbe"
  },
  {
   "cell_type": "code",
   "execution_count": 10,
   "outputs": [
    {
     "data": {
      "text/plain": "(<tf.Tensor: shape=(3,), dtype=string, numpy=array([b'bedroom', b'bathroom', b'garage'], dtype=object)>,\n <tf.Tensor: shape=(1,), dtype=int32, numpy=array([939700], dtype=int32)>)"
     },
     "execution_count": 10,
     "metadata": {},
     "output_type": "execute_result"
    }
   ],
   "source": [
    "# Create a demo tensor for our housing price prediction problem\n",
    "house_info = tf.constant([\"bedroom\", \"bathroom\", \"garage\"])\n",
    "house_price = tf.constant([939700])\n",
    "house_info, house_price"
   ],
   "metadata": {
    "colab": {
     "base_uri": "https://localhost:8080/"
    },
    "id": "f6848417caa4070a",
    "executionInfo": {
     "status": "ok",
     "timestamp": 1696076689508,
     "user_tz": -420,
     "elapsed": 3647,
     "user": {
      "displayName": "kang sigit",
      "userId": "15887135570512197739"
     }
    },
    "outputId": "17142d0f-133c-473d-c2fd-96a0713c7db2",
    "ExecuteTime": {
     "end_time": "2024-01-08T06:37:09.306411793Z",
     "start_time": "2024-01-08T06:37:09.241372809Z"
    }
   },
   "id": "f6848417caa4070a"
  },
  {
   "cell_type": "code",
   "execution_count": 11,
   "outputs": [
    {
     "data": {
      "text/plain": "(-7.0, 3.0)"
     },
     "execution_count": 11,
     "metadata": {},
     "output_type": "execute_result"
    }
   ],
   "source": [
    "X[0], y[0]"
   ],
   "metadata": {
    "colab": {
     "base_uri": "https://localhost:8080/"
    },
    "id": "2af8bcb603f84f47",
    "executionInfo": {
     "status": "ok",
     "timestamp": 1696076689508,
     "user_tz": -420,
     "elapsed": 37,
     "user": {
      "displayName": "kang sigit",
      "userId": "15887135570512197739"
     }
    },
    "outputId": "c3a03743-3370-4244-8d69-6afbcb61deb7",
    "ExecuteTime": {
     "end_time": "2024-01-08T06:37:10.107056337Z",
     "start_time": "2024-01-08T06:37:10.052387641Z"
    }
   },
   "id": "2af8bcb603f84f47"
  },
  {
   "cell_type": "code",
   "execution_count": 12,
   "outputs": [
    {
     "data": {
      "text/plain": "(-4.0, 6.0)"
     },
     "execution_count": 12,
     "metadata": {},
     "output_type": "execute_result"
    }
   ],
   "source": [
    "X[1], y[1]"
   ],
   "metadata": {
    "colab": {
     "base_uri": "https://localhost:8080/"
    },
    "id": "abfb4fe2f54c9ccd",
    "executionInfo": {
     "status": "ok",
     "timestamp": 1696076689508,
     "user_tz": -420,
     "elapsed": 29,
     "user": {
      "displayName": "kang sigit",
      "userId": "15887135570512197739"
     }
    },
    "outputId": "7bfcf3da-00f5-421c-ae7e-d5586e94b2fc",
    "ExecuteTime": {
     "end_time": "2024-01-08T06:37:10.660659751Z",
     "start_time": "2024-01-08T06:37:10.614965559Z"
    }
   },
   "id": "abfb4fe2f54c9ccd"
  },
  {
   "cell_type": "code",
   "execution_count": 13,
   "outputs": [
    {
     "data": {
      "text/plain": "((), ())"
     },
     "execution_count": 13,
     "metadata": {},
     "output_type": "execute_result"
    }
   ],
   "source": [
    "input_shape = X[0].shape\n",
    "output_shape = y[0].shape\n",
    "input_shape, output_shape"
   ],
   "metadata": {
    "colab": {
     "base_uri": "https://localhost:8080/"
    },
    "id": "7ae73a2555815544",
    "executionInfo": {
     "status": "ok",
     "timestamp": 1696076689508,
     "user_tz": -420,
     "elapsed": 23,
     "user": {
      "displayName": "kang sigit",
      "userId": "15887135570512197739"
     }
    },
    "outputId": "c337f811-f992-417d-dba7-d3ccd3ced685",
    "ExecuteTime": {
     "end_time": "2024-01-08T06:37:11.176853346Z",
     "start_time": "2024-01-08T06:37:11.136134241Z"
    }
   },
   "id": "7ae73a2555815544"
  },
  {
   "cell_type": "code",
   "execution_count": 14,
   "outputs": [
    {
     "data": {
      "text/plain": "0"
     },
     "execution_count": 14,
     "metadata": {},
     "output_type": "execute_result"
    }
   ],
   "source": [
    "X[0].ndim"
   ],
   "metadata": {
    "colab": {
     "base_uri": "https://localhost:8080/"
    },
    "id": "8a2ef4c080258f67",
    "executionInfo": {
     "status": "ok",
     "timestamp": 1696076689508,
     "user_tz": -420,
     "elapsed": 17,
     "user": {
      "displayName": "kang sigit",
      "userId": "15887135570512197739"
     }
    },
    "outputId": "e61e1f1e-abc2-491b-9b2c-7f68a7adfc6c",
    "ExecuteTime": {
     "end_time": "2024-01-08T06:37:11.665797912Z",
     "start_time": "2024-01-08T06:37:11.621874174Z"
    }
   },
   "id": "8a2ef4c080258f67"
  },
  {
   "cell_type": "code",
   "execution_count": 15,
   "outputs": [
    {
     "data": {
      "text/plain": "(-7.0, 3.0)"
     },
     "execution_count": 15,
     "metadata": {},
     "output_type": "execute_result"
    }
   ],
   "source": [
    "X[0], y[0]"
   ],
   "metadata": {
    "colab": {
     "base_uri": "https://localhost:8080/"
    },
    "id": "8dfe9ccbe865992c",
    "executionInfo": {
     "status": "ok",
     "timestamp": 1696076689509,
     "user_tz": -420,
     "elapsed": 14,
     "user": {
      "displayName": "kang sigit",
      "userId": "15887135570512197739"
     }
    },
    "outputId": "d24feca7-e1d3-4194-e935-2ed8a9d36ff4",
    "ExecuteTime": {
     "end_time": "2024-01-08T06:37:12.340982257Z",
     "start_time": "2024-01-08T06:37:12.301739123Z"
    }
   },
   "id": "8dfe9ccbe865992c"
  },
  {
   "cell_type": "code",
   "execution_count": 16,
   "outputs": [
    {
     "data": {
      "text/plain": "(<tf.Tensor: shape=(8,), dtype=float32, numpy=array([-7., -4., -1.,  2.,  5.,  8., 11., 14.], dtype=float32)>,\n <tf.Tensor: shape=(8,), dtype=float32, numpy=array([ 3.,  6.,  9., 12., 15., 18., 21., 24.], dtype=float32)>)"
     },
     "execution_count": 16,
     "metadata": {},
     "output_type": "execute_result"
    }
   ],
   "source": [
    "# Turn our NumPy arrays into tensors with dtype float32\n",
    "X = tf.cast(tf.constant(X), dtype=tf.float32)\n",
    "y = tf.cast(tf.constant(y), dtype=tf.float32)\n",
    "X, y"
   ],
   "metadata": {
    "colab": {
     "base_uri": "https://localhost:8080/"
    },
    "id": "77e963d826e1c5ee",
    "executionInfo": {
     "status": "ok",
     "timestamp": 1696076689509,
     "user_tz": -420,
     "elapsed": 12,
     "user": {
      "displayName": "kang sigit",
      "userId": "15887135570512197739"
     }
    },
    "outputId": "b37e8890-b951-42d6-dd98-70b7876abe48",
    "ExecuteTime": {
     "end_time": "2024-01-08T06:37:12.949668203Z",
     "start_time": "2024-01-08T06:37:12.907632037Z"
    }
   },
   "id": "77e963d826e1c5ee"
  },
  {
   "cell_type": "code",
   "execution_count": 17,
   "outputs": [
    {
     "data": {
      "text/plain": "(TensorShape([]), TensorShape([]))"
     },
     "execution_count": 17,
     "metadata": {},
     "output_type": "execute_result"
    }
   ],
   "source": [
    "input_shape = X[0].shape\n",
    "output_shape = y[0].shape\n",
    "input_shape, output_shape"
   ],
   "metadata": {
    "colab": {
     "base_uri": "https://localhost:8080/"
    },
    "id": "14e27954e5032236",
    "executionInfo": {
     "status": "ok",
     "timestamp": 1696076689509,
     "user_tz": -420,
     "elapsed": 9,
     "user": {
      "displayName": "kang sigit",
      "userId": "15887135570512197739"
     }
    },
    "outputId": "56cd997f-b119-47d1-a2ec-58393a29ffe8",
    "ExecuteTime": {
     "end_time": "2024-01-08T06:37:13.509769387Z",
     "start_time": "2024-01-08T06:37:13.464335918Z"
    }
   },
   "id": "14e27954e5032236"
  },
  {
   "cell_type": "code",
   "execution_count": 18,
   "outputs": [
    {
     "data": {
      "text/plain": "<matplotlib.collections.PathCollection at 0x7f36ccb51b90>"
     },
     "execution_count": 18,
     "metadata": {},
     "output_type": "execute_result"
    },
    {
     "data": {
      "text/plain": "<Figure size 640x480 with 1 Axes>",
      "image/png": "[encoded data removed]"
     },
     "metadata": {},
     "output_type": "display_data"
    }
   ],
   "source": [
    "plt.scatter(X, y)"
   ],
   "metadata": {
    "colab": {
     "base_uri": "https://localhost:8080/",
     "height": 453
    },
    "id": "e697df78c938eedc",
    "executionInfo": {
     "status": "ok",
     "timestamp": 1696076690202,
     "user_tz": -420,
     "elapsed": 700,
     "user": {
      "displayName": "kang sigit",
      "userId": "15887135570512197739"
     }
    },
    "outputId": "67448415-bb04-4f88-a157-eed404725c38",
    "ExecuteTime": {
     "end_time": "2024-01-08T06:37:14.261769874Z",
     "start_time": "2024-01-08T06:37:14.154354482Z"
    }
   },
   "id": "e697df78c938eedc"
  },
  {
   "cell_type": "markdown",
   "source": [
    "## Steps in modeling with TensorFlow\n",
    "\n",
    "1. **Creating a model** - define the input and output layers, as well as the hidden layers of a deep learning model.\n",
    "2. **Compiling a model** - define the loss function (in other words, the function which tells our model how wrong it is) and the optimizer (tells our model how to improve the patterns its learning) and evaluation metrics (what we can use to interpret the performance our model).\n",
    "3. **Fitting a model** - letting the model try to find patterns between X & y (features and labels)."
   ],
   "metadata": {
    "collapsed": false,
    "id": "e9796f121f9b42fe"
   },
   "id": "e9796f121f9b42fe"
  },
  {
   "cell_type": "code",
   "execution_count": 19,
   "outputs": [],
   "source": [
    "# # Optionally, the first layer can receive an `input_shape` argument:\n",
    "# model = tf.keras.Sequential()\n",
    "# model.add(tf.keras.layers.Dense(8, input_shape=(16,)))\n",
    "# # Afterwards, we do automatic shape inference:\n",
    "# model.add(tf.keras.layers.Dense(4))\n",
    "#\n",
    "# model = tf.keras.Sequential()\n",
    "# model.add(tf.keras.layers.Dense(8, input_shape=(16, )))\n",
    "# ...\n",
    "#\n",
    "# model = tf.keras.Sequential()\n",
    "# model.add(tf.keras.layers.Dense(1))"
   ],
   "metadata": {
    "id": "e65f811a3ad5e9e1",
    "executionInfo": {
     "status": "ok",
     "timestamp": 1696076690202,
     "user_tz": -420,
     "elapsed": 6,
     "user": {
      "displayName": "kang sigit",
      "userId": "15887135570512197739"
     }
    },
    "ExecuteTime": {
     "end_time": "2024-01-08T06:37:17.676218355Z",
     "start_time": "2024-01-08T06:37:17.620059309Z"
    }
   },
   "id": "e65f811a3ad5e9e1"
  },
  {
   "cell_type": "code",
   "execution_count": 20,
   "outputs": [
    {
     "name": "stdout",
     "output_type": "stream",
     "text": [
      "Epoch 1/5\n",
      "1/1 [==============================] - 0s 312ms/step - loss: 7.6267 - mae: 7.6267\n",
      "Epoch 2/5\n",
      "1/1 [==============================] - 0s 3ms/step - loss: 7.4942 - mae: 7.4942\n",
      "Epoch 3/5\n",
      "1/1 [==============================] - 0s 3ms/step - loss: 7.4850 - mae: 7.4850\n",
      "Epoch 4/5\n",
      "1/1 [==============================] - 0s 3ms/step - loss: 7.4794 - mae: 7.4794\n",
      "Epoch 5/5\n",
      "1/1 [==============================] - 0s 4ms/step - loss: 7.4738 - mae: 7.4738\n"
     ]
    },
    {
     "data": {
      "text/plain": "<keras.callbacks.History at 0x7f36ccc9add0>"
     },
     "execution_count": 20,
     "metadata": {},
     "output_type": "execute_result"
    }
   ],
   "source": [
    "# Set random seed\n",
    "tf.random.set_seed(42)\n",
    "\n",
    "# 1. Create a model using the Sequential API\n",
    "model = tf.keras.Sequential([\n",
    "    tf.keras.layers.Dense(1)\n",
    "])\n",
    "\n",
    "# 2. Compile the model\n",
    "model.compile(loss=tf.keras.losses.mae, # mae is short for mean absolute error\n",
    "              optimizer=tf.keras.optimizers.SGD(), # sgd is short for stochstic gradient descent\n",
    "              metrics=[\"mae\"])\n",
    "\n",
    "# 3. Fit the model\n",
    "# model.fit(X, y, epochs=5) # This line will error if you're running TensorFlow 2.7.0+!\n",
    "model.fit(tf.expand_dims(X, axis=-1), y, epochs=5)"
   ],
   "metadata": {
    "colab": {
     "base_uri": "https://localhost:8080/"
    },
    "id": "cc71e5f4aac7d8a6",
    "executionInfo": {
     "status": "ok",
     "timestamp": 1696076701552,
     "user_tz": -420,
     "elapsed": 11356,
     "user": {
      "displayName": "kang sigit",
      "userId": "15887135570512197739"
     }
    },
    "outputId": "9fd356b1-7413-439f-c3d2-b533cbde237b",
    "ExecuteTime": {
     "end_time": "2024-01-08T06:37:19.246759590Z",
     "start_time": "2024-01-08T06:37:18.747562964Z"
    }
   },
   "id": "cc71e5f4aac7d8a6"
  },
  {
   "cell_type": "code",
   "execution_count": 21,
   "outputs": [
    {
     "data": {
      "text/plain": "(<tf.Tensor: shape=(8,), dtype=float32, numpy=array([-7., -4., -1.,  2.,  5.,  8., 11., 14.], dtype=float32)>,\n <tf.Tensor: shape=(8,), dtype=float32, numpy=array([ 3.,  6.,  9., 12., 15., 18., 21., 24.], dtype=float32)>)"
     },
     "execution_count": 21,
     "metadata": {},
     "output_type": "execute_result"
    }
   ],
   "source": [
    "# Check out X and y\n",
    "X, y"
   ],
   "metadata": {
    "colab": {
     "base_uri": "https://localhost:8080/"
    },
    "id": "b1b4a1c994642378",
    "executionInfo": {
     "status": "ok",
     "timestamp": 1696076701553,
     "user_tz": -420,
     "elapsed": 7,
     "user": {
      "displayName": "kang sigit",
      "userId": "15887135570512197739"
     }
    },
    "outputId": "aee68bdb-665e-4b01-9458-935836d47971",
    "ExecuteTime": {
     "end_time": "2024-01-08T06:37:29.972713864Z",
     "start_time": "2024-01-08T06:37:29.933586447Z"
    }
   },
   "id": "b1b4a1c994642378"
  },
  {
   "cell_type": "code",
   "execution_count": 22,
   "outputs": [
    {
     "name": "stdout",
     "output_type": "stream",
     "text": [
      "1/1 [==============================] - 0s 110ms/step\n"
     ]
    },
    {
     "data": {
      "text/plain": "array([[29.759964]], dtype=float32)"
     },
     "execution_count": 22,
     "metadata": {},
     "output_type": "execute_result"
    }
   ],
   "source": [
    "# Try and make a prediction using our model\n",
    "y_pred = model.predict([17.0])\n",
    "y_pred"
   ],
   "metadata": {
    "colab": {
     "base_uri": "https://localhost:8080/"
    },
    "id": "6c9feaa2ed2266c8",
    "executionInfo": {
     "status": "ok",
     "timestamp": 1696076702180,
     "user_tz": -420,
     "elapsed": 631,
     "user": {
      "displayName": "kang sigit",
      "userId": "15887135570512197739"
     }
    },
    "outputId": "2fe08450-005e-44df-934c-53ebd9df5b33",
    "ExecuteTime": {
     "end_time": "2024-01-08T06:37:30.886627964Z",
     "start_time": "2024-01-08T06:37:30.719602287Z"
    }
   },
   "id": "6c9feaa2ed2266c8"
  },
  {
   "cell_type": "code",
   "execution_count": 23,
   "outputs": [
    {
     "data": {
      "text/plain": "array([[38.759964]], dtype=float32)"
     },
     "execution_count": 23,
     "metadata": {},
     "output_type": "execute_result"
    }
   ],
   "source": [
    "y_pred + 9"
   ],
   "metadata": {
    "colab": {
     "base_uri": "https://localhost:8080/"
    },
    "id": "6ac8363b8e315b33",
    "executionInfo": {
     "status": "ok",
     "timestamp": 1696076702181,
     "user_tz": -420,
     "elapsed": 12,
     "user": {
      "displayName": "kang sigit",
      "userId": "15887135570512197739"
     }
    },
    "outputId": "c034514e-5d78-42d8-ccc3-9ad275e6357a",
    "ExecuteTime": {
     "end_time": "2024-01-08T06:37:32.053785578Z",
     "start_time": "2024-01-08T06:37:32.004740431Z"
    }
   },
   "id": "6ac8363b8e315b33"
  },
  {
   "cell_type": "markdown",
   "source": [
    "## Improving our model\n",
    "\n",
    "We can improve our model, by altering the steps we took to create a model.\n",
    "\n",
    "1. **Creating a model** - here we might add more layers, increase the number of hidden units (all called neurons) within each of the hidden layers, change the activation function of each layer.\n",
    "2. **Compiling a model** - here we might change the optimization function or perhaps the **learning rate** of the optimization function.\n",
    "3. **Fitting a model** - here we might fit a model for more **epochs** (leave it training for longer) or on more data (give the model more examples to learn from)."
   ],
   "metadata": {
    "collapsed": false,
    "id": "ee325f78f13dbc6f"
   },
   "id": "ee325f78f13dbc6f"
  },
  {
   "cell_type": "code",
   "execution_count": 24,
   "outputs": [
    {
     "name": "stdout",
     "output_type": "stream",
     "text": [
      "Epoch 1/100\n",
      "1/1 [==============================] - 0s 222ms/step - loss: 9.9797 - mae: 9.9797\n",
      "Epoch 2/100\n",
      "1/1 [==============================] - 0s 3ms/step - loss: 9.8472 - mae: 9.8472\n",
      "Epoch 3/100\n",
      "1/1 [==============================] - 0s 3ms/step - loss: 9.7147 - mae: 9.7147\n",
      "Epoch 4/100\n",
      "1/1 [==============================] - 0s 3ms/step - loss: 9.5822 - mae: 9.5822\n",
      "Epoch 5/100\n",
      "1/1 [==============================] - 0s 3ms/step - loss: 9.4497 - mae: 9.4497\n",
      "Epoch 6/100\n",
      "1/1 [==============================] - 0s 4ms/step - loss: 9.3172 - mae: 9.3172\n",
      "Epoch 7/100\n",
      "1/1 [==============================] - 0s 3ms/step - loss: 9.1847 - mae: 9.1847\n",
      "Epoch 8/100\n",
      "1/1 [==============================] - 0s 3ms/step - loss: 9.0522 - mae: 9.0522\n",
      "Epoch 9/100\n",
      "1/1 [==============================] - 0s 3ms/step - loss: 8.9197 - mae: 8.9197\n",
      "Epoch 10/100\n",
      "1/1 [==============================] - 0s 3ms/step - loss: 8.7872 - mae: 8.7872\n",
      "Epoch 11/100\n",
      "1/1 [==============================] - 0s 4ms/step - loss: 8.6547 - mae: 8.6547\n",
      "Epoch 12/100\n",
      "1/1 [==============================] - 0s 4ms/step - loss: 8.5222 - mae: 8.5222\n",
      "Epoch 13/100\n",
      "1/1 [==============================] - 0s 4ms/step - loss: 8.3897 - mae: 8.3897\n",
      "Epoch 14/100\n",
      "1/1 [==============================] - 0s 3ms/step - loss: 8.2572 - mae: 8.2572\n",
      "Epoch 15/100\n",
      "1/1 [==============================] - 0s 4ms/step - loss: 8.1247 - mae: 8.1247\n",
      "Epoch 16/100\n",
      "1/1 [==============================] - 0s 4ms/step - loss: 7.9922 - mae: 7.9922\n",
      "Epoch 17/100\n",
      "1/1 [==============================] - 0s 3ms/step - loss: 7.8597 - mae: 7.8597\n",
      "Epoch 18/100\n",
      "1/1 [==============================] - 0s 4ms/step - loss: 7.7272 - mae: 7.7272\n",
      "Epoch 19/100\n",
      "1/1 [==============================] - 0s 3ms/step - loss: 7.5947 - mae: 7.5947\n",
      "Epoch 20/100\n",
      "1/1 [==============================] - 0s 4ms/step - loss: 7.4622 - mae: 7.4622\n",
      "Epoch 21/100\n",
      "1/1 [==============================] - 0s 3ms/step - loss: 7.3500 - mae: 7.3500\n",
      "Epoch 22/100\n",
      "1/1 [==============================] - 0s 3ms/step - loss: 7.3444 - mae: 7.3444\n",
      "Epoch 23/100\n",
      "1/1 [==============================] - 0s 3ms/step - loss: 7.3387 - mae: 7.3387\n",
      "Epoch 24/100\n",
      "1/1 [==============================] - 0s 4ms/step - loss: 7.3331 - mae: 7.3331\n",
      "Epoch 25/100\n",
      "1/1 [==============================] - 0s 6ms/step - loss: 7.3275 - mae: 7.3275\n",
      "Epoch 26/100\n",
      "1/1 [==============================] - 0s 4ms/step - loss: 7.3219 - mae: 7.3219\n",
      "Epoch 27/100\n",
      "1/1 [==============================] - 0s 4ms/step - loss: 7.3163 - mae: 7.3163\n",
      "Epoch 28/100\n",
      "1/1 [==============================] - 0s 5ms/step - loss: 7.3106 - mae: 7.3106\n",
      "Epoch 29/100\n",
      "1/1 [==============================] - 0s 4ms/step - loss: 7.3050 - mae: 7.3050\n",
      "Epoch 30/100\n",
      "1/1 [==============================] - 0s 4ms/step - loss: 7.2994 - mae: 7.2994\n",
      "Epoch 31/100\n",
      "1/1 [==============================] - 0s 5ms/step - loss: 7.2938 - mae: 7.2938\n",
      "Epoch 32/100\n",
      "1/1 [==============================] - 0s 3ms/step - loss: 7.2881 - mae: 7.2881\n",
      "Epoch 33/100\n",
      "1/1 [==============================] - 0s 4ms/step - loss: 7.2825 - mae: 7.2825\n",
      "Epoch 34/100\n",
      "1/1 [==============================] - 0s 4ms/step - loss: 7.2769 - mae: 7.2769\n",
      "Epoch 35/100\n",
      "1/1 [==============================] - 0s 3ms/step - loss: 7.2712 - mae: 7.2712\n",
      "Epoch 36/100\n",
      "1/1 [==============================] - 0s 3ms/step - loss: 7.2656 - mae: 7.2656\n",
      "Epoch 37/100\n",
      "1/1 [==============================] - 0s 4ms/step - loss: 7.2600 - mae: 7.2600\n",
      "Epoch 38/100\n",
      "1/1 [==============================] - 0s 4ms/step - loss: 7.2544 - mae: 7.2544\n",
      "Epoch 39/100\n",
      "1/1 [==============================] - 0s 3ms/step - loss: 7.2488 - mae: 7.2488\n",
      "Epoch 40/100\n",
      "1/1 [==============================] - 0s 4ms/step - loss: 7.2431 - mae: 7.2431\n",
      "Epoch 41/100\n",
      "1/1 [==============================] - 0s 4ms/step - loss: 7.2375 - mae: 7.2375\n",
      "Epoch 42/100\n",
      "1/1 [==============================] - 0s 4ms/step - loss: 7.2319 - mae: 7.2319\n",
      "Epoch 43/100\n",
      "1/1 [==============================] - 0s 6ms/step - loss: 7.2263 - mae: 7.2263\n",
      "Epoch 44/100\n",
      "1/1 [==============================] - 0s 5ms/step - loss: 7.2206 - mae: 7.2206\n",
      "Epoch 45/100\n",
      "1/1 [==============================] - 0s 5ms/step - loss: 7.2150 - mae: 7.2150\n",
      "Epoch 46/100\n",
      "1/1 [==============================] - 0s 5ms/step - loss: 7.2094 - mae: 7.2094\n",
      "Epoch 47/100\n",
      "1/1 [==============================] - 0s 7ms/step - loss: 7.2037 - mae: 7.2037\n",
      "Epoch 48/100\n",
      "1/1 [==============================] - 0s 5ms/step - loss: 7.1981 - mae: 7.1981\n",
      "Epoch 49/100\n",
      "1/1 [==============================] - 0s 4ms/step - loss: 7.1925 - mae: 7.1925\n",
      "Epoch 50/100\n",
      "1/1 [==============================] - 0s 5ms/step - loss: 7.1869 - mae: 7.1869\n",
      "Epoch 51/100\n",
      "1/1 [==============================] - 0s 5ms/step - loss: 7.1812 - mae: 7.1812\n",
      "Epoch 52/100\n",
      "1/1 [==============================] - 0s 5ms/step - loss: 7.1756 - mae: 7.1756\n",
      "Epoch 53/100\n",
      "1/1 [==============================] - 0s 5ms/step - loss: 7.1700 - mae: 7.1700\n",
      "Epoch 54/100\n",
      "1/1 [==============================] - 0s 5ms/step - loss: 7.1644 - mae: 7.1644\n",
      "Epoch 55/100\n",
      "1/1 [==============================] - 0s 5ms/step - loss: 7.1588 - mae: 7.1588\n",
      "Epoch 56/100\n",
      "1/1 [==============================] - 0s 5ms/step - loss: 7.1531 - mae: 7.1531\n",
      "Epoch 57/100\n",
      "1/1 [==============================] - 0s 5ms/step - loss: 7.1475 - mae: 7.1475\n",
      "Epoch 58/100\n",
      "1/1 [==============================] - 0s 5ms/step - loss: 7.1419 - mae: 7.1419\n",
      "Epoch 59/100\n",
      "1/1 [==============================] - 0s 5ms/step - loss: 7.1363 - mae: 7.1363\n",
      "Epoch 60/100\n",
      "1/1 [==============================] - 0s 4ms/step - loss: 7.1306 - mae: 7.1306\n",
      "Epoch 61/100\n",
      "1/1 [==============================] - 0s 6ms/step - loss: 7.1250 - mae: 7.1250\n",
      "Epoch 62/100\n",
      "1/1 [==============================] - 0s 5ms/step - loss: 7.1194 - mae: 7.1194\n",
      "Epoch 63/100\n",
      "1/1 [==============================] - 0s 4ms/step - loss: 7.1138 - mae: 7.1138\n",
      "Epoch 64/100\n",
      "1/1 [==============================] - 0s 7ms/step - loss: 7.1081 - mae: 7.1081\n",
      "Epoch 65/100\n",
      "1/1 [==============================] - 0s 5ms/step - loss: 7.1025 - mae: 7.1025\n",
      "Epoch 66/100\n",
      "1/1 [==============================] - 0s 5ms/step - loss: 7.0969 - mae: 7.0969\n",
      "Epoch 67/100\n",
      "1/1 [==============================] - 0s 4ms/step - loss: 7.0912 - mae: 7.0912\n",
      "Epoch 68/100\n",
      "1/1 [==============================] - 0s 4ms/step - loss: 7.0856 - mae: 7.0856\n",
      "Epoch 69/100\n",
      "1/1 [==============================] - 0s 5ms/step - loss: 7.0800 - mae: 7.0800\n",
      "Epoch 70/100\n",
      "1/1 [==============================] - 0s 5ms/step - loss: 7.0744 - mae: 7.0744\n",
      "Epoch 71/100\n",
      "1/1 [==============================] - 0s 6ms/step - loss: 7.0688 - mae: 7.0688\n",
      "Epoch 72/100\n",
      "1/1 [==============================] - 0s 5ms/step - loss: 7.0631 - mae: 7.0631\n",
      "Epoch 73/100\n",
      "1/1 [==============================] - 0s 5ms/step - loss: 7.0575 - mae: 7.0575\n",
      "Epoch 74/100\n",
      "1/1 [==============================] - 0s 4ms/step - loss: 7.0519 - mae: 7.0519\n",
      "Epoch 75/100\n",
      "1/1 [==============================] - 0s 4ms/step - loss: 7.0462 - mae: 7.0462\n",
      "Epoch 76/100\n",
      "1/1 [==============================] - 0s 5ms/step - loss: 7.0406 - mae: 7.0406\n",
      "Epoch 77/100\n",
      "1/1 [==============================] - 0s 4ms/step - loss: 7.0350 - mae: 7.0350\n",
      "Epoch 78/100\n",
      "1/1 [==============================] - 0s 5ms/step - loss: 7.0294 - mae: 7.0294\n",
      "Epoch 79/100\n",
      "1/1 [==============================] - 0s 5ms/step - loss: 7.0238 - mae: 7.0238\n",
      "Epoch 80/100\n",
      "1/1 [==============================] - 0s 4ms/step - loss: 7.0181 - mae: 7.0181\n",
      "Epoch 81/100\n",
      "1/1 [==============================] - 0s 5ms/step - loss: 7.0125 - mae: 7.0125\n",
      "Epoch 82/100\n",
      "1/1 [==============================] - 0s 4ms/step - loss: 7.0069 - mae: 7.0069\n",
      "Epoch 83/100\n",
      "1/1 [==============================] - 0s 5ms/step - loss: 7.0013 - mae: 7.0013\n",
      "Epoch 84/100\n",
      "1/1 [==============================] - 0s 4ms/step - loss: 6.9956 - mae: 6.9956\n",
      "Epoch 85/100\n",
      "1/1 [==============================] - 0s 4ms/step - loss: 6.9900 - mae: 6.9900\n",
      "Epoch 86/100\n",
      "1/1 [==============================] - 0s 6ms/step - loss: 6.9844 - mae: 6.9844\n",
      "Epoch 87/100\n",
      "1/1 [==============================] - 0s 5ms/step - loss: 6.9788 - mae: 6.9788\n",
      "Epoch 88/100\n",
      "1/1 [==============================] - 0s 5ms/step - loss: 6.9731 - mae: 6.9731\n",
      "Epoch 89/100\n",
      "1/1 [==============================] - 0s 4ms/step - loss: 6.9675 - mae: 6.9675\n",
      "Epoch 90/100\n",
      "1/1 [==============================] - 0s 4ms/step - loss: 6.9619 - mae: 6.9619\n",
      "Epoch 91/100\n",
      "1/1 [==============================] - 0s 6ms/step - loss: 6.9563 - mae: 6.9563\n",
      "Epoch 92/100\n",
      "1/1 [==============================] - 0s 5ms/step - loss: 6.9506 - mae: 6.9506\n",
      "Epoch 93/100\n",
      "1/1 [==============================] - 0s 5ms/step - loss: 6.9450 - mae: 6.9450\n",
      "Epoch 94/100\n",
      "1/1 [==============================] - 0s 4ms/step - loss: 6.9394 - mae: 6.9394\n",
      "Epoch 95/100\n",
      "1/1 [==============================] - 0s 4ms/step - loss: 6.9338 - mae: 6.9338\n",
      "Epoch 96/100\n",
      "1/1 [==============================] - 0s 3ms/step - loss: 6.9281 - mae: 6.9281\n",
      "Epoch 97/100\n",
      "1/1 [==============================] - 0s 5ms/step - loss: 6.9225 - mae: 6.9225\n",
      "Epoch 98/100\n",
      "1/1 [==============================] - 0s 4ms/step - loss: 6.9169 - mae: 6.9169\n",
      "Epoch 99/100\n",
      "1/1 [==============================] - 0s 3ms/step - loss: 6.9113 - mae: 6.9113\n",
      "Epoch 100/100\n",
      "1/1 [==============================] - 0s 4ms/step - loss: 6.9056 - mae: 6.9056\n"
     ]
    },
    {
     "data": {
      "text/plain": "<keras.callbacks.History at 0x7f36ccb0d350>"
     },
     "execution_count": 24,
     "metadata": {},
     "output_type": "execute_result"
    }
   ],
   "source": [
    "# Let's rebuild our model\n",
    "\n",
    "# 1. Create the model\n",
    "model = tf.keras.Sequential([\n",
    "    tf.keras.layers.Dense(1)\n",
    "])\n",
    "\n",
    "# 2. Compile the model\n",
    "model.compile(loss=tf.keras.losses.mae,\n",
    "              optimizer=tf.keras.optimizers.SGD(),\n",
    "              metrics=[\"mae\"])\n",
    "\n",
    "# 3. Fit the model (this time we'll train for longer)\n",
    "model.fit(tf.expand_dims(X, axis=-1), y, epochs=100)"
   ],
   "metadata": {
    "colab": {
     "base_uri": "https://localhost:8080/"
    },
    "id": "b26232423384ab79",
    "executionInfo": {
     "status": "ok",
     "timestamp": 1696076704042,
     "user_tz": -420,
     "elapsed": 1871,
     "user": {
      "displayName": "kang sigit",
      "userId": "15887135570512197739"
     }
    },
    "outputId": "af574b45-f9db-41fa-835c-d7000afb014d",
    "ExecuteTime": {
     "end_time": "2024-01-08T06:37:37.463503332Z",
     "start_time": "2024-01-08T06:37:36.117324207Z"
    }
   },
   "id": "b26232423384ab79"
  },
  {
   "cell_type": "code",
   "execution_count": 25,
   "outputs": [
    {
     "data": {
      "text/plain": "(<tf.Tensor: shape=(8,), dtype=float32, numpy=array([-7., -4., -1.,  2.,  5.,  8., 11., 14.], dtype=float32)>,\n <tf.Tensor: shape=(8,), dtype=float32, numpy=array([ 3.,  6.,  9., 12., 15., 18., 21., 24.], dtype=float32)>)"
     },
     "execution_count": 25,
     "metadata": {},
     "output_type": "execute_result"
    }
   ],
   "source": [
    "# Reminder ourselves of the data\n",
    "X, y"
   ],
   "metadata": {
    "colab": {
     "base_uri": "https://localhost:8080/"
    },
    "id": "e9b4e45adea19edc",
    "executionInfo": {
     "status": "ok",
     "timestamp": 1696076704043,
     "user_tz": -420,
     "elapsed": 13,
     "user": {
      "displayName": "kang sigit",
      "userId": "15887135570512197739"
     }
    },
    "outputId": "9c3ea1ed-df93-4a29-8624-0d0df70f77b5",
    "ExecuteTime": {
     "end_time": "2024-01-08T06:37:39.038034647Z",
     "start_time": "2024-01-08T06:37:38.988583633Z"
    }
   },
   "id": "e9b4e45adea19edc"
  },
  {
   "cell_type": "code",
   "execution_count": 26,
   "outputs": [
    {
     "name": "stdout",
     "output_type": "stream",
     "text": [
      "1/1 [==============================] - 0s 63ms/step\n"
     ]
    },
    {
     "data": {
      "text/plain": "array([[29.798521]], dtype=float32)"
     },
     "execution_count": 26,
     "metadata": {},
     "output_type": "execute_result"
    }
   ],
   "source": [
    "# Let's see if our model's prediction has improved...\n",
    "model.predict([17.0])"
   ],
   "metadata": {
    "colab": {
     "base_uri": "https://localhost:8080/"
    },
    "id": "4fa1532cec878a87",
    "executionInfo": {
     "status": "ok",
     "timestamp": 1696076704043,
     "user_tz": -420,
     "elapsed": 7,
     "user": {
      "displayName": "kang sigit",
      "userId": "15887135570512197739"
     }
    },
    "outputId": "c3db728e-15ba-48ed-b577-524225c39d2d",
    "ExecuteTime": {
     "end_time": "2024-01-08T06:37:40.046669387Z",
     "start_time": "2024-01-08T06:37:39.910014210Z"
    }
   },
   "id": "4fa1532cec878a87"
  },
  {
   "cell_type": "code",
   "execution_count": 27,
   "outputs": [
    {
     "name": "stdout",
     "output_type": "stream",
     "text": [
      "Epoch 1/100\n",
      "1/1 [==============================] - 0s 393ms/step - loss: 14.0788 - mae: 14.0788\n",
      "Epoch 2/100\n",
      "1/1 [==============================] - 0s 9ms/step - loss: 13.4178 - mae: 13.4178\n",
      "Epoch 3/100\n",
      "1/1 [==============================] - 0s 10ms/step - loss: 12.7518 - mae: 12.7518\n",
      "Epoch 4/100\n",
      "1/1 [==============================] - 0s 8ms/step - loss: 12.0782 - mae: 12.0782\n",
      "Epoch 5/100\n",
      "1/1 [==============================] - 0s 12ms/step - loss: 11.3947 - mae: 11.3947\n",
      "Epoch 6/100\n",
      "1/1 [==============================] - 0s 9ms/step - loss: 10.6989 - mae: 10.6989\n",
      "Epoch 7/100\n",
      "1/1 [==============================] - 0s 9ms/step - loss: 9.9881 - mae: 9.9881\n",
      "Epoch 8/100\n",
      "1/1 [==============================] - 0s 10ms/step - loss: 9.2599 - mae: 9.2599\n",
      "Epoch 9/100\n",
      "1/1 [==============================] - 0s 7ms/step - loss: 8.5119 - mae: 8.5119\n",
      "Epoch 10/100\n",
      "1/1 [==============================] - 0s 12ms/step - loss: 7.7423 - mae: 7.7423\n",
      "Epoch 11/100\n",
      "1/1 [==============================] - 0s 12ms/step - loss: 6.9489 - mae: 6.9489\n",
      "Epoch 12/100\n",
      "1/1 [==============================] - 0s 14ms/step - loss: 6.6076 - mae: 6.6076\n",
      "Epoch 13/100\n",
      "1/1 [==============================] - 0s 11ms/step - loss: 6.9442 - mae: 6.9442\n",
      "Epoch 14/100\n",
      "1/1 [==============================] - 0s 12ms/step - loss: 7.2766 - mae: 7.2766\n",
      "Epoch 15/100\n",
      "1/1 [==============================] - 0s 10ms/step - loss: 7.5655 - mae: 7.5655\n",
      "Epoch 16/100\n",
      "1/1 [==============================] - 0s 12ms/step - loss: 7.6154 - mae: 7.6154\n",
      "Epoch 17/100\n",
      "1/1 [==============================] - 0s 12ms/step - loss: 7.4830 - mae: 7.4830\n",
      "Epoch 18/100\n",
      "1/1 [==============================] - 0s 9ms/step - loss: 7.2110 - mae: 7.2110\n",
      "Epoch 19/100\n",
      "1/1 [==============================] - 0s 10ms/step - loss: 6.8381 - mae: 6.8381\n",
      "Epoch 20/100\n",
      "1/1 [==============================] - 0s 9ms/step - loss: 6.5772 - mae: 6.5772\n",
      "Epoch 21/100\n",
      "1/1 [==============================] - 0s 11ms/step - loss: 6.3015 - mae: 6.3015\n",
      "Epoch 22/100\n",
      "1/1 [==============================] - 0s 13ms/step - loss: 6.0148 - mae: 6.0148\n",
      "Epoch 23/100\n",
      "1/1 [==============================] - 0s 10ms/step - loss: 5.9153 - mae: 5.9153\n",
      "Epoch 24/100\n",
      "1/1 [==============================] - 0s 8ms/step - loss: 5.8711 - mae: 5.8711\n",
      "Epoch 25/100\n",
      "1/1 [==============================] - 0s 8ms/step - loss: 6.0650 - mae: 6.0650\n",
      "Epoch 26/100\n",
      "1/1 [==============================] - 0s 8ms/step - loss: 6.1451 - mae: 6.1451\n",
      "Epoch 27/100\n",
      "1/1 [==============================] - 0s 7ms/step - loss: 6.1236 - mae: 6.1236\n",
      "Epoch 28/100\n",
      "1/1 [==============================] - 0s 11ms/step - loss: 6.0128 - mae: 6.0128\n",
      "Epoch 29/100\n",
      "1/1 [==============================] - 0s 7ms/step - loss: 5.8213 - mae: 5.8213\n",
      "Epoch 30/100\n",
      "1/1 [==============================] - 0s 7ms/step - loss: 5.5558 - mae: 5.5558\n",
      "Epoch 31/100\n",
      "1/1 [==============================] - 0s 8ms/step - loss: 5.2960 - mae: 5.2960\n",
      "Epoch 32/100\n",
      "1/1 [==============================] - 0s 9ms/step - loss: 5.1794 - mae: 5.1794\n",
      "Epoch 33/100\n",
      "1/1 [==============================] - 0s 7ms/step - loss: 5.0875 - mae: 5.0875\n",
      "Epoch 34/100\n",
      "1/1 [==============================] - 0s 8ms/step - loss: 5.0917 - mae: 5.0917\n",
      "Epoch 35/100\n",
      "1/1 [==============================] - 0s 8ms/step - loss: 5.0520 - mae: 5.0520\n",
      "Epoch 36/100\n",
      "1/1 [==============================] - 0s 8ms/step - loss: 4.9716 - mae: 4.9716\n",
      "Epoch 37/100\n",
      "1/1 [==============================] - 0s 8ms/step - loss: 4.8537 - mae: 4.8537\n",
      "Epoch 38/100\n",
      "1/1 [==============================] - 0s 7ms/step - loss: 4.7014 - mae: 4.7014\n",
      "Epoch 39/100\n",
      "1/1 [==============================] - 0s 11ms/step - loss: 4.5176 - mae: 4.5176\n",
      "Epoch 40/100\n",
      "1/1 [==============================] - 0s 8ms/step - loss: 4.3438 - mae: 4.3438\n",
      "Epoch 41/100\n",
      "1/1 [==============================] - 0s 8ms/step - loss: 4.2437 - mae: 4.2437\n",
      "Epoch 42/100\n",
      "1/1 [==============================] - 0s 26ms/step - loss: 4.1354 - mae: 4.1354\n",
      "Epoch 43/100\n",
      "1/1 [==============================] - 0s 11ms/step - loss: 4.0192 - mae: 4.0192\n",
      "Epoch 44/100\n",
      "1/1 [==============================] - 0s 13ms/step - loss: 3.8827 - mae: 3.8827\n",
      "Epoch 45/100\n",
      "1/1 [==============================] - 0s 10ms/step - loss: 3.7390 - mae: 3.7390\n",
      "Epoch 46/100\n",
      "1/1 [==============================] - 0s 11ms/step - loss: 3.5873 - mae: 3.5873\n",
      "Epoch 47/100\n",
      "1/1 [==============================] - 0s 14ms/step - loss: 3.4275 - mae: 3.4275\n",
      "Epoch 48/100\n",
      "1/1 [==============================] - 0s 14ms/step - loss: 3.2593 - mae: 3.2593\n",
      "Epoch 49/100\n",
      "1/1 [==============================] - 0s 11ms/step - loss: 3.0824 - mae: 3.0824\n",
      "Epoch 50/100\n",
      "1/1 [==============================] - 0s 14ms/step - loss: 2.9001 - mae: 2.9001\n",
      "Epoch 51/100\n",
      "1/1 [==============================] - 0s 10ms/step - loss: 2.7242 - mae: 2.7242\n",
      "Epoch 52/100\n",
      "1/1 [==============================] - 0s 10ms/step - loss: 2.5343 - mae: 2.5343\n",
      "Epoch 53/100\n",
      "1/1 [==============================] - 0s 12ms/step - loss: 2.3431 - mae: 2.3431\n",
      "Epoch 54/100\n",
      "1/1 [==============================] - 0s 12ms/step - loss: 2.1404 - mae: 2.1404\n",
      "Epoch 55/100\n",
      "1/1 [==============================] - 0s 12ms/step - loss: 1.9261 - mae: 1.9261\n",
      "Epoch 56/100\n",
      "1/1 [==============================] - 0s 9ms/step - loss: 1.6999 - mae: 1.6999\n",
      "Epoch 57/100\n",
      "1/1 [==============================] - 0s 13ms/step - loss: 1.4618 - mae: 1.4618\n",
      "Epoch 58/100\n",
      "1/1 [==============================] - 0s 11ms/step - loss: 1.2115 - mae: 1.2115\n",
      "Epoch 59/100\n",
      "1/1 [==============================] - 0s 13ms/step - loss: 0.9488 - mae: 0.9488\n",
      "Epoch 60/100\n",
      "1/1 [==============================] - 0s 11ms/step - loss: 0.7194 - mae: 0.7194\n",
      "Epoch 61/100\n",
      "1/1 [==============================] - 0s 12ms/step - loss: 0.4128 - mae: 0.4128\n",
      "Epoch 62/100\n",
      "1/1 [==============================] - 0s 12ms/step - loss: 0.2408 - mae: 0.2408\n",
      "Epoch 63/100\n",
      "1/1 [==============================] - 0s 13ms/step - loss: 0.2626 - mae: 0.2626\n",
      "Epoch 64/100\n",
      "1/1 [==============================] - 0s 11ms/step - loss: 0.5639 - mae: 0.5639\n",
      "Epoch 65/100\n",
      "1/1 [==============================] - 0s 20ms/step - loss: 0.7669 - mae: 0.7669\n",
      "Epoch 66/100\n",
      "1/1 [==============================] - 0s 15ms/step - loss: 0.7251 - mae: 0.7251\n",
      "Epoch 67/100\n",
      "1/1 [==============================] - 0s 17ms/step - loss: 0.8410 - mae: 0.8410\n",
      "Epoch 68/100\n",
      "1/1 [==============================] - 0s 11ms/step - loss: 0.8853 - mae: 0.8853\n",
      "Epoch 69/100\n",
      "1/1 [==============================] - 0s 15ms/step - loss: 0.8227 - mae: 0.8227\n",
      "Epoch 70/100\n",
      "1/1 [==============================] - 0s 11ms/step - loss: 0.7931 - mae: 0.7931\n",
      "Epoch 71/100\n",
      "1/1 [==============================] - 0s 14ms/step - loss: 0.6873 - mae: 0.6873\n",
      "Epoch 72/100\n",
      "1/1 [==============================] - 0s 19ms/step - loss: 0.6236 - mae: 0.6236\n",
      "Epoch 73/100\n",
      "1/1 [==============================] - 0s 15ms/step - loss: 0.5038 - mae: 0.5038\n",
      "Epoch 74/100\n",
      "1/1 [==============================] - 0s 13ms/step - loss: 0.3218 - mae: 0.3218\n",
      "Epoch 75/100\n",
      "1/1 [==============================] - 0s 13ms/step - loss: 0.1713 - mae: 0.1713\n",
      "Epoch 76/100\n",
      "1/1 [==============================] - 0s 13ms/step - loss: 0.1601 - mae: 0.1601\n",
      "Epoch 77/100\n",
      "1/1 [==============================] - 0s 13ms/step - loss: 0.2103 - mae: 0.2103\n",
      "Epoch 78/100\n",
      "1/1 [==============================] - 0s 15ms/step - loss: 0.4255 - mae: 0.4255\n",
      "Epoch 79/100\n",
      "1/1 [==============================] - 0s 16ms/step - loss: 0.4509 - mae: 0.4509\n",
      "Epoch 80/100\n",
      "1/1 [==============================] - 0s 12ms/step - loss: 0.3747 - mae: 0.3747\n",
      "Epoch 81/100\n",
      "1/1 [==============================] - 0s 14ms/step - loss: 0.5048 - mae: 0.5048\n",
      "Epoch 82/100\n",
      "1/1 [==============================] - 0s 12ms/step - loss: 0.4564 - mae: 0.4564\n",
      "Epoch 83/100\n",
      "1/1 [==============================] - 0s 19ms/step - loss: 0.2882 - mae: 0.2882\n",
      "Epoch 84/100\n",
      "1/1 [==============================] - 0s 16ms/step - loss: 0.2692 - mae: 0.2692\n",
      "Epoch 85/100\n",
      "1/1 [==============================] - 0s 17ms/step - loss: 0.1091 - mae: 0.1091\n",
      "Epoch 86/100\n",
      "1/1 [==============================] - 0s 11ms/step - loss: 0.1073 - mae: 0.1073\n",
      "Epoch 87/100\n",
      "1/1 [==============================] - 0s 10ms/step - loss: 0.1990 - mae: 0.1990\n",
      "Epoch 88/100\n",
      "1/1 [==============================] - 0s 12ms/step - loss: 0.2581 - mae: 0.2581\n",
      "Epoch 89/100\n",
      "1/1 [==============================] - 0s 10ms/step - loss: 0.1937 - mae: 0.1937\n",
      "Epoch 90/100\n",
      "1/1 [==============================] - 0s 10ms/step - loss: 0.2265 - mae: 0.2265\n",
      "Epoch 91/100\n",
      "1/1 [==============================] - 0s 12ms/step - loss: 0.1548 - mae: 0.1548\n",
      "Epoch 92/100\n",
      "1/1 [==============================] - 0s 10ms/step - loss: 0.0729 - mae: 0.0729\n",
      "Epoch 93/100\n",
      "1/1 [==============================] - 0s 7ms/step - loss: 0.0444 - mae: 0.0444\n",
      "Epoch 94/100\n",
      "1/1 [==============================] - 0s 8ms/step - loss: 0.2124 - mae: 0.2124\n",
      "Epoch 95/100\n",
      "1/1 [==============================] - 0s 8ms/step - loss: 0.2010 - mae: 0.2010\n",
      "Epoch 96/100\n",
      "1/1 [==============================] - 0s 7ms/step - loss: 0.1851 - mae: 0.1851\n",
      "Epoch 97/100\n",
      "1/1 [==============================] - 0s 7ms/step - loss: 0.1402 - mae: 0.1402\n",
      "Epoch 98/100\n",
      "1/1 [==============================] - 0s 8ms/step - loss: 0.1891 - mae: 0.1891\n",
      "Epoch 99/100\n",
      "1/1 [==============================] - 0s 8ms/step - loss: 0.1354 - mae: 0.1354\n",
      "Epoch 100/100\n",
      "1/1 [==============================] - 0s 8ms/step - loss: 0.2031 - mae: 0.2031\n"
     ]
    },
    {
     "data": {
      "text/plain": "<keras.callbacks.History at 0x7f36c4764890>"
     },
     "execution_count": 27,
     "metadata": {},
     "output_type": "execute_result"
    }
   ],
   "source": [
    "# Let's see if we can make another to improve our model\n",
    "\n",
    "# 1. Create the model (this time with an extra hidden layer with 100 hidden units)\n",
    "model = tf.keras.Sequential([\n",
    "    tf.keras.layers.Dense(50, activation=None),\n",
    "    tf.keras.layers.Dense(1)\n",
    "])\n",
    "\n",
    "# 2. Compile the model\n",
    "model.compile(loss=\"mae\",\n",
    "              optimizer=tf.keras.optimizers.Adam(learning_rate=0.01),\n",
    "              metrics=[\"mae\"])\n",
    "\n",
    "# 3. Fit the model\n",
    "model.fit(tf.expand_dims(X, axis=-1), y, epochs=100)"
   ],
   "metadata": {
    "colab": {
     "base_uri": "https://localhost:8080/"
    },
    "id": "8b9aa4f166adf717",
    "executionInfo": {
     "status": "ok",
     "timestamp": 1696076707677,
     "user_tz": -420,
     "elapsed": 3639,
     "user": {
      "displayName": "kang sigit",
      "userId": "15887135570512197739"
     }
    },
    "outputId": "09a15c82-6c48-4a25-f2e2-9e9be634ab0e",
    "ExecuteTime": {
     "end_time": "2024-01-08T06:37:47.053131160Z",
     "start_time": "2024-01-08T06:37:44.449308533Z"
    }
   },
   "id": "8b9aa4f166adf717"
  },
  {
   "cell_type": "code",
   "execution_count": 28,
   "outputs": [
    {
     "data": {
      "text/plain": "(<tf.Tensor: shape=(8,), dtype=float32, numpy=array([-7., -4., -1.,  2.,  5.,  8., 11., 14.], dtype=float32)>,\n <tf.Tensor: shape=(8,), dtype=float32, numpy=array([ 3.,  6.,  9., 12., 15., 18., 21., 24.], dtype=float32)>)"
     },
     "execution_count": 28,
     "metadata": {},
     "output_type": "execute_result"
    }
   ],
   "source": [
    "# Let's remind ourselves of the data\n",
    "X, y"
   ],
   "metadata": {
    "colab": {
     "base_uri": "https://localhost:8080/"
    },
    "id": "6b5bd6ece9fcbd99",
    "executionInfo": {
     "status": "ok",
     "timestamp": 1696076707678,
     "user_tz": -420,
     "elapsed": 37,
     "user": {
      "displayName": "kang sigit",
      "userId": "15887135570512197739"
     }
    },
    "outputId": "5cc7cd2b-d423-4cea-c5fb-aeaceda59838",
    "ExecuteTime": {
     "end_time": "2024-01-08T06:37:50.247284084Z",
     "start_time": "2024-01-08T06:37:50.209631944Z"
    }
   },
   "id": "6b5bd6ece9fcbd99"
  },
  {
   "cell_type": "code",
   "execution_count": 29,
   "outputs": [
    {
     "name": "stdout",
     "output_type": "stream",
     "text": [
      "1/1 [==============================] - 0s 77ms/step\n"
     ]
    },
    {
     "data": {
      "text/plain": "array([[27.529137]], dtype=float32)"
     },
     "execution_count": 29,
     "metadata": {},
     "output_type": "execute_result"
    }
   ],
   "source": [
    "# Let's  try to make a prediction\n",
    "model.predict([17.0])"
   ],
   "metadata": {
    "colab": {
     "base_uri": "https://localhost:8080/"
    },
    "id": "a0f497158a07079a",
    "executionInfo": {
     "status": "ok",
     "timestamp": 1696076707678,
     "user_tz": -420,
     "elapsed": 30,
     "user": {
      "displayName": "kang sigit",
      "userId": "15887135570512197739"
     }
    },
    "outputId": "5d49bee4-aedd-4687-ee45-a21a4d31ef92",
    "ExecuteTime": {
     "end_time": "2024-01-08T06:37:51.188341183Z",
     "start_time": "2024-01-08T06:37:51.051269525Z"
    }
   },
   "id": "a0f497158a07079a"
  },
  {
   "cell_type": "markdown",
   "source": [
    "## Evaluating a model\n",
    "\n",
    "In practice, a typical workflow you'll go through when building neural networks is:\n",
    "\n",
    "```\n",
    "Build a model -> fit it -> evaluate it -> tweak a model -> fit it -> evaluate it -> tweak a model -> fit it -> evaluate it...\n",
    "```\n",
    "\n"
   ],
   "metadata": {
    "collapsed": false,
    "id": "8586a632a5e30d87"
   },
   "id": "8586a632a5e30d87"
  },
  {
   "cell_type": "markdown",
   "source": [
    "When it comes to evaluation... there are 3 words you should memorize:\n",
    "\n",
    "> \"Visualize, visualize, visualize\"\n",
    "\n",
    "It's a good idea to visualize:\n",
    "* The data - what data are we working with? What does it look like?\n",
    "* The model itself - what does our model look like?\n",
    "* The training of a model - how does a model perform while it learns?\n",
    "* The predictions of the model - how do the predictions od a model line up against the ground truth (the original labels)?"
   ],
   "metadata": {
    "collapsed": false,
    "id": "b0557d4d9296152e"
   },
   "id": "b0557d4d9296152e"
  },
  {
   "cell_type": "code",
   "execution_count": 30,
   "outputs": [
    {
     "data": {
      "text/plain": "<tf.Tensor: shape=(50,), dtype=int32, numpy=\narray([-100,  -96,  -92,  -88,  -84,  -80,  -76,  -72,  -68,  -64,  -60,\n        -56,  -52,  -48,  -44,  -40,  -36,  -32,  -28,  -24,  -20,  -16,\n        -12,   -8,   -4,    0,    4,    8,   12,   16,   20,   24,   28,\n         32,   36,   40,   44,   48,   52,   56,   60,   64,   68,   72,\n         76,   80,   84,   88,   92,   96], dtype=int32)>"
     },
     "execution_count": 30,
     "metadata": {},
     "output_type": "execute_result"
    }
   ],
   "source": [
    "# Make a bigger dataset\n",
    "X = tf.range(-100, 100, 4)\n",
    "X"
   ],
   "metadata": {
    "colab": {
     "base_uri": "https://localhost:8080/"
    },
    "id": "ebfdaf1ca49a3887",
    "executionInfo": {
     "status": "ok",
     "timestamp": 1696076707678,
     "user_tz": -420,
     "elapsed": 27,
     "user": {
      "displayName": "kang sigit",
      "userId": "15887135570512197739"
     }
    },
    "outputId": "bc30d2c0-7064-4c85-ad7c-5b2adb992cb9",
    "ExecuteTime": {
     "end_time": "2024-01-08T06:38:33.578884049Z",
     "start_time": "2024-01-08T06:38:33.523309772Z"
    }
   },
   "id": "ebfdaf1ca49a3887"
  },
  {
   "cell_type": "code",
   "execution_count": 31,
   "outputs": [
    {
     "data": {
      "text/plain": "<tf.Tensor: shape=(50,), dtype=int32, numpy=\narray([-90, -86, -82, -78, -74, -70, -66, -62, -58, -54, -50, -46, -42,\n       -38, -34, -30, -26, -22, -18, -14, -10,  -6,  -2,   2,   6,  10,\n        14,  18,  22,  26,  30,  34,  38,  42,  46,  50,  54,  58,  62,\n        66,  70,  74,  78,  82,  86,  90,  94,  98, 102, 106], dtype=int32)>"
     },
     "execution_count": 31,
     "metadata": {},
     "output_type": "execute_result"
    }
   ],
   "source": [
    "# Make labels for the dataset\n",
    "y = X + 10\n",
    "y"
   ],
   "metadata": {
    "colab": {
     "base_uri": "https://localhost:8080/"
    },
    "id": "5573573108e8addc",
    "executionInfo": {
     "status": "ok",
     "timestamp": 1696076707678,
     "user_tz": -420,
     "elapsed": 25,
     "user": {
      "displayName": "kang sigit",
      "userId": "15887135570512197739"
     }
    },
    "outputId": "799c0f5b-54de-446d-80ad-e0ab45651900",
    "ExecuteTime": {
     "end_time": "2024-01-08T06:38:36.307930455Z",
     "start_time": "2024-01-08T06:38:36.267117609Z"
    }
   },
   "id": "5573573108e8addc"
  },
  {
   "cell_type": "code",
   "execution_count": 32,
   "outputs": [
    {
     "data": {
      "text/plain": "<matplotlib.collections.PathCollection at 0x7f36c4666810>"
     },
     "execution_count": 32,
     "metadata": {},
     "output_type": "execute_result"
    },
    {
     "data": {
      "text/plain": "<Figure size 640x480 with 1 Axes>",
      "image/png": "[encoded data removed]"
     },
     "metadata": {},
     "output_type": "display_data"
    }
   ],
   "source": [
    "# Visualize the data\n",
    "import matplotlib.pyplot as plt\n",
    "\n",
    "plt.scatter(X, y)"
   ],
   "metadata": {
    "colab": {
     "base_uri": "https://localhost:8080/",
     "height": 448
    },
    "id": "819381cfdadb50fa",
    "executionInfo": {
     "status": "ok",
     "timestamp": 1696076707678,
     "user_tz": -420,
     "elapsed": 23,
     "user": {
      "displayName": "kang sigit",
      "userId": "15887135570512197739"
     }
    },
    "outputId": "50eb4a39-f417-4bbe-8dfa-b4e0ffe18018",
    "ExecuteTime": {
     "end_time": "2024-01-08T06:38:37.054496567Z",
     "start_time": "2024-01-08T06:38:36.905264224Z"
    }
   },
   "id": "819381cfdadb50fa"
  },
  {
   "cell_type": "markdown",
   "source": [
    "### The 3 sets...\n",
    "\n",
    "* **Training set** - the model learns from this data, which is typically 70-80% of total data you have available.\n",
    "* **Validation set** - the model gets tuned oh this data, which is typically 10-15% of the data available.\n",
    "* **Test set** - the model gets evaluated on this data to test what is has learned, this set is typically 10-15% of the total data available."
   ],
   "metadata": {
    "collapsed": false,
    "id": "811bf5a27ae79738"
   },
   "id": "811bf5a27ae79738"
  },
  {
   "cell_type": "code",
   "execution_count": 33,
   "outputs": [
    {
     "data": {
      "text/plain": "50"
     },
     "execution_count": 33,
     "metadata": {},
     "output_type": "execute_result"
    }
   ],
   "source": [
    "# Check the length of how many samples we have\n",
    "len(X)"
   ],
   "metadata": {
    "colab": {
     "base_uri": "https://localhost:8080/"
    },
    "id": "65fe1205cafb59",
    "executionInfo": {
     "status": "ok",
     "timestamp": 1696076707678,
     "user_tz": -420,
     "elapsed": 20,
     "user": {
      "displayName": "kang sigit",
      "userId": "15887135570512197739"
     }
    },
    "outputId": "73236141-f7f9-4151-9726-e43586bc76ec",
    "ExecuteTime": {
     "end_time": "2024-01-08T06:38:40.298271172Z",
     "start_time": "2024-01-08T06:38:40.239609932Z"
    }
   },
   "id": "65fe1205cafb59"
  },
  {
   "cell_type": "code",
   "execution_count": 34,
   "outputs": [
    {
     "data": {
      "text/plain": "(40, 10, 40, 10)"
     },
     "execution_count": 34,
     "metadata": {},
     "output_type": "execute_result"
    }
   ],
   "source": [
    "# Split the data into train and test sets\n",
    "X_train = X[:40] # first 40 are training samples (80% of the data)\n",
    "y_train = y[:40]\n",
    "X_test = X[40:] # last 10 are testing samples (20% of the data)\n",
    "y_test = y[40:]\n",
    "\n",
    "len(X_train), len(X_test), len(y_train), len(y_test)"
   ],
   "metadata": {
    "colab": {
     "base_uri": "https://localhost:8080/"
    },
    "id": "6d4cae941d61ab0d",
    "executionInfo": {
     "status": "ok",
     "timestamp": 1696076707678,
     "user_tz": -420,
     "elapsed": 19,
     "user": {
      "displayName": "kang sigit",
      "userId": "15887135570512197739"
     }
    },
    "outputId": "222f4a3f-fa48-4167-dd93-388106b231f7",
    "ExecuteTime": {
     "end_time": "2024-01-08T06:38:41.944018554Z",
     "start_time": "2024-01-08T06:38:41.899789865Z"
    }
   },
   "id": "6d4cae941d61ab0d"
  },
  {
   "cell_type": "markdown",
   "source": [
    "### Visualing the data\n",
    "\n",
    "Now we've got our data in training and test sets... let's visualize it again!"
   ],
   "metadata": {
    "collapsed": false,
    "id": "83c7526489cf18e8"
   },
   "id": "83c7526489cf18e8"
  },
  {
   "cell_type": "code",
   "execution_count": 35,
   "outputs": [
    {
     "data": {
      "text/plain": "<Figure size 1000x700 with 1 Axes>",
      "image/png": "[encoded data removed]"
     },
     "metadata": {},
     "output_type": "display_data"
    }
   ],
   "source": [
    "plt.figure(figsize=(10, 7))\n",
    "# Plot training data in blue\n",
    "plt.scatter(X_train, y_train, c=\"b\", label=\"Training data\")\n",
    "# Plot test data in green\n",
    "plt.scatter(X_test, y_test, c=\"g\", label=\"Testing data\")\n",
    "# Show a legend\n",
    "plt.legend();"
   ],
   "metadata": {
    "colab": {
     "base_uri": "https://localhost:8080/",
     "height": 599
    },
    "id": "ab7249faa73bbe9",
    "executionInfo": {
     "status": "ok",
     "timestamp": 1696076708327,
     "user_tz": -420,
     "elapsed": 666,
     "user": {
      "displayName": "kang sigit",
      "userId": "15887135570512197739"
     }
    },
    "outputId": "6e495691-ff17-4a7f-c1b2-2579095d6b81",
    "ExecuteTime": {
     "end_time": "2024-01-08T06:38:44.164274235Z",
     "start_time": "2024-01-08T06:38:43.795543599Z"
    }
   },
   "id": "ab7249faa73bbe9"
  },
  {
   "cell_type": "code",
   "execution_count": 36,
   "outputs": [],
   "source": [
    "# Let's have a look at how to build a neural network for our data\n",
    "\n",
    "# 1. Create a model\n",
    "model = tf.keras.Sequential([\n",
    "    tf.keras.layers.Dense(1)\n",
    "])\n",
    "\n",
    "# 2. Compile the model\n",
    "model.compile(loss=tf.keras.losses.mae,\n",
    "              optimizer=tf.keras.optimizers.SGD(),\n",
    "              metrics=[\"mae\"])\n",
    "\n",
    "# 3. Fit the model\n",
    "# model.fit(tf.expand_dims(X_train, axis=-1), y_train, epochs=100)"
   ],
   "metadata": {
    "id": "d8ffee7c2a8e42f7",
    "executionInfo": {
     "status": "ok",
     "timestamp": 1696076708328,
     "user_tz": -420,
     "elapsed": 10,
     "user": {
      "displayName": "kang sigit",
      "userId": "15887135570512197739"
     }
    },
    "ExecuteTime": {
     "end_time": "2024-01-08T06:38:51.289412522Z",
     "start_time": "2024-01-08T06:38:51.246511666Z"
    }
   },
   "id": "d8ffee7c2a8e42f7"
  },
  {
   "cell_type": "markdown",
   "source": [
    "### Visualizing the model"
   ],
   "metadata": {
    "collapsed": false,
    "id": "898b10b4eeedd11e"
   },
   "id": "898b10b4eeedd11e"
  },
  {
   "cell_type": "code",
   "execution_count": 37,
   "outputs": [
    {
     "ename": "ValueError",
     "evalue": "This model has not yet been built. Build the model first by calling `build()` or by calling the model on a batch of data.",
     "output_type": "error",
     "traceback": [
      "\u001B[0;31m---------------------------------------------------------------------------\u001B[0m",
      "\u001B[0;31mValueError\u001B[0m                                Traceback (most recent call last)",
      "Cell \u001B[0;32mIn[37], line 1\u001B[0m\n\u001B[0;32m----> 1\u001B[0m model\u001B[38;5;241m.\u001B[39msummary()\n",
      "File \u001B[0;32m~/anaconda3/envs/tensorflow-zero-to-master/lib/python3.11/site-packages/keras/engine/training.py:3229\u001B[0m, in \u001B[0;36mModel.summary\u001B[0;34m(self, line_length, positions, print_fn, expand_nested, show_trainable, layer_range)\u001B[0m\n\u001B[1;32m   3198\u001B[0m \u001B[38;5;250m\u001B[39m\u001B[38;5;124;03m\"\"\"Prints a string summary of the network.\u001B[39;00m\n\u001B[1;32m   3199\u001B[0m \n\u001B[1;32m   3200\u001B[0m \u001B[38;5;124;03mArgs:\u001B[39;00m\n\u001B[0;32m   (...)\u001B[0m\n\u001B[1;32m   3226\u001B[0m \u001B[38;5;124;03m    ValueError: if `summary()` is called before the model is built.\u001B[39;00m\n\u001B[1;32m   3227\u001B[0m \u001B[38;5;124;03m\"\"\"\u001B[39;00m\n\u001B[1;32m   3228\u001B[0m \u001B[38;5;28;01mif\u001B[39;00m \u001B[38;5;129;01mnot\u001B[39;00m \u001B[38;5;28mself\u001B[39m\u001B[38;5;241m.\u001B[39mbuilt:\n\u001B[0;32m-> 3229\u001B[0m     \u001B[38;5;28;01mraise\u001B[39;00m \u001B[38;5;167;01mValueError\u001B[39;00m(\n\u001B[1;32m   3230\u001B[0m         \u001B[38;5;124m\"\u001B[39m\u001B[38;5;124mThis model has not yet been built. \u001B[39m\u001B[38;5;124m\"\u001B[39m\n\u001B[1;32m   3231\u001B[0m         \u001B[38;5;124m\"\u001B[39m\u001B[38;5;124mBuild the model first by calling `build()` or by calling \u001B[39m\u001B[38;5;124m\"\u001B[39m\n\u001B[1;32m   3232\u001B[0m         \u001B[38;5;124m\"\u001B[39m\u001B[38;5;124mthe model on a batch of data.\u001B[39m\u001B[38;5;124m\"\u001B[39m\n\u001B[1;32m   3233\u001B[0m     )\n\u001B[1;32m   3234\u001B[0m layer_utils\u001B[38;5;241m.\u001B[39mprint_summary(\n\u001B[1;32m   3235\u001B[0m     \u001B[38;5;28mself\u001B[39m,\n\u001B[1;32m   3236\u001B[0m     line_length\u001B[38;5;241m=\u001B[39mline_length,\n\u001B[0;32m   (...)\u001B[0m\n\u001B[1;32m   3241\u001B[0m     layer_range\u001B[38;5;241m=\u001B[39mlayer_range,\n\u001B[1;32m   3242\u001B[0m )\n",
      "\u001B[0;31mValueError\u001B[0m: This model has not yet been built. Build the model first by calling `build()` or by calling the model on a batch of data."
     ]
    }
   ],
   "source": [
    "model.summary()"
   ],
   "metadata": {
    "colab": {
     "base_uri": "https://localhost:8080/",
     "height": 346
    },
    "id": "5c62d9de9c0b5118",
    "executionInfo": {
     "status": "error",
     "timestamp": 1696076708328,
     "user_tz": -420,
     "elapsed": 9,
     "user": {
      "displayName": "kang sigit",
      "userId": "15887135570512197739"
     }
    },
    "outputId": "d80a5003-4477-4613-82d5-9ebc9a96dd43",
    "ExecuteTime": {
     "end_time": "2024-01-08T06:38:54.616901987Z",
     "start_time": "2024-01-08T06:38:53.801916858Z"
    }
   },
   "id": "5c62d9de9c0b5118"
  },
  {
   "cell_type": "code",
   "execution_count": 38,
   "outputs": [
    {
     "data": {
      "text/plain": "(<tf.Tensor: shape=(), dtype=int32, numpy=-100>,\n <tf.Tensor: shape=(), dtype=int32, numpy=-90>)"
     },
     "execution_count": 38,
     "metadata": {},
     "output_type": "execute_result"
    }
   ],
   "source": [
    "X[0], y[0]"
   ],
   "metadata": {
    "colab": {
     "base_uri": "https://localhost:8080/"
    },
    "id": "46ca08d5fb0a5d65",
    "executionInfo": {
     "status": "ok",
     "timestamp": 1696076717633,
     "user_tz": -420,
     "elapsed": 10,
     "user": {
      "displayName": "kang sigit",
      "userId": "15887135570512197739"
     }
    },
    "outputId": "7153ad61-fb91-4517-d967-04743d87b16f",
    "ExecuteTime": {
     "end_time": "2024-01-08T06:38:55.339737545Z",
     "start_time": "2024-01-08T06:38:55.299303941Z"
    }
   },
   "id": "46ca08d5fb0a5d65"
  },
  {
   "cell_type": "code",
   "execution_count": 39,
   "outputs": [],
   "source": [
    "# Let's create a model which builds automatically by defining the input_shape argument in the first layer\n",
    "tf.random.set_seed(42)\n",
    "\n",
    "# 1. Create a model (same as above)\n",
    "model = tf.keras.Sequential([\n",
    "    tf.keras.layers.Dense(10, input_shape=[1], name=\"input_layer\"),\n",
    "    tf.keras.layers.Dense(1, name=\"output_layer\")\n",
    "], name=\"model_1\")\n",
    "\n",
    "# 2. Compile the model (same as above)\n",
    "model.compile(loss=tf.keras.losses.mae,\n",
    "              optimizer=tf.keras.optimizers.SGD(),\n",
    "              metrics=[\"mae\"])"
   ],
   "metadata": {
    "id": "42cd0d927d2d8699",
    "executionInfo": {
     "status": "ok",
     "timestamp": 1696076720211,
     "user_tz": -420,
     "elapsed": 10,
     "user": {
      "displayName": "kang sigit",
      "userId": "15887135570512197739"
     }
    },
    "ExecuteTime": {
     "end_time": "2024-01-08T06:38:56.042408495Z",
     "start_time": "2024-01-08T06:38:55.978289329Z"
    }
   },
   "id": "42cd0d927d2d8699"
  },
  {
   "cell_type": "code",
   "execution_count": 40,
   "outputs": [
    {
     "name": "stdout",
     "output_type": "stream",
     "text": [
      "Model: \"model_1\"\n",
      "_________________________________________________________________\n",
      " Layer (type)                Output Shape              Param #   \n",
      "=================================================================\n",
      " input_layer (Dense)         (None, 10)                20        \n",
      "                                                                 \n",
      " output_layer (Dense)        (None, 1)                 11        \n",
      "                                                                 \n",
      "=================================================================\n",
      "Total params: 31\n",
      "Trainable params: 31\n",
      "Non-trainable params: 0\n",
      "_________________________________________________________________\n"
     ]
    }
   ],
   "source": [
    "model.summary()"
   ],
   "metadata": {
    "colab": {
     "base_uri": "https://localhost:8080/"
    },
    "id": "12813b7ae6d41c34",
    "executionInfo": {
     "status": "ok",
     "timestamp": 1696076725813,
     "user_tz": -420,
     "elapsed": 612,
     "user": {
      "displayName": "kang sigit",
      "userId": "15887135570512197739"
     }
    },
    "outputId": "f12abca0-cc47-466d-fcd4-d44e2144977c",
    "ExecuteTime": {
     "end_time": "2024-01-08T06:38:57.195258842Z",
     "start_time": "2024-01-08T06:38:57.122548980Z"
    }
   },
   "id": "12813b7ae6d41c34"
  },
  {
   "cell_type": "markdown",
   "source": [
    "* Total params - total number of parameters in the model.\n",
    "* Trainable parameters - these are the parameters (patterns) the model can update as it trains.\n",
    "* Non-trainable params - these parameters aren't updated during training (this is typical when you bring in already learn patterns or parameters from other models during **transfer learning**)\n",
    "\n",
    "**Resource:** For a more in-depth overview of the trainable parameters within a layer, check out [MIT's introduction to deep learning video](https://www.youtube.com/watch?v=QDX-1M5Nj7s&list=PLtBw6njQRU-rwp5__7C0oIVt26ZgjG9NI&index=2).\n",
    "\n",
    "**Exercise:** Try playing around with the number of hidden units in the dense layer, see how that effects the number of parameters (total and trainable) by calling `model.summary`."
   ],
   "metadata": {
    "collapsed": false,
    "id": "fe2ddf6925ef3e1b"
   },
   "id": "fe2ddf6925ef3e1b"
  },
  {
   "cell_type": "code",
   "execution_count": 41,
   "outputs": [
    {
     "data": {
      "text/plain": "<keras.callbacks.History at 0x7f3687635750>"
     },
     "execution_count": 41,
     "metadata": {},
     "output_type": "execute_result"
    }
   ],
   "source": [
    "# Let's fit our model to the training data\n",
    "model.fit(X_train, y_train, epochs=100, verbose=0)"
   ],
   "metadata": {
    "colab": {
     "base_uri": "https://localhost:8080/"
    },
    "id": "6cae2a5b5d81a33c",
    "executionInfo": {
     "status": "ok",
     "timestamp": 1696076731840,
     "user_tz": -420,
     "elapsed": 2129,
     "user": {
      "displayName": "kang sigit",
      "userId": "15887135570512197739"
     }
    },
    "outputId": "55f2e786-ca32-495c-c4b9-e0d598ca92a0",
    "ExecuteTime": {
     "end_time": "2024-01-08T06:39:00.251439268Z",
     "start_time": "2024-01-08T06:38:58.866119302Z"
    }
   },
   "id": "6cae2a5b5d81a33c"
  },
  {
   "cell_type": "code",
   "execution_count": 42,
   "outputs": [
    {
     "name": "stdout",
     "output_type": "stream",
     "text": [
      "Model: \"model_1\"\n",
      "_________________________________________________________________\n",
      " Layer (type)                Output Shape              Param #   \n",
      "=================================================================\n",
      " input_layer (Dense)         (None, 10)                20        \n",
      "                                                                 \n",
      " output_layer (Dense)        (None, 1)                 11        \n",
      "                                                                 \n",
      "=================================================================\n",
      "Total params: 31\n",
      "Trainable params: 31\n",
      "Non-trainable params: 0\n",
      "_________________________________________________________________\n"
     ]
    }
   ],
   "source": [
    "# Get a summary of our model\n",
    "model.summary()"
   ],
   "metadata": {
    "colab": {
     "base_uri": "https://localhost:8080/"
    },
    "id": "ef79d837a807dbff",
    "executionInfo": {
     "status": "ok",
     "timestamp": 1696076734841,
     "user_tz": -420,
     "elapsed": 14,
     "user": {
      "displayName": "kang sigit",
      "userId": "15887135570512197739"
     }
    },
    "outputId": "b874b077-66d4-48c3-d617-ab8bd9ea2360",
    "ExecuteTime": {
     "end_time": "2024-01-08T06:39:02.246004880Z",
     "start_time": "2024-01-08T06:39:02.155157801Z"
    }
   },
   "id": "ef79d837a807dbff"
  },
  {
   "cell_type": "code",
   "execution_count": 43,
   "outputs": [
    {
     "data": {
      "image/png": "[encoded data removed]",
      "text/plain": "<IPython.core.display.Image object>"
     },
     "execution_count": 43,
     "metadata": {},
     "output_type": "execute_result"
    }
   ],
   "source": [
    "# from tensorflow.keras.utils import plot_model\n",
    "# plot_model(model)\n",
    "tf.keras.utils.plot_model(model=model, show_shapes=True)"
   ],
   "metadata": {
    "colab": {
     "base_uri": "https://localhost:8080/",
     "height": 312
    },
    "id": "9f76823a012a16fc",
    "executionInfo": {
     "status": "ok",
     "timestamp": 1696076739831,
     "user_tz": -420,
     "elapsed": 5,
     "user": {
      "displayName": "kang sigit",
      "userId": "15887135570512197739"
     }
    },
    "outputId": "38ae9add-0cbe-45dd-9626-7c468c85b694",
    "ExecuteTime": {
     "end_time": "2024-01-08T06:39:03.201529131Z",
     "start_time": "2024-01-08T06:39:03.100450597Z"
    }
   },
   "id": "9f76823a012a16fc"
  },
  {
   "cell_type": "markdown",
   "source": [
    "### Visualizing our model's predictions\n",
    "\n",
    "To visualize predictions, it's a good idea to plot them against the ground truth labels.\n",
    "\n",
    "Often you'll see this in the form of `y_test` or `y_true` versus `y_pred` (ground truth versus your model's predictions)"
   ],
   "metadata": {
    "collapsed": false,
    "id": "f5244483f581fae1"
   },
   "id": "f5244483f581fae1"
  },
  {
   "cell_type": "code",
   "execution_count": 44,
   "outputs": [
    {
     "name": "stdout",
     "output_type": "stream",
     "text": [
      "1/1 [==============================] - 0s 45ms/step\n"
     ]
    },
    {
     "data": {
      "text/plain": "array([[ 78.193275],\n       [ 83.28834 ],\n       [ 88.3834  ],\n       [ 93.47846 ],\n       [ 98.573524],\n       [103.66859 ],\n       [108.76366 ],\n       [113.85872 ],\n       [118.95378 ],\n       [124.04884 ]], dtype=float32)"
     },
     "execution_count": 44,
     "metadata": {},
     "output_type": "execute_result"
    }
   ],
   "source": [
    "y_pred = model.predict(X_test)\n",
    "y_pred"
   ],
   "metadata": {
    "colab": {
     "base_uri": "https://localhost:8080/"
    },
    "id": "293c2620b65dc170",
    "executionInfo": {
     "status": "ok",
     "timestamp": 1696076744822,
     "user_tz": -420,
     "elapsed": 10,
     "user": {
      "displayName": "kang sigit",
      "userId": "15887135570512197739"
     }
    },
    "outputId": "4ee87d96-0c2e-4169-b0dd-4c1440d57eb3",
    "ExecuteTime": {
     "end_time": "2024-01-08T06:39:09.200878096Z",
     "start_time": "2024-01-08T06:39:09.032443972Z"
    }
   },
   "id": "293c2620b65dc170"
  },
  {
   "cell_type": "code",
   "execution_count": 45,
   "outputs": [
    {
     "data": {
      "text/plain": "<tf.Tensor: shape=(10,), dtype=int32, numpy=array([ 70,  74,  78,  82,  86,  90,  94,  98, 102, 106], dtype=int32)>"
     },
     "execution_count": 45,
     "metadata": {},
     "output_type": "execute_result"
    }
   ],
   "source": [
    "y_test"
   ],
   "metadata": {
    "colab": {
     "base_uri": "https://localhost:8080/"
    },
    "id": "6c948e1753458992",
    "executionInfo": {
     "status": "ok",
     "timestamp": 1696076748866,
     "user_tz": -420,
     "elapsed": 623,
     "user": {
      "displayName": "kang sigit",
      "userId": "15887135570512197739"
     }
    },
    "outputId": "426fda75-0bdc-4f22-828b-160c21f17527",
    "ExecuteTime": {
     "end_time": "2024-01-08T06:39:11.749389087Z",
     "start_time": "2024-01-08T06:39:11.703426371Z"
    }
   },
   "id": "6c948e1753458992"
  },
  {
   "cell_type": "markdown",
   "source": [
    "🔑 **Note:** If you feel like you're going to reuse some kind of functionality in the future, it's a good idea to turn it into function."
   ],
   "metadata": {
    "collapsed": false,
    "id": "39dcf705504e7045"
   },
   "id": "39dcf705504e7045"
  },
  {
   "cell_type": "code",
   "execution_count": 46,
   "outputs": [],
   "source": [
    "# Let's create a plotting function\n",
    "def plot_predictions(train_data=X_train,\n",
    "                     train_labels=y_train,\n",
    "                     test_data=X_test,\n",
    "                     test_labels=y_test,\n",
    "                     predictions=y_pred):\n",
    "    \"\"\"\n",
    "    Plots training data, test data and compares predictions to ground truth labels.\n",
    "    \"\"\"\n",
    "\n",
    "    plt.figure(figsize=(10, 7))\n",
    "    # Plot training data in blue\n",
    "    plt.scatter(train_data, train_labels, c=\"b\", label=\"Training data\")\n",
    "    # Plot testing data in green\n",
    "    plt.scatter(test_data, test_labels, c=\"g\", label=\"Testing data\")\n",
    "    # Plot model's predictions in red\n",
    "    plt.scatter(test_data, predictions, c=\"r\", label=\"Predictions\")\n",
    "    # Show the legend\n",
    "    plt.legend();"
   ],
   "metadata": {
    "id": "71cba8a1be7b2c81",
    "executionInfo": {
     "status": "ok",
     "timestamp": 1696076751527,
     "user_tz": -420,
     "elapsed": 6,
     "user": {
      "displayName": "kang sigit",
      "userId": "15887135570512197739"
     }
    },
    "ExecuteTime": {
     "end_time": "2024-01-08T06:39:14.242184628Z",
     "start_time": "2024-01-08T06:39:14.201099960Z"
    }
   },
   "id": "71cba8a1be7b2c81"
  },
  {
   "cell_type": "code",
   "execution_count": 47,
   "outputs": [
    {
     "data": {
      "text/plain": "<Figure size 1000x700 with 1 Axes>",
      "image/png": "[encoded data removed]"
     },
     "metadata": {},
     "output_type": "display_data"
    }
   ],
   "source": [
    "plot_predictions(train_data=X_train,\n",
    "                 train_labels=y_train,\n",
    "                 test_data=X_test,\n",
    "                 test_labels=y_test,\n",
    "                 predictions=y_pred)"
   ],
   "metadata": {
    "colab": {
     "base_uri": "https://localhost:8080/",
     "height": 599
    },
    "id": "2a6d51a53151bf01",
    "executionInfo": {
     "status": "ok",
     "timestamp": 1696076756188,
     "user_tz": -420,
     "elapsed": 676,
     "user": {
      "displayName": "kang sigit",
      "userId": "15887135570512197739"
     }
    },
    "outputId": "5622b327-d23a-443a-98eb-37621a728b65",
    "ExecuteTime": {
     "end_time": "2024-01-08T06:39:15.784686001Z",
     "start_time": "2024-01-08T06:39:15.556435046Z"
    }
   },
   "id": "2a6d51a53151bf01"
  },
  {
   "cell_type": "markdown",
   "source": [
    "### Evaluating our model's predictions with regression evaluation metrics\n",
    "\n",
    "Depending on the problem you're working on, there will be different evaluation metrics to evaluate your model's performance.\n",
    "\n",
    "Since we're working on a regresion, two of the main metrics:\n",
    "* MAE - mean absolute error, \"on average, how wrong is each of my model's predictions\"\n",
    "* MSE - mean square error, \"square the average errors\""
   ],
   "metadata": {
    "collapsed": false,
    "id": "9ebf4e56a0b6b139"
   },
   "id": "9ebf4e56a0b6b139"
  },
  {
   "cell_type": "code",
   "execution_count": 48,
   "outputs": [
    {
     "name": "stdout",
     "output_type": "stream",
     "text": [
      "1/1 [==============================] - 0s 116ms/step - loss: 13.1211 - mae: 13.1211\n"
     ]
    },
    {
     "data": {
      "text/plain": "[13.121058464050293, 13.121058464050293]"
     },
     "execution_count": 48,
     "metadata": {},
     "output_type": "execute_result"
    }
   ],
   "source": [
    "# Evaluate the model on the test\n",
    "model.evaluate(X_test, y_test)"
   ],
   "metadata": {
    "colab": {
     "base_uri": "https://localhost:8080/"
    },
    "id": "36177621aade1e45",
    "executionInfo": {
     "status": "ok",
     "timestamp": 1696076760260,
     "user_tz": -420,
     "elapsed": 3,
     "user": {
      "displayName": "kang sigit",
      "userId": "15887135570512197739"
     }
    },
    "outputId": "8fde979d-d6d8-4b3c-cc52-788e23f56633",
    "ExecuteTime": {
     "end_time": "2024-01-08T06:39:19.128547098Z",
     "start_time": "2024-01-08T06:39:18.969079351Z"
    }
   },
   "id": "36177621aade1e45"
  },
  {
   "cell_type": "code",
   "execution_count": 49,
   "outputs": [
    {
     "data": {
      "text/plain": "<tf.Tensor: shape=(10,), dtype=float32, numpy=\narray([12.32269 , 10.542333, 10.      , 10.695692, 12.744115, 16.134869,\n       20.763657, 25.858719, 30.953781, 36.048843], dtype=float32)>"
     },
     "execution_count": 49,
     "metadata": {},
     "output_type": "execute_result"
    }
   ],
   "source": [
    "# Calculate the mean absolute error (wrong output)\n",
    "mae = tf.metrics.mean_absolute_error(y_true=y_test, y_pred=y_pred)\n",
    "mae"
   ],
   "metadata": {
    "colab": {
     "base_uri": "https://localhost:8080/"
    },
    "id": "575b0fa5aebbd5fd",
    "executionInfo": {
     "status": "ok",
     "timestamp": 1696076763811,
     "user_tz": -420,
     "elapsed": 715,
     "user": {
      "displayName": "kang sigit",
      "userId": "15887135570512197739"
     }
    },
    "outputId": "27b75cf0-09ff-4843-c70c-8761bba46195",
    "ExecuteTime": {
     "end_time": "2024-01-08T06:39:20.073101076Z",
     "start_time": "2024-01-08T06:39:20.036051959Z"
    }
   },
   "id": "575b0fa5aebbd5fd"
  },
  {
   "cell_type": "code",
   "execution_count": 50,
   "outputs": [
    {
     "data": {
      "text/plain": "array([[ 78.193275],\n       [ 83.28834 ],\n       [ 88.3834  ],\n       [ 93.47846 ],\n       [ 98.573524],\n       [103.66859 ],\n       [108.76366 ],\n       [113.85872 ],\n       [118.95378 ],\n       [124.04884 ]], dtype=float32)"
     },
     "execution_count": 50,
     "metadata": {},
     "output_type": "execute_result"
    }
   ],
   "source": [
    "y_pred"
   ],
   "metadata": {
    "colab": {
     "base_uri": "https://localhost:8080/"
    },
    "id": "aedf7261aa2cc7ac",
    "executionInfo": {
     "status": "ok",
     "timestamp": 1696076770397,
     "user_tz": -420,
     "elapsed": 550,
     "user": {
      "displayName": "kang sigit",
      "userId": "15887135570512197739"
     }
    },
    "outputId": "780baeaa-5d3c-4eff-94cf-7e86833d9d55",
    "ExecuteTime": {
     "end_time": "2024-01-08T06:39:22.100256973Z",
     "start_time": "2024-01-08T06:39:22.061349948Z"
    }
   },
   "id": "aedf7261aa2cc7ac"
  },
  {
   "cell_type": "code",
   "execution_count": 51,
   "outputs": [
    {
     "data": {
      "text/plain": "<tf.Tensor: shape=(10, 1), dtype=float32, numpy=\narray([[ 78.193275],\n       [ 83.28834 ],\n       [ 88.3834  ],\n       [ 93.47846 ],\n       [ 98.573524],\n       [103.66859 ],\n       [108.76366 ],\n       [113.85872 ],\n       [118.95378 ],\n       [124.04884 ]], dtype=float32)>"
     },
     "execution_count": 51,
     "metadata": {},
     "output_type": "execute_result"
    }
   ],
   "source": [
    "tf.constant(y_pred)"
   ],
   "metadata": {
    "colab": {
     "base_uri": "https://localhost:8080/"
    },
    "id": "efcfefa487523699",
    "executionInfo": {
     "status": "ok",
     "timestamp": 1696076773607,
     "user_tz": -420,
     "elapsed": 546,
     "user": {
      "displayName": "kang sigit",
      "userId": "15887135570512197739"
     }
    },
    "outputId": "208db3b7-e815-45df-983c-245825caa58f",
    "ExecuteTime": {
     "end_time": "2024-01-08T06:39:23.227153581Z",
     "start_time": "2024-01-08T06:39:23.184373681Z"
    }
   },
   "id": "efcfefa487523699"
  },
  {
   "cell_type": "code",
   "execution_count": 52,
   "outputs": [
    {
     "data": {
      "text/plain": "<tf.Tensor: shape=(10,), dtype=float32, numpy=\narray([ 78.193275,  83.28834 ,  88.3834  ,  93.47846 ,  98.573524,\n       103.66859 , 108.76366 , 113.85872 , 118.95378 , 124.04884 ],\n      dtype=float32)>"
     },
     "execution_count": 52,
     "metadata": {},
     "output_type": "execute_result"
    }
   ],
   "source": [
    "tf.squeeze(y_pred)"
   ],
   "metadata": {
    "colab": {
     "base_uri": "https://localhost:8080/"
    },
    "id": "f5f88f1ace7aeab8",
    "executionInfo": {
     "status": "ok",
     "timestamp": 1696076776274,
     "user_tz": -420,
     "elapsed": 11,
     "user": {
      "displayName": "kang sigit",
      "userId": "15887135570512197739"
     }
    },
    "outputId": "36ecd7c8-310f-4361-8a69-a11728deae72",
    "ExecuteTime": {
     "end_time": "2024-01-08T06:39:23.999428999Z",
     "start_time": "2024-01-08T06:39:23.949942977Z"
    }
   },
   "id": "f5f88f1ace7aeab8"
  },
  {
   "cell_type": "code",
   "execution_count": 53,
   "outputs": [
    {
     "data": {
      "text/plain": "<tf.Tensor: shape=(10,), dtype=int32, numpy=array([ 70,  74,  78,  82,  86,  90,  94,  98, 102, 106], dtype=int32)>"
     },
     "execution_count": 53,
     "metadata": {},
     "output_type": "execute_result"
    }
   ],
   "source": [
    "y_test"
   ],
   "metadata": {
    "colab": {
     "base_uri": "https://localhost:8080/"
    },
    "id": "5dad140f654bcf85",
    "executionInfo": {
     "status": "ok",
     "timestamp": 1696076779803,
     "user_tz": -420,
     "elapsed": 9,
     "user": {
      "displayName": "kang sigit",
      "userId": "15887135570512197739"
     }
    },
    "outputId": "eaa141da-b33a-4245-860d-9bf94dc1184b",
    "ExecuteTime": {
     "end_time": "2024-01-08T06:39:24.763689380Z",
     "start_time": "2024-01-08T06:39:24.727248701Z"
    }
   },
   "id": "5dad140f654bcf85"
  },
  {
   "cell_type": "code",
   "execution_count": 54,
   "outputs": [
    {
     "data": {
      "text/plain": "<tf.Tensor: shape=(), dtype=float32, numpy=13.121058>"
     },
     "execution_count": 54,
     "metadata": {},
     "output_type": "execute_result"
    }
   ],
   "source": [
    "# Calculate the mean absolute error\n",
    "mae = tf.metrics.mean_absolute_error(y_true=y_test, y_pred=tf.squeeze(y_pred))\n",
    "mae"
   ],
   "metadata": {
    "colab": {
     "base_uri": "https://localhost:8080/"
    },
    "id": "cd2acac44e2bdbab",
    "executionInfo": {
     "status": "ok",
     "timestamp": 1696076782346,
     "user_tz": -420,
     "elapsed": 7,
     "user": {
      "displayName": "kang sigit",
      "userId": "15887135570512197739"
     }
    },
    "outputId": "080b3669-5b49-49d7-d8b0-369f59c86ff5",
    "ExecuteTime": {
     "end_time": "2024-01-08T06:39:25.751200254Z",
     "start_time": "2024-01-08T06:39:25.704477205Z"
    }
   },
   "id": "cd2acac44e2bdbab"
  },
  {
   "cell_type": "code",
   "execution_count": 55,
   "outputs": [
    {
     "data": {
      "text/plain": "<tf.Tensor: shape=(), dtype=float32, numpy=182.05527>"
     },
     "execution_count": 55,
     "metadata": {},
     "output_type": "execute_result"
    }
   ],
   "source": [
    "# Calculate the mean square error\n",
    "mse = tf.metrics.mean_squared_error(y_true=y_test,\n",
    "                                    y_pred=tf.squeeze(y_pred))\n",
    "mse"
   ],
   "metadata": {
    "colab": {
     "base_uri": "https://localhost:8080/"
    },
    "id": "fe4b0fd576d35da1",
    "executionInfo": {
     "status": "ok",
     "timestamp": 1696076787598,
     "user_tz": -420,
     "elapsed": 700,
     "user": {
      "displayName": "kang sigit",
      "userId": "15887135570512197739"
     }
    },
    "outputId": "cc58b7f4-9bc0-49f0-e7f7-1d2fa4171ae7",
    "ExecuteTime": {
     "end_time": "2024-01-08T06:39:26.522451917Z",
     "start_time": "2024-01-08T06:39:26.476163498Z"
    }
   },
   "id": "fe4b0fd576d35da1"
  },
  {
   "cell_type": "code",
   "execution_count": 56,
   "outputs": [],
   "source": [
    "# Make some functions to reuse MAE and MSE\n",
    "def mae(y_true, y_pred):\n",
    "    return tf.metrics.mean_absolute_error(y_true=y_true,\n",
    "                                          y_pred=tf.squeeze(y_pred))\n",
    "\n",
    "def mse(y_true, y_pred):\n",
    "    return tf.metrics.mean_squared_error(y_true=y_true,\n",
    "                                         y_pred=tf.squeeze(y_pred))"
   ],
   "metadata": {
    "id": "c6fceadbc41c29ae",
    "executionInfo": {
     "status": "ok",
     "timestamp": 1696076790743,
     "user_tz": -420,
     "elapsed": 675,
     "user": {
      "displayName": "kang sigit",
      "userId": "15887135570512197739"
     }
    },
    "ExecuteTime": {
     "end_time": "2024-01-08T06:39:36.760379547Z",
     "start_time": "2024-01-08T06:39:36.704169134Z"
    }
   },
   "id": "c6fceadbc41c29ae"
  },
  {
   "cell_type": "markdown",
   "source": [
    "### Running experiments to improve our model\n",
    "\n",
    "```\n",
    "Build a model -> fit it -> evaluate it -> tweak it -> fit it -> evaluate it -> tweak it -> fit it -> evaluate it ...\n",
    "```\n",
    "\n",
    "1. Get more data - get more examples for your model to train on (more opportunities to learn patterns or relationships between features and labels).\n",
    "2. Make your model larger (using a more complex model) - this might come in the form of more layers or more hidden units in each layer.\n",
    "3. Train for longger - give your model more of a chance to find patterns in the data.\n",
    "\n",
    "Let's do 3 modelling experiments:\n",
    "\n",
    "1. `model_1` - same as original model, 1 layer, trained for 100 epochs.\n",
    "2. `model_2` - 2 layers, trained for 100 epochs.\n",
    "3. `model_3` - 2 layers, trained for 500 epochs.\n",
    "\n",
    "**Build `model_1`**"
   ],
   "metadata": {
    "collapsed": false,
    "id": "b61006e52b76be84"
   },
   "id": "b61006e52b76be84"
  },
  {
   "cell_type": "code",
   "execution_count": 57,
   "outputs": [
    {
     "name": "stdout",
     "output_type": "stream",
     "text": [
      "Epoch 1/100\n",
      "2/2 [==============================] - 0s 5ms/step - loss: 12.2199 - mae: 12.2199\n",
      "Epoch 2/100\n",
      "2/2 [==============================] - 0s 3ms/step - loss: 9.3994 - mae: 9.3994\n",
      "Epoch 3/100\n",
      "2/2 [==============================] - 0s 3ms/step - loss: 11.8576 - mae: 11.8576\n",
      "Epoch 4/100\n",
      "2/2 [==============================] - 0s 3ms/step - loss: 9.2360 - mae: 9.2360\n",
      "Epoch 5/100\n",
      "2/2 [==============================] - 0s 3ms/step - loss: 10.0954 - mae: 10.0954\n",
      "Epoch 6/100\n",
      "2/2 [==============================] - 0s 2ms/step - loss: 9.3664 - mae: 9.3664\n",
      "Epoch 7/100\n",
      "2/2 [==============================] - 0s 2ms/step - loss: 8.5167 - mae: 8.5167\n",
      "Epoch 8/100\n",
      "2/2 [==============================] - 0s 3ms/step - loss: 9.0376 - mae: 9.0376\n",
      "Epoch 9/100\n",
      "2/2 [==============================] - 0s 3ms/step - loss: 18.6211 - mae: 18.6211\n",
      "Epoch 10/100\n",
      "2/2 [==============================] - 0s 2ms/step - loss: 10.0401 - mae: 10.0401\n",
      "Epoch 11/100\n",
      "2/2 [==============================] - 0s 2ms/step - loss: 8.3679 - mae: 8.3679\n",
      "Epoch 12/100\n",
      "2/2 [==============================] - 0s 3ms/step - loss: 10.6041 - mae: 10.6041\n",
      "Epoch 13/100\n",
      "2/2 [==============================] - 0s 2ms/step - loss: 9.7726 - mae: 9.7726\n",
      "Epoch 14/100\n",
      "2/2 [==============================] - 0s 3ms/step - loss: 15.8715 - mae: 15.8715\n",
      "Epoch 15/100\n",
      "2/2 [==============================] - 0s 4ms/step - loss: 11.5131 - mae: 11.5131\n",
      "Epoch 16/100\n",
      "2/2 [==============================] - 0s 2ms/step - loss: 8.5052 - mae: 8.5052\n",
      "Epoch 17/100\n",
      "2/2 [==============================] - 0s 2ms/step - loss: 13.5582 - mae: 13.5582\n",
      "Epoch 18/100\n",
      "2/2 [==============================] - 0s 3ms/step - loss: 11.3677 - mae: 11.3677\n",
      "Epoch 19/100\n",
      "2/2 [==============================] - 0s 4ms/step - loss: 18.0255 - mae: 18.0255\n",
      "Epoch 20/100\n",
      "2/2 [==============================] - 0s 3ms/step - loss: 15.1593 - mae: 15.1593\n",
      "Epoch 21/100\n",
      "2/2 [==============================] - 0s 3ms/step - loss: 11.1126 - mae: 11.1126\n",
      "Epoch 22/100\n",
      "2/2 [==============================] - 0s 4ms/step - loss: 8.2382 - mae: 8.2382\n",
      "Epoch 23/100\n",
      "2/2 [==============================] - 0s 2ms/step - loss: 9.4498 - mae: 9.4498\n",
      "Epoch 24/100\n",
      "2/2 [==============================] - 0s 2ms/step - loss: 7.6796 - mae: 7.6796\n",
      "Epoch 25/100\n",
      "2/2 [==============================] - 0s 3ms/step - loss: 13.0413 - mae: 13.0413\n",
      "Epoch 26/100\n",
      "2/2 [==============================] - 0s 4ms/step - loss: 16.5293 - mae: 16.5293\n",
      "Epoch 27/100\n",
      "2/2 [==============================] - 0s 3ms/step - loss: 13.2554 - mae: 13.2554\n",
      "Epoch 28/100\n",
      "2/2 [==============================] - 0s 3ms/step - loss: 14.3707 - mae: 14.3707\n",
      "Epoch 29/100\n",
      "2/2 [==============================] - 0s 3ms/step - loss: 10.0978 - mae: 10.0978\n",
      "Epoch 30/100\n",
      "2/2 [==============================] - 0s 3ms/step - loss: 16.5128 - mae: 16.5128\n",
      "Epoch 31/100\n",
      "2/2 [==============================] - 0s 4ms/step - loss: 23.4867 - mae: 23.4867\n",
      "Epoch 32/100\n",
      "2/2 [==============================] - 0s 3ms/step - loss: 7.3640 - mae: 7.3640\n",
      "Epoch 33/100\n",
      "2/2 [==============================] - 0s 3ms/step - loss: 9.8019 - mae: 9.8019\n",
      "Epoch 34/100\n",
      "2/2 [==============================] - 0s 3ms/step - loss: 12.2558 - mae: 12.2558\n",
      "Epoch 35/100\n",
      "2/2 [==============================] - 0s 4ms/step - loss: 11.1522 - mae: 11.1522\n",
      "Epoch 36/100\n",
      "2/2 [==============================] - 0s 4ms/step - loss: 13.3752 - mae: 13.3752\n",
      "Epoch 37/100\n",
      "2/2 [==============================] - 0s 3ms/step - loss: 9.4507 - mae: 9.4507\n",
      "Epoch 38/100\n",
      "2/2 [==============================] - 0s 3ms/step - loss: 10.1029 - mae: 10.1029\n",
      "Epoch 39/100\n",
      "2/2 [==============================] - 0s 3ms/step - loss: 10.2042 - mae: 10.2042\n",
      "Epoch 40/100\n",
      "2/2 [==============================] - 0s 4ms/step - loss: 10.9493 - mae: 10.9493\n",
      "Epoch 41/100\n",
      "2/2 [==============================] - 0s 3ms/step - loss: 7.9246 - mae: 7.9246\n",
      "Epoch 42/100\n",
      "2/2 [==============================] - 0s 3ms/step - loss: 10.5808 - mae: 10.5808\n",
      "Epoch 43/100\n",
      "2/2 [==============================] - 0s 4ms/step - loss: 7.2077 - mae: 7.2077\n",
      "Epoch 44/100\n",
      "2/2 [==============================] - 0s 4ms/step - loss: 7.9947 - mae: 7.9947\n",
      "Epoch 45/100\n",
      "2/2 [==============================] - 0s 3ms/step - loss: 9.7876 - mae: 9.7876\n",
      "Epoch 46/100\n",
      "2/2 [==============================] - 0s 3ms/step - loss: 8.8638 - mae: 8.8638\n",
      "Epoch 47/100\n",
      "2/2 [==============================] - 0s 4ms/step - loss: 7.5703 - mae: 7.5703\n",
      "Epoch 48/100\n",
      "2/2 [==============================] - 0s 3ms/step - loss: 8.5720 - mae: 8.5720\n",
      "Epoch 49/100\n",
      "2/2 [==============================] - 0s 3ms/step - loss: 9.9928 - mae: 9.9928\n",
      "Epoch 50/100\n",
      "2/2 [==============================] - 0s 4ms/step - loss: 9.0240 - mae: 9.0240\n",
      "Epoch 51/100\n",
      "2/2 [==============================] - 0s 3ms/step - loss: 10.6622 - mae: 10.6622\n",
      "Epoch 52/100\n",
      "2/2 [==============================] - 0s 4ms/step - loss: 15.2961 - mae: 15.2961\n",
      "Epoch 53/100\n",
      "2/2 [==============================] - 0s 3ms/step - loss: 14.3169 - mae: 14.3169\n",
      "Epoch 54/100\n",
      "2/2 [==============================] - 0s 3ms/step - loss: 21.6152 - mae: 21.6152\n",
      "Epoch 55/100\n",
      "2/2 [==============================] - 0s 4ms/step - loss: 15.9861 - mae: 15.9861\n",
      "Epoch 56/100\n",
      "2/2 [==============================] - 0s 3ms/step - loss: 10.2888 - mae: 10.2888\n",
      "Epoch 57/100\n",
      "2/2 [==============================] - 0s 4ms/step - loss: 9.7626 - mae: 9.7626\n",
      "Epoch 58/100\n",
      "2/2 [==============================] - 0s 3ms/step - loss: 9.0486 - mae: 9.0486\n",
      "Epoch 59/100\n",
      "2/2 [==============================] - 0s 4ms/step - loss: 8.2537 - mae: 8.2537\n",
      "Epoch 60/100\n",
      "2/2 [==============================] - 0s 4ms/step - loss: 9.3507 - mae: 9.3507\n",
      "Epoch 61/100\n",
      "2/2 [==============================] - 0s 4ms/step - loss: 11.1583 - mae: 11.1583\n",
      "Epoch 62/100\n",
      "2/2 [==============================] - 0s 2ms/step - loss: 12.0776 - mae: 12.0776\n",
      "Epoch 63/100\n",
      "2/2 [==============================] - 0s 4ms/step - loss: 7.2660 - mae: 7.2660\n",
      "Epoch 64/100\n",
      "2/2 [==============================] - 0s 3ms/step - loss: 12.4255 - mae: 12.4255\n",
      "Epoch 65/100\n",
      "2/2 [==============================] - 0s 2ms/step - loss: 10.4942 - mae: 10.4942\n",
      "Epoch 66/100\n",
      "2/2 [==============================] - 0s 3ms/step - loss: 15.6106 - mae: 15.6106\n",
      "Epoch 67/100\n",
      "2/2 [==============================] - 0s 3ms/step - loss: 10.0108 - mae: 10.0108\n",
      "Epoch 68/100\n",
      "2/2 [==============================] - 0s 3ms/step - loss: 8.7194 - mae: 8.7194\n",
      "Epoch 69/100\n",
      "2/2 [==============================] - 0s 3ms/step - loss: 13.4872 - mae: 13.4872\n",
      "Epoch 70/100\n",
      "2/2 [==============================] - 0s 3ms/step - loss: 7.4653 - mae: 7.4653\n",
      "Epoch 71/100\n",
      "2/2 [==============================] - 0s 3ms/step - loss: 12.2211 - mae: 12.2211\n",
      "Epoch 72/100\n",
      "2/2 [==============================] - 0s 3ms/step - loss: 8.5310 - mae: 8.5310\n",
      "Epoch 73/100\n",
      "2/2 [==============================] - 0s 2ms/step - loss: 7.0360 - mae: 7.0360\n",
      "Epoch 74/100\n",
      "2/2 [==============================] - 0s 2ms/step - loss: 9.9300 - mae: 9.9300\n",
      "Epoch 75/100\n",
      "2/2 [==============================] - 0s 3ms/step - loss: 9.9321 - mae: 9.9321\n",
      "Epoch 76/100\n",
      "2/2 [==============================] - 0s 2ms/step - loss: 10.0989 - mae: 10.0989\n",
      "Epoch 77/100\n",
      "2/2 [==============================] - 0s 3ms/step - loss: 12.9469 - mae: 12.9469\n",
      "Epoch 78/100\n",
      "2/2 [==============================] - 0s 4ms/step - loss: 11.1468 - mae: 11.1468\n",
      "Epoch 79/100\n",
      "2/2 [==============================] - 0s 3ms/step - loss: 14.7014 - mae: 14.7014\n",
      "Epoch 80/100\n",
      "2/2 [==============================] - 0s 3ms/step - loss: 8.9205 - mae: 8.9205\n",
      "Epoch 81/100\n",
      "2/2 [==============================] - 0s 3ms/step - loss: 10.7627 - mae: 10.7627\n",
      "Epoch 82/100\n",
      "2/2 [==============================] - 0s 3ms/step - loss: 8.3877 - mae: 8.3877\n",
      "Epoch 83/100\n",
      "2/2 [==============================] - 0s 4ms/step - loss: 9.2197 - mae: 9.2197\n",
      "Epoch 84/100\n",
      "2/2 [==============================] - 0s 3ms/step - loss: 8.9382 - mae: 8.9382\n",
      "Epoch 85/100\n",
      "2/2 [==============================] - 0s 3ms/step - loss: 13.1939 - mae: 13.1939\n",
      "Epoch 86/100\n",
      "2/2 [==============================] - 0s 3ms/step - loss: 13.7039 - mae: 13.7039\n",
      "Epoch 87/100\n",
      "2/2 [==============================] - 0s 3ms/step - loss: 13.1882 - mae: 13.1882\n",
      "Epoch 88/100\n",
      "2/2 [==============================] - 0s 5ms/step - loss: 11.5138 - mae: 11.5138\n",
      "Epoch 89/100\n",
      "2/2 [==============================] - 0s 4ms/step - loss: 7.8009 - mae: 7.8009\n",
      "Epoch 90/100\n",
      "2/2 [==============================] - 0s 4ms/step - loss: 10.9280 - mae: 10.9280\n",
      "Epoch 91/100\n",
      "2/2 [==============================] - 0s 4ms/step - loss: 6.7458 - mae: 6.7458\n",
      "Epoch 92/100\n",
      "2/2 [==============================] - 0s 5ms/step - loss: 10.1206 - mae: 10.1206\n",
      "Epoch 93/100\n",
      "2/2 [==============================] - 0s 4ms/step - loss: 7.6034 - mae: 7.6034\n",
      "Epoch 94/100\n",
      "2/2 [==============================] - 0s 4ms/step - loss: 9.2356 - mae: 9.2356\n",
      "Epoch 95/100\n",
      "2/2 [==============================] - 0s 3ms/step - loss: 10.8242 - mae: 10.8242\n",
      "Epoch 96/100\n",
      "2/2 [==============================] - 0s 3ms/step - loss: 10.2938 - mae: 10.2938\n",
      "Epoch 97/100\n",
      "2/2 [==============================] - 0s 3ms/step - loss: 7.6750 - mae: 7.6750\n",
      "Epoch 98/100\n",
      "2/2 [==============================] - 0s 3ms/step - loss: 8.6104 - mae: 8.6104\n",
      "Epoch 99/100\n",
      "2/2 [==============================] - 0s 2ms/step - loss: 9.3886 - mae: 9.3886\n",
      "Epoch 100/100\n",
      "2/2 [==============================] - 0s 4ms/step - loss: 8.8350 - mae: 8.8350\n"
     ]
    },
    {
     "data": {
      "text/plain": "<keras.callbacks.History at 0x7f3685499d90>"
     },
     "execution_count": 57,
     "metadata": {},
     "output_type": "execute_result"
    }
   ],
   "source": [
    "# Set random seed\n",
    "tf.random.set_seed(42)\n",
    "\n",
    "# 1. Create the model\n",
    "model_1 = tf.keras.Sequential([\n",
    "    tf.keras.layers.Dense(1)\n",
    "])\n",
    "\n",
    "# 2. Compile the model\n",
    "model_1.compile(loss=tf.keras.losses.mae,\n",
    "                optimizer=tf.keras.optimizers.SGD(),\n",
    "                metrics=[\"mae\"])\n",
    "\n",
    "# 3. Fit the model\n",
    "model_1.fit(tf.expand_dims(X_train, axis=-1), y_train, epochs=100)"
   ],
   "metadata": {
    "colab": {
     "base_uri": "https://localhost:8080/"
    },
    "id": "722c58063f2b0200",
    "executionInfo": {
     "status": "ok",
     "timestamp": 1696076802171,
     "user_tz": -420,
     "elapsed": 5802,
     "user": {
      "displayName": "kang sigit",
      "userId": "15887135570512197739"
     }
    },
    "outputId": "96af9472-0736-414d-a002-0bf8741f4cd3",
    "ExecuteTime": {
     "end_time": "2024-01-08T06:39:46.208340497Z",
     "start_time": "2024-01-08T06:39:44.754528589Z"
    }
   },
   "id": "722c58063f2b0200"
  },
  {
   "cell_type": "code",
   "execution_count": 58,
   "outputs": [
    {
     "name": "stdout",
     "output_type": "stream",
     "text": [
      "WARNING:tensorflow:5 out of the last 5 calls to <function Model.make_predict_function.<locals>.predict_function at 0x7f36a6f84040> triggered tf.function retracing. Tracing is expensive and the excessive number of tracings could be due to (1) creating @tf.function repeatedly in a loop, (2) passing tensors with different shapes, (3) passing Python objects instead of tensors. For (1), please define your @tf.function outside of the loop. For (2), @tf.function has reduce_retracing=True option that can avoid unnecessary retracing. For (3), please refer to https://www.tensorflow.org/guide/function#controlling_retracing and https://www.tensorflow.org/api_docs/python/tf/function for  more details.\n",
      "1/1 [==============================] - 0s 39ms/step\n"
     ]
    },
    {
     "data": {
      "text/plain": "<Figure size 1000x700 with 1 Axes>",
      "image/png": "[encoded data removed]"
     },
     "metadata": {},
     "output_type": "display_data"
    }
   ],
   "source": [
    "# Make and plot predictions for model_1\n",
    "y_preds_1 = model_1.predict(X_test)\n",
    "plot_predictions(predictions=y_preds_1)"
   ],
   "metadata": {
    "colab": {
     "base_uri": "https://localhost:8080/",
     "height": 656
    },
    "id": "382f33287c6f7581",
    "executionInfo": {
     "status": "ok",
     "timestamp": 1696076818038,
     "user_tz": -420,
     "elapsed": 674,
     "user": {
      "displayName": "kang sigit",
      "userId": "15887135570512197739"
     }
    },
    "outputId": "ccf8fe91-0129-401c-a1c0-25bb427ce51c",
    "ExecuteTime": {
     "end_time": "2024-01-08T06:39:55.064231340Z",
     "start_time": "2024-01-08T06:39:54.777161013Z"
    }
   },
   "id": "382f33287c6f7581"
  },
  {
   "cell_type": "code",
   "execution_count": 59,
   "outputs": [
    {
     "data": {
      "text/plain": "(<tf.Tensor: shape=(10, 1), dtype=float32, numpy=\n array([[ 74.63365 ],\n        [ 79.52215 ],\n        [ 84.410645],\n        [ 89.29913 ],\n        [ 94.18763 ],\n        [ 99.07612 ],\n        [103.964615],\n        [108.85311 ],\n        [113.7416  ],\n        [118.6301  ]], dtype=float32)>,\n <tf.Tensor: shape=(10,), dtype=float32, numpy=\n array([ 74.63365 ,  79.52215 ,  84.410645,  89.29913 ,  94.18763 ,\n         99.07612 , 103.964615, 108.85311 , 113.7416  , 118.6301  ],\n       dtype=float32)>)"
     },
     "execution_count": 59,
     "metadata": {},
     "output_type": "execute_result"
    }
   ],
   "source": [
    "tf.constant(y_preds_1), tf.squeeze(y_preds_1)"
   ],
   "metadata": {
    "colab": {
     "base_uri": "https://localhost:8080/"
    },
    "id": "d717b5c1f0b6405",
    "executionInfo": {
     "status": "ok",
     "timestamp": 1696076824537,
     "user_tz": -420,
     "elapsed": 618,
     "user": {
      "displayName": "kang sigit",
      "userId": "15887135570512197739"
     }
    },
    "outputId": "c4292f0f-6ede-4cbc-f6cc-5e32de1363fd",
    "ExecuteTime": {
     "end_time": "2024-01-08T06:39:57.460295743Z",
     "start_time": "2024-01-08T06:39:57.416434945Z"
    }
   },
   "id": "d717b5c1f0b6405"
  },
  {
   "cell_type": "code",
   "execution_count": 60,
   "outputs": [
    {
     "data": {
      "text/plain": "(<tf.Tensor: shape=(), dtype=float32, numpy=8.631875>,\n <tf.Tensor: shape=(), dtype=float32, numpy=81.02199>)"
     },
     "execution_count": 60,
     "metadata": {},
     "output_type": "execute_result"
    }
   ],
   "source": [
    "# Calculate model_1 evaluation metrics\n",
    "mae_1 = mae(y_test, y_preds_1)\n",
    "mse_1 = mse(y_test, y_preds_1)\n",
    "mae_1, mse_1"
   ],
   "metadata": {
    "colab": {
     "base_uri": "https://localhost:8080/"
    },
    "id": "f00fe8d1a1017420",
    "executionInfo": {
     "status": "ok",
     "timestamp": 1696076828361,
     "user_tz": -420,
     "elapsed": 577,
     "user": {
      "displayName": "kang sigit",
      "userId": "15887135570512197739"
     }
    },
    "outputId": "636c597c-4cd6-45be-c773-f547bde4ca55",
    "ExecuteTime": {
     "end_time": "2024-01-08T06:39:58.544711573Z",
     "start_time": "2024-01-08T06:39:58.498582598Z"
    }
   },
   "id": "f00fe8d1a1017420"
  },
  {
   "cell_type": "markdown",
   "source": [
    "**Build `model_2`**\n",
    "\n",
    "* 2 dense layers, trained for 100 epochs"
   ],
   "metadata": {
    "collapsed": false,
    "id": "ab30453e074532d3"
   },
   "id": "ab30453e074532d3"
  },
  {
   "cell_type": "code",
   "execution_count": 61,
   "outputs": [
    {
     "name": "stdout",
     "output_type": "stream",
     "text": [
      "Epoch 1/100\n",
      "2/2 [==============================] - 0s 8ms/step - loss: 32.0963 - mae: 32.0963\n",
      "Epoch 2/100\n",
      "2/2 [==============================] - 0s 7ms/step - loss: 27.1471 - mae: 27.1471\n",
      "Epoch 3/100\n",
      "2/2 [==============================] - 0s 5ms/step - loss: 30.9058 - mae: 30.9058\n",
      "Epoch 4/100\n",
      "2/2 [==============================] - 0s 5ms/step - loss: 17.0704 - mae: 17.0704\n",
      "Epoch 5/100\n",
      "2/2 [==============================] - 0s 5ms/step - loss: 19.4769 - mae: 19.4769\n",
      "Epoch 6/100\n",
      "2/2 [==============================] - 0s 5ms/step - loss: 13.6497 - mae: 13.6497\n",
      "Epoch 7/100\n",
      "2/2 [==============================] - 0s 5ms/step - loss: 12.8065 - mae: 12.8065\n",
      "Epoch 8/100\n",
      "2/2 [==============================] - 0s 5ms/step - loss: 11.1360 - mae: 11.1360\n",
      "Epoch 9/100\n",
      "2/2 [==============================] - 0s 8ms/step - loss: 40.6138 - mae: 40.6138\n",
      "Epoch 10/100\n",
      "2/2 [==============================] - 0s 5ms/step - loss: 27.9909 - mae: 27.9909\n",
      "Epoch 11/100\n",
      "2/2 [==============================] - 0s 6ms/step - loss: 10.2567 - mae: 10.2567\n",
      "Epoch 12/100\n",
      "2/2 [==============================] - 0s 5ms/step - loss: 25.3244 - mae: 25.3244\n",
      "Epoch 13/100\n",
      "2/2 [==============================] - 0s 5ms/step - loss: 17.0656 - mae: 17.0656\n",
      "Epoch 14/100\n",
      "2/2 [==============================] - 0s 5ms/step - loss: 26.0635 - mae: 26.0635\n",
      "Epoch 15/100\n",
      "2/2 [==============================] - 0s 8ms/step - loss: 18.1106 - mae: 18.1106\n",
      "Epoch 16/100\n",
      "2/2 [==============================] - 0s 6ms/step - loss: 7.8598 - mae: 7.8598\n",
      "Epoch 17/100\n",
      "2/2 [==============================] - 0s 7ms/step - loss: 22.2266 - mae: 22.2266\n",
      "Epoch 18/100\n",
      "2/2 [==============================] - 0s 4ms/step - loss: 10.8284 - mae: 10.8284\n",
      "Epoch 19/100\n",
      "2/2 [==============================] - 0s 6ms/step - loss: 10.7171 - mae: 10.7171\n",
      "Epoch 20/100\n",
      "2/2 [==============================] - 0s 5ms/step - loss: 12.0397 - mae: 12.0397\n",
      "Epoch 21/100\n",
      "2/2 [==============================] - 0s 5ms/step - loss: 20.1498 - mae: 20.1498\n",
      "Epoch 22/100\n",
      "2/2 [==============================] - 0s 5ms/step - loss: 13.7875 - mae: 13.7875\n",
      "Epoch 23/100\n",
      "2/2 [==============================] - 0s 5ms/step - loss: 9.5372 - mae: 9.5372\n",
      "Epoch 24/100\n",
      "2/2 [==============================] - 0s 5ms/step - loss: 11.8943 - mae: 11.8943\n",
      "Epoch 25/100\n",
      "2/2 [==============================] - 0s 5ms/step - loss: 16.2101 - mae: 16.2101\n",
      "Epoch 26/100\n",
      "2/2 [==============================] - 0s 5ms/step - loss: 16.4021 - mae: 16.4021\n",
      "Epoch 27/100\n",
      "2/2 [==============================] - 0s 7ms/step - loss: 11.5866 - mae: 11.5866\n",
      "Epoch 28/100\n",
      "2/2 [==============================] - 0s 4ms/step - loss: 29.9915 - mae: 29.9915\n",
      "Epoch 29/100\n",
      "2/2 [==============================] - 0s 4ms/step - loss: 9.2510 - mae: 9.2510\n",
      "Epoch 30/100\n",
      "2/2 [==============================] - 0s 4ms/step - loss: 30.5384 - mae: 30.5384\n",
      "Epoch 31/100\n",
      "2/2 [==============================] - 0s 4ms/step - loss: 55.5151 - mae: 55.5151\n",
      "Epoch 32/100\n",
      "2/2 [==============================] - 0s 4ms/step - loss: 9.7299 - mae: 9.7299\n",
      "Epoch 33/100\n",
      "2/2 [==============================] - 0s 4ms/step - loss: 12.3490 - mae: 12.3490\n",
      "Epoch 34/100\n",
      "2/2 [==============================] - 0s 5ms/step - loss: 24.7135 - mae: 24.7135\n",
      "Epoch 35/100\n",
      "2/2 [==============================] - 0s 5ms/step - loss: 11.9170 - mae: 11.9170\n",
      "Epoch 36/100\n",
      "2/2 [==============================] - 0s 6ms/step - loss: 22.0948 - mae: 22.0948\n",
      "Epoch 37/100\n",
      "2/2 [==============================] - 0s 9ms/step - loss: 17.5727 - mae: 17.5727\n",
      "Epoch 38/100\n",
      "2/2 [==============================] - 0s 5ms/step - loss: 10.7336 - mae: 10.7336\n",
      "Epoch 39/100\n",
      "2/2 [==============================] - 0s 5ms/step - loss: 11.2513 - mae: 11.2513\n",
      "Epoch 40/100\n",
      "2/2 [==============================] - 0s 5ms/step - loss: 18.2465 - mae: 18.2465\n",
      "Epoch 41/100\n",
      "2/2 [==============================] - 0s 5ms/step - loss: 10.5050 - mae: 10.5050\n",
      "Epoch 42/100\n",
      "2/2 [==============================] - 0s 7ms/step - loss: 7.8434 - mae: 7.8434\n",
      "Epoch 43/100\n",
      "2/2 [==============================] - 0s 7ms/step - loss: 14.2278 - mae: 14.2278\n",
      "Epoch 44/100\n",
      "2/2 [==============================] - 0s 7ms/step - loss: 25.0128 - mae: 25.0128\n",
      "Epoch 45/100\n",
      "2/2 [==============================] - 0s 7ms/step - loss: 10.9675 - mae: 10.9675\n",
      "Epoch 46/100\n",
      "2/2 [==============================] - 0s 7ms/step - loss: 13.0816 - mae: 13.0816\n",
      "Epoch 47/100\n",
      "2/2 [==============================] - 0s 6ms/step - loss: 10.4231 - mae: 10.4231\n",
      "Epoch 48/100\n",
      "2/2 [==============================] - 0s 7ms/step - loss: 17.1281 - mae: 17.1281\n",
      "Epoch 49/100\n",
      "2/2 [==============================] - 0s 6ms/step - loss: 9.6420 - mae: 9.6420\n",
      "Epoch 50/100\n",
      "2/2 [==============================] - 0s 6ms/step - loss: 13.9432 - mae: 13.9432\n",
      "Epoch 51/100\n",
      "2/2 [==============================] - 0s 7ms/step - loss: 11.6428 - mae: 11.6428\n",
      "Epoch 52/100\n",
      "2/2 [==============================] - 0s 5ms/step - loss: 30.8776 - mae: 30.8776\n",
      "Epoch 53/100\n",
      "2/2 [==============================] - 0s 5ms/step - loss: 14.4949 - mae: 14.4949\n",
      "Epoch 54/100\n",
      "2/2 [==============================] - 0s 7ms/step - loss: 24.2209 - mae: 24.2209\n",
      "Epoch 55/100\n",
      "2/2 [==============================] - 0s 7ms/step - loss: 23.4659 - mae: 23.4659\n",
      "Epoch 56/100\n",
      "2/2 [==============================] - 0s 6ms/step - loss: 10.9702 - mae: 10.9702\n",
      "Epoch 57/100\n",
      "2/2 [==============================] - 0s 5ms/step - loss: 12.8638 - mae: 12.8638\n",
      "Epoch 58/100\n",
      "2/2 [==============================] - 0s 5ms/step - loss: 9.6669 - mae: 9.6669\n",
      "Epoch 59/100\n",
      "2/2 [==============================] - 0s 5ms/step - loss: 13.0340 - mae: 13.0340\n",
      "Epoch 60/100\n",
      "2/2 [==============================] - 0s 5ms/step - loss: 10.7073 - mae: 10.7073\n",
      "Epoch 61/100\n",
      "2/2 [==============================] - 0s 7ms/step - loss: 13.2464 - mae: 13.2464\n",
      "Epoch 62/100\n",
      "2/2 [==============================] - 0s 6ms/step - loss: 17.0895 - mae: 17.0895\n",
      "Epoch 63/100\n",
      "2/2 [==============================] - 0s 7ms/step - loss: 9.0580 - mae: 9.0580\n",
      "Epoch 64/100\n",
      "2/2 [==============================] - 0s 6ms/step - loss: 17.7354 - mae: 17.7354\n",
      "Epoch 65/100\n",
      "2/2 [==============================] - 0s 7ms/step - loss: 10.5322 - mae: 10.5322\n",
      "Epoch 66/100\n",
      "2/2 [==============================] - 0s 5ms/step - loss: 21.2269 - mae: 21.2269\n",
      "Epoch 67/100\n",
      "2/2 [==============================] - 0s 9ms/step - loss: 10.5311 - mae: 10.5311\n",
      "Epoch 68/100\n",
      "2/2 [==============================] - 0s 11ms/step - loss: 14.3876 - mae: 14.3876\n",
      "Epoch 69/100\n",
      "2/2 [==============================] - 0s 9ms/step - loss: 10.6244 - mae: 10.6244\n",
      "Epoch 70/100\n",
      "2/2 [==============================] - 0s 6ms/step - loss: 12.7111 - mae: 12.7111\n",
      "Epoch 71/100\n",
      "2/2 [==============================] - 0s 11ms/step - loss: 13.1409 - mae: 13.1409\n",
      "Epoch 72/100\n",
      "2/2 [==============================] - 0s 7ms/step - loss: 19.6612 - mae: 19.6612\n",
      "Epoch 73/100\n",
      "2/2 [==============================] - 0s 6ms/step - loss: 11.2041 - mae: 11.2041\n",
      "Epoch 74/100\n",
      "2/2 [==============================] - 0s 8ms/step - loss: 21.9539 - mae: 21.9539\n",
      "Epoch 75/100\n",
      "2/2 [==============================] - 0s 10ms/step - loss: 7.1898 - mae: 7.1898\n",
      "Epoch 76/100\n",
      "2/2 [==============================] - 0s 7ms/step - loss: 9.4132 - mae: 9.4132\n",
      "Epoch 77/100\n",
      "2/2 [==============================] - 0s 9ms/step - loss: 22.0290 - mae: 22.0290\n",
      "Epoch 78/100\n",
      "2/2 [==============================] - 0s 6ms/step - loss: 17.7370 - mae: 17.7370\n",
      "Epoch 79/100\n",
      "2/2 [==============================] - 0s 7ms/step - loss: 14.8872 - mae: 14.8872\n",
      "Epoch 80/100\n",
      "2/2 [==============================] - 0s 8ms/step - loss: 25.2338 - mae: 25.2338\n",
      "Epoch 81/100\n",
      "2/2 [==============================] - 0s 10ms/step - loss: 10.9552 - mae: 10.9552\n",
      "Epoch 82/100\n",
      "2/2 [==============================] - 0s 6ms/step - loss: 12.7260 - mae: 12.7260\n",
      "Epoch 83/100\n",
      "2/2 [==============================] - 0s 11ms/step - loss: 17.4899 - mae: 17.4899\n",
      "Epoch 84/100\n",
      "2/2 [==============================] - 0s 7ms/step - loss: 7.2834 - mae: 7.2834\n",
      "Epoch 85/100\n",
      "2/2 [==============================] - 0s 7ms/step - loss: 15.0175 - mae: 15.0175\n",
      "Epoch 86/100\n",
      "2/2 [==============================] - 0s 8ms/step - loss: 15.3287 - mae: 15.3287\n",
      "Epoch 87/100\n",
      "2/2 [==============================] - 0s 7ms/step - loss: 19.1899 - mae: 19.1899\n",
      "Epoch 88/100\n",
      "2/2 [==============================] - 0s 7ms/step - loss: 29.6116 - mae: 29.6116\n",
      "Epoch 89/100\n",
      "2/2 [==============================] - 0s 6ms/step - loss: 10.1516 - mae: 10.1516\n",
      "Epoch 90/100\n",
      "2/2 [==============================] - 0s 7ms/step - loss: 21.3508 - mae: 21.3508\n",
      "Epoch 91/100\n",
      "2/2 [==============================] - 0s 7ms/step - loss: 10.5378 - mae: 10.5378\n",
      "Epoch 92/100\n",
      "2/2 [==============================] - 0s 12ms/step - loss: 18.2430 - mae: 18.2430\n",
      "Epoch 93/100\n",
      "2/2 [==============================] - 0s 14ms/step - loss: 6.8167 - mae: 6.8167\n",
      "Epoch 94/100\n",
      "2/2 [==============================] - 0s 6ms/step - loss: 13.0298 - mae: 13.0298\n",
      "Epoch 95/100\n",
      "2/2 [==============================] - 0s 9ms/step - loss: 18.4342 - mae: 18.4342\n",
      "Epoch 96/100\n",
      "2/2 [==============================] - 0s 6ms/step - loss: 10.3635 - mae: 10.3635\n",
      "Epoch 97/100\n",
      "2/2 [==============================] - 0s 6ms/step - loss: 14.4465 - mae: 14.4465\n",
      "Epoch 98/100\n",
      "2/2 [==============================] - 0s 6ms/step - loss: 6.5785 - mae: 6.5785\n",
      "Epoch 99/100\n",
      "2/2 [==============================] - 0s 6ms/step - loss: 12.5914 - mae: 12.5914\n",
      "Epoch 100/100\n",
      "2/2 [==============================] - 0s 7ms/step - loss: 19.3986 - mae: 19.3986\n"
     ]
    },
    {
     "data": {
      "text/plain": "<keras.callbacks.History at 0x7f36a5623050>"
     },
     "execution_count": 61,
     "metadata": {},
     "output_type": "execute_result"
    }
   ],
   "source": [
    "# Set the random seed\n",
    "tf.random.set_seed(42)\n",
    "\n",
    "# 1. Create the model\n",
    "model_2 = tf.keras.Sequential([\n",
    "    tf.keras.layers.Dense(10),\n",
    "    tf.keras.layers.Dense(1)\n",
    "])\n",
    "\n",
    "# 2. Compile the model\n",
    "model_2.compile(loss=tf.keras.losses.mae,\n",
    "                optimizer=tf.keras.optimizers.SGD(),\n",
    "                metrics=[\"mae\"])\n",
    "\n",
    "# 3. Fit the model\n",
    "model_2.fit(tf.expand_dims(X_train, axis=-1), y_train, epochs=100)"
   ],
   "metadata": {
    "colab": {
     "base_uri": "https://localhost:8080/"
    },
    "id": "9acb465fd20c995c",
    "executionInfo": {
     "status": "ok",
     "timestamp": 1696076835059,
     "user_tz": -420,
     "elapsed": 3096,
     "user": {
      "displayName": "kang sigit",
      "userId": "15887135570512197739"
     }
    },
    "outputId": "51e23998-df47-4cb0-ad6f-52ab121a102c",
    "ExecuteTime": {
     "end_time": "2024-01-08T06:40:11.073234239Z",
     "start_time": "2024-01-08T06:40:07.419956953Z"
    }
   },
   "id": "9acb465fd20c995c"
  },
  {
   "cell_type": "code",
   "execution_count": 62,
   "outputs": [
    {
     "name": "stdout",
     "output_type": "stream",
     "text": [
      "WARNING:tensorflow:6 out of the last 6 calls to <function Model.make_predict_function.<locals>.predict_function at 0x7f3685438360> triggered tf.function retracing. Tracing is expensive and the excessive number of tracings could be due to (1) creating @tf.function repeatedly in a loop, (2) passing tensors with different shapes, (3) passing Python objects instead of tensors. For (1), please define your @tf.function outside of the loop. For (2), @tf.function has reduce_retracing=True option that can avoid unnecessary retracing. For (3), please refer to https://www.tensorflow.org/guide/function#controlling_retracing and https://www.tensorflow.org/api_docs/python/tf/function for  more details.\n",
      "1/1 [==============================] - 0s 47ms/step\n"
     ]
    },
    {
     "data": {
      "text/plain": "<Figure size 1000x700 with 1 Axes>",
      "image/png": "[encoded data removed]"
     },
     "metadata": {},
     "output_type": "display_data"
    }
   ],
   "source": [
    "# Make and plot predictions of model_2\n",
    "y_preds_2 = model_2.predict(X_test)\n",
    "plot_predictions(predictions=y_preds_2)"
   ],
   "metadata": {
    "colab": {
     "base_uri": "https://localhost:8080/",
     "height": 656
    },
    "id": "1734489efbd4fb4e",
    "executionInfo": {
     "status": "ok",
     "timestamp": 1696076839093,
     "user_tz": -420,
     "elapsed": 22,
     "user": {
      "displayName": "kang sigit",
      "userId": "15887135570512197739"
     }
    },
    "outputId": "d02300c6-dceb-4b21-cb6f-445de699ad4f",
    "ExecuteTime": {
     "end_time": "2024-01-08T06:40:13.267392423Z",
     "start_time": "2024-01-08T06:40:12.874119346Z"
    }
   },
   "id": "1734489efbd4fb4e"
  },
  {
   "cell_type": "code",
   "execution_count": 63,
   "outputs": [
    {
     "data": {
      "text/plain": "(<tf.Tensor: shape=(), dtype=float32, numpy=13.342361>,\n <tf.Tensor: shape=(), dtype=float32, numpy=188.10532>)"
     },
     "execution_count": 63,
     "metadata": {},
     "output_type": "execute_result"
    }
   ],
   "source": [
    "# Calculate model_2 evaluation metrics\n",
    "mae_2 = mae(y_test, y_preds_2)\n",
    "mse_2 = mse(y_test, y_preds_2)\n",
    "mae_2, mse_2"
   ],
   "metadata": {
    "colab": {
     "base_uri": "https://localhost:8080/"
    },
    "id": "c1a1bfe80b2973d1",
    "executionInfo": {
     "status": "ok",
     "timestamp": 1696076843791,
     "user_tz": -420,
     "elapsed": 11,
     "user": {
      "displayName": "kang sigit",
      "userId": "15887135570512197739"
     }
    },
    "outputId": "b1dbc06c-a856-4769-e57a-66b0e8c780ae",
    "ExecuteTime": {
     "end_time": "2024-01-08T06:40:16.029565401Z",
     "start_time": "2024-01-08T06:40:15.967579614Z"
    }
   },
   "id": "c1a1bfe80b2973d1"
  },
  {
   "cell_type": "markdown",
   "source": [
    "**Build `model_3`**\n",
    "\n",
    "* 2 dense layers, trained for 500 epochs"
   ],
   "metadata": {
    "collapsed": false,
    "id": "e429d78109168242"
   },
   "id": "e429d78109168242"
  },
  {
   "cell_type": "code",
   "execution_count": 64,
   "outputs": [
    {
     "name": "stdout",
     "output_type": "stream",
     "text": [
      "Epoch 1/500\n",
      "2/2 [==============================] - 0s 7ms/step - loss: 28.4907 - mae: 28.4907\n",
      "Epoch 2/500\n",
      "2/2 [==============================] - 0s 6ms/step - loss: 25.0342 - mae: 25.0342\n",
      "Epoch 3/500\n",
      "2/2 [==============================] - 0s 9ms/step - loss: 31.2139 - mae: 31.2139\n",
      "Epoch 4/500\n",
      "2/2 [==============================] - 0s 6ms/step - loss: 14.9221 - mae: 14.9221\n",
      "Epoch 5/500\n",
      "2/2 [==============================] - 0s 9ms/step - loss: 22.5447 - mae: 22.5447\n",
      "Epoch 6/500\n",
      "2/2 [==============================] - 0s 6ms/step - loss: 12.5909 - mae: 12.5909\n",
      "Epoch 7/500\n",
      "2/2 [==============================] - 0s 6ms/step - loss: 11.9194 - mae: 11.9194\n",
      "Epoch 8/500\n",
      "2/2 [==============================] - 0s 6ms/step - loss: 13.1010 - mae: 13.1010\n",
      "Epoch 9/500\n",
      "2/2 [==============================] - 0s 6ms/step - loss: 34.7273 - mae: 34.7273\n",
      "Epoch 10/500\n",
      "2/2 [==============================] - 0s 7ms/step - loss: 24.1028 - mae: 24.1028\n",
      "Epoch 11/500\n",
      "2/2 [==============================] - 0s 9ms/step - loss: 11.8531 - mae: 11.8531\n",
      "Epoch 12/500\n",
      "2/2 [==============================] - 0s 11ms/step - loss: 23.7801 - mae: 23.7801\n",
      "Epoch 13/500\n",
      "2/2 [==============================] - 0s 9ms/step - loss: 21.0551 - mae: 21.0551\n",
      "Epoch 14/500\n",
      "2/2 [==============================] - 0s 11ms/step - loss: 23.4899 - mae: 23.4899\n",
      "Epoch 15/500\n",
      "2/2 [==============================] - 0s 8ms/step - loss: 15.2753 - mae: 15.2753\n",
      "Epoch 16/500\n",
      "2/2 [==============================] - 0s 9ms/step - loss: 11.3649 - mae: 11.3649\n",
      "Epoch 17/500\n",
      "2/2 [==============================] - 0s 7ms/step - loss: 23.2222 - mae: 23.2222\n",
      "Epoch 18/500\n",
      "2/2 [==============================] - 0s 7ms/step - loss: 11.7937 - mae: 11.7937\n",
      "Epoch 19/500\n",
      "2/2 [==============================] - 0s 7ms/step - loss: 16.5102 - mae: 16.5102\n",
      "Epoch 20/500\n",
      "2/2 [==============================] - 0s 10ms/step - loss: 8.2400 - mae: 8.2400\n",
      "Epoch 21/500\n",
      "2/2 [==============================] - 0s 11ms/step - loss: 14.4108 - mae: 14.4108\n",
      "Epoch 22/500\n",
      "2/2 [==============================] - 0s 6ms/step - loss: 12.8231 - mae: 12.8231\n",
      "Epoch 23/500\n",
      "2/2 [==============================] - 0s 7ms/step - loss: 15.4617 - mae: 15.4617\n",
      "Epoch 24/500\n",
      "2/2 [==============================] - 0s 7ms/step - loss: 15.2500 - mae: 15.2500\n",
      "Epoch 25/500\n",
      "2/2 [==============================] - 0s 5ms/step - loss: 14.3294 - mae: 14.3294\n",
      "Epoch 26/500\n",
      "2/2 [==============================] - 0s 5ms/step - loss: 19.3231 - mae: 19.3231\n",
      "Epoch 27/500\n",
      "2/2 [==============================] - 0s 5ms/step - loss: 11.4648 - mae: 11.4648\n",
      "Epoch 28/500\n",
      "2/2 [==============================] - 0s 5ms/step - loss: 29.1709 - mae: 29.1709\n",
      "Epoch 29/500\n",
      "2/2 [==============================] - 0s 8ms/step - loss: 9.2526 - mae: 9.2526\n",
      "Epoch 30/500\n",
      "2/2 [==============================] - 0s 5ms/step - loss: 29.8908 - mae: 29.8908\n",
      "Epoch 31/500\n",
      "2/2 [==============================] - 0s 6ms/step - loss: 54.2468 - mae: 54.2468\n",
      "Epoch 32/500\n",
      "2/2 [==============================] - 0s 6ms/step - loss: 9.5846 - mae: 9.5846\n",
      "Epoch 33/500\n",
      "2/2 [==============================] - 0s 6ms/step - loss: 12.1785 - mae: 12.1785\n",
      "Epoch 34/500\n",
      "2/2 [==============================] - 0s 5ms/step - loss: 23.9635 - mae: 23.9635\n",
      "Epoch 35/500\n",
      "2/2 [==============================] - 0s 7ms/step - loss: 12.6151 - mae: 12.6151\n",
      "Epoch 36/500\n",
      "2/2 [==============================] - 0s 8ms/step - loss: 21.5127 - mae: 21.5127\n",
      "Epoch 37/500\n",
      "2/2 [==============================] - 0s 6ms/step - loss: 11.3945 - mae: 11.3945\n",
      "Epoch 38/500\n",
      "2/2 [==============================] - 0s 6ms/step - loss: 13.4886 - mae: 13.4886\n",
      "Epoch 39/500\n",
      "2/2 [==============================] - 0s 7ms/step - loss: 10.8034 - mae: 10.8034\n",
      "Epoch 40/500\n",
      "2/2 [==============================] - 0s 6ms/step - loss: 16.6355 - mae: 16.6355\n",
      "Epoch 41/500\n",
      "2/2 [==============================] - 0s 10ms/step - loss: 10.9932 - mae: 10.9932\n",
      "Epoch 42/500\n",
      "2/2 [==============================] - 0s 15ms/step - loss: 9.3164 - mae: 9.3164\n",
      "Epoch 43/500\n",
      "2/2 [==============================] - 0s 7ms/step - loss: 9.5986 - mae: 9.5986\n",
      "Epoch 44/500\n",
      "2/2 [==============================] - 0s 7ms/step - loss: 28.0580 - mae: 28.0580\n",
      "Epoch 45/500\n",
      "2/2 [==============================] - 0s 6ms/step - loss: 11.3032 - mae: 11.3032\n",
      "Epoch 46/500\n",
      "2/2 [==============================] - 0s 6ms/step - loss: 14.1125 - mae: 14.1125\n",
      "Epoch 47/500\n",
      "2/2 [==============================] - 0s 6ms/step - loss: 13.4870 - mae: 13.4870\n",
      "Epoch 48/500\n",
      "2/2 [==============================] - 0s 6ms/step - loss: 17.3159 - mae: 17.3159\n",
      "Epoch 49/500\n",
      "2/2 [==============================] - 0s 7ms/step - loss: 9.5325 - mae: 9.5325\n",
      "Epoch 50/500\n",
      "2/2 [==============================] - 0s 13ms/step - loss: 13.7357 - mae: 13.7357\n",
      "Epoch 51/500\n",
      "2/2 [==============================] - 0s 8ms/step - loss: 11.5720 - mae: 11.5720\n",
      "Epoch 52/500\n",
      "2/2 [==============================] - 0s 7ms/step - loss: 30.2998 - mae: 30.2998\n",
      "Epoch 53/500\n",
      "2/2 [==============================] - 0s 7ms/step - loss: 14.2485 - mae: 14.2485\n",
      "Epoch 54/500\n",
      "2/2 [==============================] - 0s 6ms/step - loss: 23.5548 - mae: 23.5548\n",
      "Epoch 55/500\n",
      "2/2 [==============================] - 0s 5ms/step - loss: 24.4710 - mae: 24.4710\n",
      "Epoch 56/500\n",
      "2/2 [==============================] - 0s 6ms/step - loss: 11.3074 - mae: 11.3074\n",
      "Epoch 57/500\n",
      "2/2 [==============================] - 0s 5ms/step - loss: 13.3124 - mae: 13.3124\n",
      "Epoch 58/500\n",
      "2/2 [==============================] - 0s 5ms/step - loss: 9.9233 - mae: 9.9233\n",
      "Epoch 59/500\n",
      "2/2 [==============================] - 0s 6ms/step - loss: 13.8508 - mae: 13.8508\n",
      "Epoch 60/500\n",
      "2/2 [==============================] - 0s 6ms/step - loss: 9.9664 - mae: 9.9664\n",
      "Epoch 61/500\n",
      "2/2 [==============================] - 0s 5ms/step - loss: 14.9068 - mae: 14.9068\n",
      "Epoch 62/500\n",
      "2/2 [==============================] - 0s 7ms/step - loss: 11.8874 - mae: 11.8874\n",
      "Epoch 63/500\n",
      "2/2 [==============================] - 0s 6ms/step - loss: 10.2677 - mae: 10.2677\n",
      "Epoch 64/500\n",
      "2/2 [==============================] - 0s 7ms/step - loss: 23.7734 - mae: 23.7734\n",
      "Epoch 65/500\n",
      "2/2 [==============================] - 0s 6ms/step - loss: 10.4434 - mae: 10.4434\n",
      "Epoch 66/500\n",
      "2/2 [==============================] - 0s 7ms/step - loss: 20.8336 - mae: 20.8336\n",
      "Epoch 67/500\n",
      "2/2 [==============================] - 0s 7ms/step - loss: 10.4149 - mae: 10.4149\n",
      "Epoch 68/500\n",
      "2/2 [==============================] - 0s 8ms/step - loss: 14.1076 - mae: 14.1076\n",
      "Epoch 69/500\n",
      "2/2 [==============================] - 0s 12ms/step - loss: 10.4793 - mae: 10.4793\n",
      "Epoch 70/500\n",
      "2/2 [==============================] - 0s 7ms/step - loss: 12.5463 - mae: 12.5463\n",
      "Epoch 71/500\n",
      "2/2 [==============================] - 0s 7ms/step - loss: 12.9762 - mae: 12.9762\n",
      "Epoch 72/500\n",
      "2/2 [==============================] - 0s 6ms/step - loss: 19.2658 - mae: 19.2658\n",
      "Epoch 73/500\n",
      "2/2 [==============================] - 0s 7ms/step - loss: 11.1082 - mae: 11.1082\n",
      "Epoch 74/500\n",
      "2/2 [==============================] - 0s 6ms/step - loss: 21.3420 - mae: 21.3420\n",
      "Epoch 75/500\n",
      "2/2 [==============================] - 0s 7ms/step - loss: 9.4328 - mae: 9.4328\n",
      "Epoch 76/500\n",
      "2/2 [==============================] - 0s 7ms/step - loss: 12.2507 - mae: 12.2507\n",
      "Epoch 77/500\n",
      "2/2 [==============================] - 0s 6ms/step - loss: 16.2462 - mae: 16.2462\n",
      "Epoch 78/500\n",
      "2/2 [==============================] - 0s 7ms/step - loss: 9.0005 - mae: 9.0005\n",
      "Epoch 79/500\n",
      "2/2 [==============================] - 0s 7ms/step - loss: 23.4764 - mae: 23.4764\n",
      "Epoch 80/500\n",
      "2/2 [==============================] - 0s 6ms/step - loss: 26.1543 - mae: 26.1543\n",
      "Epoch 81/500\n",
      "2/2 [==============================] - 0s 7ms/step - loss: 11.3936 - mae: 11.3936\n",
      "Epoch 82/500\n",
      "2/2 [==============================] - 0s 6ms/step - loss: 12.4726 - mae: 12.4726\n",
      "Epoch 83/500\n",
      "2/2 [==============================] - 0s 6ms/step - loss: 17.1494 - mae: 17.1494\n",
      "Epoch 84/500\n",
      "2/2 [==============================] - 0s 7ms/step - loss: 6.5675 - mae: 6.5675\n",
      "Epoch 85/500\n",
      "2/2 [==============================] - 0s 10ms/step - loss: 20.3581 - mae: 20.3581\n",
      "Epoch 86/500\n",
      "2/2 [==============================] - 0s 12ms/step - loss: 10.1626 - mae: 10.1626\n",
      "Epoch 87/500\n",
      "2/2 [==============================] - 0s 8ms/step - loss: 24.4198 - mae: 24.4198\n",
      "Epoch 88/500\n",
      "2/2 [==============================] - 0s 13ms/step - loss: 19.0836 - mae: 19.0836\n",
      "Epoch 89/500\n",
      "2/2 [==============================] - 0s 12ms/step - loss: 7.1486 - mae: 7.1486\n",
      "Epoch 90/500\n",
      "2/2 [==============================] - 0s 7ms/step - loss: 18.2201 - mae: 18.2201\n",
      "Epoch 91/500\n",
      "2/2 [==============================] - 0s 8ms/step - loss: 13.2677 - mae: 13.2677\n",
      "Epoch 92/500\n",
      "2/2 [==============================] - 0s 10ms/step - loss: 14.8039 - mae: 14.8039\n",
      "Epoch 93/500\n",
      "2/2 [==============================] - 0s 8ms/step - loss: 11.6058 - mae: 11.6058\n",
      "Epoch 94/500\n",
      "2/2 [==============================] - 0s 8ms/step - loss: 16.1605 - mae: 16.1605\n",
      "Epoch 95/500\n",
      "2/2 [==============================] - 0s 7ms/step - loss: 15.5013 - mae: 15.5013\n",
      "Epoch 96/500\n",
      "2/2 [==============================] - 0s 7ms/step - loss: 15.0274 - mae: 15.0274\n",
      "Epoch 97/500\n",
      "2/2 [==============================] - 0s 7ms/step - loss: 10.8591 - mae: 10.8591\n",
      "Epoch 98/500\n",
      "2/2 [==============================] - 0s 7ms/step - loss: 14.3158 - mae: 14.3158\n",
      "Epoch 99/500\n",
      "2/2 [==============================] - 0s 5ms/step - loss: 13.3466 - mae: 13.3466\n",
      "Epoch 100/500\n",
      "2/2 [==============================] - 0s 5ms/step - loss: 19.9325 - mae: 19.9325\n",
      "Epoch 101/500\n",
      "2/2 [==============================] - 0s 6ms/step - loss: 22.6583 - mae: 22.6583\n",
      "Epoch 102/500\n",
      "2/2 [==============================] - 0s 6ms/step - loss: 11.3196 - mae: 11.3196\n",
      "Epoch 103/500\n",
      "2/2 [==============================] - 0s 6ms/step - loss: 9.3660 - mae: 9.3660\n",
      "Epoch 104/500\n",
      "2/2 [==============================] - 0s 5ms/step - loss: 25.3145 - mae: 25.3145\n",
      "Epoch 105/500\n",
      "2/2 [==============================] - 0s 8ms/step - loss: 12.4930 - mae: 12.4930\n",
      "Epoch 106/500\n",
      "2/2 [==============================] - 0s 7ms/step - loss: 9.4086 - mae: 9.4086\n",
      "Epoch 107/500\n",
      "2/2 [==============================] - 0s 7ms/step - loss: 23.3495 - mae: 23.3495\n",
      "Epoch 108/500\n",
      "2/2 [==============================] - 0s 7ms/step - loss: 8.2938 - mae: 8.2938\n",
      "Epoch 109/500\n",
      "2/2 [==============================] - 0s 7ms/step - loss: 14.1273 - mae: 14.1273\n",
      "Epoch 110/500\n",
      "2/2 [==============================] - 0s 7ms/step - loss: 10.5898 - mae: 10.5898\n",
      "Epoch 111/500\n",
      "2/2 [==============================] - 0s 8ms/step - loss: 16.8877 - mae: 16.8877\n",
      "Epoch 112/500\n",
      "2/2 [==============================] - 0s 6ms/step - loss: 8.2796 - mae: 8.2796\n",
      "Epoch 113/500\n",
      "2/2 [==============================] - 0s 6ms/step - loss: 19.8106 - mae: 19.8106\n",
      "Epoch 114/500\n",
      "2/2 [==============================] - 0s 5ms/step - loss: 17.5038 - mae: 17.5038\n",
      "Epoch 115/500\n",
      "2/2 [==============================] - 0s 5ms/step - loss: 11.2598 - mae: 11.2598\n",
      "Epoch 116/500\n",
      "2/2 [==============================] - 0s 6ms/step - loss: 23.7189 - mae: 23.7189\n",
      "Epoch 117/500\n",
      "2/2 [==============================] - 0s 6ms/step - loss: 9.7709 - mae: 9.7709\n",
      "Epoch 118/500\n",
      "2/2 [==============================] - 0s 5ms/step - loss: 10.8620 - mae: 10.8620\n",
      "Epoch 119/500\n",
      "2/2 [==============================] - 0s 5ms/step - loss: 8.0890 - mae: 8.0890\n",
      "Epoch 120/500\n",
      "2/2 [==============================] - 0s 6ms/step - loss: 30.1268 - mae: 30.1268\n",
      "Epoch 121/500\n",
      "2/2 [==============================] - 0s 5ms/step - loss: 8.1179 - mae: 8.1179\n",
      "Epoch 122/500\n",
      "2/2 [==============================] - 0s 5ms/step - loss: 28.6560 - mae: 28.6560\n",
      "Epoch 123/500\n",
      "2/2 [==============================] - 0s 5ms/step - loss: 33.3285 - mae: 33.3285\n",
      "Epoch 124/500\n",
      "2/2 [==============================] - 0s 4ms/step - loss: 19.9597 - mae: 19.9597\n",
      "Epoch 125/500\n",
      "2/2 [==============================] - 0s 7ms/step - loss: 8.3249 - mae: 8.3249\n",
      "Epoch 126/500\n",
      "2/2 [==============================] - 0s 6ms/step - loss: 11.1648 - mae: 11.1648\n",
      "Epoch 127/500\n",
      "2/2 [==============================] - 0s 7ms/step - loss: 17.3830 - mae: 17.3830\n",
      "Epoch 128/500\n",
      "2/2 [==============================] - 0s 5ms/step - loss: 10.9582 - mae: 10.9582\n",
      "Epoch 129/500\n",
      "2/2 [==============================] - 0s 5ms/step - loss: 19.5330 - mae: 19.5330\n",
      "Epoch 130/500\n",
      "2/2 [==============================] - 0s 6ms/step - loss: 10.1231 - mae: 10.1231\n",
      "Epoch 131/500\n",
      "2/2 [==============================] - 0s 5ms/step - loss: 21.1820 - mae: 21.1820\n",
      "Epoch 132/500\n",
      "2/2 [==============================] - 0s 5ms/step - loss: 8.1624 - mae: 8.1624\n",
      "Epoch 133/500\n",
      "2/2 [==============================] - 0s 5ms/step - loss: 8.9526 - mae: 8.9526\n",
      "Epoch 134/500\n",
      "2/2 [==============================] - 0s 5ms/step - loss: 21.9795 - mae: 21.9795\n",
      "Epoch 135/500\n",
      "2/2 [==============================] - 0s 5ms/step - loss: 11.0684 - mae: 11.0684\n",
      "Epoch 136/500\n",
      "2/2 [==============================] - 0s 5ms/step - loss: 19.7628 - mae: 19.7628\n",
      "Epoch 137/500\n",
      "2/2 [==============================] - 0s 6ms/step - loss: 23.0741 - mae: 23.0741\n",
      "Epoch 138/500\n",
      "2/2 [==============================] - 0s 5ms/step - loss: 9.1231 - mae: 9.1231\n",
      "Epoch 139/500\n",
      "2/2 [==============================] - 0s 5ms/step - loss: 8.9173 - mae: 8.9173\n",
      "Epoch 140/500\n",
      "2/2 [==============================] - 0s 6ms/step - loss: 16.3925 - mae: 16.3925\n",
      "Epoch 141/500\n",
      "2/2 [==============================] - 0s 6ms/step - loss: 8.4451 - mae: 8.4451\n",
      "Epoch 142/500\n",
      "2/2 [==============================] - 0s 6ms/step - loss: 36.7470 - mae: 36.7470\n",
      "Epoch 143/500\n",
      "2/2 [==============================] - 0s 5ms/step - loss: 25.4327 - mae: 25.4327\n",
      "Epoch 144/500\n",
      "2/2 [==============================] - 0s 5ms/step - loss: 9.5689 - mae: 9.5689\n",
      "Epoch 145/500\n",
      "2/2 [==============================] - 0s 5ms/step - loss: 26.6591 - mae: 26.6591\n",
      "Epoch 146/500\n",
      "2/2 [==============================] - 0s 6ms/step - loss: 8.6810 - mae: 8.6810\n",
      "Epoch 147/500\n",
      "2/2 [==============================] - 0s 5ms/step - loss: 15.6810 - mae: 15.6810\n",
      "Epoch 148/500\n",
      "2/2 [==============================] - 0s 5ms/step - loss: 18.3843 - mae: 18.3843\n",
      "Epoch 149/500\n",
      "2/2 [==============================] - 0s 6ms/step - loss: 8.1655 - mae: 8.1655\n",
      "Epoch 150/500\n",
      "2/2 [==============================] - 0s 5ms/step - loss: 7.5012 - mae: 7.5012\n",
      "Epoch 151/500\n",
      "2/2 [==============================] - 0s 5ms/step - loss: 18.1766 - mae: 18.1766\n",
      "Epoch 152/500\n",
      "2/2 [==============================] - 0s 5ms/step - loss: 10.2735 - mae: 10.2735\n",
      "Epoch 153/500\n",
      "2/2 [==============================] - 0s 5ms/step - loss: 29.3728 - mae: 29.3728\n",
      "Epoch 154/500\n",
      "2/2 [==============================] - 0s 6ms/step - loss: 10.6236 - mae: 10.6236\n",
      "Epoch 155/500\n",
      "2/2 [==============================] - 0s 5ms/step - loss: 15.5149 - mae: 15.5149\n",
      "Epoch 156/500\n",
      "2/2 [==============================] - 0s 6ms/step - loss: 17.1419 - mae: 17.1419\n",
      "Epoch 157/500\n",
      "2/2 [==============================] - 0s 6ms/step - loss: 32.5036 - mae: 32.5036\n",
      "Epoch 158/500\n",
      "2/2 [==============================] - 0s 5ms/step - loss: 10.6398 - mae: 10.6398\n",
      "Epoch 159/500\n",
      "2/2 [==============================] - 0s 5ms/step - loss: 8.8882 - mae: 8.8882\n",
      "Epoch 160/500\n",
      "2/2 [==============================] - 0s 5ms/step - loss: 21.8940 - mae: 21.8940\n",
      "Epoch 161/500\n",
      "2/2 [==============================] - 0s 5ms/step - loss: 11.1072 - mae: 11.1072\n",
      "Epoch 162/500\n",
      "2/2 [==============================] - 0s 5ms/step - loss: 21.4240 - mae: 21.4240\n",
      "Epoch 163/500\n",
      "2/2 [==============================] - 0s 6ms/step - loss: 18.9020 - mae: 18.9020\n",
      "Epoch 164/500\n",
      "2/2 [==============================] - 0s 5ms/step - loss: 12.7427 - mae: 12.7427\n",
      "Epoch 165/500\n",
      "2/2 [==============================] - 0s 5ms/step - loss: 12.7198 - mae: 12.7198\n",
      "Epoch 166/500\n",
      "2/2 [==============================] - 0s 5ms/step - loss: 18.8835 - mae: 18.8835\n",
      "Epoch 167/500\n",
      "2/2 [==============================] - 0s 5ms/step - loss: 26.8701 - mae: 26.8701\n",
      "Epoch 168/500\n",
      "2/2 [==============================] - 0s 8ms/step - loss: 9.9997 - mae: 9.9997\n",
      "Epoch 169/500\n",
      "2/2 [==============================] - 0s 5ms/step - loss: 23.1221 - mae: 23.1221\n",
      "Epoch 170/500\n",
      "2/2 [==============================] - 0s 6ms/step - loss: 9.5932 - mae: 9.5932\n",
      "Epoch 171/500\n",
      "2/2 [==============================] - 0s 5ms/step - loss: 15.8590 - mae: 15.8590\n",
      "Epoch 172/500\n",
      "2/2 [==============================] - 0s 5ms/step - loss: 13.8901 - mae: 13.8901\n",
      "Epoch 173/500\n",
      "2/2 [==============================] - 0s 5ms/step - loss: 22.5827 - mae: 22.5827\n",
      "Epoch 174/500\n",
      "2/2 [==============================] - 0s 5ms/step - loss: 11.3528 - mae: 11.3528\n",
      "Epoch 175/500\n",
      "2/2 [==============================] - 0s 6ms/step - loss: 20.0885 - mae: 20.0885\n",
      "Epoch 176/500\n",
      "2/2 [==============================] - 0s 5ms/step - loss: 7.4120 - mae: 7.4120\n",
      "Epoch 177/500\n",
      "2/2 [==============================] - 0s 5ms/step - loss: 8.6001 - mae: 8.6001\n",
      "Epoch 178/500\n",
      "2/2 [==============================] - 0s 10ms/step - loss: 15.4947 - mae: 15.4947\n",
      "Epoch 179/500\n",
      "2/2 [==============================] - 0s 5ms/step - loss: 9.2923 - mae: 9.2923\n",
      "Epoch 180/500\n",
      "2/2 [==============================] - 0s 5ms/step - loss: 8.1353 - mae: 8.1353\n",
      "Epoch 181/500\n",
      "2/2 [==============================] - 0s 5ms/step - loss: 18.7367 - mae: 18.7367\n",
      "Epoch 182/500\n",
      "2/2 [==============================] - 0s 5ms/step - loss: 10.7878 - mae: 10.7878\n",
      "Epoch 183/500\n",
      "2/2 [==============================] - 0s 5ms/step - loss: 10.9144 - mae: 10.9144\n",
      "Epoch 184/500\n",
      "2/2 [==============================] - 0s 5ms/step - loss: 33.7523 - mae: 33.7523\n",
      "Epoch 185/500\n",
      "2/2 [==============================] - 0s 5ms/step - loss: 7.6324 - mae: 7.6324\n",
      "Epoch 186/500\n",
      "2/2 [==============================] - 0s 8ms/step - loss: 16.8039 - mae: 16.8039\n",
      "Epoch 187/500\n",
      "2/2 [==============================] - 0s 5ms/step - loss: 10.1826 - mae: 10.1826\n",
      "Epoch 188/500\n",
      "2/2 [==============================] - 0s 5ms/step - loss: 23.0196 - mae: 23.0196\n",
      "Epoch 189/500\n",
      "2/2 [==============================] - 0s 5ms/step - loss: 9.8936 - mae: 9.8936\n",
      "Epoch 190/500\n",
      "2/2 [==============================] - 0s 5ms/step - loss: 15.3448 - mae: 15.3448\n",
      "Epoch 191/500\n",
      "2/2 [==============================] - 0s 6ms/step - loss: 9.9382 - mae: 9.9382\n",
      "Epoch 192/500\n",
      "2/2 [==============================] - 0s 5ms/step - loss: 14.9834 - mae: 14.9834\n",
      "Epoch 193/500\n",
      "2/2 [==============================] - 0s 5ms/step - loss: 29.6537 - mae: 29.6537\n",
      "Epoch 194/500\n",
      "2/2 [==============================] - 0s 5ms/step - loss: 8.3539 - mae: 8.3539\n",
      "Epoch 195/500\n",
      "2/2 [==============================] - 0s 6ms/step - loss: 12.8912 - mae: 12.8912\n",
      "Epoch 196/500\n",
      "2/2 [==============================] - 0s 5ms/step - loss: 23.9141 - mae: 23.9141\n",
      "Epoch 197/500\n",
      "2/2 [==============================] - 0s 5ms/step - loss: 16.8337 - mae: 16.8337\n",
      "Epoch 198/500\n",
      "2/2 [==============================] - 0s 5ms/step - loss: 11.4988 - mae: 11.4988\n",
      "Epoch 199/500\n",
      "2/2 [==============================] - 0s 11ms/step - loss: 19.6443 - mae: 19.6443\n",
      "Epoch 200/500\n",
      "2/2 [==============================] - 0s 5ms/step - loss: 15.8150 - mae: 15.8150\n",
      "Epoch 201/500\n",
      "2/2 [==============================] - 0s 7ms/step - loss: 10.5714 - mae: 10.5714\n",
      "Epoch 202/500\n",
      "2/2 [==============================] - 0s 5ms/step - loss: 22.4005 - mae: 22.4005\n",
      "Epoch 203/500\n",
      "2/2 [==============================] - 0s 5ms/step - loss: 21.7614 - mae: 21.7614\n",
      "Epoch 204/500\n",
      "2/2 [==============================] - 0s 5ms/step - loss: 17.3702 - mae: 17.3702\n",
      "Epoch 205/500\n",
      "2/2 [==============================] - 0s 7ms/step - loss: 9.5177 - mae: 9.5177\n",
      "Epoch 206/500\n",
      "2/2 [==============================] - 0s 5ms/step - loss: 11.1573 - mae: 11.1573\n",
      "Epoch 207/500\n",
      "2/2 [==============================] - 0s 11ms/step - loss: 17.7084 - mae: 17.7084\n",
      "Epoch 208/500\n",
      "2/2 [==============================] - 0s 5ms/step - loss: 14.4037 - mae: 14.4037\n",
      "Epoch 209/500\n",
      "2/2 [==============================] - 0s 5ms/step - loss: 16.7364 - mae: 16.7364\n",
      "Epoch 210/500\n",
      "2/2 [==============================] - 0s 5ms/step - loss: 18.2570 - mae: 18.2570\n",
      "Epoch 211/500\n",
      "2/2 [==============================] - 0s 11ms/step - loss: 9.9661 - mae: 9.9661\n",
      "Epoch 212/500\n",
      "2/2 [==============================] - 0s 10ms/step - loss: 18.7477 - mae: 18.7477\n",
      "Epoch 213/500\n",
      "2/2 [==============================] - 0s 5ms/step - loss: 14.9367 - mae: 14.9367\n",
      "Epoch 214/500\n",
      "2/2 [==============================] - 0s 5ms/step - loss: 14.5237 - mae: 14.5237\n",
      "Epoch 215/500\n",
      "2/2 [==============================] - 0s 5ms/step - loss: 23.1629 - mae: 23.1629\n",
      "Epoch 216/500\n",
      "2/2 [==============================] - 0s 5ms/step - loss: 13.6085 - mae: 13.6085\n",
      "Epoch 217/500\n",
      "2/2 [==============================] - 0s 5ms/step - loss: 10.0691 - mae: 10.0691\n",
      "Epoch 218/500\n",
      "2/2 [==============================] - 0s 5ms/step - loss: 12.4044 - mae: 12.4044\n",
      "Epoch 219/500\n",
      "2/2 [==============================] - 0s 5ms/step - loss: 5.8653 - mae: 5.8653\n",
      "Epoch 220/500\n",
      "2/2 [==============================] - 0s 5ms/step - loss: 10.2084 - mae: 10.2084\n",
      "Epoch 221/500\n",
      "2/2 [==============================] - 0s 6ms/step - loss: 28.9175 - mae: 28.9175\n",
      "Epoch 222/500\n",
      "2/2 [==============================] - 0s 10ms/step - loss: 28.1180 - mae: 28.1180\n",
      "Epoch 223/500\n",
      "2/2 [==============================] - 0s 8ms/step - loss: 10.0669 - mae: 10.0669\n",
      "Epoch 224/500\n",
      "2/2 [==============================] - 0s 6ms/step - loss: 14.6145 - mae: 14.6145\n",
      "Epoch 225/500\n",
      "2/2 [==============================] - 0s 5ms/step - loss: 16.6277 - mae: 16.6277\n",
      "Epoch 226/500\n",
      "2/2 [==============================] - 0s 5ms/step - loss: 15.8497 - mae: 15.8497\n",
      "Epoch 227/500\n",
      "2/2 [==============================] - 0s 5ms/step - loss: 16.0667 - mae: 16.0667\n",
      "Epoch 228/500\n",
      "2/2 [==============================] - 0s 5ms/step - loss: 13.8480 - mae: 13.8480\n",
      "Epoch 229/500\n",
      "2/2 [==============================] - 0s 5ms/step - loss: 17.9626 - mae: 17.9626\n",
      "Epoch 230/500\n",
      "2/2 [==============================] - 0s 6ms/step - loss: 15.5589 - mae: 15.5589\n",
      "Epoch 231/500\n",
      "2/2 [==============================] - 0s 14ms/step - loss: 21.0677 - mae: 21.0677\n",
      "Epoch 232/500\n",
      "2/2 [==============================] - 0s 10ms/step - loss: 25.5802 - mae: 25.5802\n",
      "Epoch 233/500\n",
      "2/2 [==============================] - 0s 5ms/step - loss: 16.5634 - mae: 16.5634\n",
      "Epoch 234/500\n",
      "2/2 [==============================] - 0s 5ms/step - loss: 7.3671 - mae: 7.3671\n",
      "Epoch 235/500\n",
      "2/2 [==============================] - 0s 10ms/step - loss: 17.2080 - mae: 17.2080\n",
      "Epoch 236/500\n",
      "2/2 [==============================] - 0s 5ms/step - loss: 7.2361 - mae: 7.2361\n",
      "Epoch 237/500\n",
      "2/2 [==============================] - 0s 5ms/step - loss: 9.3457 - mae: 9.3457\n",
      "Epoch 238/500\n",
      "2/2 [==============================] - 0s 4ms/step - loss: 8.1882 - mae: 8.1882\n",
      "Epoch 239/500\n",
      "2/2 [==============================] - 0s 6ms/step - loss: 17.2482 - mae: 17.2482\n",
      "Epoch 240/500\n",
      "2/2 [==============================] - 0s 5ms/step - loss: 8.9731 - mae: 8.9731\n",
      "Epoch 241/500\n",
      "2/2 [==============================] - 0s 7ms/step - loss: 13.3215 - mae: 13.3215\n",
      "Epoch 242/500\n",
      "2/2 [==============================] - 0s 5ms/step - loss: 8.8768 - mae: 8.8768\n",
      "Epoch 243/500\n",
      "2/2 [==============================] - 0s 5ms/step - loss: 19.0124 - mae: 19.0124\n",
      "Epoch 244/500\n",
      "2/2 [==============================] - 0s 5ms/step - loss: 14.0133 - mae: 14.0133\n",
      "Epoch 245/500\n",
      "2/2 [==============================] - 0s 5ms/step - loss: 14.6461 - mae: 14.6461\n",
      "Epoch 246/500\n",
      "2/2 [==============================] - 0s 5ms/step - loss: 15.7796 - mae: 15.7796\n",
      "Epoch 247/500\n",
      "2/2 [==============================] - 0s 5ms/step - loss: 17.6463 - mae: 17.6463\n",
      "Epoch 248/500\n",
      "2/2 [==============================] - 0s 8ms/step - loss: 13.2048 - mae: 13.2048\n",
      "Epoch 249/500\n",
      "2/2 [==============================] - 0s 5ms/step - loss: 14.4954 - mae: 14.4954\n",
      "Epoch 250/500\n",
      "2/2 [==============================] - 0s 5ms/step - loss: 23.1953 - mae: 23.1953\n",
      "Epoch 251/500\n",
      "2/2 [==============================] - 0s 5ms/step - loss: 9.3527 - mae: 9.3527\n",
      "Epoch 252/500\n",
      "2/2 [==============================] - 0s 5ms/step - loss: 36.7930 - mae: 36.7930\n",
      "Epoch 253/500\n",
      "2/2 [==============================] - 0s 5ms/step - loss: 21.9340 - mae: 21.9340\n",
      "Epoch 254/500\n",
      "2/2 [==============================] - 0s 6ms/step - loss: 7.3263 - mae: 7.3263\n",
      "Epoch 255/500\n",
      "2/2 [==============================] - 0s 5ms/step - loss: 24.8102 - mae: 24.8102\n",
      "Epoch 256/500\n",
      "2/2 [==============================] - 0s 5ms/step - loss: 12.4976 - mae: 12.4976\n",
      "Epoch 257/500\n",
      "2/2 [==============================] - 0s 7ms/step - loss: 10.6447 - mae: 10.6447\n",
      "Epoch 258/500\n",
      "2/2 [==============================] - 0s 5ms/step - loss: 14.5413 - mae: 14.5413\n",
      "Epoch 259/500\n",
      "2/2 [==============================] - 0s 6ms/step - loss: 8.6552 - mae: 8.6552\n",
      "Epoch 260/500\n",
      "2/2 [==============================] - 0s 5ms/step - loss: 43.1146 - mae: 43.1146\n",
      "Epoch 261/500\n",
      "2/2 [==============================] - 0s 5ms/step - loss: 18.5195 - mae: 18.5195\n",
      "Epoch 262/500\n",
      "2/2 [==============================] - 0s 5ms/step - loss: 6.8920 - mae: 6.8920\n",
      "Epoch 263/500\n",
      "2/2 [==============================] - 0s 7ms/step - loss: 13.7203 - mae: 13.7203\n",
      "Epoch 264/500\n",
      "2/2 [==============================] - 0s 5ms/step - loss: 21.0088 - mae: 21.0088\n",
      "Epoch 265/500\n",
      "2/2 [==============================] - 0s 8ms/step - loss: 19.4053 - mae: 19.4053\n",
      "Epoch 266/500\n",
      "2/2 [==============================] - 0s 6ms/step - loss: 11.4768 - mae: 11.4768\n",
      "Epoch 267/500\n",
      "2/2 [==============================] - 0s 4ms/step - loss: 7.5547 - mae: 7.5547\n",
      "Epoch 268/500\n",
      "2/2 [==============================] - 0s 5ms/step - loss: 21.6440 - mae: 21.6440\n",
      "Epoch 269/500\n",
      "2/2 [==============================] - 0s 9ms/step - loss: 33.1759 - mae: 33.1759\n",
      "Epoch 270/500\n",
      "2/2 [==============================] - 0s 9ms/step - loss: 9.8635 - mae: 9.8635\n",
      "Epoch 271/500\n",
      "2/2 [==============================] - 0s 5ms/step - loss: 7.7390 - mae: 7.7390\n",
      "Epoch 272/500\n",
      "2/2 [==============================] - 0s 5ms/step - loss: 28.4664 - mae: 28.4664\n",
      "Epoch 273/500\n",
      "2/2 [==============================] - 0s 10ms/step - loss: 7.4672 - mae: 7.4672\n",
      "Epoch 274/500\n",
      "2/2 [==============================] - 0s 4ms/step - loss: 6.3633 - mae: 6.3633\n",
      "Epoch 275/500\n",
      "2/2 [==============================] - 0s 5ms/step - loss: 31.8559 - mae: 31.8559\n",
      "Epoch 276/500\n",
      "2/2 [==============================] - 0s 5ms/step - loss: 4.7013 - mae: 4.7013\n",
      "Epoch 277/500\n",
      "2/2 [==============================] - 0s 6ms/step - loss: 19.7886 - mae: 19.7886\n",
      "Epoch 278/500\n",
      "2/2 [==============================] - 0s 6ms/step - loss: 6.5167 - mae: 6.5167\n",
      "Epoch 279/500\n",
      "2/2 [==============================] - 0s 6ms/step - loss: 18.7219 - mae: 18.7219\n",
      "Epoch 280/500\n",
      "2/2 [==============================] - 0s 5ms/step - loss: 29.3441 - mae: 29.3441\n",
      "Epoch 281/500\n",
      "2/2 [==============================] - 0s 6ms/step - loss: 7.4397 - mae: 7.4397\n",
      "Epoch 282/500\n",
      "2/2 [==============================] - 0s 6ms/step - loss: 14.3177 - mae: 14.3177\n",
      "Epoch 283/500\n",
      "2/2 [==============================] - 0s 6ms/step - loss: 10.4450 - mae: 10.4450\n",
      "Epoch 284/500\n",
      "2/2 [==============================] - 0s 8ms/step - loss: 25.2688 - mae: 25.2688\n",
      "Epoch 285/500\n",
      "2/2 [==============================] - 0s 5ms/step - loss: 16.0960 - mae: 16.0960\n",
      "Epoch 286/500\n",
      "2/2 [==============================] - 0s 6ms/step - loss: 5.2718 - mae: 5.2718\n",
      "Epoch 287/500\n",
      "2/2 [==============================] - 0s 5ms/step - loss: 20.7955 - mae: 20.7955\n",
      "Epoch 288/500\n",
      "2/2 [==============================] - 0s 5ms/step - loss: 27.6673 - mae: 27.6673\n",
      "Epoch 289/500\n",
      "2/2 [==============================] - 0s 5ms/step - loss: 10.4221 - mae: 10.4221\n",
      "Epoch 290/500\n",
      "2/2 [==============================] - 0s 6ms/step - loss: 16.2937 - mae: 16.2937\n",
      "Epoch 291/500\n",
      "2/2 [==============================] - 0s 4ms/step - loss: 16.4758 - mae: 16.4758\n",
      "Epoch 292/500\n",
      "2/2 [==============================] - 0s 5ms/step - loss: 7.4258 - mae: 7.4258\n",
      "Epoch 293/500\n",
      "2/2 [==============================] - 0s 10ms/step - loss: 16.5366 - mae: 16.5366\n",
      "Epoch 294/500\n",
      "2/2 [==============================] - 0s 5ms/step - loss: 25.3097 - mae: 25.3097\n",
      "Epoch 295/500\n",
      "2/2 [==============================] - 0s 10ms/step - loss: 14.6314 - mae: 14.6314\n",
      "Epoch 296/500\n",
      "2/2 [==============================] - 0s 5ms/step - loss: 4.5201 - mae: 4.5201\n",
      "Epoch 297/500\n",
      "2/2 [==============================] - 0s 7ms/step - loss: 9.6868 - mae: 9.6868\n",
      "Epoch 298/500\n",
      "2/2 [==============================] - 0s 5ms/step - loss: 23.8141 - mae: 23.8141\n",
      "Epoch 299/500\n",
      "2/2 [==============================] - 0s 10ms/step - loss: 18.9373 - mae: 18.9373\n",
      "Epoch 300/500\n",
      "2/2 [==============================] - 0s 4ms/step - loss: 8.7834 - mae: 8.7834\n",
      "Epoch 301/500\n",
      "2/2 [==============================] - 0s 6ms/step - loss: 15.8140 - mae: 15.8140\n",
      "Epoch 302/500\n",
      "2/2 [==============================] - 0s 5ms/step - loss: 6.5935 - mae: 6.5935\n",
      "Epoch 303/500\n",
      "2/2 [==============================] - 0s 5ms/step - loss: 21.5668 - mae: 21.5668\n",
      "Epoch 304/500\n",
      "2/2 [==============================] - 0s 6ms/step - loss: 25.9091 - mae: 25.9091\n",
      "Epoch 305/500\n",
      "2/2 [==============================] - 0s 8ms/step - loss: 9.5373 - mae: 9.5373\n",
      "Epoch 306/500\n",
      "2/2 [==============================] - 0s 10ms/step - loss: 17.6897 - mae: 17.6897\n",
      "Epoch 307/500\n",
      "2/2 [==============================] - 0s 6ms/step - loss: 9.8212 - mae: 9.8212\n",
      "Epoch 308/500\n",
      "2/2 [==============================] - 0s 5ms/step - loss: 20.5996 - mae: 20.5996\n",
      "Epoch 309/500\n",
      "2/2 [==============================] - 0s 7ms/step - loss: 13.5707 - mae: 13.5707\n",
      "Epoch 310/500\n",
      "2/2 [==============================] - 0s 6ms/step - loss: 6.6800 - mae: 6.6800\n",
      "Epoch 311/500\n",
      "2/2 [==============================] - 0s 6ms/step - loss: 13.6688 - mae: 13.6688\n",
      "Epoch 312/500\n",
      "2/2 [==============================] - 0s 6ms/step - loss: 30.0236 - mae: 30.0236\n",
      "Epoch 313/500\n",
      "2/2 [==============================] - 0s 5ms/step - loss: 7.5469 - mae: 7.5469\n",
      "Epoch 314/500\n",
      "2/2 [==============================] - 0s 5ms/step - loss: 9.9661 - mae: 9.9661\n",
      "Epoch 315/500\n",
      "2/2 [==============================] - 0s 5ms/step - loss: 23.8767 - mae: 23.8767\n",
      "Epoch 316/500\n",
      "2/2 [==============================] - 0s 8ms/step - loss: 16.1777 - mae: 16.1777\n",
      "Epoch 317/500\n",
      "2/2 [==============================] - 0s 6ms/step - loss: 20.6761 - mae: 20.6761\n",
      "Epoch 318/500\n",
      "2/2 [==============================] - 0s 6ms/step - loss: 8.7357 - mae: 8.7357\n",
      "Epoch 319/500\n",
      "2/2 [==============================] - 0s 7ms/step - loss: 15.2769 - mae: 15.2769\n",
      "Epoch 320/500\n",
      "2/2 [==============================] - 0s 6ms/step - loss: 8.3640 - mae: 8.3640\n",
      "Epoch 321/500\n",
      "2/2 [==============================] - 0s 6ms/step - loss: 14.6952 - mae: 14.6952\n",
      "Epoch 322/500\n",
      "2/2 [==============================] - 0s 6ms/step - loss: 12.8115 - mae: 12.8115\n",
      "Epoch 323/500\n",
      "2/2 [==============================] - 0s 7ms/step - loss: 19.0836 - mae: 19.0836\n",
      "Epoch 324/500\n",
      "2/2 [==============================] - 0s 5ms/step - loss: 17.0413 - mae: 17.0413\n",
      "Epoch 325/500\n",
      "2/2 [==============================] - 0s 7ms/step - loss: 9.2936 - mae: 9.2936\n",
      "Epoch 326/500\n",
      "2/2 [==============================] - 0s 8ms/step - loss: 19.9179 - mae: 19.9179\n",
      "Epoch 327/500\n",
      "2/2 [==============================] - 0s 5ms/step - loss: 28.1420 - mae: 28.1420\n",
      "Epoch 328/500\n",
      "2/2 [==============================] - 0s 7ms/step - loss: 11.7021 - mae: 11.7021\n",
      "Epoch 329/500\n",
      "2/2 [==============================] - 0s 5ms/step - loss: 16.3796 - mae: 16.3796\n",
      "Epoch 330/500\n",
      "2/2 [==============================] - 0s 5ms/step - loss: 7.3320 - mae: 7.3320\n",
      "Epoch 331/500\n",
      "2/2 [==============================] - 0s 5ms/step - loss: 22.5808 - mae: 22.5808\n",
      "Epoch 332/500\n",
      "2/2 [==============================] - 0s 4ms/step - loss: 13.3629 - mae: 13.3629\n",
      "Epoch 333/500\n",
      "2/2 [==============================] - 0s 5ms/step - loss: 10.1818 - mae: 10.1818\n",
      "Epoch 334/500\n",
      "2/2 [==============================] - 0s 7ms/step - loss: 6.6356 - mae: 6.6356\n",
      "Epoch 335/500\n",
      "2/2 [==============================] - 0s 5ms/step - loss: 6.2753 - mae: 6.2753\n",
      "Epoch 336/500\n",
      "2/2 [==============================] - 0s 5ms/step - loss: 34.5369 - mae: 34.5369\n",
      "Epoch 337/500\n",
      "2/2 [==============================] - 0s 5ms/step - loss: 26.9697 - mae: 26.9697\n",
      "Epoch 338/500\n",
      "2/2 [==============================] - 0s 5ms/step - loss: 14.0145 - mae: 14.0145\n",
      "Epoch 339/500\n",
      "2/2 [==============================] - 0s 5ms/step - loss: 11.5609 - mae: 11.5609\n",
      "Epoch 340/500\n",
      "2/2 [==============================] - 0s 5ms/step - loss: 8.8288 - mae: 8.8288\n",
      "Epoch 341/500\n",
      "2/2 [==============================] - 0s 5ms/step - loss: 23.4565 - mae: 23.4565\n",
      "Epoch 342/500\n",
      "2/2 [==============================] - 0s 6ms/step - loss: 13.9152 - mae: 13.9152\n",
      "Epoch 343/500\n",
      "2/2 [==============================] - 0s 5ms/step - loss: 14.8229 - mae: 14.8229\n",
      "Epoch 344/500\n",
      "2/2 [==============================] - 0s 5ms/step - loss: 13.3943 - mae: 13.3943\n",
      "Epoch 345/500\n",
      "2/2 [==============================] - 0s 6ms/step - loss: 31.0218 - mae: 31.0218\n",
      "Epoch 346/500\n",
      "2/2 [==============================] - 0s 5ms/step - loss: 10.7053 - mae: 10.7053\n",
      "Epoch 347/500\n",
      "2/2 [==============================] - 0s 5ms/step - loss: 25.7243 - mae: 25.7243\n",
      "Epoch 348/500\n",
      "2/2 [==============================] - 0s 5ms/step - loss: 12.9003 - mae: 12.9003\n",
      "Epoch 349/500\n",
      "2/2 [==============================] - 0s 5ms/step - loss: 13.1628 - mae: 13.1628\n",
      "Epoch 350/500\n",
      "2/2 [==============================] - 0s 7ms/step - loss: 15.4425 - mae: 15.4425\n",
      "Epoch 351/500\n",
      "2/2 [==============================] - 0s 5ms/step - loss: 32.9566 - mae: 32.9566\n",
      "Epoch 352/500\n",
      "2/2 [==============================] - 0s 6ms/step - loss: 14.2032 - mae: 14.2032\n",
      "Epoch 353/500\n",
      "2/2 [==============================] - 0s 7ms/step - loss: 15.9190 - mae: 15.9190\n",
      "Epoch 354/500\n",
      "2/2 [==============================] - 0s 5ms/step - loss: 19.0840 - mae: 19.0840\n",
      "Epoch 355/500\n",
      "2/2 [==============================] - 0s 6ms/step - loss: 34.1331 - mae: 34.1331\n",
      "Epoch 356/500\n",
      "2/2 [==============================] - 0s 5ms/step - loss: 7.7045 - mae: 7.7045\n",
      "Epoch 357/500\n",
      "2/2 [==============================] - 0s 8ms/step - loss: 25.2260 - mae: 25.2260\n",
      "Epoch 358/500\n",
      "2/2 [==============================] - 0s 5ms/step - loss: 22.6840 - mae: 22.6840\n",
      "Epoch 359/500\n",
      "2/2 [==============================] - 0s 5ms/step - loss: 8.8979 - mae: 8.8979\n",
      "Epoch 360/500\n",
      "2/2 [==============================] - 0s 5ms/step - loss: 21.4775 - mae: 21.4775\n",
      "Epoch 361/500\n",
      "2/2 [==============================] - 0s 5ms/step - loss: 20.5964 - mae: 20.5964\n",
      "Epoch 362/500\n",
      "2/2 [==============================] - 0s 5ms/step - loss: 7.0885 - mae: 7.0885\n",
      "Epoch 363/500\n",
      "2/2 [==============================] - 0s 5ms/step - loss: 25.7896 - mae: 25.7896\n",
      "Epoch 364/500\n",
      "2/2 [==============================] - 0s 5ms/step - loss: 32.1992 - mae: 32.1992\n",
      "Epoch 365/500\n",
      "2/2 [==============================] - 0s 6ms/step - loss: 10.0266 - mae: 10.0266\n",
      "Epoch 366/500\n",
      "2/2 [==============================] - 0s 5ms/step - loss: 9.6921 - mae: 9.6921\n",
      "Epoch 367/500\n",
      "2/2 [==============================] - 0s 6ms/step - loss: 30.4263 - mae: 30.4263\n",
      "Epoch 368/500\n",
      "2/2 [==============================] - 0s 5ms/step - loss: 10.5209 - mae: 10.5209\n",
      "Epoch 369/500\n",
      "2/2 [==============================] - 0s 6ms/step - loss: 15.0099 - mae: 15.0099\n",
      "Epoch 370/500\n",
      "2/2 [==============================] - 0s 5ms/step - loss: 14.6713 - mae: 14.6713\n",
      "Epoch 371/500\n",
      "2/2 [==============================] - 0s 7ms/step - loss: 23.3920 - mae: 23.3920\n",
      "Epoch 372/500\n",
      "2/2 [==============================] - 0s 5ms/step - loss: 13.0697 - mae: 13.0697\n",
      "Epoch 373/500\n",
      "2/2 [==============================] - 0s 5ms/step - loss: 9.2384 - mae: 9.2384\n",
      "Epoch 374/500\n",
      "2/2 [==============================] - 0s 7ms/step - loss: 9.6958 - mae: 9.6958\n",
      "Epoch 375/500\n",
      "2/2 [==============================] - 0s 8ms/step - loss: 13.0282 - mae: 13.0282\n",
      "Epoch 376/500\n",
      "2/2 [==============================] - 0s 7ms/step - loss: 14.9092 - mae: 14.9092\n",
      "Epoch 377/500\n",
      "2/2 [==============================] - 0s 7ms/step - loss: 14.8240 - mae: 14.8240\n",
      "Epoch 378/500\n",
      "2/2 [==============================] - 0s 6ms/step - loss: 16.2990 - mae: 16.2990\n",
      "Epoch 379/500\n",
      "2/2 [==============================] - 0s 6ms/step - loss: 20.8726 - mae: 20.8726\n",
      "Epoch 380/500\n",
      "2/2 [==============================] - 0s 6ms/step - loss: 33.4101 - mae: 33.4101\n",
      "Epoch 381/500\n",
      "2/2 [==============================] - 0s 8ms/step - loss: 8.2134 - mae: 8.2134\n",
      "Epoch 382/500\n",
      "2/2 [==============================] - 0s 8ms/step - loss: 13.0165 - mae: 13.0165\n",
      "Epoch 383/500\n",
      "2/2 [==============================] - 0s 6ms/step - loss: 8.4527 - mae: 8.4527\n",
      "Epoch 384/500\n",
      "2/2 [==============================] - 0s 6ms/step - loss: 7.1127 - mae: 7.1127\n",
      "Epoch 385/500\n",
      "2/2 [==============================] - 0s 7ms/step - loss: 10.9735 - mae: 10.9735\n",
      "Epoch 386/500\n",
      "2/2 [==============================] - 0s 6ms/step - loss: 19.8221 - mae: 19.8221\n",
      "Epoch 387/500\n",
      "2/2 [==============================] - 0s 6ms/step - loss: 24.7308 - mae: 24.7308\n",
      "Epoch 388/500\n",
      "2/2 [==============================] - 0s 7ms/step - loss: 8.7080 - mae: 8.7080\n",
      "Epoch 389/500\n",
      "2/2 [==============================] - 0s 7ms/step - loss: 5.9554 - mae: 5.9554\n",
      "Epoch 390/500\n",
      "2/2 [==============================] - 0s 7ms/step - loss: 24.2929 - mae: 24.2929\n",
      "Epoch 391/500\n",
      "2/2 [==============================] - 0s 9ms/step - loss: 5.9785 - mae: 5.9785\n",
      "Epoch 392/500\n",
      "2/2 [==============================] - 0s 7ms/step - loss: 16.0788 - mae: 16.0788\n",
      "Epoch 393/500\n",
      "2/2 [==============================] - 0s 7ms/step - loss: 6.4938 - mae: 6.4938\n",
      "Epoch 394/500\n",
      "2/2 [==============================] - 0s 7ms/step - loss: 12.5114 - mae: 12.5114\n",
      "Epoch 395/500\n",
      "2/2 [==============================] - 0s 8ms/step - loss: 12.3864 - mae: 12.3864\n",
      "Epoch 396/500\n",
      "2/2 [==============================] - 0s 10ms/step - loss: 7.3478 - mae: 7.3478\n",
      "Epoch 397/500\n",
      "2/2 [==============================] - 0s 7ms/step - loss: 7.6032 - mae: 7.6032\n",
      "Epoch 398/500\n",
      "2/2 [==============================] - 0s 7ms/step - loss: 20.2860 - mae: 20.2860\n",
      "Epoch 399/500\n",
      "2/2 [==============================] - 0s 5ms/step - loss: 5.9177 - mae: 5.9177\n",
      "Epoch 400/500\n",
      "2/2 [==============================] - 0s 5ms/step - loss: 24.6380 - mae: 24.6380\n",
      "Epoch 401/500\n",
      "2/2 [==============================] - 0s 6ms/step - loss: 13.1297 - mae: 13.1297\n",
      "Epoch 402/500\n",
      "2/2 [==============================] - 0s 7ms/step - loss: 8.3589 - mae: 8.3589\n",
      "Epoch 403/500\n",
      "2/2 [==============================] - 0s 6ms/step - loss: 9.8455 - mae: 9.8455\n",
      "Epoch 404/500\n",
      "2/2 [==============================] - 0s 5ms/step - loss: 12.5867 - mae: 12.5867\n",
      "Epoch 405/500\n",
      "2/2 [==============================] - 0s 6ms/step - loss: 8.7722 - mae: 8.7722\n",
      "Epoch 406/500\n",
      "2/2 [==============================] - 0s 6ms/step - loss: 21.6272 - mae: 21.6272\n",
      "Epoch 407/500\n",
      "2/2 [==============================] - 0s 7ms/step - loss: 20.3852 - mae: 20.3852\n",
      "Epoch 408/500\n",
      "2/2 [==============================] - 0s 7ms/step - loss: 10.3798 - mae: 10.3798\n",
      "Epoch 409/500\n",
      "2/2 [==============================] - 0s 5ms/step - loss: 9.3831 - mae: 9.3831\n",
      "Epoch 410/500\n",
      "2/2 [==============================] - 0s 5ms/step - loss: 13.3849 - mae: 13.3849\n",
      "Epoch 411/500\n",
      "2/2 [==============================] - 0s 6ms/step - loss: 15.8471 - mae: 15.8471\n",
      "Epoch 412/500\n",
      "2/2 [==============================] - 0s 8ms/step - loss: 23.5426 - mae: 23.5426\n",
      "Epoch 413/500\n",
      "2/2 [==============================] - 0s 7ms/step - loss: 16.4372 - mae: 16.4372\n",
      "Epoch 414/500\n",
      "2/2 [==============================] - 0s 5ms/step - loss: 4.9295 - mae: 4.9295\n",
      "Epoch 415/500\n",
      "2/2 [==============================] - 0s 5ms/step - loss: 13.9673 - mae: 13.9673\n",
      "Epoch 416/500\n",
      "2/2 [==============================] - 0s 8ms/step - loss: 28.9512 - mae: 28.9512\n",
      "Epoch 417/500\n",
      "2/2 [==============================] - 0s 8ms/step - loss: 5.9815 - mae: 5.9815\n",
      "Epoch 418/500\n",
      "2/2 [==============================] - 0s 5ms/step - loss: 12.4958 - mae: 12.4958\n",
      "Epoch 419/500\n",
      "2/2 [==============================] - 0s 5ms/step - loss: 11.4732 - mae: 11.4732\n",
      "Epoch 420/500\n",
      "2/2 [==============================] - 0s 6ms/step - loss: 23.8355 - mae: 23.8355\n",
      "Epoch 421/500\n",
      "2/2 [==============================] - 0s 5ms/step - loss: 19.7961 - mae: 19.7961\n",
      "Epoch 422/500\n",
      "2/2 [==============================] - 0s 9ms/step - loss: 4.0248 - mae: 4.0248\n",
      "Epoch 423/500\n",
      "2/2 [==============================] - 0s 7ms/step - loss: 34.5361 - mae: 34.5361\n",
      "Epoch 424/500\n",
      "2/2 [==============================] - 0s 7ms/step - loss: 13.0322 - mae: 13.0322\n",
      "Epoch 425/500\n",
      "2/2 [==============================] - 0s 9ms/step - loss: 6.9517 - mae: 6.9517\n",
      "Epoch 426/500\n",
      "2/2 [==============================] - 0s 6ms/step - loss: 19.4633 - mae: 19.4633\n",
      "Epoch 427/500\n",
      "2/2 [==============================] - 0s 7ms/step - loss: 4.4598 - mae: 4.4598\n",
      "Epoch 428/500\n",
      "2/2 [==============================] - 0s 6ms/step - loss: 20.6310 - mae: 20.6310\n",
      "Epoch 429/500\n",
      "2/2 [==============================] - 0s 7ms/step - loss: 15.2278 - mae: 15.2278\n",
      "Epoch 430/500\n",
      "2/2 [==============================] - 0s 8ms/step - loss: 11.3053 - mae: 11.3053\n",
      "Epoch 431/500\n",
      "2/2 [==============================] - 0s 5ms/step - loss: 10.2031 - mae: 10.2031\n",
      "Epoch 432/500\n",
      "2/2 [==============================] - 0s 5ms/step - loss: 13.7945 - mae: 13.7945\n",
      "Epoch 433/500\n",
      "2/2 [==============================] - 0s 6ms/step - loss: 12.0027 - mae: 12.0027\n",
      "Epoch 434/500\n",
      "2/2 [==============================] - 0s 6ms/step - loss: 30.5503 - mae: 30.5503\n",
      "Epoch 435/500\n",
      "2/2 [==============================] - 0s 5ms/step - loss: 11.1544 - mae: 11.1544\n",
      "Epoch 436/500\n",
      "2/2 [==============================] - 0s 5ms/step - loss: 28.6452 - mae: 28.6452\n",
      "Epoch 437/500\n",
      "2/2 [==============================] - 0s 5ms/step - loss: 7.4952 - mae: 7.4952\n",
      "Epoch 438/500\n",
      "2/2 [==============================] - 0s 16ms/step - loss: 12.9163 - mae: 12.9163\n",
      "Epoch 439/500\n",
      "2/2 [==============================] - 0s 11ms/step - loss: 34.1582 - mae: 34.1582\n",
      "Epoch 440/500\n",
      "2/2 [==============================] - 0s 7ms/step - loss: 15.8241 - mae: 15.8241\n",
      "Epoch 441/500\n",
      "2/2 [==============================] - 0s 7ms/step - loss: 18.4676 - mae: 18.4676\n",
      "Epoch 442/500\n",
      "2/2 [==============================] - 0s 7ms/step - loss: 26.7689 - mae: 26.7689\n",
      "Epoch 443/500\n",
      "2/2 [==============================] - 0s 7ms/step - loss: 9.8064 - mae: 9.8064\n",
      "Epoch 444/500\n",
      "2/2 [==============================] - 0s 7ms/step - loss: 8.6826 - mae: 8.6826\n",
      "Epoch 445/500\n",
      "2/2 [==============================] - 0s 7ms/step - loss: 14.0987 - mae: 14.0987\n",
      "Epoch 446/500\n",
      "2/2 [==============================] - 0s 10ms/step - loss: 16.8070 - mae: 16.8070\n",
      "Epoch 447/500\n",
      "2/2 [==============================] - 0s 9ms/step - loss: 6.7357 - mae: 6.7357\n",
      "Epoch 448/500\n",
      "2/2 [==============================] - 0s 8ms/step - loss: 6.7656 - mae: 6.7656\n",
      "Epoch 449/500\n",
      "2/2 [==============================] - 0s 7ms/step - loss: 15.6477 - mae: 15.6477\n",
      "Epoch 450/500\n",
      "2/2 [==============================] - 0s 7ms/step - loss: 16.6076 - mae: 16.6076\n",
      "Epoch 451/500\n",
      "2/2 [==============================] - 0s 9ms/step - loss: 14.2286 - mae: 14.2286\n",
      "Epoch 452/500\n",
      "2/2 [==============================] - 0s 9ms/step - loss: 30.4832 - mae: 30.4832\n",
      "Epoch 453/500\n",
      "2/2 [==============================] - 0s 10ms/step - loss: 5.1704 - mae: 5.1704\n",
      "Epoch 454/500\n",
      "2/2 [==============================] - 0s 8ms/step - loss: 30.0860 - mae: 30.0860\n",
      "Epoch 455/500\n",
      "2/2 [==============================] - 0s 7ms/step - loss: 4.8492 - mae: 4.8492\n",
      "Epoch 456/500\n",
      "2/2 [==============================] - 0s 10ms/step - loss: 13.8895 - mae: 13.8895\n",
      "Epoch 457/500\n",
      "2/2 [==============================] - 0s 14ms/step - loss: 16.9619 - mae: 16.9619\n",
      "Epoch 458/500\n",
      "2/2 [==============================] - 0s 11ms/step - loss: 13.5864 - mae: 13.5864\n",
      "Epoch 459/500\n",
      "2/2 [==============================] - 0s 9ms/step - loss: 25.0489 - mae: 25.0489\n",
      "Epoch 460/500\n",
      "2/2 [==============================] - 0s 11ms/step - loss: 17.3096 - mae: 17.3096\n",
      "Epoch 461/500\n",
      "2/2 [==============================] - 0s 7ms/step - loss: 11.0940 - mae: 11.0940\n",
      "Epoch 462/500\n",
      "2/2 [==============================] - 0s 11ms/step - loss: 12.9502 - mae: 12.9502\n",
      "Epoch 463/500\n",
      "2/2 [==============================] - 0s 8ms/step - loss: 28.8004 - mae: 28.8004\n",
      "Epoch 464/500\n",
      "2/2 [==============================] - 0s 9ms/step - loss: 7.5939 - mae: 7.5939\n",
      "Epoch 465/500\n",
      "2/2 [==============================] - 0s 12ms/step - loss: 15.8297 - mae: 15.8297\n",
      "Epoch 466/500\n",
      "2/2 [==============================] - 0s 7ms/step - loss: 8.7903 - mae: 8.7903\n",
      "Epoch 467/500\n",
      "2/2 [==============================] - 0s 8ms/step - loss: 22.1750 - mae: 22.1750\n",
      "Epoch 468/500\n",
      "2/2 [==============================] - 0s 14ms/step - loss: 22.4788 - mae: 22.4788\n",
      "Epoch 469/500\n",
      "2/2 [==============================] - 0s 11ms/step - loss: 19.8574 - mae: 19.8574\n",
      "Epoch 470/500\n",
      "2/2 [==============================] - 0s 11ms/step - loss: 7.5192 - mae: 7.5192\n",
      "Epoch 471/500\n",
      "2/2 [==============================] - 0s 10ms/step - loss: 27.6659 - mae: 27.6659\n",
      "Epoch 472/500\n",
      "2/2 [==============================] - 0s 8ms/step - loss: 12.1290 - mae: 12.1290\n",
      "Epoch 473/500\n",
      "2/2 [==============================] - 0s 7ms/step - loss: 14.5605 - mae: 14.5605\n",
      "Epoch 474/500\n",
      "2/2 [==============================] - 0s 8ms/step - loss: 18.3094 - mae: 18.3094\n",
      "Epoch 475/500\n",
      "2/2 [==============================] - 0s 9ms/step - loss: 10.5562 - mae: 10.5562\n",
      "Epoch 476/500\n",
      "2/2 [==============================] - 0s 8ms/step - loss: 12.0313 - mae: 12.0313\n",
      "Epoch 477/500\n",
      "2/2 [==============================] - 0s 8ms/step - loss: 28.2247 - mae: 28.2247\n",
      "Epoch 478/500\n",
      "2/2 [==============================] - 0s 8ms/step - loss: 7.2492 - mae: 7.2492\n",
      "Epoch 479/500\n",
      "2/2 [==============================] - 0s 9ms/step - loss: 5.9588 - mae: 5.9588\n",
      "Epoch 480/500\n",
      "2/2 [==============================] - 0s 10ms/step - loss: 19.1515 - mae: 19.1515\n",
      "Epoch 481/500\n",
      "2/2 [==============================] - 0s 6ms/step - loss: 11.0156 - mae: 11.0156\n",
      "Epoch 482/500\n",
      "2/2 [==============================] - 0s 7ms/step - loss: 18.5891 - mae: 18.5891\n",
      "Epoch 483/500\n",
      "2/2 [==============================] - 0s 8ms/step - loss: 25.5999 - mae: 25.5999\n",
      "Epoch 484/500\n",
      "2/2 [==============================] - 0s 7ms/step - loss: 24.2062 - mae: 24.2062\n",
      "Epoch 485/500\n",
      "2/2 [==============================] - 0s 10ms/step - loss: 5.8020 - mae: 5.8020\n",
      "Epoch 486/500\n",
      "2/2 [==============================] - 0s 12ms/step - loss: 20.2467 - mae: 20.2467\n",
      "Epoch 487/500\n",
      "2/2 [==============================] - 0s 17ms/step - loss: 14.0161 - mae: 14.0161\n",
      "Epoch 488/500\n",
      "2/2 [==============================] - 0s 11ms/step - loss: 30.5607 - mae: 30.5607\n",
      "Epoch 489/500\n",
      "2/2 [==============================] - 0s 10ms/step - loss: 11.8580 - mae: 11.8580\n",
      "Epoch 490/500\n",
      "2/2 [==============================] - 0s 8ms/step - loss: 12.5123 - mae: 12.5123\n",
      "Epoch 491/500\n",
      "2/2 [==============================] - 0s 7ms/step - loss: 23.7558 - mae: 23.7558\n",
      "Epoch 492/500\n",
      "2/2 [==============================] - 0s 7ms/step - loss: 20.1898 - mae: 20.1898\n",
      "Epoch 493/500\n",
      "2/2 [==============================] - 0s 7ms/step - loss: 4.9110 - mae: 4.9110\n",
      "Epoch 494/500\n",
      "2/2 [==============================] - 0s 7ms/step - loss: 12.5089 - mae: 12.5089\n",
      "Epoch 495/500\n",
      "2/2 [==============================] - 0s 8ms/step - loss: 13.4935 - mae: 13.4935\n",
      "Epoch 496/500\n",
      "2/2 [==============================] - 0s 7ms/step - loss: 12.7537 - mae: 12.7537\n",
      "Epoch 497/500\n",
      "2/2 [==============================] - 0s 9ms/step - loss: 17.7634 - mae: 17.7634\n",
      "Epoch 498/500\n",
      "2/2 [==============================] - 0s 7ms/step - loss: 23.2344 - mae: 23.2344\n",
      "Epoch 499/500\n",
      "2/2 [==============================] - 0s 8ms/step - loss: 9.0096 - mae: 9.0096\n",
      "Epoch 500/500\n",
      "2/2 [==============================] - 0s 10ms/step - loss: 14.3934 - mae: 14.3934\n"
     ]
    },
    {
     "data": {
      "text/plain": "<keras.callbacks.History at 0x7f36c45c53d0>"
     },
     "execution_count": 64,
     "metadata": {},
     "output_type": "execute_result"
    }
   ],
   "source": [
    "# Set the random seed\n",
    "tf.random.set_seed(42)\n",
    "\n",
    "# 1. Create the model\n",
    "model_3 = tf.keras.Sequential([\n",
    "    tf.keras.layers.Dense(10),\n",
    "    tf.keras.layers.Dense(1)\n",
    "])\n",
    "\n",
    "# 2. Compile the model\n",
    "model_3.compile(loss=tf.keras.losses.mae,\n",
    "                optimizer=tf.keras.optimizers.SGD(),\n",
    "                metrics=[\"mae\"])\n",
    "\n",
    "# 3. Fit the model\n",
    "model_3.fit(tf.expand_dims(X_train, axis=-1), y_train, epochs=500)"
   ],
   "metadata": {
    "colab": {
     "base_uri": "https://localhost:8080/"
    },
    "id": "63aa0519b7419682",
    "executionInfo": {
     "status": "ok",
     "timestamp": 1696076859418,
     "user_tz": -420,
     "elapsed": 12407,
     "user": {
      "displayName": "kang sigit",
      "userId": "15887135570512197739"
     }
    },
    "outputId": "b505caf8-a0f1-424c-d542-7479ae153a19",
    "ExecuteTime": {
     "end_time": "2024-01-08T06:40:32.279406282Z",
     "start_time": "2024-01-08T06:40:18.847183611Z"
    }
   },
   "id": "63aa0519b7419682"
  },
  {
   "cell_type": "code",
   "execution_count": 65,
   "outputs": [
    {
     "name": "stdout",
     "output_type": "stream",
     "text": [
      "1/1 [==============================] - 0s 39ms/step\n"
     ]
    },
    {
     "data": {
      "text/plain": "<Figure size 1000x700 with 1 Axes>",
      "image/png": "[encoded data removed]"
     },
     "metadata": {},
     "output_type": "display_data"
    }
   ],
   "source": [
    "# Make and plot some predictions\n",
    "y_preds_3 = model_3.predict(X_test)\n",
    "plot_predictions(predictions=y_preds_3)"
   ],
   "metadata": {
    "colab": {
     "base_uri": "https://localhost:8080/",
     "height": 617
    },
    "id": "14874d471dd92dec",
    "executionInfo": {
     "status": "ok",
     "timestamp": 1696076861937,
     "user_tz": -420,
     "elapsed": 671,
     "user": {
      "displayName": "kang sigit",
      "userId": "15887135570512197739"
     }
    },
    "outputId": "fe1fd6e7-d487-4987-f7e0-fa91d67da44a",
    "ExecuteTime": {
     "end_time": "2024-01-08T06:40:51.384660491Z",
     "start_time": "2024-01-08T06:40:50.946926321Z"
    }
   },
   "id": "14874d471dd92dec"
  },
  {
   "cell_type": "code",
   "execution_count": 66,
   "outputs": [
    {
     "data": {
      "text/plain": "(<tf.Tensor: shape=(), dtype=float32, numpy=67.9407>,\n <tf.Tensor: shape=(), dtype=float32, numpy=4700.4233>)"
     },
     "execution_count": 66,
     "metadata": {},
     "output_type": "execute_result"
    }
   ],
   "source": [
    "# Calculate model_3 evaluation metrics\n",
    "mae_3 = mae(y_test, y_preds_3)\n",
    "mse_3 = mse(y_test, y_preds_3)\n",
    "mae_3, mse_3"
   ],
   "metadata": {
    "colab": {
     "base_uri": "https://localhost:8080/"
    },
    "id": "a1bdb91d97ceeb7a",
    "executionInfo": {
     "status": "ok",
     "timestamp": 1696076867643,
     "user_tz": -420,
     "elapsed": 922,
     "user": {
      "displayName": "kang sigit",
      "userId": "15887135570512197739"
     }
    },
    "outputId": "0ab21741-9a25-46ca-c673-b847793ba5dd",
    "ExecuteTime": {
     "end_time": "2024-01-08T06:40:54.115630394Z",
     "start_time": "2024-01-08T06:40:54.070199084Z"
    }
   },
   "id": "a1bdb91d97ceeb7a"
  },
  {
   "cell_type": "markdown",
   "source": [
    "🔑 **Note:** You want to start with small experiments (small models) and make sure they work and than increase their scale when necessary."
   ],
   "metadata": {
    "collapsed": false,
    "id": "13cc26732f4ee288"
   },
   "id": "13cc26732f4ee288"
  },
  {
   "cell_type": "markdown",
   "source": [
    "## Comparing the results of our experiments\n",
    "\n",
    "We've run a few experiments, let's compare the results."
   ],
   "metadata": {
    "collapsed": false,
    "id": "f99513fbb95360d4"
   },
   "id": "f99513fbb95360d4"
  },
  {
   "cell_type": "code",
   "execution_count": 67,
   "outputs": [
    {
     "data": {
      "text/plain": "     model        mae          mse\n0  model_1   8.631875    81.021988\n1  model_2  13.342361   188.105316\n2  model_3  67.940697  4700.423340",
      "text/html": "<div>\n<style scoped>\n    .dataframe tbody tr th:only-of-type {\n        vertical-align: middle;\n    }\n\n    .dataframe tbody tr th {\n        vertical-align: top;\n    }\n\n    .dataframe thead th {\n        text-align: right;\n    }\n</style>\n<table border=\"1\" class=\"dataframe\">\n  <thead>\n    <tr style=\"text-align: right;\">\n      <th></th>\n      <th>model</th>\n      <th>mae</th>\n      <th>mse</th>\n    </tr>\n  </thead>\n  <tbody>\n    <tr>\n      <th>0</th>\n      <td>model_1</td>\n      <td>8.631875</td>\n      <td>81.021988</td>\n    </tr>\n    <tr>\n      <th>1</th>\n      <td>model_2</td>\n      <td>13.342361</td>\n      <td>188.105316</td>\n    </tr>\n    <tr>\n      <th>2</th>\n      <td>model_3</td>\n      <td>67.940697</td>\n      <td>4700.423340</td>\n    </tr>\n  </tbody>\n</table>\n</div>"
     },
     "execution_count": 67,
     "metadata": {},
     "output_type": "execute_result"
    }
   ],
   "source": [
    "# Let's compare our model's results using a pandas DataFrame\n",
    "import pandas as pd\n",
    "\n",
    "model_results = [[\"model_1\", mae_1.numpy(), mse_1.numpy()],\n",
    "                 [\"model_2\", mae_2.numpy(), mse_2.numpy()],\n",
    "                 [\"model_3\", mae_3.numpy(), mse_3.numpy()]]\n",
    "\n",
    "all_results = pd.DataFrame(model_results, columns=[\"model\", \"mae\", \"mse\"])\n",
    "all_results"
   ],
   "metadata": {
    "colab": {
     "base_uri": "https://localhost:8080/",
     "height": 143
    },
    "id": "307fb19b0e82e4c6",
    "executionInfo": {
     "status": "ok",
     "timestamp": 1696076870784,
     "user_tz": -420,
     "elapsed": 14,
     "user": {
      "displayName": "kang sigit",
      "userId": "15887135570512197739"
     }
    },
    "outputId": "e0578fbd-8dd6-4813-e17d-b81d15efcd8d",
    "ExecuteTime": {
     "end_time": "2024-01-08T06:40:56.857816727Z",
     "start_time": "2024-01-08T06:40:56.805388787Z"
    }
   },
   "id": "307fb19b0e82e4c6"
  },
  {
   "cell_type": "code",
   "execution_count": 68,
   "outputs": [],
   "source": [
    "### Look like `model_2` performed best (maybe)"
   ],
   "metadata": {
    "id": "5b36e1e7958a0c73",
    "executionInfo": {
     "status": "ok",
     "timestamp": 1696076877317,
     "user_tz": -420,
     "elapsed": 560,
     "user": {
      "displayName": "kang sigit",
      "userId": "15887135570512197739"
     }
    },
    "ExecuteTime": {
     "end_time": "2024-01-08T06:40:58.660754511Z",
     "start_time": "2024-01-08T06:40:58.605959193Z"
    }
   },
   "id": "5b36e1e7958a0c73"
  },
  {
   "cell_type": "code",
   "execution_count": 69,
   "outputs": [
    {
     "name": "stdout",
     "output_type": "stream",
     "text": [
      "Model: \"sequential_5\"\n",
      "_________________________________________________________________\n",
      " Layer (type)                Output Shape              Param #   \n",
      "=================================================================\n",
      " dense_6 (Dense)             (None, 10)                20        \n",
      "                                                                 \n",
      " dense_7 (Dense)             (None, 1)                 11        \n",
      "                                                                 \n",
      "=================================================================\n",
      "Total params: 31\n",
      "Trainable params: 31\n",
      "Non-trainable params: 0\n",
      "_________________________________________________________________\n"
     ]
    }
   ],
   "source": [
    "model_2.summary()"
   ],
   "metadata": {
    "colab": {
     "base_uri": "https://localhost:8080/"
    },
    "id": "217c2eae7aa9fffc",
    "executionInfo": {
     "status": "ok",
     "timestamp": 1696076880554,
     "user_tz": -420,
     "elapsed": 824,
     "user": {
      "displayName": "kang sigit",
      "userId": "15887135570512197739"
     }
    },
    "outputId": "ce1b5ae7-6598-4afc-8dda-63d17f521d3a",
    "ExecuteTime": {
     "end_time": "2024-01-08T06:40:59.135620911Z",
     "start_time": "2024-01-08T06:40:59.063760247Z"
    }
   },
   "id": "217c2eae7aa9fffc"
  },
  {
   "cell_type": "markdown",
   "source": [
    ":key **Note:** One of your main goals should be to minimize the time between your experiments. The more experiments you do, the more things you'll figure out which don't work and in turn, get closer to figuring out what does work.Remember the machine learning practioner's motto: \"experiment, experiment, experiment\"."
   ],
   "metadata": {
    "collapsed": false,
    "id": "4a1705a03c1bbb72"
   },
   "id": "4a1705a03c1bbb72"
  },
  {
   "cell_type": "markdown",
   "source": [
    "## Tracking your experiments\n",
    "\n",
    "One really good habit in machine learning modelling is to track the results of your experiments.\n",
    "\n",
    "And when doing so, it can be tedious if you're running lots of experiments.\n",
    "\n",
    "Luckily, there are tools to help us!\n",
    "\n",
    "📖 **Resource:** As you build more models, you'll want to look into using:\n",
    "\n",
    "* TensorBoard - a component of the TensorFlow library to help track modelling experiments (we'll see this one later).\n",
    "* Weights & Biases - a tool for tracking all of kinds of machine learning experiments (plugs straight into TensorBoard)."
   ],
   "metadata": {
    "collapsed": false,
    "id": "17f54b7f126aa329"
   },
   "id": "17f54b7f126aa329"
  },
  {
   "cell_type": "markdown",
   "source": [
    "## Saving our models\n",
    "\n",
    "Saving your models allows us to use them outside of Google Colab (or wherever they were trained) such as in a web application or a mobile app.\n",
    "\n",
    "There are two main formats we can save or model's too:\n",
    "1. The SaveModel Format\n",
    "2. The HDF5 format"
   ],
   "metadata": {
    "collapsed": false,
    "id": "3b39adadf7ace07"
   },
   "id": "3b39adadf7ace07"
  },
  {
   "cell_type": "code",
   "execution_count": 70,
   "outputs": [
    {
     "name": "stderr",
     "output_type": "stream",
     "text": [
      "WARNING:absl:Found untraced functions such as _update_step_xla while saving (showing 1 of 1). These functions will not be directly callable after loading.\n"
     ]
    },
    {
     "name": "stdout",
     "output_type": "stream",
     "text": [
      "INFO:tensorflow:Assets written to: best_model_SavedModel_format/assets\n"
     ]
    },
    {
     "name": "stderr",
     "output_type": "stream",
     "text": [
      "INFO:tensorflow:Assets written to: best_model_SavedModel_format/assets\n"
     ]
    }
   ],
   "source": [
    "# Save model using the SaveModel format\n",
    "model_2.save(\"best_model_SavedModel_format\")"
   ],
   "metadata": {
    "id": "f756e5f68dbdd72",
    "executionInfo": {
     "status": "aborted",
     "timestamp": 1696076709017,
     "user_tz": -420,
     "elapsed": 12,
     "user": {
      "displayName": "kang sigit",
      "userId": "15887135570512197739"
     }
    },
    "ExecuteTime": {
     "end_time": "2024-01-08T06:41:10.921878716Z",
     "start_time": "2024-01-08T06:41:10.484484725Z"
    }
   },
   "id": "f756e5f68dbdd72"
  },
  {
   "cell_type": "code",
   "execution_count": 71,
   "outputs": [],
   "source": [
    "# Save model using the HDF5 format\n",
    "model_2.save(\"best_model_HDF5_format.h5\")"
   ],
   "metadata": {
    "collapsed": false,
    "ExecuteTime": {
     "end_time": "2024-01-08T06:41:13.258697356Z",
     "start_time": "2024-01-08T06:41:13.211191532Z"
    }
   },
   "id": "3d3318e412be8e5e"
  },
  {
   "cell_type": "markdown",
   "source": [
    "## Loading in saved model"
   ],
   "metadata": {
    "collapsed": false
   },
   "id": "61263de06c24ec02"
  },
  {
   "cell_type": "code",
   "execution_count": 72,
   "outputs": [
    {
     "name": "stdout",
     "output_type": "stream",
     "text": [
      "Model: \"sequential_5\"\n",
      "_________________________________________________________________\n",
      " Layer (type)                Output Shape              Param #   \n",
      "=================================================================\n",
      " dense_6 (Dense)             (None, 10)                20        \n",
      "                                                                 \n",
      " dense_7 (Dense)             (None, 1)                 11        \n",
      "                                                                 \n",
      "=================================================================\n",
      "Total params: 31\n",
      "Trainable params: 31\n",
      "Non-trainable params: 0\n",
      "_________________________________________________________________\n"
     ]
    }
   ],
   "source": [
    "loaded_SavedModel_format = tf.keras.models.load_model(\"best_model_SavedModel_format\")\n",
    "loaded_SavedModel_format.summary()"
   ],
   "metadata": {
    "collapsed": false,
    "ExecuteTime": {
     "end_time": "2024-01-08T06:41:44.879716143Z",
     "start_time": "2024-01-08T06:41:44.663986887Z"
    }
   },
   "id": "972570d455c0ea7b"
  },
  {
   "cell_type": "code",
   "execution_count": 73,
   "outputs": [
    {
     "name": "stdout",
     "output_type": "stream",
     "text": [
      "1/1 [==============================] - 0s 26ms/step\n",
      "1/1 [==============================] - 0s 63ms/step\n"
     ]
    },
    {
     "data": {
      "text/plain": "array([[ True],\n       [ True],\n       [ True],\n       [ True],\n       [ True],\n       [ True],\n       [ True],\n       [ True],\n       [ True],\n       [ True]])"
     },
     "execution_count": 73,
     "metadata": {},
     "output_type": "execute_result"
    }
   ],
   "source": [
    "# Compare model_2 predictions with SavedModel format model predictions\n",
    "model_2_preds = model_2.predict(X_test)\n",
    "loaded_SavedModel_format_preds = loaded_SavedModel_format.predict(X_test);\n",
    "model_2_preds == loaded_SavedModel_format_preds"
   ],
   "metadata": {
    "collapsed": false,
    "ExecuteTime": {
     "end_time": "2024-01-08T06:41:45.959873285Z",
     "start_time": "2024-01-08T06:41:45.738389113Z"
    }
   },
   "id": "d9bf6d501126be3a"
  },
  {
   "cell_type": "code",
   "execution_count": 74,
   "outputs": [
    {
     "data": {
      "text/plain": "<tf.Tensor: shape=(), dtype=bool, numpy=True>"
     },
     "execution_count": 74,
     "metadata": {},
     "output_type": "execute_result"
    }
   ],
   "source": [
    "# Compare the MAE of model_2 preds and loaded_SavedModel_preds\n",
    "mae(y_true=y_test, y_pred=model_2_preds) == mae(y_true=y_test, y_pred=loaded_SavedModel_format_preds)"
   ],
   "metadata": {
    "collapsed": false,
    "ExecuteTime": {
     "end_time": "2024-01-08T06:41:49.145008472Z",
     "start_time": "2024-01-08T06:41:49.108339995Z"
    }
   },
   "id": "2a2862a719eb26ad"
  },
  {
   "cell_type": "code",
   "execution_count": 75,
   "outputs": [
    {
     "name": "stdout",
     "output_type": "stream",
     "text": [
      "Model: \"sequential_5\"\n",
      "_________________________________________________________________\n",
      " Layer (type)                Output Shape              Param #   \n",
      "=================================================================\n",
      " dense_6 (Dense)             (None, 10)                20        \n",
      "                                                                 \n",
      " dense_7 (Dense)             (None, 1)                 11        \n",
      "                                                                 \n",
      "=================================================================\n",
      "Total params: 31\n",
      "Trainable params: 31\n",
      "Non-trainable params: 0\n",
      "_________________________________________________________________\n"
     ]
    }
   ],
   "source": [
    "# Load in model using the .h5 format\n",
    "loaded_h5_model = tf.keras.models.load_model(\"best_model_HDF5_format.h5\")\n",
    "loaded_h5_model.summary()"
   ],
   "metadata": {
    "collapsed": false,
    "ExecuteTime": {
     "end_time": "2024-01-08T06:41:49.988110461Z",
     "start_time": "2024-01-08T06:41:49.869960971Z"
    }
   },
   "id": "abf2e5db4f1e317d"
  },
  {
   "cell_type": "code",
   "execution_count": 76,
   "outputs": [
    {
     "name": "stdout",
     "output_type": "stream",
     "text": [
      "1/1 [==============================] - 0s 19ms/step\n",
      "1/1 [==============================] - 0s 63ms/step\n"
     ]
    },
    {
     "data": {
      "text/plain": "array([[ True],\n       [ True],\n       [ True],\n       [ True],\n       [ True],\n       [ True],\n       [ True],\n       [ True],\n       [ True],\n       [ True]])"
     },
     "execution_count": 76,
     "metadata": {},
     "output_type": "execute_result"
    }
   ],
   "source": [
    "# Check to see if loaded .h5 model predictions match model_2\n",
    "model_2_preds = model_2.predict(X_test)\n",
    "loaded_h5_model_preds = loaded_h5_model.predict(X_test)\n",
    "model_2_preds == loaded_h5_model_preds"
   ],
   "metadata": {
    "collapsed": false,
    "ExecuteTime": {
     "end_time": "2024-01-08T06:41:51.043075750Z",
     "start_time": "2024-01-08T06:41:50.781724270Z"
    }
   },
   "id": "8dfd4812a43168e0"
  },
  {
   "cell_type": "markdown",
   "source": [
    "## A larger Example"
   ],
   "metadata": {
    "collapsed": false
   },
   "id": "d4f8c8045cd632c9"
  },
  {
   "cell_type": "code",
   "execution_count": 77,
   "outputs": [
    {
     "data": {
      "text/plain": "(<tf.Tensor: shape=(40,), dtype=int32, numpy=\n array([-100,  -96,  -92,  -88,  -84,  -80,  -76,  -72,  -68,  -64,  -60,\n         -56,  -52,  -48,  -44,  -40,  -36,  -32,  -28,  -24,  -20,  -16,\n         -12,   -8,   -4,    0,    4,    8,   12,   16,   20,   24,   28,\n          32,   36,   40,   44,   48,   52,   56], dtype=int32)>,\n <tf.Tensor: shape=(40,), dtype=int32, numpy=\n array([-90, -86, -82, -78, -74, -70, -66, -62, -58, -54, -50, -46, -42,\n        -38, -34, -30, -26, -22, -18, -14, -10,  -6,  -2,   2,   6,  10,\n         14,  18,  22,  26,  30,  34,  38,  42,  46,  50,  54,  58,  62,\n         66], dtype=int32)>)"
     },
     "execution_count": 77,
     "metadata": {},
     "output_type": "execute_result"
    }
   ],
   "source": [
    "X_train, y_train"
   ],
   "metadata": {
    "collapsed": false,
    "ExecuteTime": {
     "end_time": "2024-01-08T06:41:53.309576829Z",
     "start_time": "2024-01-08T06:41:53.255824842Z"
    }
   },
   "id": "609978110d94b6ae"
  },
  {
   "cell_type": "code",
   "execution_count": 78,
   "outputs": [],
   "source": [
    "# Import required libraries\n",
    "import tensorflow as tf\n",
    "import pandas as pd\n",
    "import matplotlib.pyplot as plt"
   ],
   "metadata": {
    "collapsed": false,
    "ExecuteTime": {
     "end_time": "2024-01-08T06:41:54.302480591Z",
     "start_time": "2024-01-08T06:41:54.247485139Z"
    }
   },
   "id": "5f6b5badf10907a9"
  },
  {
   "cell_type": "code",
   "execution_count": 79,
   "outputs": [
    {
     "data": {
      "text/plain": "      age     sex     bmi  children smoker     region      charges\n0      19  female  27.900         0    yes  southwest  16884.92400\n1      18    male  33.770         1     no  southeast   1725.55230\n2      28    male  33.000         3     no  southeast   4449.46200\n3      33    male  22.705         0     no  northwest  21984.47061\n4      32    male  28.880         0     no  northwest   3866.85520\n...   ...     ...     ...       ...    ...        ...          ...\n1333   50    male  30.970         3     no  northwest  10600.54830\n1334   18  female  31.920         0     no  northeast   2205.98080\n1335   18  female  36.850         0     no  southeast   1629.83350\n1336   21  female  25.800         0     no  southwest   2007.94500\n1337   61  female  29.070         0    yes  northwest  29141.36030\n\n[1338 rows x 7 columns]",
      "text/html": "<div>\n<style scoped>\n    .dataframe tbody tr th:only-of-type {\n        vertical-align: middle;\n    }\n\n    .dataframe tbody tr th {\n        vertical-align: top;\n    }\n\n    .dataframe thead th {\n        text-align: right;\n    }\n</style>\n<table border=\"1\" class=\"dataframe\">\n  <thead>\n    <tr style=\"text-align: right;\">\n      <th></th>\n      <th>age</th>\n      <th>sex</th>\n      <th>bmi</th>\n      <th>children</th>\n      <th>smoker</th>\n      <th>region</th>\n      <th>charges</th>\n    </tr>\n  </thead>\n  <tbody>\n    <tr>\n      <th>0</th>\n      <td>19</td>\n      <td>female</td>\n      <td>27.900</td>\n      <td>0</td>\n      <td>yes</td>\n      <td>southwest</td>\n      <td>16884.92400</td>\n    </tr>\n    <tr>\n      <th>1</th>\n      <td>18</td>\n      <td>male</td>\n      <td>33.770</td>\n      <td>1</td>\n      <td>no</td>\n      <td>southeast</td>\n      <td>1725.55230</td>\n    </tr>\n    <tr>\n      <th>2</th>\n      <td>28</td>\n      <td>male</td>\n      <td>33.000</td>\n      <td>3</td>\n      <td>no</td>\n      <td>southeast</td>\n      <td>4449.46200</td>\n    </tr>\n    <tr>\n      <th>3</th>\n      <td>33</td>\n      <td>male</td>\n      <td>22.705</td>\n      <td>0</td>\n      <td>no</td>\n      <td>northwest</td>\n      <td>21984.47061</td>\n    </tr>\n    <tr>\n      <th>4</th>\n      <td>32</td>\n      <td>male</td>\n      <td>28.880</td>\n      <td>0</td>\n      <td>no</td>\n      <td>northwest</td>\n      <td>3866.85520</td>\n    </tr>\n    <tr>\n      <th>...</th>\n      <td>...</td>\n      <td>...</td>\n      <td>...</td>\n      <td>...</td>\n      <td>...</td>\n      <td>...</td>\n      <td>...</td>\n    </tr>\n    <tr>\n      <th>1333</th>\n      <td>50</td>\n      <td>male</td>\n      <td>30.970</td>\n      <td>3</td>\n      <td>no</td>\n      <td>northwest</td>\n      <td>10600.54830</td>\n    </tr>\n    <tr>\n      <th>1334</th>\n      <td>18</td>\n      <td>female</td>\n      <td>31.920</td>\n      <td>0</td>\n      <td>no</td>\n      <td>northeast</td>\n      <td>2205.98080</td>\n    </tr>\n    <tr>\n      <th>1335</th>\n      <td>18</td>\n      <td>female</td>\n      <td>36.850</td>\n      <td>0</td>\n      <td>no</td>\n      <td>southeast</td>\n      <td>1629.83350</td>\n    </tr>\n    <tr>\n      <th>1336</th>\n      <td>21</td>\n      <td>female</td>\n      <td>25.800</td>\n      <td>0</td>\n      <td>no</td>\n      <td>southwest</td>\n      <td>2007.94500</td>\n    </tr>\n    <tr>\n      <th>1337</th>\n      <td>61</td>\n      <td>female</td>\n      <td>29.070</td>\n      <td>0</td>\n      <td>yes</td>\n      <td>northwest</td>\n      <td>29141.36030</td>\n    </tr>\n  </tbody>\n</table>\n<p>1338 rows × 7 columns</p>\n</div>"
     },
     "execution_count": 79,
     "metadata": {},
     "output_type": "execute_result"
    }
   ],
   "source": [
    "# Read in the insurance dataset\n",
    "insurance = pd.read_csv('Dataset/insurance.csv')\n",
    "insurance"
   ],
   "metadata": {
    "collapsed": false,
    "ExecuteTime": {
     "end_time": "2024-01-08T06:41:56.579969054Z",
     "start_time": "2024-01-08T06:41:56.517281630Z"
    }
   },
   "id": "40cfa82b64bd5417"
  },
  {
   "cell_type": "code",
   "execution_count": 80,
   "outputs": [
    {
     "data": {
      "text/plain": "0       female\n1         male\n2         male\n3         male\n4         male\n         ...  \n1333      male\n1334    female\n1335    female\n1336    female\n1337    female\nName: sex, Length: 1338, dtype: object"
     },
     "execution_count": 80,
     "metadata": {},
     "output_type": "execute_result"
    }
   ],
   "source": [
    "insurance[\"sex\"]"
   ],
   "metadata": {
    "collapsed": false,
    "ExecuteTime": {
     "end_time": "2024-01-08T06:41:58.137231940Z",
     "start_time": "2024-01-08T06:41:58.079961113Z"
    }
   },
   "id": "2968facf3ae0337d"
  },
  {
   "cell_type": "code",
   "execution_count": 81,
   "outputs": [
    {
     "data": {
      "text/plain": "   age     bmi  children      charges  sex_female  sex_male  smoker_no  \\\n0   19  27.900         0  16884.92400           1         0          0   \n1   18  33.770         1   1725.55230           0         1          1   \n2   28  33.000         3   4449.46200           0         1          1   \n3   33  22.705         0  21984.47061           0         1          1   \n4   32  28.880         0   3866.85520           0         1          1   \n\n   smoker_yes  region_northeast  region_northwest  region_southeast  \\\n0           1                 0                 0                 0   \n1           0                 0                 0                 1   \n2           0                 0                 0                 1   \n3           0                 0                 1                 0   \n4           0                 0                 1                 0   \n\n   region_southwest  \n0                 1  \n1                 0  \n2                 0  \n3                 0  \n4                 0  ",
      "text/html": "<div>\n<style scoped>\n    .dataframe tbody tr th:only-of-type {\n        vertical-align: middle;\n    }\n\n    .dataframe tbody tr th {\n        vertical-align: top;\n    }\n\n    .dataframe thead th {\n        text-align: right;\n    }\n</style>\n<table border=\"1\" class=\"dataframe\">\n  <thead>\n    <tr style=\"text-align: right;\">\n      <th></th>\n      <th>age</th>\n      <th>bmi</th>\n      <th>children</th>\n      <th>charges</th>\n      <th>sex_female</th>\n      <th>sex_male</th>\n      <th>smoker_no</th>\n      <th>smoker_yes</th>\n      <th>region_northeast</th>\n      <th>region_northwest</th>\n      <th>region_southeast</th>\n      <th>region_southwest</th>\n    </tr>\n  </thead>\n  <tbody>\n    <tr>\n      <th>0</th>\n      <td>19</td>\n      <td>27.900</td>\n      <td>0</td>\n      <td>16884.92400</td>\n      <td>1</td>\n      <td>0</td>\n      <td>0</td>\n      <td>1</td>\n      <td>0</td>\n      <td>0</td>\n      <td>0</td>\n      <td>1</td>\n    </tr>\n    <tr>\n      <th>1</th>\n      <td>18</td>\n      <td>33.770</td>\n      <td>1</td>\n      <td>1725.55230</td>\n      <td>0</td>\n      <td>1</td>\n      <td>1</td>\n      <td>0</td>\n      <td>0</td>\n      <td>0</td>\n      <td>1</td>\n      <td>0</td>\n    </tr>\n    <tr>\n      <th>2</th>\n      <td>28</td>\n      <td>33.000</td>\n      <td>3</td>\n      <td>4449.46200</td>\n      <td>0</td>\n      <td>1</td>\n      <td>1</td>\n      <td>0</td>\n      <td>0</td>\n      <td>0</td>\n      <td>1</td>\n      <td>0</td>\n    </tr>\n    <tr>\n      <th>3</th>\n      <td>33</td>\n      <td>22.705</td>\n      <td>0</td>\n      <td>21984.47061</td>\n      <td>0</td>\n      <td>1</td>\n      <td>1</td>\n      <td>0</td>\n      <td>0</td>\n      <td>1</td>\n      <td>0</td>\n      <td>0</td>\n    </tr>\n    <tr>\n      <th>4</th>\n      <td>32</td>\n      <td>28.880</td>\n      <td>0</td>\n      <td>3866.85520</td>\n      <td>0</td>\n      <td>1</td>\n      <td>1</td>\n      <td>0</td>\n      <td>0</td>\n      <td>1</td>\n      <td>0</td>\n      <td>0</td>\n    </tr>\n  </tbody>\n</table>\n</div>"
     },
     "execution_count": 81,
     "metadata": {},
     "output_type": "execute_result"
    }
   ],
   "source": [
    "# Let's try one-hot encode our DataFrame so it's all numbers\n",
    "insurance_one_hot = pd.get_dummies(insurance, dtype=int)\n",
    "insurance_one_hot.head()"
   ],
   "metadata": {
    "collapsed": false,
    "ExecuteTime": {
     "end_time": "2024-01-08T06:41:59.271482733Z",
     "start_time": "2024-01-08T06:41:59.226435861Z"
    }
   },
   "id": "1cd3a133a4b6f4e1"
  },
  {
   "cell_type": "code",
   "execution_count": 82,
   "outputs": [],
   "source": [
    "# Create X & y values (features and labels)\n",
    "X = insurance_one_hot.drop(\"charges\", axis=1)\n",
    "y = insurance_one_hot[\"charges\"]"
   ],
   "metadata": {
    "collapsed": false,
    "ExecuteTime": {
     "end_time": "2024-01-08T06:42:00.540833874Z",
     "start_time": "2024-01-08T06:42:00.486620102Z"
    }
   },
   "id": "ec14db08cf1f038e"
  },
  {
   "cell_type": "code",
   "outputs": [
    {
     "data": {
      "text/plain": "   age     bmi  children  sex_female  sex_male  smoker_no  smoker_yes  \\\n0   19  27.900         0           1         0          0           1   \n1   18  33.770         1           0         1          1           0   \n2   28  33.000         3           0         1          1           0   \n3   33  22.705         0           0         1          1           0   \n4   32  28.880         0           0         1          1           0   \n\n   region_northeast  region_northwest  region_southeast  region_southwest  \n0                 0                 0                 0                 1  \n1                 0                 0                 1                 0  \n2                 0                 0                 1                 0  \n3                 0                 1                 0                 0  \n4                 0                 1                 0                 0  ",
      "text/html": "<div>\n<style scoped>\n    .dataframe tbody tr th:only-of-type {\n        vertical-align: middle;\n    }\n\n    .dataframe tbody tr th {\n        vertical-align: top;\n    }\n\n    .dataframe thead th {\n        text-align: right;\n    }\n</style>\n<table border=\"1\" class=\"dataframe\">\n  <thead>\n    <tr style=\"text-align: right;\">\n      <th></th>\n      <th>age</th>\n      <th>bmi</th>\n      <th>children</th>\n      <th>sex_female</th>\n      <th>sex_male</th>\n      <th>smoker_no</th>\n      <th>smoker_yes</th>\n      <th>region_northeast</th>\n      <th>region_northwest</th>\n      <th>region_southeast</th>\n      <th>region_southwest</th>\n    </tr>\n  </thead>\n  <tbody>\n    <tr>\n      <th>0</th>\n      <td>19</td>\n      <td>27.900</td>\n      <td>0</td>\n      <td>1</td>\n      <td>0</td>\n      <td>0</td>\n      <td>1</td>\n      <td>0</td>\n      <td>0</td>\n      <td>0</td>\n      <td>1</td>\n    </tr>\n    <tr>\n      <th>1</th>\n      <td>18</td>\n      <td>33.770</td>\n      <td>1</td>\n      <td>0</td>\n      <td>1</td>\n      <td>1</td>\n      <td>0</td>\n      <td>0</td>\n      <td>0</td>\n      <td>1</td>\n      <td>0</td>\n    </tr>\n    <tr>\n      <th>2</th>\n      <td>28</td>\n      <td>33.000</td>\n      <td>3</td>\n      <td>0</td>\n      <td>1</td>\n      <td>1</td>\n      <td>0</td>\n      <td>0</td>\n      <td>0</td>\n      <td>1</td>\n      <td>0</td>\n    </tr>\n    <tr>\n      <th>3</th>\n      <td>33</td>\n      <td>22.705</td>\n      <td>0</td>\n      <td>0</td>\n      <td>1</td>\n      <td>1</td>\n      <td>0</td>\n      <td>0</td>\n      <td>1</td>\n      <td>0</td>\n      <td>0</td>\n    </tr>\n    <tr>\n      <th>4</th>\n      <td>32</td>\n      <td>28.880</td>\n      <td>0</td>\n      <td>0</td>\n      <td>1</td>\n      <td>1</td>\n      <td>0</td>\n      <td>0</td>\n      <td>1</td>\n      <td>0</td>\n      <td>0</td>\n    </tr>\n  </tbody>\n</table>\n</div>"
     },
     "execution_count": 83,
     "metadata": {},
     "output_type": "execute_result"
    }
   ],
   "source": [
    "# View X\n",
    "X.head()"
   ],
   "metadata": {
    "collapsed": false,
    "ExecuteTime": {
     "end_time": "2024-01-08T06:42:03.574172805Z",
     "start_time": "2024-01-08T06:42:03.511644921Z"
    }
   },
   "id": "fbb06cf5039450f0",
   "execution_count": 83
  },
  {
   "cell_type": "code",
   "outputs": [
    {
     "data": {
      "text/plain": "0    16884.92400\n1     1725.55230\n2     4449.46200\n3    21984.47061\n4     3866.85520\nName: charges, dtype: float64"
     },
     "execution_count": 84,
     "metadata": {},
     "output_type": "execute_result"
    }
   ],
   "source": [
    "# View y\n",
    "y.head()"
   ],
   "metadata": {
    "collapsed": false,
    "ExecuteTime": {
     "end_time": "2024-01-08T06:42:04.168404153Z",
     "start_time": "2024-01-08T06:42:04.125843866Z"
    }
   },
   "id": "b131199c8b14bedc",
   "execution_count": 84
  },
  {
   "cell_type": "code",
   "outputs": [
    {
     "data": {
      "text/plain": "(1338, 1070, 268)"
     },
     "execution_count": 85,
     "metadata": {},
     "output_type": "execute_result"
    }
   ],
   "source": [
    "# Create training and test sets\n",
    "from sklearn.model_selection import train_test_split\n",
    "X_train, X_test, y_train, y_test = train_test_split(X, y, test_size=0.2, random_state=42)\n",
    "len(X), len(X_train), len(X_test)"
   ],
   "metadata": {
    "collapsed": false,
    "ExecuteTime": {
     "end_time": "2024-01-08T06:43:04.164511530Z",
     "start_time": "2024-01-08T06:43:03.924552685Z"
    }
   },
   "id": "b4b33cdd264babda",
   "execution_count": 85
  },
  {
   "cell_type": "code",
   "outputs": [
    {
     "name": "stdout",
     "output_type": "stream",
     "text": [
      "Epoch 1/100\n",
      "34/34 [==============================] - 0s 4ms/step - loss: 8567.6807 - mae: 8567.6807\n",
      "Epoch 2/100\n",
      "34/34 [==============================] - 0s 4ms/step - loss: 7868.2476 - mae: 7868.2476\n",
      "Epoch 3/100\n",
      "34/34 [==============================] - 0s 4ms/step - loss: 7606.7949 - mae: 7606.7949\n",
      "Epoch 4/100\n",
      "34/34 [==============================] - 0s 4ms/step - loss: 7680.1255 - mae: 7680.1255\n",
      "Epoch 5/100\n",
      "34/34 [==============================] - 0s 4ms/step - loss: 7675.1567 - mae: 7675.1567\n",
      "Epoch 6/100\n",
      "34/34 [==============================] - 0s 4ms/step - loss: 7609.5098 - mae: 7609.5098\n",
      "Epoch 7/100\n",
      "34/34 [==============================] - 0s 4ms/step - loss: 7579.5044 - mae: 7579.5044\n",
      "Epoch 8/100\n",
      "34/34 [==============================] - 0s 5ms/step - loss: 7726.2207 - mae: 7726.2207\n",
      "Epoch 9/100\n",
      "34/34 [==============================] - 0s 5ms/step - loss: 7611.7983 - mae: 7611.7983\n",
      "Epoch 10/100\n",
      "34/34 [==============================] - 0s 4ms/step - loss: 7716.6465 - mae: 7716.6465\n",
      "Epoch 11/100\n",
      "34/34 [==============================] - 0s 5ms/step - loss: 7561.5229 - mae: 7561.5229\n",
      "Epoch 12/100\n",
      "34/34 [==============================] - 0s 5ms/step - loss: 7636.3818 - mae: 7636.3818\n",
      "Epoch 13/100\n",
      "34/34 [==============================] - 0s 4ms/step - loss: 7668.5864 - mae: 7668.5864\n",
      "Epoch 14/100\n",
      "34/34 [==============================] - 0s 5ms/step - loss: 7663.8857 - mae: 7663.8857\n",
      "Epoch 15/100\n",
      "34/34 [==============================] - 0s 4ms/step - loss: 7571.2759 - mae: 7571.2759\n",
      "Epoch 16/100\n",
      "34/34 [==============================] - 0s 5ms/step - loss: 7690.7710 - mae: 7690.7710\n",
      "Epoch 17/100\n",
      "34/34 [==============================] - 0s 5ms/step - loss: 7566.7329 - mae: 7566.7329\n",
      "Epoch 18/100\n",
      "34/34 [==============================] - 0s 5ms/step - loss: 7829.9727 - mae: 7829.9727\n",
      "Epoch 19/100\n",
      "34/34 [==============================] - 0s 5ms/step - loss: 7638.3901 - mae: 7638.3901\n",
      "Epoch 20/100\n",
      "34/34 [==============================] - 0s 5ms/step - loss: 7871.8223 - mae: 7871.8223\n",
      "Epoch 21/100\n",
      "34/34 [==============================] - 0s 4ms/step - loss: 7531.4414 - mae: 7531.4414\n",
      "Epoch 22/100\n",
      "34/34 [==============================] - 0s 4ms/step - loss: 7739.4375 - mae: 7739.4375\n",
      "Epoch 23/100\n",
      "34/34 [==============================] - 0s 3ms/step - loss: 7643.4199 - mae: 7643.4199\n",
      "Epoch 24/100\n",
      "34/34 [==============================] - 0s 3ms/step - loss: 7566.7305 - mae: 7566.7305\n",
      "Epoch 25/100\n",
      "34/34 [==============================] - 0s 4ms/step - loss: 7704.5796 - mae: 7704.5796\n",
      "Epoch 26/100\n",
      "34/34 [==============================] - 0s 5ms/step - loss: 7632.5127 - mae: 7632.5127\n",
      "Epoch 27/100\n",
      "34/34 [==============================] - 0s 4ms/step - loss: 7582.2485 - mae: 7582.2485\n",
      "Epoch 28/100\n",
      "34/34 [==============================] - 0s 2ms/step - loss: 7559.1392 - mae: 7559.1392\n",
      "Epoch 29/100\n",
      "34/34 [==============================] - 0s 2ms/step - loss: 7651.4023 - mae: 7651.4023\n",
      "Epoch 30/100\n",
      "34/34 [==============================] - 0s 2ms/step - loss: 7574.8027 - mae: 7574.8027\n",
      "Epoch 31/100\n",
      "34/34 [==============================] - 0s 3ms/step - loss: 7418.9043 - mae: 7418.9043\n",
      "Epoch 32/100\n",
      "34/34 [==============================] - 0s 3ms/step - loss: 7587.0103 - mae: 7587.0103\n",
      "Epoch 33/100\n",
      "34/34 [==============================] - 0s 2ms/step - loss: 7457.1221 - mae: 7457.1221\n",
      "Epoch 34/100\n",
      "34/34 [==============================] - 0s 2ms/step - loss: 7377.6602 - mae: 7377.6602\n",
      "Epoch 35/100\n",
      "34/34 [==============================] - 0s 2ms/step - loss: 7487.2227 - mae: 7487.2227\n",
      "Epoch 36/100\n",
      "34/34 [==============================] - 0s 2ms/step - loss: 7569.0239 - mae: 7569.0239\n",
      "Epoch 37/100\n",
      "34/34 [==============================] - 0s 2ms/step - loss: 7633.5806 - mae: 7633.5806\n",
      "Epoch 38/100\n",
      "34/34 [==============================] - 0s 2ms/step - loss: 7333.7388 - mae: 7333.7388\n",
      "Epoch 39/100\n",
      "34/34 [==============================] - 0s 2ms/step - loss: 7555.5825 - mae: 7555.5825\n",
      "Epoch 40/100\n",
      "34/34 [==============================] - 0s 2ms/step - loss: 7452.5776 - mae: 7452.5776\n",
      "Epoch 41/100\n",
      "34/34 [==============================] - 0s 2ms/step - loss: 7598.4727 - mae: 7598.4727\n",
      "Epoch 42/100\n",
      "34/34 [==============================] - 0s 2ms/step - loss: 7595.1924 - mae: 7595.1924\n",
      "Epoch 43/100\n",
      "34/34 [==============================] - 0s 2ms/step - loss: 7725.7988 - mae: 7725.7988\n",
      "Epoch 44/100\n",
      "34/34 [==============================] - 0s 2ms/step - loss: 7514.3789 - mae: 7514.3789\n",
      "Epoch 45/100\n",
      "34/34 [==============================] - 0s 2ms/step - loss: 7545.1685 - mae: 7545.1685\n",
      "Epoch 46/100\n",
      "34/34 [==============================] - 0s 3ms/step - loss: 7413.0693 - mae: 7413.0693\n",
      "Epoch 47/100\n",
      "34/34 [==============================] - 0s 2ms/step - loss: 7428.9355 - mae: 7428.9355\n",
      "Epoch 48/100\n",
      "34/34 [==============================] - 0s 3ms/step - loss: 7506.7124 - mae: 7506.7124\n",
      "Epoch 49/100\n",
      "34/34 [==============================] - 0s 2ms/step - loss: 7540.8281 - mae: 7540.8281\n",
      "Epoch 50/100\n",
      "34/34 [==============================] - 0s 2ms/step - loss: 7487.2056 - mae: 7487.2056\n",
      "Epoch 51/100\n",
      "34/34 [==============================] - 0s 2ms/step - loss: 7400.1196 - mae: 7400.1196\n",
      "Epoch 52/100\n",
      "34/34 [==============================] - 0s 3ms/step - loss: 7297.7397 - mae: 7297.7397\n",
      "Epoch 53/100\n",
      "34/34 [==============================] - 0s 2ms/step - loss: 7558.5073 - mae: 7558.5073\n",
      "Epoch 54/100\n",
      "34/34 [==============================] - 0s 2ms/step - loss: 7237.0288 - mae: 7237.0288\n",
      "Epoch 55/100\n",
      "34/34 [==============================] - 0s 2ms/step - loss: 7245.0942 - mae: 7245.0942\n",
      "Epoch 56/100\n",
      "34/34 [==============================] - 0s 2ms/step - loss: 7434.2881 - mae: 7434.2881\n",
      "Epoch 57/100\n",
      "34/34 [==============================] - 0s 2ms/step - loss: 7483.3081 - mae: 7483.3081\n",
      "Epoch 58/100\n",
      "34/34 [==============================] - 0s 2ms/step - loss: 7411.0952 - mae: 7411.0952\n",
      "Epoch 59/100\n",
      "34/34 [==============================] - 0s 2ms/step - loss: 7611.0898 - mae: 7611.0898\n",
      "Epoch 60/100\n",
      "34/34 [==============================] - 0s 2ms/step - loss: 7431.8579 - mae: 7431.8579\n",
      "Epoch 61/100\n",
      "34/34 [==============================] - 0s 3ms/step - loss: 7269.5488 - mae: 7269.5488\n",
      "Epoch 62/100\n",
      "34/34 [==============================] - 0s 2ms/step - loss: 7319.4961 - mae: 7319.4961\n",
      "Epoch 63/100\n",
      "34/34 [==============================] - 0s 2ms/step - loss: 7406.5967 - mae: 7406.5967\n",
      "Epoch 64/100\n",
      "34/34 [==============================] - 0s 2ms/step - loss: 7399.9268 - mae: 7399.9268\n",
      "Epoch 65/100\n",
      "34/34 [==============================] - 0s 3ms/step - loss: 7526.5674 - mae: 7526.5674\n",
      "Epoch 66/100\n",
      "34/34 [==============================] - 0s 3ms/step - loss: 7543.6919 - mae: 7543.6919\n",
      "Epoch 67/100\n",
      "34/34 [==============================] - 0s 3ms/step - loss: 7421.1318 - mae: 7421.1318\n",
      "Epoch 68/100\n",
      "34/34 [==============================] - 0s 3ms/step - loss: 7569.1572 - mae: 7569.1572\n",
      "Epoch 69/100\n",
      "34/34 [==============================] - 0s 3ms/step - loss: 7568.8799 - mae: 7568.8799\n",
      "Epoch 70/100\n",
      "34/34 [==============================] - 0s 3ms/step - loss: 7485.3135 - mae: 7485.3135\n",
      "Epoch 71/100\n",
      "34/34 [==============================] - 0s 2ms/step - loss: 7203.4482 - mae: 7203.4482\n",
      "Epoch 72/100\n",
      "34/34 [==============================] - 0s 2ms/step - loss: 7447.9287 - mae: 7447.9287\n",
      "Epoch 73/100\n",
      "34/34 [==============================] - 0s 3ms/step - loss: 7299.9409 - mae: 7299.9409\n",
      "Epoch 74/100\n",
      "34/34 [==============================] - 0s 2ms/step - loss: 7500.0654 - mae: 7500.0654\n",
      "Epoch 75/100\n",
      "34/34 [==============================] - 0s 2ms/step - loss: 7305.1904 - mae: 7305.1904\n",
      "Epoch 76/100\n",
      "34/34 [==============================] - 0s 2ms/step - loss: 7144.0684 - mae: 7144.0684\n",
      "Epoch 77/100\n",
      "34/34 [==============================] - 0s 2ms/step - loss: 7370.4653 - mae: 7370.4653\n",
      "Epoch 78/100\n",
      "34/34 [==============================] - 0s 2ms/step - loss: 7393.4185 - mae: 7393.4185\n",
      "Epoch 79/100\n",
      "34/34 [==============================] - 0s 2ms/step - loss: 7601.8960 - mae: 7601.8960\n",
      "Epoch 80/100\n",
      "34/34 [==============================] - 0s 2ms/step - loss: 7363.9575 - mae: 7363.9575\n",
      "Epoch 81/100\n",
      "34/34 [==============================] - 0s 2ms/step - loss: 7174.6294 - mae: 7174.6294\n",
      "Epoch 82/100\n",
      "34/34 [==============================] - 0s 2ms/step - loss: 7188.6592 - mae: 7188.6592\n",
      "Epoch 83/100\n",
      "34/34 [==============================] - 0s 2ms/step - loss: 7474.1099 - mae: 7474.1099\n",
      "Epoch 84/100\n",
      "34/34 [==============================] - 0s 2ms/step - loss: 7439.1284 - mae: 7439.1284\n",
      "Epoch 85/100\n",
      "34/34 [==============================] - 0s 2ms/step - loss: 7543.9282 - mae: 7543.9282\n",
      "Epoch 86/100\n",
      "34/34 [==============================] - 0s 2ms/step - loss: 7396.8091 - mae: 7396.8091\n",
      "Epoch 87/100\n",
      "34/34 [==============================] - 0s 2ms/step - loss: 7132.6030 - mae: 7132.6030\n",
      "Epoch 88/100\n",
      "34/34 [==============================] - 0s 2ms/step - loss: 7339.7153 - mae: 7339.7153\n",
      "Epoch 89/100\n",
      "34/34 [==============================] - 0s 3ms/step - loss: 7497.1196 - mae: 7497.1196\n",
      "Epoch 90/100\n",
      "34/34 [==============================] - 0s 2ms/step - loss: 7071.7109 - mae: 7071.7109\n",
      "Epoch 91/100\n",
      "34/34 [==============================] - 0s 2ms/step - loss: 7294.0283 - mae: 7294.0283\n",
      "Epoch 92/100\n",
      "34/34 [==============================] - 0s 2ms/step - loss: 7322.9351 - mae: 7322.9351\n",
      "Epoch 93/100\n",
      "34/34 [==============================] - 0s 3ms/step - loss: 7521.0757 - mae: 7521.0757\n",
      "Epoch 94/100\n",
      "34/34 [==============================] - 0s 3ms/step - loss: 7067.1616 - mae: 7067.1616\n",
      "Epoch 95/100\n",
      "34/34 [==============================] - 0s 3ms/step - loss: 7291.9854 - mae: 7291.9854\n",
      "Epoch 96/100\n",
      "34/34 [==============================] - 0s 2ms/step - loss: 7122.9678 - mae: 7122.9678\n",
      "Epoch 97/100\n",
      "34/34 [==============================] - 0s 3ms/step - loss: 7296.9946 - mae: 7296.9946\n",
      "Epoch 98/100\n",
      "34/34 [==============================] - 0s 3ms/step - loss: 7457.6079 - mae: 7457.6079\n",
      "Epoch 99/100\n",
      "34/34 [==============================] - 0s 3ms/step - loss: 7164.4092 - mae: 7164.4092\n",
      "Epoch 100/100\n",
      "34/34 [==============================] - 0s 2ms/step - loss: 7408.0718 - mae: 7408.0718\n"
     ]
    },
    {
     "data": {
      "text/plain": "<keras.callbacks.History at 0x7f36cc258390>"
     },
     "execution_count": 86,
     "metadata": {},
     "output_type": "execute_result"
    }
   ],
   "source": [
    "# Build a neural network (sort of like model_2 above)\n",
    "tf.random.set_seed(42)\n",
    "\n",
    "# 1. Create a model\n",
    "insurance_model = tf.keras.Sequential([\n",
    "    tf.keras.layers.Dense(10),\n",
    "    tf.keras.layers.Dense(1)\n",
    "])\n",
    "\n",
    "# 2. Compile the model\n",
    "insurance_model.compile(loss=tf.keras.losses.mae,\n",
    "                        optimizer=tf.keras.optimizers.SGD(),\n",
    "                        metrics=['mae'])\n",
    "\n",
    "# 3. Fit the model\n",
    "insurance_model.fit(X_train, y_train, epochs=100)"
   ],
   "metadata": {
    "collapsed": false,
    "ExecuteTime": {
     "end_time": "2024-01-08T06:43:27.193009675Z",
     "start_time": "2024-01-08T06:43:06.307025693Z"
    }
   },
   "id": "de634e0199d4a8ab",
   "execution_count": 86
  },
  {
   "cell_type": "code",
   "outputs": [
    {
     "name": "stdout",
     "output_type": "stream",
     "text": [
      "9/9 [==============================] - 0s 3ms/step - loss: 7106.4238 - mae: 7106.4238\n"
     ]
    },
    {
     "data": {
      "text/plain": "[7106.423828125, 7106.423828125]"
     },
     "execution_count": 87,
     "metadata": {},
     "output_type": "execute_result"
    }
   ],
   "source": [
    "# Check the results of the insurance model on the test data\n",
    "insurance_model.evaluate(X_test, y_test)"
   ],
   "metadata": {
    "collapsed": false,
    "ExecuteTime": {
     "end_time": "2024-01-08T06:43:30.868605476Z",
     "start_time": "2024-01-08T06:43:30.580024013Z"
    }
   },
   "id": "14b3a02e3c33e1c",
   "execution_count": 87
  },
  {
   "cell_type": "code",
   "outputs": [
    {
     "data": {
      "text/plain": "(9575.4421, 13346.089736364485)"
     },
     "execution_count": 88,
     "metadata": {},
     "output_type": "execute_result"
    }
   ],
   "source": [
    "y_train.median(), y_train.mean()"
   ],
   "metadata": {
    "collapsed": false,
    "ExecuteTime": {
     "end_time": "2024-01-08T06:43:31.707405911Z",
     "start_time": "2024-01-08T06:43:31.654430829Z"
    }
   },
   "id": "a60437ead8ed7d4b",
   "execution_count": 88
  },
  {
   "cell_type": "markdown",
   "source": [
    "Right now it looks like our model Isn't performing to well... let's try and improve it!\n",
    "\n",
    "To (try) improve our model, we'll run 2 experiments:\n",
    "1. Add an extra layer with more hidden units and use the Adam optimizer\n",
    "2. Same as above but train for longger (200 epochs)\n",
    "3. (insert our own experiment here)"
   ],
   "metadata": {
    "collapsed": false
   },
   "id": "a65b590d46ee1758"
  },
  {
   "cell_type": "code",
   "outputs": [
    {
     "data": {
      "text/plain": "(      age     bmi  children  sex_female  sex_male  smoker_no  smoker_yes  \\\n 560    46  19.950         2           1         0          1           0   \n 1285   47  24.320         0           1         0          1           0   \n 1142   52  24.860         0           1         0          1           0   \n 969    39  34.320         5           1         0          1           0   \n 486    54  21.470         3           1         0          1           0   \n ...   ...     ...       ...         ...       ...        ...         ...   \n 1095   18  31.350         4           1         0          1           0   \n 1130   39  23.870         5           1         0          1           0   \n 1294   58  25.175         0           0         1          1           0   \n 860    37  47.600         2           1         0          0           1   \n 1126   55  29.900         0           0         1          1           0   \n \n       region_northeast  region_northwest  region_southeast  region_southwest  \n 560                  0                 1                 0                 0  \n 1285                 1                 0                 0                 0  \n 1142                 0                 0                 1                 0  \n 969                  0                 0                 1                 0  \n 486                  0                 1                 0                 0  \n ...                ...               ...               ...               ...  \n 1095                 1                 0                 0                 0  \n 1130                 0                 0                 1                 0  \n 1294                 1                 0                 0                 0  \n 860                  0                 0                 0                 1  \n 1126                 0                 0                 0                 1  \n \n [1070 rows x 11 columns],\n 560      9193.83850\n 1285     8534.67180\n 1142    27117.99378\n 969      8596.82780\n 486     12475.35130\n            ...     \n 1095     4561.18850\n 1130     8582.30230\n 1294    11931.12525\n 860     46113.51100\n 1126    10214.63600\n Name: charges, Length: 1070, dtype: float64)"
     },
     "execution_count": 89,
     "metadata": {},
     "output_type": "execute_result"
    }
   ],
   "source": [
    "X_train, y_train"
   ],
   "metadata": {
    "collapsed": false,
    "ExecuteTime": {
     "end_time": "2024-01-08T06:43:33.808865869Z",
     "start_time": "2024-01-08T06:43:33.771505923Z"
    }
   },
   "id": "867239afb5cf971",
   "execution_count": 89
  },
  {
   "cell_type": "code",
   "outputs": [
    {
     "name": "stdout",
     "output_type": "stream",
     "text": [
      "Epoch 1/100\n",
      "34/34 [==============================] - 1s 4ms/step - loss: 13303.8096 - mae: 13303.8096\n",
      "Epoch 2/100\n",
      "34/34 [==============================] - 0s 4ms/step - loss: 13159.2021 - mae: 13159.2021\n",
      "Epoch 3/100\n",
      "34/34 [==============================] - 0s 3ms/step - loss: 12856.9102 - mae: 12856.9102\n",
      "Epoch 4/100\n",
      "34/34 [==============================] - 0s 2ms/step - loss: 12243.5615 - mae: 12243.5615\n",
      "Epoch 5/100\n",
      "34/34 [==============================] - 0s 2ms/step - loss: 11177.1807 - mae: 11177.1807\n",
      "Epoch 6/100\n",
      "34/34 [==============================] - 0s 3ms/step - loss: 9733.6416 - mae: 9733.6416\n",
      "Epoch 7/100\n",
      "34/34 [==============================] - 0s 2ms/step - loss: 8330.1846 - mae: 8330.1846\n",
      "Epoch 8/100\n",
      "34/34 [==============================] - 0s 4ms/step - loss: 7573.7275 - mae: 7573.7275\n",
      "Epoch 9/100\n",
      "34/34 [==============================] - 0s 4ms/step - loss: 7426.6157 - mae: 7426.6157\n",
      "Epoch 10/100\n",
      "34/34 [==============================] - 0s 5ms/step - loss: 7404.5220 - mae: 7404.5220\n",
      "Epoch 11/100\n",
      "34/34 [==============================] - 0s 3ms/step - loss: 7385.7593 - mae: 7385.7593\n",
      "Epoch 12/100\n",
      "34/34 [==============================] - 0s 4ms/step - loss: 7364.3096 - mae: 7364.3096\n",
      "Epoch 13/100\n",
      "34/34 [==============================] - 0s 4ms/step - loss: 7344.3081 - mae: 7344.3081\n",
      "Epoch 14/100\n",
      "34/34 [==============================] - 0s 4ms/step - loss: 7322.0063 - mae: 7322.0063\n",
      "Epoch 15/100\n",
      "34/34 [==============================] - 0s 4ms/step - loss: 7303.4551 - mae: 7303.4551\n",
      "Epoch 16/100\n",
      "34/34 [==============================] - 0s 3ms/step - loss: 7281.4053 - mae: 7281.4053\n",
      "Epoch 17/100\n",
      "34/34 [==============================] - 0s 4ms/step - loss: 7261.3105 - mae: 7261.3105\n",
      "Epoch 18/100\n",
      "34/34 [==============================] - 0s 4ms/step - loss: 7238.1641 - mae: 7238.1641\n",
      "Epoch 19/100\n",
      "34/34 [==============================] - 0s 4ms/step - loss: 7215.5405 - mae: 7215.5405\n",
      "Epoch 20/100\n",
      "34/34 [==============================] - 0s 4ms/step - loss: 7191.9419 - mae: 7191.9419\n",
      "Epoch 21/100\n",
      "34/34 [==============================] - 0s 4ms/step - loss: 7173.6118 - mae: 7173.6118\n",
      "Epoch 22/100\n",
      "34/34 [==============================] - 0s 4ms/step - loss: 7145.0386 - mae: 7145.0386\n",
      "Epoch 23/100\n",
      "34/34 [==============================] - 0s 5ms/step - loss: 7119.7446 - mae: 7119.7446\n",
      "Epoch 24/100\n",
      "34/34 [==============================] - 0s 4ms/step - loss: 7094.4912 - mae: 7094.4912\n",
      "Epoch 25/100\n",
      "34/34 [==============================] - 0s 4ms/step - loss: 7076.1841 - mae: 7076.1841\n",
      "Epoch 26/100\n",
      "34/34 [==============================] - 0s 6ms/step - loss: 7043.0674 - mae: 7043.0674\n",
      "Epoch 27/100\n",
      "34/34 [==============================] - 0s 4ms/step - loss: 7014.3799 - mae: 7014.3799\n",
      "Epoch 28/100\n",
      "34/34 [==============================] - 0s 3ms/step - loss: 6985.6001 - mae: 6985.6001\n",
      "Epoch 29/100\n",
      "34/34 [==============================] - 0s 4ms/step - loss: 6956.8799 - mae: 6956.8799\n",
      "Epoch 30/100\n",
      "34/34 [==============================] - 0s 7ms/step - loss: 6928.5693 - mae: 6928.5693\n",
      "Epoch 31/100\n",
      "34/34 [==============================] - 0s 7ms/step - loss: 6897.3071 - mae: 6897.3071\n",
      "Epoch 32/100\n",
      "34/34 [==============================] - 0s 4ms/step - loss: 6868.3105 - mae: 6868.3105\n",
      "Epoch 33/100\n",
      "34/34 [==============================] - 0s 5ms/step - loss: 6836.1475 - mae: 6836.1475\n",
      "Epoch 34/100\n",
      "34/34 [==============================] - 0s 4ms/step - loss: 6804.4941 - mae: 6804.4941\n",
      "Epoch 35/100\n",
      "34/34 [==============================] - 0s 6ms/step - loss: 6769.6348 - mae: 6769.6348\n",
      "Epoch 36/100\n",
      "34/34 [==============================] - 0s 7ms/step - loss: 6735.5508 - mae: 6735.5508\n",
      "Epoch 37/100\n",
      "34/34 [==============================] - 0s 4ms/step - loss: 6698.7637 - mae: 6698.7637\n",
      "Epoch 38/100\n",
      "34/34 [==============================] - 0s 4ms/step - loss: 6668.5713 - mae: 6668.5713\n",
      "Epoch 39/100\n",
      "34/34 [==============================] - 0s 4ms/step - loss: 6630.6733 - mae: 6630.6733\n",
      "Epoch 40/100\n",
      "34/34 [==============================] - 0s 5ms/step - loss: 6596.4639 - mae: 6596.4639\n",
      "Epoch 41/100\n",
      "34/34 [==============================] - 0s 6ms/step - loss: 6567.5845 - mae: 6567.5845\n",
      "Epoch 42/100\n",
      "34/34 [==============================] - 0s 3ms/step - loss: 6542.0400 - mae: 6542.0400\n",
      "Epoch 43/100\n",
      "34/34 [==============================] - 0s 4ms/step - loss: 6516.0391 - mae: 6516.0391\n",
      "Epoch 44/100\n",
      "34/34 [==============================] - 0s 3ms/step - loss: 6495.7754 - mae: 6495.7754\n",
      "Epoch 45/100\n",
      "34/34 [==============================] - 0s 2ms/step - loss: 6486.4302 - mae: 6486.4302\n",
      "Epoch 46/100\n",
      "34/34 [==============================] - 0s 4ms/step - loss: 6467.9727 - mae: 6467.9727\n",
      "Epoch 47/100\n",
      "34/34 [==============================] - 0s 3ms/step - loss: 6451.4771 - mae: 6451.4771\n",
      "Epoch 48/100\n",
      "34/34 [==============================] - 0s 2ms/step - loss: 6438.0708 - mae: 6438.0708\n",
      "Epoch 49/100\n",
      "34/34 [==============================] - 0s 3ms/step - loss: 6425.4277 - mae: 6425.4277\n",
      "Epoch 50/100\n",
      "34/34 [==============================] - 0s 3ms/step - loss: 6411.6304 - mae: 6411.6304\n",
      "Epoch 51/100\n",
      "34/34 [==============================] - 0s 4ms/step - loss: 6398.0747 - mae: 6398.0747\n",
      "Epoch 52/100\n",
      "34/34 [==============================] - 0s 3ms/step - loss: 6387.2222 - mae: 6387.2222\n",
      "Epoch 53/100\n",
      "34/34 [==============================] - 0s 3ms/step - loss: 6373.0156 - mae: 6373.0156\n",
      "Epoch 54/100\n",
      "34/34 [==============================] - 0s 4ms/step - loss: 6359.5742 - mae: 6359.5742\n",
      "Epoch 55/100\n",
      "34/34 [==============================] - 0s 4ms/step - loss: 6346.7036 - mae: 6346.7036\n",
      "Epoch 56/100\n",
      "34/34 [==============================] - 0s 3ms/step - loss: 6332.2339 - mae: 6332.2339\n",
      "Epoch 57/100\n",
      "34/34 [==============================] - 0s 3ms/step - loss: 6319.5615 - mae: 6319.5615\n",
      "Epoch 58/100\n",
      "34/34 [==============================] - 0s 3ms/step - loss: 6305.9238 - mae: 6305.9238\n",
      "Epoch 59/100\n",
      "34/34 [==============================] - 0s 4ms/step - loss: 6290.6895 - mae: 6290.6895\n",
      "Epoch 60/100\n",
      "34/34 [==============================] - 0s 2ms/step - loss: 6280.4448 - mae: 6280.4448\n",
      "Epoch 61/100\n",
      "34/34 [==============================] - 0s 3ms/step - loss: 6261.3403 - mae: 6261.3403\n",
      "Epoch 62/100\n",
      "34/34 [==============================] - 0s 4ms/step - loss: 6248.8755 - mae: 6248.8755\n",
      "Epoch 63/100\n",
      "34/34 [==============================] - 0s 4ms/step - loss: 6230.7778 - mae: 6230.7778\n",
      "Epoch 64/100\n",
      "34/34 [==============================] - 0s 5ms/step - loss: 6213.5273 - mae: 6213.5273\n",
      "Epoch 65/100\n",
      "34/34 [==============================] - 0s 4ms/step - loss: 6196.7896 - mae: 6196.7896\n",
      "Epoch 66/100\n",
      "34/34 [==============================] - 0s 5ms/step - loss: 6179.9067 - mae: 6179.9067\n",
      "Epoch 67/100\n",
      "34/34 [==============================] - 0s 4ms/step - loss: 6167.5127 - mae: 6167.5127\n",
      "Epoch 68/100\n",
      "34/34 [==============================] - 0s 4ms/step - loss: 6145.4834 - mae: 6145.4834\n",
      "Epoch 69/100\n",
      "34/34 [==============================] - 0s 5ms/step - loss: 6129.0156 - mae: 6129.0156\n",
      "Epoch 70/100\n",
      "34/34 [==============================] - 0s 4ms/step - loss: 6108.9014 - mae: 6108.9014\n",
      "Epoch 71/100\n",
      "34/34 [==============================] - 0s 4ms/step - loss: 6089.7070 - mae: 6089.7070\n",
      "Epoch 72/100\n",
      "34/34 [==============================] - 0s 3ms/step - loss: 6070.7549 - mae: 6070.7549\n",
      "Epoch 73/100\n",
      "34/34 [==============================] - 0s 3ms/step - loss: 6056.0337 - mae: 6056.0337\n",
      "Epoch 74/100\n",
      "34/34 [==============================] - 0s 3ms/step - loss: 6028.6143 - mae: 6028.6143\n",
      "Epoch 75/100\n",
      "34/34 [==============================] - 0s 4ms/step - loss: 6007.6719 - mae: 6007.6719\n",
      "Epoch 76/100\n",
      "34/34 [==============================] - 0s 4ms/step - loss: 5994.4619 - mae: 5994.4619\n",
      "Epoch 77/100\n",
      "34/34 [==============================] - 0s 5ms/step - loss: 5961.0522 - mae: 5961.0522\n",
      "Epoch 78/100\n",
      "34/34 [==============================] - 0s 3ms/step - loss: 5938.6230 - mae: 5938.6230\n",
      "Epoch 79/100\n",
      "34/34 [==============================] - 0s 3ms/step - loss: 5914.2422 - mae: 5914.2422\n",
      "Epoch 80/100\n",
      "34/34 [==============================] - 0s 4ms/step - loss: 5887.0708 - mae: 5887.0708\n",
      "Epoch 81/100\n",
      "34/34 [==============================] - 0s 4ms/step - loss: 5861.0513 - mae: 5861.0513\n",
      "Epoch 82/100\n",
      "34/34 [==============================] - 0s 4ms/step - loss: 5834.0737 - mae: 5834.0737\n",
      "Epoch 83/100\n",
      "34/34 [==============================] - 0s 5ms/step - loss: 5806.1460 - mae: 5806.1460\n",
      "Epoch 84/100\n",
      "34/34 [==============================] - 0s 4ms/step - loss: 5773.0420 - mae: 5773.0420\n",
      "Epoch 85/100\n",
      "34/34 [==============================] - 0s 4ms/step - loss: 5747.8604 - mae: 5747.8604\n",
      "Epoch 86/100\n",
      "34/34 [==============================] - 0s 6ms/step - loss: 5713.1313 - mae: 5713.1313\n",
      "Epoch 87/100\n",
      "34/34 [==============================] - 0s 5ms/step - loss: 5677.2607 - mae: 5677.2607\n",
      "Epoch 88/100\n",
      "34/34 [==============================] - 0s 3ms/step - loss: 5643.1577 - mae: 5643.1577\n",
      "Epoch 89/100\n",
      "34/34 [==============================] - 0s 6ms/step - loss: 5604.8989 - mae: 5604.8989\n",
      "Epoch 90/100\n",
      "34/34 [==============================] - 0s 8ms/step - loss: 5564.7275 - mae: 5564.7275\n",
      "Epoch 91/100\n",
      "34/34 [==============================] - 0s 6ms/step - loss: 5529.9819 - mae: 5529.9819\n",
      "Epoch 92/100\n",
      "34/34 [==============================] - 0s 4ms/step - loss: 5481.1675 - mae: 5481.1675\n",
      "Epoch 93/100\n",
      "34/34 [==============================] - 0s 6ms/step - loss: 5440.7446 - mae: 5440.7446\n",
      "Epoch 94/100\n",
      "34/34 [==============================] - 0s 4ms/step - loss: 5396.1704 - mae: 5396.1704\n",
      "Epoch 95/100\n",
      "34/34 [==============================] - 0s 4ms/step - loss: 5344.8555 - mae: 5344.8555\n",
      "Epoch 96/100\n",
      "34/34 [==============================] - 0s 4ms/step - loss: 5301.7275 - mae: 5301.7275\n",
      "Epoch 97/100\n",
      "34/34 [==============================] - 0s 4ms/step - loss: 5248.8623 - mae: 5248.8623\n",
      "Epoch 98/100\n",
      "34/34 [==============================] - 0s 4ms/step - loss: 5187.7607 - mae: 5187.7607\n",
      "Epoch 99/100\n",
      "34/34 [==============================] - 0s 6ms/step - loss: 5132.1958 - mae: 5132.1958\n",
      "Epoch 100/100\n",
      "34/34 [==============================] - 0s 6ms/step - loss: 5078.9819 - mae: 5078.9819\n"
     ]
    },
    {
     "data": {
      "text/plain": "<keras.callbacks.History at 0x7f36cc20e610>"
     },
     "execution_count": 90,
     "metadata": {},
     "output_type": "execute_result"
    }
   ],
   "source": [
    "# Set random seed\n",
    "tf.random.set_seed(42)\n",
    "\n",
    "# 1. Create the model\n",
    "insurance_model_2 = tf.keras.Sequential([\n",
    "    tf.keras.layers.Dense(100),\n",
    "    tf.keras.layers.Dense(10),\n",
    "    tf.keras.layers.Dense(1)\n",
    "])\n",
    "\n",
    "# 2. Compile the model\n",
    "insurance_model_2.compile(loss=tf.keras.losses.mae,\n",
    "                          optimizer=tf.keras.optimizers.Adam(),\n",
    "                          metrics=[\"mae\"])\n",
    "\n",
    "# 3 Fit the model\n",
    "insurance_model_2.fit(X_train, y_train, epochs=100, verbose=1)"
   ],
   "metadata": {
    "collapsed": false,
    "ExecuteTime": {
     "end_time": "2024-01-08T06:43:51.133557992Z",
     "start_time": "2024-01-08T06:43:35.081617545Z"
    }
   },
   "id": "669143dbe6b04600",
   "execution_count": 90
  },
  {
   "cell_type": "code",
   "outputs": [
    {
     "name": "stdout",
     "output_type": "stream",
     "text": [
      "9/9 [==============================] - 0s 6ms/step - loss: 4946.3237 - mae: 4946.3237\n"
     ]
    },
    {
     "data": {
      "text/plain": "[4946.32373046875, 4946.32373046875]"
     },
     "execution_count": 91,
     "metadata": {},
     "output_type": "execute_result"
    }
   ],
   "source": [
    "# Evaluate the larger model\n",
    "insurance_model_2.evaluate(X_test, y_test)"
   ],
   "metadata": {
    "collapsed": false,
    "ExecuteTime": {
     "end_time": "2024-01-08T06:43:58.654984633Z",
     "start_time": "2024-01-08T06:43:58.337020472Z"
    }
   },
   "id": "f464184418e3b1a1",
   "execution_count": 91
  },
  {
   "cell_type": "code",
   "outputs": [
    {
     "name": "stdout",
     "output_type": "stream",
     "text": [
      "9/9 [==============================] - 0s 4ms/step - loss: 7106.4238 - mae: 7106.4238\n"
     ]
    },
    {
     "data": {
      "text/plain": "[7106.423828125, 7106.423828125]"
     },
     "execution_count": 92,
     "metadata": {},
     "output_type": "execute_result"
    }
   ],
   "source": [
    "insurance_model.evaluate(X_test, y_test)"
   ],
   "metadata": {
    "collapsed": false,
    "ExecuteTime": {
     "end_time": "2024-01-08T06:43:59.841079245Z",
     "start_time": "2024-01-08T06:43:59.543797856Z"
    }
   },
   "id": "3f5ca9d38ec4c2fe",
   "execution_count": 92
  },
  {
   "cell_type": "code",
   "outputs": [
    {
     "name": "stdout",
     "output_type": "stream",
     "text": [
      "Epoch 1/200\n",
      "34/34 [==============================] - 1s 4ms/step - loss: 13276.9365 - mae: 13276.9365\n",
      "Epoch 2/200\n",
      "34/34 [==============================] - 0s 4ms/step - loss: 13080.9443 - mae: 13080.9443\n",
      "Epoch 3/200\n",
      "34/34 [==============================] - 0s 5ms/step - loss: 12693.2988 - mae: 12693.2988\n",
      "Epoch 4/200\n",
      "34/34 [==============================] - 0s 4ms/step - loss: 11957.4902 - mae: 11957.4902\n",
      "Epoch 5/200\n",
      "34/34 [==============================] - 0s 4ms/step - loss: 10759.1621 - mae: 10759.1621\n",
      "Epoch 6/200\n",
      "34/34 [==============================] - 0s 3ms/step - loss: 9287.1602 - mae: 9287.1602\n",
      "Epoch 7/200\n",
      "34/34 [==============================] - 0s 5ms/step - loss: 8008.3198 - mae: 8008.3198\n",
      "Epoch 8/200\n",
      "34/34 [==============================] - 0s 7ms/step - loss: 7484.7705 - mae: 7484.7705\n",
      "Epoch 9/200\n",
      "34/34 [==============================] - 0s 6ms/step - loss: 7412.0718 - mae: 7412.0718\n",
      "Epoch 10/200\n",
      "34/34 [==============================] - 0s 5ms/step - loss: 7392.0688 - mae: 7392.0688\n",
      "Epoch 11/200\n",
      "34/34 [==============================] - 0s 6ms/step - loss: 7372.8745 - mae: 7372.8745\n",
      "Epoch 12/200\n",
      "34/34 [==============================] - 0s 6ms/step - loss: 7350.3838 - mae: 7350.3838\n",
      "Epoch 13/200\n",
      "34/34 [==============================] - 0s 7ms/step - loss: 7329.5591 - mae: 7329.5591\n",
      "Epoch 14/200\n",
      "34/34 [==============================] - 0s 4ms/step - loss: 7306.5366 - mae: 7306.5366\n",
      "Epoch 15/200\n",
      "34/34 [==============================] - 0s 3ms/step - loss: 7287.4731 - mae: 7287.4731\n",
      "Epoch 16/200\n",
      "34/34 [==============================] - 0s 4ms/step - loss: 7264.5444 - mae: 7264.5444\n",
      "Epoch 17/200\n",
      "34/34 [==============================] - 0s 4ms/step - loss: 7242.8857 - mae: 7242.8857\n",
      "Epoch 18/200\n",
      "34/34 [==============================] - 0s 4ms/step - loss: 7218.9248 - mae: 7218.9248\n",
      "Epoch 19/200\n",
      "34/34 [==============================] - 0s 4ms/step - loss: 7195.7124 - mae: 7195.7124\n",
      "Epoch 20/200\n",
      "34/34 [==============================] - 0s 4ms/step - loss: 7171.2231 - mae: 7171.2231\n",
      "Epoch 21/200\n",
      "34/34 [==============================] - 0s 4ms/step - loss: 7150.8838 - mae: 7150.8838\n",
      "Epoch 22/200\n",
      "34/34 [==============================] - 0s 4ms/step - loss: 7121.9653 - mae: 7121.9653\n",
      "Epoch 23/200\n",
      "34/34 [==============================] - 0s 4ms/step - loss: 7096.2993 - mae: 7096.2993\n",
      "Epoch 24/200\n",
      "34/34 [==============================] - 0s 5ms/step - loss: 7069.0791 - mae: 7069.0791\n",
      "Epoch 25/200\n",
      "34/34 [==============================] - 0s 4ms/step - loss: 7048.6274 - mae: 7048.6274\n",
      "Epoch 26/200\n",
      "34/34 [==============================] - 0s 3ms/step - loss: 7015.7363 - mae: 7015.7363\n",
      "Epoch 27/200\n",
      "34/34 [==============================] - 0s 4ms/step - loss: 6985.9570 - mae: 6985.9570\n",
      "Epoch 28/200\n",
      "34/34 [==============================] - 0s 5ms/step - loss: 6955.6567 - mae: 6955.6567\n",
      "Epoch 29/200\n",
      "34/34 [==============================] - 0s 4ms/step - loss: 6926.2769 - mae: 6926.2769\n",
      "Epoch 30/200\n",
      "34/34 [==============================] - 0s 3ms/step - loss: 6897.2554 - mae: 6897.2554\n",
      "Epoch 31/200\n",
      "34/34 [==============================] - 0s 4ms/step - loss: 6864.5391 - mae: 6864.5391\n",
      "Epoch 32/200\n",
      "34/34 [==============================] - 0s 3ms/step - loss: 6833.7793 - mae: 6833.7793\n",
      "Epoch 33/200\n",
      "34/34 [==============================] - 0s 4ms/step - loss: 6799.4756 - mae: 6799.4756\n",
      "Epoch 34/200\n",
      "34/34 [==============================] - 0s 4ms/step - loss: 6765.4873 - mae: 6765.4873\n",
      "Epoch 35/200\n",
      "34/34 [==============================] - 0s 4ms/step - loss: 6729.4912 - mae: 6729.4912\n",
      "Epoch 36/200\n",
      "34/34 [==============================] - 0s 5ms/step - loss: 6693.1426 - mae: 6693.1426\n",
      "Epoch 37/200\n",
      "34/34 [==============================] - 0s 5ms/step - loss: 6655.7925 - mae: 6655.7925\n",
      "Epoch 38/200\n",
      "34/34 [==============================] - 0s 4ms/step - loss: 6624.5386 - mae: 6624.5386\n",
      "Epoch 39/200\n",
      "34/34 [==============================] - 0s 4ms/step - loss: 6585.6675 - mae: 6585.6675\n",
      "Epoch 40/200\n",
      "34/34 [==============================] - 0s 4ms/step - loss: 6555.0557 - mae: 6555.0557\n",
      "Epoch 41/200\n",
      "34/34 [==============================] - 0s 4ms/step - loss: 6529.7783 - mae: 6529.7783\n",
      "Epoch 42/200\n",
      "34/34 [==============================] - 0s 5ms/step - loss: 6508.3545 - mae: 6508.3545\n",
      "Epoch 43/200\n",
      "34/34 [==============================] - 0s 4ms/step - loss: 6486.6689 - mae: 6486.6689\n",
      "Epoch 44/200\n",
      "34/34 [==============================] - 0s 4ms/step - loss: 6469.1343 - mae: 6469.1343\n",
      "Epoch 45/200\n",
      "34/34 [==============================] - 0s 4ms/step - loss: 6459.2285 - mae: 6459.2285\n",
      "Epoch 46/200\n",
      "34/34 [==============================] - 0s 4ms/step - loss: 6441.9097 - mae: 6441.9097\n",
      "Epoch 47/200\n",
      "34/34 [==============================] - 0s 5ms/step - loss: 6425.6318 - mae: 6425.6318\n",
      "Epoch 48/200\n",
      "34/34 [==============================] - 0s 5ms/step - loss: 6411.2837 - mae: 6411.2837\n",
      "Epoch 49/200\n",
      "34/34 [==============================] - 0s 3ms/step - loss: 6400.0645 - mae: 6400.0645\n",
      "Epoch 50/200\n",
      "34/34 [==============================] - 0s 4ms/step - loss: 6384.9966 - mae: 6384.9966\n",
      "Epoch 51/200\n",
      "34/34 [==============================] - 0s 4ms/step - loss: 6371.3315 - mae: 6371.3315\n",
      "Epoch 52/200\n",
      "34/34 [==============================] - 0s 3ms/step - loss: 6357.8560 - mae: 6357.8560\n",
      "Epoch 53/200\n",
      "34/34 [==============================] - 0s 4ms/step - loss: 6342.8994 - mae: 6342.8994\n",
      "Epoch 54/200\n",
      "34/34 [==============================] - 0s 4ms/step - loss: 6328.0195 - mae: 6328.0195\n",
      "Epoch 55/200\n",
      "34/34 [==============================] - 0s 5ms/step - loss: 6313.9292 - mae: 6313.9292\n",
      "Epoch 56/200\n",
      "34/34 [==============================] - 0s 5ms/step - loss: 6299.1187 - mae: 6299.1187\n",
      "Epoch 57/200\n",
      "34/34 [==============================] - 0s 5ms/step - loss: 6284.3271 - mae: 6284.3271\n",
      "Epoch 58/200\n",
      "34/34 [==============================] - 0s 8ms/step - loss: 6269.9355 - mae: 6269.9355\n",
      "Epoch 59/200\n",
      "34/34 [==============================] - 0s 5ms/step - loss: 6253.0415 - mae: 6253.0415\n",
      "Epoch 60/200\n",
      "34/34 [==============================] - 0s 4ms/step - loss: 6241.1494 - mae: 6241.1494\n",
      "Epoch 61/200\n",
      "34/34 [==============================] - 0s 5ms/step - loss: 6218.9468 - mae: 6218.9468\n",
      "Epoch 62/200\n",
      "34/34 [==============================] - 0s 5ms/step - loss: 6205.2935 - mae: 6205.2935\n",
      "Epoch 63/200\n",
      "34/34 [==============================] - 0s 6ms/step - loss: 6186.2085 - mae: 6186.2085\n",
      "Epoch 64/200\n",
      "34/34 [==============================] - 0s 5ms/step - loss: 6167.5728 - mae: 6167.5728\n",
      "Epoch 65/200\n",
      "34/34 [==============================] - 0s 6ms/step - loss: 6148.6636 - mae: 6148.6636\n",
      "Epoch 66/200\n",
      "34/34 [==============================] - 0s 5ms/step - loss: 6129.1836 - mae: 6129.1836\n",
      "Epoch 67/200\n",
      "34/34 [==============================] - 0s 4ms/step - loss: 6115.5605 - mae: 6115.5605\n",
      "Epoch 68/200\n",
      "34/34 [==============================] - 0s 5ms/step - loss: 6090.9014 - mae: 6090.9014\n",
      "Epoch 69/200\n",
      "34/34 [==============================] - 0s 4ms/step - loss: 6072.2490 - mae: 6072.2490\n",
      "Epoch 70/200\n",
      "34/34 [==============================] - 0s 4ms/step - loss: 6049.5386 - mae: 6049.5386\n",
      "Epoch 71/200\n",
      "34/34 [==============================] - 0s 5ms/step - loss: 6027.7847 - mae: 6027.7847\n",
      "Epoch 72/200\n",
      "34/34 [==============================] - 0s 6ms/step - loss: 6006.0112 - mae: 6006.0112\n",
      "Epoch 73/200\n",
      "34/34 [==============================] - 0s 4ms/step - loss: 5988.9712 - mae: 5988.9712\n",
      "Epoch 74/200\n",
      "34/34 [==============================] - 0s 6ms/step - loss: 5956.5420 - mae: 5956.5420\n",
      "Epoch 75/200\n",
      "34/34 [==============================] - 0s 4ms/step - loss: 5933.3525 - mae: 5933.3525\n",
      "Epoch 76/200\n",
      "34/34 [==============================] - 0s 4ms/step - loss: 5914.1685 - mae: 5914.1685\n",
      "Epoch 77/200\n",
      "34/34 [==============================] - 0s 4ms/step - loss: 5879.3467 - mae: 5879.3467\n",
      "Epoch 78/200\n",
      "34/34 [==============================] - 0s 5ms/step - loss: 5852.3887 - mae: 5852.3887\n",
      "Epoch 79/200\n",
      "34/34 [==============================] - 0s 5ms/step - loss: 5823.4209 - mae: 5823.4209\n",
      "Epoch 80/200\n",
      "34/34 [==============================] - 0s 5ms/step - loss: 5791.5571 - mae: 5791.5571\n",
      "Epoch 81/200\n",
      "34/34 [==============================] - 0s 5ms/step - loss: 5762.3013 - mae: 5762.3013\n",
      "Epoch 82/200\n",
      "34/34 [==============================] - 0s 4ms/step - loss: 5728.3359 - mae: 5728.3359\n",
      "Epoch 83/200\n",
      "34/34 [==============================] - 0s 4ms/step - loss: 5696.1528 - mae: 5696.1528\n",
      "Epoch 84/200\n",
      "34/34 [==============================] - 0s 4ms/step - loss: 5657.7808 - mae: 5657.7808\n",
      "Epoch 85/200\n",
      "34/34 [==============================] - 0s 4ms/step - loss: 5625.4116 - mae: 5625.4116\n",
      "Epoch 86/200\n",
      "34/34 [==============================] - 0s 5ms/step - loss: 5587.4165 - mae: 5587.4165\n",
      "Epoch 87/200\n",
      "34/34 [==============================] - 0s 5ms/step - loss: 5543.1406 - mae: 5543.1406\n",
      "Epoch 88/200\n",
      "34/34 [==============================] - 0s 4ms/step - loss: 5501.1865 - mae: 5501.1865\n",
      "Epoch 89/200\n",
      "34/34 [==============================] - 0s 5ms/step - loss: 5455.6929 - mae: 5455.6929\n",
      "Epoch 90/200\n",
      "34/34 [==============================] - 0s 4ms/step - loss: 5406.2227 - mae: 5406.2227\n",
      "Epoch 91/200\n",
      "34/34 [==============================] - 0s 6ms/step - loss: 5362.2671 - mae: 5362.2671\n",
      "Epoch 92/200\n",
      "34/34 [==============================] - 0s 6ms/step - loss: 5308.4551 - mae: 5308.4551\n",
      "Epoch 93/200\n",
      "34/34 [==============================] - 0s 5ms/step - loss: 5256.6611 - mae: 5256.6611\n",
      "Epoch 94/200\n",
      "34/34 [==============================] - 0s 6ms/step - loss: 5201.0679 - mae: 5201.0679\n",
      "Epoch 95/200\n",
      "34/34 [==============================] - 0s 4ms/step - loss: 5139.3691 - mae: 5139.3691\n",
      "Epoch 96/200\n",
      "34/34 [==============================] - 0s 5ms/step - loss: 5085.9810 - mae: 5085.9810\n",
      "Epoch 97/200\n",
      "34/34 [==============================] - 0s 6ms/step - loss: 5023.3652 - mae: 5023.3652\n",
      "Epoch 98/200\n",
      "34/34 [==============================] - 0s 6ms/step - loss: 4954.7505 - mae: 4954.7505\n",
      "Epoch 99/200\n",
      "34/34 [==============================] - 0s 4ms/step - loss: 4879.2275 - mae: 4879.2275\n",
      "Epoch 100/200\n",
      "34/34 [==============================] - 0s 5ms/step - loss: 4820.0049 - mae: 4820.0049\n",
      "Epoch 101/200\n",
      "34/34 [==============================] - 0s 4ms/step - loss: 4736.4507 - mae: 4736.4507\n",
      "Epoch 102/200\n",
      "34/34 [==============================] - 0s 5ms/step - loss: 4651.8970 - mae: 4651.8970\n",
      "Epoch 103/200\n",
      "34/34 [==============================] - 0s 4ms/step - loss: 4572.5083 - mae: 4572.5083\n",
      "Epoch 104/200\n",
      "34/34 [==============================] - 0s 4ms/step - loss: 4482.2085 - mae: 4482.2085\n",
      "Epoch 105/200\n",
      "34/34 [==============================] - 0s 2ms/step - loss: 4392.2744 - mae: 4392.2744\n",
      "Epoch 106/200\n",
      "34/34 [==============================] - 0s 3ms/step - loss: 4313.2637 - mae: 4313.2637\n",
      "Epoch 107/200\n",
      "34/34 [==============================] - 0s 6ms/step - loss: 4233.5908 - mae: 4233.5908\n",
      "Epoch 108/200\n",
      "34/34 [==============================] - 0s 6ms/step - loss: 4154.8877 - mae: 4154.8877\n",
      "Epoch 109/200\n",
      "34/34 [==============================] - 0s 5ms/step - loss: 4083.5291 - mae: 4083.5291\n",
      "Epoch 110/200\n",
      "34/34 [==============================] - 0s 6ms/step - loss: 4020.5195 - mae: 4020.5195\n",
      "Epoch 111/200\n",
      "34/34 [==============================] - 0s 5ms/step - loss: 3971.2854 - mae: 3971.2854\n",
      "Epoch 112/200\n",
      "34/34 [==============================] - 0s 5ms/step - loss: 3938.7588 - mae: 3938.7588\n",
      "Epoch 113/200\n",
      "34/34 [==============================] - 0s 4ms/step - loss: 3904.8818 - mae: 3904.8818\n",
      "Epoch 114/200\n",
      "34/34 [==============================] - 0s 5ms/step - loss: 3888.1826 - mae: 3888.1826\n",
      "Epoch 115/200\n",
      "34/34 [==============================] - 0s 6ms/step - loss: 3864.3567 - mae: 3864.3567\n",
      "Epoch 116/200\n",
      "34/34 [==============================] - 0s 5ms/step - loss: 3853.2080 - mae: 3853.2080\n",
      "Epoch 117/200\n",
      "34/34 [==============================] - 0s 6ms/step - loss: 3848.2109 - mae: 3848.2109\n",
      "Epoch 118/200\n",
      "34/34 [==============================] - 0s 6ms/step - loss: 3835.7102 - mae: 3835.7102\n",
      "Epoch 119/200\n",
      "34/34 [==============================] - 0s 6ms/step - loss: 3822.6223 - mae: 3822.6223\n",
      "Epoch 120/200\n",
      "34/34 [==============================] - 0s 6ms/step - loss: 3809.1184 - mae: 3809.1184\n",
      "Epoch 121/200\n",
      "34/34 [==============================] - 0s 4ms/step - loss: 3804.5186 - mae: 3804.5186\n",
      "Epoch 122/200\n",
      "34/34 [==============================] - 0s 5ms/step - loss: 3803.6736 - mae: 3803.6736\n",
      "Epoch 123/200\n",
      "34/34 [==============================] - 0s 6ms/step - loss: 3797.9558 - mae: 3797.9558\n",
      "Epoch 124/200\n",
      "34/34 [==============================] - 0s 3ms/step - loss: 3791.8342 - mae: 3791.8342\n",
      "Epoch 125/200\n",
      "34/34 [==============================] - 0s 4ms/step - loss: 3783.5957 - mae: 3783.5957\n",
      "Epoch 126/200\n",
      "34/34 [==============================] - 0s 4ms/step - loss: 3794.6941 - mae: 3794.6941\n",
      "Epoch 127/200\n",
      "34/34 [==============================] - 0s 4ms/step - loss: 3788.0977 - mae: 3788.0977\n",
      "Epoch 128/200\n",
      "34/34 [==============================] - 0s 2ms/step - loss: 3779.7004 - mae: 3779.7004\n",
      "Epoch 129/200\n",
      "34/34 [==============================] - 0s 3ms/step - loss: 3792.2654 - mae: 3792.2654\n",
      "Epoch 130/200\n",
      "34/34 [==============================] - 0s 2ms/step - loss: 3786.9663 - mae: 3786.9663\n",
      "Epoch 131/200\n",
      "34/34 [==============================] - 0s 3ms/step - loss: 3775.9521 - mae: 3775.9521\n",
      "Epoch 132/200\n",
      "34/34 [==============================] - 0s 4ms/step - loss: 3769.1028 - mae: 3769.1028\n",
      "Epoch 133/200\n",
      "34/34 [==============================] - 0s 3ms/step - loss: 3764.0647 - mae: 3764.0647\n",
      "Epoch 134/200\n",
      "34/34 [==============================] - 0s 4ms/step - loss: 3765.7405 - mae: 3765.7405\n",
      "Epoch 135/200\n",
      "34/34 [==============================] - 0s 4ms/step - loss: 3761.1392 - mae: 3761.1392\n",
      "Epoch 136/200\n",
      "34/34 [==============================] - 0s 3ms/step - loss: 3761.0071 - mae: 3761.0071\n",
      "Epoch 137/200\n",
      "34/34 [==============================] - 0s 4ms/step - loss: 3767.6614 - mae: 3767.6614\n",
      "Epoch 138/200\n",
      "34/34 [==============================] - 0s 5ms/step - loss: 3779.1616 - mae: 3779.1616\n",
      "Epoch 139/200\n",
      "34/34 [==============================] - 0s 4ms/step - loss: 3755.9639 - mae: 3755.9639\n",
      "Epoch 140/200\n",
      "34/34 [==============================] - 0s 5ms/step - loss: 3757.2820 - mae: 3757.2820\n",
      "Epoch 141/200\n",
      "34/34 [==============================] - 0s 4ms/step - loss: 3758.8984 - mae: 3758.8984\n",
      "Epoch 142/200\n",
      "34/34 [==============================] - 0s 4ms/step - loss: 3760.4775 - mae: 3760.4775\n",
      "Epoch 143/200\n",
      "34/34 [==============================] - 0s 5ms/step - loss: 3749.3298 - mae: 3749.3298\n",
      "Epoch 144/200\n",
      "34/34 [==============================] - 0s 4ms/step - loss: 3745.4128 - mae: 3745.4128\n",
      "Epoch 145/200\n",
      "34/34 [==============================] - 0s 4ms/step - loss: 3746.6721 - mae: 3746.6721\n",
      "Epoch 146/200\n",
      "34/34 [==============================] - 0s 4ms/step - loss: 3750.6228 - mae: 3750.6228\n",
      "Epoch 147/200\n",
      "34/34 [==============================] - 0s 3ms/step - loss: 3746.5151 - mae: 3746.5151\n",
      "Epoch 148/200\n",
      "34/34 [==============================] - 0s 4ms/step - loss: 3750.4060 - mae: 3750.4060\n",
      "Epoch 149/200\n",
      "34/34 [==============================] - 0s 4ms/step - loss: 3738.7583 - mae: 3738.7583\n",
      "Epoch 150/200\n",
      "34/34 [==============================] - 0s 6ms/step - loss: 3734.8315 - mae: 3734.8315\n",
      "Epoch 151/200\n",
      "34/34 [==============================] - 0s 4ms/step - loss: 3735.8174 - mae: 3735.8174\n",
      "Epoch 152/200\n",
      "34/34 [==============================] - 0s 5ms/step - loss: 3737.9897 - mae: 3737.9897\n",
      "Epoch 153/200\n",
      "34/34 [==============================] - 0s 3ms/step - loss: 3740.4475 - mae: 3740.4475\n",
      "Epoch 154/200\n",
      "34/34 [==============================] - 0s 3ms/step - loss: 3732.4224 - mae: 3732.4224\n",
      "Epoch 155/200\n",
      "34/34 [==============================] - 0s 4ms/step - loss: 3734.3501 - mae: 3734.3501\n",
      "Epoch 156/200\n",
      "34/34 [==============================] - 0s 4ms/step - loss: 3734.3521 - mae: 3734.3521\n",
      "Epoch 157/200\n",
      "34/34 [==============================] - 0s 4ms/step - loss: 3730.9963 - mae: 3730.9963\n",
      "Epoch 158/200\n",
      "34/34 [==============================] - 0s 4ms/step - loss: 3725.5461 - mae: 3725.5461\n",
      "Epoch 159/200\n",
      "34/34 [==============================] - 0s 3ms/step - loss: 3721.6863 - mae: 3721.6863\n",
      "Epoch 160/200\n",
      "34/34 [==============================] - 0s 4ms/step - loss: 3728.3870 - mae: 3728.3870\n",
      "Epoch 161/200\n",
      "34/34 [==============================] - 0s 4ms/step - loss: 3724.2036 - mae: 3724.2036\n",
      "Epoch 162/200\n",
      "34/34 [==============================] - 0s 6ms/step - loss: 3720.5471 - mae: 3720.5471\n",
      "Epoch 163/200\n",
      "34/34 [==============================] - 0s 5ms/step - loss: 3718.2129 - mae: 3718.2129\n",
      "Epoch 164/200\n",
      "34/34 [==============================] - 0s 4ms/step - loss: 3722.9436 - mae: 3722.9436\n",
      "Epoch 165/200\n",
      "34/34 [==============================] - 0s 4ms/step - loss: 3711.2637 - mae: 3711.2637\n",
      "Epoch 166/200\n",
      "34/34 [==============================] - 0s 4ms/step - loss: 3715.2429 - mae: 3715.2429\n",
      "Epoch 167/200\n",
      "34/34 [==============================] - 0s 4ms/step - loss: 3716.2595 - mae: 3716.2595\n",
      "Epoch 168/200\n",
      "34/34 [==============================] - 0s 4ms/step - loss: 3711.0181 - mae: 3711.0181\n",
      "Epoch 169/200\n",
      "34/34 [==============================] - 0s 5ms/step - loss: 3708.9382 - mae: 3708.9382\n",
      "Epoch 170/200\n",
      "34/34 [==============================] - 0s 4ms/step - loss: 3704.0679 - mae: 3704.0679\n",
      "Epoch 171/200\n",
      "34/34 [==============================] - 0s 4ms/step - loss: 3703.7026 - mae: 3703.7026\n",
      "Epoch 172/200\n",
      "34/34 [==============================] - 0s 3ms/step - loss: 3706.4031 - mae: 3706.4031\n",
      "Epoch 173/200\n",
      "34/34 [==============================] - 0s 6ms/step - loss: 3700.4460 - mae: 3700.4460\n",
      "Epoch 174/200\n",
      "34/34 [==============================] - 0s 5ms/step - loss: 3704.8179 - mae: 3704.8179\n",
      "Epoch 175/200\n",
      "34/34 [==============================] - 0s 3ms/step - loss: 3707.5508 - mae: 3707.5508\n",
      "Epoch 176/200\n",
      "34/34 [==============================] - 0s 4ms/step - loss: 3702.0613 - mae: 3702.0613\n",
      "Epoch 177/200\n",
      "34/34 [==============================] - 0s 4ms/step - loss: 3695.1165 - mae: 3695.1165\n",
      "Epoch 178/200\n",
      "34/34 [==============================] - 0s 4ms/step - loss: 3689.6511 - mae: 3689.6511\n",
      "Epoch 179/200\n",
      "34/34 [==============================] - 0s 4ms/step - loss: 3704.0913 - mae: 3704.0913\n",
      "Epoch 180/200\n",
      "34/34 [==============================] - 0s 4ms/step - loss: 3707.0508 - mae: 3707.0508\n",
      "Epoch 181/200\n",
      "34/34 [==============================] - 0s 3ms/step - loss: 3692.0583 - mae: 3692.0583\n",
      "Epoch 182/200\n",
      "34/34 [==============================] - 0s 3ms/step - loss: 3688.5811 - mae: 3688.5811\n",
      "Epoch 183/200\n",
      "34/34 [==============================] - 0s 3ms/step - loss: 3687.0771 - mae: 3687.0771\n",
      "Epoch 184/200\n",
      "34/34 [==============================] - 0s 4ms/step - loss: 3694.1196 - mae: 3694.1196\n",
      "Epoch 185/200\n",
      "34/34 [==============================] - 0s 4ms/step - loss: 3689.5835 - mae: 3689.5835\n",
      "Epoch 186/200\n",
      "34/34 [==============================] - 0s 4ms/step - loss: 3690.4038 - mae: 3690.4038\n",
      "Epoch 187/200\n",
      "34/34 [==============================] - 0s 5ms/step - loss: 3683.3914 - mae: 3683.3914\n",
      "Epoch 188/200\n",
      "34/34 [==============================] - 0s 4ms/step - loss: 3689.9250 - mae: 3689.9250\n",
      "Epoch 189/200\n",
      "34/34 [==============================] - 0s 3ms/step - loss: 3679.5293 - mae: 3679.5293\n",
      "Epoch 190/200\n",
      "34/34 [==============================] - 0s 4ms/step - loss: 3680.1465 - mae: 3680.1465\n",
      "Epoch 191/200\n",
      "34/34 [==============================] - 0s 2ms/step - loss: 3694.1646 - mae: 3694.1646\n",
      "Epoch 192/200\n",
      "34/34 [==============================] - 0s 2ms/step - loss: 3680.5667 - mae: 3680.5667\n",
      "Epoch 193/200\n",
      "34/34 [==============================] - 0s 5ms/step - loss: 3671.1008 - mae: 3671.1008\n",
      "Epoch 194/200\n",
      "34/34 [==============================] - 0s 4ms/step - loss: 3672.8750 - mae: 3672.8750\n",
      "Epoch 195/200\n",
      "34/34 [==============================] - 0s 4ms/step - loss: 3668.9260 - mae: 3668.9260\n",
      "Epoch 196/200\n",
      "34/34 [==============================] - 0s 5ms/step - loss: 3679.0588 - mae: 3679.0588\n",
      "Epoch 197/200\n",
      "34/34 [==============================] - 0s 5ms/step - loss: 3662.6719 - mae: 3662.6719\n",
      "Epoch 198/200\n",
      "34/34 [==============================] - 0s 4ms/step - loss: 3668.1323 - mae: 3668.1323\n",
      "Epoch 199/200\n",
      "34/34 [==============================] - 0s 3ms/step - loss: 3677.4409 - mae: 3677.4409\n",
      "Epoch 200/200\n",
      "34/34 [==============================] - 0s 4ms/step - loss: 3663.3484 - mae: 3663.3484\n"
     ]
    }
   ],
   "source": [
    "# Set random seed\n",
    "tf.random.set_seed(42)\n",
    "\n",
    "# 1. Create the model (same as above)\n",
    "insurance_model_3 = tf.keras.Sequential([\n",
    "    tf.keras.layers.Dense(100),\n",
    "    tf.keras.layers.Dense(10),\n",
    "    tf.keras.layers.Dense(1)\n",
    "])\n",
    "\n",
    "# 2. Compile the model\n",
    "insurance_model_3.compile(loss=tf.keras.losses.mae,\n",
    "                          optimizer=tf.keras.optimizers.Adam(),\n",
    "                          metrics=[\"mae\"])\n",
    "\n",
    "# 3. Fit the model\n",
    "history = insurance_model_3.fit(X_train, y_train, epochs=200)"
   ],
   "metadata": {
    "collapsed": false,
    "ExecuteTime": {
     "end_time": "2024-01-08T06:44:33.894558522Z",
     "start_time": "2024-01-08T06:44:00.574853565Z"
    }
   },
   "id": "56ece3f24d5d2b4",
   "execution_count": 93
  },
  {
   "cell_type": "code",
   "outputs": [
    {
     "name": "stdout",
     "output_type": "stream",
     "text": [
      "9/9 [==============================] - 0s 3ms/step - loss: 3487.2744 - mae: 3487.2744\n"
     ]
    },
    {
     "data": {
      "text/plain": "[3487.2744140625, 3487.2744140625]"
     },
     "execution_count": 94,
     "metadata": {},
     "output_type": "execute_result"
    }
   ],
   "source": [
    "# Evaluate our third model\n",
    "insurance_model_3.evaluate(X_test, y_test)"
   ],
   "metadata": {
    "collapsed": false,
    "ExecuteTime": {
     "end_time": "2024-01-08T06:44:38.764613535Z",
     "start_time": "2024-01-08T06:44:38.337596943Z"
    }
   },
   "id": "3f4dc53266f65536",
   "execution_count": 94
  },
  {
   "cell_type": "code",
   "outputs": [
    {
     "name": "stdout",
     "output_type": "stream",
     "text": [
      "9/9 [==============================] - 0s 4ms/step - loss: 7106.4238 - mae: 7106.4238\n"
     ]
    },
    {
     "data": {
      "text/plain": "[7106.423828125, 7106.423828125]"
     },
     "execution_count": 95,
     "metadata": {},
     "output_type": "execute_result"
    }
   ],
   "source": [
    "insurance_model.evaluate(X_test, y_test)"
   ],
   "metadata": {
    "collapsed": false,
    "ExecuteTime": {
     "end_time": "2024-01-08T06:44:40.107410982Z",
     "start_time": "2024-01-08T06:44:39.894078057Z"
    }
   },
   "id": "73bee1d426123d5e",
   "execution_count": 95
  },
  {
   "cell_type": "code",
   "outputs": [
    {
     "data": {
      "text/plain": "Text(0.5, 0, 'epochs')"
     },
     "execution_count": 96,
     "metadata": {},
     "output_type": "execute_result"
    },
    {
     "data": {
      "text/plain": "<Figure size 640x480 with 1 Axes>",
      "image/png": "[encoded data removed]"
     },
     "metadata": {},
     "output_type": "display_data"
    }
   ],
   "source": [
    "# Plot history (also known as a loss curve or a training curve)\n",
    "pd.DataFrame(history.history).plot()\n",
    "plt.ylabel(\"loss\")\n",
    "plt.xlabel(\"epochs\")"
   ],
   "metadata": {
    "collapsed": false,
    "ExecuteTime": {
     "end_time": "2024-01-08T06:44:41.393878738Z",
     "start_time": "2024-01-08T06:44:41.213164609Z"
    }
   },
   "id": "492df7d0a97992e9",
   "execution_count": 96
  },
  {
   "cell_type": "markdown",
   "source": [
    "> 🤔 **Question:** How long should you train for? \n",
    "\n",
    "It depends. Really... it depends on the problem you're working on. However, many people have asked this question before... so TensorFlow has a solution! It's called the [EarlyStopping Callback](https://www.tensorflow.org/api_docs/python/tf/keras/callbacks/EarlyStopping), which is a TensorFlow component you can add to your model to stop training once it stops improving a certain metric."
   ],
   "metadata": {
    "collapsed": false
   },
   "id": "e7db529b9bae5eae"
  },
  {
   "cell_type": "markdown",
   "source": [
    "## Preprocessing data (normalization and standardization)\n",
    "\n",
    "In terms of scalimg values, neural networks tend to prefer normalization.\n",
    "\n",
    "If you're not sure on which to use, you could try both and see which performs better."
   ],
   "metadata": {
    "collapsed": false
   },
   "id": "48dd68ad2f5d20e4"
  },
  {
   "cell_type": "code",
   "outputs": [
    {
     "data": {
      "text/plain": "      age     sex     bmi  children smoker     region      charges\n0      19  female  27.900         0    yes  southwest  16884.92400\n1      18    male  33.770         1     no  southeast   1725.55230\n2      28    male  33.000         3     no  southeast   4449.46200\n3      33    male  22.705         0     no  northwest  21984.47061\n4      32    male  28.880         0     no  northwest   3866.85520\n...   ...     ...     ...       ...    ...        ...          ...\n1333   50    male  30.970         3     no  northwest  10600.54830\n1334   18  female  31.920         0     no  northeast   2205.98080\n1335   18  female  36.850         0     no  southeast   1629.83350\n1336   21  female  25.800         0     no  southwest   2007.94500\n1337   61  female  29.070         0    yes  northwest  29141.36030\n\n[1338 rows x 7 columns]",
      "text/html": "<div>\n<style scoped>\n    .dataframe tbody tr th:only-of-type {\n        vertical-align: middle;\n    }\n\n    .dataframe tbody tr th {\n        vertical-align: top;\n    }\n\n    .dataframe thead th {\n        text-align: right;\n    }\n</style>\n<table border=\"1\" class=\"dataframe\">\n  <thead>\n    <tr style=\"text-align: right;\">\n      <th></th>\n      <th>age</th>\n      <th>sex</th>\n      <th>bmi</th>\n      <th>children</th>\n      <th>smoker</th>\n      <th>region</th>\n      <th>charges</th>\n    </tr>\n  </thead>\n  <tbody>\n    <tr>\n      <th>0</th>\n      <td>19</td>\n      <td>female</td>\n      <td>27.900</td>\n      <td>0</td>\n      <td>yes</td>\n      <td>southwest</td>\n      <td>16884.92400</td>\n    </tr>\n    <tr>\n      <th>1</th>\n      <td>18</td>\n      <td>male</td>\n      <td>33.770</td>\n      <td>1</td>\n      <td>no</td>\n      <td>southeast</td>\n      <td>1725.55230</td>\n    </tr>\n    <tr>\n      <th>2</th>\n      <td>28</td>\n      <td>male</td>\n      <td>33.000</td>\n      <td>3</td>\n      <td>no</td>\n      <td>southeast</td>\n      <td>4449.46200</td>\n    </tr>\n    <tr>\n      <th>3</th>\n      <td>33</td>\n      <td>male</td>\n      <td>22.705</td>\n      <td>0</td>\n      <td>no</td>\n      <td>northwest</td>\n      <td>21984.47061</td>\n    </tr>\n    <tr>\n      <th>4</th>\n      <td>32</td>\n      <td>male</td>\n      <td>28.880</td>\n      <td>0</td>\n      <td>no</td>\n      <td>northwest</td>\n      <td>3866.85520</td>\n    </tr>\n    <tr>\n      <th>...</th>\n      <td>...</td>\n      <td>...</td>\n      <td>...</td>\n      <td>...</td>\n      <td>...</td>\n      <td>...</td>\n      <td>...</td>\n    </tr>\n    <tr>\n      <th>1333</th>\n      <td>50</td>\n      <td>male</td>\n      <td>30.970</td>\n      <td>3</td>\n      <td>no</td>\n      <td>northwest</td>\n      <td>10600.54830</td>\n    </tr>\n    <tr>\n      <th>1334</th>\n      <td>18</td>\n      <td>female</td>\n      <td>31.920</td>\n      <td>0</td>\n      <td>no</td>\n      <td>northeast</td>\n      <td>2205.98080</td>\n    </tr>\n    <tr>\n      <th>1335</th>\n      <td>18</td>\n      <td>female</td>\n      <td>36.850</td>\n      <td>0</td>\n      <td>no</td>\n      <td>southeast</td>\n      <td>1629.83350</td>\n    </tr>\n    <tr>\n      <th>1336</th>\n      <td>21</td>\n      <td>female</td>\n      <td>25.800</td>\n      <td>0</td>\n      <td>no</td>\n      <td>southwest</td>\n      <td>2007.94500</td>\n    </tr>\n    <tr>\n      <th>1337</th>\n      <td>61</td>\n      <td>female</td>\n      <td>29.070</td>\n      <td>0</td>\n      <td>yes</td>\n      <td>northwest</td>\n      <td>29141.36030</td>\n    </tr>\n  </tbody>\n</table>\n<p>1338 rows × 7 columns</p>\n</div>"
     },
     "execution_count": 97,
     "metadata": {},
     "output_type": "execute_result"
    }
   ],
   "source": [
    "import pandas as pd\n",
    "import matplotlib.pyplot as plt\n",
    "import tensorflow as tf\n",
    "\n",
    "# Read in the insurance dataframe\n",
    "insurance = pd.read_csv(\"Dataset/insurance.csv\")\n",
    "insurance"
   ],
   "metadata": {
    "collapsed": false,
    "ExecuteTime": {
     "end_time": "2024-01-08T06:44:47.877079585Z",
     "start_time": "2024-01-08T06:44:47.816765538Z"
    }
   },
   "id": "6bd1bd58c7317a5",
   "execution_count": 97
  },
  {
   "cell_type": "markdown",
   "source": [
    "To prepare our data, we can borrow a few classes from Scikit-Learn."
   ],
   "metadata": {
    "collapsed": false
   },
   "id": "5877de47754a1938"
  },
  {
   "cell_type": "code",
   "outputs": [],
   "source": [
    "from sklearn.compose import make_column_transformer\n",
    "from sklearn.preprocessing import MinMaxScaler, OneHotEncoder\n",
    "from sklearn.model_selection import train_test_split\n",
    "\n",
    "# Create a column transformer\n",
    "ct = make_column_transformer(\n",
    "    (MinMaxScaler(), [\"age\", \"bmi\", \"children\"]), # turn all values in theese columns between 0 and 1\n",
    "    (OneHotEncoder(handle_unknown=\"ignore\"), [\"sex\", \"smoker\", \"region\"])\n",
    ")\n",
    "\n",
    "# Create X & y\n",
    "X = insurance.drop(\"charges\", axis=1)\n",
    "y = insurance[\"charges\"]\n",
    "\n",
    "# Build our train and test sets\n",
    "X_train, X_test, y_train, y_test = train_test_split(X, y, test_size=0.2, random_state=42)\n",
    "\n",
    "# Fit the column transformer to our training data\n",
    "ct.fit(X_train)\n",
    "\n",
    "# Transform training and test data with normalization (MinMaxScaler) and OneHotEncoder\n",
    "X_train_normal = ct.transform(X_train)\n",
    "X_test_normal = ct.transform(X_test)"
   ],
   "metadata": {
    "collapsed": false,
    "ExecuteTime": {
     "end_time": "2024-01-08T06:44:51.384429250Z",
     "start_time": "2024-01-08T06:44:51.324865738Z"
    }
   },
   "id": "352e885019844f76",
   "execution_count": 98
  },
  {
   "cell_type": "code",
   "outputs": [
    {
     "data": {
      "text/plain": "age                19\nsex            female\nbmi              27.9\nchildren            0\nsmoker            yes\nregion      southwest\nName: 0, dtype: object"
     },
     "execution_count": 99,
     "metadata": {},
     "output_type": "execute_result"
    }
   ],
   "source": [
    "# What does our data look like now?\n",
    "X_train.loc[0]"
   ],
   "metadata": {
    "collapsed": false,
    "ExecuteTime": {
     "end_time": "2024-01-08T06:44:52.486999051Z",
     "start_time": "2024-01-08T06:44:52.435913557Z"
    }
   },
   "id": "2d471eb84effea5c",
   "execution_count": 99
  },
  {
   "cell_type": "code",
   "outputs": [
    {
     "data": {
      "text/plain": "array([0.60869565, 0.10734463, 0.4       , 1.        , 0.        ,\n       1.        , 0.        , 0.        , 1.        , 0.        ,\n       0.        ])"
     },
     "execution_count": 100,
     "metadata": {},
     "output_type": "execute_result"
    }
   ],
   "source": [
    "X_train_normal[0]"
   ],
   "metadata": {
    "collapsed": false,
    "ExecuteTime": {
     "end_time": "2024-01-08T06:44:53.348227698Z",
     "start_time": "2024-01-08T06:44:53.300410596Z"
    }
   },
   "id": "c613d71fa18039fd",
   "execution_count": 100
  },
  {
   "cell_type": "code",
   "outputs": [
    {
     "data": {
      "text/plain": "((1070, 6), (1070, 11))"
     },
     "execution_count": 101,
     "metadata": {},
     "output_type": "execute_result"
    }
   ],
   "source": [
    "X_train.shape, X_train_normal.shape"
   ],
   "metadata": {
    "collapsed": false,
    "ExecuteTime": {
     "end_time": "2024-01-08T06:44:54.275357175Z",
     "start_time": "2024-01-08T06:44:54.210881959Z"
    }
   },
   "id": "e3718cd0531b4824",
   "execution_count": 101
  },
  {
   "cell_type": "code",
   "outputs": [
    {
     "name": "stdout",
     "output_type": "stream",
     "text": [
      "Epoch 1/100\n",
      "34/34 [==============================] - 1s 5ms/step - loss: 13344.2344 - mae: 13344.2344\n",
      "Epoch 2/100\n",
      "34/34 [==============================] - 0s 4ms/step - loss: 13335.2773 - mae: 13335.2773\n",
      "Epoch 3/100\n",
      "34/34 [==============================] - 0s 4ms/step - loss: 13313.6934 - mae: 13313.6934\n",
      "Epoch 4/100\n",
      "34/34 [==============================] - 0s 3ms/step - loss: 13268.8359 - mae: 13268.8359\n",
      "Epoch 5/100\n",
      "34/34 [==============================] - 0s 3ms/step - loss: 13189.2207 - mae: 13189.2207\n",
      "Epoch 6/100\n",
      "34/34 [==============================] - 0s 3ms/step - loss: 13063.0449 - mae: 13063.0449\n",
      "Epoch 7/100\n",
      "34/34 [==============================] - 0s 2ms/step - loss: 12879.4922 - mae: 12879.4922\n",
      "Epoch 8/100\n",
      "34/34 [==============================] - 0s 3ms/step - loss: 12628.3643 - mae: 12628.3643\n",
      "Epoch 9/100\n",
      "34/34 [==============================] - 0s 3ms/step - loss: 12299.6396 - mae: 12299.6396\n",
      "Epoch 10/100\n",
      "34/34 [==============================] - 0s 2ms/step - loss: 11890.2119 - mae: 11890.2119\n",
      "Epoch 11/100\n",
      "34/34 [==============================] - 0s 2ms/step - loss: 11410.6045 - mae: 11410.6045\n",
      "Epoch 12/100\n",
      "34/34 [==============================] - 0s 3ms/step - loss: 10901.8633 - mae: 10901.8633\n",
      "Epoch 13/100\n",
      "34/34 [==============================] - 0s 3ms/step - loss: 10398.1318 - mae: 10398.1318\n",
      "Epoch 14/100\n",
      "34/34 [==============================] - 0s 4ms/step - loss: 9903.9980 - mae: 9903.9980\n",
      "Epoch 15/100\n",
      "34/34 [==============================] - 0s 3ms/step - loss: 9437.7754 - mae: 9437.7754\n",
      "Epoch 16/100\n",
      "34/34 [==============================] - 0s 2ms/step - loss: 9023.8799 - mae: 9023.8799\n",
      "Epoch 17/100\n",
      "34/34 [==============================] - 0s 5ms/step - loss: 8684.8076 - mae: 8684.8076\n",
      "Epoch 18/100\n",
      "34/34 [==============================] - 0s 4ms/step - loss: 8409.5234 - mae: 8409.5234\n",
      "Epoch 19/100\n",
      "34/34 [==============================] - 0s 5ms/step - loss: 8205.7412 - mae: 8205.7412\n",
      "Epoch 20/100\n",
      "34/34 [==============================] - 0s 5ms/step - loss: 8065.1606 - mae: 8065.1606\n",
      "Epoch 21/100\n",
      "34/34 [==============================] - 0s 3ms/step - loss: 7959.3169 - mae: 7959.3169\n",
      "Epoch 22/100\n",
      "34/34 [==============================] - 0s 4ms/step - loss: 7886.7363 - mae: 7886.7363\n",
      "Epoch 23/100\n",
      "34/34 [==============================] - 0s 4ms/step - loss: 7829.4243 - mae: 7829.4243\n",
      "Epoch 24/100\n",
      "34/34 [==============================] - 0s 4ms/step - loss: 7777.7466 - mae: 7777.7466\n",
      "Epoch 25/100\n",
      "34/34 [==============================] - 0s 3ms/step - loss: 7739.0005 - mae: 7739.0005\n",
      "Epoch 26/100\n",
      "34/34 [==============================] - 0s 3ms/step - loss: 7687.3135 - mae: 7687.3135\n",
      "Epoch 27/100\n",
      "34/34 [==============================] - 0s 4ms/step - loss: 7644.9839 - mae: 7644.9839\n",
      "Epoch 28/100\n",
      "34/34 [==============================] - 0s 4ms/step - loss: 7601.8906 - mae: 7601.8906\n",
      "Epoch 29/100\n",
      "34/34 [==============================] - 0s 4ms/step - loss: 7558.8481 - mae: 7558.8481\n",
      "Epoch 30/100\n",
      "34/34 [==============================] - 0s 4ms/step - loss: 7514.6357 - mae: 7514.6357\n",
      "Epoch 31/100\n",
      "34/34 [==============================] - 0s 4ms/step - loss: 7470.0107 - mae: 7470.0107\n",
      "Epoch 32/100\n",
      "34/34 [==============================] - 0s 5ms/step - loss: 7425.0659 - mae: 7425.0659\n",
      "Epoch 33/100\n",
      "34/34 [==============================] - 0s 5ms/step - loss: 7379.8169 - mae: 7379.8169\n",
      "Epoch 34/100\n",
      "34/34 [==============================] - 0s 5ms/step - loss: 7330.7202 - mae: 7330.7202\n",
      "Epoch 35/100\n",
      "34/34 [==============================] - 0s 5ms/step - loss: 7282.9263 - mae: 7282.9263\n",
      "Epoch 36/100\n",
      "34/34 [==============================] - 0s 5ms/step - loss: 7231.6758 - mae: 7231.6758\n",
      "Epoch 37/100\n",
      "34/34 [==============================] - 0s 6ms/step - loss: 7180.2183 - mae: 7180.2183\n",
      "Epoch 38/100\n",
      "34/34 [==============================] - 0s 6ms/step - loss: 7128.1445 - mae: 7128.1445\n",
      "Epoch 39/100\n",
      "34/34 [==============================] - 0s 6ms/step - loss: 7072.0176 - mae: 7072.0176\n",
      "Epoch 40/100\n",
      "34/34 [==============================] - 0s 5ms/step - loss: 7015.2925 - mae: 7015.2925\n",
      "Epoch 41/100\n",
      "34/34 [==============================] - 0s 5ms/step - loss: 6957.3926 - mae: 6957.3926\n",
      "Epoch 42/100\n",
      "34/34 [==============================] - 0s 6ms/step - loss: 6897.0127 - mae: 6897.0127\n",
      "Epoch 43/100\n",
      "34/34 [==============================] - 0s 6ms/step - loss: 6832.6353 - mae: 6832.6353\n",
      "Epoch 44/100\n",
      "34/34 [==============================] - 0s 6ms/step - loss: 6764.5107 - mae: 6764.5107\n",
      "Epoch 45/100\n",
      "34/34 [==============================] - 0s 4ms/step - loss: 6695.3164 - mae: 6695.3164\n",
      "Epoch 46/100\n",
      "34/34 [==============================] - 0s 7ms/step - loss: 6624.1973 - mae: 6624.1973\n",
      "Epoch 47/100\n",
      "34/34 [==============================] - 0s 8ms/step - loss: 6550.4897 - mae: 6550.4897\n",
      "Epoch 48/100\n",
      "34/34 [==============================] - 0s 5ms/step - loss: 6469.3242 - mae: 6469.3242\n",
      "Epoch 49/100\n",
      "34/34 [==============================] - 0s 6ms/step - loss: 6387.5210 - mae: 6387.5210\n",
      "Epoch 50/100\n",
      "34/34 [==============================] - 0s 5ms/step - loss: 6299.3486 - mae: 6299.3486\n",
      "Epoch 51/100\n",
      "34/34 [==============================] - 0s 6ms/step - loss: 6211.9136 - mae: 6211.9136\n",
      "Epoch 52/100\n",
      "34/34 [==============================] - 0s 4ms/step - loss: 6115.8081 - mae: 6115.8081\n",
      "Epoch 53/100\n",
      "34/34 [==============================] - 0s 4ms/step - loss: 6016.4775 - mae: 6016.4775\n",
      "Epoch 54/100\n",
      "34/34 [==============================] - 0s 4ms/step - loss: 5913.9961 - mae: 5913.9961\n",
      "Epoch 55/100\n",
      "34/34 [==============================] - 0s 4ms/step - loss: 5803.1914 - mae: 5803.1914\n",
      "Epoch 56/100\n",
      "34/34 [==============================] - 0s 5ms/step - loss: 5690.9487 - mae: 5690.9487\n",
      "Epoch 57/100\n",
      "34/34 [==============================] - 0s 5ms/step - loss: 5571.9429 - mae: 5571.9429\n",
      "Epoch 58/100\n",
      "34/34 [==============================] - 0s 5ms/step - loss: 5452.8486 - mae: 5452.8486\n",
      "Epoch 59/100\n",
      "34/34 [==============================] - 0s 4ms/step - loss: 5329.8701 - mae: 5329.8701\n",
      "Epoch 60/100\n",
      "34/34 [==============================] - 0s 4ms/step - loss: 5203.7490 - mae: 5203.7490\n",
      "Epoch 61/100\n",
      "34/34 [==============================] - 0s 4ms/step - loss: 5075.4175 - mae: 5075.4175\n",
      "Epoch 62/100\n",
      "34/34 [==============================] - 0s 5ms/step - loss: 4941.4209 - mae: 4941.4209\n",
      "Epoch 63/100\n",
      "34/34 [==============================] - 0s 4ms/step - loss: 4810.9829 - mae: 4810.9829\n",
      "Epoch 64/100\n",
      "34/34 [==============================] - 0s 3ms/step - loss: 4678.1714 - mae: 4678.1714\n",
      "Epoch 65/100\n",
      "34/34 [==============================] - 0s 5ms/step - loss: 4552.8325 - mae: 4552.8325\n",
      "Epoch 66/100\n",
      "34/34 [==============================] - 0s 4ms/step - loss: 4433.7236 - mae: 4433.7236\n",
      "Epoch 67/100\n",
      "34/34 [==============================] - 0s 4ms/step - loss: 4327.6650 - mae: 4327.6650\n",
      "Epoch 68/100\n",
      "34/34 [==============================] - 0s 4ms/step - loss: 4222.3989 - mae: 4222.3989\n",
      "Epoch 69/100\n",
      "34/34 [==============================] - 0s 3ms/step - loss: 4124.8804 - mae: 4124.8804\n",
      "Epoch 70/100\n",
      "34/34 [==============================] - 0s 4ms/step - loss: 4036.5322 - mae: 4036.5322\n",
      "Epoch 71/100\n",
      "34/34 [==============================] - 0s 5ms/step - loss: 3957.1814 - mae: 3957.1814\n",
      "Epoch 72/100\n",
      "34/34 [==============================] - 0s 5ms/step - loss: 3888.4717 - mae: 3888.4717\n",
      "Epoch 73/100\n",
      "34/34 [==============================] - 0s 5ms/step - loss: 3833.2815 - mae: 3833.2815\n",
      "Epoch 74/100\n",
      "34/34 [==============================] - 0s 4ms/step - loss: 3785.7803 - mae: 3785.7803\n",
      "Epoch 75/100\n",
      "34/34 [==============================] - 0s 4ms/step - loss: 3752.3838 - mae: 3752.3838\n",
      "Epoch 76/100\n",
      "34/34 [==============================] - 0s 3ms/step - loss: 3728.1973 - mae: 3728.1973\n",
      "Epoch 77/100\n",
      "34/34 [==============================] - 0s 4ms/step - loss: 3708.2087 - mae: 3708.2087\n",
      "Epoch 78/100\n",
      "34/34 [==============================] - 0s 5ms/step - loss: 3695.7925 - mae: 3695.7925\n",
      "Epoch 79/100\n",
      "34/34 [==============================] - 0s 5ms/step - loss: 3686.2280 - mae: 3686.2280\n",
      "Epoch 80/100\n",
      "34/34 [==============================] - 0s 4ms/step - loss: 3678.5461 - mae: 3678.5461\n",
      "Epoch 81/100\n",
      "34/34 [==============================] - 0s 4ms/step - loss: 3673.7151 - mae: 3673.7151\n",
      "Epoch 82/100\n",
      "34/34 [==============================] - 0s 4ms/step - loss: 3670.7612 - mae: 3670.7612\n",
      "Epoch 83/100\n",
      "34/34 [==============================] - 0s 4ms/step - loss: 3665.5205 - mae: 3665.5205\n",
      "Epoch 84/100\n",
      "34/34 [==============================] - 0s 4ms/step - loss: 3662.9294 - mae: 3662.9294\n",
      "Epoch 85/100\n",
      "34/34 [==============================] - 0s 4ms/step - loss: 3660.7434 - mae: 3660.7434\n",
      "Epoch 86/100\n",
      "34/34 [==============================] - 0s 4ms/step - loss: 3659.3516 - mae: 3659.3516\n",
      "Epoch 87/100\n",
      "34/34 [==============================] - 0s 6ms/step - loss: 3656.5916 - mae: 3656.5916\n",
      "Epoch 88/100\n",
      "34/34 [==============================] - 0s 4ms/step - loss: 3654.1279 - mae: 3654.1279\n",
      "Epoch 89/100\n",
      "34/34 [==============================] - 0s 4ms/step - loss: 3653.2915 - mae: 3653.2915\n",
      "Epoch 90/100\n",
      "34/34 [==============================] - 0s 4ms/step - loss: 3651.3767 - mae: 3651.3767\n",
      "Epoch 91/100\n",
      "34/34 [==============================] - 0s 4ms/step - loss: 3648.1819 - mae: 3648.1819\n",
      "Epoch 92/100\n",
      "34/34 [==============================] - 0s 4ms/step - loss: 3647.6248 - mae: 3647.6248\n",
      "Epoch 93/100\n",
      "34/34 [==============================] - 0s 4ms/step - loss: 3645.2852 - mae: 3645.2852\n",
      "Epoch 94/100\n",
      "34/34 [==============================] - 0s 4ms/step - loss: 3643.6533 - mae: 3643.6533\n",
      "Epoch 95/100\n",
      "34/34 [==============================] - 0s 4ms/step - loss: 3644.6182 - mae: 3644.6182\n",
      "Epoch 96/100\n",
      "34/34 [==============================] - 0s 5ms/step - loss: 3641.6096 - mae: 3641.6096\n",
      "Epoch 97/100\n",
      "34/34 [==============================] - 0s 4ms/step - loss: 3639.2249 - mae: 3639.2249\n",
      "Epoch 98/100\n",
      "34/34 [==============================] - 0s 4ms/step - loss: 3637.1162 - mae: 3637.1162\n",
      "Epoch 99/100\n",
      "34/34 [==============================] - 0s 6ms/step - loss: 3636.2820 - mae: 3636.2820\n",
      "Epoch 100/100\n",
      "34/34 [==============================] - 0s 5ms/step - loss: 3635.0869 - mae: 3635.0869\n"
     ]
    },
    {
     "data": {
      "text/plain": "<keras.callbacks.History at 0x7f36855288d0>"
     },
     "execution_count": 102,
     "metadata": {},
     "output_type": "execute_result"
    }
   ],
   "source": [
    "# Build a neural network model to fit on our normalized data\n",
    "tf.random.set_seed(42)\n",
    "\n",
    "# 1. Create the model\n",
    "insurance_model_4 = tf.keras.Sequential([\n",
    "    tf.keras.layers.Dense(100),\n",
    "    tf.keras.layers.Dense(10),\n",
    "    tf.keras.layers.Dense(1)\n",
    "])\n",
    "\n",
    "# 2. Compile the model\n",
    "insurance_model_4.compile(loss=tf.keras.losses.mae,\n",
    "                          optimizer=tf.keras.optimizers.Adam(),\n",
    "                          metrics=[\"mae\"])\n",
    "\n",
    "# 3. Fit the model\n",
    "insurance_model_4.fit(X_train_normal, y_train, epochs=100)"
   ],
   "metadata": {
    "collapsed": false,
    "ExecuteTime": {
     "end_time": "2024-01-08T06:45:11.656113067Z",
     "start_time": "2024-01-08T06:44:55.015328173Z"
    }
   },
   "id": "1e2657ffce7804e5",
   "execution_count": 102
  },
  {
   "cell_type": "code",
   "outputs": [
    {
     "name": "stdout",
     "output_type": "stream",
     "text": [
      "9/9 [==============================] - 0s 4ms/step - loss: 3437.4707 - mae: 3437.4707\n"
     ]
    },
    {
     "data": {
      "text/plain": "[3437.470703125, 3437.470703125]"
     },
     "execution_count": 103,
     "metadata": {},
     "output_type": "execute_result"
    }
   ],
   "source": [
    "# Evaluate our insurance model trained on normalized data\n",
    "insurance_model_4.evaluate(X_test_normal, y_test)"
   ],
   "metadata": {
    "collapsed": false,
    "ExecuteTime": {
     "end_time": "2024-01-08T06:45:20.327425446Z",
     "start_time": "2024-01-08T06:45:20.080918723Z"
    }
   },
   "id": "4fb3b657b6097d3",
   "execution_count": 103
  },
  {
   "cell_type": "code",
   "outputs": [],
   "source": [
    "# Insurance model 2 results\n",
    "# 9/9 [==============================] - 0s 8ms/step - loss: 4895.3872 - mae: 4895.3872"
   ],
   "metadata": {
    "collapsed": false,
    "ExecuteTime": {
     "end_time": "2024-01-08T06:45:21.500261647Z",
     "start_time": "2024-01-08T06:45:21.447375099Z"
    }
   },
   "id": "91e076f0b6a086c1",
   "execution_count": 104
  },
  {
   "cell_type": "code",
   "outputs": [
    {
     "name": "stdout",
     "output_type": "stream",
     "text": [
      "Model: \"sequential_8\"\n",
      "_________________________________________________________________\n",
      " Layer (type)                Output Shape              Param #   \n",
      "=================================================================\n",
      " dense_12 (Dense)            (None, 100)               1200      \n",
      "                                                                 \n",
      " dense_13 (Dense)            (None, 10)                1010      \n",
      "                                                                 \n",
      " dense_14 (Dense)            (None, 1)                 11        \n",
      "                                                                 \n",
      "=================================================================\n",
      "Total params: 2,221\n",
      "Trainable params: 2,221\n",
      "Non-trainable params: 0\n",
      "_________________________________________________________________\n"
     ]
    }
   ],
   "source": [
    "insurance_model_2.summary()"
   ],
   "metadata": {
    "collapsed": false,
    "ExecuteTime": {
     "end_time": "2024-01-08T06:45:22.439402467Z",
     "start_time": "2024-01-08T06:45:22.383709177Z"
    }
   },
   "id": "1c3942305d559523",
   "execution_count": 105
  },
  {
   "cell_type": "markdown",
   "source": [
    "Beautiful! Our data has been normalized and one hot encoded.\n",
    "Now let's build neural network model on it and see how it goes."
   ],
   "metadata": {
    "collapsed": false
   },
   "id": "d6820b5f46da4b9d"
  },
  {
   "cell_type": "code",
   "outputs": [
    {
     "data": {
      "text/plain": "<Axes: ylabel='Frequency'>"
     },
     "execution_count": 106,
     "metadata": {},
     "output_type": "execute_result"
    },
    {
     "data": {
      "text/plain": "<Figure size 640x480 with 1 Axes>",
      "image/png": "[encoded data removed]"
     },
     "metadata": {},
     "output_type": "display_data"
    }
   ],
   "source": [
    "X[\"age\"].plot(kind=\"hist\")"
   ],
   "metadata": {
    "collapsed": false,
    "ExecuteTime": {
     "end_time": "2024-01-08T06:45:24.238654327Z",
     "start_time": "2024-01-08T06:45:24.107997459Z"
    }
   },
   "id": "55f0b1c8e43799f2",
   "execution_count": 106
  },
  {
   "cell_type": "code",
   "outputs": [
    {
     "data": {
      "text/plain": "<Axes: ylabel='Frequency'>"
     },
     "execution_count": 107,
     "metadata": {},
     "output_type": "execute_result"
    },
    {
     "data": {
      "text/plain": "<Figure size 640x480 with 1 Axes>",
      "image/png": "[encoded data removed]"
     },
     "metadata": {},
     "output_type": "display_data"
    }
   ],
   "source": [
    "X[\"bmi\"].plot(kind=\"hist\")"
   ],
   "metadata": {
    "collapsed": false,
    "ExecuteTime": {
     "end_time": "2024-01-08T06:45:25.194644672Z",
     "start_time": "2024-01-08T06:45:25.010149379Z"
    }
   },
   "id": "15141e0658c7ff0d",
   "execution_count": 107
  },
  {
   "cell_type": "code",
   "outputs": [
    {
     "data": {
      "text/plain": "children\n0    574\n1    324\n2    240\n3    157\n4     25\n5     18\nName: count, dtype: int64"
     },
     "execution_count": 108,
     "metadata": {},
     "output_type": "execute_result"
    }
   ],
   "source": [
    "X[\"children\"].value_counts()"
   ],
   "metadata": {
    "collapsed": false,
    "ExecuteTime": {
     "end_time": "2024-01-08T06:45:27.157656215Z",
     "start_time": "2024-01-08T06:45:27.115059250Z"
    }
   },
   "id": "e0601d61f80cc28e",
   "execution_count": 108
  },
  {
   "cell_type": "code",
   "outputs": [],
   "source": [],
   "metadata": {
    "collapsed": false
   },
   "id": "48ee7614f72d2bd4"
  }
 ],
 "metadata": {
  "kernelspec": {
   "name": "python3",
   "language": "python",
   "display_name": "Python 3 (ipykernel)"
  },
  "language_info": {
   "codemirror_mode": {
    "name": "ipython",
    "version": 2
   },
   "file_extension": ".py",
   "mimetype": "text/x-python",
   "name": "python",
   "nbconvert_exporter": "python",
   "pygments_lexer": "ipython2",
   "version": "2.7.6"
  },
  "colab": {
   "provenance": [],
   "gpuType": "T4"
  },
  "accelerator": "GPU"
 },
 "nbformat": 4,
 "nbformat_minor": 5
}
