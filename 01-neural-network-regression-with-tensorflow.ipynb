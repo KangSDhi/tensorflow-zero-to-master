{
 "cells": [
  {
   "cell_type": "markdown",
   "source": [
    "# Introduction to Regression with Neural Networks in TensorFlow\n",
    "\n",
    "There are many definitions for regression problem but in our case, we're going to simplify it: predicting a numerical variable based on some other combination of variables, even shorther... predicting a number."
   ],
   "metadata": {
    "collapsed": false,
    "id": "6ebb1111b9c93791"
   },
   "id": "6ebb1111b9c93791"
  },
  {
   "cell_type": "code",
   "execution_count": 1,
   "outputs": [
    {
     "name": "stderr",
     "output_type": "stream",
     "text": [
      "2023-09-30 19:32:28.611618: I tensorflow/core/platform/cpu_feature_guard.cc:182] This TensorFlow binary is optimized to use available CPU instructions in performance-critical operations.\n",
      "To enable the following instructions: SSE4.1 SSE4.2 AVX AVX2 FMA, in other operations, rebuild TensorFlow with the appropriate compiler flags.\n"
     ]
    },
    {
     "name": "stdout",
     "output_type": "stream",
     "text": [
      "2.12.0\n"
     ]
    }
   ],
   "source": [
    "# Import TensorFlow\n",
    "import tensorflow as tf\n",
    "print(tf.__version__)"
   ],
   "metadata": {
    "colab": {
     "base_uri": "https://localhost:8080/"
    },
    "id": "d4e5f09eca05ca59",
    "executionInfo": {
     "status": "ok",
     "timestamp": 1696076685065,
     "user_tz": -420,
     "elapsed": 6829,
     "user": {
      "displayName": "kang sigit",
      "userId": "15887135570512197739"
     }
    },
    "outputId": "8fac66e9-5ff3-47cc-a5a1-950e6758ea44",
    "ExecuteTime": {
     "end_time": "2023-09-30T12:32:30.606446094Z",
     "start_time": "2023-09-30T12:32:28.433434951Z"
    }
   },
   "id": "d4e5f09eca05ca59"
  },
  {
   "cell_type": "markdown",
   "source": [
    "## Creating data to view and fit"
   ],
   "metadata": {
    "collapsed": false,
    "id": "8407fe85818d8aac"
   },
   "id": "8407fe85818d8aac"
  },
  {
   "cell_type": "code",
   "execution_count": 2,
   "outputs": [
    {
     "data": {
      "text/plain": "<matplotlib.collections.PathCollection at 0x7fdc9db5cc90>"
     },
     "execution_count": 2,
     "metadata": {},
     "output_type": "execute_result"
    },
    {
     "data": {
      "text/plain": "<Figure size 640x480 with 1 Axes>",
      "image/png": "[encoded data removed]"
     },
     "metadata": {},
     "output_type": "display_data"
    }
   ],
   "source": [
    "import numpy as np\n",
    "import matplotlib.pyplot as plt\n",
    "\n",
    "# Create features\n",
    "X = np.array([-7.0, -4.0, -1.0, 2.0, 5.0, 8.0, 11.0, 14.0])\n",
    "\n",
    "# Create labels\n",
    "y = np.array([3.0, 6.0, 9.0, 12.0, 15.0, 18.0, 21.0, 24.0])\n",
    "\n",
    "# Visualize it\n",
    "plt.scatter(X, y)"
   ],
   "metadata": {
    "colab": {
     "base_uri": "https://localhost:8080/",
     "height": 453
    },
    "id": "135387d48040aa65",
    "executionInfo": {
     "status": "ok",
     "timestamp": 1696076685066,
     "user_tz": -420,
     "elapsed": 7,
     "user": {
      "displayName": "kang sigit",
      "userId": "15887135570512197739"
     }
    },
    "outputId": "4c919eb6-14cb-4524-bef2-d3a95e3bc6a2",
    "ExecuteTime": {
     "end_time": "2023-09-30T12:32:31.143081677Z",
     "start_time": "2023-09-30T12:32:30.603367869Z"
    }
   },
   "id": "135387d48040aa65"
  },
  {
   "cell_type": "code",
   "execution_count": 3,
   "outputs": [
    {
     "data": {
      "text/plain": "array([ True,  True,  True,  True,  True,  True,  True,  True])"
     },
     "execution_count": 3,
     "metadata": {},
     "output_type": "execute_result"
    }
   ],
   "source": [
    "y == X + 10"
   ],
   "metadata": {
    "colab": {
     "base_uri": "https://localhost:8080/"
    },
    "id": "35d94d5b061cfa67",
    "executionInfo": {
     "status": "ok",
     "timestamp": 1696076685862,
     "user_tz": -420,
     "elapsed": 801,
     "user": {
      "displayName": "kang sigit",
      "userId": "15887135570512197739"
     }
    },
    "outputId": "fd62bc5a-e1d3-41a5-9d24-79c48cbf489f",
    "ExecuteTime": {
     "end_time": "2023-09-30T12:32:31.145485065Z",
     "start_time": "2023-09-30T12:32:31.140744326Z"
    }
   },
   "id": "35d94d5b061cfa67"
  },
  {
   "cell_type": "markdown",
   "source": [
    "## Input and output shapes"
   ],
   "metadata": {
    "collapsed": false,
    "id": "420b161819373fbe"
   },
   "id": "420b161819373fbe"
  },
  {
   "cell_type": "code",
   "execution_count": 4,
   "outputs": [
    {
     "name": "stderr",
     "output_type": "stream",
     "text": [
      "2023-09-30 19:32:31.144558: I tensorflow/core/common_runtime/process_util.cc:146] Creating new thread pool with default inter op setting: 2. Tune using inter_op_parallelism_threads for best performance.\n"
     ]
    },
    {
     "data": {
      "text/plain": "(<tf.Tensor: shape=(3,), dtype=string, numpy=array([b'bedroom', b'bathroom', b'garage'], dtype=object)>,\n <tf.Tensor: shape=(1,), dtype=int32, numpy=array([939700], dtype=int32)>)"
     },
     "execution_count": 4,
     "metadata": {},
     "output_type": "execute_result"
    }
   ],
   "source": [
    "# Create a demo tensor for our housing price prediction problem\n",
    "house_info = tf.constant([\"bedroom\", \"bathroom\", \"garage\"])\n",
    "house_price = tf.constant([939700])\n",
    "house_info, house_price"
   ],
   "metadata": {
    "colab": {
     "base_uri": "https://localhost:8080/"
    },
    "id": "f6848417caa4070a",
    "executionInfo": {
     "status": "ok",
     "timestamp": 1696076689508,
     "user_tz": -420,
     "elapsed": 3647,
     "user": {
      "displayName": "kang sigit",
      "userId": "15887135570512197739"
     }
    },
    "outputId": "17142d0f-133c-473d-c2fd-96a0713c7db2",
    "ExecuteTime": {
     "end_time": "2023-09-30T12:32:31.249387409Z",
     "start_time": "2023-09-30T12:32:31.143777362Z"
    }
   },
   "id": "f6848417caa4070a"
  },
  {
   "cell_type": "code",
   "execution_count": 5,
   "outputs": [
    {
     "data": {
      "text/plain": "(-7.0, 3.0)"
     },
     "execution_count": 5,
     "metadata": {},
     "output_type": "execute_result"
    }
   ],
   "source": [
    "X[0], y[0]"
   ],
   "metadata": {
    "colab": {
     "base_uri": "https://localhost:8080/"
    },
    "id": "2af8bcb603f84f47",
    "executionInfo": {
     "status": "ok",
     "timestamp": 1696076689508,
     "user_tz": -420,
     "elapsed": 37,
     "user": {
      "displayName": "kang sigit",
      "userId": "15887135570512197739"
     }
    },
    "outputId": "c3a03743-3370-4244-8d69-6afbcb61deb7",
    "ExecuteTime": {
     "end_time": "2023-09-30T12:32:31.249839356Z",
     "start_time": "2023-09-30T12:32:31.177461956Z"
    }
   },
   "id": "2af8bcb603f84f47"
  },
  {
   "cell_type": "code",
   "execution_count": 6,
   "outputs": [
    {
     "data": {
      "text/plain": "(-4.0, 6.0)"
     },
     "execution_count": 6,
     "metadata": {},
     "output_type": "execute_result"
    }
   ],
   "source": [
    "X[1], y[1]"
   ],
   "metadata": {
    "colab": {
     "base_uri": "https://localhost:8080/"
    },
    "id": "abfb4fe2f54c9ccd",
    "executionInfo": {
     "status": "ok",
     "timestamp": 1696076689508,
     "user_tz": -420,
     "elapsed": 29,
     "user": {
      "displayName": "kang sigit",
      "userId": "15887135570512197739"
     }
    },
    "outputId": "7bfcf3da-00f5-421c-ae7e-d5586e94b2fc",
    "ExecuteTime": {
     "end_time": "2023-09-30T12:32:31.250104914Z",
     "start_time": "2023-09-30T12:32:31.220365213Z"
    }
   },
   "id": "abfb4fe2f54c9ccd"
  },
  {
   "cell_type": "code",
   "execution_count": 7,
   "outputs": [
    {
     "data": {
      "text/plain": "((), ())"
     },
     "execution_count": 7,
     "metadata": {},
     "output_type": "execute_result"
    }
   ],
   "source": [
    "input_shape = X[0].shape\n",
    "output_shape = y[0].shape\n",
    "input_shape, output_shape"
   ],
   "metadata": {
    "colab": {
     "base_uri": "https://localhost:8080/"
    },
    "id": "7ae73a2555815544",
    "executionInfo": {
     "status": "ok",
     "timestamp": 1696076689508,
     "user_tz": -420,
     "elapsed": 23,
     "user": {
      "displayName": "kang sigit",
      "userId": "15887135570512197739"
     }
    },
    "outputId": "c337f811-f992-417d-dba7-d3ccd3ced685",
    "ExecuteTime": {
     "end_time": "2023-09-30T12:32:31.250308876Z",
     "start_time": "2023-09-30T12:32:31.220881022Z"
    }
   },
   "id": "7ae73a2555815544"
  },
  {
   "cell_type": "code",
   "execution_count": 8,
   "outputs": [
    {
     "data": {
      "text/plain": "0"
     },
     "execution_count": 8,
     "metadata": {},
     "output_type": "execute_result"
    }
   ],
   "source": [
    "X[0].ndim"
   ],
   "metadata": {
    "colab": {
     "base_uri": "https://localhost:8080/"
    },
    "id": "8a2ef4c080258f67",
    "executionInfo": {
     "status": "ok",
     "timestamp": 1696076689508,
     "user_tz": -420,
     "elapsed": 17,
     "user": {
      "displayName": "kang sigit",
      "userId": "15887135570512197739"
     }
    },
    "outputId": "e61e1f1e-abc2-491b-9b2c-7f68a7adfc6c",
    "ExecuteTime": {
     "end_time": "2023-09-30T12:32:31.250524702Z",
     "start_time": "2023-09-30T12:32:31.221300372Z"
    }
   },
   "id": "8a2ef4c080258f67"
  },
  {
   "cell_type": "code",
   "execution_count": 9,
   "outputs": [
    {
     "data": {
      "text/plain": "(-7.0, 3.0)"
     },
     "execution_count": 9,
     "metadata": {},
     "output_type": "execute_result"
    }
   ],
   "source": [
    "X[0], y[0]"
   ],
   "metadata": {
    "colab": {
     "base_uri": "https://localhost:8080/"
    },
    "id": "8dfe9ccbe865992c",
    "executionInfo": {
     "status": "ok",
     "timestamp": 1696076689509,
     "user_tz": -420,
     "elapsed": 14,
     "user": {
      "displayName": "kang sigit",
      "userId": "15887135570512197739"
     }
    },
    "outputId": "d24feca7-e1d3-4194-e935-2ed8a9d36ff4",
    "ExecuteTime": {
     "end_time": "2023-09-30T12:32:31.250719503Z",
     "start_time": "2023-09-30T12:32:31.221659911Z"
    }
   },
   "id": "8dfe9ccbe865992c"
  },
  {
   "cell_type": "code",
   "execution_count": 10,
   "outputs": [
    {
     "data": {
      "text/plain": "(<tf.Tensor: shape=(8,), dtype=float32, numpy=array([-7., -4., -1.,  2.,  5.,  8., 11., 14.], dtype=float32)>,\n <tf.Tensor: shape=(8,), dtype=float32, numpy=array([ 3.,  6.,  9., 12., 15., 18., 21., 24.], dtype=float32)>)"
     },
     "execution_count": 10,
     "metadata": {},
     "output_type": "execute_result"
    }
   ],
   "source": [
    "# Turn our NumPy arrays into tensors with dtype float32\n",
    "X = tf.cast(tf.constant(X), dtype=tf.float32)\n",
    "y = tf.cast(tf.constant(y), dtype=tf.float32)\n",
    "X, y"
   ],
   "metadata": {
    "colab": {
     "base_uri": "https://localhost:8080/"
    },
    "id": "77e963d826e1c5ee",
    "executionInfo": {
     "status": "ok",
     "timestamp": 1696076689509,
     "user_tz": -420,
     "elapsed": 12,
     "user": {
      "displayName": "kang sigit",
      "userId": "15887135570512197739"
     }
    },
    "outputId": "b37e8890-b951-42d6-dd98-70b7876abe48",
    "ExecuteTime": {
     "end_time": "2023-09-30T12:32:31.250950746Z",
     "start_time": "2023-09-30T12:32:31.222079283Z"
    }
   },
   "id": "77e963d826e1c5ee"
  },
  {
   "cell_type": "code",
   "execution_count": 11,
   "outputs": [
    {
     "data": {
      "text/plain": "(TensorShape([]), TensorShape([]))"
     },
     "execution_count": 11,
     "metadata": {},
     "output_type": "execute_result"
    }
   ],
   "source": [
    "input_shape = X[0].shape\n",
    "output_shape = y[0].shape\n",
    "input_shape, output_shape"
   ],
   "metadata": {
    "colab": {
     "base_uri": "https://localhost:8080/"
    },
    "id": "14e27954e5032236",
    "executionInfo": {
     "status": "ok",
     "timestamp": 1696076689509,
     "user_tz": -420,
     "elapsed": 9,
     "user": {
      "displayName": "kang sigit",
      "userId": "15887135570512197739"
     }
    },
    "outputId": "56cd997f-b119-47d1-a2ec-58393a29ffe8",
    "ExecuteTime": {
     "end_time": "2023-09-30T12:32:31.434984915Z",
     "start_time": "2023-09-30T12:32:31.222583866Z"
    }
   },
   "id": "14e27954e5032236"
  },
  {
   "cell_type": "code",
   "execution_count": 12,
   "outputs": [
    {
     "data": {
      "text/plain": "<matplotlib.collections.PathCollection at 0x7fdc9d9ef690>"
     },
     "execution_count": 12,
     "metadata": {},
     "output_type": "execute_result"
    },
    {
     "data": {
      "text/plain": "<Figure size 640x480 with 1 Axes>",
      "image/png": "[encoded data removed]"
     },
     "metadata": {},
     "output_type": "display_data"
    }
   ],
   "source": [
    "plt.scatter(X, y)"
   ],
   "metadata": {
    "colab": {
     "base_uri": "https://localhost:8080/",
     "height": 453
    },
    "id": "e697df78c938eedc",
    "executionInfo": {
     "status": "ok",
     "timestamp": 1696076690202,
     "user_tz": -420,
     "elapsed": 700,
     "user": {
      "displayName": "kang sigit",
      "userId": "15887135570512197739"
     }
    },
    "outputId": "67448415-bb04-4f88-a157-eed404725c38",
    "ExecuteTime": {
     "end_time": "2023-09-30T12:32:31.570400051Z",
     "start_time": "2023-09-30T12:32:31.263454542Z"
    }
   },
   "id": "e697df78c938eedc"
  },
  {
   "cell_type": "markdown",
   "source": [
    "## Steps in modeling with TensorFlow\n",
    "\n",
    "1. **Creating a model** - define the input and output layers, as well as the hidden layers of a deep learning model.\n",
    "2. **Compiling a model** - define the loss function (in other words, the function which tells our model how wrong it is) and the optimizer (tells our model how to improve the patterns its learning) and evaluation metrics (what we can use to interpret the performance our model).\n",
    "3. **Fitting a model** - letting the model try to find patterns between X & y (features and labels)."
   ],
   "metadata": {
    "collapsed": false,
    "id": "e9796f121f9b42fe"
   },
   "id": "e9796f121f9b42fe"
  },
  {
   "cell_type": "code",
   "execution_count": 13,
   "outputs": [],
   "source": [
    "# # Optionally, the first layer can receive an `input_shape` argument:\n",
    "# model = tf.keras.Sequential()\n",
    "# model.add(tf.keras.layers.Dense(8, input_shape=(16,)))\n",
    "# # Afterwards, we do automatic shape inference:\n",
    "# model.add(tf.keras.layers.Dense(4))\n",
    "#\n",
    "# model = tf.keras.Sequential()\n",
    "# model.add(tf.keras.layers.Dense(8, input_shape=(16, )))\n",
    "# ...\n",
    "#\n",
    "# model = tf.keras.Sequential()\n",
    "# model.add(tf.keras.layers.Dense(1))"
   ],
   "metadata": {
    "id": "e65f811a3ad5e9e1",
    "executionInfo": {
     "status": "ok",
     "timestamp": 1696076690202,
     "user_tz": -420,
     "elapsed": 6,
     "user": {
      "displayName": "kang sigit",
      "userId": "15887135570512197739"
     }
    },
    "ExecuteTime": {
     "end_time": "2023-09-30T12:32:31.570647805Z",
     "start_time": "2023-09-30T12:32:31.357124707Z"
    }
   },
   "id": "e65f811a3ad5e9e1"
  },
  {
   "cell_type": "code",
   "execution_count": 14,
   "outputs": [
    {
     "name": "stdout",
     "output_type": "stream",
     "text": [
      "Epoch 1/5\n",
      "1/1 [==============================] - 0s 327ms/step - loss: 9.6750 - mae: 9.6750\n",
      "Epoch 2/5\n",
      "1/1 [==============================] - 0s 4ms/step - loss: 9.5425 - mae: 9.5425\n",
      "Epoch 3/5\n",
      "1/1 [==============================] - 0s 4ms/step - loss: 9.4100 - mae: 9.4100\n",
      "Epoch 4/5\n",
      "1/1 [==============================] - 0s 4ms/step - loss: 9.2775 - mae: 9.2775\n",
      "Epoch 5/5\n",
      "1/1 [==============================] - 0s 5ms/step - loss: 9.1450 - mae: 9.1450\n"
     ]
    },
    {
     "data": {
      "text/plain": "<keras.callbacks.History at 0x7fdc9dbd2a50>"
     },
     "execution_count": 14,
     "metadata": {},
     "output_type": "execute_result"
    }
   ],
   "source": [
    "# Set random seed\n",
    "tf.random.set_seed(42)\n",
    "\n",
    "# 1. Create a model using the Sequential API\n",
    "model = tf.keras.Sequential([\n",
    "    tf.keras.layers.Dense(1)\n",
    "])\n",
    "\n",
    "# 2. Compile the model\n",
    "model.compile(loss=tf.keras.losses.mae, # mae is short for mean absolute error\n",
    "              optimizer=tf.keras.optimizers.SGD(), # sgd is short for stochstic gradient descent\n",
    "              metrics=[\"mae\"])\n",
    "\n",
    "# 3. Fit the model\n",
    "# model.fit(X, y, epochs=5) # This line will error if you're running TensorFlow 2.7.0+!\n",
    "model.fit(tf.expand_dims(X, axis=-1), y, epochs=5)"
   ],
   "metadata": {
    "colab": {
     "base_uri": "https://localhost:8080/"
    },
    "id": "cc71e5f4aac7d8a6",
    "executionInfo": {
     "status": "ok",
     "timestamp": 1696076701552,
     "user_tz": -420,
     "elapsed": 11356,
     "user": {
      "displayName": "kang sigit",
      "userId": "15887135570512197739"
     }
    },
    "outputId": "9fd356b1-7413-439f-c3d2-b533cbde237b",
    "ExecuteTime": {
     "end_time": "2023-09-30T12:32:31.938005245Z",
     "start_time": "2023-09-30T12:32:31.377813790Z"
    }
   },
   "id": "cc71e5f4aac7d8a6"
  },
  {
   "cell_type": "code",
   "execution_count": 15,
   "outputs": [
    {
     "data": {
      "text/plain": "(<tf.Tensor: shape=(8,), dtype=float32, numpy=array([-7., -4., -1.,  2.,  5.,  8., 11., 14.], dtype=float32)>,\n <tf.Tensor: shape=(8,), dtype=float32, numpy=array([ 3.,  6.,  9., 12., 15., 18., 21., 24.], dtype=float32)>)"
     },
     "execution_count": 15,
     "metadata": {},
     "output_type": "execute_result"
    }
   ],
   "source": [
    "# Check out X and y\n",
    "X, y"
   ],
   "metadata": {
    "colab": {
     "base_uri": "https://localhost:8080/"
    },
    "id": "b1b4a1c994642378",
    "executionInfo": {
     "status": "ok",
     "timestamp": 1696076701553,
     "user_tz": -420,
     "elapsed": 7,
     "user": {
      "displayName": "kang sigit",
      "userId": "15887135570512197739"
     }
    },
    "outputId": "aee68bdb-665e-4b01-9458-935836d47971",
    "ExecuteTime": {
     "end_time": "2023-09-30T12:32:31.983069364Z",
     "start_time": "2023-09-30T12:32:31.877309680Z"
    }
   },
   "id": "b1b4a1c994642378"
  },
  {
   "cell_type": "code",
   "execution_count": 16,
   "outputs": [
    {
     "name": "stdout",
     "output_type": "stream",
     "text": [
      "1/1 [==============================] - 0s 81ms/step\n"
     ]
    },
    {
     "data": {
      "text/plain": "array([[21.603367]], dtype=float32)"
     },
     "execution_count": 16,
     "metadata": {},
     "output_type": "execute_result"
    }
   ],
   "source": [
    "# Try and make a prediction using our model\n",
    "y_pred = model.predict([17.0])\n",
    "y_pred"
   ],
   "metadata": {
    "colab": {
     "base_uri": "https://localhost:8080/"
    },
    "id": "6c9feaa2ed2266c8",
    "executionInfo": {
     "status": "ok",
     "timestamp": 1696076702180,
     "user_tz": -420,
     "elapsed": 631,
     "user": {
      "displayName": "kang sigit",
      "userId": "15887135570512197739"
     }
    },
    "outputId": "2fe08450-005e-44df-934c-53ebd9df5b33",
    "ExecuteTime": {
     "end_time": "2023-09-30T12:32:32.166485289Z",
     "start_time": "2023-09-30T12:32:31.882955772Z"
    }
   },
   "id": "6c9feaa2ed2266c8"
  },
  {
   "cell_type": "code",
   "execution_count": 17,
   "outputs": [
    {
     "data": {
      "text/plain": "array([[30.603367]], dtype=float32)"
     },
     "execution_count": 17,
     "metadata": {},
     "output_type": "execute_result"
    }
   ],
   "source": [
    "y_pred + 9"
   ],
   "metadata": {
    "colab": {
     "base_uri": "https://localhost:8080/"
    },
    "id": "6ac8363b8e315b33",
    "executionInfo": {
     "status": "ok",
     "timestamp": 1696076702181,
     "user_tz": -420,
     "elapsed": 12,
     "user": {
      "displayName": "kang sigit",
      "userId": "15887135570512197739"
     }
    },
    "outputId": "c034514e-5d78-42d8-ccc3-9ad275e6357a",
    "ExecuteTime": {
     "end_time": "2023-09-30T12:32:32.166882387Z",
     "start_time": "2023-09-30T12:32:32.046726566Z"
    }
   },
   "id": "6ac8363b8e315b33"
  },
  {
   "cell_type": "markdown",
   "source": [
    "## Improving our model\n",
    "\n",
    "We can improve our model, by altering the steps we took to create a model.\n",
    "\n",
    "1. **Creating a model** - here we might add more layers, increase the number of hidden units (all called neurons) within each of the hidden layers, change the activation function of each layer.\n",
    "2. **Compiling a model** - here we might change the optimization function or perhaps the **learning rate** of the optimization function.\n",
    "3. **Fitting a model** - here we might fit a model for more **epochs** (leave it training for longer) or on more data (give the model more examples to learn from)."
   ],
   "metadata": {
    "collapsed": false,
    "id": "ee325f78f13dbc6f"
   },
   "id": "ee325f78f13dbc6f"
  },
  {
   "cell_type": "code",
   "execution_count": 18,
   "outputs": [
    {
     "name": "stdout",
     "output_type": "stream",
     "text": [
      "Epoch 1/100\n",
      "1/1 [==============================] - 0s 266ms/step - loss: 21.9341 - mae: 21.9341\n",
      "Epoch 2/100\n",
      "1/1 [==============================] - 0s 3ms/step - loss: 21.5410 - mae: 21.5410\n",
      "Epoch 3/100\n",
      "1/1 [==============================] - 0s 3ms/step - loss: 21.1479 - mae: 21.1479\n",
      "Epoch 4/100\n",
      "1/1 [==============================] - 0s 3ms/step - loss: 20.7547 - mae: 20.7547\n",
      "Epoch 5/100\n",
      "1/1 [==============================] - 0s 4ms/step - loss: 20.3972 - mae: 20.3972\n",
      "Epoch 6/100\n",
      "1/1 [==============================] - 0s 3ms/step - loss: 20.1159 - mae: 20.1159\n",
      "Epoch 7/100\n",
      "1/1 [==============================] - 0s 4ms/step - loss: 19.8347 - mae: 19.8347\n",
      "Epoch 8/100\n",
      "1/1 [==============================] - 0s 4ms/step - loss: 19.5534 - mae: 19.5534\n",
      "Epoch 9/100\n",
      "1/1 [==============================] - 0s 5ms/step - loss: 19.2722 - mae: 19.2722\n",
      "Epoch 10/100\n",
      "1/1 [==============================] - 0s 4ms/step - loss: 18.9909 - mae: 18.9909\n",
      "Epoch 11/100\n",
      "1/1 [==============================] - 0s 5ms/step - loss: 18.7097 - mae: 18.7097\n",
      "Epoch 12/100\n",
      "1/1 [==============================] - 0s 6ms/step - loss: 18.4284 - mae: 18.4284\n",
      "Epoch 13/100\n",
      "1/1 [==============================] - 0s 5ms/step - loss: 18.1472 - mae: 18.1472\n",
      "Epoch 14/100\n",
      "1/1 [==============================] - 0s 4ms/step - loss: 17.8659 - mae: 17.8659\n",
      "Epoch 15/100\n",
      "1/1 [==============================] - 0s 4ms/step - loss: 17.5847 - mae: 17.5847\n",
      "Epoch 16/100\n",
      "1/1 [==============================] - 0s 4ms/step - loss: 17.3034 - mae: 17.3034\n",
      "Epoch 17/100\n",
      "1/1 [==============================] - 0s 5ms/step - loss: 17.0222 - mae: 17.0222\n",
      "Epoch 18/100\n",
      "1/1 [==============================] - 0s 5ms/step - loss: 16.7409 - mae: 16.7409\n",
      "Epoch 19/100\n",
      "1/1 [==============================] - 0s 5ms/step - loss: 16.4597 - mae: 16.4597\n",
      "Epoch 20/100\n",
      "1/1 [==============================] - 0s 6ms/step - loss: 16.1784 - mae: 16.1784\n",
      "Epoch 21/100\n",
      "1/1 [==============================] - 0s 6ms/step - loss: 15.8972 - mae: 15.8972\n",
      "Epoch 22/100\n",
      "1/1 [==============================] - 0s 4ms/step - loss: 15.6159 - mae: 15.6159\n",
      "Epoch 23/100\n",
      "1/1 [==============================] - 0s 5ms/step - loss: 15.3347 - mae: 15.3347\n",
      "Epoch 24/100\n",
      "1/1 [==============================] - 0s 5ms/step - loss: 15.0534 - mae: 15.0534\n",
      "Epoch 25/100\n",
      "1/1 [==============================] - 0s 6ms/step - loss: 14.7722 - mae: 14.7722\n",
      "Epoch 26/100\n",
      "1/1 [==============================] - 0s 5ms/step - loss: 14.5719 - mae: 14.5719\n",
      "Epoch 27/100\n",
      "1/1 [==============================] - 0s 6ms/step - loss: 14.4394 - mae: 14.4394\n",
      "Epoch 28/100\n",
      "1/1 [==============================] - 0s 5ms/step - loss: 14.3069 - mae: 14.3069\n",
      "Epoch 29/100\n",
      "1/1 [==============================] - 0s 6ms/step - loss: 14.1744 - mae: 14.1744\n",
      "Epoch 30/100\n",
      "1/1 [==============================] - 0s 4ms/step - loss: 14.0419 - mae: 14.0419\n",
      "Epoch 31/100\n",
      "1/1 [==============================] - 0s 5ms/step - loss: 13.9094 - mae: 13.9094\n",
      "Epoch 32/100\n",
      "1/1 [==============================] - 0s 5ms/step - loss: 13.7769 - mae: 13.7769\n",
      "Epoch 33/100\n",
      "1/1 [==============================] - 0s 5ms/step - loss: 13.6444 - mae: 13.6444\n",
      "Epoch 34/100\n",
      "1/1 [==============================] - 0s 4ms/step - loss: 13.5119 - mae: 13.5119\n",
      "Epoch 35/100\n",
      "1/1 [==============================] - 0s 5ms/step - loss: 13.3794 - mae: 13.3794\n",
      "Epoch 36/100\n",
      "1/1 [==============================] - 0s 4ms/step - loss: 13.2469 - mae: 13.2469\n",
      "Epoch 37/100\n",
      "1/1 [==============================] - 0s 4ms/step - loss: 13.1144 - mae: 13.1144\n",
      "Epoch 38/100\n",
      "1/1 [==============================] - 0s 6ms/step - loss: 12.9819 - mae: 12.9819\n",
      "Epoch 39/100\n",
      "1/1 [==============================] - 0s 5ms/step - loss: 12.8494 - mae: 12.8494\n",
      "Epoch 40/100\n",
      "1/1 [==============================] - 0s 5ms/step - loss: 12.7169 - mae: 12.7169\n",
      "Epoch 41/100\n",
      "1/1 [==============================] - 0s 7ms/step - loss: 12.5844 - mae: 12.5844\n",
      "Epoch 42/100\n",
      "1/1 [==============================] - 0s 5ms/step - loss: 12.4519 - mae: 12.4519\n",
      "Epoch 43/100\n",
      "1/1 [==============================] - 0s 5ms/step - loss: 12.3194 - mae: 12.3194\n",
      "Epoch 44/100\n",
      "1/1 [==============================] - 0s 5ms/step - loss: 12.1869 - mae: 12.1869\n",
      "Epoch 45/100\n",
      "1/1 [==============================] - 0s 5ms/step - loss: 12.0544 - mae: 12.0544\n",
      "Epoch 46/100\n",
      "1/1 [==============================] - 0s 5ms/step - loss: 11.9219 - mae: 11.9219\n",
      "Epoch 47/100\n",
      "1/1 [==============================] - 0s 6ms/step - loss: 11.7894 - mae: 11.7894\n",
      "Epoch 48/100\n",
      "1/1 [==============================] - 0s 6ms/step - loss: 11.6569 - mae: 11.6569\n",
      "Epoch 49/100\n",
      "1/1 [==============================] - 0s 4ms/step - loss: 11.5244 - mae: 11.5244\n",
      "Epoch 50/100\n",
      "1/1 [==============================] - 0s 5ms/step - loss: 11.3919 - mae: 11.3919\n",
      "Epoch 51/100\n",
      "1/1 [==============================] - 0s 3ms/step - loss: 11.2594 - mae: 11.2594\n",
      "Epoch 52/100\n",
      "1/1 [==============================] - 0s 6ms/step - loss: 11.1269 - mae: 11.1269\n",
      "Epoch 53/100\n",
      "1/1 [==============================] - 0s 6ms/step - loss: 10.9944 - mae: 10.9944\n",
      "Epoch 54/100\n",
      "1/1 [==============================] - 0s 5ms/step - loss: 10.8619 - mae: 10.8619\n",
      "Epoch 55/100\n",
      "1/1 [==============================] - 0s 4ms/step - loss: 10.7294 - mae: 10.7294\n",
      "Epoch 56/100\n",
      "1/1 [==============================] - 0s 4ms/step - loss: 10.5969 - mae: 10.5969\n",
      "Epoch 57/100\n",
      "1/1 [==============================] - 0s 5ms/step - loss: 10.4644 - mae: 10.4644\n",
      "Epoch 58/100\n",
      "1/1 [==============================] - 0s 5ms/step - loss: 10.3319 - mae: 10.3319\n",
      "Epoch 59/100\n",
      "1/1 [==============================] - 0s 5ms/step - loss: 10.1994 - mae: 10.1994\n",
      "Epoch 60/100\n",
      "1/1 [==============================] - 0s 5ms/step - loss: 10.0669 - mae: 10.0669\n",
      "Epoch 61/100\n",
      "1/1 [==============================] - 0s 5ms/step - loss: 9.9344 - mae: 9.9344\n",
      "Epoch 62/100\n",
      "1/1 [==============================] - 0s 5ms/step - loss: 9.8019 - mae: 9.8019\n",
      "Epoch 63/100\n",
      "1/1 [==============================] - 0s 5ms/step - loss: 9.6694 - mae: 9.6694\n",
      "Epoch 64/100\n",
      "1/1 [==============================] - 0s 5ms/step - loss: 9.5369 - mae: 9.5369\n",
      "Epoch 65/100\n",
      "1/1 [==============================] - 0s 4ms/step - loss: 9.4044 - mae: 9.4044\n",
      "Epoch 66/100\n",
      "1/1 [==============================] - 0s 6ms/step - loss: 9.2719 - mae: 9.2719\n",
      "Epoch 67/100\n",
      "1/1 [==============================] - 0s 6ms/step - loss: 9.1394 - mae: 9.1394\n",
      "Epoch 68/100\n",
      "1/1 [==============================] - 0s 5ms/step - loss: 9.0069 - mae: 9.0069\n",
      "Epoch 69/100\n",
      "1/1 [==============================] - 0s 6ms/step - loss: 8.8744 - mae: 8.8744\n",
      "Epoch 70/100\n",
      "1/1 [==============================] - 0s 5ms/step - loss: 8.7419 - mae: 8.7419\n",
      "Epoch 71/100\n",
      "1/1 [==============================] - 0s 6ms/step - loss: 8.6094 - mae: 8.6094\n",
      "Epoch 72/100\n",
      "1/1 [==============================] - 0s 6ms/step - loss: 8.4769 - mae: 8.4769\n",
      "Epoch 73/100\n",
      "1/1 [==============================] - 0s 5ms/step - loss: 8.3444 - mae: 8.3444\n",
      "Epoch 74/100\n",
      "1/1 [==============================] - 0s 5ms/step - loss: 8.2119 - mae: 8.2119\n",
      "Epoch 75/100\n",
      "1/1 [==============================] - 0s 7ms/step - loss: 8.0794 - mae: 8.0794\n",
      "Epoch 76/100\n",
      "1/1 [==============================] - 0s 6ms/step - loss: 7.9469 - mae: 7.9469\n",
      "Epoch 77/100\n",
      "1/1 [==============================] - 0s 6ms/step - loss: 7.8144 - mae: 7.8144\n",
      "Epoch 78/100\n",
      "1/1 [==============================] - 0s 5ms/step - loss: 7.6819 - mae: 7.6819\n",
      "Epoch 79/100\n",
      "1/1 [==============================] - 0s 6ms/step - loss: 7.5494 - mae: 7.5494\n",
      "Epoch 80/100\n",
      "1/1 [==============================] - 0s 4ms/step - loss: 7.4169 - mae: 7.4169\n",
      "Epoch 81/100\n",
      "1/1 [==============================] - 0s 4ms/step - loss: 7.2844 - mae: 7.2844\n",
      "Epoch 82/100\n",
      "1/1 [==============================] - 0s 5ms/step - loss: 7.1519 - mae: 7.1519\n",
      "Epoch 83/100\n",
      "1/1 [==============================] - 0s 5ms/step - loss: 7.0194 - mae: 7.0194\n",
      "Epoch 84/100\n",
      "1/1 [==============================] - 0s 4ms/step - loss: 6.9319 - mae: 6.9319\n",
      "Epoch 85/100\n",
      "1/1 [==============================] - 0s 5ms/step - loss: 6.9263 - mae: 6.9263\n",
      "Epoch 86/100\n",
      "1/1 [==============================] - 0s 5ms/step - loss: 6.9206 - mae: 6.9206\n",
      "Epoch 87/100\n",
      "1/1 [==============================] - 0s 6ms/step - loss: 6.9150 - mae: 6.9150\n",
      "Epoch 88/100\n",
      "1/1 [==============================] - 0s 4ms/step - loss: 6.9094 - mae: 6.9094\n",
      "Epoch 89/100\n",
      "1/1 [==============================] - 0s 7ms/step - loss: 6.9038 - mae: 6.9038\n",
      "Epoch 90/100\n",
      "1/1 [==============================] - 0s 4ms/step - loss: 6.8981 - mae: 6.8981\n",
      "Epoch 91/100\n",
      "1/1 [==============================] - 0s 4ms/step - loss: 6.8925 - mae: 6.8925\n",
      "Epoch 92/100\n",
      "1/1 [==============================] - 0s 4ms/step - loss: 6.8869 - mae: 6.8869\n",
      "Epoch 93/100\n",
      "1/1 [==============================] - 0s 5ms/step - loss: 6.8813 - mae: 6.8813\n",
      "Epoch 94/100\n",
      "1/1 [==============================] - 0s 5ms/step - loss: 6.8756 - mae: 6.8756\n",
      "Epoch 95/100\n",
      "1/1 [==============================] - 0s 6ms/step - loss: 6.8700 - mae: 6.8700\n",
      "Epoch 96/100\n",
      "1/1 [==============================] - 0s 6ms/step - loss: 6.8644 - mae: 6.8644\n",
      "Epoch 97/100\n",
      "1/1 [==============================] - 0s 4ms/step - loss: 6.8588 - mae: 6.8588\n",
      "Epoch 98/100\n",
      "1/1 [==============================] - 0s 7ms/step - loss: 6.8531 - mae: 6.8531\n",
      "Epoch 99/100\n",
      "1/1 [==============================] - 0s 5ms/step - loss: 6.8475 - mae: 6.8475\n",
      "Epoch 100/100\n",
      "1/1 [==============================] - 0s 5ms/step - loss: 6.8419 - mae: 6.8419\n"
     ]
    },
    {
     "data": {
      "text/plain": "<keras.callbacks.History at 0x7fdc947ca6d0>"
     },
     "execution_count": 18,
     "metadata": {},
     "output_type": "execute_result"
    }
   ],
   "source": [
    "# Let's rebuild our model\n",
    "\n",
    "# 1. Create the model\n",
    "model = tf.keras.Sequential([\n",
    "    tf.keras.layers.Dense(1)\n",
    "])\n",
    "\n",
    "# 2. Compile the model\n",
    "model.compile(loss=tf.keras.losses.mae,\n",
    "              optimizer=tf.keras.optimizers.SGD(),\n",
    "              metrics=[\"mae\"])\n",
    "\n",
    "# 3. Fit the model (this time we'll train for longer)\n",
    "model.fit(tf.expand_dims(X, axis=-1), y, epochs=100)"
   ],
   "metadata": {
    "colab": {
     "base_uri": "https://localhost:8080/"
    },
    "id": "b26232423384ab79",
    "executionInfo": {
     "status": "ok",
     "timestamp": 1696076704042,
     "user_tz": -420,
     "elapsed": 1871,
     "user": {
      "displayName": "kang sigit",
      "userId": "15887135570512197739"
     }
    },
    "outputId": "af574b45-f9db-41fa-835c-d7000afb014d",
    "ExecuteTime": {
     "end_time": "2023-09-30T12:32:35.466068320Z",
     "start_time": "2023-09-30T12:32:32.047022073Z"
    }
   },
   "id": "b26232423384ab79"
  },
  {
   "cell_type": "code",
   "execution_count": 19,
   "outputs": [
    {
     "data": {
      "text/plain": "(<tf.Tensor: shape=(8,), dtype=float32, numpy=array([-7., -4., -1.,  2.,  5.,  8., 11., 14.], dtype=float32)>,\n <tf.Tensor: shape=(8,), dtype=float32, numpy=array([ 3.,  6.,  9., 12., 15., 18., 21., 24.], dtype=float32)>)"
     },
     "execution_count": 19,
     "metadata": {},
     "output_type": "execute_result"
    }
   ],
   "source": [
    "# Reminder ourselves of the data\n",
    "X, y"
   ],
   "metadata": {
    "colab": {
     "base_uri": "https://localhost:8080/"
    },
    "id": "e9b4e45adea19edc",
    "executionInfo": {
     "status": "ok",
     "timestamp": 1696076704043,
     "user_tz": -420,
     "elapsed": 13,
     "user": {
      "displayName": "kang sigit",
      "userId": "15887135570512197739"
     }
    },
    "outputId": "9c3ea1ed-df93-4a29-8624-0d0df70f77b5",
    "ExecuteTime": {
     "end_time": "2023-09-30T12:32:35.466503864Z",
     "start_time": "2023-09-30T12:32:33.083601398Z"
    }
   },
   "id": "e9b4e45adea19edc"
  },
  {
   "cell_type": "code",
   "execution_count": 20,
   "outputs": [
    {
     "name": "stdout",
     "output_type": "stream",
     "text": [
      "1/1 [==============================] - 0s 67ms/step\n"
     ]
    },
    {
     "data": {
      "text/plain": "array([[29.326704]], dtype=float32)"
     },
     "execution_count": 20,
     "metadata": {},
     "output_type": "execute_result"
    }
   ],
   "source": [
    "# Let's see if our model's prediction has improved...\n",
    "model.predict([17.0])"
   ],
   "metadata": {
    "colab": {
     "base_uri": "https://localhost:8080/"
    },
    "id": "4fa1532cec878a87",
    "executionInfo": {
     "status": "ok",
     "timestamp": 1696076704043,
     "user_tz": -420,
     "elapsed": 7,
     "user": {
      "displayName": "kang sigit",
      "userId": "15887135570512197739"
     }
    },
    "outputId": "c3db728e-15ba-48ed-b577-524225c39d2d",
    "ExecuteTime": {
     "end_time": "2023-09-30T12:32:35.935014558Z",
     "start_time": "2023-09-30T12:32:33.090566782Z"
    }
   },
   "id": "4fa1532cec878a87"
  },
  {
   "cell_type": "code",
   "execution_count": 21,
   "outputs": [
    {
     "name": "stdout",
     "output_type": "stream",
     "text": [
      "Epoch 1/100\n",
      "1/1 [==============================] - 1s 535ms/step - loss: 13.3644 - mae: 13.3644\n",
      "Epoch 2/100\n",
      "1/1 [==============================] - 0s 15ms/step - loss: 12.6716 - mae: 12.6716\n",
      "Epoch 3/100\n",
      "1/1 [==============================] - 0s 6ms/step - loss: 11.9755 - mae: 11.9755\n",
      "Epoch 4/100\n",
      "1/1 [==============================] - 0s 7ms/step - loss: 11.2746 - mae: 11.2746\n",
      "Epoch 5/100\n",
      "1/1 [==============================] - 0s 7ms/step - loss: 10.5677 - mae: 10.5677\n",
      "Epoch 6/100\n",
      "1/1 [==============================] - 0s 9ms/step - loss: 9.8531 - mae: 9.8531\n",
      "Epoch 7/100\n",
      "1/1 [==============================] - 0s 13ms/step - loss: 9.1292 - mae: 9.1292\n",
      "Epoch 8/100\n",
      "1/1 [==============================] - 0s 15ms/step - loss: 8.3942 - mae: 8.3942\n",
      "Epoch 9/100\n",
      "1/1 [==============================] - 0s 11ms/step - loss: 7.6459 - mae: 7.6459\n",
      "Epoch 10/100\n",
      "1/1 [==============================] - 0s 11ms/step - loss: 6.8819 - mae: 6.8819\n",
      "Epoch 11/100\n",
      "1/1 [==============================] - 0s 18ms/step - loss: 6.7052 - mae: 6.7052\n",
      "Epoch 12/100\n",
      "1/1 [==============================] - 0s 12ms/step - loss: 7.1172 - mae: 7.1172\n",
      "Epoch 13/100\n",
      "1/1 [==============================] - 0s 17ms/step - loss: 7.4530 - mae: 7.4530\n",
      "Epoch 14/100\n",
      "1/1 [==============================] - 0s 16ms/step - loss: 7.7176 - mae: 7.7176\n",
      "Epoch 15/100\n",
      "1/1 [==============================] - 0s 16ms/step - loss: 7.7534 - mae: 7.7534\n",
      "Epoch 16/100\n",
      "1/1 [==============================] - 0s 10ms/step - loss: 7.6158 - mae: 7.6158\n",
      "Epoch 17/100\n",
      "1/1 [==============================] - 0s 9ms/step - loss: 7.3459 - mae: 7.3459\n",
      "Epoch 18/100\n",
      "1/1 [==============================] - 0s 8ms/step - loss: 6.9853 - mae: 6.9853\n",
      "Epoch 19/100\n",
      "1/1 [==============================] - 0s 11ms/step - loss: 6.7303 - mae: 6.7303\n",
      "Epoch 20/100\n",
      "1/1 [==============================] - 0s 10ms/step - loss: 6.4608 - mae: 6.4608\n",
      "Epoch 21/100\n",
      "1/1 [==============================] - 0s 11ms/step - loss: 6.1799 - mae: 6.1799\n",
      "Epoch 22/100\n",
      "1/1 [==============================] - 0s 11ms/step - loss: 6.0542 - mae: 6.0542\n",
      "Epoch 23/100\n",
      "1/1 [==============================] - 0s 13ms/step - loss: 6.0098 - mae: 6.0098\n",
      "Epoch 24/100\n",
      "1/1 [==============================] - 0s 11ms/step - loss: 6.1424 - mae: 6.1424\n",
      "Epoch 25/100\n",
      "1/1 [==============================] - 0s 9ms/step - loss: 6.2217 - mae: 6.2217\n",
      "Epoch 26/100\n",
      "1/1 [==============================] - 0s 10ms/step - loss: 6.2020 - mae: 6.2020\n",
      "Epoch 27/100\n",
      "1/1 [==============================] - 0s 11ms/step - loss: 6.0959 - mae: 6.0959\n",
      "Epoch 28/100\n",
      "1/1 [==============================] - 0s 11ms/step - loss: 5.9126 - mae: 5.9126\n",
      "Epoch 29/100\n",
      "1/1 [==============================] - 0s 7ms/step - loss: 5.6592 - mae: 5.6592\n",
      "Epoch 30/100\n",
      "1/1 [==============================] - 0s 7ms/step - loss: 5.4558 - mae: 5.4558\n",
      "Epoch 31/100\n",
      "1/1 [==============================] - 0s 7ms/step - loss: 5.3465 - mae: 5.3465\n",
      "Epoch 32/100\n",
      "1/1 [==============================] - 0s 9ms/step - loss: 5.2635 - mae: 5.2635\n",
      "Epoch 33/100\n",
      "1/1 [==============================] - 0s 7ms/step - loss: 5.2671 - mae: 5.2671\n",
      "Epoch 34/100\n",
      "1/1 [==============================] - 0s 8ms/step - loss: 5.2283 - mae: 5.2283\n",
      "Epoch 35/100\n",
      "1/1 [==============================] - 0s 8ms/step - loss: 5.1501 - mae: 5.1501\n",
      "Epoch 36/100\n",
      "1/1 [==============================] - 0s 7ms/step - loss: 5.0355 - mae: 5.0355\n",
      "Epoch 37/100\n",
      "1/1 [==============================] - 0s 22ms/step - loss: 4.8875 - mae: 4.8875\n",
      "Epoch 38/100\n",
      "1/1 [==============================] - 0s 18ms/step - loss: 4.7088 - mae: 4.7088\n",
      "Epoch 39/100\n",
      "1/1 [==============================] - 0s 17ms/step - loss: 4.5603 - mae: 4.5603\n",
      "Epoch 40/100\n",
      "1/1 [==============================] - 0s 10ms/step - loss: 4.4653 - mae: 4.4653\n",
      "Epoch 41/100\n",
      "1/1 [==============================] - 0s 13ms/step - loss: 4.3629 - mae: 4.3629\n",
      "Epoch 42/100\n",
      "1/1 [==============================] - 0s 11ms/step - loss: 4.2634 - mae: 4.2634\n",
      "Epoch 43/100\n",
      "1/1 [==============================] - 0s 12ms/step - loss: 4.1349 - mae: 4.1349\n",
      "Epoch 44/100\n",
      "1/1 [==============================] - 0s 11ms/step - loss: 3.9828 - mae: 3.9828\n",
      "Epoch 45/100\n",
      "1/1 [==============================] - 0s 10ms/step - loss: 3.8332 - mae: 3.8332\n",
      "Epoch 46/100\n",
      "1/1 [==============================] - 0s 21ms/step - loss: 3.6768 - mae: 3.6768\n",
      "Epoch 47/100\n",
      "1/1 [==============================] - 0s 23ms/step - loss: 3.5615 - mae: 3.5615\n",
      "Epoch 48/100\n",
      "1/1 [==============================] - 0s 29ms/step - loss: 3.4391 - mae: 3.4391\n",
      "Epoch 49/100\n",
      "1/1 [==============================] - 0s 11ms/step - loss: 3.2675 - mae: 3.2675\n",
      "Epoch 50/100\n",
      "1/1 [==============================] - 0s 20ms/step - loss: 3.0492 - mae: 3.0492\n",
      "Epoch 51/100\n",
      "1/1 [==============================] - 0s 18ms/step - loss: 2.8847 - mae: 2.8847\n",
      "Epoch 52/100\n",
      "1/1 [==============================] - 0s 11ms/step - loss: 2.7188 - mae: 2.7188\n",
      "Epoch 53/100\n",
      "1/1 [==============================] - 0s 11ms/step - loss: 2.6451 - mae: 2.6451\n",
      "Epoch 54/100\n",
      "1/1 [==============================] - 0s 11ms/step - loss: 2.4281 - mae: 2.4281\n",
      "Epoch 55/100\n",
      "1/1 [==============================] - 0s 10ms/step - loss: 2.1227 - mae: 2.1227\n",
      "Epoch 56/100\n",
      "1/1 [==============================] - 0s 16ms/step - loss: 1.9061 - mae: 1.9061\n",
      "Epoch 57/100\n",
      "1/1 [==============================] - 0s 12ms/step - loss: 1.7339 - mae: 1.7339\n",
      "Epoch 58/100\n",
      "1/1 [==============================] - 0s 11ms/step - loss: 1.4967 - mae: 1.4967\n",
      "Epoch 59/100\n",
      "1/1 [==============================] - 0s 10ms/step - loss: 1.2126 - mae: 1.2126\n",
      "Epoch 60/100\n",
      "1/1 [==============================] - 0s 10ms/step - loss: 0.9769 - mae: 0.9769\n",
      "Epoch 61/100\n",
      "1/1 [==============================] - 0s 11ms/step - loss: 0.7082 - mae: 0.7082\n",
      "Epoch 62/100\n",
      "1/1 [==============================] - 0s 10ms/step - loss: 0.4944 - mae: 0.4944\n",
      "Epoch 63/100\n",
      "1/1 [==============================] - 0s 11ms/step - loss: 0.1677 - mae: 0.1677\n",
      "Epoch 64/100\n",
      "1/1 [==============================] - 0s 12ms/step - loss: 0.2022 - mae: 0.2022\n",
      "Epoch 65/100\n",
      "1/1 [==============================] - 0s 11ms/step - loss: 0.4364 - mae: 0.4364\n",
      "Epoch 66/100\n",
      "1/1 [==============================] - 0s 12ms/step - loss: 0.5948 - mae: 0.5948\n",
      "Epoch 67/100\n",
      "1/1 [==============================] - 0s 10ms/step - loss: 0.6860 - mae: 0.6860\n",
      "Epoch 68/100\n",
      "1/1 [==============================] - 0s 12ms/step - loss: 0.7895 - mae: 0.7895\n",
      "Epoch 69/100\n",
      "1/1 [==============================] - 0s 8ms/step - loss: 0.7867 - mae: 0.7867\n",
      "Epoch 70/100\n",
      "1/1 [==============================] - 0s 17ms/step - loss: 0.7393 - mae: 0.7393\n",
      "Epoch 71/100\n",
      "1/1 [==============================] - 0s 9ms/step - loss: 0.7937 - mae: 0.7937\n",
      "Epoch 72/100\n",
      "1/1 [==============================] - 0s 8ms/step - loss: 0.6453 - mae: 0.6453\n",
      "Epoch 73/100\n",
      "1/1 [==============================] - 0s 7ms/step - loss: 0.5907 - mae: 0.5907\n",
      "Epoch 74/100\n",
      "1/1 [==============================] - 0s 14ms/step - loss: 0.5116 - mae: 0.5116\n",
      "Epoch 75/100\n",
      "1/1 [==============================] - 0s 9ms/step - loss: 0.2455 - mae: 0.2455\n",
      "Epoch 76/100\n",
      "1/1 [==============================] - 0s 8ms/step - loss: 0.2713 - mae: 0.2713\n",
      "Epoch 77/100\n",
      "1/1 [==============================] - 0s 9ms/step - loss: 0.2254 - mae: 0.2254\n",
      "Epoch 78/100\n",
      "1/1 [==============================] - 0s 17ms/step - loss: 0.3003 - mae: 0.3003\n",
      "Epoch 79/100\n",
      "1/1 [==============================] - 0s 8ms/step - loss: 0.4603 - mae: 0.4603\n",
      "Epoch 80/100\n",
      "1/1 [==============================] - 0s 16ms/step - loss: 0.4429 - mae: 0.4429\n",
      "Epoch 81/100\n",
      "1/1 [==============================] - 0s 12ms/step - loss: 0.2821 - mae: 0.2821\n",
      "Epoch 82/100\n",
      "1/1 [==============================] - 0s 12ms/step - loss: 0.4121 - mae: 0.4121\n",
      "Epoch 83/100\n",
      "1/1 [==============================] - 0s 6ms/step - loss: 0.3429 - mae: 0.3429\n",
      "Epoch 84/100\n",
      "1/1 [==============================] - 0s 8ms/step - loss: 0.1981 - mae: 0.1981\n",
      "Epoch 85/100\n",
      "1/1 [==============================] - 0s 11ms/step - loss: 0.1837 - mae: 0.1837\n",
      "Epoch 86/100\n",
      "1/1 [==============================] - 0s 8ms/step - loss: 0.0333 - mae: 0.0333\n",
      "Epoch 87/100\n",
      "1/1 [==============================] - 0s 9ms/step - loss: 0.0760 - mae: 0.0760\n",
      "Epoch 88/100\n",
      "1/1 [==============================] - 0s 11ms/step - loss: 0.1343 - mae: 0.1343\n",
      "Epoch 89/100\n",
      "1/1 [==============================] - 0s 11ms/step - loss: 0.0932 - mae: 0.0932\n",
      "Epoch 90/100\n",
      "1/1 [==============================] - 0s 15ms/step - loss: 0.0679 - mae: 0.0679\n",
      "Epoch 91/100\n",
      "1/1 [==============================] - 0s 9ms/step - loss: 0.0614 - mae: 0.0614\n",
      "Epoch 92/100\n",
      "1/1 [==============================] - 0s 8ms/step - loss: 0.0907 - mae: 0.0907\n",
      "Epoch 93/100\n",
      "1/1 [==============================] - 0s 7ms/step - loss: 0.1006 - mae: 0.1006\n",
      "Epoch 94/100\n",
      "1/1 [==============================] - 0s 7ms/step - loss: 0.0506 - mae: 0.0506\n",
      "Epoch 95/100\n",
      "1/1 [==============================] - 0s 8ms/step - loss: 0.1027 - mae: 0.1027\n",
      "Epoch 96/100\n",
      "1/1 [==============================] - 0s 9ms/step - loss: 0.0997 - mae: 0.0997\n",
      "Epoch 97/100\n",
      "1/1 [==============================] - 0s 10ms/step - loss: 0.0861 - mae: 0.0861\n",
      "Epoch 98/100\n",
      "1/1 [==============================] - 0s 9ms/step - loss: 0.1519 - mae: 0.1519\n",
      "Epoch 99/100\n",
      "1/1 [==============================] - 0s 9ms/step - loss: 0.0423 - mae: 0.0423\n",
      "Epoch 100/100\n",
      "1/1 [==============================] - 0s 9ms/step - loss: 0.3157 - mae: 0.3157\n"
     ]
    },
    {
     "data": {
      "text/plain": "<keras.callbacks.History at 0x7fdc9c190b90>"
     },
     "execution_count": 21,
     "metadata": {},
     "output_type": "execute_result"
    }
   ],
   "source": [
    "# Let's see if we can make another to improve our model\n",
    "\n",
    "# 1. Create the model (this time with an extra hidden layer with 100 hidden units)\n",
    "model = tf.keras.Sequential([\n",
    "    tf.keras.layers.Dense(50, activation=None),\n",
    "    tf.keras.layers.Dense(1)\n",
    "])\n",
    "\n",
    "# 2. Compile the model\n",
    "model.compile(loss=\"mae\",\n",
    "              optimizer=tf.keras.optimizers.Adam(learning_rate=0.01),\n",
    "              metrics=[\"mae\"])\n",
    "\n",
    "# 3. Fit the model\n",
    "model.fit(tf.expand_dims(X, axis=-1), y, epochs=100)"
   ],
   "metadata": {
    "colab": {
     "base_uri": "https://localhost:8080/"
    },
    "id": "8b9aa4f166adf717",
    "executionInfo": {
     "status": "ok",
     "timestamp": 1696076707677,
     "user_tz": -420,
     "elapsed": 3639,
     "user": {
      "displayName": "kang sigit",
      "userId": "15887135570512197739"
     }
    },
    "outputId": "09a15c82-6c48-4a25-f2e2-9e9be634ab0e",
    "ExecuteTime": {
     "end_time": "2023-09-30T12:32:36.983204307Z",
     "start_time": "2023-09-30T12:32:33.243338527Z"
    }
   },
   "id": "8b9aa4f166adf717"
  },
  {
   "cell_type": "code",
   "execution_count": 22,
   "outputs": [
    {
     "data": {
      "text/plain": "(<tf.Tensor: shape=(8,), dtype=float32, numpy=array([-7., -4., -1.,  2.,  5.,  8., 11., 14.], dtype=float32)>,\n <tf.Tensor: shape=(8,), dtype=float32, numpy=array([ 3.,  6.,  9., 12., 15., 18., 21., 24.], dtype=float32)>)"
     },
     "execution_count": 22,
     "metadata": {},
     "output_type": "execute_result"
    }
   ],
   "source": [
    "# Let's remind ourselves of the data\n",
    "X, y"
   ],
   "metadata": {
    "colab": {
     "base_uri": "https://localhost:8080/"
    },
    "id": "6b5bd6ece9fcbd99",
    "executionInfo": {
     "status": "ok",
     "timestamp": 1696076707678,
     "user_tz": -420,
     "elapsed": 37,
     "user": {
      "displayName": "kang sigit",
      "userId": "15887135570512197739"
     }
    },
    "outputId": "5cc7cd2b-d423-4cea-c5fb-aeaceda59838",
    "ExecuteTime": {
     "end_time": "2023-09-30T12:32:36.983761782Z",
     "start_time": "2023-09-30T12:32:36.329574134Z"
    }
   },
   "id": "6b5bd6ece9fcbd99"
  },
  {
   "cell_type": "code",
   "execution_count": 23,
   "outputs": [
    {
     "name": "stdout",
     "output_type": "stream",
     "text": [
      "1/1 [==============================] - 0s 63ms/step\n"
     ]
    },
    {
     "data": {
      "text/plain": "array([[27.880686]], dtype=float32)"
     },
     "execution_count": 23,
     "metadata": {},
     "output_type": "execute_result"
    }
   ],
   "source": [
    "# Let's  try to make a prediction\n",
    "model.predict([17.0])"
   ],
   "metadata": {
    "colab": {
     "base_uri": "https://localhost:8080/"
    },
    "id": "a0f497158a07079a",
    "executionInfo": {
     "status": "ok",
     "timestamp": 1696076707678,
     "user_tz": -420,
     "elapsed": 30,
     "user": {
      "displayName": "kang sigit",
      "userId": "15887135570512197739"
     }
    },
    "outputId": "5d49bee4-aedd-4687-ee45-a21a4d31ef92",
    "ExecuteTime": {
     "end_time": "2023-09-30T12:32:36.984521420Z",
     "start_time": "2023-09-30T12:32:36.333974578Z"
    }
   },
   "id": "a0f497158a07079a"
  },
  {
   "cell_type": "markdown",
   "source": [
    "## Evaluating a model\n",
    "\n",
    "In practice, a typical workflow you'll go through when building neural networks is:\n",
    "\n",
    "```\n",
    "Build a model -> fit it -> evaluate it -> tweak a model -> fit it -> evaluate it -> tweak a model -> fit it -> evaluate it...\n",
    "```\n",
    "\n"
   ],
   "metadata": {
    "collapsed": false,
    "id": "8586a632a5e30d87"
   },
   "id": "8586a632a5e30d87"
  },
  {
   "cell_type": "markdown",
   "source": [
    "When it comes to evaluation... there are 3 words you should memorize:\n",
    "\n",
    "> \"Visualize, visualize, visualize\"\n",
    "\n",
    "It's a good idea to visualize:\n",
    "* The data - what data are we working with? What does it look like?\n",
    "* The model itself - what does our model look like?\n",
    "* The training of a model - how does a model perform while it learns?\n",
    "* The predictions of the model - how do the predictions od a model line up against the ground truth (the original labels)?"
   ],
   "metadata": {
    "collapsed": false,
    "id": "b0557d4d9296152e"
   },
   "id": "b0557d4d9296152e"
  },
  {
   "cell_type": "code",
   "execution_count": 24,
   "outputs": [
    {
     "data": {
      "text/plain": "<tf.Tensor: shape=(50,), dtype=int32, numpy=\narray([-100,  -96,  -92,  -88,  -84,  -80,  -76,  -72,  -68,  -64,  -60,\n        -56,  -52,  -48,  -44,  -40,  -36,  -32,  -28,  -24,  -20,  -16,\n        -12,   -8,   -4,    0,    4,    8,   12,   16,   20,   24,   28,\n         32,   36,   40,   44,   48,   52,   56,   60,   64,   68,   72,\n         76,   80,   84,   88,   92,   96], dtype=int32)>"
     },
     "execution_count": 24,
     "metadata": {},
     "output_type": "execute_result"
    }
   ],
   "source": [
    "# Make a bigger dataset\n",
    "X = tf.range(-100, 100, 4)\n",
    "X"
   ],
   "metadata": {
    "colab": {
     "base_uri": "https://localhost:8080/"
    },
    "id": "ebfdaf1ca49a3887",
    "executionInfo": {
     "status": "ok",
     "timestamp": 1696076707678,
     "user_tz": -420,
     "elapsed": 27,
     "user": {
      "displayName": "kang sigit",
      "userId": "15887135570512197739"
     }
    },
    "outputId": "bc30d2c0-7064-4c85-ad7c-5b2adb992cb9",
    "ExecuteTime": {
     "end_time": "2023-09-30T12:32:36.984982802Z",
     "start_time": "2023-09-30T12:32:36.473164969Z"
    }
   },
   "id": "ebfdaf1ca49a3887"
  },
  {
   "cell_type": "code",
   "execution_count": 25,
   "outputs": [
    {
     "data": {
      "text/plain": "<tf.Tensor: shape=(50,), dtype=int32, numpy=\narray([-90, -86, -82, -78, -74, -70, -66, -62, -58, -54, -50, -46, -42,\n       -38, -34, -30, -26, -22, -18, -14, -10,  -6,  -2,   2,   6,  10,\n        14,  18,  22,  26,  30,  34,  38,  42,  46,  50,  54,  58,  62,\n        66,  70,  74,  78,  82,  86,  90,  94,  98, 102, 106], dtype=int32)>"
     },
     "execution_count": 25,
     "metadata": {},
     "output_type": "execute_result"
    }
   ],
   "source": [
    "# Make labels for the dataset\n",
    "y = X + 10\n",
    "y"
   ],
   "metadata": {
    "colab": {
     "base_uri": "https://localhost:8080/"
    },
    "id": "5573573108e8addc",
    "executionInfo": {
     "status": "ok",
     "timestamp": 1696076707678,
     "user_tz": -420,
     "elapsed": 25,
     "user": {
      "displayName": "kang sigit",
      "userId": "15887135570512197739"
     }
    },
    "outputId": "799c0f5b-54de-446d-80ad-e0ab45651900",
    "ExecuteTime": {
     "end_time": "2023-09-30T12:32:36.985423518Z",
     "start_time": "2023-09-30T12:32:36.473457809Z"
    }
   },
   "id": "5573573108e8addc"
  },
  {
   "cell_type": "code",
   "execution_count": 26,
   "outputs": [
    {
     "data": {
      "text/plain": "<matplotlib.collections.PathCollection at 0x7fdc9450f9d0>"
     },
     "execution_count": 26,
     "metadata": {},
     "output_type": "execute_result"
    },
    {
     "data": {
      "text/plain": "<Figure size 640x480 with 1 Axes>",
      "image/png": "[encoded data removed]"
     },
     "metadata": {},
     "output_type": "display_data"
    }
   ],
   "source": [
    "# Visualize the data\n",
    "import matplotlib.pyplot as plt\n",
    "\n",
    "plt.scatter(X, y)"
   ],
   "metadata": {
    "colab": {
     "base_uri": "https://localhost:8080/",
     "height": 448
    },
    "id": "819381cfdadb50fa",
    "executionInfo": {
     "status": "ok",
     "timestamp": 1696076707678,
     "user_tz": -420,
     "elapsed": 23,
     "user": {
      "displayName": "kang sigit",
      "userId": "15887135570512197739"
     }
    },
    "outputId": "50eb4a39-f417-4bbe-8dfa-b4e0ffe18018",
    "ExecuteTime": {
     "end_time": "2023-09-30T12:32:39.420553168Z",
     "start_time": "2023-09-30T12:32:36.473657634Z"
    }
   },
   "id": "819381cfdadb50fa"
  },
  {
   "cell_type": "markdown",
   "source": [
    "### The 3 sets...\n",
    "\n",
    "* **Training set** - the model learns from this data, which is typically 70-80% of total data you have available.\n",
    "* **Validation set** - the model gets tuned oh this data, which is typically 10-15% of the data available.\n",
    "* **Test set** - the model gets evaluated on this data to test what is has learned, this set is typically 10-15% of the total data available."
   ],
   "metadata": {
    "collapsed": false,
    "id": "811bf5a27ae79738"
   },
   "id": "811bf5a27ae79738"
  },
  {
   "cell_type": "code",
   "execution_count": 27,
   "outputs": [
    {
     "data": {
      "text/plain": "50"
     },
     "execution_count": 27,
     "metadata": {},
     "output_type": "execute_result"
    }
   ],
   "source": [
    "# Check the length of how many samples we have\n",
    "len(X)"
   ],
   "metadata": {
    "colab": {
     "base_uri": "https://localhost:8080/"
    },
    "id": "65fe1205cafb59",
    "executionInfo": {
     "status": "ok",
     "timestamp": 1696076707678,
     "user_tz": -420,
     "elapsed": 20,
     "user": {
      "displayName": "kang sigit",
      "userId": "15887135570512197739"
     }
    },
    "outputId": "73236141-f7f9-4151-9726-e43586bc76ec",
    "ExecuteTime": {
     "end_time": "2023-09-30T12:32:39.420911386Z",
     "start_time": "2023-09-30T12:32:36.736577250Z"
    }
   },
   "id": "65fe1205cafb59"
  },
  {
   "cell_type": "code",
   "execution_count": 28,
   "outputs": [
    {
     "data": {
      "text/plain": "(40, 10, 40, 10)"
     },
     "execution_count": 28,
     "metadata": {},
     "output_type": "execute_result"
    }
   ],
   "source": [
    "# Split the data into train and test sets\n",
    "X_train = X[:40] # first 40 are training samples (80% of the data)\n",
    "y_train = y[:40]\n",
    "X_test = X[40:] # last 10 are testing samples (20% of the data)\n",
    "y_test = y[40:]\n",
    "\n",
    "len(X_train), len(X_test), len(y_train), len(y_test)"
   ],
   "metadata": {
    "colab": {
     "base_uri": "https://localhost:8080/"
    },
    "id": "6d4cae941d61ab0d",
    "executionInfo": {
     "status": "ok",
     "timestamp": 1696076707678,
     "user_tz": -420,
     "elapsed": 19,
     "user": {
      "displayName": "kang sigit",
      "userId": "15887135570512197739"
     }
    },
    "outputId": "222f4a3f-fa48-4167-dd93-388106b231f7",
    "ExecuteTime": {
     "end_time": "2023-09-30T12:32:39.421124023Z",
     "start_time": "2023-09-30T12:32:36.736918977Z"
    }
   },
   "id": "6d4cae941d61ab0d"
  },
  {
   "cell_type": "markdown",
   "source": [
    "### Visualing the data\n",
    "\n",
    "Now we've got our data in training and test sets... let's visualize it again!"
   ],
   "metadata": {
    "collapsed": false,
    "id": "83c7526489cf18e8"
   },
   "id": "83c7526489cf18e8"
  },
  {
   "cell_type": "code",
   "execution_count": 29,
   "outputs": [
    {
     "data": {
      "text/plain": "<Figure size 1000x700 with 1 Axes>",
      "image/png": "[encoded data removed]"
     },
     "metadata": {},
     "output_type": "display_data"
    }
   ],
   "source": [
    "plt.figure(figsize=(10, 7))\n",
    "# Plot training data in blue\n",
    "plt.scatter(X_train, y_train, c=\"b\", label=\"Training data\")\n",
    "# Plot test data in green\n",
    "plt.scatter(X_test, y_test, c=\"g\", label=\"Testing data\")\n",
    "# Show a legend\n",
    "plt.legend();"
   ],
   "metadata": {
    "colab": {
     "base_uri": "https://localhost:8080/",
     "height": 599
    },
    "id": "ab7249faa73bbe9",
    "executionInfo": {
     "status": "ok",
     "timestamp": 1696076708327,
     "user_tz": -420,
     "elapsed": 666,
     "user": {
      "displayName": "kang sigit",
      "userId": "15887135570512197739"
     }
    },
    "outputId": "6e495691-ff17-4a7f-c1b2-2579095d6b81",
    "ExecuteTime": {
     "end_time": "2023-09-30T12:32:39.422681688Z",
     "start_time": "2023-09-30T12:32:36.737365738Z"
    }
   },
   "id": "ab7249faa73bbe9"
  },
  {
   "cell_type": "code",
   "execution_count": 30,
   "outputs": [],
   "source": [
    "# Let's have a look at how to build a neural network for our data\n",
    "\n",
    "# 1. Create a model\n",
    "model = tf.keras.Sequential([\n",
    "    tf.keras.layers.Dense(1)\n",
    "])\n",
    "\n",
    "# 2. Compile the model\n",
    "model.compile(loss=tf.keras.losses.mae,\n",
    "              optimizer=tf.keras.optimizers.SGD(),\n",
    "              metrics=[\"mae\"])\n",
    "\n",
    "# 3. Fit the model\n",
    "# model.fit(tf.expand_dims(X_train, axis=-1), y_train, epochs=100)"
   ],
   "metadata": {
    "id": "d8ffee7c2a8e42f7",
    "executionInfo": {
     "status": "ok",
     "timestamp": 1696076708328,
     "user_tz": -420,
     "elapsed": 10,
     "user": {
      "displayName": "kang sigit",
      "userId": "15887135570512197739"
     }
    },
    "ExecuteTime": {
     "end_time": "2023-09-30T12:32:39.694971380Z",
     "start_time": "2023-09-30T12:32:36.978494252Z"
    }
   },
   "id": "d8ffee7c2a8e42f7"
  },
  {
   "cell_type": "markdown",
   "source": [
    "### Visualizing the model"
   ],
   "metadata": {
    "collapsed": false,
    "id": "898b10b4eeedd11e"
   },
   "id": "898b10b4eeedd11e"
  },
  {
   "cell_type": "code",
   "execution_count": 31,
   "outputs": [
    {
     "ename": "ValueError",
     "evalue": "This model has not yet been built. Build the model first by calling `build()` or by calling the model on a batch of data.",
     "output_type": "error",
     "traceback": [
      "\u001B[0;31m---------------------------------------------------------------------------\u001B[0m",
      "\u001B[0;31mValueError\u001B[0m                                Traceback (most recent call last)",
      "Cell \u001B[0;32mIn[31], line 1\u001B[0m\n\u001B[0;32m----> 1\u001B[0m model\u001B[38;5;241m.\u001B[39msummary()\n",
      "File \u001B[0;32m~/anaconda3/envs/tensorflow-zero-to-master/lib/python3.11/site-packages/keras/engine/training.py:3229\u001B[0m, in \u001B[0;36mModel.summary\u001B[0;34m(self, line_length, positions, print_fn, expand_nested, show_trainable, layer_range)\u001B[0m\n\u001B[1;32m   3198\u001B[0m \u001B[38;5;250m\u001B[39m\u001B[38;5;124;03m\"\"\"Prints a string summary of the network.\u001B[39;00m\n\u001B[1;32m   3199\u001B[0m \n\u001B[1;32m   3200\u001B[0m \u001B[38;5;124;03mArgs:\u001B[39;00m\n\u001B[0;32m   (...)\u001B[0m\n\u001B[1;32m   3226\u001B[0m \u001B[38;5;124;03m    ValueError: if `summary()` is called before the model is built.\u001B[39;00m\n\u001B[1;32m   3227\u001B[0m \u001B[38;5;124;03m\"\"\"\u001B[39;00m\n\u001B[1;32m   3228\u001B[0m \u001B[38;5;28;01mif\u001B[39;00m \u001B[38;5;129;01mnot\u001B[39;00m \u001B[38;5;28mself\u001B[39m\u001B[38;5;241m.\u001B[39mbuilt:\n\u001B[0;32m-> 3229\u001B[0m     \u001B[38;5;28;01mraise\u001B[39;00m \u001B[38;5;167;01mValueError\u001B[39;00m(\n\u001B[1;32m   3230\u001B[0m         \u001B[38;5;124m\"\u001B[39m\u001B[38;5;124mThis model has not yet been built. \u001B[39m\u001B[38;5;124m\"\u001B[39m\n\u001B[1;32m   3231\u001B[0m         \u001B[38;5;124m\"\u001B[39m\u001B[38;5;124mBuild the model first by calling `build()` or by calling \u001B[39m\u001B[38;5;124m\"\u001B[39m\n\u001B[1;32m   3232\u001B[0m         \u001B[38;5;124m\"\u001B[39m\u001B[38;5;124mthe model on a batch of data.\u001B[39m\u001B[38;5;124m\"\u001B[39m\n\u001B[1;32m   3233\u001B[0m     )\n\u001B[1;32m   3234\u001B[0m layer_utils\u001B[38;5;241m.\u001B[39mprint_summary(\n\u001B[1;32m   3235\u001B[0m     \u001B[38;5;28mself\u001B[39m,\n\u001B[1;32m   3236\u001B[0m     line_length\u001B[38;5;241m=\u001B[39mline_length,\n\u001B[0;32m   (...)\u001B[0m\n\u001B[1;32m   3241\u001B[0m     layer_range\u001B[38;5;241m=\u001B[39mlayer_range,\n\u001B[1;32m   3242\u001B[0m )\n",
      "\u001B[0;31mValueError\u001B[0m: This model has not yet been built. Build the model first by calling `build()` or by calling the model on a batch of data."
     ]
    }
   ],
   "source": [
    "model.summary()"
   ],
   "metadata": {
    "colab": {
     "base_uri": "https://localhost:8080/",
     "height": 346
    },
    "id": "5c62d9de9c0b5118",
    "executionInfo": {
     "status": "error",
     "timestamp": 1696076708328,
     "user_tz": -420,
     "elapsed": 9,
     "user": {
      "displayName": "kang sigit",
      "userId": "15887135570512197739"
     }
    },
    "outputId": "d80a5003-4477-4613-82d5-9ebc9a96dd43",
    "ExecuteTime": {
     "end_time": "2023-09-30T12:32:39.696207696Z",
     "start_time": "2023-09-30T12:32:37.019885301Z"
    }
   },
   "id": "5c62d9de9c0b5118"
  },
  {
   "cell_type": "code",
   "execution_count": 32,
   "outputs": [
    {
     "data": {
      "text/plain": "(<tf.Tensor: shape=(), dtype=int32, numpy=-100>,\n <tf.Tensor: shape=(), dtype=int32, numpy=-90>)"
     },
     "execution_count": 32,
     "metadata": {},
     "output_type": "execute_result"
    }
   ],
   "source": [
    "X[0], y[0]"
   ],
   "metadata": {
    "colab": {
     "base_uri": "https://localhost:8080/"
    },
    "id": "46ca08d5fb0a5d65",
    "executionInfo": {
     "status": "ok",
     "timestamp": 1696076717633,
     "user_tz": -420,
     "elapsed": 10,
     "user": {
      "displayName": "kang sigit",
      "userId": "15887135570512197739"
     }
    },
    "outputId": "7153ad61-fb91-4517-d967-04743d87b16f",
    "ExecuteTime": {
     "end_time": "2023-09-30T12:49:26.130275454Z",
     "start_time": "2023-09-30T12:49:26.071241198Z"
    }
   },
   "id": "46ca08d5fb0a5d65"
  },
  {
   "cell_type": "code",
   "execution_count": 33,
   "outputs": [],
   "source": [
    "# Let's create a model which builds automatically by defining the input_shape argument in the first layer\n",
    "tf.random.set_seed(42)\n",
    "\n",
    "# 1. Create a model (same as above)\n",
    "model = tf.keras.Sequential([\n",
    "    tf.keras.layers.Dense(10, input_shape=[1], name=\"input_layer\"),\n",
    "    tf.keras.layers.Dense(1, name=\"output_layer\")\n",
    "], name=\"model_1\")\n",
    "\n",
    "# 2. Compile the model (same as above)\n",
    "model.compile(loss=tf.keras.losses.mae,\n",
    "              optimizer=tf.keras.optimizers.SGD(),\n",
    "              metrics=[\"mae\"])"
   ],
   "metadata": {
    "id": "42cd0d927d2d8699",
    "executionInfo": {
     "status": "ok",
     "timestamp": 1696076720211,
     "user_tz": -420,
     "elapsed": 10,
     "user": {
      "displayName": "kang sigit",
      "userId": "15887135570512197739"
     }
    },
    "ExecuteTime": {
     "end_time": "2023-09-30T12:49:28.975371129Z",
     "start_time": "2023-09-30T12:49:28.901779280Z"
    }
   },
   "id": "42cd0d927d2d8699"
  },
  {
   "cell_type": "code",
   "execution_count": 34,
   "outputs": [
    {
     "name": "stdout",
     "output_type": "stream",
     "text": [
      "Model: \"model_1\"\n",
      "_________________________________________________________________\n",
      " Layer (type)                Output Shape              Param #   \n",
      "=================================================================\n",
      " input_layer (Dense)         (None, 10)                20        \n",
      "                                                                 \n",
      " output_layer (Dense)        (None, 1)                 11        \n",
      "                                                                 \n",
      "=================================================================\n",
      "Total params: 31\n",
      "Trainable params: 31\n",
      "Non-trainable params: 0\n",
      "_________________________________________________________________\n"
     ]
    }
   ],
   "source": [
    "model.summary()"
   ],
   "metadata": {
    "colab": {
     "base_uri": "https://localhost:8080/"
    },
    "id": "12813b7ae6d41c34",
    "executionInfo": {
     "status": "ok",
     "timestamp": 1696076725813,
     "user_tz": -420,
     "elapsed": 612,
     "user": {
      "displayName": "kang sigit",
      "userId": "15887135570512197739"
     }
    },
    "outputId": "f12abca0-cc47-466d-fcd4-d44e2144977c",
    "ExecuteTime": {
     "end_time": "2023-09-30T12:49:31.673472408Z",
     "start_time": "2023-09-30T12:49:31.502724133Z"
    }
   },
   "id": "12813b7ae6d41c34"
  },
  {
   "cell_type": "markdown",
   "source": [
    "* Total params - total number of parameters in the model.\n",
    "* Trainable parameters - these are the parameters (patterns) the model can update as it trains.\n",
    "* Non-trainable params - these parameters aren't updated during training (this is typical when you bring in already learn patterns or parameters from other models during **transfer learning**)\n",
    "\n",
    "**Resource:** For a more in-depth overview of the trainable parameters within a layer, check out [MIT's introduction to deep learning video](https://www.youtube.com/watch?v=QDX-1M5Nj7s&list=PLtBw6njQRU-rwp5__7C0oIVt26ZgjG9NI&index=2).\n",
    "\n",
    "**Exercise:** Try playing around with the number of hidden units in the dense layer, see how that effects the number of parameters (total and trainable) by calling `model.summary`."
   ],
   "metadata": {
    "collapsed": false,
    "id": "fe2ddf6925ef3e1b"
   },
   "id": "fe2ddf6925ef3e1b"
  },
  {
   "cell_type": "code",
   "execution_count": 35,
   "outputs": [
    {
     "data": {
      "text/plain": "<keras.callbacks.History at 0x7fdc5753e450>"
     },
     "execution_count": 35,
     "metadata": {},
     "output_type": "execute_result"
    }
   ],
   "source": [
    "# Let's fit our model to the training data\n",
    "model.fit(X_train, y_train, epochs=100, verbose=0)"
   ],
   "metadata": {
    "colab": {
     "base_uri": "https://localhost:8080/"
    },
    "id": "6cae2a5b5d81a33c",
    "executionInfo": {
     "status": "ok",
     "timestamp": 1696076731840,
     "user_tz": -420,
     "elapsed": 2129,
     "user": {
      "displayName": "kang sigit",
      "userId": "15887135570512197739"
     }
    },
    "outputId": "55f2e786-ca32-495c-c4b9-e0d598ca92a0",
    "ExecuteTime": {
     "end_time": "2023-09-30T12:49:36.761547319Z",
     "start_time": "2023-09-30T12:49:35.104758214Z"
    }
   },
   "id": "6cae2a5b5d81a33c"
  },
  {
   "cell_type": "code",
   "execution_count": 36,
   "outputs": [
    {
     "name": "stdout",
     "output_type": "stream",
     "text": [
      "Model: \"model_1\"\n",
      "_________________________________________________________________\n",
      " Layer (type)                Output Shape              Param #   \n",
      "=================================================================\n",
      " input_layer (Dense)         (None, 10)                20        \n",
      "                                                                 \n",
      " output_layer (Dense)        (None, 1)                 11        \n",
      "                                                                 \n",
      "=================================================================\n",
      "Total params: 31\n",
      "Trainable params: 31\n",
      "Non-trainable params: 0\n",
      "_________________________________________________________________\n"
     ]
    }
   ],
   "source": [
    "# Get a summary of our model\n",
    "model.summary()"
   ],
   "metadata": {
    "colab": {
     "base_uri": "https://localhost:8080/"
    },
    "id": "ef79d837a807dbff",
    "executionInfo": {
     "status": "ok",
     "timestamp": 1696076734841,
     "user_tz": -420,
     "elapsed": 14,
     "user": {
      "displayName": "kang sigit",
      "userId": "15887135570512197739"
     }
    },
    "outputId": "b874b077-66d4-48c3-d617-ab8bd9ea2360",
    "ExecuteTime": {
     "end_time": "2023-09-30T12:49:38.021587152Z",
     "start_time": "2023-09-30T12:49:37.900233719Z"
    }
   },
   "id": "ef79d837a807dbff"
  },
  {
   "cell_type": "code",
   "execution_count": 37,
   "outputs": [
    {
     "data": {
      "image/png": "[encoded data removed]",
      "text/plain": "<IPython.core.display.Image object>"
     },
     "execution_count": 37,
     "metadata": {},
     "output_type": "execute_result"
    }
   ],
   "source": [
    "# from tensorflow.keras.utils import plot_model\n",
    "# plot_model(model)\n",
    "tf.keras.utils.plot_model(model=model, show_shapes=True)"
   ],
   "metadata": {
    "colab": {
     "base_uri": "https://localhost:8080/",
     "height": 312
    },
    "id": "9f76823a012a16fc",
    "executionInfo": {
     "status": "ok",
     "timestamp": 1696076739831,
     "user_tz": -420,
     "elapsed": 5,
     "user": {
      "displayName": "kang sigit",
      "userId": "15887135570512197739"
     }
    },
    "outputId": "38ae9add-0cbe-45dd-9626-7c468c85b694",
    "ExecuteTime": {
     "end_time": "2023-09-30T12:49:39.370512989Z",
     "start_time": "2023-09-30T12:49:39.292003634Z"
    }
   },
   "id": "9f76823a012a16fc"
  },
  {
   "cell_type": "markdown",
   "source": [
    "### Visualizing our model's predictions\n",
    "\n",
    "To visualize predictions, it's a good idea to plot them against the ground truth labels.\n",
    "\n",
    "Often you'll see this in the form of `y_test` or `y_true` versus `y_pred` (ground truth versus your model's predictions)"
   ],
   "metadata": {
    "collapsed": false,
    "id": "f5244483f581fae1"
   },
   "id": "f5244483f581fae1"
  },
  {
   "cell_type": "code",
   "execution_count": 38,
   "outputs": [
    {
     "name": "stdout",
     "output_type": "stream",
     "text": [
      "1/1 [==============================] - 0s 63ms/step\n"
     ]
    },
    {
     "data": {
      "text/plain": "array([[35.043   ],\n       [37.2839  ],\n       [39.524803],\n       [41.765705],\n       [44.006607],\n       [46.247513],\n       [48.48842 ],\n       [50.729317],\n       [52.970222],\n       [55.21113 ]], dtype=float32)"
     },
     "execution_count": 38,
     "metadata": {},
     "output_type": "execute_result"
    }
   ],
   "source": [
    "y_pred = model.predict(X_test)\n",
    "y_pred"
   ],
   "metadata": {
    "colab": {
     "base_uri": "https://localhost:8080/"
    },
    "id": "293c2620b65dc170",
    "executionInfo": {
     "status": "ok",
     "timestamp": 1696076744822,
     "user_tz": -420,
     "elapsed": 10,
     "user": {
      "displayName": "kang sigit",
      "userId": "15887135570512197739"
     }
    },
    "outputId": "4ee87d96-0c2e-4169-b0dd-4c1440d57eb3",
    "ExecuteTime": {
     "end_time": "2023-09-30T12:49:42.000076545Z",
     "start_time": "2023-09-30T12:49:41.669057639Z"
    }
   },
   "id": "293c2620b65dc170"
  },
  {
   "cell_type": "code",
   "execution_count": 39,
   "outputs": [
    {
     "data": {
      "text/plain": "<tf.Tensor: shape=(10,), dtype=int32, numpy=array([ 70,  74,  78,  82,  86,  90,  94,  98, 102, 106], dtype=int32)>"
     },
     "execution_count": 39,
     "metadata": {},
     "output_type": "execute_result"
    }
   ],
   "source": [
    "y_test"
   ],
   "metadata": {
    "colab": {
     "base_uri": "https://localhost:8080/"
    },
    "id": "6c948e1753458992",
    "executionInfo": {
     "status": "ok",
     "timestamp": 1696076748866,
     "user_tz": -420,
     "elapsed": 623,
     "user": {
      "displayName": "kang sigit",
      "userId": "15887135570512197739"
     }
    },
    "outputId": "426fda75-0bdc-4f22-828b-160c21f17527",
    "ExecuteTime": {
     "end_time": "2023-09-30T12:49:43.522243571Z",
     "start_time": "2023-09-30T12:49:43.437304974Z"
    }
   },
   "id": "6c948e1753458992"
  },
  {
   "cell_type": "markdown",
   "source": [
    "🔑 **Note:** If you feel like you're going to reuse some kind of functionality in the future, it's a good idea to turn it into function."
   ],
   "metadata": {
    "collapsed": false,
    "id": "39dcf705504e7045"
   },
   "id": "39dcf705504e7045"
  },
  {
   "cell_type": "code",
   "execution_count": 40,
   "outputs": [],
   "source": [
    "# Let's create a plotting function\n",
    "def plot_predictions(train_data=X_train,\n",
    "                     train_labels=y_train,\n",
    "                     test_data=X_test,\n",
    "                     test_labels=y_test,\n",
    "                     predictions=y_pred):\n",
    "    \"\"\"\n",
    "    Plots training data, test data and compares predictions to ground truth labels.\n",
    "    \"\"\"\n",
    "\n",
    "    plt.figure(figsize=(10, 7))\n",
    "    # Plot training data in blue\n",
    "    plt.scatter(train_data, train_labels, c=\"b\", label=\"Training data\")\n",
    "    # Plot testing data in green\n",
    "    plt.scatter(test_data, test_labels, c=\"g\", label=\"Testing data\")\n",
    "    # Plot model's predictions in red\n",
    "    plt.scatter(test_data, predictions, c=\"r\", label=\"Predictions\")\n",
    "    # Show the legend\n",
    "    plt.legend();"
   ],
   "metadata": {
    "id": "71cba8a1be7b2c81",
    "executionInfo": {
     "status": "ok",
     "timestamp": 1696076751527,
     "user_tz": -420,
     "elapsed": 6,
     "user": {
      "displayName": "kang sigit",
      "userId": "15887135570512197739"
     }
    },
    "ExecuteTime": {
     "end_time": "2023-09-30T12:49:45.395460760Z",
     "start_time": "2023-09-30T12:49:45.329026683Z"
    }
   },
   "id": "71cba8a1be7b2c81"
  },
  {
   "cell_type": "code",
   "execution_count": 41,
   "outputs": [
    {
     "data": {
      "text/plain": "<Figure size 1000x700 with 1 Axes>",
      "image/png": "[encoded data removed]"
     },
     "metadata": {},
     "output_type": "display_data"
    }
   ],
   "source": [
    "plot_predictions(train_data=X_train,\n",
    "                 train_labels=y_train,\n",
    "                 test_data=X_test,\n",
    "                 test_labels=y_test,\n",
    "                 predictions=y_pred)"
   ],
   "metadata": {
    "colab": {
     "base_uri": "https://localhost:8080/",
     "height": 599
    },
    "id": "2a6d51a53151bf01",
    "executionInfo": {
     "status": "ok",
     "timestamp": 1696076756188,
     "user_tz": -420,
     "elapsed": 676,
     "user": {
      "displayName": "kang sigit",
      "userId": "15887135570512197739"
     }
    },
    "outputId": "5622b327-d23a-443a-98eb-37621a728b65",
    "ExecuteTime": {
     "end_time": "2023-09-30T12:49:46.761180922Z",
     "start_time": "2023-09-30T12:49:46.516315467Z"
    }
   },
   "id": "2a6d51a53151bf01"
  },
  {
   "cell_type": "markdown",
   "source": [
    "### Evaluating our model's predictions with regression evaluation metrics\n",
    "\n",
    "Depending on the problem you're working on, there will be different evaluation metrics to evaluate your model's performance.\n",
    "\n",
    "Since we're working on a regresion, two of the main metrics:\n",
    "* MAE - mean absolute error, \"on average, how wrong is each of my model's predictions\"\n",
    "* MSE - mean square error, \"square the average errors\""
   ],
   "metadata": {
    "collapsed": false,
    "id": "9ebf4e56a0b6b139"
   },
   "id": "9ebf4e56a0b6b139"
  },
  {
   "cell_type": "code",
   "execution_count": 42,
   "outputs": [
    {
     "name": "stdout",
     "output_type": "stream",
     "text": [
      "1/1 [==============================] - 0s 112ms/step - loss: 42.8729 - mae: 42.8729\n"
     ]
    },
    {
     "data": {
      "text/plain": "[42.8729362487793, 42.8729362487793]"
     },
     "execution_count": 42,
     "metadata": {},
     "output_type": "execute_result"
    }
   ],
   "source": [
    "# Evaluate the model on the test\n",
    "model.evaluate(X_test, y_test)"
   ],
   "metadata": {
    "colab": {
     "base_uri": "https://localhost:8080/"
    },
    "id": "36177621aade1e45",
    "executionInfo": {
     "status": "ok",
     "timestamp": 1696076760260,
     "user_tz": -420,
     "elapsed": 3,
     "user": {
      "displayName": "kang sigit",
      "userId": "15887135570512197739"
     }
    },
    "outputId": "8fde979d-d6d8-4b3c-cc52-788e23f56633",
    "ExecuteTime": {
     "end_time": "2023-09-30T12:49:51.102853409Z",
     "start_time": "2023-09-30T12:49:50.878167001Z"
    }
   },
   "id": "36177621aade1e45"
  },
  {
   "cell_type": "code",
   "execution_count": 43,
   "outputs": [
    {
     "data": {
      "text/plain": "<tf.Tensor: shape=(10,), dtype=float32, numpy=\narray([52.957   , 50.7161  , 48.475197, 46.234295, 43.993393, 41.752487,\n       39.51158 , 37.270683, 35.029778, 32.78887 ], dtype=float32)>"
     },
     "execution_count": 43,
     "metadata": {},
     "output_type": "execute_result"
    }
   ],
   "source": [
    "# Calculate the mean absolute error (wrong output)\n",
    "mae = tf.metrics.mean_absolute_error(y_true=y_test, y_pred=y_pred)\n",
    "mae"
   ],
   "metadata": {
    "colab": {
     "base_uri": "https://localhost:8080/"
    },
    "id": "575b0fa5aebbd5fd",
    "executionInfo": {
     "status": "ok",
     "timestamp": 1696076763811,
     "user_tz": -420,
     "elapsed": 715,
     "user": {
      "displayName": "kang sigit",
      "userId": "15887135570512197739"
     }
    },
    "outputId": "27b75cf0-09ff-4843-c70c-8761bba46195",
    "ExecuteTime": {
     "end_time": "2023-09-30T12:49:52.100549089Z",
     "start_time": "2023-09-30T12:49:52.052638755Z"
    }
   },
   "id": "575b0fa5aebbd5fd"
  },
  {
   "cell_type": "code",
   "execution_count": 44,
   "outputs": [
    {
     "data": {
      "text/plain": "array([[35.043   ],\n       [37.2839  ],\n       [39.524803],\n       [41.765705],\n       [44.006607],\n       [46.247513],\n       [48.48842 ],\n       [50.729317],\n       [52.970222],\n       [55.21113 ]], dtype=float32)"
     },
     "execution_count": 44,
     "metadata": {},
     "output_type": "execute_result"
    }
   ],
   "source": [
    "y_pred"
   ],
   "metadata": {
    "colab": {
     "base_uri": "https://localhost:8080/"
    },
    "id": "aedf7261aa2cc7ac",
    "executionInfo": {
     "status": "ok",
     "timestamp": 1696076770397,
     "user_tz": -420,
     "elapsed": 550,
     "user": {
      "displayName": "kang sigit",
      "userId": "15887135570512197739"
     }
    },
    "outputId": "780baeaa-5d3c-4eff-94cf-7e86833d9d55",
    "ExecuteTime": {
     "end_time": "2023-09-30T12:49:53.014711418Z",
     "start_time": "2023-09-30T12:49:52.983287103Z"
    }
   },
   "id": "aedf7261aa2cc7ac"
  },
  {
   "cell_type": "code",
   "execution_count": 45,
   "outputs": [
    {
     "data": {
      "text/plain": "<tf.Tensor: shape=(10, 1), dtype=float32, numpy=\narray([[35.043   ],\n       [37.2839  ],\n       [39.524803],\n       [41.765705],\n       [44.006607],\n       [46.247513],\n       [48.48842 ],\n       [50.729317],\n       [52.970222],\n       [55.21113 ]], dtype=float32)>"
     },
     "execution_count": 45,
     "metadata": {},
     "output_type": "execute_result"
    }
   ],
   "source": [
    "tf.constant(y_pred)"
   ],
   "metadata": {
    "colab": {
     "base_uri": "https://localhost:8080/"
    },
    "id": "efcfefa487523699",
    "executionInfo": {
     "status": "ok",
     "timestamp": 1696076773607,
     "user_tz": -420,
     "elapsed": 546,
     "user": {
      "displayName": "kang sigit",
      "userId": "15887135570512197739"
     }
    },
    "outputId": "208db3b7-e815-45df-983c-245825caa58f",
    "ExecuteTime": {
     "end_time": "2023-09-30T12:49:53.974933205Z",
     "start_time": "2023-09-30T12:49:53.931759773Z"
    }
   },
   "id": "efcfefa487523699"
  },
  {
   "cell_type": "code",
   "execution_count": 46,
   "outputs": [
    {
     "data": {
      "text/plain": "<tf.Tensor: shape=(10,), dtype=float32, numpy=\narray([35.043   , 37.2839  , 39.524803, 41.765705, 44.006607, 46.247513,\n       48.48842 , 50.729317, 52.970222, 55.21113 ], dtype=float32)>"
     },
     "execution_count": 46,
     "metadata": {},
     "output_type": "execute_result"
    }
   ],
   "source": [
    "tf.squeeze(y_pred)"
   ],
   "metadata": {
    "colab": {
     "base_uri": "https://localhost:8080/"
    },
    "id": "f5f88f1ace7aeab8",
    "executionInfo": {
     "status": "ok",
     "timestamp": 1696076776274,
     "user_tz": -420,
     "elapsed": 11,
     "user": {
      "displayName": "kang sigit",
      "userId": "15887135570512197739"
     }
    },
    "outputId": "36ecd7c8-310f-4361-8a69-a11728deae72",
    "ExecuteTime": {
     "end_time": "2023-09-30T12:49:54.668528829Z",
     "start_time": "2023-09-30T12:49:54.634471532Z"
    }
   },
   "id": "f5f88f1ace7aeab8"
  },
  {
   "cell_type": "code",
   "execution_count": 47,
   "outputs": [
    {
     "data": {
      "text/plain": "<tf.Tensor: shape=(10,), dtype=int32, numpy=array([ 70,  74,  78,  82,  86,  90,  94,  98, 102, 106], dtype=int32)>"
     },
     "execution_count": 47,
     "metadata": {},
     "output_type": "execute_result"
    }
   ],
   "source": [
    "y_test"
   ],
   "metadata": {
    "colab": {
     "base_uri": "https://localhost:8080/"
    },
    "id": "5dad140f654bcf85",
    "executionInfo": {
     "status": "ok",
     "timestamp": 1696076779803,
     "user_tz": -420,
     "elapsed": 9,
     "user": {
      "displayName": "kang sigit",
      "userId": "15887135570512197739"
     }
    },
    "outputId": "eaa141da-b33a-4245-860d-9bf94dc1184b",
    "ExecuteTime": {
     "end_time": "2023-09-30T12:49:55.628365287Z",
     "start_time": "2023-09-30T12:49:55.592117985Z"
    }
   },
   "id": "5dad140f654bcf85"
  },
  {
   "cell_type": "code",
   "execution_count": 48,
   "outputs": [
    {
     "data": {
      "text/plain": "<tf.Tensor: shape=(), dtype=float32, numpy=42.872936>"
     },
     "execution_count": 48,
     "metadata": {},
     "output_type": "execute_result"
    }
   ],
   "source": [
    "# Calculate the mean absolute error\n",
    "mae = tf.metrics.mean_absolute_error(y_true=y_test, y_pred=tf.squeeze(y_pred))\n",
    "mae"
   ],
   "metadata": {
    "colab": {
     "base_uri": "https://localhost:8080/"
    },
    "id": "cd2acac44e2bdbab",
    "executionInfo": {
     "status": "ok",
     "timestamp": 1696076782346,
     "user_tz": -420,
     "elapsed": 7,
     "user": {
      "displayName": "kang sigit",
      "userId": "15887135570512197739"
     }
    },
    "outputId": "080b3669-5b49-49d7-d8b0-369f59c86ff5",
    "ExecuteTime": {
     "end_time": "2023-09-30T12:49:56.319418200Z",
     "start_time": "2023-09-30T12:49:56.286987561Z"
    }
   },
   "id": "cd2acac44e2bdbab"
  },
  {
   "cell_type": "code",
   "execution_count": 49,
   "outputs": [
    {
     "data": {
      "text/plain": "<tf.Tensor: shape=(), dtype=float32, numpy=1863.6179>"
     },
     "execution_count": 49,
     "metadata": {},
     "output_type": "execute_result"
    }
   ],
   "source": [
    "# Calculate the mean square error\n",
    "mse = tf.metrics.mean_squared_error(y_true=y_test,\n",
    "                                    y_pred=tf.squeeze(y_pred))\n",
    "mse"
   ],
   "metadata": {
    "colab": {
     "base_uri": "https://localhost:8080/"
    },
    "id": "fe4b0fd576d35da1",
    "executionInfo": {
     "status": "ok",
     "timestamp": 1696076787598,
     "user_tz": -420,
     "elapsed": 700,
     "user": {
      "displayName": "kang sigit",
      "userId": "15887135570512197739"
     }
    },
    "outputId": "cc58b7f4-9bc0-49f0-e7f7-1d2fa4171ae7",
    "ExecuteTime": {
     "end_time": "2023-09-30T12:49:57.013208992Z",
     "start_time": "2023-09-30T12:49:56.979945201Z"
    }
   },
   "id": "fe4b0fd576d35da1"
  },
  {
   "cell_type": "code",
   "execution_count": 50,
   "outputs": [],
   "source": [
    "# Make some functions to reuse MAE and MSE\n",
    "def mae(y_true, y_pred):\n",
    "    return tf.metrics.mean_absolute_error(y_true=y_true,\n",
    "                                          y_pred=tf.squeeze(y_pred))\n",
    "\n",
    "def mse(y_true, y_pred):\n",
    "    return tf.metrics.mean_squared_error(y_true=y_true,\n",
    "                                         y_pred=tf.squeeze(y_pred))"
   ],
   "metadata": {
    "id": "c6fceadbc41c29ae",
    "executionInfo": {
     "status": "ok",
     "timestamp": 1696076790743,
     "user_tz": -420,
     "elapsed": 675,
     "user": {
      "displayName": "kang sigit",
      "userId": "15887135570512197739"
     }
    },
    "ExecuteTime": {
     "end_time": "2023-09-30T12:49:57.718058916Z",
     "start_time": "2023-09-30T12:49:57.659820814Z"
    }
   },
   "id": "c6fceadbc41c29ae"
  },
  {
   "cell_type": "markdown",
   "source": [
    "### Running experiments to improve our model\n",
    "\n",
    "```\n",
    "Build a model -> fit it -> evaluate it -> tweak it -> fit it -> evaluate it -> tweak it -> fit it -> evaluate it ...\n",
    "```\n",
    "\n",
    "1. Get more data - get more examples for your model to train on (more opportunities to learn patterns or relationships between features and labels).\n",
    "2. Make your model larger (using a more complex model) - this might come in the form of more layers or more hidden units in each layer.\n",
    "3. Train for longger - give your model more of a chance to find patterns in the data.\n",
    "\n",
    "Let's do 3 modelling experiments:\n",
    "\n",
    "1. `model_1` - same as original model, 1 layer, trained for 100 epochs.\n",
    "2. `model_2` - 2 layers, trained for 100 epochs.\n",
    "3. `model_3` - 2 layers, trained for 500 epochs.\n",
    "\n",
    "**Build `model_1`**"
   ],
   "metadata": {
    "collapsed": false,
    "id": "b61006e52b76be84"
   },
   "id": "b61006e52b76be84"
  },
  {
   "cell_type": "code",
   "execution_count": 64,
   "outputs": [
    {
     "name": "stdout",
     "output_type": "stream",
     "text": [
      "Epoch 1/100\n",
      "2/2 [==============================] - 0s 4ms/step - loss: 87.5397 - mae: 87.5397\n",
      "Epoch 2/100\n",
      "2/2 [==============================] - 0s 3ms/step - loss: 52.0843 - mae: 52.0843\n",
      "Epoch 3/100\n",
      "2/2 [==============================] - 0s 2ms/step - loss: 16.6278 - mae: 16.6278\n",
      "Epoch 4/100\n",
      "2/2 [==============================] - 0s 3ms/step - loss: 8.9503 - mae: 8.9503\n",
      "Epoch 5/100\n",
      "2/2 [==============================] - 0s 3ms/step - loss: 11.1794 - mae: 11.1794\n",
      "Epoch 6/100\n",
      "2/2 [==============================] - 0s 2ms/step - loss: 10.3243 - mae: 10.3243\n",
      "Epoch 7/100\n",
      "2/2 [==============================] - 0s 3ms/step - loss: 9.3212 - mae: 9.3212\n",
      "Epoch 8/100\n",
      "2/2 [==============================] - 0s 2ms/step - loss: 9.2254 - mae: 9.2254\n",
      "Epoch 9/100\n",
      "2/2 [==============================] - 0s 3ms/step - loss: 11.8832 - mae: 11.8832\n",
      "Epoch 10/100\n",
      "2/2 [==============================] - 0s 3ms/step - loss: 13.8266 - mae: 13.8266\n",
      "Epoch 11/100\n",
      "2/2 [==============================] - 0s 3ms/step - loss: 11.9321 - mae: 11.9321\n",
      "Epoch 12/100\n",
      "2/2 [==============================] - 0s 3ms/step - loss: 16.2667 - mae: 16.2667\n",
      "Epoch 13/100\n",
      "2/2 [==============================] - 0s 2ms/step - loss: 11.8522 - mae: 11.8522\n",
      "Epoch 14/100\n",
      "2/2 [==============================] - 0s 3ms/step - loss: 13.7435 - mae: 13.7435\n",
      "Epoch 15/100\n",
      "2/2 [==============================] - 0s 2ms/step - loss: 11.1259 - mae: 11.1259\n",
      "Epoch 16/100\n",
      "2/2 [==============================] - 0s 2ms/step - loss: 8.6521 - mae: 8.6521\n",
      "Epoch 17/100\n",
      "2/2 [==============================] - 0s 3ms/step - loss: 13.8684 - mae: 13.8684\n",
      "Epoch 18/100\n",
      "2/2 [==============================] - 0s 3ms/step - loss: 11.7484 - mae: 11.7484\n",
      "Epoch 19/100\n",
      "2/2 [==============================] - 0s 3ms/step - loss: 17.6190 - mae: 17.6190\n",
      "Epoch 20/100\n",
      "2/2 [==============================] - 0s 3ms/step - loss: 14.7559 - mae: 14.7559\n",
      "Epoch 21/100\n",
      "2/2 [==============================] - 0s 3ms/step - loss: 10.6940 - mae: 10.6940\n",
      "Epoch 22/100\n",
      "2/2 [==============================] - 0s 3ms/step - loss: 8.4253 - mae: 8.4253\n",
      "Epoch 23/100\n",
      "2/2 [==============================] - 0s 3ms/step - loss: 9.8984 - mae: 9.8984\n",
      "Epoch 24/100\n",
      "2/2 [==============================] - 0s 3ms/step - loss: 15.8741 - mae: 15.8741\n",
      "Epoch 25/100\n",
      "2/2 [==============================] - 0s 2ms/step - loss: 12.2795 - mae: 12.2795\n",
      "Epoch 26/100\n",
      "2/2 [==============================] - 0s 3ms/step - loss: 13.4366 - mae: 13.4366\n",
      "Epoch 27/100\n",
      "2/2 [==============================] - 0s 2ms/step - loss: 10.8394 - mae: 10.8394\n",
      "Epoch 28/100\n",
      "2/2 [==============================] - 0s 3ms/step - loss: 13.1433 - mae: 13.1433\n",
      "Epoch 29/100\n",
      "2/2 [==============================] - 0s 2ms/step - loss: 9.5814 - mae: 9.5814\n",
      "Epoch 30/100\n",
      "2/2 [==============================] - 0s 2ms/step - loss: 16.7951 - mae: 16.7951\n",
      "Epoch 31/100\n",
      "2/2 [==============================] - 0s 2ms/step - loss: 23.2499 - mae: 23.2499\n",
      "Epoch 32/100\n",
      "2/2 [==============================] - 0s 4ms/step - loss: 7.3345 - mae: 7.3345\n",
      "Epoch 33/100\n",
      "2/2 [==============================] - 0s 2ms/step - loss: 10.4771 - mae: 10.4771\n",
      "Epoch 34/100\n",
      "2/2 [==============================] - 0s 2ms/step - loss: 9.7582 - mae: 9.7582\n",
      "Epoch 35/100\n",
      "2/2 [==============================] - 0s 2ms/step - loss: 8.4122 - mae: 8.4122\n",
      "Epoch 36/100\n",
      "2/2 [==============================] - 0s 3ms/step - loss: 8.5627 - mae: 8.5627\n",
      "Epoch 37/100\n",
      "2/2 [==============================] - 0s 3ms/step - loss: 8.6162 - mae: 8.6162\n",
      "Epoch 38/100\n",
      "2/2 [==============================] - 0s 3ms/step - loss: 9.2583 - mae: 9.2583\n",
      "Epoch 39/100\n",
      "2/2 [==============================] - 0s 2ms/step - loss: 10.1713 - mae: 10.1713\n",
      "Epoch 40/100\n",
      "2/2 [==============================] - 0s 3ms/step - loss: 9.7294 - mae: 9.7294\n",
      "Epoch 41/100\n",
      "2/2 [==============================] - 0s 3ms/step - loss: 8.0812 - mae: 8.0812\n",
      "Epoch 42/100\n",
      "2/2 [==============================] - 0s 2ms/step - loss: 10.4909 - mae: 10.4909\n",
      "Epoch 43/100\n",
      "2/2 [==============================] - 0s 3ms/step - loss: 7.5469 - mae: 7.5469\n",
      "Epoch 44/100\n",
      "2/2 [==============================] - 0s 3ms/step - loss: 18.8212 - mae: 18.8212\n",
      "Epoch 45/100\n",
      "2/2 [==============================] - 0s 2ms/step - loss: 14.7140 - mae: 14.7140\n",
      "Epoch 46/100\n",
      "2/2 [==============================] - 0s 3ms/step - loss: 8.9038 - mae: 8.9038\n",
      "Epoch 47/100\n",
      "2/2 [==============================] - 0s 3ms/step - loss: 9.3911 - mae: 9.3911\n",
      "Epoch 48/100\n",
      "2/2 [==============================] - 0s 3ms/step - loss: 10.9969 - mae: 10.9969\n",
      "Epoch 49/100\n",
      "2/2 [==============================] - 0s 2ms/step - loss: 7.9767 - mae: 7.9767\n",
      "Epoch 50/100\n",
      "2/2 [==============================] - 0s 3ms/step - loss: 9.8870 - mae: 9.8870\n",
      "Epoch 51/100\n",
      "2/2 [==============================] - 0s 4ms/step - loss: 9.2475 - mae: 9.2475\n",
      "Epoch 52/100\n",
      "2/2 [==============================] - 0s 3ms/step - loss: 17.0875 - mae: 17.0875\n",
      "Epoch 53/100\n",
      "2/2 [==============================] - 0s 3ms/step - loss: 13.8263 - mae: 13.8263\n",
      "Epoch 54/100\n",
      "2/2 [==============================] - 0s 3ms/step - loss: 20.3326 - mae: 20.3326\n",
      "Epoch 55/100\n",
      "2/2 [==============================] - 0s 4ms/step - loss: 16.9940 - mae: 16.9940\n",
      "Epoch 56/100\n",
      "2/2 [==============================] - 0s 3ms/step - loss: 9.9094 - mae: 9.9094\n",
      "Epoch 57/100\n",
      "2/2 [==============================] - 0s 3ms/step - loss: 9.6607 - mae: 9.6607\n",
      "Epoch 58/100\n",
      "2/2 [==============================] - 0s 3ms/step - loss: 8.9860 - mae: 8.9860\n",
      "Epoch 59/100\n",
      "2/2 [==============================] - 0s 3ms/step - loss: 10.1855 - mae: 10.1855\n",
      "Epoch 60/100\n",
      "2/2 [==============================] - 0s 4ms/step - loss: 8.4522 - mae: 8.4522\n",
      "Epoch 61/100\n",
      "2/2 [==============================] - 0s 5ms/step - loss: 9.2963 - mae: 9.2963\n",
      "Epoch 62/100\n",
      "2/2 [==============================] - 0s 3ms/step - loss: 7.0945 - mae: 7.0945\n",
      "Epoch 63/100\n",
      "2/2 [==============================] - 0s 3ms/step - loss: 8.6620 - mae: 8.6620\n",
      "Epoch 64/100\n",
      "2/2 [==============================] - 0s 3ms/step - loss: 9.2400 - mae: 9.2400\n",
      "Epoch 65/100\n",
      "2/2 [==============================] - 0s 3ms/step - loss: 10.4924 - mae: 10.4924\n",
      "Epoch 66/100\n",
      "2/2 [==============================] - 0s 3ms/step - loss: 15.6732 - mae: 15.6732\n",
      "Epoch 67/100\n",
      "2/2 [==============================] - 0s 3ms/step - loss: 10.0672 - mae: 10.0672\n",
      "Epoch 68/100\n",
      "2/2 [==============================] - 0s 4ms/step - loss: 9.0412 - mae: 9.0412\n",
      "Epoch 69/100\n",
      "2/2 [==============================] - 0s 3ms/step - loss: 12.5451 - mae: 12.5451\n",
      "Epoch 70/100\n",
      "2/2 [==============================] - 0s 3ms/step - loss: 8.9935 - mae: 8.9935\n",
      "Epoch 71/100\n",
      "2/2 [==============================] - 0s 3ms/step - loss: 9.9700 - mae: 9.9700\n",
      "Epoch 72/100\n",
      "2/2 [==============================] - 0s 3ms/step - loss: 10.0046 - mae: 10.0046\n",
      "Epoch 73/100\n",
      "2/2 [==============================] - 0s 3ms/step - loss: 12.4860 - mae: 12.4860\n",
      "Epoch 74/100\n",
      "2/2 [==============================] - 0s 3ms/step - loss: 10.5612 - mae: 10.5612\n",
      "Epoch 75/100\n",
      "2/2 [==============================] - 0s 2ms/step - loss: 9.6649 - mae: 9.6649\n",
      "Epoch 76/100\n",
      "2/2 [==============================] - 0s 2ms/step - loss: 11.1377 - mae: 11.1377\n",
      "Epoch 77/100\n",
      "2/2 [==============================] - 0s 3ms/step - loss: 8.3112 - mae: 8.3112\n",
      "Epoch 78/100\n",
      "2/2 [==============================] - 0s 2ms/step - loss: 9.0154 - mae: 9.0154\n",
      "Epoch 79/100\n",
      "2/2 [==============================] - 0s 2ms/step - loss: 19.7524 - mae: 19.7524\n",
      "Epoch 80/100\n",
      "2/2 [==============================] - 0s 3ms/step - loss: 17.8654 - mae: 17.8654\n",
      "Epoch 81/100\n",
      "2/2 [==============================] - 0s 3ms/step - loss: 7.0827 - mae: 7.0827\n",
      "Epoch 82/100\n",
      "2/2 [==============================] - 0s 3ms/step - loss: 10.4461 - mae: 10.4461\n",
      "Epoch 83/100\n",
      "2/2 [==============================] - 0s 3ms/step - loss: 9.8741 - mae: 9.8741\n",
      "Epoch 84/100\n",
      "2/2 [==============================] - 0s 2ms/step - loss: 7.9442 - mae: 7.9442\n",
      "Epoch 85/100\n",
      "2/2 [==============================] - 0s 2ms/step - loss: 9.4454 - mae: 9.4454\n",
      "Epoch 86/100\n",
      "2/2 [==============================] - 0s 3ms/step - loss: 9.2679 - mae: 9.2679\n",
      "Epoch 87/100\n",
      "2/2 [==============================] - 0s 3ms/step - loss: 12.0513 - mae: 12.0513\n",
      "Epoch 88/100\n",
      "2/2 [==============================] - 0s 3ms/step - loss: 10.6717 - mae: 10.6717\n",
      "Epoch 89/100\n",
      "2/2 [==============================] - 0s 2ms/step - loss: 7.2836 - mae: 7.2836\n",
      "Epoch 90/100\n",
      "2/2 [==============================] - 0s 3ms/step - loss: 12.8135 - mae: 12.8135\n",
      "Epoch 91/100\n",
      "2/2 [==============================] - 0s 3ms/step - loss: 7.4939 - mae: 7.4939\n",
      "Epoch 92/100\n",
      "2/2 [==============================] - 0s 2ms/step - loss: 6.7686 - mae: 6.7686\n",
      "Epoch 93/100\n",
      "2/2 [==============================] - 0s 3ms/step - loss: 11.9641 - mae: 11.9641\n",
      "Epoch 94/100\n",
      "2/2 [==============================] - 0s 3ms/step - loss: 8.8969 - mae: 8.8969\n",
      "Epoch 95/100\n",
      "2/2 [==============================] - 0s 3ms/step - loss: 7.7372 - mae: 7.7372\n",
      "Epoch 96/100\n",
      "2/2 [==============================] - 0s 3ms/step - loss: 6.7664 - mae: 6.7664\n",
      "Epoch 97/100\n",
      "2/2 [==============================] - 0s 2ms/step - loss: 8.6486 - mae: 8.6486\n",
      "Epoch 98/100\n",
      "2/2 [==============================] - 0s 3ms/step - loss: 9.4077 - mae: 9.4077\n",
      "Epoch 99/100\n",
      "2/2 [==============================] - 0s 2ms/step - loss: 9.1433 - mae: 9.1433\n",
      "Epoch 100/100\n",
      "2/2 [==============================] - 0s 2ms/step - loss: 10.5001 - mae: 10.5001\n"
     ]
    },
    {
     "data": {
      "text/plain": "<keras.callbacks.History at 0x7fdc84c412d0>"
     },
     "execution_count": 64,
     "metadata": {},
     "output_type": "execute_result"
    }
   ],
   "source": [
    "# Set random seed\n",
    "tf.random.set_seed(42)\n",
    "\n",
    "# 1. Create the model\n",
    "model_1 = tf.keras.Sequential([\n",
    "    tf.keras.layers.Dense(1)\n",
    "])\n",
    "\n",
    "# 2. Compile the model\n",
    "model_1.compile(loss=tf.keras.losses.mae,\n",
    "                optimizer=tf.keras.optimizers.SGD(),\n",
    "                metrics=[\"mae\"])\n",
    "\n",
    "# 3. Fit the model\n",
    "model_1.fit(tf.expand_dims(X_train, axis=-1), y_train, epochs=100)"
   ],
   "metadata": {
    "colab": {
     "base_uri": "https://localhost:8080/"
    },
    "id": "722c58063f2b0200",
    "executionInfo": {
     "status": "ok",
     "timestamp": 1696076802171,
     "user_tz": -420,
     "elapsed": 5802,
     "user": {
      "displayName": "kang sigit",
      "userId": "15887135570512197739"
     }
    },
    "outputId": "96af9472-0736-414d-a002-0bf8741f4cd3",
    "ExecuteTime": {
     "end_time": "2023-09-30T12:59:02.249901158Z",
     "start_time": "2023-09-30T12:59:00.492235467Z"
    }
   },
   "id": "722c58063f2b0200"
  },
  {
   "cell_type": "code",
   "execution_count": 65,
   "outputs": [
    {
     "name": "stdout",
     "output_type": "stream",
     "text": [
      "1/1 [==============================] - 0s 34ms/step\n"
     ]
    },
    {
     "data": {
      "text/plain": "<Figure size 1000x700 with 1 Axes>",
      "image/png": "[encoded data removed]"
     },
     "metadata": {},
     "output_type": "display_data"
    }
   ],
   "source": [
    "# Make and plot predictions for model_1\n",
    "y_preds_1 = model_1.predict(X_test)\n",
    "plot_predictions(predictions=y_preds_1)"
   ],
   "metadata": {
    "colab": {
     "base_uri": "https://localhost:8080/",
     "height": 656
    },
    "id": "382f33287c6f7581",
    "executionInfo": {
     "status": "ok",
     "timestamp": 1696076818038,
     "user_tz": -420,
     "elapsed": 674,
     "user": {
      "displayName": "kang sigit",
      "userId": "15887135570512197739"
     }
    },
    "outputId": "ccf8fe91-0129-401c-a1c0-25bb427ce51c",
    "ExecuteTime": {
     "end_time": "2023-09-30T12:59:06.176636801Z",
     "start_time": "2023-09-30T12:59:05.810138223Z"
    }
   },
   "id": "382f33287c6f7581"
  },
  {
   "cell_type": "code",
   "execution_count": 66,
   "outputs": [
    {
     "data": {
      "text/plain": "(<tf.Tensor: shape=(10, 1), dtype=float32, numpy=\n array([[56.487843],\n        [60.168613],\n        [63.849384],\n        [67.53016 ],\n        [71.21094 ],\n        [74.89171 ],\n        [78.57248 ],\n        [82.25326 ],\n        [85.93403 ],\n        [89.6148  ]], dtype=float32)>,\n <tf.Tensor: shape=(10,), dtype=float32, numpy=\n array([56.487843, 60.168613, 63.849384, 67.53016 , 71.21094 , 74.89171 ,\n        78.57248 , 82.25326 , 85.93403 , 89.6148  ], dtype=float32)>)"
     },
     "execution_count": 66,
     "metadata": {},
     "output_type": "execute_result"
    }
   ],
   "source": [
    "tf.constant(y_preds_1), tf.squeeze(y_preds_1)"
   ],
   "metadata": {
    "colab": {
     "base_uri": "https://localhost:8080/"
    },
    "id": "d717b5c1f0b6405",
    "executionInfo": {
     "status": "ok",
     "timestamp": 1696076824537,
     "user_tz": -420,
     "elapsed": 618,
     "user": {
      "displayName": "kang sigit",
      "userId": "15887135570512197739"
     }
    },
    "outputId": "c4292f0f-6ede-4cbc-f6cc-5e32de1363fd",
    "ExecuteTime": {
     "end_time": "2023-09-30T12:59:08.155321338Z",
     "start_time": "2023-09-30T12:59:08.110257450Z"
    }
   },
   "id": "d717b5c1f0b6405"
  },
  {
   "cell_type": "code",
   "execution_count": 67,
   "outputs": [
    {
     "data": {
      "text/plain": "(<tf.Tensor: shape=(), dtype=float32, numpy=14.948679>,\n <tf.Tensor: shape=(), dtype=float32, numpy=224.30371>)"
     },
     "execution_count": 67,
     "metadata": {},
     "output_type": "execute_result"
    }
   ],
   "source": [
    "# Calculate model_1 evaluation metrics\n",
    "mae_1 = mae(y_test, y_preds_1)\n",
    "mse_1 = mse(y_test, y_preds_1)\n",
    "mae_1, mse_1"
   ],
   "metadata": {
    "colab": {
     "base_uri": "https://localhost:8080/"
    },
    "id": "f00fe8d1a1017420",
    "executionInfo": {
     "status": "ok",
     "timestamp": 1696076828361,
     "user_tz": -420,
     "elapsed": 577,
     "user": {
      "displayName": "kang sigit",
      "userId": "15887135570512197739"
     }
    },
    "outputId": "636c597c-4cd6-45be-c773-f547bde4ca55",
    "ExecuteTime": {
     "end_time": "2023-09-30T12:59:09.569147850Z",
     "start_time": "2023-09-30T12:59:09.501710216Z"
    }
   },
   "id": "f00fe8d1a1017420"
  },
  {
   "cell_type": "markdown",
   "source": [
    "**Build `model_2`**\n",
    "\n",
    "* 2 dense layers, trained for 100 epochs"
   ],
   "metadata": {
    "collapsed": false,
    "id": "ab30453e074532d3"
   },
   "id": "ab30453e074532d3"
  },
  {
   "cell_type": "code",
   "execution_count": 68,
   "outputs": [
    {
     "name": "stdout",
     "output_type": "stream",
     "text": [
      "Epoch 1/100\n",
      "2/2 [==============================] - 0s 13ms/step - loss: 40.2052 - mae: 40.2052\n",
      "Epoch 2/100\n",
      "2/2 [==============================] - 0s 16ms/step - loss: 31.4712 - mae: 31.4712\n",
      "Epoch 3/100\n",
      "2/2 [==============================] - 0s 4ms/step - loss: 33.8460 - mae: 33.8460\n",
      "Epoch 4/100\n",
      "2/2 [==============================] - 0s 6ms/step - loss: 15.4480 - mae: 15.4480\n",
      "Epoch 5/100\n",
      "2/2 [==============================] - 0s 11ms/step - loss: 22.7520 - mae: 22.7520\n",
      "Epoch 6/100\n",
      "2/2 [==============================] - 0s 5ms/step - loss: 14.4300 - mae: 14.4300\n",
      "Epoch 7/100\n",
      "2/2 [==============================] - 0s 13ms/step - loss: 11.6876 - mae: 11.6876\n",
      "Epoch 8/100\n",
      "2/2 [==============================] - 0s 5ms/step - loss: 12.2331 - mae: 12.2331\n",
      "Epoch 9/100\n",
      "2/2 [==============================] - 0s 6ms/step - loss: 38.6301 - mae: 38.6301\n",
      "Epoch 10/100\n",
      "2/2 [==============================] - 0s 6ms/step - loss: 26.1234 - mae: 26.1234\n",
      "Epoch 11/100\n",
      "2/2 [==============================] - 0s 23ms/step - loss: 9.4065 - mae: 9.4065\n",
      "Epoch 12/100\n",
      "2/2 [==============================] - 0s 6ms/step - loss: 26.4899 - mae: 26.4899\n",
      "Epoch 13/100\n",
      "2/2 [==============================] - 0s 6ms/step - loss: 14.4630 - mae: 14.4630\n",
      "Epoch 14/100\n",
      "2/2 [==============================] - 0s 6ms/step - loss: 29.8917 - mae: 29.8917\n",
      "Epoch 15/100\n",
      "2/2 [==============================] - 0s 13ms/step - loss: 19.7435 - mae: 19.7435\n",
      "Epoch 16/100\n",
      "2/2 [==============================] - 0s 8ms/step - loss: 9.8516 - mae: 9.8516\n",
      "Epoch 17/100\n",
      "2/2 [==============================] - 0s 6ms/step - loss: 17.6715 - mae: 17.6715\n",
      "Epoch 18/100\n",
      "2/2 [==============================] - 0s 7ms/step - loss: 14.1448 - mae: 14.1448\n",
      "Epoch 19/100\n",
      "2/2 [==============================] - 0s 6ms/step - loss: 13.9863 - mae: 13.9863\n",
      "Epoch 20/100\n",
      "2/2 [==============================] - 0s 4ms/step - loss: 11.2255 - mae: 11.2255\n",
      "Epoch 21/100\n",
      "2/2 [==============================] - 0s 5ms/step - loss: 17.3096 - mae: 17.3096\n",
      "Epoch 22/100\n",
      "2/2 [==============================] - 0s 5ms/step - loss: 15.5484 - mae: 15.5484\n",
      "Epoch 23/100\n",
      "2/2 [==============================] - 0s 5ms/step - loss: 9.2431 - mae: 9.2431\n",
      "Epoch 24/100\n",
      "2/2 [==============================] - 0s 7ms/step - loss: 17.2545 - mae: 17.2545\n",
      "Epoch 25/100\n",
      "2/2 [==============================] - 0s 5ms/step - loss: 15.9332 - mae: 15.9332\n",
      "Epoch 26/100\n",
      "2/2 [==============================] - 0s 5ms/step - loss: 20.9105 - mae: 20.9105\n",
      "Epoch 27/100\n",
      "2/2 [==============================] - 0s 12ms/step - loss: 26.0089 - mae: 26.0089\n",
      "Epoch 28/100\n",
      "2/2 [==============================] - 0s 5ms/step - loss: 18.5021 - mae: 18.5021\n",
      "Epoch 29/100\n",
      "2/2 [==============================] - 0s 14ms/step - loss: 9.2488 - mae: 9.2488\n",
      "Epoch 30/100\n",
      "2/2 [==============================] - 0s 10ms/step - loss: 29.1185 - mae: 29.1185\n",
      "Epoch 31/100\n",
      "2/2 [==============================] - 0s 10ms/step - loss: 52.7437 - mae: 52.7437\n",
      "Epoch 32/100\n",
      "2/2 [==============================] - 0s 10ms/step - loss: 11.9450 - mae: 11.9450\n",
      "Epoch 33/100\n",
      "2/2 [==============================] - 0s 9ms/step - loss: 15.5458 - mae: 15.5458\n",
      "Epoch 34/100\n",
      "2/2 [==============================] - 0s 5ms/step - loss: 12.6343 - mae: 12.6343\n",
      "Epoch 35/100\n",
      "2/2 [==============================] - 0s 16ms/step - loss: 9.2170 - mae: 9.2170\n",
      "Epoch 36/100\n",
      "2/2 [==============================] - 0s 5ms/step - loss: 16.5395 - mae: 16.5395\n",
      "Epoch 37/100\n",
      "2/2 [==============================] - 0s 7ms/step - loss: 11.0723 - mae: 11.0723\n",
      "Epoch 38/100\n",
      "2/2 [==============================] - 0s 9ms/step - loss: 18.1993 - mae: 18.1993\n",
      "Epoch 39/100\n",
      "2/2 [==============================] - 0s 9ms/step - loss: 19.1331 - mae: 19.1331\n",
      "Epoch 40/100\n",
      "2/2 [==============================] - 0s 10ms/step - loss: 20.4870 - mae: 20.4870\n",
      "Epoch 41/100\n",
      "2/2 [==============================] - 0s 11ms/step - loss: 14.8497 - mae: 14.8497\n",
      "Epoch 42/100\n",
      "2/2 [==============================] - 0s 11ms/step - loss: 12.2372 - mae: 12.2372\n",
      "Epoch 43/100\n",
      "2/2 [==============================] - 0s 9ms/step - loss: 10.7126 - mae: 10.7126\n",
      "Epoch 44/100\n",
      "2/2 [==============================] - 0s 7ms/step - loss: 32.3708 - mae: 32.3708\n",
      "Epoch 45/100\n",
      "2/2 [==============================] - 0s 12ms/step - loss: 12.5028 - mae: 12.5028\n",
      "Epoch 46/100\n",
      "2/2 [==============================] - 0s 8ms/step - loss: 17.5999 - mae: 17.5999\n",
      "Epoch 47/100\n",
      "2/2 [==============================] - 0s 11ms/step - loss: 15.7277 - mae: 15.7277\n",
      "Epoch 48/100\n",
      "2/2 [==============================] - 0s 12ms/step - loss: 8.3612 - mae: 8.3612\n",
      "Epoch 49/100\n",
      "2/2 [==============================] - 0s 5ms/step - loss: 13.9631 - mae: 13.9631\n",
      "Epoch 50/100\n",
      "2/2 [==============================] - 0s 5ms/step - loss: 12.8055 - mae: 12.8055\n",
      "Epoch 51/100\n",
      "2/2 [==============================] - 0s 5ms/step - loss: 14.8226 - mae: 14.8226\n",
      "Epoch 52/100\n",
      "2/2 [==============================] - 0s 5ms/step - loss: 18.7120 - mae: 18.7120\n",
      "Epoch 53/100\n",
      "2/2 [==============================] - 0s 4ms/step - loss: 24.1396 - mae: 24.1396\n",
      "Epoch 54/100\n",
      "2/2 [==============================] - 0s 5ms/step - loss: 23.2471 - mae: 23.2471\n",
      "Epoch 55/100\n",
      "2/2 [==============================] - 0s 5ms/step - loss: 24.1115 - mae: 24.1115\n",
      "Epoch 56/100\n",
      "2/2 [==============================] - 0s 12ms/step - loss: 11.1924 - mae: 11.1924\n",
      "Epoch 57/100\n",
      "2/2 [==============================] - 0s 5ms/step - loss: 13.1564 - mae: 13.1564\n",
      "Epoch 58/100\n",
      "2/2 [==============================] - 0s 8ms/step - loss: 9.8360 - mae: 9.8360\n",
      "Epoch 59/100\n",
      "2/2 [==============================] - 0s 5ms/step - loss: 13.3458 - mae: 13.3458\n",
      "Epoch 60/100\n",
      "2/2 [==============================] - 0s 13ms/step - loss: 10.8979 - mae: 10.8979\n",
      "Epoch 61/100\n",
      "2/2 [==============================] - 0s 6ms/step - loss: 13.5073 - mae: 13.5073\n",
      "Epoch 62/100\n",
      "2/2 [==============================] - 0s 7ms/step - loss: 17.5581 - mae: 17.5581\n",
      "Epoch 63/100\n",
      "2/2 [==============================] - 0s 6ms/step - loss: 9.1785 - mae: 9.1785\n",
      "Epoch 64/100\n",
      "2/2 [==============================] - 0s 6ms/step - loss: 18.4294 - mae: 18.4294\n",
      "Epoch 65/100\n",
      "2/2 [==============================] - 0s 5ms/step - loss: 10.1342 - mae: 10.1342\n",
      "Epoch 66/100\n",
      "2/2 [==============================] - 0s 5ms/step - loss: 24.3036 - mae: 24.3036\n",
      "Epoch 67/100\n",
      "2/2 [==============================] - 0s 5ms/step - loss: 10.9107 - mae: 10.9107\n",
      "Epoch 68/100\n",
      "2/2 [==============================] - 0s 5ms/step - loss: 10.7885 - mae: 10.7885\n",
      "Epoch 69/100\n",
      "2/2 [==============================] - 0s 5ms/step - loss: 23.2943 - mae: 23.2943\n",
      "Epoch 70/100\n",
      "2/2 [==============================] - 0s 5ms/step - loss: 8.8117 - mae: 8.8117\n",
      "Epoch 71/100\n",
      "2/2 [==============================] - 0s 5ms/step - loss: 15.9700 - mae: 15.9700\n",
      "Epoch 72/100\n",
      "2/2 [==============================] - 0s 5ms/step - loss: 8.1410 - mae: 8.1410\n",
      "Epoch 73/100\n",
      "2/2 [==============================] - 0s 5ms/step - loss: 9.4657 - mae: 9.4657\n",
      "Epoch 74/100\n",
      "2/2 [==============================] - 0s 5ms/step - loss: 28.1452 - mae: 28.1452\n",
      "Epoch 75/100\n",
      "2/2 [==============================] - 0s 5ms/step - loss: 10.2157 - mae: 10.2157\n",
      "Epoch 76/100\n",
      "2/2 [==============================] - 0s 6ms/step - loss: 13.1682 - mae: 13.1682\n",
      "Epoch 77/100\n",
      "2/2 [==============================] - 0s 13ms/step - loss: 18.4208 - mae: 18.4208\n",
      "Epoch 78/100\n",
      "2/2 [==============================] - 0s 4ms/step - loss: 9.0268 - mae: 9.0268\n",
      "Epoch 79/100\n",
      "2/2 [==============================] - 0s 7ms/step - loss: 23.4706 - mae: 23.4706\n",
      "Epoch 80/100\n",
      "2/2 [==============================] - 0s 6ms/step - loss: 26.1489 - mae: 26.1489\n",
      "Epoch 81/100\n",
      "2/2 [==============================] - 0s 6ms/step - loss: 11.4144 - mae: 11.4144\n",
      "Epoch 82/100\n",
      "2/2 [==============================] - 0s 12ms/step - loss: 12.4860 - mae: 12.4860\n",
      "Epoch 83/100\n",
      "2/2 [==============================] - 0s 7ms/step - loss: 17.1714 - mae: 17.1714\n",
      "Epoch 84/100\n",
      "2/2 [==============================] - 0s 8ms/step - loss: 6.5971 - mae: 6.5971\n",
      "Epoch 85/100\n",
      "2/2 [==============================] - 0s 13ms/step - loss: 20.3263 - mae: 20.3263\n",
      "Epoch 86/100\n",
      "2/2 [==============================] - 0s 10ms/step - loss: 10.1809 - mae: 10.1809\n",
      "Epoch 87/100\n",
      "2/2 [==============================] - 0s 5ms/step - loss: 24.3710 - mae: 24.3710\n",
      "Epoch 88/100\n",
      "2/2 [==============================] - 0s 4ms/step - loss: 19.0358 - mae: 19.0358\n",
      "Epoch 89/100\n",
      "2/2 [==============================] - 0s 6ms/step - loss: 7.1715 - mae: 7.1715\n",
      "Epoch 90/100\n",
      "2/2 [==============================] - 0s 5ms/step - loss: 18.2511 - mae: 18.2511\n",
      "Epoch 91/100\n",
      "2/2 [==============================] - 0s 11ms/step - loss: 13.3009 - mae: 13.3009\n",
      "Epoch 92/100\n",
      "2/2 [==============================] - 0s 13ms/step - loss: 14.8492 - mae: 14.8492\n",
      "Epoch 93/100\n",
      "2/2 [==============================] - 0s 21ms/step - loss: 11.6463 - mae: 11.6463\n",
      "Epoch 94/100\n",
      "2/2 [==============================] - 0s 15ms/step - loss: 16.2008 - mae: 16.2008\n",
      "Epoch 95/100\n",
      "2/2 [==============================] - 0s 6ms/step - loss: 15.5433 - mae: 15.5433\n",
      "Epoch 96/100\n",
      "2/2 [==============================] - 0s 15ms/step - loss: 15.0756 - mae: 15.0756\n",
      "Epoch 97/100\n",
      "2/2 [==============================] - 0s 11ms/step - loss: 10.9073 - mae: 10.9073\n",
      "Epoch 98/100\n",
      "2/2 [==============================] - 0s 5ms/step - loss: 14.3663 - mae: 14.3663\n",
      "Epoch 99/100\n",
      "2/2 [==============================] - 0s 5ms/step - loss: 13.3854 - mae: 13.3854\n",
      "Epoch 100/100\n",
      "2/2 [==============================] - 0s 7ms/step - loss: 20.0017 - mae: 20.0017\n"
     ]
    },
    {
     "data": {
      "text/plain": "<keras.callbacks.History at 0x7fdc55f2c310>"
     },
     "execution_count": 68,
     "metadata": {},
     "output_type": "execute_result"
    }
   ],
   "source": [
    "# Set the random seed\n",
    "tf.random.set_seed(42)\n",
    "\n",
    "# 1. Create the model\n",
    "model_2 = tf.keras.Sequential([\n",
    "    tf.keras.layers.Dense(10),\n",
    "    tf.keras.layers.Dense(1)\n",
    "])\n",
    "\n",
    "# 2. Compile the model\n",
    "model_2.compile(loss=tf.keras.losses.mae,\n",
    "                optimizer=tf.keras.optimizers.SGD(),\n",
    "                metrics=[\"mae\"])\n",
    "\n",
    "# 3. Fit the model\n",
    "model_2.fit(tf.expand_dims(X_train, axis=-1), y_train, epochs=100)"
   ],
   "metadata": {
    "colab": {
     "base_uri": "https://localhost:8080/"
    },
    "id": "9acb465fd20c995c",
    "executionInfo": {
     "status": "ok",
     "timestamp": 1696076835059,
     "user_tz": -420,
     "elapsed": 3096,
     "user": {
      "displayName": "kang sigit",
      "userId": "15887135570512197739"
     }
    },
    "outputId": "51e23998-df47-4cb0-ad6f-52ab121a102c",
    "ExecuteTime": {
     "end_time": "2023-09-30T12:59:16.292835567Z",
     "start_time": "2023-09-30T12:59:11.996624226Z"
    }
   },
   "id": "9acb465fd20c995c"
  },
  {
   "cell_type": "code",
   "execution_count": 69,
   "outputs": [
    {
     "name": "stdout",
     "output_type": "stream",
     "text": [
      "1/1 [==============================] - 0s 47ms/step\n"
     ]
    },
    {
     "data": {
      "text/plain": "<Figure size 1000x700 with 1 Axes>",
      "image/png": "[encoded data removed]"
     },
     "metadata": {},
     "output_type": "display_data"
    }
   ],
   "source": [
    "# Make and plot predictions of model_2\n",
    "y_preds_2 = model_2.predict(X_test)\n",
    "plot_predictions(predictions=y_preds_2)"
   ],
   "metadata": {
    "colab": {
     "base_uri": "https://localhost:8080/",
     "height": 656
    },
    "id": "1734489efbd4fb4e",
    "executionInfo": {
     "status": "ok",
     "timestamp": 1696076839093,
     "user_tz": -420,
     "elapsed": 22,
     "user": {
      "displayName": "kang sigit",
      "userId": "15887135570512197739"
     }
    },
    "outputId": "d02300c6-dceb-4b21-cb6f-445de699ad4f",
    "ExecuteTime": {
     "end_time": "2023-09-30T12:59:20.728801763Z",
     "start_time": "2023-09-30T12:59:20.331646262Z"
    }
   },
   "id": "1734489efbd4fb4e"
  },
  {
   "cell_type": "code",
   "execution_count": 70,
   "outputs": [
    {
     "data": {
      "text/plain": "(<tf.Tensor: shape=(), dtype=float32, numpy=29.620266>,\n <tf.Tensor: shape=(), dtype=float32, numpy=908.34686>)"
     },
     "execution_count": 70,
     "metadata": {},
     "output_type": "execute_result"
    }
   ],
   "source": [
    "# Calculate model_2 evaluation metrics\n",
    "mae_2 = mae(y_test, y_preds_2)\n",
    "mse_2 = mse(y_test, y_preds_2)\n",
    "mae_2, mse_2"
   ],
   "metadata": {
    "colab": {
     "base_uri": "https://localhost:8080/"
    },
    "id": "c1a1bfe80b2973d1",
    "executionInfo": {
     "status": "ok",
     "timestamp": 1696076843791,
     "user_tz": -420,
     "elapsed": 11,
     "user": {
      "displayName": "kang sigit",
      "userId": "15887135570512197739"
     }
    },
    "outputId": "b1dbc06c-a856-4769-e57a-66b0e8c780ae",
    "ExecuteTime": {
     "end_time": "2023-09-30T12:59:22.461602707Z",
     "start_time": "2023-09-30T12:59:22.420422426Z"
    }
   },
   "id": "c1a1bfe80b2973d1"
  },
  {
   "cell_type": "markdown",
   "source": [
    "**Build `model_3`**\n",
    "\n",
    "* 2 dense layers, trained for 500 epochs"
   ],
   "metadata": {
    "collapsed": false,
    "id": "e429d78109168242"
   },
   "id": "e429d78109168242"
  },
  {
   "cell_type": "code",
   "execution_count": 71,
   "outputs": [
    {
     "name": "stdout",
     "output_type": "stream",
     "text": [
      "Epoch 1/500\n",
      "2/2 [==============================] - 0s 26ms/step - loss: 57.3441 - mae: 57.3441\n",
      "Epoch 2/500\n",
      "2/2 [==============================] - 0s 14ms/step - loss: 22.2060 - mae: 22.2060\n",
      "Epoch 3/500\n",
      "2/2 [==============================] - 0s 11ms/step - loss: 17.2390 - mae: 17.2390\n",
      "Epoch 4/500\n",
      "2/2 [==============================] - 0s 4ms/step - loss: 14.4483 - mae: 14.4483\n",
      "Epoch 5/500\n",
      "2/2 [==============================] - 0s 3ms/step - loss: 16.4700 - mae: 16.4700\n",
      "Epoch 6/500\n",
      "2/2 [==============================] - 0s 4ms/step - loss: 11.1879 - mae: 11.1879\n",
      "Epoch 7/500\n",
      "2/2 [==============================] - 0s 4ms/step - loss: 12.2001 - mae: 12.2001\n",
      "Epoch 8/500\n",
      "2/2 [==============================] - 0s 4ms/step - loss: 10.9098 - mae: 10.9098\n",
      "Epoch 9/500\n",
      "2/2 [==============================] - 0s 3ms/step - loss: 38.0955 - mae: 38.0955\n",
      "Epoch 10/500\n",
      "2/2 [==============================] - 0s 3ms/step - loss: 25.6685 - mae: 25.6685\n",
      "Epoch 11/500\n",
      "2/2 [==============================] - 0s 3ms/step - loss: 10.2490 - mae: 10.2490\n",
      "Epoch 12/500\n",
      "2/2 [==============================] - 0s 4ms/step - loss: 25.2536 - mae: 25.2536\n",
      "Epoch 13/500\n",
      "2/2 [==============================] - 0s 4ms/step - loss: 17.0588 - mae: 17.0588\n",
      "Epoch 14/500\n",
      "2/2 [==============================] - 0s 4ms/step - loss: 26.0489 - mae: 26.0489\n",
      "Epoch 15/500\n",
      "2/2 [==============================] - 0s 4ms/step - loss: 18.0985 - mae: 18.0985\n",
      "Epoch 16/500\n",
      "2/2 [==============================] - 0s 5ms/step - loss: 7.8603 - mae: 7.8603\n",
      "Epoch 17/500\n",
      "2/2 [==============================] - 0s 10ms/step - loss: 22.2125 - mae: 22.2125\n",
      "Epoch 18/500\n",
      "2/2 [==============================] - 0s 4ms/step - loss: 10.8242 - mae: 10.8242\n",
      "Epoch 19/500\n",
      "2/2 [==============================] - 0s 14ms/step - loss: 10.7123 - mae: 10.7123\n",
      "Epoch 20/500\n",
      "2/2 [==============================] - 0s 5ms/step - loss: 12.0346 - mae: 12.0346\n",
      "Epoch 21/500\n",
      "2/2 [==============================] - 0s 4ms/step - loss: 20.1323 - mae: 20.1323\n",
      "Epoch 22/500\n",
      "2/2 [==============================] - 0s 4ms/step - loss: 13.7778 - mae: 13.7778\n",
      "Epoch 23/500\n",
      "2/2 [==============================] - 0s 5ms/step - loss: 9.5317 - mae: 9.5317\n",
      "Epoch 24/500\n",
      "2/2 [==============================] - 0s 4ms/step - loss: 11.8880 - mae: 11.8880\n",
      "Epoch 25/500\n",
      "2/2 [==============================] - 0s 5ms/step - loss: 16.1930 - mae: 16.1930\n",
      "Epoch 26/500\n",
      "2/2 [==============================] - 0s 4ms/step - loss: 16.3857 - mae: 16.3857\n",
      "Epoch 27/500\n",
      "2/2 [==============================] - 0s 7ms/step - loss: 11.5820 - mae: 11.5820\n",
      "Epoch 28/500\n",
      "2/2 [==============================] - 0s 5ms/step - loss: 29.9570 - mae: 29.9570\n",
      "Epoch 29/500\n",
      "2/2 [==============================] - 0s 5ms/step - loss: 9.2514 - mae: 9.2514\n",
      "Epoch 30/500\n",
      "2/2 [==============================] - 0s 5ms/step - loss: 30.5106 - mae: 30.5106\n",
      "Epoch 31/500\n",
      "2/2 [==============================] - 0s 4ms/step - loss: 55.4606 - mae: 55.4606\n",
      "Epoch 32/500\n",
      "2/2 [==============================] - 0s 10ms/step - loss: 9.7239 - mae: 9.7239\n",
      "Epoch 33/500\n",
      "2/2 [==============================] - 0s 6ms/step - loss: 12.3417 - mae: 12.3417\n",
      "Epoch 34/500\n",
      "2/2 [==============================] - 0s 4ms/step - loss: 24.6791 - mae: 24.6791\n",
      "Epoch 35/500\n",
      "2/2 [==============================] - 0s 14ms/step - loss: 11.9213 - mae: 11.9213\n",
      "Epoch 36/500\n",
      "2/2 [==============================] - 0s 7ms/step - loss: 22.1087 - mae: 22.1087\n",
      "Epoch 37/500\n",
      "2/2 [==============================] - 0s 5ms/step - loss: 17.5495 - mae: 17.5495\n",
      "Epoch 38/500\n",
      "2/2 [==============================] - 0s 7ms/step - loss: 10.7250 - mae: 10.7250\n",
      "Epoch 39/500\n",
      "2/2 [==============================] - 0s 13ms/step - loss: 11.2425 - mae: 11.2425\n",
      "Epoch 40/500\n",
      "2/2 [==============================] - 0s 6ms/step - loss: 18.2161 - mae: 18.2161\n",
      "Epoch 41/500\n",
      "2/2 [==============================] - 0s 6ms/step - loss: 10.4920 - mae: 10.4920\n",
      "Epoch 42/500\n",
      "2/2 [==============================] - 0s 16ms/step - loss: 7.8418 - mae: 7.8418\n",
      "Epoch 43/500\n",
      "2/2 [==============================] - 0s 5ms/step - loss: 14.2102 - mae: 14.2102\n",
      "Epoch 44/500\n",
      "2/2 [==============================] - 0s 30ms/step - loss: 24.9708 - mae: 24.9708\n",
      "Epoch 45/500\n",
      "2/2 [==============================] - 0s 11ms/step - loss: 10.9560 - mae: 10.9560\n",
      "Epoch 46/500\n",
      "2/2 [==============================] - 0s 7ms/step - loss: 13.0578 - mae: 13.0578\n",
      "Epoch 47/500\n",
      "2/2 [==============================] - 0s 5ms/step - loss: 10.4320 - mae: 10.4320\n",
      "Epoch 48/500\n",
      "2/2 [==============================] - 0s 8ms/step - loss: 17.1453 - mae: 17.1453\n",
      "Epoch 49/500\n",
      "2/2 [==============================] - 0s 13ms/step - loss: 9.6314 - mae: 9.6314\n",
      "Epoch 50/500\n",
      "2/2 [==============================] - 0s 8ms/step - loss: 13.9232 - mae: 13.9232\n",
      "Epoch 51/500\n",
      "2/2 [==============================] - 0s 7ms/step - loss: 11.6357 - mae: 11.6357\n",
      "Epoch 52/500\n",
      "2/2 [==============================] - 0s 7ms/step - loss: 30.8223 - mae: 30.8223\n",
      "Epoch 53/500\n",
      "2/2 [==============================] - 0s 14ms/step - loss: 14.4712 - mae: 14.4712\n",
      "Epoch 54/500\n",
      "2/2 [==============================] - 0s 8ms/step - loss: 24.1783 - mae: 24.1783\n",
      "Epoch 55/500\n",
      "2/2 [==============================] - 0s 7ms/step - loss: 23.4195 - mae: 23.4195\n",
      "Epoch 56/500\n",
      "2/2 [==============================] - 0s 7ms/step - loss: 10.9560 - mae: 10.9560\n",
      "Epoch 57/500\n",
      "2/2 [==============================] - 0s 8ms/step - loss: 12.8437 - mae: 12.8437\n",
      "Epoch 58/500\n",
      "2/2 [==============================] - 0s 15ms/step - loss: 9.6556 - mae: 9.6556\n",
      "Epoch 59/500\n",
      "2/2 [==============================] - 0s 7ms/step - loss: 13.0104 - mae: 13.0104\n",
      "Epoch 60/500\n",
      "2/2 [==============================] - 0s 8ms/step - loss: 10.6936 - mae: 10.6936\n",
      "Epoch 61/500\n",
      "2/2 [==============================] - 0s 15ms/step - loss: 12.6949 - mae: 12.6949\n",
      "Epoch 62/500\n",
      "2/2 [==============================] - 0s 7ms/step - loss: 21.1627 - mae: 21.1627\n",
      "Epoch 63/500\n",
      "2/2 [==============================] - 0s 7ms/step - loss: 8.9214 - mae: 8.9214\n",
      "Epoch 64/500\n",
      "2/2 [==============================] - 0s 7ms/step - loss: 17.1778 - mae: 17.1778\n",
      "Epoch 65/500\n",
      "2/2 [==============================] - 0s 15ms/step - loss: 10.3650 - mae: 10.3650\n",
      "Epoch 66/500\n",
      "2/2 [==============================] - 0s 10ms/step - loss: 20.5593 - mae: 20.5593\n",
      "Epoch 67/500\n",
      "2/2 [==============================] - 0s 13ms/step - loss: 10.3201 - mae: 10.3201\n",
      "Epoch 68/500\n",
      "2/2 [==============================] - 0s 10ms/step - loss: 13.9130 - mae: 13.9130\n",
      "Epoch 69/500\n",
      "2/2 [==============================] - 0s 14ms/step - loss: 10.3682 - mae: 10.3682\n",
      "Epoch 70/500\n",
      "2/2 [==============================] - 0s 8ms/step - loss: 12.4266 - mae: 12.4266\n",
      "Epoch 71/500\n",
      "2/2 [==============================] - 0s 7ms/step - loss: 16.1602 - mae: 16.1602\n",
      "Epoch 72/500\n",
      "2/2 [==============================] - 0s 6ms/step - loss: 12.1284 - mae: 12.1284\n",
      "Epoch 73/500\n",
      "2/2 [==============================] - 0s 14ms/step - loss: 17.0789 - mae: 17.0789\n",
      "Epoch 74/500\n",
      "2/2 [==============================] - 0s 6ms/step - loss: 25.1866 - mae: 25.1866\n",
      "Epoch 75/500\n",
      "2/2 [==============================] - 0s 6ms/step - loss: 9.4116 - mae: 9.4116\n",
      "Epoch 76/500\n",
      "2/2 [==============================] - 0s 7ms/step - loss: 12.2265 - mae: 12.2265\n",
      "Epoch 77/500\n",
      "2/2 [==============================] - 0s 10ms/step - loss: 16.2050 - mae: 16.2050\n",
      "Epoch 78/500\n",
      "2/2 [==============================] - 0s 8ms/step - loss: 8.9892 - mae: 8.9892\n",
      "Epoch 79/500\n",
      "2/2 [==============================] - 0s 15ms/step - loss: 23.4302 - mae: 23.4302\n",
      "Epoch 80/500\n",
      "2/2 [==============================] - 0s 6ms/step - loss: 26.0982 - mae: 26.0982\n",
      "Epoch 81/500\n",
      "2/2 [==============================] - 0s 15ms/step - loss: 11.3620 - mae: 11.3620\n",
      "Epoch 82/500\n",
      "2/2 [==============================] - 0s 11ms/step - loss: 12.4860 - mae: 12.4860\n",
      "Epoch 83/500\n",
      "2/2 [==============================] - 0s 6ms/step - loss: 17.1665 - mae: 17.1665\n",
      "Epoch 84/500\n",
      "2/2 [==============================] - 0s 6ms/step - loss: 6.5678 - mae: 6.5678\n",
      "Epoch 85/500\n",
      "2/2 [==============================] - 0s 17ms/step - loss: 20.3164 - mae: 20.3164\n",
      "Epoch 86/500\n",
      "2/2 [==============================] - 0s 9ms/step - loss: 10.1492 - mae: 10.1492\n",
      "Epoch 87/500\n",
      "2/2 [==============================] - 0s 6ms/step - loss: 24.3777 - mae: 24.3777\n",
      "Epoch 88/500\n",
      "2/2 [==============================] - 0s 6ms/step - loss: 19.0429 - mae: 19.0429\n",
      "Epoch 89/500\n",
      "2/2 [==============================] - 0s 6ms/step - loss: 7.1428 - mae: 7.1428\n",
      "Epoch 90/500\n",
      "2/2 [==============================] - 0s 6ms/step - loss: 18.2295 - mae: 18.2295\n",
      "Epoch 91/500\n",
      "2/2 [==============================] - 0s 6ms/step - loss: 13.2767 - mae: 13.2767\n",
      "Epoch 92/500\n",
      "2/2 [==============================] - 0s 15ms/step - loss: 14.8151 - mae: 14.8151\n",
      "Epoch 93/500\n",
      "2/2 [==============================] - 0s 10ms/step - loss: 11.6120 - mae: 11.6120\n",
      "Epoch 94/500\n",
      "2/2 [==============================] - 0s 9ms/step - loss: 16.1682 - mae: 16.1682\n",
      "Epoch 95/500\n",
      "2/2 [==============================] - 0s 7ms/step - loss: 15.5086 - mae: 15.5086\n",
      "Epoch 96/500\n",
      "2/2 [==============================] - 0s 5ms/step - loss: 15.0365 - mae: 15.0365\n",
      "Epoch 97/500\n",
      "2/2 [==============================] - 0s 5ms/step - loss: 10.8656 - mae: 10.8656\n",
      "Epoch 98/500\n",
      "2/2 [==============================] - 0s 5ms/step - loss: 14.3235 - mae: 14.3235\n",
      "Epoch 99/500\n",
      "2/2 [==============================] - 0s 5ms/step - loss: 13.3505 - mae: 13.3505\n",
      "Epoch 100/500\n",
      "2/2 [==============================] - 0s 5ms/step - loss: 19.9444 - mae: 19.9444\n",
      "Epoch 101/500\n",
      "2/2 [==============================] - 0s 5ms/step - loss: 22.6294 - mae: 22.6294\n",
      "Epoch 102/500\n",
      "2/2 [==============================] - 0s 5ms/step - loss: 11.3032 - mae: 11.3032\n",
      "Epoch 103/500\n",
      "2/2 [==============================] - 0s 6ms/step - loss: 9.3574 - mae: 9.3574\n",
      "Epoch 104/500\n",
      "2/2 [==============================] - 0s 7ms/step - loss: 25.2884 - mae: 25.2884\n",
      "Epoch 105/500\n",
      "2/2 [==============================] - 0s 7ms/step - loss: 12.4761 - mae: 12.4761\n",
      "Epoch 106/500\n",
      "2/2 [==============================] - 0s 7ms/step - loss: 9.3999 - mae: 9.3999\n",
      "Epoch 107/500\n",
      "2/2 [==============================] - 0s 6ms/step - loss: 23.3257 - mae: 23.3257\n",
      "Epoch 108/500\n",
      "2/2 [==============================] - 0s 5ms/step - loss: 8.2846 - mae: 8.2846\n",
      "Epoch 109/500\n",
      "2/2 [==============================] - 0s 5ms/step - loss: 14.1092 - mae: 14.1092\n",
      "Epoch 110/500\n",
      "2/2 [==============================] - 0s 5ms/step - loss: 10.5926 - mae: 10.5926\n",
      "Epoch 111/500\n",
      "2/2 [==============================] - 0s 5ms/step - loss: 16.8928 - mae: 16.8928\n",
      "Epoch 112/500\n",
      "2/2 [==============================] - 0s 5ms/step - loss: 8.2726 - mae: 8.2726\n",
      "Epoch 113/500\n",
      "2/2 [==============================] - 0s 5ms/step - loss: 19.7959 - mae: 19.7959\n",
      "Epoch 114/500\n",
      "2/2 [==============================] - 0s 5ms/step - loss: 17.4889 - mae: 17.4889\n",
      "Epoch 115/500\n",
      "2/2 [==============================] - 0s 5ms/step - loss: 11.2504 - mae: 11.2504\n",
      "Epoch 116/500\n",
      "2/2 [==============================] - 0s 5ms/step - loss: 23.7017 - mae: 23.7017\n",
      "Epoch 117/500\n",
      "2/2 [==============================] - 0s 5ms/step - loss: 9.7612 - mae: 9.7612\n",
      "Epoch 118/500\n",
      "2/2 [==============================] - 0s 6ms/step - loss: 10.8522 - mae: 10.8522\n",
      "Epoch 119/500\n",
      "2/2 [==============================] - 0s 5ms/step - loss: 8.0833 - mae: 8.0833\n",
      "Epoch 120/500\n",
      "2/2 [==============================] - 0s 5ms/step - loss: 30.1135 - mae: 30.1135\n",
      "Epoch 121/500\n",
      "2/2 [==============================] - 0s 5ms/step - loss: 8.1128 - mae: 8.1128\n",
      "Epoch 122/500\n",
      "2/2 [==============================] - 0s 4ms/step - loss: 28.6468 - mae: 28.6468\n",
      "Epoch 123/500\n",
      "2/2 [==============================] - 0s 5ms/step - loss: 33.3174 - mae: 33.3174\n",
      "Epoch 124/500\n",
      "2/2 [==============================] - 0s 5ms/step - loss: 19.9499 - mae: 19.9499\n",
      "Epoch 125/500\n",
      "2/2 [==============================] - 0s 5ms/step - loss: 7.6890 - mae: 7.6890\n",
      "Epoch 126/500\n",
      "2/2 [==============================] - 0s 5ms/step - loss: 17.2006 - mae: 17.2006\n",
      "Epoch 127/500\n",
      "2/2 [==============================] - 0s 5ms/step - loss: 7.5255 - mae: 7.5255\n",
      "Epoch 128/500\n",
      "2/2 [==============================] - 0s 6ms/step - loss: 18.1907 - mae: 18.1907\n",
      "Epoch 129/500\n",
      "2/2 [==============================] - 0s 6ms/step - loss: 8.7967 - mae: 8.7967\n",
      "Epoch 130/500\n",
      "2/2 [==============================] - 0s 7ms/step - loss: 22.6089 - mae: 22.6089\n",
      "Epoch 131/500\n",
      "2/2 [==============================] - 0s 7ms/step - loss: 10.2677 - mae: 10.2677\n",
      "Epoch 132/500\n",
      "2/2 [==============================] - 0s 13ms/step - loss: 15.0665 - mae: 15.0665\n",
      "Epoch 133/500\n",
      "2/2 [==============================] - 0s 5ms/step - loss: 7.1017 - mae: 7.1017\n",
      "Epoch 134/500\n",
      "2/2 [==============================] - 0s 5ms/step - loss: 23.8533 - mae: 23.8533\n",
      "Epoch 135/500\n",
      "2/2 [==============================] - 0s 13ms/step - loss: 16.6303 - mae: 16.6303\n",
      "Epoch 136/500\n",
      "2/2 [==============================] - 0s 8ms/step - loss: 14.8504 - mae: 14.8504\n",
      "Epoch 137/500\n",
      "2/2 [==============================] - 0s 9ms/step - loss: 23.1130 - mae: 23.1130\n",
      "Epoch 138/500\n",
      "2/2 [==============================] - 0s 6ms/step - loss: 9.1223 - mae: 9.1223\n",
      "Epoch 139/500\n",
      "2/2 [==============================] - 0s 6ms/step - loss: 8.9118 - mae: 8.9118\n",
      "Epoch 140/500\n",
      "2/2 [==============================] - 0s 7ms/step - loss: 16.4325 - mae: 16.4325\n",
      "Epoch 141/500\n",
      "2/2 [==============================] - 0s 6ms/step - loss: 8.4268 - mae: 8.4268\n",
      "Epoch 142/500\n",
      "2/2 [==============================] - 0s 5ms/step - loss: 36.8629 - mae: 36.8629\n",
      "Epoch 143/500\n",
      "2/2 [==============================] - 0s 6ms/step - loss: 25.5134 - mae: 25.5134\n",
      "Epoch 144/500\n",
      "2/2 [==============================] - 0s 6ms/step - loss: 9.5489 - mae: 9.5489\n",
      "Epoch 145/500\n",
      "2/2 [==============================] - 0s 5ms/step - loss: 26.6281 - mae: 26.6281\n",
      "Epoch 146/500\n",
      "2/2 [==============================] - 0s 6ms/step - loss: 8.7026 - mae: 8.7026\n",
      "Epoch 147/500\n",
      "2/2 [==============================] - 0s 7ms/step - loss: 15.6413 - mae: 15.6413\n",
      "Epoch 148/500\n",
      "2/2 [==============================] - 0s 6ms/step - loss: 18.3365 - mae: 18.3365\n",
      "Epoch 149/500\n",
      "2/2 [==============================] - 0s 5ms/step - loss: 8.1837 - mae: 8.1837\n",
      "Epoch 150/500\n",
      "2/2 [==============================] - 0s 5ms/step - loss: 7.4958 - mae: 7.4958\n",
      "Epoch 151/500\n",
      "2/2 [==============================] - 0s 5ms/step - loss: 18.2759 - mae: 18.2759\n",
      "Epoch 152/500\n",
      "2/2 [==============================] - 0s 5ms/step - loss: 10.2813 - mae: 10.2813\n",
      "Epoch 153/500\n",
      "2/2 [==============================] - 0s 5ms/step - loss: 29.5424 - mae: 29.5424\n",
      "Epoch 154/500\n",
      "2/2 [==============================] - 0s 5ms/step - loss: 10.5795 - mae: 10.5795\n",
      "Epoch 155/500\n",
      "2/2 [==============================] - 0s 5ms/step - loss: 15.4752 - mae: 15.4752\n",
      "Epoch 156/500\n",
      "2/2 [==============================] - 0s 5ms/step - loss: 17.0615 - mae: 17.0615\n",
      "Epoch 157/500\n",
      "2/2 [==============================] - 0s 5ms/step - loss: 32.7086 - mae: 32.7086\n",
      "Epoch 158/500\n",
      "2/2 [==============================] - 0s 5ms/step - loss: 10.6794 - mae: 10.6794\n",
      "Epoch 159/500\n",
      "2/2 [==============================] - 0s 5ms/step - loss: 8.8980 - mae: 8.8980\n",
      "Epoch 160/500\n",
      "2/2 [==============================] - 0s 5ms/step - loss: 22.0494 - mae: 22.0494\n",
      "Epoch 161/500\n",
      "2/2 [==============================] - 0s 5ms/step - loss: 11.6850 - mae: 11.6850\n",
      "Epoch 162/500\n",
      "2/2 [==============================] - 0s 5ms/step - loss: 21.4952 - mae: 21.4952\n",
      "Epoch 163/500\n",
      "2/2 [==============================] - 0s 5ms/step - loss: 19.1756 - mae: 19.1756\n",
      "Epoch 164/500\n",
      "2/2 [==============================] - 0s 5ms/step - loss: 10.9759 - mae: 10.9759\n",
      "Epoch 165/500\n",
      "2/2 [==============================] - 0s 13ms/step - loss: 9.6361 - mae: 9.6361\n",
      "Epoch 166/500\n",
      "2/2 [==============================] - 0s 16ms/step - loss: 21.6327 - mae: 21.6327\n",
      "Epoch 167/500\n",
      "2/2 [==============================] - 0s 8ms/step - loss: 26.1803 - mae: 26.1803\n",
      "Epoch 168/500\n",
      "2/2 [==============================] - 0s 5ms/step - loss: 9.8412 - mae: 9.8412\n",
      "Epoch 169/500\n",
      "2/2 [==============================] - 0s 5ms/step - loss: 22.4547 - mae: 22.4547\n",
      "Epoch 170/500\n",
      "2/2 [==============================] - 0s 5ms/step - loss: 10.1720 - mae: 10.1720\n",
      "Epoch 171/500\n",
      "2/2 [==============================] - 0s 5ms/step - loss: 18.0944 - mae: 18.0944\n",
      "Epoch 172/500\n",
      "2/2 [==============================] - 0s 5ms/step - loss: 28.7225 - mae: 28.7225\n",
      "Epoch 173/500\n",
      "2/2 [==============================] - 0s 5ms/step - loss: 16.4396 - mae: 16.4396\n",
      "Epoch 174/500\n",
      "2/2 [==============================] - 0s 5ms/step - loss: 11.7310 - mae: 11.7310\n",
      "Epoch 175/500\n",
      "2/2 [==============================] - 0s 6ms/step - loss: 27.1659 - mae: 27.1659\n",
      "Epoch 176/500\n",
      "2/2 [==============================] - 0s 7ms/step - loss: 8.7581 - mae: 8.7581\n",
      "Epoch 177/500\n",
      "2/2 [==============================] - 0s 15ms/step - loss: 8.7733 - mae: 8.7733\n",
      "Epoch 178/500\n",
      "2/2 [==============================] - 0s 7ms/step - loss: 16.2229 - mae: 16.2229\n",
      "Epoch 179/500\n",
      "2/2 [==============================] - 0s 5ms/step - loss: 10.3884 - mae: 10.3884\n",
      "Epoch 180/500\n",
      "2/2 [==============================] - 0s 5ms/step - loss: 7.9924 - mae: 7.9924\n",
      "Epoch 181/500\n",
      "2/2 [==============================] - 0s 6ms/step - loss: 17.7992 - mae: 17.7992\n",
      "Epoch 182/500\n",
      "2/2 [==============================] - 0s 5ms/step - loss: 11.2005 - mae: 11.2005\n",
      "Epoch 183/500\n",
      "2/2 [==============================] - 0s 5ms/step - loss: 12.4151 - mae: 12.4151\n",
      "Epoch 184/500\n",
      "2/2 [==============================] - 0s 5ms/step - loss: 27.4276 - mae: 27.4276\n",
      "Epoch 185/500\n",
      "2/2 [==============================] - 0s 5ms/step - loss: 7.5515 - mae: 7.5515\n",
      "Epoch 186/500\n",
      "2/2 [==============================] - 0s 5ms/step - loss: 15.9247 - mae: 15.9247\n",
      "Epoch 187/500\n",
      "2/2 [==============================] - 0s 5ms/step - loss: 8.5933 - mae: 8.5933\n",
      "Epoch 188/500\n",
      "2/2 [==============================] - 0s 5ms/step - loss: 28.9438 - mae: 28.9438\n",
      "Epoch 189/500\n",
      "2/2 [==============================] - 0s 7ms/step - loss: 13.1305 - mae: 13.1305\n",
      "Epoch 190/500\n",
      "2/2 [==============================] - 0s 6ms/step - loss: 18.2680 - mae: 18.2680\n",
      "Epoch 191/500\n",
      "2/2 [==============================] - 0s 5ms/step - loss: 13.6882 - mae: 13.6882\n",
      "Epoch 192/500\n",
      "2/2 [==============================] - 0s 5ms/step - loss: 13.6960 - mae: 13.6960\n",
      "Epoch 193/500\n",
      "2/2 [==============================] - 0s 6ms/step - loss: 28.5417 - mae: 28.5417\n",
      "Epoch 194/500\n",
      "2/2 [==============================] - 0s 5ms/step - loss: 7.1300 - mae: 7.1300\n",
      "Epoch 195/500\n",
      "2/2 [==============================] - 0s 7ms/step - loss: 7.0636 - mae: 7.0636\n",
      "Epoch 196/500\n",
      "2/2 [==============================] - 0s 5ms/step - loss: 21.9490 - mae: 21.9490\n",
      "Epoch 197/500\n",
      "2/2 [==============================] - 0s 5ms/step - loss: 20.9663 - mae: 20.9663\n",
      "Epoch 198/500\n",
      "2/2 [==============================] - 0s 14ms/step - loss: 12.5463 - mae: 12.5463\n",
      "Epoch 199/500\n",
      "2/2 [==============================] - 0s 7ms/step - loss: 18.0148 - mae: 18.0148\n",
      "Epoch 200/500\n",
      "2/2 [==============================] - 0s 6ms/step - loss: 13.8477 - mae: 13.8477\n",
      "Epoch 201/500\n",
      "2/2 [==============================] - 0s 14ms/step - loss: 6.0433 - mae: 6.0433\n",
      "Epoch 202/500\n",
      "2/2 [==============================] - 0s 5ms/step - loss: 22.8624 - mae: 22.8624\n",
      "Epoch 203/500\n",
      "2/2 [==============================] - 0s 5ms/step - loss: 8.9601 - mae: 8.9601\n",
      "Epoch 204/500\n",
      "2/2 [==============================] - 0s 7ms/step - loss: 18.8374 - mae: 18.8374\n",
      "Epoch 205/500\n",
      "2/2 [==============================] - 0s 6ms/step - loss: 9.3653 - mae: 9.3653\n",
      "Epoch 206/500\n",
      "2/2 [==============================] - 0s 5ms/step - loss: 10.4327 - mae: 10.4327\n",
      "Epoch 207/500\n",
      "2/2 [==============================] - 0s 5ms/step - loss: 21.1114 - mae: 21.1114\n",
      "Epoch 208/500\n",
      "2/2 [==============================] - 0s 18ms/step - loss: 16.4782 - mae: 16.4782\n",
      "Epoch 209/500\n",
      "2/2 [==============================] - 0s 4ms/step - loss: 14.3770 - mae: 14.3770\n",
      "Epoch 210/500\n",
      "2/2 [==============================] - 0s 6ms/step - loss: 19.3902 - mae: 19.3902\n",
      "Epoch 211/500\n",
      "2/2 [==============================] - 0s 6ms/step - loss: 10.3148 - mae: 10.3148\n",
      "Epoch 212/500\n",
      "2/2 [==============================] - 0s 11ms/step - loss: 20.1743 - mae: 20.1743\n",
      "Epoch 213/500\n",
      "2/2 [==============================] - 0s 13ms/step - loss: 15.0665 - mae: 15.0665\n",
      "Epoch 214/500\n",
      "2/2 [==============================] - 0s 13ms/step - loss: 14.6073 - mae: 14.6073\n",
      "Epoch 215/500\n",
      "2/2 [==============================] - 0s 8ms/step - loss: 23.3320 - mae: 23.3320\n",
      "Epoch 216/500\n",
      "2/2 [==============================] - 0s 10ms/step - loss: 13.3173 - mae: 13.3173\n",
      "Epoch 217/500\n",
      "2/2 [==============================] - 0s 13ms/step - loss: 9.8337 - mae: 9.8337\n",
      "Epoch 218/500\n",
      "2/2 [==============================] - 0s 6ms/step - loss: 12.5897 - mae: 12.5897\n",
      "Epoch 219/500\n",
      "2/2 [==============================] - 0s 6ms/step - loss: 5.3492 - mae: 5.3492\n",
      "Epoch 220/500\n",
      "2/2 [==============================] - 0s 6ms/step - loss: 14.6985 - mae: 14.6985\n",
      "Epoch 221/500\n",
      "2/2 [==============================] - 0s 7ms/step - loss: 33.5379 - mae: 33.5379\n",
      "Epoch 222/500\n",
      "2/2 [==============================] - 0s 9ms/step - loss: 13.8869 - mae: 13.8869\n",
      "Epoch 223/500\n",
      "2/2 [==============================] - 0s 14ms/step - loss: 10.9890 - mae: 10.9890\n",
      "Epoch 224/500\n",
      "2/2 [==============================] - 0s 5ms/step - loss: 14.9447 - mae: 14.9447\n",
      "Epoch 225/500\n",
      "2/2 [==============================] - 0s 5ms/step - loss: 16.9920 - mae: 16.9920\n",
      "Epoch 226/500\n",
      "2/2 [==============================] - 0s 5ms/step - loss: 16.1812 - mae: 16.1812\n",
      "Epoch 227/500\n",
      "2/2 [==============================] - 0s 5ms/step - loss: 16.4972 - mae: 16.4972\n",
      "Epoch 228/500\n",
      "2/2 [==============================] - 0s 13ms/step - loss: 9.9395 - mae: 9.9395\n",
      "Epoch 229/500\n",
      "2/2 [==============================] - 0s 6ms/step - loss: 17.8363 - mae: 17.8363\n",
      "Epoch 230/500\n",
      "2/2 [==============================] - 0s 7ms/step - loss: 15.4590 - mae: 15.4590\n",
      "Epoch 231/500\n",
      "2/2 [==============================] - 0s 14ms/step - loss: 20.8812 - mae: 20.8812\n",
      "Epoch 232/500\n",
      "2/2 [==============================] - 0s 5ms/step - loss: 20.4220 - mae: 20.4220\n",
      "Epoch 233/500\n",
      "2/2 [==============================] - 0s 13ms/step - loss: 15.0832 - mae: 15.0832\n",
      "Epoch 234/500\n",
      "2/2 [==============================] - 0s 8ms/step - loss: 6.9720 - mae: 6.9720\n",
      "Epoch 235/500\n",
      "2/2 [==============================] - 0s 6ms/step - loss: 15.7339 - mae: 15.7339\n",
      "Epoch 236/500\n",
      "2/2 [==============================] - 0s 5ms/step - loss: 6.6933 - mae: 6.6933\n",
      "Epoch 237/500\n",
      "2/2 [==============================] - 0s 5ms/step - loss: 8.6060 - mae: 8.6060\n",
      "Epoch 238/500\n",
      "2/2 [==============================] - 0s 5ms/step - loss: 7.7700 - mae: 7.7700\n",
      "Epoch 239/500\n",
      "2/2 [==============================] - 0s 5ms/step - loss: 15.6501 - mae: 15.6501\n",
      "Epoch 240/500\n",
      "2/2 [==============================] - 0s 5ms/step - loss: 9.0098 - mae: 9.0098\n",
      "Epoch 241/500\n",
      "2/2 [==============================] - 0s 5ms/step - loss: 13.4224 - mae: 13.4224\n",
      "Epoch 242/500\n",
      "2/2 [==============================] - 0s 5ms/step - loss: 8.9000 - mae: 8.9000\n",
      "Epoch 243/500\n",
      "2/2 [==============================] - 0s 5ms/step - loss: 19.2976 - mae: 19.2976\n",
      "Epoch 244/500\n",
      "2/2 [==============================] - 0s 5ms/step - loss: 13.8905 - mae: 13.8905\n",
      "Epoch 245/500\n",
      "2/2 [==============================] - 0s 5ms/step - loss: 14.5391 - mae: 14.5391\n",
      "Epoch 246/500\n",
      "2/2 [==============================] - 0s 5ms/step - loss: 15.6787 - mae: 15.6787\n",
      "Epoch 247/500\n",
      "2/2 [==============================] - 0s 5ms/step - loss: 17.5142 - mae: 17.5142\n",
      "Epoch 248/500\n",
      "2/2 [==============================] - 0s 5ms/step - loss: 13.0810 - mae: 13.0810\n",
      "Epoch 249/500\n",
      "2/2 [==============================] - 0s 5ms/step - loss: 14.4240 - mae: 14.4240\n",
      "Epoch 250/500\n",
      "2/2 [==============================] - 0s 18ms/step - loss: 27.8197 - mae: 27.8197\n",
      "Epoch 251/500\n",
      "2/2 [==============================] - 0s 12ms/step - loss: 7.5086 - mae: 7.5086\n",
      "Epoch 252/500\n",
      "2/2 [==============================] - 0s 4ms/step - loss: 38.1951 - mae: 38.1951\n",
      "Epoch 253/500\n",
      "2/2 [==============================] - 0s 12ms/step - loss: 23.0992 - mae: 23.0992\n",
      "Epoch 254/500\n",
      "2/2 [==============================] - 0s 9ms/step - loss: 7.2937 - mae: 7.2937\n",
      "Epoch 255/500\n",
      "2/2 [==============================] - 0s 11ms/step - loss: 24.6060 - mae: 24.6060\n",
      "Epoch 256/500\n",
      "2/2 [==============================] - 0s 10ms/step - loss: 12.3850 - mae: 12.3850\n",
      "Epoch 257/500\n",
      "2/2 [==============================] - 0s 6ms/step - loss: 10.5577 - mae: 10.5577\n",
      "Epoch 258/500\n",
      "2/2 [==============================] - 0s 5ms/step - loss: 14.1700 - mae: 14.1700\n",
      "Epoch 259/500\n",
      "2/2 [==============================] - 0s 4ms/step - loss: 11.2438 - mae: 11.2438\n",
      "Epoch 260/500\n",
      "2/2 [==============================] - 0s 4ms/step - loss: 31.5612 - mae: 31.5612\n",
      "Epoch 261/500\n",
      "2/2 [==============================] - 0s 5ms/step - loss: 11.1580 - mae: 11.1580\n",
      "Epoch 262/500\n",
      "2/2 [==============================] - 0s 5ms/step - loss: 10.0165 - mae: 10.0165\n",
      "Epoch 263/500\n",
      "2/2 [==============================] - 0s 6ms/step - loss: 8.9365 - mae: 8.9365\n",
      "Epoch 264/500\n",
      "2/2 [==============================] - 0s 6ms/step - loss: 21.4693 - mae: 21.4693\n",
      "Epoch 265/500\n",
      "2/2 [==============================] - 0s 14ms/step - loss: 11.4536 - mae: 11.4536\n",
      "Epoch 266/500\n",
      "2/2 [==============================] - 0s 13ms/step - loss: 13.2907 - mae: 13.2907\n",
      "Epoch 267/500\n",
      "2/2 [==============================] - 0s 6ms/step - loss: 11.0791 - mae: 11.0791\n",
      "Epoch 268/500\n",
      "2/2 [==============================] - 0s 5ms/step - loss: 19.1581 - mae: 19.1581\n",
      "Epoch 269/500\n",
      "2/2 [==============================] - 0s 5ms/step - loss: 40.7047 - mae: 40.7047\n",
      "Epoch 270/500\n",
      "2/2 [==============================] - 0s 5ms/step - loss: 12.9214 - mae: 12.9214\n",
      "Epoch 271/500\n",
      "2/2 [==============================] - 0s 5ms/step - loss: 14.7592 - mae: 14.7592\n",
      "Epoch 272/500\n",
      "2/2 [==============================] - 0s 4ms/step - loss: 28.5049 - mae: 28.5049\n",
      "Epoch 273/500\n",
      "2/2 [==============================] - 0s 6ms/step - loss: 7.3646 - mae: 7.3646\n",
      "Epoch 274/500\n",
      "2/2 [==============================] - 0s 6ms/step - loss: 6.3452 - mae: 6.3452\n",
      "Epoch 275/500\n",
      "2/2 [==============================] - 0s 5ms/step - loss: 36.9547 - mae: 36.9547\n",
      "Epoch 276/500\n",
      "2/2 [==============================] - 0s 4ms/step - loss: 8.2826 - mae: 8.2826\n",
      "Epoch 277/500\n",
      "2/2 [==============================] - 0s 4ms/step - loss: 27.7720 - mae: 27.7720\n",
      "Epoch 278/500\n",
      "2/2 [==============================] - 0s 9ms/step - loss: 10.6588 - mae: 10.6588\n",
      "Epoch 279/500\n",
      "2/2 [==============================] - 0s 5ms/step - loss: 16.0934 - mae: 16.0934\n",
      "Epoch 280/500\n",
      "2/2 [==============================] - 0s 5ms/step - loss: 21.2053 - mae: 21.2053\n",
      "Epoch 281/500\n",
      "2/2 [==============================] - 0s 17ms/step - loss: 23.8668 - mae: 23.8668\n",
      "Epoch 282/500\n",
      "2/2 [==============================] - 0s 5ms/step - loss: 8.2718 - mae: 8.2718\n",
      "Epoch 283/500\n",
      "2/2 [==============================] - 0s 4ms/step - loss: 8.4447 - mae: 8.4447\n",
      "Epoch 284/500\n",
      "2/2 [==============================] - 0s 4ms/step - loss: 26.7200 - mae: 26.7200\n",
      "Epoch 285/500\n",
      "2/2 [==============================] - 0s 5ms/step - loss: 14.2976 - mae: 14.2976\n",
      "Epoch 286/500\n",
      "2/2 [==============================] - 0s 5ms/step - loss: 5.2539 - mae: 5.2539\n",
      "Epoch 287/500\n",
      "2/2 [==============================] - 0s 6ms/step - loss: 20.7742 - mae: 20.7742\n",
      "Epoch 288/500\n",
      "2/2 [==============================] - 0s 6ms/step - loss: 27.7950 - mae: 27.7950\n",
      "Epoch 289/500\n",
      "2/2 [==============================] - 0s 13ms/step - loss: 10.9797 - mae: 10.9797\n",
      "Epoch 290/500\n",
      "2/2 [==============================] - 0s 6ms/step - loss: 16.1735 - mae: 16.1735\n",
      "Epoch 291/500\n",
      "2/2 [==============================] - 0s 14ms/step - loss: 16.3374 - mae: 16.3374\n",
      "Epoch 292/500\n",
      "2/2 [==============================] - 0s 10ms/step - loss: 14.6054 - mae: 14.6054\n",
      "Epoch 293/500\n",
      "2/2 [==============================] - 0s 5ms/step - loss: 15.9264 - mae: 15.9264\n",
      "Epoch 294/500\n",
      "2/2 [==============================] - 0s 7ms/step - loss: 24.0517 - mae: 24.0517\n",
      "Epoch 295/500\n",
      "2/2 [==============================] - 0s 7ms/step - loss: 14.7832 - mae: 14.7832\n",
      "Epoch 296/500\n",
      "2/2 [==============================] - 0s 7ms/step - loss: 4.3629 - mae: 4.3629\n",
      "Epoch 297/500\n",
      "2/2 [==============================] - 0s 9ms/step - loss: 11.8643 - mae: 11.8643\n",
      "Epoch 298/500\n",
      "2/2 [==============================] - 0s 18ms/step - loss: 23.7572 - mae: 23.7572\n",
      "Epoch 299/500\n",
      "2/2 [==============================] - 0s 8ms/step - loss: 19.0252 - mae: 19.0252\n",
      "Epoch 300/500\n",
      "2/2 [==============================] - 0s 5ms/step - loss: 8.8189 - mae: 8.8189\n",
      "Epoch 301/500\n",
      "2/2 [==============================] - 0s 7ms/step - loss: 15.8892 - mae: 15.8892\n",
      "Epoch 302/500\n",
      "2/2 [==============================] - 0s 9ms/step - loss: 5.7447 - mae: 5.7447\n",
      "Epoch 303/500\n",
      "2/2 [==============================] - 0s 14ms/step - loss: 22.9826 - mae: 22.9826\n",
      "Epoch 304/500\n",
      "2/2 [==============================] - 0s 6ms/step - loss: 26.0597 - mae: 26.0597\n",
      "Epoch 305/500\n",
      "2/2 [==============================] - 0s 13ms/step - loss: 9.5901 - mae: 9.5901\n",
      "Epoch 306/500\n",
      "2/2 [==============================] - 0s 4ms/step - loss: 17.8185 - mae: 17.8185\n",
      "Epoch 307/500\n",
      "2/2 [==============================] - 0s 11ms/step - loss: 9.7942 - mae: 9.7942\n",
      "Epoch 308/500\n",
      "2/2 [==============================] - 0s 7ms/step - loss: 20.5437 - mae: 20.5437\n",
      "Epoch 309/500\n",
      "2/2 [==============================] - 0s 16ms/step - loss: 13.6724 - mae: 13.6724\n",
      "Epoch 310/500\n",
      "2/2 [==============================] - 0s 5ms/step - loss: 6.6477 - mae: 6.6477\n",
      "Epoch 311/500\n",
      "2/2 [==============================] - 0s 5ms/step - loss: 13.3869 - mae: 13.3869\n",
      "Epoch 312/500\n",
      "2/2 [==============================] - 0s 7ms/step - loss: 30.1847 - mae: 30.1847\n",
      "Epoch 313/500\n",
      "2/2 [==============================] - 0s 5ms/step - loss: 7.2674 - mae: 7.2674\n",
      "Epoch 314/500\n",
      "2/2 [==============================] - 0s 5ms/step - loss: 10.5499 - mae: 10.5499\n",
      "Epoch 315/500\n",
      "2/2 [==============================] - 0s 4ms/step - loss: 23.5515 - mae: 23.5515\n",
      "Epoch 316/500\n",
      "2/2 [==============================] - 0s 9ms/step - loss: 14.4528 - mae: 14.4528\n",
      "Epoch 317/500\n",
      "2/2 [==============================] - 0s 5ms/step - loss: 20.0115 - mae: 20.0115\n",
      "Epoch 318/500\n",
      "2/2 [==============================] - 0s 5ms/step - loss: 8.0141 - mae: 8.0141\n",
      "Epoch 319/500\n",
      "2/2 [==============================] - 0s 6ms/step - loss: 18.1412 - mae: 18.1412\n",
      "Epoch 320/500\n",
      "2/2 [==============================] - 0s 11ms/step - loss: 10.6644 - mae: 10.6644\n",
      "Epoch 321/500\n",
      "2/2 [==============================] - 0s 5ms/step - loss: 7.0439 - mae: 7.0439\n",
      "Epoch 322/500\n",
      "2/2 [==============================] - 0s 12ms/step - loss: 8.6702 - mae: 8.6702\n",
      "Epoch 323/500\n",
      "2/2 [==============================] - 0s 5ms/step - loss: 18.3296 - mae: 18.3296\n",
      "Epoch 324/500\n",
      "2/2 [==============================] - 0s 5ms/step - loss: 6.3173 - mae: 6.3173\n",
      "Epoch 325/500\n",
      "2/2 [==============================] - 0s 5ms/step - loss: 14.6331 - mae: 14.6331\n",
      "Epoch 326/500\n",
      "2/2 [==============================] - 0s 12ms/step - loss: 6.9992 - mae: 6.9992\n",
      "Epoch 327/500\n",
      "2/2 [==============================] - 0s 6ms/step - loss: 17.6483 - mae: 17.6483\n",
      "Epoch 328/500\n",
      "2/2 [==============================] - 0s 6ms/step - loss: 14.3691 - mae: 14.3691\n",
      "Epoch 329/500\n",
      "2/2 [==============================] - 0s 7ms/step - loss: 17.6799 - mae: 17.6799\n",
      "Epoch 330/500\n",
      "2/2 [==============================] - 0s 8ms/step - loss: 6.7888 - mae: 6.7888\n",
      "Epoch 331/500\n",
      "2/2 [==============================] - 0s 5ms/step - loss: 19.7571 - mae: 19.7571\n",
      "Epoch 332/500\n",
      "2/2 [==============================] - 0s 7ms/step - loss: 10.5610 - mae: 10.5610\n",
      "Epoch 333/500\n",
      "2/2 [==============================] - 0s 10ms/step - loss: 16.3556 - mae: 16.3556\n",
      "Epoch 334/500\n",
      "2/2 [==============================] - 0s 7ms/step - loss: 9.7134 - mae: 9.7134\n",
      "Epoch 335/500\n",
      "2/2 [==============================] - 0s 5ms/step - loss: 13.0566 - mae: 13.0566\n",
      "Epoch 336/500\n",
      "2/2 [==============================] - 0s 13ms/step - loss: 32.4905 - mae: 32.4905\n",
      "Epoch 337/500\n",
      "2/2 [==============================] - 0s 13ms/step - loss: 11.0348 - mae: 11.0348\n",
      "Epoch 338/500\n",
      "2/2 [==============================] - 0s 12ms/step - loss: 19.9451 - mae: 19.9451\n",
      "Epoch 339/500\n",
      "2/2 [==============================] - 0s 8ms/step - loss: 34.3407 - mae: 34.3407\n",
      "Epoch 340/500\n",
      "2/2 [==============================] - 0s 10ms/step - loss: 9.2885 - mae: 9.2885\n",
      "Epoch 341/500\n",
      "2/2 [==============================] - 0s 7ms/step - loss: 17.3035 - mae: 17.3035\n",
      "Epoch 342/500\n",
      "2/2 [==============================] - 0s 5ms/step - loss: 14.9115 - mae: 14.9115\n",
      "Epoch 343/500\n",
      "2/2 [==============================] - 0s 8ms/step - loss: 10.3177 - mae: 10.3177\n",
      "Epoch 344/500\n",
      "2/2 [==============================] - 0s 5ms/step - loss: 9.9402 - mae: 9.9402\n",
      "Epoch 345/500\n",
      "2/2 [==============================] - 0s 15ms/step - loss: 30.9001 - mae: 30.9001\n",
      "Epoch 346/500\n",
      "2/2 [==============================] - 0s 9ms/step - loss: 10.6283 - mae: 10.6283\n",
      "Epoch 347/500\n",
      "2/2 [==============================] - 0s 12ms/step - loss: 25.5383 - mae: 25.5383\n",
      "Epoch 348/500\n",
      "2/2 [==============================] - 0s 7ms/step - loss: 13.3508 - mae: 13.3508\n",
      "Epoch 349/500\n",
      "2/2 [==============================] - 0s 17ms/step - loss: 13.0120 - mae: 13.0120\n",
      "Epoch 350/500\n",
      "2/2 [==============================] - 0s 11ms/step - loss: 15.3923 - mae: 15.3923\n",
      "Epoch 351/500\n",
      "2/2 [==============================] - 0s 5ms/step - loss: 32.8613 - mae: 32.8613\n",
      "Epoch 352/500\n",
      "2/2 [==============================] - 0s 5ms/step - loss: 13.9450 - mae: 13.9450\n",
      "Epoch 353/500\n",
      "2/2 [==============================] - 0s 4ms/step - loss: 15.9331 - mae: 15.9331\n",
      "Epoch 354/500\n",
      "2/2 [==============================] - 0s 4ms/step - loss: 19.1137 - mae: 19.1137\n",
      "Epoch 355/500\n",
      "2/2 [==============================] - 0s 6ms/step - loss: 34.0533 - mae: 34.0533\n",
      "Epoch 356/500\n",
      "2/2 [==============================] - 0s 12ms/step - loss: 7.6891 - mae: 7.6891\n",
      "Epoch 357/500\n",
      "2/2 [==============================] - 0s 6ms/step - loss: 25.1668 - mae: 25.1668\n",
      "Epoch 358/500\n",
      "2/2 [==============================] - 0s 6ms/step - loss: 22.6190 - mae: 22.6190\n",
      "Epoch 359/500\n",
      "2/2 [==============================] - 0s 7ms/step - loss: 9.5176 - mae: 9.5176\n",
      "Epoch 360/500\n",
      "2/2 [==============================] - 0s 6ms/step - loss: 20.6743 - mae: 20.6743\n",
      "Epoch 361/500\n",
      "2/2 [==============================] - 0s 6ms/step - loss: 10.0976 - mae: 10.0976\n",
      "Epoch 362/500\n",
      "2/2 [==============================] - 0s 6ms/step - loss: 7.0871 - mae: 7.0871\n",
      "Epoch 363/500\n",
      "2/2 [==============================] - 0s 5ms/step - loss: 25.9797 - mae: 25.9797\n",
      "Epoch 364/500\n",
      "2/2 [==============================] - 0s 6ms/step - loss: 32.4546 - mae: 32.4546\n",
      "Epoch 365/500\n",
      "2/2 [==============================] - 0s 11ms/step - loss: 10.4252 - mae: 10.4252\n",
      "Epoch 366/500\n",
      "2/2 [==============================] - 0s 5ms/step - loss: 11.8555 - mae: 11.8555\n",
      "Epoch 367/500\n",
      "2/2 [==============================] - 0s 5ms/step - loss: 30.1364 - mae: 30.1364\n",
      "Epoch 368/500\n",
      "2/2 [==============================] - 0s 5ms/step - loss: 9.8345 - mae: 9.8345\n",
      "Epoch 369/500\n",
      "2/2 [==============================] - 0s 18ms/step - loss: 15.0366 - mae: 15.0366\n",
      "Epoch 370/500\n",
      "2/2 [==============================] - 0s 4ms/step - loss: 14.6901 - mae: 14.6901\n",
      "Epoch 371/500\n",
      "2/2 [==============================] - 0s 4ms/step - loss: 23.4283 - mae: 23.4283\n",
      "Epoch 372/500\n",
      "2/2 [==============================] - 0s 5ms/step - loss: 13.0011 - mae: 13.0011\n",
      "Epoch 373/500\n",
      "2/2 [==============================] - 0s 5ms/step - loss: 8.9034 - mae: 8.9034\n",
      "Epoch 374/500\n",
      "2/2 [==============================] - 0s 5ms/step - loss: 5.8626 - mae: 5.8626\n",
      "Epoch 375/500\n",
      "2/2 [==============================] - 0s 19ms/step - loss: 14.7788 - mae: 14.7788\n",
      "Epoch 376/500\n",
      "2/2 [==============================] - 0s 14ms/step - loss: 16.5488 - mae: 16.5488\n",
      "Epoch 377/500\n",
      "2/2 [==============================] - 0s 4ms/step - loss: 13.7015 - mae: 13.7015\n",
      "Epoch 378/500\n",
      "2/2 [==============================] - 0s 15ms/step - loss: 15.5098 - mae: 15.5098\n",
      "Epoch 379/500\n",
      "2/2 [==============================] - 0s 5ms/step - loss: 19.0365 - mae: 19.0365\n",
      "Epoch 380/500\n",
      "2/2 [==============================] - 0s 6ms/step - loss: 38.8604 - mae: 38.8604\n",
      "Epoch 381/500\n",
      "2/2 [==============================] - 0s 5ms/step - loss: 11.7056 - mae: 11.7056\n",
      "Epoch 382/500\n",
      "2/2 [==============================] - 0s 7ms/step - loss: 9.6270 - mae: 9.6270\n",
      "Epoch 383/500\n",
      "2/2 [==============================] - 0s 6ms/step - loss: 17.0785 - mae: 17.0785\n",
      "Epoch 384/500\n",
      "2/2 [==============================] - 0s 7ms/step - loss: 9.2660 - mae: 9.2660\n",
      "Epoch 385/500\n",
      "2/2 [==============================] - 0s 9ms/step - loss: 4.2504 - mae: 4.2504\n",
      "Epoch 386/500\n",
      "2/2 [==============================] - 0s 5ms/step - loss: 13.7555 - mae: 13.7555\n",
      "Epoch 387/500\n",
      "2/2 [==============================] - 0s 5ms/step - loss: 17.1926 - mae: 17.1926\n",
      "Epoch 388/500\n",
      "2/2 [==============================] - 0s 7ms/step - loss: 16.9437 - mae: 16.9437\n",
      "Epoch 389/500\n",
      "2/2 [==============================] - 0s 6ms/step - loss: 13.2721 - mae: 13.2721\n",
      "Epoch 390/500\n",
      "2/2 [==============================] - 0s 6ms/step - loss: 18.0510 - mae: 18.0510\n",
      "Epoch 391/500\n",
      "2/2 [==============================] - 0s 6ms/step - loss: 14.0642 - mae: 14.0642\n",
      "Epoch 392/500\n",
      "2/2 [==============================] - 0s 5ms/step - loss: 16.9295 - mae: 16.9295\n",
      "Epoch 393/500\n",
      "2/2 [==============================] - 0s 17ms/step - loss: 9.9913 - mae: 9.9913\n",
      "Epoch 394/500\n",
      "2/2 [==============================] - 0s 9ms/step - loss: 14.1227 - mae: 14.1227\n",
      "Epoch 395/500\n",
      "2/2 [==============================] - 0s 16ms/step - loss: 28.5259 - mae: 28.5259\n",
      "Epoch 396/500\n",
      "2/2 [==============================] - 0s 15ms/step - loss: 8.4219 - mae: 8.4219\n",
      "Epoch 397/500\n",
      "2/2 [==============================] - 0s 6ms/step - loss: 11.1521 - mae: 11.1521\n",
      "Epoch 398/500\n",
      "2/2 [==============================] - 0s 14ms/step - loss: 6.8473 - mae: 6.8473\n",
      "Epoch 399/500\n",
      "2/2 [==============================] - 0s 7ms/step - loss: 13.9887 - mae: 13.9887\n",
      "Epoch 400/500\n",
      "2/2 [==============================] - 0s 5ms/step - loss: 6.6368 - mae: 6.6368\n",
      "Epoch 401/500\n",
      "2/2 [==============================] - 0s 5ms/step - loss: 7.9122 - mae: 7.9122\n",
      "Epoch 402/500\n",
      "2/2 [==============================] - 0s 11ms/step - loss: 16.2565 - mae: 16.2565\n",
      "Epoch 403/500\n",
      "2/2 [==============================] - 0s 6ms/step - loss: 12.3832 - mae: 12.3832\n",
      "Epoch 404/500\n",
      "2/2 [==============================] - 0s 24ms/step - loss: 23.0048 - mae: 23.0048\n",
      "Epoch 405/500\n",
      "2/2 [==============================] - 0s 5ms/step - loss: 17.9395 - mae: 17.9395\n",
      "Epoch 406/500\n",
      "2/2 [==============================] - 0s 5ms/step - loss: 6.9814 - mae: 6.9814\n",
      "Epoch 407/500\n",
      "2/2 [==============================] - 0s 5ms/step - loss: 12.5242 - mae: 12.5242\n",
      "Epoch 408/500\n",
      "2/2 [==============================] - 0s 6ms/step - loss: 5.6355 - mae: 5.6355\n",
      "Epoch 409/500\n",
      "2/2 [==============================] - 0s 11ms/step - loss: 31.0092 - mae: 31.0092\n",
      "Epoch 410/500\n",
      "2/2 [==============================] - 0s 7ms/step - loss: 9.2902 - mae: 9.2902\n",
      "Epoch 411/500\n",
      "2/2 [==============================] - 0s 7ms/step - loss: 14.9008 - mae: 14.9008\n",
      "Epoch 412/500\n",
      "2/2 [==============================] - 0s 6ms/step - loss: 21.8051 - mae: 21.8051\n",
      "Epoch 413/500\n",
      "2/2 [==============================] - 0s 6ms/step - loss: 12.4873 - mae: 12.4873\n",
      "Epoch 414/500\n",
      "2/2 [==============================] - 0s 6ms/step - loss: 6.5668 - mae: 6.5668\n",
      "Epoch 415/500\n",
      "2/2 [==============================] - 0s 7ms/step - loss: 12.6863 - mae: 12.6863\n",
      "Epoch 416/500\n",
      "2/2 [==============================] - 0s 13ms/step - loss: 26.9057 - mae: 26.9057\n",
      "Epoch 417/500\n",
      "2/2 [==============================] - 0s 7ms/step - loss: 12.1355 - mae: 12.1355\n",
      "Epoch 418/500\n",
      "2/2 [==============================] - 0s 12ms/step - loss: 13.0333 - mae: 13.0333\n",
      "Epoch 419/500\n",
      "2/2 [==============================] - 0s 5ms/step - loss: 16.0049 - mae: 16.0049\n",
      "Epoch 420/500\n",
      "2/2 [==============================] - 0s 6ms/step - loss: 25.0266 - mae: 25.0266\n",
      "Epoch 421/500\n",
      "2/2 [==============================] - 0s 5ms/step - loss: 16.6991 - mae: 16.6991\n",
      "Epoch 422/500\n",
      "2/2 [==============================] - 0s 5ms/step - loss: 8.6540 - mae: 8.6540\n",
      "Epoch 423/500\n",
      "2/2 [==============================] - 0s 5ms/step - loss: 24.7431 - mae: 24.7431\n",
      "Epoch 424/500\n",
      "2/2 [==============================] - 0s 5ms/step - loss: 16.6428 - mae: 16.6428\n",
      "Epoch 425/500\n",
      "2/2 [==============================] - 0s 5ms/step - loss: 7.2426 - mae: 7.2426\n",
      "Epoch 426/500\n",
      "2/2 [==============================] - 0s 5ms/step - loss: 20.8032 - mae: 20.8032\n",
      "Epoch 427/500\n",
      "2/2 [==============================] - 0s 4ms/step - loss: 6.4227 - mae: 6.4227\n",
      "Epoch 428/500\n",
      "2/2 [==============================] - 0s 6ms/step - loss: 13.3309 - mae: 13.3309\n",
      "Epoch 429/500\n",
      "2/2 [==============================] - 0s 4ms/step - loss: 11.0749 - mae: 11.0749\n",
      "Epoch 430/500\n",
      "2/2 [==============================] - 0s 13ms/step - loss: 11.9649 - mae: 11.9649\n",
      "Epoch 431/500\n",
      "2/2 [==============================] - 0s 5ms/step - loss: 8.5432 - mae: 8.5432\n",
      "Epoch 432/500\n",
      "2/2 [==============================] - 0s 7ms/step - loss: 18.7323 - mae: 18.7323\n",
      "Epoch 433/500\n",
      "2/2 [==============================] - 0s 13ms/step - loss: 10.1160 - mae: 10.1160\n",
      "Epoch 434/500\n",
      "2/2 [==============================] - 0s 5ms/step - loss: 30.6253 - mae: 30.6253\n",
      "Epoch 435/500\n",
      "2/2 [==============================] - 0s 5ms/step - loss: 11.1393 - mae: 11.1393\n",
      "Epoch 436/500\n",
      "2/2 [==============================] - 0s 6ms/step - loss: 28.7151 - mae: 28.7151\n",
      "Epoch 437/500\n",
      "2/2 [==============================] - 0s 6ms/step - loss: 7.5072 - mae: 7.5072\n",
      "Epoch 438/500\n",
      "2/2 [==============================] - 0s 5ms/step - loss: 13.1314 - mae: 13.1314\n",
      "Epoch 439/500\n",
      "2/2 [==============================] - 0s 5ms/step - loss: 34.0948 - mae: 34.0948\n",
      "Epoch 440/500\n",
      "2/2 [==============================] - 0s 5ms/step - loss: 15.6971 - mae: 15.6971\n",
      "Epoch 441/500\n",
      "2/2 [==============================] - 0s 5ms/step - loss: 18.2537 - mae: 18.2537\n",
      "Epoch 442/500\n",
      "2/2 [==============================] - 0s 5ms/step - loss: 27.2514 - mae: 27.2514\n",
      "Epoch 443/500\n",
      "2/2 [==============================] - 0s 5ms/step - loss: 10.3768 - mae: 10.3768\n",
      "Epoch 444/500\n",
      "2/2 [==============================] - 0s 5ms/step - loss: 6.2447 - mae: 6.2447\n",
      "Epoch 445/500\n",
      "2/2 [==============================] - 0s 5ms/step - loss: 7.8576 - mae: 7.8576\n",
      "Epoch 446/500\n",
      "2/2 [==============================] - 0s 5ms/step - loss: 15.9534 - mae: 15.9534\n",
      "Epoch 447/500\n",
      "2/2 [==============================] - 0s 5ms/step - loss: 9.2389 - mae: 9.2389\n",
      "Epoch 448/500\n",
      "2/2 [==============================] - 0s 6ms/step - loss: 3.2477 - mae: 3.2477\n",
      "Epoch 449/500\n",
      "2/2 [==============================] - 0s 5ms/step - loss: 14.3288 - mae: 14.3288\n",
      "Epoch 450/500\n",
      "2/2 [==============================] - 0s 5ms/step - loss: 17.0728 - mae: 17.0728\n",
      "Epoch 451/500\n",
      "2/2 [==============================] - 0s 6ms/step - loss: 14.4065 - mae: 14.4065\n",
      "Epoch 452/500\n",
      "2/2 [==============================] - 0s 6ms/step - loss: 30.9067 - mae: 30.9067\n",
      "Epoch 453/500\n",
      "2/2 [==============================] - 0s 5ms/step - loss: 9.1018 - mae: 9.1018\n",
      "Epoch 454/500\n",
      "2/2 [==============================] - 0s 5ms/step - loss: 27.2153 - mae: 27.2153\n",
      "Epoch 455/500\n",
      "2/2 [==============================] - 0s 5ms/step - loss: 11.3618 - mae: 11.3618\n",
      "Epoch 456/500\n",
      "2/2 [==============================] - 0s 5ms/step - loss: 15.6445 - mae: 15.6445\n",
      "Epoch 457/500\n",
      "2/2 [==============================] - 0s 5ms/step - loss: 19.3028 - mae: 19.3028\n",
      "Epoch 458/500\n",
      "2/2 [==============================] - 0s 5ms/step - loss: 22.9801 - mae: 22.9801\n",
      "Epoch 459/500\n",
      "2/2 [==============================] - 0s 5ms/step - loss: 16.4305 - mae: 16.4305\n",
      "Epoch 460/500\n",
      "2/2 [==============================] - 0s 5ms/step - loss: 7.4365 - mae: 7.4365\n",
      "Epoch 461/500\n",
      "2/2 [==============================] - 0s 5ms/step - loss: 15.6938 - mae: 15.6938\n",
      "Epoch 462/500\n",
      "2/2 [==============================] - 0s 5ms/step - loss: 15.1892 - mae: 15.1892\n",
      "Epoch 463/500\n",
      "2/2 [==============================] - 0s 5ms/step - loss: 16.8321 - mae: 16.8321\n",
      "Epoch 464/500\n",
      "2/2 [==============================] - 0s 5ms/step - loss: 11.2374 - mae: 11.2374\n",
      "Epoch 465/500\n",
      "2/2 [==============================] - 0s 5ms/step - loss: 21.5730 - mae: 21.5730\n",
      "Epoch 466/500\n",
      "2/2 [==============================] - 0s 5ms/step - loss: 24.9379 - mae: 24.9379\n",
      "Epoch 467/500\n",
      "2/2 [==============================] - 0s 5ms/step - loss: 14.7806 - mae: 14.7806\n",
      "Epoch 468/500\n",
      "2/2 [==============================] - 0s 5ms/step - loss: 10.3737 - mae: 10.3737\n",
      "Epoch 469/500\n",
      "2/2 [==============================] - 0s 5ms/step - loss: 27.3892 - mae: 27.3892\n",
      "Epoch 470/500\n",
      "2/2 [==============================] - 0s 6ms/step - loss: 12.3815 - mae: 12.3815\n",
      "Epoch 471/500\n",
      "2/2 [==============================] - 0s 7ms/step - loss: 12.0128 - mae: 12.0128\n",
      "Epoch 472/500\n",
      "2/2 [==============================] - 0s 6ms/step - loss: 15.5276 - mae: 15.5276\n",
      "Epoch 473/500\n",
      "2/2 [==============================] - 0s 8ms/step - loss: 15.5495 - mae: 15.5495\n",
      "Epoch 474/500\n",
      "2/2 [==============================] - 0s 6ms/step - loss: 20.1675 - mae: 20.1675\n",
      "Epoch 475/500\n",
      "2/2 [==============================] - 0s 6ms/step - loss: 5.0684 - mae: 5.0684\n",
      "Epoch 476/500\n",
      "2/2 [==============================] - 0s 5ms/step - loss: 13.3529 - mae: 13.3529\n",
      "Epoch 477/500\n",
      "2/2 [==============================] - 0s 8ms/step - loss: 29.5932 - mae: 29.5932\n",
      "Epoch 478/500\n",
      "2/2 [==============================] - 0s 5ms/step - loss: 3.2423 - mae: 3.2423\n",
      "Epoch 479/500\n",
      "2/2 [==============================] - 0s 5ms/step - loss: 16.4150 - mae: 16.4150\n",
      "Epoch 480/500\n",
      "2/2 [==============================] - 0s 5ms/step - loss: 3.3393 - mae: 3.3393\n",
      "Epoch 481/500\n",
      "2/2 [==============================] - 0s 8ms/step - loss: 15.8184 - mae: 15.8184\n",
      "Epoch 482/500\n",
      "2/2 [==============================] - 0s 7ms/step - loss: 21.2899 - mae: 21.2899\n",
      "Epoch 483/500\n",
      "2/2 [==============================] - 0s 6ms/step - loss: 25.6241 - mae: 25.6241\n",
      "Epoch 484/500\n",
      "2/2 [==============================] - 0s 5ms/step - loss: 24.2153 - mae: 24.2153\n",
      "Epoch 485/500\n",
      "2/2 [==============================] - 0s 5ms/step - loss: 5.7703 - mae: 5.7703\n",
      "Epoch 486/500\n",
      "2/2 [==============================] - 0s 5ms/step - loss: 20.2782 - mae: 20.2782\n",
      "Epoch 487/500\n",
      "2/2 [==============================] - 0s 6ms/step - loss: 14.0119 - mae: 14.0119\n",
      "Epoch 488/500\n",
      "2/2 [==============================] - 0s 5ms/step - loss: 30.5595 - mae: 30.5595\n",
      "Epoch 489/500\n",
      "2/2 [==============================] - 0s 5ms/step - loss: 11.8392 - mae: 11.8392\n",
      "Epoch 490/500\n",
      "2/2 [==============================] - 0s 10ms/step - loss: 12.4983 - mae: 12.4983\n",
      "Epoch 491/500\n",
      "2/2 [==============================] - 0s 5ms/step - loss: 23.7386 - mae: 23.7386\n",
      "Epoch 492/500\n",
      "2/2 [==============================] - 0s 5ms/step - loss: 20.2367 - mae: 20.2367\n",
      "Epoch 493/500\n",
      "2/2 [==============================] - 0s 5ms/step - loss: 4.8909 - mae: 4.8909\n",
      "Epoch 494/500\n",
      "2/2 [==============================] - 0s 5ms/step - loss: 12.5423 - mae: 12.5423\n",
      "Epoch 495/500\n",
      "2/2 [==============================] - 0s 5ms/step - loss: 13.4687 - mae: 13.4687\n",
      "Epoch 496/500\n",
      "2/2 [==============================] - 0s 5ms/step - loss: 12.7352 - mae: 12.7352\n",
      "Epoch 497/500\n",
      "2/2 [==============================] - 0s 4ms/step - loss: 17.7262 - mae: 17.7262\n",
      "Epoch 498/500\n",
      "2/2 [==============================] - 0s 5ms/step - loss: 23.3058 - mae: 23.3058\n",
      "Epoch 499/500\n",
      "2/2 [==============================] - 0s 5ms/step - loss: 9.0631 - mae: 9.0631\n",
      "Epoch 500/500\n",
      "2/2 [==============================] - 0s 4ms/step - loss: 14.3752 - mae: 14.3752\n"
     ]
    },
    {
     "data": {
      "text/plain": "<keras.callbacks.History at 0x7fdc84cfb790>"
     },
     "execution_count": 71,
     "metadata": {},
     "output_type": "execute_result"
    }
   ],
   "source": [
    "# Set the random seed\n",
    "tf.random.set_seed(42)\n",
    "\n",
    "# 1. Create the model\n",
    "model_3 = tf.keras.Sequential([\n",
    "    tf.keras.layers.Dense(10),\n",
    "    tf.keras.layers.Dense(1)\n",
    "])\n",
    "\n",
    "# 2. Compile the model\n",
    "model_3.compile(loss=tf.keras.losses.mae,\n",
    "                optimizer=tf.keras.optimizers.SGD(),\n",
    "                metrics=[\"mae\"])\n",
    "\n",
    "# 3. Fit the model\n",
    "model_3.fit(tf.expand_dims(X_train, axis=-1), y_train, epochs=500)"
   ],
   "metadata": {
    "colab": {
     "base_uri": "https://localhost:8080/"
    },
    "id": "63aa0519b7419682",
    "executionInfo": {
     "status": "ok",
     "timestamp": 1696076859418,
     "user_tz": -420,
     "elapsed": 12407,
     "user": {
      "displayName": "kang sigit",
      "userId": "15887135570512197739"
     }
    },
    "outputId": "b505caf8-a0f1-424c-d542-7479ae153a19",
    "ExecuteTime": {
     "end_time": "2023-09-30T12:59:40.906478256Z",
     "start_time": "2023-09-30T12:59:24.085250587Z"
    }
   },
   "id": "63aa0519b7419682"
  },
  {
   "cell_type": "code",
   "execution_count": 72,
   "outputs": [
    {
     "name": "stdout",
     "output_type": "stream",
     "text": [
      "1/1 [==============================] - 0s 42ms/step\n"
     ]
    },
    {
     "data": {
      "text/plain": "<Figure size 1000x700 with 1 Axes>",
      "image/png": "[encoded data removed]"
     },
     "metadata": {},
     "output_type": "display_data"
    }
   ],
   "source": [
    "# Make and plot some predictions\n",
    "y_preds_3 = model_3.predict(X_test)\n",
    "plot_predictions(predictions=y_preds_3)"
   ],
   "metadata": {
    "colab": {
     "base_uri": "https://localhost:8080/",
     "height": 617
    },
    "id": "14874d471dd92dec",
    "executionInfo": {
     "status": "ok",
     "timestamp": 1696076861937,
     "user_tz": -420,
     "elapsed": 671,
     "user": {
      "displayName": "kang sigit",
      "userId": "15887135570512197739"
     }
    },
    "outputId": "fe1fd6e7-d487-4987-f7e0-fa91d67da44a",
    "ExecuteTime": {
     "end_time": "2023-09-30T12:59:45.163884174Z",
     "start_time": "2023-09-30T12:59:44.776106986Z"
    }
   },
   "id": "14874d471dd92dec"
  },
  {
   "cell_type": "code",
   "execution_count": 73,
   "outputs": [
    {
     "data": {
      "text/plain": "(<tf.Tensor: shape=(), dtype=float32, numpy=67.86978>,\n <tf.Tensor: shape=(), dtype=float32, numpy=4690.7017>)"
     },
     "execution_count": 73,
     "metadata": {},
     "output_type": "execute_result"
    }
   ],
   "source": [
    "# Calculate model_3 evaluation metrics\n",
    "mae_3 = mae(y_test, y_preds_3)\n",
    "mse_3 = mse(y_test, y_preds_3)\n",
    "mae_3, mse_3"
   ],
   "metadata": {
    "colab": {
     "base_uri": "https://localhost:8080/"
    },
    "id": "a1bdb91d97ceeb7a",
    "executionInfo": {
     "status": "ok",
     "timestamp": 1696076867643,
     "user_tz": -420,
     "elapsed": 922,
     "user": {
      "displayName": "kang sigit",
      "userId": "15887135570512197739"
     }
    },
    "outputId": "0ab21741-9a25-46ca-c673-b847793ba5dd",
    "ExecuteTime": {
     "end_time": "2023-09-30T12:59:46.759894440Z",
     "start_time": "2023-09-30T12:59:46.709512780Z"
    }
   },
   "id": "a1bdb91d97ceeb7a"
  },
  {
   "cell_type": "markdown",
   "source": [
    "🔑 **Note:** You want to start with small experiments (small models) and make sure they work and than increase their scale when necessary."
   ],
   "metadata": {
    "collapsed": false,
    "id": "13cc26732f4ee288"
   },
   "id": "13cc26732f4ee288"
  },
  {
   "cell_type": "markdown",
   "source": [
    "## Comparing the results of our experiments\n",
    "\n",
    "We've run a few experiments, let's compare the results."
   ],
   "metadata": {
    "collapsed": false,
    "id": "f99513fbb95360d4"
   },
   "id": "f99513fbb95360d4"
  },
  {
   "cell_type": "code",
   "execution_count": 74,
   "outputs": [
    {
     "data": {
      "text/plain": "     model        mae          mse\n0  model_1  14.948679   224.303711\n1  model_2  29.620266   908.346863\n2  model_3  67.869781  4690.701660",
      "text/html": "<div>\n<style scoped>\n    .dataframe tbody tr th:only-of-type {\n        vertical-align: middle;\n    }\n\n    .dataframe tbody tr th {\n        vertical-align: top;\n    }\n\n    .dataframe thead th {\n        text-align: right;\n    }\n</style>\n<table border=\"1\" class=\"dataframe\">\n  <thead>\n    <tr style=\"text-align: right;\">\n      <th></th>\n      <th>model</th>\n      <th>mae</th>\n      <th>mse</th>\n    </tr>\n  </thead>\n  <tbody>\n    <tr>\n      <th>0</th>\n      <td>model_1</td>\n      <td>14.948679</td>\n      <td>224.303711</td>\n    </tr>\n    <tr>\n      <th>1</th>\n      <td>model_2</td>\n      <td>29.620266</td>\n      <td>908.346863</td>\n    </tr>\n    <tr>\n      <th>2</th>\n      <td>model_3</td>\n      <td>67.869781</td>\n      <td>4690.701660</td>\n    </tr>\n  </tbody>\n</table>\n</div>"
     },
     "execution_count": 74,
     "metadata": {},
     "output_type": "execute_result"
    }
   ],
   "source": [
    "# Let's compare our model's results using a pandas DataFrame\n",
    "import pandas as pd\n",
    "\n",
    "model_results = [[\"model_1\", mae_1.numpy(), mse_1.numpy()],\n",
    "                 [\"model_2\", mae_2.numpy(), mse_2.numpy()],\n",
    "                 [\"model_3\", mae_3.numpy(), mse_3.numpy()]]\n",
    "\n",
    "all_results = pd.DataFrame(model_results, columns=[\"model\", \"mae\", \"mse\"])\n",
    "all_results"
   ],
   "metadata": {
    "colab": {
     "base_uri": "https://localhost:8080/",
     "height": 143
    },
    "id": "307fb19b0e82e4c6",
    "executionInfo": {
     "status": "ok",
     "timestamp": 1696076870784,
     "user_tz": -420,
     "elapsed": 14,
     "user": {
      "displayName": "kang sigit",
      "userId": "15887135570512197739"
     }
    },
    "outputId": "e0578fbd-8dd6-4813-e17d-b81d15efcd8d",
    "ExecuteTime": {
     "end_time": "2023-09-30T12:59:49.967448626Z",
     "start_time": "2023-09-30T12:59:49.892568132Z"
    }
   },
   "id": "307fb19b0e82e4c6"
  },
  {
   "cell_type": "code",
   "execution_count": 75,
   "outputs": [],
   "source": [
    "### Look like `model_2` performed best (maybe)"
   ],
   "metadata": {
    "id": "5b36e1e7958a0c73",
    "executionInfo": {
     "status": "ok",
     "timestamp": 1696076877317,
     "user_tz": -420,
     "elapsed": 560,
     "user": {
      "displayName": "kang sigit",
      "userId": "15887135570512197739"
     }
    },
    "ExecuteTime": {
     "end_time": "2023-09-30T12:59:54.099288682Z",
     "start_time": "2023-09-30T12:59:54.019480382Z"
    }
   },
   "id": "5b36e1e7958a0c73"
  },
  {
   "cell_type": "code",
   "execution_count": 76,
   "outputs": [
    {
     "name": "stdout",
     "output_type": "stream",
     "text": [
      "Model: \"sequential_8\"\n",
      "_________________________________________________________________\n",
      " Layer (type)                Output Shape              Param #   \n",
      "=================================================================\n",
      " dense_11 (Dense)            (None, 10)                20        \n",
      "                                                                 \n",
      " dense_12 (Dense)            (None, 1)                 11        \n",
      "                                                                 \n",
      "=================================================================\n",
      "Total params: 31\n",
      "Trainable params: 31\n",
      "Non-trainable params: 0\n",
      "_________________________________________________________________\n"
     ]
    }
   ],
   "source": [
    "model_2.summary()"
   ],
   "metadata": {
    "colab": {
     "base_uri": "https://localhost:8080/"
    },
    "id": "217c2eae7aa9fffc",
    "executionInfo": {
     "status": "ok",
     "timestamp": 1696076880554,
     "user_tz": -420,
     "elapsed": 824,
     "user": {
      "displayName": "kang sigit",
      "userId": "15887135570512197739"
     }
    },
    "outputId": "ce1b5ae7-6598-4afc-8dda-63d17f521d3a",
    "ExecuteTime": {
     "end_time": "2023-09-30T12:59:55.297641491Z",
     "start_time": "2023-09-30T12:59:55.231403773Z"
    }
   },
   "id": "217c2eae7aa9fffc"
  },
  {
   "cell_type": "markdown",
   "source": [
    ":key **Note:** One of your main goals should be to minimize the time between your experiments. The more experiments you do, the more things you'll figure out which don't work and in turn, get closer to figuring out what does work.Remember the machine learning practioner's motto: \"experiment, experiment, experiment\"."
   ],
   "metadata": {
    "collapsed": false,
    "id": "4a1705a03c1bbb72"
   },
   "id": "4a1705a03c1bbb72"
  },
  {
   "cell_type": "markdown",
   "source": [
    "## Tracking your experiments\n",
    "\n",
    "One really good habit in machine learning modelling is to track the results of your experiments.\n",
    "\n",
    "And when doing so, it can be tedious if you're running lots of experiments.\n",
    "\n",
    "Luckily, there are tools to help us!\n",
    "\n",
    "📖 **Resource:** As you build more models, you'll want to look into using:\n",
    "\n",
    "* TensorBoard - a component of the TensorFlow library to help track modelling experiments (we'll see this one later).\n",
    "* Weights & Biases - a tool for tracking all of kinds of machine learning experiments (plugs straight into TensorBoard)."
   ],
   "metadata": {
    "collapsed": false,
    "id": "17f54b7f126aa329"
   },
   "id": "17f54b7f126aa329"
  },
  {
   "cell_type": "markdown",
   "source": [
    "## Saving our models\n",
    "\n",
    "Saving your models allows us to use them outside of Google Colab (or wherever they were trained) such as in a web application or a mobile app.\n",
    "\n",
    "There are two main formats we can save or model's too:\n",
    "1. The SaveModel Format\n",
    "2. The HDF5 format"
   ],
   "metadata": {
    "collapsed": false,
    "id": "3b39adadf7ace07"
   },
   "id": "3b39adadf7ace07"
  },
  {
   "cell_type": "code",
   "execution_count": 77,
   "outputs": [
    {
     "name": "stderr",
     "output_type": "stream",
     "text": [
      "WARNING:absl:Found untraced functions such as _update_step_xla while saving (showing 1 of 1). These functions will not be directly callable after loading.\n"
     ]
    },
    {
     "name": "stdout",
     "output_type": "stream",
     "text": [
      "INFO:tensorflow:Assets written to: best_model_SavedModel_format/assets\n"
     ]
    },
    {
     "name": "stderr",
     "output_type": "stream",
     "text": [
      "INFO:tensorflow:Assets written to: best_model_SavedModel_format/assets\n"
     ]
    }
   ],
   "source": [
    "# Save model using the SaveModel format\n",
    "model_2.save(\"best_model_SavedModel_format\")"
   ],
   "metadata": {
    "id": "f756e5f68dbdd72",
    "executionInfo": {
     "status": "aborted",
     "timestamp": 1696076709017,
     "user_tz": -420,
     "elapsed": 12,
     "user": {
      "displayName": "kang sigit",
      "userId": "15887135570512197739"
     }
    },
    "ExecuteTime": {
     "end_time": "2023-09-30T13:06:07.645036204Z",
     "start_time": "2023-09-30T13:06:07.161719688Z"
    }
   },
   "id": "f756e5f68dbdd72"
  },
  {
   "cell_type": "code",
   "execution_count": 78,
   "outputs": [],
   "source": [
    "# Save model using the HDF5 format\n",
    "model_2.save(\"best_model_HDF5_format.h5\")"
   ],
   "metadata": {
    "collapsed": false,
    "ExecuteTime": {
     "end_time": "2023-09-30T13:11:25.275474132Z",
     "start_time": "2023-09-30T13:11:25.148577120Z"
    }
   },
   "id": "3d3318e412be8e5e"
  },
  {
   "cell_type": "code",
   "execution_count": null,
   "outputs": [],
   "source": [],
   "metadata": {
    "collapsed": false
   },
   "id": "f2ac52ebd7146a53"
  }
 ],
 "metadata": {
  "kernelspec": {
   "name": "python3",
   "language": "python",
   "display_name": "Python 3 (ipykernel)"
  },
  "language_info": {
   "codemirror_mode": {
    "name": "ipython",
    "version": 2
   },
   "file_extension": ".py",
   "mimetype": "text/x-python",
   "name": "python",
   "nbconvert_exporter": "python",
   "pygments_lexer": "ipython2",
   "version": "2.7.6"
  },
  "colab": {
   "provenance": [],
   "gpuType": "T4"
  },
  "accelerator": "GPU"
 },
 "nbformat": 4,
 "nbformat_minor": 5
}
