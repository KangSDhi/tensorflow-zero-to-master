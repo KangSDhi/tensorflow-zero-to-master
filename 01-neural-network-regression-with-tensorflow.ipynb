{
 "cells": [
  {
   "cell_type": "markdown",
   "source": [
    "# Introduction to Regression with Neural Networks in TensorFlow\n",
    "\n",
    "There are many definitions for regression problem but in our case, we're going to simplify it: predicting a numerical variable based on some other combination of variables, even shorther... predicting a number."
   ],
   "metadata": {
    "collapsed": false
   },
   "id": "6ebb1111b9c93791"
  },
  {
   "cell_type": "code",
   "execution_count": 18,
   "outputs": [
    {
     "name": "stdout",
     "output_type": "stream",
     "text": [
      "2.12.0\n"
     ]
    }
   ],
   "source": [
    "# Import TensorFlow\n",
    "import tensorflow as tf\n",
    "print(tf.__version__)"
   ],
   "metadata": {
    "collapsed": false,
    "ExecuteTime": {
     "end_time": "2023-09-26T02:19:47.991654849Z",
     "start_time": "2023-09-26T02:19:47.905813072Z"
    }
   },
   "id": "d4e5f09eca05ca59"
  },
  {
   "cell_type": "markdown",
   "source": [
    "## Creating data to view and fit"
   ],
   "metadata": {
    "collapsed": false
   },
   "id": "8407fe85818d8aac"
  },
  {
   "cell_type": "code",
   "execution_count": 19,
   "outputs": [
    {
     "data": {
      "text/plain": "<matplotlib.collections.PathCollection at 0x7fdde44c0a90>"
     },
     "execution_count": 19,
     "metadata": {},
     "output_type": "execute_result"
    },
    {
     "data": {
      "text/plain": "<Figure size 640x480 with 1 Axes>",
      "image/png": "[encoded data removed]"
     },
     "metadata": {},
     "output_type": "display_data"
    }
   ],
   "source": [
    "import numpy as np\n",
    "import matplotlib.pyplot as plt\n",
    "\n",
    "# Create features\n",
    "X = np.array([-7.0, -4.0, -1.0, 2.0, 5.0, 8.0, 11.0, 14.0])\n",
    "\n",
    "# Create labels\n",
    "y = np.array([3.0, 6.0, 9.0, 12.0, 15.0, 18.0, 21.0, 24.0])\n",
    "\n",
    "# Visualize it\n",
    "plt.scatter(X, y)"
   ],
   "metadata": {
    "collapsed": false,
    "ExecuteTime": {
     "end_time": "2023-09-26T02:19:48.379624783Z",
     "start_time": "2023-09-26T02:19:47.918570020Z"
    }
   },
   "id": "135387d48040aa65"
  },
  {
   "cell_type": "code",
   "execution_count": 20,
   "outputs": [
    {
     "data": {
      "text/plain": "array([ True,  True,  True,  True,  True,  True,  True,  True])"
     },
     "execution_count": 20,
     "metadata": {},
     "output_type": "execute_result"
    }
   ],
   "source": [
    "y == X + 10"
   ],
   "metadata": {
    "collapsed": false,
    "ExecuteTime": {
     "end_time": "2023-09-26T02:19:48.380375776Z",
     "start_time": "2023-09-26T02:19:48.104757047Z"
    }
   },
   "id": "35d94d5b061cfa67"
  },
  {
   "cell_type": "markdown",
   "source": [
    "## Input and output shapes"
   ],
   "metadata": {
    "collapsed": false
   },
   "id": "420b161819373fbe"
  },
  {
   "cell_type": "code",
   "execution_count": 21,
   "outputs": [
    {
     "data": {
      "text/plain": "(<tf.Tensor: shape=(3,), dtype=string, numpy=array([b'bedroom', b'bathroom', b'garage'], dtype=object)>,\n <tf.Tensor: shape=(1,), dtype=int32, numpy=array([939700], dtype=int32)>)"
     },
     "execution_count": 21,
     "metadata": {},
     "output_type": "execute_result"
    }
   ],
   "source": [
    "# Create a demo tensor for our housing price prediction problem\n",
    "house_info = tf.constant([\"bedroom\", \"bathroom\", \"garage\"])\n",
    "house_price = tf.constant([939700])\n",
    "house_info, house_price"
   ],
   "metadata": {
    "collapsed": false,
    "ExecuteTime": {
     "end_time": "2023-09-26T02:19:48.380883067Z",
     "start_time": "2023-09-26T02:19:48.105246951Z"
    }
   },
   "id": "f6848417caa4070a"
  },
  {
   "cell_type": "code",
   "execution_count": 22,
   "outputs": [
    {
     "data": {
      "text/plain": "(-7.0, 3.0)"
     },
     "execution_count": 22,
     "metadata": {},
     "output_type": "execute_result"
    }
   ],
   "source": [
    "X[0], y[0]"
   ],
   "metadata": {
    "collapsed": false,
    "ExecuteTime": {
     "end_time": "2023-09-26T02:19:48.381252362Z",
     "start_time": "2023-09-26T02:19:48.105583676Z"
    }
   },
   "id": "2af8bcb603f84f47"
  },
  {
   "cell_type": "code",
   "execution_count": 23,
   "outputs": [
    {
     "data": {
      "text/plain": "(-4.0, 6.0)"
     },
     "execution_count": 23,
     "metadata": {},
     "output_type": "execute_result"
    }
   ],
   "source": [
    "X[1], y[1]"
   ],
   "metadata": {
    "collapsed": false,
    "ExecuteTime": {
     "end_time": "2023-09-26T02:19:48.381593423Z",
     "start_time": "2023-09-26T02:19:48.105882268Z"
    }
   },
   "id": "abfb4fe2f54c9ccd"
  },
  {
   "cell_type": "code",
   "execution_count": 24,
   "outputs": [
    {
     "data": {
      "text/plain": "((), ())"
     },
     "execution_count": 24,
     "metadata": {},
     "output_type": "execute_result"
    }
   ],
   "source": [
    "input_shape = X[0].shape\n",
    "output_shape = y[0].shape\n",
    "input_shape, output_shape"
   ],
   "metadata": {
    "collapsed": false,
    "ExecuteTime": {
     "end_time": "2023-09-26T02:19:48.381999357Z",
     "start_time": "2023-09-26T02:19:48.106180Z"
    }
   },
   "id": "7ae73a2555815544"
  },
  {
   "cell_type": "code",
   "execution_count": 25,
   "outputs": [
    {
     "data": {
      "text/plain": "0"
     },
     "execution_count": 25,
     "metadata": {},
     "output_type": "execute_result"
    }
   ],
   "source": [
    "X[0].ndim"
   ],
   "metadata": {
    "collapsed": false,
    "ExecuteTime": {
     "end_time": "2023-09-26T02:19:48.382305938Z",
     "start_time": "2023-09-26T02:19:48.106965204Z"
    }
   },
   "id": "8a2ef4c080258f67"
  },
  {
   "cell_type": "code",
   "execution_count": 26,
   "outputs": [
    {
     "data": {
      "text/plain": "(-7.0, 3.0)"
     },
     "execution_count": 26,
     "metadata": {},
     "output_type": "execute_result"
    }
   ],
   "source": [
    "X[0], y[0]"
   ],
   "metadata": {
    "collapsed": false,
    "ExecuteTime": {
     "end_time": "2023-09-26T02:19:48.382740763Z",
     "start_time": "2023-09-26T02:19:48.107310586Z"
    }
   },
   "id": "8dfe9ccbe865992c"
  },
  {
   "cell_type": "code",
   "execution_count": 27,
   "outputs": [
    {
     "data": {
      "text/plain": "(<tf.Tensor: shape=(8,), dtype=float32, numpy=array([-7., -4., -1.,  2.,  5.,  8., 11., 14.], dtype=float32)>,\n <tf.Tensor: shape=(8,), dtype=float32, numpy=array([ 3.,  6.,  9., 12., 15., 18., 21., 24.], dtype=float32)>)"
     },
     "execution_count": 27,
     "metadata": {},
     "output_type": "execute_result"
    }
   ],
   "source": [
    "# Turn our NumPy arrays into tensors with dtype float32\n",
    "X = tf.cast(tf.constant(X), dtype=tf.float32)\n",
    "y = tf.cast(tf.constant(y), dtype=tf.float32)\n",
    "X, y"
   ],
   "metadata": {
    "collapsed": false,
    "ExecuteTime": {
     "end_time": "2023-09-26T02:19:48.383190495Z",
     "start_time": "2023-09-26T02:19:48.107625220Z"
    }
   },
   "id": "77e963d826e1c5ee"
  },
  {
   "cell_type": "code",
   "execution_count": 28,
   "outputs": [
    {
     "data": {
      "text/plain": "(TensorShape([]), TensorShape([]))"
     },
     "execution_count": 28,
     "metadata": {},
     "output_type": "execute_result"
    }
   ],
   "source": [
    "input_shape = X[0].shape\n",
    "output_shape = y[0].shape\n",
    "input_shape, output_shape"
   ],
   "metadata": {
    "collapsed": false,
    "ExecuteTime": {
     "end_time": "2023-09-26T02:19:48.383698709Z",
     "start_time": "2023-09-26T02:19:48.147475580Z"
    }
   },
   "id": "14e27954e5032236"
  },
  {
   "cell_type": "code",
   "execution_count": 29,
   "outputs": [
    {
     "data": {
      "text/plain": "<matplotlib.collections.PathCollection at 0x7fdde8e564d0>"
     },
     "execution_count": 29,
     "metadata": {},
     "output_type": "execute_result"
    },
    {
     "data": {
      "text/plain": "<Figure size 640x480 with 1 Axes>",
      "image/png": "[encoded data removed]"
     },
     "metadata": {},
     "output_type": "display_data"
    }
   ],
   "source": [
    "plt.scatter(X, y)"
   ],
   "metadata": {
    "collapsed": false,
    "ExecuteTime": {
     "end_time": "2023-09-26T02:19:48.395827924Z",
     "start_time": "2023-09-26T02:19:48.147915839Z"
    }
   },
   "id": "e697df78c938eedc"
  },
  {
   "cell_type": "markdown",
   "source": [
    "## Steps in modeling with TensorFlow\n",
    "\n",
    "1. **Creating a model** - define the input and output layers, as well as the hidden layers of a deep learning model.\n",
    "2. **Compiling a model** - define the loss function (in other words, the function which tells our model how wrong it is) and the optimizer (tells our model how to improve the patterns its learning) and evaluation metrics (what we can use to interpret the performance our model).\n",
    "3. **Fitting a model** - letting the model try to find patterns between X & y (features and labels)."
   ],
   "metadata": {
    "collapsed": false
   },
   "id": "e9796f121f9b42fe"
  },
  {
   "cell_type": "code",
   "execution_count": 30,
   "outputs": [],
   "source": [
    "# # Optionally, the first layer can receive an `input_shape` argument:\n",
    "# model = tf.keras.Sequential()\n",
    "# model.add(tf.keras.layers.Dense(8, input_shape=(16,)))\n",
    "# # Afterwards, we do automatic shape inference:\n",
    "# model.add(tf.keras.layers.Dense(4))\n",
    "# \n",
    "# model = tf.keras.Sequential()\n",
    "# model.add(tf.keras.layers.Dense(8, input_shape=(16, )))\n",
    "# ...\n",
    "# \n",
    "# model = tf.keras.Sequential()\n",
    "# model.add(tf.keras.layers.Dense(1))"
   ],
   "metadata": {
    "collapsed": false,
    "ExecuteTime": {
     "end_time": "2023-09-26T02:19:48.396089497Z",
     "start_time": "2023-09-26T02:19:48.300952494Z"
    }
   },
   "id": "e65f811a3ad5e9e1"
  },
  {
   "cell_type": "code",
   "execution_count": 31,
   "outputs": [
    {
     "name": "stdout",
     "output_type": "stream",
     "text": [
      "Epoch 1/5\n",
      "1/1 [==============================] - 1s 608ms/step - loss: 13.2286 - mae: 13.2286\n",
      "Epoch 2/5\n",
      "1/1 [==============================] - 0s 5ms/step - loss: 13.0961 - mae: 13.0961\n",
      "Epoch 3/5\n",
      "1/1 [==============================] - 0s 6ms/step - loss: 12.9636 - mae: 12.9636\n",
      "Epoch 4/5\n",
      "1/1 [==============================] - 0s 6ms/step - loss: 12.8311 - mae: 12.8311\n",
      "Epoch 5/5\n",
      "1/1 [==============================] - 0s 6ms/step - loss: 12.6986 - mae: 12.6986\n"
     ]
    },
    {
     "data": {
      "text/plain": "<keras.callbacks.History at 0x7fddd7a04210>"
     },
     "execution_count": 31,
     "metadata": {},
     "output_type": "execute_result"
    }
   ],
   "source": [
    "# Set random seed\n",
    "tf.random.set_seed(42)\n",
    "\n",
    "# 1. Create a model using the Sequential API\n",
    "model = tf.keras.Sequential([\n",
    "    tf.keras.layers.Dense(1)\n",
    "])\n",
    "\n",
    "# 2. Compile the model\n",
    "model.compile(loss=tf.keras.losses.mae, # mae is short for mean absolute error\n",
    "              optimizer=tf.keras.optimizers.SGD(), # sgd is short for stochstic gradient descent\n",
    "              metrics=[\"mae\"])\n",
    "\n",
    "# 3. Fit the model\n",
    "# model.fit(X, y, epochs=5) # This line will error if you're running TensorFlow 2.7.0+!\n",
    "model.fit(tf.expand_dims(X, axis=-1), y, epochs=5)"
   ],
   "metadata": {
    "collapsed": false,
    "ExecuteTime": {
     "end_time": "2023-09-26T02:19:49.149010410Z",
     "start_time": "2023-09-26T02:19:48.344488989Z"
    }
   },
   "id": "cc71e5f4aac7d8a6"
  },
  {
   "cell_type": "code",
   "execution_count": 32,
   "outputs": [
    {
     "data": {
      "text/plain": "(<tf.Tensor: shape=(8,), dtype=float32, numpy=array([-7., -4., -1.,  2.,  5.,  8., 11., 14.], dtype=float32)>,\n <tf.Tensor: shape=(8,), dtype=float32, numpy=array([ 3.,  6.,  9., 12., 15., 18., 21., 24.], dtype=float32)>)"
     },
     "execution_count": 32,
     "metadata": {},
     "output_type": "execute_result"
    }
   ],
   "source": [
    "# Check out X and y\n",
    "X, y"
   ],
   "metadata": {
    "collapsed": false,
    "ExecuteTime": {
     "end_time": "2023-09-26T02:19:49.282520190Z",
     "start_time": "2023-09-26T02:19:49.091646656Z"
    }
   },
   "id": "b1b4a1c994642378"
  },
  {
   "cell_type": "code",
   "execution_count": 33,
   "outputs": [
    {
     "name": "stdout",
     "output_type": "stream",
     "text": [
      "1/1 [==============================] - 0s 84ms/step\n"
     ]
    },
    {
     "data": {
      "text/plain": "array([[4.3431196]], dtype=float32)"
     },
     "execution_count": 33,
     "metadata": {},
     "output_type": "execute_result"
    }
   ],
   "source": [
    "# Try and make a prediction using our model\n",
    "y_pred = model.predict([17.0])\n",
    "y_pred"
   ],
   "metadata": {
    "collapsed": false,
    "ExecuteTime": {
     "end_time": "2023-09-26T02:19:49.322425279Z",
     "start_time": "2023-09-26T02:19:49.138427436Z"
    }
   },
   "id": "6c9feaa2ed2266c8"
  },
  {
   "cell_type": "code",
   "execution_count": 34,
   "outputs": [
    {
     "data": {
      "text/plain": "array([[13.34312]], dtype=float32)"
     },
     "execution_count": 34,
     "metadata": {},
     "output_type": "execute_result"
    }
   ],
   "source": [
    "y_pred + 9"
   ],
   "metadata": {
    "collapsed": false,
    "ExecuteTime": {
     "end_time": "2023-09-26T02:19:49.370980018Z",
     "start_time": "2023-09-26T02:19:49.249838830Z"
    }
   },
   "id": "6ac8363b8e315b33"
  },
  {
   "cell_type": "markdown",
   "source": [
    "## Improving our model\n",
    "\n",
    "We can improve our model, by altering the steps we took to create a model.\n",
    "\n",
    "1. **Creating a model** - here we might add more layers, increase the number of hidden units (all called neurons) within each of the hidden layers, change the activation function of each layer.\n",
    "2. **Compiling a model** - here we might change the optimization function or perhaps the **learning rate** of the optimization function.\n",
    "3. **Fitting a model** - here we might fit a model for more **epochs** (leave it training for longer) or on more data (give the model more examples to learn from)."
   ],
   "metadata": {
    "collapsed": false
   },
   "id": "ee325f78f13dbc6f"
  },
  {
   "cell_type": "code",
   "execution_count": 36,
   "outputs": [
    {
     "name": "stdout",
     "output_type": "stream",
     "text": [
      "Epoch 1/100\n",
      "1/1 [==============================] - 0s 228ms/step - loss: 13.8989 - mae: 13.8989\n",
      "Epoch 2/100\n",
      "1/1 [==============================] - 0s 3ms/step - loss: 13.7664 - mae: 13.7664\n",
      "Epoch 3/100\n",
      "1/1 [==============================] - 0s 3ms/step - loss: 13.6339 - mae: 13.6339\n",
      "Epoch 4/100\n",
      "1/1 [==============================] - 0s 4ms/step - loss: 13.5014 - mae: 13.5014\n",
      "Epoch 5/100\n",
      "1/1 [==============================] - 0s 4ms/step - loss: 13.3689 - mae: 13.3689\n",
      "Epoch 6/100\n",
      "1/1 [==============================] - 0s 3ms/step - loss: 13.2364 - mae: 13.2364\n",
      "Epoch 7/100\n",
      "1/1 [==============================] - 0s 3ms/step - loss: 13.1039 - mae: 13.1039\n",
      "Epoch 8/100\n",
      "1/1 [==============================] - 0s 3ms/step - loss: 12.9714 - mae: 12.9714\n",
      "Epoch 9/100\n",
      "1/1 [==============================] - 0s 3ms/step - loss: 12.8389 - mae: 12.8389\n",
      "Epoch 10/100\n",
      "1/1 [==============================] - 0s 3ms/step - loss: 12.7064 - mae: 12.7064\n",
      "Epoch 11/100\n",
      "1/1 [==============================] - 0s 4ms/step - loss: 12.5739 - mae: 12.5739\n",
      "Epoch 12/100\n",
      "1/1 [==============================] - 0s 4ms/step - loss: 12.4414 - mae: 12.4414\n",
      "Epoch 13/100\n",
      "1/1 [==============================] - 0s 4ms/step - loss: 12.3089 - mae: 12.3089\n",
      "Epoch 14/100\n",
      "1/1 [==============================] - 0s 4ms/step - loss: 12.1764 - mae: 12.1764\n",
      "Epoch 15/100\n",
      "1/1 [==============================] - 0s 4ms/step - loss: 12.0439 - mae: 12.0439\n",
      "Epoch 16/100\n",
      "1/1 [==============================] - 0s 4ms/step - loss: 11.9114 - mae: 11.9114\n",
      "Epoch 17/100\n",
      "1/1 [==============================] - 0s 4ms/step - loss: 11.7789 - mae: 11.7789\n",
      "Epoch 18/100\n",
      "1/1 [==============================] - 0s 3ms/step - loss: 11.6464 - mae: 11.6464\n",
      "Epoch 19/100\n",
      "1/1 [==============================] - 0s 3ms/step - loss: 11.5139 - mae: 11.5139\n",
      "Epoch 20/100\n",
      "1/1 [==============================] - 0s 4ms/step - loss: 11.3814 - mae: 11.3814\n",
      "Epoch 21/100\n",
      "1/1 [==============================] - 0s 3ms/step - loss: 11.2489 - mae: 11.2489\n",
      "Epoch 22/100\n",
      "1/1 [==============================] - 0s 3ms/step - loss: 11.1164 - mae: 11.1164\n",
      "Epoch 23/100\n",
      "1/1 [==============================] - 0s 4ms/step - loss: 10.9839 - mae: 10.9839\n",
      "Epoch 24/100\n",
      "1/1 [==============================] - 0s 4ms/step - loss: 10.8514 - mae: 10.8514\n",
      "Epoch 25/100\n",
      "1/1 [==============================] - 0s 3ms/step - loss: 10.7189 - mae: 10.7189\n",
      "Epoch 26/100\n",
      "1/1 [==============================] - 0s 3ms/step - loss: 10.5864 - mae: 10.5864\n",
      "Epoch 27/100\n",
      "1/1 [==============================] - 0s 4ms/step - loss: 10.4539 - mae: 10.4539\n",
      "Epoch 28/100\n",
      "1/1 [==============================] - 0s 3ms/step - loss: 10.3214 - mae: 10.3214\n",
      "Epoch 29/100\n",
      "1/1 [==============================] - 0s 3ms/step - loss: 10.1889 - mae: 10.1889\n",
      "Epoch 30/100\n",
      "1/1 [==============================] - 0s 4ms/step - loss: 10.0564 - mae: 10.0564\n",
      "Epoch 31/100\n",
      "1/1 [==============================] - 0s 3ms/step - loss: 9.9239 - mae: 9.9239\n",
      "Epoch 32/100\n",
      "1/1 [==============================] - 0s 3ms/step - loss: 9.7914 - mae: 9.7914\n",
      "Epoch 33/100\n",
      "1/1 [==============================] - 0s 4ms/step - loss: 9.6589 - mae: 9.6589\n",
      "Epoch 34/100\n",
      "1/1 [==============================] - 0s 4ms/step - loss: 9.5264 - mae: 9.5264\n",
      "Epoch 35/100\n",
      "1/1 [==============================] - 0s 4ms/step - loss: 9.3939 - mae: 9.3939\n",
      "Epoch 36/100\n",
      "1/1 [==============================] - 0s 4ms/step - loss: 9.2614 - mae: 9.2614\n",
      "Epoch 37/100\n",
      "1/1 [==============================] - 0s 4ms/step - loss: 9.1289 - mae: 9.1289\n",
      "Epoch 38/100\n",
      "1/1 [==============================] - 0s 4ms/step - loss: 8.9964 - mae: 8.9964\n",
      "Epoch 39/100\n",
      "1/1 [==============================] - 0s 4ms/step - loss: 8.8639 - mae: 8.8639\n",
      "Epoch 40/100\n",
      "1/1 [==============================] - 0s 4ms/step - loss: 8.7314 - mae: 8.7314\n",
      "Epoch 41/100\n",
      "1/1 [==============================] - 0s 4ms/step - loss: 8.5989 - mae: 8.5989\n",
      "Epoch 42/100\n",
      "1/1 [==============================] - 0s 4ms/step - loss: 8.4664 - mae: 8.4664\n",
      "Epoch 43/100\n",
      "1/1 [==============================] - 0s 3ms/step - loss: 8.3339 - mae: 8.3339\n",
      "Epoch 44/100\n",
      "1/1 [==============================] - 0s 4ms/step - loss: 8.2014 - mae: 8.2014\n",
      "Epoch 45/100\n",
      "1/1 [==============================] - 0s 4ms/step - loss: 8.0689 - mae: 8.0689\n",
      "Epoch 46/100\n",
      "1/1 [==============================] - 0s 4ms/step - loss: 7.9364 - mae: 7.9364\n",
      "Epoch 47/100\n",
      "1/1 [==============================] - 0s 4ms/step - loss: 7.8039 - mae: 7.8039\n",
      "Epoch 48/100\n",
      "1/1 [==============================] - 0s 4ms/step - loss: 7.6714 - mae: 7.6714\n",
      "Epoch 49/100\n",
      "1/1 [==============================] - 0s 5ms/step - loss: 7.5389 - mae: 7.5389\n",
      "Epoch 50/100\n",
      "1/1 [==============================] - 0s 4ms/step - loss: 7.4064 - mae: 7.4064\n",
      "Epoch 51/100\n",
      "1/1 [==============================] - 0s 4ms/step - loss: 7.2739 - mae: 7.2739\n",
      "Epoch 52/100\n",
      "1/1 [==============================] - 0s 4ms/step - loss: 7.1414 - mae: 7.1414\n",
      "Epoch 53/100\n",
      "1/1 [==============================] - 0s 4ms/step - loss: 7.1100 - mae: 7.1100\n",
      "Epoch 54/100\n",
      "1/1 [==============================] - 0s 4ms/step - loss: 7.1044 - mae: 7.1044\n",
      "Epoch 55/100\n",
      "1/1 [==============================] - 0s 5ms/step - loss: 7.0988 - mae: 7.0988\n",
      "Epoch 56/100\n",
      "1/1 [==============================] - 0s 4ms/step - loss: 7.0931 - mae: 7.0931\n",
      "Epoch 57/100\n",
      "1/1 [==============================] - 0s 5ms/step - loss: 7.0875 - mae: 7.0875\n",
      "Epoch 58/100\n",
      "1/1 [==============================] - 0s 4ms/step - loss: 7.0819 - mae: 7.0819\n",
      "Epoch 59/100\n",
      "1/1 [==============================] - 0s 4ms/step - loss: 7.0763 - mae: 7.0763\n",
      "Epoch 60/100\n",
      "1/1 [==============================] - 0s 5ms/step - loss: 7.0706 - mae: 7.0706\n",
      "Epoch 61/100\n",
      "1/1 [==============================] - 0s 4ms/step - loss: 7.0650 - mae: 7.0650\n",
      "Epoch 62/100\n",
      "1/1 [==============================] - 0s 3ms/step - loss: 7.0594 - mae: 7.0594\n",
      "Epoch 63/100\n",
      "1/1 [==============================] - 0s 5ms/step - loss: 7.0538 - mae: 7.0538\n",
      "Epoch 64/100\n",
      "1/1 [==============================] - 0s 4ms/step - loss: 7.0481 - mae: 7.0481\n",
      "Epoch 65/100\n",
      "1/1 [==============================] - 0s 3ms/step - loss: 7.0425 - mae: 7.0425\n",
      "Epoch 66/100\n",
      "1/1 [==============================] - 0s 6ms/step - loss: 7.0369 - mae: 7.0369\n",
      "Epoch 67/100\n",
      "1/1 [==============================] - 0s 4ms/step - loss: 7.0312 - mae: 7.0312\n",
      "Epoch 68/100\n",
      "1/1 [==============================] - 0s 3ms/step - loss: 7.0256 - mae: 7.0256\n",
      "Epoch 69/100\n",
      "1/1 [==============================] - 0s 5ms/step - loss: 7.0200 - mae: 7.0200\n",
      "Epoch 70/100\n",
      "1/1 [==============================] - 0s 4ms/step - loss: 7.0144 - mae: 7.0144\n",
      "Epoch 71/100\n",
      "1/1 [==============================] - 0s 3ms/step - loss: 7.0087 - mae: 7.0087\n",
      "Epoch 72/100\n",
      "1/1 [==============================] - 0s 5ms/step - loss: 7.0031 - mae: 7.0031\n",
      "Epoch 73/100\n",
      "1/1 [==============================] - 0s 4ms/step - loss: 6.9975 - mae: 6.9975\n",
      "Epoch 74/100\n",
      "1/1 [==============================] - 0s 4ms/step - loss: 6.9919 - mae: 6.9919\n",
      "Epoch 75/100\n",
      "1/1 [==============================] - 0s 5ms/step - loss: 6.9863 - mae: 6.9863\n",
      "Epoch 76/100\n",
      "1/1 [==============================] - 0s 4ms/step - loss: 6.9806 - mae: 6.9806\n",
      "Epoch 77/100\n",
      "1/1 [==============================] - 0s 5ms/step - loss: 6.9750 - mae: 6.9750\n",
      "Epoch 78/100\n",
      "1/1 [==============================] - 0s 4ms/step - loss: 6.9694 - mae: 6.9694\n",
      "Epoch 79/100\n",
      "1/1 [==============================] - 0s 4ms/step - loss: 6.9638 - mae: 6.9638\n",
      "Epoch 80/100\n",
      "1/1 [==============================] - 0s 4ms/step - loss: 6.9581 - mae: 6.9581\n",
      "Epoch 81/100\n",
      "1/1 [==============================] - 0s 4ms/step - loss: 6.9525 - mae: 6.9525\n",
      "Epoch 82/100\n",
      "1/1 [==============================] - 0s 4ms/step - loss: 6.9469 - mae: 6.9469\n",
      "Epoch 83/100\n",
      "1/1 [==============================] - 0s 4ms/step - loss: 6.9412 - mae: 6.9412\n",
      "Epoch 84/100\n",
      "1/1 [==============================] - 0s 4ms/step - loss: 6.9356 - mae: 6.9356\n",
      "Epoch 85/100\n",
      "1/1 [==============================] - 0s 4ms/step - loss: 6.9300 - mae: 6.9300\n",
      "Epoch 86/100\n",
      "1/1 [==============================] - 0s 4ms/step - loss: 6.9244 - mae: 6.9244\n",
      "Epoch 87/100\n",
      "1/1 [==============================] - 0s 8ms/step - loss: 6.9188 - mae: 6.9188\n",
      "Epoch 88/100\n",
      "1/1 [==============================] - 0s 4ms/step - loss: 6.9131 - mae: 6.9131\n",
      "Epoch 89/100\n",
      "1/1 [==============================] - 0s 4ms/step - loss: 6.9075 - mae: 6.9075\n",
      "Epoch 90/100\n",
      "1/1 [==============================] - 0s 4ms/step - loss: 6.9019 - mae: 6.9019\n",
      "Epoch 91/100\n",
      "1/1 [==============================] - 0s 4ms/step - loss: 6.8963 - mae: 6.8963\n",
      "Epoch 92/100\n",
      "1/1 [==============================] - 0s 4ms/step - loss: 6.8906 - mae: 6.8906\n",
      "Epoch 93/100\n",
      "1/1 [==============================] - 0s 4ms/step - loss: 6.8850 - mae: 6.8850\n",
      "Epoch 94/100\n",
      "1/1 [==============================] - 0s 7ms/step - loss: 6.8794 - mae: 6.8794\n",
      "Epoch 95/100\n",
      "1/1 [==============================] - 0s 5ms/step - loss: 6.8738 - mae: 6.8738\n",
      "Epoch 96/100\n",
      "1/1 [==============================] - 0s 5ms/step - loss: 6.8681 - mae: 6.8681\n",
      "Epoch 97/100\n",
      "1/1 [==============================] - 0s 5ms/step - loss: 6.8625 - mae: 6.8625\n",
      "Epoch 98/100\n",
      "1/1 [==============================] - 0s 4ms/step - loss: 6.8569 - mae: 6.8569\n",
      "Epoch 99/100\n",
      "1/1 [==============================] - 0s 4ms/step - loss: 6.8513 - mae: 6.8513\n",
      "Epoch 100/100\n",
      "1/1 [==============================] - 0s 4ms/step - loss: 6.8456 - mae: 6.8456\n"
     ]
    },
    {
     "data": {
      "text/plain": "<keras.callbacks.History at 0x7fddd78bbcd0>"
     },
     "execution_count": 36,
     "metadata": {},
     "output_type": "execute_result"
    }
   ],
   "source": [
    "# Let's rebuild our model\n",
    "\n",
    "# 1. Create the model\n",
    "model = tf.keras.Sequential([\n",
    "    tf.keras.layers.Dense(1)\n",
    "])\n",
    "\n",
    "# 2. Compile the model\n",
    "model.compile(loss=tf.keras.losses.mae,\n",
    "              optimizer=tf.keras.optimizers.SGD(),\n",
    "              metrics=[\"mae\"])\n",
    "\n",
    "# 3. Fit the model (this time we'll train for longer)\n",
    "model.fit(tf.expand_dims(X, axis=-1), y, epochs=100)"
   ],
   "metadata": {
    "collapsed": false,
    "ExecuteTime": {
     "end_time": "2023-09-26T02:32:18.588406025Z",
     "start_time": "2023-09-26T02:32:17.406437026Z"
    }
   },
   "id": "b26232423384ab79"
  },
  {
   "cell_type": "code",
   "execution_count": 37,
   "outputs": [
    {
     "data": {
      "text/plain": "(<tf.Tensor: shape=(8,), dtype=float32, numpy=array([-7., -4., -1.,  2.,  5.,  8., 11., 14.], dtype=float32)>,\n <tf.Tensor: shape=(8,), dtype=float32, numpy=array([ 3.,  6.,  9., 12., 15., 18., 21., 24.], dtype=float32)>)"
     },
     "execution_count": 37,
     "metadata": {},
     "output_type": "execute_result"
    }
   ],
   "source": [
    "# Reminder ourselves of the data\n",
    "X, y"
   ],
   "metadata": {
    "collapsed": false,
    "ExecuteTime": {
     "end_time": "2023-09-26T02:33:21.022813158Z",
     "start_time": "2023-09-26T02:33:20.950487161Z"
    }
   },
   "id": "e9b4e45adea19edc"
  },
  {
   "cell_type": "code",
   "execution_count": 38,
   "outputs": [
    {
     "name": "stdout",
     "output_type": "stream",
     "text": [
      "1/1 [==============================] - 0s 68ms/step\n"
     ]
    },
    {
     "data": {
      "text/plain": "array([[29.882313]], dtype=float32)"
     },
     "execution_count": 38,
     "metadata": {},
     "output_type": "execute_result"
    }
   ],
   "source": [
    "# Let's see if our model's prediction has improved...\n",
    "model.predict([17.0])"
   ],
   "metadata": {
    "collapsed": false,
    "ExecuteTime": {
     "end_time": "2023-09-26T02:34:39.401559051Z",
     "start_time": "2023-09-26T02:34:39.226903083Z"
    }
   },
   "id": "4fa1532cec878a87"
  },
  {
   "cell_type": "code",
   "execution_count": null,
   "outputs": [],
   "source": [],
   "metadata": {
    "collapsed": false
   },
   "id": "8b9aa4f166adf717"
  }
 ],
 "metadata": {
  "kernelspec": {
   "display_name": "Python 3",
   "language": "python",
   "name": "python3"
  },
  "language_info": {
   "codemirror_mode": {
    "name": "ipython",
    "version": 2
   },
   "file_extension": ".py",
   "mimetype": "text/x-python",
   "name": "python",
   "nbconvert_exporter": "python",
   "pygments_lexer": "ipython2",
   "version": "2.7.6"
  }
 },
 "nbformat": 4,
 "nbformat_minor": 5
}
