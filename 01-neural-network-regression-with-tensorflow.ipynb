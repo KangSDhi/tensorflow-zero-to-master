{
 "cells": [
  {
   "cell_type": "markdown",
   "source": "# Introduction to Regression with Neural Networks in TensorFlow\n\nThere are many definitions for regression problem but in our case, we're going to simplify it: predicting a numerical variable based on some other combination of variables, even shorther... predicting a number.",
   "metadata": {
    "collapsed": false,
    "id": "6ebb1111b9c93791"
   },
   "id": "6ebb1111b9c93791"
  },
  {
   "cell_type": "code",
   "source": "# Import TensorFlow\nimport tensorflow as tf\nprint(tf.__version__)",
   "metadata": {
    "colab": {
     "base_uri": "https://localhost:8080/"
    },
    "id": "d4e5f09eca05ca59",
    "executionInfo": {
     "status": "ok",
     "timestamp": 1696076685065,
     "user_tz": -420,
     "elapsed": 6829,
     "user": {
      "displayName": "kang sigit",
      "userId": "15887135570512197739"
     }
    },
    "outputId": "8fac66e9-5ff3-47cc-a5a1-950e6758ea44",
    "trusted": false,
    "ExecuteTime": {
     "end_time": "2025-07-14T01:56:10.311720Z",
     "start_time": "2025-07-14T01:55:59.723630Z"
    }
   },
   "id": "d4e5f09eca05ca59",
   "outputs": [
    {
     "name": "stderr",
     "output_type": "stream",
     "text": [
      "2025-07-14 08:55:59.978124: I tensorflow/core/util/port.cc:113] oneDNN custom operations are on. You may see slightly different numerical results due to floating-point round-off errors from different computation orders. To turn them off, set the environment variable `TF_ENABLE_ONEDNN_OPTS=0`.\n",
      "2025-07-14 08:55:59.980047: I external/local_tsl/tsl/cuda/cudart_stub.cc:31] Could not find cuda drivers on your machine, GPU will not be used.\n",
      "2025-07-14 08:56:00.014495: E external/local_xla/xla/stream_executor/cuda/cuda_dnn.cc:9261] Unable to register cuDNN factory: Attempting to register factory for plugin cuDNN when one has already been registered\n",
      "2025-07-14 08:56:00.014549: E external/local_xla/xla/stream_executor/cuda/cuda_fft.cc:607] Unable to register cuFFT factory: Attempting to register factory for plugin cuFFT when one has already been registered\n",
      "2025-07-14 08:56:00.015786: E external/local_xla/xla/stream_executor/cuda/cuda_blas.cc:1515] Unable to register cuBLAS factory: Attempting to register factory for plugin cuBLAS when one has already been registered\n",
      "2025-07-14 08:56:00.023217: I external/local_tsl/tsl/cuda/cudart_stub.cc:31] Could not find cuda drivers on your machine, GPU will not be used.\n",
      "2025-07-14 08:56:00.024312: I tensorflow/core/platform/cpu_feature_guard.cc:182] This TensorFlow binary is optimized to use available CPU instructions in performance-critical operations.\n",
      "To enable the following instructions: AVX2 AVX_VNNI FMA, in other operations, rebuild TensorFlow with the appropriate compiler flags.\n",
      "2025-07-14 08:56:00.650570: W tensorflow/compiler/tf2tensorrt/utils/py_utils.cc:38] TF-TRT Warning: Could not find TensorRT\n",
      "2025-07-14 08:56:01.372423: W external/local_tsl/tsl/lib/monitoring/collection_registry.cc:81] Trying to register 2 metrics with the same name: /tensorflow/core/bfc_allocator_delay. The old value will be erased in order to register a new one. Please check if you link the metric more than once, or if the name is already used by other metrics.\n",
      "2025-07-14 08:56:01.372594: W external/local_tsl/tsl/lib/monitoring/collection_registry.cc:81] Trying to register 2 metrics with the same name: /xla/service/gpu/compiled_programs_count. The old value will be erased in order to register a new one. Please check if you link the metric more than once, or if the name is already used by other metrics.\n",
      "2025-07-14 08:56:01.373516: W external/local_tsl/tsl/lib/monitoring/collection_registry.cc:81] Trying to register 2 metrics with the same name: /jax/pjrt/pjrt_executable_executions. The old value will be erased in order to register a new one. Please check if you link the metric more than once, or if the name is already used by other metrics.\n",
      "2025-07-14 08:56:01.373529: W external/local_tsl/tsl/lib/monitoring/collection_registry.cc:81] Trying to register 2 metrics with the same name: /jax/pjrt/pjrt_executable_execution_time_usecs. The old value will be erased in order to register a new one. Please check if you link the metric more than once, or if the name is already used by other metrics.\n",
      "2025-07-14 08:56:01.722885: I itex/core/wrapper/itex_gpu_wrapper.cc:38] Intel Extension for Tensorflow* GPU backend is loaded.\n",
      "2025-07-14 08:56:01.724078: I external/local_xla/xla/pjrt/pjrt_api.cc:67] PJRT_Api is set for device type xpu\n",
      "2025-07-14 08:56:01.724104: I external/local_xla/xla/pjrt/pjrt_api.cc:72] PJRT plugin for XPU has PJRT API version 0.33. The framework PJRT API version is 0.34.\n",
      "2025-07-14 08:56:01.744810: I external/intel_xla/xla/stream_executor/sycl/sycl_gpu_runtime.cc:134] Selected platform: Intel(R) oneAPI Unified Runtime over Level-Zero\n",
      "2025-07-14 08:56:01.744992: I external/intel_xla/xla/stream_executor/sycl/sycl_gpu_runtime.cc:159] number of sub-devices is zero, expose root device.\n",
      "2025-07-14 08:56:01.751128: I external/xla/xla/service/service.cc:168] XLA service 0x60d540267ad0 initialized for platform SYCL (this does not guarantee that XLA will be used). Devices:\n",
      "2025-07-14 08:56:01.751167: I external/xla/xla/service/service.cc:176]   StreamExecutor device (0): Intel(R) Graphics [0x64a0], <undefined>\n",
      "2025-07-14 08:56:01.751952: I itex/core/devices/gpu/itex_gpu_runtime.cc:130] Selected platform: Intel(R) oneAPI Unified Runtime over Level-Zero\n",
      "2025-07-14 08:56:01.752093: I itex/core/devices/gpu/itex_gpu_runtime.cc:155] number of sub-devices is zero, expose root device.\n",
      "2025-07-14 08:56:01.781299: I external/intel_xla/xla/pjrt/se_xpu_pjrt_client.cc:97] Using BFC allocator.\n",
      "2025-07-14 08:56:01.781378: I external/xla/xla/pjrt/gpu/gpu_helpers.cc:106] XLA backend allocating 15909938380 bytes on device 0 for BFCAllocator.\n",
      "2025-07-14 08:56:01.782244: I external/local_xla/xla/pjrt/pjrt_c_api_client.cc:119] PjRtCApiClient created.\n"
     ]
    },
    {
     "name": "stdout",
     "output_type": "stream",
     "text": [
      "2.15.0\n"
     ]
    }
   ],
   "execution_count": 1
  },
  {
   "cell_type": "markdown",
   "source": "## Creating data to view and fit",
   "metadata": {
    "collapsed": false,
    "id": "8407fe85818d8aac"
   },
   "id": "8407fe85818d8aac"
  },
  {
   "cell_type": "code",
   "source": "import numpy as np\nimport matplotlib.pyplot as plt\n\n# Create features\nX = np.array([-7.0, -4.0, -1.0, 2.0, 5.0, 8.0, 11.0, 14.0])\n\n# Create labels\ny = np.array([3.0, 6.0, 9.0, 12.0, 15.0, 18.0, 21.0, 24.0])\n\n# Visualize it\nplt.scatter(X, y)",
   "metadata": {
    "colab": {
     "base_uri": "https://localhost:8080/",
     "height": 453
    },
    "id": "135387d48040aa65",
    "executionInfo": {
     "status": "ok",
     "timestamp": 1696076685066,
     "user_tz": -420,
     "elapsed": 7,
     "user": {
      "displayName": "kang sigit",
      "userId": "15887135570512197739"
     }
    },
    "outputId": "4c919eb6-14cb-4524-bef2-d3a95e3bc6a2",
    "trusted": false,
    "ExecuteTime": {
     "end_time": "2025-07-14T01:56:06.660756Z",
     "start_time": "2025-07-14T01:56:06.216348Z"
    }
   },
   "id": "135387d48040aa65",
   "outputs": [
    {
     "data": {
      "text/plain": [
       "<matplotlib.collections.PathCollection at 0x7e432df02950>"
      ]
     },
     "execution_count": 2,
     "metadata": {},
     "output_type": "execute_result"
    },
    {
     "data": {
      "text/plain": [
       "<Figure size 640x480 with 1 Axes>"
      ],
      "image/png": "[encoded data removed]"
     },
     "metadata": {},
     "output_type": "display_data"
    }
   ],
   "execution_count": 2
  },
  {
   "cell_type": "code",
   "source": "y == X + 10",
   "metadata": {
    "colab": {
     "base_uri": "https://localhost:8080/"
    },
    "id": "35d94d5b061cfa67",
    "executionInfo": {
     "status": "ok",
     "timestamp": 1696076685862,
     "user_tz": -420,
     "elapsed": 801,
     "user": {
      "displayName": "kang sigit",
      "userId": "15887135570512197739"
     }
    },
    "outputId": "fd62bc5a-e1d3-41a5-9d24-79c48cbf489f",
    "trusted": false,
    "ExecuteTime": {
     "end_time": "2025-07-14T01:56:09.040793Z",
     "start_time": "2025-07-14T01:56:09.036909Z"
    }
   },
   "id": "35d94d5b061cfa67",
   "outputs": [
    {
     "data": {
      "text/plain": [
       "array([ True,  True,  True,  True,  True,  True,  True,  True])"
      ]
     },
     "execution_count": 3,
     "metadata": {},
     "output_type": "execute_result"
    }
   ],
   "execution_count": 3
  },
  {
   "cell_type": "markdown",
   "source": "## Input and output shapes",
   "metadata": {
    "collapsed": false,
    "id": "420b161819373fbe"
   },
   "id": "420b161819373fbe"
  },
  {
   "cell_type": "code",
   "source": "# Create a demo tensor for our housing price prediction problem\nhouse_info = tf.constant([\"bedroom\", \"bathroom\", \"garage\"])\nhouse_price = tf.constant([939700])\nhouse_info, house_price",
   "metadata": {
    "colab": {
     "base_uri": "https://localhost:8080/"
    },
    "id": "f6848417caa4070a",
    "executionInfo": {
     "status": "ok",
     "timestamp": 1696076689508,
     "user_tz": -420,
     "elapsed": 3647,
     "user": {
      "displayName": "kang sigit",
      "userId": "15887135570512197739"
     }
    },
    "outputId": "17142d0f-133c-473d-c2fd-96a0713c7db2",
    "trusted": false,
    "ExecuteTime": {
     "end_time": "2025-07-14T01:56:16.156520Z",
     "start_time": "2025-07-14T01:56:16.115522Z"
    }
   },
   "id": "f6848417caa4070a",
   "outputs": [
    {
     "name": "stderr",
     "output_type": "stream",
     "text": [
      "2025-07-14 08:56:16.117133: I tensorflow/core/common_runtime/next_pluggable_device/next_pluggable_device_factory.cc:118] Created 1 TensorFlow NextPluggableDevices. Physical device type: XPU\n"
     ]
    },
    {
     "data": {
      "text/plain": [
       "(<tf.Tensor: shape=(3,), dtype=string, numpy=array([b'bedroom', b'bathroom', b'garage'], dtype=object)>,\n",
       " <tf.Tensor: shape=(1,), dtype=int32, numpy=array([939700], dtype=int32)>)"
      ]
     },
     "execution_count": 4,
     "metadata": {},
     "output_type": "execute_result"
    }
   ],
   "execution_count": 4
  },
  {
   "cell_type": "code",
   "source": "X[0], y[0]",
   "metadata": {
    "colab": {
     "base_uri": "https://localhost:8080/"
    },
    "id": "2af8bcb603f84f47",
    "executionInfo": {
     "status": "ok",
     "timestamp": 1696076689508,
     "user_tz": -420,
     "elapsed": 37,
     "user": {
      "displayName": "kang sigit",
      "userId": "15887135570512197739"
     }
    },
    "outputId": "c3a03743-3370-4244-8d69-6afbcb61deb7",
    "trusted": false,
    "ExecuteTime": {
     "end_time": "2025-07-14T01:56:22.557049Z",
     "start_time": "2025-07-14T01:56:22.553191Z"
    }
   },
   "id": "2af8bcb603f84f47",
   "outputs": [
    {
     "data": {
      "text/plain": [
       "(-7.0, 3.0)"
      ]
     },
     "execution_count": 5,
     "metadata": {},
     "output_type": "execute_result"
    }
   ],
   "execution_count": 5
  },
  {
   "cell_type": "code",
   "source": "X[1], y[1]",
   "metadata": {
    "colab": {
     "base_uri": "https://localhost:8080/"
    },
    "id": "abfb4fe2f54c9ccd",
    "executionInfo": {
     "status": "ok",
     "timestamp": 1696076689508,
     "user_tz": -420,
     "elapsed": 29,
     "user": {
      "displayName": "kang sigit",
      "userId": "15887135570512197739"
     }
    },
    "outputId": "7bfcf3da-00f5-421c-ae7e-d5586e94b2fc",
    "trusted": false,
    "ExecuteTime": {
     "end_time": "2025-07-14T01:56:22.681363Z",
     "start_time": "2025-07-14T01:56:22.632728Z"
    }
   },
   "id": "abfb4fe2f54c9ccd",
   "outputs": [
    {
     "data": {
      "text/plain": [
       "(-4.0, 6.0)"
      ]
     },
     "execution_count": 6,
     "metadata": {},
     "output_type": "execute_result"
    }
   ],
   "execution_count": 6
  },
  {
   "cell_type": "code",
   "source": "input_shape = X[0].shape\noutput_shape = y[0].shape\ninput_shape, output_shape",
   "metadata": {
    "colab": {
     "base_uri": "https://localhost:8080/"
    },
    "id": "7ae73a2555815544",
    "executionInfo": {
     "status": "ok",
     "timestamp": 1696076689508,
     "user_tz": -420,
     "elapsed": 23,
     "user": {
      "displayName": "kang sigit",
      "userId": "15887135570512197739"
     }
    },
    "outputId": "c337f811-f992-417d-dba7-d3ccd3ced685",
    "trusted": false,
    "ExecuteTime": {
     "end_time": "2025-07-14T01:56:22.706212Z",
     "start_time": "2025-07-14T01:56:22.702649Z"
    }
   },
   "id": "7ae73a2555815544",
   "outputs": [
    {
     "data": {
      "text/plain": [
       "((), ())"
      ]
     },
     "execution_count": 7,
     "metadata": {},
     "output_type": "execute_result"
    }
   ],
   "execution_count": 7
  },
  {
   "cell_type": "code",
   "source": "X[0].ndim",
   "metadata": {
    "colab": {
     "base_uri": "https://localhost:8080/"
    },
    "id": "8a2ef4c080258f67",
    "executionInfo": {
     "status": "ok",
     "timestamp": 1696076689508,
     "user_tz": -420,
     "elapsed": 17,
     "user": {
      "displayName": "kang sigit",
      "userId": "15887135570512197739"
     }
    },
    "outputId": "e61e1f1e-abc2-491b-9b2c-7f68a7adfc6c",
    "trusted": false,
    "ExecuteTime": {
     "end_time": "2025-07-14T01:56:22.767092Z",
     "start_time": "2025-07-14T01:56:22.764291Z"
    }
   },
   "id": "8a2ef4c080258f67",
   "outputs": [
    {
     "data": {
      "text/plain": [
       "0"
      ]
     },
     "execution_count": 8,
     "metadata": {},
     "output_type": "execute_result"
    }
   ],
   "execution_count": 8
  },
  {
   "cell_type": "code",
   "source": "X[0], y[0]",
   "metadata": {
    "colab": {
     "base_uri": "https://localhost:8080/"
    },
    "id": "8dfe9ccbe865992c",
    "executionInfo": {
     "status": "ok",
     "timestamp": 1696076689509,
     "user_tz": -420,
     "elapsed": 14,
     "user": {
      "displayName": "kang sigit",
      "userId": "15887135570512197739"
     }
    },
    "outputId": "d24feca7-e1d3-4194-e935-2ed8a9d36ff4",
    "trusted": false,
    "ExecuteTime": {
     "end_time": "2025-07-14T01:56:22.839930Z",
     "start_time": "2025-07-14T01:56:22.835371Z"
    }
   },
   "id": "8dfe9ccbe865992c",
   "outputs": [
    {
     "data": {
      "text/plain": [
       "(-7.0, 3.0)"
      ]
     },
     "execution_count": 9,
     "metadata": {},
     "output_type": "execute_result"
    }
   ],
   "execution_count": 9
  },
  {
   "cell_type": "code",
   "source": "# Turn our NumPy arrays into tensors with dtype float32\nX = tf.cast(tf.constant(X), dtype=tf.float32)\ny = tf.cast(tf.constant(y), dtype=tf.float32)\nX, y",
   "metadata": {
    "colab": {
     "base_uri": "https://localhost:8080/"
    },
    "id": "77e963d826e1c5ee",
    "executionInfo": {
     "status": "ok",
     "timestamp": 1696076689509,
     "user_tz": -420,
     "elapsed": 12,
     "user": {
      "displayName": "kang sigit",
      "userId": "15887135570512197739"
     }
    },
    "outputId": "b37e8890-b951-42d6-dd98-70b7876abe48",
    "trusted": false,
    "ExecuteTime": {
     "end_time": "2025-07-14T01:56:24.034045Z",
     "start_time": "2025-07-14T01:56:22.917521Z"
    }
   },
   "id": "77e963d826e1c5ee",
   "outputs": [
    {
     "data": {
      "text/plain": [
       "(<tf.Tensor: shape=(8,), dtype=float32, numpy=array([-7., -4., -1.,  2.,  5.,  8., 11., 14.], dtype=float32)>,\n",
       " <tf.Tensor: shape=(8,), dtype=float32, numpy=array([ 3.,  6.,  9., 12., 15., 18., 21., 24.], dtype=float32)>)"
      ]
     },
     "execution_count": 10,
     "metadata": {},
     "output_type": "execute_result"
    }
   ],
   "execution_count": 10
  },
  {
   "cell_type": "code",
   "source": "input_shape = X[0].shape\noutput_shape = y[0].shape\ninput_shape, output_shape",
   "metadata": {
    "colab": {
     "base_uri": "https://localhost:8080/"
    },
    "id": "14e27954e5032236",
    "executionInfo": {
     "status": "ok",
     "timestamp": 1696076689509,
     "user_tz": -420,
     "elapsed": 9,
     "user": {
      "displayName": "kang sigit",
      "userId": "15887135570512197739"
     }
    },
    "outputId": "56cd997f-b119-47d1-a2ec-58393a29ffe8",
    "trusted": false,
    "ExecuteTime": {
     "end_time": "2025-07-14T01:56:24.209956Z",
     "start_time": "2025-07-14T01:56:24.070583Z"
    }
   },
   "id": "14e27954e5032236",
   "outputs": [
    {
     "data": {
      "text/plain": [
       "(TensorShape([]), TensorShape([]))"
      ]
     },
     "execution_count": 11,
     "metadata": {},
     "output_type": "execute_result"
    }
   ],
   "execution_count": 11
  },
  {
   "cell_type": "code",
   "source": "plt.scatter(X, y)",
   "metadata": {
    "colab": {
     "base_uri": "https://localhost:8080/",
     "height": 453
    },
    "id": "e697df78c938eedc",
    "executionInfo": {
     "status": "ok",
     "timestamp": 1696076690202,
     "user_tz": -420,
     "elapsed": 700,
     "user": {
      "displayName": "kang sigit",
      "userId": "15887135570512197739"
     }
    },
    "outputId": "67448415-bb04-4f88-a157-eed404725c38",
    "trusted": false,
    "ExecuteTime": {
     "end_time": "2025-07-14T01:56:24.317857Z",
     "start_time": "2025-07-14T01:56:24.242289Z"
    }
   },
   "id": "e697df78c938eedc",
   "outputs": [
    {
     "data": {
      "text/plain": [
       "<matplotlib.collections.PathCollection at 0x7e43282a7310>"
      ]
     },
     "execution_count": 12,
     "metadata": {},
     "output_type": "execute_result"
    },
    {
     "data": {
      "text/plain": [
       "<Figure size 640x480 with 1 Axes>"
      ],
      "image/png": "[encoded data removed]"
     },
     "metadata": {},
     "output_type": "display_data"
    }
   ],
   "execution_count": 12
  },
  {
   "cell_type": "markdown",
   "source": "## Steps in modeling with TensorFlow\n\n1. **Creating a model** - define the input and output layers, as well as the hidden layers of a deep learning model.\n2. **Compiling a model** - define the loss function (in other words, the function which tells our model how wrong it is) and the optimizer (tells our model how to improve the patterns its learning) and evaluation metrics (what we can use to interpret the performance our model).\n3. **Fitting a model** - letting the model try to find patterns between X & y (features and labels).",
   "metadata": {
    "collapsed": false,
    "id": "e9796f121f9b42fe"
   },
   "id": "e9796f121f9b42fe"
  },
  {
   "cell_type": "code",
   "source": "# # Optionally, the first layer can receive an `input_shape` argument:\n# model = tf.keras.Sequential()\n# model.add(tf.keras.layers.Dense(8, input_shape=(16,)))\n# # Afterwards, we do automatic shape inference:\n# model.add(tf.keras.layers.Dense(4))\n#\n# model = tf.keras.Sequential()\n# model.add(tf.keras.layers.Dense(8, input_shape=(16, )))\n# ...\n#\n# model = tf.keras.Sequential()\n# model.add(tf.keras.layers.Dense(1))",
   "metadata": {
    "id": "e65f811a3ad5e9e1",
    "executionInfo": {
     "status": "ok",
     "timestamp": 1696076690202,
     "user_tz": -420,
     "elapsed": 6,
     "user": {
      "displayName": "kang sigit",
      "userId": "15887135570512197739"
     }
    },
    "trusted": false,
    "ExecuteTime": {
     "end_time": "2025-07-14T01:56:24.397370Z",
     "start_time": "2025-07-14T01:56:24.394892Z"
    }
   },
   "id": "e65f811a3ad5e9e1",
   "outputs": [],
   "execution_count": 13
  },
  {
   "cell_type": "code",
   "source": "# Set random seed\ntf.random.set_seed(42)\n\n# 1. Create a model using the Sequential API\nmodel = tf.keras.Sequential([\n    tf.keras.layers.Dense(1)\n])\n\n# 2. Compile the model\nmodel.compile(loss=tf.keras.losses.mae, # mae is short for mean absolute error\n              optimizer=tf.keras.optimizers.SGD(), # sgd is short for stochstic gradient descent\n              metrics=[\"mae\"])\n\n# 3. Fit the model\n# model.fit(X, y, epochs=5) # This line will error if you're running TensorFlow 2.7.0+!\nmodel.fit(tf.expand_dims(X, axis=-1), y, epochs=5)",
   "metadata": {
    "colab": {
     "base_uri": "https://localhost:8080/"
    },
    "id": "cc71e5f4aac7d8a6",
    "executionInfo": {
     "status": "ok",
     "timestamp": 1696076701552,
     "user_tz": -420,
     "elapsed": 11356,
     "user": {
      "displayName": "kang sigit",
      "userId": "15887135570512197739"
     }
    },
    "outputId": "9fd356b1-7413-439f-c3d2-b533cbde237b",
    "trusted": false,
    "ExecuteTime": {
     "end_time": "2025-07-14T01:56:25.680846Z",
     "start_time": "2025-07-14T01:56:24.470235Z"
    }
   },
   "id": "cc71e5f4aac7d8a6",
   "outputs": [
    {
     "name": "stdout",
     "output_type": "stream",
     "text": [
      "Epoch 1/5\n"
     ]
    },
    {
     "name": "stderr",
     "output_type": "stream",
     "text": [
      "2025-07-14 08:56:24.893144: I tensorflow/core/grappler/optimizers/custom_graph_optimizer_registry.cc:117] Plugin optimizer for device_type XPU is enabled.\n"
     ]
    },
    {
     "name": "stdout",
     "output_type": "stream",
     "text": [
      "1/1 [==============================] - 1s 942ms/step - loss: 17.3404 - mae: 17.3404\n",
      "Epoch 2/5\n",
      "1/1 [==============================] - 0s 18ms/step - loss: 17.0592 - mae: 17.0592\n",
      "Epoch 3/5\n",
      "1/1 [==============================] - 0s 17ms/step - loss: 16.7779 - mae: 16.7779\n",
      "Epoch 4/5\n",
      "1/1 [==============================] - 0s 23ms/step - loss: 16.4967 - mae: 16.4967\n",
      "Epoch 5/5\n",
      "1/1 [==============================] - 0s 21ms/step - loss: 16.2154 - mae: 16.2154\n"
     ]
    },
    {
     "data": {
      "text/plain": [
       "<keras.src.callbacks.History at 0x7e432bc3b650>"
      ]
     },
     "execution_count": 14,
     "metadata": {},
     "output_type": "execute_result"
    }
   ],
   "execution_count": 14
  },
  {
   "cell_type": "code",
   "source": "# Check out X and y\nX, y",
   "metadata": {
    "colab": {
     "base_uri": "https://localhost:8080/"
    },
    "id": "b1b4a1c994642378",
    "executionInfo": {
     "status": "ok",
     "timestamp": 1696076701553,
     "user_tz": -420,
     "elapsed": 7,
     "user": {
      "displayName": "kang sigit",
      "userId": "15887135570512197739"
     }
    },
    "outputId": "aee68bdb-665e-4b01-9458-935836d47971",
    "trusted": false,
    "ExecuteTime": {
     "end_time": "2025-07-14T01:56:25.876852Z",
     "start_time": "2025-07-14T01:56:25.872881Z"
    }
   },
   "id": "b1b4a1c994642378",
   "outputs": [
    {
     "data": {
      "text/plain": [
       "(<tf.Tensor: shape=(8,), dtype=float32, numpy=array([-7., -4., -1.,  2.,  5.,  8., 11., 14.], dtype=float32)>,\n",
       " <tf.Tensor: shape=(8,), dtype=float32, numpy=array([ 3.,  6.,  9., 12., 15., 18., 21., 24.], dtype=float32)>)"
      ]
     },
     "execution_count": 15,
     "metadata": {},
     "output_type": "execute_result"
    }
   ],
   "execution_count": 15
  },
  {
   "cell_type": "code",
   "source": "# Try and make a prediction using our model\ny_pred = model.predict([17.0])\ny_pred",
   "metadata": {
    "colab": {
     "base_uri": "https://localhost:8080/"
    },
    "id": "6c9feaa2ed2266c8",
    "executionInfo": {
     "status": "ok",
     "timestamp": 1696076702180,
     "user_tz": -420,
     "elapsed": 631,
     "user": {
      "displayName": "kang sigit",
      "userId": "15887135570512197739"
     }
    },
    "outputId": "2fe08450-005e-44df-934c-53ebd9df5b33",
    "trusted": false,
    "ExecuteTime": {
     "end_time": "2025-07-14T01:56:26.056488Z",
     "start_time": "2025-07-14T01:56:25.936441Z"
    }
   },
   "id": "6c9feaa2ed2266c8",
   "outputs": [
    {
     "name": "stdout",
     "output_type": "stream",
     "text": [
      "1/1 [==============================] - 0s 72ms/step\n"
     ]
    },
    {
     "data": {
      "text/plain": [
       "array([[-10.364175]], dtype=float32)"
      ]
     },
     "execution_count": 16,
     "metadata": {},
     "output_type": "execute_result"
    }
   ],
   "execution_count": 16
  },
  {
   "cell_type": "code",
   "source": "y_pred + 9",
   "metadata": {
    "colab": {
     "base_uri": "https://localhost:8080/"
    },
    "id": "6ac8363b8e315b33",
    "executionInfo": {
     "status": "ok",
     "timestamp": 1696076702181,
     "user_tz": -420,
     "elapsed": 12,
     "user": {
      "displayName": "kang sigit",
      "userId": "15887135570512197739"
     }
    },
    "outputId": "c034514e-5d78-42d8-ccc3-9ad275e6357a",
    "trusted": false,
    "ExecuteTime": {
     "end_time": "2025-07-14T01:56:26.083760Z",
     "start_time": "2025-07-14T01:56:26.079522Z"
    }
   },
   "id": "6ac8363b8e315b33",
   "outputs": [
    {
     "data": {
      "text/plain": [
       "array([[-1.3641748]], dtype=float32)"
      ]
     },
     "execution_count": 17,
     "metadata": {},
     "output_type": "execute_result"
    }
   ],
   "execution_count": 17
  },
  {
   "cell_type": "markdown",
   "source": "## Improving our model\n\nWe can improve our model, by altering the steps we took to create a model.\n\n1. **Creating a model** - here we might add more layers, increase the number of hidden units (all called neurons) within each of the hidden layers, change the activation function of each layer.\n2. **Compiling a model** - here we might change the optimization function or perhaps the **learning rate** of the optimization function.\n3. **Fitting a model** - here we might fit a model for more **epochs** (leave it training for longer) or on more data (give the model more examples to learn from).",
   "metadata": {
    "collapsed": false,
    "id": "ee325f78f13dbc6f"
   },
   "id": "ee325f78f13dbc6f"
  },
  {
   "cell_type": "code",
   "source": "# Let's rebuild our model\n\n# 1. Create the model\nmodel = tf.keras.Sequential([\n    tf.keras.layers.Dense(1)\n])\n\n# 2. Compile the model\nmodel.compile(loss=tf.keras.losses.mae,\n              optimizer=tf.keras.optimizers.SGD(),\n              metrics=[\"mae\"])\n\n# 3. Fit the model (this time we'll train for longer)\nmodel.fit(tf.expand_dims(X, axis=-1), y, epochs=100)",
   "metadata": {
    "colab": {
     "base_uri": "https://localhost:8080/"
    },
    "id": "b26232423384ab79",
    "executionInfo": {
     "status": "ok",
     "timestamp": 1696076704042,
     "user_tz": -420,
     "elapsed": 1871,
     "user": {
      "displayName": "kang sigit",
      "userId": "15887135570512197739"
     }
    },
    "outputId": "af574b45-f9db-41fa-835c-d7000afb014d",
    "trusted": false,
    "ExecuteTime": {
     "end_time": "2025-07-14T01:56:28.126280Z",
     "start_time": "2025-07-14T01:56:26.179882Z"
    }
   },
   "id": "b26232423384ab79",
   "outputs": [
    {
     "name": "stdout",
     "output_type": "stream",
     "text": [
      "Epoch 1/100\n",
      "1/1 [==============================] - 0s 237ms/step - loss: 16.4101 - mae: 16.4101\n",
      "Epoch 2/100\n",
      "1/1 [==============================] - 0s 20ms/step - loss: 16.1288 - mae: 16.1288\n",
      "Epoch 3/100\n",
      "1/1 [==============================] - 0s 18ms/step - loss: 15.8476 - mae: 15.8476\n",
      "Epoch 4/100\n",
      "1/1 [==============================] - 0s 16ms/step - loss: 15.5663 - mae: 15.5663\n",
      "Epoch 5/100\n",
      "1/1 [==============================] - 0s 16ms/step - loss: 15.2851 - mae: 15.2851\n",
      "Epoch 6/100\n",
      "1/1 [==============================] - 0s 16ms/step - loss: 15.0038 - mae: 15.0038\n",
      "Epoch 7/100\n",
      "1/1 [==============================] - 0s 14ms/step - loss: 14.7926 - mae: 14.7926\n",
      "Epoch 8/100\n",
      "1/1 [==============================] - 0s 14ms/step - loss: 14.6601 - mae: 14.6601\n",
      "Epoch 9/100\n",
      "1/1 [==============================] - 0s 14ms/step - loss: 14.5276 - mae: 14.5276\n",
      "Epoch 10/100\n",
      "1/1 [==============================] - 0s 12ms/step - loss: 14.3951 - mae: 14.3951\n",
      "Epoch 11/100\n",
      "1/1 [==============================] - 0s 14ms/step - loss: 14.2626 - mae: 14.2626\n",
      "Epoch 12/100\n",
      "1/1 [==============================] - 0s 14ms/step - loss: 14.1301 - mae: 14.1301\n",
      "Epoch 13/100\n",
      "1/1 [==============================] - 0s 17ms/step - loss: 13.9976 - mae: 13.9976\n",
      "Epoch 14/100\n",
      "1/1 [==============================] - 0s 14ms/step - loss: 13.8651 - mae: 13.8651\n",
      "Epoch 15/100\n",
      "1/1 [==============================] - 0s 14ms/step - loss: 13.7326 - mae: 13.7326\n",
      "Epoch 16/100\n",
      "1/1 [==============================] - 0s 14ms/step - loss: 13.6001 - mae: 13.6001\n",
      "Epoch 17/100\n",
      "1/1 [==============================] - 0s 15ms/step - loss: 13.4676 - mae: 13.4676\n",
      "Epoch 18/100\n",
      "1/1 [==============================] - 0s 15ms/step - loss: 13.3351 - mae: 13.3351\n",
      "Epoch 19/100\n",
      "1/1 [==============================] - 0s 14ms/step - loss: 13.2026 - mae: 13.2026\n",
      "Epoch 20/100\n",
      "1/1 [==============================] - 0s 13ms/step - loss: 13.0701 - mae: 13.0701\n",
      "Epoch 21/100\n",
      "1/1 [==============================] - 0s 13ms/step - loss: 12.9376 - mae: 12.9376\n",
      "Epoch 22/100\n",
      "1/1 [==============================] - 0s 17ms/step - loss: 12.8051 - mae: 12.8051\n",
      "Epoch 23/100\n",
      "1/1 [==============================] - 0s 13ms/step - loss: 12.6726 - mae: 12.6726\n",
      "Epoch 24/100\n",
      "1/1 [==============================] - 0s 13ms/step - loss: 12.5401 - mae: 12.5401\n",
      "Epoch 25/100\n",
      "1/1 [==============================] - 0s 12ms/step - loss: 12.4076 - mae: 12.4076\n",
      "Epoch 26/100\n",
      "1/1 [==============================] - 0s 14ms/step - loss: 12.2751 - mae: 12.2751\n",
      "Epoch 27/100\n",
      "1/1 [==============================] - 0s 13ms/step - loss: 12.1426 - mae: 12.1426\n",
      "Epoch 28/100\n",
      "1/1 [==============================] - 0s 13ms/step - loss: 12.0101 - mae: 12.0101\n",
      "Epoch 29/100\n",
      "1/1 [==============================] - 0s 13ms/step - loss: 11.8776 - mae: 11.8776\n",
      "Epoch 30/100\n",
      "1/1 [==============================] - 0s 21ms/step - loss: 11.7451 - mae: 11.7451\n",
      "Epoch 31/100\n",
      "1/1 [==============================] - 0s 23ms/step - loss: 11.6126 - mae: 11.6126\n",
      "Epoch 32/100\n",
      "1/1 [==============================] - 0s 22ms/step - loss: 11.4801 - mae: 11.4801\n",
      "Epoch 33/100\n",
      "1/1 [==============================] - 0s 17ms/step - loss: 11.3476 - mae: 11.3476\n",
      "Epoch 34/100\n",
      "1/1 [==============================] - 0s 16ms/step - loss: 11.2151 - mae: 11.2151\n",
      "Epoch 35/100\n",
      "1/1 [==============================] - -9s -8659055us/step - loss: 11.0826 - mae: 11.0826\n",
      "Epoch 36/100\n",
      "1/1 [==============================] - 0s 13ms/step - loss: 10.9501 - mae: 10.9501\n",
      "Epoch 37/100\n",
      "1/1 [==============================] - 0s 12ms/step - loss: 10.8176 - mae: 10.8176\n",
      "Epoch 38/100\n",
      "1/1 [==============================] - 0s 17ms/step - loss: 10.6851 - mae: 10.6851\n",
      "Epoch 39/100\n",
      "1/1 [==============================] - 0s 14ms/step - loss: 10.5526 - mae: 10.5526\n",
      "Epoch 40/100\n",
      "1/1 [==============================] - 0s 16ms/step - loss: 10.4201 - mae: 10.4201\n",
      "Epoch 41/100\n",
      "1/1 [==============================] - 0s 14ms/step - loss: 10.2876 - mae: 10.2876\n",
      "Epoch 42/100\n",
      "1/1 [==============================] - 0s 14ms/step - loss: 10.1551 - mae: 10.1551\n",
      "Epoch 43/100\n",
      "1/1 [==============================] - 0s 20ms/step - loss: 10.0226 - mae: 10.0226\n",
      "Epoch 44/100\n",
      "1/1 [==============================] - 0s 20ms/step - loss: 9.8901 - mae: 9.8901\n",
      "Epoch 45/100\n",
      "1/1 [==============================] - 0s 14ms/step - loss: 9.7576 - mae: 9.7576\n",
      "Epoch 46/100\n",
      "1/1 [==============================] - 0s 17ms/step - loss: 9.6251 - mae: 9.6251\n",
      "Epoch 47/100\n",
      "1/1 [==============================] - 0s 19ms/step - loss: 9.4926 - mae: 9.4926\n",
      "Epoch 48/100\n",
      "1/1 [==============================] - 0s 23ms/step - loss: 9.3601 - mae: 9.3601\n",
      "Epoch 49/100\n",
      "1/1 [==============================] - 0s 20ms/step - loss: 9.2276 - mae: 9.2276\n",
      "Epoch 50/100\n",
      "1/1 [==============================] - 0s 16ms/step - loss: 9.0951 - mae: 9.0951\n",
      "Epoch 51/100\n",
      "1/1 [==============================] - 0s 23ms/step - loss: 8.9626 - mae: 8.9626\n",
      "Epoch 52/100\n",
      "1/1 [==============================] - 0s 19ms/step - loss: 8.8301 - mae: 8.8301\n",
      "Epoch 53/100\n",
      "1/1 [==============================] - 0s 17ms/step - loss: 8.6976 - mae: 8.6976\n",
      "Epoch 54/100\n",
      "1/1 [==============================] - 0s 13ms/step - loss: 8.5651 - mae: 8.5651\n",
      "Epoch 55/100\n",
      "1/1 [==============================] - 0s 18ms/step - loss: 8.4326 - mae: 8.4326\n",
      "Epoch 56/100\n",
      "1/1 [==============================] - 0s 17ms/step - loss: 8.3001 - mae: 8.3001\n",
      "Epoch 57/100\n",
      "1/1 [==============================] - 0s 20ms/step - loss: 8.1676 - mae: 8.1676\n",
      "Epoch 58/100\n",
      "1/1 [==============================] - 0s 17ms/step - loss: 8.0351 - mae: 8.0351\n",
      "Epoch 59/100\n",
      "1/1 [==============================] - 0s 18ms/step - loss: 7.9026 - mae: 7.9026\n",
      "Epoch 60/100\n",
      "1/1 [==============================] - 0s 23ms/step - loss: 7.7701 - mae: 7.7701\n",
      "Epoch 61/100\n",
      "1/1 [==============================] - 0s 16ms/step - loss: 7.6376 - mae: 7.6376\n",
      "Epoch 62/100\n",
      "1/1 [==============================] - 0s 15ms/step - loss: 7.5051 - mae: 7.5051\n",
      "Epoch 63/100\n",
      "1/1 [==============================] - 0s 18ms/step - loss: 7.3726 - mae: 7.3726\n",
      "Epoch 64/100\n",
      "1/1 [==============================] - 0s 18ms/step - loss: 7.2401 - mae: 7.2401\n",
      "Epoch 65/100\n",
      "1/1 [==============================] - 0s 18ms/step - loss: 7.1076 - mae: 7.1076\n",
      "Epoch 66/100\n",
      "1/1 [==============================] - 0s 17ms/step - loss: 7.0238 - mae: 7.0238\n",
      "Epoch 67/100\n",
      "1/1 [==============================] - 0s 16ms/step - loss: 7.0181 - mae: 7.0181\n",
      "Epoch 68/100\n",
      "1/1 [==============================] - 0s 14ms/step - loss: 7.0125 - mae: 7.0125\n",
      "Epoch 69/100\n",
      "1/1 [==============================] - 0s 16ms/step - loss: 7.0069 - mae: 7.0069\n",
      "Epoch 70/100\n",
      "1/1 [==============================] - 0s 16ms/step - loss: 7.0013 - mae: 7.0013\n",
      "Epoch 71/100\n",
      "1/1 [==============================] - 0s 16ms/step - loss: 6.9956 - mae: 6.9956\n",
      "Epoch 72/100\n",
      "1/1 [==============================] - 0s 13ms/step - loss: 6.9900 - mae: 6.9900\n",
      "Epoch 73/100\n",
      "1/1 [==============================] - 0s 21ms/step - loss: 6.9844 - mae: 6.9844\n",
      "Epoch 74/100\n",
      "1/1 [==============================] - 0s 14ms/step - loss: 6.9788 - mae: 6.9788\n",
      "Epoch 75/100\n",
      "1/1 [==============================] - 0s 16ms/step - loss: 6.9731 - mae: 6.9731\n",
      "Epoch 76/100\n",
      "1/1 [==============================] - 0s 14ms/step - loss: 6.9675 - mae: 6.9675\n",
      "Epoch 77/100\n",
      "1/1 [==============================] - 0s 13ms/step - loss: 6.9619 - mae: 6.9619\n",
      "Epoch 78/100\n",
      "1/1 [==============================] - 0s 14ms/step - loss: 6.9563 - mae: 6.9563\n",
      "Epoch 79/100\n",
      "1/1 [==============================] - 0s 13ms/step - loss: 6.9506 - mae: 6.9506\n",
      "Epoch 80/100\n",
      "1/1 [==============================] - 0s 13ms/step - loss: 6.9450 - mae: 6.9450\n",
      "Epoch 81/100\n",
      "1/1 [==============================] - 0s 14ms/step - loss: 6.9394 - mae: 6.9394\n",
      "Epoch 82/100\n",
      "1/1 [==============================] - 0s 15ms/step - loss: 6.9338 - mae: 6.9338\n",
      "Epoch 83/100\n",
      "1/1 [==============================] - 0s 14ms/step - loss: 6.9281 - mae: 6.9281\n",
      "Epoch 84/100\n",
      "1/1 [==============================] - 0s 13ms/step - loss: 6.9225 - mae: 6.9225\n",
      "Epoch 85/100\n",
      "1/1 [==============================] - 0s 13ms/step - loss: 6.9169 - mae: 6.9169\n",
      "Epoch 86/100\n",
      "1/1 [==============================] - 0s 15ms/step - loss: 6.9113 - mae: 6.9113\n",
      "Epoch 87/100\n",
      "1/1 [==============================] - 0s 16ms/step - loss: 6.9056 - mae: 6.9056\n",
      "Epoch 88/100\n",
      "1/1 [==============================] - 0s 14ms/step - loss: 6.9000 - mae: 6.9000\n",
      "Epoch 89/100\n",
      "1/1 [==============================] - 0s 13ms/step - loss: 6.8944 - mae: 6.8944\n",
      "Epoch 90/100\n",
      "1/1 [==============================] - 0s 15ms/step - loss: 6.8888 - mae: 6.8888\n",
      "Epoch 91/100\n",
      "1/1 [==============================] - 0s 14ms/step - loss: 6.8831 - mae: 6.8831\n",
      "Epoch 92/100\n",
      "1/1 [==============================] - 0s 13ms/step - loss: 6.8775 - mae: 6.8775\n",
      "Epoch 93/100\n",
      "1/1 [==============================] - 0s 15ms/step - loss: 6.8719 - mae: 6.8719\n",
      "Epoch 94/100\n",
      "1/1 [==============================] - 0s 14ms/step - loss: 6.8663 - mae: 6.8663\n",
      "Epoch 95/100\n",
      "1/1 [==============================] - 0s 13ms/step - loss: 6.8606 - mae: 6.8606\n",
      "Epoch 96/100\n",
      "1/1 [==============================] - 0s 15ms/step - loss: 6.8550 - mae: 6.8550\n",
      "Epoch 97/100\n",
      "1/1 [==============================] - 0s 14ms/step - loss: 6.8494 - mae: 6.8494\n",
      "Epoch 98/100\n",
      "1/1 [==============================] - 0s 13ms/step - loss: 6.8438 - mae: 6.8438\n",
      "Epoch 99/100\n",
      "1/1 [==============================] - 0s 16ms/step - loss: 6.8381 - mae: 6.8381\n",
      "Epoch 100/100\n",
      "1/1 [==============================] - 0s 13ms/step - loss: 6.8325 - mae: 6.8325\n"
     ]
    },
    {
     "data": {
      "text/plain": [
       "<keras.src.callbacks.History at 0x7e432dfaf590>"
      ]
     },
     "execution_count": 18,
     "metadata": {},
     "output_type": "execute_result"
    }
   ],
   "execution_count": 18
  },
  {
   "cell_type": "code",
   "source": "# Reminder ourselves of the data\nX, y",
   "metadata": {
    "colab": {
     "base_uri": "https://localhost:8080/"
    },
    "id": "e9b4e45adea19edc",
    "executionInfo": {
     "status": "ok",
     "timestamp": 1696076704043,
     "user_tz": -420,
     "elapsed": 13,
     "user": {
      "displayName": "kang sigit",
      "userId": "15887135570512197739"
     }
    },
    "outputId": "9c3ea1ed-df93-4a29-8624-0d0df70f77b5",
    "trusted": false,
    "ExecuteTime": {
     "end_time": "2025-07-14T01:56:28.203814Z",
     "start_time": "2025-07-14T01:56:28.196275Z"
    }
   },
   "id": "e9b4e45adea19edc",
   "outputs": [
    {
     "data": {
      "text/plain": [
       "(<tf.Tensor: shape=(8,), dtype=float32, numpy=array([-7., -4., -1.,  2.,  5.,  8., 11., 14.], dtype=float32)>,\n",
       " <tf.Tensor: shape=(8,), dtype=float32, numpy=array([ 3.,  6.,  9., 12., 15., 18., 21., 24.], dtype=float32)>)"
      ]
     },
     "execution_count": 19,
     "metadata": {},
     "output_type": "execute_result"
    }
   ],
   "execution_count": 19
  },
  {
   "cell_type": "code",
   "source": "# Let's see if our model's prediction has improved...\nmodel.predict([17.0])",
   "metadata": {
    "colab": {
     "base_uri": "https://localhost:8080/"
    },
    "id": "4fa1532cec878a87",
    "executionInfo": {
     "status": "ok",
     "timestamp": 1696076704043,
     "user_tz": -420,
     "elapsed": 7,
     "user": {
      "displayName": "kang sigit",
      "userId": "15887135570512197739"
     }
    },
    "outputId": "c3db728e-15ba-48ed-b577-524225c39d2d",
    "trusted": false,
    "ExecuteTime": {
     "end_time": "2025-07-14T01:56:28.371095Z",
     "start_time": "2025-07-14T01:56:28.285808Z"
    }
   },
   "id": "4fa1532cec878a87",
   "outputs": [
    {
     "name": "stdout",
     "output_type": "stream",
     "text": [
      "1/1 [==============================] - 0s 47ms/step\n"
     ]
    },
    {
     "data": {
      "text/plain": [
       "array([[29.505808]], dtype=float32)"
      ]
     },
     "execution_count": 20,
     "metadata": {},
     "output_type": "execute_result"
    }
   ],
   "execution_count": 20
  },
  {
   "cell_type": "code",
   "source": "# Let's see if we can make another to improve our model\n\n# 1. Create the model (this time with an extra hidden layer with 100 hidden units)\nmodel = tf.keras.Sequential([\n    tf.keras.layers.Dense(50, activation=None),\n    tf.keras.layers.Dense(1)\n])\n\n# 2. Compile the model\nmodel.compile(loss=\"mae\",\n              optimizer=tf.keras.optimizers.Adam(learning_rate=0.01),\n              metrics=[\"mae\"])\n\n# 3. Fit the model\nmodel.fit(tf.expand_dims(X, axis=-1), y, epochs=100)",
   "metadata": {
    "colab": {
     "base_uri": "https://localhost:8080/"
    },
    "id": "8b9aa4f166adf717",
    "executionInfo": {
     "status": "ok",
     "timestamp": 1696076707677,
     "user_tz": -420,
     "elapsed": 3639,
     "user": {
      "displayName": "kang sigit",
      "userId": "15887135570512197739"
     }
    },
    "outputId": "09a15c82-6c48-4a25-f2e2-9e9be634ab0e",
    "trusted": false,
    "ExecuteTime": {
     "end_time": "2025-07-14T01:56:31.350650Z",
     "start_time": "2025-07-14T01:56:28.432447Z"
    }
   },
   "id": "8b9aa4f166adf717",
   "outputs": [
    {
     "name": "stdout",
     "output_type": "stream",
     "text": [
      "Epoch 1/100\n",
      "1/1 [==============================] - 0s 484ms/step - loss: 12.6099 - mae: 12.6099\n",
      "Epoch 2/100\n",
      "1/1 [==============================] - 0s 20ms/step - loss: 11.9555 - mae: 11.9555\n",
      "Epoch 3/100\n",
      "1/1 [==============================] - 0s 22ms/step - loss: 11.2919 - mae: 11.2919\n",
      "Epoch 4/100\n",
      "1/1 [==============================] - 0s 23ms/step - loss: 10.6153 - mae: 10.6153\n",
      "Epoch 5/100\n",
      "1/1 [==============================] - 0s 22ms/step - loss: 9.9234 - mae: 9.9234\n",
      "Epoch 6/100\n",
      "1/1 [==============================] - 0s 23ms/step - loss: 9.2138 - mae: 9.2138\n",
      "Epoch 7/100\n",
      "1/1 [==============================] - 0s 21ms/step - loss: 8.4837 - mae: 8.4837\n",
      "Epoch 8/100\n",
      "1/1 [==============================] - 0s 21ms/step - loss: 7.7307 - mae: 7.7307\n",
      "Epoch 9/100\n",
      "1/1 [==============================] - 0s 18ms/step - loss: 6.9523 - mae: 6.9523\n",
      "Epoch 10/100\n",
      "1/1 [==============================] - 0s 23ms/step - loss: 6.7306 - mae: 6.7306\n",
      "Epoch 11/100\n",
      "1/1 [==============================] - 0s 18ms/step - loss: 7.1266 - mae: 7.1266\n",
      "Epoch 12/100\n",
      "1/1 [==============================] - 0s 20ms/step - loss: 7.4541 - mae: 7.4541\n",
      "Epoch 13/100\n",
      "1/1 [==============================] - 0s 23ms/step - loss: 7.6898 - mae: 7.6898\n",
      "Epoch 14/100\n",
      "1/1 [==============================] - 0s 22ms/step - loss: 7.6851 - mae: 7.6851\n",
      "Epoch 15/100\n",
      "1/1 [==============================] - 0s 16ms/step - loss: 7.5023 - mae: 7.5023\n",
      "Epoch 16/100\n",
      "1/1 [==============================] - 0s 18ms/step - loss: 7.1869 - mae: 7.1869\n",
      "Epoch 17/100\n",
      "1/1 [==============================] - 0s 21ms/step - loss: 6.8570 - mae: 6.8570\n",
      "Epoch 18/100\n",
      "1/1 [==============================] - 0s 20ms/step - loss: 6.5794 - mae: 6.5794\n",
      "Epoch 19/100\n",
      "1/1 [==============================] - 0s 19ms/step - loss: 6.2906 - mae: 6.2906\n",
      "Epoch 20/100\n",
      "1/1 [==============================] - 0s 17ms/step - loss: 6.0667 - mae: 6.0667\n",
      "Epoch 21/100\n",
      "1/1 [==============================] - 0s 19ms/step - loss: 6.0203 - mae: 6.0203\n",
      "Epoch 22/100\n",
      "1/1 [==============================] - 0s 16ms/step - loss: 6.0385 - mae: 6.0385\n",
      "Epoch 23/100\n",
      "1/1 [==============================] - 0s 16ms/step - loss: 6.1128 - mae: 6.1128\n",
      "Epoch 24/100\n",
      "1/1 [==============================] - 0s 15ms/step - loss: 6.0849 - mae: 6.0849\n",
      "Epoch 25/100\n",
      "1/1 [==============================] - 0s 17ms/step - loss: 5.9673 - mae: 5.9673\n",
      "Epoch 26/100\n",
      "1/1 [==============================] - 0s 16ms/step - loss: 5.7690 - mae: 5.7690\n",
      "Epoch 27/100\n",
      "1/1 [==============================] - 0s 15ms/step - loss: 5.5440 - mae: 5.5440\n",
      "Epoch 28/100\n",
      "1/1 [==============================] - 0s 16ms/step - loss: 5.4344 - mae: 5.4344\n",
      "Epoch 29/100\n",
      "1/1 [==============================] - 0s 15ms/step - loss: 5.3213 - mae: 5.3213\n",
      "Epoch 30/100\n",
      "1/1 [==============================] - 0s 16ms/step - loss: 5.2459 - mae: 5.2459\n",
      "Epoch 31/100\n",
      "1/1 [==============================] - 0s 14ms/step - loss: 5.2162 - mae: 5.2162\n",
      "Epoch 32/100\n",
      "1/1 [==============================] - 0s 15ms/step - loss: 5.1453 - mae: 5.1453\n",
      "Epoch 33/100\n",
      "1/1 [==============================] - 0s 16ms/step - loss: 5.0362 - mae: 5.0362\n",
      "Epoch 34/100\n",
      "1/1 [==============================] - 0s 15ms/step - loss: 4.8921 - mae: 4.8921\n",
      "Epoch 35/100\n",
      "1/1 [==============================] - 0s 15ms/step - loss: 4.7160 - mae: 4.7160\n",
      "Epoch 36/100\n",
      "1/1 [==============================] - 0s 15ms/step - loss: 4.5942 - mae: 4.5942\n",
      "Epoch 37/100\n",
      "1/1 [==============================] - 0s 15ms/step - loss: 4.4931 - mae: 4.4931\n",
      "Epoch 38/100\n",
      "1/1 [==============================] - 0s 15ms/step - loss: 4.3837 - mae: 4.3837\n",
      "Epoch 39/100\n",
      "1/1 [==============================] - 0s 15ms/step - loss: 4.2736 - mae: 4.2736\n",
      "Epoch 40/100\n",
      "1/1 [==============================] - 0s 16ms/step - loss: 4.1292 - mae: 4.1292\n",
      "Epoch 41/100\n",
      "1/1 [==============================] - 0s 16ms/step - loss: 3.9846 - mae: 3.9846\n",
      "Epoch 42/100\n",
      "1/1 [==============================] - 0s 15ms/step - loss: 3.8320 - mae: 3.8320\n",
      "Epoch 43/100\n",
      "1/1 [==============================] - 0s 16ms/step - loss: 3.6712 - mae: 3.6712\n",
      "Epoch 44/100\n",
      "1/1 [==============================] - 0s 16ms/step - loss: 3.5020 - mae: 3.5020\n",
      "Epoch 45/100\n",
      "1/1 [==============================] - 0s 15ms/step - loss: 3.3240 - mae: 3.3240\n",
      "Epoch 46/100\n",
      "1/1 [==============================] - 0s 14ms/step - loss: 3.1545 - mae: 3.1545\n",
      "Epoch 47/100\n",
      "1/1 [==============================] - 0s 15ms/step - loss: 2.9814 - mae: 2.9814\n",
      "Epoch 48/100\n",
      "1/1 [==============================] - 0s 15ms/step - loss: 2.7727 - mae: 2.7727\n",
      "Epoch 49/100\n",
      "1/1 [==============================] - 0s 17ms/step - loss: 2.5805 - mae: 2.5805\n",
      "Epoch 50/100\n",
      "1/1 [==============================] - 0s 15ms/step - loss: 2.3767 - mae: 2.3767\n",
      "Epoch 51/100\n",
      "1/1 [==============================] - 0s 15ms/step - loss: 2.1612 - mae: 2.1612\n",
      "Epoch 52/100\n",
      "1/1 [==============================] - 0s 17ms/step - loss: 1.9339 - mae: 1.9339\n",
      "Epoch 53/100\n",
      "1/1 [==============================] - 0s 18ms/step - loss: 1.6945 - mae: 1.6945\n",
      "Epoch 54/100\n",
      "1/1 [==============================] - 0s 17ms/step - loss: 1.4429 - mae: 1.4429\n",
      "Epoch 55/100\n",
      "1/1 [==============================] - 0s 21ms/step - loss: 1.2132 - mae: 1.2132\n",
      "Epoch 56/100\n",
      "1/1 [==============================] - 0s 20ms/step - loss: 0.9171 - mae: 0.9171\n",
      "Epoch 57/100\n",
      "1/1 [==============================] - 0s 17ms/step - loss: 0.6414 - mae: 0.6414\n",
      "Epoch 58/100\n",
      "1/1 [==============================] - 0s 21ms/step - loss: 0.3664 - mae: 0.3664\n",
      "Epoch 59/100\n",
      "1/1 [==============================] - 0s 19ms/step - loss: 0.2528 - mae: 0.2528\n",
      "Epoch 60/100\n",
      "1/1 [==============================] - 0s 18ms/step - loss: 0.2356 - mae: 0.2356\n",
      "Epoch 61/100\n",
      "1/1 [==============================] - 0s 23ms/step - loss: 0.5514 - mae: 0.5514\n",
      "Epoch 62/100\n",
      "1/1 [==============================] - 0s 20ms/step - loss: 0.6402 - mae: 0.6402\n",
      "Epoch 63/100\n",
      "1/1 [==============================] - 0s 20ms/step - loss: 0.7996 - mae: 0.7996\n",
      "Epoch 64/100\n",
      "1/1 [==============================] - 0s 19ms/step - loss: 0.8239 - mae: 0.8239\n",
      "Epoch 65/100\n",
      "1/1 [==============================] - 0s 21ms/step - loss: 0.8449 - mae: 0.8449\n",
      "Epoch 66/100\n",
      "1/1 [==============================] - 0s 18ms/step - loss: 0.8883 - mae: 0.8883\n",
      "Epoch 67/100\n",
      "1/1 [==============================] - 0s 21ms/step - loss: 0.7397 - mae: 0.7397\n",
      "Epoch 68/100\n",
      "1/1 [==============================] - 0s 16ms/step - loss: 0.6953 - mae: 0.6953\n",
      "Epoch 69/100\n",
      "1/1 [==============================] - 0s 19ms/step - loss: 0.5922 - mae: 0.5922\n",
      "Epoch 70/100\n",
      "1/1 [==============================] - 0s 21ms/step - loss: 0.3785 - mae: 0.3785\n",
      "Epoch 71/100\n",
      "1/1 [==============================] - 0s 21ms/step - loss: 0.2837 - mae: 0.2837\n",
      "Epoch 72/100\n",
      "1/1 [==============================] - 0s 16ms/step - loss: 0.0614 - mae: 0.0614\n",
      "Epoch 73/100\n",
      "1/1 [==============================] - 0s 18ms/step - loss: 0.1588 - mae: 0.1588\n",
      "Epoch 74/100\n",
      "1/1 [==============================] - 0s 15ms/step - loss: 0.3072 - mae: 0.3072\n",
      "Epoch 75/100\n",
      "1/1 [==============================] - 0s 15ms/step - loss: 0.3482 - mae: 0.3482\n",
      "Epoch 76/100\n",
      "1/1 [==============================] - 0s 15ms/step - loss: 0.4000 - mae: 0.4000\n",
      "Epoch 77/100\n",
      "1/1 [==============================] - 0s 15ms/step - loss: 0.4429 - mae: 0.4429\n",
      "Epoch 78/100\n",
      "1/1 [==============================] - 0s 15ms/step - loss: 0.4493 - mae: 0.4493\n",
      "Epoch 79/100\n",
      "1/1 [==============================] - 0s 20ms/step - loss: 0.3495 - mae: 0.3495\n",
      "Epoch 80/100\n",
      "1/1 [==============================] - 0s 15ms/step - loss: 0.3827 - mae: 0.3827\n",
      "Epoch 81/100\n",
      "1/1 [==============================] - 0s 16ms/step - loss: 0.2403 - mae: 0.2403\n",
      "Epoch 82/100\n",
      "1/1 [==============================] - 0s 17ms/step - loss: 0.2347 - mae: 0.2347\n",
      "Epoch 83/100\n",
      "1/1 [==============================] - 0s 19ms/step - loss: 0.1291 - mae: 0.1291\n",
      "Epoch 84/100\n",
      "1/1 [==============================] - 0s 19ms/step - loss: 0.2968 - mae: 0.2968\n",
      "Epoch 85/100\n",
      "1/1 [==============================] - 0s 17ms/step - loss: 0.3565 - mae: 0.3565\n",
      "Epoch 86/100\n",
      "1/1 [==============================] - 0s 18ms/step - loss: 0.2152 - mae: 0.2152\n",
      "Epoch 87/100\n",
      "1/1 [==============================] - 0s 20ms/step - loss: 0.3476 - mae: 0.3476\n",
      "Epoch 88/100\n",
      "1/1 [==============================] - 0s 19ms/step - loss: 0.2996 - mae: 0.2996\n",
      "Epoch 89/100\n",
      "1/1 [==============================] - 0s 22ms/step - loss: 0.1179 - mae: 0.1179\n",
      "Epoch 90/100\n",
      "1/1 [==============================] - 0s 18ms/step - loss: 0.1337 - mae: 0.1337\n",
      "Epoch 91/100\n",
      "1/1 [==============================] - 0s 21ms/step - loss: 0.1348 - mae: 0.1348\n",
      "Epoch 92/100\n",
      "1/1 [==============================] - 0s 21ms/step - loss: 0.1269 - mae: 0.1269\n",
      "Epoch 93/100\n",
      "1/1 [==============================] - 0s 21ms/step - loss: 0.2300 - mae: 0.2300\n",
      "Epoch 94/100\n",
      "1/1 [==============================] - 0s 19ms/step - loss: 0.1937 - mae: 0.1937\n",
      "Epoch 95/100\n",
      "1/1 [==============================] - 0s 18ms/step - loss: 0.1946 - mae: 0.1946\n",
      "Epoch 96/100\n",
      "1/1 [==============================] - 0s 21ms/step - loss: 0.1113 - mae: 0.1113\n",
      "Epoch 97/100\n",
      "1/1 [==============================] - 0s 22ms/step - loss: 0.2350 - mae: 0.2350\n",
      "Epoch 98/100\n",
      "1/1 [==============================] - 0s 19ms/step - loss: 0.2386 - mae: 0.2386\n",
      "Epoch 99/100\n",
      "1/1 [==============================] - 0s 15ms/step - loss: 0.1471 - mae: 0.1471\n",
      "Epoch 100/100\n",
      "1/1 [==============================] - 0s 15ms/step - loss: 0.1991 - mae: 0.1991\n"
     ]
    },
    {
     "data": {
      "text/plain": [
       "<keras.src.callbacks.History at 0x7e42da6374d0>"
      ]
     },
     "execution_count": 21,
     "metadata": {},
     "output_type": "execute_result"
    }
   ],
   "execution_count": 21
  },
  {
   "cell_type": "code",
   "source": "# Let's remind ourselves of the data\nX, y",
   "metadata": {
    "colab": {
     "base_uri": "https://localhost:8080/"
    },
    "id": "6b5bd6ece9fcbd99",
    "executionInfo": {
     "status": "ok",
     "timestamp": 1696076707678,
     "user_tz": -420,
     "elapsed": 37,
     "user": {
      "displayName": "kang sigit",
      "userId": "15887135570512197739"
     }
    },
    "outputId": "5cc7cd2b-d423-4cea-c5fb-aeaceda59838",
    "trusted": false,
    "ExecuteTime": {
     "end_time": "2025-07-14T01:56:31.384199Z",
     "start_time": "2025-07-14T01:56:31.380249Z"
    }
   },
   "id": "6b5bd6ece9fcbd99",
   "outputs": [
    {
     "data": {
      "text/plain": [
       "(<tf.Tensor: shape=(8,), dtype=float32, numpy=array([-7., -4., -1.,  2.,  5.,  8., 11., 14.], dtype=float32)>,\n",
       " <tf.Tensor: shape=(8,), dtype=float32, numpy=array([ 3.,  6.,  9., 12., 15., 18., 21., 24.], dtype=float32)>)"
      ]
     },
     "execution_count": 22,
     "metadata": {},
     "output_type": "execute_result"
    }
   ],
   "execution_count": 22
  },
  {
   "cell_type": "code",
   "source": "# Let's  try to make a prediction\nmodel.predict([17.0])",
   "metadata": {
    "colab": {
     "base_uri": "https://localhost:8080/"
    },
    "id": "a0f497158a07079a",
    "executionInfo": {
     "status": "ok",
     "timestamp": 1696076707678,
     "user_tz": -420,
     "elapsed": 30,
     "user": {
      "displayName": "kang sigit",
      "userId": "15887135570512197739"
     }
    },
    "outputId": "5d49bee4-aedd-4687-ee45-a21a4d31ef92",
    "trusted": false,
    "ExecuteTime": {
     "end_time": "2025-07-14T01:56:31.568492Z",
     "start_time": "2025-07-14T01:56:31.461839Z"
    }
   },
   "id": "a0f497158a07079a",
   "outputs": [
    {
     "name": "stdout",
     "output_type": "stream",
     "text": [
      "1/1 [==============================] - 0s 68ms/step\n"
     ]
    },
    {
     "data": {
      "text/plain": [
       "array([[27.103395]], dtype=float32)"
      ]
     },
     "execution_count": 23,
     "metadata": {},
     "output_type": "execute_result"
    }
   ],
   "execution_count": 23
  },
  {
   "cell_type": "markdown",
   "source": "## Evaluating a model\n\nIn practice, a typical workflow you'll go through when building neural networks is:\n\n```\nBuild a model -> fit it -> evaluate it -> tweak a model -> fit it -> evaluate it -> tweak a model -> fit it -> evaluate it...\n```\n\n",
   "metadata": {
    "collapsed": false,
    "id": "8586a632a5e30d87"
   },
   "id": "8586a632a5e30d87"
  },
  {
   "cell_type": "markdown",
   "source": "When it comes to evaluation... there are 3 words you should memorize:\n\n> \"Visualize, visualize, visualize\"\n\nIt's a good idea to visualize:\n* The data - what data are we working with? What does it look like?\n* The model itself - what does our model look like?\n* The training of a model - how does a model perform while it learns?\n* The predictions of the model - how do the predictions od a model line up against the ground truth (the original labels)?",
   "metadata": {
    "collapsed": false,
    "id": "b0557d4d9296152e"
   },
   "id": "b0557d4d9296152e"
  },
  {
   "cell_type": "code",
   "source": "# Make a bigger dataset\nX = tf.range(-100, 100, 4)\nX",
   "metadata": {
    "colab": {
     "base_uri": "https://localhost:8080/"
    },
    "id": "ebfdaf1ca49a3887",
    "executionInfo": {
     "status": "ok",
     "timestamp": 1696076707678,
     "user_tz": -420,
     "elapsed": 27,
     "user": {
      "displayName": "kang sigit",
      "userId": "15887135570512197739"
     }
    },
    "outputId": "bc30d2c0-7064-4c85-ad7c-5b2adb992cb9",
    "trusted": false,
    "ExecuteTime": {
     "end_time": "2025-07-14T01:56:31.663984Z",
     "start_time": "2025-07-14T01:56:31.659113Z"
    }
   },
   "id": "ebfdaf1ca49a3887",
   "outputs": [
    {
     "data": {
      "text/plain": [
       "<tf.Tensor: shape=(50,), dtype=int32, numpy=\n",
       "array([-100,  -96,  -92,  -88,  -84,  -80,  -76,  -72,  -68,  -64,  -60,\n",
       "        -56,  -52,  -48,  -44,  -40,  -36,  -32,  -28,  -24,  -20,  -16,\n",
       "        -12,   -8,   -4,    0,    4,    8,   12,   16,   20,   24,   28,\n",
       "         32,   36,   40,   44,   48,   52,   56,   60,   64,   68,   72,\n",
       "         76,   80,   84,   88,   92,   96], dtype=int32)>"
      ]
     },
     "execution_count": 24,
     "metadata": {},
     "output_type": "execute_result"
    }
   ],
   "execution_count": 24
  },
  {
   "cell_type": "code",
   "source": "# Make labels for the dataset\ny = X + 10\ny",
   "metadata": {
    "colab": {
     "base_uri": "https://localhost:8080/"
    },
    "id": "5573573108e8addc",
    "executionInfo": {
     "status": "ok",
     "timestamp": 1696076707678,
     "user_tz": -420,
     "elapsed": 25,
     "user": {
      "displayName": "kang sigit",
      "userId": "15887135570512197739"
     }
    },
    "outputId": "799c0f5b-54de-446d-80ad-e0ab45651900",
    "trusted": false,
    "ExecuteTime": {
     "end_time": "2025-07-14T01:56:31.786071Z",
     "start_time": "2025-07-14T01:56:31.780505Z"
    }
   },
   "id": "5573573108e8addc",
   "outputs": [
    {
     "data": {
      "text/plain": [
       "<tf.Tensor: shape=(50,), dtype=int32, numpy=\n",
       "array([-90, -86, -82, -78, -74, -70, -66, -62, -58, -54, -50, -46, -42,\n",
       "       -38, -34, -30, -26, -22, -18, -14, -10,  -6,  -2,   2,   6,  10,\n",
       "        14,  18,  22,  26,  30,  34,  38,  42,  46,  50,  54,  58,  62,\n",
       "        66,  70,  74,  78,  82,  86,  90,  94,  98, 102, 106], dtype=int32)>"
      ]
     },
     "execution_count": 25,
     "metadata": {},
     "output_type": "execute_result"
    }
   ],
   "execution_count": 25
  },
  {
   "cell_type": "code",
   "source": "# Visualize the data\nimport matplotlib.pyplot as plt\n\nplt.scatter(X, y)",
   "metadata": {
    "colab": {
     "base_uri": "https://localhost:8080/",
     "height": 448
    },
    "id": "819381cfdadb50fa",
    "executionInfo": {
     "status": "ok",
     "timestamp": 1696076707678,
     "user_tz": -420,
     "elapsed": 23,
     "user": {
      "displayName": "kang sigit",
      "userId": "15887135570512197739"
     }
    },
    "outputId": "50eb4a39-f417-4bbe-8dfa-b4e0ffe18018",
    "trusted": false,
    "ExecuteTime": {
     "end_time": "2025-07-14T01:56:40.241590Z",
     "start_time": "2025-07-14T01:56:40.137237Z"
    }
   },
   "id": "819381cfdadb50fa",
   "outputs": [
    {
     "data": {
      "text/plain": [
       "<matplotlib.collections.PathCollection at 0x7e42fa750910>"
      ]
     },
     "execution_count": 26,
     "metadata": {},
     "output_type": "execute_result"
    },
    {
     "data": {
      "text/plain": [
       "<Figure size 640x480 with 1 Axes>"
      ],
      "image/png": "[encoded data removed]"
     },
     "metadata": {},
     "output_type": "display_data"
    }
   ],
   "execution_count": 26
  },
  {
   "cell_type": "markdown",
   "source": "### The 3 sets...\n\n* **Training set** - the model learns from this data, which is typically 70-80% of total data you have available.\n* **Validation set** - the model gets tuned oh this data, which is typically 10-15% of the data available.\n* **Test set** - the model gets evaluated on this data to test what is has learned, this set is typically 10-15% of the total data available.",
   "metadata": {
    "collapsed": false,
    "id": "811bf5a27ae79738"
   },
   "id": "811bf5a27ae79738"
  },
  {
   "cell_type": "code",
   "source": "# Check the length of how many samples we have\nlen(X)",
   "metadata": {
    "colab": {
     "base_uri": "https://localhost:8080/"
    },
    "id": "65fe1205cafb59",
    "executionInfo": {
     "status": "ok",
     "timestamp": 1696076707678,
     "user_tz": -420,
     "elapsed": 20,
     "user": {
      "displayName": "kang sigit",
      "userId": "15887135570512197739"
     }
    },
    "outputId": "73236141-f7f9-4151-9726-e43586bc76ec",
    "trusted": false,
    "ExecuteTime": {
     "end_time": "2025-07-14T01:56:40.281821Z",
     "start_time": "2025-07-14T01:56:40.278029Z"
    }
   },
   "id": "65fe1205cafb59",
   "outputs": [
    {
     "data": {
      "text/plain": [
       "50"
      ]
     },
     "execution_count": 27,
     "metadata": {},
     "output_type": "execute_result"
    }
   ],
   "execution_count": 27
  },
  {
   "cell_type": "code",
   "source": "# Split the data into train and test sets\nX_train = X[:40] # first 40 are training samples (80% of the data)\ny_train = y[:40]\nX_test = X[40:] # last 10 are testing samples (20% of the data)\ny_test = y[40:]\n\nlen(X_train), len(X_test), len(y_train), len(y_test)",
   "metadata": {
    "colab": {
     "base_uri": "https://localhost:8080/"
    },
    "id": "6d4cae941d61ab0d",
    "executionInfo": {
     "status": "ok",
     "timestamp": 1696076707678,
     "user_tz": -420,
     "elapsed": 19,
     "user": {
      "displayName": "kang sigit",
      "userId": "15887135570512197739"
     }
    },
    "outputId": "222f4a3f-fa48-4167-dd93-388106b231f7",
    "trusted": false,
    "ExecuteTime": {
     "end_time": "2025-07-14T01:56:40.348351Z",
     "start_time": "2025-07-14T01:56:40.339833Z"
    }
   },
   "id": "6d4cae941d61ab0d",
   "outputs": [
    {
     "data": {
      "text/plain": [
       "(40, 10, 40, 10)"
      ]
     },
     "execution_count": 28,
     "metadata": {},
     "output_type": "execute_result"
    }
   ],
   "execution_count": 28
  },
  {
   "cell_type": "markdown",
   "source": "### Visualing the data\n\nNow we've got our data in training and test sets... let's visualize it again!",
   "metadata": {
    "collapsed": false,
    "id": "83c7526489cf18e8"
   },
   "id": "83c7526489cf18e8"
  },
  {
   "cell_type": "code",
   "source": "plt.figure(figsize=(10, 7))\n# Plot training data in blue\nplt.scatter(X_train, y_train, c=\"b\", label=\"Training data\")\n# Plot test data in green\nplt.scatter(X_test, y_test, c=\"g\", label=\"Testing data\")\n# Show a legend\nplt.legend();",
   "metadata": {
    "colab": {
     "base_uri": "https://localhost:8080/",
     "height": 599
    },
    "id": "ab7249faa73bbe9",
    "executionInfo": {
     "status": "ok",
     "timestamp": 1696076708327,
     "user_tz": -420,
     "elapsed": 666,
     "user": {
      "displayName": "kang sigit",
      "userId": "15887135570512197739"
     }
    },
    "outputId": "6e495691-ff17-4a7f-c1b2-2579095d6b81",
    "trusted": false,
    "ExecuteTime": {
     "end_time": "2025-07-14T01:56:31.869084Z",
     "start_time": "2025-07-14T01:56:31.739867Z"
    }
   },
   "id": "ab7249faa73bbe9",
   "outputs": [
    {
     "data": {
      "text/plain": [
       "<Figure size 1000x700 with 1 Axes>"
      ],
      "image/png": "[encoded data removed]"
     },
     "metadata": {},
     "output_type": "display_data"
    }
   ],
   "execution_count": 29
  },
  {
   "cell_type": "code",
   "source": "# Let's have a look at how to build a neural network for our data\n\n# 1. Create a model\nmodel = tf.keras.Sequential([\n    tf.keras.layers.Dense(1)\n])\n\n# 2. Compile the model\nmodel.compile(loss=tf.keras.losses.mae,\n              optimizer=tf.keras.optimizers.SGD(),\n              metrics=[\"mae\"])\n\n# 3. Fit the model\n# model.fit(tf.expand_dims(X_train, axis=-1), y_train, epochs=100)",
   "metadata": {
    "id": "d8ffee7c2a8e42f7",
    "executionInfo": {
     "status": "ok",
     "timestamp": 1696076708328,
     "user_tz": -420,
     "elapsed": 10,
     "user": {
      "displayName": "kang sigit",
      "userId": "15887135570512197739"
     }
    },
    "trusted": false,
    "ExecuteTime": {
     "end_time": "2025-07-14T01:56:31.912053Z",
     "start_time": "2025-07-14T01:56:31.897731Z"
    }
   },
   "id": "d8ffee7c2a8e42f7",
   "outputs": [],
   "execution_count": 30
  },
  {
   "cell_type": "markdown",
   "source": "### Visualizing the model",
   "metadata": {
    "collapsed": false,
    "id": "898b10b4eeedd11e"
   },
   "id": "898b10b4eeedd11e"
  },
  {
   "cell_type": "code",
   "source": "model.summary()",
   "metadata": {
    "colab": {
     "base_uri": "https://localhost:8080/",
     "height": 346
    },
    "id": "5c62d9de9c0b5118",
    "executionInfo": {
     "status": "error",
     "timestamp": 1696076708328,
     "user_tz": -420,
     "elapsed": 9,
     "user": {
      "displayName": "kang sigit",
      "userId": "15887135570512197739"
     }
    },
    "outputId": "d80a5003-4477-4613-82d5-9ebc9a96dd43",
    "trusted": false,
    "ExecuteTime": {
     "end_time": "2025-07-14T01:56:32.064105Z",
     "start_time": "2025-07-14T01:56:31.963057Z"
    }
   },
   "id": "5c62d9de9c0b5118",
   "outputs": [
    {
     "ename": "ValueError",
     "evalue": "This model has not yet been built. Build the model first by calling `build()` or by calling the model on a batch of data.",
     "output_type": "error",
     "traceback": [
      "\u001B[31m---------------------------------------------------------------------------\u001B[39m",
      "\u001B[31mValueError\u001B[39m                                Traceback (most recent call last)",
      "\u001B[36mCell\u001B[39m\u001B[36m \u001B[39m\u001B[32mIn[31]\u001B[39m\u001B[32m, line 1\u001B[39m\n\u001B[32m----> \u001B[39m\u001B[32m1\u001B[39m \u001B[43mmodel\u001B[49m\u001B[43m.\u001B[49m\u001B[43msummary\u001B[49m\u001B[43m(\u001B[49m\u001B[43m)\u001B[49m\n",
      "\u001B[36mFile \u001B[39m\u001B[32m~/anaconda3/envs/idp/lib/python3.11/site-packages/keras/src/engine/training.py:3506\u001B[39m, in \u001B[36mModel.summary\u001B[39m\u001B[34m(self, line_length, positions, print_fn, expand_nested, show_trainable, layer_range)\u001B[39m\n\u001B[32m   3475\u001B[39m \u001B[38;5;250m\u001B[39m\u001B[33;03m\"\"\"Prints a string summary of the network.\u001B[39;00m\n\u001B[32m   3476\u001B[39m \n\u001B[32m   3477\u001B[39m \u001B[33;03mArgs:\u001B[39;00m\n\u001B[32m   (...)\u001B[39m\u001B[32m   3503\u001B[39m \u001B[33;03m    ValueError: if `summary()` is called before the model is built.\u001B[39;00m\n\u001B[32m   3504\u001B[39m \u001B[33;03m\"\"\"\u001B[39;00m\n\u001B[32m   3505\u001B[39m \u001B[38;5;28;01mif\u001B[39;00m \u001B[38;5;129;01mnot\u001B[39;00m \u001B[38;5;28mself\u001B[39m.built:\n\u001B[32m-> \u001B[39m\u001B[32m3506\u001B[39m     \u001B[38;5;28;01mraise\u001B[39;00m \u001B[38;5;167;01mValueError\u001B[39;00m(\n\u001B[32m   3507\u001B[39m         \u001B[33m\"\u001B[39m\u001B[33mThis model has not yet been built. \u001B[39m\u001B[33m\"\u001B[39m\n\u001B[32m   3508\u001B[39m         \u001B[33m\"\u001B[39m\u001B[33mBuild the model first by calling `build()` or by calling \u001B[39m\u001B[33m\"\u001B[39m\n\u001B[32m   3509\u001B[39m         \u001B[33m\"\u001B[39m\u001B[33mthe model on a batch of data.\u001B[39m\u001B[33m\"\u001B[39m\n\u001B[32m   3510\u001B[39m     )\n\u001B[32m   3511\u001B[39m layer_utils.print_summary(\n\u001B[32m   3512\u001B[39m     \u001B[38;5;28mself\u001B[39m,\n\u001B[32m   3513\u001B[39m     line_length=line_length,\n\u001B[32m   (...)\u001B[39m\u001B[32m   3518\u001B[39m     layer_range=layer_range,\n\u001B[32m   3519\u001B[39m )\n",
      "\u001B[31mValueError\u001B[39m: This model has not yet been built. Build the model first by calling `build()` or by calling the model on a batch of data."
     ]
    }
   ],
   "execution_count": 31
  },
  {
   "cell_type": "code",
   "source": "X[0], y[0]",
   "metadata": {
    "colab": {
     "base_uri": "https://localhost:8080/"
    },
    "id": "46ca08d5fb0a5d65",
    "executionInfo": {
     "status": "ok",
     "timestamp": 1696076717633,
     "user_tz": -420,
     "elapsed": 10,
     "user": {
      "displayName": "kang sigit",
      "userId": "15887135570512197739"
     }
    },
    "outputId": "7153ad61-fb91-4517-d967-04743d87b16f",
    "trusted": false,
    "ExecuteTime": {
     "end_time": "2025-07-14T01:56:57.792383Z",
     "start_time": "2025-07-14T01:56:57.787433Z"
    }
   },
   "id": "46ca08d5fb0a5d65",
   "outputs": [
    {
     "data": {
      "text/plain": [
       "(<tf.Tensor: shape=(), dtype=int32, numpy=-100>,\n",
       " <tf.Tensor: shape=(), dtype=int32, numpy=-90>)"
      ]
     },
     "execution_count": 32,
     "metadata": {},
     "output_type": "execute_result"
    }
   ],
   "execution_count": 32
  },
  {
   "cell_type": "code",
   "source": "# Let's create a model which builds automatically by defining the input_shape argument in the first layer\ntf.random.set_seed(42)\n\n# 1. Create a model (same as above)\nmodel = tf.keras.Sequential([\n    tf.keras.layers.Dense(10, input_shape=[1], name=\"input_layer\"),\n    tf.keras.layers.Dense(1, name=\"output_layer\")\n], name=\"model_1\")\n\n# 2. Compile the model (same as above)\nmodel.compile(loss=tf.keras.losses.mae,\n              optimizer=tf.keras.optimizers.SGD(),\n              metrics=[\"mae\"])",
   "metadata": {
    "id": "42cd0d927d2d8699",
    "executionInfo": {
     "status": "ok",
     "timestamp": 1696076720211,
     "user_tz": -420,
     "elapsed": 10,
     "user": {
      "displayName": "kang sigit",
      "userId": "15887135570512197739"
     }
    },
    "trusted": false,
    "ExecuteTime": {
     "end_time": "2025-07-14T01:56:57.906411Z",
     "start_time": "2025-07-14T01:56:57.857701Z"
    }
   },
   "id": "42cd0d927d2d8699",
   "outputs": [],
   "execution_count": 33
  },
  {
   "cell_type": "code",
   "source": "model.summary()",
   "metadata": {
    "colab": {
     "base_uri": "https://localhost:8080/"
    },
    "id": "12813b7ae6d41c34",
    "executionInfo": {
     "status": "ok",
     "timestamp": 1696076725813,
     "user_tz": -420,
     "elapsed": 612,
     "user": {
      "displayName": "kang sigit",
      "userId": "15887135570512197739"
     }
    },
    "outputId": "f12abca0-cc47-466d-fcd4-d44e2144977c",
    "trusted": false,
    "ExecuteTime": {
     "end_time": "2025-07-14T01:56:57.939810Z",
     "start_time": "2025-07-14T01:56:57.930184Z"
    }
   },
   "id": "12813b7ae6d41c34",
   "outputs": [
    {
     "name": "stdout",
     "output_type": "stream",
     "text": [
      "Model: \"model_1\"\n",
      "_________________________________________________________________\n",
      " Layer (type)                Output Shape              Param #   \n",
      "=================================================================\n",
      " input_layer (Dense)         (None, 10)                20        \n",
      "                                                                 \n",
      " output_layer (Dense)        (None, 1)                 11        \n",
      "                                                                 \n",
      "=================================================================\n",
      "Total params: 31 (124.00 Byte)\n",
      "Trainable params: 31 (124.00 Byte)\n",
      "Non-trainable params: 0 (0.00 Byte)\n",
      "_________________________________________________________________\n"
     ]
    }
   ],
   "execution_count": 34
  },
  {
   "cell_type": "markdown",
   "source": "* Total params - total number of parameters in the model.\n* Trainable parameters - these are the parameters (patterns) the model can update as it trains.\n* Non-trainable params - these parameters aren't updated during training (this is typical when you bring in already learn patterns or parameters from other models during **transfer learning**)\n\n**Resource:** For a more in-depth overview of the trainable parameters within a layer, check out [MIT's introduction to deep learning video](https://www.youtube.com/watch?v=QDX-1M5Nj7s&list=PLtBw6njQRU-rwp5__7C0oIVt26ZgjG9NI&index=2).\n\n**Exercise:** Try playing around with the number of hidden units in the dense layer, see how that effects the number of parameters (total and trainable) by calling `model.summary`.",
   "metadata": {
    "collapsed": false,
    "id": "fe2ddf6925ef3e1b"
   },
   "id": "fe2ddf6925ef3e1b"
  },
  {
   "cell_type": "code",
   "source": "# Let's fit our model to the training data\nmodel.fit(X_train, y_train, epochs=100, verbose=0)",
   "metadata": {
    "colab": {
     "base_uri": "https://localhost:8080/"
    },
    "id": "6cae2a5b5d81a33c",
    "executionInfo": {
     "status": "ok",
     "timestamp": 1696076731840,
     "user_tz": -420,
     "elapsed": 2129,
     "user": {
      "displayName": "kang sigit",
      "userId": "15887135570512197739"
     }
    },
    "outputId": "55f2e786-ca32-495c-c4b9-e0d598ca92a0",
    "trusted": false,
    "ExecuteTime": {
     "end_time": "2025-07-14T01:57:00.650192Z",
     "start_time": "2025-07-14T01:56:57.996799Z"
    }
   },
   "id": "6cae2a5b5d81a33c",
   "outputs": [
    {
     "data": {
      "text/plain": [
       "<keras.src.callbacks.History at 0x7e42fa6e0d10>"
      ]
     },
     "execution_count": 35,
     "metadata": {},
     "output_type": "execute_result"
    }
   ],
   "execution_count": 35
  },
  {
   "cell_type": "code",
   "source": "# Get a summary of our model\nmodel.summary()",
   "metadata": {
    "colab": {
     "base_uri": "https://localhost:8080/"
    },
    "id": "ef79d837a807dbff",
    "executionInfo": {
     "status": "ok",
     "timestamp": 1696076734841,
     "user_tz": -420,
     "elapsed": 14,
     "user": {
      "displayName": "kang sigit",
      "userId": "15887135570512197739"
     }
    },
    "outputId": "b874b077-66d4-48c3-d617-ab8bd9ea2360",
    "trusted": false,
    "ExecuteTime": {
     "end_time": "2025-07-14T01:57:00.795971Z",
     "start_time": "2025-07-14T01:57:00.788226Z"
    }
   },
   "id": "ef79d837a807dbff",
   "outputs": [
    {
     "name": "stdout",
     "output_type": "stream",
     "text": [
      "Model: \"model_1\"\n",
      "_________________________________________________________________\n",
      " Layer (type)                Output Shape              Param #   \n",
      "=================================================================\n",
      " input_layer (Dense)         (None, 10)                20        \n",
      "                                                                 \n",
      " output_layer (Dense)        (None, 1)                 11        \n",
      "                                                                 \n",
      "=================================================================\n",
      "Total params: 31 (124.00 Byte)\n",
      "Trainable params: 31 (124.00 Byte)\n",
      "Non-trainable params: 0 (0.00 Byte)\n",
      "_________________________________________________________________\n"
     ]
    }
   ],
   "execution_count": 36
  },
  {
   "cell_type": "code",
   "source": "# from tensorflow.keras.utils import plot_model\n# plot_model(model)\ntf.keras.utils.plot_model(model=model, show_shapes=True)",
   "metadata": {
    "colab": {
     "base_uri": "https://localhost:8080/",
     "height": 312
    },
    "id": "9f76823a012a16fc",
    "executionInfo": {
     "status": "ok",
     "timestamp": 1696076739831,
     "user_tz": -420,
     "elapsed": 5,
     "user": {
      "displayName": "kang sigit",
      "userId": "15887135570512197739"
     }
    },
    "outputId": "38ae9add-0cbe-45dd-9626-7c468c85b694",
    "trusted": false,
    "ExecuteTime": {
     "end_time": "2025-07-14T01:57:00.997693Z",
     "start_time": "2025-07-14T01:57:00.853414Z"
    }
   },
   "id": "9f76823a012a16fc",
   "outputs": [
    {
     "data": {
      "image/png": "[encoded data removed]",
      "text/plain": [
       "<IPython.core.display.Image object>"
      ]
     },
     "execution_count": 37,
     "metadata": {},
     "output_type": "execute_result"
    }
   ],
   "execution_count": 37
  },
  {
   "cell_type": "markdown",
   "source": "### Visualizing our model's predictions\n\nTo visualize predictions, it's a good idea to plot them against the ground truth labels.\n\nOften you'll see this in the form of `y_test` or `y_true` versus `y_pred` (ground truth versus your model's predictions)",
   "metadata": {
    "collapsed": false,
    "id": "f5244483f581fae1"
   },
   "id": "f5244483f581fae1"
  },
  {
   "cell_type": "code",
   "source": "y_pred = model.predict(X_test)\ny_pred",
   "metadata": {
    "colab": {
     "base_uri": "https://localhost:8080/"
    },
    "id": "293c2620b65dc170",
    "executionInfo": {
     "status": "ok",
     "timestamp": 1696076744822,
     "user_tz": -420,
     "elapsed": 10,
     "user": {
      "displayName": "kang sigit",
      "userId": "15887135570512197739"
     }
    },
    "outputId": "4ee87d96-0c2e-4169-b0dd-4c1440d57eb3",
    "trusted": false,
    "ExecuteTime": {
     "end_time": "2025-07-14T01:57:01.102832Z",
     "start_time": "2025-07-14T01:57:01.028036Z"
    }
   },
   "id": "293c2620b65dc170",
   "outputs": [
    {
     "name": "stdout",
     "output_type": "stream",
     "text": [
      "1/1 [==============================] - 0s 42ms/step\n"
     ]
    },
    {
     "data": {
      "text/plain": [
       "array([[ 75.741234],\n",
       "       [ 80.67518 ],\n",
       "       [ 85.60914 ],\n",
       "       [ 90.543076],\n",
       "       [ 95.47702 ],\n",
       "       [100.41097 ],\n",
       "       [105.344925],\n",
       "       [110.27887 ],\n",
       "       [115.212814],\n",
       "       [120.14676 ]], dtype=float32)"
      ]
     },
     "execution_count": 38,
     "metadata": {},
     "output_type": "execute_result"
    }
   ],
   "execution_count": 38
  },
  {
   "cell_type": "code",
   "source": "y_test",
   "metadata": {
    "colab": {
     "base_uri": "https://localhost:8080/"
    },
    "id": "6c948e1753458992",
    "executionInfo": {
     "status": "ok",
     "timestamp": 1696076748866,
     "user_tz": -420,
     "elapsed": 623,
     "user": {
      "displayName": "kang sigit",
      "userId": "15887135570512197739"
     }
    },
    "outputId": "426fda75-0bdc-4f22-828b-160c21f17527",
    "trusted": false,
    "ExecuteTime": {
     "end_time": "2025-07-14T01:57:01.203486Z",
     "start_time": "2025-07-14T01:57:01.200658Z"
    }
   },
   "id": "6c948e1753458992",
   "outputs": [
    {
     "data": {
      "text/plain": [
       "<tf.Tensor: shape=(10,), dtype=int32, numpy=array([ 70,  74,  78,  82,  86,  90,  94,  98, 102, 106], dtype=int32)>"
      ]
     },
     "execution_count": 39,
     "metadata": {},
     "output_type": "execute_result"
    }
   ],
   "execution_count": 39
  },
  {
   "cell_type": "markdown",
   "source": "🔑 **Note:** If you feel like you're going to reuse some kind of functionality in the future, it's a good idea to turn it into function.",
   "metadata": {
    "collapsed": false,
    "id": "39dcf705504e7045"
   },
   "id": "39dcf705504e7045"
  },
  {
   "cell_type": "code",
   "source": "# Let's create a plotting function\ndef plot_predictions(train_data=X_train,\n                     train_labels=y_train,\n                     test_data=X_test,\n                     test_labels=y_test,\n                     predictions=y_pred):\n    \"\"\"\n    Plots training data, test data and compares predictions to ground truth labels.\n    \"\"\"\n\n    plt.figure(figsize=(10, 7))\n    # Plot training data in blue\n    plt.scatter(train_data, train_labels, c=\"b\", label=\"Training data\")\n    # Plot testing data in green\n    plt.scatter(test_data, test_labels, c=\"g\", label=\"Testing data\")\n    # Plot model's predictions in red\n    plt.scatter(test_data, predictions, c=\"r\", label=\"Predictions\")\n    # Show the legend\n    plt.legend();",
   "metadata": {
    "id": "71cba8a1be7b2c81",
    "executionInfo": {
     "status": "ok",
     "timestamp": 1696076751527,
     "user_tz": -420,
     "elapsed": 6,
     "user": {
      "displayName": "kang sigit",
      "userId": "15887135570512197739"
     }
    },
    "trusted": false,
    "ExecuteTime": {
     "end_time": "2025-07-14T01:57:01.268828Z",
     "start_time": "2025-07-14T01:57:01.265898Z"
    }
   },
   "id": "71cba8a1be7b2c81",
   "outputs": [],
   "execution_count": 40
  },
  {
   "cell_type": "code",
   "source": "plot_predictions(train_data=X_train,\n                 train_labels=y_train,\n                 test_data=X_test,\n                 test_labels=y_test,\n                 predictions=y_pred)",
   "metadata": {
    "colab": {
     "base_uri": "https://localhost:8080/",
     "height": 599
    },
    "id": "2a6d51a53151bf01",
    "executionInfo": {
     "status": "ok",
     "timestamp": 1696076756188,
     "user_tz": -420,
     "elapsed": 676,
     "user": {
      "displayName": "kang sigit",
      "userId": "15887135570512197739"
     }
    },
    "outputId": "5622b327-d23a-443a-98eb-37621a728b65",
    "trusted": false,
    "ExecuteTime": {
     "end_time": "2025-07-14T01:57:01.564092Z",
     "start_time": "2025-07-14T01:57:01.430765Z"
    }
   },
   "id": "2a6d51a53151bf01",
   "outputs": [
    {
     "data": {
      "text/plain": [
       "<Figure size 1000x700 with 1 Axes>"
      ],
      "image/png": "[encoded data removed]"
     },
     "metadata": {},
     "output_type": "display_data"
    }
   ],
   "execution_count": 41
  },
  {
   "cell_type": "markdown",
   "source": "### Evaluating our model's predictions with regression evaluation metrics\n\nDepending on the problem you're working on, there will be different evaluation metrics to evaluate your model's performance.\n\nSince we're working on a regresion, two of the main metrics:\n* MAE - mean absolute error, \"on average, how wrong is each of my model's predictions\"\n* MSE - mean square error, \"square the average errors\"",
   "metadata": {
    "collapsed": false,
    "id": "9ebf4e56a0b6b139"
   },
   "id": "9ebf4e56a0b6b139"
  },
  {
   "cell_type": "code",
   "source": "# Evaluate the model on the test\nmodel.evaluate(X_test, y_test)",
   "metadata": {
    "colab": {
     "base_uri": "https://localhost:8080/"
    },
    "id": "36177621aade1e45",
    "executionInfo": {
     "status": "ok",
     "timestamp": 1696076760260,
     "user_tz": -420,
     "elapsed": 3,
     "user": {
      "displayName": "kang sigit",
      "userId": "15887135570512197739"
     }
    },
    "outputId": "8fde979d-d6d8-4b3c-cc52-788e23f56633",
    "trusted": false,
    "ExecuteTime": {
     "end_time": "2025-07-14T01:57:01.704355Z",
     "start_time": "2025-07-14T01:57:01.583479Z"
    }
   },
   "id": "36177621aade1e45",
   "outputs": [
    {
     "name": "stdout",
     "output_type": "stream",
     "text": [
      "1/1 [==============================] - 0s 89ms/step - loss: 9.9440 - mae: 9.9440\n"
     ]
    },
    {
     "data": {
      "text/plain": [
       "[9.943999290466309, 9.943999290466309]"
      ]
     },
     "execution_count": 42,
     "metadata": {},
     "output_type": "execute_result"
    }
   ],
   "execution_count": 42
  },
  {
   "cell_type": "code",
   "source": "# Calculate the mean absolute error (wrong output)\nmae = tf.metrics.mean_absolute_error(y_true=y_test, y_pred=y_pred)\nmae",
   "metadata": {
    "colab": {
     "base_uri": "https://localhost:8080/"
    },
    "id": "575b0fa5aebbd5fd",
    "executionInfo": {
     "status": "ok",
     "timestamp": 1696076763811,
     "user_tz": -420,
     "elapsed": 715,
     "user": {
      "displayName": "kang sigit",
      "userId": "15887135570512197739"
     }
    },
    "outputId": "27b75cf0-09ff-4843-c70c-8761bba46195",
    "trusted": false,
    "ExecuteTime": {
     "end_time": "2025-07-14T01:57:01.755124Z",
     "start_time": "2025-07-14T01:57:01.736109Z"
    }
   },
   "id": "575b0fa5aebbd5fd",
   "outputs": [
    {
     "data": {
      "text/plain": [
       "<tf.Tensor: shape=(10,), dtype=float32, numpy=\n",
       "array([13.7552595, 11.329928 , 10.078173 , 10.108615 , 11.390808 ,\n",
       "       13.846582 , 17.47594  , 22.27887  , 27.212818 , 32.14676  ],\n",
       "      dtype=float32)>"
      ]
     },
     "execution_count": 43,
     "metadata": {},
     "output_type": "execute_result"
    }
   ],
   "execution_count": 43
  },
  {
   "cell_type": "code",
   "source": "y_pred",
   "metadata": {
    "colab": {
     "base_uri": "https://localhost:8080/"
    },
    "id": "aedf7261aa2cc7ac",
    "executionInfo": {
     "status": "ok",
     "timestamp": 1696076770397,
     "user_tz": -420,
     "elapsed": 550,
     "user": {
      "displayName": "kang sigit",
      "userId": "15887135570512197739"
     }
    },
    "outputId": "780baeaa-5d3c-4eff-94cf-7e86833d9d55",
    "trusted": false,
    "ExecuteTime": {
     "end_time": "2025-07-14T01:57:01.802253Z",
     "start_time": "2025-07-14T01:57:01.798759Z"
    }
   },
   "id": "aedf7261aa2cc7ac",
   "outputs": [
    {
     "data": {
      "text/plain": [
       "array([[ 75.741234],\n",
       "       [ 80.67518 ],\n",
       "       [ 85.60914 ],\n",
       "       [ 90.543076],\n",
       "       [ 95.47702 ],\n",
       "       [100.41097 ],\n",
       "       [105.344925],\n",
       "       [110.27887 ],\n",
       "       [115.212814],\n",
       "       [120.14676 ]], dtype=float32)"
      ]
     },
     "execution_count": 44,
     "metadata": {},
     "output_type": "execute_result"
    }
   ],
   "execution_count": 44
  },
  {
   "cell_type": "code",
   "source": "tf.constant(y_pred)",
   "metadata": {
    "colab": {
     "base_uri": "https://localhost:8080/"
    },
    "id": "efcfefa487523699",
    "executionInfo": {
     "status": "ok",
     "timestamp": 1696076773607,
     "user_tz": -420,
     "elapsed": 546,
     "user": {
      "displayName": "kang sigit",
      "userId": "15887135570512197739"
     }
    },
    "outputId": "208db3b7-e815-45df-983c-245825caa58f",
    "trusted": false,
    "ExecuteTime": {
     "end_time": "2025-07-14T01:57:01.935843Z",
     "start_time": "2025-07-14T01:57:01.930232Z"
    }
   },
   "id": "efcfefa487523699",
   "outputs": [
    {
     "data": {
      "text/plain": [
       "<tf.Tensor: shape=(10, 1), dtype=float32, numpy=\n",
       "array([[ 75.741234],\n",
       "       [ 80.67518 ],\n",
       "       [ 85.60914 ],\n",
       "       [ 90.543076],\n",
       "       [ 95.47702 ],\n",
       "       [100.41097 ],\n",
       "       [105.344925],\n",
       "       [110.27887 ],\n",
       "       [115.212814],\n",
       "       [120.14676 ]], dtype=float32)>"
      ]
     },
     "execution_count": 45,
     "metadata": {},
     "output_type": "execute_result"
    }
   ],
   "execution_count": 45
  },
  {
   "cell_type": "code",
   "source": "tf.squeeze(y_pred)",
   "metadata": {
    "colab": {
     "base_uri": "https://localhost:8080/"
    },
    "id": "f5f88f1ace7aeab8",
    "executionInfo": {
     "status": "ok",
     "timestamp": 1696076776274,
     "user_tz": -420,
     "elapsed": 11,
     "user": {
      "displayName": "kang sigit",
      "userId": "15887135570512197739"
     }
    },
    "outputId": "36ecd7c8-310f-4361-8a69-a11728deae72",
    "trusted": false,
    "ExecuteTime": {
     "end_time": "2025-07-14T01:57:10.214603Z",
     "start_time": "2025-07-14T01:57:10.204396Z"
    }
   },
   "id": "f5f88f1ace7aeab8",
   "outputs": [
    {
     "data": {
      "text/plain": [
       "<tf.Tensor: shape=(10,), dtype=float32, numpy=\n",
       "array([ 75.741234,  80.67518 ,  85.60914 ,  90.543076,  95.47702 ,\n",
       "       100.41097 , 105.344925, 110.27887 , 115.212814, 120.14676 ],\n",
       "      dtype=float32)>"
      ]
     },
     "execution_count": 46,
     "metadata": {},
     "output_type": "execute_result"
    }
   ],
   "execution_count": 46
  },
  {
   "cell_type": "code",
   "source": "y_test",
   "metadata": {
    "colab": {
     "base_uri": "https://localhost:8080/"
    },
    "id": "5dad140f654bcf85",
    "executionInfo": {
     "status": "ok",
     "timestamp": 1696076779803,
     "user_tz": -420,
     "elapsed": 9,
     "user": {
      "displayName": "kang sigit",
      "userId": "15887135570512197739"
     }
    },
    "outputId": "eaa141da-b33a-4245-860d-9bf94dc1184b",
    "trusted": false
   },
   "id": "5dad140f654bcf85",
   "outputs": [
    {
     "data": {
      "text/plain": [
       "<tf.Tensor: shape=(10,), dtype=int32, numpy=array([ 70,  74,  78,  82,  86,  90,  94,  98, 102, 106], dtype=int32)>"
      ]
     },
     "execution_count": 47,
     "metadata": {},
     "output_type": "execute_result"
    }
   ],
   "execution_count": 47
  },
  {
   "cell_type": "code",
   "source": "# Calculate the mean absolute error\nmae = tf.metrics.mean_absolute_error(y_true=y_test, y_pred=tf.squeeze(y_pred))\nmae",
   "metadata": {
    "colab": {
     "base_uri": "https://localhost:8080/"
    },
    "id": "cd2acac44e2bdbab",
    "executionInfo": {
     "status": "ok",
     "timestamp": 1696076782346,
     "user_tz": -420,
     "elapsed": 7,
     "user": {
      "displayName": "kang sigit",
      "userId": "15887135570512197739"
     }
    },
    "outputId": "080b3669-5b49-49d7-d8b0-369f59c86ff5",
    "trusted": false,
    "ExecuteTime": {
     "end_time": "2025-07-14T01:57:10.448645Z",
     "start_time": "2025-07-14T01:57:10.439959Z"
    }
   },
   "id": "cd2acac44e2bdbab",
   "outputs": [
    {
     "data": {
      "text/plain": [
       "<tf.Tensor: shape=(), dtype=float32, numpy=9.943999>"
      ]
     },
     "execution_count": 48,
     "metadata": {},
     "output_type": "execute_result"
    }
   ],
   "execution_count": 48
  },
  {
   "cell_type": "code",
   "source": "# Calculate the mean square error\nmse = tf.metrics.mean_squared_error(y_true=y_test,\n                                    y_pred=tf.squeeze(y_pred))\nmse",
   "metadata": {
    "colab": {
     "base_uri": "https://localhost:8080/"
    },
    "id": "fe4b0fd576d35da1",
    "executionInfo": {
     "status": "ok",
     "timestamp": 1696076787598,
     "user_tz": -420,
     "elapsed": 700,
     "user": {
      "displayName": "kang sigit",
      "userId": "15887135570512197739"
     }
    },
    "outputId": "cc58b7f4-9bc0-49f0-e7f7-1d2fa4171ae7",
    "trusted": false,
    "ExecuteTime": {
     "end_time": "2025-07-14T01:57:01.961805Z",
     "start_time": "2025-07-14T01:57:10.502587Z"
    }
   },
   "id": "fe4b0fd576d35da1",
   "outputs": [
    {
     "data": {
      "text/plain": [
       "<tf.Tensor: shape=(), dtype=float32, numpy=106.07924>"
      ]
     },
     "execution_count": 49,
     "metadata": {},
     "output_type": "execute_result"
    }
   ],
   "execution_count": 49
  },
  {
   "cell_type": "code",
   "source": "# Make some functions to reuse MAE and MSE\ndef mae(y_true, y_pred):\n    return tf.metrics.mean_absolute_error(y_true=y_true,\n                                          y_pred=tf.squeeze(y_pred))\n\ndef mse(y_true, y_pred):\n    return tf.metrics.mean_squared_error(y_true=y_true,\n                                         y_pred=tf.squeeze(y_pred))",
   "metadata": {
    "id": "c6fceadbc41c29ae",
    "executionInfo": {
     "status": "ok",
     "timestamp": 1696076790743,
     "user_tz": -420,
     "elapsed": 675,
     "user": {
      "displayName": "kang sigit",
      "userId": "15887135570512197739"
     }
    },
    "trusted": false,
    "ExecuteTime": {
     "end_time": "2025-07-14T01:57:01.993875Z",
     "start_time": "2025-07-14T01:57:01.991542Z"
    }
   },
   "id": "c6fceadbc41c29ae",
   "outputs": [],
   "execution_count": 50
  },
  {
   "cell_type": "markdown",
   "source": "### Running experiments to improve our model\n\n```\nBuild a model -> fit it -> evaluate it -> tweak it -> fit it -> evaluate it -> tweak it -> fit it -> evaluate it ...\n```\n\n1. Get more data - get more examples for your model to train on (more opportunities to learn patterns or relationships between features and labels).\n2. Make your model larger (using a more complex model) - this might come in the form of more layers or more hidden units in each layer.\n3. Train for longger - give your model more of a chance to find patterns in the data.\n\nLet's do 3 modelling experiments:\n\n1. `model_1` - same as original model, 1 layer, trained for 100 epochs.\n2. `model_2` - 2 layers, trained for 100 epochs.\n3. `model_3` - 2 layers, trained for 500 epochs.\n\n**Build `model_1`**",
   "metadata": {
    "collapsed": false,
    "id": "b61006e52b76be84"
   },
   "id": "b61006e52b76be84"
  },
  {
   "cell_type": "code",
   "source": "# Set random seed\ntf.random.set_seed(42)\n\n# 1. Create the model\nmodel_1 = tf.keras.Sequential([\n    tf.keras.layers.Dense(1)\n])\n\n# 2. Compile the model\nmodel_1.compile(loss=tf.keras.losses.mae,\n                optimizer=tf.keras.optimizers.SGD(),\n                metrics=[\"mae\"])\n\n# 3. Fit the model\nmodel_1.fit(tf.expand_dims(X_train, axis=-1), y_train, epochs=100)",
   "metadata": {
    "colab": {
     "base_uri": "https://localhost:8080/"
    },
    "id": "722c58063f2b0200",
    "executionInfo": {
     "status": "ok",
     "timestamp": 1696076802171,
     "user_tz": -420,
     "elapsed": 5802,
     "user": {
      "displayName": "kang sigit",
      "userId": "15887135570512197739"
     }
    },
    "outputId": "96af9472-0736-414d-a002-0bf8741f4cd3",
    "trusted": false,
    "ExecuteTime": {
     "end_time": "2025-07-14T01:57:05.559034Z",
     "start_time": "2025-07-14T01:57:02.055054Z"
    }
   },
   "id": "722c58063f2b0200",
   "outputs": [
    {
     "name": "stdout",
     "output_type": "stream",
     "text": [
      "Epoch 1/100\n",
      "2/2 [==============================] - 0s 18ms/step - loss: 19.9792 - mae: 19.9792\n",
      "Epoch 2/100\n",
      "2/2 [==============================] - 0s 13ms/step - loss: 7.5441 - mae: 7.5441\n",
      "Epoch 3/100\n",
      "2/2 [==============================] - 0s 12ms/step - loss: 7.9722 - mae: 7.9722\n",
      "Epoch 4/100\n",
      "2/2 [==============================] - 0s 12ms/step - loss: 7.9592 - mae: 7.9592\n",
      "Epoch 5/100\n",
      "2/2 [==============================] - 0s 13ms/step - loss: 10.2102 - mae: 10.2102\n",
      "Epoch 6/100\n",
      "2/2 [==============================] - 0s 13ms/step - loss: 9.4675 - mae: 9.4675\n",
      "Epoch 7/100\n",
      "2/2 [==============================] - 0s 12ms/step - loss: 8.6014 - mae: 8.6014\n",
      "Epoch 8/100\n",
      "2/2 [==============================] - 0s 14ms/step - loss: 9.0458 - mae: 9.0458\n",
      "Epoch 9/100\n",
      "2/2 [==============================] - 0s 13ms/step - loss: 18.8311 - mae: 18.8311\n",
      "Epoch 10/100\n",
      "2/2 [==============================] - 0s 13ms/step - loss: 10.1577 - mae: 10.1577\n",
      "Epoch 11/100\n",
      "2/2 [==============================] - 0s 12ms/step - loss: 8.4144 - mae: 8.4144\n",
      "Epoch 12/100\n",
      "2/2 [==============================] - 0s 13ms/step - loss: 10.6985 - mae: 10.6985\n",
      "Epoch 13/100\n",
      "2/2 [==============================] - 0s 13ms/step - loss: 9.8109 - mae: 9.8109\n",
      "Epoch 14/100\n",
      "2/2 [==============================] - 0s 13ms/step - loss: 16.0950 - mae: 16.0950\n",
      "Epoch 15/100\n",
      "2/2 [==============================] - 0s 14ms/step - loss: 11.3392 - mae: 11.3392\n",
      "Epoch 16/100\n",
      "2/2 [==============================] - 0s 28ms/step - loss: 8.5584 - mae: 8.5584\n",
      "Epoch 17/100\n",
      "2/2 [==============================] - 0s 16ms/step - loss: 13.6798 - mae: 13.6798\n",
      "Epoch 18/100\n",
      "2/2 [==============================] - 0s 15ms/step - loss: 11.5195 - mae: 11.5195\n",
      "Epoch 19/100\n",
      "2/2 [==============================] - 0s 13ms/step - loss: 17.8447 - mae: 17.8447\n",
      "Epoch 20/100\n",
      "2/2 [==============================] - 0s 16ms/step - loss: 14.9798 - mae: 14.9798\n",
      "Epoch 21/100\n",
      "2/2 [==============================] - 0s 15ms/step - loss: 10.8564 - mae: 10.8564\n",
      "Epoch 22/100\n",
      "2/2 [==============================] - 0s 15ms/step - loss: 8.6087 - mae: 8.6087\n",
      "Epoch 23/100\n",
      "2/2 [==============================] - 0s 14ms/step - loss: 9.6970 - mae: 9.6970\n",
      "Epoch 24/100\n",
      "2/2 [==============================] - 0s 14ms/step - loss: 8.5827 - mae: 8.5827\n",
      "Epoch 25/100\n",
      "2/2 [==============================] - 0s 14ms/step - loss: 11.6066 - mae: 11.6066\n",
      "Epoch 26/100\n",
      "2/2 [==============================] - 0s 13ms/step - loss: 15.1167 - mae: 15.1167\n",
      "Epoch 27/100\n",
      "2/2 [==============================] - 0s 14ms/step - loss: 11.8660 - mae: 11.8660\n",
      "Epoch 28/100\n",
      "2/2 [==============================] - 0s 14ms/step - loss: 13.9057 - mae: 13.9057\n",
      "Epoch 29/100\n",
      "2/2 [==============================] - 0s 13ms/step - loss: 9.6013 - mae: 9.6013\n",
      "Epoch 30/100\n",
      "2/2 [==============================] - 0s 14ms/step - loss: 17.1561 - mae: 17.1561\n",
      "Epoch 31/100\n",
      "2/2 [==============================] - 0s 16ms/step - loss: 22.9005 - mae: 22.9005\n",
      "Epoch 32/100\n",
      "2/2 [==============================] - 0s 15ms/step - loss: 7.9124 - mae: 7.9124\n",
      "Epoch 33/100\n",
      "2/2 [==============================] - 0s 14ms/step - loss: 14.1145 - mae: 14.1145\n",
      "Epoch 34/100\n",
      "2/2 [==============================] - 0s 16ms/step - loss: 12.3553 - mae: 12.3553\n",
      "Epoch 35/100\n",
      "2/2 [==============================] - 0s 16ms/step - loss: 8.2641 - mae: 8.2641\n",
      "Epoch 36/100\n",
      "2/2 [==============================] - 0s 15ms/step - loss: 10.4887 - mae: 10.4887\n",
      "Epoch 37/100\n",
      "2/2 [==============================] - 0s 17ms/step - loss: 10.1319 - mae: 10.1319\n",
      "Epoch 38/100\n",
      "2/2 [==============================] - 0s 15ms/step - loss: 11.3320 - mae: 11.3320\n",
      "Epoch 39/100\n",
      "2/2 [==============================] - 0s 14ms/step - loss: 14.7369 - mae: 14.7369\n",
      "Epoch 40/100\n",
      "2/2 [==============================] - 0s 13ms/step - loss: 12.8673 - mae: 12.8673\n",
      "Epoch 41/100\n",
      "2/2 [==============================] - 0s 14ms/step - loss: 9.2550 - mae: 9.2550\n",
      "Epoch 42/100\n",
      "2/2 [==============================] - 0s 12ms/step - loss: 11.0105 - mae: 11.0105\n",
      "Epoch 43/100\n",
      "2/2 [==============================] - 0s 13ms/step - loss: 8.3321 - mae: 8.3321\n",
      "Epoch 44/100\n",
      "2/2 [==============================] - 0s 12ms/step - loss: 13.0637 - mae: 13.0637\n",
      "Epoch 45/100\n",
      "2/2 [==============================] - 0s 12ms/step - loss: 13.6557 - mae: 13.6557\n",
      "Epoch 46/100\n",
      "2/2 [==============================] - 0s 13ms/step - loss: 8.2724 - mae: 8.2724\n",
      "Epoch 47/100\n",
      "2/2 [==============================] - 0s 13ms/step - loss: 8.7284 - mae: 8.7284\n",
      "Epoch 48/100\n",
      "2/2 [==============================] - 0s 12ms/step - loss: 10.0310 - mae: 10.0310\n",
      "Epoch 49/100\n",
      "2/2 [==============================] - 0s 12ms/step - loss: 8.5136 - mae: 8.5136\n",
      "Epoch 50/100\n",
      "2/2 [==============================] - 0s 17ms/step - loss: 9.0207 - mae: 9.0207\n",
      "Epoch 51/100\n",
      "2/2 [==============================] - 0s 17ms/step - loss: 9.3732 - mae: 9.3732\n",
      "Epoch 52/100\n",
      "2/2 [==============================] - 0s 19ms/step - loss: 14.0278 - mae: 14.0278\n",
      "Epoch 53/100\n",
      "2/2 [==============================] - 0s 17ms/step - loss: 15.4143 - mae: 15.4143\n",
      "Epoch 54/100\n",
      "2/2 [==============================] - 0s 16ms/step - loss: 10.9133 - mae: 10.9133\n",
      "Epoch 55/100\n",
      "2/2 [==============================] - 0s 17ms/step - loss: 15.4480 - mae: 15.4480\n",
      "Epoch 56/100\n",
      "2/2 [==============================] - 0s 17ms/step - loss: 9.1372 - mae: 9.1372\n",
      "Epoch 57/100\n",
      "2/2 [==============================] - 0s 15ms/step - loss: 9.6835 - mae: 9.6835\n",
      "Epoch 58/100\n",
      "2/2 [==============================] - 0s 16ms/step - loss: 8.9927 - mae: 8.9927\n",
      "Epoch 59/100\n",
      "2/2 [==============================] - 0s 14ms/step - loss: 10.2206 - mae: 10.2206\n",
      "Epoch 60/100\n",
      "2/2 [==============================] - 0s 14ms/step - loss: 8.1736 - mae: 8.1736\n",
      "Epoch 61/100\n",
      "2/2 [==============================] - 0s 12ms/step - loss: 10.0510 - mae: 10.0510\n",
      "Epoch 62/100\n",
      "2/2 [==============================] - 0s 17ms/step - loss: 7.0308 - mae: 7.0308\n",
      "Epoch 63/100\n",
      "2/2 [==============================] - 0s 13ms/step - loss: 12.6895 - mae: 12.6895\n",
      "Epoch 64/100\n",
      "2/2 [==============================] - 0s 16ms/step - loss: 12.6366 - mae: 12.6366\n",
      "Epoch 65/100\n",
      "2/2 [==============================] - 0s 16ms/step - loss: 9.4500 - mae: 9.4500\n",
      "Epoch 66/100\n",
      "2/2 [==============================] - 0s 15ms/step - loss: 11.5265 - mae: 11.5265\n",
      "Epoch 67/100\n",
      "2/2 [==============================] - 0s 16ms/step - loss: 8.0267 - mae: 8.0267\n",
      "Epoch 68/100\n",
      "2/2 [==============================] - 0s 18ms/step - loss: 8.5579 - mae: 8.5579\n",
      "Epoch 69/100\n",
      "2/2 [==============================] - 0s 20ms/step - loss: 12.2380 - mae: 12.2380\n",
      "Epoch 70/100\n",
      "2/2 [==============================] - 0s 15ms/step - loss: 8.9448 - mae: 8.9448\n",
      "Epoch 71/100\n",
      "2/2 [==============================] - 0s 16ms/step - loss: 9.9192 - mae: 9.9192\n",
      "Epoch 72/100\n",
      "2/2 [==============================] - 0s 18ms/step - loss: 9.9602 - mae: 9.9602\n",
      "Epoch 73/100\n",
      "2/2 [==============================] - 0s 12ms/step - loss: 12.4206 - mae: 12.4206\n",
      "Epoch 74/100\n",
      "2/2 [==============================] - 0s 13ms/step - loss: 10.5857 - mae: 10.5857\n",
      "Epoch 75/100\n",
      "2/2 [==============================] - 0s 14ms/step - loss: 9.6183 - mae: 9.6183\n",
      "Epoch 76/100\n",
      "2/2 [==============================] - 0s 15ms/step - loss: 11.0809 - mae: 11.0809\n",
      "Epoch 77/100\n",
      "2/2 [==============================] - 0s 15ms/step - loss: 8.2677 - mae: 8.2677\n",
      "Epoch 78/100\n",
      "2/2 [==============================] - 0s 16ms/step - loss: 8.9515 - mae: 8.9515\n",
      "Epoch 79/100\n",
      "2/2 [==============================] - 0s 17ms/step - loss: 19.8086 - mae: 19.8086\n",
      "Epoch 80/100\n",
      "2/2 [==============================] - 0s 16ms/step - loss: 17.7973 - mae: 17.7973\n",
      "Epoch 81/100\n",
      "2/2 [==============================] - 0s 18ms/step - loss: 7.0826 - mae: 7.0826\n",
      "Epoch 82/100\n",
      "2/2 [==============================] - 0s 20ms/step - loss: 10.3943 - mae: 10.3943\n",
      "Epoch 83/100\n",
      "2/2 [==============================] - 0s 18ms/step - loss: 9.8156 - mae: 9.8156\n",
      "Epoch 84/100\n",
      "2/2 [==============================] - 0s 15ms/step - loss: 7.9386 - mae: 7.9386\n",
      "Epoch 85/100\n",
      "2/2 [==============================] - 0s 14ms/step - loss: 9.4512 - mae: 9.4512\n",
      "Epoch 86/100\n",
      "2/2 [==============================] - 0s 17ms/step - loss: 9.4948 - mae: 9.4948\n",
      "Epoch 87/100\n",
      "2/2 [==============================] - 0s 16ms/step - loss: 11.4441 - mae: 11.4441\n",
      "Epoch 88/100\n",
      "2/2 [==============================] - 0s 16ms/step - loss: 9.9417 - mae: 9.9417\n",
      "Epoch 89/100\n",
      "2/2 [==============================] - 0s 14ms/step - loss: 7.2485 - mae: 7.2485\n",
      "Epoch 90/100\n",
      "2/2 [==============================] - 0s 15ms/step - loss: 12.7042 - mae: 12.7042\n",
      "Epoch 91/100\n",
      "2/2 [==============================] - 0s 14ms/step - loss: 7.3116 - mae: 7.3116\n",
      "Epoch 92/100\n",
      "2/2 [==============================] - 0s 12ms/step - loss: 7.6757 - mae: 7.6757\n",
      "Epoch 93/100\n",
      "2/2 [==============================] - 0s 17ms/step - loss: 7.1131 - mae: 7.1131\n",
      "Epoch 94/100\n",
      "2/2 [==============================] - 0s 20ms/step - loss: 12.5505 - mae: 12.5505\n",
      "Epoch 95/100\n",
      "2/2 [==============================] - 0s 17ms/step - loss: 9.9253 - mae: 9.9253\n",
      "Epoch 96/100\n",
      "2/2 [==============================] - 0s 19ms/step - loss: 9.1311 - mae: 9.1311\n",
      "Epoch 97/100\n",
      "2/2 [==============================] - 0s 19ms/step - loss: 12.0707 - mae: 12.0707\n",
      "Epoch 98/100\n",
      "2/2 [==============================] - 0s 17ms/step - loss: 9.0718 - mae: 9.0718\n",
      "Epoch 99/100\n",
      "2/2 [==============================] - 0s 16ms/step - loss: 8.4906 - mae: 8.4906\n",
      "Epoch 100/100\n",
      "2/2 [==============================] - 0s 21ms/step - loss: 14.4453 - mae: 14.4453\n"
     ]
    },
    {
     "data": {
      "text/plain": [
       "<keras.src.callbacks.History at 0x7e42da609dd0>"
      ]
     },
     "execution_count": 51,
     "metadata": {},
     "output_type": "execute_result"
    }
   ],
   "execution_count": 51
  },
  {
   "cell_type": "code",
   "source": "# Make and plot predictions for model_1\ny_preds_1 = model_1.predict(X_test)\nplot_predictions(predictions=y_preds_1)",
   "metadata": {
    "colab": {
     "base_uri": "https://localhost:8080/",
     "height": 656
    },
    "id": "382f33287c6f7581",
    "executionInfo": {
     "status": "ok",
     "timestamp": 1696076818038,
     "user_tz": -420,
     "elapsed": 674,
     "user": {
      "displayName": "kang sigit",
      "userId": "15887135570512197739"
     }
    },
    "outputId": "ccf8fe91-0129-401c-a1c0-25bb427ce51c",
    "trusted": false,
    "ExecuteTime": {
     "end_time": "2025-07-14T01:57:05.804726Z",
     "start_time": "2025-07-14T01:57:05.585203Z"
    }
   },
   "id": "382f33287c6f7581",
   "outputs": [
    {
     "name": "stdout",
     "output_type": "stream",
     "text": [
      "WARNING:tensorflow:5 out of the last 5 calls to <function Model.make_predict_function.<locals>.predict_function at 0x7e42d8a54c20> triggered tf.function retracing. Tracing is expensive and the excessive number of tracings could be due to (1) creating @tf.function repeatedly in a loop, (2) passing tensors with different shapes, (3) passing Python objects instead of tensors. For (1), please define your @tf.function outside of the loop. For (2), @tf.function has reduce_retracing=True option that can avoid unnecessary retracing. For (3), please refer to https://www.tensorflow.org/guide/function#controlling_retracing and https://www.tensorflow.org/api_docs/python/tf/function for  more details.\n",
      "1/1 [==============================] - 0s 49ms/step\n"
     ]
    },
    {
     "data": {
      "text/plain": [
       "<Figure size 1000x700 with 1 Axes>"
      ],
      "image/png": "[encoded data removed]"
     },
     "metadata": {},
     "output_type": "display_data"
    }
   ],
   "execution_count": 52
  },
  {
   "cell_type": "code",
   "source": "tf.constant(y_preds_1), tf.squeeze(y_preds_1)",
   "metadata": {
    "colab": {
     "base_uri": "https://localhost:8080/"
    },
    "id": "d717b5c1f0b6405",
    "executionInfo": {
     "status": "ok",
     "timestamp": 1696076824537,
     "user_tz": -420,
     "elapsed": 618,
     "user": {
      "displayName": "kang sigit",
      "userId": "15887135570512197739"
     }
    },
    "outputId": "c4292f0f-6ede-4cbc-f6cc-5e32de1363fd",
    "trusted": false,
    "ExecuteTime": {
     "end_time": "2025-07-14T01:57:05.842746Z",
     "start_time": "2025-07-14T01:57:05.831471Z"
    }
   },
   "id": "d717b5c1f0b6405",
   "outputs": [
    {
     "data": {
      "text/plain": [
       "(<tf.Tensor: shape=(10, 1), dtype=float32, numpy=\n",
       " array([[44.44243 ],\n",
       "        [47.318176],\n",
       "        [50.193916],\n",
       "        [53.069664],\n",
       "        [55.94541 ],\n",
       "        [58.82116 ],\n",
       "        [61.6969  ],\n",
       "        [64.57265 ],\n",
       "        [67.448395],\n",
       "        [70.324135]], dtype=float32)>,\n",
       " <tf.Tensor: shape=(10,), dtype=float32, numpy=\n",
       " array([44.44243 , 47.318176, 50.193916, 53.069664, 55.94541 , 58.82116 ,\n",
       "        61.6969  , 64.57265 , 67.448395, 70.324135], dtype=float32)>)"
      ]
     },
     "execution_count": 53,
     "metadata": {},
     "output_type": "execute_result"
    }
   ],
   "execution_count": 53
  },
  {
   "cell_type": "code",
   "source": "# Calculate model_1 evaluation metrics\nmae_1 = mae(y_test, y_preds_1)\nmse_1 = mse(y_test, y_preds_1)\nmae_1, mse_1",
   "metadata": {
    "colab": {
     "base_uri": "https://localhost:8080/"
    },
    "id": "f00fe8d1a1017420",
    "executionInfo": {
     "status": "ok",
     "timestamp": 1696076828361,
     "user_tz": -420,
     "elapsed": 577,
     "user": {
      "displayName": "kang sigit",
      "userId": "15887135570512197739"
     }
    },
    "outputId": "636c597c-4cd6-45be-c773-f547bde4ca55",
    "trusted": false,
    "ExecuteTime": {
     "end_time": "2025-07-14T01:57:05.912998Z",
     "start_time": "2025-07-14T01:57:05.897749Z"
    }
   },
   "id": "f00fe8d1a1017420",
   "outputs": [
    {
     "data": {
      "text/plain": [
       "(<tf.Tensor: shape=(), dtype=float32, numpy=30.616718>,\n",
       " <tf.Tensor: shape=(), dtype=float32, numpy=947.811>)"
      ]
     },
     "execution_count": 54,
     "metadata": {},
     "output_type": "execute_result"
    }
   ],
   "execution_count": 54
  },
  {
   "cell_type": "markdown",
   "source": "**Build `model_2`**\n\n* 2 dense layers, trained for 100 epochs",
   "metadata": {
    "collapsed": false,
    "id": "ab30453e074532d3"
   },
   "id": "ab30453e074532d3"
  },
  {
   "cell_type": "code",
   "source": "# Set the random seed\ntf.random.set_seed(42)\n\n# 1. Create the model\nmodel_2 = tf.keras.Sequential([\n    tf.keras.layers.Dense(10),\n    tf.keras.layers.Dense(1)\n])\n\n# 2. Compile the model\nmodel_2.compile(loss=tf.keras.losses.mae,\n                optimizer=tf.keras.optimizers.SGD(),\n                metrics=[\"mae\"])\n\n# 3. Fit the model\nmodel_2.fit(tf.expand_dims(X_train, axis=-1), y_train, epochs=100)",
   "metadata": {
    "colab": {
     "base_uri": "https://localhost:8080/"
    },
    "id": "9acb465fd20c995c",
    "executionInfo": {
     "status": "ok",
     "timestamp": 1696076835059,
     "user_tz": -420,
     "elapsed": 3096,
     "user": {
      "displayName": "kang sigit",
      "userId": "15887135570512197739"
     }
    },
    "outputId": "51e23998-df47-4cb0-ad6f-52ab121a102c",
    "trusted": false,
    "ExecuteTime": {
     "end_time": "2025-07-14T01:57:09.026068Z",
     "start_time": "2025-07-14T01:57:05.959507Z"
    }
   },
   "id": "9acb465fd20c995c",
   "outputs": [
    {
     "name": "stdout",
     "output_type": "stream",
     "text": [
      "Epoch 1/100\n",
      "2/2 [==============================] - 0s 18ms/step - loss: 38.3911 - mae: 38.3911\n",
      "Epoch 2/100\n",
      "2/2 [==============================] - 0s 19ms/step - loss: 27.2541 - mae: 27.2541\n",
      "Epoch 3/100\n",
      "2/2 [==============================] - 0s 14ms/step - loss: 33.1084 - mae: 33.1084\n",
      "Epoch 4/100\n",
      "2/2 [==============================] - 0s 16ms/step - loss: 24.2179 - mae: 24.2179\n",
      "Epoch 5/100\n",
      "2/2 [==============================] - 0s 18ms/step - loss: 14.3936 - mae: 14.3936\n",
      "Epoch 6/100\n",
      "2/2 [==============================] - 0s 18ms/step - loss: 11.4904 - mae: 11.4904\n",
      "Epoch 7/100\n",
      "2/2 [==============================] - 0s 17ms/step - loss: 12.5308 - mae: 12.5308\n",
      "Epoch 8/100\n",
      "2/2 [==============================] - 0s 14ms/step - loss: 10.9911 - mae: 10.9911\n",
      "Epoch 9/100\n",
      "2/2 [==============================] - 0s 13ms/step - loss: 39.2366 - mae: 39.2366\n",
      "Epoch 10/100\n",
      "2/2 [==============================] - 0s 13ms/step - loss: 26.7897 - mae: 26.7897\n",
      "Epoch 11/100\n",
      "2/2 [==============================] - 0s 13ms/step - loss: 11.0398 - mae: 11.0398\n",
      "Epoch 12/100\n",
      "2/2 [==============================] - 0s 16ms/step - loss: 24.5417 - mae: 24.5417\n",
      "Epoch 13/100\n",
      "2/2 [==============================] - 0s 13ms/step - loss: 19.0479 - mae: 19.0479\n",
      "Epoch 14/100\n",
      "2/2 [==============================] - 0s 16ms/step - loss: 23.1945 - mae: 23.1945\n",
      "Epoch 15/100\n",
      "2/2 [==============================] - 0s 17ms/step - loss: 15.0930 - mae: 15.0930\n",
      "Epoch 16/100\n",
      "2/2 [==============================] - 0s 17ms/step - loss: 11.2782 - mae: 11.2782\n",
      "Epoch 17/100\n",
      "2/2 [==============================] - 0s 17ms/step - loss: 22.9528 - mae: 22.9528\n",
      "Epoch 18/100\n",
      "2/2 [==============================] - 0s 19ms/step - loss: 11.3244 - mae: 11.3244\n",
      "Epoch 19/100\n",
      "2/2 [==============================] - 0s 17ms/step - loss: 13.8888 - mae: 13.8888\n",
      "Epoch 20/100\n",
      "2/2 [==============================] - 0s 16ms/step - loss: 11.1732 - mae: 11.1732\n",
      "Epoch 21/100\n",
      "2/2 [==============================] - 0s 17ms/step - loss: 17.2070 - mae: 17.2070\n",
      "Epoch 22/100\n",
      "2/2 [==============================] - 0s 20ms/step - loss: 15.4449 - mae: 15.4449\n",
      "Epoch 23/100\n",
      "2/2 [==============================] - 0s 14ms/step - loss: 9.2385 - mae: 9.2385\n",
      "Epoch 24/100\n",
      "2/2 [==============================] - 0s 12ms/step - loss: 17.2869 - mae: 17.2869\n",
      "Epoch 25/100\n",
      "2/2 [==============================] - 0s 14ms/step - loss: 15.9521 - mae: 15.9521\n",
      "Epoch 26/100\n",
      "2/2 [==============================] - 0s 14ms/step - loss: 20.9667 - mae: 20.9667\n",
      "Epoch 27/100\n",
      "2/2 [==============================] - 0s 16ms/step - loss: 25.8813 - mae: 25.8813\n",
      "Epoch 28/100\n",
      "2/2 [==============================] - 0s 16ms/step - loss: 18.3895 - mae: 18.3895\n",
      "Epoch 29/100\n",
      "2/2 [==============================] - -9s 20ms/step - loss: 9.2346 - mae: 9.2346\n",
      "Epoch 30/100\n",
      "2/2 [==============================] - 0s 20ms/step - loss: 29.0051 - mae: 29.0051\n",
      "Epoch 31/100\n",
      "2/2 [==============================] - 0s 15ms/step - loss: 52.5240 - mae: 52.5240\n",
      "Epoch 32/100\n",
      "2/2 [==============================] - 0s 14ms/step - loss: 11.8885 - mae: 11.8885\n",
      "Epoch 33/100\n",
      "2/2 [==============================] - 0s 16ms/step - loss: 15.4636 - mae: 15.4636\n",
      "Epoch 34/100\n",
      "2/2 [==============================] - 0s 15ms/step - loss: 12.5704 - mae: 12.5704\n",
      "Epoch 35/100\n",
      "2/2 [==============================] - 0s 19ms/step - loss: 9.1821 - mae: 9.1821\n",
      "Epoch 36/100\n",
      "2/2 [==============================] - 0s 14ms/step - loss: 16.4435 - mae: 16.4435\n",
      "Epoch 37/100\n",
      "2/2 [==============================] - 0s 13ms/step - loss: 11.0891 - mae: 11.0891\n",
      "Epoch 38/100\n",
      "2/2 [==============================] - 0s 13ms/step - loss: 18.2194 - mae: 18.2194\n",
      "Epoch 39/100\n",
      "2/2 [==============================] - 0s 13ms/step - loss: 19.1500 - mae: 19.1500\n",
      "Epoch 40/100\n",
      "2/2 [==============================] - 0s 12ms/step - loss: 20.5221 - mae: 20.5221\n",
      "Epoch 41/100\n",
      "2/2 [==============================] - 0s 14ms/step - loss: 14.7881 - mae: 14.7881\n",
      "Epoch 42/100\n",
      "2/2 [==============================] - 0s 12ms/step - loss: 12.1887 - mae: 12.1887\n",
      "Epoch 43/100\n",
      "2/2 [==============================] - 0s 13ms/step - loss: 10.6852 - mae: 10.6852\n",
      "Epoch 44/100\n",
      "2/2 [==============================] - 0s 13ms/step - loss: 32.2575 - mae: 32.2575\n",
      "Epoch 45/100\n",
      "2/2 [==============================] - 0s 13ms/step - loss: 12.4583 - mae: 12.4583\n",
      "Epoch 46/100\n",
      "2/2 [==============================] - 0s 13ms/step - loss: 17.5094 - mae: 17.5094\n",
      "Epoch 47/100\n",
      "2/2 [==============================] - 0s 15ms/step - loss: 15.7539 - mae: 15.7539\n",
      "Epoch 48/100\n",
      "2/2 [==============================] - 0s 14ms/step - loss: 8.3711 - mae: 8.3711\n",
      "Epoch 49/100\n",
      "2/2 [==============================] - 0s 15ms/step - loss: 13.9807 - mae: 13.9807\n",
      "Epoch 50/100\n",
      "2/2 [==============================] - 0s 16ms/step - loss: 12.8237 - mae: 12.8237\n",
      "Epoch 51/100\n",
      "2/2 [==============================] - 0s 17ms/step - loss: 14.8331 - mae: 14.8331\n",
      "Epoch 52/100\n",
      "2/2 [==============================] - 0s 18ms/step - loss: 18.7183 - mae: 18.7183\n",
      "Epoch 53/100\n",
      "2/2 [==============================] - 0s 18ms/step - loss: 24.1657 - mae: 24.1657\n",
      "Epoch 54/100\n",
      "2/2 [==============================] - 0s 16ms/step - loss: 23.1838 - mae: 23.1838\n",
      "Epoch 55/100\n",
      "2/2 [==============================] - 0s 16ms/step - loss: 24.0362 - mae: 24.0362\n",
      "Epoch 56/100\n",
      "2/2 [==============================] - 0s 17ms/step - loss: 11.1559 - mae: 11.1559\n",
      "Epoch 57/100\n",
      "2/2 [==============================] - 0s 16ms/step - loss: 13.1128 - mae: 13.1128\n",
      "Epoch 58/100\n",
      "2/2 [==============================] - 0s 17ms/step - loss: 9.8071 - mae: 9.8071\n",
      "Epoch 59/100\n",
      "2/2 [==============================] - 0s 17ms/step - loss: 13.3047 - mae: 13.3047\n",
      "Epoch 60/100\n",
      "2/2 [==============================] - 0s 18ms/step - loss: 10.8672 - mae: 10.8672\n",
      "Epoch 61/100\n",
      "2/2 [==============================] - 0s 13ms/step - loss: 13.4726 - mae: 13.4726\n",
      "Epoch 62/100\n",
      "2/2 [==============================] - 0s 13ms/step - loss: 17.5120 - mae: 17.5120\n",
      "Epoch 63/100\n",
      "2/2 [==============================] - 0s 14ms/step - loss: 9.1566 - mae: 9.1566\n",
      "Epoch 64/100\n",
      "2/2 [==============================] - 0s 14ms/step - loss: 18.3857 - mae: 18.3857\n",
      "Epoch 65/100\n",
      "2/2 [==============================] - 0s 12ms/step - loss: 10.1127 - mae: 10.1127\n",
      "Epoch 66/100\n",
      "2/2 [==============================] - 0s 14ms/step - loss: 24.2562 - mae: 24.2562\n",
      "Epoch 67/100\n",
      "2/2 [==============================] - 0s 13ms/step - loss: 10.8837 - mae: 10.8837\n",
      "Epoch 68/100\n",
      "2/2 [==============================] - 0s 12ms/step - loss: 10.7659 - mae: 10.7659\n",
      "Epoch 69/100\n",
      "2/2 [==============================] - 0s 13ms/step - loss: 23.2516 - mae: 23.2516\n",
      "Epoch 70/100\n",
      "2/2 [==============================] - 0s 13ms/step - loss: 8.8112 - mae: 8.8112\n",
      "Epoch 71/100\n",
      "2/2 [==============================] - 0s 13ms/step - loss: 15.9764 - mae: 15.9764\n",
      "Epoch 72/100\n",
      "2/2 [==============================] - 0s 13ms/step - loss: 8.1356 - mae: 8.1356\n",
      "Epoch 73/100\n",
      "2/2 [==============================] - 0s 13ms/step - loss: 9.4620 - mae: 9.4620\n",
      "Epoch 74/100\n",
      "2/2 [==============================] - 0s 12ms/step - loss: 28.1534 - mae: 28.1534\n",
      "Epoch 75/100\n",
      "2/2 [==============================] - 0s 13ms/step - loss: 10.1945 - mae: 10.1945\n",
      "Epoch 76/100\n",
      "2/2 [==============================] - 0s 12ms/step - loss: 13.1455 - mae: 13.1455\n",
      "Epoch 77/100\n",
      "2/2 [==============================] - 0s 12ms/step - loss: 18.3984 - mae: 18.3984\n",
      "Epoch 78/100\n",
      "2/2 [==============================] - 0s 12ms/step - loss: 9.0112 - mae: 9.0112\n",
      "Epoch 79/100\n",
      "2/2 [==============================] - 0s 12ms/step - loss: 23.4533 - mae: 23.4533\n",
      "Epoch 80/100\n",
      "2/2 [==============================] - 0s 12ms/step - loss: 26.1268 - mae: 26.1268\n",
      "Epoch 81/100\n",
      "2/2 [==============================] - 0s 13ms/step - loss: 11.3913 - mae: 11.3913\n",
      "Epoch 82/100\n",
      "2/2 [==============================] - 0s 18ms/step - loss: 12.4875 - mae: 12.4875\n",
      "Epoch 83/100\n",
      "2/2 [==============================] - 0s 12ms/step - loss: 17.1716 - mae: 17.1716\n",
      "Epoch 84/100\n",
      "2/2 [==============================] - 0s 14ms/step - loss: 6.5855 - mae: 6.5855\n",
      "Epoch 85/100\n",
      "2/2 [==============================] - 0s 13ms/step - loss: 20.3151 - mae: 20.3151\n",
      "Epoch 86/100\n",
      "2/2 [==============================] - 0s 12ms/step - loss: 10.1661 - mae: 10.1661\n",
      "Epoch 87/100\n",
      "2/2 [==============================] - 0s 14ms/step - loss: 24.3639 - mae: 24.3639\n",
      "Epoch 88/100\n",
      "2/2 [==============================] - 0s 13ms/step - loss: 19.0283 - mae: 19.0283\n",
      "Epoch 89/100\n",
      "2/2 [==============================] - 0s 14ms/step - loss: 7.1588 - mae: 7.1588\n",
      "Epoch 90/100\n",
      "2/2 [==============================] - 0s 12ms/step - loss: 18.2464 - mae: 18.2464\n",
      "Epoch 91/100\n",
      "2/2 [==============================] - 0s 13ms/step - loss: 13.2955 - mae: 13.2955\n",
      "Epoch 92/100\n",
      "2/2 [==============================] - 0s 13ms/step - loss: 14.8415 - mae: 14.8415\n",
      "Epoch 93/100\n",
      "2/2 [==============================] - 0s 13ms/step - loss: 11.6369 - mae: 11.6369\n",
      "Epoch 94/100\n",
      "2/2 [==============================] - 0s 13ms/step - loss: 16.1930 - mae: 16.1930\n",
      "Epoch 95/100\n",
      "2/2 [==============================] - 0s 14ms/step - loss: 15.5349 - mae: 15.5349\n",
      "Epoch 96/100\n",
      "2/2 [==============================] - 0s 12ms/step - loss: 15.0672 - mae: 15.0672\n",
      "Epoch 97/100\n",
      "2/2 [==============================] - 0s 12ms/step - loss: 10.8969 - mae: 10.8969\n",
      "Epoch 98/100\n",
      "2/2 [==============================] - 0s 13ms/step - loss: 14.3565 - mae: 14.3565\n",
      "Epoch 99/100\n",
      "2/2 [==============================] - 0s 12ms/step - loss: 13.3762 - mae: 13.3762\n",
      "Epoch 100/100\n",
      "2/2 [==============================] - 0s 12ms/step - loss: 19.9906 - mae: 19.9906\n"
     ]
    },
    {
     "data": {
      "text/plain": [
       "<keras.src.callbacks.History at 0x7e42dbd9db10>"
      ]
     },
     "execution_count": 55,
     "metadata": {},
     "output_type": "execute_result"
    }
   ],
   "execution_count": 55
  },
  {
   "cell_type": "code",
   "source": "# Make and plot predictions of model_2\ny_preds_2 = model_2.predict(X_test)\nplot_predictions(predictions=y_preds_2)",
   "metadata": {
    "colab": {
     "base_uri": "https://localhost:8080/",
     "height": 656
    },
    "id": "1734489efbd4fb4e",
    "executionInfo": {
     "status": "ok",
     "timestamp": 1696076839093,
     "user_tz": -420,
     "elapsed": 22,
     "user": {
      "displayName": "kang sigit",
      "userId": "15887135570512197739"
     }
    },
    "outputId": "d02300c6-dceb-4b21-cb6f-445de699ad4f",
    "trusted": false,
    "ExecuteTime": {
     "end_time": "2025-07-14T01:57:09.265518Z",
     "start_time": "2025-07-14T01:57:09.059361Z"
    }
   },
   "id": "1734489efbd4fb4e",
   "outputs": [
    {
     "name": "stdout",
     "output_type": "stream",
     "text": [
      "WARNING:tensorflow:6 out of the last 6 calls to <function Model.make_predict_function.<locals>.predict_function at 0x7e42dbc90180> triggered tf.function retracing. Tracing is expensive and the excessive number of tracings could be due to (1) creating @tf.function repeatedly in a loop, (2) passing tensors with different shapes, (3) passing Python objects instead of tensors. For (1), please define your @tf.function outside of the loop. For (2), @tf.function has reduce_retracing=True option that can avoid unnecessary retracing. For (3), please refer to https://www.tensorflow.org/guide/function#controlling_retracing and https://www.tensorflow.org/api_docs/python/tf/function for  more details.\n",
      "1/1 [==============================] - 0s 43ms/step\n"
     ]
    },
    {
     "data": {
      "text/plain": [
       "<Figure size 1000x700 with 1 Axes>"
      ],
      "image/png": "[encoded data removed]"
     },
     "metadata": {},
     "output_type": "display_data"
    }
   ],
   "execution_count": 56
  },
  {
   "cell_type": "code",
   "source": "# Calculate model_2 evaluation metrics\nmae_2 = mae(y_test, y_preds_2)\nmse_2 = mse(y_test, y_preds_2)\nmae_2, mse_2",
   "metadata": {
    "colab": {
     "base_uri": "https://localhost:8080/"
    },
    "id": "c1a1bfe80b2973d1",
    "executionInfo": {
     "status": "ok",
     "timestamp": 1696076843791,
     "user_tz": -420,
     "elapsed": 11,
     "user": {
      "displayName": "kang sigit",
      "userId": "15887135570512197739"
     }
    },
    "outputId": "b1dbc06c-a856-4769-e57a-66b0e8c780ae",
    "trusted": false,
    "ExecuteTime": {
     "end_time": "2025-07-14T01:57:09.298808Z",
     "start_time": "2025-07-14T01:57:09.286011Z"
    }
   },
   "id": "c1a1bfe80b2973d1",
   "outputs": [
    {
     "data": {
      "text/plain": [
       "(<tf.Tensor: shape=(), dtype=float32, numpy=29.712189>,\n",
       " <tf.Tensor: shape=(), dtype=float32, numpy=913.9209>)"
      ]
     },
     "execution_count": 57,
     "metadata": {},
     "output_type": "execute_result"
    }
   ],
   "execution_count": 57
  },
  {
   "cell_type": "markdown",
   "source": "**Build `model_3`**\n\n* 2 dense layers, trained for 500 epochs",
   "metadata": {
    "collapsed": false,
    "id": "e429d78109168242"
   },
   "id": "e429d78109168242"
  },
  {
   "cell_type": "code",
   "source": "# Set the random seed\ntf.random.set_seed(42)\n\n# 1. Create the model\nmodel_3 = tf.keras.Sequential([\n    tf.keras.layers.Dense(10),\n    tf.keras.layers.Dense(1)\n])\n\n# 2. Compile the model\nmodel_3.compile(loss=tf.keras.losses.mae,\n                optimizer=tf.keras.optimizers.SGD(),\n                metrics=[\"mae\"])\n\n# 3. Fit the model\nmodel_3.fit(tf.expand_dims(X_train, axis=-1), y_train, epochs=500)",
   "metadata": {
    "colab": {
     "base_uri": "https://localhost:8080/"
    },
    "id": "63aa0519b7419682",
    "executionInfo": {
     "status": "ok",
     "timestamp": 1696076859418,
     "user_tz": -420,
     "elapsed": 12407,
     "user": {
      "displayName": "kang sigit",
      "userId": "15887135570512197739"
     }
    },
    "outputId": "b505caf8-a0f1-424c-d542-7479ae153a19",
    "trusted": false,
    "ExecuteTime": {
     "end_time": "2025-07-14T01:57:25.785539Z",
     "start_time": "2025-07-14T01:57:09.346698Z"
    }
   },
   "id": "63aa0519b7419682",
   "outputs": [
    {
     "name": "stdout",
     "output_type": "stream",
     "text": [
      "Epoch 1/500\n",
      "2/2 [==============================] - 0s 16ms/step - loss: 69.3080 - mae: 69.3080\n",
      "Epoch 2/500\n",
      "2/2 [==============================] - 0s 12ms/step - loss: 34.0218 - mae: 34.0218\n",
      "Epoch 3/500\n",
      "2/2 [==============================] - 0s 13ms/step - loss: 36.5777 - mae: 36.5777\n",
      "Epoch 4/500\n",
      "2/2 [==============================] - 0s 13ms/step - loss: 18.3089 - mae: 18.3089\n",
      "Epoch 5/500\n",
      "2/2 [==============================] - 0s 12ms/step - loss: 23.5192 - mae: 23.5192\n",
      "Epoch 6/500\n",
      "2/2 [==============================] - 0s 13ms/step - loss: 12.2740 - mae: 12.2740\n",
      "Epoch 7/500\n",
      "2/2 [==============================] - 0s 12ms/step - loss: 13.8796 - mae: 13.8796\n",
      "Epoch 8/500\n",
      "2/2 [==============================] - 0s 13ms/step - loss: 13.2055 - mae: 13.2055\n",
      "Epoch 9/500\n",
      "2/2 [==============================] - 0s 13ms/step - loss: 35.1226 - mae: 35.1226\n",
      "Epoch 10/500\n",
      "2/2 [==============================] - 0s 12ms/step - loss: 24.4511 - mae: 24.4511\n",
      "Epoch 11/500\n",
      "2/2 [==============================] - 0s 12ms/step - loss: 11.8284 - mae: 11.8284\n",
      "Epoch 12/500\n",
      "2/2 [==============================] - 0s 14ms/step - loss: 23.6452 - mae: 23.6452\n",
      "Epoch 13/500\n",
      "2/2 [==============================] - 0s 12ms/step - loss: 21.3029 - mae: 21.3029\n",
      "Epoch 14/500\n",
      "2/2 [==============================] - 0s 14ms/step - loss: 23.7919 - mae: 23.7919\n",
      "Epoch 15/500\n",
      "2/2 [==============================] - 0s 14ms/step - loss: 15.8354 - mae: 15.8354\n",
      "Epoch 16/500\n",
      "2/2 [==============================] - 0s 12ms/step - loss: 10.4664 - mae: 10.4664\n",
      "Epoch 17/500\n",
      "2/2 [==============================] - 0s 12ms/step - loss: 19.7591 - mae: 19.7591\n",
      "Epoch 18/500\n",
      "2/2 [==============================] - 0s 11ms/step - loss: 13.3685 - mae: 13.3685\n",
      "Epoch 19/500\n",
      "2/2 [==============================] - 0s 16ms/step - loss: 16.3798 - mae: 16.3798\n",
      "Epoch 20/500\n",
      "2/2 [==============================] - 0s 12ms/step - loss: 8.2584 - mae: 8.2584\n",
      "Epoch 21/500\n",
      "2/2 [==============================] - 0s 12ms/step - loss: 14.4655 - mae: 14.4655\n",
      "Epoch 22/500\n",
      "2/2 [==============================] - 0s 13ms/step - loss: 12.8822 - mae: 12.8822\n",
      "Epoch 23/500\n",
      "2/2 [==============================] - 0s 19ms/step - loss: 15.5177 - mae: 15.5177\n",
      "Epoch 24/500\n",
      "2/2 [==============================] - 0s 16ms/step - loss: 15.3078 - mae: 15.3078\n",
      "Epoch 25/500\n",
      "2/2 [==============================] - 0s 14ms/step - loss: 14.3705 - mae: 14.3705\n",
      "Epoch 26/500\n",
      "2/2 [==============================] - 0s 17ms/step - loss: 19.3958 - mae: 19.3958\n",
      "Epoch 27/500\n",
      "2/2 [==============================] - 0s 17ms/step - loss: 11.4359 - mae: 11.4359\n",
      "Epoch 28/500\n",
      "2/2 [==============================] - 0s 18ms/step - loss: 28.9351 - mae: 28.9351\n",
      "Epoch 29/500\n",
      "2/2 [==============================] - 0s 17ms/step - loss: 9.2582 - mae: 9.2582\n",
      "Epoch 30/500\n",
      "2/2 [==============================] - 0s 17ms/step - loss: 29.7017 - mae: 29.7017\n",
      "Epoch 31/500\n",
      "2/2 [==============================] - 0s 16ms/step - loss: 53.8774 - mae: 53.8774\n",
      "Epoch 32/500\n",
      "2/2 [==============================] - 0s 15ms/step - loss: 9.5474 - mae: 9.5474\n",
      "Epoch 33/500\n",
      "2/2 [==============================] - 0s 19ms/step - loss: 12.1335 - mae: 12.1335\n",
      "Epoch 34/500\n",
      "2/2 [==============================] - 0s 14ms/step - loss: 23.7391 - mae: 23.7391\n",
      "Epoch 35/500\n",
      "2/2 [==============================] - 0s 18ms/step - loss: 12.6537 - mae: 12.6537\n",
      "Epoch 36/500\n",
      "2/2 [==============================] - 0s 13ms/step - loss: 21.5937 - mae: 21.5937\n",
      "Epoch 37/500\n",
      "2/2 [==============================] - 0s 15ms/step - loss: 11.3346 - mae: 11.3346\n",
      "Epoch 38/500\n",
      "2/2 [==============================] - 0s 13ms/step - loss: 13.3789 - mae: 13.3789\n",
      "Epoch 39/500\n",
      "2/2 [==============================] - 0s 18ms/step - loss: 10.7535 - mae: 10.7535\n",
      "Epoch 40/500\n",
      "2/2 [==============================] - 0s 15ms/step - loss: 16.1853 - mae: 16.1853\n",
      "Epoch 41/500\n",
      "2/2 [==============================] - 0s 18ms/step - loss: 12.1921 - mae: 12.1921\n",
      "Epoch 42/500\n",
      "2/2 [==============================] - 0s 17ms/step - loss: 10.2245 - mae: 10.2245\n",
      "Epoch 43/500\n",
      "2/2 [==============================] - 0s 16ms/step - loss: 9.9026 - mae: 9.9026\n",
      "Epoch 44/500\n",
      "2/2 [==============================] - 0s 16ms/step - loss: 31.5582 - mae: 31.5582\n",
      "Epoch 45/500\n",
      "2/2 [==============================] - 0s 17ms/step - loss: 12.2778 - mae: 12.2778\n",
      "Epoch 46/500\n",
      "2/2 [==============================] - 0s 17ms/step - loss: 16.9659 - mae: 16.9659\n",
      "Epoch 47/500\n",
      "2/2 [==============================] - 0s 16ms/step - loss: 15.9597 - mae: 15.9597\n",
      "Epoch 48/500\n",
      "2/2 [==============================] - 0s 16ms/step - loss: 8.8964 - mae: 8.8964\n",
      "Epoch 49/500\n",
      "2/2 [==============================] - 0s 16ms/step - loss: 13.4205 - mae: 13.4205\n",
      "Epoch 50/500\n",
      "2/2 [==============================] - 0s 16ms/step - loss: 14.9643 - mae: 14.9643\n",
      "Epoch 51/500\n",
      "2/2 [==============================] - 0s 18ms/step - loss: 13.5414 - mae: 13.5414\n",
      "Epoch 52/500\n",
      "2/2 [==============================] - 0s 13ms/step - loss: 17.9825 - mae: 17.9825\n",
      "Epoch 53/500\n",
      "2/2 [==============================] - 0s 18ms/step - loss: 22.4797 - mae: 22.4797\n",
      "Epoch 54/500\n",
      "2/2 [==============================] - 0s 15ms/step - loss: 27.5129 - mae: 27.5129\n",
      "Epoch 55/500\n",
      "2/2 [==============================] - 0s 15ms/step - loss: 27.2346 - mae: 27.2346\n",
      "Epoch 56/500\n",
      "2/2 [==============================] - 0s 19ms/step - loss: 11.6053 - mae: 11.6053\n",
      "Epoch 57/500\n",
      "2/2 [==============================] - 0s 17ms/step - loss: 13.7132 - mae: 13.7132\n",
      "Epoch 58/500\n",
      "2/2 [==============================] - 0s 18ms/step - loss: 10.1494 - mae: 10.1494\n",
      "Epoch 59/500\n",
      "2/2 [==============================] - 0s 17ms/step - loss: 14.6695 - mae: 14.6695\n",
      "Epoch 60/500\n",
      "2/2 [==============================] - 0s 17ms/step - loss: 10.0910 - mae: 10.0910\n",
      "Epoch 61/500\n",
      "2/2 [==============================] - 0s 14ms/step - loss: 15.1763 - mae: 15.1763\n",
      "Epoch 62/500\n",
      "2/2 [==============================] - 0s 19ms/step - loss: 12.0633 - mae: 12.0633\n",
      "Epoch 63/500\n",
      "2/2 [==============================] - 0s 17ms/step - loss: 10.3686 - mae: 10.3686\n",
      "Epoch 64/500\n",
      "2/2 [==============================] - 0s 16ms/step - loss: 24.2095 - mae: 24.2095\n",
      "Epoch 65/500\n",
      "2/2 [==============================] - 0s 13ms/step - loss: 10.5483 - mae: 10.5483\n",
      "Epoch 66/500\n",
      "2/2 [==============================] - 0s 13ms/step - loss: 21.2169 - mae: 21.2169\n",
      "Epoch 67/500\n",
      "2/2 [==============================] - 0s 14ms/step - loss: 10.5427 - mae: 10.5427\n",
      "Epoch 68/500\n",
      "2/2 [==============================] - 0s 15ms/step - loss: 14.3781 - mae: 14.3781\n",
      "Epoch 69/500\n",
      "2/2 [==============================] - 0s 13ms/step - loss: 10.6300 - mae: 10.6300\n",
      "Epoch 70/500\n",
      "2/2 [==============================] - 8s 14ms/step - loss: 12.7147 - mae: 12.7147\n",
      "Epoch 71/500\n",
      "2/2 [==============================] - 0s 14ms/step - loss: 13.1394 - mae: 13.1394\n",
      "Epoch 72/500\n",
      "2/2 [==============================] - 0s 14ms/step - loss: 19.6184 - mae: 19.6184\n",
      "Epoch 73/500\n",
      "2/2 [==============================] - 0s 13ms/step - loss: 11.2078 - mae: 11.2078\n",
      "Epoch 74/500\n",
      "2/2 [==============================] - 0s 14ms/step - loss: 21.8848 - mae: 21.8848\n",
      "Epoch 75/500\n",
      "2/2 [==============================] - 0s 16ms/step - loss: 7.2143 - mae: 7.2143\n",
      "Epoch 76/500\n",
      "2/2 [==============================] - 0s 14ms/step - loss: 9.4310 - mae: 9.4310\n",
      "Epoch 77/500\n",
      "2/2 [==============================] - 0s 17ms/step - loss: 22.0663 - mae: 22.0663\n",
      "Epoch 78/500\n",
      "2/2 [==============================] - 0s 19ms/step - loss: 17.6700 - mae: 17.6700\n",
      "Epoch 79/500\n",
      "2/2 [==============================] - 0s 13ms/step - loss: 14.8493 - mae: 14.8493\n",
      "Epoch 80/500\n",
      "2/2 [==============================] - 0s 18ms/step - loss: 25.1423 - mae: 25.1423\n",
      "Epoch 81/500\n",
      "2/2 [==============================] - 0s 18ms/step - loss: 10.9271 - mae: 10.9271\n",
      "Epoch 82/500\n",
      "2/2 [==============================] - 0s 17ms/step - loss: 12.7600 - mae: 12.7600\n",
      "Epoch 83/500\n",
      "2/2 [==============================] - 0s 15ms/step - loss: 17.5384 - mae: 17.5384\n",
      "Epoch 84/500\n",
      "2/2 [==============================] - 0s 15ms/step - loss: 7.3044 - mae: 7.3044\n",
      "Epoch 85/500\n",
      "2/2 [==============================] - 0s 15ms/step - loss: 15.0589 - mae: 15.0589\n",
      "Epoch 86/500\n",
      "2/2 [==============================] - 0s 13ms/step - loss: 15.3636 - mae: 15.3636\n",
      "Epoch 87/500\n",
      "2/2 [==============================] - 0s 17ms/step - loss: 19.2546 - mae: 19.2546\n",
      "Epoch 88/500\n",
      "2/2 [==============================] - 0s 17ms/step - loss: 29.4481 - mae: 29.4481\n",
      "Epoch 89/500\n",
      "2/2 [==============================] - 0s 17ms/step - loss: 10.1405 - mae: 10.1405\n",
      "Epoch 90/500\n",
      "2/2 [==============================] - 0s 16ms/step - loss: 21.2106 - mae: 21.2106\n",
      "Epoch 91/500\n",
      "2/2 [==============================] - 0s 18ms/step - loss: 10.5157 - mae: 10.5157\n",
      "Epoch 92/500\n",
      "2/2 [==============================] - 0s 17ms/step - loss: 18.1132 - mae: 18.1132\n",
      "Epoch 93/500\n",
      "2/2 [==============================] - 0s 16ms/step - loss: 6.5626 - mae: 6.5626\n",
      "Epoch 94/500\n",
      "2/2 [==============================] - 0s 17ms/step - loss: 11.1705 - mae: 11.1705\n",
      "Epoch 95/500\n",
      "2/2 [==============================] - 0s 17ms/step - loss: 24.5269 - mae: 24.5269\n",
      "Epoch 96/500\n",
      "2/2 [==============================] - 0s 18ms/step - loss: 10.7792 - mae: 10.7792\n",
      "Epoch 97/500\n",
      "2/2 [==============================] - 0s 16ms/step - loss: 15.4653 - mae: 15.4653\n",
      "Epoch 98/500\n",
      "2/2 [==============================] - 0s 17ms/step - loss: 9.0450 - mae: 9.0450\n",
      "Epoch 99/500\n",
      "2/2 [==============================] - 0s 14ms/step - loss: 10.8656 - mae: 10.8656\n",
      "Epoch 100/500\n",
      "2/2 [==============================] - 0s 14ms/step - loss: 27.0307 - mae: 27.0307\n",
      "Epoch 101/500\n",
      "2/2 [==============================] - 0s 12ms/step - loss: 15.0263 - mae: 15.0263\n",
      "Epoch 102/500\n",
      "2/2 [==============================] - 0s 14ms/step - loss: 10.6250 - mae: 10.6250\n",
      "Epoch 103/500\n",
      "2/2 [==============================] - 0s 14ms/step - loss: 9.1298 - mae: 9.1298\n",
      "Epoch 104/500\n",
      "2/2 [==============================] - 0s 14ms/step - loss: 23.4634 - mae: 23.4634\n",
      "Epoch 105/500\n",
      "2/2 [==============================] - 0s 13ms/step - loss: 10.7289 - mae: 10.7289\n",
      "Epoch 106/500\n",
      "2/2 [==============================] - 0s 18ms/step - loss: 11.1918 - mae: 11.1918\n",
      "Epoch 107/500\n",
      "2/2 [==============================] - 0s 15ms/step - loss: 21.0176 - mae: 21.0176\n",
      "Epoch 108/500\n",
      "2/2 [==============================] - 0s 16ms/step - loss: 6.3316 - mae: 6.3316\n",
      "Epoch 109/500\n",
      "2/2 [==============================] - 0s 15ms/step - loss: 10.5053 - mae: 10.5053\n",
      "Epoch 110/500\n",
      "2/2 [==============================] - 0s 16ms/step - loss: 10.4651 - mae: 10.4651\n",
      "Epoch 111/500\n",
      "2/2 [==============================] - 0s 15ms/step - loss: 16.5422 - mae: 16.5422\n",
      "Epoch 112/500\n",
      "2/2 [==============================] - 0s 14ms/step - loss: 9.4677 - mae: 9.4677\n",
      "Epoch 113/500\n",
      "2/2 [==============================] - 0s 15ms/step - loss: 17.4102 - mae: 17.4102\n",
      "Epoch 114/500\n",
      "2/2 [==============================] - 0s 16ms/step - loss: 16.7801 - mae: 16.7801\n",
      "Epoch 115/500\n",
      "2/2 [==============================] - 0s 17ms/step - loss: 10.9929 - mae: 10.9929\n",
      "Epoch 116/500\n",
      "2/2 [==============================] - 0s 16ms/step - loss: 22.7716 - mae: 22.7716\n",
      "Epoch 117/500\n",
      "2/2 [==============================] - 0s 17ms/step - loss: 9.4599 - mae: 9.4599\n",
      "Epoch 118/500\n",
      "2/2 [==============================] - 0s 15ms/step - loss: 10.5056 - mae: 10.5056\n",
      "Epoch 119/500\n",
      "2/2 [==============================] - 0s 18ms/step - loss: 8.0263 - mae: 8.0263\n",
      "Epoch 120/500\n",
      "2/2 [==============================] - 0s 13ms/step - loss: 38.3359 - mae: 38.3359\n",
      "Epoch 121/500\n",
      "2/2 [==============================] - 0s 14ms/step - loss: 11.3898 - mae: 11.3898\n",
      "Epoch 122/500\n",
      "2/2 [==============================] - 0s 12ms/step - loss: 25.5662 - mae: 25.5662\n",
      "Epoch 123/500\n",
      "2/2 [==============================] - 0s 16ms/step - loss: 29.5144 - mae: 29.5144\n",
      "Epoch 124/500\n",
      "2/2 [==============================] - 0s 16ms/step - loss: 16.9515 - mae: 16.9515\n",
      "Epoch 125/500\n",
      "2/2 [==============================] - 0s 15ms/step - loss: 9.4418 - mae: 9.4418\n",
      "Epoch 126/500\n",
      "2/2 [==============================] - 0s 19ms/step - loss: 9.5304 - mae: 9.5304\n",
      "Epoch 127/500\n",
      "2/2 [==============================] - 0s 16ms/step - loss: 12.2147 - mae: 12.2147\n",
      "Epoch 128/500\n",
      "2/2 [==============================] - 0s 14ms/step - loss: 15.2139 - mae: 15.2139\n",
      "Epoch 129/500\n",
      "2/2 [==============================] - 0s 16ms/step - loss: 9.6118 - mae: 9.6118\n",
      "Epoch 130/500\n",
      "2/2 [==============================] - 0s 16ms/step - loss: 20.5934 - mae: 20.5934\n",
      "Epoch 131/500\n",
      "2/2 [==============================] - 0s 18ms/step - loss: 9.3158 - mae: 9.3158\n",
      "Epoch 132/500\n",
      "2/2 [==============================] - 0s 12ms/step - loss: 16.6595 - mae: 16.6595\n",
      "Epoch 133/500\n",
      "2/2 [==============================] - 0s 12ms/step - loss: 7.6938 - mae: 7.6938\n",
      "Epoch 134/500\n",
      "2/2 [==============================] - 0s 22ms/step - loss: 19.0284 - mae: 19.0284\n",
      "Epoch 135/500\n",
      "2/2 [==============================] - 0s 18ms/step - loss: 10.7214 - mae: 10.7214\n",
      "Epoch 136/500\n",
      "2/2 [==============================] - 0s 18ms/step - loss: 18.6323 - mae: 18.6323\n",
      "Epoch 137/500\n",
      "2/2 [==============================] - 0s 18ms/step - loss: 23.6665 - mae: 23.6665\n",
      "Epoch 138/500\n",
      "2/2 [==============================] - 0s 16ms/step - loss: 9.3556 - mae: 9.3556\n",
      "Epoch 139/500\n",
      "2/2 [==============================] - 0s 16ms/step - loss: 9.0632 - mae: 9.0632\n",
      "Epoch 140/500\n",
      "2/2 [==============================] - 0s 16ms/step - loss: 17.0815 - mae: 17.0815\n",
      "Epoch 141/500\n",
      "2/2 [==============================] - 0s 16ms/step - loss: 8.3428 - mae: 8.3428\n",
      "Epoch 142/500\n",
      "2/2 [==============================] - 0s 15ms/step - loss: 34.2019 - mae: 34.2019\n",
      "Epoch 143/500\n",
      "2/2 [==============================] - 0s 16ms/step - loss: 23.2388 - mae: 23.2388\n",
      "Epoch 144/500\n",
      "2/2 [==============================] - 0s 16ms/step - loss: 10.4838 - mae: 10.4838\n",
      "Epoch 145/500\n",
      "2/2 [==============================] - 0s 15ms/step - loss: 25.8640 - mae: 25.8640\n",
      "Epoch 146/500\n",
      "2/2 [==============================] - 0s 16ms/step - loss: 9.9012 - mae: 9.9012\n",
      "Epoch 147/500\n",
      "2/2 [==============================] - 0s 15ms/step - loss: 15.0219 - mae: 15.0219\n",
      "Epoch 148/500\n",
      "2/2 [==============================] - 0s 14ms/step - loss: 17.4599 - mae: 17.4599\n",
      "Epoch 149/500\n",
      "2/2 [==============================] - 0s 14ms/step - loss: 8.7933 - mae: 8.7933\n",
      "Epoch 150/500\n",
      "2/2 [==============================] - 0s 13ms/step - loss: 7.7539 - mae: 7.7539\n",
      "Epoch 151/500\n",
      "2/2 [==============================] - 0s 19ms/step - loss: 19.9118 - mae: 19.9118\n",
      "Epoch 152/500\n",
      "2/2 [==============================] - 0s 17ms/step - loss: 10.2616 - mae: 10.2616\n",
      "Epoch 153/500\n",
      "2/2 [==============================] - 0s 19ms/step - loss: 29.2871 - mae: 29.2871\n",
      "Epoch 154/500\n",
      "2/2 [==============================] - 0s 20ms/step - loss: 10.6413 - mae: 10.6413\n",
      "Epoch 155/500\n",
      "2/2 [==============================] - 0s 19ms/step - loss: 15.5312 - mae: 15.5312\n",
      "Epoch 156/500\n",
      "2/2 [==============================] - 0s 15ms/step - loss: 17.1780 - mae: 17.1780\n",
      "Epoch 157/500\n",
      "2/2 [==============================] - 0s 16ms/step - loss: 32.4095 - mae: 32.4095\n",
      "Epoch 158/500\n",
      "2/2 [==============================] - 0s 16ms/step - loss: 10.6139 - mae: 10.6139\n",
      "Epoch 159/500\n",
      "2/2 [==============================] - 0s 18ms/step - loss: 8.8772 - mae: 8.8772\n",
      "Epoch 160/500\n",
      "2/2 [==============================] - 0s 17ms/step - loss: 21.8243 - mae: 21.8243\n",
      "Epoch 161/500\n",
      "2/2 [==============================] - 0s 14ms/step - loss: 11.0863 - mae: 11.0863\n",
      "Epoch 162/500\n",
      "2/2 [==============================] - 0s 13ms/step - loss: 21.3581 - mae: 21.3581\n",
      "Epoch 163/500\n",
      "2/2 [==============================] - 0s 14ms/step - loss: 18.8426 - mae: 18.8426\n",
      "Epoch 164/500\n",
      "2/2 [==============================] - 0s 15ms/step - loss: 12.6863 - mae: 12.6863\n",
      "Epoch 165/500\n",
      "2/2 [==============================] - 0s 14ms/step - loss: 12.7381 - mae: 12.7381\n",
      "Epoch 166/500\n",
      "2/2 [==============================] - 0s 15ms/step - loss: 18.9209 - mae: 18.9209\n",
      "Epoch 167/500\n",
      "2/2 [==============================] - 0s 19ms/step - loss: 26.7810 - mae: 26.7810\n",
      "Epoch 168/500\n",
      "2/2 [==============================] - 0s 14ms/step - loss: 9.9850 - mae: 9.9850\n",
      "Epoch 169/500\n",
      "2/2 [==============================] - 0s 18ms/step - loss: 23.0310 - mae: 23.0310\n",
      "Epoch 170/500\n",
      "2/2 [==============================] - 0s 19ms/step - loss: 10.0944 - mae: 10.0944\n",
      "Epoch 171/500\n",
      "2/2 [==============================] - 0s 15ms/step - loss: 17.8568 - mae: 17.8568\n",
      "Epoch 172/500\n",
      "2/2 [==============================] - 0s 13ms/step - loss: 29.3008 - mae: 29.3008\n",
      "Epoch 173/500\n",
      "2/2 [==============================] - 0s 17ms/step - loss: 16.9061 - mae: 16.9061\n",
      "Epoch 174/500\n",
      "2/2 [==============================] - 0s 18ms/step - loss: 11.1889 - mae: 11.1889\n",
      "Epoch 175/500\n",
      "2/2 [==============================] - 0s 21ms/step - loss: 27.4680 - mae: 27.4680\n",
      "Epoch 176/500\n",
      "2/2 [==============================] - 0s 21ms/step - loss: 8.4306 - mae: 8.4306\n",
      "Epoch 177/500\n",
      "2/2 [==============================] - 0s 19ms/step - loss: 9.3911 - mae: 9.3911\n",
      "Epoch 178/500\n",
      "2/2 [==============================] - 0s 20ms/step - loss: 18.5116 - mae: 18.5116\n",
      "Epoch 179/500\n",
      "2/2 [==============================] - 0s 17ms/step - loss: 10.4439 - mae: 10.4439\n",
      "Epoch 180/500\n",
      "2/2 [==============================] - 0s 17ms/step - loss: 7.9958 - mae: 7.9958\n",
      "Epoch 181/500\n",
      "2/2 [==============================] - 0s 15ms/step - loss: 17.6957 - mae: 17.6957\n",
      "Epoch 182/500\n",
      "2/2 [==============================] - 0s 20ms/step - loss: 11.1759 - mae: 11.1759\n",
      "Epoch 183/500\n",
      "2/2 [==============================] - 0s 21ms/step - loss: 12.3587 - mae: 12.3587\n",
      "Epoch 184/500\n",
      "2/2 [==============================] - 0s 21ms/step - loss: 27.2513 - mae: 27.2513\n",
      "Epoch 185/500\n",
      "2/2 [==============================] - 0s 16ms/step - loss: 7.5880 - mae: 7.5880\n",
      "Epoch 186/500\n",
      "2/2 [==============================] - 0s 19ms/step - loss: 15.9937 - mae: 15.9937\n",
      "Epoch 187/500\n",
      "2/2 [==============================] - 0s 19ms/step - loss: 8.5966 - mae: 8.5966\n",
      "Epoch 188/500\n",
      "2/2 [==============================] - 0s 18ms/step - loss: 28.7328 - mae: 28.7328\n",
      "Epoch 189/500\n",
      "2/2 [==============================] - 0s 21ms/step - loss: 13.1820 - mae: 13.1820\n",
      "Epoch 190/500\n",
      "2/2 [==============================] - 0s 22ms/step - loss: 18.3260 - mae: 18.3260\n",
      "Epoch 191/500\n",
      "2/2 [==============================] - 0s 19ms/step - loss: 13.7567 - mae: 13.7567\n",
      "Epoch 192/500\n",
      "2/2 [==============================] - 0s 16ms/step - loss: 13.7315 - mae: 13.7315\n",
      "Epoch 193/500\n",
      "2/2 [==============================] - 0s 15ms/step - loss: 28.5961 - mae: 28.5961\n",
      "Epoch 194/500\n",
      "2/2 [==============================] - 0s 17ms/step - loss: 7.0881 - mae: 7.0881\n",
      "Epoch 195/500\n",
      "2/2 [==============================] - 0s 15ms/step - loss: 7.0867 - mae: 7.0867\n",
      "Epoch 196/500\n",
      "2/2 [==============================] - 0s 16ms/step - loss: 22.0416 - mae: 22.0416\n",
      "Epoch 197/500\n",
      "2/2 [==============================] - 0s 18ms/step - loss: 20.7781 - mae: 20.7781\n",
      "Epoch 198/500\n",
      "2/2 [==============================] - 0s 16ms/step - loss: 12.4434 - mae: 12.4434\n",
      "Epoch 199/500\n",
      "2/2 [==============================] - 0s 17ms/step - loss: 17.8514 - mae: 17.8514\n",
      "Epoch 200/500\n",
      "2/2 [==============================] - 0s 18ms/step - loss: 13.6978 - mae: 13.6978\n",
      "Epoch 201/500\n",
      "2/2 [==============================] - 0s 17ms/step - loss: 5.5089 - mae: 5.5089\n",
      "Epoch 202/500\n",
      "2/2 [==============================] - 0s 20ms/step - loss: 13.6488 - mae: 13.6488\n",
      "Epoch 203/500\n",
      "2/2 [==============================] - 0s 18ms/step - loss: 9.4254 - mae: 9.4254\n",
      "Epoch 204/500\n",
      "2/2 [==============================] - 0s 15ms/step - loss: 20.8601 - mae: 20.8601\n",
      "Epoch 205/500\n",
      "2/2 [==============================] - 0s 16ms/step - loss: 9.5389 - mae: 9.5389\n",
      "Epoch 206/500\n",
      "2/2 [==============================] - 0s 18ms/step - loss: 11.1792 - mae: 11.1792\n",
      "Epoch 207/500\n",
      "2/2 [==============================] - 0s 16ms/step - loss: 17.7427 - mae: 17.7427\n",
      "Epoch 208/500\n",
      "2/2 [==============================] - 0s 18ms/step - loss: 14.4317 - mae: 14.4317\n",
      "Epoch 209/500\n",
      "2/2 [==============================] - 0s 19ms/step - loss: 16.7653 - mae: 16.7653\n",
      "Epoch 210/500\n",
      "2/2 [==============================] - 0s 17ms/step - loss: 18.2916 - mae: 18.2916\n",
      "Epoch 211/500\n",
      "2/2 [==============================] - 0s 17ms/step - loss: 9.9847 - mae: 9.9847\n",
      "Epoch 212/500\n",
      "2/2 [==============================] - 0s 16ms/step - loss: 18.7818 - mae: 18.7818\n",
      "Epoch 213/500\n",
      "2/2 [==============================] - 0s 17ms/step - loss: 14.9321 - mae: 14.9321\n",
      "Epoch 214/500\n",
      "2/2 [==============================] - 0s 17ms/step - loss: 14.5218 - mae: 14.5218\n",
      "Epoch 215/500\n",
      "2/2 [==============================] - 0s 17ms/step - loss: 23.1559 - mae: 23.1559\n",
      "Epoch 216/500\n",
      "2/2 [==============================] - 0s 16ms/step - loss: 13.6246 - mae: 13.6246\n",
      "Epoch 217/500\n",
      "2/2 [==============================] - 0s 18ms/step - loss: 10.0879 - mae: 10.0879\n",
      "Epoch 218/500\n",
      "2/2 [==============================] - 0s 18ms/step - loss: 12.4018 - mae: 12.4018\n",
      "Epoch 219/500\n",
      "2/2 [==============================] - 0s 16ms/step - loss: 5.8745 - mae: 5.8745\n",
      "Epoch 220/500\n",
      "2/2 [==============================] - 0s 16ms/step - loss: 10.2161 - mae: 10.2161\n",
      "Epoch 221/500\n",
      "2/2 [==============================] - 0s 18ms/step - loss: 28.9237 - mae: 28.9237\n",
      "Epoch 222/500\n",
      "2/2 [==============================] - 0s 17ms/step - loss: 28.1229 - mae: 28.1229\n",
      "Epoch 223/500\n",
      "2/2 [==============================] - 0s 16ms/step - loss: 10.0665 - mae: 10.0665\n",
      "Epoch 224/500\n",
      "2/2 [==============================] - 0s 16ms/step - loss: 14.6163 - mae: 14.6163\n",
      "Epoch 225/500\n",
      "2/2 [==============================] - 0s 18ms/step - loss: 16.6312 - mae: 16.6312\n",
      "Epoch 226/500\n",
      "2/2 [==============================] - 0s 19ms/step - loss: 15.8536 - mae: 15.8536\n",
      "Epoch 227/500\n",
      "2/2 [==============================] - 0s 22ms/step - loss: 16.0705 - mae: 16.0705\n",
      "Epoch 228/500\n",
      "2/2 [==============================] - 0s 23ms/step - loss: 13.8512 - mae: 13.8512\n",
      "Epoch 229/500\n",
      "2/2 [==============================] - 0s 20ms/step - loss: 17.9683 - mae: 17.9683\n",
      "Epoch 230/500\n",
      "2/2 [==============================] - -9s -8656949us/step - loss: 15.5658 - mae: 15.5658\n",
      "Epoch 231/500\n",
      "2/2 [==============================] - 0s 23ms/step - loss: 21.0765 - mae: 21.0765\n",
      "Epoch 232/500\n",
      "2/2 [==============================] - 0s 19ms/step - loss: 25.5614 - mae: 25.5614\n",
      "Epoch 233/500\n",
      "2/2 [==============================] - 0s 16ms/step - loss: 16.5502 - mae: 16.5502\n",
      "Epoch 234/500\n",
      "2/2 [==============================] - 0s 16ms/step - loss: 7.3710 - mae: 7.3710\n",
      "Epoch 235/500\n",
      "2/2 [==============================] - 0s 20ms/step - loss: 17.1917 - mae: 17.1917\n",
      "Epoch 236/500\n",
      "2/2 [==============================] - 0s 16ms/step - loss: 7.2363 - mae: 7.2363\n",
      "Epoch 237/500\n",
      "2/2 [==============================] - 0s 18ms/step - loss: 9.3416 - mae: 9.3416\n",
      "Epoch 238/500\n",
      "2/2 [==============================] - 0s 19ms/step - loss: 8.1890 - mae: 8.1890\n",
      "Epoch 239/500\n",
      "2/2 [==============================] - 0s 14ms/step - loss: 17.2165 - mae: 17.2165\n",
      "Epoch 240/500\n",
      "2/2 [==============================] - 0s 18ms/step - loss: 8.9677 - mae: 8.9677\n",
      "Epoch 241/500\n",
      "2/2 [==============================] - 0s 15ms/step - loss: 13.2990 - mae: 13.2990\n",
      "Epoch 242/500\n",
      "2/2 [==============================] - 0s 15ms/step - loss: 8.8736 - mae: 8.8736\n",
      "Epoch 243/500\n",
      "2/2 [==============================] - 0s 13ms/step - loss: 18.9619 - mae: 18.9619\n",
      "Epoch 244/500\n",
      "2/2 [==============================] - 0s 14ms/step - loss: 14.0325 - mae: 14.0325\n",
      "Epoch 245/500\n",
      "2/2 [==============================] - 0s 15ms/step - loss: 14.6628 - mae: 14.6628\n",
      "Epoch 246/500\n",
      "2/2 [==============================] - 0s 16ms/step - loss: 15.7970 - mae: 15.7970\n",
      "Epoch 247/500\n",
      "2/2 [==============================] - 0s 14ms/step - loss: 17.6695 - mae: 17.6695\n",
      "Epoch 248/500\n",
      "2/2 [==============================] - 0s 13ms/step - loss: 13.2272 - mae: 13.2272\n",
      "Epoch 249/500\n",
      "2/2 [==============================] - 0s 17ms/step - loss: 14.5108 - mae: 14.5108\n",
      "Epoch 250/500\n",
      "2/2 [==============================] - 0s 16ms/step - loss: 23.2216 - mae: 23.2216\n",
      "Epoch 251/500\n",
      "2/2 [==============================] - 0s 18ms/step - loss: 9.3469 - mae: 9.3469\n",
      "Epoch 252/500\n",
      "2/2 [==============================] - 0s 19ms/step - loss: 36.6989 - mae: 36.6989\n",
      "Epoch 253/500\n",
      "2/2 [==============================] - 0s 14ms/step - loss: 21.8650 - mae: 21.8650\n",
      "Epoch 254/500\n",
      "2/2 [==============================] - 0s 16ms/step - loss: 7.3251 - mae: 7.3251\n",
      "Epoch 255/500\n",
      "2/2 [==============================] - 0s 15ms/step - loss: 24.7342 - mae: 24.7342\n",
      "Epoch 256/500\n",
      "2/2 [==============================] - 0s 17ms/step - loss: 12.4632 - mae: 12.4632\n",
      "Epoch 257/500\n",
      "2/2 [==============================] - 0s 22ms/step - loss: 10.6192 - mae: 10.6192\n",
      "Epoch 258/500\n",
      "2/2 [==============================] - 0s 13ms/step - loss: 14.2460 - mae: 14.2460\n",
      "Epoch 259/500\n",
      "2/2 [==============================] - 0s 14ms/step - loss: 11.2898 - mae: 11.2898\n",
      "Epoch 260/500\n",
      "2/2 [==============================] - 0s 16ms/step - loss: 31.6803 - mae: 31.6803\n",
      "Epoch 261/500\n",
      "2/2 [==============================] - 0s 17ms/step - loss: 11.2230 - mae: 11.2230\n",
      "Epoch 262/500\n",
      "2/2 [==============================] - 0s 17ms/step - loss: 10.0737 - mae: 10.0737\n",
      "Epoch 263/500\n",
      "2/2 [==============================] - 0s 14ms/step - loss: 8.9761 - mae: 8.9761\n",
      "Epoch 264/500\n",
      "2/2 [==============================] - 0s 14ms/step - loss: 21.5536 - mae: 21.5536\n",
      "Epoch 265/500\n",
      "2/2 [==============================] - 0s 14ms/step - loss: 11.4340 - mae: 11.4340\n",
      "Epoch 266/500\n",
      "2/2 [==============================] - 0s 16ms/step - loss: 13.2706 - mae: 13.2706\n",
      "Epoch 267/500\n",
      "2/2 [==============================] - 0s 15ms/step - loss: 11.0748 - mae: 11.0748\n",
      "Epoch 268/500\n",
      "2/2 [==============================] - 0s 18ms/step - loss: 19.1301 - mae: 19.1301\n",
      "Epoch 269/500\n",
      "2/2 [==============================] - 0s 20ms/step - loss: 40.7888 - mae: 40.7888\n",
      "Epoch 270/500\n",
      "2/2 [==============================] - 0s 17ms/step - loss: 12.9785 - mae: 12.9785\n",
      "Epoch 271/500\n",
      "2/2 [==============================] - 0s 15ms/step - loss: 14.7572 - mae: 14.7572\n",
      "Epoch 272/500\n",
      "2/2 [==============================] - 0s 15ms/step - loss: 28.4934 - mae: 28.4934\n",
      "Epoch 273/500\n",
      "2/2 [==============================] - 0s 20ms/step - loss: 7.3972 - mae: 7.3972\n",
      "Epoch 274/500\n",
      "2/2 [==============================] - 0s 18ms/step - loss: 6.3631 - mae: 6.3631\n",
      "Epoch 275/500\n",
      "2/2 [==============================] - 0s 18ms/step - loss: 36.9971 - mae: 36.9971\n",
      "Epoch 276/500\n",
      "2/2 [==============================] - 0s 20ms/step - loss: 8.3069 - mae: 8.3069\n",
      "Epoch 277/500\n",
      "2/2 [==============================] - 0s 18ms/step - loss: 27.8040 - mae: 27.8040\n",
      "Epoch 278/500\n",
      "2/2 [==============================] - 0s 17ms/step - loss: 10.6639 - mae: 10.6639\n",
      "Epoch 279/500\n",
      "2/2 [==============================] - 0s 16ms/step - loss: 16.0962 - mae: 16.0962\n",
      "Epoch 280/500\n",
      "2/2 [==============================] - 0s 17ms/step - loss: 21.2023 - mae: 21.2023\n",
      "Epoch 281/500\n",
      "2/2 [==============================] - 0s 21ms/step - loss: 23.8722 - mae: 23.8722\n",
      "Epoch 282/500\n",
      "2/2 [==============================] - 0s 18ms/step - loss: 8.2934 - mae: 8.2934\n",
      "Epoch 283/500\n",
      "2/2 [==============================] - 0s 15ms/step - loss: 8.4635 - mae: 8.4635\n",
      "Epoch 284/500\n",
      "2/2 [==============================] - 0s 17ms/step - loss: 26.7133 - mae: 26.7133\n",
      "Epoch 285/500\n",
      "2/2 [==============================] - 0s 14ms/step - loss: 14.2950 - mae: 14.2950\n",
      "Epoch 286/500\n",
      "2/2 [==============================] - 0s 13ms/step - loss: 5.2721 - mae: 5.2721\n",
      "Epoch 287/500\n",
      "2/2 [==============================] - 0s 16ms/step - loss: 20.7816 - mae: 20.7816\n",
      "Epoch 288/500\n",
      "2/2 [==============================] - 0s 18ms/step - loss: 27.7186 - mae: 27.7186\n",
      "Epoch 289/500\n",
      "2/2 [==============================] - 0s 13ms/step - loss: 10.4110 - mae: 10.4110\n",
      "Epoch 290/500\n",
      "2/2 [==============================] - 0s 17ms/step - loss: 16.2834 - mae: 16.2834\n",
      "Epoch 291/500\n",
      "2/2 [==============================] - 0s 16ms/step - loss: 16.4623 - mae: 16.4623\n",
      "Epoch 292/500\n",
      "2/2 [==============================] - 0s 14ms/step - loss: 7.4219 - mae: 7.4219\n",
      "Epoch 293/500\n",
      "2/2 [==============================] - 0s 19ms/step - loss: 16.5316 - mae: 16.5316\n",
      "Epoch 294/500\n",
      "2/2 [==============================] - 0s 20ms/step - loss: 25.2993 - mae: 25.2993\n",
      "Epoch 295/500\n",
      "2/2 [==============================] - 0s 17ms/step - loss: 14.6573 - mae: 14.6573\n",
      "Epoch 296/500\n",
      "2/2 [==============================] - 0s 14ms/step - loss: 4.5189 - mae: 4.5189\n",
      "Epoch 297/500\n",
      "2/2 [==============================] - 0s 19ms/step - loss: 9.6831 - mae: 9.6831\n",
      "Epoch 298/500\n",
      "2/2 [==============================] - 0s 16ms/step - loss: 23.8033 - mae: 23.8033\n",
      "Epoch 299/500\n",
      "2/2 [==============================] - 0s 18ms/step - loss: 18.9632 - mae: 18.9632\n",
      "Epoch 300/500\n",
      "2/2 [==============================] - 0s 15ms/step - loss: 8.7951 - mae: 8.7951\n",
      "Epoch 301/500\n",
      "2/2 [==============================] - 0s 12ms/step - loss: 15.8367 - mae: 15.8367\n",
      "Epoch 302/500\n",
      "2/2 [==============================] - 0s 15ms/step - loss: 6.5926 - mae: 6.5926\n",
      "Epoch 303/500\n",
      "2/2 [==============================] - 0s 18ms/step - loss: 21.5564 - mae: 21.5564\n",
      "Epoch 304/500\n",
      "2/2 [==============================] - 0s 13ms/step - loss: 25.9356 - mae: 25.9356\n",
      "Epoch 305/500\n",
      "2/2 [==============================] - 0s 13ms/step - loss: 9.5466 - mae: 9.5466\n",
      "Epoch 306/500\n",
      "2/2 [==============================] - 0s 18ms/step - loss: 17.7109 - mae: 17.7109\n",
      "Epoch 307/500\n",
      "2/2 [==============================] - 0s 15ms/step - loss: 9.8172 - mae: 9.8172\n",
      "Epoch 308/500\n",
      "2/2 [==============================] - 0s 13ms/step - loss: 20.5912 - mae: 20.5912\n",
      "Epoch 309/500\n",
      "2/2 [==============================] - 0s 16ms/step - loss: 13.5870 - mae: 13.5870\n",
      "Epoch 310/500\n",
      "2/2 [==============================] - 0s 17ms/step - loss: 6.6756 - mae: 6.6756\n",
      "Epoch 311/500\n",
      "2/2 [==============================] - 0s 17ms/step - loss: 13.6667 - mae: 13.6667\n",
      "Epoch 312/500\n",
      "2/2 [==============================] - 0s 16ms/step - loss: 30.0193 - mae: 30.0193\n",
      "Epoch 313/500\n",
      "2/2 [==============================] - 0s 17ms/step - loss: 7.5548 - mae: 7.5548\n",
      "Epoch 314/500\n",
      "2/2 [==============================] - 0s 15ms/step - loss: 9.9640 - mae: 9.9640\n",
      "Epoch 315/500\n",
      "2/2 [==============================] - 0s 17ms/step - loss: 23.8712 - mae: 23.8712\n",
      "Epoch 316/500\n",
      "2/2 [==============================] - 0s 15ms/step - loss: 16.1883 - mae: 16.1883\n",
      "Epoch 317/500\n",
      "2/2 [==============================] - 0s 15ms/step - loss: 20.6896 - mae: 20.6896\n",
      "Epoch 318/500\n",
      "2/2 [==============================] - 0s 15ms/step - loss: 8.7409 - mae: 8.7409\n",
      "Epoch 319/500\n",
      "2/2 [==============================] - 0s 16ms/step - loss: 15.2866 - mae: 15.2866\n",
      "Epoch 320/500\n",
      "2/2 [==============================] - 0s 15ms/step - loss: 8.3680 - mae: 8.3680\n",
      "Epoch 321/500\n",
      "2/2 [==============================] - 0s 15ms/step - loss: 14.7045 - mae: 14.7045\n",
      "Epoch 322/500\n",
      "2/2 [==============================] - 0s 16ms/step - loss: 12.8094 - mae: 12.8094\n",
      "Epoch 323/500\n",
      "2/2 [==============================] - 0s 14ms/step - loss: 19.0799 - mae: 19.0799\n",
      "Epoch 324/500\n",
      "2/2 [==============================] - 0s 15ms/step - loss: 17.0494 - mae: 17.0494\n",
      "Epoch 325/500\n",
      "2/2 [==============================] - 0s 16ms/step - loss: 9.2920 - mae: 9.2920\n",
      "Epoch 326/500\n",
      "2/2 [==============================] - 0s 13ms/step - loss: 19.9142 - mae: 19.9142\n",
      "Epoch 327/500\n",
      "2/2 [==============================] - 0s 15ms/step - loss: 28.1528 - mae: 28.1528\n",
      "Epoch 328/500\n",
      "2/2 [==============================] - 0s 14ms/step - loss: 11.7001 - mae: 11.7001\n",
      "Epoch 329/500\n",
      "2/2 [==============================] - 0s 15ms/step - loss: 16.3769 - mae: 16.3769\n",
      "Epoch 330/500\n",
      "2/2 [==============================] - 0s 16ms/step - loss: 7.3334 - mae: 7.3334\n",
      "Epoch 331/500\n",
      "2/2 [==============================] - 0s 14ms/step - loss: 22.5863 - mae: 22.5863\n",
      "Epoch 332/500\n",
      "2/2 [==============================] - 0s 16ms/step - loss: 13.3667 - mae: 13.3667\n",
      "Epoch 333/500\n",
      "2/2 [==============================] - 0s 16ms/step - loss: 10.1846 - mae: 10.1846\n",
      "Epoch 334/500\n",
      "2/2 [==============================] - 0s 15ms/step - loss: 6.6370 - mae: 6.6370\n",
      "Epoch 335/500\n",
      "2/2 [==============================] - 0s 14ms/step - loss: 6.2757 - mae: 6.2757\n",
      "Epoch 336/500\n",
      "2/2 [==============================] - 0s 13ms/step - loss: 34.5386 - mae: 34.5386\n",
      "Epoch 337/500\n",
      "2/2 [==============================] - 0s 14ms/step - loss: 26.9711 - mae: 26.9711\n",
      "Epoch 338/500\n",
      "2/2 [==============================] - 0s 15ms/step - loss: 14.0149 - mae: 14.0149\n",
      "Epoch 339/500\n",
      "2/2 [==============================] - 0s 16ms/step - loss: 11.5606 - mae: 11.5606\n",
      "Epoch 340/500\n",
      "2/2 [==============================] - 0s 16ms/step - loss: 8.8290 - mae: 8.8290\n",
      "Epoch 341/500\n",
      "2/2 [==============================] - 0s 16ms/step - loss: 23.4576 - mae: 23.4576\n",
      "Epoch 342/500\n",
      "2/2 [==============================] - 0s 15ms/step - loss: 13.9128 - mae: 13.9128\n",
      "Epoch 343/500\n",
      "2/2 [==============================] - 0s 15ms/step - loss: 14.8245 - mae: 14.8245\n",
      "Epoch 344/500\n",
      "2/2 [==============================] - 0s 17ms/step - loss: 13.3947 - mae: 13.3947\n",
      "Epoch 345/500\n",
      "2/2 [==============================] - 0s 16ms/step - loss: 31.0233 - mae: 31.0233\n",
      "Epoch 346/500\n",
      "2/2 [==============================] - 0s 14ms/step - loss: 10.7061 - mae: 10.7061\n",
      "Epoch 347/500\n",
      "2/2 [==============================] - 0s 14ms/step - loss: 25.7266 - mae: 25.7266\n",
      "Epoch 348/500\n",
      "2/2 [==============================] - 0s 18ms/step - loss: 12.8953 - mae: 12.8953\n",
      "Epoch 349/500\n",
      "2/2 [==============================] - 0s 20ms/step - loss: 13.1648 - mae: 13.1648\n",
      "Epoch 350/500\n",
      "2/2 [==============================] - 0s 19ms/step - loss: 15.4432 - mae: 15.4432\n",
      "Epoch 351/500\n",
      "2/2 [==============================] - 0s 16ms/step - loss: 32.9586 - mae: 32.9586\n",
      "Epoch 352/500\n",
      "2/2 [==============================] - 0s 18ms/step - loss: 14.2059 - mae: 14.2059\n",
      "Epoch 353/500\n",
      "2/2 [==============================] - 0s 17ms/step - loss: 15.9213 - mae: 15.9213\n",
      "Epoch 354/500\n",
      "2/2 [==============================] - 0s 15ms/step - loss: 19.0891 - mae: 19.0891\n",
      "Epoch 355/500\n",
      "2/2 [==============================] - 0s 17ms/step - loss: 34.1194 - mae: 34.1194\n",
      "Epoch 356/500\n",
      "2/2 [==============================] - 0s 19ms/step - loss: 7.7025 - mae: 7.7025\n",
      "Epoch 357/500\n",
      "2/2 [==============================] - 0s 17ms/step - loss: 25.2149 - mae: 25.2149\n",
      "Epoch 358/500\n",
      "2/2 [==============================] - 0s 17ms/step - loss: 22.6723 - mae: 22.6723\n",
      "Epoch 359/500\n",
      "2/2 [==============================] - 0s 20ms/step - loss: 8.8993 - mae: 8.8993\n",
      "Epoch 360/500\n",
      "2/2 [==============================] - 0s 19ms/step - loss: 21.4832 - mae: 21.4832\n",
      "Epoch 361/500\n",
      "2/2 [==============================] - 0s 16ms/step - loss: 20.5840 - mae: 20.5840\n",
      "Epoch 362/500\n",
      "2/2 [==============================] - 0s 17ms/step - loss: 7.0872 - mae: 7.0872\n",
      "Epoch 363/500\n",
      "2/2 [==============================] - 0s 18ms/step - loss: 25.7769 - mae: 25.7769\n",
      "Epoch 364/500\n",
      "2/2 [==============================] - 0s 18ms/step - loss: 32.1818 - mae: 32.1818\n",
      "Epoch 365/500\n",
      "2/2 [==============================] - 0s 20ms/step - loss: 10.0184 - mae: 10.0184\n",
      "Epoch 366/500\n",
      "2/2 [==============================] - 0s 17ms/step - loss: 9.6926 - mae: 9.6926\n",
      "Epoch 367/500\n",
      "2/2 [==============================] - 0s 20ms/step - loss: 30.4304 - mae: 30.4304\n",
      "Epoch 368/500\n",
      "2/2 [==============================] - 0s 13ms/step - loss: 10.5258 - mae: 10.5258\n",
      "Epoch 369/500\n",
      "2/2 [==============================] - 0s 13ms/step - loss: 15.0147 - mae: 15.0147\n",
      "Epoch 370/500\n",
      "2/2 [==============================] - 0s 20ms/step - loss: 14.6748 - mae: 14.6748\n",
      "Epoch 371/500\n",
      "2/2 [==============================] - 0s 16ms/step - loss: 23.3988 - mae: 23.3988\n",
      "Epoch 372/500\n",
      "2/2 [==============================] - 0s 16ms/step - loss: 13.0578 - mae: 13.0578\n",
      "Epoch 373/500\n",
      "2/2 [==============================] - 0s 15ms/step - loss: 9.2277 - mae: 9.2277\n",
      "Epoch 374/500\n",
      "2/2 [==============================] - 0s 14ms/step - loss: 9.7023 - mae: 9.7023\n",
      "Epoch 375/500\n",
      "2/2 [==============================] - 0s 16ms/step - loss: 13.0342 - mae: 13.0342\n",
      "Epoch 376/500\n",
      "2/2 [==============================] - 0s 15ms/step - loss: 14.9156 - mae: 14.9156\n",
      "Epoch 377/500\n",
      "2/2 [==============================] - 0s 16ms/step - loss: 14.8293 - mae: 14.8293\n",
      "Epoch 378/500\n",
      "2/2 [==============================] - 8s 8s/step - loss: 16.3030 - mae: 16.3030\n",
      "Epoch 379/500\n",
      "2/2 [==============================] - 0s 19ms/step - loss: 20.8823 - mae: 20.8823\n",
      "Epoch 380/500\n",
      "2/2 [==============================] - 0s 19ms/step - loss: 33.3824 - mae: 33.3824\n",
      "Epoch 381/500\n",
      "2/2 [==============================] - 0s 21ms/step - loss: 8.2065 - mae: 8.2065\n",
      "Epoch 382/500\n",
      "2/2 [==============================] - 0s 19ms/step - loss: 12.9989 - mae: 12.9989\n",
      "Epoch 383/500\n",
      "2/2 [==============================] - 0s 17ms/step - loss: 8.4631 - mae: 8.4631\n",
      "Epoch 384/500\n",
      "2/2 [==============================] - 0s 17ms/step - loss: 7.1031 - mae: 7.1031\n",
      "Epoch 385/500\n",
      "2/2 [==============================] - 0s 16ms/step - loss: 10.9786 - mae: 10.9786\n",
      "Epoch 386/500\n",
      "2/2 [==============================] - 0s 17ms/step - loss: 19.8333 - mae: 19.8333\n",
      "Epoch 387/500\n",
      "2/2 [==============================] - 0s 13ms/step - loss: 24.7050 - mae: 24.7050\n",
      "Epoch 388/500\n",
      "2/2 [==============================] - 0s 14ms/step - loss: 8.6972 - mae: 8.6972\n",
      "Epoch 389/500\n",
      "2/2 [==============================] - 0s 19ms/step - loss: 5.9521 - mae: 5.9521\n",
      "Epoch 390/500\n",
      "2/2 [==============================] - 0s 18ms/step - loss: 24.2651 - mae: 24.2651\n",
      "Epoch 391/500\n",
      "2/2 [==============================] - 0s 17ms/step - loss: 5.9737 - mae: 5.9737\n",
      "Epoch 392/500\n",
      "2/2 [==============================] - 0s 15ms/step - loss: 16.0585 - mae: 16.0585\n",
      "Epoch 393/500\n",
      "2/2 [==============================] - 0s 17ms/step - loss: 6.4873 - mae: 6.4873\n",
      "Epoch 394/500\n",
      "2/2 [==============================] - 0s 16ms/step - loss: 12.4945 - mae: 12.4945\n",
      "Epoch 395/500\n",
      "2/2 [==============================] - 0s 15ms/step - loss: 12.3683 - mae: 12.3683\n",
      "Epoch 396/500\n",
      "2/2 [==============================] - 0s 17ms/step - loss: 7.3384 - mae: 7.3384\n",
      "Epoch 397/500\n",
      "2/2 [==============================] - 0s 13ms/step - loss: 7.5957 - mae: 7.5957\n",
      "Epoch 398/500\n",
      "2/2 [==============================] - 0s 15ms/step - loss: 20.2574 - mae: 20.2574\n",
      "Epoch 399/500\n",
      "2/2 [==============================] - 0s 13ms/step - loss: 5.9174 - mae: 5.9174\n",
      "Epoch 400/500\n",
      "2/2 [==============================] - 0s 15ms/step - loss: 24.6494 - mae: 24.6494\n",
      "Epoch 401/500\n",
      "2/2 [==============================] - 0s 16ms/step - loss: 13.1074 - mae: 13.1074\n",
      "Epoch 402/500\n",
      "2/2 [==============================] - 0s 17ms/step - loss: 8.3481 - mae: 8.3481\n",
      "Epoch 403/500\n",
      "2/2 [==============================] - 0s 19ms/step - loss: 9.8295 - mae: 9.8295\n",
      "Epoch 404/500\n",
      "2/2 [==============================] - 0s 18ms/step - loss: 12.5634 - mae: 12.5634\n",
      "Epoch 405/500\n",
      "2/2 [==============================] - 0s 15ms/step - loss: 8.7764 - mae: 8.7764\n",
      "Epoch 406/500\n",
      "2/2 [==============================] - 0s 19ms/step - loss: 21.6411 - mae: 21.6411\n",
      "Epoch 407/500\n",
      "2/2 [==============================] - 0s 16ms/step - loss: 20.3558 - mae: 20.3558\n",
      "Epoch 408/500\n",
      "2/2 [==============================] - 0s 17ms/step - loss: 10.3615 - mae: 10.3615\n",
      "Epoch 409/500\n",
      "2/2 [==============================] - 0s 19ms/step - loss: 9.3596 - mae: 9.3596\n",
      "Epoch 410/500\n",
      "2/2 [==============================] - 0s 15ms/step - loss: 13.3947 - mae: 13.3947\n",
      "Epoch 411/500\n",
      "2/2 [==============================] - 0s 14ms/step - loss: 15.8538 - mae: 15.8538\n",
      "Epoch 412/500\n",
      "2/2 [==============================] - 0s 13ms/step - loss: 23.5559 - mae: 23.5559\n",
      "Epoch 413/500\n",
      "2/2 [==============================] - 0s 16ms/step - loss: 16.4083 - mae: 16.4083\n",
      "Epoch 414/500\n",
      "2/2 [==============================] - 0s 18ms/step - loss: 4.9325 - mae: 4.9325\n",
      "Epoch 415/500\n",
      "2/2 [==============================] - 0s 19ms/step - loss: 13.9719 - mae: 13.9719\n",
      "Epoch 416/500\n",
      "2/2 [==============================] - 0s 18ms/step - loss: 28.9607 - mae: 28.9607\n",
      "Epoch 417/500\n",
      "2/2 [==============================] - 0s 16ms/step - loss: 5.9732 - mae: 5.9732\n",
      "Epoch 418/500\n",
      "2/2 [==============================] - 0s 17ms/step - loss: 12.4701 - mae: 12.4701\n",
      "Epoch 419/500\n",
      "2/2 [==============================] - 0s 21ms/step - loss: 11.4793 - mae: 11.4793\n",
      "Epoch 420/500\n",
      "2/2 [==============================] - 0s 18ms/step - loss: 23.8495 - mae: 23.8495\n",
      "Epoch 421/500\n",
      "2/2 [==============================] - 0s 17ms/step - loss: 19.7618 - mae: 19.7618\n",
      "Epoch 422/500\n",
      "2/2 [==============================] - 0s 21ms/step - loss: 4.0287 - mae: 4.0287\n",
      "Epoch 423/500\n",
      "2/2 [==============================] - 0s 17ms/step - loss: 34.4884 - mae: 34.4884\n",
      "Epoch 424/500\n",
      "2/2 [==============================] - 0s 18ms/step - loss: 13.0062 - mae: 13.0062\n",
      "Epoch 425/500\n",
      "2/2 [==============================] - 0s 16ms/step - loss: 6.9433 - mae: 6.9433\n",
      "Epoch 426/500\n",
      "2/2 [==============================] - 0s 17ms/step - loss: 19.4286 - mae: 19.4286\n",
      "Epoch 427/500\n",
      "2/2 [==============================] - 0s 16ms/step - loss: 4.4586 - mae: 4.4586\n",
      "Epoch 428/500\n",
      "2/2 [==============================] - 0s 16ms/step - loss: 20.5973 - mae: 20.5973\n",
      "Epoch 429/500\n",
      "2/2 [==============================] - 0s 15ms/step - loss: 15.1990 - mae: 15.1990\n",
      "Epoch 430/500\n",
      "2/2 [==============================] - 0s 16ms/step - loss: 11.2826 - mae: 11.2826\n",
      "Epoch 431/500\n",
      "2/2 [==============================] - 0s 15ms/step - loss: 10.1838 - mae: 10.1838\n",
      "Epoch 432/500\n",
      "2/2 [==============================] - 0s 18ms/step - loss: 13.7634 - mae: 13.7634\n",
      "Epoch 433/500\n",
      "2/2 [==============================] - 0s 15ms/step - loss: 12.0064 - mae: 12.0064\n",
      "Epoch 434/500\n",
      "2/2 [==============================] - 0s 16ms/step - loss: 30.5600 - mae: 30.5600\n",
      "Epoch 435/500\n",
      "2/2 [==============================] - 0s 15ms/step - loss: 11.1586 - mae: 11.1586\n",
      "Epoch 436/500\n",
      "2/2 [==============================] - 0s 18ms/step - loss: 28.6567 - mae: 28.6567\n",
      "Epoch 437/500\n",
      "2/2 [==============================] - 0s 15ms/step - loss: 7.5060 - mae: 7.5060\n",
      "Epoch 438/500\n",
      "2/2 [==============================] - 0s 14ms/step - loss: 12.9186 - mae: 12.9186\n",
      "Epoch 439/500\n",
      "2/2 [==============================] - 0s 16ms/step - loss: 34.1649 - mae: 34.1649\n",
      "Epoch 440/500\n",
      "2/2 [==============================] - 0s 15ms/step - loss: 15.8339 - mae: 15.8339\n",
      "Epoch 441/500\n",
      "2/2 [==============================] - 0s 15ms/step - loss: 18.4868 - mae: 18.4868\n",
      "Epoch 442/500\n",
      "2/2 [==============================] - 0s 15ms/step - loss: 26.7234 - mae: 26.7234\n",
      "Epoch 443/500\n",
      "2/2 [==============================] - 0s 16ms/step - loss: 9.7853 - mae: 9.7853\n",
      "Epoch 444/500\n",
      "2/2 [==============================] - 0s 17ms/step - loss: 8.4509 - mae: 8.4509\n",
      "Epoch 445/500\n",
      "2/2 [==============================] - 0s 18ms/step - loss: 12.8616 - mae: 12.8616\n",
      "Epoch 446/500\n",
      "2/2 [==============================] - 0s 15ms/step - loss: 15.5807 - mae: 15.5807\n",
      "Epoch 447/500\n",
      "2/2 [==============================] - 0s 15ms/step - loss: 14.7342 - mae: 14.7342\n",
      "Epoch 448/500\n",
      "2/2 [==============================] - 0s 18ms/step - loss: 11.6064 - mae: 11.6064\n",
      "Epoch 449/500\n",
      "2/2 [==============================] - 0s 17ms/step - loss: 14.8084 - mae: 14.8084\n",
      "Epoch 450/500\n",
      "2/2 [==============================] - 0s 18ms/step - loss: 17.5619 - mae: 17.5619\n",
      "Epoch 451/500\n",
      "2/2 [==============================] - 0s 16ms/step - loss: 14.6254 - mae: 14.6254\n",
      "Epoch 452/500\n",
      "2/2 [==============================] - 0s 17ms/step - loss: 31.2799 - mae: 31.2799\n",
      "Epoch 453/500\n",
      "2/2 [==============================] - 0s 13ms/step - loss: 10.5711 - mae: 10.5711\n",
      "Epoch 454/500\n",
      "2/2 [==============================] - 0s 16ms/step - loss: 26.8610 - mae: 26.8610\n",
      "Epoch 455/500\n",
      "2/2 [==============================] - 0s 16ms/step - loss: 12.3064 - mae: 12.3064\n",
      "Epoch 456/500\n",
      "2/2 [==============================] - 0s 16ms/step - loss: 15.3429 - mae: 15.3429\n",
      "Epoch 457/500\n",
      "2/2 [==============================] - 0s 16ms/step - loss: 19.0471 - mae: 19.0471\n",
      "Epoch 458/500\n",
      "2/2 [==============================] - 0s 17ms/step - loss: 23.5038 - mae: 23.5038\n",
      "Epoch 459/500\n",
      "2/2 [==============================] - 0s 18ms/step - loss: 16.9496 - mae: 16.9496\n",
      "Epoch 460/500\n",
      "2/2 [==============================] - 0s 14ms/step - loss: 6.1192 - mae: 6.1192\n",
      "Epoch 461/500\n",
      "2/2 [==============================] - 0s 16ms/step - loss: 16.8763 - mae: 16.8763\n",
      "Epoch 462/500\n",
      "2/2 [==============================] - 0s 14ms/step - loss: 16.8309 - mae: 16.8309\n",
      "Epoch 463/500\n",
      "2/2 [==============================] - 0s 16ms/step - loss: 42.6331 - mae: 42.6331\n",
      "Epoch 464/500\n",
      "2/2 [==============================] - 0s 18ms/step - loss: 16.7749 - mae: 16.7749\n",
      "Epoch 465/500\n",
      "2/2 [==============================] - 0s 15ms/step - loss: 8.1202 - mae: 8.1202\n",
      "Epoch 466/500\n",
      "2/2 [==============================] - 0s 14ms/step - loss: 13.6786 - mae: 13.6786\n",
      "Epoch 467/500\n",
      "2/2 [==============================] - 0s 15ms/step - loss: 6.5103 - mae: 6.5103\n",
      "Epoch 468/500\n",
      "2/2 [==============================] - 0s 14ms/step - loss: 15.0421 - mae: 15.0421\n",
      "Epoch 469/500\n",
      "2/2 [==============================] - 0s 15ms/step - loss: 13.9191 - mae: 13.9191\n",
      "Epoch 470/500\n",
      "2/2 [==============================] - 0s 15ms/step - loss: 4.4082 - mae: 4.4082\n",
      "Epoch 471/500\n",
      "2/2 [==============================] - 0s 14ms/step - loss: 30.9227 - mae: 30.9227\n",
      "Epoch 472/500\n",
      "2/2 [==============================] - 0s 16ms/step - loss: 12.3572 - mae: 12.3572\n",
      "Epoch 473/500\n",
      "2/2 [==============================] - 0s 18ms/step - loss: 14.7364 - mae: 14.7364\n",
      "Epoch 474/500\n",
      "2/2 [==============================] - 0s 17ms/step - loss: 18.6328 - mae: 18.6328\n",
      "Epoch 475/500\n",
      "2/2 [==============================] - 0s 17ms/step - loss: 12.4387 - mae: 12.4387\n",
      "Epoch 476/500\n",
      "2/2 [==============================] - 0s 16ms/step - loss: 13.7048 - mae: 13.7048\n",
      "Epoch 477/500\n",
      "2/2 [==============================] - 0s 12ms/step - loss: 30.3048 - mae: 30.3048\n",
      "Epoch 478/500\n",
      "2/2 [==============================] - 0s 15ms/step - loss: 7.0394 - mae: 7.0394\n",
      "Epoch 479/500\n",
      "2/2 [==============================] - 0s 16ms/step - loss: 11.6860 - mae: 11.6860\n",
      "Epoch 480/500\n",
      "2/2 [==============================] - 0s 13ms/step - loss: 18.3586 - mae: 18.3586\n",
      "Epoch 481/500\n",
      "2/2 [==============================] - 0s 14ms/step - loss: 16.2152 - mae: 16.2152\n",
      "Epoch 482/500\n",
      "2/2 [==============================] - 0s 16ms/step - loss: 15.0077 - mae: 15.0077\n",
      "Epoch 483/500\n",
      "2/2 [==============================] - 0s 16ms/step - loss: 20.4519 - mae: 20.4519\n",
      "Epoch 484/500\n",
      "2/2 [==============================] - 0s 17ms/step - loss: 35.3476 - mae: 35.3476\n",
      "Epoch 485/500\n",
      "2/2 [==============================] - 0s 17ms/step - loss: 13.9508 - mae: 13.9508\n",
      "Epoch 486/500\n",
      "2/2 [==============================] - 0s 16ms/step - loss: 6.9771 - mae: 6.9771\n",
      "Epoch 487/500\n",
      "2/2 [==============================] - 0s 15ms/step - loss: 6.3300 - mae: 6.3300\n",
      "Epoch 488/500\n",
      "2/2 [==============================] - 0s 14ms/step - loss: 29.7674 - mae: 29.7674\n",
      "Epoch 489/500\n",
      "2/2 [==============================] - 0s 13ms/step - loss: 12.6818 - mae: 12.6818\n",
      "Epoch 490/500\n",
      "2/2 [==============================] - 0s 13ms/step - loss: 13.1204 - mae: 13.1204\n",
      "Epoch 491/500\n",
      "2/2 [==============================] - 0s 12ms/step - loss: 24.3861 - mae: 24.3861\n",
      "Epoch 492/500\n",
      "2/2 [==============================] - 0s 14ms/step - loss: 18.5609 - mae: 18.5609\n",
      "Epoch 493/500\n",
      "2/2 [==============================] - 0s 18ms/step - loss: 4.8058 - mae: 4.8058\n",
      "Epoch 494/500\n",
      "2/2 [==============================] - 0s 18ms/step - loss: 11.9300 - mae: 11.9300\n",
      "Epoch 495/500\n",
      "2/2 [==============================] - 0s 16ms/step - loss: 13.7540 - mae: 13.7540\n",
      "Epoch 496/500\n",
      "2/2 [==============================] - 0s 15ms/step - loss: 12.9383 - mae: 12.9383\n",
      "Epoch 497/500\n",
      "2/2 [==============================] - 0s 16ms/step - loss: 18.1002 - mae: 18.1002\n",
      "Epoch 498/500\n",
      "2/2 [==============================] - 0s 15ms/step - loss: 22.4959 - mae: 22.4959\n",
      "Epoch 499/500\n",
      "2/2 [==============================] - 0s 15ms/step - loss: 8.3178 - mae: 8.3178\n",
      "Epoch 500/500\n",
      "2/2 [==============================] - 0s 18ms/step - loss: 14.0512 - mae: 14.0512\n"
     ]
    },
    {
     "data": {
      "text/plain": [
       "<keras.src.callbacks.History at 0x7e42dbd660d0>"
      ]
     },
     "execution_count": 58,
     "metadata": {},
     "output_type": "execute_result"
    }
   ],
   "execution_count": 58
  },
  {
   "cell_type": "code",
   "source": "# Make and plot some predictions\ny_preds_3 = model_3.predict(X_test)\nplot_predictions(predictions=y_preds_3)",
   "metadata": {
    "colab": {
     "base_uri": "https://localhost:8080/",
     "height": 617
    },
    "id": "14874d471dd92dec",
    "executionInfo": {
     "status": "ok",
     "timestamp": 1696076861937,
     "user_tz": -420,
     "elapsed": 671,
     "user": {
      "displayName": "kang sigit",
      "userId": "15887135570512197739"
     }
    },
    "outputId": "fe1fd6e7-d487-4987-f7e0-fa91d67da44a",
    "trusted": false,
    "ExecuteTime": {
     "end_time": "2025-07-14T01:57:26.095928Z",
     "start_time": "2025-07-14T01:57:25.829914Z"
    }
   },
   "id": "14874d471dd92dec",
   "outputs": [
    {
     "name": "stdout",
     "output_type": "stream",
     "text": [
      "1/1 [==============================] - 0s 52ms/step\n"
     ]
    },
    {
     "data": {
      "text/plain": [
       "<Figure size 1000x700 with 1 Axes>"
      ],
      "image/png": "[encoded data removed]"
     },
     "metadata": {},
     "output_type": "display_data"
    }
   ],
   "execution_count": 59
  },
  {
   "cell_type": "code",
   "source": "# Calculate model_3 evaluation metrics\nmae_3 = mae(y_test, y_preds_3)\nmse_3 = mse(y_test, y_preds_3)\nmae_3, mse_3",
   "metadata": {
    "colab": {
     "base_uri": "https://localhost:8080/"
    },
    "id": "a1bdb91d97ceeb7a",
    "executionInfo": {
     "status": "ok",
     "timestamp": 1696076867643,
     "user_tz": -420,
     "elapsed": 922,
     "user": {
      "displayName": "kang sigit",
      "userId": "15887135570512197739"
     }
    },
    "outputId": "0ab21741-9a25-46ca-c673-b847793ba5dd",
    "trusted": false,
    "ExecuteTime": {
     "end_time": "2025-07-14T01:57:26.142716Z",
     "start_time": "2025-07-14T01:57:26.124583Z"
    }
   },
   "id": "a1bdb91d97ceeb7a",
   "outputs": [
    {
     "data": {
      "text/plain": [
       "(<tf.Tensor: shape=(), dtype=float32, numpy=67.39285>,\n",
       " <tf.Tensor: shape=(), dtype=float32, numpy=4624.7812>)"
      ]
     },
     "execution_count": 60,
     "metadata": {},
     "output_type": "execute_result"
    }
   ],
   "execution_count": 60
  },
  {
   "cell_type": "markdown",
   "source": "🔑 **Note:** You want to start with small experiments (small models) and make sure they work and than increase their scale when necessary.",
   "metadata": {
    "collapsed": false,
    "id": "13cc26732f4ee288"
   },
   "id": "13cc26732f4ee288"
  },
  {
   "cell_type": "markdown",
   "source": "## Comparing the results of our experiments\n\nWe've run a few experiments, let's compare the results.",
   "metadata": {
    "collapsed": false,
    "id": "f99513fbb95360d4"
   },
   "id": "f99513fbb95360d4"
  },
  {
   "cell_type": "code",
   "source": "# Let's compare our model's results using a pandas DataFrame\nimport pandas as pd\n\nmodel_results = [[\"model_1\", mae_1.numpy(), mse_1.numpy()],\n                 [\"model_2\", mae_2.numpy(), mse_2.numpy()],\n                 [\"model_3\", mae_3.numpy(), mse_3.numpy()]]\n\nall_results = pd.DataFrame(model_results, columns=[\"model\", \"mae\", \"mse\"])\nall_results",
   "metadata": {
    "colab": {
     "base_uri": "https://localhost:8080/",
     "height": 143
    },
    "id": "307fb19b0e82e4c6",
    "executionInfo": {
     "status": "ok",
     "timestamp": 1696076870784,
     "user_tz": -420,
     "elapsed": 14,
     "user": {
      "displayName": "kang sigit",
      "userId": "15887135570512197739"
     }
    },
    "outputId": "e0578fbd-8dd6-4813-e17d-b81d15efcd8d",
    "trusted": false,
    "ExecuteTime": {
     "end_time": "2025-07-14T01:57:26.255481Z",
     "start_time": "2025-07-14T01:57:26.224919Z"
    }
   },
   "id": "307fb19b0e82e4c6",
   "outputs": [
    {
     "data": {
      "text/plain": [
       "     model        mae          mse\n",
       "0  model_1  30.616718   947.810974\n",
       "1  model_2  29.712189   913.920898\n",
       "2  model_3  67.392853  4624.781250"
      ],
      "text/html": [
       "<div>\n",
       "<style scoped>\n",
       "    .dataframe tbody tr th:only-of-type {\n",
       "        vertical-align: middle;\n",
       "    }\n",
       "\n",
       "    .dataframe tbody tr th {\n",
       "        vertical-align: top;\n",
       "    }\n",
       "\n",
       "    .dataframe thead th {\n",
       "        text-align: right;\n",
       "    }\n",
       "</style>\n",
       "<table border=\"1\" class=\"dataframe\">\n",
       "  <thead>\n",
       "    <tr style=\"text-align: right;\">\n",
       "      <th></th>\n",
       "      <th>model</th>\n",
       "      <th>mae</th>\n",
       "      <th>mse</th>\n",
       "    </tr>\n",
       "  </thead>\n",
       "  <tbody>\n",
       "    <tr>\n",
       "      <th>0</th>\n",
       "      <td>model_1</td>\n",
       "      <td>30.616718</td>\n",
       "      <td>947.810974</td>\n",
       "    </tr>\n",
       "    <tr>\n",
       "      <th>1</th>\n",
       "      <td>model_2</td>\n",
       "      <td>29.712189</td>\n",
       "      <td>913.920898</td>\n",
       "    </tr>\n",
       "    <tr>\n",
       "      <th>2</th>\n",
       "      <td>model_3</td>\n",
       "      <td>67.392853</td>\n",
       "      <td>4624.781250</td>\n",
       "    </tr>\n",
       "  </tbody>\n",
       "</table>\n",
       "</div>"
      ]
     },
     "execution_count": 61,
     "metadata": {},
     "output_type": "execute_result"
    }
   ],
   "execution_count": 61
  },
  {
   "cell_type": "code",
   "source": "### Look like `model_2` performed best (maybe)",
   "metadata": {
    "id": "5b36e1e7958a0c73",
    "executionInfo": {
     "status": "ok",
     "timestamp": 1696076877317,
     "user_tz": -420,
     "elapsed": 560,
     "user": {
      "displayName": "kang sigit",
      "userId": "15887135570512197739"
     }
    },
    "trusted": false,
    "ExecuteTime": {
     "end_time": "2025-07-14T01:57:26.315850Z",
     "start_time": "2025-07-14T01:57:26.312656Z"
    }
   },
   "id": "5b36e1e7958a0c73",
   "outputs": [],
   "execution_count": 62
  },
  {
   "cell_type": "code",
   "source": "model_2.summary()",
   "metadata": {
    "colab": {
     "base_uri": "https://localhost:8080/"
    },
    "id": "217c2eae7aa9fffc",
    "executionInfo": {
     "status": "ok",
     "timestamp": 1696076880554,
     "user_tz": -420,
     "elapsed": 824,
     "user": {
      "displayName": "kang sigit",
      "userId": "15887135570512197739"
     }
    },
    "outputId": "ce1b5ae7-6598-4afc-8dda-63d17f521d3a",
    "trusted": false,
    "ExecuteTime": {
     "end_time": "2025-07-14T01:57:26.452293Z",
     "start_time": "2025-07-14T01:57:26.441252Z"
    }
   },
   "id": "217c2eae7aa9fffc",
   "outputs": [
    {
     "name": "stdout",
     "output_type": "stream",
     "text": [
      "Model: \"sequential_5\"\n",
      "_________________________________________________________________\n",
      " Layer (type)                Output Shape              Param #   \n",
      "=================================================================\n",
      " dense_6 (Dense)             (None, 10)                20        \n",
      "                                                                 \n",
      " dense_7 (Dense)             (None, 1)                 11        \n",
      "                                                                 \n",
      "=================================================================\n",
      "Total params: 31 (124.00 Byte)\n",
      "Trainable params: 31 (124.00 Byte)\n",
      "Non-trainable params: 0 (0.00 Byte)\n",
      "_________________________________________________________________\n"
     ]
    }
   ],
   "execution_count": 63
  },
  {
   "cell_type": "markdown",
   "source": ":key **Note:** One of your main goals should be to minimize the time between your experiments. The more experiments you do, the more things you'll figure out which don't work and in turn, get closer to figuring out what does work.Remember the machine learning practioner's motto: \"experiment, experiment, experiment\".",
   "metadata": {
    "collapsed": false,
    "id": "4a1705a03c1bbb72"
   },
   "id": "4a1705a03c1bbb72"
  },
  {
   "cell_type": "markdown",
   "source": "## Tracking your experiments\n\nOne really good habit in machine learning modelling is to track the results of your experiments.\n\nAnd when doing so, it can be tedious if you're running lots of experiments.\n\nLuckily, there are tools to help us!\n\n📖 **Resource:** As you build more models, you'll want to look into using:\n\n* TensorBoard - a component of the TensorFlow library to help track modelling experiments (we'll see this one later).\n* Weights & Biases - a tool for tracking all of kinds of machine learning experiments (plugs straight into TensorBoard).",
   "metadata": {
    "collapsed": false,
    "id": "17f54b7f126aa329"
   },
   "id": "17f54b7f126aa329"
  },
  {
   "cell_type": "markdown",
   "source": "## Saving our models\n\nSaving your models allows us to use them outside of Google Colab (or wherever they were trained) such as in a web application or a mobile app.\n\nThere are two main formats we can save or model's too:\n1. The SaveModel Format\n2. The HDF5 format",
   "metadata": {
    "collapsed": false,
    "id": "3b39adadf7ace07"
   },
   "id": "3b39adadf7ace07"
  },
  {
   "cell_type": "code",
   "source": "# Save model using the SaveModel format\nmodel_2.save(\"best_model_SavedModel_format\")",
   "metadata": {
    "id": "f756e5f68dbdd72",
    "executionInfo": {
     "status": "aborted",
     "timestamp": 1696076709017,
     "user_tz": -420,
     "elapsed": 12,
     "user": {
      "displayName": "kang sigit",
      "userId": "15887135570512197739"
     }
    },
    "trusted": false,
    "ExecuteTime": {
     "end_time": "2025-07-14T01:57:35.443100Z",
     "start_time": "2025-07-14T01:57:26.629118Z"
    }
   },
   "id": "f756e5f68dbdd72",
   "outputs": [
    {
     "name": "stdout",
     "output_type": "stream",
     "text": [
      "INFO:tensorflow:Assets written to: best_model_SavedModel_format/assets\n"
     ]
    },
    {
     "name": "stderr",
     "output_type": "stream",
     "text": [
      "INFO:tensorflow:Assets written to: best_model_SavedModel_format/assets\n"
     ]
    }
   ],
   "execution_count": 64
  },
  {
   "cell_type": "code",
   "source": "# Save model using the HDF5 format\nmodel_2.save(\"best_model_HDF5_format.h5\")",
   "metadata": {
    "collapsed": false,
    "trusted": false,
    "ExecuteTime": {
     "end_time": "2025-07-14T01:57:26.868220Z",
     "start_time": "2025-07-14T01:57:26.834814Z"
    }
   },
   "id": "3d3318e412be8e5e",
   "outputs": [
    {
     "name": "stderr",
     "output_type": "stream",
     "text": [
      "/home/administrator/anaconda3/envs/idp/lib/python3.11/site-packages/keras/src/engine/training.py:3103: UserWarning: You are saving your model as an HDF5 file via `model.save()`. This file format is considered legacy. We recommend using instead the native Keras format, e.g. `model.save('my_model.keras')`.\n",
      "  saving_api.save_model(\n"
     ]
    }
   ],
   "execution_count": 65
  },
  {
   "cell_type": "markdown",
   "source": "## Loading in saved model",
   "metadata": {
    "collapsed": false
   },
   "id": "61263de06c24ec02"
  },
  {
   "cell_type": "code",
   "source": "loaded_SavedModel_format = tf.keras.models.load_model(\"best_model_SavedModel_format\")\nloaded_SavedModel_format.summary()",
   "metadata": {
    "collapsed": false,
    "trusted": false,
    "ExecuteTime": {
     "end_time": "2025-07-14T01:57:27.084936Z",
     "start_time": "2025-07-14T01:57:26.962513Z"
    }
   },
   "id": "972570d455c0ea7b",
   "outputs": [
    {
     "name": "stdout",
     "output_type": "stream",
     "text": [
      "Model: \"sequential_5\"\n",
      "_________________________________________________________________\n",
      " Layer (type)                Output Shape              Param #   \n",
      "=================================================================\n",
      " dense_6 (Dense)             (None, 10)                20        \n",
      "                                                                 \n",
      " dense_7 (Dense)             (None, 1)                 11        \n",
      "                                                                 \n",
      "=================================================================\n",
      "Total params: 31 (124.00 Byte)\n",
      "Trainable params: 31 (124.00 Byte)\n",
      "Non-trainable params: 0 (0.00 Byte)\n",
      "_________________________________________________________________\n"
     ]
    }
   ],
   "execution_count": 66
  },
  {
   "cell_type": "code",
   "source": "# Compare model_2 predictions with SavedModel format model predictions\nmodel_2_preds = model_2.predict(X_test)\nloaded_SavedModel_format_preds = loaded_SavedModel_format.predict(X_test);\nmodel_2_preds == loaded_SavedModel_format_preds",
   "metadata": {
    "collapsed": false,
    "trusted": false,
    "ExecuteTime": {
     "end_time": "2025-07-14T01:57:27.302628Z",
     "start_time": "2025-07-14T01:57:27.131907Z"
    }
   },
   "id": "d9bf6d501126be3a",
   "outputs": [
    {
     "name": "stdout",
     "output_type": "stream",
     "text": [
      "1/1 [==============================] - 0s 40ms/step\n",
      "1/1 [==============================] - 0s 52ms/step\n"
     ]
    },
    {
     "data": {
      "text/plain": [
       "array([[ True],\n",
       "       [ True],\n",
       "       [ True],\n",
       "       [ True],\n",
       "       [ True],\n",
       "       [ True],\n",
       "       [ True],\n",
       "       [ True],\n",
       "       [ True],\n",
       "       [ True]])"
      ]
     },
     "execution_count": 67,
     "metadata": {},
     "output_type": "execute_result"
    }
   ],
   "execution_count": 67
  },
  {
   "cell_type": "code",
   "source": "# Compare the MAE of model_2 preds and loaded_SavedModel_preds\nmae(y_true=y_test, y_pred=model_2_preds) == mae(y_true=y_test, y_pred=loaded_SavedModel_format_preds)",
   "metadata": {
    "collapsed": false,
    "trusted": false,
    "ExecuteTime": {
     "end_time": "2025-07-14T01:57:27.547233Z",
     "start_time": "2025-07-14T01:57:27.384907Z"
    }
   },
   "id": "2a2862a719eb26ad",
   "outputs": [
    {
     "data": {
      "text/plain": [
       "<tf.Tensor: shape=(), dtype=bool, numpy=True>"
      ]
     },
     "execution_count": 68,
     "metadata": {},
     "output_type": "execute_result"
    }
   ],
   "execution_count": 68
  },
  {
   "cell_type": "code",
   "source": "# Load in model using the .h5 format\nloaded_h5_model = tf.keras.models.load_model(\"best_model_HDF5_format.h5\")\nloaded_h5_model.summary()",
   "metadata": {
    "collapsed": false,
    "trusted": false,
    "ExecuteTime": {
     "end_time": "2025-07-14T01:57:27.716182Z",
     "start_time": "2025-07-14T01:57:27.638044Z"
    }
   },
   "id": "abf2e5db4f1e317d",
   "outputs": [
    {
     "name": "stdout",
     "output_type": "stream",
     "text": [
      "Model: \"sequential_5\"\n",
      "_________________________________________________________________\n",
      " Layer (type)                Output Shape              Param #   \n",
      "=================================================================\n",
      " dense_6 (Dense)             (None, 10)                20        \n",
      "                                                                 \n",
      " dense_7 (Dense)             (None, 1)                 11        \n",
      "                                                                 \n",
      "=================================================================\n",
      "Total params: 31 (124.00 Byte)\n",
      "Trainable params: 31 (124.00 Byte)\n",
      "Non-trainable params: 0 (0.00 Byte)\n",
      "_________________________________________________________________\n"
     ]
    }
   ],
   "execution_count": 69
  },
  {
   "cell_type": "code",
   "source": "# Check to see if loaded .h5 model predictions match model_2\nmodel_2_preds = model_2.predict(X_test)\nloaded_h5_model_preds = loaded_h5_model.predict(X_test)\nmodel_2_preds == loaded_h5_model_preds",
   "metadata": {
    "collapsed": false,
    "trusted": false,
    "ExecuteTime": {
     "end_time": "2025-07-14T01:57:27.948931Z",
     "start_time": "2025-07-14T01:57:27.794024Z"
    }
   },
   "id": "8dfd4812a43168e0",
   "outputs": [
    {
     "name": "stdout",
     "output_type": "stream",
     "text": [
      "1/1 [==============================] - 0s 27ms/step\n",
      "1/1 [==============================] - 0s 50ms/step\n"
     ]
    },
    {
     "data": {
      "text/plain": [
       "array([[ True],\n",
       "       [ True],\n",
       "       [ True],\n",
       "       [ True],\n",
       "       [ True],\n",
       "       [ True],\n",
       "       [ True],\n",
       "       [ True],\n",
       "       [ True],\n",
       "       [ True]])"
      ]
     },
     "execution_count": 70,
     "metadata": {},
     "output_type": "execute_result"
    }
   ],
   "execution_count": 70
  },
  {
   "cell_type": "markdown",
   "source": "## A larger Example",
   "metadata": {
    "collapsed": false
   },
   "id": "d4f8c8045cd632c9"
  },
  {
   "cell_type": "code",
   "source": "X_train, y_train",
   "metadata": {
    "collapsed": false,
    "trusted": false,
    "ExecuteTime": {
     "end_time": "2025-07-14T01:57:28.199326Z",
     "start_time": "2025-07-14T01:57:28.195458Z"
    }
   },
   "id": "609978110d94b6ae",
   "outputs": [
    {
     "data": {
      "text/plain": [
       "(<tf.Tensor: shape=(40,), dtype=int32, numpy=\n",
       " array([-100,  -96,  -92,  -88,  -84,  -80,  -76,  -72,  -68,  -64,  -60,\n",
       "         -56,  -52,  -48,  -44,  -40,  -36,  -32,  -28,  -24,  -20,  -16,\n",
       "         -12,   -8,   -4,    0,    4,    8,   12,   16,   20,   24,   28,\n",
       "          32,   36,   40,   44,   48,   52,   56], dtype=int32)>,\n",
       " <tf.Tensor: shape=(40,), dtype=int32, numpy=\n",
       " array([-90, -86, -82, -78, -74, -70, -66, -62, -58, -54, -50, -46, -42,\n",
       "        -38, -34, -30, -26, -22, -18, -14, -10,  -6,  -2,   2,   6,  10,\n",
       "         14,  18,  22,  26,  30,  34,  38,  42,  46,  50,  54,  58,  62,\n",
       "         66], dtype=int32)>)"
      ]
     },
     "execution_count": 71,
     "metadata": {},
     "output_type": "execute_result"
    }
   ],
   "execution_count": 71
  },
  {
   "cell_type": "code",
   "source": "# Import required libraries\nimport tensorflow as tf\nimport pandas as pd\nimport matplotlib.pyplot as plt",
   "metadata": {
    "collapsed": false,
    "trusted": false,
    "ExecuteTime": {
     "end_time": "2025-07-14T01:57:28.312290Z",
     "start_time": "2025-07-14T01:57:28.309492Z"
    }
   },
   "id": "5f6b5badf10907a9",
   "outputs": [],
   "execution_count": 72
  },
  {
   "cell_type": "code",
   "source": "# Read in the insurance dataset\ninsurance = pd.read_csv('Dataset/insurance.csv')\ninsurance",
   "metadata": {
    "collapsed": false,
    "trusted": false,
    "ExecuteTime": {
     "end_time": "2025-07-14T01:57:28.411459Z",
     "start_time": "2025-07-14T01:57:28.384551Z"
    }
   },
   "id": "40cfa82b64bd5417",
   "outputs": [
    {
     "data": {
      "text/plain": [
       "      age     sex     bmi  children smoker     region      charges\n",
       "0      19  female  27.900         0    yes  southwest  16884.92400\n",
       "1      18    male  33.770         1     no  southeast   1725.55230\n",
       "2      28    male  33.000         3     no  southeast   4449.46200\n",
       "3      33    male  22.705         0     no  northwest  21984.47061\n",
       "4      32    male  28.880         0     no  northwest   3866.85520\n",
       "...   ...     ...     ...       ...    ...        ...          ...\n",
       "1333   50    male  30.970         3     no  northwest  10600.54830\n",
       "1334   18  female  31.920         0     no  northeast   2205.98080\n",
       "1335   18  female  36.850         0     no  southeast   1629.83350\n",
       "1336   21  female  25.800         0     no  southwest   2007.94500\n",
       "1337   61  female  29.070         0    yes  northwest  29141.36030\n",
       "\n",
       "[1338 rows x 7 columns]"
      ],
      "text/html": [
       "<div>\n",
       "<style scoped>\n",
       "    .dataframe tbody tr th:only-of-type {\n",
       "        vertical-align: middle;\n",
       "    }\n",
       "\n",
       "    .dataframe tbody tr th {\n",
       "        vertical-align: top;\n",
       "    }\n",
       "\n",
       "    .dataframe thead th {\n",
       "        text-align: right;\n",
       "    }\n",
       "</style>\n",
       "<table border=\"1\" class=\"dataframe\">\n",
       "  <thead>\n",
       "    <tr style=\"text-align: right;\">\n",
       "      <th></th>\n",
       "      <th>age</th>\n",
       "      <th>sex</th>\n",
       "      <th>bmi</th>\n",
       "      <th>children</th>\n",
       "      <th>smoker</th>\n",
       "      <th>region</th>\n",
       "      <th>charges</th>\n",
       "    </tr>\n",
       "  </thead>\n",
       "  <tbody>\n",
       "    <tr>\n",
       "      <th>0</th>\n",
       "      <td>19</td>\n",
       "      <td>female</td>\n",
       "      <td>27.900</td>\n",
       "      <td>0</td>\n",
       "      <td>yes</td>\n",
       "      <td>southwest</td>\n",
       "      <td>16884.92400</td>\n",
       "    </tr>\n",
       "    <tr>\n",
       "      <th>1</th>\n",
       "      <td>18</td>\n",
       "      <td>male</td>\n",
       "      <td>33.770</td>\n",
       "      <td>1</td>\n",
       "      <td>no</td>\n",
       "      <td>southeast</td>\n",
       "      <td>1725.55230</td>\n",
       "    </tr>\n",
       "    <tr>\n",
       "      <th>2</th>\n",
       "      <td>28</td>\n",
       "      <td>male</td>\n",
       "      <td>33.000</td>\n",
       "      <td>3</td>\n",
       "      <td>no</td>\n",
       "      <td>southeast</td>\n",
       "      <td>4449.46200</td>\n",
       "    </tr>\n",
       "    <tr>\n",
       "      <th>3</th>\n",
       "      <td>33</td>\n",
       "      <td>male</td>\n",
       "      <td>22.705</td>\n",
       "      <td>0</td>\n",
       "      <td>no</td>\n",
       "      <td>northwest</td>\n",
       "      <td>21984.47061</td>\n",
       "    </tr>\n",
       "    <tr>\n",
       "      <th>4</th>\n",
       "      <td>32</td>\n",
       "      <td>male</td>\n",
       "      <td>28.880</td>\n",
       "      <td>0</td>\n",
       "      <td>no</td>\n",
       "      <td>northwest</td>\n",
       "      <td>3866.85520</td>\n",
       "    </tr>\n",
       "    <tr>\n",
       "      <th>...</th>\n",
       "      <td>...</td>\n",
       "      <td>...</td>\n",
       "      <td>...</td>\n",
       "      <td>...</td>\n",
       "      <td>...</td>\n",
       "      <td>...</td>\n",
       "      <td>...</td>\n",
       "    </tr>\n",
       "    <tr>\n",
       "      <th>1333</th>\n",
       "      <td>50</td>\n",
       "      <td>male</td>\n",
       "      <td>30.970</td>\n",
       "      <td>3</td>\n",
       "      <td>no</td>\n",
       "      <td>northwest</td>\n",
       "      <td>10600.54830</td>\n",
       "    </tr>\n",
       "    <tr>\n",
       "      <th>1334</th>\n",
       "      <td>18</td>\n",
       "      <td>female</td>\n",
       "      <td>31.920</td>\n",
       "      <td>0</td>\n",
       "      <td>no</td>\n",
       "      <td>northeast</td>\n",
       "      <td>2205.98080</td>\n",
       "    </tr>\n",
       "    <tr>\n",
       "      <th>1335</th>\n",
       "      <td>18</td>\n",
       "      <td>female</td>\n",
       "      <td>36.850</td>\n",
       "      <td>0</td>\n",
       "      <td>no</td>\n",
       "      <td>southeast</td>\n",
       "      <td>1629.83350</td>\n",
       "    </tr>\n",
       "    <tr>\n",
       "      <th>1336</th>\n",
       "      <td>21</td>\n",
       "      <td>female</td>\n",
       "      <td>25.800</td>\n",
       "      <td>0</td>\n",
       "      <td>no</td>\n",
       "      <td>southwest</td>\n",
       "      <td>2007.94500</td>\n",
       "    </tr>\n",
       "    <tr>\n",
       "      <th>1337</th>\n",
       "      <td>61</td>\n",
       "      <td>female</td>\n",
       "      <td>29.070</td>\n",
       "      <td>0</td>\n",
       "      <td>yes</td>\n",
       "      <td>northwest</td>\n",
       "      <td>29141.36030</td>\n",
       "    </tr>\n",
       "  </tbody>\n",
       "</table>\n",
       "<p>1338 rows × 7 columns</p>\n",
       "</div>"
      ]
     },
     "execution_count": 73,
     "metadata": {},
     "output_type": "execute_result"
    }
   ],
   "execution_count": 73
  },
  {
   "cell_type": "code",
   "source": "insurance[\"sex\"]",
   "metadata": {
    "collapsed": false,
    "trusted": false,
    "ExecuteTime": {
     "end_time": "2025-07-14T01:57:28.481986Z",
     "start_time": "2025-07-14T01:57:28.476448Z"
    }
   },
   "id": "2968facf3ae0337d",
   "outputs": [
    {
     "data": {
      "text/plain": [
       "0       female\n",
       "1         male\n",
       "2         male\n",
       "3         male\n",
       "4         male\n",
       "         ...  \n",
       "1333      male\n",
       "1334    female\n",
       "1335    female\n",
       "1336    female\n",
       "1337    female\n",
       "Name: sex, Length: 1338, dtype: object"
      ]
     },
     "execution_count": 74,
     "metadata": {},
     "output_type": "execute_result"
    }
   ],
   "execution_count": 74
  },
  {
   "cell_type": "code",
   "source": "# Let's try one-hot encode our DataFrame so it's all numbers\ninsurance_one_hot = pd.get_dummies(insurance, dtype=int)\ninsurance_one_hot.head()",
   "metadata": {
    "collapsed": false,
    "trusted": false,
    "ExecuteTime": {
     "end_time": "2025-07-14T01:57:28.640376Z",
     "start_time": "2025-07-14T01:57:28.628873Z"
    }
   },
   "id": "1cd3a133a4b6f4e1",
   "outputs": [
    {
     "data": {
      "text/plain": [
       "   age     bmi  children      charges  sex_female  sex_male  smoker_no  \\\n",
       "0   19  27.900         0  16884.92400           1         0          0   \n",
       "1   18  33.770         1   1725.55230           0         1          1   \n",
       "2   28  33.000         3   4449.46200           0         1          1   \n",
       "3   33  22.705         0  21984.47061           0         1          1   \n",
       "4   32  28.880         0   3866.85520           0         1          1   \n",
       "\n",
       "   smoker_yes  region_northeast  region_northwest  region_southeast  \\\n",
       "0           1                 0                 0                 0   \n",
       "1           0                 0                 0                 1   \n",
       "2           0                 0                 0                 1   \n",
       "3           0                 0                 1                 0   \n",
       "4           0                 0                 1                 0   \n",
       "\n",
       "   region_southwest  \n",
       "0                 1  \n",
       "1                 0  \n",
       "2                 0  \n",
       "3                 0  \n",
       "4                 0  "
      ],
      "text/html": [
       "<div>\n",
       "<style scoped>\n",
       "    .dataframe tbody tr th:only-of-type {\n",
       "        vertical-align: middle;\n",
       "    }\n",
       "\n",
       "    .dataframe tbody tr th {\n",
       "        vertical-align: top;\n",
       "    }\n",
       "\n",
       "    .dataframe thead th {\n",
       "        text-align: right;\n",
       "    }\n",
       "</style>\n",
       "<table border=\"1\" class=\"dataframe\">\n",
       "  <thead>\n",
       "    <tr style=\"text-align: right;\">\n",
       "      <th></th>\n",
       "      <th>age</th>\n",
       "      <th>bmi</th>\n",
       "      <th>children</th>\n",
       "      <th>charges</th>\n",
       "      <th>sex_female</th>\n",
       "      <th>sex_male</th>\n",
       "      <th>smoker_no</th>\n",
       "      <th>smoker_yes</th>\n",
       "      <th>region_northeast</th>\n",
       "      <th>region_northwest</th>\n",
       "      <th>region_southeast</th>\n",
       "      <th>region_southwest</th>\n",
       "    </tr>\n",
       "  </thead>\n",
       "  <tbody>\n",
       "    <tr>\n",
       "      <th>0</th>\n",
       "      <td>19</td>\n",
       "      <td>27.900</td>\n",
       "      <td>0</td>\n",
       "      <td>16884.92400</td>\n",
       "      <td>1</td>\n",
       "      <td>0</td>\n",
       "      <td>0</td>\n",
       "      <td>1</td>\n",
       "      <td>0</td>\n",
       "      <td>0</td>\n",
       "      <td>0</td>\n",
       "      <td>1</td>\n",
       "    </tr>\n",
       "    <tr>\n",
       "      <th>1</th>\n",
       "      <td>18</td>\n",
       "      <td>33.770</td>\n",
       "      <td>1</td>\n",
       "      <td>1725.55230</td>\n",
       "      <td>0</td>\n",
       "      <td>1</td>\n",
       "      <td>1</td>\n",
       "      <td>0</td>\n",
       "      <td>0</td>\n",
       "      <td>0</td>\n",
       "      <td>1</td>\n",
       "      <td>0</td>\n",
       "    </tr>\n",
       "    <tr>\n",
       "      <th>2</th>\n",
       "      <td>28</td>\n",
       "      <td>33.000</td>\n",
       "      <td>3</td>\n",
       "      <td>4449.46200</td>\n",
       "      <td>0</td>\n",
       "      <td>1</td>\n",
       "      <td>1</td>\n",
       "      <td>0</td>\n",
       "      <td>0</td>\n",
       "      <td>0</td>\n",
       "      <td>1</td>\n",
       "      <td>0</td>\n",
       "    </tr>\n",
       "    <tr>\n",
       "      <th>3</th>\n",
       "      <td>33</td>\n",
       "      <td>22.705</td>\n",
       "      <td>0</td>\n",
       "      <td>21984.47061</td>\n",
       "      <td>0</td>\n",
       "      <td>1</td>\n",
       "      <td>1</td>\n",
       "      <td>0</td>\n",
       "      <td>0</td>\n",
       "      <td>1</td>\n",
       "      <td>0</td>\n",
       "      <td>0</td>\n",
       "    </tr>\n",
       "    <tr>\n",
       "      <th>4</th>\n",
       "      <td>32</td>\n",
       "      <td>28.880</td>\n",
       "      <td>0</td>\n",
       "      <td>3866.85520</td>\n",
       "      <td>0</td>\n",
       "      <td>1</td>\n",
       "      <td>1</td>\n",
       "      <td>0</td>\n",
       "      <td>0</td>\n",
       "      <td>1</td>\n",
       "      <td>0</td>\n",
       "      <td>0</td>\n",
       "    </tr>\n",
       "  </tbody>\n",
       "</table>\n",
       "</div>"
      ]
     },
     "execution_count": 75,
     "metadata": {},
     "output_type": "execute_result"
    }
   ],
   "execution_count": 75
  },
  {
   "cell_type": "code",
   "source": "# Create X & y values (features and labels)\nX = insurance_one_hot.drop(\"charges\", axis=1)\ny = insurance_one_hot[\"charges\"]",
   "metadata": {
    "collapsed": false,
    "trusted": false,
    "ExecuteTime": {
     "end_time": "2025-07-14T01:57:28.918554Z",
     "start_time": "2025-07-14T01:57:28.913840Z"
    }
   },
   "id": "ec14db08cf1f038e",
   "outputs": [],
   "execution_count": 76
  },
  {
   "cell_type": "code",
   "source": "# View X\nX.head()",
   "metadata": {
    "collapsed": false,
    "trusted": false,
    "ExecuteTime": {
     "end_time": "2025-07-14T01:57:29.270103Z",
     "start_time": "2025-07-14T01:57:29.262678Z"
    }
   },
   "id": "fbb06cf5039450f0",
   "outputs": [
    {
     "data": {
      "text/plain": [
       "   age     bmi  children  sex_female  sex_male  smoker_no  smoker_yes  \\\n",
       "0   19  27.900         0           1         0          0           1   \n",
       "1   18  33.770         1           0         1          1           0   \n",
       "2   28  33.000         3           0         1          1           0   \n",
       "3   33  22.705         0           0         1          1           0   \n",
       "4   32  28.880         0           0         1          1           0   \n",
       "\n",
       "   region_northeast  region_northwest  region_southeast  region_southwest  \n",
       "0                 0                 0                 0                 1  \n",
       "1                 0                 0                 1                 0  \n",
       "2                 0                 0                 1                 0  \n",
       "3                 0                 1                 0                 0  \n",
       "4                 0                 1                 0                 0  "
      ],
      "text/html": [
       "<div>\n",
       "<style scoped>\n",
       "    .dataframe tbody tr th:only-of-type {\n",
       "        vertical-align: middle;\n",
       "    }\n",
       "\n",
       "    .dataframe tbody tr th {\n",
       "        vertical-align: top;\n",
       "    }\n",
       "\n",
       "    .dataframe thead th {\n",
       "        text-align: right;\n",
       "    }\n",
       "</style>\n",
       "<table border=\"1\" class=\"dataframe\">\n",
       "  <thead>\n",
       "    <tr style=\"text-align: right;\">\n",
       "      <th></th>\n",
       "      <th>age</th>\n",
       "      <th>bmi</th>\n",
       "      <th>children</th>\n",
       "      <th>sex_female</th>\n",
       "      <th>sex_male</th>\n",
       "      <th>smoker_no</th>\n",
       "      <th>smoker_yes</th>\n",
       "      <th>region_northeast</th>\n",
       "      <th>region_northwest</th>\n",
       "      <th>region_southeast</th>\n",
       "      <th>region_southwest</th>\n",
       "    </tr>\n",
       "  </thead>\n",
       "  <tbody>\n",
       "    <tr>\n",
       "      <th>0</th>\n",
       "      <td>19</td>\n",
       "      <td>27.900</td>\n",
       "      <td>0</td>\n",
       "      <td>1</td>\n",
       "      <td>0</td>\n",
       "      <td>0</td>\n",
       "      <td>1</td>\n",
       "      <td>0</td>\n",
       "      <td>0</td>\n",
       "      <td>0</td>\n",
       "      <td>1</td>\n",
       "    </tr>\n",
       "    <tr>\n",
       "      <th>1</th>\n",
       "      <td>18</td>\n",
       "      <td>33.770</td>\n",
       "      <td>1</td>\n",
       "      <td>0</td>\n",
       "      <td>1</td>\n",
       "      <td>1</td>\n",
       "      <td>0</td>\n",
       "      <td>0</td>\n",
       "      <td>0</td>\n",
       "      <td>1</td>\n",
       "      <td>0</td>\n",
       "    </tr>\n",
       "    <tr>\n",
       "      <th>2</th>\n",
       "      <td>28</td>\n",
       "      <td>33.000</td>\n",
       "      <td>3</td>\n",
       "      <td>0</td>\n",
       "      <td>1</td>\n",
       "      <td>1</td>\n",
       "      <td>0</td>\n",
       "      <td>0</td>\n",
       "      <td>0</td>\n",
       "      <td>1</td>\n",
       "      <td>0</td>\n",
       "    </tr>\n",
       "    <tr>\n",
       "      <th>3</th>\n",
       "      <td>33</td>\n",
       "      <td>22.705</td>\n",
       "      <td>0</td>\n",
       "      <td>0</td>\n",
       "      <td>1</td>\n",
       "      <td>1</td>\n",
       "      <td>0</td>\n",
       "      <td>0</td>\n",
       "      <td>1</td>\n",
       "      <td>0</td>\n",
       "      <td>0</td>\n",
       "    </tr>\n",
       "    <tr>\n",
       "      <th>4</th>\n",
       "      <td>32</td>\n",
       "      <td>28.880</td>\n",
       "      <td>0</td>\n",
       "      <td>0</td>\n",
       "      <td>1</td>\n",
       "      <td>1</td>\n",
       "      <td>0</td>\n",
       "      <td>0</td>\n",
       "      <td>1</td>\n",
       "      <td>0</td>\n",
       "      <td>0</td>\n",
       "    </tr>\n",
       "  </tbody>\n",
       "</table>\n",
       "</div>"
      ]
     },
     "execution_count": 77,
     "metadata": {},
     "output_type": "execute_result"
    }
   ],
   "execution_count": 77
  },
  {
   "cell_type": "code",
   "source": "# View y\ny.head()",
   "metadata": {
    "collapsed": false,
    "trusted": false,
    "ExecuteTime": {
     "end_time": "2025-07-14T01:57:29.492878Z",
     "start_time": "2025-07-14T01:57:29.488207Z"
    }
   },
   "id": "b131199c8b14bedc",
   "outputs": [
    {
     "data": {
      "text/plain": [
       "0    16884.92400\n",
       "1     1725.55230\n",
       "2     4449.46200\n",
       "3    21984.47061\n",
       "4     3866.85520\n",
       "Name: charges, dtype: float64"
      ]
     },
     "execution_count": 78,
     "metadata": {},
     "output_type": "execute_result"
    }
   ],
   "execution_count": 78
  },
  {
   "cell_type": "code",
   "source": "# Create training and test sets\nfrom sklearn.model_selection import train_test_split\nX_train, X_test, y_train, y_test = train_test_split(X, y, test_size=0.2, random_state=42)\nlen(X), len(X_train), len(X_test)",
   "metadata": {
    "collapsed": false,
    "trusted": false,
    "ExecuteTime": {
     "end_time": "2025-07-14T01:57:30.390536Z",
     "start_time": "2025-07-14T01:57:29.608546Z"
    }
   },
   "id": "b4b33cdd264babda",
   "outputs": [
    {
     "data": {
      "text/plain": [
       "(1338, 1070, 268)"
      ]
     },
     "execution_count": 79,
     "metadata": {},
     "output_type": "execute_result"
    }
   ],
   "execution_count": 79
  },
  {
   "cell_type": "code",
   "source": "# Build a neural network (sort of like model_2 above)\ntf.random.set_seed(42)\n\n# 1. Create a model\ninsurance_model = tf.keras.Sequential([\n    tf.keras.layers.Dense(10),\n    tf.keras.layers.Dense(1)\n])\n\n# 2. Compile the model\ninsurance_model.compile(loss=tf.keras.losses.mae,\n                        optimizer=tf.keras.optimizers.SGD(),\n                        metrics=['mae'])\n\n# 3. Fit the model\ninsurance_model.fit(X_train, y_train, epochs=100)",
   "metadata": {
    "collapsed": false,
    "trusted": false,
    "ExecuteTime": {
     "end_time": "2025-07-14T01:58:18.060321Z",
     "start_time": "2025-07-14T01:57:30.529193Z"
    }
   },
   "id": "de634e0199d4a8ab",
   "outputs": [
    {
     "name": "stdout",
     "output_type": "stream",
     "text": [
      "Epoch 1/100\n",
      "34/34 [==============================] - 1s 13ms/step - loss: 8595.0312 - mae: 8595.0312\n",
      "Epoch 2/100\n",
      "34/34 [==============================] - 0s 13ms/step - loss: 7882.9912 - mae: 7882.9912\n",
      "Epoch 3/100\n",
      "34/34 [==============================] - 9s 261ms/step - loss: 7595.6772 - mae: 7595.6772\n",
      "Epoch 4/100\n",
      "34/34 [==============================] - -8s -252873us/step - loss: 7688.9419 - mae: 7688.9419\n",
      "Epoch 5/100\n",
      "34/34 [==============================] - 0s 12ms/step - loss: 7706.1880 - mae: 7706.1880\n",
      "Epoch 6/100\n",
      "34/34 [==============================] - 0s 12ms/step - loss: 7605.5566 - mae: 7605.5566\n",
      "Epoch 7/100\n",
      "34/34 [==============================] - 0s 11ms/step - loss: 7593.7446 - mae: 7593.7446\n",
      "Epoch 8/100\n",
      "34/34 [==============================] - 0s 12ms/step - loss: 7727.0322 - mae: 7727.0322\n",
      "Epoch 9/100\n",
      "34/34 [==============================] - 0s 12ms/step - loss: 7484.8628 - mae: 7484.8628\n",
      "Epoch 10/100\n",
      "34/34 [==============================] - 0s 11ms/step - loss: 7751.2905 - mae: 7751.2905\n",
      "Epoch 11/100\n",
      "34/34 [==============================] - 0s 12ms/step - loss: 7695.0039 - mae: 7695.0039\n",
      "Epoch 12/100\n",
      "34/34 [==============================] - 0s 12ms/step - loss: 7635.3638 - mae: 7635.3638\n",
      "Epoch 13/100\n",
      "34/34 [==============================] - 0s 13ms/step - loss: 7664.1875 - mae: 7664.1875\n",
      "Epoch 14/100\n",
      "34/34 [==============================] - 0s 14ms/step - loss: 7647.7314 - mae: 7647.7314\n",
      "Epoch 15/100\n",
      "34/34 [==============================] - 9s 263ms/step - loss: 7510.2749 - mae: 7510.2749\n",
      "Epoch 16/100\n",
      "34/34 [==============================] - -8s -246981us/step - loss: 7702.3423 - mae: 7702.3423\n",
      "Epoch 17/100\n",
      "34/34 [==============================] - 0s 13ms/step - loss: 7604.2793 - mae: 7604.2793\n",
      "Epoch 18/100\n",
      "34/34 [==============================] - 0s 13ms/step - loss: 7663.5698 - mae: 7663.5698\n",
      "Epoch 19/100\n",
      "34/34 [==============================] - 0s 13ms/step - loss: 7780.1406 - mae: 7780.1406\n",
      "Epoch 20/100\n",
      "34/34 [==============================] - 0s 13ms/step - loss: 7872.8530 - mae: 7872.8530\n",
      "Epoch 21/100\n",
      "34/34 [==============================] - 0s 13ms/step - loss: 7536.1396 - mae: 7536.1396\n",
      "Epoch 22/100\n",
      "34/34 [==============================] - 0s 13ms/step - loss: 7846.4561 - mae: 7846.4561\n",
      "Epoch 23/100\n",
      "34/34 [==============================] - 0s 14ms/step - loss: 7702.3447 - mae: 7702.3447\n",
      "Epoch 24/100\n",
      "34/34 [==============================] - 0s 14ms/step - loss: 7508.2139 - mae: 7508.2139\n",
      "Epoch 25/100\n",
      "34/34 [==============================] - 0s 12ms/step - loss: 7550.5195 - mae: 7550.5195\n",
      "Epoch 26/100\n",
      "34/34 [==============================] - 0s 13ms/step - loss: 7685.7329 - mae: 7685.7329\n",
      "Epoch 27/100\n",
      "34/34 [==============================] - 9s 260ms/step - loss: 7734.2622 - mae: 7734.2622\n",
      "Epoch 28/100\n",
      "34/34 [==============================] - -8s -249881us/step - loss: 7478.9551 - mae: 7478.9551\n",
      "Epoch 29/100\n",
      "34/34 [==============================] - 0s 12ms/step - loss: 7677.3281 - mae: 7677.3281\n",
      "Epoch 30/100\n",
      "34/34 [==============================] - 0s 11ms/step - loss: 7449.3174 - mae: 7449.3174\n",
      "Epoch 31/100\n",
      "34/34 [==============================] - 0s 13ms/step - loss: 7467.2715 - mae: 7467.2715\n",
      "Epoch 32/100\n",
      "34/34 [==============================] - 0s 13ms/step - loss: 7484.8198 - mae: 7484.8198\n",
      "Epoch 33/100\n",
      "34/34 [==============================] - 0s 13ms/step - loss: 7442.7852 - mae: 7442.7852\n",
      "Epoch 34/100\n",
      "34/34 [==============================] - 0s 12ms/step - loss: 7488.3486 - mae: 7488.3486\n",
      "Epoch 35/100\n",
      "34/34 [==============================] - 0s 13ms/step - loss: 7605.0322 - mae: 7605.0322\n",
      "Epoch 36/100\n",
      "34/34 [==============================] - 0s 13ms/step - loss: 7367.0317 - mae: 7367.0317\n",
      "Epoch 37/100\n",
      "34/34 [==============================] - 0s 12ms/step - loss: 7720.3945 - mae: 7720.3945\n",
      "Epoch 38/100\n",
      "34/34 [==============================] - 1s 15ms/step - loss: 7416.4692 - mae: 7416.4692\n",
      "Epoch 39/100\n",
      "34/34 [==============================] - 0s 13ms/step - loss: 7547.2632 - mae: 7547.2632\n",
      "Epoch 40/100\n",
      "34/34 [==============================] - 1s 22ms/step - loss: 7205.2524 - mae: 7205.2524\n",
      "Epoch 41/100\n",
      "34/34 [==============================] - 1s 24ms/step - loss: 7760.5806 - mae: 7760.5806\n",
      "Epoch 42/100\n",
      "34/34 [==============================] - 1s 21ms/step - loss: 7393.8760 - mae: 7393.8760\n",
      "Epoch 43/100\n",
      "34/34 [==============================] - 1s 15ms/step - loss: 7623.4404 - mae: 7623.4404\n",
      "Epoch 44/100\n",
      "34/34 [==============================] - 1s 18ms/step - loss: 7421.1045 - mae: 7421.1045\n",
      "Epoch 45/100\n",
      "34/34 [==============================] - 0s 13ms/step - loss: 7238.3047 - mae: 7238.3047\n",
      "Epoch 46/100\n",
      "34/34 [==============================] - 0s 13ms/step - loss: 7346.1914 - mae: 7346.1914\n",
      "Epoch 47/100\n",
      "34/34 [==============================] - 1s 15ms/step - loss: 7410.6196 - mae: 7410.6196\n",
      "Epoch 48/100\n",
      "34/34 [==============================] - 9s 262ms/step - loss: 7383.9297 - mae: 7383.9297\n",
      "Epoch 49/100\n",
      "34/34 [==============================] - -8s -249919us/step - loss: 7509.5850 - mae: 7509.5850\n",
      "Epoch 50/100\n",
      "34/34 [==============================] - 1s 15ms/step - loss: 7486.3555 - mae: 7486.3555\n",
      "Epoch 51/100\n",
      "34/34 [==============================] - 0s 14ms/step - loss: 7315.5366 - mae: 7315.5366\n",
      "Epoch 52/100\n",
      "34/34 [==============================] - 0s 13ms/step - loss: 7495.9565 - mae: 7495.9565\n",
      "Epoch 53/100\n",
      "34/34 [==============================] - 0s 15ms/step - loss: 7534.2969 - mae: 7534.2969\n",
      "Epoch 54/100\n",
      "34/34 [==============================] - 0s 14ms/step - loss: 7082.8306 - mae: 7082.8306\n",
      "Epoch 55/100\n",
      "34/34 [==============================] - 0s 15ms/step - loss: 7210.0552 - mae: 7210.0552\n",
      "Epoch 56/100\n",
      "34/34 [==============================] - 0s 14ms/step - loss: 7384.1567 - mae: 7384.1567\n",
      "Epoch 57/100\n",
      "34/34 [==============================] - 1s 15ms/step - loss: 7318.5093 - mae: 7318.5093\n",
      "Epoch 58/100\n",
      "34/34 [==============================] - 0s 14ms/step - loss: 7403.8623 - mae: 7403.8623\n",
      "Epoch 59/100\n",
      "34/34 [==============================] - 0s 14ms/step - loss: 7622.0024 - mae: 7622.0024\n",
      "Epoch 60/100\n",
      "34/34 [==============================] - 9s 262ms/step - loss: 7442.5000 - mae: 7442.5000\n",
      "Epoch 61/100\n",
      "34/34 [==============================] - -8s -250112us/step - loss: 7494.1680 - mae: 7494.1680\n",
      "Epoch 62/100\n",
      "34/34 [==============================] - 1s 15ms/step - loss: 7093.8701 - mae: 7093.8701\n",
      "Epoch 63/100\n",
      "34/34 [==============================] - 1s 16ms/step - loss: 7419.3252 - mae: 7419.3252\n",
      "Epoch 64/100\n",
      "34/34 [==============================] - 1s 15ms/step - loss: 7296.0327 - mae: 7296.0327\n",
      "Epoch 65/100\n",
      "34/34 [==============================] - 0s 15ms/step - loss: 7432.8706 - mae: 7432.8706\n",
      "Epoch 66/100\n",
      "34/34 [==============================] - 1s 19ms/step - loss: 7205.3892 - mae: 7205.3892\n",
      "Epoch 67/100\n",
      "34/34 [==============================] - 1s 20ms/step - loss: 7370.6523 - mae: 7370.6523\n",
      "Epoch 68/100\n",
      "34/34 [==============================] - 1s 15ms/step - loss: 7518.1616 - mae: 7518.1616\n",
      "Epoch 69/100\n",
      "34/34 [==============================] - 0s 14ms/step - loss: 7564.5000 - mae: 7564.5000\n",
      "Epoch 70/100\n",
      "34/34 [==============================] - 0s 14ms/step - loss: 7548.2617 - mae: 7548.2617\n",
      "Epoch 71/100\n",
      "34/34 [==============================] - 0s 15ms/step - loss: 7262.9756 - mae: 7262.9756\n",
      "Epoch 72/100\n",
      "34/34 [==============================] - 9s 262ms/step - loss: 7276.4409 - mae: 7276.4409\n",
      "Epoch 73/100\n",
      "34/34 [==============================] - -8s -249578us/step - loss: 7376.0537 - mae: 7376.0537\n",
      "Epoch 74/100\n",
      "34/34 [==============================] - 0s 14ms/step - loss: 7317.3652 - mae: 7317.3652\n",
      "Epoch 75/100\n",
      "34/34 [==============================] - 0s 14ms/step - loss: 7314.3579 - mae: 7314.3579\n",
      "Epoch 76/100\n",
      "34/34 [==============================] - 1s 15ms/step - loss: 7156.7720 - mae: 7156.7720\n",
      "Epoch 77/100\n",
      "34/34 [==============================] - 0s 14ms/step - loss: 7427.4312 - mae: 7427.4312\n",
      "Epoch 78/100\n",
      "34/34 [==============================] - 1s 16ms/step - loss: 7206.1963 - mae: 7206.1963\n",
      "Epoch 79/100\n",
      "34/34 [==============================] - 1s 15ms/step - loss: 7428.5557 - mae: 7428.5557\n",
      "Epoch 80/100\n",
      "34/34 [==============================] - 1s 17ms/step - loss: 7247.7319 - mae: 7247.7319\n",
      "Epoch 81/100\n",
      "34/34 [==============================] - 1s 16ms/step - loss: 7231.9526 - mae: 7231.9526\n",
      "Epoch 82/100\n",
      "34/34 [==============================] - 1s 17ms/step - loss: 7130.3843 - mae: 7130.3843\n",
      "Epoch 83/100\n",
      "34/34 [==============================] - 1s 16ms/step - loss: 7406.2598 - mae: 7406.2598\n",
      "Epoch 84/100\n",
      "34/34 [==============================] - 9s 262ms/step - loss: 7359.2349 - mae: 7359.2349\n",
      "Epoch 85/100\n",
      "34/34 [==============================] - -8s -248454us/step - loss: 7458.7119 - mae: 7458.7119\n",
      "Epoch 86/100\n",
      "34/34 [==============================] - 1s 16ms/step - loss: 7399.4302 - mae: 7399.4302\n",
      "Epoch 87/100\n",
      "34/34 [==============================] - 1s 17ms/step - loss: 7289.1777 - mae: 7289.1777\n",
      "Epoch 88/100\n",
      "34/34 [==============================] - 1s 17ms/step - loss: 7348.6553 - mae: 7348.6553\n",
      "Epoch 89/100\n",
      "34/34 [==============================] - 1s 17ms/step - loss: 7218.4663 - mae: 7218.4663\n",
      "Epoch 90/100\n",
      "34/34 [==============================] - 1s 18ms/step - loss: 7200.7944 - mae: 7200.7944\n",
      "Epoch 91/100\n",
      "34/34 [==============================] - 1s 19ms/step - loss: 7246.3301 - mae: 7246.3301\n",
      "Epoch 92/100\n",
      "34/34 [==============================] - 1s 18ms/step - loss: 7322.3784 - mae: 7322.3784\n",
      "Epoch 93/100\n",
      "34/34 [==============================] - 1s 20ms/step - loss: 7331.1855 - mae: 7331.1855\n",
      "Epoch 94/100\n",
      "34/34 [==============================] - 0s 3ms/step - loss: 7322.8755 - mae: 7322.8755\n",
      "Epoch 95/100\n",
      "34/34 [==============================] - 1s 17ms/step - loss: 7439.2310 - mae: 7439.2310\n",
      "Epoch 96/100\n",
      "34/34 [==============================] - 1s 17ms/step - loss: 7035.4883 - mae: 7035.4883\n",
      "Epoch 97/100\n",
      "34/34 [==============================] - 1s 16ms/step - loss: 7349.6343 - mae: 7349.6343\n",
      "Epoch 98/100\n",
      "34/34 [==============================] - 1s 16ms/step - loss: 7445.3916 - mae: 7445.3916\n",
      "Epoch 99/100\n",
      "34/34 [==============================] - 0s 14ms/step - loss: 7265.2085 - mae: 7265.2085\n",
      "Epoch 100/100\n",
      "34/34 [==============================] - 1s 16ms/step - loss: 7150.3647 - mae: 7150.3647\n"
     ]
    },
    {
     "data": {
      "text/plain": [
       "<keras.src.callbacks.History at 0x7e427f326f50>"
      ]
     },
     "execution_count": 80,
     "metadata": {},
     "output_type": "execute_result"
    }
   ],
   "execution_count": 80
  },
  {
   "cell_type": "code",
   "source": "# Check the results of the insurance model on the test data\ninsurance_model.evaluate(X_test, y_test)",
   "metadata": {
    "collapsed": false,
    "trusted": false,
    "ExecuteTime": {
     "end_time": "2025-07-14T01:58:18.698330Z",
     "start_time": "2025-07-14T01:58:18.294451Z"
    }
   },
   "id": "14b3a02e3c33e1c",
   "outputs": [
    {
     "name": "stdout",
     "output_type": "stream",
     "text": [
      "9/9 [==============================] - 0s 11ms/step - loss: 8661.1641 - mae: 8661.1641\n"
     ]
    },
    {
     "data": {
      "text/plain": [
       "[8661.1640625, 8661.1640625]"
      ]
     },
     "execution_count": 81,
     "metadata": {},
     "output_type": "execute_result"
    }
   ],
   "execution_count": 81
  },
  {
   "cell_type": "code",
   "source": "y_train.median(), y_train.mean()",
   "metadata": {
    "collapsed": false,
    "trusted": false,
    "ExecuteTime": {
     "end_time": "2025-07-14T01:58:28.132494Z",
     "start_time": "2025-07-14T01:58:28.128590Z"
    }
   },
   "id": "a60437ead8ed7d4b",
   "outputs": [
    {
     "data": {
      "text/plain": [
       "(9575.4421, 13346.089736364485)"
      ]
     },
     "execution_count": 82,
     "metadata": {},
     "output_type": "execute_result"
    }
   ],
   "execution_count": 82
  },
  {
   "cell_type": "markdown",
   "source": "Right now it looks like our model Isn't performing to well... let's try and improve it!\n\nTo (try) improve our model, we'll run 2 experiments:\n1. Add an extra layer with more hidden units and use the Adam optimizer\n2. Same as above but train for longger (200 epochs)\n3. (insert our own experiment here)",
   "metadata": {
    "collapsed": false
   },
   "id": "a65b590d46ee1758"
  },
  {
   "cell_type": "code",
   "source": "X_train, y_train",
   "metadata": {
    "collapsed": false,
    "trusted": false,
    "ExecuteTime": {
     "end_time": "2025-07-14T01:58:19.571451Z",
     "start_time": "2025-07-14T01:58:28.225506Z"
    }
   },
   "id": "867239afb5cf971",
   "outputs": [
    {
     "data": {
      "text/plain": [
       "(      age     bmi  children  sex_female  sex_male  smoker_no  smoker_yes  \\\n",
       " 560    46  19.950         2           1         0          1           0   \n",
       " 1285   47  24.320         0           1         0          1           0   \n",
       " 1142   52  24.860         0           1         0          1           0   \n",
       " 969    39  34.320         5           1         0          1           0   \n",
       " 486    54  21.470         3           1         0          1           0   \n",
       " ...   ...     ...       ...         ...       ...        ...         ...   \n",
       " 1095   18  31.350         4           1         0          1           0   \n",
       " 1130   39  23.870         5           1         0          1           0   \n",
       " 1294   58  25.175         0           0         1          1           0   \n",
       " 860    37  47.600         2           1         0          0           1   \n",
       " 1126   55  29.900         0           0         1          1           0   \n",
       " \n",
       "       region_northeast  region_northwest  region_southeast  region_southwest  \n",
       " 560                  0                 1                 0                 0  \n",
       " 1285                 1                 0                 0                 0  \n",
       " 1142                 0                 0                 1                 0  \n",
       " 969                  0                 0                 1                 0  \n",
       " 486                  0                 1                 0                 0  \n",
       " ...                ...               ...               ...               ...  \n",
       " 1095                 1                 0                 0                 0  \n",
       " 1130                 0                 0                 1                 0  \n",
       " 1294                 1                 0                 0                 0  \n",
       " 860                  0                 0                 0                 1  \n",
       " 1126                 0                 0                 0                 1  \n",
       " \n",
       " [1070 rows x 11 columns],\n",
       " 560      9193.83850\n",
       " 1285     8534.67180\n",
       " 1142    27117.99378\n",
       " 969      8596.82780\n",
       " 486     12475.35130\n",
       "            ...     \n",
       " 1095     4561.18850\n",
       " 1130     8582.30230\n",
       " 1294    11931.12525\n",
       " 860     46113.51100\n",
       " 1126    10214.63600\n",
       " Name: charges, Length: 1070, dtype: float64)"
      ]
     },
     "execution_count": 83,
     "metadata": {},
     "output_type": "execute_result"
    }
   ],
   "execution_count": 83
  },
  {
   "cell_type": "code",
   "source": "# Set random seed\ntf.random.set_seed(42)\n\n# 1. Create the model\ninsurance_model_2 = tf.keras.Sequential([\n    tf.keras.layers.Dense(100),\n    tf.keras.layers.Dense(10),\n    tf.keras.layers.Dense(1)\n])\n\n# 2. Compile the model\ninsurance_model_2.compile(loss=tf.keras.losses.mae,\n                          optimizer=tf.keras.optimizers.Adam(),\n                          metrics=[\"mae\"])\n\n# 3 Fit the model\ninsurance_model_2.fit(X_train, y_train, epochs=100, verbose=1)",
   "metadata": {
    "collapsed": false,
    "trusted": false,
    "ExecuteTime": {
     "end_time": "2025-07-14T01:59:22.422404Z",
     "start_time": "2025-07-14T01:58:19.648731Z"
    }
   },
   "id": "669143dbe6b04600",
   "outputs": [
    {
     "name": "stdout",
     "output_type": "stream",
     "text": [
      "Epoch 1/100\n",
      "34/34 [==============================] - 1s 14ms/step - loss: 13300.2734 - mae: 13300.2734\n",
      "Epoch 2/100\n",
      "34/34 [==============================] - 1s 19ms/step - loss: 13125.8936 - mae: 13125.8936\n",
      "Epoch 3/100\n",
      "34/34 [==============================] - 1s 18ms/step - loss: 12780.7246 - mae: 12780.7246\n",
      "Epoch 4/100\n",
      "34/34 [==============================] - 1s 16ms/step - loss: 12108.9883 - mae: 12108.9883\n",
      "Epoch 5/100\n",
      "34/34 [==============================] - 1s 15ms/step - loss: 10976.5752 - mae: 10976.5752\n",
      "Epoch 6/100\n",
      "34/34 [==============================] - 0s 14ms/step - loss: 9517.9727 - mae: 9517.9727\n",
      "Epoch 7/100\n",
      "34/34 [==============================] - 0s 14ms/step - loss: 8170.0342 - mae: 8170.0342\n",
      "Epoch 8/100\n",
      "34/34 [==============================] - 0s 14ms/step - loss: 7526.1309 - mae: 7526.1309\n",
      "Epoch 9/100\n",
      "34/34 [==============================] - 0s -67us/step - loss: 7423.3848 - mae: 7423.3848\n",
      "Epoch 10/100\n",
      "34/34 [==============================] - 1s 15ms/step - loss: 7402.9927 - mae: 7402.9927\n",
      "Epoch 11/100\n",
      "34/34 [==============================] - 0s 13ms/step - loss: 7383.8950 - mae: 7383.8950\n",
      "Epoch 12/100\n",
      "34/34 [==============================] - 0s 14ms/step - loss: 7361.4863 - mae: 7361.4863\n",
      "Epoch 13/100\n",
      "34/34 [==============================] - 0s 14ms/step - loss: 7340.5933 - mae: 7340.5933\n",
      "Epoch 14/100\n",
      "34/34 [==============================] - 0s 13ms/step - loss: 7317.8594 - mae: 7317.8594\n",
      "Epoch 15/100\n",
      "34/34 [==============================] - 0s 14ms/step - loss: 7298.4058 - mae: 7298.4058\n",
      "Epoch 16/100\n",
      "34/34 [==============================] - 1s 20ms/step - loss: 7275.4185 - mae: 7275.4185\n",
      "Epoch 17/100\n",
      "34/34 [==============================] - 1s 17ms/step - loss: 7254.6621 - mae: 7254.6621\n",
      "Epoch 18/100\n",
      "34/34 [==============================] - 5s 162ms/step - loss: 7230.7178 - mae: 7230.7178\n",
      "Epoch 19/100\n",
      "34/34 [==============================] - 1s 24ms/step - loss: 7207.3413 - mae: 7207.3413\n",
      "Epoch 20/100\n",
      "34/34 [==============================] - 1s 18ms/step - loss: 7182.7729 - mae: 7182.7734\n",
      "Epoch 21/100\n",
      "34/34 [==============================] - 1s 19ms/step - loss: 7163.4746 - mae: 7163.4746\n",
      "Epoch 22/100\n",
      "34/34 [==============================] - 1s 18ms/step - loss: 7133.8706 - mae: 7133.8706\n",
      "Epoch 23/100\n",
      "34/34 [==============================] - 1s 15ms/step - loss: 7107.2935 - mae: 7107.2935\n",
      "Epoch 24/100\n",
      "34/34 [==============================] - 1s 17ms/step - loss: 7080.6538 - mae: 7080.6538\n",
      "Epoch 25/100\n",
      "34/34 [==============================] - 0s 14ms/step - loss: 7060.1523 - mae: 7060.1528\n",
      "Epoch 26/100\n",
      "34/34 [==============================] - 1s 15ms/step - loss: 7027.0317 - mae: 7027.0317\n",
      "Epoch 27/100\n",
      "34/34 [==============================] - 9s 260ms/step - loss: 6996.4131 - mae: 6996.4131\n",
      "Epoch 28/100\n",
      "34/34 [==============================] - -8s -251522us/step - loss: 6965.7607 - mae: 6965.7607\n",
      "Epoch 29/100\n",
      "34/34 [==============================] - 0s 13ms/step - loss: 6934.9648 - mae: 6934.9648\n",
      "Epoch 30/100\n",
      "34/34 [==============================] - 0s 14ms/step - loss: 6905.2632 - mae: 6905.2632\n",
      "Epoch 31/100\n",
      "34/34 [==============================] - 1s 15ms/step - loss: 6871.7070 - mae: 6871.7070\n",
      "Epoch 32/100\n",
      "34/34 [==============================] - 1s 15ms/step - loss: 6839.6050 - mae: 6839.6050\n",
      "Epoch 33/100\n",
      "34/34 [==============================] - 1s 17ms/step - loss: 6804.8979 - mae: 6804.8979\n",
      "Epoch 34/100\n",
      "34/34 [==============================] - 1s 17ms/step - loss: 6769.8950 - mae: 6769.8950\n",
      "Epoch 35/100\n",
      "34/34 [==============================] - 0s 14ms/step - loss: 6731.7134 - mae: 6731.7134\n",
      "Epoch 36/100\n",
      "34/34 [==============================] - 1s 15ms/step - loss: 6694.4224 - mae: 6694.4224\n",
      "Epoch 37/100\n",
      "34/34 [==============================] - 1s 16ms/step - loss: 6655.2842 - mae: 6655.2842\n",
      "Epoch 38/100\n",
      "34/34 [==============================] - 0s 180us/step - loss: 6622.7783 - mae: 6622.7783\n",
      "Epoch 39/100\n",
      "34/34 [==============================] - 0s 14ms/step - loss: 6583.0190 - mae: 6583.0190\n",
      "Epoch 40/100\n",
      "34/34 [==============================] - 1s 16ms/step - loss: 6552.1284 - mae: 6552.1284\n",
      "Epoch 41/100\n",
      "34/34 [==============================] - 1s 18ms/step - loss: 6527.0410 - mae: 6527.0410\n",
      "Epoch 42/100\n",
      "34/34 [==============================] - 1s 16ms/step - loss: 6504.5049 - mae: 6504.5049\n",
      "Epoch 43/100\n",
      "34/34 [==============================] - 1s 15ms/step - loss: 6484.3726 - mae: 6484.3726\n",
      "Epoch 44/100\n",
      "34/34 [==============================] - 1s 16ms/step - loss: 6466.5991 - mae: 6466.5991\n",
      "Epoch 45/100\n",
      "34/34 [==============================] - 1s 18ms/step - loss: 6457.1333 - mae: 6457.1333\n",
      "Epoch 46/100\n",
      "34/34 [==============================] - 1s 16ms/step - loss: 6439.6572 - mae: 6439.6572\n",
      "Epoch 47/100\n",
      "34/34 [==============================] - 0s 14ms/step - loss: 6423.2134 - mae: 6423.2134\n",
      "Epoch 48/100\n",
      "34/34 [==============================] - 0s 191us/step - loss: 6408.6118 - mae: 6408.6118\n",
      "Epoch 49/100\n",
      "34/34 [==============================] - 1s 16ms/step - loss: 6397.6680 - mae: 6397.6680\n",
      "Epoch 50/100\n",
      "34/34 [==============================] - 1s 17ms/step - loss: 6382.6719 - mae: 6382.6719\n",
      "Epoch 51/100\n",
      "34/34 [==============================] - 1s 15ms/step - loss: 6368.3447 - mae: 6368.3447\n",
      "Epoch 52/100\n",
      "34/34 [==============================] - 1s 15ms/step - loss: 6354.7666 - mae: 6354.7666\n",
      "Epoch 53/100\n",
      "34/34 [==============================] - 1s 15ms/step - loss: 6339.8276 - mae: 6339.8276\n",
      "Epoch 54/100\n",
      "34/34 [==============================] - 1s 18ms/step - loss: 6325.2368 - mae: 6325.2368\n",
      "Epoch 55/100\n",
      "34/34 [==============================] - 1s 15ms/step - loss: 6310.7642 - mae: 6310.7642\n",
      "Epoch 56/100\n",
      "34/34 [==============================] - 0s 13ms/step - loss: 6296.0161 - mae: 6296.0161\n",
      "Epoch 57/100\n",
      "34/34 [==============================] - 0s 12ms/step - loss: 6281.3975 - mae: 6281.3975\n",
      "Epoch 58/100\n",
      "34/34 [==============================] - 9s 261ms/step - loss: 6266.6963 - mae: 6266.6963\n",
      "Epoch 59/100\n",
      "34/34 [==============================] - -8s -250149us/step - loss: 6249.6870 - mae: 6249.6870\n",
      "Epoch 60/100\n",
      "34/34 [==============================] - 0s 12ms/step - loss: 6237.9468 - mae: 6237.9468\n",
      "Epoch 61/100\n",
      "34/34 [==============================] - 0s 13ms/step - loss: 6216.1841 - mae: 6216.1841\n",
      "Epoch 62/100\n",
      "34/34 [==============================] - 0s 13ms/step - loss: 6203.2891 - mae: 6203.2891\n",
      "Epoch 63/100\n",
      "34/34 [==============================] - 1s 16ms/step - loss: 6182.8462 - mae: 6182.8462\n",
      "Epoch 64/100\n",
      "34/34 [==============================] - 0s 15ms/step - loss: 6164.4502 - mae: 6164.4502\n",
      "Epoch 65/100\n",
      "34/34 [==============================] - 1s 19ms/step - loss: 6145.8779 - mae: 6145.8779\n",
      "Epoch 66/100\n",
      "34/34 [==============================] - 1s 16ms/step - loss: 6126.3301 - mae: 6126.3301\n",
      "Epoch 67/100\n",
      "34/34 [==============================] - 1s 15ms/step - loss: 6112.2056 - mae: 6112.2056\n",
      "Epoch 68/100\n",
      "34/34 [==============================] - 0s 15ms/step - loss: 6087.5098 - mae: 6087.5098\n",
      "Epoch 69/100\n",
      "34/34 [==============================] - 9s 264ms/step - loss: 6069.6260 - mae: 6069.6260\n",
      "Epoch 70/100\n",
      "34/34 [==============================] - -8s -248043us/step - loss: 6047.1836 - mae: 6047.1836\n",
      "Epoch 71/100\n",
      "34/34 [==============================] - 0s 14ms/step - loss: 6025.7588 - mae: 6025.7588\n",
      "Epoch 72/100\n",
      "34/34 [==============================] - 0s 14ms/step - loss: 6002.4238 - mae: 6002.4238\n",
      "Epoch 73/100\n",
      "34/34 [==============================] - 1s 15ms/step - loss: 5987.5010 - mae: 5987.5010\n",
      "Epoch 74/100\n",
      "34/34 [==============================] - 1s 16ms/step - loss: 5954.7627 - mae: 5954.7627\n",
      "Epoch 75/100\n",
      "34/34 [==============================] - 0s 14ms/step - loss: 5931.7432 - mae: 5931.7432\n",
      "Epoch 76/100\n",
      "34/34 [==============================] - 0s 14ms/step - loss: 5911.7695 - mae: 5911.7695\n",
      "Epoch 77/100\n",
      "34/34 [==============================] - 1s 15ms/step - loss: 5878.0923 - mae: 5878.0923\n",
      "Epoch 78/100\n",
      "34/34 [==============================] - 1s 18ms/step - loss: 5852.1704 - mae: 5852.1704\n",
      "Epoch 79/100\n",
      "34/34 [==============================] - 0s 14ms/step - loss: 5823.7534 - mae: 5823.7534\n",
      "Epoch 80/100\n",
      "34/34 [==============================] - 9s 263ms/step - loss: 5792.0859 - mae: 5792.0859\n",
      "Epoch 81/100\n",
      "34/34 [==============================] - 1s 15ms/step - loss: 5763.8218 - mae: 5763.8223\n",
      "Epoch 82/100\n",
      "34/34 [==============================] - 1s 17ms/step - loss: 5730.6777 - mae: 5730.6777\n",
      "Epoch 83/100\n",
      "34/34 [==============================] - 1s 15ms/step - loss: 5699.2524 - mae: 5699.2529\n",
      "Epoch 84/100\n",
      "34/34 [==============================] - 1s 16ms/step - loss: 5661.1338 - mae: 5661.1338\n",
      "Epoch 85/100\n",
      "34/34 [==============================] - 1s 19ms/step - loss: 5629.7222 - mae: 5629.7222\n",
      "Epoch 86/100\n",
      "34/34 [==============================] - 1s 16ms/step - loss: 5592.7505 - mae: 5592.7505\n",
      "Epoch 87/100\n",
      "34/34 [==============================] - 0s 14ms/step - loss: 5550.4312 - mae: 5550.4312\n",
      "Epoch 88/100\n",
      "34/34 [==============================] - 1s 15ms/step - loss: 5509.2007 - mae: 5509.2007\n",
      "Epoch 89/100\n",
      "34/34 [==============================] - 0s 15ms/step - loss: 5464.9014 - mae: 5464.9014\n",
      "Epoch 90/100\n",
      "34/34 [==============================] - 0s 3ms/step - loss: 5416.5376 - mae: 5416.5376\n",
      "Epoch 91/100\n",
      "34/34 [==============================] - 0s 15ms/step - loss: 5375.1870 - mae: 5375.1870\n",
      "Epoch 92/100\n",
      "34/34 [==============================] - 0s 14ms/step - loss: 5322.2275 - mae: 5322.2275\n",
      "Epoch 93/100\n",
      "34/34 [==============================] - 0s 15ms/step - loss: 5272.3286 - mae: 5272.3286\n",
      "Epoch 94/100\n",
      "34/34 [==============================] - 0s 14ms/step - loss: 5219.0859 - mae: 5219.0859\n",
      "Epoch 95/100\n",
      "34/34 [==============================] - 1s 17ms/step - loss: 5161.8076 - mae: 5161.8076\n",
      "Epoch 96/100\n",
      "34/34 [==============================] - 0s 14ms/step - loss: 5110.9341 - mae: 5110.9341\n",
      "Epoch 97/100\n",
      "34/34 [==============================] - 0s 14ms/step - loss: 5049.8608 - mae: 5049.8608\n",
      "Epoch 98/100\n",
      "34/34 [==============================] - 1s 16ms/step - loss: 4981.5112 - mae: 4981.5112\n",
      "Epoch 99/100\n",
      "34/34 [==============================] - 1s 15ms/step - loss: 4913.7681 - mae: 4913.7681\n",
      "Epoch 100/100\n",
      "34/34 [==============================] - 1s 15ms/step - loss: 4853.8716 - mae: 4853.8716\n"
     ]
    },
    {
     "data": {
      "text/plain": [
       "<keras.src.callbacks.History at 0x7e42bbf09d90>"
      ]
     },
     "execution_count": 84,
     "metadata": {},
     "output_type": "execute_result"
    }
   ],
   "execution_count": 84
  },
  {
   "cell_type": "code",
   "source": "# Evaluate the larger model\ninsurance_model_2.evaluate(X_test, y_test)",
   "metadata": {
    "collapsed": false,
    "trusted": false,
    "ExecuteTime": {
     "end_time": "2025-07-14T01:59:22.721401Z",
     "start_time": "2025-07-14T01:59:22.498040Z"
    }
   },
   "id": "f464184418e3b1a1",
   "outputs": [
    {
     "name": "stdout",
     "output_type": "stream",
     "text": [
      "9/9 [==============================] - 0s 11ms/step - loss: 4733.4570 - mae: 4733.4570\n"
     ]
    },
    {
     "data": {
      "text/plain": [
       "[4733.45703125, 4733.45703125]"
      ]
     },
     "execution_count": 85,
     "metadata": {},
     "output_type": "execute_result"
    }
   ],
   "execution_count": 85
  },
  {
   "cell_type": "code",
   "source": "insurance_model.evaluate(X_test, y_test)",
   "metadata": {
    "collapsed": false,
    "trusted": false,
    "ExecuteTime": {
     "end_time": "2025-07-14T01:59:14.215096Z",
     "start_time": "2025-07-14T01:59:22.762424Z"
    }
   },
   "id": "3f5ca9d38ec4c2fe",
   "outputs": [
    {
     "name": "stdout",
     "output_type": "stream",
     "text": [
      "9/9 [==============================] - -9s 10ms/step - loss: 8661.1641 - mae: 8661.1641\n"
     ]
    },
    {
     "data": {
      "text/plain": [
       "[8661.1640625, 8661.1640625]"
      ]
     },
     "execution_count": 86,
     "metadata": {},
     "output_type": "execute_result"
    }
   ],
   "execution_count": 86
  },
  {
   "cell_type": "code",
   "source": "# Set random seed\ntf.random.set_seed(42)\n\n# 1. Create the model (same as above)\ninsurance_model_3 = tf.keras.Sequential([\n    tf.keras.layers.Dense(100),\n    tf.keras.layers.Dense(10),\n    tf.keras.layers.Dense(1)\n])\n\n# 2. Compile the model\ninsurance_model_3.compile(loss=tf.keras.losses.mae,\n                          optimizer=tf.keras.optimizers.Adam(),\n                          metrics=[\"mae\"])\n\n# 3. Fit the model\nhistory = insurance_model_3.fit(X_train, y_train, epochs=200)",
   "metadata": {
    "collapsed": false,
    "trusted": false,
    "ExecuteTime": {
     "end_time": "2025-07-14T02:00:58.771202Z",
     "start_time": "2025-07-14T01:59:14.274635Z"
    }
   },
   "id": "56ece3f24d5d2b4",
   "outputs": [
    {
     "name": "stdout",
     "output_type": "stream",
     "text": [
      "Epoch 1/200\n",
      "34/34 [==============================] - 1s 15ms/step - loss: 13303.0586 - mae: 13303.0586\n",
      "Epoch 2/200\n",
      "34/34 [==============================] - 0s 14ms/step - loss: 13119.9111 - mae: 13119.9111\n",
      "Epoch 3/200\n",
      "34/34 [==============================] - 0s 14ms/step - loss: 12755.4404 - mae: 12755.4404\n",
      "Epoch 4/200\n",
      "34/34 [==============================] - 1s 18ms/step - loss: 12044.5723 - mae: 12044.5723\n",
      "Epoch 5/200\n",
      "34/34 [==============================] - 1s 22ms/step - loss: 10865.4814 - mae: 10865.4814\n",
      "Epoch 6/200\n",
      "34/34 [==============================] - 1s 16ms/step - loss: 9392.8633 - mae: 9392.8633\n",
      "Epoch 7/200\n",
      "34/34 [==============================] - 1s 16ms/step - loss: 8089.5034 - mae: 8089.5034\n",
      "Epoch 8/200\n",
      "34/34 [==============================] - 0s 4ms/step - loss: 7510.6831 - mae: 7510.6831\n",
      "Epoch 9/200\n",
      "34/34 [==============================] - 1s 16ms/step - loss: 7423.7510 - mae: 7423.7510\n",
      "Epoch 10/200\n",
      "34/34 [==============================] - 1s 16ms/step - loss: 7404.0244 - mae: 7404.0244\n",
      "Epoch 11/200\n",
      "34/34 [==============================] - 1s 16ms/step - loss: 7385.3662 - mae: 7385.3662\n",
      "Epoch 12/200\n",
      "34/34 [==============================] - 1s 17ms/step - loss: 7362.9326 - mae: 7362.9326\n",
      "Epoch 13/200\n",
      "34/34 [==============================] - 1s 17ms/step - loss: 7341.9722 - mae: 7341.9722\n",
      "Epoch 14/200\n",
      "34/34 [==============================] - 1s 15ms/step - loss: 7319.4375 - mae: 7319.4375\n",
      "Epoch 15/200\n",
      "34/34 [==============================] - 1s 16ms/step - loss: 7300.1724 - mae: 7300.1724\n",
      "Epoch 16/200\n",
      "34/34 [==============================] - 1s 18ms/step - loss: 7277.3062 - mae: 7277.3062\n",
      "Epoch 17/200\n",
      "34/34 [==============================] - 0s 14ms/step - loss: 7256.6641 - mae: 7256.6641\n",
      "Epoch 18/200\n",
      "34/34 [==============================] - 9s 261ms/step - loss: 7233.1958 - mae: 7233.1958\n",
      "Epoch 19/200\n",
      "34/34 [==============================] - -8s -249968us/step - loss: 7209.9683 - mae: 7209.9683\n",
      "Epoch 20/200\n",
      "34/34 [==============================] - 1s 16ms/step - loss: 7185.6689 - mae: 7185.6689\n",
      "Epoch 21/200\n",
      "34/34 [==============================] - 0s 14ms/step - loss: 7166.6982 - mae: 7166.6982\n",
      "Epoch 22/200\n",
      "34/34 [==============================] - 0s 14ms/step - loss: 7137.5513 - mae: 7137.5513\n",
      "Epoch 23/200\n",
      "34/34 [==============================] - 0s 14ms/step - loss: 7111.5513 - mae: 7111.5513\n",
      "Epoch 24/200\n",
      "34/34 [==============================] - 1s 17ms/step - loss: 7085.4082 - mae: 7085.4082\n",
      "Epoch 25/200\n",
      "34/34 [==============================] - 1s 16ms/step - loss: 7065.5654 - mae: 7065.5654\n",
      "Epoch 26/200\n",
      "34/34 [==============================] - 0s 14ms/step - loss: 7033.0073 - mae: 7033.0073\n",
      "Epoch 27/200\n",
      "34/34 [==============================] - 0s 13ms/step - loss: 7003.1729 - mae: 7003.1729\n",
      "Epoch 28/200\n",
      "34/34 [==============================] - 0s 12ms/step - loss: 6973.2964 - mae: 6973.2964\n",
      "Epoch 29/200\n",
      "34/34 [==============================] - 9s 260ms/step - loss: 6943.0894 - mae: 6943.0894\n",
      "Epoch 30/200\n",
      "34/34 [==============================] - -8s -250918us/step - loss: 6913.9751 - mae: 6913.9751\n",
      "Epoch 31/200\n",
      "34/34 [==============================] - 0s 13ms/step - loss: 6881.1382 - mae: 6881.1382\n",
      "Epoch 32/200\n",
      "34/34 [==============================] - 0s 12ms/step - loss: 6850.1328 - mae: 6850.1328\n",
      "Epoch 33/200\n",
      "34/34 [==============================] - 0s 13ms/step - loss: 6816.3354 - mae: 6816.3354\n",
      "Epoch 34/200\n",
      "34/34 [==============================] - 0s 13ms/step - loss: 6783.1304 - mae: 6783.1304\n",
      "Epoch 35/200\n",
      "34/34 [==============================] - 0s 14ms/step - loss: 6745.1982 - mae: 6745.1982\n",
      "Epoch 36/200\n",
      "34/34 [==============================] - 0s 14ms/step - loss: 6708.6528 - mae: 6708.6528\n",
      "Epoch 37/200\n",
      "34/34 [==============================] - 1s 15ms/step - loss: 6669.4556 - mae: 6669.4556\n",
      "Epoch 38/200\n",
      "34/34 [==============================] - 1s 16ms/step - loss: 6638.4023 - mae: 6638.4023\n",
      "Epoch 39/200\n",
      "34/34 [==============================] - 1s 16ms/step - loss: 6597.4868 - mae: 6597.4868\n",
      "Epoch 40/200\n",
      "34/34 [==============================] - 0s 14ms/step - loss: 6564.3154 - mae: 6564.3154\n",
      "Epoch 41/200\n",
      "34/34 [==============================] - 9s 262ms/step - loss: 6536.6655 - mae: 6536.6655\n",
      "Epoch 42/200\n",
      "34/34 [==============================] - 1s 17ms/step - loss: 6513.4023 - mae: 6513.4023\n",
      "Epoch 43/200\n",
      "34/34 [==============================] - 0s 14ms/step - loss: 6490.4834 - mae: 6490.4834\n",
      "Epoch 44/200\n",
      "34/34 [==============================] - 0s 14ms/step - loss: 6471.8428 - mae: 6471.8428\n",
      "Epoch 45/200\n",
      "34/34 [==============================] - 1s 17ms/step - loss: 6461.7056 - mae: 6461.7056\n",
      "Epoch 46/200\n",
      "34/34 [==============================] - 0s 14ms/step - loss: 6444.1675 - mae: 6444.1675\n",
      "Epoch 47/200\n",
      "34/34 [==============================] - 0s 15ms/step - loss: 6427.9668 - mae: 6427.9668\n",
      "Epoch 48/200\n",
      "34/34 [==============================] - 1s 16ms/step - loss: 6413.1353 - mae: 6413.1353\n",
      "Epoch 49/200\n",
      "34/34 [==============================] - 1s 19ms/step - loss: 6401.5039 - mae: 6401.5039\n",
      "Epoch 50/200\n",
      "34/34 [==============================] - 0s 14ms/step - loss: 6386.7031 - mae: 6386.7031\n",
      "Epoch 51/200\n",
      "34/34 [==============================] - 9s 263ms/step - loss: 6372.2080 - mae: 6372.2080\n",
      "Epoch 52/200\n",
      "34/34 [==============================] - -8s -247455us/step - loss: 6358.7295 - mae: 6358.7295\n",
      "Epoch 53/200\n",
      "34/34 [==============================] - 1s 15ms/step - loss: 6343.8813 - mae: 6343.8813\n",
      "Epoch 54/200\n",
      "34/34 [==============================] - 0s 14ms/step - loss: 6329.3281 - mae: 6329.3281\n",
      "Epoch 55/200\n",
      "34/34 [==============================] - 0s 14ms/step - loss: 6314.9614 - mae: 6314.9614\n",
      "Epoch 56/200\n",
      "34/34 [==============================] - 1s 17ms/step - loss: 6300.3916 - mae: 6300.3916\n",
      "Epoch 57/200\n",
      "34/34 [==============================] - 0s 14ms/step - loss: 6285.5044 - mae: 6285.5044\n",
      "Epoch 58/200\n",
      "34/34 [==============================] - 0s 15ms/step - loss: 6271.2871 - mae: 6271.2871\n",
      "Epoch 59/200\n",
      "34/34 [==============================] - 1s 15ms/step - loss: 6254.1548 - mae: 6254.1548\n",
      "Epoch 60/200\n",
      "34/34 [==============================] - 1s 15ms/step - loss: 6242.5908 - mae: 6242.5908\n",
      "Epoch 61/200\n",
      "34/34 [==============================] - 9s 267ms/step - loss: 6220.4893 - mae: 6220.4893\n",
      "Epoch 62/200\n",
      "34/34 [==============================] - -8s -243928us/step - loss: 6207.8979 - mae: 6207.8979\n",
      "Epoch 63/200\n",
      "34/34 [==============================] - 1s 15ms/step - loss: 6187.9326 - mae: 6187.9326\n",
      "Epoch 64/200\n",
      "34/34 [==============================] - 1s 16ms/step - loss: 6169.6689 - mae: 6169.6689\n",
      "Epoch 65/200\n",
      "34/34 [==============================] - 1s 17ms/step - loss: 6150.9556 - mae: 6150.9556\n",
      "Epoch 66/200\n",
      "34/34 [==============================] - 1s 15ms/step - loss: 6131.6611 - mae: 6131.6611\n",
      "Epoch 67/200\n",
      "34/34 [==============================] - 1s 15ms/step - loss: 6118.1929 - mae: 6118.1929\n",
      "Epoch 68/200\n",
      "34/34 [==============================] - 1s 18ms/step - loss: 6093.9980 - mae: 6093.9980\n",
      "Epoch 69/200\n",
      "34/34 [==============================] - 1s 17ms/step - loss: 6075.5767 - mae: 6075.5767\n",
      "Epoch 70/200\n",
      "34/34 [==============================] - 1s 16ms/step - loss: 6053.5537 - mae: 6053.5537\n",
      "Epoch 71/200\n",
      "34/34 [==============================] - 9s 261ms/step - loss: 6031.9033 - mae: 6031.9033\n",
      "Epoch 72/200\n",
      "34/34 [==============================] - -8s -248586us/step - loss: 6009.7446 - mae: 6009.7446\n",
      "Epoch 73/200\n",
      "34/34 [==============================] - 1s 16ms/step - loss: 5993.4370 - mae: 5993.4370\n",
      "Epoch 74/200\n",
      "34/34 [==============================] - 1s 16ms/step - loss: 5962.2480 - mae: 5962.2480\n",
      "Epoch 75/200\n",
      "34/34 [==============================] - 1s 15ms/step - loss: 5938.8721 - mae: 5938.8721\n",
      "Epoch 76/200\n",
      "34/34 [==============================] - 0s 15ms/step - loss: 5919.2539 - mae: 5919.2539\n",
      "Epoch 77/200\n",
      "34/34 [==============================] - 0s 13ms/step - loss: 5886.8525 - mae: 5886.8525\n",
      "Epoch 78/200\n",
      "34/34 [==============================] - 1s 17ms/step - loss: 5860.2280 - mae: 5860.2280\n",
      "Epoch 79/200\n",
      "34/34 [==============================] - 1s 17ms/step - loss: 5833.0820 - mae: 5833.0820\n",
      "Epoch 80/200\n",
      "34/34 [==============================] - 1s 16ms/step - loss: 5801.6265 - mae: 5801.6265\n",
      "Epoch 81/200\n",
      "34/34 [==============================] - 1s 16ms/step - loss: 5772.9844 - mae: 5772.9844\n",
      "Epoch 82/200\n",
      "34/34 [==============================] - 0s 1ms/step - loss: 5740.0220 - mae: 5740.0220\n",
      "Epoch 83/200\n",
      "34/34 [==============================] - 1s 16ms/step - loss: 5709.0298 - mae: 5709.0298\n",
      "Epoch 84/200\n",
      "34/34 [==============================] - 0s 14ms/step - loss: 5671.3433 - mae: 5671.3433\n",
      "Epoch 85/200\n",
      "34/34 [==============================] - 0s 14ms/step - loss: 5641.5576 - mae: 5641.5576\n",
      "Epoch 86/200\n",
      "34/34 [==============================] - 1s 17ms/step - loss: 5604.5684 - mae: 5604.5684\n",
      "Epoch 87/200\n",
      "34/34 [==============================] - 1s 18ms/step - loss: 5562.4951 - mae: 5562.4951\n",
      "Epoch 88/200\n",
      "34/34 [==============================] - 1s 18ms/step - loss: 5522.3066 - mae: 5522.3066\n",
      "Epoch 89/200\n",
      "34/34 [==============================] - 1s 15ms/step - loss: 5477.9565 - mae: 5477.9565\n",
      "Epoch 90/200\n",
      "34/34 [==============================] - 1s 15ms/step - loss: 5430.3403 - mae: 5430.3403\n",
      "Epoch 91/200\n",
      "34/34 [==============================] - 1s 15ms/step - loss: 5386.3379 - mae: 5386.3379\n",
      "Epoch 92/200\n",
      "34/34 [==============================] - 9s 262ms/step - loss: 5336.2080 - mae: 5336.2080\n",
      "Epoch 93/200\n",
      "34/34 [==============================] - -8s 13ms/step - loss: 5286.7734 - mae: 5286.7734\n",
      "Epoch 94/200\n",
      "34/34 [==============================] - 0s 13ms/step - loss: 5235.3311 - mae: 5235.3311\n",
      "Epoch 95/200\n",
      "34/34 [==============================] - 0s 14ms/step - loss: 5176.4995 - mae: 5176.4995\n",
      "Epoch 96/200\n",
      "34/34 [==============================] - 0s 14ms/step - loss: 5126.5747 - mae: 5126.5747\n",
      "Epoch 97/200\n",
      "34/34 [==============================] - 1s 16ms/step - loss: 5064.6812 - mae: 5064.6812\n",
      "Epoch 98/200\n",
      "34/34 [==============================] - 1s 16ms/step - loss: 4999.2710 - mae: 4999.2710\n",
      "Epoch 99/200\n",
      "34/34 [==============================] - 0s 14ms/step - loss: 4930.1240 - mae: 4930.1240\n",
      "Epoch 100/200\n",
      "34/34 [==============================] - 1s 18ms/step - loss: 4871.5220 - mae: 4871.5220\n",
      "Epoch 101/200\n",
      "34/34 [==============================] - 1s 20ms/step - loss: 4790.7944 - mae: 4790.7944\n",
      "Epoch 102/200\n",
      "34/34 [==============================] - 1s 20ms/step - loss: 4711.6885 - mae: 4711.6885\n",
      "Epoch 103/200\n",
      "34/34 [==============================] - 11s 334ms/step - loss: 4636.2427 - mae: 4636.2427\n",
      "Epoch 104/200\n",
      "34/34 [==============================] - -8s -244468us/step - loss: 4549.5371 - mae: 4549.5371\n",
      "Epoch 105/200\n",
      "34/34 [==============================] - 1s 16ms/step - loss: 4461.3740 - mae: 4461.3740\n",
      "Epoch 106/200\n",
      "34/34 [==============================] - 1s 15ms/step - loss: 4381.4004 - mae: 4381.4004\n",
      "Epoch 107/200\n",
      "34/34 [==============================] - 1s 15ms/step - loss: 4301.0820 - mae: 4301.0820\n",
      "Epoch 108/200\n",
      "34/34 [==============================] - 0s 13ms/step - loss: 4217.8394 - mae: 4217.8394\n",
      "Epoch 109/200\n",
      "34/34 [==============================] - 0s 13ms/step - loss: 4140.9141 - mae: 4140.9141\n",
      "Epoch 110/200\n",
      "34/34 [==============================] - 0s 13ms/step - loss: 4076.7578 - mae: 4076.7578\n",
      "Epoch 111/200\n",
      "34/34 [==============================] - 0s 13ms/step - loss: 4011.7119 - mae: 4011.7119\n",
      "Epoch 112/200\n",
      "34/34 [==============================] - 0s 14ms/step - loss: 3973.3643 - mae: 3973.3643\n",
      "Epoch 113/200\n",
      "34/34 [==============================] - 0s 14ms/step - loss: 3938.5867 - mae: 3938.5867\n",
      "Epoch 114/200\n",
      "34/34 [==============================] - 9s 264ms/step - loss: 3916.3682 - mae: 3916.3682\n",
      "Epoch 115/200\n",
      "34/34 [==============================] - -8s -250561us/step - loss: 3884.0378 - mae: 3884.0378\n",
      "Epoch 116/200\n",
      "34/34 [==============================] - 0s 14ms/step - loss: 3870.3079 - mae: 3870.3079\n",
      "Epoch 117/200\n",
      "34/34 [==============================] - 0s 14ms/step - loss: 3864.7288 - mae: 3864.7288\n",
      "Epoch 118/200\n",
      "34/34 [==============================] - 0s 13ms/step - loss: 3849.7356 - mae: 3849.7356\n",
      "Epoch 119/200\n",
      "34/34 [==============================] - 0s 13ms/step - loss: 3838.0378 - mae: 3838.0378\n",
      "Epoch 120/200\n",
      "34/34 [==============================] - 0s 13ms/step - loss: 3821.4497 - mae: 3821.4497\n",
      "Epoch 121/200\n",
      "34/34 [==============================] - 0s 13ms/step - loss: 3815.3171 - mae: 3815.3171\n",
      "Epoch 122/200\n",
      "34/34 [==============================] - 0s 13ms/step - loss: 3807.0356 - mae: 3807.0356\n",
      "Epoch 123/200\n",
      "34/34 [==============================] - 0s 14ms/step - loss: 3801.8782 - mae: 3801.8782\n",
      "Epoch 124/200\n",
      "34/34 [==============================] - 0s 13ms/step - loss: 3799.6904 - mae: 3799.6904\n",
      "Epoch 125/200\n",
      "34/34 [==============================] - 0s 13ms/step - loss: 3789.6519 - mae: 3789.6519\n",
      "Epoch 126/200\n",
      "34/34 [==============================] - 9s 263ms/step - loss: 3800.6697 - mae: 3800.6697\n",
      "Epoch 127/200\n",
      "34/34 [==============================] - -8s -250467us/step - loss: 3792.5759 - mae: 3792.5759\n",
      "Epoch 128/200\n",
      "34/34 [==============================] - 0s 14ms/step - loss: 3787.4041 - mae: 3787.4041\n",
      "Epoch 129/200\n",
      "34/34 [==============================] - 1s 15ms/step - loss: 3797.4678 - mae: 3797.4678\n",
      "Epoch 130/200\n",
      "34/34 [==============================] - 1s 15ms/step - loss: 3786.5815 - mae: 3786.5815\n",
      "Epoch 131/200\n",
      "34/34 [==============================] - 0s 14ms/step - loss: 3778.9180 - mae: 3778.9180\n",
      "Epoch 132/200\n",
      "34/34 [==============================] - 0s 13ms/step - loss: 3771.8804 - mae: 3771.8804\n",
      "Epoch 133/200\n",
      "34/34 [==============================] - 0s 13ms/step - loss: 3768.3064 - mae: 3768.3064\n",
      "Epoch 134/200\n",
      "34/34 [==============================] - 0s 13ms/step - loss: 3768.2773 - mae: 3768.2773\n",
      "Epoch 135/200\n",
      "34/34 [==============================] - 0s 13ms/step - loss: 3764.8145 - mae: 3764.8145\n",
      "Epoch 136/200\n",
      "34/34 [==============================] - 0s 13ms/step - loss: 3764.2634 - mae: 3764.2634\n",
      "Epoch 137/200\n",
      "34/34 [==============================] - 0s 13ms/step - loss: 3770.9951 - mae: 3770.9951\n",
      "Epoch 138/200\n",
      "34/34 [==============================] - 9s 261ms/step - loss: 3781.0625 - mae: 3781.0627\n",
      "Epoch 139/200\n",
      "34/34 [==============================] - -8s -248662us/step - loss: 3759.2427 - mae: 3759.2427\n",
      "Epoch 140/200\n",
      "34/34 [==============================] - 0s 13ms/step - loss: 3760.3662 - mae: 3760.3662\n",
      "Epoch 141/200\n",
      "34/34 [==============================] - 0s 13ms/step - loss: 3762.5923 - mae: 3762.5923\n",
      "Epoch 142/200\n",
      "34/34 [==============================] - 0s 14ms/step - loss: 3762.3840 - mae: 3762.3840\n",
      "Epoch 143/200\n",
      "34/34 [==============================] - 1s 16ms/step - loss: 3751.6377 - mae: 3751.6377\n",
      "Epoch 144/200\n",
      "34/34 [==============================] - 0s 13ms/step - loss: 3748.6167 - mae: 3748.6167\n",
      "Epoch 145/200\n",
      "34/34 [==============================] - 0s 14ms/step - loss: 3748.7654 - mae: 3748.7654\n",
      "Epoch 146/200\n",
      "34/34 [==============================] - 0s 13ms/step - loss: 3751.7791 - mae: 3751.7791\n",
      "Epoch 147/200\n",
      "34/34 [==============================] - 0s 13ms/step - loss: 3750.4946 - mae: 3750.4946\n",
      "Epoch 148/200\n",
      "34/34 [==============================] - 0s 13ms/step - loss: 3754.0327 - mae: 3754.0327\n",
      "Epoch 149/200\n",
      "34/34 [==============================] - 0s 13ms/step - loss: 3741.2163 - mae: 3741.2163\n",
      "Epoch 150/200\n",
      "34/34 [==============================] - 9s 261ms/step - loss: 3736.8906 - mae: 3736.8906\n",
      "Epoch 151/200\n",
      "34/34 [==============================] - -8s -251220us/step - loss: 3739.5388 - mae: 3739.5388\n",
      "Epoch 152/200\n",
      "34/34 [==============================] - 0s 13ms/step - loss: 3740.8103 - mae: 3740.8103\n",
      "Epoch 153/200\n",
      "34/34 [==============================] - 0s 15ms/step - loss: 3743.4243 - mae: 3743.4243\n",
      "Epoch 154/200\n",
      "34/34 [==============================] - 1s 15ms/step - loss: 3735.2659 - mae: 3735.2659\n",
      "Epoch 155/200\n",
      "34/34 [==============================] - 1s 15ms/step - loss: 3737.2261 - mae: 3737.2261\n",
      "Epoch 156/200\n",
      "34/34 [==============================] - 0s 13ms/step - loss: 3735.7686 - mae: 3735.7686\n",
      "Epoch 157/200\n",
      "34/34 [==============================] - 0s 13ms/step - loss: 3732.0762 - mae: 3732.0762\n",
      "Epoch 158/200\n",
      "34/34 [==============================] - 0s 13ms/step - loss: 3727.1855 - mae: 3727.1855\n",
      "Epoch 159/200\n",
      "34/34 [==============================] - 0s 13ms/step - loss: 3724.7537 - mae: 3724.7537\n",
      "Epoch 160/200\n",
      "34/34 [==============================] - 0s 13ms/step - loss: 3732.0742 - mae: 3732.0742\n",
      "Epoch 161/200\n",
      "34/34 [==============================] - 0s 13ms/step - loss: 3726.9097 - mae: 3726.9097\n",
      "Epoch 162/200\n",
      "34/34 [==============================] - -0s -1528us/step - loss: 3722.9512 - mae: 3722.9512\n",
      "Epoch 163/200\n",
      "34/34 [==============================] - 0s 13ms/step - loss: 3720.5908 - mae: 3720.5908\n",
      "Epoch 164/200\n",
      "34/34 [==============================] - 9s 277ms/step - loss: 3725.6775 - mae: 3725.6775\n",
      "Epoch 165/200\n",
      "34/34 [==============================] - 1s 17ms/step - loss: 3716.2756 - mae: 3716.2756\n",
      "Epoch 166/200\n",
      "34/34 [==============================] - 1s 15ms/step - loss: 3719.0537 - mae: 3719.0537\n",
      "Epoch 167/200\n",
      "34/34 [==============================] - 0s 14ms/step - loss: 3718.4460 - mae: 3718.4460\n",
      "Epoch 168/200\n",
      "34/34 [==============================] - 1s 30ms/step - loss: 3713.0068 - mae: 3713.0068\n",
      "Epoch 169/200\n",
      "34/34 [==============================] - 1s 24ms/step - loss: 3711.5947 - mae: 3711.5947\n",
      "Epoch 170/200\n",
      "34/34 [==============================] - 1s 15ms/step - loss: 3706.7493 - mae: 3706.7493\n",
      "Epoch 171/200\n",
      "34/34 [==============================] - 0s 14ms/step - loss: 3706.2461 - mae: 3706.2461\n",
      "Epoch 172/200\n",
      "34/34 [==============================] - 0s 14ms/step - loss: 3709.2480 - mae: 3709.2480\n",
      "Epoch 173/200\n",
      "34/34 [==============================] - 9s 261ms/step - loss: 3702.8025 - mae: 3702.8025\n",
      "Epoch 174/200\n",
      "34/34 [==============================] - -8s 14ms/step - loss: 3709.9421 - mae: 3709.9421\n",
      "Epoch 175/200\n",
      "34/34 [==============================] - 0s 12ms/step - loss: 3711.1382 - mae: 3711.1382\n",
      "Epoch 176/200\n",
      "34/34 [==============================] - 0s 13ms/step - loss: 3705.8613 - mae: 3705.8613\n",
      "Epoch 177/200\n",
      "34/34 [==============================] - 0s 14ms/step - loss: 3698.3289 - mae: 3698.3289\n",
      "Epoch 178/200\n",
      "34/34 [==============================] - 0s 14ms/step - loss: 3694.2810 - mae: 3694.2810\n",
      "Epoch 179/200\n",
      "34/34 [==============================] - 0s 13ms/step - loss: 3704.3020 - mae: 3704.3020\n",
      "Epoch 180/200\n",
      "34/34 [==============================] - 0s 14ms/step - loss: 3710.2214 - mae: 3710.2214\n",
      "Epoch 181/200\n",
      "34/34 [==============================] - 1s 15ms/step - loss: 3695.5630 - mae: 3695.5630\n",
      "Epoch 182/200\n",
      "34/34 [==============================] - 0s 13ms/step - loss: 3692.3474 - mae: 3692.3474\n",
      "Epoch 183/200\n",
      "34/34 [==============================] - 0s 13ms/step - loss: 3690.6516 - mae: 3690.6516\n",
      "Epoch 184/200\n",
      "34/34 [==============================] - 9s 263ms/step - loss: 3698.1357 - mae: 3698.1357\n",
      "Epoch 185/200\n",
      "34/34 [==============================] - -8s -247969us/step - loss: 3693.5125 - mae: 3693.5125\n",
      "Epoch 186/200\n",
      "34/34 [==============================] - 1s 17ms/step - loss: 3696.9431 - mae: 3696.9431\n",
      "Epoch 187/200\n",
      "34/34 [==============================] - 1s 15ms/step - loss: 3686.1125 - mae: 3686.1125\n",
      "Epoch 188/200\n",
      "34/34 [==============================] - 0s 14ms/step - loss: 3692.5544 - mae: 3692.5544\n",
      "Epoch 189/200\n",
      "34/34 [==============================] - 0s 14ms/step - loss: 3682.4121 - mae: 3682.4121\n",
      "Epoch 190/200\n",
      "34/34 [==============================] - 0s 14ms/step - loss: 3683.4783 - mae: 3683.4783\n",
      "Epoch 191/200\n",
      "34/34 [==============================] - 0s 13ms/step - loss: 3695.5190 - mae: 3695.5190\n",
      "Epoch 192/200\n",
      "34/34 [==============================] - 0s 13ms/step - loss: 3682.8340 - mae: 3682.8340\n",
      "Epoch 193/200\n",
      "34/34 [==============================] - 0s 13ms/step - loss: 3673.9683 - mae: 3673.9683\n",
      "Epoch 194/200\n",
      "34/34 [==============================] - 0s 14ms/step - loss: 3674.5569 - mae: 3674.5569\n",
      "Epoch 195/200\n",
      "34/34 [==============================] - 0s 14ms/step - loss: 3673.2073 - mae: 3673.2073\n",
      "Epoch 196/200\n",
      "34/34 [==============================] - -0s -2229us/step - loss: 3682.0464 - mae: 3682.0464\n",
      "Epoch 197/200\n",
      "34/34 [==============================] - 0s 14ms/step - loss: 3666.2065 - mae: 3666.2065\n",
      "Epoch 198/200\n",
      "34/34 [==============================] - 0s 13ms/step - loss: 3671.7942 - mae: 3671.7942\n",
      "Epoch 199/200\n",
      "34/34 [==============================] - 0s 13ms/step - loss: 3680.4722 - mae: 3680.4722\n",
      "Epoch 200/200\n",
      "34/34 [==============================] - 0s 13ms/step - loss: 3666.7878 - mae: 3666.7878\n"
     ]
    }
   ],
   "execution_count": 87
  },
  {
   "cell_type": "code",
   "source": "# Evaluate our third model\ninsurance_model_3.evaluate(X_test, y_test)",
   "metadata": {
    "collapsed": false,
    "trusted": false,
    "ExecuteTime": {
     "end_time": "2025-07-14T02:00:58.994054Z",
     "start_time": "2025-07-14T02:00:58.807542Z"
    }
   },
   "id": "3f4dc53266f65536",
   "outputs": [
    {
     "name": "stdout",
     "output_type": "stream",
     "text": [
      "9/9 [==============================] - 0s 8ms/step - loss: 3491.0525 - mae: 3491.0525\n"
     ]
    },
    {
     "data": {
      "text/plain": [
       "[3491.052490234375, 3491.052490234375]"
      ]
     },
     "execution_count": 88,
     "metadata": {},
     "output_type": "execute_result"
    }
   ],
   "execution_count": 88
  },
  {
   "cell_type": "code",
   "source": "insurance_model.evaluate(X_test, y_test)",
   "metadata": {
    "collapsed": false,
    "trusted": false,
    "ExecuteTime": {
     "end_time": "2025-07-14T02:00:59.200581Z",
     "start_time": "2025-07-14T02:00:59.038178Z"
    }
   },
   "id": "73bee1d426123d5e",
   "outputs": [
    {
     "name": "stdout",
     "output_type": "stream",
     "text": [
      "9/9 [==============================] - 0s 8ms/step - loss: 8661.1641 - mae: 8661.1641\n"
     ]
    },
    {
     "data": {
      "text/plain": [
       "[8661.1640625, 8661.1640625]"
      ]
     },
     "execution_count": 89,
     "metadata": {},
     "output_type": "execute_result"
    }
   ],
   "execution_count": 89
  },
  {
   "cell_type": "code",
   "source": "# Plot history (also known as a loss curve or a training curve)\npd.DataFrame(history.history).plot()\nplt.ylabel(\"loss\")\nplt.xlabel(\"epochs\")",
   "metadata": {
    "collapsed": false,
    "trusted": false,
    "ExecuteTime": {
     "end_time": "2025-07-14T02:00:59.323831Z",
     "start_time": "2025-07-14T02:00:59.227128Z"
    }
   },
   "id": "492df7d0a97992e9",
   "outputs": [
    {
     "data": {
      "text/plain": [
       "Text(0.5, 0, 'epochs')"
      ]
     },
     "execution_count": 90,
     "metadata": {},
     "output_type": "execute_result"
    },
    {
     "data": {
      "text/plain": [
       "<Figure size 640x480 with 1 Axes>"
      ],
      "image/png": "[encoded data removed]"
     },
     "metadata": {},
     "output_type": "display_data"
    }
   ],
   "execution_count": 90
  },
  {
   "cell_type": "markdown",
   "source": "> 🤔 **Question:** How long should you train for? \n\nIt depends. Really... it depends on the problem you're working on. However, many people have asked this question before... so TensorFlow has a solution! It's called the [EarlyStopping Callback](https://www.tensorflow.org/api_docs/python/tf/keras/callbacks/EarlyStopping), which is a TensorFlow component you can add to your model to stop training once it stops improving a certain metric.",
   "metadata": {
    "collapsed": false
   },
   "id": "e7db529b9bae5eae"
  },
  {
   "cell_type": "markdown",
   "source": "## Preprocessing data (normalization and standardization)\n\nIn terms of scalimg values, neural networks tend to prefer normalization.\n\nIf you're not sure on which to use, you could try both and see which performs better.",
   "metadata": {
    "collapsed": false
   },
   "id": "48dd68ad2f5d20e4"
  },
  {
   "cell_type": "code",
   "source": "import pandas as pd\nimport matplotlib.pyplot as plt\nimport tensorflow as tf\n\n# Read in the insurance dataframe\ninsurance = pd.read_csv(\"Dataset/insurance.csv\")\ninsurance",
   "metadata": {
    "collapsed": false,
    "trusted": false,
    "ExecuteTime": {
     "end_time": "2025-07-14T02:00:59.342729Z",
     "start_time": "2025-07-14T02:00:59.332136Z"
    }
   },
   "id": "6bd1bd58c7317a5",
   "outputs": [
    {
     "data": {
      "text/plain": [
       "      age     sex     bmi  children smoker     region      charges\n",
       "0      19  female  27.900         0    yes  southwest  16884.92400\n",
       "1      18    male  33.770         1     no  southeast   1725.55230\n",
       "2      28    male  33.000         3     no  southeast   4449.46200\n",
       "3      33    male  22.705         0     no  northwest  21984.47061\n",
       "4      32    male  28.880         0     no  northwest   3866.85520\n",
       "...   ...     ...     ...       ...    ...        ...          ...\n",
       "1333   50    male  30.970         3     no  northwest  10600.54830\n",
       "1334   18  female  31.920         0     no  northeast   2205.98080\n",
       "1335   18  female  36.850         0     no  southeast   1629.83350\n",
       "1336   21  female  25.800         0     no  southwest   2007.94500\n",
       "1337   61  female  29.070         0    yes  northwest  29141.36030\n",
       "\n",
       "[1338 rows x 7 columns]"
      ],
      "text/html": [
       "<div>\n",
       "<style scoped>\n",
       "    .dataframe tbody tr th:only-of-type {\n",
       "        vertical-align: middle;\n",
       "    }\n",
       "\n",
       "    .dataframe tbody tr th {\n",
       "        vertical-align: top;\n",
       "    }\n",
       "\n",
       "    .dataframe thead th {\n",
       "        text-align: right;\n",
       "    }\n",
       "</style>\n",
       "<table border=\"1\" class=\"dataframe\">\n",
       "  <thead>\n",
       "    <tr style=\"text-align: right;\">\n",
       "      <th></th>\n",
       "      <th>age</th>\n",
       "      <th>sex</th>\n",
       "      <th>bmi</th>\n",
       "      <th>children</th>\n",
       "      <th>smoker</th>\n",
       "      <th>region</th>\n",
       "      <th>charges</th>\n",
       "    </tr>\n",
       "  </thead>\n",
       "  <tbody>\n",
       "    <tr>\n",
       "      <th>0</th>\n",
       "      <td>19</td>\n",
       "      <td>female</td>\n",
       "      <td>27.900</td>\n",
       "      <td>0</td>\n",
       "      <td>yes</td>\n",
       "      <td>southwest</td>\n",
       "      <td>16884.92400</td>\n",
       "    </tr>\n",
       "    <tr>\n",
       "      <th>1</th>\n",
       "      <td>18</td>\n",
       "      <td>male</td>\n",
       "      <td>33.770</td>\n",
       "      <td>1</td>\n",
       "      <td>no</td>\n",
       "      <td>southeast</td>\n",
       "      <td>1725.55230</td>\n",
       "    </tr>\n",
       "    <tr>\n",
       "      <th>2</th>\n",
       "      <td>28</td>\n",
       "      <td>male</td>\n",
       "      <td>33.000</td>\n",
       "      <td>3</td>\n",
       "      <td>no</td>\n",
       "      <td>southeast</td>\n",
       "      <td>4449.46200</td>\n",
       "    </tr>\n",
       "    <tr>\n",
       "      <th>3</th>\n",
       "      <td>33</td>\n",
       "      <td>male</td>\n",
       "      <td>22.705</td>\n",
       "      <td>0</td>\n",
       "      <td>no</td>\n",
       "      <td>northwest</td>\n",
       "      <td>21984.47061</td>\n",
       "    </tr>\n",
       "    <tr>\n",
       "      <th>4</th>\n",
       "      <td>32</td>\n",
       "      <td>male</td>\n",
       "      <td>28.880</td>\n",
       "      <td>0</td>\n",
       "      <td>no</td>\n",
       "      <td>northwest</td>\n",
       "      <td>3866.85520</td>\n",
       "    </tr>\n",
       "    <tr>\n",
       "      <th>...</th>\n",
       "      <td>...</td>\n",
       "      <td>...</td>\n",
       "      <td>...</td>\n",
       "      <td>...</td>\n",
       "      <td>...</td>\n",
       "      <td>...</td>\n",
       "      <td>...</td>\n",
       "    </tr>\n",
       "    <tr>\n",
       "      <th>1333</th>\n",
       "      <td>50</td>\n",
       "      <td>male</td>\n",
       "      <td>30.970</td>\n",
       "      <td>3</td>\n",
       "      <td>no</td>\n",
       "      <td>northwest</td>\n",
       "      <td>10600.54830</td>\n",
       "    </tr>\n",
       "    <tr>\n",
       "      <th>1334</th>\n",
       "      <td>18</td>\n",
       "      <td>female</td>\n",
       "      <td>31.920</td>\n",
       "      <td>0</td>\n",
       "      <td>no</td>\n",
       "      <td>northeast</td>\n",
       "      <td>2205.98080</td>\n",
       "    </tr>\n",
       "    <tr>\n",
       "      <th>1335</th>\n",
       "      <td>18</td>\n",
       "      <td>female</td>\n",
       "      <td>36.850</td>\n",
       "      <td>0</td>\n",
       "      <td>no</td>\n",
       "      <td>southeast</td>\n",
       "      <td>1629.83350</td>\n",
       "    </tr>\n",
       "    <tr>\n",
       "      <th>1336</th>\n",
       "      <td>21</td>\n",
       "      <td>female</td>\n",
       "      <td>25.800</td>\n",
       "      <td>0</td>\n",
       "      <td>no</td>\n",
       "      <td>southwest</td>\n",
       "      <td>2007.94500</td>\n",
       "    </tr>\n",
       "    <tr>\n",
       "      <th>1337</th>\n",
       "      <td>61</td>\n",
       "      <td>female</td>\n",
       "      <td>29.070</td>\n",
       "      <td>0</td>\n",
       "      <td>yes</td>\n",
       "      <td>northwest</td>\n",
       "      <td>29141.36030</td>\n",
       "    </tr>\n",
       "  </tbody>\n",
       "</table>\n",
       "<p>1338 rows × 7 columns</p>\n",
       "</div>"
      ]
     },
     "execution_count": 91,
     "metadata": {},
     "output_type": "execute_result"
    }
   ],
   "execution_count": 91
  },
  {
   "cell_type": "markdown",
   "source": "To prepare our data, we can borrow a few classes from Scikit-Learn.",
   "metadata": {
    "collapsed": false
   },
   "id": "5877de47754a1938"
  },
  {
   "cell_type": "code",
   "source": "from sklearn.compose import make_column_transformer\nfrom sklearn.preprocessing import MinMaxScaler, OneHotEncoder\nfrom sklearn.model_selection import train_test_split\n\n# Create a column transformer\nct = make_column_transformer(\n    (MinMaxScaler(), [\"age\", \"bmi\", \"children\"]), # turn all values in theese columns between 0 and 1\n    (OneHotEncoder(handle_unknown=\"ignore\"), [\"sex\", \"smoker\", \"region\"])\n)\n\n# Create X & y\nX = insurance.drop(\"charges\", axis=1)\ny = insurance[\"charges\"]\n\n# Build our train and test sets\nX_train, X_test, y_train, y_test = train_test_split(X, y, test_size=0.2, random_state=42)\n\n# Fit the column transformer to our training data\nct.fit(X_train)\n\n# Transform training and test data with normalization (MinMaxScaler) and OneHotEncoder\nX_train_normal = ct.transform(X_train)\nX_test_normal = ct.transform(X_test)",
   "metadata": {
    "collapsed": false,
    "trusted": false,
    "ExecuteTime": {
     "end_time": "2025-07-14T02:00:59.539581Z",
     "start_time": "2025-07-14T02:00:59.445742Z"
    }
   },
   "id": "352e885019844f76",
   "outputs": [],
   "execution_count": 92
  },
  {
   "cell_type": "code",
   "source": "# What does our data look like now?\nX_train.loc[0]",
   "metadata": {
    "collapsed": false,
    "trusted": false,
    "ExecuteTime": {
     "end_time": "2025-07-14T02:00:59.601579Z",
     "start_time": "2025-07-14T02:00:59.593852Z"
    }
   },
   "id": "2d471eb84effea5c",
   "outputs": [
    {
     "data": {
      "text/plain": [
       "age                19\n",
       "sex            female\n",
       "bmi              27.9\n",
       "children            0\n",
       "smoker            yes\n",
       "region      southwest\n",
       "Name: 0, dtype: object"
      ]
     },
     "execution_count": 93,
     "metadata": {},
     "output_type": "execute_result"
    }
   ],
   "execution_count": 93
  },
  {
   "cell_type": "code",
   "source": "X_train_normal[0]",
   "metadata": {
    "collapsed": false,
    "trusted": false,
    "ExecuteTime": {
     "end_time": "2025-07-14T02:00:59.709465Z",
     "start_time": "2025-07-14T02:00:59.703684Z"
    }
   },
   "id": "c613d71fa18039fd",
   "outputs": [
    {
     "data": {
      "text/plain": [
       "array([0.60869565, 0.10734463, 0.4       , 1.        , 0.        ,\n",
       "       1.        , 0.        , 0.        , 1.        , 0.        ,\n",
       "       0.        ])"
      ]
     },
     "execution_count": 94,
     "metadata": {},
     "output_type": "execute_result"
    }
   ],
   "execution_count": 94
  },
  {
   "cell_type": "code",
   "source": "X_train.shape, X_train_normal.shape",
   "metadata": {
    "collapsed": false,
    "trusted": false,
    "ExecuteTime": {
     "end_time": "2025-07-14T02:00:59.824437Z",
     "start_time": "2025-07-14T02:00:59.819669Z"
    }
   },
   "id": "e3718cd0531b4824",
   "outputs": [
    {
     "data": {
      "text/plain": [
       "((1070, 6), (1070, 11))"
      ]
     },
     "execution_count": 95,
     "metadata": {},
     "output_type": "execute_result"
    }
   ],
   "execution_count": 95
  },
  {
   "cell_type": "code",
   "source": "# Build a neural network model to fit on our normalized data\ntf.random.set_seed(42)\n\n# 1. Create the model\ninsurance_model_4 = tf.keras.Sequential([\n    tf.keras.layers.Dense(100),\n    tf.keras.layers.Dense(10),\n    tf.keras.layers.Dense(1)\n])\n\n# 2. Compile the model\ninsurance_model_4.compile(loss=tf.keras.losses.mae,\n                          optimizer=tf.keras.optimizers.Adam(),\n                          metrics=[\"mae\"])\n\n# 3. Fit the model\ninsurance_model_4.fit(X_train_normal, y_train, epochs=100)",
   "metadata": {
    "collapsed": false,
    "trusted": false,
    "ExecuteTime": {
     "end_time": "2025-07-14T02:01:43.760795Z",
     "start_time": "2025-07-14T02:00:59.944252Z"
    }
   },
   "id": "1e2657ffce7804e5",
   "outputs": [
    {
     "name": "stdout",
     "output_type": "stream",
     "text": [
      "Epoch 1/100\n",
      "34/34 [==============================] - 1s 13ms/step - loss: 13344.0625 - mae: 13344.0625\n",
      "Epoch 2/100\n",
      "34/34 [==============================] - 0s 13ms/step - loss: 13336.3662 - mae: 13336.3662\n",
      "Epoch 3/100\n",
      "34/34 [==============================] - 1s 16ms/step - loss: 13317.2588 - mae: 13317.2588\n",
      "Epoch 4/100\n",
      "34/34 [==============================] - 9s 263ms/step - loss: 13276.4316 - mae: 13276.4316\n",
      "Epoch 5/100\n",
      "34/34 [==============================] - -8s -250408us/step - loss: 13202.5928 - mae: 13202.5928\n",
      "Epoch 6/100\n",
      "34/34 [==============================] - 1s 16ms/step - loss: 13084.7314 - mae: 13084.7314\n",
      "Epoch 7/100\n",
      "34/34 [==============================] - 1s 17ms/step - loss: 12912.2285 - mae: 12912.2285\n",
      "Epoch 8/100\n",
      "34/34 [==============================] - 1s 17ms/step - loss: 12674.6816 - mae: 12674.6816\n",
      "Epoch 9/100\n",
      "34/34 [==============================] - 1s 15ms/step - loss: 12361.8486 - mae: 12361.8486\n",
      "Epoch 10/100\n",
      "34/34 [==============================] - 1s 16ms/step - loss: 11968.4033 - mae: 11968.4033\n",
      "Epoch 11/100\n",
      "34/34 [==============================] - 1s 15ms/step - loss: 11501.5781 - mae: 11501.5781\n",
      "Epoch 12/100\n",
      "34/34 [==============================] - 0s 12ms/step - loss: 10997.3164 - mae: 10997.3164\n",
      "Epoch 13/100\n",
      "34/34 [==============================] - 0s 12ms/step - loss: 10496.5732 - mae: 10496.5732\n",
      "Epoch 14/100\n",
      "34/34 [==============================] - 1s 16ms/step - loss: 9998.1250 - mae: 9998.1250\n",
      "Epoch 15/100\n",
      "34/34 [==============================] - 0s 710us/step - loss: 9527.4326 - mae: 9527.4326\n",
      "Epoch 16/100\n",
      "34/34 [==============================] - 1s 17ms/step - loss: 9106.6953 - mae: 9106.6953\n",
      "Epoch 17/100\n",
      "34/34 [==============================] - 0s 14ms/step - loss: 8756.5820 - mae: 8756.5820\n",
      "Epoch 18/100\n",
      "34/34 [==============================] - 0s 13ms/step - loss: 8474.3574 - mae: 8474.3574\n",
      "Epoch 19/100\n",
      "34/34 [==============================] - 0s 13ms/step - loss: 8255.6943 - mae: 8255.6943\n",
      "Epoch 20/100\n",
      "34/34 [==============================] - 0s 15ms/step - loss: 8106.4238 - mae: 8106.4238\n",
      "Epoch 21/100\n",
      "34/34 [==============================] - 1s 17ms/step - loss: 7996.9380 - mae: 7996.9380\n",
      "Epoch 22/100\n",
      "34/34 [==============================] - 0s 14ms/step - loss: 7922.3379 - mae: 7922.3379\n",
      "Epoch 23/100\n",
      "34/34 [==============================] - 0s 13ms/step - loss: 7863.9287 - mae: 7863.9287\n",
      "Epoch 24/100\n",
      "34/34 [==============================] - 0s 13ms/step - loss: 7812.0645 - mae: 7812.0645\n",
      "Epoch 25/100\n",
      "34/34 [==============================] - 0s 14ms/step - loss: 7773.8198 - mae: 7773.8198\n",
      "Epoch 26/100\n",
      "34/34 [==============================] - 0s -270us/step - loss: 7722.4268 - mae: 7722.4268\n",
      "Epoch 27/100\n",
      "34/34 [==============================] - 0s 14ms/step - loss: 7680.4424 - mae: 7680.4424\n",
      "Epoch 28/100\n",
      "34/34 [==============================] - 0s 14ms/step - loss: 7638.3193 - mae: 7638.3193\n",
      "Epoch 29/100\n",
      "34/34 [==============================] - 1s 15ms/step - loss: 7596.0112 - mae: 7596.0112\n",
      "Epoch 30/100\n",
      "34/34 [==============================] - 1s 15ms/step - loss: 7553.2617 - mae: 7553.2617\n",
      "Epoch 31/100\n",
      "34/34 [==============================] - 0s 14ms/step - loss: 7510.1221 - mae: 7510.1221\n",
      "Epoch 32/100\n",
      "34/34 [==============================] - 0s 14ms/step - loss: 7466.7700 - mae: 7466.7700\n",
      "Epoch 33/100\n",
      "34/34 [==============================] - 0s 14ms/step - loss: 7423.4341 - mae: 7423.4341\n",
      "Epoch 34/100\n",
      "34/34 [==============================] - 1s 15ms/step - loss: 7376.0342 - mae: 7376.0342\n",
      "Epoch 35/100\n",
      "34/34 [==============================] - 0s 12ms/step - loss: 7330.3350 - mae: 7330.3350\n",
      "Epoch 36/100\n",
      "34/34 [==============================] - 0s 13ms/step - loss: 7281.2329 - mae: 7281.2329\n",
      "Epoch 37/100\n",
      "34/34 [==============================] - 9s 261ms/step - loss: 7232.1245 - mae: 7232.1245\n",
      "Epoch 38/100\n",
      "34/34 [==============================] - -8s -250141us/step - loss: 7182.2168 - mae: 7182.2168\n",
      "Epoch 39/100\n",
      "34/34 [==============================] - 0s 14ms/step - loss: 7128.6816 - mae: 7128.6816\n",
      "Epoch 40/100\n",
      "34/34 [==============================] - 0s 14ms/step - loss: 7074.5332 - mae: 7074.5332\n",
      "Epoch 41/100\n",
      "34/34 [==============================] - 0s 13ms/step - loss: 7019.3604 - mae: 7019.3604\n",
      "Epoch 42/100\n",
      "34/34 [==============================] - 0s 12ms/step - loss: 6961.7573 - mae: 6961.7573\n",
      "Epoch 43/100\n",
      "34/34 [==============================] - 0s 13ms/step - loss: 6900.7075 - mae: 6900.7075\n",
      "Epoch 44/100\n",
      "34/34 [==============================] - 0s 13ms/step - loss: 6836.3379 - mae: 6836.3379\n",
      "Epoch 45/100\n",
      "34/34 [==============================] - 0s 13ms/step - loss: 6770.9966 - mae: 6770.9966\n",
      "Epoch 46/100\n",
      "34/34 [==============================] - 0s 13ms/step - loss: 6703.5845 - mae: 6703.5845\n",
      "Epoch 47/100\n",
      "34/34 [==============================] - 0s 13ms/step - loss: 6634.6929 - mae: 6634.6929\n",
      "Epoch 48/100\n",
      "34/34 [==============================] - 0s 13ms/step - loss: 6558.0630 - mae: 6558.0630\n",
      "Epoch 49/100\n",
      "34/34 [==============================] - 9s 262ms/step - loss: 6481.6309 - mae: 6481.6309\n",
      "Epoch 50/100\n",
      "34/34 [==============================] - -8s -249717us/step - loss: 6397.8472 - mae: 6397.8472\n",
      "Epoch 51/100\n",
      "34/34 [==============================] - 0s 13ms/step - loss: 6316.2383 - mae: 6316.2383\n",
      "Epoch 52/100\n",
      "34/34 [==============================] - 0s 13ms/step - loss: 6225.6050 - mae: 6225.6050\n",
      "Epoch 53/100\n",
      "34/34 [==============================] - 1s 16ms/step - loss: 6132.7944 - mae: 6132.7944\n",
      "Epoch 54/100\n",
      "34/34 [==============================] - 0s 14ms/step - loss: 6037.4004 - mae: 6037.4004\n",
      "Epoch 55/100\n",
      "34/34 [==============================] - 0s 13ms/step - loss: 5932.9771 - mae: 5932.9771\n",
      "Epoch 56/100\n",
      "34/34 [==============================] - 0s 12ms/step - loss: 5827.6255 - mae: 5827.6255\n",
      "Epoch 57/100\n",
      "34/34 [==============================] - 0s 13ms/step - loss: 5715.1099 - mae: 5715.1099\n",
      "Epoch 58/100\n",
      "34/34 [==============================] - 0s 13ms/step - loss: 5597.5913 - mae: 5597.5913\n",
      "Epoch 59/100\n",
      "34/34 [==============================] - 0s 12ms/step - loss: 5480.9512 - mae: 5480.9512\n",
      "Epoch 60/100\n",
      "34/34 [==============================] - 0s 13ms/step - loss: 5361.6680 - mae: 5361.6680\n",
      "Epoch 61/100\n",
      "34/34 [==============================] - 0s 12ms/step - loss: 5235.4556 - mae: 5235.4556\n",
      "Epoch 62/100\n",
      "34/34 [==============================] - -8s -250881us/step - loss: 5108.9795 - mae: 5108.9795\n",
      "Epoch 63/100\n",
      "34/34 [==============================] - 1s 17ms/step - loss: 4981.3667 - mae: 4981.3667\n",
      "Epoch 64/100\n",
      "34/34 [==============================] - 0s 14ms/step - loss: 4850.2676 - mae: 4850.2676\n",
      "Epoch 65/100\n",
      "34/34 [==============================] - 0s 14ms/step - loss: 4721.9473 - mae: 4721.9473\n",
      "Epoch 66/100\n",
      "34/34 [==============================] - 0s 13ms/step - loss: 4591.0161 - mae: 4591.0161\n",
      "Epoch 67/100\n",
      "34/34 [==============================] - 0s 13ms/step - loss: 4472.5142 - mae: 4472.5142\n",
      "Epoch 68/100\n",
      "34/34 [==============================] - 0s 13ms/step - loss: 4360.2661 - mae: 4360.2661\n",
      "Epoch 69/100\n",
      "34/34 [==============================] - 0s 14ms/step - loss: 4254.4214 - mae: 4254.4214\n",
      "Epoch 70/100\n",
      "34/34 [==============================] - 0s 14ms/step - loss: 4156.5278 - mae: 4156.5278\n",
      "Epoch 71/100\n",
      "34/34 [==============================] - 0s 13ms/step - loss: 4064.2769 - mae: 4064.2769\n",
      "Epoch 72/100\n",
      "34/34 [==============================] - 0s 14ms/step - loss: 3982.4387 - mae: 3982.4387\n",
      "Epoch 73/100\n",
      "34/34 [==============================] - 9s 262ms/step - loss: 3910.0566 - mae: 3910.0566\n",
      "Epoch 74/100\n",
      "34/34 [==============================] - -8s -250188us/step - loss: 3849.9028 - mae: 3849.9028\n",
      "Epoch 75/100\n",
      "34/34 [==============================] - 0s 15ms/step - loss: 3802.9746 - mae: 3802.9746\n",
      "Epoch 76/100\n",
      "34/34 [==============================] - 0s 14ms/step - loss: 3765.4849 - mae: 3765.4849\n",
      "Epoch 77/100\n",
      "34/34 [==============================] - 1s 17ms/step - loss: 3736.7703 - mae: 3736.7703\n",
      "Epoch 78/100\n",
      "34/34 [==============================] - 1s 15ms/step - loss: 3716.2351 - mae: 3716.2351\n",
      "Epoch 79/100\n",
      "34/34 [==============================] - 1s 15ms/step - loss: 3700.9819 - mae: 3700.9819\n",
      "Epoch 80/100\n",
      "34/34 [==============================] - 0s 14ms/step - loss: 3690.0190 - mae: 3690.0190\n",
      "Epoch 81/100\n",
      "34/34 [==============================] - 0s 14ms/step - loss: 3682.4182 - mae: 3682.4182\n",
      "Epoch 82/100\n",
      "34/34 [==============================] - 0s 13ms/step - loss: 3678.0078 - mae: 3678.0078\n",
      "Epoch 83/100\n",
      "34/34 [==============================] - 0s 13ms/step - loss: 3671.3069 - mae: 3671.3069\n",
      "Epoch 84/100\n",
      "34/34 [==============================] - 9s 263ms/step - loss: 3667.9033 - mae: 3667.9033\n",
      "Epoch 85/100\n",
      "34/34 [==============================] - -8s -247481us/step - loss: 3665.2847 - mae: 3665.2847\n",
      "Epoch 86/100\n",
      "34/34 [==============================] - 0s 13ms/step - loss: 3662.6680 - mae: 3662.6680\n",
      "Epoch 87/100\n",
      "34/34 [==============================] - 0s 14ms/step - loss: 3659.8262 - mae: 3659.8262\n",
      "Epoch 88/100\n",
      "34/34 [==============================] - 0s 14ms/step - loss: 3657.2854 - mae: 3657.2854\n",
      "Epoch 89/100\n",
      "34/34 [==============================] - 0s 14ms/step - loss: 3655.6211 - mae: 3655.6211\n",
      "Epoch 90/100\n",
      "34/34 [==============================] - 0s 14ms/step - loss: 3653.9246 - mae: 3653.9246\n",
      "Epoch 91/100\n",
      "34/34 [==============================] - 0s 13ms/step - loss: 3650.8740 - mae: 3650.8740\n",
      "Epoch 92/100\n",
      "34/34 [==============================] - 0s 13ms/step - loss: 3650.2764 - mae: 3650.2764\n",
      "Epoch 93/100\n",
      "34/34 [==============================] - 0s 13ms/step - loss: 3648.1362 - mae: 3648.1362\n",
      "Epoch 94/100\n",
      "34/34 [==============================] - 0s 13ms/step - loss: 3646.2695 - mae: 3646.2695\n",
      "Epoch 95/100\n",
      "34/34 [==============================] - 0s 13ms/step - loss: 3647.2095 - mae: 3647.2095\n",
      "Epoch 96/100\n",
      "34/34 [==============================] - 9s 261ms/step - loss: 3644.4592 - mae: 3644.4592\n",
      "Epoch 97/100\n",
      "34/34 [==============================] - -8s -249842us/step - loss: 3641.8494 - mae: 3641.8494\n",
      "Epoch 98/100\n",
      "34/34 [==============================] - 0s 13ms/step - loss: 3639.7715 - mae: 3639.7715\n",
      "Epoch 99/100\n",
      "34/34 [==============================] - 0s 14ms/step - loss: 3639.3801 - mae: 3639.3801\n",
      "Epoch 100/100\n",
      "34/34 [==============================] - 0s 14ms/step - loss: 3637.8425 - mae: 3637.8425\n"
     ]
    },
    {
     "data": {
      "text/plain": [
       "<keras.src.callbacks.History at 0x7e42bae425d0>"
      ]
     },
     "execution_count": 96,
     "metadata": {},
     "output_type": "execute_result"
    }
   ],
   "execution_count": 96
  },
  {
   "cell_type": "code",
   "source": "# Evaluate our insurance model trained on normalized data\ninsurance_model_4.evaluate(X_test_normal, y_test)",
   "metadata": {
    "collapsed": false,
    "trusted": false,
    "ExecuteTime": {
     "end_time": "2025-07-14T02:01:44.023726Z",
     "start_time": "2025-07-14T02:01:43.809813Z"
    }
   },
   "id": "4fb3b657b6097d3",
   "outputs": [
    {
     "name": "stdout",
     "output_type": "stream",
     "text": [
      "9/9 [==============================] - 0s 10ms/step - loss: 3442.5750 - mae: 3442.5750\n"
     ]
    },
    {
     "data": {
      "text/plain": [
       "[3442.574951171875, 3442.574951171875]"
      ]
     },
     "execution_count": 97,
     "metadata": {},
     "output_type": "execute_result"
    }
   ],
   "execution_count": 97
  },
  {
   "cell_type": "code",
   "source": "# Insurance model 2 results\n# 9/9 [==============================] - 0s 8ms/step - loss: 4895.3872 - mae: 4895.3872",
   "metadata": {
    "collapsed": false,
    "trusted": false,
    "ExecuteTime": {
     "end_time": "2025-07-14T02:01:44.066701Z",
     "start_time": "2025-07-14T02:01:44.062854Z"
    }
   },
   "id": "91e076f0b6a086c1",
   "outputs": [],
   "execution_count": 98
  },
  {
   "cell_type": "code",
   "source": "insurance_model_2.summary()",
   "metadata": {
    "collapsed": false,
    "trusted": false,
    "ExecuteTime": {
     "end_time": "2025-07-14T02:01:44.197332Z",
     "start_time": "2025-07-14T02:01:44.115755Z"
    }
   },
   "id": "1c3942305d559523",
   "outputs": [
    {
     "name": "stdout",
     "output_type": "stream",
     "text": [
      "Model: \"sequential_8\"\n",
      "_________________________________________________________________\n",
      " Layer (type)                Output Shape              Param #   \n",
      "=================================================================\n",
      " dense_12 (Dense)            (None, 100)               1200      \n",
      "                                                                 \n",
      " dense_13 (Dense)            (None, 10)                1010      \n",
      "                                                                 \n",
      " dense_14 (Dense)            (None, 1)                 11        \n",
      "                                                                 \n",
      "=================================================================\n",
      "Total params: 2221 (8.68 KB)\n",
      "Trainable params: 2221 (8.68 KB)\n",
      "Non-trainable params: 0 (0.00 Byte)\n",
      "_________________________________________________________________\n"
     ]
    }
   ],
   "execution_count": 99
  },
  {
   "cell_type": "markdown",
   "source": "Beautiful! Our data has been normalized and one hot encoded.\nNow let's build neural network model on it and see how it goes.",
   "metadata": {
    "collapsed": false
   },
   "id": "d6820b5f46da4b9d"
  },
  {
   "cell_type": "code",
   "source": "X[\"age\"].plot(kind=\"hist\")",
   "metadata": {
    "collapsed": false,
    "trusted": false,
    "ExecuteTime": {
     "end_time": "2025-07-14T02:01:44.352589Z",
     "start_time": "2025-07-14T02:01:44.256662Z"
    }
   },
   "id": "55f0b1c8e43799f2",
   "outputs": [
    {
     "data": {
      "text/plain": [
       "<Axes: ylabel='Frequency'>"
      ]
     },
     "execution_count": 100,
     "metadata": {},
     "output_type": "execute_result"
    },
    {
     "data": {
      "text/plain": [
       "<Figure size 640x480 with 1 Axes>"
      ],
      "image/png": "[encoded data removed]"
     },
     "metadata": {},
     "output_type": "display_data"
    }
   ],
   "execution_count": 100
  },
  {
   "cell_type": "code",
   "source": "X[\"bmi\"].plot(kind=\"hist\")",
   "metadata": {
    "collapsed": false,
    "trusted": false,
    "ExecuteTime": {
     "end_time": "2025-07-14T02:01:44.488456Z",
     "start_time": "2025-07-14T02:01:44.391644Z"
    }
   },
   "id": "15141e0658c7ff0d",
   "outputs": [
    {
     "data": {
      "text/plain": [
       "<Axes: ylabel='Frequency'>"
      ]
     },
     "execution_count": 101,
     "metadata": {},
     "output_type": "execute_result"
    },
    {
     "data": {
      "text/plain": [
       "<Figure size 640x480 with 1 Axes>"
      ],
      "image/png": "[encoded data removed]"
     },
     "metadata": {},
     "output_type": "display_data"
    }
   ],
   "execution_count": 101
  },
  {
   "cell_type": "code",
   "source": "X[\"children\"].value_counts()",
   "metadata": {
    "collapsed": false,
    "trusted": false,
    "ExecuteTime": {
     "end_time": "2025-07-14T02:01:44.516301Z",
     "start_time": "2025-07-14T02:01:44.511859Z"
    }
   },
   "id": "e0601d61f80cc28e",
   "outputs": [
    {
     "data": {
      "text/plain": [
       "children\n",
       "0    574\n",
       "1    324\n",
       "2    240\n",
       "3    157\n",
       "4     25\n",
       "5     18\n",
       "Name: count, dtype: int64"
      ]
     },
     "execution_count": 102,
     "metadata": {},
     "output_type": "execute_result"
    }
   ],
   "execution_count": 102
  },
  {
   "cell_type": "code",
   "source": "",
   "metadata": {
    "collapsed": false,
    "trusted": false,
    "ExecuteTime": {
     "end_time": "2025-07-14T02:01:44.614111Z",
     "start_time": "2025-07-14T02:01:44.611285Z"
    }
   },
   "id": "48ee7614f72d2bd4",
   "outputs": [],
   "execution_count": null
  }
 ],
 "metadata": {
  "kernelspec": {
   "name": "python3",
   "language": "python",
   "display_name": "Python 3 (ipykernel)"
  },
  "language_info": {
   "codemirror_mode": {
    "name": "ipython",
    "version": 2
   },
   "file_extension": ".py",
   "mimetype": "text/x-python",
   "name": "python",
   "nbconvert_exporter": "python",
   "pygments_lexer": "ipython2",
   "version": "2.7.6"
  },
  "colab": {
   "provenance": [],
   "gpuType": "T4"
  },
  "accelerator": "GPU"
 },
 "nbformat": 4,
 "nbformat_minor": 5
}
