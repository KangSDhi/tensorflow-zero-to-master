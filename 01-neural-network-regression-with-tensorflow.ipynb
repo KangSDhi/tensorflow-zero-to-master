{
 "cells": [
  {
   "cell_type": "markdown",
   "source": [
    "# Introduction to Regression with Neural Networks in TensorFlow\n",
    "\n",
    "There are many definitions for regression problem but in our case, we're going to simplify it: predicting a numerical variable based on some other combination of variables, even shorther... predicting a number."
   ],
   "metadata": {
    "collapsed": false
   },
   "id": "6ebb1111b9c93791"
  },
  {
   "cell_type": "code",
   "execution_count": 1,
   "outputs": [
    {
     "name": "stderr",
     "output_type": "stream",
     "text": [
      "2023-09-29 20:37:53.865269: I tensorflow/core/platform/cpu_feature_guard.cc:182] This TensorFlow binary is optimized to use available CPU instructions in performance-critical operations.\n",
      "To enable the following instructions: SSE4.1 SSE4.2 AVX AVX2 FMA, in other operations, rebuild TensorFlow with the appropriate compiler flags.\n"
     ]
    },
    {
     "name": "stdout",
     "output_type": "stream",
     "text": [
      "2.12.0\n"
     ]
    }
   ],
   "source": [
    "# Import TensorFlow\n",
    "import tensorflow as tf\n",
    "print(tf.__version__)"
   ],
   "metadata": {
    "collapsed": false,
    "ExecuteTime": {
     "end_time": "2023-09-29T13:37:55.677506571Z",
     "start_time": "2023-09-29T13:37:53.681607017Z"
    }
   },
   "id": "d4e5f09eca05ca59"
  },
  {
   "cell_type": "markdown",
   "source": [
    "## Creating data to view and fit"
   ],
   "metadata": {
    "collapsed": false
   },
   "id": "8407fe85818d8aac"
  },
  {
   "cell_type": "code",
   "execution_count": 2,
   "outputs": [
    {
     "data": {
      "text/plain": "<matplotlib.collections.PathCollection at 0x7fd675f924d0>"
     },
     "execution_count": 2,
     "metadata": {},
     "output_type": "execute_result"
    },
    {
     "data": {
      "text/plain": "<Figure size 640x480 with 1 Axes>",
      "image/png": "[encoded data removed]"
     },
     "metadata": {},
     "output_type": "display_data"
    }
   ],
   "source": [
    "import numpy as np\n",
    "import matplotlib.pyplot as plt\n",
    "\n",
    "# Create features\n",
    "X = np.array([-7.0, -4.0, -1.0, 2.0, 5.0, 8.0, 11.0, 14.0])\n",
    "\n",
    "# Create labels\n",
    "y = np.array([3.0, 6.0, 9.0, 12.0, 15.0, 18.0, 21.0, 24.0])\n",
    "\n",
    "# Visualize it\n",
    "plt.scatter(X, y)"
   ],
   "metadata": {
    "collapsed": false,
    "ExecuteTime": {
     "end_time": "2023-09-29T13:37:56.131112115Z",
     "start_time": "2023-09-29T13:37:55.675717860Z"
    }
   },
   "id": "135387d48040aa65"
  },
  {
   "cell_type": "code",
   "execution_count": 3,
   "outputs": [
    {
     "data": {
      "text/plain": "array([ True,  True,  True,  True,  True,  True,  True,  True])"
     },
     "execution_count": 3,
     "metadata": {},
     "output_type": "execute_result"
    }
   ],
   "source": [
    "y == X + 10"
   ],
   "metadata": {
    "collapsed": false,
    "ExecuteTime": {
     "end_time": "2023-09-29T13:37:56.146900021Z",
     "start_time": "2023-09-29T13:37:56.132234060Z"
    }
   },
   "id": "35d94d5b061cfa67"
  },
  {
   "cell_type": "markdown",
   "source": [
    "## Input and output shapes"
   ],
   "metadata": {
    "collapsed": false
   },
   "id": "420b161819373fbe"
  },
  {
   "cell_type": "code",
   "execution_count": 4,
   "outputs": [
    {
     "name": "stderr",
     "output_type": "stream",
     "text": [
      "2023-09-29 20:37:56.137242: I tensorflow/core/common_runtime/process_util.cc:146] Creating new thread pool with default inter op setting: 2. Tune using inter_op_parallelism_threads for best performance.\n"
     ]
    },
    {
     "data": {
      "text/plain": "(<tf.Tensor: shape=(3,), dtype=string, numpy=array([b'bedroom', b'bathroom', b'garage'], dtype=object)>,\n <tf.Tensor: shape=(1,), dtype=int32, numpy=array([939700], dtype=int32)>)"
     },
     "execution_count": 4,
     "metadata": {},
     "output_type": "execute_result"
    }
   ],
   "source": [
    "# Create a demo tensor for our housing price prediction problem\n",
    "house_info = tf.constant([\"bedroom\", \"bathroom\", \"garage\"])\n",
    "house_price = tf.constant([939700])\n",
    "house_info, house_price"
   ],
   "metadata": {
    "collapsed": false,
    "ExecuteTime": {
     "end_time": "2023-09-29T13:37:56.264548283Z",
     "start_time": "2023-09-29T13:37:56.155689606Z"
    }
   },
   "id": "f6848417caa4070a"
  },
  {
   "cell_type": "code",
   "execution_count": 5,
   "outputs": [
    {
     "data": {
      "text/plain": "(-7.0, 3.0)"
     },
     "execution_count": 5,
     "metadata": {},
     "output_type": "execute_result"
    }
   ],
   "source": [
    "X[0], y[0]"
   ],
   "metadata": {
    "collapsed": false,
    "ExecuteTime": {
     "end_time": "2023-09-29T13:37:56.265225165Z",
     "start_time": "2023-09-29T13:37:56.173449692Z"
    }
   },
   "id": "2af8bcb603f84f47"
  },
  {
   "cell_type": "code",
   "execution_count": 6,
   "outputs": [
    {
     "data": {
      "text/plain": "(-4.0, 6.0)"
     },
     "execution_count": 6,
     "metadata": {},
     "output_type": "execute_result"
    }
   ],
   "source": [
    "X[1], y[1]"
   ],
   "metadata": {
    "collapsed": false,
    "ExecuteTime": {
     "end_time": "2023-09-29T13:37:56.265875965Z",
     "start_time": "2023-09-29T13:37:56.218808274Z"
    }
   },
   "id": "abfb4fe2f54c9ccd"
  },
  {
   "cell_type": "code",
   "execution_count": 7,
   "outputs": [
    {
     "data": {
      "text/plain": "((), ())"
     },
     "execution_count": 7,
     "metadata": {},
     "output_type": "execute_result"
    }
   ],
   "source": [
    "input_shape = X[0].shape\n",
    "output_shape = y[0].shape\n",
    "input_shape, output_shape"
   ],
   "metadata": {
    "collapsed": false,
    "ExecuteTime": {
     "end_time": "2023-09-29T13:37:56.266436960Z",
     "start_time": "2023-09-29T13:37:56.219315724Z"
    }
   },
   "id": "7ae73a2555815544"
  },
  {
   "cell_type": "code",
   "execution_count": 8,
   "outputs": [
    {
     "data": {
      "text/plain": "0"
     },
     "execution_count": 8,
     "metadata": {},
     "output_type": "execute_result"
    }
   ],
   "source": [
    "X[0].ndim"
   ],
   "metadata": {
    "collapsed": false,
    "ExecuteTime": {
     "end_time": "2023-09-29T13:37:56.266951667Z",
     "start_time": "2023-09-29T13:37:56.219701225Z"
    }
   },
   "id": "8a2ef4c080258f67"
  },
  {
   "cell_type": "code",
   "execution_count": 9,
   "outputs": [
    {
     "data": {
      "text/plain": "(-7.0, 3.0)"
     },
     "execution_count": 9,
     "metadata": {},
     "output_type": "execute_result"
    }
   ],
   "source": [
    "X[0], y[0]"
   ],
   "metadata": {
    "collapsed": false,
    "ExecuteTime": {
     "end_time": "2023-09-29T13:37:56.267436342Z",
     "start_time": "2023-09-29T13:37:56.219982448Z"
    }
   },
   "id": "8dfe9ccbe865992c"
  },
  {
   "cell_type": "code",
   "execution_count": 10,
   "outputs": [
    {
     "data": {
      "text/plain": "(<tf.Tensor: shape=(8,), dtype=float32, numpy=array([-7., -4., -1.,  2.,  5.,  8., 11., 14.], dtype=float32)>,\n <tf.Tensor: shape=(8,), dtype=float32, numpy=array([ 3.,  6.,  9., 12., 15., 18., 21., 24.], dtype=float32)>)"
     },
     "execution_count": 10,
     "metadata": {},
     "output_type": "execute_result"
    }
   ],
   "source": [
    "# Turn our NumPy arrays into tensors with dtype float32\n",
    "X = tf.cast(tf.constant(X), dtype=tf.float32)\n",
    "y = tf.cast(tf.constant(y), dtype=tf.float32)\n",
    "X, y"
   ],
   "metadata": {
    "collapsed": false,
    "ExecuteTime": {
     "end_time": "2023-09-29T13:37:56.267906536Z",
     "start_time": "2023-09-29T13:37:56.220207727Z"
    }
   },
   "id": "77e963d826e1c5ee"
  },
  {
   "cell_type": "code",
   "execution_count": 11,
   "outputs": [
    {
     "data": {
      "text/plain": "(TensorShape([]), TensorShape([]))"
     },
     "execution_count": 11,
     "metadata": {},
     "output_type": "execute_result"
    }
   ],
   "source": [
    "input_shape = X[0].shape\n",
    "output_shape = y[0].shape\n",
    "input_shape, output_shape"
   ],
   "metadata": {
    "collapsed": false,
    "ExecuteTime": {
     "end_time": "2023-09-29T13:37:56.276386129Z",
     "start_time": "2023-09-29T13:37:56.220630250Z"
    }
   },
   "id": "14e27954e5032236"
  },
  {
   "cell_type": "code",
   "execution_count": 12,
   "outputs": [
    {
     "data": {
      "text/plain": "<matplotlib.collections.PathCollection at 0x7fd675d9a1d0>"
     },
     "execution_count": 12,
     "metadata": {},
     "output_type": "execute_result"
    },
    {
     "data": {
      "text/plain": "<Figure size 640x480 with 1 Axes>",
      "image/png": "[encoded data removed]"
     },
     "metadata": {},
     "output_type": "display_data"
    }
   ],
   "source": [
    "plt.scatter(X, y)"
   ],
   "metadata": {
    "collapsed": false,
    "ExecuteTime": {
     "end_time": "2023-09-29T13:37:56.727112594Z",
     "start_time": "2023-09-29T13:37:56.260692861Z"
    }
   },
   "id": "e697df78c938eedc"
  },
  {
   "cell_type": "markdown",
   "source": [
    "## Steps in modeling with TensorFlow\n",
    "\n",
    "1. **Creating a model** - define the input and output layers, as well as the hidden layers of a deep learning model.\n",
    "2. **Compiling a model** - define the loss function (in other words, the function which tells our model how wrong it is) and the optimizer (tells our model how to improve the patterns its learning) and evaluation metrics (what we can use to interpret the performance our model).\n",
    "3. **Fitting a model** - letting the model try to find patterns between X & y (features and labels)."
   ],
   "metadata": {
    "collapsed": false
   },
   "id": "e9796f121f9b42fe"
  },
  {
   "cell_type": "code",
   "execution_count": 13,
   "outputs": [],
   "source": [
    "# # Optionally, the first layer can receive an `input_shape` argument:\n",
    "# model = tf.keras.Sequential()\n",
    "# model.add(tf.keras.layers.Dense(8, input_shape=(16,)))\n",
    "# # Afterwards, we do automatic shape inference:\n",
    "# model.add(tf.keras.layers.Dense(4))\n",
    "# \n",
    "# model = tf.keras.Sequential()\n",
    "# model.add(tf.keras.layers.Dense(8, input_shape=(16, )))\n",
    "# ...\n",
    "# \n",
    "# model = tf.keras.Sequential()\n",
    "# model.add(tf.keras.layers.Dense(1))"
   ],
   "metadata": {
    "collapsed": false,
    "ExecuteTime": {
     "end_time": "2023-09-29T13:37:56.727892796Z",
     "start_time": "2023-09-29T13:37:56.366844566Z"
    }
   },
   "id": "e65f811a3ad5e9e1"
  },
  {
   "cell_type": "code",
   "execution_count": 14,
   "outputs": [
    {
     "name": "stdout",
     "output_type": "stream",
     "text": [
      "Epoch 1/5\n",
      "1/1 [==============================] - 0s 359ms/step - loss: 13.2669 - mae: 13.2669\n",
      "Epoch 2/5\n",
      "1/1 [==============================] - 0s 6ms/step - loss: 13.1344 - mae: 13.1344\n",
      "Epoch 3/5\n",
      "1/1 [==============================] - 0s 5ms/step - loss: 13.0019 - mae: 13.0019\n",
      "Epoch 4/5\n",
      "1/1 [==============================] - 0s 6ms/step - loss: 12.8694 - mae: 12.8694\n",
      "Epoch 5/5\n",
      "1/1 [==============================] - 0s 5ms/step - loss: 12.7369 - mae: 12.7369\n"
     ]
    },
    {
     "data": {
      "text/plain": "<keras.callbacks.History at 0x7fd675d81850>"
     },
     "execution_count": 14,
     "metadata": {},
     "output_type": "execute_result"
    }
   ],
   "source": [
    "# Set random seed\n",
    "tf.random.set_seed(42)\n",
    "\n",
    "# 1. Create a model using the Sequential API\n",
    "model = tf.keras.Sequential([\n",
    "    tf.keras.layers.Dense(1)\n",
    "])\n",
    "\n",
    "# 2. Compile the model\n",
    "model.compile(loss=tf.keras.losses.mae, # mae is short for mean absolute error\n",
    "              optimizer=tf.keras.optimizers.SGD(), # sgd is short for stochstic gradient descent\n",
    "              metrics=[\"mae\"])\n",
    "\n",
    "# 3. Fit the model\n",
    "# model.fit(X, y, epochs=5) # This line will error if you're running TensorFlow 2.7.0+!\n",
    "model.fit(tf.expand_dims(X, axis=-1), y, epochs=5)"
   ],
   "metadata": {
    "collapsed": false,
    "ExecuteTime": {
     "end_time": "2023-09-29T13:37:57.109744776Z",
     "start_time": "2023-09-29T13:37:56.372136822Z"
    }
   },
   "id": "cc71e5f4aac7d8a6"
  },
  {
   "cell_type": "code",
   "execution_count": 15,
   "outputs": [
    {
     "data": {
      "text/plain": "(<tf.Tensor: shape=(8,), dtype=float32, numpy=array([-7., -4., -1.,  2.,  5.,  8., 11., 14.], dtype=float32)>,\n <tf.Tensor: shape=(8,), dtype=float32, numpy=array([ 3.,  6.,  9., 12., 15., 18., 21., 24.], dtype=float32)>)"
     },
     "execution_count": 15,
     "metadata": {},
     "output_type": "execute_result"
    }
   ],
   "source": [
    "# Check out X and y\n",
    "X, y"
   ],
   "metadata": {
    "collapsed": false,
    "ExecuteTime": {
     "end_time": "2023-09-29T13:37:57.119844290Z",
     "start_time": "2023-09-29T13:37:57.047038720Z"
    }
   },
   "id": "b1b4a1c994642378"
  },
  {
   "cell_type": "code",
   "execution_count": 16,
   "outputs": [
    {
     "name": "stdout",
     "output_type": "stream",
     "text": [
      "1/1 [==============================] - 0s 91ms/step\n"
     ]
    },
    {
     "data": {
      "text/plain": "array([[4.1570635]], dtype=float32)"
     },
     "execution_count": 16,
     "metadata": {},
     "output_type": "execute_result"
    }
   ],
   "source": [
    "# Try and make a prediction using our model\n",
    "y_pred = model.predict([17.0])\n",
    "y_pred"
   ],
   "metadata": {
    "collapsed": false,
    "ExecuteTime": {
     "end_time": "2023-09-29T13:37:57.329030920Z",
     "start_time": "2023-09-29T13:37:57.051586062Z"
    }
   },
   "id": "6c9feaa2ed2266c8"
  },
  {
   "cell_type": "code",
   "execution_count": 17,
   "outputs": [
    {
     "data": {
      "text/plain": "array([[13.1570635]], dtype=float32)"
     },
     "execution_count": 17,
     "metadata": {},
     "output_type": "execute_result"
    }
   ],
   "source": [
    "y_pred + 9"
   ],
   "metadata": {
    "collapsed": false,
    "ExecuteTime": {
     "end_time": "2023-09-29T13:37:57.331619681Z",
     "start_time": "2023-09-29T13:37:57.209059621Z"
    }
   },
   "id": "6ac8363b8e315b33"
  },
  {
   "cell_type": "markdown",
   "source": [
    "## Improving our model\n",
    "\n",
    "We can improve our model, by altering the steps we took to create a model.\n",
    "\n",
    "1. **Creating a model** - here we might add more layers, increase the number of hidden units (all called neurons) within each of the hidden layers, change the activation function of each layer.\n",
    "2. **Compiling a model** - here we might change the optimization function or perhaps the **learning rate** of the optimization function.\n",
    "3. **Fitting a model** - here we might fit a model for more **epochs** (leave it training for longer) or on more data (give the model more examples to learn from)."
   ],
   "metadata": {
    "collapsed": false
   },
   "id": "ee325f78f13dbc6f"
  },
  {
   "cell_type": "code",
   "execution_count": 18,
   "outputs": [
    {
     "name": "stdout",
     "output_type": "stream",
     "text": [
      "Epoch 1/100\n",
      "1/1 [==============================] - 0s 294ms/step - loss: 22.0070 - mae: 22.0070\n",
      "Epoch 2/100\n",
      "1/1 [==============================] - 0s 6ms/step - loss: 21.6139 - mae: 21.6139\n",
      "Epoch 3/100\n",
      "1/1 [==============================] - 0s 4ms/step - loss: 21.2207 - mae: 21.2207\n",
      "Epoch 4/100\n",
      "1/1 [==============================] - 0s 5ms/step - loss: 20.8276 - mae: 20.8276\n",
      "Epoch 5/100\n",
      "1/1 [==============================] - 0s 6ms/step - loss: 20.4584 - mae: 20.4584\n",
      "Epoch 6/100\n",
      "1/1 [==============================] - 0s 5ms/step - loss: 20.1771 - mae: 20.1771\n",
      "Epoch 7/100\n",
      "1/1 [==============================] - 0s 6ms/step - loss: 19.8959 - mae: 19.8959\n",
      "Epoch 8/100\n",
      "1/1 [==============================] - 0s 4ms/step - loss: 19.6146 - mae: 19.6146\n",
      "Epoch 9/100\n",
      "1/1 [==============================] - 0s 5ms/step - loss: 19.3334 - mae: 19.3334\n",
      "Epoch 10/100\n",
      "1/1 [==============================] - 0s 4ms/step - loss: 19.0521 - mae: 19.0521\n",
      "Epoch 11/100\n",
      "1/1 [==============================] - 0s 4ms/step - loss: 18.7709 - mae: 18.7709\n",
      "Epoch 12/100\n",
      "1/1 [==============================] - 0s 5ms/step - loss: 18.4896 - mae: 18.4896\n",
      "Epoch 13/100\n",
      "1/1 [==============================] - 0s 5ms/step - loss: 18.2084 - mae: 18.2084\n",
      "Epoch 14/100\n",
      "1/1 [==============================] - 0s 7ms/step - loss: 17.9271 - mae: 17.9271\n",
      "Epoch 15/100\n",
      "1/1 [==============================] - 0s 6ms/step - loss: 17.6459 - mae: 17.6459\n",
      "Epoch 16/100\n",
      "1/1 [==============================] - 0s 5ms/step - loss: 17.3646 - mae: 17.3646\n",
      "Epoch 17/100\n",
      "1/1 [==============================] - 0s 7ms/step - loss: 17.0834 - mae: 17.0834\n",
      "Epoch 18/100\n",
      "1/1 [==============================] - 0s 5ms/step - loss: 16.8021 - mae: 16.8021\n",
      "Epoch 19/100\n",
      "1/1 [==============================] - 0s 6ms/step - loss: 16.5209 - mae: 16.5209\n",
      "Epoch 20/100\n",
      "1/1 [==============================] - 0s 5ms/step - loss: 16.2396 - mae: 16.2396\n",
      "Epoch 21/100\n",
      "1/1 [==============================] - 0s 5ms/step - loss: 15.9584 - mae: 15.9584\n",
      "Epoch 22/100\n",
      "1/1 [==============================] - 0s 5ms/step - loss: 15.6771 - mae: 15.6771\n",
      "Epoch 23/100\n",
      "1/1 [==============================] - 0s 5ms/step - loss: 15.3959 - mae: 15.3959\n",
      "Epoch 24/100\n",
      "1/1 [==============================] - 0s 5ms/step - loss: 15.1146 - mae: 15.1146\n",
      "Epoch 25/100\n",
      "1/1 [==============================] - 0s 4ms/step - loss: 14.8334 - mae: 14.8334\n",
      "Epoch 26/100\n",
      "1/1 [==============================] - 0s 6ms/step - loss: 14.6127 - mae: 14.6127\n",
      "Epoch 27/100\n",
      "1/1 [==============================] - 0s 5ms/step - loss: 14.4802 - mae: 14.4802\n",
      "Epoch 28/100\n",
      "1/1 [==============================] - 0s 7ms/step - loss: 14.3477 - mae: 14.3477\n",
      "Epoch 29/100\n",
      "1/1 [==============================] - 0s 5ms/step - loss: 14.2152 - mae: 14.2152\n",
      "Epoch 30/100\n",
      "1/1 [==============================] - 0s 7ms/step - loss: 14.0827 - mae: 14.0827\n",
      "Epoch 31/100\n",
      "1/1 [==============================] - 0s 6ms/step - loss: 13.9502 - mae: 13.9502\n",
      "Epoch 32/100\n",
      "1/1 [==============================] - 0s 7ms/step - loss: 13.8177 - mae: 13.8177\n",
      "Epoch 33/100\n",
      "1/1 [==============================] - 0s 5ms/step - loss: 13.6852 - mae: 13.6852\n",
      "Epoch 34/100\n",
      "1/1 [==============================] - 0s 6ms/step - loss: 13.5527 - mae: 13.5527\n",
      "Epoch 35/100\n",
      "1/1 [==============================] - 0s 5ms/step - loss: 13.4202 - mae: 13.4202\n",
      "Epoch 36/100\n",
      "1/1 [==============================] - 0s 5ms/step - loss: 13.2877 - mae: 13.2877\n",
      "Epoch 37/100\n",
      "1/1 [==============================] - 0s 5ms/step - loss: 13.1552 - mae: 13.1552\n",
      "Epoch 38/100\n",
      "1/1 [==============================] - 0s 5ms/step - loss: 13.0227 - mae: 13.0227\n",
      "Epoch 39/100\n",
      "1/1 [==============================] - 0s 5ms/step - loss: 12.8902 - mae: 12.8902\n",
      "Epoch 40/100\n",
      "1/1 [==============================] - 0s 5ms/step - loss: 12.7577 - mae: 12.7577\n",
      "Epoch 41/100\n",
      "1/1 [==============================] - 0s 6ms/step - loss: 12.6252 - mae: 12.6252\n",
      "Epoch 42/100\n",
      "1/1 [==============================] - 0s 5ms/step - loss: 12.4927 - mae: 12.4927\n",
      "Epoch 43/100\n",
      "1/1 [==============================] - 0s 5ms/step - loss: 12.3602 - mae: 12.3602\n",
      "Epoch 44/100\n",
      "1/1 [==============================] - 0s 5ms/step - loss: 12.2277 - mae: 12.2277\n",
      "Epoch 45/100\n",
      "1/1 [==============================] - 0s 7ms/step - loss: 12.0952 - mae: 12.0952\n",
      "Epoch 46/100\n",
      "1/1 [==============================] - 0s 5ms/step - loss: 11.9627 - mae: 11.9627\n",
      "Epoch 47/100\n",
      "1/1 [==============================] - 0s 5ms/step - loss: 11.8302 - mae: 11.8302\n",
      "Epoch 48/100\n",
      "1/1 [==============================] - 0s 6ms/step - loss: 11.6977 - mae: 11.6977\n",
      "Epoch 49/100\n",
      "1/1 [==============================] - 0s 6ms/step - loss: 11.5652 - mae: 11.5652\n",
      "Epoch 50/100\n",
      "1/1 [==============================] - 0s 5ms/step - loss: 11.4327 - mae: 11.4327\n",
      "Epoch 51/100\n",
      "1/1 [==============================] - 0s 5ms/step - loss: 11.3002 - mae: 11.3002\n",
      "Epoch 52/100\n",
      "1/1 [==============================] - 0s 6ms/step - loss: 11.1677 - mae: 11.1677\n",
      "Epoch 53/100\n",
      "1/1 [==============================] - 0s 4ms/step - loss: 11.0352 - mae: 11.0352\n",
      "Epoch 54/100\n",
      "1/1 [==============================] - 0s 6ms/step - loss: 10.9027 - mae: 10.9027\n",
      "Epoch 55/100\n",
      "1/1 [==============================] - 0s 5ms/step - loss: 10.7702 - mae: 10.7702\n",
      "Epoch 56/100\n",
      "1/1 [==============================] - 0s 5ms/step - loss: 10.6377 - mae: 10.6377\n",
      "Epoch 57/100\n",
      "1/1 [==============================] - 0s 5ms/step - loss: 10.5052 - mae: 10.5052\n",
      "Epoch 58/100\n",
      "1/1 [==============================] - 0s 5ms/step - loss: 10.3727 - mae: 10.3727\n",
      "Epoch 59/100\n",
      "1/1 [==============================] - 0s 5ms/step - loss: 10.2402 - mae: 10.2402\n",
      "Epoch 60/100\n",
      "1/1 [==============================] - 0s 5ms/step - loss: 10.1077 - mae: 10.1077\n",
      "Epoch 61/100\n",
      "1/1 [==============================] - 0s 5ms/step - loss: 9.9752 - mae: 9.9752\n",
      "Epoch 62/100\n",
      "1/1 [==============================] - 0s 5ms/step - loss: 9.8427 - mae: 9.8427\n",
      "Epoch 63/100\n",
      "1/1 [==============================] - 0s 6ms/step - loss: 9.7102 - mae: 9.7102\n",
      "Epoch 64/100\n",
      "1/1 [==============================] - 0s 5ms/step - loss: 9.5777 - mae: 9.5777\n",
      "Epoch 65/100\n",
      "1/1 [==============================] - 0s 5ms/step - loss: 9.4452 - mae: 9.4452\n",
      "Epoch 66/100\n",
      "1/1 [==============================] - 0s 4ms/step - loss: 9.3127 - mae: 9.3127\n",
      "Epoch 67/100\n",
      "1/1 [==============================] - 0s 6ms/step - loss: 9.1802 - mae: 9.1802\n",
      "Epoch 68/100\n",
      "1/1 [==============================] - 0s 6ms/step - loss: 9.0477 - mae: 9.0477\n",
      "Epoch 69/100\n",
      "1/1 [==============================] - 0s 4ms/step - loss: 8.9152 - mae: 8.9152\n",
      "Epoch 70/100\n",
      "1/1 [==============================] - 0s 4ms/step - loss: 8.7827 - mae: 8.7827\n",
      "Epoch 71/100\n",
      "1/1 [==============================] - 0s 8ms/step - loss: 8.6502 - mae: 8.6502\n",
      "Epoch 72/100\n",
      "1/1 [==============================] - 0s 5ms/step - loss: 8.5177 - mae: 8.5177\n",
      "Epoch 73/100\n",
      "1/1 [==============================] - 0s 5ms/step - loss: 8.3852 - mae: 8.3852\n",
      "Epoch 74/100\n",
      "1/1 [==============================] - 0s 5ms/step - loss: 8.2527 - mae: 8.2527\n",
      "Epoch 75/100\n",
      "1/1 [==============================] - 0s 5ms/step - loss: 8.1202 - mae: 8.1202\n",
      "Epoch 76/100\n",
      "1/1 [==============================] - 0s 5ms/step - loss: 7.9877 - mae: 7.9877\n",
      "Epoch 77/100\n",
      "1/1 [==============================] - 0s 6ms/step - loss: 7.8552 - mae: 7.8552\n",
      "Epoch 78/100\n",
      "1/1 [==============================] - 0s 5ms/step - loss: 7.7227 - mae: 7.7227\n",
      "Epoch 79/100\n",
      "1/1 [==============================] - 0s 6ms/step - loss: 7.5902 - mae: 7.5902\n",
      "Epoch 80/100\n",
      "1/1 [==============================] - 0s 4ms/step - loss: 7.4577 - mae: 7.4577\n",
      "Epoch 81/100\n",
      "1/1 [==============================] - 0s 4ms/step - loss: 7.3252 - mae: 7.3252\n",
      "Epoch 82/100\n",
      "1/1 [==============================] - 0s 4ms/step - loss: 7.1927 - mae: 7.1927\n",
      "Epoch 83/100\n",
      "1/1 [==============================] - 0s 5ms/step - loss: 7.0602 - mae: 7.0602\n",
      "Epoch 84/100\n",
      "1/1 [==============================] - 0s 5ms/step - loss: 6.9319 - mae: 6.9319\n",
      "Epoch 85/100\n",
      "1/1 [==============================] - 0s 4ms/step - loss: 6.9263 - mae: 6.9263\n",
      "Epoch 86/100\n",
      "1/1 [==============================] - 0s 5ms/step - loss: 6.9206 - mae: 6.9206\n",
      "Epoch 87/100\n",
      "1/1 [==============================] - 0s 4ms/step - loss: 6.9150 - mae: 6.9150\n",
      "Epoch 88/100\n",
      "1/1 [==============================] - 0s 4ms/step - loss: 6.9094 - mae: 6.9094\n",
      "Epoch 89/100\n",
      "1/1 [==============================] - 0s 4ms/step - loss: 6.9038 - mae: 6.9038\n",
      "Epoch 90/100\n",
      "1/1 [==============================] - 0s 5ms/step - loss: 6.8981 - mae: 6.8981\n",
      "Epoch 91/100\n",
      "1/1 [==============================] - 0s 4ms/step - loss: 6.8925 - mae: 6.8925\n",
      "Epoch 92/100\n",
      "1/1 [==============================] - 0s 6ms/step - loss: 6.8869 - mae: 6.8869\n",
      "Epoch 93/100\n",
      "1/1 [==============================] - 0s 5ms/step - loss: 6.8813 - mae: 6.8813\n",
      "Epoch 94/100\n",
      "1/1 [==============================] - 0s 6ms/step - loss: 6.8756 - mae: 6.8756\n",
      "Epoch 95/100\n",
      "1/1 [==============================] - 0s 5ms/step - loss: 6.8700 - mae: 6.8700\n",
      "Epoch 96/100\n",
      "1/1 [==============================] - 0s 6ms/step - loss: 6.8644 - mae: 6.8644\n",
      "Epoch 97/100\n",
      "1/1 [==============================] - 0s 6ms/step - loss: 6.8588 - mae: 6.8588\n",
      "Epoch 98/100\n",
      "1/1 [==============================] - 0s 6ms/step - loss: 6.8531 - mae: 6.8531\n",
      "Epoch 99/100\n",
      "1/1 [==============================] - 0s 5ms/step - loss: 6.8475 - mae: 6.8475\n",
      "Epoch 100/100\n",
      "1/1 [==============================] - 0s 5ms/step - loss: 6.8419 - mae: 6.8419\n"
     ]
    },
    {
     "data": {
      "text/plain": "<keras.callbacks.History at 0x7fd674300c90>"
     },
     "execution_count": 18,
     "metadata": {},
     "output_type": "execute_result"
    }
   ],
   "source": [
    "# Let's rebuild our model\n",
    "\n",
    "# 1. Create the model\n",
    "model = tf.keras.Sequential([\n",
    "    tf.keras.layers.Dense(1)\n",
    "])\n",
    "\n",
    "# 2. Compile the model\n",
    "model.compile(loss=tf.keras.losses.mae,\n",
    "              optimizer=tf.keras.optimizers.SGD(),\n",
    "              metrics=[\"mae\"])\n",
    "\n",
    "# 3. Fit the model (this time we'll train for longer)\n",
    "model.fit(tf.expand_dims(X, axis=-1), y, epochs=100)"
   ],
   "metadata": {
    "collapsed": false,
    "ExecuteTime": {
     "end_time": "2023-09-29T13:37:59.789801457Z",
     "start_time": "2023-09-29T13:37:57.251024253Z"
    }
   },
   "id": "b26232423384ab79"
  },
  {
   "cell_type": "code",
   "execution_count": 19,
   "outputs": [
    {
     "data": {
      "text/plain": "(<tf.Tensor: shape=(8,), dtype=float32, numpy=array([-7., -4., -1.,  2.,  5.,  8., 11., 14.], dtype=float32)>,\n <tf.Tensor: shape=(8,), dtype=float32, numpy=array([ 3.,  6.,  9., 12., 15., 18., 21., 24.], dtype=float32)>)"
     },
     "execution_count": 19,
     "metadata": {},
     "output_type": "execute_result"
    }
   ],
   "source": [
    "# Reminder ourselves of the data\n",
    "X, y"
   ],
   "metadata": {
    "collapsed": false,
    "ExecuteTime": {
     "end_time": "2023-09-29T13:38:01.036991469Z",
     "start_time": "2023-09-29T13:37:58.309151815Z"
    }
   },
   "id": "e9b4e45adea19edc"
  },
  {
   "cell_type": "code",
   "execution_count": 20,
   "outputs": [
    {
     "name": "stdout",
     "output_type": "stream",
     "text": [
      "1/1 [==============================] - 0s 65ms/step\n"
     ]
    },
    {
     "data": {
      "text/plain": "array([[29.128475]], dtype=float32)"
     },
     "execution_count": 20,
     "metadata": {},
     "output_type": "execute_result"
    }
   ],
   "source": [
    "# Let's see if our model's prediction has improved...\n",
    "model.predict([17.0])"
   ],
   "metadata": {
    "collapsed": false,
    "ExecuteTime": {
     "end_time": "2023-09-29T13:38:01.099575331Z",
     "start_time": "2023-09-29T13:37:58.350733942Z"
    }
   },
   "id": "4fa1532cec878a87"
  },
  {
   "cell_type": "code",
   "execution_count": 21,
   "outputs": [
    {
     "name": "stdout",
     "output_type": "stream",
     "text": [
      "Epoch 1/100\n",
      "1/1 [==============================] - 0s 497ms/step - loss: 13.9126 - mae: 13.9126\n",
      "Epoch 2/100\n",
      "1/1 [==============================] - 0s 19ms/step - loss: 13.2893 - mae: 13.2893\n",
      "Epoch 3/100\n",
      "1/1 [==============================] - 0s 15ms/step - loss: 12.6721 - mae: 12.6721\n",
      "Epoch 4/100\n",
      "1/1 [==============================] - 0s 15ms/step - loss: 12.0592 - mae: 12.0592\n",
      "Epoch 5/100\n",
      "1/1 [==============================] - 0s 10ms/step - loss: 11.4470 - mae: 11.4470\n",
      "Epoch 6/100\n",
      "1/1 [==============================] - 0s 16ms/step - loss: 10.8315 - mae: 10.8315\n",
      "Epoch 7/100\n",
      "1/1 [==============================] - 0s 19ms/step - loss: 10.2087 - mae: 10.2087\n",
      "Epoch 8/100\n",
      "1/1 [==============================] - 0s 15ms/step - loss: 9.5749 - mae: 9.5749\n",
      "Epoch 9/100\n",
      "1/1 [==============================] - 0s 19ms/step - loss: 8.9262 - mae: 8.9262\n",
      "Epoch 10/100\n",
      "1/1 [==============================] - 0s 16ms/step - loss: 8.2591 - mae: 8.2591\n",
      "Epoch 11/100\n",
      "1/1 [==============================] - 0s 19ms/step - loss: 7.5701 - mae: 7.5701\n",
      "Epoch 12/100\n",
      "1/1 [==============================] - 0s 14ms/step - loss: 6.8562 - mae: 6.8562\n",
      "Epoch 13/100\n",
      "1/1 [==============================] - 0s 13ms/step - loss: 6.6199 - mae: 6.6199\n",
      "Epoch 14/100\n",
      "1/1 [==============================] - 0s 16ms/step - loss: 6.9338 - mae: 6.9338\n",
      "Epoch 15/100\n",
      "1/1 [==============================] - 0s 18ms/step - loss: 7.2122 - mae: 7.2122\n",
      "Epoch 16/100\n",
      "1/1 [==============================] - 0s 11ms/step - loss: 7.5719 - mae: 7.5719\n",
      "Epoch 17/100\n",
      "1/1 [==============================] - 0s 14ms/step - loss: 7.6994 - mae: 7.6994\n",
      "Epoch 18/100\n",
      "1/1 [==============================] - 0s 52ms/step - loss: 7.6358 - mae: 7.6358\n",
      "Epoch 19/100\n",
      "1/1 [==============================] - 0s 19ms/step - loss: 7.4263 - mae: 7.4263\n",
      "Epoch 20/100\n",
      "1/1 [==============================] - 0s 14ms/step - loss: 7.1054 - mae: 7.1054\n",
      "Epoch 21/100\n",
      "1/1 [==============================] - 0s 10ms/step - loss: 6.7596 - mae: 6.7596\n",
      "Epoch 22/100\n",
      "1/1 [==============================] - 0s 7ms/step - loss: 6.4969 - mae: 6.4969\n",
      "Epoch 23/100\n",
      "1/1 [==============================] - 0s 8ms/step - loss: 6.2259 - mae: 6.2259\n",
      "Epoch 24/100\n",
      "1/1 [==============================] - 0s 14ms/step - loss: 5.9868 - mae: 5.9868\n",
      "Epoch 25/100\n",
      "1/1 [==============================] - 0s 9ms/step - loss: 5.9515 - mae: 5.9515\n",
      "Epoch 26/100\n",
      "1/1 [==============================] - 0s 9ms/step - loss: 5.9244 - mae: 5.9244\n",
      "Epoch 27/100\n",
      "1/1 [==============================] - 0s 13ms/step - loss: 6.0046 - mae: 6.0046\n",
      "Epoch 28/100\n",
      "1/1 [==============================] - 0s 10ms/step - loss: 5.9865 - mae: 5.9865\n",
      "Epoch 29/100\n",
      "1/1 [==============================] - 0s 29ms/step - loss: 5.8824 - mae: 5.8824\n",
      "Epoch 30/100\n",
      "1/1 [==============================] - 0s 10ms/step - loss: 5.7010 - mae: 5.7010\n",
      "Epoch 31/100\n",
      "1/1 [==============================] - 0s 18ms/step - loss: 5.5187 - mae: 5.5187\n",
      "Epoch 32/100\n",
      "1/1 [==============================] - 0s 7ms/step - loss: 5.4145 - mae: 5.4145\n",
      "Epoch 33/100\n",
      "1/1 [==============================] - 0s 7ms/step - loss: 5.3066 - mae: 5.3066\n",
      "Epoch 34/100\n",
      "1/1 [==============================] - 0s 7ms/step - loss: 5.2227 - mae: 5.2227\n",
      "Epoch 35/100\n",
      "1/1 [==============================] - 0s 9ms/step - loss: 5.1914 - mae: 5.1914\n",
      "Epoch 36/100\n",
      "1/1 [==============================] - 0s 8ms/step - loss: 5.1219 - mae: 5.1219\n",
      "Epoch 37/100\n",
      "1/1 [==============================] - 0s 8ms/step - loss: 5.0169 - mae: 5.0169\n",
      "Epoch 38/100\n",
      "1/1 [==============================] - 0s 10ms/step - loss: 4.8788 - mae: 4.8788\n",
      "Epoch 39/100\n",
      "1/1 [==============================] - 0s 8ms/step - loss: 4.7102 - mae: 4.7102\n",
      "Epoch 40/100\n",
      "1/1 [==============================] - 0s 8ms/step - loss: 4.6073 - mae: 4.6073\n",
      "Epoch 41/100\n",
      "1/1 [==============================] - 0s 8ms/step - loss: 4.5086 - mae: 4.5086\n",
      "Epoch 42/100\n",
      "1/1 [==============================] - 0s 9ms/step - loss: 4.4015 - mae: 4.4015\n",
      "Epoch 43/100\n",
      "1/1 [==============================] - 0s 8ms/step - loss: 4.2962 - mae: 4.2962\n",
      "Epoch 44/100\n",
      "1/1 [==============================] - 0s 10ms/step - loss: 4.1517 - mae: 4.1517\n",
      "Epoch 45/100\n",
      "1/1 [==============================] - 0s 7ms/step - loss: 4.0094 - mae: 4.0094\n",
      "Epoch 46/100\n",
      "1/1 [==============================] - 0s 7ms/step - loss: 3.8589 - mae: 3.8589\n",
      "Epoch 47/100\n",
      "1/1 [==============================] - 0s 14ms/step - loss: 3.7000 - mae: 3.7000\n",
      "Epoch 48/100\n",
      "1/1 [==============================] - 0s 10ms/step - loss: 3.5323 - mae: 3.5323\n",
      "Epoch 49/100\n",
      "1/1 [==============================] - 0s 5ms/step - loss: 3.3557 - mae: 3.3557\n",
      "Epoch 50/100\n",
      "1/1 [==============================] - 0s 12ms/step - loss: 3.1698 - mae: 3.1698\n",
      "Epoch 51/100\n",
      "1/1 [==============================] - 0s 24ms/step - loss: 3.0406 - mae: 3.0406\n",
      "Epoch 52/100\n",
      "1/1 [==============================] - 0s 6ms/step - loss: 2.8573 - mae: 2.8573\n",
      "Epoch 53/100\n",
      "1/1 [==============================] - 0s 9ms/step - loss: 2.6172 - mae: 2.6172\n",
      "Epoch 54/100\n",
      "1/1 [==============================] - 0s 8ms/step - loss: 2.4009 - mae: 2.4009\n",
      "Epoch 55/100\n",
      "1/1 [==============================] - 0s 8ms/step - loss: 2.2072 - mae: 2.2072\n",
      "Epoch 56/100\n",
      "1/1 [==============================] - 0s 10ms/step - loss: 1.9694 - mae: 1.9694\n",
      "Epoch 57/100\n",
      "1/1 [==============================] - 0s 9ms/step - loss: 1.7287 - mae: 1.7287\n",
      "Epoch 58/100\n",
      "1/1 [==============================] - 0s 5ms/step - loss: 1.4755 - mae: 1.4755\n",
      "Epoch 59/100\n",
      "1/1 [==============================] - 0s 6ms/step - loss: 1.2246 - mae: 1.2246\n",
      "Epoch 60/100\n",
      "1/1 [==============================] - 0s 10ms/step - loss: 0.9447 - mae: 0.9447\n",
      "Epoch 61/100\n",
      "1/1 [==============================] - 0s 14ms/step - loss: 0.6654 - mae: 0.6654\n",
      "Epoch 62/100\n",
      "1/1 [==============================] - 0s 17ms/step - loss: 0.3718 - mae: 0.3718\n",
      "Epoch 63/100\n",
      "1/1 [==============================] - 0s 7ms/step - loss: 0.0759 - mae: 0.0759\n",
      "Epoch 64/100\n",
      "1/1 [==============================] - 0s 7ms/step - loss: 0.4349 - mae: 0.4349\n",
      "Epoch 65/100\n",
      "1/1 [==============================] - 0s 5ms/step - loss: 0.5375 - mae: 0.5375\n",
      "Epoch 66/100\n",
      "1/1 [==============================] - 0s 6ms/step - loss: 0.8106 - mae: 0.8106\n",
      "Epoch 67/100\n",
      "1/1 [==============================] - 0s 18ms/step - loss: 0.9353 - mae: 0.9353\n",
      "Epoch 68/100\n",
      "1/1 [==============================] - 0s 5ms/step - loss: 0.9080 - mae: 0.9080\n",
      "Epoch 69/100\n",
      "1/1 [==============================] - 0s 5ms/step - loss: 0.9672 - mae: 0.9672\n",
      "Epoch 70/100\n",
      "1/1 [==============================] - 0s 5ms/step - loss: 0.9176 - mae: 0.9176\n",
      "Epoch 71/100\n",
      "1/1 [==============================] - 0s 15ms/step - loss: 0.9226 - mae: 0.9226\n",
      "Epoch 72/100\n",
      "1/1 [==============================] - 0s 11ms/step - loss: 0.7946 - mae: 0.7946\n",
      "Epoch 73/100\n",
      "1/1 [==============================] - 0s 18ms/step - loss: 0.7243 - mae: 0.7243\n",
      "Epoch 74/100\n",
      "1/1 [==============================] - 0s 13ms/step - loss: 0.6124 - mae: 0.6124\n",
      "Epoch 75/100\n",
      "1/1 [==============================] - 0s 12ms/step - loss: 0.3706 - mae: 0.3706\n",
      "Epoch 76/100\n",
      "1/1 [==============================] - 0s 5ms/step - loss: 0.3269 - mae: 0.3269\n",
      "Epoch 77/100\n",
      "1/1 [==============================] - 0s 8ms/step - loss: 0.1486 - mae: 0.1486\n",
      "Epoch 78/100\n",
      "1/1 [==============================] - 0s 12ms/step - loss: 0.3165 - mae: 0.3165\n",
      "Epoch 79/100\n",
      "1/1 [==============================] - 0s 10ms/step - loss: 0.5165 - mae: 0.5165\n",
      "Epoch 80/100\n",
      "1/1 [==============================] - 0s 8ms/step - loss: 0.5257 - mae: 0.5257\n",
      "Epoch 81/100\n",
      "1/1 [==============================] - 0s 8ms/step - loss: 0.3686 - mae: 0.3686\n",
      "Epoch 82/100\n",
      "1/1 [==============================] - 0s 12ms/step - loss: 0.6317 - mae: 0.6317\n",
      "Epoch 83/100\n",
      "1/1 [==============================] - 0s 8ms/step - loss: 0.7304 - mae: 0.7304\n",
      "Epoch 84/100\n",
      "1/1 [==============================] - 0s 8ms/step - loss: 0.5459 - mae: 0.5459\n",
      "Epoch 85/100\n",
      "1/1 [==============================] - 0s 11ms/step - loss: 0.2760 - mae: 0.2760\n",
      "Epoch 86/100\n",
      "1/1 [==============================] - 0s 16ms/step - loss: 0.3267 - mae: 0.3267\n",
      "Epoch 87/100\n",
      "1/1 [==============================] - 0s 17ms/step - loss: 0.2247 - mae: 0.2247\n",
      "Epoch 88/100\n",
      "1/1 [==============================] - 0s 6ms/step - loss: 0.0818 - mae: 0.0818\n",
      "Epoch 89/100\n",
      "1/1 [==============================] - 0s 17ms/step - loss: 0.1477 - mae: 0.1477\n",
      "Epoch 90/100\n",
      "1/1 [==============================] - 0s 15ms/step - loss: 0.2153 - mae: 0.2153\n",
      "Epoch 91/100\n",
      "1/1 [==============================] - 0s 18ms/step - loss: 0.1693 - mae: 0.1693\n",
      "Epoch 92/100\n",
      "1/1 [==============================] - 0s 16ms/step - loss: 0.2323 - mae: 0.2323\n",
      "Epoch 93/100\n",
      "1/1 [==============================] - 0s 20ms/step - loss: 0.1702 - mae: 0.1702\n",
      "Epoch 94/100\n",
      "1/1 [==============================] - 0s 13ms/step - loss: 0.1087 - mae: 0.1087\n",
      "Epoch 95/100\n",
      "1/1 [==============================] - 0s 16ms/step - loss: 0.0503 - mae: 0.0503\n",
      "Epoch 96/100\n",
      "1/1 [==============================] - 0s 9ms/step - loss: 0.1639 - mae: 0.1639\n",
      "Epoch 97/100\n",
      "1/1 [==============================] - 0s 8ms/step - loss: 0.1194 - mae: 0.1194\n",
      "Epoch 98/100\n",
      "1/1 [==============================] - 0s 20ms/step - loss: 0.0854 - mae: 0.0854\n",
      "Epoch 99/100\n",
      "1/1 [==============================] - 0s 14ms/step - loss: 0.0671 - mae: 0.0671\n",
      "Epoch 100/100\n",
      "1/1 [==============================] - 0s 19ms/step - loss: 0.0925 - mae: 0.0925\n"
     ]
    },
    {
     "data": {
      "text/plain": "<keras.callbacks.History at 0x7fd6742c9b50>"
     },
     "execution_count": 21,
     "metadata": {},
     "output_type": "execute_result"
    }
   ],
   "source": [
    "# Let's see if we can make another to improve our model\n",
    "\n",
    "# 1. Create the model (this time with an extra hidden layer with 100 hidden units)\n",
    "model = tf.keras.Sequential([\n",
    "    tf.keras.layers.Dense(50, activation=None),\n",
    "    tf.keras.layers.Dense(1)\n",
    "])\n",
    "\n",
    "# 2. Compile the model\n",
    "model.compile(loss=\"mae\",\n",
    "              optimizer=tf.keras.optimizers.Adam(learning_rate=0.01),\n",
    "              metrics=[\"mae\"])\n",
    "\n",
    "# 3. Fit the model\n",
    "model.fit(tf.expand_dims(X, axis=-1), y, epochs=100)"
   ],
   "metadata": {
    "collapsed": false,
    "ExecuteTime": {
     "end_time": "2023-09-29T13:38:02.739530427Z",
     "start_time": "2023-09-29T13:37:58.438221610Z"
    }
   },
   "id": "8b9aa4f166adf717"
  },
  {
   "cell_type": "code",
   "execution_count": 22,
   "outputs": [
    {
     "data": {
      "text/plain": "(<tf.Tensor: shape=(8,), dtype=float32, numpy=array([-7., -4., -1.,  2.,  5.,  8., 11., 14.], dtype=float32)>,\n <tf.Tensor: shape=(8,), dtype=float32, numpy=array([ 3.,  6.,  9., 12., 15., 18., 21., 24.], dtype=float32)>)"
     },
     "execution_count": 22,
     "metadata": {},
     "output_type": "execute_result"
    }
   ],
   "source": [
    "# Let's remind ourselves of the data\n",
    "X, y"
   ],
   "metadata": {
    "collapsed": false,
    "ExecuteTime": {
     "end_time": "2023-09-29T13:38:02.769929483Z",
     "start_time": "2023-09-29T13:38:01.521602861Z"
    }
   },
   "id": "6b5bd6ece9fcbd99"
  },
  {
   "cell_type": "code",
   "execution_count": 23,
   "outputs": [
    {
     "name": "stdout",
     "output_type": "stream",
     "text": [
      "1/1 [==============================] - 0s 72ms/step\n"
     ]
    },
    {
     "data": {
      "text/plain": "array([[26.849493]], dtype=float32)"
     },
     "execution_count": 23,
     "metadata": {},
     "output_type": "execute_result"
    }
   ],
   "source": [
    "# Let's  try to make a prediction\n",
    "model.predict([17.0])"
   ],
   "metadata": {
    "collapsed": false,
    "ExecuteTime": {
     "end_time": "2023-09-29T13:38:02.783677346Z",
     "start_time": "2023-09-29T13:38:01.563850198Z"
    }
   },
   "id": "a0f497158a07079a"
  },
  {
   "cell_type": "markdown",
   "source": [
    "## Evaluating a model\n",
    "\n",
    "In practice, a typical workflow you'll go through when building neural networks is:\n",
    "\n",
    "```\n",
    "Build a model -> fit it -> evaluate it -> tweak a model -> fit it -> evaluate it -> tweak a model -> fit it -> evaluate it...\n",
    "```\n",
    "\n"
   ],
   "metadata": {
    "collapsed": false
   },
   "id": "8586a632a5e30d87"
  },
  {
   "cell_type": "markdown",
   "source": [
    "When it comes to evaluation... there are 3 words you should memorize:\n",
    "\n",
    "> \"Visualize, visualize, visualize\"\n",
    "\n",
    "It's a good idea to visualize:\n",
    "* The data - what data are we working with? What does it look like?\n",
    "* The model itself - what does our model look like?\n",
    "* The training of a model - how does a model perform while it learns?\n",
    "* The predictions of the model - how do the predictions od a model line up against the ground truth (the original labels)?"
   ],
   "metadata": {
    "collapsed": false
   },
   "id": "b0557d4d9296152e"
  },
  {
   "cell_type": "code",
   "execution_count": 24,
   "outputs": [
    {
     "data": {
      "text/plain": "<tf.Tensor: shape=(50,), dtype=int32, numpy=\narray([-100,  -96,  -92,  -88,  -84,  -80,  -76,  -72,  -68,  -64,  -60,\n        -56,  -52,  -48,  -44,  -40,  -36,  -32,  -28,  -24,  -20,  -16,\n        -12,   -8,   -4,    0,    4,    8,   12,   16,   20,   24,   28,\n         32,   36,   40,   44,   48,   52,   56,   60,   64,   68,   72,\n         76,   80,   84,   88,   92,   96], dtype=int32)>"
     },
     "execution_count": 24,
     "metadata": {},
     "output_type": "execute_result"
    }
   ],
   "source": [
    "# Make a bigger dataset\n",
    "X = tf.range(-100, 100, 4)\n",
    "X"
   ],
   "metadata": {
    "collapsed": false,
    "ExecuteTime": {
     "end_time": "2023-09-29T13:38:02.784288983Z",
     "start_time": "2023-09-29T13:38:01.662161559Z"
    }
   },
   "id": "ebfdaf1ca49a3887"
  },
  {
   "cell_type": "code",
   "execution_count": 25,
   "outputs": [
    {
     "data": {
      "text/plain": "<tf.Tensor: shape=(50,), dtype=int32, numpy=\narray([-90, -86, -82, -78, -74, -70, -66, -62, -58, -54, -50, -46, -42,\n       -38, -34, -30, -26, -22, -18, -14, -10,  -6,  -2,   2,   6,  10,\n        14,  18,  22,  26,  30,  34,  38,  42,  46,  50,  54,  58,  62,\n        66,  70,  74,  78,  82,  86,  90,  94,  98, 102, 106], dtype=int32)>"
     },
     "execution_count": 25,
     "metadata": {},
     "output_type": "execute_result"
    }
   ],
   "source": [
    "# Make labels for the dataset\n",
    "y = X + 10\n",
    "y"
   ],
   "metadata": {
    "collapsed": false,
    "ExecuteTime": {
     "end_time": "2023-09-29T13:38:02.784714424Z",
     "start_time": "2023-09-29T13:38:01.672138280Z"
    }
   },
   "id": "5573573108e8addc"
  },
  {
   "cell_type": "code",
   "execution_count": 26,
   "outputs": [
    {
     "data": {
      "text/plain": "<matplotlib.collections.PathCollection at 0x7fd67410f9d0>"
     },
     "execution_count": 26,
     "metadata": {},
     "output_type": "execute_result"
    },
    {
     "data": {
      "text/plain": "<Figure size 640x480 with 1 Axes>",
      "image/png": "[encoded data removed]"
     },
     "metadata": {},
     "output_type": "display_data"
    }
   ],
   "source": [
    "# Visualize the data\n",
    "import matplotlib.pyplot as plt\n",
    "\n",
    "plt.scatter(X, y)"
   ],
   "metadata": {
    "collapsed": false,
    "ExecuteTime": {
     "end_time": "2023-09-29T13:38:02.785835080Z",
     "start_time": "2023-09-29T13:38:01.686734151Z"
    }
   },
   "id": "819381cfdadb50fa"
  },
  {
   "cell_type": "markdown",
   "source": [
    "### The 3 sets...\n",
    "\n",
    "* **Training set** - the model learns from this data, which is typically 70-80% of total data you have available.\n",
    "* **Validation set** - the model gets tuned oh this data, which is typically 10-15% of the data available.\n",
    "* **Test set** - the model gets evaluated on this data to test what is has learned, this set is typically 10-15% of the total data available."
   ],
   "metadata": {
    "collapsed": false
   },
   "id": "811bf5a27ae79738"
  },
  {
   "cell_type": "code",
   "execution_count": 27,
   "outputs": [
    {
     "data": {
      "text/plain": "50"
     },
     "execution_count": 27,
     "metadata": {},
     "output_type": "execute_result"
    }
   ],
   "source": [
    "# Check the length of how many samples we have\n",
    "len(X)"
   ],
   "metadata": {
    "collapsed": false,
    "ExecuteTime": {
     "end_time": "2023-09-29T13:38:02.786232519Z",
     "start_time": "2023-09-29T13:38:02.010723218Z"
    }
   },
   "id": "65fe1205cafb59"
  },
  {
   "cell_type": "code",
   "execution_count": 28,
   "outputs": [
    {
     "data": {
      "text/plain": "(40, 10, 40, 10)"
     },
     "execution_count": 28,
     "metadata": {},
     "output_type": "execute_result"
    }
   ],
   "source": [
    "# Split the data into train and test sets\n",
    "X_train = X[:40] # first 40 are training samples (80% of the data)\n",
    "y_train = y[:40] \n",
    "X_test = X[40:] # last 10 are testing samples (20% of the data)\n",
    "y_test = y[40:]\n",
    "\n",
    "len(X_train), len(X_test), len(y_train), len(y_test)"
   ],
   "metadata": {
    "collapsed": false,
    "ExecuteTime": {
     "end_time": "2023-09-29T13:38:02.786631541Z",
     "start_time": "2023-09-29T13:38:02.011122783Z"
    }
   },
   "id": "6d4cae941d61ab0d"
  },
  {
   "cell_type": "markdown",
   "source": [
    "### Visualing the data\n",
    "\n",
    "Now we've got our data in training and test sets... let's visualize it again!"
   ],
   "metadata": {
    "collapsed": false
   },
   "id": "83c7526489cf18e8"
  },
  {
   "cell_type": "code",
   "execution_count": 29,
   "outputs": [
    {
     "data": {
      "text/plain": "<Figure size 1000x700 with 1 Axes>",
      "image/png": "[encoded data removed]"
     },
     "metadata": {},
     "output_type": "display_data"
    }
   ],
   "source": [
    "plt.figure(figsize=(10, 7))\n",
    "# Plot training data in blue\n",
    "plt.scatter(X_train, y_train, c=\"b\", label=\"Training data\")\n",
    "# Plot test data in green\n",
    "plt.scatter(X_test, y_test, c=\"g\", label=\"Testing data\")\n",
    "# Show a legend\n",
    "plt.legend();"
   ],
   "metadata": {
    "collapsed": false,
    "ExecuteTime": {
     "end_time": "2023-09-29T13:38:02.895267048Z",
     "start_time": "2023-09-29T13:38:02.011424609Z"
    }
   },
   "id": "ab7249faa73bbe9"
  },
  {
   "cell_type": "code",
   "execution_count": 30,
   "outputs": [],
   "source": [
    "# Let's have a look at how to build a neural network for our data\n",
    "\n",
    "# 1. Create a model\n",
    "model = tf.keras.Sequential([\n",
    "    tf.keras.layers.Dense(1)\n",
    "])\n",
    "\n",
    "# 2. Compile the model\n",
    "model.compile(loss=tf.keras.losses.mae,\n",
    "              optimizer=tf.keras.optimizers.SGD(),\n",
    "              metrics=[\"mae\"])\n",
    "\n",
    "# 3. Fit the model\n",
    "# model.fit(tf.expand_dims(X_train, axis=-1), y_train, epochs=100)"
   ],
   "metadata": {
    "collapsed": false,
    "ExecuteTime": {
     "end_time": "2023-09-29T13:38:02.896057433Z",
     "start_time": "2023-09-29T13:38:02.294679079Z"
    }
   },
   "id": "d8ffee7c2a8e42f7"
  },
  {
   "cell_type": "markdown",
   "source": [
    "### Visualizing the model"
   ],
   "metadata": {
    "collapsed": false
   },
   "id": "898b10b4eeedd11e"
  },
  {
   "cell_type": "code",
   "execution_count": 31,
   "outputs": [
    {
     "ename": "ValueError",
     "evalue": "This model has not yet been built. Build the model first by calling `build()` or by calling the model on a batch of data.",
     "output_type": "error",
     "traceback": [
      "\u001B[0;31m---------------------------------------------------------------------------\u001B[0m",
      "\u001B[0;31mValueError\u001B[0m                                Traceback (most recent call last)",
      "Cell \u001B[0;32mIn[31], line 1\u001B[0m\n\u001B[0;32m----> 1\u001B[0m model\u001B[38;5;241m.\u001B[39msummary()\n",
      "File \u001B[0;32m~/anaconda3/envs/tensorflow-zero-to-master/lib/python3.11/site-packages/keras/engine/training.py:3229\u001B[0m, in \u001B[0;36mModel.summary\u001B[0;34m(self, line_length, positions, print_fn, expand_nested, show_trainable, layer_range)\u001B[0m\n\u001B[1;32m   3198\u001B[0m \u001B[38;5;250m\u001B[39m\u001B[38;5;124;03m\"\"\"Prints a string summary of the network.\u001B[39;00m\n\u001B[1;32m   3199\u001B[0m \n\u001B[1;32m   3200\u001B[0m \u001B[38;5;124;03mArgs:\u001B[39;00m\n\u001B[0;32m   (...)\u001B[0m\n\u001B[1;32m   3226\u001B[0m \u001B[38;5;124;03m    ValueError: if `summary()` is called before the model is built.\u001B[39;00m\n\u001B[1;32m   3227\u001B[0m \u001B[38;5;124;03m\"\"\"\u001B[39;00m\n\u001B[1;32m   3228\u001B[0m \u001B[38;5;28;01mif\u001B[39;00m \u001B[38;5;129;01mnot\u001B[39;00m \u001B[38;5;28mself\u001B[39m\u001B[38;5;241m.\u001B[39mbuilt:\n\u001B[0;32m-> 3229\u001B[0m     \u001B[38;5;28;01mraise\u001B[39;00m \u001B[38;5;167;01mValueError\u001B[39;00m(\n\u001B[1;32m   3230\u001B[0m         \u001B[38;5;124m\"\u001B[39m\u001B[38;5;124mThis model has not yet been built. \u001B[39m\u001B[38;5;124m\"\u001B[39m\n\u001B[1;32m   3231\u001B[0m         \u001B[38;5;124m\"\u001B[39m\u001B[38;5;124mBuild the model first by calling `build()` or by calling \u001B[39m\u001B[38;5;124m\"\u001B[39m\n\u001B[1;32m   3232\u001B[0m         \u001B[38;5;124m\"\u001B[39m\u001B[38;5;124mthe model on a batch of data.\u001B[39m\u001B[38;5;124m\"\u001B[39m\n\u001B[1;32m   3233\u001B[0m     )\n\u001B[1;32m   3234\u001B[0m layer_utils\u001B[38;5;241m.\u001B[39mprint_summary(\n\u001B[1;32m   3235\u001B[0m     \u001B[38;5;28mself\u001B[39m,\n\u001B[1;32m   3236\u001B[0m     line_length\u001B[38;5;241m=\u001B[39mline_length,\n\u001B[0;32m   (...)\u001B[0m\n\u001B[1;32m   3241\u001B[0m     layer_range\u001B[38;5;241m=\u001B[39mlayer_range,\n\u001B[1;32m   3242\u001B[0m )\n",
      "\u001B[0;31mValueError\u001B[0m: This model has not yet been built. Build the model first by calling `build()` or by calling the model on a batch of data."
     ]
    }
   ],
   "source": [
    "model.summary()"
   ],
   "metadata": {
    "collapsed": false,
    "ExecuteTime": {
     "end_time": "2023-09-29T13:38:05.194467301Z",
     "start_time": "2023-09-29T13:38:02.340575601Z"
    }
   },
   "id": "5c62d9de9c0b5118"
  },
  {
   "cell_type": "code",
   "execution_count": 32,
   "outputs": [
    {
     "data": {
      "text/plain": "(<tf.Tensor: shape=(), dtype=int32, numpy=-100>,\n <tf.Tensor: shape=(), dtype=int32, numpy=-90>)"
     },
     "execution_count": 32,
     "metadata": {},
     "output_type": "execute_result"
    }
   ],
   "source": [
    "X[0], y[0]"
   ],
   "metadata": {
    "collapsed": false,
    "ExecuteTime": {
     "end_time": "2023-09-29T13:38:23.606464989Z",
     "start_time": "2023-09-29T13:38:23.577225336Z"
    }
   },
   "id": "46ca08d5fb0a5d65"
  },
  {
   "cell_type": "code",
   "execution_count": 33,
   "outputs": [],
   "source": [
    "# Let's create a model which builds automatically by defining the input_shape argument in the first layer\n",
    "tf.random.set_seed(42)\n",
    "\n",
    "# 1. Create a model (same as above)\n",
    "model = tf.keras.Sequential([\n",
    "    tf.keras.layers.Dense(10, input_shape=[1], name=\"input_layer\"),\n",
    "    tf.keras.layers.Dense(1, name=\"output_layer\")\n",
    "], name=\"model_1\")\n",
    "\n",
    "# 2. Compile the model (same as above)\n",
    "model.compile(loss=tf.keras.losses.mae,\n",
    "              optimizer=tf.keras.optimizers.SGD(),\n",
    "              metrics=[\"mae\"])"
   ],
   "metadata": {
    "collapsed": false,
    "ExecuteTime": {
     "end_time": "2023-09-29T13:38:25.006107384Z",
     "start_time": "2023-09-29T13:38:24.919141755Z"
    }
   },
   "id": "42cd0d927d2d8699"
  },
  {
   "cell_type": "code",
   "execution_count": 34,
   "outputs": [
    {
     "name": "stdout",
     "output_type": "stream",
     "text": [
      "Model: \"model_1\"\n",
      "_________________________________________________________________\n",
      " Layer (type)                Output Shape              Param #   \n",
      "=================================================================\n",
      " input_layer (Dense)         (None, 10)                20        \n",
      "                                                                 \n",
      " output_layer (Dense)        (None, 1)                 11        \n",
      "                                                                 \n",
      "=================================================================\n",
      "Total params: 31\n",
      "Trainable params: 31\n",
      "Non-trainable params: 0\n",
      "_________________________________________________________________\n"
     ]
    }
   ],
   "source": [
    "model.summary()"
   ],
   "metadata": {
    "collapsed": false,
    "ExecuteTime": {
     "end_time": "2023-09-29T13:38:26.399220274Z",
     "start_time": "2023-09-29T13:38:26.265596909Z"
    }
   },
   "id": "12813b7ae6d41c34"
  },
  {
   "cell_type": "markdown",
   "source": [
    "* Total params - total number of parameters in the model.\n",
    "* Trainable parameters - these are the parameters (patterns) the model can update as it trains.\n",
    "* Non-trainable params - these parameters aren't updated during training (this is typical when you bring in already learn patterns or parameters from other models during **transfer learning**)\n",
    "\n",
    "**Resource:** For a more in-depth overview of the trainable parameters within a layer, check out [MIT's introduction to deep learning video](https://www.youtube.com/watch?v=QDX-1M5Nj7s&list=PLtBw6njQRU-rwp5__7C0oIVt26ZgjG9NI&index=2).\n",
    "\n",
    "**Exercise:** Try playing around with the number of hidden units in the dense layer, see how that effects the number of parameters (total and trainable) by calling `model.summary`."
   ],
   "metadata": {
    "collapsed": false
   },
   "id": "fe2ddf6925ef3e1b"
  },
  {
   "cell_type": "code",
   "execution_count": 35,
   "outputs": [
    {
     "data": {
      "text/plain": "<keras.callbacks.History at 0x7fd62df10e10>"
     },
     "execution_count": 35,
     "metadata": {},
     "output_type": "execute_result"
    }
   ],
   "source": [
    "# Let's fit our model to the training data\n",
    "model.fit(X_train, y_train, epochs=100, verbose=0)"
   ],
   "metadata": {
    "collapsed": false,
    "ExecuteTime": {
     "end_time": "2023-09-29T13:38:29.630436685Z",
     "start_time": "2023-09-29T13:38:28.283868241Z"
    }
   },
   "id": "6cae2a5b5d81a33c"
  },
  {
   "cell_type": "code",
   "execution_count": 36,
   "outputs": [
    {
     "name": "stdout",
     "output_type": "stream",
     "text": [
      "Model: \"model_1\"\n",
      "_________________________________________________________________\n",
      " Layer (type)                Output Shape              Param #   \n",
      "=================================================================\n",
      " input_layer (Dense)         (None, 10)                20        \n",
      "                                                                 \n",
      " output_layer (Dense)        (None, 1)                 11        \n",
      "                                                                 \n",
      "=================================================================\n",
      "Total params: 31\n",
      "Trainable params: 31\n",
      "Non-trainable params: 0\n",
      "_________________________________________________________________\n"
     ]
    }
   ],
   "source": [
    "# Get a summary of our model\n",
    "model.summary()"
   ],
   "metadata": {
    "collapsed": false,
    "ExecuteTime": {
     "end_time": "2023-09-29T13:38:34.233713568Z",
     "start_time": "2023-09-29T13:38:34.128353127Z"
    }
   },
   "id": "ef79d837a807dbff"
  },
  {
   "cell_type": "code",
   "execution_count": 37,
   "outputs": [
    {
     "data": {
      "image/png": "[encoded data removed]",
      "text/plain": "<IPython.core.display.Image object>"
     },
     "execution_count": 37,
     "metadata": {},
     "output_type": "execute_result"
    }
   ],
   "source": [
    "# from tensorflow.keras.utils import plot_model\n",
    "# plot_model(model)\n",
    "tf.keras.utils.plot_model(model=model, show_shapes=True)"
   ],
   "metadata": {
    "collapsed": false,
    "ExecuteTime": {
     "end_time": "2023-09-29T13:38:35.471502612Z",
     "start_time": "2023-09-29T13:38:35.309105199Z"
    }
   },
   "id": "9f76823a012a16fc"
  },
  {
   "cell_type": "markdown",
   "source": [
    "### Visualizing our model's predictions\n",
    "\n",
    "To visualize predictions, it's a good idea to plot them against the ground truth labels.\n",
    "\n",
    "Often you'll see this in the form of `y_test` or `y_true` versus `y_pred` (ground truth versus your model's predictions)"
   ],
   "metadata": {
    "collapsed": false
   },
   "id": "f5244483f581fae1"
  },
  {
   "cell_type": "code",
   "execution_count": 38,
   "outputs": [
    {
     "name": "stdout",
     "output_type": "stream",
     "text": [
      "1/1 [==============================] - 0s 70ms/step\n"
     ]
    },
    {
     "data": {
      "text/plain": "array([[ 76.82169 ],\n       [ 81.83135 ],\n       [ 86.84098 ],\n       [ 91.850624],\n       [ 96.86027 ],\n       [101.86991 ],\n       [106.879555],\n       [111.8892  ],\n       [116.89883 ],\n       [121.908485]], dtype=float32)"
     },
     "execution_count": 38,
     "metadata": {},
     "output_type": "execute_result"
    }
   ],
   "source": [
    "y_pred = model.predict(X_test)\n",
    "y_pred"
   ],
   "metadata": {
    "collapsed": false,
    "ExecuteTime": {
     "end_time": "2023-09-29T13:38:38.087414040Z",
     "start_time": "2023-09-29T13:38:37.920787123Z"
    }
   },
   "id": "293c2620b65dc170"
  },
  {
   "cell_type": "code",
   "execution_count": 39,
   "outputs": [
    {
     "data": {
      "text/plain": "<tf.Tensor: shape=(10,), dtype=int32, numpy=array([ 70,  74,  78,  82,  86,  90,  94,  98, 102, 106], dtype=int32)>"
     },
     "execution_count": 39,
     "metadata": {},
     "output_type": "execute_result"
    }
   ],
   "source": [
    "y_test"
   ],
   "metadata": {
    "collapsed": false,
    "ExecuteTime": {
     "end_time": "2023-09-29T13:38:39.593886075Z",
     "start_time": "2023-09-29T13:38:39.553920648Z"
    }
   },
   "id": "6c948e1753458992"
  },
  {
   "cell_type": "markdown",
   "source": [
    "key **Note:** If you feel like you're going to reuse some kind of functionality in the future, it's a good idea to turn it into function."
   ],
   "metadata": {
    "collapsed": false
   },
   "id": "39dcf705504e7045"
  },
  {
   "cell_type": "code",
   "execution_count": 40,
   "outputs": [],
   "source": [
    "# Let's create a plotting function\n",
    "def plot_predictions(train_data=X_train,\n",
    "                     train_labels=y_train,\n",
    "                     test_data=X_test,\n",
    "                     test_labels=y_test,\n",
    "                     predictions=y_pred):\n",
    "    \"\"\"\n",
    "    Plots training data, test data and compares predictions to ground truth labels.\n",
    "    \"\"\"\n",
    "    \n",
    "    plt.figure(figsize=(10, 7))\n",
    "    # Plot training data in blue\n",
    "    plt.scatter(train_data, train_labels, c=\"b\", label=\"Training data\")\n",
    "    # Plot testing data in green\n",
    "    plt.scatter(test_data, test_labels, c=\"g\", label=\"Testing data\")\n",
    "    # Plot model's predictions in red\n",
    "    plt.scatter(test_data, predictions, c=\"r\", label=\"Predictions\")\n",
    "    # Show the legend\n",
    "    plt.legend();"
   ],
   "metadata": {
    "collapsed": false,
    "ExecuteTime": {
     "end_time": "2023-09-29T13:38:43.702266720Z",
     "start_time": "2023-09-29T13:38:43.653383402Z"
    }
   },
   "id": "71cba8a1be7b2c81"
  },
  {
   "cell_type": "code",
   "execution_count": 41,
   "outputs": [
    {
     "data": {
      "text/plain": "<Figure size 1000x700 with 1 Axes>",
      "image/png": "[encoded data removed]"
     },
     "metadata": {},
     "output_type": "display_data"
    }
   ],
   "source": [
    "plot_predictions(train_data=X_train,\n",
    "                 train_labels=y_train,\n",
    "                 test_data=X_test,\n",
    "                 test_labels=y_test,\n",
    "                 predictions=y_pred)"
   ],
   "metadata": {
    "collapsed": false,
    "ExecuteTime": {
     "end_time": "2023-09-29T13:38:45.073385174Z",
     "start_time": "2023-09-29T13:38:44.838979813Z"
    }
   },
   "id": "2a6d51a53151bf01"
  },
  {
   "cell_type": "markdown",
   "source": [
    "### Evaluating our model's predictions with regression evaluation metrics\n",
    "\n",
    "Depending on the problem you're working on, there will be different evaluation metrics to evaluate your model's performance.\n",
    "\n",
    "Since we're working on a regresion, two of the main metrics:\n",
    "* MAE - mean absolute error, \"on average, how wrong is each of my model's predictions\"\n",
    "* MSE - mean square error, \"square the average errors\""
   ],
   "metadata": {
    "collapsed": false
   },
   "id": "9ebf4e56a0b6b139"
  },
  {
   "cell_type": "code",
   "execution_count": 42,
   "outputs": [
    {
     "name": "stdout",
     "output_type": "stream",
     "text": [
      "1/1 [==============================] - 0s 109ms/step - loss: 11.3651 - mae: 11.3651\n"
     ]
    },
    {
     "data": {
      "text/plain": "[11.365089416503906, 11.365089416503906]"
     },
     "execution_count": 42,
     "metadata": {},
     "output_type": "execute_result"
    }
   ],
   "source": [
    "# Evaluate the model on the test\n",
    "model.evaluate(X_test, y_test)"
   ],
   "metadata": {
    "collapsed": false,
    "ExecuteTime": {
     "end_time": "2023-09-29T13:38:48.122571419Z",
     "start_time": "2023-09-29T13:38:47.877439262Z"
    }
   },
   "id": "36177621aade1e45"
  },
  {
   "cell_type": "code",
   "execution_count": 43,
   "outputs": [
    {
     "data": {
      "text/plain": "<tf.Tensor: shape=(10,), dtype=float32, numpy=\narray([13.106984, 10.867459, 10.      , 10.370125, 11.944107, 14.721947,\n       18.879555, 23.889198, 28.898829, 33.908485], dtype=float32)>"
     },
     "execution_count": 43,
     "metadata": {},
     "output_type": "execute_result"
    }
   ],
   "source": [
    "# Calculate the mean absolute error (wrong output)\n",
    "mae = tf.metrics.mean_absolute_error(y_true=y_test, y_pred=y_pred)\n",
    "mae"
   ],
   "metadata": {
    "collapsed": false,
    "ExecuteTime": {
     "end_time": "2023-09-29T13:38:50.990898159Z",
     "start_time": "2023-09-29T13:38:50.950548519Z"
    }
   },
   "id": "575b0fa5aebbd5fd"
  },
  {
   "cell_type": "code",
   "execution_count": 44,
   "outputs": [
    {
     "data": {
      "text/plain": "array([[ 76.82169 ],\n       [ 81.83135 ],\n       [ 86.84098 ],\n       [ 91.850624],\n       [ 96.86027 ],\n       [101.86991 ],\n       [106.879555],\n       [111.8892  ],\n       [116.89883 ],\n       [121.908485]], dtype=float32)"
     },
     "execution_count": 44,
     "metadata": {},
     "output_type": "execute_result"
    }
   ],
   "source": [
    "y_pred"
   ],
   "metadata": {
    "collapsed": false,
    "ExecuteTime": {
     "end_time": "2023-09-29T13:38:54.046352029Z",
     "start_time": "2023-09-29T13:38:54.007710677Z"
    }
   },
   "id": "aedf7261aa2cc7ac"
  },
  {
   "cell_type": "code",
   "execution_count": 45,
   "outputs": [
    {
     "data": {
      "text/plain": "<tf.Tensor: shape=(10, 1), dtype=float32, numpy=\narray([[ 76.82169 ],\n       [ 81.83135 ],\n       [ 86.84098 ],\n       [ 91.850624],\n       [ 96.86027 ],\n       [101.86991 ],\n       [106.879555],\n       [111.8892  ],\n       [116.89883 ],\n       [121.908485]], dtype=float32)>"
     },
     "execution_count": 45,
     "metadata": {},
     "output_type": "execute_result"
    }
   ],
   "source": [
    "tf.constant(y_pred)"
   ],
   "metadata": {
    "collapsed": false,
    "ExecuteTime": {
     "end_time": "2023-09-29T13:38:56.482731927Z",
     "start_time": "2023-09-29T13:38:56.457349930Z"
    }
   },
   "id": "efcfefa487523699"
  },
  {
   "cell_type": "code",
   "execution_count": 46,
   "outputs": [
    {
     "data": {
      "text/plain": "<tf.Tensor: shape=(10,), dtype=float32, numpy=\narray([ 76.82169 ,  81.83135 ,  86.84098 ,  91.850624,  96.86027 ,\n       101.86991 , 106.879555, 111.8892  , 116.89883 , 121.908485],\n      dtype=float32)>"
     },
     "execution_count": 46,
     "metadata": {},
     "output_type": "execute_result"
    }
   ],
   "source": [
    "tf.squeeze(y_pred)"
   ],
   "metadata": {
    "collapsed": false,
    "ExecuteTime": {
     "end_time": "2023-09-29T13:38:57.914150454Z",
     "start_time": "2023-09-29T13:38:57.872758197Z"
    }
   },
   "id": "f5f88f1ace7aeab8"
  },
  {
   "cell_type": "code",
   "execution_count": 47,
   "outputs": [
    {
     "data": {
      "text/plain": "<tf.Tensor: shape=(10,), dtype=int32, numpy=array([ 70,  74,  78,  82,  86,  90,  94,  98, 102, 106], dtype=int32)>"
     },
     "execution_count": 47,
     "metadata": {},
     "output_type": "execute_result"
    }
   ],
   "source": [
    "y_test"
   ],
   "metadata": {
    "collapsed": false,
    "ExecuteTime": {
     "end_time": "2023-09-29T13:38:59.890074532Z",
     "start_time": "2023-09-29T13:38:59.866121747Z"
    }
   },
   "id": "5dad140f654bcf85"
  },
  {
   "cell_type": "code",
   "execution_count": 48,
   "outputs": [
    {
     "data": {
      "text/plain": "<tf.Tensor: shape=(), dtype=float32, numpy=11.365089>"
     },
     "execution_count": 48,
     "metadata": {},
     "output_type": "execute_result"
    }
   ],
   "source": [
    "# Calculate the mean absolute error\n",
    "mae = tf.metrics.mean_absolute_error(y_true=y_test, y_pred=tf.squeeze(y_pred))\n",
    "mae"
   ],
   "metadata": {
    "collapsed": false,
    "ExecuteTime": {
     "end_time": "2023-09-29T13:39:00.770150452Z",
     "start_time": "2023-09-29T13:39:00.738607250Z"
    }
   },
   "id": "cd2acac44e2bdbab"
  },
  {
   "cell_type": "code",
   "execution_count": 49,
   "outputs": [
    {
     "data": {
      "text/plain": "<tf.Tensor: shape=(), dtype=float32, numpy=137.57512>"
     },
     "execution_count": 49,
     "metadata": {},
     "output_type": "execute_result"
    }
   ],
   "source": [
    "# Calculate the mean square error\n",
    "mse = tf.metrics.mean_squared_error(y_true=y_test,\n",
    "                                    y_pred=tf.squeeze(y_pred))\n",
    "mse"
   ],
   "metadata": {
    "collapsed": false,
    "ExecuteTime": {
     "end_time": "2023-09-29T13:39:02.004104171Z",
     "start_time": "2023-09-29T13:39:01.966369288Z"
    }
   },
   "id": "fe4b0fd576d35da1"
  },
  {
   "cell_type": "code",
   "execution_count": 50,
   "outputs": [],
   "source": [
    "# Make some functions to reuse MAE and MSE\n",
    "def mae(y_true, y_pred):\n",
    "    return tf.metrics.mean_absolute_error(y_true=y_true,\n",
    "                                          y_pred=tf.squeeze(y_pred))\n",
    "\n",
    "def mse(y_true, y_pred):\n",
    "    return tf.metrics.mean_squared_error(y_true=y_true,\n",
    "                                         y_pred=tf.squeeze(y_pred))"
   ],
   "metadata": {
    "collapsed": false,
    "ExecuteTime": {
     "end_time": "2023-09-29T13:39:03.307989196Z",
     "start_time": "2023-09-29T13:39:03.258639615Z"
    }
   },
   "id": "c6fceadbc41c29ae"
  },
  {
   "cell_type": "markdown",
   "source": [
    "### Running experiments to improve our model\n",
    "\n",
    "```\n",
    "Build a model -> fit it -> evaluate it -> tweak it -> fit it -> evaluate it -> tweak it -> fit it -> evaluate it ...\n",
    "```\n",
    "\n",
    "1. Get more data - get more examples for your model to train on (more opportunities to learn patterns or relationships between features and labels).\n",
    "2. Make your model larger (using a more complex model) - this might come in the form of more layers or more hidden units in each layer.\n",
    "3. Train for longger - give your model more of a chance to find patterns in the data.\n",
    "\n",
    "Let's do 3 modelling experiments:\n",
    "\n",
    "1. `model_1` - same as original model, 1 layer, trained for 100 epochs.\n",
    "2. `model_2` - 2 layers, trained for 100 epochs.\n",
    "3. `model_3` - 2 layers, trained for 500 epochs.\n",
    "\n",
    "**Build `model_1`**"
   ],
   "metadata": {
    "collapsed": false
   },
   "id": "b61006e52b76be84"
  },
  {
   "cell_type": "code",
   "execution_count": 68,
   "outputs": [
    {
     "name": "stdout",
     "output_type": "stream",
     "text": [
      "Epoch 1/100\n",
      "2/2 [==============================] - 0s 5ms/step - loss: 39.7442 - mae: 39.7442\n",
      "Epoch 2/100\n",
      "2/2 [==============================] - 0s 2ms/step - loss: 11.5079 - mae: 11.5079\n",
      "Epoch 3/100\n",
      "2/2 [==============================] - 0s 2ms/step - loss: 11.4774 - mae: 11.4774\n",
      "Epoch 4/100\n",
      "2/2 [==============================] - 0s 2ms/step - loss: 9.4659 - mae: 9.4659\n",
      "Epoch 5/100\n",
      "2/2 [==============================] - 0s 4ms/step - loss: 10.3584 - mae: 10.3584\n",
      "Epoch 6/100\n",
      "2/2 [==============================] - 0s 2ms/step - loss: 9.5993 - mae: 9.5993\n",
      "Epoch 7/100\n",
      "2/2 [==============================] - 0s 3ms/step - loss: 8.7128 - mae: 8.7128\n",
      "Epoch 8/100\n",
      "2/2 [==============================] - 0s 3ms/step - loss: 9.0639 - mae: 9.0639\n",
      "Epoch 9/100\n",
      "2/2 [==============================] - 0s 3ms/step - loss: 19.0930 - mae: 19.0930\n",
      "Epoch 10/100\n",
      "2/2 [==============================] - 0s 3ms/step - loss: 10.3098 - mae: 10.3098\n",
      "Epoch 11/100\n",
      "2/2 [==============================] - 0s 3ms/step - loss: 8.4791 - mae: 8.4791\n",
      "Epoch 12/100\n",
      "2/2 [==============================] - 0s 3ms/step - loss: 10.8220 - mae: 10.8220\n",
      "Epoch 13/100\n",
      "2/2 [==============================] - 0s 3ms/step - loss: 9.8796 - mae: 9.8796\n",
      "Epoch 14/100\n",
      "2/2 [==============================] - 0s 3ms/step - loss: 12.0649 - mae: 12.0649\n",
      "Epoch 15/100\n",
      "2/2 [==============================] - 0s 3ms/step - loss: 12.4368 - mae: 12.4368\n",
      "Epoch 16/100\n",
      "2/2 [==============================] - 0s 3ms/step - loss: 8.4179 - mae: 8.4179\n",
      "Epoch 17/100\n",
      "2/2 [==============================] - 0s 3ms/step - loss: 13.3482 - mae: 13.3482\n",
      "Epoch 18/100\n",
      "2/2 [==============================] - 0s 4ms/step - loss: 11.1034 - mae: 11.1034\n",
      "Epoch 19/100\n",
      "2/2 [==============================] - 0s 4ms/step - loss: 18.4615 - mae: 18.4615\n",
      "Epoch 20/100\n",
      "2/2 [==============================] - 0s 3ms/step - loss: 15.1607 - mae: 15.1607\n",
      "Epoch 21/100\n",
      "2/2 [==============================] - 0s 3ms/step - loss: 11.1156 - mae: 11.1156\n",
      "Epoch 22/100\n",
      "2/2 [==============================] - 0s 3ms/step - loss: 8.2424 - mae: 8.2424\n",
      "Epoch 23/100\n",
      "2/2 [==============================] - 0s 3ms/step - loss: 9.4598 - mae: 9.4598\n",
      "Epoch 24/100\n",
      "2/2 [==============================] - 0s 3ms/step - loss: 7.6869 - mae: 7.6869\n",
      "Epoch 25/100\n",
      "2/2 [==============================] - 0s 3ms/step - loss: 13.0502 - mae: 13.0502\n",
      "Epoch 26/100\n",
      "2/2 [==============================] - 0s 2ms/step - loss: 16.5307 - mae: 16.5307\n",
      "Epoch 27/100\n",
      "2/2 [==============================] - 0s 3ms/step - loss: 13.2580 - mae: 13.2580\n",
      "Epoch 28/100\n",
      "2/2 [==============================] - 0s 3ms/step - loss: 14.3725 - mae: 14.3725\n",
      "Epoch 29/100\n",
      "2/2 [==============================] - 0s 3ms/step - loss: 10.1040 - mae: 10.1040\n",
      "Epoch 30/100\n",
      "2/2 [==============================] - 0s 3ms/step - loss: 16.5110 - mae: 16.5110\n",
      "Epoch 31/100\n",
      "2/2 [==============================] - 0s 3ms/step - loss: 23.4942 - mae: 23.4942\n",
      "Epoch 32/100\n",
      "2/2 [==============================] - 0s 3ms/step - loss: 7.3720 - mae: 7.3720\n",
      "Epoch 33/100\n",
      "2/2 [==============================] - 0s 3ms/step - loss: 9.8112 - mae: 9.8112\n",
      "Epoch 34/100\n",
      "2/2 [==============================] - 0s 3ms/step - loss: 12.2671 - mae: 12.2671\n",
      "Epoch 35/100\n",
      "2/2 [==============================] - 0s 3ms/step - loss: 11.1570 - mae: 11.1570\n",
      "Epoch 36/100\n",
      "2/2 [==============================] - 0s 3ms/step - loss: 13.3759 - mae: 13.3759\n",
      "Epoch 37/100\n",
      "2/2 [==============================] - 0s 3ms/step - loss: 9.4601 - mae: 9.4601\n",
      "Epoch 38/100\n",
      "2/2 [==============================] - 0s 4ms/step - loss: 10.1135 - mae: 10.1135\n",
      "Epoch 39/100\n",
      "2/2 [==============================] - 0s 3ms/step - loss: 10.2090 - mae: 10.2090\n",
      "Epoch 40/100\n",
      "2/2 [==============================] - 0s 3ms/step - loss: 10.9523 - mae: 10.9523\n",
      "Epoch 41/100\n",
      "2/2 [==============================] - 0s 3ms/step - loss: 7.9288 - mae: 7.9288\n",
      "Epoch 42/100\n",
      "2/2 [==============================] - 0s 3ms/step - loss: 10.5914 - mae: 10.5914\n",
      "Epoch 43/100\n",
      "2/2 [==============================] - 0s 3ms/step - loss: 7.2156 - mae: 7.2156\n",
      "Epoch 44/100\n",
      "2/2 [==============================] - 0s 3ms/step - loss: 8.0035 - mae: 8.0035\n",
      "Epoch 45/100\n",
      "2/2 [==============================] - 0s 3ms/step - loss: 9.7976 - mae: 9.7976\n",
      "Epoch 46/100\n",
      "2/2 [==============================] - 0s 3ms/step - loss: 8.8739 - mae: 8.8739\n",
      "Epoch 47/100\n",
      "2/2 [==============================] - 0s 3ms/step - loss: 7.5775 - mae: 7.5775\n",
      "Epoch 48/100\n",
      "2/2 [==============================] - 0s 2ms/step - loss: 8.5756 - mae: 8.5756\n",
      "Epoch 49/100\n",
      "2/2 [==============================] - 0s 3ms/step - loss: 10.0034 - mae: 10.0034\n",
      "Epoch 50/100\n",
      "2/2 [==============================] - 0s 3ms/step - loss: 9.0269 - mae: 9.0269\n",
      "Epoch 51/100\n",
      "2/2 [==============================] - 0s 3ms/step - loss: 10.6735 - mae: 10.6735\n",
      "Epoch 52/100\n",
      "2/2 [==============================] - 0s 3ms/step - loss: 15.2992 - mae: 15.2992\n",
      "Epoch 53/100\n",
      "2/2 [==============================] - 0s 3ms/step - loss: 14.3201 - mae: 14.3201\n",
      "Epoch 54/100\n",
      "2/2 [==============================] - 0s 4ms/step - loss: 21.6129 - mae: 21.6129\n",
      "Epoch 55/100\n",
      "2/2 [==============================] - 0s 2ms/step - loss: 15.9951 - mae: 15.9951\n",
      "Epoch 56/100\n",
      "2/2 [==============================] - 0s 3ms/step - loss: 10.2907 - mae: 10.2907\n",
      "Epoch 57/100\n",
      "2/2 [==============================] - 0s 3ms/step - loss: 9.7727 - mae: 9.7727\n",
      "Epoch 58/100\n",
      "2/2 [==============================] - 0s 3ms/step - loss: 9.0585 - mae: 9.0585\n",
      "Epoch 59/100\n",
      "2/2 [==============================] - 0s 3ms/step - loss: 8.2625 - mae: 8.2625\n",
      "Epoch 60/100\n",
      "2/2 [==============================] - 0s 2ms/step - loss: 9.3600 - mae: 9.3600\n",
      "Epoch 61/100\n",
      "2/2 [==============================] - 0s 3ms/step - loss: 11.1696 - mae: 11.1696\n",
      "Epoch 62/100\n",
      "2/2 [==============================] - 0s 3ms/step - loss: 12.0794 - mae: 12.0794\n",
      "Epoch 63/100\n",
      "2/2 [==============================] - 0s 3ms/step - loss: 7.2734 - mae: 7.2734\n",
      "Epoch 64/100\n",
      "2/2 [==============================] - 0s 3ms/step - loss: 12.4340 - mae: 12.4340\n",
      "Epoch 65/100\n",
      "2/2 [==============================] - 0s 3ms/step - loss: 10.5055 - mae: 10.5055\n",
      "Epoch 66/100\n",
      "2/2 [==============================] - 0s 3ms/step - loss: 15.6119 - mae: 15.6119\n",
      "Epoch 67/100\n",
      "2/2 [==============================] - 0s 2ms/step - loss: 10.0145 - mae: 10.0145\n",
      "Epoch 68/100\n",
      "2/2 [==============================] - 0s 2ms/step - loss: 8.7255 - mae: 8.7255\n",
      "Epoch 69/100\n",
      "2/2 [==============================] - 0s 2ms/step - loss: 13.4890 - mae: 13.4890\n",
      "Epoch 70/100\n",
      "2/2 [==============================] - 0s 3ms/step - loss: 7.4733 - mae: 7.4733\n",
      "Epoch 71/100\n",
      "2/2 [==============================] - 0s 2ms/step - loss: 12.2324 - mae: 12.2324\n",
      "Epoch 72/100\n",
      "2/2 [==============================] - 0s 2ms/step - loss: 8.5358 - mae: 8.5358\n",
      "Epoch 73/100\n",
      "2/2 [==============================] - 0s 3ms/step - loss: 7.0434 - mae: 7.0434\n",
      "Epoch 74/100\n",
      "2/2 [==============================] - 0s 3ms/step - loss: 9.9324 - mae: 9.9324\n",
      "Epoch 75/100\n",
      "2/2 [==============================] - 0s 2ms/step - loss: 9.9420 - mae: 9.9420\n",
      "Epoch 76/100\n",
      "2/2 [==============================] - 0s 3ms/step - loss: 10.1083 - mae: 10.1083\n",
      "Epoch 77/100\n",
      "2/2 [==============================] - 0s 3ms/step - loss: 12.9573 - mae: 12.9573\n",
      "Epoch 78/100\n",
      "2/2 [==============================] - 0s 3ms/step - loss: 11.1512 - mae: 11.1512\n",
      "Epoch 79/100\n",
      "2/2 [==============================] - 0s 3ms/step - loss: 14.7021 - mae: 14.7021\n",
      "Epoch 80/100\n",
      "2/2 [==============================] - 0s 3ms/step - loss: 8.9299 - mae: 8.9299\n",
      "Epoch 81/100\n",
      "2/2 [==============================] - 0s 2ms/step - loss: 10.7740 - mae: 10.7740\n",
      "Epoch 82/100\n",
      "2/2 [==============================] - 0s 3ms/step - loss: 8.3912 - mae: 8.3912\n",
      "Epoch 83/100\n",
      "2/2 [==============================] - 0s 3ms/step - loss: 9.2297 - mae: 9.2297\n",
      "Epoch 84/100\n",
      "2/2 [==============================] - 0s 2ms/step - loss: 8.9469 - mae: 8.9469\n",
      "Epoch 85/100\n",
      "2/2 [==============================] - 0s 3ms/step - loss: 13.2029 - mae: 13.2029\n",
      "Epoch 86/100\n",
      "2/2 [==============================] - 0s 2ms/step - loss: 13.7053 - mae: 13.7053\n",
      "Epoch 87/100\n",
      "2/2 [==============================] - 0s 3ms/step - loss: 13.1896 - mae: 13.1896\n",
      "Epoch 88/100\n",
      "2/2 [==============================] - 0s 3ms/step - loss: 11.5157 - mae: 11.5157\n",
      "Epoch 89/100\n",
      "2/2 [==============================] - 0s 2ms/step - loss: 7.8071 - mae: 7.8071\n",
      "Epoch 90/100\n",
      "2/2 [==============================] - 0s 2ms/step - loss: 10.9310 - mae: 10.9310\n",
      "Epoch 91/100\n",
      "2/2 [==============================] - 0s 2ms/step - loss: 6.7538 - mae: 6.7538\n",
      "Epoch 92/100\n",
      "2/2 [==============================] - 0s 2ms/step - loss: 10.1236 - mae: 10.1236\n",
      "Epoch 93/100\n",
      "2/2 [==============================] - 0s 2ms/step - loss: 7.6122 - mae: 7.6122\n",
      "Epoch 94/100\n",
      "2/2 [==============================] - 0s 4ms/step - loss: 9.2449 - mae: 9.2449\n",
      "Epoch 95/100\n",
      "2/2 [==============================] - 0s 3ms/step - loss: 10.8355 - mae: 10.8355\n",
      "Epoch 96/100\n",
      "2/2 [==============================] - 0s 2ms/step - loss: 10.2957 - mae: 10.2957\n",
      "Epoch 97/100\n",
      "2/2 [==============================] - 0s 3ms/step - loss: 7.6845 - mae: 7.6845\n",
      "Epoch 98/100\n",
      "2/2 [==============================] - 0s 3ms/step - loss: 8.6197 - mae: 8.6197\n",
      "Epoch 99/100\n",
      "2/2 [==============================] - 0s 2ms/step - loss: 9.3986 - mae: 9.3986\n",
      "Epoch 100/100\n",
      "2/2 [==============================] - 0s 3ms/step - loss: 8.8437 - mae: 8.8437\n"
     ]
    },
    {
     "data": {
      "text/plain": "<keras.callbacks.History at 0x7fd64af96f90>"
     },
     "execution_count": 68,
     "metadata": {},
     "output_type": "execute_result"
    }
   ],
   "source": [
    "# Set random seed\n",
    "tf.random.set_seed(42)\n",
    "\n",
    "# 1. Create the model\n",
    "model_1 = tf.keras.Sequential([\n",
    "    tf.keras.layers.Dense(1)\n",
    "])\n",
    "\n",
    "# 2. Compile the model\n",
    "model_1.compile(loss=tf.keras.losses.mae,\n",
    "                optimizer=tf.keras.optimizers.SGD(),\n",
    "                metrics=[\"mae\"])\n",
    "\n",
    "# 3. Fit the model\n",
    "model_1.fit(tf.expand_dims(X_train, axis=-1), y_train, epochs=100)"
   ],
   "metadata": {
    "collapsed": false,
    "ExecuteTime": {
     "end_time": "2023-09-29T14:03:37.095192728Z",
     "start_time": "2023-09-29T14:03:35.843727770Z"
    }
   },
   "id": "722c58063f2b0200"
  },
  {
   "cell_type": "code",
   "execution_count": 69,
   "outputs": [
    {
     "name": "stdout",
     "output_type": "stream",
     "text": [
      "1/1 [==============================] - 0s 44ms/step\n"
     ]
    },
    {
     "data": {
      "text/plain": "<Figure size 1000x700 with 1 Axes>",
      "image/png": "[encoded data removed]"
     },
     "metadata": {},
     "output_type": "display_data"
    }
   ],
   "source": [
    "# Make and plot predictions for model_1\n",
    "y_preds_1 = model_1.predict(X_test)\n",
    "plot_predictions(predictions=y_preds_1)"
   ],
   "metadata": {
    "collapsed": false,
    "ExecuteTime": {
     "end_time": "2023-09-29T14:03:40.724485032Z",
     "start_time": "2023-09-29T14:03:40.224685804Z"
    }
   },
   "id": "382f33287c6f7581"
  },
  {
   "cell_type": "code",
   "execution_count": 70,
   "outputs": [
    {
     "data": {
      "text/plain": "(<tf.Tensor: shape=(10, 1), dtype=float32, numpy=\n array([[ 74.62479 ],\n        [ 79.5134  ],\n        [ 84.40201 ],\n        [ 89.29062 ],\n        [ 94.17923 ],\n        [ 99.06784 ],\n        [103.95645 ],\n        [108.84506 ],\n        [113.73367 ],\n        [118.622284]], dtype=float32)>,\n <tf.Tensor: shape=(10,), dtype=float32, numpy=\n array([ 74.62479 ,  79.5134  ,  84.40201 ,  89.29062 ,  94.17923 ,\n         99.06784 , 103.95645 , 108.84506 , 113.73367 , 118.622284],\n       dtype=float32)>)"
     },
     "execution_count": 70,
     "metadata": {},
     "output_type": "execute_result"
    }
   ],
   "source": [
    "tf.constant(y_preds_1), tf.squeeze(y_preds_1)"
   ],
   "metadata": {
    "collapsed": false,
    "ExecuteTime": {
     "end_time": "2023-09-29T14:03:47.426624905Z",
     "start_time": "2023-09-29T14:03:47.400672325Z"
    }
   },
   "id": "d717b5c1f0b6405"
  },
  {
   "cell_type": "code",
   "execution_count": 71,
   "outputs": [
    {
     "data": {
      "text/plain": "(<tf.Tensor: shape=(), dtype=float32, numpy=8.623535>,\n <tf.Tensor: shape=(), dtype=float32, numpy=80.8798>)"
     },
     "execution_count": 71,
     "metadata": {},
     "output_type": "execute_result"
    }
   ],
   "source": [
    "# Calculate model_1 evaluation metrics\n",
    "mae_1 = mae(y_test, y_preds_1)\n",
    "mse_1 = mse(y_test, y_preds_1)\n",
    "mae_1, mse_1"
   ],
   "metadata": {
    "collapsed": false,
    "ExecuteTime": {
     "end_time": "2023-09-29T14:03:49.828475184Z",
     "start_time": "2023-09-29T14:03:49.788506205Z"
    }
   },
   "id": "f00fe8d1a1017420"
  },
  {
   "cell_type": "markdown",
   "source": [
    "**Build `model_2`**\n",
    "\n",
    "* 2 dense layers, trained for 100 epochs"
   ],
   "metadata": {
    "collapsed": false
   },
   "id": "ab30453e074532d3"
  },
  {
   "cell_type": "code",
   "execution_count": 72,
   "outputs": [
    {
     "name": "stdout",
     "output_type": "stream",
     "text": [
      "Epoch 1/100\n",
      "2/2 [==============================] - 0s 12ms/step - loss: 34.0555 - mse: 1661.7133\n",
      "Epoch 2/100\n",
      "2/2 [==============================] - 0s 10ms/step - loss: 28.2461 - mse: 1034.3826\n",
      "Epoch 3/100\n",
      "2/2 [==============================] - 0s 7ms/step - loss: 32.2062 - mse: 1588.3284\n",
      "Epoch 4/100\n",
      "2/2 [==============================] - 0s 3ms/step - loss: 13.7686 - mse: 262.4623\n",
      "Epoch 5/100\n",
      "2/2 [==============================] - 0s 9ms/step - loss: 18.8096 - mse: 480.2385\n",
      "Epoch 6/100\n",
      "2/2 [==============================] - 0s 6ms/step - loss: 9.4417 - mse: 126.4147\n",
      "Epoch 7/100\n",
      "2/2 [==============================] - 0s 4ms/step - loss: 10.4559 - mse: 141.8627\n",
      "Epoch 8/100\n",
      "2/2 [==============================] - 0s 5ms/step - loss: 12.1190 - mse: 201.8123\n",
      "Epoch 9/100\n",
      "2/2 [==============================] - 0s 5ms/step - loss: 38.0481 - mse: 2235.8794\n",
      "Epoch 10/100\n",
      "2/2 [==============================] - 0s 5ms/step - loss: 25.6286 - mse: 922.3841\n",
      "Epoch 11/100\n",
      "2/2 [==============================] - 0s 5ms/step - loss: 10.2550 - mse: 148.4669\n",
      "Epoch 12/100\n",
      "2/2 [==============================] - 0s 5ms/step - loss: 25.3052 - mse: 892.5270\n",
      "Epoch 13/100\n",
      "2/2 [==============================] - 0s 5ms/step - loss: 17.0454 - mse: 403.2021\n",
      "Epoch 14/100\n",
      "2/2 [==============================] - 0s 5ms/step - loss: 26.0223 - mse: 1058.6611\n",
      "Epoch 15/100\n",
      "2/2 [==============================] - 0s 4ms/step - loss: 18.0764 - mse: 454.3206\n",
      "Epoch 16/100\n",
      "2/2 [==============================] - 0s 5ms/step - loss: 7.3584 - mse: 80.2839\n",
      "Epoch 17/100\n",
      "2/2 [==============================] - 0s 6ms/step - loss: 10.8443 - mse: 174.5337\n",
      "Epoch 18/100\n",
      "2/2 [==============================] - 0s 9ms/step - loss: 19.5004 - mse: 563.9627\n",
      "Epoch 19/100\n",
      "2/2 [==============================] - 0s 7ms/step - loss: 10.3362 - mse: 168.1796\n",
      "Epoch 20/100\n",
      "2/2 [==============================] - 0s 5ms/step - loss: 17.6750 - mse: 453.9770\n",
      "Epoch 21/100\n",
      "2/2 [==============================] - 0s 5ms/step - loss: 15.8730 - mse: 345.9602\n",
      "Epoch 22/100\n",
      "2/2 [==============================] - 0s 9ms/step - loss: 14.1635 - mse: 284.0158\n",
      "Epoch 23/100\n",
      "2/2 [==============================] - 0s 8ms/step - loss: 8.7950 - mse: 91.6015\n",
      "Epoch 24/100\n",
      "2/2 [==============================] - 0s 5ms/step - loss: 11.0818 - mse: 153.7615\n",
      "Epoch 25/100\n",
      "2/2 [==============================] - 0s 5ms/step - loss: 12.7158 - mse: 235.3583\n",
      "Epoch 26/100\n",
      "2/2 [==============================] - 0s 6ms/step - loss: 26.2774 - mse: 1032.4749\n",
      "Epoch 27/100\n",
      "2/2 [==============================] - 0s 5ms/step - loss: 11.7653 - mse: 196.6792\n",
      "Epoch 28/100\n",
      "2/2 [==============================] - 0s 5ms/step - loss: 22.9608 - mse: 842.2693\n",
      "Epoch 29/100\n",
      "2/2 [==============================] - 0s 13ms/step - loss: 9.2481 - mse: 96.4445\n",
      "Epoch 30/100\n",
      "2/2 [==============================] - 0s 5ms/step - loss: 29.3427 - mse: 1545.6229\n",
      "Epoch 31/100\n",
      "2/2 [==============================] - 0s 5ms/step - loss: 53.1733 - mse: 5060.3789\n",
      "Epoch 32/100\n",
      "2/2 [==============================] - 0s 6ms/step - loss: 12.3885 - mse: 224.4095\n",
      "Epoch 33/100\n",
      "2/2 [==============================] - 0s 7ms/step - loss: 12.1958 - mse: 182.7992\n",
      "Epoch 34/100\n",
      "2/2 [==============================] - 0s 14ms/step - loss: 23.9824 - mse: 871.8214\n",
      "Epoch 35/100\n",
      "2/2 [==============================] - 0s 8ms/step - loss: 12.6209 - mse: 243.4540\n",
      "Epoch 36/100\n",
      "2/2 [==============================] - 0s 14ms/step - loss: 21.5146 - mse: 660.1469\n",
      "Epoch 37/100\n",
      "2/2 [==============================] - 0s 5ms/step - loss: 11.4040 - mse: 150.6579\n",
      "Epoch 38/100\n",
      "2/2 [==============================] - 0s 5ms/step - loss: 13.4911 - mse: 270.3445\n",
      "Epoch 39/100\n",
      "2/2 [==============================] - 0s 5ms/step - loss: 10.8100 - mse: 139.8613\n",
      "Epoch 40/100\n",
      "2/2 [==============================] - 0s 5ms/step - loss: 16.6226 - mse: 400.8472\n",
      "Epoch 41/100\n",
      "2/2 [==============================] - 0s 5ms/step - loss: 10.9928 - mse: 180.1510\n",
      "Epoch 42/100\n",
      "2/2 [==============================] - 0s 14ms/step - loss: 9.3152 - mse: 115.2827\n",
      "Epoch 43/100\n",
      "2/2 [==============================] - 0s 5ms/step - loss: 9.6042 - mse: 111.1472\n",
      "Epoch 44/100\n",
      "2/2 [==============================] - 0s 5ms/step - loss: 27.9966 - mse: 1257.2418\n",
      "Epoch 45/100\n",
      "2/2 [==============================] - 0s 5ms/step - loss: 11.2963 - mse: 147.2180\n",
      "Epoch 46/100\n",
      "2/2 [==============================] - 0s 15ms/step - loss: 14.0728 - mse: 288.9435\n",
      "Epoch 47/100\n",
      "2/2 [==============================] - 0s 6ms/step - loss: 13.5083 - mse: 256.8426\n",
      "Epoch 48/100\n",
      "2/2 [==============================] - 0s 9ms/step - loss: 17.3485 - mse: 408.2602\n",
      "Epoch 49/100\n",
      "2/2 [==============================] - 0s 15ms/step - loss: 9.5216 - mse: 98.7250\n",
      "Epoch 50/100\n",
      "2/2 [==============================] - 0s 5ms/step - loss: 13.7068 - mse: 253.2627\n",
      "Epoch 51/100\n",
      "2/2 [==============================] - 0s 5ms/step - loss: 11.5663 - mse: 153.0814\n",
      "Epoch 52/100\n",
      "2/2 [==============================] - 0s 5ms/step - loss: 30.1812 - mse: 1570.7137\n",
      "Epoch 53/100\n",
      "2/2 [==============================] - 0s 5ms/step - loss: 13.7211 - mse: 278.3182\n",
      "Epoch 54/100\n",
      "2/2 [==============================] - 0s 9ms/step - loss: 26.4092 - mse: 1069.3995\n",
      "Epoch 55/100\n",
      "2/2 [==============================] - 0s 6ms/step - loss: 25.9961 - mse: 1025.3328\n",
      "Epoch 56/100\n",
      "2/2 [==============================] - 0s 9ms/step - loss: 11.2381 - mse: 171.6235\n",
      "Epoch 57/100\n",
      "2/2 [==============================] - 0s 11ms/step - loss: 13.2106 - mse: 217.8671\n",
      "Epoch 58/100\n",
      "2/2 [==============================] - 0s 5ms/step - loss: 9.8682 - mse: 107.4379\n",
      "Epoch 59/100\n",
      "2/2 [==============================] - 0s 4ms/step - loss: 13.3934 - mse: 253.8680\n",
      "Epoch 60/100\n",
      "2/2 [==============================] - 0s 5ms/step - loss: 10.9296 - mse: 141.1407\n",
      "Epoch 61/100\n",
      "2/2 [==============================] - 0s 12ms/step - loss: 13.5426 - mse: 245.0742\n",
      "Epoch 62/100\n",
      "2/2 [==============================] - 0s 5ms/step - loss: 17.6037 - mse: 473.1425\n",
      "Epoch 63/100\n",
      "2/2 [==============================] - 0s 10ms/step - loss: 9.1978 - mse: 88.0909\n",
      "Epoch 64/100\n",
      "2/2 [==============================] - 0s 12ms/step - loss: 18.4668 - mse: 495.6295\n",
      "Epoch 65/100\n",
      "2/2 [==============================] - 0s 4ms/step - loss: 10.1519 - mse: 115.9047\n",
      "Epoch 66/100\n",
      "2/2 [==============================] - 0s 5ms/step - loss: 24.3362 - mse: 894.4655\n",
      "Epoch 67/100\n",
      "2/2 [==============================] - 0s 5ms/step - loss: 10.9298 - mse: 144.0771\n",
      "Epoch 68/100\n",
      "2/2 [==============================] - 0s 11ms/step - loss: 10.8039 - mse: 160.7295\n",
      "Epoch 69/100\n",
      "2/2 [==============================] - 0s 7ms/step - loss: 23.3059 - mse: 785.3873\n",
      "Epoch 70/100\n",
      "2/2 [==============================] - 0s 7ms/step - loss: 8.8162 - mse: 143.9040\n",
      "Epoch 71/100\n",
      "2/2 [==============================] - 0s 12ms/step - loss: 15.9748 - mse: 347.2799\n",
      "Epoch 72/100\n",
      "2/2 [==============================] - 0s 12ms/step - loss: 8.1513 - mse: 110.0482\n",
      "Epoch 73/100\n",
      "2/2 [==============================] - 0s 5ms/step - loss: 9.4702 - mse: 153.5288\n",
      "Epoch 74/100\n",
      "2/2 [==============================] - 0s 5ms/step - loss: 28.1515 - mse: 1110.0911\n",
      "Epoch 75/100\n",
      "2/2 [==============================] - 0s 6ms/step - loss: 10.2196 - mse: 145.8664\n",
      "Epoch 76/100\n",
      "2/2 [==============================] - 0s 11ms/step - loss: 13.1693 - mse: 219.3477\n",
      "Epoch 77/100\n",
      "2/2 [==============================] - 0s 5ms/step - loss: 18.3941 - mse: 530.6014\n",
      "Epoch 78/100\n",
      "2/2 [==============================] - 0s 6ms/step - loss: 9.0329 - mse: 91.7253\n",
      "Epoch 79/100\n",
      "2/2 [==============================] - 0s 6ms/step - loss: 23.4305 - mse: 821.1967\n",
      "Epoch 80/100\n",
      "2/2 [==============================] - 0s 7ms/step - loss: 26.1001 - mse: 1046.5980\n",
      "Epoch 81/100\n",
      "2/2 [==============================] - 0s 6ms/step - loss: 11.3986 - mse: 158.3394\n",
      "Epoch 82/100\n",
      "2/2 [==============================] - 0s 6ms/step - loss: 12.5072 - mse: 227.9684\n",
      "Epoch 83/100\n",
      "2/2 [==============================] - 0s 5ms/step - loss: 17.2020 - mse: 384.8854\n",
      "Epoch 84/100\n",
      "2/2 [==============================] - 0s 5ms/step - loss: 6.6151 - mse: 64.9916\n",
      "Epoch 85/100\n",
      "2/2 [==============================] - 0s 6ms/step - loss: 20.2602 - mse: 573.8623\n",
      "Epoch 86/100\n",
      "2/2 [==============================] - 0s 6ms/step - loss: 10.1770 - mse: 115.6044\n",
      "Epoch 87/100\n",
      "2/2 [==============================] - 0s 9ms/step - loss: 24.2887 - mse: 825.2503\n",
      "Epoch 88/100\n",
      "2/2 [==============================] - 0s 7ms/step - loss: 18.9538 - mse: 510.3720\n",
      "Epoch 89/100\n",
      "2/2 [==============================] - 0s 6ms/step - loss: 7.6809 - mse: 84.1723\n",
      "Epoch 90/100\n",
      "2/2 [==============================] - 0s 6ms/step - loss: 17.3205 - mse: 429.8947\n",
      "Epoch 91/100\n",
      "2/2 [==============================] - 0s 5ms/step - loss: 12.4383 - mse: 226.2812\n",
      "Epoch 92/100\n",
      "2/2 [==============================] - 0s 5ms/step - loss: 24.7963 - mse: 897.0687\n",
      "Epoch 93/100\n",
      "2/2 [==============================] - 0s 6ms/step - loss: 15.4855 - mse: 366.1792\n",
      "Epoch 94/100\n",
      "2/2 [==============================] - 0s 6ms/step - loss: 9.7558 - mse: 120.3150\n",
      "Epoch 95/100\n",
      "2/2 [==============================] - 0s 7ms/step - loss: 18.4015 - mse: 499.5472\n",
      "Epoch 96/100\n",
      "2/2 [==============================] - 0s 5ms/step - loss: 10.4000 - mse: 179.7131\n",
      "Epoch 97/100\n",
      "2/2 [==============================] - 0s 4ms/step - loss: 14.1523 - mse: 300.5639\n",
      "Epoch 98/100\n",
      "2/2 [==============================] - 0s 6ms/step - loss: 9.6370 - mse: 137.3279\n",
      "Epoch 99/100\n",
      "2/2 [==============================] - 0s 34ms/step - loss: 11.3333 - mse: 163.7009\n",
      "Epoch 100/100\n",
      "2/2 [==============================] - 0s 4ms/step - loss: 29.2294 - mse: 1315.0259\n"
     ]
    },
    {
     "data": {
      "text/plain": "<keras.callbacks.History at 0x7fd64af7ef90>"
     },
     "execution_count": 72,
     "metadata": {},
     "output_type": "execute_result"
    }
   ],
   "source": [
    "# Set the random seed\n",
    "tf.random.set_seed(42)\n",
    "\n",
    "# 1. Create the model\n",
    "model_2 = tf.keras.Sequential([\n",
    "    tf.keras.layers.Dense(10),\n",
    "    tf.keras.layers.Dense(1)\n",
    "])\n",
    "\n",
    "# 2. Compile the model\n",
    "model_2.compile(loss=tf.keras.losses.mae,\n",
    "                optimizer=tf.keras.optimizers.SGD(),\n",
    "                metrics=[\"mse\"])\n",
    "\n",
    "# 3. Fit the model\n",
    "model_2.fit(tf.expand_dims(X_train, axis=-1), y_train, epochs=100)"
   ],
   "metadata": {
    "collapsed": false,
    "ExecuteTime": {
     "end_time": "2023-09-29T14:04:03.269526799Z",
     "start_time": "2023-09-29T14:04:00.903237784Z"
    }
   },
   "id": "9acb465fd20c995c"
  },
  {
   "cell_type": "code",
   "execution_count": 73,
   "outputs": [
    {
     "name": "stdout",
     "output_type": "stream",
     "text": [
      "1/1 [==============================] - 0s 56ms/step\n"
     ]
    },
    {
     "data": {
      "text/plain": "<Figure size 1000x700 with 1 Axes>",
      "image/png": "[encoded data removed]"
     },
     "metadata": {},
     "output_type": "display_data"
    }
   ],
   "source": [
    "# Make and plot predictions of model_2\n",
    "y_preds_2 = model_2.predict(X_test)\n",
    "plot_predictions(predictions=y_preds_2)"
   ],
   "metadata": {
    "collapsed": false,
    "ExecuteTime": {
     "end_time": "2023-09-29T14:04:09.224328086Z",
     "start_time": "2023-09-29T14:04:08.814237776Z"
    }
   },
   "id": "1734489efbd4fb4e"
  },
  {
   "cell_type": "code",
   "execution_count": 74,
   "outputs": [
    {
     "data": {
      "text/plain": "(<tf.Tensor: shape=(), dtype=float32, numpy=11.427395>,\n <tf.Tensor: shape=(), dtype=float32, numpy=139.04611>)"
     },
     "execution_count": 74,
     "metadata": {},
     "output_type": "execute_result"
    }
   ],
   "source": [
    "# Calculate model_2 evaluation metrics\n",
    "mae_2 = mae(y_test, y_preds_2)\n",
    "mse_2 = mse(y_test, y_preds_2)\n",
    "mae_2, mse_2"
   ],
   "metadata": {
    "collapsed": false,
    "ExecuteTime": {
     "end_time": "2023-09-29T14:04:13.764439630Z",
     "start_time": "2023-09-29T14:04:13.721403743Z"
    }
   },
   "id": "c1a1bfe80b2973d1"
  },
  {
   "cell_type": "markdown",
   "source": [
    "**Build `model_3`**\n",
    "\n",
    "* 2 dense layers, trained for 500 epochs"
   ],
   "metadata": {
    "collapsed": false
   },
   "id": "e429d78109168242"
  },
  {
   "cell_type": "code",
   "execution_count": 75,
   "outputs": [
    {
     "name": "stdout",
     "output_type": "stream",
     "text": [
      "Epoch 1/500\n",
      "2/2 [==============================] - 0s 7ms/step - loss: 48.1356 - mae: 48.1356\n",
      "Epoch 2/500\n",
      "2/2 [==============================] - 0s 6ms/step - loss: 31.1853 - mae: 31.1853\n",
      "Epoch 3/500\n",
      "2/2 [==============================] - 0s 10ms/step - loss: 35.7622 - mae: 35.7622\n",
      "Epoch 4/500\n",
      "2/2 [==============================] - 0s 14ms/step - loss: 29.4713 - mae: 29.4713\n",
      "Epoch 5/500\n",
      "2/2 [==============================] - 0s 5ms/step - loss: 15.9415 - mae: 15.9415\n",
      "Epoch 6/500\n",
      "2/2 [==============================] - 0s 13ms/step - loss: 12.6279 - mae: 12.6279\n",
      "Epoch 7/500\n",
      "2/2 [==============================] - 0s 5ms/step - loss: 11.8793 - mae: 11.8793\n",
      "Epoch 8/500\n",
      "2/2 [==============================] - 0s 8ms/step - loss: 12.9235 - mae: 12.9235\n",
      "Epoch 9/500\n",
      "2/2 [==============================] - 0s 5ms/step - loss: 33.9954 - mae: 33.9954\n",
      "Epoch 10/500\n",
      "2/2 [==============================] - 0s 10ms/step - loss: 23.2877 - mae: 23.2877\n",
      "Epoch 11/500\n",
      "2/2 [==============================] - 0s 4ms/step - loss: 10.2560 - mae: 10.2560\n",
      "Epoch 12/500\n",
      "2/2 [==============================] - 0s 6ms/step - loss: 25.2218 - mae: 25.2218\n",
      "Epoch 13/500\n",
      "2/2 [==============================] - 0s 5ms/step - loss: 17.1544 - mae: 17.1544\n",
      "Epoch 14/500\n",
      "2/2 [==============================] - 0s 5ms/step - loss: 26.3968 - mae: 26.3968\n",
      "Epoch 15/500\n",
      "2/2 [==============================] - 0s 7ms/step - loss: 16.8796 - mae: 16.8796\n",
      "Epoch 16/500\n",
      "2/2 [==============================] - 0s 6ms/step - loss: 9.8325 - mae: 9.8325\n",
      "Epoch 17/500\n",
      "2/2 [==============================] - 0s 5ms/step - loss: 17.6171 - mae: 17.6171\n",
      "Epoch 18/500\n",
      "2/2 [==============================] - 0s 4ms/step - loss: 14.0856 - mae: 14.0856\n",
      "Epoch 19/500\n",
      "2/2 [==============================] - 0s 6ms/step - loss: 13.9237 - mae: 13.9237\n",
      "Epoch 20/500\n",
      "2/2 [==============================] - 0s 4ms/step - loss: 11.1984 - mae: 11.1984\n",
      "Epoch 21/500\n",
      "2/2 [==============================] - 0s 6ms/step - loss: 17.2351 - mae: 17.2351\n",
      "Epoch 22/500\n",
      "2/2 [==============================] - 0s 5ms/step - loss: 15.4721 - mae: 15.4721\n",
      "Epoch 23/500\n",
      "2/2 [==============================] - 0s 5ms/step - loss: 9.2517 - mae: 9.2517\n",
      "Epoch 24/500\n",
      "2/2 [==============================] - 0s 6ms/step - loss: 17.2913 - mae: 17.2913\n",
      "Epoch 25/500\n",
      "2/2 [==============================] - 0s 5ms/step - loss: 15.9608 - mae: 15.9608\n",
      "Epoch 26/500\n",
      "2/2 [==============================] - 0s 6ms/step - loss: 20.9765 - mae: 20.9765\n",
      "Epoch 27/500\n",
      "2/2 [==============================] - 0s 7ms/step - loss: 25.8639 - mae: 25.8639\n",
      "Epoch 28/500\n",
      "2/2 [==============================] - 0s 5ms/step - loss: 18.3754 - mae: 18.3754\n",
      "Epoch 29/500\n",
      "2/2 [==============================] - 0s 5ms/step - loss: 9.2489 - mae: 9.2489\n",
      "Epoch 30/500\n",
      "2/2 [==============================] - 0s 5ms/step - loss: 28.9765 - mae: 28.9765\n",
      "Epoch 31/500\n",
      "2/2 [==============================] - 0s 5ms/step - loss: 52.4707 - mae: 52.4707\n",
      "Epoch 32/500\n",
      "2/2 [==============================] - 0s 4ms/step - loss: 11.8917 - mae: 11.8917\n",
      "Epoch 33/500\n",
      "2/2 [==============================] - 0s 5ms/step - loss: 15.4499 - mae: 15.4499\n",
      "Epoch 34/500\n",
      "2/2 [==============================] - 0s 5ms/step - loss: 12.5671 - mae: 12.5671\n",
      "Epoch 35/500\n",
      "2/2 [==============================] - 0s 5ms/step - loss: 9.1868 - mae: 9.1868\n",
      "Epoch 36/500\n",
      "2/2 [==============================] - 0s 5ms/step - loss: 16.4076 - mae: 16.4076\n",
      "Epoch 37/500\n",
      "2/2 [==============================] - 0s 6ms/step - loss: 11.1109 - mae: 11.1109\n",
      "Epoch 38/500\n",
      "2/2 [==============================] - 0s 5ms/step - loss: 18.2424 - mae: 18.2424\n",
      "Epoch 39/500\n",
      "2/2 [==============================] - 0s 5ms/step - loss: 19.1726 - mae: 19.1726\n",
      "Epoch 40/500\n",
      "2/2 [==============================] - 0s 6ms/step - loss: 20.5610 - mae: 20.5610\n",
      "Epoch 41/500\n",
      "2/2 [==============================] - 0s 5ms/step - loss: 14.7588 - mae: 14.7588\n",
      "Epoch 42/500\n",
      "2/2 [==============================] - 0s 5ms/step - loss: 12.1663 - mae: 12.1663\n",
      "Epoch 43/500\n",
      "2/2 [==============================] - 0s 5ms/step - loss: 10.6841 - mae: 10.6841\n",
      "Epoch 44/500\n",
      "2/2 [==============================] - 0s 6ms/step - loss: 32.1030 - mae: 32.1030\n",
      "Epoch 45/500\n",
      "2/2 [==============================] - 0s 5ms/step - loss: 12.4313 - mae: 12.4313\n",
      "Epoch 46/500\n",
      "2/2 [==============================] - 0s 5ms/step - loss: 17.3857 - mae: 17.3857\n",
      "Epoch 47/500\n",
      "2/2 [==============================] - 0s 5ms/step - loss: 15.8094 - mae: 15.8094\n",
      "Epoch 48/500\n",
      "2/2 [==============================] - 0s 5ms/step - loss: 8.4113 - mae: 8.4113\n",
      "Epoch 49/500\n",
      "2/2 [==============================] - 0s 33ms/step - loss: 14.2672 - mae: 14.2672\n",
      "Epoch 50/500\n",
      "2/2 [==============================] - 0s 6ms/step - loss: 15.1975 - mae: 15.1975\n",
      "Epoch 51/500\n",
      "2/2 [==============================] - 0s 8ms/step - loss: 13.7095 - mae: 13.7095\n",
      "Epoch 52/500\n",
      "2/2 [==============================] - 0s 12ms/step - loss: 18.1227 - mae: 18.1227\n",
      "Epoch 53/500\n",
      "2/2 [==============================] - 0s 7ms/step - loss: 22.7990 - mae: 22.7990\n",
      "Epoch 54/500\n",
      "2/2 [==============================] - 0s 10ms/step - loss: 26.7357 - mae: 26.7357\n",
      "Epoch 55/500\n",
      "2/2 [==============================] - 0s 8ms/step - loss: 26.3619 - mae: 26.3619\n",
      "Epoch 56/500\n",
      "2/2 [==============================] - 0s 8ms/step - loss: 11.3440 - mae: 11.3440\n",
      "Epoch 57/500\n",
      "2/2 [==============================] - 0s 8ms/step - loss: 13.3561 - mae: 13.3561\n",
      "Epoch 58/500\n",
      "2/2 [==============================] - 0s 7ms/step - loss: 9.9484 - mae: 9.9484\n",
      "Epoch 59/500\n",
      "2/2 [==============================] - 0s 11ms/step - loss: 13.8933 - mae: 13.8933\n",
      "Epoch 60/500\n",
      "2/2 [==============================] - 0s 6ms/step - loss: 9.9880 - mae: 9.9880\n",
      "Epoch 61/500\n",
      "2/2 [==============================] - 0s 5ms/step - loss: 14.9416 - mae: 14.9416\n",
      "Epoch 62/500\n",
      "2/2 [==============================] - 0s 20ms/step - loss: 11.9116 - mae: 11.9116\n",
      "Epoch 63/500\n",
      "2/2 [==============================] - 0s 11ms/step - loss: 10.2829 - mae: 10.2829\n",
      "Epoch 64/500\n",
      "2/2 [==============================] - 0s 9ms/step - loss: 23.8071 - mae: 23.8071\n",
      "Epoch 65/500\n",
      "2/2 [==============================] - 0s 12ms/step - loss: 10.4573 - mae: 10.4573\n",
      "Epoch 66/500\n",
      "2/2 [==============================] - 0s 8ms/step - loss: 20.8564 - mae: 20.8564\n",
      "Epoch 67/500\n",
      "2/2 [==============================] - 0s 7ms/step - loss: 10.4270 - mae: 10.4270\n",
      "Epoch 68/500\n",
      "2/2 [==============================] - 0s 7ms/step - loss: 14.1188 - mae: 14.1188\n",
      "Epoch 69/500\n",
      "2/2 [==============================] - 0s 6ms/step - loss: 10.4883 - mae: 10.4883\n",
      "Epoch 70/500\n",
      "2/2 [==============================] - 0s 10ms/step - loss: 12.5539 - mae: 12.5539\n",
      "Epoch 71/500\n",
      "2/2 [==============================] - 0s 7ms/step - loss: 12.9802 - mae: 12.9802\n",
      "Epoch 72/500\n",
      "2/2 [==============================] - 0s 12ms/step - loss: 19.2557 - mae: 19.2557\n",
      "Epoch 73/500\n",
      "2/2 [==============================] - 0s 7ms/step - loss: 11.1103 - mae: 11.1103\n",
      "Epoch 74/500\n",
      "2/2 [==============================] - 0s 8ms/step - loss: 21.3169 - mae: 21.3169\n",
      "Epoch 75/500\n",
      "2/2 [==============================] - 0s 8ms/step - loss: 9.4298 - mae: 9.4298\n",
      "Epoch 76/500\n",
      "2/2 [==============================] - 0s 14ms/step - loss: 12.2445 - mae: 12.2445\n",
      "Epoch 77/500\n",
      "2/2 [==============================] - 0s 4ms/step - loss: 16.2158 - mae: 16.2158\n",
      "Epoch 78/500\n",
      "2/2 [==============================] - 0s 12ms/step - loss: 9.0018 - mae: 9.0018\n",
      "Epoch 79/500\n",
      "2/2 [==============================] - 0s 10ms/step - loss: 23.4289 - mae: 23.4289\n",
      "Epoch 80/500\n",
      "2/2 [==============================] - 0s 8ms/step - loss: 26.0964 - mae: 26.0964\n",
      "Epoch 81/500\n",
      "2/2 [==============================] - 0s 6ms/step - loss: 11.3700 - mae: 11.3700\n",
      "Epoch 82/500\n",
      "2/2 [==============================] - 0s 9ms/step - loss: 12.4946 - mae: 12.4946\n",
      "Epoch 83/500\n",
      "2/2 [==============================] - 0s 7ms/step - loss: 17.1805 - mae: 17.1805\n",
      "Epoch 84/500\n",
      "2/2 [==============================] - 0s 14ms/step - loss: 6.5822 - mae: 6.5822\n",
      "Epoch 85/500\n",
      "2/2 [==============================] - 0s 6ms/step - loss: 20.2881 - mae: 20.2881\n",
      "Epoch 86/500\n",
      "2/2 [==============================] - 0s 6ms/step - loss: 10.1543 - mae: 10.1543\n",
      "Epoch 87/500\n",
      "2/2 [==============================] - 0s 7ms/step - loss: 24.3353 - mae: 24.3353\n",
      "Epoch 88/500\n",
      "2/2 [==============================] - 0s 7ms/step - loss: 18.9995 - mae: 18.9995\n",
      "Epoch 89/500\n",
      "2/2 [==============================] - 0s 6ms/step - loss: 7.1515 - mae: 7.1515\n",
      "Epoch 90/500\n",
      "2/2 [==============================] - 0s 8ms/step - loss: 18.2527 - mae: 18.2527\n",
      "Epoch 91/500\n",
      "2/2 [==============================] - 0s 7ms/step - loss: 13.3018 - mae: 13.3018\n",
      "Epoch 92/500\n",
      "2/2 [==============================] - 0s 6ms/step - loss: 14.8497 - mae: 14.8497\n",
      "Epoch 93/500\n",
      "2/2 [==============================] - 0s 7ms/step - loss: 11.6408 - mae: 11.6408\n",
      "Epoch 94/500\n",
      "2/2 [==============================] - 0s 7ms/step - loss: 16.1991 - mae: 16.1991\n",
      "Epoch 95/500\n",
      "2/2 [==============================] - 0s 8ms/step - loss: 15.5410 - mae: 15.5410\n",
      "Epoch 96/500\n",
      "2/2 [==============================] - 0s 7ms/step - loss: 15.0758 - mae: 15.0758\n",
      "Epoch 97/500\n",
      "2/2 [==============================] - 0s 8ms/step - loss: 10.9028 - mae: 10.9028\n",
      "Epoch 98/500\n",
      "2/2 [==============================] - 0s 6ms/step - loss: 14.3642 - mae: 14.3642\n",
      "Epoch 99/500\n",
      "2/2 [==============================] - 0s 6ms/step - loss: 13.3799 - mae: 13.3799\n",
      "Epoch 100/500\n",
      "2/2 [==============================] - 0s 7ms/step - loss: 20.0041 - mae: 20.0041\n",
      "Epoch 101/500\n",
      "2/2 [==============================] - 0s 8ms/step - loss: 22.4996 - mae: 22.4996\n",
      "Epoch 102/500\n",
      "2/2 [==============================] - 0s 6ms/step - loss: 11.2592 - mae: 11.2592\n",
      "Epoch 103/500\n",
      "2/2 [==============================] - 0s 5ms/step - loss: 9.3474 - mae: 9.3474\n",
      "Epoch 104/500\n",
      "2/2 [==============================] - 0s 14ms/step - loss: 25.1309 - mae: 25.1309\n",
      "Epoch 105/500\n",
      "2/2 [==============================] - 0s 17ms/step - loss: 12.3962 - mae: 12.3962\n",
      "Epoch 106/500\n",
      "2/2 [==============================] - 0s 28ms/step - loss: 9.3835 - mae: 9.3835\n",
      "Epoch 107/500\n",
      "2/2 [==============================] - 0s 12ms/step - loss: 23.1464 - mae: 23.1464\n",
      "Epoch 108/500\n",
      "2/2 [==============================] - 0s 7ms/step - loss: 8.2588 - mae: 8.2588\n",
      "Epoch 109/500\n",
      "2/2 [==============================] - 0s 6ms/step - loss: 13.9876 - mae: 13.9876\n",
      "Epoch 110/500\n",
      "2/2 [==============================] - 0s 7ms/step - loss: 10.6387 - mae: 10.6387\n",
      "Epoch 111/500\n",
      "2/2 [==============================] - 0s 8ms/step - loss: 16.9638 - mae: 16.9638\n",
      "Epoch 112/500\n",
      "2/2 [==============================] - 0s 11ms/step - loss: 8.2550 - mae: 8.2550\n",
      "Epoch 113/500\n",
      "2/2 [==============================] - 0s 9ms/step - loss: 19.6335 - mae: 19.6335\n",
      "Epoch 114/500\n",
      "2/2 [==============================] - 0s 7ms/step - loss: 17.3419 - mae: 17.3419\n",
      "Epoch 115/500\n",
      "2/2 [==============================] - 0s 5ms/step - loss: 11.2069 - mae: 11.2069\n",
      "Epoch 116/500\n",
      "2/2 [==============================] - 0s 6ms/step - loss: 23.4952 - mae: 23.4952\n",
      "Epoch 117/500\n",
      "2/2 [==============================] - 0s 5ms/step - loss: 9.7030 - mae: 9.7030\n",
      "Epoch 118/500\n",
      "2/2 [==============================] - 0s 16ms/step - loss: 10.7799 - mae: 10.7799\n",
      "Epoch 119/500\n",
      "2/2 [==============================] - 0s 13ms/step - loss: 8.0804 - mae: 8.0804\n",
      "Epoch 120/500\n",
      "2/2 [==============================] - 0s 20ms/step - loss: 29.8278 - mae: 29.8278\n",
      "Epoch 121/500\n",
      "2/2 [==============================] - 0s 5ms/step - loss: 8.1113 - mae: 8.1113\n",
      "Epoch 122/500\n",
      "2/2 [==============================] - 0s 6ms/step - loss: 28.4058 - mae: 28.4058\n",
      "Epoch 123/500\n",
      "2/2 [==============================] - 0s 8ms/step - loss: 33.0183 - mae: 33.0183\n",
      "Epoch 124/500\n",
      "2/2 [==============================] - 0s 19ms/step - loss: 19.7257 - mae: 19.7257\n",
      "Epoch 125/500\n",
      "2/2 [==============================] - 0s 11ms/step - loss: 7.0432 - mae: 7.0432\n",
      "Epoch 126/500\n",
      "2/2 [==============================] - 0s 11ms/step - loss: 21.8808 - mae: 21.8808\n",
      "Epoch 127/500\n",
      "2/2 [==============================] - 0s 9ms/step - loss: 8.0221 - mae: 8.0221\n",
      "Epoch 128/500\n",
      "2/2 [==============================] - 0s 12ms/step - loss: 21.1129 - mae: 21.1129\n",
      "Epoch 129/500\n",
      "2/2 [==============================] - 0s 8ms/step - loss: 9.0531 - mae: 9.0531\n",
      "Epoch 130/500\n",
      "2/2 [==============================] - 0s 24ms/step - loss: 24.0890 - mae: 24.0890\n",
      "Epoch 131/500\n",
      "2/2 [==============================] - 0s 18ms/step - loss: 9.7957 - mae: 9.7957\n",
      "Epoch 132/500\n",
      "2/2 [==============================] - 0s 8ms/step - loss: 18.3285 - mae: 18.3285\n",
      "Epoch 133/500\n",
      "2/2 [==============================] - 0s 7ms/step - loss: 7.6151 - mae: 7.6151\n",
      "Epoch 134/500\n",
      "2/2 [==============================] - 0s 10ms/step - loss: 18.5862 - mae: 18.5862\n",
      "Epoch 135/500\n",
      "2/2 [==============================] - 0s 11ms/step - loss: 10.5661 - mae: 10.5661\n",
      "Epoch 136/500\n",
      "2/2 [==============================] - 0s 9ms/step - loss: 18.2641 - mae: 18.2641\n",
      "Epoch 137/500\n",
      "2/2 [==============================] - 0s 6ms/step - loss: 23.1473 - mae: 23.1473\n",
      "Epoch 138/500\n",
      "2/2 [==============================] - 0s 8ms/step - loss: 9.1501 - mae: 9.1501\n",
      "Epoch 139/500\n",
      "2/2 [==============================] - 0s 7ms/step - loss: 8.9333 - mae: 8.9333\n",
      "Epoch 140/500\n",
      "2/2 [==============================] - 0s 8ms/step - loss: 16.4332 - mae: 16.4332\n",
      "Epoch 141/500\n",
      "2/2 [==============================] - 0s 6ms/step - loss: 8.4502 - mae: 8.4502\n",
      "Epoch 142/500\n",
      "2/2 [==============================] - 0s 6ms/step - loss: 36.8110 - mae: 36.8110\n",
      "Epoch 143/500\n",
      "2/2 [==============================] - 0s 6ms/step - loss: 25.4865 - mae: 25.4865\n",
      "Epoch 144/500\n",
      "2/2 [==============================] - 0s 7ms/step - loss: 9.5679 - mae: 9.5679\n",
      "Epoch 145/500\n",
      "2/2 [==============================] - 0s 7ms/step - loss: 26.6487 - mae: 26.6487\n",
      "Epoch 146/500\n",
      "2/2 [==============================] - 0s 6ms/step - loss: 8.6981 - mae: 8.6981\n",
      "Epoch 147/500\n",
      "2/2 [==============================] - 0s 6ms/step - loss: 15.6750 - mae: 15.6750\n",
      "Epoch 148/500\n",
      "2/2 [==============================] - 0s 5ms/step - loss: 18.3779 - mae: 18.3779\n",
      "Epoch 149/500\n",
      "2/2 [==============================] - 0s 12ms/step - loss: 8.1719 - mae: 8.1719\n",
      "Epoch 150/500\n",
      "2/2 [==============================] - 0s 7ms/step - loss: 7.5041 - mae: 7.5041\n",
      "Epoch 151/500\n",
      "2/2 [==============================] - 0s 16ms/step - loss: 18.1828 - mae: 18.1828\n",
      "Epoch 152/500\n",
      "2/2 [==============================] - 0s 7ms/step - loss: 10.2763 - mae: 10.2763\n",
      "Epoch 153/500\n",
      "2/2 [==============================] - 0s 7ms/step - loss: 29.3731 - mae: 29.3731\n",
      "Epoch 154/500\n",
      "2/2 [==============================] - 0s 16ms/step - loss: 10.6251 - mae: 10.6251\n",
      "Epoch 155/500\n",
      "2/2 [==============================] - 0s 9ms/step - loss: 15.5170 - mae: 15.5170\n",
      "Epoch 156/500\n",
      "2/2 [==============================] - 0s 6ms/step - loss: 17.1489 - mae: 17.1489\n",
      "Epoch 157/500\n",
      "2/2 [==============================] - 0s 7ms/step - loss: 32.4860 - mae: 32.4860\n",
      "Epoch 158/500\n",
      "2/2 [==============================] - 0s 6ms/step - loss: 10.6350 - mae: 10.6350\n",
      "Epoch 159/500\n",
      "2/2 [==============================] - 0s 7ms/step - loss: 8.8857 - mae: 8.8857\n",
      "Epoch 160/500\n",
      "2/2 [==============================] - 0s 6ms/step - loss: 21.8706 - mae: 21.8706\n",
      "Epoch 161/500\n",
      "2/2 [==============================] - 0s 6ms/step - loss: 11.1003 - mae: 11.1003\n",
      "Epoch 162/500\n",
      "2/2 [==============================] - 0s 6ms/step - loss: 21.3971 - mae: 21.3971\n",
      "Epoch 163/500\n",
      "2/2 [==============================] - 0s 6ms/step - loss: 18.8768 - mae: 18.8768\n",
      "Epoch 164/500\n",
      "2/2 [==============================] - 0s 8ms/step - loss: 12.7162 - mae: 12.7162\n",
      "Epoch 165/500\n",
      "2/2 [==============================] - 0s 6ms/step - loss: 12.7295 - mae: 12.7295\n",
      "Epoch 166/500\n",
      "2/2 [==============================] - 0s 6ms/step - loss: 18.9044 - mae: 18.9044\n",
      "Epoch 167/500\n",
      "2/2 [==============================] - 0s 5ms/step - loss: 26.8211 - mae: 26.8211\n",
      "Epoch 168/500\n",
      "2/2 [==============================] - 0s 5ms/step - loss: 9.9910 - mae: 9.9910\n",
      "Epoch 169/500\n",
      "2/2 [==============================] - 0s 4ms/step - loss: 23.0657 - mae: 23.0657\n",
      "Epoch 170/500\n",
      "2/2 [==============================] - 0s 6ms/step - loss: 10.0878 - mae: 10.0878\n",
      "Epoch 171/500\n",
      "2/2 [==============================] - 0s 5ms/step - loss: 17.8437 - mae: 17.8437\n",
      "Epoch 172/500\n",
      "2/2 [==============================] - 0s 5ms/step - loss: 29.3330 - mae: 29.3330\n",
      "Epoch 173/500\n",
      "2/2 [==============================] - 0s 5ms/step - loss: 16.9310 - mae: 16.9310\n",
      "Epoch 174/500\n",
      "2/2 [==============================] - 0s 5ms/step - loss: 11.1850 - mae: 11.1850\n",
      "Epoch 175/500\n",
      "2/2 [==============================] - 0s 5ms/step - loss: 27.4615 - mae: 27.4615\n",
      "Epoch 176/500\n",
      "2/2 [==============================] - 0s 5ms/step - loss: 8.4369 - mae: 8.4369\n",
      "Epoch 177/500\n",
      "2/2 [==============================] - 0s 5ms/step - loss: 9.3948 - mae: 9.3948\n",
      "Epoch 178/500\n",
      "2/2 [==============================] - 0s 5ms/step - loss: 18.5286 - mae: 18.5286\n",
      "Epoch 179/500\n",
      "2/2 [==============================] - 0s 5ms/step - loss: 10.4374 - mae: 10.4374\n",
      "Epoch 180/500\n",
      "2/2 [==============================] - 0s 5ms/step - loss: 7.9967 - mae: 7.9967\n",
      "Epoch 181/500\n",
      "2/2 [==============================] - 0s 5ms/step - loss: 17.7062 - mae: 17.7062\n",
      "Epoch 182/500\n",
      "2/2 [==============================] - 0s 7ms/step - loss: 11.1783 - mae: 11.1783\n",
      "Epoch 183/500\n",
      "2/2 [==============================] - 0s 5ms/step - loss: 12.3622 - mae: 12.3622\n",
      "Epoch 184/500\n",
      "2/2 [==============================] - 0s 5ms/step - loss: 27.2601 - mae: 27.2601\n",
      "Epoch 185/500\n",
      "2/2 [==============================] - 0s 6ms/step - loss: 7.5851 - mae: 7.5851\n",
      "Epoch 186/500\n",
      "2/2 [==============================] - 0s 5ms/step - loss: 15.9931 - mae: 15.9931\n",
      "Epoch 187/500\n",
      "2/2 [==============================] - 0s 10ms/step - loss: 8.5948 - mae: 8.5948\n",
      "Epoch 188/500\n",
      "2/2 [==============================] - 0s 20ms/step - loss: 28.7280 - mae: 28.7280\n",
      "Epoch 189/500\n",
      "2/2 [==============================] - 0s 4ms/step - loss: 13.1833 - mae: 13.1833\n",
      "Epoch 190/500\n",
      "2/2 [==============================] - 0s 6ms/step - loss: 18.3280 - mae: 18.3280\n",
      "Epoch 191/500\n",
      "2/2 [==============================] - 0s 4ms/step - loss: 13.7602 - mae: 13.7602\n",
      "Epoch 192/500\n",
      "2/2 [==============================] - 0s 6ms/step - loss: 13.7320 - mae: 13.7320\n",
      "Epoch 193/500\n",
      "2/2 [==============================] - 0s 7ms/step - loss: 28.6012 - mae: 28.6012\n",
      "Epoch 194/500\n",
      "2/2 [==============================] - 0s 14ms/step - loss: 7.0805 - mae: 7.0805\n",
      "Epoch 195/500\n",
      "2/2 [==============================] - 0s 13ms/step - loss: 7.0845 - mae: 7.0845\n",
      "Epoch 196/500\n",
      "2/2 [==============================] - 0s 5ms/step - loss: 22.0518 - mae: 22.0518\n",
      "Epoch 197/500\n",
      "2/2 [==============================] - 0s 9ms/step - loss: 20.7566 - mae: 20.7566\n",
      "Epoch 198/500\n",
      "2/2 [==============================] - 0s 13ms/step - loss: 12.4298 - mae: 12.4298\n",
      "Epoch 199/500\n",
      "2/2 [==============================] - 0s 6ms/step - loss: 17.8309 - mae: 17.8309\n",
      "Epoch 200/500\n",
      "2/2 [==============================] - 0s 7ms/step - loss: 13.6773 - mae: 13.6773\n",
      "Epoch 201/500\n",
      "2/2 [==============================] - 0s 15ms/step - loss: 5.5073 - mae: 5.5073\n",
      "Epoch 202/500\n",
      "2/2 [==============================] - 0s 7ms/step - loss: 13.6263 - mae: 13.6263\n",
      "Epoch 203/500\n",
      "2/2 [==============================] - 0s 14ms/step - loss: 9.4157 - mae: 9.4157\n",
      "Epoch 204/500\n",
      "2/2 [==============================] - 0s 7ms/step - loss: 20.8241 - mae: 20.8241\n",
      "Epoch 205/500\n",
      "2/2 [==============================] - 0s 6ms/step - loss: 9.5234 - mae: 9.5234\n",
      "Epoch 206/500\n",
      "2/2 [==============================] - 0s 6ms/step - loss: 11.1619 - mae: 11.1619\n",
      "Epoch 207/500\n",
      "2/2 [==============================] - 0s 7ms/step - loss: 17.7067 - mae: 17.7067\n",
      "Epoch 208/500\n",
      "2/2 [==============================] - 0s 11ms/step - loss: 14.4061 - mae: 14.4061\n",
      "Epoch 209/500\n",
      "2/2 [==============================] - 0s 6ms/step - loss: 16.7309 - mae: 16.7309\n",
      "Epoch 210/500\n",
      "2/2 [==============================] - 0s 15ms/step - loss: 18.2497 - mae: 18.2497\n",
      "Epoch 211/500\n",
      "2/2 [==============================] - 0s 13ms/step - loss: 9.9693 - mae: 9.9693\n",
      "Epoch 212/500\n",
      "2/2 [==============================] - 0s 5ms/step - loss: 18.7265 - mae: 18.7265\n",
      "Epoch 213/500\n",
      "2/2 [==============================] - 0s 6ms/step - loss: 14.9474 - mae: 14.9474\n",
      "Epoch 214/500\n",
      "2/2 [==============================] - 0s 6ms/step - loss: 14.5322 - mae: 14.5322\n",
      "Epoch 215/500\n",
      "2/2 [==============================] - 0s 6ms/step - loss: 23.1792 - mae: 23.1792\n",
      "Epoch 216/500\n",
      "2/2 [==============================] - 0s 6ms/step - loss: 13.5851 - mae: 13.5851\n",
      "Epoch 217/500\n",
      "2/2 [==============================] - 0s 7ms/step - loss: 10.0534 - mae: 10.0534\n",
      "Epoch 218/500\n",
      "2/2 [==============================] - 0s 6ms/step - loss: 12.4295 - mae: 12.4295\n",
      "Epoch 219/500\n",
      "2/2 [==============================] - 0s 6ms/step - loss: 5.8628 - mae: 5.8628\n",
      "Epoch 220/500\n",
      "2/2 [==============================] - 0s 14ms/step - loss: 10.1951 - mae: 10.1951\n",
      "Epoch 221/500\n",
      "2/2 [==============================] - 0s 12ms/step - loss: 28.8537 - mae: 28.8537\n",
      "Epoch 222/500\n",
      "2/2 [==============================] - 0s 6ms/step - loss: 28.0346 - mae: 28.0346\n",
      "Epoch 223/500\n",
      "2/2 [==============================] - 0s 6ms/step - loss: 10.0849 - mae: 10.0849\n",
      "Epoch 224/500\n",
      "2/2 [==============================] - 0s 9ms/step - loss: 14.6334 - mae: 14.6334\n",
      "Epoch 225/500\n",
      "2/2 [==============================] - 0s 11ms/step - loss: 16.6509 - mae: 16.6509\n",
      "Epoch 226/500\n",
      "2/2 [==============================] - 0s 8ms/step - loss: 15.8725 - mae: 15.8725\n",
      "Epoch 227/500\n",
      "2/2 [==============================] - 0s 7ms/step - loss: 16.0930 - mae: 16.0930\n",
      "Epoch 228/500\n",
      "2/2 [==============================] - 0s 7ms/step - loss: 13.8712 - mae: 13.8712\n",
      "Epoch 229/500\n",
      "2/2 [==============================] - 0s 21ms/step - loss: 17.9912 - mae: 17.9912\n",
      "Epoch 230/500\n",
      "2/2 [==============================] - 0s 10ms/step - loss: 15.5825 - mae: 15.5825\n",
      "Epoch 231/500\n",
      "2/2 [==============================] - 0s 6ms/step - loss: 21.1146 - mae: 21.1146\n",
      "Epoch 232/500\n",
      "2/2 [==============================] - 0s 6ms/step - loss: 25.4765 - mae: 25.4765\n",
      "Epoch 233/500\n",
      "2/2 [==============================] - 0s 7ms/step - loss: 16.4829 - mae: 16.4829\n",
      "Epoch 234/500\n",
      "2/2 [==============================] - 0s 17ms/step - loss: 7.3519 - mae: 7.3519\n",
      "Epoch 235/500\n",
      "2/2 [==============================] - 0s 12ms/step - loss: 17.1207 - mae: 17.1207\n",
      "Epoch 236/500\n",
      "2/2 [==============================] - 0s 10ms/step - loss: 7.2086 - mae: 7.2086\n",
      "Epoch 237/500\n",
      "2/2 [==============================] - 0s 8ms/step - loss: 9.3027 - mae: 9.3027\n",
      "Epoch 238/500\n",
      "2/2 [==============================] - 0s 6ms/step - loss: 8.1659 - mae: 8.1659\n",
      "Epoch 239/500\n",
      "2/2 [==============================] - 0s 17ms/step - loss: 17.1353 - mae: 17.1353\n",
      "Epoch 240/500\n",
      "2/2 [==============================] - 0s 13ms/step - loss: 8.9331 - mae: 8.9331\n",
      "Epoch 241/500\n",
      "2/2 [==============================] - 0s 4ms/step - loss: 13.2360 - mae: 13.2360\n",
      "Epoch 242/500\n",
      "2/2 [==============================] - 0s 4ms/step - loss: 8.8461 - mae: 8.8461\n",
      "Epoch 243/500\n",
      "2/2 [==============================] - 0s 11ms/step - loss: 18.8546 - mae: 18.8546\n",
      "Epoch 244/500\n",
      "2/2 [==============================] - 0s 6ms/step - loss: 14.0640 - mae: 14.0640\n",
      "Epoch 245/500\n",
      "2/2 [==============================] - 0s 13ms/step - loss: 14.6914 - mae: 14.6914\n",
      "Epoch 246/500\n",
      "2/2 [==============================] - 0s 9ms/step - loss: 15.8228 - mae: 15.8228\n",
      "Epoch 247/500\n",
      "2/2 [==============================] - 0s 7ms/step - loss: 17.7053 - mae: 17.7053\n",
      "Epoch 248/500\n",
      "2/2 [==============================] - 0s 7ms/step - loss: 13.2619 - mae: 13.2619\n",
      "Epoch 249/500\n",
      "2/2 [==============================] - 0s 16ms/step - loss: 14.5316 - mae: 14.5316\n",
      "Epoch 250/500\n",
      "2/2 [==============================] - 0s 8ms/step - loss: 23.2632 - mae: 23.2632\n",
      "Epoch 251/500\n",
      "2/2 [==============================] - 0s 7ms/step - loss: 9.3243 - mae: 9.3243\n",
      "Epoch 252/500\n",
      "2/2 [==============================] - 0s 13ms/step - loss: 36.5470 - mae: 36.5470\n",
      "Epoch 253/500\n",
      "2/2 [==============================] - 0s 7ms/step - loss: 21.7487 - mae: 21.7487\n",
      "Epoch 254/500\n",
      "2/2 [==============================] - 0s 15ms/step - loss: 7.3086 - mae: 7.3086\n",
      "Epoch 255/500\n",
      "2/2 [==============================] - 0s 6ms/step - loss: 24.6122 - mae: 24.6122\n",
      "Epoch 256/500\n",
      "2/2 [==============================] - 0s 6ms/step - loss: 12.3973 - mae: 12.3973\n",
      "Epoch 257/500\n",
      "2/2 [==============================] - 0s 8ms/step - loss: 10.5675 - mae: 10.5675\n",
      "Epoch 258/500\n",
      "2/2 [==============================] - 0s 6ms/step - loss: 14.1635 - mae: 14.1635\n",
      "Epoch 259/500\n",
      "2/2 [==============================] - 0s 8ms/step - loss: 11.2478 - mae: 11.2478\n",
      "Epoch 260/500\n",
      "2/2 [==============================] - 0s 6ms/step - loss: 31.5181 - mae: 31.5181\n",
      "Epoch 261/500\n",
      "2/2 [==============================] - 0s 9ms/step - loss: 11.1608 - mae: 11.1608\n",
      "Epoch 262/500\n",
      "2/2 [==============================] - 0s 6ms/step - loss: 10.0178 - mae: 10.0178\n",
      "Epoch 263/500\n",
      "2/2 [==============================] - 0s 7ms/step - loss: 8.9410 - mae: 8.9410\n",
      "Epoch 264/500\n",
      "2/2 [==============================] - 0s 6ms/step - loss: 21.4144 - mae: 21.4144\n",
      "Epoch 265/500\n",
      "2/2 [==============================] - 0s 7ms/step - loss: 11.4799 - mae: 11.4799\n",
      "Epoch 266/500\n",
      "2/2 [==============================] - 0s 5ms/step - loss: 13.3222 - mae: 13.3222\n",
      "Epoch 267/500\n",
      "2/2 [==============================] - 0s 5ms/step - loss: 11.1002 - mae: 11.1002\n",
      "Epoch 268/500\n",
      "2/2 [==============================] - 0s 5ms/step - loss: 19.1979 - mae: 19.1979\n",
      "Epoch 269/500\n",
      "2/2 [==============================] - 0s 5ms/step - loss: 40.5852 - mae: 40.5852\n",
      "Epoch 270/500\n",
      "2/2 [==============================] - 0s 5ms/step - loss: 12.8646 - mae: 12.8646\n",
      "Epoch 271/500\n",
      "2/2 [==============================] - 0s 5ms/step - loss: 14.7769 - mae: 14.7769\n",
      "Epoch 272/500\n",
      "2/2 [==============================] - 0s 5ms/step - loss: 28.5331 - mae: 28.5331\n",
      "Epoch 273/500\n",
      "2/2 [==============================] - 0s 5ms/step - loss: 7.3494 - mae: 7.3494\n",
      "Epoch 274/500\n",
      "2/2 [==============================] - 0s 5ms/step - loss: 6.3599 - mae: 6.3599\n",
      "Epoch 275/500\n",
      "2/2 [==============================] - 0s 5ms/step - loss: 36.7897 - mae: 36.7897\n",
      "Epoch 276/500\n",
      "2/2 [==============================] - 0s 5ms/step - loss: 8.2824 - mae: 8.2824\n",
      "Epoch 277/500\n",
      "2/2 [==============================] - 0s 5ms/step - loss: 27.6259 - mae: 27.6259\n",
      "Epoch 278/500\n",
      "2/2 [==============================] - 0s 5ms/step - loss: 10.6979 - mae: 10.6979\n",
      "Epoch 279/500\n",
      "2/2 [==============================] - 0s 5ms/step - loss: 16.1253 - mae: 16.1253\n",
      "Epoch 280/500\n",
      "2/2 [==============================] - 0s 5ms/step - loss: 21.2699 - mae: 21.2699\n",
      "Epoch 281/500\n",
      "2/2 [==============================] - 0s 17ms/step - loss: 23.7126 - mae: 23.7126\n",
      "Epoch 282/500\n",
      "2/2 [==============================] - 0s 7ms/step - loss: 8.2422 - mae: 8.2422\n",
      "Epoch 283/500\n",
      "2/2 [==============================] - 0s 24ms/step - loss: 8.4335 - mae: 8.4335\n",
      "Epoch 284/500\n",
      "2/2 [==============================] - 0s 17ms/step - loss: 26.5482 - mae: 26.5482\n",
      "Epoch 285/500\n",
      "2/2 [==============================] - 0s 10ms/step - loss: 14.1724 - mae: 14.1724\n",
      "Epoch 286/500\n",
      "2/2 [==============================] - 0s 4ms/step - loss: 6.0087 - mae: 6.0087\n",
      "Epoch 287/500\n",
      "2/2 [==============================] - 0s 12ms/step - loss: 18.9854 - mae: 18.9854\n",
      "Epoch 288/500\n",
      "2/2 [==============================] - 0s 6ms/step - loss: 32.9133 - mae: 32.9133\n",
      "Epoch 289/500\n",
      "2/2 [==============================] - 0s 11ms/step - loss: 8.3739 - mae: 8.3739\n",
      "Epoch 290/500\n",
      "2/2 [==============================] - 0s 7ms/step - loss: 16.8668 - mae: 16.8668\n",
      "Epoch 291/500\n",
      "2/2 [==============================] - 0s 15ms/step - loss: 17.2353 - mae: 17.2353\n",
      "Epoch 292/500\n",
      "2/2 [==============================] - 0s 9ms/step - loss: 10.8705 - mae: 10.8705\n",
      "Epoch 293/500\n",
      "2/2 [==============================] - 0s 13ms/step - loss: 14.5650 - mae: 14.5650\n",
      "Epoch 294/500\n",
      "2/2 [==============================] - 0s 11ms/step - loss: 21.7942 - mae: 21.7942\n",
      "Epoch 295/500\n",
      "2/2 [==============================] - 0s 7ms/step - loss: 19.9998 - mae: 19.9998\n",
      "Epoch 296/500\n",
      "2/2 [==============================] - 0s 6ms/step - loss: 7.0129 - mae: 7.0129\n",
      "Epoch 297/500\n",
      "2/2 [==============================] - 0s 6ms/step - loss: 9.0055 - mae: 9.0055\n",
      "Epoch 298/500\n",
      "2/2 [==============================] - 0s 6ms/step - loss: 24.2490 - mae: 24.2490\n",
      "Epoch 299/500\n",
      "2/2 [==============================] - 0s 14ms/step - loss: 17.8972 - mae: 17.8972\n",
      "Epoch 300/500\n",
      "2/2 [==============================] - 0s 6ms/step - loss: 7.0210 - mae: 7.0210\n",
      "Epoch 301/500\n",
      "2/2 [==============================] - 0s 13ms/step - loss: 25.3805 - mae: 25.3805\n",
      "Epoch 302/500\n",
      "2/2 [==============================] - 0s 11ms/step - loss: 9.4706 - mae: 9.4706\n",
      "Epoch 303/500\n",
      "2/2 [==============================] - 0s 7ms/step - loss: 14.4528 - mae: 14.4528\n",
      "Epoch 304/500\n",
      "2/2 [==============================] - 0s 13ms/step - loss: 10.8494 - mae: 10.8494\n",
      "Epoch 305/500\n",
      "2/2 [==============================] - 0s 8ms/step - loss: 12.6825 - mae: 12.6825\n",
      "Epoch 306/500\n",
      "2/2 [==============================] - 0s 11ms/step - loss: 8.2893 - mae: 8.2893\n",
      "Epoch 307/500\n",
      "2/2 [==============================] - 0s 7ms/step - loss: 13.1223 - mae: 13.1223\n",
      "Epoch 308/500\n",
      "2/2 [==============================] - 0s 7ms/step - loss: 8.1528 - mae: 8.1528\n",
      "Epoch 309/500\n",
      "2/2 [==============================] - 0s 8ms/step - loss: 11.7734 - mae: 11.7734\n",
      "Epoch 310/500\n",
      "2/2 [==============================] - 0s 14ms/step - loss: 6.3596 - mae: 6.3596\n",
      "Epoch 311/500\n",
      "2/2 [==============================] - 0s 13ms/step - loss: 4.9853 - mae: 4.9853\n",
      "Epoch 312/500\n",
      "2/2 [==============================] - 0s 6ms/step - loss: 29.2725 - mae: 29.2725\n",
      "Epoch 313/500\n",
      "2/2 [==============================] - 0s 6ms/step - loss: 8.9779 - mae: 8.9779\n",
      "Epoch 314/500\n",
      "2/2 [==============================] - 0s 14ms/step - loss: 5.7862 - mae: 5.7862\n",
      "Epoch 315/500\n",
      "2/2 [==============================] - 0s 6ms/step - loss: 24.9431 - mae: 24.9431\n",
      "Epoch 316/500\n",
      "2/2 [==============================] - 0s 6ms/step - loss: 14.1560 - mae: 14.1560\n",
      "Epoch 317/500\n",
      "2/2 [==============================] - 0s 6ms/step - loss: 19.5942 - mae: 19.5942\n",
      "Epoch 318/500\n",
      "2/2 [==============================] - 0s 7ms/step - loss: 7.8528 - mae: 7.8528\n",
      "Epoch 319/500\n",
      "2/2 [==============================] - 0s 15ms/step - loss: 17.7834 - mae: 17.7834\n",
      "Epoch 320/500\n",
      "2/2 [==============================] - 0s 8ms/step - loss: 10.1065 - mae: 10.1065\n",
      "Epoch 321/500\n",
      "2/2 [==============================] - 0s 6ms/step - loss: 8.2219 - mae: 8.2219\n",
      "Epoch 322/500\n",
      "2/2 [==============================] - 0s 6ms/step - loss: 4.2492 - mae: 4.2492\n",
      "Epoch 323/500\n",
      "2/2 [==============================] - 0s 14ms/step - loss: 14.6733 - mae: 14.6733\n",
      "Epoch 324/500\n",
      "2/2 [==============================] - 0s 5ms/step - loss: 18.8595 - mae: 18.8595\n",
      "Epoch 325/500\n",
      "2/2 [==============================] - 0s 9ms/step - loss: 17.6264 - mae: 17.6264\n",
      "Epoch 326/500\n",
      "2/2 [==============================] - 0s 4ms/step - loss: 23.9715 - mae: 23.9715\n",
      "Epoch 327/500\n",
      "2/2 [==============================] - 0s 7ms/step - loss: 10.2992 - mae: 10.2992\n",
      "Epoch 328/500\n",
      "2/2 [==============================] - 0s 14ms/step - loss: 13.1212 - mae: 13.1212\n",
      "Epoch 329/500\n",
      "2/2 [==============================] - 0s 6ms/step - loss: 15.9791 - mae: 15.9791\n",
      "Epoch 330/500\n",
      "2/2 [==============================] - 0s 6ms/step - loss: 14.3201 - mae: 14.3201\n",
      "Epoch 331/500\n",
      "2/2 [==============================] - 0s 6ms/step - loss: 25.7568 - mae: 25.7568\n",
      "Epoch 332/500\n",
      "2/2 [==============================] - 0s 7ms/step - loss: 17.1789 - mae: 17.1789\n",
      "Epoch 333/500\n",
      "2/2 [==============================] - 0s 6ms/step - loss: 8.4667 - mae: 8.4667\n",
      "Epoch 334/500\n",
      "2/2 [==============================] - 0s 7ms/step - loss: 13.3962 - mae: 13.3962\n",
      "Epoch 335/500\n",
      "2/2 [==============================] - 0s 6ms/step - loss: 13.0584 - mae: 13.0584\n",
      "Epoch 336/500\n",
      "2/2 [==============================] - 0s 6ms/step - loss: 32.5592 - mae: 32.5592\n",
      "Epoch 337/500\n",
      "2/2 [==============================] - 0s 8ms/step - loss: 11.0892 - mae: 11.0892\n",
      "Epoch 338/500\n",
      "2/2 [==============================] - 0s 6ms/step - loss: 20.0610 - mae: 20.0610\n",
      "Epoch 339/500\n",
      "2/2 [==============================] - 0s 6ms/step - loss: 34.0118 - mae: 34.0118\n",
      "Epoch 340/500\n",
      "2/2 [==============================] - 0s 6ms/step - loss: 8.6116 - mae: 8.6116\n",
      "Epoch 341/500\n",
      "2/2 [==============================] - 0s 5ms/step - loss: 21.7277 - mae: 21.7277\n",
      "Epoch 342/500\n",
      "2/2 [==============================] - 0s 5ms/step - loss: 14.0060 - mae: 14.0060\n",
      "Epoch 343/500\n",
      "2/2 [==============================] - 0s 5ms/step - loss: 11.5292 - mae: 11.5292\n",
      "Epoch 344/500\n",
      "2/2 [==============================] - 0s 5ms/step - loss: 10.6426 - mae: 10.6426\n",
      "Epoch 345/500\n",
      "2/2 [==============================] - 0s 4ms/step - loss: 30.8148 - mae: 30.8148\n",
      "Epoch 346/500\n",
      "2/2 [==============================] - 0s 5ms/step - loss: 10.5709 - mae: 10.5709\n",
      "Epoch 347/500\n",
      "2/2 [==============================] - 0s 5ms/step - loss: 25.4249 - mae: 25.4249\n",
      "Epoch 348/500\n",
      "2/2 [==============================] - 0s 5ms/step - loss: 13.6013 - mae: 13.6013\n",
      "Epoch 349/500\n",
      "2/2 [==============================] - 0s 5ms/step - loss: 12.9033 - mae: 12.9033\n",
      "Epoch 350/500\n",
      "2/2 [==============================] - 0s 19ms/step - loss: 15.3444 - mae: 15.3444\n",
      "Epoch 351/500\n",
      "2/2 [==============================] - 0s 5ms/step - loss: 32.8001 - mae: 32.8001\n",
      "Epoch 352/500\n",
      "2/2 [==============================] - 0s 5ms/step - loss: 13.8412 - mae: 13.8412\n",
      "Epoch 353/500\n",
      "2/2 [==============================] - 0s 4ms/step - loss: 17.8136 - mae: 17.8136\n",
      "Epoch 354/500\n",
      "2/2 [==============================] - 0s 4ms/step - loss: 11.3595 - mae: 11.3595\n",
      "Epoch 355/500\n",
      "2/2 [==============================] - 0s 4ms/step - loss: 26.8147 - mae: 26.8147\n",
      "Epoch 356/500\n",
      "2/2 [==============================] - 0s 4ms/step - loss: 9.6734 - mae: 9.6734\n",
      "Epoch 357/500\n",
      "2/2 [==============================] - 0s 13ms/step - loss: 17.0606 - mae: 17.0606\n",
      "Epoch 358/500\n",
      "2/2 [==============================] - 0s 9ms/step - loss: 15.7160 - mae: 15.7160\n",
      "Epoch 359/500\n",
      "2/2 [==============================] - 0s 6ms/step - loss: 11.6983 - mae: 11.6983\n",
      "Epoch 360/500\n",
      "2/2 [==============================] - 0s 8ms/step - loss: 20.2649 - mae: 20.2649\n",
      "Epoch 361/500\n",
      "2/2 [==============================] - 0s 7ms/step - loss: 11.0082 - mae: 11.0082\n",
      "Epoch 362/500\n",
      "2/2 [==============================] - 0s 7ms/step - loss: 6.7947 - mae: 6.7947\n",
      "Epoch 363/500\n",
      "2/2 [==============================] - 0s 6ms/step - loss: 24.0157 - mae: 24.0157\n",
      "Epoch 364/500\n",
      "2/2 [==============================] - 0s 10ms/step - loss: 29.7818 - mae: 29.7818\n",
      "Epoch 365/500\n",
      "2/2 [==============================] - 0s 5ms/step - loss: 8.3343 - mae: 8.3343\n",
      "Epoch 366/500\n",
      "2/2 [==============================] - 0s 6ms/step - loss: 6.0681 - mae: 6.0681\n",
      "Epoch 367/500\n",
      "2/2 [==============================] - 0s 11ms/step - loss: 34.9709 - mae: 34.9709\n",
      "Epoch 368/500\n",
      "2/2 [==============================] - 0s 7ms/step - loss: 7.3928 - mae: 7.3928\n",
      "Epoch 369/500\n",
      "2/2 [==============================] - 0s 8ms/step - loss: 9.2270 - mae: 9.2270\n",
      "Epoch 370/500\n",
      "2/2 [==============================] - 0s 6ms/step - loss: 10.9471 - mae: 10.9471\n",
      "Epoch 371/500\n",
      "2/2 [==============================] - 0s 7ms/step - loss: 9.0090 - mae: 9.0090\n",
      "Epoch 372/500\n",
      "2/2 [==============================] - 0s 6ms/step - loss: 7.6731 - mae: 7.6731\n",
      "Epoch 373/500\n",
      "2/2 [==============================] - 0s 7ms/step - loss: 25.0239 - mae: 25.0239\n",
      "Epoch 374/500\n",
      "2/2 [==============================] - 0s 6ms/step - loss: 13.2947 - mae: 13.2947\n",
      "Epoch 375/500\n",
      "2/2 [==============================] - 0s 6ms/step - loss: 11.8169 - mae: 11.8169\n",
      "Epoch 376/500\n",
      "2/2 [==============================] - 0s 6ms/step - loss: 14.1006 - mae: 14.1006\n",
      "Epoch 377/500\n",
      "2/2 [==============================] - 0s 6ms/step - loss: 15.6807 - mae: 15.6807\n",
      "Epoch 378/500\n",
      "2/2 [==============================] - 0s 7ms/step - loss: 16.9866 - mae: 16.9866\n",
      "Epoch 379/500\n",
      "2/2 [==============================] - 0s 5ms/step - loss: 19.4946 - mae: 19.4946\n",
      "Epoch 380/500\n",
      "2/2 [==============================] - 0s 5ms/step - loss: 15.8564 - mae: 15.8564\n",
      "Epoch 381/500\n",
      "2/2 [==============================] - 0s 5ms/step - loss: 11.4189 - mae: 11.4189\n",
      "Epoch 382/500\n",
      "2/2 [==============================] - 0s 5ms/step - loss: 16.3027 - mae: 16.3027\n",
      "Epoch 383/500\n",
      "2/2 [==============================] - 0s 6ms/step - loss: 22.0436 - mae: 22.0436\n",
      "Epoch 384/500\n",
      "2/2 [==============================] - 0s 5ms/step - loss: 7.7849 - mae: 7.7849\n",
      "Epoch 385/500\n",
      "2/2 [==============================] - 0s 5ms/step - loss: 10.5703 - mae: 10.5703\n",
      "Epoch 386/500\n",
      "2/2 [==============================] - 0s 5ms/step - loss: 19.0205 - mae: 19.0205\n",
      "Epoch 387/500\n",
      "2/2 [==============================] - 0s 5ms/step - loss: 15.4082 - mae: 15.4082\n",
      "Epoch 388/500\n",
      "2/2 [==============================] - 0s 6ms/step - loss: 5.8735 - mae: 5.8735\n",
      "Epoch 389/500\n",
      "2/2 [==============================] - 0s 5ms/step - loss: 18.0343 - mae: 18.0343\n",
      "Epoch 390/500\n",
      "2/2 [==============================] - 0s 5ms/step - loss: 24.7849 - mae: 24.7849\n",
      "Epoch 391/500\n",
      "2/2 [==============================] - 0s 5ms/step - loss: 16.4650 - mae: 16.4650\n",
      "Epoch 392/500\n",
      "2/2 [==============================] - 0s 5ms/step - loss: 8.3688 - mae: 8.3688\n",
      "Epoch 393/500\n",
      "2/2 [==============================] - 0s 5ms/step - loss: 18.1459 - mae: 18.1459\n",
      "Epoch 394/500\n",
      "2/2 [==============================] - 0s 5ms/step - loss: 14.1946 - mae: 14.1946\n",
      "Epoch 395/500\n",
      "2/2 [==============================] - 0s 5ms/step - loss: 28.6796 - mae: 28.6796\n",
      "Epoch 396/500\n",
      "2/2 [==============================] - 0s 5ms/step - loss: 8.1554 - mae: 8.1554\n",
      "Epoch 397/500\n",
      "2/2 [==============================] - 0s 5ms/step - loss: 10.4900 - mae: 10.4900\n",
      "Epoch 398/500\n",
      "2/2 [==============================] - 0s 5ms/step - loss: 7.3410 - mae: 7.3410\n",
      "Epoch 399/500\n",
      "2/2 [==============================] - 0s 5ms/step - loss: 15.6127 - mae: 15.6127\n",
      "Epoch 400/500\n",
      "2/2 [==============================] - 0s 5ms/step - loss: 6.6948 - mae: 6.6948\n",
      "Epoch 401/500\n",
      "2/2 [==============================] - 0s 5ms/step - loss: 7.9966 - mae: 7.9966\n",
      "Epoch 402/500\n",
      "2/2 [==============================] - 0s 8ms/step - loss: 16.4584 - mae: 16.4584\n",
      "Epoch 403/500\n",
      "2/2 [==============================] - 0s 5ms/step - loss: 12.3288 - mae: 12.3288\n",
      "Epoch 404/500\n",
      "2/2 [==============================] - 0s 5ms/step - loss: 22.9097 - mae: 22.9097\n",
      "Epoch 405/500\n",
      "2/2 [==============================] - 0s 6ms/step - loss: 18.1506 - mae: 18.1506\n",
      "Epoch 406/500\n",
      "2/2 [==============================] - 0s 5ms/step - loss: 7.0359 - mae: 7.0359\n",
      "Epoch 407/500\n",
      "2/2 [==============================] - 0s 5ms/step - loss: 12.6752 - mae: 12.6752\n",
      "Epoch 408/500\n",
      "2/2 [==============================] - 0s 5ms/step - loss: 5.6373 - mae: 5.6373\n",
      "Epoch 409/500\n",
      "2/2 [==============================] - 0s 18ms/step - loss: 31.3305 - mae: 31.3305\n",
      "Epoch 410/500\n",
      "2/2 [==============================] - 0s 12ms/step - loss: 9.2128 - mae: 9.2128\n",
      "Epoch 411/500\n",
      "2/2 [==============================] - 0s 14ms/step - loss: 14.8438 - mae: 14.8438\n",
      "Epoch 412/500\n",
      "2/2 [==============================] - 0s 9ms/step - loss: 21.7129 - mae: 21.7129\n",
      "Epoch 413/500\n",
      "2/2 [==============================] - 0s 10ms/step - loss: 12.6504 - mae: 12.6504\n",
      "Epoch 414/500\n",
      "2/2 [==============================] - 0s 10ms/step - loss: 6.0155 - mae: 6.0155\n",
      "Epoch 415/500\n",
      "2/2 [==============================] - 0s 6ms/step - loss: 13.2160 - mae: 13.2160\n",
      "Epoch 416/500\n",
      "2/2 [==============================] - 0s 10ms/step - loss: 27.4171 - mae: 27.4171\n",
      "Epoch 417/500\n",
      "2/2 [==============================] - 0s 10ms/step - loss: 10.6605 - mae: 10.6605\n",
      "Epoch 418/500\n",
      "2/2 [==============================] - 0s 12ms/step - loss: 12.8008 - mae: 12.8008\n",
      "Epoch 419/500\n",
      "2/2 [==============================] - 0s 9ms/step - loss: 15.8545 - mae: 15.8545\n",
      "Epoch 420/500\n",
      "2/2 [==============================] - 0s 10ms/step - loss: 24.7233 - mae: 24.7233\n",
      "Epoch 421/500\n",
      "2/2 [==============================] - 0s 10ms/step - loss: 17.5457 - mae: 17.5457\n",
      "Epoch 422/500\n",
      "2/2 [==============================] - 0s 9ms/step - loss: 8.6807 - mae: 8.6807\n",
      "Epoch 423/500\n",
      "2/2 [==============================] - 0s 10ms/step - loss: 24.9088 - mae: 24.9088\n",
      "Epoch 424/500\n",
      "2/2 [==============================] - 0s 10ms/step - loss: 16.2638 - mae: 16.2638\n",
      "Epoch 425/500\n",
      "2/2 [==============================] - 0s 10ms/step - loss: 7.1129 - mae: 7.1129\n",
      "Epoch 426/500\n",
      "2/2 [==============================] - 0s 11ms/step - loss: 20.3724 - mae: 20.3724\n",
      "Epoch 427/500\n",
      "2/2 [==============================] - 0s 9ms/step - loss: 6.2868 - mae: 6.2868\n",
      "Epoch 428/500\n",
      "2/2 [==============================] - 0s 9ms/step - loss: 13.0439 - mae: 13.0439\n",
      "Epoch 429/500\n",
      "2/2 [==============================] - 0s 10ms/step - loss: 10.8260 - mae: 10.8260\n",
      "Epoch 430/500\n",
      "2/2 [==============================] - 0s 10ms/step - loss: 11.6891 - mae: 11.6891\n",
      "Epoch 431/500\n",
      "2/2 [==============================] - 0s 9ms/step - loss: 7.8643 - mae: 7.8643\n",
      "Epoch 432/500\n",
      "2/2 [==============================] - 0s 8ms/step - loss: 22.0994 - mae: 22.0994\n",
      "Epoch 433/500\n",
      "2/2 [==============================] - 0s 4ms/step - loss: 6.9668 - mae: 6.9668\n",
      "Epoch 434/500\n",
      "2/2 [==============================] - 0s 7ms/step - loss: 32.0142 - mae: 32.0142\n",
      "Epoch 435/500\n",
      "2/2 [==============================] - 0s 6ms/step - loss: 13.0329 - mae: 13.0329\n",
      "Epoch 436/500\n",
      "2/2 [==============================] - 0s 8ms/step - loss: 28.1885 - mae: 28.1885\n",
      "Epoch 437/500\n",
      "2/2 [==============================] - 0s 15ms/step - loss: 3.8285 - mae: 3.8285\n",
      "Epoch 438/500\n",
      "2/2 [==============================] - 0s 4ms/step - loss: 15.0623 - mae: 15.0623\n",
      "Epoch 439/500\n",
      "2/2 [==============================] - 0s 5ms/step - loss: 45.7572 - mae: 45.7572\n",
      "Epoch 440/500\n",
      "2/2 [==============================] - 0s 30ms/step - loss: 26.0096 - mae: 26.0096\n",
      "Epoch 441/500\n",
      "2/2 [==============================] - 0s 6ms/step - loss: 5.8771 - mae: 5.8771\n",
      "Epoch 442/500\n",
      "2/2 [==============================] - 0s 9ms/step - loss: 23.1915 - mae: 23.1915\n",
      "Epoch 443/500\n",
      "2/2 [==============================] - 0s 7ms/step - loss: 6.8763 - mae: 6.8763\n",
      "Epoch 444/500\n",
      "2/2 [==============================] - 0s 13ms/step - loss: 20.8042 - mae: 20.8042\n",
      "Epoch 445/500\n",
      "2/2 [==============================] - 0s 7ms/step - loss: 13.7641 - mae: 13.7641\n",
      "Epoch 446/500\n",
      "2/2 [==============================] - 0s 6ms/step - loss: 16.3267 - mae: 16.3267\n",
      "Epoch 447/500\n",
      "2/2 [==============================] - 0s 13ms/step - loss: 8.0447 - mae: 8.0447\n",
      "Epoch 448/500\n",
      "2/2 [==============================] - 0s 7ms/step - loss: 13.2378 - mae: 13.2378\n",
      "Epoch 449/500\n",
      "2/2 [==============================] - 0s 6ms/step - loss: 15.9871 - mae: 15.9871\n",
      "Epoch 450/500\n",
      "2/2 [==============================] - 0s 8ms/step - loss: 16.9517 - mae: 16.9517\n",
      "Epoch 451/500\n",
      "2/2 [==============================] - 0s 7ms/step - loss: 14.3528 - mae: 14.3528\n",
      "Epoch 452/500\n",
      "2/2 [==============================] - 0s 8ms/step - loss: 30.7787 - mae: 30.7787\n",
      "Epoch 453/500\n",
      "2/2 [==============================] - 0s 7ms/step - loss: 9.0862 - mae: 9.0862\n",
      "Epoch 454/500\n",
      "2/2 [==============================] - 0s 29ms/step - loss: 27.1266 - mae: 27.1266\n",
      "Epoch 455/500\n",
      "2/2 [==============================] - 0s 5ms/step - loss: 11.5826 - mae: 11.5826\n",
      "Epoch 456/500\n",
      "2/2 [==============================] - 0s 5ms/step - loss: 15.5873 - mae: 15.5873\n",
      "Epoch 457/500\n",
      "2/2 [==============================] - 0s 5ms/step - loss: 19.1944 - mae: 19.1944\n",
      "Epoch 458/500\n",
      "2/2 [==============================] - 0s 7ms/step - loss: 23.2056 - mae: 23.2056\n",
      "Epoch 459/500\n",
      "2/2 [==============================] - 0s 6ms/step - loss: 16.6345 - mae: 16.6345\n",
      "Epoch 460/500\n",
      "2/2 [==============================] - 0s 6ms/step - loss: 7.3853 - mae: 7.3853\n",
      "Epoch 461/500\n",
      "2/2 [==============================] - 0s 6ms/step - loss: 15.5568 - mae: 15.5568\n",
      "Epoch 462/500\n",
      "2/2 [==============================] - 0s 6ms/step - loss: 15.2323 - mae: 15.2323\n",
      "Epoch 463/500\n",
      "2/2 [==============================] - 0s 8ms/step - loss: 16.8931 - mae: 16.8931\n",
      "Epoch 464/500\n",
      "2/2 [==============================] - 0s 6ms/step - loss: 11.2761 - mae: 11.2761\n",
      "Epoch 465/500\n",
      "2/2 [==============================] - 0s 8ms/step - loss: 21.6528 - mae: 21.6528\n",
      "Epoch 466/500\n",
      "2/2 [==============================] - 0s 5ms/step - loss: 24.7561 - mae: 24.7561\n",
      "Epoch 467/500\n",
      "2/2 [==============================] - 0s 5ms/step - loss: 14.6288 - mae: 14.6288\n",
      "Epoch 468/500\n",
      "2/2 [==============================] - 0s 5ms/step - loss: 10.3950 - mae: 10.3950\n",
      "Epoch 469/500\n",
      "2/2 [==============================] - 0s 5ms/step - loss: 27.4459 - mae: 27.4459\n",
      "Epoch 470/500\n",
      "2/2 [==============================] - 0s 7ms/step - loss: 12.2752 - mae: 12.2752\n",
      "Epoch 471/500\n",
      "2/2 [==============================] - 0s 5ms/step - loss: 11.8464 - mae: 11.8464\n",
      "Epoch 472/500\n",
      "2/2 [==============================] - 0s 5ms/step - loss: 15.5739 - mae: 15.5739\n",
      "Epoch 473/500\n",
      "2/2 [==============================] - 0s 5ms/step - loss: 15.6283 - mae: 15.6283\n",
      "Epoch 474/500\n",
      "2/2 [==============================] - 0s 5ms/step - loss: 19.9845 - mae: 19.9845\n",
      "Epoch 475/500\n",
      "2/2 [==============================] - 0s 5ms/step - loss: 5.5943 - mae: 5.5943\n",
      "Epoch 476/500\n",
      "2/2 [==============================] - 0s 5ms/step - loss: 13.0558 - mae: 13.0558\n",
      "Epoch 477/500\n",
      "2/2 [==============================] - 0s 5ms/step - loss: 28.9844 - mae: 28.9844\n",
      "Epoch 478/500\n",
      "2/2 [==============================] - 0s 5ms/step - loss: 6.1732 - mae: 6.1732\n",
      "Epoch 479/500\n",
      "2/2 [==============================] - 0s 16ms/step - loss: 4.2498 - mae: 4.2498\n",
      "Epoch 480/500\n",
      "2/2 [==============================] - 0s 5ms/step - loss: 21.4221 - mae: 21.4221\n",
      "Epoch 481/500\n",
      "2/2 [==============================] - 0s 5ms/step - loss: 22.0471 - mae: 22.0471\n",
      "Epoch 482/500\n",
      "2/2 [==============================] - 0s 5ms/step - loss: 11.1633 - mae: 11.1633\n",
      "Epoch 483/500\n",
      "2/2 [==============================] - 0s 5ms/step - loss: 5.2563 - mae: 5.2563\n",
      "Epoch 484/500\n",
      "2/2 [==============================] - 0s 5ms/step - loss: 30.3119 - mae: 30.3119\n",
      "Epoch 485/500\n",
      "2/2 [==============================] - 0s 5ms/step - loss: 8.6030 - mae: 8.6030\n",
      "Epoch 486/500\n",
      "2/2 [==============================] - 0s 5ms/step - loss: 18.8292 - mae: 18.8292\n",
      "Epoch 487/500\n",
      "2/2 [==============================] - 0s 5ms/step - loss: 13.5483 - mae: 13.5483\n",
      "Epoch 488/500\n",
      "2/2 [==============================] - 0s 5ms/step - loss: 10.6331 - mae: 10.6331\n",
      "Epoch 489/500\n",
      "2/2 [==============================] - 0s 5ms/step - loss: 16.0706 - mae: 16.0706\n",
      "Epoch 490/500\n",
      "2/2 [==============================] - 0s 5ms/step - loss: 14.2790 - mae: 14.2790\n",
      "Epoch 491/500\n",
      "2/2 [==============================] - 0s 5ms/step - loss: 26.3704 - mae: 26.3704\n",
      "Epoch 492/500\n",
      "2/2 [==============================] - 0s 5ms/step - loss: 13.7582 - mae: 13.7582\n",
      "Epoch 493/500\n",
      "2/2 [==============================] - 0s 5ms/step - loss: 10.3645 - mae: 10.3645\n",
      "Epoch 494/500\n",
      "2/2 [==============================] - 0s 14ms/step - loss: 12.9276 - mae: 12.9276\n",
      "Epoch 495/500\n",
      "2/2 [==============================] - 0s 7ms/step - loss: 13.9231 - mae: 13.9231\n",
      "Epoch 496/500\n",
      "2/2 [==============================] - 0s 7ms/step - loss: 12.1712 - mae: 12.1712\n",
      "Epoch 497/500\n",
      "2/2 [==============================] - 0s 19ms/step - loss: 17.2575 - mae: 17.2575\n",
      "Epoch 498/500\n",
      "2/2 [==============================] - 0s 13ms/step - loss: 24.3594 - mae: 24.3594\n",
      "Epoch 499/500\n",
      "2/2 [==============================] - 0s 10ms/step - loss: 10.0304 - mae: 10.0304\n",
      "Epoch 500/500\n",
      "2/2 [==============================] - 0s 7ms/step - loss: 14.5428 - mae: 14.5428\n"
     ]
    },
    {
     "data": {
      "text/plain": "<keras.callbacks.History at 0x7fd64b3c6f90>"
     },
     "execution_count": 75,
     "metadata": {},
     "output_type": "execute_result"
    }
   ],
   "source": [
    "# Set the random seed\n",
    "tf.random.set_seed(42)\n",
    "\n",
    "# 1. Create the model\n",
    "model_3 = tf.keras.Sequential([\n",
    "    tf.keras.layers.Dense(10),\n",
    "    tf.keras.layers.Dense(1)\n",
    "])\n",
    "\n",
    "# 2. Compile the model\n",
    "model_3.compile(loss=tf.keras.losses.mae,\n",
    "                optimizer=tf.keras.optimizers.SGD(),\n",
    "                metrics=[\"mae\"])\n",
    "\n",
    "# 3. Fit the model\n",
    "model_3.fit(tf.expand_dims(X_train, axis=-1), y_train, epochs=500)"
   ],
   "metadata": {
    "collapsed": false,
    "ExecuteTime": {
     "end_time": "2023-09-29T14:04:50.701444405Z",
     "start_time": "2023-09-29T14:04:38.165096238Z"
    }
   },
   "id": "63aa0519b7419682"
  },
  {
   "cell_type": "code",
   "execution_count": 76,
   "outputs": [
    {
     "name": "stdout",
     "output_type": "stream",
     "text": [
      "1/1 [==============================] - 0s 41ms/step\n"
     ]
    },
    {
     "data": {
      "text/plain": "<Figure size 1000x700 with 1 Axes>",
      "image/png": "[encoded data removed]"
     },
     "metadata": {},
     "output_type": "display_data"
    }
   ],
   "source": [
    "# Make and plot some predictions\n",
    "y_preds_3 = model_3.predict(X_test)\n",
    "plot_predictions(predictions=y_preds_3)"
   ],
   "metadata": {
    "collapsed": false,
    "ExecuteTime": {
     "end_time": "2023-09-29T14:05:00.047201888Z",
     "start_time": "2023-09-29T14:04:59.672531266Z"
    }
   },
   "id": "14874d471dd92dec"
  },
  {
   "cell_type": "code",
   "execution_count": 77,
   "outputs": [
    {
     "data": {
      "text/plain": "(<tf.Tensor: shape=(), dtype=float32, numpy=68.412704>,\n <tf.Tensor: shape=(), dtype=float32, numpy=4766.0625>)"
     },
     "execution_count": 77,
     "metadata": {},
     "output_type": "execute_result"
    }
   ],
   "source": [
    "# Calculate model_3 evaluation metrics\n",
    "mae_3 = mae(y_test, y_preds_3)\n",
    "mse_3 = mse(y_test, y_preds_3)\n",
    "mae_3, mse_3"
   ],
   "metadata": {
    "collapsed": false,
    "ExecuteTime": {
     "end_time": "2023-09-29T14:05:04.609526432Z",
     "start_time": "2023-09-29T14:05:04.571713655Z"
    }
   },
   "id": "a1bdb91d97ceeb7a"
  },
  {
   "cell_type": "markdown",
   "source": [
    "## Comparing the results of our experiments"
   ],
   "metadata": {
    "collapsed": false
   },
   "id": "f99513fbb95360d4"
  },
  {
   "cell_type": "code",
   "execution_count": null,
   "outputs": [],
   "source": [],
   "metadata": {
    "collapsed": false
   },
   "id": "307fb19b0e82e4c6"
  }
 ],
 "metadata": {
  "kernelspec": {
   "display_name": "Python 3",
   "language": "python",
   "name": "python3"
  },
  "language_info": {
   "codemirror_mode": {
    "name": "ipython",
    "version": 2
   },
   "file_extension": ".py",
   "mimetype": "text/x-python",
   "name": "python",
   "nbconvert_exporter": "python",
   "pygments_lexer": "ipython2",
   "version": "2.7.6"
  }
 },
 "nbformat": 4,
 "nbformat_minor": 5
}
