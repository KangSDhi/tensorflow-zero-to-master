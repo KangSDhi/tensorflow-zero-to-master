{
 "cells": [
  {
   "cell_type": "markdown",
   "source": [
    "# Introduction to Regression with Neural Networks in TensorFlow\n",
    "\n",
    "There are many definitions for regression problem but in our case, we're going to simplify it: predicting a numerical variable based on some other combination of variables, even shorther... predicting a number."
   ],
   "metadata": {
    "collapsed": false
   },
   "id": "6ebb1111b9c93791"
  },
  {
   "cell_type": "code",
   "execution_count": 83,
   "outputs": [
    {
     "name": "stdout",
     "output_type": "stream",
     "text": [
      "2.12.0\n"
     ]
    }
   ],
   "source": [
    "# Import TensorFlow\n",
    "import tensorflow as tf\n",
    "print(tf.__version__)"
   ],
   "metadata": {
    "collapsed": false,
    "ExecuteTime": {
     "end_time": "2023-09-29T14:22:01.343946183Z",
     "start_time": "2023-09-29T14:22:01.306818458Z"
    }
   },
   "id": "d4e5f09eca05ca59"
  },
  {
   "cell_type": "markdown",
   "source": [
    "## Creating data to view and fit"
   ],
   "metadata": {
    "collapsed": false
   },
   "id": "8407fe85818d8aac"
  },
  {
   "cell_type": "code",
   "execution_count": 84,
   "outputs": [
    {
     "data": {
      "text/plain": "<matplotlib.collections.PathCollection at 0x7fd62c0d9910>"
     },
     "execution_count": 84,
     "metadata": {},
     "output_type": "execute_result"
    },
    {
     "data": {
      "text/plain": "<Figure size 640x480 with 1 Axes>",
      "image/png": "[encoded data removed]"
     },
     "metadata": {},
     "output_type": "display_data"
    }
   ],
   "source": [
    "import numpy as np\n",
    "import matplotlib.pyplot as plt\n",
    "\n",
    "# Create features\n",
    "X = np.array([-7.0, -4.0, -1.0, 2.0, 5.0, 8.0, 11.0, 14.0])\n",
    "\n",
    "# Create labels\n",
    "y = np.array([3.0, 6.0, 9.0, 12.0, 15.0, 18.0, 21.0, 24.0])\n",
    "\n",
    "# Visualize it\n",
    "plt.scatter(X, y)"
   ],
   "metadata": {
    "collapsed": false,
    "ExecuteTime": {
     "end_time": "2023-09-29T14:22:03.838546907Z",
     "start_time": "2023-09-29T14:22:03.600921802Z"
    }
   },
   "id": "135387d48040aa65"
  },
  {
   "cell_type": "code",
   "execution_count": 85,
   "outputs": [
    {
     "data": {
      "text/plain": "array([ True,  True,  True,  True,  True,  True,  True,  True])"
     },
     "execution_count": 85,
     "metadata": {},
     "output_type": "execute_result"
    }
   ],
   "source": [
    "y == X + 10"
   ],
   "metadata": {
    "collapsed": false,
    "ExecuteTime": {
     "end_time": "2023-09-29T14:22:05.038159139Z",
     "start_time": "2023-09-29T14:22:04.998608985Z"
    }
   },
   "id": "35d94d5b061cfa67"
  },
  {
   "cell_type": "markdown",
   "source": [
    "## Input and output shapes"
   ],
   "metadata": {
    "collapsed": false
   },
   "id": "420b161819373fbe"
  },
  {
   "cell_type": "code",
   "execution_count": 86,
   "outputs": [
    {
     "data": {
      "text/plain": "(<tf.Tensor: shape=(3,), dtype=string, numpy=array([b'bedroom', b'bathroom', b'garage'], dtype=object)>,\n <tf.Tensor: shape=(1,), dtype=int32, numpy=array([939700], dtype=int32)>)"
     },
     "execution_count": 86,
     "metadata": {},
     "output_type": "execute_result"
    }
   ],
   "source": [
    "# Create a demo tensor for our housing price prediction problem\n",
    "house_info = tf.constant([\"bedroom\", \"bathroom\", \"garage\"])\n",
    "house_price = tf.constant([939700])\n",
    "house_info, house_price"
   ],
   "metadata": {
    "collapsed": false,
    "ExecuteTime": {
     "end_time": "2023-09-29T14:22:13.477636272Z",
     "start_time": "2023-09-29T14:22:13.425953135Z"
    }
   },
   "id": "f6848417caa4070a"
  },
  {
   "cell_type": "code",
   "execution_count": 87,
   "outputs": [
    {
     "data": {
      "text/plain": "(-7.0, 3.0)"
     },
     "execution_count": 87,
     "metadata": {},
     "output_type": "execute_result"
    }
   ],
   "source": [
    "X[0], y[0]"
   ],
   "metadata": {
    "collapsed": false,
    "ExecuteTime": {
     "end_time": "2023-09-29T14:22:14.556394243Z",
     "start_time": "2023-09-29T14:22:14.507646797Z"
    }
   },
   "id": "2af8bcb603f84f47"
  },
  {
   "cell_type": "code",
   "execution_count": 88,
   "outputs": [
    {
     "data": {
      "text/plain": "(-4.0, 6.0)"
     },
     "execution_count": 88,
     "metadata": {},
     "output_type": "execute_result"
    }
   ],
   "source": [
    "X[1], y[1]"
   ],
   "metadata": {
    "collapsed": false,
    "ExecuteTime": {
     "end_time": "2023-09-29T14:22:15.351679478Z",
     "start_time": "2023-09-29T14:22:15.314388802Z"
    }
   },
   "id": "abfb4fe2f54c9ccd"
  },
  {
   "cell_type": "code",
   "execution_count": 89,
   "outputs": [
    {
     "data": {
      "text/plain": "((), ())"
     },
     "execution_count": 89,
     "metadata": {},
     "output_type": "execute_result"
    }
   ],
   "source": [
    "input_shape = X[0].shape\n",
    "output_shape = y[0].shape\n",
    "input_shape, output_shape"
   ],
   "metadata": {
    "collapsed": false,
    "ExecuteTime": {
     "end_time": "2023-09-29T14:22:16.371418299Z",
     "start_time": "2023-09-29T14:22:16.250500639Z"
    }
   },
   "id": "7ae73a2555815544"
  },
  {
   "cell_type": "code",
   "execution_count": 90,
   "outputs": [
    {
     "data": {
      "text/plain": "0"
     },
     "execution_count": 90,
     "metadata": {},
     "output_type": "execute_result"
    }
   ],
   "source": [
    "X[0].ndim"
   ],
   "metadata": {
    "collapsed": false,
    "ExecuteTime": {
     "end_time": "2023-09-29T14:22:17.324501844Z",
     "start_time": "2023-09-29T14:22:17.291828621Z"
    }
   },
   "id": "8a2ef4c080258f67"
  },
  {
   "cell_type": "code",
   "execution_count": 91,
   "outputs": [
    {
     "data": {
      "text/plain": "(-7.0, 3.0)"
     },
     "execution_count": 91,
     "metadata": {},
     "output_type": "execute_result"
    }
   ],
   "source": [
    "X[0], y[0]"
   ],
   "metadata": {
    "collapsed": false,
    "ExecuteTime": {
     "end_time": "2023-09-29T14:22:18.277402517Z",
     "start_time": "2023-09-29T14:22:18.246168357Z"
    }
   },
   "id": "8dfe9ccbe865992c"
  },
  {
   "cell_type": "code",
   "execution_count": 92,
   "outputs": [
    {
     "data": {
      "text/plain": "(<tf.Tensor: shape=(8,), dtype=float32, numpy=array([-7., -4., -1.,  2.,  5.,  8., 11., 14.], dtype=float32)>,\n <tf.Tensor: shape=(8,), dtype=float32, numpy=array([ 3.,  6.,  9., 12., 15., 18., 21., 24.], dtype=float32)>)"
     },
     "execution_count": 92,
     "metadata": {},
     "output_type": "execute_result"
    }
   ],
   "source": [
    "# Turn our NumPy arrays into tensors with dtype float32\n",
    "X = tf.cast(tf.constant(X), dtype=tf.float32)\n",
    "y = tf.cast(tf.constant(y), dtype=tf.float32)\n",
    "X, y"
   ],
   "metadata": {
    "collapsed": false,
    "ExecuteTime": {
     "end_time": "2023-09-29T14:22:18.977267014Z",
     "start_time": "2023-09-29T14:22:18.948526539Z"
    }
   },
   "id": "77e963d826e1c5ee"
  },
  {
   "cell_type": "code",
   "execution_count": 93,
   "outputs": [
    {
     "data": {
      "text/plain": "(TensorShape([]), TensorShape([]))"
     },
     "execution_count": 93,
     "metadata": {},
     "output_type": "execute_result"
    }
   ],
   "source": [
    "input_shape = X[0].shape\n",
    "output_shape = y[0].shape\n",
    "input_shape, output_shape"
   ],
   "metadata": {
    "collapsed": false,
    "ExecuteTime": {
     "end_time": "2023-09-29T14:22:19.708365037Z",
     "start_time": "2023-09-29T14:22:19.679029657Z"
    }
   },
   "id": "14e27954e5032236"
  },
  {
   "cell_type": "code",
   "execution_count": 94,
   "outputs": [
    {
     "data": {
      "text/plain": "<matplotlib.collections.PathCollection at 0x7fd64b4022d0>"
     },
     "execution_count": 94,
     "metadata": {},
     "output_type": "execute_result"
    },
    {
     "data": {
      "text/plain": "<Figure size 640x480 with 1 Axes>",
      "image/png": "[encoded data removed]"
     },
     "metadata": {},
     "output_type": "display_data"
    }
   ],
   "source": [
    "plt.scatter(X, y)"
   ],
   "metadata": {
    "collapsed": false,
    "ExecuteTime": {
     "end_time": "2023-09-29T14:22:20.753074264Z",
     "start_time": "2023-09-29T14:22:20.567554771Z"
    }
   },
   "id": "e697df78c938eedc"
  },
  {
   "cell_type": "markdown",
   "source": [
    "## Steps in modeling with TensorFlow\n",
    "\n",
    "1. **Creating a model** - define the input and output layers, as well as the hidden layers of a deep learning model.\n",
    "2. **Compiling a model** - define the loss function (in other words, the function which tells our model how wrong it is) and the optimizer (tells our model how to improve the patterns its learning) and evaluation metrics (what we can use to interpret the performance our model).\n",
    "3. **Fitting a model** - letting the model try to find patterns between X & y (features and labels)."
   ],
   "metadata": {
    "collapsed": false
   },
   "id": "e9796f121f9b42fe"
  },
  {
   "cell_type": "code",
   "execution_count": 95,
   "outputs": [],
   "source": [
    "# # Optionally, the first layer can receive an `input_shape` argument:\n",
    "# model = tf.keras.Sequential()\n",
    "# model.add(tf.keras.layers.Dense(8, input_shape=(16,)))\n",
    "# # Afterwards, we do automatic shape inference:\n",
    "# model.add(tf.keras.layers.Dense(4))\n",
    "# \n",
    "# model = tf.keras.Sequential()\n",
    "# model.add(tf.keras.layers.Dense(8, input_shape=(16, )))\n",
    "# ...\n",
    "# \n",
    "# model = tf.keras.Sequential()\n",
    "# model.add(tf.keras.layers.Dense(1))"
   ],
   "metadata": {
    "collapsed": false,
    "ExecuteTime": {
     "end_time": "2023-09-29T14:22:22.930520464Z",
     "start_time": "2023-09-29T14:22:22.784147023Z"
    }
   },
   "id": "e65f811a3ad5e9e1"
  },
  {
   "cell_type": "code",
   "execution_count": 96,
   "outputs": [
    {
     "name": "stdout",
     "output_type": "stream",
     "text": [
      "Epoch 1/5\n",
      "1/1 [==============================] - 0s 222ms/step - loss: 15.3344 - mae: 15.3344\n",
      "Epoch 2/5\n",
      "1/1 [==============================] - 0s 3ms/step - loss: 15.0532 - mae: 15.0532\n",
      "Epoch 3/5\n",
      "1/1 [==============================] - 0s 3ms/step - loss: 14.8405 - mae: 14.8405\n",
      "Epoch 4/5\n",
      "1/1 [==============================] - 0s 3ms/step - loss: 14.7080 - mae: 14.7080\n",
      "Epoch 5/5\n",
      "1/1 [==============================] - 0s 3ms/step - loss: 14.5755 - mae: 14.5755\n"
     ]
    },
    {
     "data": {
      "text/plain": "<keras.callbacks.History at 0x7fd60ff5d090>"
     },
     "execution_count": 96,
     "metadata": {},
     "output_type": "execute_result"
    }
   ],
   "source": [
    "# Set random seed\n",
    "tf.random.set_seed(42)\n",
    "\n",
    "# 1. Create a model using the Sequential API\n",
    "model = tf.keras.Sequential([\n",
    "    tf.keras.layers.Dense(1)\n",
    "])\n",
    "\n",
    "# 2. Compile the model\n",
    "model.compile(loss=tf.keras.losses.mae, # mae is short for mean absolute error\n",
    "              optimizer=tf.keras.optimizers.SGD(), # sgd is short for stochstic gradient descent\n",
    "              metrics=[\"mae\"])\n",
    "\n",
    "# 3. Fit the model\n",
    "# model.fit(X, y, epochs=5) # This line will error if you're running TensorFlow 2.7.0+!\n",
    "model.fit(tf.expand_dims(X, axis=-1), y, epochs=5)"
   ],
   "metadata": {
    "collapsed": false,
    "ExecuteTime": {
     "end_time": "2023-09-29T14:22:24.417250755Z",
     "start_time": "2023-09-29T14:22:24.069832345Z"
    }
   },
   "id": "cc71e5f4aac7d8a6"
  },
  {
   "cell_type": "code",
   "execution_count": 97,
   "outputs": [
    {
     "data": {
      "text/plain": "(<tf.Tensor: shape=(8,), dtype=float32, numpy=array([-7., -4., -1.,  2.,  5.,  8., 11., 14.], dtype=float32)>,\n <tf.Tensor: shape=(8,), dtype=float32, numpy=array([ 3.,  6.,  9., 12., 15., 18., 21., 24.], dtype=float32)>)"
     },
     "execution_count": 97,
     "metadata": {},
     "output_type": "execute_result"
    }
   ],
   "source": [
    "# Check out X and y\n",
    "X, y"
   ],
   "metadata": {
    "collapsed": false,
    "ExecuteTime": {
     "end_time": "2023-09-29T14:22:25.971311580Z",
     "start_time": "2023-09-29T14:22:25.912161540Z"
    }
   },
   "id": "b1b4a1c994642378"
  },
  {
   "cell_type": "code",
   "execution_count": 98,
   "outputs": [
    {
     "name": "stdout",
     "output_type": "stream",
     "text": [
      "1/1 [==============================] - 0s 59ms/step\n"
     ]
    },
    {
     "data": {
      "text/plain": "array([[-4.753691]], dtype=float32)"
     },
     "execution_count": 98,
     "metadata": {},
     "output_type": "execute_result"
    }
   ],
   "source": [
    "# Try and make a prediction using our model\n",
    "y_pred = model.predict([17.0])\n",
    "y_pred"
   ],
   "metadata": {
    "collapsed": false,
    "ExecuteTime": {
     "end_time": "2023-09-29T14:22:27.060909006Z",
     "start_time": "2023-09-29T14:22:26.862778165Z"
    }
   },
   "id": "6c9feaa2ed2266c8"
  },
  {
   "cell_type": "code",
   "execution_count": 99,
   "outputs": [
    {
     "data": {
      "text/plain": "array([[4.246309]], dtype=float32)"
     },
     "execution_count": 99,
     "metadata": {},
     "output_type": "execute_result"
    }
   ],
   "source": [
    "y_pred + 9"
   ],
   "metadata": {
    "collapsed": false,
    "ExecuteTime": {
     "end_time": "2023-09-29T14:22:27.573692504Z",
     "start_time": "2023-09-29T14:22:27.498328279Z"
    }
   },
   "id": "6ac8363b8e315b33"
  },
  {
   "cell_type": "markdown",
   "source": [
    "## Improving our model\n",
    "\n",
    "We can improve our model, by altering the steps we took to create a model.\n",
    "\n",
    "1. **Creating a model** - here we might add more layers, increase the number of hidden units (all called neurons) within each of the hidden layers, change the activation function of each layer.\n",
    "2. **Compiling a model** - here we might change the optimization function or perhaps the **learning rate** of the optimization function.\n",
    "3. **Fitting a model** - here we might fit a model for more **epochs** (leave it training for longer) or on more data (give the model more examples to learn from)."
   ],
   "metadata": {
    "collapsed": false
   },
   "id": "ee325f78f13dbc6f"
  },
  {
   "cell_type": "code",
   "execution_count": 100,
   "outputs": [
    {
     "name": "stdout",
     "output_type": "stream",
     "text": [
      "Epoch 1/100\n",
      "1/1 [==============================] - 0s 218ms/step - loss: 12.2535 - mae: 12.2535\n",
      "Epoch 2/100\n",
      "1/1 [==============================] - 0s 3ms/step - loss: 12.1210 - mae: 12.1210\n",
      "Epoch 3/100\n",
      "1/1 [==============================] - 0s 3ms/step - loss: 11.9885 - mae: 11.9885\n",
      "Epoch 4/100\n",
      "1/1 [==============================] - 0s 4ms/step - loss: 11.8560 - mae: 11.8560\n",
      "Epoch 5/100\n",
      "1/1 [==============================] - 0s 4ms/step - loss: 11.7235 - mae: 11.7235\n",
      "Epoch 6/100\n",
      "1/1 [==============================] - 0s 4ms/step - loss: 11.5910 - mae: 11.5910\n",
      "Epoch 7/100\n",
      "1/1 [==============================] - 0s 3ms/step - loss: 11.4585 - mae: 11.4585\n",
      "Epoch 8/100\n",
      "1/1 [==============================] - 0s 3ms/step - loss: 11.3260 - mae: 11.3260\n",
      "Epoch 9/100\n",
      "1/1 [==============================] - 0s 3ms/step - loss: 11.1935 - mae: 11.1935\n",
      "Epoch 10/100\n",
      "1/1 [==============================] - 0s 4ms/step - loss: 11.0610 - mae: 11.0610\n",
      "Epoch 11/100\n",
      "1/1 [==============================] - 0s 4ms/step - loss: 10.9285 - mae: 10.9285\n",
      "Epoch 12/100\n",
      "1/1 [==============================] - 0s 4ms/step - loss: 10.7960 - mae: 10.7960\n",
      "Epoch 13/100\n",
      "1/1 [==============================] - 0s 4ms/step - loss: 10.6635 - mae: 10.6635\n",
      "Epoch 14/100\n",
      "1/1 [==============================] - 0s 3ms/step - loss: 10.5310 - mae: 10.5310\n",
      "Epoch 15/100\n",
      "1/1 [==============================] - 0s 3ms/step - loss: 10.3985 - mae: 10.3985\n",
      "Epoch 16/100\n",
      "1/1 [==============================] - 0s 3ms/step - loss: 10.2660 - mae: 10.2660\n",
      "Epoch 17/100\n",
      "1/1 [==============================] - 0s 4ms/step - loss: 10.1335 - mae: 10.1335\n",
      "Epoch 18/100\n",
      "1/1 [==============================] - 0s 4ms/step - loss: 10.0010 - mae: 10.0010\n",
      "Epoch 19/100\n",
      "1/1 [==============================] - 0s 3ms/step - loss: 9.8685 - mae: 9.8685\n",
      "Epoch 20/100\n",
      "1/1 [==============================] - 0s 3ms/step - loss: 9.7360 - mae: 9.7360\n",
      "Epoch 21/100\n",
      "1/1 [==============================] - 0s 4ms/step - loss: 9.6035 - mae: 9.6035\n",
      "Epoch 22/100\n",
      "1/1 [==============================] - 0s 3ms/step - loss: 9.4710 - mae: 9.4710\n",
      "Epoch 23/100\n",
      "1/1 [==============================] - 0s 3ms/step - loss: 9.3385 - mae: 9.3385\n",
      "Epoch 24/100\n",
      "1/1 [==============================] - 0s 3ms/step - loss: 9.2060 - mae: 9.2060\n",
      "Epoch 25/100\n",
      "1/1 [==============================] - 0s 3ms/step - loss: 9.0735 - mae: 9.0735\n",
      "Epoch 26/100\n",
      "1/1 [==============================] - 0s 3ms/step - loss: 8.9410 - mae: 8.9410\n",
      "Epoch 27/100\n",
      "1/1 [==============================] - 0s 4ms/step - loss: 8.8085 - mae: 8.8085\n",
      "Epoch 28/100\n",
      "1/1 [==============================] - 0s 4ms/step - loss: 8.6760 - mae: 8.6760\n",
      "Epoch 29/100\n",
      "1/1 [==============================] - 0s 3ms/step - loss: 8.5435 - mae: 8.5435\n",
      "Epoch 30/100\n",
      "1/1 [==============================] - 0s 3ms/step - loss: 8.4110 - mae: 8.4110\n",
      "Epoch 31/100\n",
      "1/1 [==============================] - 0s 4ms/step - loss: 8.2785 - mae: 8.2785\n",
      "Epoch 32/100\n",
      "1/1 [==============================] - 0s 4ms/step - loss: 8.1460 - mae: 8.1460\n",
      "Epoch 33/100\n",
      "1/1 [==============================] - 0s 4ms/step - loss: 8.0135 - mae: 8.0135\n",
      "Epoch 34/100\n",
      "1/1 [==============================] - 0s 4ms/step - loss: 7.8810 - mae: 7.8810\n",
      "Epoch 35/100\n",
      "1/1 [==============================] - 0s 3ms/step - loss: 7.7485 - mae: 7.7485\n",
      "Epoch 36/100\n",
      "1/1 [==============================] - 0s 3ms/step - loss: 7.6160 - mae: 7.6160\n",
      "Epoch 37/100\n",
      "1/1 [==============================] - 0s 3ms/step - loss: 7.4835 - mae: 7.4835\n",
      "Epoch 38/100\n",
      "1/1 [==============================] - 0s 4ms/step - loss: 7.3510 - mae: 7.3510\n",
      "Epoch 39/100\n",
      "1/1 [==============================] - 0s 3ms/step - loss: 7.2185 - mae: 7.2185\n",
      "Epoch 40/100\n",
      "1/1 [==============================] - 0s 4ms/step - loss: 7.2075 - mae: 7.2075\n",
      "Epoch 41/100\n",
      "1/1 [==============================] - 0s 4ms/step - loss: 7.2019 - mae: 7.2019\n",
      "Epoch 42/100\n",
      "1/1 [==============================] - 0s 4ms/step - loss: 7.1963 - mae: 7.1963\n",
      "Epoch 43/100\n",
      "1/1 [==============================] - 0s 4ms/step - loss: 7.1906 - mae: 7.1906\n",
      "Epoch 44/100\n",
      "1/1 [==============================] - 0s 4ms/step - loss: 7.1850 - mae: 7.1850\n",
      "Epoch 45/100\n",
      "1/1 [==============================] - 0s 4ms/step - loss: 7.1794 - mae: 7.1794\n",
      "Epoch 46/100\n",
      "1/1 [==============================] - 0s 3ms/step - loss: 7.1737 - mae: 7.1737\n",
      "Epoch 47/100\n",
      "1/1 [==============================] - 0s 4ms/step - loss: 7.1681 - mae: 7.1681\n",
      "Epoch 48/100\n",
      "1/1 [==============================] - 0s 4ms/step - loss: 7.1625 - mae: 7.1625\n",
      "Epoch 49/100\n",
      "1/1 [==============================] - 0s 3ms/step - loss: 7.1569 - mae: 7.1569\n",
      "Epoch 50/100\n",
      "1/1 [==============================] - 0s 3ms/step - loss: 7.1512 - mae: 7.1512\n",
      "Epoch 51/100\n",
      "1/1 [==============================] - 0s 7ms/step - loss: 7.1456 - mae: 7.1456\n",
      "Epoch 52/100\n",
      "1/1 [==============================] - 0s 4ms/step - loss: 7.1400 - mae: 7.1400\n",
      "Epoch 53/100\n",
      "1/1 [==============================] - 0s 4ms/step - loss: 7.1344 - mae: 7.1344\n",
      "Epoch 54/100\n",
      "1/1 [==============================] - 0s 3ms/step - loss: 7.1288 - mae: 7.1288\n",
      "Epoch 55/100\n",
      "1/1 [==============================] - 0s 6ms/step - loss: 7.1231 - mae: 7.1231\n",
      "Epoch 56/100\n",
      "1/1 [==============================] - 0s 5ms/step - loss: 7.1175 - mae: 7.1175\n",
      "Epoch 57/100\n",
      "1/1 [==============================] - 0s 5ms/step - loss: 7.1119 - mae: 7.1119\n",
      "Epoch 58/100\n",
      "1/1 [==============================] - 0s 5ms/step - loss: 7.1062 - mae: 7.1062\n",
      "Epoch 59/100\n",
      "1/1 [==============================] - 0s 4ms/step - loss: 7.1006 - mae: 7.1006\n",
      "Epoch 60/100\n",
      "1/1 [==============================] - 0s 5ms/step - loss: 7.0950 - mae: 7.0950\n",
      "Epoch 61/100\n",
      "1/1 [==============================] - 0s 5ms/step - loss: 7.0894 - mae: 7.0894\n",
      "Epoch 62/100\n",
      "1/1 [==============================] - 0s 4ms/step - loss: 7.0838 - mae: 7.0838\n",
      "Epoch 63/100\n",
      "1/1 [==============================] - 0s 4ms/step - loss: 7.0781 - mae: 7.0781\n",
      "Epoch 64/100\n",
      "1/1 [==============================] - 0s 4ms/step - loss: 7.0725 - mae: 7.0725\n",
      "Epoch 65/100\n",
      "1/1 [==============================] - 0s 4ms/step - loss: 7.0669 - mae: 7.0669\n",
      "Epoch 66/100\n",
      "1/1 [==============================] - 0s 3ms/step - loss: 7.0612 - mae: 7.0612\n",
      "Epoch 67/100\n",
      "1/1 [==============================] - 0s 3ms/step - loss: 7.0556 - mae: 7.0556\n",
      "Epoch 68/100\n",
      "1/1 [==============================] - 0s 4ms/step - loss: 7.0500 - mae: 7.0500\n",
      "Epoch 69/100\n",
      "1/1 [==============================] - 0s 3ms/step - loss: 7.0444 - mae: 7.0444\n",
      "Epoch 70/100\n",
      "1/1 [==============================] - 0s 3ms/step - loss: 7.0388 - mae: 7.0388\n",
      "Epoch 71/100\n",
      "1/1 [==============================] - 0s 4ms/step - loss: 7.0331 - mae: 7.0331\n",
      "Epoch 72/100\n",
      "1/1 [==============================] - 0s 3ms/step - loss: 7.0275 - mae: 7.0275\n",
      "Epoch 73/100\n",
      "1/1 [==============================] - 0s 4ms/step - loss: 7.0219 - mae: 7.0219\n",
      "Epoch 74/100\n",
      "1/1 [==============================] - 0s 4ms/step - loss: 7.0163 - mae: 7.0163\n",
      "Epoch 75/100\n",
      "1/1 [==============================] - 0s 3ms/step - loss: 7.0106 - mae: 7.0106\n",
      "Epoch 76/100\n",
      "1/1 [==============================] - 0s 4ms/step - loss: 7.0050 - mae: 7.0050\n",
      "Epoch 77/100\n",
      "1/1 [==============================] - 0s 3ms/step - loss: 6.9994 - mae: 6.9994\n",
      "Epoch 78/100\n",
      "1/1 [==============================] - 0s 4ms/step - loss: 6.9938 - mae: 6.9938\n",
      "Epoch 79/100\n",
      "1/1 [==============================] - 0s 3ms/step - loss: 6.9881 - mae: 6.9881\n",
      "Epoch 80/100\n",
      "1/1 [==============================] - 0s 3ms/step - loss: 6.9825 - mae: 6.9825\n",
      "Epoch 81/100\n",
      "1/1 [==============================] - 0s 4ms/step - loss: 6.9769 - mae: 6.9769\n",
      "Epoch 82/100\n",
      "1/1 [==============================] - 0s 4ms/step - loss: 6.9713 - mae: 6.9713\n",
      "Epoch 83/100\n",
      "1/1 [==============================] - 0s 3ms/step - loss: 6.9656 - mae: 6.9656\n",
      "Epoch 84/100\n",
      "1/1 [==============================] - 0s 3ms/step - loss: 6.9600 - mae: 6.9600\n",
      "Epoch 85/100\n",
      "1/1 [==============================] - 0s 3ms/step - loss: 6.9544 - mae: 6.9544\n",
      "Epoch 86/100\n",
      "1/1 [==============================] - 0s 3ms/step - loss: 6.9488 - mae: 6.9488\n",
      "Epoch 87/100\n",
      "1/1 [==============================] - 0s 4ms/step - loss: 6.9431 - mae: 6.9431\n",
      "Epoch 88/100\n",
      "1/1 [==============================] - 0s 4ms/step - loss: 6.9375 - mae: 6.9375\n",
      "Epoch 89/100\n",
      "1/1 [==============================] - 0s 3ms/step - loss: 6.9319 - mae: 6.9319\n",
      "Epoch 90/100\n",
      "1/1 [==============================] - 0s 3ms/step - loss: 6.9263 - mae: 6.9263\n",
      "Epoch 91/100\n",
      "1/1 [==============================] - 0s 4ms/step - loss: 6.9206 - mae: 6.9206\n",
      "Epoch 92/100\n",
      "1/1 [==============================] - 0s 4ms/step - loss: 6.9150 - mae: 6.9150\n",
      "Epoch 93/100\n",
      "1/1 [==============================] - 0s 3ms/step - loss: 6.9094 - mae: 6.9094\n",
      "Epoch 94/100\n",
      "1/1 [==============================] - 0s 3ms/step - loss: 6.9038 - mae: 6.9038\n",
      "Epoch 95/100\n",
      "1/1 [==============================] - 0s 4ms/step - loss: 6.8981 - mae: 6.8981\n",
      "Epoch 96/100\n",
      "1/1 [==============================] - 0s 3ms/step - loss: 6.8925 - mae: 6.8925\n",
      "Epoch 97/100\n",
      "1/1 [==============================] - 0s 4ms/step - loss: 6.8869 - mae: 6.8869\n",
      "Epoch 98/100\n",
      "1/1 [==============================] - 0s 5ms/step - loss: 6.8813 - mae: 6.8813\n",
      "Epoch 99/100\n",
      "1/1 [==============================] - 0s 4ms/step - loss: 6.8756 - mae: 6.8756\n",
      "Epoch 100/100\n",
      "1/1 [==============================] - 0s 6ms/step - loss: 6.8700 - mae: 6.8700\n"
     ]
    },
    {
     "data": {
      "text/plain": "<keras.callbacks.History at 0x7fd60ff85fd0>"
     },
     "execution_count": 100,
     "metadata": {},
     "output_type": "execute_result"
    }
   ],
   "source": [
    "# Let's rebuild our model\n",
    "\n",
    "# 1. Create the model\n",
    "model = tf.keras.Sequential([\n",
    "    tf.keras.layers.Dense(1)\n",
    "])\n",
    "\n",
    "# 2. Compile the model\n",
    "model.compile(loss=tf.keras.losses.mae,\n",
    "              optimizer=tf.keras.optimizers.SGD(),\n",
    "              metrics=[\"mae\"])\n",
    "\n",
    "# 3. Fit the model (this time we'll train for longer)\n",
    "model.fit(tf.expand_dims(X, axis=-1), y, epochs=100)"
   ],
   "metadata": {
    "collapsed": false,
    "ExecuteTime": {
     "end_time": "2023-09-29T14:22:31.363607841Z",
     "start_time": "2023-09-29T14:22:29.920970741Z"
    }
   },
   "id": "b26232423384ab79"
  },
  {
   "cell_type": "code",
   "execution_count": 101,
   "outputs": [
    {
     "data": {
      "text/plain": "(<tf.Tensor: shape=(8,), dtype=float32, numpy=array([-7., -4., -1.,  2.,  5.,  8., 11., 14.], dtype=float32)>,\n <tf.Tensor: shape=(8,), dtype=float32, numpy=array([ 3.,  6.,  9., 12., 15., 18., 21., 24.], dtype=float32)>)"
     },
     "execution_count": 101,
     "metadata": {},
     "output_type": "execute_result"
    }
   ],
   "source": [
    "# Reminder ourselves of the data\n",
    "X, y"
   ],
   "metadata": {
    "collapsed": false,
    "ExecuteTime": {
     "end_time": "2023-09-29T14:22:36.167288834Z",
     "start_time": "2023-09-29T14:22:36.117782005Z"
    }
   },
   "id": "e9b4e45adea19edc"
  },
  {
   "cell_type": "code",
   "execution_count": 102,
   "outputs": [
    {
     "name": "stdout",
     "output_type": "stream",
     "text": [
      "1/1 [==============================] - 0s 62ms/step\n"
     ]
    },
    {
     "data": {
      "text/plain": "array([[30.10702]], dtype=float32)"
     },
     "execution_count": 102,
     "metadata": {},
     "output_type": "execute_result"
    }
   ],
   "source": [
    "# Let's see if our model's prediction has improved...\n",
    "model.predict([17.0])"
   ],
   "metadata": {
    "collapsed": false,
    "ExecuteTime": {
     "end_time": "2023-09-29T14:22:37.277072400Z",
     "start_time": "2023-09-29T14:22:37.087900189Z"
    }
   },
   "id": "4fa1532cec878a87"
  },
  {
   "cell_type": "code",
   "execution_count": 103,
   "outputs": [
    {
     "name": "stdout",
     "output_type": "stream",
     "text": [
      "Epoch 1/100\n",
      "1/1 [==============================] - 0s 380ms/step - loss: 12.4774 - mae: 12.4774\n",
      "Epoch 2/100\n",
      "1/1 [==============================] - 0s 4ms/step - loss: 11.7226 - mae: 11.7226\n",
      "Epoch 3/100\n",
      "1/1 [==============================] - 0s 9ms/step - loss: 10.9679 - mae: 10.9679\n",
      "Epoch 4/100\n",
      "1/1 [==============================] - 0s 4ms/step - loss: 10.2118 - mae: 10.2118\n",
      "Epoch 5/100\n",
      "1/1 [==============================] - 0s 4ms/step - loss: 9.4521 - mae: 9.4521\n",
      "Epoch 6/100\n",
      "1/1 [==============================] - 0s 4ms/step - loss: 8.6862 - mae: 8.6862\n",
      "Epoch 7/100\n",
      "1/1 [==============================] - 0s 5ms/step - loss: 7.9113 - mae: 7.9113\n",
      "Epoch 8/100\n",
      "1/1 [==============================] - 0s 4ms/step - loss: 7.1251 - mae: 7.1251\n",
      "Epoch 9/100\n",
      "1/1 [==============================] - 0s 4ms/step - loss: 6.8899 - mae: 6.8899\n",
      "Epoch 10/100\n",
      "1/1 [==============================] - 0s 4ms/step - loss: 7.2752 - mae: 7.2752\n",
      "Epoch 11/100\n",
      "1/1 [==============================] - 0s 4ms/step - loss: 7.5633 - mae: 7.5633\n",
      "Epoch 12/100\n",
      "1/1 [==============================] - 0s 4ms/step - loss: 7.9096 - mae: 7.9096\n",
      "Epoch 13/100\n",
      "1/1 [==============================] - 0s 4ms/step - loss: 7.9795 - mae: 7.9795\n",
      "Epoch 14/100\n",
      "1/1 [==============================] - 0s 4ms/step - loss: 7.8481 - mae: 7.8481\n",
      "Epoch 15/100\n",
      "1/1 [==============================] - 0s 4ms/step - loss: 7.5685 - mae: 7.5685\n",
      "Epoch 16/100\n",
      "1/1 [==============================] - 0s 4ms/step - loss: 7.1928 - mae: 7.1928\n",
      "Epoch 17/100\n",
      "1/1 [==============================] - 0s 5ms/step - loss: 6.9221 - mae: 6.9221\n",
      "Epoch 18/100\n",
      "1/1 [==============================] - 0s 4ms/step - loss: 6.6349 - mae: 6.6349\n",
      "Epoch 19/100\n",
      "1/1 [==============================] - 0s 5ms/step - loss: 6.3349 - mae: 6.3349\n",
      "Epoch 20/100\n",
      "1/1 [==============================] - 0s 4ms/step - loss: 6.2232 - mae: 6.2232\n",
      "Epoch 21/100\n",
      "1/1 [==============================] - 0s 7ms/step - loss: 6.1744 - mae: 6.1744\n",
      "Epoch 22/100\n",
      "1/1 [==============================] - 0s 4ms/step - loss: 6.3689 - mae: 6.3689\n",
      "Epoch 23/100\n",
      "1/1 [==============================] - 0s 9ms/step - loss: 6.4616 - mae: 6.4616\n",
      "Epoch 24/100\n",
      "1/1 [==============================] - 0s 5ms/step - loss: 6.4542 - mae: 6.4542\n",
      "Epoch 25/100\n",
      "1/1 [==============================] - 0s 4ms/step - loss: 6.3593 - mae: 6.3593\n",
      "Epoch 26/100\n",
      "1/1 [==============================] - 0s 6ms/step - loss: 6.1867 - mae: 6.1867\n",
      "Epoch 27/100\n",
      "1/1 [==============================] - 0s 5ms/step - loss: 5.9436 - mae: 5.9436\n",
      "Epoch 28/100\n",
      "1/1 [==============================] - 0s 4ms/step - loss: 5.6435 - mae: 5.6435\n",
      "Epoch 29/100\n",
      "1/1 [==============================] - 0s 4ms/step - loss: 5.5430 - mae: 5.5430\n",
      "Epoch 30/100\n",
      "1/1 [==============================] - 0s 16ms/step - loss: 5.4396 - mae: 5.4396\n",
      "Epoch 31/100\n",
      "1/1 [==============================] - 0s 11ms/step - loss: 5.4076 - mae: 5.4076\n",
      "Epoch 32/100\n",
      "1/1 [==============================] - 0s 6ms/step - loss: 5.4019 - mae: 5.4019\n",
      "Epoch 33/100\n",
      "1/1 [==============================] - 0s 5ms/step - loss: 5.3500 - mae: 5.3500\n",
      "Epoch 34/100\n",
      "1/1 [==============================] - 0s 4ms/step - loss: 5.2553 - mae: 5.2553\n",
      "Epoch 35/100\n",
      "1/1 [==============================] - 0s 8ms/step - loss: 5.1213 - mae: 5.1213\n",
      "Epoch 36/100\n",
      "1/1 [==============================] - 0s 4ms/step - loss: 4.9512 - mae: 4.9512\n",
      "Epoch 37/100\n",
      "1/1 [==============================] - 0s 12ms/step - loss: 4.7546 - mae: 4.7546\n",
      "Epoch 38/100\n",
      "1/1 [==============================] - 0s 5ms/step - loss: 4.6571 - mae: 4.6571\n",
      "Epoch 39/100\n",
      "1/1 [==============================] - 0s 9ms/step - loss: 4.5530 - mae: 4.5530\n",
      "Epoch 40/100\n",
      "1/1 [==============================] - 0s 9ms/step - loss: 4.4422 - mae: 4.4422\n",
      "Epoch 41/100\n",
      "1/1 [==============================] - 0s 9ms/step - loss: 4.3245 - mae: 4.3245\n",
      "Epoch 42/100\n",
      "1/1 [==============================] - 0s 8ms/step - loss: 4.2578 - mae: 4.2578\n",
      "Epoch 43/100\n",
      "1/1 [==============================] - 0s 7ms/step - loss: 4.0784 - mae: 4.0784\n",
      "Epoch 44/100\n",
      "1/1 [==============================] - 0s 13ms/step - loss: 3.9056 - mae: 3.9056\n",
      "Epoch 45/100\n",
      "1/1 [==============================] - 0s 7ms/step - loss: 3.7447 - mae: 3.7447\n",
      "Epoch 46/100\n",
      "1/1 [==============================] - 0s 7ms/step - loss: 3.6249 - mae: 3.6249\n",
      "Epoch 47/100\n",
      "1/1 [==============================] - 0s 6ms/step - loss: 3.5156 - mae: 3.5156\n",
      "Epoch 48/100\n",
      "1/1 [==============================] - 0s 7ms/step - loss: 3.3499 - mae: 3.3499\n",
      "Epoch 49/100\n",
      "1/1 [==============================] - 0s 8ms/step - loss: 3.1309 - mae: 3.1309\n",
      "Epoch 50/100\n",
      "1/1 [==============================] - 0s 9ms/step - loss: 2.9263 - mae: 2.9263\n",
      "Epoch 51/100\n",
      "1/1 [==============================] - 0s 8ms/step - loss: 2.7550 - mae: 2.7550\n",
      "Epoch 52/100\n",
      "1/1 [==============================] - 0s 8ms/step - loss: 2.6342 - mae: 2.6342\n",
      "Epoch 53/100\n",
      "1/1 [==============================] - 0s 8ms/step - loss: 2.4095 - mae: 2.4095\n",
      "Epoch 54/100\n",
      "1/1 [==============================] - 0s 6ms/step - loss: 2.1497 - mae: 2.1497\n",
      "Epoch 55/100\n",
      "1/1 [==============================] - 0s 7ms/step - loss: 1.9821 - mae: 1.9821\n",
      "Epoch 56/100\n",
      "1/1 [==============================] - 0s 5ms/step - loss: 1.8096 - mae: 1.8096\n",
      "Epoch 57/100\n",
      "1/1 [==============================] - 0s 7ms/step - loss: 1.5669 - mae: 1.5669\n",
      "Epoch 58/100\n",
      "1/1 [==============================] - 0s 6ms/step - loss: 1.2576 - mae: 1.2576\n",
      "Epoch 59/100\n",
      "1/1 [==============================] - 0s 6ms/step - loss: 1.0679 - mae: 1.0679\n",
      "Epoch 60/100\n",
      "1/1 [==============================] - 0s 8ms/step - loss: 0.8566 - mae: 0.8566\n",
      "Epoch 61/100\n",
      "1/1 [==============================] - 0s 6ms/step - loss: 0.4769 - mae: 0.4769\n",
      "Epoch 62/100\n",
      "1/1 [==============================] - 0s 7ms/step - loss: 0.3044 - mae: 0.3044\n",
      "Epoch 63/100\n",
      "1/1 [==============================] - 0s 5ms/step - loss: 0.0716 - mae: 0.0716\n",
      "Epoch 64/100\n",
      "1/1 [==============================] - 0s 6ms/step - loss: 0.3893 - mae: 0.3893\n",
      "Epoch 65/100\n",
      "1/1 [==============================] - 0s 47ms/step - loss: 0.4582 - mae: 0.4582\n",
      "Epoch 66/100\n",
      "1/1 [==============================] - 0s 16ms/step - loss: 0.6482 - mae: 0.6482\n",
      "Epoch 67/100\n",
      "1/1 [==============================] - 0s 12ms/step - loss: 0.6907 - mae: 0.6907\n",
      "Epoch 68/100\n",
      "1/1 [==============================] - 0s 19ms/step - loss: 0.6424 - mae: 0.6424\n",
      "Epoch 69/100\n",
      "1/1 [==============================] - 0s 11ms/step - loss: 0.6571 - mae: 0.6571\n",
      "Epoch 70/100\n",
      "1/1 [==============================] - 0s 11ms/step - loss: 0.5763 - mae: 0.5763\n",
      "Epoch 71/100\n",
      "1/1 [==============================] - 0s 8ms/step - loss: 0.4960 - mae: 0.4960\n",
      "Epoch 72/100\n",
      "1/1 [==============================] - 0s 7ms/step - loss: 0.3554 - mae: 0.3554\n",
      "Epoch 73/100\n",
      "1/1 [==============================] - 0s 6ms/step - loss: 0.2352 - mae: 0.2352\n",
      "Epoch 74/100\n",
      "1/1 [==============================] - 0s 7ms/step - loss: 0.0827 - mae: 0.0827\n",
      "Epoch 75/100\n",
      "1/1 [==============================] - 0s 7ms/step - loss: 0.1820 - mae: 0.1820\n",
      "Epoch 76/100\n",
      "1/1 [==============================] - 0s 7ms/step - loss: 0.2398 - mae: 0.2398\n",
      "Epoch 77/100\n",
      "1/1 [==============================] - 0s 7ms/step - loss: 0.3844 - mae: 0.3844\n",
      "Epoch 78/100\n",
      "1/1 [==============================] - 0s 6ms/step - loss: 0.4240 - mae: 0.4240\n",
      "Epoch 79/100\n",
      "1/1 [==============================] - 0s 8ms/step - loss: 0.3172 - mae: 0.3172\n",
      "Epoch 80/100\n",
      "1/1 [==============================] - 0s 6ms/step - loss: 0.4014 - mae: 0.4014\n",
      "Epoch 81/100\n",
      "1/1 [==============================] - 0s 6ms/step - loss: 0.3223 - mae: 0.3223\n",
      "Epoch 82/100\n",
      "1/1 [==============================] - 0s 7ms/step - loss: 0.2356 - mae: 0.2356\n",
      "Epoch 83/100\n",
      "1/1 [==============================] - 0s 6ms/step - loss: 0.1649 - mae: 0.1649\n",
      "Epoch 84/100\n",
      "1/1 [==============================] - 0s 7ms/step - loss: 0.2052 - mae: 0.2052\n",
      "Epoch 85/100\n",
      "1/1 [==============================] - 0s 7ms/step - loss: 0.1854 - mae: 0.1854\n",
      "Epoch 86/100\n",
      "1/1 [==============================] - 0s 8ms/step - loss: 0.2900 - mae: 0.2900\n",
      "Epoch 87/100\n",
      "1/1 [==============================] - 0s 5ms/step - loss: 0.3769 - mae: 0.3769\n",
      "Epoch 88/100\n",
      "1/1 [==============================] - 0s 7ms/step - loss: 0.2925 - mae: 0.2925\n",
      "Epoch 89/100\n",
      "1/1 [==============================] - 0s 5ms/step - loss: 0.1460 - mae: 0.1460\n",
      "Epoch 90/100\n",
      "1/1 [==============================] - 0s 6ms/step - loss: 0.1414 - mae: 0.1414\n",
      "Epoch 91/100\n",
      "1/1 [==============================] - 0s 5ms/step - loss: 0.1346 - mae: 0.1346\n",
      "Epoch 92/100\n",
      "1/1 [==============================] - 0s 6ms/step - loss: 0.0957 - mae: 0.0957\n",
      "Epoch 93/100\n",
      "1/1 [==============================] - 0s 9ms/step - loss: 0.2206 - mae: 0.2206\n",
      "Epoch 94/100\n",
      "1/1 [==============================] - 0s 6ms/step - loss: 0.2049 - mae: 0.2049\n",
      "Epoch 95/100\n",
      "1/1 [==============================] - 0s 7ms/step - loss: 0.0958 - mae: 0.0958\n",
      "Epoch 96/100\n",
      "1/1 [==============================] - 0s 6ms/step - loss: 0.0333 - mae: 0.0333\n",
      "Epoch 97/100\n",
      "1/1 [==============================] - 0s 7ms/step - loss: 0.2927 - mae: 0.2927\n",
      "Epoch 98/100\n",
      "1/1 [==============================] - 0s 14ms/step - loss: 0.2761 - mae: 0.2761\n",
      "Epoch 99/100\n",
      "1/1 [==============================] - 0s 5ms/step - loss: 0.1643 - mae: 0.1643\n",
      "Epoch 100/100\n",
      "1/1 [==============================] - 0s 5ms/step - loss: 0.2123 - mae: 0.2123\n"
     ]
    },
    {
     "data": {
      "text/plain": "<keras.callbacks.History at 0x7fd62de9ee90>"
     },
     "execution_count": 103,
     "metadata": {},
     "output_type": "execute_result"
    }
   ],
   "source": [
    "# Let's see if we can make another to improve our model\n",
    "\n",
    "# 1. Create the model (this time with an extra hidden layer with 100 hidden units)\n",
    "model = tf.keras.Sequential([\n",
    "    tf.keras.layers.Dense(50, activation=None),\n",
    "    tf.keras.layers.Dense(1)\n",
    "])\n",
    "\n",
    "# 2. Compile the model\n",
    "model.compile(loss=\"mae\",\n",
    "              optimizer=tf.keras.optimizers.Adam(learning_rate=0.01),\n",
    "              metrics=[\"mae\"])\n",
    "\n",
    "# 3. Fit the model\n",
    "model.fit(tf.expand_dims(X, axis=-1), y, epochs=100)"
   ],
   "metadata": {
    "collapsed": false,
    "ExecuteTime": {
     "end_time": "2023-09-29T14:22:43.290632117Z",
     "start_time": "2023-09-29T14:22:40.626077939Z"
    }
   },
   "id": "8b9aa4f166adf717"
  },
  {
   "cell_type": "code",
   "execution_count": 104,
   "outputs": [
    {
     "data": {
      "text/plain": "(<tf.Tensor: shape=(8,), dtype=float32, numpy=array([-7., -4., -1.,  2.,  5.,  8., 11., 14.], dtype=float32)>,\n <tf.Tensor: shape=(8,), dtype=float32, numpy=array([ 3.,  6.,  9., 12., 15., 18., 21., 24.], dtype=float32)>)"
     },
     "execution_count": 104,
     "metadata": {},
     "output_type": "execute_result"
    }
   ],
   "source": [
    "# Let's remind ourselves of the data\n",
    "X, y"
   ],
   "metadata": {
    "collapsed": false,
    "ExecuteTime": {
     "end_time": "2023-09-29T14:22:45.475949156Z",
     "start_time": "2023-09-29T14:22:45.438553916Z"
    }
   },
   "id": "6b5bd6ece9fcbd99"
  },
  {
   "cell_type": "code",
   "execution_count": 105,
   "outputs": [
    {
     "name": "stdout",
     "output_type": "stream",
     "text": [
      "1/1 [==============================] - 0s 78ms/step\n"
     ]
    },
    {
     "data": {
      "text/plain": "array([[27.05996]], dtype=float32)"
     },
     "execution_count": 105,
     "metadata": {},
     "output_type": "execute_result"
    }
   ],
   "source": [
    "# Let's  try to make a prediction\n",
    "model.predict([17.0])"
   ],
   "metadata": {
    "collapsed": false,
    "ExecuteTime": {
     "end_time": "2023-09-29T14:22:46.546118169Z",
     "start_time": "2023-09-29T14:22:46.310949057Z"
    }
   },
   "id": "a0f497158a07079a"
  },
  {
   "cell_type": "markdown",
   "source": [
    "## Evaluating a model\n",
    "\n",
    "In practice, a typical workflow you'll go through when building neural networks is:\n",
    "\n",
    "```\n",
    "Build a model -> fit it -> evaluate it -> tweak a model -> fit it -> evaluate it -> tweak a model -> fit it -> evaluate it...\n",
    "```\n",
    "\n"
   ],
   "metadata": {
    "collapsed": false
   },
   "id": "8586a632a5e30d87"
  },
  {
   "cell_type": "markdown",
   "source": [
    "When it comes to evaluation... there are 3 words you should memorize:\n",
    "\n",
    "> \"Visualize, visualize, visualize\"\n",
    "\n",
    "It's a good idea to visualize:\n",
    "* The data - what data are we working with? What does it look like?\n",
    "* The model itself - what does our model look like?\n",
    "* The training of a model - how does a model perform while it learns?\n",
    "* The predictions of the model - how do the predictions od a model line up against the ground truth (the original labels)?"
   ],
   "metadata": {
    "collapsed": false
   },
   "id": "b0557d4d9296152e"
  },
  {
   "cell_type": "code",
   "execution_count": 106,
   "outputs": [
    {
     "data": {
      "text/plain": "<tf.Tensor: shape=(50,), dtype=int32, numpy=\narray([-100,  -96,  -92,  -88,  -84,  -80,  -76,  -72,  -68,  -64,  -60,\n        -56,  -52,  -48,  -44,  -40,  -36,  -32,  -28,  -24,  -20,  -16,\n        -12,   -8,   -4,    0,    4,    8,   12,   16,   20,   24,   28,\n         32,   36,   40,   44,   48,   52,   56,   60,   64,   68,   72,\n         76,   80,   84,   88,   92,   96], dtype=int32)>"
     },
     "execution_count": 106,
     "metadata": {},
     "output_type": "execute_result"
    }
   ],
   "source": [
    "# Make a bigger dataset\n",
    "X = tf.range(-100, 100, 4)\n",
    "X"
   ],
   "metadata": {
    "collapsed": false,
    "ExecuteTime": {
     "end_time": "2023-09-29T14:22:53.007910919Z",
     "start_time": "2023-09-29T14:22:52.963154712Z"
    }
   },
   "id": "ebfdaf1ca49a3887"
  },
  {
   "cell_type": "code",
   "execution_count": 107,
   "outputs": [
    {
     "data": {
      "text/plain": "<tf.Tensor: shape=(50,), dtype=int32, numpy=\narray([-90, -86, -82, -78, -74, -70, -66, -62, -58, -54, -50, -46, -42,\n       -38, -34, -30, -26, -22, -18, -14, -10,  -6,  -2,   2,   6,  10,\n        14,  18,  22,  26,  30,  34,  38,  42,  46,  50,  54,  58,  62,\n        66,  70,  74,  78,  82,  86,  90,  94,  98, 102, 106], dtype=int32)>"
     },
     "execution_count": 107,
     "metadata": {},
     "output_type": "execute_result"
    }
   ],
   "source": [
    "# Make labels for the dataset\n",
    "y = X + 10\n",
    "y"
   ],
   "metadata": {
    "collapsed": false,
    "ExecuteTime": {
     "end_time": "2023-09-29T14:22:54.246397900Z",
     "start_time": "2023-09-29T14:22:54.209349480Z"
    }
   },
   "id": "5573573108e8addc"
  },
  {
   "cell_type": "code",
   "execution_count": 108,
   "outputs": [
    {
     "data": {
      "text/plain": "<matplotlib.collections.PathCollection at 0x7fd67b0921d0>"
     },
     "execution_count": 108,
     "metadata": {},
     "output_type": "execute_result"
    },
    {
     "data": {
      "text/plain": "<Figure size 640x480 with 1 Axes>",
      "image/png": "[encoded data removed]"
     },
     "metadata": {},
     "output_type": "display_data"
    }
   ],
   "source": [
    "# Visualize the data\n",
    "import matplotlib.pyplot as plt\n",
    "\n",
    "plt.scatter(X, y)"
   ],
   "metadata": {
    "collapsed": false,
    "ExecuteTime": {
     "end_time": "2023-09-29T14:22:55.531257535Z",
     "start_time": "2023-09-29T14:22:55.318881871Z"
    }
   },
   "id": "819381cfdadb50fa"
  },
  {
   "cell_type": "markdown",
   "source": [
    "### The 3 sets...\n",
    "\n",
    "* **Training set** - the model learns from this data, which is typically 70-80% of total data you have available.\n",
    "* **Validation set** - the model gets tuned oh this data, which is typically 10-15% of the data available.\n",
    "* **Test set** - the model gets evaluated on this data to test what is has learned, this set is typically 10-15% of the total data available."
   ],
   "metadata": {
    "collapsed": false
   },
   "id": "811bf5a27ae79738"
  },
  {
   "cell_type": "code",
   "execution_count": 109,
   "outputs": [
    {
     "data": {
      "text/plain": "50"
     },
     "execution_count": 109,
     "metadata": {},
     "output_type": "execute_result"
    }
   ],
   "source": [
    "# Check the length of how many samples we have\n",
    "len(X)"
   ],
   "metadata": {
    "collapsed": false,
    "ExecuteTime": {
     "end_time": "2023-09-29T14:23:03.922300832Z",
     "start_time": "2023-09-29T14:23:03.878090063Z"
    }
   },
   "id": "65fe1205cafb59"
  },
  {
   "cell_type": "code",
   "execution_count": 110,
   "outputs": [
    {
     "data": {
      "text/plain": "(40, 10, 40, 10)"
     },
     "execution_count": 110,
     "metadata": {},
     "output_type": "execute_result"
    }
   ],
   "source": [
    "# Split the data into train and test sets\n",
    "X_train = X[:40] # first 40 are training samples (80% of the data)\n",
    "y_train = y[:40] \n",
    "X_test = X[40:] # last 10 are testing samples (20% of the data)\n",
    "y_test = y[40:]\n",
    "\n",
    "len(X_train), len(X_test), len(y_train), len(y_test)"
   ],
   "metadata": {
    "collapsed": false,
    "ExecuteTime": {
     "end_time": "2023-09-29T14:23:04.903239755Z",
     "start_time": "2023-09-29T14:23:04.839650448Z"
    }
   },
   "id": "6d4cae941d61ab0d"
  },
  {
   "cell_type": "markdown",
   "source": [
    "### Visualing the data\n",
    "\n",
    "Now we've got our data in training and test sets... let's visualize it again!"
   ],
   "metadata": {
    "collapsed": false
   },
   "id": "83c7526489cf18e8"
  },
  {
   "cell_type": "code",
   "execution_count": 111,
   "outputs": [
    {
     "data": {
      "text/plain": "<Figure size 1000x700 with 1 Axes>",
      "image/png": "[encoded data removed]"
     },
     "metadata": {},
     "output_type": "display_data"
    }
   ],
   "source": [
    "plt.figure(figsize=(10, 7))\n",
    "# Plot training data in blue\n",
    "plt.scatter(X_train, y_train, c=\"b\", label=\"Training data\")\n",
    "# Plot test data in green\n",
    "plt.scatter(X_test, y_test, c=\"g\", label=\"Testing data\")\n",
    "# Show a legend\n",
    "plt.legend();"
   ],
   "metadata": {
    "collapsed": false,
    "ExecuteTime": {
     "end_time": "2023-09-29T14:23:07.683947289Z",
     "start_time": "2023-09-29T14:23:07.452363455Z"
    }
   },
   "id": "ab7249faa73bbe9"
  },
  {
   "cell_type": "code",
   "execution_count": 112,
   "outputs": [],
   "source": [
    "# Let's have a look at how to build a neural network for our data\n",
    "\n",
    "# 1. Create a model\n",
    "model = tf.keras.Sequential([\n",
    "    tf.keras.layers.Dense(1)\n",
    "])\n",
    "\n",
    "# 2. Compile the model\n",
    "model.compile(loss=tf.keras.losses.mae,\n",
    "              optimizer=tf.keras.optimizers.SGD(),\n",
    "              metrics=[\"mae\"])\n",
    "\n",
    "# 3. Fit the model\n",
    "# model.fit(tf.expand_dims(X_train, axis=-1), y_train, epochs=100)"
   ],
   "metadata": {
    "collapsed": false,
    "ExecuteTime": {
     "end_time": "2023-09-29T14:23:09.259174636Z",
     "start_time": "2023-09-29T14:23:09.225436854Z"
    }
   },
   "id": "d8ffee7c2a8e42f7"
  },
  {
   "cell_type": "markdown",
   "source": [
    "### Visualizing the model"
   ],
   "metadata": {
    "collapsed": false
   },
   "id": "898b10b4eeedd11e"
  },
  {
   "cell_type": "code",
   "execution_count": 113,
   "outputs": [
    {
     "ename": "ValueError",
     "evalue": "This model has not yet been built. Build the model first by calling `build()` or by calling the model on a batch of data.",
     "output_type": "error",
     "traceback": [
      "\u001B[0;31m---------------------------------------------------------------------------\u001B[0m",
      "\u001B[0;31mValueError\u001B[0m                                Traceback (most recent call last)",
      "Cell \u001B[0;32mIn[113], line 1\u001B[0m\n\u001B[0;32m----> 1\u001B[0m model\u001B[38;5;241m.\u001B[39msummary()\n",
      "File \u001B[0;32m~/anaconda3/envs/tensorflow-zero-to-master/lib/python3.11/site-packages/keras/engine/training.py:3229\u001B[0m, in \u001B[0;36mModel.summary\u001B[0;34m(self, line_length, positions, print_fn, expand_nested, show_trainable, layer_range)\u001B[0m\n\u001B[1;32m   3198\u001B[0m \u001B[38;5;250m\u001B[39m\u001B[38;5;124;03m\"\"\"Prints a string summary of the network.\u001B[39;00m\n\u001B[1;32m   3199\u001B[0m \n\u001B[1;32m   3200\u001B[0m \u001B[38;5;124;03mArgs:\u001B[39;00m\n\u001B[0;32m   (...)\u001B[0m\n\u001B[1;32m   3226\u001B[0m \u001B[38;5;124;03m    ValueError: if `summary()` is called before the model is built.\u001B[39;00m\n\u001B[1;32m   3227\u001B[0m \u001B[38;5;124;03m\"\"\"\u001B[39;00m\n\u001B[1;32m   3228\u001B[0m \u001B[38;5;28;01mif\u001B[39;00m \u001B[38;5;129;01mnot\u001B[39;00m \u001B[38;5;28mself\u001B[39m\u001B[38;5;241m.\u001B[39mbuilt:\n\u001B[0;32m-> 3229\u001B[0m     \u001B[38;5;28;01mraise\u001B[39;00m \u001B[38;5;167;01mValueError\u001B[39;00m(\n\u001B[1;32m   3230\u001B[0m         \u001B[38;5;124m\"\u001B[39m\u001B[38;5;124mThis model has not yet been built. \u001B[39m\u001B[38;5;124m\"\u001B[39m\n\u001B[1;32m   3231\u001B[0m         \u001B[38;5;124m\"\u001B[39m\u001B[38;5;124mBuild the model first by calling `build()` or by calling \u001B[39m\u001B[38;5;124m\"\u001B[39m\n\u001B[1;32m   3232\u001B[0m         \u001B[38;5;124m\"\u001B[39m\u001B[38;5;124mthe model on a batch of data.\u001B[39m\u001B[38;5;124m\"\u001B[39m\n\u001B[1;32m   3233\u001B[0m     )\n\u001B[1;32m   3234\u001B[0m layer_utils\u001B[38;5;241m.\u001B[39mprint_summary(\n\u001B[1;32m   3235\u001B[0m     \u001B[38;5;28mself\u001B[39m,\n\u001B[1;32m   3236\u001B[0m     line_length\u001B[38;5;241m=\u001B[39mline_length,\n\u001B[0;32m   (...)\u001B[0m\n\u001B[1;32m   3241\u001B[0m     layer_range\u001B[38;5;241m=\u001B[39mlayer_range,\n\u001B[1;32m   3242\u001B[0m )\n",
      "\u001B[0;31mValueError\u001B[0m: This model has not yet been built. Build the model first by calling `build()` or by calling the model on a batch of data."
     ]
    }
   ],
   "source": [
    "model.summary()"
   ],
   "metadata": {
    "collapsed": false,
    "ExecuteTime": {
     "end_time": "2023-09-29T14:23:12.884002749Z",
     "start_time": "2023-09-29T14:23:12.721635189Z"
    }
   },
   "id": "5c62d9de9c0b5118"
  },
  {
   "cell_type": "code",
   "execution_count": 114,
   "outputs": [
    {
     "data": {
      "text/plain": "(<tf.Tensor: shape=(), dtype=int32, numpy=-100>,\n <tf.Tensor: shape=(), dtype=int32, numpy=-90>)"
     },
     "execution_count": 114,
     "metadata": {},
     "output_type": "execute_result"
    }
   ],
   "source": [
    "X[0], y[0]"
   ],
   "metadata": {
    "collapsed": false,
    "ExecuteTime": {
     "end_time": "2023-09-29T14:23:14.876659655Z",
     "start_time": "2023-09-29T14:23:14.826440397Z"
    }
   },
   "id": "46ca08d5fb0a5d65"
  },
  {
   "cell_type": "code",
   "execution_count": 115,
   "outputs": [],
   "source": [
    "# Let's create a model which builds automatically by defining the input_shape argument in the first layer\n",
    "tf.random.set_seed(42)\n",
    "\n",
    "# 1. Create a model (same as above)\n",
    "model = tf.keras.Sequential([\n",
    "    tf.keras.layers.Dense(10, input_shape=[1], name=\"input_layer\"),\n",
    "    tf.keras.layers.Dense(1, name=\"output_layer\")\n",
    "], name=\"model_1\")\n",
    "\n",
    "# 2. Compile the model (same as above)\n",
    "model.compile(loss=tf.keras.losses.mae,\n",
    "              optimizer=tf.keras.optimizers.SGD(),\n",
    "              metrics=[\"mae\"])"
   ],
   "metadata": {
    "collapsed": false,
    "ExecuteTime": {
     "end_time": "2023-09-29T14:23:16.817577276Z",
     "start_time": "2023-09-29T14:23:16.764836978Z"
    }
   },
   "id": "42cd0d927d2d8699"
  },
  {
   "cell_type": "code",
   "execution_count": 116,
   "outputs": [
    {
     "name": "stdout",
     "output_type": "stream",
     "text": [
      "Model: \"model_1\"\n",
      "_________________________________________________________________\n",
      " Layer (type)                Output Shape              Param #   \n",
      "=================================================================\n",
      " input_layer (Dense)         (None, 10)                20        \n",
      "                                                                 \n",
      " output_layer (Dense)        (None, 1)                 11        \n",
      "                                                                 \n",
      "=================================================================\n",
      "Total params: 31\n",
      "Trainable params: 31\n",
      "Non-trainable params: 0\n",
      "_________________________________________________________________\n"
     ]
    }
   ],
   "source": [
    "model.summary()"
   ],
   "metadata": {
    "collapsed": false,
    "ExecuteTime": {
     "end_time": "2023-09-29T14:23:18.434844694Z",
     "start_time": "2023-09-29T14:23:18.312147805Z"
    }
   },
   "id": "12813b7ae6d41c34"
  },
  {
   "cell_type": "markdown",
   "source": [
    "* Total params - total number of parameters in the model.\n",
    "* Trainable parameters - these are the parameters (patterns) the model can update as it trains.\n",
    "* Non-trainable params - these parameters aren't updated during training (this is typical when you bring in already learn patterns or parameters from other models during **transfer learning**)\n",
    "\n",
    "**Resource:** For a more in-depth overview of the trainable parameters within a layer, check out [MIT's introduction to deep learning video](https://www.youtube.com/watch?v=QDX-1M5Nj7s&list=PLtBw6njQRU-rwp5__7C0oIVt26ZgjG9NI&index=2).\n",
    "\n",
    "**Exercise:** Try playing around with the number of hidden units in the dense layer, see how that effects the number of parameters (total and trainable) by calling `model.summary`."
   ],
   "metadata": {
    "collapsed": false
   },
   "id": "fe2ddf6925ef3e1b"
  },
  {
   "cell_type": "code",
   "execution_count": 117,
   "outputs": [
    {
     "data": {
      "text/plain": "<keras.callbacks.History at 0x7fd62dbfd410>"
     },
     "execution_count": 117,
     "metadata": {},
     "output_type": "execute_result"
    }
   ],
   "source": [
    "# Let's fit our model to the training data\n",
    "model.fit(X_train, y_train, epochs=100, verbose=0)"
   ],
   "metadata": {
    "collapsed": false,
    "ExecuteTime": {
     "end_time": "2023-09-29T14:23:21.831261272Z",
     "start_time": "2023-09-29T14:23:20.792703315Z"
    }
   },
   "id": "6cae2a5b5d81a33c"
  },
  {
   "cell_type": "code",
   "execution_count": 118,
   "outputs": [
    {
     "name": "stdout",
     "output_type": "stream",
     "text": [
      "Model: \"model_1\"\n",
      "_________________________________________________________________\n",
      " Layer (type)                Output Shape              Param #   \n",
      "=================================================================\n",
      " input_layer (Dense)         (None, 10)                20        \n",
      "                                                                 \n",
      " output_layer (Dense)        (None, 1)                 11        \n",
      "                                                                 \n",
      "=================================================================\n",
      "Total params: 31\n",
      "Trainable params: 31\n",
      "Non-trainable params: 0\n",
      "_________________________________________________________________\n"
     ]
    }
   ],
   "source": [
    "# Get a summary of our model\n",
    "model.summary()"
   ],
   "metadata": {
    "collapsed": false,
    "ExecuteTime": {
     "end_time": "2023-09-29T14:23:23.096223750Z",
     "start_time": "2023-09-29T14:23:23.014280535Z"
    }
   },
   "id": "ef79d837a807dbff"
  },
  {
   "cell_type": "code",
   "execution_count": 119,
   "outputs": [
    {
     "data": {
      "image/png": "[encoded data removed]",
      "text/plain": "<IPython.core.display.Image object>"
     },
     "execution_count": 119,
     "metadata": {},
     "output_type": "execute_result"
    }
   ],
   "source": [
    "# from tensorflow.keras.utils import plot_model\n",
    "# plot_model(model)\n",
    "tf.keras.utils.plot_model(model=model, show_shapes=True)"
   ],
   "metadata": {
    "collapsed": false,
    "ExecuteTime": {
     "end_time": "2023-09-29T14:23:24.385791137Z",
     "start_time": "2023-09-29T14:23:24.308229Z"
    }
   },
   "id": "9f76823a012a16fc"
  },
  {
   "cell_type": "markdown",
   "source": [
    "### Visualizing our model's predictions\n",
    "\n",
    "To visualize predictions, it's a good idea to plot them against the ground truth labels.\n",
    "\n",
    "Often you'll see this in the form of `y_test` or `y_true` versus `y_pred` (ground truth versus your model's predictions)"
   ],
   "metadata": {
    "collapsed": false
   },
   "id": "f5244483f581fae1"
  },
  {
   "cell_type": "code",
   "execution_count": 120,
   "outputs": [
    {
     "name": "stdout",
     "output_type": "stream",
     "text": [
      "1/1 [==============================] - 0s 46ms/step\n"
     ]
    },
    {
     "data": {
      "text/plain": "array([[ 76.837326],\n       [ 81.84803 ],\n       [ 86.85871 ],\n       [ 91.86941 ],\n       [ 96.88011 ],\n       [101.89079 ],\n       [106.90149 ],\n       [111.91219 ],\n       [116.922874],\n       [121.93357 ]], dtype=float32)"
     },
     "execution_count": 120,
     "metadata": {},
     "output_type": "execute_result"
    }
   ],
   "source": [
    "y_pred = model.predict(X_test)\n",
    "y_pred"
   ],
   "metadata": {
    "collapsed": false,
    "ExecuteTime": {
     "end_time": "2023-09-29T14:23:27.213123216Z",
     "start_time": "2023-09-29T14:23:27.006427242Z"
    }
   },
   "id": "293c2620b65dc170"
  },
  {
   "cell_type": "code",
   "execution_count": 121,
   "outputs": [
    {
     "data": {
      "text/plain": "<tf.Tensor: shape=(10,), dtype=int32, numpy=array([ 70,  74,  78,  82,  86,  90,  94,  98, 102, 106], dtype=int32)>"
     },
     "execution_count": 121,
     "metadata": {},
     "output_type": "execute_result"
    }
   ],
   "source": [
    "y_test"
   ],
   "metadata": {
    "collapsed": false,
    "ExecuteTime": {
     "end_time": "2023-09-29T14:23:30.873404587Z",
     "start_time": "2023-09-29T14:23:30.779720257Z"
    }
   },
   "id": "6c948e1753458992"
  },
  {
   "cell_type": "markdown",
   "source": [
    "key **Note:** If you feel like you're going to reuse some kind of functionality in the future, it's a good idea to turn it into function."
   ],
   "metadata": {
    "collapsed": false
   },
   "id": "39dcf705504e7045"
  },
  {
   "cell_type": "code",
   "execution_count": 122,
   "outputs": [],
   "source": [
    "# Let's create a plotting function\n",
    "def plot_predictions(train_data=X_train,\n",
    "                     train_labels=y_train,\n",
    "                     test_data=X_test,\n",
    "                     test_labels=y_test,\n",
    "                     predictions=y_pred):\n",
    "    \"\"\"\n",
    "    Plots training data, test data and compares predictions to ground truth labels.\n",
    "    \"\"\"\n",
    "    \n",
    "    plt.figure(figsize=(10, 7))\n",
    "    # Plot training data in blue\n",
    "    plt.scatter(train_data, train_labels, c=\"b\", label=\"Training data\")\n",
    "    # Plot testing data in green\n",
    "    plt.scatter(test_data, test_labels, c=\"g\", label=\"Testing data\")\n",
    "    # Plot model's predictions in red\n",
    "    plt.scatter(test_data, predictions, c=\"r\", label=\"Predictions\")\n",
    "    # Show the legend\n",
    "    plt.legend();"
   ],
   "metadata": {
    "collapsed": false,
    "ExecuteTime": {
     "end_time": "2023-09-29T14:23:35.915454087Z",
     "start_time": "2023-09-29T14:23:35.852529501Z"
    }
   },
   "id": "71cba8a1be7b2c81"
  },
  {
   "cell_type": "code",
   "execution_count": 123,
   "outputs": [
    {
     "data": {
      "text/plain": "<Figure size 1000x700 with 1 Axes>",
      "image/png": "[encoded data removed]"
     },
     "metadata": {},
     "output_type": "display_data"
    }
   ],
   "source": [
    "plot_predictions(train_data=X_train,\n",
    "                 train_labels=y_train,\n",
    "                 test_data=X_test,\n",
    "                 test_labels=y_test,\n",
    "                 predictions=y_pred)"
   ],
   "metadata": {
    "collapsed": false,
    "ExecuteTime": {
     "end_time": "2023-09-29T14:23:37.322460624Z",
     "start_time": "2023-09-29T14:23:37.116190453Z"
    }
   },
   "id": "2a6d51a53151bf01"
  },
  {
   "cell_type": "markdown",
   "source": [
    "### Evaluating our model's predictions with regression evaluation metrics\n",
    "\n",
    "Depending on the problem you're working on, there will be different evaluation metrics to evaluate your model's performance.\n",
    "\n",
    "Since we're working on a regresion, two of the main metrics:\n",
    "* MAE - mean absolute error, \"on average, how wrong is each of my model's predictions\"\n",
    "* MSE - mean square error, \"square the average errors\""
   ],
   "metadata": {
    "collapsed": false
   },
   "id": "9ebf4e56a0b6b139"
  },
  {
   "cell_type": "code",
   "execution_count": 124,
   "outputs": [
    {
     "name": "stdout",
     "output_type": "stream",
     "text": [
      "1/1 [==============================] - 0s 92ms/step - loss: 11.3855 - mae: 11.3855\n"
     ]
    },
    {
     "data": {
      "text/plain": "[11.38545036315918, 11.38545036315918]"
     },
     "execution_count": 124,
     "metadata": {},
     "output_type": "execute_result"
    }
   ],
   "source": [
    "# Evaluate the model on the test\n",
    "model.evaluate(X_test, y_test)"
   ],
   "metadata": {
    "collapsed": false,
    "ExecuteTime": {
     "end_time": "2023-09-29T14:23:46.041574452Z",
     "start_time": "2023-09-29T14:23:45.826229158Z"
    }
   },
   "id": "36177621aade1e45"
  },
  {
   "cell_type": "code",
   "execution_count": 125,
   "outputs": [
    {
     "data": {
      "text/plain": "<tf.Tensor: shape=(10,), dtype=float32, numpy=\narray([13.097605 , 10.860788 , 10.       , 10.373881 , 11.9520445,\n       14.734476 , 18.90149  , 23.912193 , 28.922876 , 33.93357  ],\n      dtype=float32)>"
     },
     "execution_count": 125,
     "metadata": {},
     "output_type": "execute_result"
    }
   ],
   "source": [
    "# Calculate the mean absolute error (wrong output)\n",
    "mae = tf.metrics.mean_absolute_error(y_true=y_test, y_pred=y_pred)\n",
    "mae"
   ],
   "metadata": {
    "collapsed": false,
    "ExecuteTime": {
     "end_time": "2023-09-29T14:23:49.475723223Z",
     "start_time": "2023-09-29T14:23:49.437717699Z"
    }
   },
   "id": "575b0fa5aebbd5fd"
  },
  {
   "cell_type": "code",
   "execution_count": 126,
   "outputs": [
    {
     "data": {
      "text/plain": "array([[ 76.837326],\n       [ 81.84803 ],\n       [ 86.85871 ],\n       [ 91.86941 ],\n       [ 96.88011 ],\n       [101.89079 ],\n       [106.90149 ],\n       [111.91219 ],\n       [116.922874],\n       [121.93357 ]], dtype=float32)"
     },
     "execution_count": 126,
     "metadata": {},
     "output_type": "execute_result"
    }
   ],
   "source": [
    "y_pred"
   ],
   "metadata": {
    "collapsed": false,
    "ExecuteTime": {
     "end_time": "2023-09-29T14:23:51.778052528Z",
     "start_time": "2023-09-29T14:23:51.735966584Z"
    }
   },
   "id": "aedf7261aa2cc7ac"
  },
  {
   "cell_type": "code",
   "execution_count": 127,
   "outputs": [
    {
     "data": {
      "text/plain": "<tf.Tensor: shape=(10, 1), dtype=float32, numpy=\narray([[ 76.837326],\n       [ 81.84803 ],\n       [ 86.85871 ],\n       [ 91.86941 ],\n       [ 96.88011 ],\n       [101.89079 ],\n       [106.90149 ],\n       [111.91219 ],\n       [116.922874],\n       [121.93357 ]], dtype=float32)>"
     },
     "execution_count": 127,
     "metadata": {},
     "output_type": "execute_result"
    }
   ],
   "source": [
    "tf.constant(y_pred)"
   ],
   "metadata": {
    "collapsed": false,
    "ExecuteTime": {
     "end_time": "2023-09-29T14:23:52.968793991Z",
     "start_time": "2023-09-29T14:23:52.846378052Z"
    }
   },
   "id": "efcfefa487523699"
  },
  {
   "cell_type": "code",
   "execution_count": 128,
   "outputs": [
    {
     "data": {
      "text/plain": "<tf.Tensor: shape=(10,), dtype=float32, numpy=\narray([ 76.837326,  81.84803 ,  86.85871 ,  91.86941 ,  96.88011 ,\n       101.89079 , 106.90149 , 111.91219 , 116.922874, 121.93357 ],\n      dtype=float32)>"
     },
     "execution_count": 128,
     "metadata": {},
     "output_type": "execute_result"
    }
   ],
   "source": [
    "tf.squeeze(y_pred)"
   ],
   "metadata": {
    "collapsed": false,
    "ExecuteTime": {
     "end_time": "2023-09-29T14:23:54.054246210Z",
     "start_time": "2023-09-29T14:23:54.017119524Z"
    }
   },
   "id": "f5f88f1ace7aeab8"
  },
  {
   "cell_type": "code",
   "execution_count": 129,
   "outputs": [
    {
     "data": {
      "text/plain": "<tf.Tensor: shape=(10,), dtype=int32, numpy=array([ 70,  74,  78,  82,  86,  90,  94,  98, 102, 106], dtype=int32)>"
     },
     "execution_count": 129,
     "metadata": {},
     "output_type": "execute_result"
    }
   ],
   "source": [
    "y_test"
   ],
   "metadata": {
    "collapsed": false,
    "ExecuteTime": {
     "end_time": "2023-09-29T14:23:55.058424102Z",
     "start_time": "2023-09-29T14:23:54.924940627Z"
    }
   },
   "id": "5dad140f654bcf85"
  },
  {
   "cell_type": "code",
   "execution_count": 130,
   "outputs": [
    {
     "data": {
      "text/plain": "<tf.Tensor: shape=(), dtype=float32, numpy=11.38545>"
     },
     "execution_count": 130,
     "metadata": {},
     "output_type": "execute_result"
    }
   ],
   "source": [
    "# Calculate the mean absolute error\n",
    "mae = tf.metrics.mean_absolute_error(y_true=y_test, y_pred=tf.squeeze(y_pred))\n",
    "mae"
   ],
   "metadata": {
    "collapsed": false,
    "ExecuteTime": {
     "end_time": "2023-09-29T14:23:56.561372400Z",
     "start_time": "2023-09-29T14:23:56.508638453Z"
    }
   },
   "id": "cd2acac44e2bdbab"
  },
  {
   "cell_type": "code",
   "execution_count": 131,
   "outputs": [
    {
     "data": {
      "text/plain": "<tf.Tensor: shape=(), dtype=float32, numpy=138.05588>"
     },
     "execution_count": 131,
     "metadata": {},
     "output_type": "execute_result"
    }
   ],
   "source": [
    "# Calculate the mean square error\n",
    "mse = tf.metrics.mean_squared_error(y_true=y_test,\n",
    "                                    y_pred=tf.squeeze(y_pred))\n",
    "mse"
   ],
   "metadata": {
    "collapsed": false,
    "ExecuteTime": {
     "end_time": "2023-09-29T14:23:57.789426926Z",
     "start_time": "2023-09-29T14:23:57.734141465Z"
    }
   },
   "id": "fe4b0fd576d35da1"
  },
  {
   "cell_type": "code",
   "execution_count": 132,
   "outputs": [],
   "source": [
    "# Make some functions to reuse MAE and MSE\n",
    "def mae(y_true, y_pred):\n",
    "    return tf.metrics.mean_absolute_error(y_true=y_true,\n",
    "                                          y_pred=tf.squeeze(y_pred))\n",
    "\n",
    "def mse(y_true, y_pred):\n",
    "    return tf.metrics.mean_squared_error(y_true=y_true,\n",
    "                                         y_pred=tf.squeeze(y_pred))"
   ],
   "metadata": {
    "collapsed": false,
    "ExecuteTime": {
     "end_time": "2023-09-29T14:23:59.169691037Z",
     "start_time": "2023-09-29T14:23:59.128457629Z"
    }
   },
   "id": "c6fceadbc41c29ae"
  },
  {
   "cell_type": "markdown",
   "source": [
    "### Running experiments to improve our model\n",
    "\n",
    "```\n",
    "Build a model -> fit it -> evaluate it -> tweak it -> fit it -> evaluate it -> tweak it -> fit it -> evaluate it ...\n",
    "```\n",
    "\n",
    "1. Get more data - get more examples for your model to train on (more opportunities to learn patterns or relationships between features and labels).\n",
    "2. Make your model larger (using a more complex model) - this might come in the form of more layers or more hidden units in each layer.\n",
    "3. Train for longger - give your model more of a chance to find patterns in the data.\n",
    "\n",
    "Let's do 3 modelling experiments:\n",
    "\n",
    "1. `model_1` - same as original model, 1 layer, trained for 100 epochs.\n",
    "2. `model_2` - 2 layers, trained for 100 epochs.\n",
    "3. `model_3` - 2 layers, trained for 500 epochs.\n",
    "\n",
    "**Build `model_1`**"
   ],
   "metadata": {
    "collapsed": false
   },
   "id": "b61006e52b76be84"
  },
  {
   "cell_type": "code",
   "execution_count": 133,
   "outputs": [
    {
     "name": "stdout",
     "output_type": "stream",
     "text": [
      "Epoch 1/100\n",
      "2/2 [==============================] - 0s 4ms/step - loss: 22.7474 - mae: 22.7474\n",
      "Epoch 2/100\n",
      "2/2 [==============================] - 0s 3ms/step - loss: 8.9208 - mae: 8.9208\n",
      "Epoch 3/100\n",
      "2/2 [==============================] - 0s 3ms/step - loss: 12.6052 - mae: 12.6052\n",
      "Epoch 4/100\n",
      "2/2 [==============================] - 0s 3ms/step - loss: 8.7646 - mae: 8.7646\n",
      "Epoch 5/100\n",
      "2/2 [==============================] - 0s 3ms/step - loss: 10.9923 - mae: 10.9923\n",
      "Epoch 6/100\n",
      "2/2 [==============================] - 0s 3ms/step - loss: 10.1548 - mae: 10.1548\n",
      "Epoch 7/100\n",
      "2/2 [==============================] - 0s 2ms/step - loss: 9.1751 - mae: 9.1751\n",
      "Epoch 8/100\n",
      "2/2 [==============================] - 0s 2ms/step - loss: 9.1165 - mae: 9.1165\n",
      "Epoch 9/100\n",
      "2/2 [==============================] - 0s 2ms/step - loss: 15.2207 - mae: 15.2207\n",
      "Epoch 10/100\n",
      "2/2 [==============================] - 0s 3ms/step - loss: 7.8214 - mae: 7.8214\n",
      "Epoch 11/100\n",
      "2/2 [==============================] - 0s 3ms/step - loss: 10.4290 - mae: 10.4290\n",
      "Epoch 12/100\n",
      "2/2 [==============================] - 0s 3ms/step - loss: 18.3501 - mae: 18.3501\n",
      "Epoch 13/100\n",
      "2/2 [==============================] - 0s 2ms/step - loss: 9.7515 - mae: 9.7515\n",
      "Epoch 14/100\n",
      "2/2 [==============================] - 0s 2ms/step - loss: 15.7618 - mae: 15.7618\n",
      "Epoch 15/100\n",
      "2/2 [==============================] - 0s 3ms/step - loss: 11.5953 - mae: 11.5953\n",
      "Epoch 16/100\n",
      "2/2 [==============================] - 0s 2ms/step - loss: 8.4771 - mae: 8.4771\n",
      "Epoch 17/100\n",
      "2/2 [==============================] - 0s 2ms/step - loss: 13.4965 - mae: 13.4965\n",
      "Epoch 18/100\n",
      "2/2 [==============================] - 0s 2ms/step - loss: 11.2915 - mae: 11.2915\n",
      "Epoch 19/100\n",
      "2/2 [==============================] - 0s 2ms/step - loss: 18.1115 - mae: 18.1115\n",
      "Epoch 20/100\n",
      "2/2 [==============================] - 0s 3ms/step - loss: 15.2446 - mae: 15.2446\n",
      "Epoch 21/100\n",
      "2/2 [==============================] - 0s 2ms/step - loss: 11.1829 - mae: 11.1829\n",
      "Epoch 22/100\n",
      "2/2 [==============================] - 0s 2ms/step - loss: 8.3257 - mae: 8.3257\n",
      "Epoch 23/100\n",
      "2/2 [==============================] - 0s 2ms/step - loss: 9.9371 - mae: 9.9371\n",
      "Epoch 24/100\n",
      "2/2 [==============================] - 0s 2ms/step - loss: 15.7681 - mae: 15.7681\n",
      "Epoch 25/100\n",
      "2/2 [==============================] - 0s 3ms/step - loss: 12.1931 - mae: 12.1931\n",
      "Epoch 26/100\n",
      "2/2 [==============================] - 0s 2ms/step - loss: 13.3352 - mae: 13.3352\n",
      "Epoch 27/100\n",
      "2/2 [==============================] - 0s 2ms/step - loss: 10.7590 - mae: 10.7590\n",
      "Epoch 28/100\n",
      "2/2 [==============================] - 0s 2ms/step - loss: 13.0346 - mae: 13.0346\n",
      "Epoch 29/100\n",
      "2/2 [==============================] - 0s 3ms/step - loss: 9.5351 - mae: 9.5351\n",
      "Epoch 30/100\n",
      "2/2 [==============================] - 0s 2ms/step - loss: 16.6469 - mae: 16.6469\n",
      "Epoch 31/100\n",
      "2/2 [==============================] - 0s 2ms/step - loss: 23.3612 - mae: 23.3612\n",
      "Epoch 32/100\n",
      "2/2 [==============================] - 0s 3ms/step - loss: 7.3556 - mae: 7.3556\n",
      "Epoch 33/100\n",
      "2/2 [==============================] - 0s 2ms/step - loss: 9.7634 - mae: 9.7634\n",
      "Epoch 34/100\n",
      "2/2 [==============================] - 0s 3ms/step - loss: 12.1771 - mae: 12.1771\n",
      "Epoch 35/100\n",
      "2/2 [==============================] - 0s 3ms/step - loss: 11.4501 - mae: 11.4501\n",
      "Epoch 36/100\n",
      "2/2 [==============================] - 0s 2ms/step - loss: 12.5897 - mae: 12.5897\n",
      "Epoch 37/100\n",
      "2/2 [==============================] - 0s 3ms/step - loss: 9.5257 - mae: 9.5257\n",
      "Epoch 38/100\n",
      "2/2 [==============================] - 0s 3ms/step - loss: 10.2240 - mae: 10.2240\n",
      "Epoch 39/100\n",
      "2/2 [==============================] - 0s 2ms/step - loss: 16.0941 - mae: 16.0941\n",
      "Epoch 40/100\n",
      "2/2 [==============================] - 0s 2ms/step - loss: 13.8435 - mae: 13.8435\n",
      "Epoch 41/100\n",
      "2/2 [==============================] - 0s 2ms/step - loss: 9.7281 - mae: 9.7281\n",
      "Epoch 42/100\n",
      "2/2 [==============================] - 0s 3ms/step - loss: 10.6964 - mae: 10.6964\n",
      "Epoch 43/100\n",
      "2/2 [==============================] - 0s 3ms/step - loss: 7.3153 - mae: 7.3153\n",
      "Epoch 44/100\n",
      "2/2 [==============================] - 0s 4ms/step - loss: 9.3971 - mae: 9.3971\n",
      "Epoch 45/100\n",
      "2/2 [==============================] - 0s 3ms/step - loss: 9.9921 - mae: 9.9921\n",
      "Epoch 46/100\n",
      "2/2 [==============================] - 0s 3ms/step - loss: 9.0996 - mae: 9.0996\n",
      "Epoch 47/100\n",
      "2/2 [==============================] - 0s 3ms/step - loss: 7.3418 - mae: 7.3418\n",
      "Epoch 48/100\n",
      "2/2 [==============================] - 0s 3ms/step - loss: 9.5767 - mae: 9.5767\n",
      "Epoch 49/100\n",
      "2/2 [==============================] - 0s 3ms/step - loss: 10.4396 - mae: 10.4396\n",
      "Epoch 50/100\n",
      "2/2 [==============================] - 0s 3ms/step - loss: 14.4665 - mae: 14.4665\n",
      "Epoch 51/100\n",
      "2/2 [==============================] - 0s 3ms/step - loss: 9.3763 - mae: 9.3763\n",
      "Epoch 52/100\n",
      "2/2 [==============================] - 0s 4ms/step - loss: 14.1095 - mae: 14.1095\n",
      "Epoch 53/100\n",
      "2/2 [==============================] - 0s 3ms/step - loss: 15.3485 - mae: 15.3485\n",
      "Epoch 54/100\n",
      "2/2 [==============================] - 0s 3ms/step - loss: 10.8708 - mae: 10.8708\n",
      "Epoch 55/100\n",
      "2/2 [==============================] - 0s 5ms/step - loss: 15.3769 - mae: 15.3769\n",
      "Epoch 56/100\n",
      "2/2 [==============================] - 0s 5ms/step - loss: 9.0767 - mae: 9.0767\n",
      "Epoch 57/100\n",
      "2/2 [==============================] - 0s 4ms/step - loss: 9.7084 - mae: 9.7084\n",
      "Epoch 58/100\n",
      "2/2 [==============================] - 0s 3ms/step - loss: 9.0067 - mae: 9.0067\n",
      "Epoch 59/100\n",
      "2/2 [==============================] - 0s 4ms/step - loss: 10.2540 - mae: 10.2540\n",
      "Epoch 60/100\n",
      "2/2 [==============================] - 0s 3ms/step - loss: 8.1412 - mae: 8.1412\n",
      "Epoch 61/100\n",
      "2/2 [==============================] - 0s 3ms/step - loss: 9.9931 - mae: 9.9931\n",
      "Epoch 62/100\n",
      "2/2 [==============================] - 0s 5ms/step - loss: 7.0551 - mae: 7.0551\n",
      "Epoch 63/100\n",
      "2/2 [==============================] - 0s 5ms/step - loss: 8.5470 - mae: 8.5470\n",
      "Epoch 64/100\n",
      "2/2 [==============================] - 0s 4ms/step - loss: 11.0680 - mae: 11.0680\n",
      "Epoch 65/100\n",
      "2/2 [==============================] - 0s 4ms/step - loss: 12.3973 - mae: 12.3973\n",
      "Epoch 66/100\n",
      "2/2 [==============================] - 0s 4ms/step - loss: 12.9424 - mae: 12.9424\n",
      "Epoch 67/100\n",
      "2/2 [==============================] - 0s 3ms/step - loss: 7.8054 - mae: 7.8054\n",
      "Epoch 68/100\n",
      "2/2 [==============================] - 0s 4ms/step - loss: 11.2319 - mae: 11.2319\n",
      "Epoch 69/100\n",
      "2/2 [==============================] - 0s 4ms/step - loss: 12.0669 - mae: 12.0669\n",
      "Epoch 70/100\n",
      "2/2 [==============================] - 0s 5ms/step - loss: 9.1549 - mae: 9.1549\n",
      "Epoch 71/100\n",
      "2/2 [==============================] - 0s 4ms/step - loss: 10.1572 - mae: 10.1572\n",
      "Epoch 72/100\n",
      "2/2 [==============================] - 0s 5ms/step - loss: 10.1362 - mae: 10.1362\n",
      "Epoch 73/100\n",
      "2/2 [==============================] - 0s 4ms/step - loss: 12.7461 - mae: 12.7461\n",
      "Epoch 74/100\n",
      "2/2 [==============================] - 0s 4ms/step - loss: 10.8658 - mae: 10.8658\n",
      "Epoch 75/100\n",
      "2/2 [==============================] - 0s 4ms/step - loss: 9.4796 - mae: 9.4796\n",
      "Epoch 76/100\n",
      "2/2 [==============================] - 0s 5ms/step - loss: 10.9234 - mae: 10.9234\n",
      "Epoch 77/100\n",
      "2/2 [==============================] - 0s 3ms/step - loss: 15.0063 - mae: 15.0063\n",
      "Epoch 78/100\n",
      "2/2 [==============================] - 0s 3ms/step - loss: 10.7857 - mae: 10.7857\n",
      "Epoch 79/100\n",
      "2/2 [==============================] - 0s 4ms/step - loss: 15.1039 - mae: 15.1039\n",
      "Epoch 80/100\n",
      "2/2 [==============================] - 0s 3ms/step - loss: 11.8119 - mae: 11.8119\n",
      "Epoch 81/100\n",
      "2/2 [==============================] - 0s 4ms/step - loss: 8.1405 - mae: 8.1405\n",
      "Epoch 82/100\n",
      "2/2 [==============================] - 0s 3ms/step - loss: 9.1094 - mae: 9.1094\n",
      "Epoch 83/100\n",
      "2/2 [==============================] - 0s 4ms/step - loss: 9.2046 - mae: 9.2046\n",
      "Epoch 84/100\n",
      "2/2 [==============================] - 0s 3ms/step - loss: 8.9317 - mae: 8.9317\n",
      "Epoch 85/100\n",
      "2/2 [==============================] - 0s 3ms/step - loss: 13.1662 - mae: 13.1662\n",
      "Epoch 86/100\n",
      "2/2 [==============================] - 0s 3ms/step - loss: 13.7211 - mae: 13.7211\n",
      "Epoch 87/100\n",
      "2/2 [==============================] - 0s 4ms/step - loss: 13.2060 - mae: 13.2060\n",
      "Epoch 88/100\n",
      "2/2 [==============================] - 0s 4ms/step - loss: 11.5327 - mae: 11.5327\n",
      "Epoch 89/100\n",
      "2/2 [==============================] - 0s 3ms/step - loss: 7.8062 - mae: 7.8062\n",
      "Epoch 90/100\n",
      "2/2 [==============================] - 0s 3ms/step - loss: 10.9453 - mae: 10.9453\n",
      "Epoch 91/100\n",
      "2/2 [==============================] - 0s 3ms/step - loss: 6.7440 - mae: 6.7440\n",
      "Epoch 92/100\n",
      "2/2 [==============================] - 0s 4ms/step - loss: 10.1382 - mae: 10.1382\n",
      "Epoch 93/100\n",
      "2/2 [==============================] - 0s 3ms/step - loss: 7.5939 - mae: 7.5939\n",
      "Epoch 94/100\n",
      "2/2 [==============================] - 0s 3ms/step - loss: 9.2250 - mae: 9.2250\n",
      "Epoch 95/100\n",
      "2/2 [==============================] - 0s 2ms/step - loss: 10.8049 - mae: 10.8049\n",
      "Epoch 96/100\n",
      "2/2 [==============================] - 0s 3ms/step - loss: 10.3121 - mae: 10.3121\n",
      "Epoch 97/100\n",
      "2/2 [==============================] - 0s 2ms/step - loss: 7.6622 - mae: 7.6622\n",
      "Epoch 98/100\n",
      "2/2 [==============================] - 0s 3ms/step - loss: 8.5992 - mae: 8.5992\n",
      "Epoch 99/100\n",
      "2/2 [==============================] - 0s 3ms/step - loss: 9.3757 - mae: 9.3757\n",
      "Epoch 100/100\n",
      "2/2 [==============================] - 0s 3ms/step - loss: 8.8265 - mae: 8.8265\n"
     ]
    },
    {
     "data": {
      "text/plain": "<keras.callbacks.History at 0x7fd62da266d0>"
     },
     "execution_count": 133,
     "metadata": {},
     "output_type": "execute_result"
    }
   ],
   "source": [
    "# Set random seed\n",
    "tf.random.set_seed(42)\n",
    "\n",
    "# 1. Create the model\n",
    "model_1 = tf.keras.Sequential([\n",
    "    tf.keras.layers.Dense(1)\n",
    "])\n",
    "\n",
    "# 2. Compile the model\n",
    "model_1.compile(loss=tf.keras.losses.mae,\n",
    "                optimizer=tf.keras.optimizers.SGD(),\n",
    "                metrics=[\"mae\"])\n",
    "\n",
    "# 3. Fit the model\n",
    "model_1.fit(tf.expand_dims(X_train, axis=-1), y_train, epochs=100)"
   ],
   "metadata": {
    "collapsed": false,
    "ExecuteTime": {
     "end_time": "2023-09-29T14:24:06.288783451Z",
     "start_time": "2023-09-29T14:24:04.443733350Z"
    }
   },
   "id": "722c58063f2b0200"
  },
  {
   "cell_type": "code",
   "execution_count": 134,
   "outputs": [
    {
     "name": "stdout",
     "output_type": "stream",
     "text": [
      "1/1 [==============================] - 0s 36ms/step\n"
     ]
    },
    {
     "data": {
      "text/plain": "<Figure size 1000x700 with 1 Axes>",
      "image/png": "[encoded data removed]"
     },
     "metadata": {},
     "output_type": "display_data"
    }
   ],
   "source": [
    "# Make and plot predictions for model_1\n",
    "y_preds_1 = model_1.predict(X_test)\n",
    "plot_predictions(predictions=y_preds_1)"
   ],
   "metadata": {
    "collapsed": false,
    "ExecuteTime": {
     "end_time": "2023-09-29T14:24:11.519085076Z",
     "start_time": "2023-09-29T14:24:11.230740531Z"
    }
   },
   "id": "382f33287c6f7581"
  },
  {
   "cell_type": "code",
   "execution_count": 135,
   "outputs": [
    {
     "data": {
      "text/plain": "(<tf.Tensor: shape=(10, 1), dtype=float32, numpy=\n array([[ 74.59032 ],\n        [ 79.47575 ],\n        [ 84.36119 ],\n        [ 89.24663 ],\n        [ 94.132065],\n        [ 99.0175  ],\n        [103.90295 ],\n        [108.78838 ],\n        [113.67382 ],\n        [118.55926 ]], dtype=float32)>,\n <tf.Tensor: shape=(10,), dtype=float32, numpy=\n array([ 74.59032 ,  79.47575 ,  84.36119 ,  89.24663 ,  94.132065,\n         99.0175  , 103.90295 , 108.78838 , 113.67382 , 118.55926 ],\n       dtype=float32)>)"
     },
     "execution_count": 135,
     "metadata": {},
     "output_type": "execute_result"
    }
   ],
   "source": [
    "tf.constant(y_preds_1), tf.squeeze(y_preds_1)"
   ],
   "metadata": {
    "collapsed": false,
    "ExecuteTime": {
     "end_time": "2023-09-29T14:24:13.934975295Z",
     "start_time": "2023-09-29T14:24:13.889802713Z"
    }
   },
   "id": "d717b5c1f0b6405"
  },
  {
   "cell_type": "code",
   "execution_count": 136,
   "outputs": [
    {
     "data": {
      "text/plain": "(<tf.Tensor: shape=(), dtype=float32, numpy=8.574786>,\n <tf.Tensor: shape=(), dtype=float32, numpy=79.99497>)"
     },
     "execution_count": 136,
     "metadata": {},
     "output_type": "execute_result"
    }
   ],
   "source": [
    "# Calculate model_1 evaluation metrics\n",
    "mae_1 = mae(y_test, y_preds_1)\n",
    "mse_1 = mse(y_test, y_preds_1)\n",
    "mae_1, mse_1"
   ],
   "metadata": {
    "collapsed": false,
    "ExecuteTime": {
     "end_time": "2023-09-29T14:24:16.138010605Z",
     "start_time": "2023-09-29T14:24:16.103404357Z"
    }
   },
   "id": "f00fe8d1a1017420"
  },
  {
   "cell_type": "markdown",
   "source": [
    "**Build `model_2`**\n",
    "\n",
    "* 2 dense layers, trained for 100 epochs"
   ],
   "metadata": {
    "collapsed": false
   },
   "id": "ab30453e074532d3"
  },
  {
   "cell_type": "code",
   "execution_count": 155,
   "outputs": [
    {
     "name": "stdout",
     "output_type": "stream",
     "text": [
      "Epoch 1/100\n",
      "2/2 [==============================] - 0s 13ms/step - loss: 51.4877 - mae: 51.4877\n",
      "Epoch 2/100\n",
      "2/2 [==============================] - 0s 4ms/step - loss: 36.6530 - mae: 36.6530\n",
      "Epoch 3/100\n",
      "2/2 [==============================] - 0s 4ms/step - loss: 40.8915 - mae: 40.8915\n",
      "Epoch 4/100\n",
      "2/2 [==============================] - 0s 4ms/step - loss: 25.7733 - mae: 25.7733\n",
      "Epoch 5/100\n",
      "2/2 [==============================] - 0s 3ms/step - loss: 15.2261 - mae: 15.2261\n",
      "Epoch 6/100\n",
      "2/2 [==============================] - 0s 5ms/step - loss: 12.1104 - mae: 12.1104\n",
      "Epoch 7/100\n",
      "2/2 [==============================] - 0s 8ms/step - loss: 11.4386 - mae: 11.4386\n",
      "Epoch 8/100\n",
      "2/2 [==============================] - 0s 4ms/step - loss: 11.2258 - mae: 11.2258\n",
      "Epoch 9/100\n",
      "2/2 [==============================] - 0s 4ms/step - loss: 41.8531 - mae: 41.8531\n",
      "Epoch 10/100\n",
      "2/2 [==============================] - 0s 8ms/step - loss: 29.0696 - mae: 29.0696\n",
      "Epoch 11/100\n",
      "2/2 [==============================] - 0s 5ms/step - loss: 8.5568 - mae: 8.5568\n",
      "Epoch 12/100\n",
      "2/2 [==============================] - 0s 7ms/step - loss: 27.4410 - mae: 27.4410\n",
      "Epoch 13/100\n",
      "2/2 [==============================] - 0s 7ms/step - loss: 12.1478 - mae: 12.1478\n",
      "Epoch 14/100\n",
      "2/2 [==============================] - 0s 9ms/step - loss: 35.0238 - mae: 35.0238\n",
      "Epoch 15/100\n",
      "2/2 [==============================] - 0s 14ms/step - loss: 22.8158 - mae: 22.8158\n",
      "Epoch 16/100\n",
      "2/2 [==============================] - 0s 8ms/step - loss: 9.9783 - mae: 9.9783\n",
      "Epoch 17/100\n",
      "2/2 [==============================] - 0s 6ms/step - loss: 18.3957 - mae: 18.3957\n",
      "Epoch 18/100\n",
      "2/2 [==============================] - 0s 8ms/step - loss: 11.2933 - mae: 11.2933\n",
      "Epoch 19/100\n",
      "2/2 [==============================] - 0s 17ms/step - loss: 13.8267 - mae: 13.8267\n",
      "Epoch 20/100\n",
      "2/2 [==============================] - 0s 12ms/step - loss: 11.1474 - mae: 11.1474\n",
      "Epoch 21/100\n",
      "2/2 [==============================] - 0s 14ms/step - loss: 17.1374 - mae: 17.1374\n",
      "Epoch 22/100\n",
      "2/2 [==============================] - 0s 7ms/step - loss: 15.3759 - mae: 15.3759\n",
      "Epoch 23/100\n",
      "2/2 [==============================] - 0s 10ms/step - loss: 9.2472 - mae: 9.2472\n",
      "Epoch 24/100\n",
      "2/2 [==============================] - 0s 5ms/step - loss: 17.3180 - mae: 17.3180\n",
      "Epoch 25/100\n",
      "2/2 [==============================] - 0s 10ms/step - loss: 15.9754 - mae: 15.9754\n",
      "Epoch 26/100\n",
      "2/2 [==============================] - 0s 5ms/step - loss: 21.0191 - mae: 21.0191\n",
      "Epoch 27/100\n",
      "2/2 [==============================] - 0s 5ms/step - loss: 25.7655 - mae: 25.7655\n",
      "Epoch 28/100\n",
      "2/2 [==============================] - 0s 4ms/step - loss: 18.2893 - mae: 18.2893\n",
      "Epoch 29/100\n",
      "2/2 [==============================] - 0s 5ms/step - loss: 9.2351 - mae: 9.2351\n",
      "Epoch 30/100\n",
      "2/2 [==============================] - 0s 4ms/step - loss: 28.8944 - mae: 28.8944\n",
      "Epoch 31/100\n",
      "2/2 [==============================] - 0s 6ms/step - loss: 52.3116 - mae: 52.3116\n",
      "Epoch 32/100\n",
      "2/2 [==============================] - 0s 5ms/step - loss: 11.8481 - mae: 11.8481\n",
      "Epoch 33/100\n",
      "2/2 [==============================] - 0s 5ms/step - loss: 15.3916 - mae: 15.3916\n",
      "Epoch 34/100\n",
      "2/2 [==============================] - 0s 5ms/step - loss: 12.5213 - mae: 12.5213\n",
      "Epoch 35/100\n",
      "2/2 [==============================] - 0s 5ms/step - loss: 9.1610 - mae: 9.1610\n",
      "Epoch 36/100\n",
      "2/2 [==============================] - 0s 5ms/step - loss: 16.3496 - mae: 16.3496\n",
      "Epoch 37/100\n",
      "2/2 [==============================] - 0s 6ms/step - loss: 11.1168 - mae: 11.1168\n",
      "Epoch 38/100\n",
      "2/2 [==============================] - 0s 5ms/step - loss: 18.2497 - mae: 18.2497\n",
      "Epoch 39/100\n",
      "2/2 [==============================] - 0s 5ms/step - loss: 19.1773 - mae: 19.1773\n",
      "Epoch 40/100\n",
      "2/2 [==============================] - 0s 4ms/step - loss: 20.5716 - mae: 20.5716\n",
      "Epoch 41/100\n",
      "2/2 [==============================] - 0s 4ms/step - loss: 14.7288 - mae: 14.7288\n",
      "Epoch 42/100\n",
      "2/2 [==============================] - 0s 5ms/step - loss: 12.1437 - mae: 12.1437\n",
      "Epoch 43/100\n",
      "2/2 [==============================] - 0s 26ms/step - loss: 10.6678 - mae: 10.6678\n",
      "Epoch 44/100\n",
      "2/2 [==============================] - 0s 11ms/step - loss: 32.0875 - mae: 32.0875\n",
      "Epoch 45/100\n",
      "2/2 [==============================] - 0s 7ms/step - loss: 12.4142 - mae: 12.4142\n",
      "Epoch 46/100\n",
      "2/2 [==============================] - 0s 8ms/step - loss: 17.3762 - mae: 17.3762\n",
      "Epoch 47/100\n",
      "2/2 [==============================] - 0s 11ms/step - loss: 15.8045 - mae: 15.8045\n",
      "Epoch 48/100\n",
      "2/2 [==============================] - 0s 18ms/step - loss: 8.4026 - mae: 8.4026\n",
      "Epoch 49/100\n",
      "2/2 [==============================] - 0s 15ms/step - loss: 14.2585 - mae: 14.2585\n",
      "Epoch 50/100\n",
      "2/2 [==============================] - 0s 11ms/step - loss: 15.1903 - mae: 15.1903\n",
      "Epoch 51/100\n",
      "2/2 [==============================] - 0s 7ms/step - loss: 13.6996 - mae: 13.6996\n",
      "Epoch 52/100\n",
      "2/2 [==============================] - 0s 22ms/step - loss: 18.1126 - mae: 18.1126\n",
      "Epoch 53/100\n",
      "2/2 [==============================] - 0s 8ms/step - loss: 22.7844 - mae: 22.7844\n",
      "Epoch 54/100\n",
      "2/2 [==============================] - 0s 6ms/step - loss: 26.7682 - mae: 26.7682\n",
      "Epoch 55/100\n",
      "2/2 [==============================] - 0s 9ms/step - loss: 26.3973 - mae: 26.3973\n",
      "Epoch 56/100\n",
      "2/2 [==============================] - 0s 13ms/step - loss: 11.3429 - mae: 11.3429\n",
      "Epoch 57/100\n",
      "2/2 [==============================] - 0s 6ms/step - loss: 13.3624 - mae: 13.3624\n",
      "Epoch 58/100\n",
      "2/2 [==============================] - 0s 6ms/step - loss: 9.9489 - mae: 9.9489\n",
      "Epoch 59/100\n",
      "2/2 [==============================] - 0s 6ms/step - loss: 13.9170 - mae: 13.9170\n",
      "Epoch 60/100\n",
      "2/2 [==============================] - 0s 5ms/step - loss: 9.9913 - mae: 9.9913\n",
      "Epoch 61/100\n",
      "2/2 [==============================] - 0s 14ms/step - loss: 14.9731 - mae: 14.9731\n",
      "Epoch 62/100\n",
      "2/2 [==============================] - 0s 6ms/step - loss: 11.9262 - mae: 11.9262\n",
      "Epoch 63/100\n",
      "2/2 [==============================] - 0s 7ms/step - loss: 10.2872 - mae: 10.2872\n",
      "Epoch 64/100\n",
      "2/2 [==============================] - 0s 7ms/step - loss: 23.8898 - mae: 23.8898\n",
      "Epoch 65/100\n",
      "2/2 [==============================] - 0s 6ms/step - loss: 10.4636 - mae: 10.4636\n",
      "Epoch 66/100\n",
      "2/2 [==============================] - 0s 6ms/step - loss: 20.9352 - mae: 20.9352\n",
      "Epoch 67/100\n",
      "2/2 [==============================] - 0s 7ms/step - loss: 10.4418 - mae: 10.4418\n",
      "Epoch 68/100\n",
      "2/2 [==============================] - 0s 24ms/step - loss: 14.1778 - mae: 14.1778\n",
      "Epoch 69/100\n",
      "2/2 [==============================] - 0s 12ms/step - loss: 10.5131 - mae: 10.5131\n",
      "Epoch 70/100\n",
      "2/2 [==============================] - 0s 5ms/step - loss: 12.5843 - mae: 12.5843\n",
      "Epoch 71/100\n",
      "2/2 [==============================] - 0s 7ms/step - loss: 13.0141 - mae: 13.0141\n",
      "Epoch 72/100\n",
      "2/2 [==============================] - 0s 7ms/step - loss: 19.3616 - mae: 19.3616\n",
      "Epoch 73/100\n",
      "2/2 [==============================] - 0s 7ms/step - loss: 11.1282 - mae: 11.1282\n",
      "Epoch 74/100\n",
      "2/2 [==============================] - 0s 7ms/step - loss: 21.4495 - mae: 21.4495\n",
      "Epoch 75/100\n",
      "2/2 [==============================] - 0s 7ms/step - loss: 9.4596 - mae: 9.4596\n",
      "Epoch 76/100\n",
      "2/2 [==============================] - 0s 7ms/step - loss: 12.2830 - mae: 12.2830\n",
      "Epoch 77/100\n",
      "2/2 [==============================] - 0s 7ms/step - loss: 16.3241 - mae: 16.3241\n",
      "Epoch 78/100\n",
      "2/2 [==============================] - 0s 14ms/step - loss: 9.0081 - mae: 9.0081\n",
      "Epoch 79/100\n",
      "2/2 [==============================] - 0s 7ms/step - loss: 23.5734 - mae: 23.5734\n",
      "Epoch 80/100\n",
      "2/2 [==============================] - 0s 15ms/step - loss: 26.2705 - mae: 26.2705\n",
      "Epoch 81/100\n",
      "2/2 [==============================] - 0s 7ms/step - loss: 11.4432 - mae: 11.4432\n",
      "Epoch 82/100\n",
      "2/2 [==============================] - 0s 7ms/step - loss: 12.4397 - mae: 12.4397\n",
      "Epoch 83/100\n",
      "2/2 [==============================] - 0s 7ms/step - loss: 17.1046 - mae: 17.1046\n",
      "Epoch 84/100\n",
      "2/2 [==============================] - 0s 15ms/step - loss: 7.2546 - mae: 7.2546\n",
      "Epoch 85/100\n",
      "2/2 [==============================] - 0s 6ms/step - loss: 37.1816 - mae: 37.1816\n",
      "Epoch 86/100\n",
      "2/2 [==============================] - 0s 14ms/step - loss: 21.1995 - mae: 21.1995\n",
      "Epoch 87/100\n",
      "2/2 [==============================] - 0s 6ms/step - loss: 11.0198 - mae: 11.0198\n",
      "Epoch 88/100\n",
      "2/2 [==============================] - 0s 6ms/step - loss: 25.0607 - mae: 25.0607\n",
      "Epoch 89/100\n",
      "2/2 [==============================] - 0s 7ms/step - loss: 9.3527 - mae: 9.3527\n",
      "Epoch 90/100\n",
      "2/2 [==============================] - 0s 9ms/step - loss: 17.3643 - mae: 17.3643\n",
      "Epoch 91/100\n",
      "2/2 [==============================] - 0s 8ms/step - loss: 10.7934 - mae: 10.7934\n",
      "Epoch 92/100\n",
      "2/2 [==============================] - 0s 8ms/step - loss: 19.0515 - mae: 19.0515\n",
      "Epoch 93/100\n",
      "2/2 [==============================] - 0s 8ms/step - loss: 8.3114 - mae: 8.3114\n",
      "Epoch 94/100\n",
      "2/2 [==============================] - 0s 7ms/step - loss: 11.5509 - mae: 11.5509\n",
      "Epoch 95/100\n",
      "2/2 [==============================] - 0s 7ms/step - loss: 26.0858 - mae: 26.0858\n",
      "Epoch 96/100\n",
      "2/2 [==============================] - 0s 7ms/step - loss: 11.1785 - mae: 11.1785\n",
      "Epoch 97/100\n",
      "2/2 [==============================] - 0s 18ms/step - loss: 16.7635 - mae: 16.7635\n",
      "Epoch 98/100\n",
      "2/2 [==============================] - 0s 8ms/step - loss: 6.5873 - mae: 6.5873\n",
      "Epoch 99/100\n",
      "2/2 [==============================] - 0s 14ms/step - loss: 12.6072 - mae: 12.6072\n",
      "Epoch 100/100\n",
      "2/2 [==============================] - 0s 8ms/step - loss: 19.4272 - mae: 19.4272\n"
     ]
    },
    {
     "data": {
      "text/plain": "<keras.callbacks.History at 0x7fd60ff2bfd0>"
     },
     "execution_count": 155,
     "metadata": {},
     "output_type": "execute_result"
    }
   ],
   "source": [
    "# Set the random seed\n",
    "tf.random.set_seed(42)\n",
    "\n",
    "# 1. Create the model\n",
    "model_2 = tf.keras.Sequential([\n",
    "    tf.keras.layers.Dense(10),\n",
    "    tf.keras.layers.Dense(1)\n",
    "])\n",
    "\n",
    "# 2. Compile the model\n",
    "model_2.compile(loss=tf.keras.losses.mae,\n",
    "                optimizer=tf.keras.optimizers.SGD(),\n",
    "                metrics=[\"mae\"])\n",
    "\n",
    "# 3. Fit the model\n",
    "model_2.fit(tf.expand_dims(X_train, axis=-1), y_train, epochs=100)"
   ],
   "metadata": {
    "collapsed": false,
    "ExecuteTime": {
     "end_time": "2023-09-29T14:28:26.814126323Z",
     "start_time": "2023-09-29T14:28:22.533090670Z"
    }
   },
   "id": "9acb465fd20c995c"
  },
  {
   "cell_type": "code",
   "execution_count": 156,
   "outputs": [
    {
     "name": "stdout",
     "output_type": "stream",
     "text": [
      "1/1 [==============================] - 0s 37ms/step\n"
     ]
    },
    {
     "data": {
      "text/plain": "<Figure size 1000x700 with 1 Axes>",
      "image/png": "[encoded data removed]"
     },
     "metadata": {},
     "output_type": "display_data"
    }
   ],
   "source": [
    "# Make and plot predictions of model_2\n",
    "y_preds_2 = model_2.predict(X_test)\n",
    "plot_predictions(predictions=y_preds_2)"
   ],
   "metadata": {
    "collapsed": false,
    "ExecuteTime": {
     "end_time": "2023-09-29T14:28:29.276467458Z",
     "start_time": "2023-09-29T14:28:28.907405536Z"
    }
   },
   "id": "1734489efbd4fb4e"
  },
  {
   "cell_type": "code",
   "execution_count": 157,
   "outputs": [
    {
     "data": {
      "text/plain": "(<tf.Tensor: shape=(), dtype=float32, numpy=13.157193>,\n <tf.Tensor: shape=(), dtype=float32, numpy=183.03856>)"
     },
     "execution_count": 157,
     "metadata": {},
     "output_type": "execute_result"
    }
   ],
   "source": [
    "# Calculate model_2 evaluation metrics\n",
    "mae_2 = mae(y_test, y_preds_2)\n",
    "mse_2 = mse(y_test, y_preds_2)\n",
    "mae_2, mse_2"
   ],
   "metadata": {
    "collapsed": false,
    "ExecuteTime": {
     "end_time": "2023-09-29T14:28:33.657381802Z",
     "start_time": "2023-09-29T14:28:33.610944641Z"
    }
   },
   "id": "c1a1bfe80b2973d1"
  },
  {
   "cell_type": "markdown",
   "source": [
    "**Build `model_3`**\n",
    "\n",
    "* 2 dense layers, trained for 500 epochs"
   ],
   "metadata": {
    "collapsed": false
   },
   "id": "e429d78109168242"
  },
  {
   "cell_type": "code",
   "execution_count": 140,
   "outputs": [
    {
     "name": "stdout",
     "output_type": "stream",
     "text": [
      "Epoch 1/500\n",
      "2/2 [==============================] - 0s 7ms/step - loss: 34.1933 - mae: 34.1933\n",
      "Epoch 2/500\n",
      "2/2 [==============================] - 0s 12ms/step - loss: 28.0360 - mae: 28.0360\n",
      "Epoch 3/500\n",
      "2/2 [==============================] - 0s 13ms/step - loss: 26.6532 - mae: 26.6532\n",
      "Epoch 4/500\n",
      "2/2 [==============================] - 0s 9ms/step - loss: 15.4682 - mae: 15.4682\n",
      "Epoch 5/500\n",
      "2/2 [==============================] - 0s 11ms/step - loss: 22.0149 - mae: 22.0149\n",
      "Epoch 6/500\n",
      "2/2 [==============================] - 0s 7ms/step - loss: 10.4304 - mae: 10.4304\n",
      "Epoch 7/500\n",
      "2/2 [==============================] - 0s 5ms/step - loss: 11.4116 - mae: 11.4116\n",
      "Epoch 8/500\n",
      "2/2 [==============================] - 0s 6ms/step - loss: 11.1943 - mae: 11.1943\n",
      "Epoch 9/500\n",
      "2/2 [==============================] - 0s 10ms/step - loss: 41.5134 - mae: 41.5134\n",
      "Epoch 10/500\n",
      "2/2 [==============================] - 0s 25ms/step - loss: 28.7706 - mae: 28.7706\n",
      "Epoch 11/500\n",
      "2/2 [==============================] - 0s 12ms/step - loss: 9.4161 - mae: 9.4161\n",
      "Epoch 12/500\n",
      "2/2 [==============================] - 0s 4ms/step - loss: 26.2533 - mae: 26.2533\n",
      "Epoch 13/500\n",
      "2/2 [==============================] - 0s 16ms/step - loss: 14.5244 - mae: 14.5244\n",
      "Epoch 14/500\n",
      "2/2 [==============================] - 0s 4ms/step - loss: 30.0547 - mae: 30.0547\n",
      "Epoch 15/500\n",
      "2/2 [==============================] - 0s 4ms/step - loss: 19.8683 - mae: 19.8683\n",
      "Epoch 16/500\n",
      "2/2 [==============================] - 0s 5ms/step - loss: 9.8886 - mae: 9.8886\n",
      "Epoch 17/500\n",
      "2/2 [==============================] - 0s 11ms/step - loss: 17.7535 - mae: 17.7535\n",
      "Epoch 18/500\n",
      "2/2 [==============================] - 0s 6ms/step - loss: 14.2202 - mae: 14.2202\n",
      "Epoch 19/500\n",
      "2/2 [==============================] - 0s 5ms/step - loss: 14.0638 - mae: 14.0638\n",
      "Epoch 20/500\n",
      "2/2 [==============================] - 0s 30ms/step - loss: 11.2628 - mae: 11.2628\n",
      "Epoch 21/500\n",
      "2/2 [==============================] - 0s 12ms/step - loss: 17.3870 - mae: 17.3870\n",
      "Epoch 22/500\n",
      "2/2 [==============================] - 0s 5ms/step - loss: 15.6229 - mae: 15.6229\n",
      "Epoch 23/500\n",
      "2/2 [==============================] - 0s 15ms/step - loss: 9.2422 - mae: 9.2422\n",
      "Epoch 24/500\n",
      "2/2 [==============================] - 0s 13ms/step - loss: 17.2324 - mae: 17.2324\n",
      "Epoch 25/500\n",
      "2/2 [==============================] - 0s 6ms/step - loss: 15.9196 - mae: 15.9196\n",
      "Epoch 26/500\n",
      "2/2 [==============================] - 0s 12ms/step - loss: 20.8775 - mae: 20.8775\n",
      "Epoch 27/500\n",
      "2/2 [==============================] - 0s 6ms/step - loss: 26.0851 - mae: 26.0851\n",
      "Epoch 28/500\n",
      "2/2 [==============================] - 0s 13ms/step - loss: 18.5677 - mae: 18.5677\n",
      "Epoch 29/500\n",
      "2/2 [==============================] - 0s 14ms/step - loss: 9.2560 - mae: 9.2560\n",
      "Epoch 30/500\n",
      "2/2 [==============================] - 0s 14ms/step - loss: 29.1820 - mae: 29.1820\n",
      "Epoch 31/500\n",
      "2/2 [==============================] - 0s 13ms/step - loss: 52.8661 - mae: 52.8661\n",
      "Epoch 32/500\n",
      "2/2 [==============================] - 0s 5ms/step - loss: 11.9747 - mae: 11.9747\n",
      "Epoch 33/500\n",
      "2/2 [==============================] - 0s 5ms/step - loss: 15.5871 - mae: 15.5871\n",
      "Epoch 34/500\n",
      "2/2 [==============================] - 0s 13ms/step - loss: 12.6643 - mae: 12.6643\n",
      "Epoch 35/500\n",
      "2/2 [==============================] - 0s 5ms/step - loss: 9.2323 - mae: 9.2323\n",
      "Epoch 36/500\n",
      "2/2 [==============================] - 0s 14ms/step - loss: 16.5777 - mae: 16.5777\n",
      "Epoch 37/500\n",
      "2/2 [==============================] - 0s 14ms/step - loss: 11.0670 - mae: 11.0670\n",
      "Epoch 38/500\n",
      "2/2 [==============================] - 0s 6ms/step - loss: 18.1939 - mae: 18.1939\n",
      "Epoch 39/500\n",
      "2/2 [==============================] - 0s 6ms/step - loss: 19.1298 - mae: 19.1298\n",
      "Epoch 40/500\n",
      "2/2 [==============================] - 0s 7ms/step - loss: 20.4815 - mae: 20.4815\n",
      "Epoch 41/500\n",
      "2/2 [==============================] - 0s 8ms/step - loss: 14.8639 - mae: 14.8639\n",
      "Epoch 42/500\n",
      "2/2 [==============================] - 0s 6ms/step - loss: 12.2464 - mae: 12.2464\n",
      "Epoch 43/500\n",
      "2/2 [==============================] - 0s 6ms/step - loss: 10.7196 - mae: 10.7196\n",
      "Epoch 44/500\n",
      "2/2 [==============================] - 0s 14ms/step - loss: 32.3667 - mae: 32.3667\n",
      "Epoch 45/500\n",
      "2/2 [==============================] - 0s 13ms/step - loss: 12.5075 - mae: 12.5075\n",
      "Epoch 46/500\n",
      "2/2 [==============================] - 0s 4ms/step - loss: 17.5918 - mae: 17.5918\n",
      "Epoch 47/500\n",
      "2/2 [==============================] - 0s 4ms/step - loss: 15.7357 - mae: 15.7357\n",
      "Epoch 48/500\n",
      "2/2 [==============================] - 0s 3ms/step - loss: 8.3688 - mae: 8.3688\n",
      "Epoch 49/500\n",
      "2/2 [==============================] - 0s 10ms/step - loss: 13.9741 - mae: 13.9741\n",
      "Epoch 50/500\n",
      "2/2 [==============================] - 0s 4ms/step - loss: 12.8152 - mae: 12.8152\n",
      "Epoch 51/500\n",
      "2/2 [==============================] - 0s 4ms/step - loss: 14.8316 - mae: 14.8316\n",
      "Epoch 52/500\n",
      "2/2 [==============================] - 0s 4ms/step - loss: 18.7206 - mae: 18.7206\n",
      "Epoch 53/500\n",
      "2/2 [==============================] - 0s 3ms/step - loss: 24.1581 - mae: 24.1581\n",
      "Epoch 54/500\n",
      "2/2 [==============================] - 0s 4ms/step - loss: 23.2073 - mae: 23.2073\n",
      "Epoch 55/500\n",
      "2/2 [==============================] - 0s 5ms/step - loss: 24.0645 - mae: 24.0645\n",
      "Epoch 56/500\n",
      "2/2 [==============================] - 0s 6ms/step - loss: 11.1816 - mae: 11.1816\n",
      "Epoch 57/500\n",
      "2/2 [==============================] - 0s 5ms/step - loss: 13.1368 - mae: 13.1368\n",
      "Epoch 58/500\n",
      "2/2 [==============================] - 0s 4ms/step - loss: 9.8253 - mae: 9.8253\n",
      "Epoch 59/500\n",
      "2/2 [==============================] - 0s 5ms/step - loss: 13.3157 - mae: 13.3157\n",
      "Epoch 60/500\n",
      "2/2 [==============================] - 0s 5ms/step - loss: 10.8817 - mae: 10.8817\n",
      "Epoch 61/500\n",
      "2/2 [==============================] - 0s 5ms/step - loss: 13.4779 - mae: 13.4779\n",
      "Epoch 62/500\n",
      "2/2 [==============================] - 0s 12ms/step - loss: 17.4894 - mae: 17.4894\n",
      "Epoch 63/500\n",
      "2/2 [==============================] - 0s 5ms/step - loss: 9.1676 - mae: 9.1676\n",
      "Epoch 64/500\n",
      "2/2 [==============================] - 0s 5ms/step - loss: 18.3563 - mae: 18.3563\n",
      "Epoch 65/500\n",
      "2/2 [==============================] - 0s 5ms/step - loss: 10.1217 - mae: 10.1217\n",
      "Epoch 66/500\n",
      "2/2 [==============================] - 0s 5ms/step - loss: 24.2033 - mae: 24.2033\n",
      "Epoch 67/500\n",
      "2/2 [==============================] - 0s 5ms/step - loss: 10.8837 - mae: 10.8837\n",
      "Epoch 68/500\n",
      "2/2 [==============================] - 0s 4ms/step - loss: 10.7692 - mae: 10.7692\n",
      "Epoch 69/500\n",
      "2/2 [==============================] - 0s 5ms/step - loss: 23.1677 - mae: 23.1677\n",
      "Epoch 70/500\n",
      "2/2 [==============================] - 0s 5ms/step - loss: 8.8359 - mae: 8.8359\n",
      "Epoch 71/500\n",
      "2/2 [==============================] - 0s 4ms/step - loss: 16.0150 - mae: 16.0150\n",
      "Epoch 72/500\n",
      "2/2 [==============================] - 0s 5ms/step - loss: 8.1698 - mae: 8.1698\n",
      "Epoch 73/500\n",
      "2/2 [==============================] - 0s 5ms/step - loss: 9.4752 - mae: 9.4752\n",
      "Epoch 74/500\n",
      "2/2 [==============================] - 0s 4ms/step - loss: 28.1855 - mae: 28.1855\n",
      "Epoch 75/500\n",
      "2/2 [==============================] - 0s 5ms/step - loss: 10.1784 - mae: 10.1784\n",
      "Epoch 76/500\n",
      "2/2 [==============================] - 0s 5ms/step - loss: 13.1218 - mae: 13.1218\n",
      "Epoch 77/500\n",
      "2/2 [==============================] - 0s 5ms/step - loss: 18.2998 - mae: 18.2998\n",
      "Epoch 78/500\n",
      "2/2 [==============================] - 0s 5ms/step - loss: 9.0167 - mae: 9.0167\n",
      "Epoch 79/500\n",
      "2/2 [==============================] - 0s 5ms/step - loss: 29.2256 - mae: 29.2256\n",
      "Epoch 80/500\n",
      "2/2 [==============================] - 0s 11ms/step - loss: 31.6509 - mae: 31.6509\n",
      "Epoch 81/500\n",
      "2/2 [==============================] - 0s 5ms/step - loss: 13.9024 - mae: 13.9024\n",
      "Epoch 82/500\n",
      "2/2 [==============================] - 0s 5ms/step - loss: 15.7129 - mae: 15.7129\n",
      "Epoch 83/500\n",
      "2/2 [==============================] - 0s 5ms/step - loss: 11.2067 - mae: 11.2067\n",
      "Epoch 84/500\n",
      "2/2 [==============================] - 0s 5ms/step - loss: 7.3225 - mae: 7.3225\n",
      "Epoch 85/500\n",
      "2/2 [==============================] - 0s 5ms/step - loss: 15.1421 - mae: 15.1421\n",
      "Epoch 86/500\n",
      "2/2 [==============================] - 0s 6ms/step - loss: 15.4300 - mae: 15.4300\n",
      "Epoch 87/500\n",
      "2/2 [==============================] - 0s 5ms/step - loss: 19.3891 - mae: 19.3891\n",
      "Epoch 88/500\n",
      "2/2 [==============================] - 0s 5ms/step - loss: 29.0992 - mae: 29.0992\n",
      "Epoch 89/500\n",
      "2/2 [==============================] - 0s 5ms/step - loss: 10.0878 - mae: 10.0878\n",
      "Epoch 90/500\n",
      "2/2 [==============================] - 0s 4ms/step - loss: 20.9233 - mae: 20.9233\n",
      "Epoch 91/500\n",
      "2/2 [==============================] - 0s 5ms/step - loss: 10.4451 - mae: 10.4451\n",
      "Epoch 92/500\n",
      "2/2 [==============================] - 0s 9ms/step - loss: 17.8541 - mae: 17.8541\n",
      "Epoch 93/500\n",
      "2/2 [==============================] - 0s 5ms/step - loss: 6.5784 - mae: 6.5784\n",
      "Epoch 94/500\n",
      "2/2 [==============================] - 0s 12ms/step - loss: 11.0957 - mae: 11.0957\n",
      "Epoch 95/500\n",
      "2/2 [==============================] - 0s 4ms/step - loss: 24.1808 - mae: 24.1808\n",
      "Epoch 96/500\n",
      "2/2 [==============================] - 0s 4ms/step - loss: 10.6985 - mae: 10.6985\n",
      "Epoch 97/500\n",
      "2/2 [==============================] - 0s 4ms/step - loss: 15.2350 - mae: 15.2350\n",
      "Epoch 98/500\n",
      "2/2 [==============================] - 0s 5ms/step - loss: 8.2325 - mae: 8.2325\n",
      "Epoch 99/500\n",
      "2/2 [==============================] - 0s 5ms/step - loss: 16.4038 - mae: 16.4038\n",
      "Epoch 100/500\n",
      "2/2 [==============================] - 0s 4ms/step - loss: 13.8276 - mae: 13.8276\n",
      "Epoch 101/500\n",
      "2/2 [==============================] - 0s 4ms/step - loss: 17.7552 - mae: 17.7552\n",
      "Epoch 102/500\n",
      "2/2 [==============================] - 0s 5ms/step - loss: 10.9783 - mae: 10.9783\n",
      "Epoch 103/500\n",
      "2/2 [==============================] - 0s 4ms/step - loss: 9.2644 - mae: 9.2644\n",
      "Epoch 104/500\n",
      "2/2 [==============================] - 0s 5ms/step - loss: 24.3072 - mae: 24.3072\n",
      "Epoch 105/500\n",
      "2/2 [==============================] - 0s 4ms/step - loss: 11.3687 - mae: 11.3687\n",
      "Epoch 106/500\n",
      "2/2 [==============================] - 0s 5ms/step - loss: 9.9581 - mae: 9.9581\n",
      "Epoch 107/500\n",
      "2/2 [==============================] - 0s 4ms/step - loss: 21.7369 - mae: 21.7369\n",
      "Epoch 108/500\n",
      "2/2 [==============================] - 0s 4ms/step - loss: 7.9958 - mae: 7.9958\n",
      "Epoch 109/500\n",
      "2/2 [==============================] - 0s 4ms/step - loss: 12.3186 - mae: 12.3186\n",
      "Epoch 110/500\n",
      "2/2 [==============================] - 0s 4ms/step - loss: 10.2717 - mae: 10.2717\n",
      "Epoch 111/500\n",
      "2/2 [==============================] - 0s 6ms/step - loss: 16.0774 - mae: 16.0774\n",
      "Epoch 112/500\n",
      "2/2 [==============================] - 0s 4ms/step - loss: 9.3307 - mae: 9.3307\n",
      "Epoch 113/500\n",
      "2/2 [==============================] - 0s 4ms/step - loss: 16.6226 - mae: 16.6226\n",
      "Epoch 114/500\n",
      "2/2 [==============================] - 0s 4ms/step - loss: 18.0978 - mae: 18.0978\n",
      "Epoch 115/500\n",
      "2/2 [==============================] - 0s 5ms/step - loss: 10.8038 - mae: 10.8038\n",
      "Epoch 116/500\n",
      "2/2 [==============================] - 0s 4ms/step - loss: 22.0127 - mae: 22.0127\n",
      "Epoch 117/500\n",
      "2/2 [==============================] - 0s 4ms/step - loss: 9.2296 - mae: 9.2296\n",
      "Epoch 118/500\n",
      "2/2 [==============================] - 0s 5ms/step - loss: 10.2337 - mae: 10.2337\n",
      "Epoch 119/500\n",
      "2/2 [==============================] - 0s 5ms/step - loss: 8.0290 - mae: 8.0290\n",
      "Epoch 120/500\n",
      "2/2 [==============================] - 0s 5ms/step - loss: 46.4987 - mae: 46.4987\n",
      "Epoch 121/500\n",
      "2/2 [==============================] - 0s 4ms/step - loss: 12.1517 - mae: 12.1517\n",
      "Epoch 122/500\n",
      "2/2 [==============================] - 0s 5ms/step - loss: 23.1739 - mae: 23.1739\n",
      "Epoch 123/500\n",
      "2/2 [==============================] - 0s 5ms/step - loss: 27.9367 - mae: 27.9367\n",
      "Epoch 124/500\n",
      "2/2 [==============================] - 0s 4ms/step - loss: 15.6614 - mae: 15.6614\n",
      "Epoch 125/500\n",
      "2/2 [==============================] - 0s 5ms/step - loss: 8.4042 - mae: 8.4042\n",
      "Epoch 126/500\n",
      "2/2 [==============================] - 0s 5ms/step - loss: 11.2640 - mae: 11.2640\n",
      "Epoch 127/500\n",
      "2/2 [==============================] - 0s 5ms/step - loss: 17.5625 - mae: 17.5625\n",
      "Epoch 128/500\n",
      "2/2 [==============================] - 0s 4ms/step - loss: 11.0488 - mae: 11.0488\n",
      "Epoch 129/500\n",
      "2/2 [==============================] - 0s 4ms/step - loss: 19.7204 - mae: 19.7204\n",
      "Epoch 130/500\n",
      "2/2 [==============================] - 0s 5ms/step - loss: 10.1969 - mae: 10.1969\n",
      "Epoch 131/500\n",
      "2/2 [==============================] - 0s 5ms/step - loss: 21.3733 - mae: 21.3733\n",
      "Epoch 132/500\n",
      "2/2 [==============================] - 0s 9ms/step - loss: 8.2326 - mae: 8.2326\n",
      "Epoch 133/500\n",
      "2/2 [==============================] - 0s 3ms/step - loss: 9.0168 - mae: 9.0168\n",
      "Epoch 134/500\n",
      "2/2 [==============================] - 0s 4ms/step - loss: 16.6567 - mae: 16.6567\n",
      "Epoch 135/500\n",
      "2/2 [==============================] - 0s 5ms/step - loss: 10.5844 - mae: 10.5844\n",
      "Epoch 136/500\n",
      "2/2 [==============================] - 0s 5ms/step - loss: 18.2702 - mae: 18.2702\n",
      "Epoch 137/500\n",
      "2/2 [==============================] - 0s 5ms/step - loss: 23.1515 - mae: 23.1515\n",
      "Epoch 138/500\n",
      "2/2 [==============================] - 0s 5ms/step - loss: 9.1641 - mae: 9.1641\n",
      "Epoch 139/500\n",
      "2/2 [==============================] - 0s 5ms/step - loss: 8.9463 - mae: 8.9463\n",
      "Epoch 140/500\n",
      "2/2 [==============================] - 0s 5ms/step - loss: 16.4267 - mae: 16.4267\n",
      "Epoch 141/500\n",
      "2/2 [==============================] - 0s 5ms/step - loss: 8.4672 - mae: 8.4672\n",
      "Epoch 142/500\n",
      "2/2 [==============================] - 0s 5ms/step - loss: 36.7655 - mae: 36.7655\n",
      "Epoch 143/500\n",
      "2/2 [==============================] - 0s 8ms/step - loss: 25.4612 - mae: 25.4612\n",
      "Epoch 144/500\n",
      "2/2 [==============================] - 0s 5ms/step - loss: 9.5834 - mae: 9.5834\n",
      "Epoch 145/500\n",
      "2/2 [==============================] - 0s 5ms/step - loss: 26.6630 - mae: 26.6630\n",
      "Epoch 146/500\n",
      "2/2 [==============================] - 0s 5ms/step - loss: 8.6980 - mae: 8.6980\n",
      "Epoch 147/500\n",
      "2/2 [==============================] - 0s 5ms/step - loss: 15.6980 - mae: 15.6980\n",
      "Epoch 148/500\n",
      "2/2 [==============================] - 0s 5ms/step - loss: 18.4037 - mae: 18.4037\n",
      "Epoch 149/500\n",
      "2/2 [==============================] - 0s 5ms/step - loss: 8.1693 - mae: 8.1693\n",
      "Epoch 150/500\n",
      "2/2 [==============================] - 0s 5ms/step - loss: 7.5136 - mae: 7.5136\n",
      "Epoch 151/500\n",
      "2/2 [==============================] - 0s 5ms/step - loss: 18.1311 - mae: 18.1311\n",
      "Epoch 152/500\n",
      "2/2 [==============================] - 0s 5ms/step - loss: 10.2782 - mae: 10.2782\n",
      "Epoch 153/500\n",
      "2/2 [==============================] - 0s 4ms/step - loss: 29.2798 - mae: 29.2798\n",
      "Epoch 154/500\n",
      "2/2 [==============================] - 0s 5ms/step - loss: 10.6530 - mae: 10.6530\n",
      "Epoch 155/500\n",
      "2/2 [==============================] - 0s 5ms/step - loss: 15.5418 - mae: 15.5418\n",
      "Epoch 156/500\n",
      "2/2 [==============================] - 0s 5ms/step - loss: 17.1971 - mae: 17.1971\n",
      "Epoch 157/500\n",
      "2/2 [==============================] - 0s 6ms/step - loss: 32.3649 - mae: 32.3649\n",
      "Epoch 158/500\n",
      "2/2 [==============================] - 0s 5ms/step - loss: 10.6174 - mae: 10.6174\n",
      "Epoch 159/500\n",
      "2/2 [==============================] - 0s 4ms/step - loss: 8.8848 - mae: 8.8848\n",
      "Epoch 160/500\n",
      "2/2 [==============================] - 0s 5ms/step - loss: 21.7769 - mae: 21.7769\n",
      "Epoch 161/500\n",
      "2/2 [==============================] - 0s 5ms/step - loss: 11.0843 - mae: 11.0843\n",
      "Epoch 162/500\n",
      "2/2 [==============================] - 0s 4ms/step - loss: 21.3046 - mae: 21.3046\n",
      "Epoch 163/500\n",
      "2/2 [==============================] - 0s 5ms/step - loss: 18.7970 - mae: 18.7970\n",
      "Epoch 164/500\n",
      "2/2 [==============================] - 0s 5ms/step - loss: 12.6418 - mae: 12.6418\n",
      "Epoch 165/500\n",
      "2/2 [==============================] - 0s 5ms/step - loss: 12.7601 - mae: 12.7601\n",
      "Epoch 166/500\n",
      "2/2 [==============================] - 0s 5ms/step - loss: 18.9632 - mae: 18.9632\n",
      "Epoch 167/500\n",
      "2/2 [==============================] - 0s 5ms/step - loss: 26.6860 - mae: 26.6860\n",
      "Epoch 168/500\n",
      "2/2 [==============================] - 0s 5ms/step - loss: 9.9821 - mae: 9.9821\n",
      "Epoch 169/500\n",
      "2/2 [==============================] - 0s 5ms/step - loss: 22.9210 - mae: 22.9210\n",
      "Epoch 170/500\n",
      "2/2 [==============================] - 0s 5ms/step - loss: 10.1201 - mae: 10.1201\n",
      "Epoch 171/500\n",
      "2/2 [==============================] - 0s 5ms/step - loss: 17.9097 - mae: 17.9097\n",
      "Epoch 172/500\n",
      "2/2 [==============================] - 0s 4ms/step - loss: 29.1752 - mae: 29.1752\n",
      "Epoch 173/500\n",
      "2/2 [==============================] - 0s 5ms/step - loss: 16.8117 - mae: 16.8117\n",
      "Epoch 174/500\n",
      "2/2 [==============================] - 0s 5ms/step - loss: 11.2069 - mae: 11.2069\n",
      "Epoch 175/500\n",
      "2/2 [==============================] - 0s 5ms/step - loss: 27.5030 - mae: 27.5030\n",
      "Epoch 176/500\n",
      "2/2 [==============================] - 0s 5ms/step - loss: 8.4075 - mae: 8.4075\n",
      "Epoch 177/500\n",
      "2/2 [==============================] - 0s 5ms/step - loss: 9.3771 - mae: 9.3771\n",
      "Epoch 178/500\n",
      "2/2 [==============================] - 0s 5ms/step - loss: 18.3920 - mae: 18.3920\n",
      "Epoch 179/500\n",
      "2/2 [==============================] - 0s 5ms/step - loss: 10.5036 - mae: 10.5036\n",
      "Epoch 180/500\n",
      "2/2 [==============================] - 0s 5ms/step - loss: 7.9881 - mae: 7.9881\n",
      "Epoch 181/500\n",
      "2/2 [==============================] - 0s 4ms/step - loss: 17.5844 - mae: 17.5844\n",
      "Epoch 182/500\n",
      "2/2 [==============================] - 0s 6ms/step - loss: 11.1383 - mae: 11.1383\n",
      "Epoch 183/500\n",
      "2/2 [==============================] - 0s 7ms/step - loss: 11.7968 - mae: 11.7968\n",
      "Epoch 184/500\n",
      "2/2 [==============================] - 0s 6ms/step - loss: 30.6304 - mae: 30.6304\n",
      "Epoch 185/500\n",
      "2/2 [==============================] - 0s 12ms/step - loss: 7.5846 - mae: 7.5846\n",
      "Epoch 186/500\n",
      "2/2 [==============================] - 0s 5ms/step - loss: 15.9512 - mae: 15.9512\n",
      "Epoch 187/500\n",
      "2/2 [==============================] - 0s 4ms/step - loss: 8.6252 - mae: 8.6252\n",
      "Epoch 188/500\n",
      "2/2 [==============================] - 0s 6ms/step - loss: 28.8764 - mae: 28.8764\n",
      "Epoch 189/500\n",
      "2/2 [==============================] - 0s 5ms/step - loss: 13.1599 - mae: 13.1599\n",
      "Epoch 190/500\n",
      "2/2 [==============================] - 0s 12ms/step - loss: 18.3026 - mae: 18.3026\n",
      "Epoch 191/500\n",
      "2/2 [==============================] - 0s 10ms/step - loss: 13.7298 - mae: 13.7298\n",
      "Epoch 192/500\n",
      "2/2 [==============================] - 0s 4ms/step - loss: 13.7260 - mae: 13.7260\n",
      "Epoch 193/500\n",
      "2/2 [==============================] - 0s 4ms/step - loss: 28.5750 - mae: 28.5750\n",
      "Epoch 194/500\n",
      "2/2 [==============================] - 0s 11ms/step - loss: 7.1254 - mae: 7.1254\n",
      "Epoch 195/500\n",
      "2/2 [==============================] - 0s 19ms/step - loss: 7.0962 - mae: 7.0962\n",
      "Epoch 196/500\n",
      "2/2 [==============================] - 0s 14ms/step - loss: 22.0188 - mae: 22.0188\n",
      "Epoch 197/500\n",
      "2/2 [==============================] - 0s 18ms/step - loss: 20.8293 - mae: 20.8293\n",
      "Epoch 198/500\n",
      "2/2 [==============================] - 0s 12ms/step - loss: 12.4768 - mae: 12.4768\n",
      "Epoch 199/500\n",
      "2/2 [==============================] - 0s 12ms/step - loss: 17.8929 - mae: 17.8929\n",
      "Epoch 200/500\n",
      "2/2 [==============================] - 0s 9ms/step - loss: 13.7359 - mae: 13.7359\n",
      "Epoch 201/500\n",
      "2/2 [==============================] - 0s 6ms/step - loss: 5.5203 - mae: 5.5203\n",
      "Epoch 202/500\n",
      "2/2 [==============================] - 0s 11ms/step - loss: 13.6785 - mae: 13.6785\n",
      "Epoch 203/500\n",
      "2/2 [==============================] - 0s 27ms/step - loss: 9.4443 - mae: 9.4443\n",
      "Epoch 204/500\n",
      "2/2 [==============================] - 0s 21ms/step - loss: 20.8795 - mae: 20.8795\n",
      "Epoch 205/500\n",
      "2/2 [==============================] - 0s 8ms/step - loss: 9.5569 - mae: 9.5569\n",
      "Epoch 206/500\n",
      "2/2 [==============================] - 0s 5ms/step - loss: 11.1931 - mae: 11.1931\n",
      "Epoch 207/500\n",
      "2/2 [==============================] - 0s 4ms/step - loss: 17.7426 - mae: 17.7426\n",
      "Epoch 208/500\n",
      "2/2 [==============================] - 0s 7ms/step - loss: 14.4398 - mae: 14.4398\n",
      "Epoch 209/500\n",
      "2/2 [==============================] - 0s 12ms/step - loss: 16.7605 - mae: 16.7605\n",
      "Epoch 210/500\n",
      "2/2 [==============================] - 0s 6ms/step - loss: 18.2855 - mae: 18.2855\n",
      "Epoch 211/500\n",
      "2/2 [==============================] - 0s 11ms/step - loss: 9.9947 - mae: 9.9947\n",
      "Epoch 212/500\n",
      "2/2 [==============================] - 0s 5ms/step - loss: 18.7611 - mae: 18.7611\n",
      "Epoch 213/500\n",
      "2/2 [==============================] - 0s 13ms/step - loss: 14.9451 - mae: 14.9451\n",
      "Epoch 214/500\n",
      "2/2 [==============================] - 0s 5ms/step - loss: 14.5319 - mae: 14.5319\n",
      "Epoch 215/500\n",
      "2/2 [==============================] - 0s 9ms/step - loss: 23.1725 - mae: 23.1725\n",
      "Epoch 216/500\n",
      "2/2 [==============================] - 0s 13ms/step - loss: 13.6021 - mae: 13.6021\n",
      "Epoch 217/500\n",
      "2/2 [==============================] - 0s 4ms/step - loss: 10.0781 - mae: 10.0781\n",
      "Epoch 218/500\n",
      "2/2 [==============================] - 0s 4ms/step - loss: 12.4291 - mae: 12.4291\n",
      "Epoch 219/500\n",
      "2/2 [==============================] - 0s 4ms/step - loss: 5.8770 - mae: 5.8770\n",
      "Epoch 220/500\n",
      "2/2 [==============================] - 0s 4ms/step - loss: 10.2056 - mae: 10.2056\n",
      "Epoch 221/500\n",
      "2/2 [==============================] - 0s 14ms/step - loss: 28.8577 - mae: 28.8577\n",
      "Epoch 222/500\n",
      "2/2 [==============================] - 0s 11ms/step - loss: 28.0359 - mae: 28.0359\n",
      "Epoch 223/500\n",
      "2/2 [==============================] - 0s 11ms/step - loss: 10.0854 - mae: 10.0854\n",
      "Epoch 224/500\n",
      "2/2 [==============================] - 0s 5ms/step - loss: 14.6376 - mae: 14.6376\n",
      "Epoch 225/500\n",
      "2/2 [==============================] - 0s 5ms/step - loss: 16.6574 - mae: 16.6574\n",
      "Epoch 226/500\n",
      "2/2 [==============================] - 0s 5ms/step - loss: 15.8790 - mae: 15.8790\n",
      "Epoch 227/500\n",
      "2/2 [==============================] - 0s 6ms/step - loss: 16.0984 - mae: 16.0984\n",
      "Epoch 228/500\n",
      "2/2 [==============================] - 0s 4ms/step - loss: 13.8755 - mae: 13.8755\n",
      "Epoch 229/500\n",
      "2/2 [==============================] - 0s 5ms/step - loss: 17.9995 - mae: 17.9995\n",
      "Epoch 230/500\n",
      "2/2 [==============================] - 0s 5ms/step - loss: 15.5927 - mae: 15.5927\n",
      "Epoch 231/500\n",
      "2/2 [==============================] - 0s 5ms/step - loss: 21.1251 - mae: 21.1251\n",
      "Epoch 232/500\n",
      "2/2 [==============================] - 0s 4ms/step - loss: 25.4537 - mae: 25.4537\n",
      "Epoch 233/500\n",
      "2/2 [==============================] - 0s 5ms/step - loss: 16.4683 - mae: 16.4683\n",
      "Epoch 234/500\n",
      "2/2 [==============================] - 0s 4ms/step - loss: 7.3605 - mae: 7.3605\n",
      "Epoch 235/500\n",
      "2/2 [==============================] - 0s 4ms/step - loss: 17.1034 - mae: 17.1034\n",
      "Epoch 236/500\n",
      "2/2 [==============================] - 0s 5ms/step - loss: 7.2134 - mae: 7.2134\n",
      "Epoch 237/500\n",
      "2/2 [==============================] - 0s 5ms/step - loss: 9.3025 - mae: 9.3025\n",
      "Epoch 238/500\n",
      "2/2 [==============================] - 0s 5ms/step - loss: 8.1715 - mae: 8.1715\n",
      "Epoch 239/500\n",
      "2/2 [==============================] - 0s 4ms/step - loss: 17.0999 - mae: 17.0999\n",
      "Epoch 240/500\n",
      "2/2 [==============================] - 0s 5ms/step - loss: 8.9316 - mae: 8.9316\n",
      "Epoch 241/500\n",
      "2/2 [==============================] - 0s 4ms/step - loss: 13.2133 - mae: 13.2133\n",
      "Epoch 242/500\n",
      "2/2 [==============================] - 0s 5ms/step - loss: 8.8473 - mae: 8.8473\n",
      "Epoch 243/500\n",
      "2/2 [==============================] - 0s 4ms/step - loss: 18.7990 - mae: 18.7990\n",
      "Epoch 244/500\n",
      "2/2 [==============================] - 0s 5ms/step - loss: 14.0871 - mae: 14.0871\n",
      "Epoch 245/500\n",
      "2/2 [==============================] - 0s 9ms/step - loss: 14.7109 - mae: 14.7109\n",
      "Epoch 246/500\n",
      "2/2 [==============================] - 0s 4ms/step - loss: 15.8441 - mae: 15.8441\n",
      "Epoch 247/500\n",
      "2/2 [==============================] - 0s 11ms/step - loss: 17.7327 - mae: 17.7327\n",
      "Epoch 248/500\n",
      "2/2 [==============================] - 0s 6ms/step - loss: 13.2881 - mae: 13.2881\n",
      "Epoch 249/500\n",
      "2/2 [==============================] - 0s 5ms/step - loss: 14.5504 - mae: 14.5504\n",
      "Epoch 250/500\n",
      "2/2 [==============================] - 0s 5ms/step - loss: 23.2931 - mae: 23.2931\n",
      "Epoch 251/500\n",
      "2/2 [==============================] - 0s 5ms/step - loss: 9.3215 - mae: 9.3215\n",
      "Epoch 252/500\n",
      "2/2 [==============================] - 0s 7ms/step - loss: 36.4418 - mae: 36.4418\n",
      "Epoch 253/500\n",
      "2/2 [==============================] - 0s 4ms/step - loss: 21.6733 - mae: 21.6733\n",
      "Epoch 254/500\n",
      "2/2 [==============================] - 0s 5ms/step - loss: 7.3117 - mae: 7.3117\n",
      "Epoch 255/500\n",
      "2/2 [==============================] - 0s 5ms/step - loss: 24.5289 - mae: 24.5289\n",
      "Epoch 256/500\n",
      "2/2 [==============================] - 0s 5ms/step - loss: 11.9646 - mae: 11.9646\n",
      "Epoch 257/500\n",
      "2/2 [==============================] - 0s 5ms/step - loss: 14.4848 - mae: 14.4848\n",
      "Epoch 258/500\n",
      "2/2 [==============================] - 0s 5ms/step - loss: 5.8529 - mae: 5.8529\n",
      "Epoch 259/500\n",
      "2/2 [==============================] - 0s 4ms/step - loss: 14.8496 - mae: 14.8496\n",
      "Epoch 260/500\n",
      "2/2 [==============================] - 0s 14ms/step - loss: 14.9933 - mae: 14.9933\n",
      "Epoch 261/500\n",
      "2/2 [==============================] - 0s 7ms/step - loss: 17.4874 - mae: 17.4874\n",
      "Epoch 262/500\n",
      "2/2 [==============================] - 0s 7ms/step - loss: 15.5455 - mae: 15.5455\n",
      "Epoch 263/500\n",
      "2/2 [==============================] - 0s 7ms/step - loss: 10.1077 - mae: 10.1077\n",
      "Epoch 264/500\n",
      "2/2 [==============================] - 0s 20ms/step - loss: 20.2343 - mae: 20.2343\n",
      "Epoch 265/500\n",
      "2/2 [==============================] - 0s 9ms/step - loss: 9.7364 - mae: 9.7364\n",
      "Epoch 266/500\n",
      "2/2 [==============================] - 0s 8ms/step - loss: 7.8328 - mae: 7.8328\n",
      "Epoch 267/500\n",
      "2/2 [==============================] - 0s 15ms/step - loss: 7.6054 - mae: 7.6054\n",
      "Epoch 268/500\n",
      "2/2 [==============================] - 0s 6ms/step - loss: 18.3530 - mae: 18.3530\n",
      "Epoch 269/500\n",
      "2/2 [==============================] - 0s 7ms/step - loss: 21.6953 - mae: 21.6953\n",
      "Epoch 270/500\n",
      "2/2 [==============================] - 0s 6ms/step - loss: 5.4938 - mae: 5.4938\n",
      "Epoch 271/500\n",
      "2/2 [==============================] - 0s 8ms/step - loss: 12.1086 - mae: 12.1086\n",
      "Epoch 272/500\n",
      "2/2 [==============================] - 0s 6ms/step - loss: 26.1499 - mae: 26.1499\n",
      "Epoch 273/500\n",
      "2/2 [==============================] - 0s 7ms/step - loss: 12.1451 - mae: 12.1451\n",
      "Epoch 274/500\n",
      "2/2 [==============================] - 0s 5ms/step - loss: 13.3340 - mae: 13.3340\n",
      "Epoch 275/500\n",
      "2/2 [==============================] - 0s 5ms/step - loss: 29.3885 - mae: 29.3885\n",
      "Epoch 276/500\n",
      "2/2 [==============================] - 0s 5ms/step - loss: 7.3331 - mae: 7.3331\n",
      "Epoch 277/500\n",
      "2/2 [==============================] - 0s 6ms/step - loss: 31.1461 - mae: 31.1461\n",
      "Epoch 278/500\n",
      "2/2 [==============================] - 0s 5ms/step - loss: 12.3143 - mae: 12.3143\n",
      "Epoch 279/500\n",
      "2/2 [==============================] - 0s 5ms/step - loss: 16.4201 - mae: 16.4201\n",
      "Epoch 280/500\n",
      "2/2 [==============================] - 0s 5ms/step - loss: 21.9322 - mae: 21.9322\n",
      "Epoch 281/500\n",
      "2/2 [==============================] - 0s 6ms/step - loss: 22.1010 - mae: 22.1010\n",
      "Epoch 282/500\n",
      "2/2 [==============================] - 0s 6ms/step - loss: 7.7310 - mae: 7.7310\n",
      "Epoch 283/500\n",
      "2/2 [==============================] - 0s 5ms/step - loss: 8.1372 - mae: 8.1372\n",
      "Epoch 284/500\n",
      "2/2 [==============================] - 0s 5ms/step - loss: 24.8935 - mae: 24.8935\n",
      "Epoch 285/500\n",
      "2/2 [==============================] - 0s 5ms/step - loss: 13.6576 - mae: 13.6576\n",
      "Epoch 286/500\n",
      "2/2 [==============================] - 0s 5ms/step - loss: 7.7606 - mae: 7.7606\n",
      "Epoch 287/500\n",
      "2/2 [==============================] - 0s 5ms/step - loss: 23.3305 - mae: 23.3305\n",
      "Epoch 288/500\n",
      "2/2 [==============================] - 0s 6ms/step - loss: 23.7258 - mae: 23.7258\n",
      "Epoch 289/500\n",
      "2/2 [==============================] - 0s 5ms/step - loss: 11.9675 - mae: 11.9675\n",
      "Epoch 290/500\n",
      "2/2 [==============================] - 0s 5ms/step - loss: 16.5415 - mae: 16.5415\n",
      "Epoch 291/500\n",
      "2/2 [==============================] - 0s 6ms/step - loss: 16.8053 - mae: 16.8053\n",
      "Epoch 292/500\n",
      "2/2 [==============================] - 0s 6ms/step - loss: 9.4664 - mae: 9.4664\n",
      "Epoch 293/500\n",
      "2/2 [==============================] - 0s 6ms/step - loss: 15.2741 - mae: 15.2741\n",
      "Epoch 294/500\n",
      "2/2 [==============================] - 0s 10ms/step - loss: 22.7231 - mae: 22.7231\n",
      "Epoch 295/500\n",
      "2/2 [==============================] - 0s 4ms/step - loss: 17.9171 - mae: 17.9171\n",
      "Epoch 296/500\n",
      "2/2 [==============================] - 0s 6ms/step - loss: 6.1728 - mae: 6.1728\n",
      "Epoch 297/500\n",
      "2/2 [==============================] - 0s 5ms/step - loss: 10.9461 - mae: 10.9461\n",
      "Epoch 298/500\n",
      "2/2 [==============================] - 0s 4ms/step - loss: 23.1571 - mae: 23.1571\n",
      "Epoch 299/500\n",
      "2/2 [==============================] - 0s 4ms/step - loss: 17.7254 - mae: 17.7254\n",
      "Epoch 300/500\n",
      "2/2 [==============================] - 0s 4ms/step - loss: 6.9825 - mae: 6.9825\n",
      "Epoch 301/500\n",
      "2/2 [==============================] - 0s 5ms/step - loss: 25.1765 - mae: 25.1765\n",
      "Epoch 302/500\n",
      "2/2 [==============================] - 0s 6ms/step - loss: 8.9004 - mae: 8.9004\n",
      "Epoch 303/500\n",
      "2/2 [==============================] - 0s 4ms/step - loss: 17.7585 - mae: 17.7585\n",
      "Epoch 304/500\n",
      "2/2 [==============================] - 0s 4ms/step - loss: 10.9974 - mae: 10.9974\n",
      "Epoch 305/500\n",
      "2/2 [==============================] - 0s 4ms/step - loss: 12.9121 - mae: 12.9121\n",
      "Epoch 306/500\n",
      "2/2 [==============================] - 0s 4ms/step - loss: 8.4009 - mae: 8.4009\n",
      "Epoch 307/500\n",
      "2/2 [==============================] - 0s 4ms/step - loss: 13.6016 - mae: 13.6016\n",
      "Epoch 308/500\n",
      "2/2 [==============================] - 0s 4ms/step - loss: 7.4379 - mae: 7.4379\n",
      "Epoch 309/500\n",
      "2/2 [==============================] - 0s 4ms/step - loss: 9.4597 - mae: 9.4597\n",
      "Epoch 310/500\n",
      "2/2 [==============================] - 0s 5ms/step - loss: 10.7003 - mae: 10.7003\n",
      "Epoch 311/500\n",
      "2/2 [==============================] - 0s 4ms/step - loss: 13.2837 - mae: 13.2837\n",
      "Epoch 312/500\n",
      "2/2 [==============================] - 0s 4ms/step - loss: 29.9802 - mae: 29.9802\n",
      "Epoch 313/500\n",
      "2/2 [==============================] - 0s 4ms/step - loss: 7.6252 - mae: 7.6252\n",
      "Epoch 314/500\n",
      "2/2 [==============================] - 0s 4ms/step - loss: 9.9136 - mae: 9.9136\n",
      "Epoch 315/500\n",
      "2/2 [==============================] - 0s 4ms/step - loss: 23.7735 - mae: 23.7735\n",
      "Epoch 316/500\n",
      "2/2 [==============================] - 0s 6ms/step - loss: 16.3814 - mae: 16.3814\n",
      "Epoch 317/500\n",
      "2/2 [==============================] - 0s 4ms/step - loss: 21.0601 - mae: 21.0601\n",
      "Epoch 318/500\n",
      "2/2 [==============================] - 0s 4ms/step - loss: 7.9336 - mae: 7.9336\n",
      "Epoch 319/500\n",
      "2/2 [==============================] - 0s 5ms/step - loss: 17.9586 - mae: 17.9586\n",
      "Epoch 320/500\n",
      "2/2 [==============================] - 0s 4ms/step - loss: 10.2291 - mae: 10.2291\n",
      "Epoch 321/500\n",
      "2/2 [==============================] - 0s 4ms/step - loss: 8.3277 - mae: 8.3277\n",
      "Epoch 322/500\n",
      "2/2 [==============================] - 0s 4ms/step - loss: 4.3405 - mae: 4.3405\n",
      "Epoch 323/500\n",
      "2/2 [==============================] - 0s 4ms/step - loss: 23.8621 - mae: 23.8621\n",
      "Epoch 324/500\n",
      "2/2 [==============================] - 0s 4ms/step - loss: 6.9020 - mae: 6.9020\n",
      "Epoch 325/500\n",
      "2/2 [==============================] - 0s 4ms/step - loss: 16.6446 - mae: 16.6446\n",
      "Epoch 326/500\n",
      "2/2 [==============================] - 0s 4ms/step - loss: 7.5751 - mae: 7.5751\n",
      "Epoch 327/500\n",
      "2/2 [==============================] - 0s 5ms/step - loss: 20.4131 - mae: 20.4131\n",
      "Epoch 328/500\n",
      "2/2 [==============================] - 0s 4ms/step - loss: 13.6807 - mae: 13.6807\n",
      "Epoch 329/500\n",
      "2/2 [==============================] - 0s 4ms/step - loss: 16.7065 - mae: 16.7065\n",
      "Epoch 330/500\n",
      "2/2 [==============================] - 0s 4ms/step - loss: 7.1008 - mae: 7.1008\n",
      "Epoch 331/500\n",
      "2/2 [==============================] - 0s 4ms/step - loss: 21.7927 - mae: 21.7927\n",
      "Epoch 332/500\n",
      "2/2 [==============================] - 0s 5ms/step - loss: 12.8009 - mae: 12.8009\n",
      "Epoch 333/500\n",
      "2/2 [==============================] - 0s 6ms/step - loss: 9.0416 - mae: 9.0416\n",
      "Epoch 334/500\n",
      "2/2 [==============================] - 0s 5ms/step - loss: 10.1305 - mae: 10.1305\n",
      "Epoch 335/500\n",
      "2/2 [==============================] - 0s 6ms/step - loss: 11.2418 - mae: 11.2418\n",
      "Epoch 336/500\n",
      "2/2 [==============================] - 0s 6ms/step - loss: 31.9493 - mae: 31.9493\n",
      "Epoch 337/500\n",
      "2/2 [==============================] - 0s 5ms/step - loss: 9.8018 - mae: 9.8018\n",
      "Epoch 338/500\n",
      "2/2 [==============================] - 0s 5ms/step - loss: 19.5069 - mae: 19.5069\n",
      "Epoch 339/500\n",
      "2/2 [==============================] - 0s 7ms/step - loss: 35.5777 - mae: 35.5777\n",
      "Epoch 340/500\n",
      "2/2 [==============================] - 0s 5ms/step - loss: 10.5928 - mae: 10.5928\n",
      "Epoch 341/500\n",
      "2/2 [==============================] - 0s 5ms/step - loss: 10.2085 - mae: 10.2085\n",
      "Epoch 342/500\n",
      "2/2 [==============================] - 0s 5ms/step - loss: 13.2382 - mae: 13.2382\n",
      "Epoch 343/500\n",
      "2/2 [==============================] - 0s 5ms/step - loss: 10.9807 - mae: 10.9807\n",
      "Epoch 344/500\n",
      "2/2 [==============================] - 0s 5ms/step - loss: 9.9024 - mae: 9.9024\n",
      "Epoch 345/500\n",
      "2/2 [==============================] - 0s 5ms/step - loss: 30.9662 - mae: 30.9662\n",
      "Epoch 346/500\n",
      "2/2 [==============================] - 0s 5ms/step - loss: 10.6534 - mae: 10.6534\n",
      "Epoch 347/500\n",
      "2/2 [==============================] - 0s 5ms/step - loss: 25.6325 - mae: 25.6325\n",
      "Epoch 348/500\n",
      "2/2 [==============================] - 0s 5ms/step - loss: 13.1017 - mae: 13.1017\n",
      "Epoch 349/500\n",
      "2/2 [==============================] - 0s 5ms/step - loss: 13.0667 - mae: 13.0667\n",
      "Epoch 350/500\n",
      "2/2 [==============================] - 0s 5ms/step - loss: 15.3973 - mae: 15.3973\n",
      "Epoch 351/500\n",
      "2/2 [==============================] - 0s 5ms/step - loss: 32.9067 - mae: 32.9067\n",
      "Epoch 352/500\n",
      "2/2 [==============================] - 0s 4ms/step - loss: 14.1117 - mae: 14.1117\n",
      "Epoch 353/500\n",
      "2/2 [==============================] - 0s 5ms/step - loss: 17.8065 - mae: 17.8065\n",
      "Epoch 354/500\n",
      "2/2 [==============================] - 0s 5ms/step - loss: 11.3559 - mae: 11.3559\n",
      "Epoch 355/500\n",
      "2/2 [==============================] - 0s 5ms/step - loss: 26.8073 - mae: 26.8073\n",
      "Epoch 356/500\n",
      "2/2 [==============================] - 0s 4ms/step - loss: 10.0734 - mae: 10.0734\n",
      "Epoch 357/500\n",
      "2/2 [==============================] - 0s 5ms/step - loss: 14.6305 - mae: 14.6305\n",
      "Epoch 358/500\n",
      "2/2 [==============================] - 0s 5ms/step - loss: 14.4784 - mae: 14.4784\n",
      "Epoch 359/500\n",
      "2/2 [==============================] - 0s 4ms/step - loss: 12.3458 - mae: 12.3458\n",
      "Epoch 360/500\n",
      "2/2 [==============================] - 0s 5ms/step - loss: 20.3821 - mae: 20.3821\n",
      "Epoch 361/500\n",
      "2/2 [==============================] - 0s 4ms/step - loss: 10.8168 - mae: 10.8168\n",
      "Epoch 362/500\n",
      "2/2 [==============================] - 0s 4ms/step - loss: 6.7584 - mae: 6.7584\n",
      "Epoch 363/500\n",
      "2/2 [==============================] - 0s 5ms/step - loss: 23.7565 - mae: 23.7565\n",
      "Epoch 364/500\n",
      "2/2 [==============================] - 0s 5ms/step - loss: 29.4297 - mae: 29.4297\n",
      "Epoch 365/500\n",
      "2/2 [==============================] - 0s 5ms/step - loss: 8.2116 - mae: 8.2116\n",
      "Epoch 366/500\n",
      "2/2 [==============================] - 0s 5ms/step - loss: 6.0566 - mae: 6.0566\n",
      "Epoch 367/500\n",
      "2/2 [==============================] - 0s 4ms/step - loss: 34.5916 - mae: 34.5916\n",
      "Epoch 368/500\n",
      "2/2 [==============================] - 0s 5ms/step - loss: 7.3011 - mae: 7.3011\n",
      "Epoch 369/500\n",
      "2/2 [==============================] - 0s 5ms/step - loss: 9.1085 - mae: 9.1085\n",
      "Epoch 370/500\n",
      "2/2 [==============================] - 0s 5ms/step - loss: 10.8054 - mae: 10.8054\n",
      "Epoch 371/500\n",
      "2/2 [==============================] - 0s 21ms/step - loss: 8.5811 - mae: 8.5811\n",
      "Epoch 372/500\n",
      "2/2 [==============================] - 0s 11ms/step - loss: 6.4125 - mae: 6.4125\n",
      "Epoch 373/500\n",
      "2/2 [==============================] - 0s 8ms/step - loss: 23.4128 - mae: 23.4128\n",
      "Epoch 374/500\n",
      "2/2 [==============================] - 0s 9ms/step - loss: 10.4466 - mae: 10.4466\n",
      "Epoch 375/500\n",
      "2/2 [==============================] - 0s 14ms/step - loss: 13.0485 - mae: 13.0485\n",
      "Epoch 376/500\n",
      "2/2 [==============================] - 0s 6ms/step - loss: 14.9375 - mae: 14.9375\n",
      "Epoch 377/500\n",
      "2/2 [==============================] - 0s 16ms/step - loss: 14.8050 - mae: 14.8050\n",
      "Epoch 378/500\n",
      "2/2 [==============================] - 0s 6ms/step - loss: 16.2807 - mae: 16.2807\n",
      "Epoch 379/500\n",
      "2/2 [==============================] - 0s 7ms/step - loss: 20.8722 - mae: 20.8722\n",
      "Epoch 380/500\n",
      "2/2 [==============================] - 0s 15ms/step - loss: 33.4234 - mae: 33.4234\n",
      "Epoch 381/500\n",
      "2/2 [==============================] - 0s 6ms/step - loss: 8.1309 - mae: 8.1309\n",
      "Epoch 382/500\n",
      "2/2 [==============================] - 0s 14ms/step - loss: 13.0478 - mae: 13.0478\n",
      "Epoch 383/500\n",
      "2/2 [==============================] - 0s 7ms/step - loss: 8.4133 - mae: 8.4133\n",
      "Epoch 384/500\n",
      "2/2 [==============================] - 0s 6ms/step - loss: 7.0424 - mae: 7.0424\n",
      "Epoch 385/500\n",
      "2/2 [==============================] - 0s 14ms/step - loss: 10.9225 - mae: 10.9225\n",
      "Epoch 386/500\n",
      "2/2 [==============================] - 0s 5ms/step - loss: 19.7657 - mae: 19.7657\n",
      "Epoch 387/500\n",
      "2/2 [==============================] - 0s 5ms/step - loss: 24.8615 - mae: 24.8615\n",
      "Epoch 388/500\n",
      "2/2 [==============================] - 0s 6ms/step - loss: 8.6958 - mae: 8.6958\n",
      "Epoch 389/500\n",
      "2/2 [==============================] - 0s 6ms/step - loss: 5.8976 - mae: 5.8976\n",
      "Epoch 390/500\n",
      "2/2 [==============================] - 0s 7ms/step - loss: 24.4698 - mae: 24.4698\n",
      "Epoch 391/500\n",
      "2/2 [==============================] - 0s 7ms/step - loss: 5.9244 - mae: 5.9244\n",
      "Epoch 392/500\n",
      "2/2 [==============================] - 0s 5ms/step - loss: 16.3342 - mae: 16.3342\n",
      "Epoch 393/500\n",
      "2/2 [==============================] - 0s 8ms/step - loss: 6.0456 - mae: 6.0456\n",
      "Epoch 394/500\n",
      "2/2 [==============================] - 0s 6ms/step - loss: 11.1083 - mae: 11.1083\n",
      "Epoch 395/500\n",
      "2/2 [==============================] - 0s 7ms/step - loss: 15.0019 - mae: 15.0019\n",
      "Epoch 396/500\n",
      "2/2 [==============================] - 0s 6ms/step - loss: 7.6178 - mae: 7.6178\n",
      "Epoch 397/500\n",
      "2/2 [==============================] - 0s 4ms/step - loss: 8.7717 - mae: 8.7717\n",
      "Epoch 398/500\n",
      "2/2 [==============================] - 0s 13ms/step - loss: 14.6928 - mae: 14.6928\n",
      "Epoch 399/500\n",
      "2/2 [==============================] - 0s 12ms/step - loss: 11.2642 - mae: 11.2642\n",
      "Epoch 400/500\n",
      "2/2 [==============================] - 0s 6ms/step - loss: 21.8430 - mae: 21.8430\n",
      "Epoch 401/500\n",
      "2/2 [==============================] - 0s 5ms/step - loss: 15.0000 - mae: 15.0000\n",
      "Epoch 402/500\n",
      "2/2 [==============================] - 0s 6ms/step - loss: 8.4862 - mae: 8.4862\n",
      "Epoch 403/500\n",
      "2/2 [==============================] - 0s 6ms/step - loss: 10.4803 - mae: 10.4803\n",
      "Epoch 404/500\n",
      "2/2 [==============================] - 0s 6ms/step - loss: 10.3278 - mae: 10.3278\n",
      "Epoch 405/500\n",
      "2/2 [==============================] - 0s 6ms/step - loss: 6.3123 - mae: 6.3123\n",
      "Epoch 406/500\n",
      "2/2 [==============================] - 0s 6ms/step - loss: 19.8906 - mae: 19.8906\n",
      "Epoch 407/500\n",
      "2/2 [==============================] - 0s 6ms/step - loss: 9.6861 - mae: 9.6861\n",
      "Epoch 408/500\n",
      "2/2 [==============================] - 0s 5ms/step - loss: 21.3411 - mae: 21.3411\n",
      "Epoch 409/500\n",
      "2/2 [==============================] - 0s 7ms/step - loss: 29.5228 - mae: 29.5228\n",
      "Epoch 410/500\n",
      "2/2 [==============================] - 0s 6ms/step - loss: 9.9934 - mae: 9.9934\n",
      "Epoch 411/500\n",
      "2/2 [==============================] - 0s 7ms/step - loss: 14.8265 - mae: 14.8265\n",
      "Epoch 412/500\n",
      "2/2 [==============================] - 0s 5ms/step - loss: 21.6728 - mae: 21.6728\n",
      "Epoch 413/500\n",
      "2/2 [==============================] - 0s 5ms/step - loss: 12.7176 - mae: 12.7176\n",
      "Epoch 414/500\n",
      "2/2 [==============================] - 0s 14ms/step - loss: 5.4933 - mae: 5.4933\n",
      "Epoch 415/500\n",
      "2/2 [==============================] - 0s 6ms/step - loss: 13.5998 - mae: 13.5998\n",
      "Epoch 416/500\n",
      "2/2 [==============================] - 0s 6ms/step - loss: 28.1989 - mae: 28.1989\n",
      "Epoch 417/500\n",
      "2/2 [==============================] - 0s 6ms/step - loss: 8.0800 - mae: 8.0800\n",
      "Epoch 418/500\n",
      "2/2 [==============================] - 0s 7ms/step - loss: 8.0767 - mae: 8.0767\n",
      "Epoch 419/500\n",
      "2/2 [==============================] - 0s 6ms/step - loss: 15.3392 - mae: 15.3392\n",
      "Epoch 420/500\n",
      "2/2 [==============================] - 0s 7ms/step - loss: 23.6509 - mae: 23.6509\n",
      "Epoch 421/500\n",
      "2/2 [==============================] - 0s 8ms/step - loss: 20.2538 - mae: 20.2538\n",
      "Epoch 422/500\n",
      "2/2 [==============================] - 0s 6ms/step - loss: 5.8201 - mae: 5.8201\n",
      "Epoch 423/500\n",
      "2/2 [==============================] - 0s 6ms/step - loss: 21.7603 - mae: 21.7603\n",
      "Epoch 424/500\n",
      "2/2 [==============================] - 0s 6ms/step - loss: 5.8687 - mae: 5.8687\n",
      "Epoch 425/500\n",
      "2/2 [==============================] - 0s 6ms/step - loss: 21.8376 - mae: 21.8376\n",
      "Epoch 426/500\n",
      "2/2 [==============================] - 0s 20ms/step - loss: 10.3061 - mae: 10.3061\n",
      "Epoch 427/500\n",
      "2/2 [==============================] - 0s 22ms/step - loss: 5.0043 - mae: 5.0043\n",
      "Epoch 428/500\n",
      "2/2 [==============================] - 0s 5ms/step - loss: 20.4686 - mae: 20.4686\n",
      "Epoch 429/500\n",
      "2/2 [==============================] - 0s 8ms/step - loss: 27.9079 - mae: 27.9079\n",
      "Epoch 430/500\n",
      "2/2 [==============================] - 0s 12ms/step - loss: 21.2401 - mae: 21.2401\n",
      "Epoch 431/500\n",
      "2/2 [==============================] - 0s 5ms/step - loss: 13.5050 - mae: 13.5050\n",
      "Epoch 432/500\n",
      "2/2 [==============================] - 0s 5ms/step - loss: 7.5207 - mae: 7.5207\n",
      "Epoch 433/500\n",
      "2/2 [==============================] - 0s 5ms/step - loss: 14.7311 - mae: 14.7311\n",
      "Epoch 434/500\n",
      "2/2 [==============================] - 0s 5ms/step - loss: 17.8092 - mae: 17.8092\n",
      "Epoch 435/500\n",
      "2/2 [==============================] - 0s 5ms/step - loss: 10.4108 - mae: 10.4108\n",
      "Epoch 436/500\n",
      "2/2 [==============================] - 0s 5ms/step - loss: 28.6369 - mae: 28.6369\n",
      "Epoch 437/500\n",
      "2/2 [==============================] - 0s 5ms/step - loss: 7.4481 - mae: 7.4481\n",
      "Epoch 438/500\n",
      "2/2 [==============================] - 0s 5ms/step - loss: 12.8890 - mae: 12.8890\n",
      "Epoch 439/500\n",
      "2/2 [==============================] - 0s 5ms/step - loss: 34.1530 - mae: 34.1530\n",
      "Epoch 440/500\n",
      "2/2 [==============================] - 0s 5ms/step - loss: 15.7864 - mae: 15.7864\n",
      "Epoch 441/500\n",
      "2/2 [==============================] - 0s 5ms/step - loss: 18.4257 - mae: 18.4257\n",
      "Epoch 442/500\n",
      "2/2 [==============================] - 0s 5ms/step - loss: 26.8388 - mae: 26.8388\n",
      "Epoch 443/500\n",
      "2/2 [==============================] - 0s 6ms/step - loss: 10.1632 - mae: 10.1632\n",
      "Epoch 444/500\n",
      "2/2 [==============================] - 0s 4ms/step - loss: 6.1010 - mae: 6.1010\n",
      "Epoch 445/500\n",
      "2/2 [==============================] - 0s 5ms/step - loss: 8.4445 - mae: 8.4445\n",
      "Epoch 446/500\n",
      "2/2 [==============================] - 0s 5ms/step - loss: 15.5294 - mae: 15.5294\n",
      "Epoch 447/500\n",
      "2/2 [==============================] - 0s 5ms/step - loss: 18.9852 - mae: 18.9852\n",
      "Epoch 448/500\n",
      "2/2 [==============================] - 0s 5ms/step - loss: 6.6087 - mae: 6.6087\n",
      "Epoch 449/500\n",
      "2/2 [==============================] - 0s 5ms/step - loss: 13.8245 - mae: 13.8245\n",
      "Epoch 450/500\n",
      "2/2 [==============================] - 0s 5ms/step - loss: 11.5112 - mae: 11.5112\n",
      "Epoch 451/500\n",
      "2/2 [==============================] - 0s 5ms/step - loss: 14.6757 - mae: 14.6757\n",
      "Epoch 452/500\n",
      "2/2 [==============================] - 0s 5ms/step - loss: 31.4394 - mae: 31.4394\n",
      "Epoch 453/500\n",
      "2/2 [==============================] - 0s 5ms/step - loss: 11.0424 - mae: 11.0424\n",
      "Epoch 454/500\n",
      "2/2 [==============================] - 0s 6ms/step - loss: 26.7144 - mae: 26.7144\n",
      "Epoch 455/500\n",
      "2/2 [==============================] - 0s 5ms/step - loss: 12.6949 - mae: 12.6949\n",
      "Epoch 456/500\n",
      "2/2 [==============================] - 0s 5ms/step - loss: 15.2114 - mae: 15.2114\n",
      "Epoch 457/500\n",
      "2/2 [==============================] - 0s 6ms/step - loss: 18.8153 - mae: 18.8153\n",
      "Epoch 458/500\n",
      "2/2 [==============================] - 0s 5ms/step - loss: 24.0062 - mae: 24.0062\n",
      "Epoch 459/500\n",
      "2/2 [==============================] - 0s 5ms/step - loss: 17.3522 - mae: 17.3522\n",
      "Epoch 460/500\n",
      "2/2 [==============================] - 0s 5ms/step - loss: 4.6889 - mae: 4.6889\n",
      "Epoch 461/500\n",
      "2/2 [==============================] - 0s 5ms/step - loss: 17.0801 - mae: 17.0801\n",
      "Epoch 462/500\n",
      "2/2 [==============================] - 0s 4ms/step - loss: 13.9699 - mae: 13.9699\n",
      "Epoch 463/500\n",
      "2/2 [==============================] - 0s 4ms/step - loss: 30.5197 - mae: 30.5197\n",
      "Epoch 464/500\n",
      "2/2 [==============================] - 0s 14ms/step - loss: 9.3025 - mae: 9.3025\n",
      "Epoch 465/500\n",
      "2/2 [==============================] - 0s 7ms/step - loss: 20.5972 - mae: 20.5972\n",
      "Epoch 466/500\n",
      "2/2 [==============================] - 0s 6ms/step - loss: 27.1674 - mae: 27.1674\n",
      "Epoch 467/500\n",
      "2/2 [==============================] - 0s 6ms/step - loss: 16.7595 - mae: 16.7595\n",
      "Epoch 468/500\n",
      "2/2 [==============================] - 0s 8ms/step - loss: 10.2954 - mae: 10.2954\n",
      "Epoch 469/500\n",
      "2/2 [==============================] - 0s 4ms/step - loss: 27.1403 - mae: 27.1403\n",
      "Epoch 470/500\n",
      "2/2 [==============================] - 0s 5ms/step - loss: 13.1097 - mae: 13.1097\n",
      "Epoch 471/500\n",
      "2/2 [==============================] - 0s 12ms/step - loss: 10.8886 - mae: 10.8886\n",
      "Epoch 472/500\n",
      "2/2 [==============================] - 0s 7ms/step - loss: 15.2813 - mae: 15.2813\n",
      "Epoch 473/500\n",
      "2/2 [==============================] - 0s 6ms/step - loss: 19.0492 - mae: 19.0492\n",
      "Epoch 474/500\n",
      "2/2 [==============================] - 0s 8ms/step - loss: 39.7383 - mae: 39.7383\n",
      "Epoch 475/500\n",
      "2/2 [==============================] - 0s 7ms/step - loss: 16.3524 - mae: 16.3524\n",
      "Epoch 476/500\n",
      "2/2 [==============================] - 0s 6ms/step - loss: 13.4130 - mae: 13.4130\n",
      "Epoch 477/500\n",
      "2/2 [==============================] - 0s 6ms/step - loss: 29.6844 - mae: 29.6844\n",
      "Epoch 478/500\n",
      "2/2 [==============================] - 0s 6ms/step - loss: 3.1000 - mae: 3.1000\n",
      "Epoch 479/500\n",
      "2/2 [==============================] - 0s 7ms/step - loss: 10.5241 - mae: 10.5241\n",
      "Epoch 480/500\n",
      "2/2 [==============================] - 0s 7ms/step - loss: 17.7091 - mae: 17.7091\n",
      "Epoch 481/500\n",
      "2/2 [==============================] - 0s 6ms/step - loss: 15.6619 - mae: 15.6619\n",
      "Epoch 482/500\n",
      "2/2 [==============================] - 0s 6ms/step - loss: 20.9767 - mae: 20.9767\n",
      "Epoch 483/500\n",
      "2/2 [==============================] - 0s 6ms/step - loss: 26.1883 - mae: 26.1883\n",
      "Epoch 484/500\n",
      "2/2 [==============================] - 0s 5ms/step - loss: 24.8407 - mae: 24.8407\n",
      "Epoch 485/500\n",
      "2/2 [==============================] - 0s 4ms/step - loss: 5.9243 - mae: 5.9243\n",
      "Epoch 486/500\n",
      "2/2 [==============================] - 0s 4ms/step - loss: 20.8869 - mae: 20.8869\n",
      "Epoch 487/500\n",
      "2/2 [==============================] - 0s 4ms/step - loss: 13.9494 - mae: 13.9494\n",
      "Epoch 488/500\n",
      "2/2 [==============================] - 0s 5ms/step - loss: 30.4326 - mae: 30.4326\n",
      "Epoch 489/500\n",
      "2/2 [==============================] - 0s 4ms/step - loss: 11.6611 - mae: 11.6611\n",
      "Epoch 490/500\n",
      "2/2 [==============================] - 0s 5ms/step - loss: 12.4162 - mae: 12.4162\n",
      "Epoch 491/500\n",
      "2/2 [==============================] - 0s 5ms/step - loss: 23.5523 - mae: 23.5523\n",
      "Epoch 492/500\n",
      "2/2 [==============================] - 0s 5ms/step - loss: 20.6983 - mae: 20.6983\n",
      "Epoch 493/500\n",
      "2/2 [==============================] - 0s 5ms/step - loss: 5.0327 - mae: 5.0327\n",
      "Epoch 494/500\n",
      "2/2 [==============================] - 0s 28ms/step - loss: 12.9316 - mae: 12.9316\n",
      "Epoch 495/500\n",
      "2/2 [==============================] - 0s 6ms/step - loss: 13.3259 - mae: 13.3259\n",
      "Epoch 496/500\n",
      "2/2 [==============================] - 0s 8ms/step - loss: 12.6367 - mae: 12.6367\n",
      "Epoch 497/500\n",
      "2/2 [==============================] - 0s 8ms/step - loss: 17.5546 - mae: 17.5546\n",
      "Epoch 498/500\n",
      "2/2 [==============================] - 0s 6ms/step - loss: 23.7116 - mae: 23.7116\n",
      "Epoch 499/500\n",
      "2/2 [==============================] - 0s 6ms/step - loss: 9.4972 - mae: 9.4972\n",
      "Epoch 500/500\n",
      "2/2 [==============================] - 0s 8ms/step - loss: 14.6187 - mae: 14.6187\n"
     ]
    },
    {
     "data": {
      "text/plain": "<keras.callbacks.History at 0x7fd62d816690>"
     },
     "execution_count": 140,
     "metadata": {},
     "output_type": "execute_result"
    }
   ],
   "source": [
    "# Set the random seed\n",
    "tf.random.set_seed(42)\n",
    "\n",
    "# 1. Create the model\n",
    "model_3 = tf.keras.Sequential([\n",
    "    tf.keras.layers.Dense(10),\n",
    "    tf.keras.layers.Dense(1)\n",
    "])\n",
    "\n",
    "# 2. Compile the model\n",
    "model_3.compile(loss=tf.keras.losses.mae,\n",
    "                optimizer=tf.keras.optimizers.SGD(),\n",
    "                metrics=[\"mae\"])\n",
    "\n",
    "# 3. Fit the model\n",
    "model_3.fit(tf.expand_dims(X_train, axis=-1), y_train, epochs=500)"
   ],
   "metadata": {
    "collapsed": false,
    "ExecuteTime": {
     "end_time": "2023-09-29T14:24:40.963313236Z",
     "start_time": "2023-09-29T14:24:31.419273013Z"
    }
   },
   "id": "63aa0519b7419682"
  },
  {
   "cell_type": "code",
   "execution_count": 143,
   "outputs": [
    {
     "name": "stdout",
     "output_type": "stream",
     "text": [
      "1/1 [==============================] - 0s 17ms/step\n"
     ]
    },
    {
     "data": {
      "text/plain": "<Figure size 1000x700 with 1 Axes>",
      "image/png": "[encoded data removed]"
     },
     "metadata": {},
     "output_type": "display_data"
    }
   ],
   "source": [
    "# Make and plot some predictions\n",
    "y_preds_3 = model_3.predict(X_test)\n",
    "plot_predictions(predictions=y_preds_3)"
   ],
   "metadata": {
    "collapsed": false,
    "ExecuteTime": {
     "end_time": "2023-09-29T14:24:54.818744504Z",
     "start_time": "2023-09-29T14:24:54.478209337Z"
    }
   },
   "id": "14874d471dd92dec"
  },
  {
   "cell_type": "code",
   "execution_count": 144,
   "outputs": [
    {
     "data": {
      "text/plain": "(<tf.Tensor: shape=(), dtype=float32, numpy=68.67268>,\n <tf.Tensor: shape=(), dtype=float32, numpy=4802.2905>)"
     },
     "execution_count": 144,
     "metadata": {},
     "output_type": "execute_result"
    }
   ],
   "source": [
    "# Calculate model_3 evaluation metrics\n",
    "mae_3 = mae(y_test, y_preds_3)\n",
    "mse_3 = mse(y_test, y_preds_3)\n",
    "mae_3, mse_3"
   ],
   "metadata": {
    "collapsed": false,
    "ExecuteTime": {
     "end_time": "2023-09-29T14:24:56.512761501Z",
     "start_time": "2023-09-29T14:24:56.476462738Z"
    }
   },
   "id": "a1bdb91d97ceeb7a"
  },
  {
   "cell_type": "markdown",
   "source": [
    ":Key **Note:** You want to start with small experiments (small models) and make sure they work and than increase their scale when necessary."
   ],
   "metadata": {
    "collapsed": false
   },
   "id": "13cc26732f4ee288"
  },
  {
   "cell_type": "markdown",
   "source": [
    "## Comparing the results of our experiments\n",
    "\n",
    "We've run a few experiments, let's compare the results."
   ],
   "metadata": {
    "collapsed": false
   },
   "id": "f99513fbb95360d4"
  },
  {
   "cell_type": "code",
   "execution_count": 158,
   "outputs": [
    {
     "data": {
      "text/plain": "     model        mae          mse\n0  model_1   8.574786    79.994972\n1  model_2  13.157193   183.038559\n2  model_3  68.672684  4802.290527",
      "text/html": "<div>\n<style scoped>\n    .dataframe tbody tr th:only-of-type {\n        vertical-align: middle;\n    }\n\n    .dataframe tbody tr th {\n        vertical-align: top;\n    }\n\n    .dataframe thead th {\n        text-align: right;\n    }\n</style>\n<table border=\"1\" class=\"dataframe\">\n  <thead>\n    <tr style=\"text-align: right;\">\n      <th></th>\n      <th>model</th>\n      <th>mae</th>\n      <th>mse</th>\n    </tr>\n  </thead>\n  <tbody>\n    <tr>\n      <th>0</th>\n      <td>model_1</td>\n      <td>8.574786</td>\n      <td>79.994972</td>\n    </tr>\n    <tr>\n      <th>1</th>\n      <td>model_2</td>\n      <td>13.157193</td>\n      <td>183.038559</td>\n    </tr>\n    <tr>\n      <th>2</th>\n      <td>model_3</td>\n      <td>68.672684</td>\n      <td>4802.290527</td>\n    </tr>\n  </tbody>\n</table>\n</div>"
     },
     "execution_count": 158,
     "metadata": {},
     "output_type": "execute_result"
    }
   ],
   "source": [
    "# Let's compare our model's results using a pandas DataFrame\n",
    "import pandas as pd\n",
    "\n",
    "model_results = [[\"model_1\", mae_1.numpy(), mse_1.numpy()],\n",
    "                 [\"model_2\", mae_2.numpy(), mse_2.numpy()],\n",
    "                 [\"model_3\", mae_3.numpy(), mse_3.numpy()]]\n",
    "\n",
    "all_results = pd.DataFrame(model_results, columns=[\"model\", \"mae\", \"mse\"])\n",
    "all_results"
   ],
   "metadata": {
    "collapsed": false,
    "ExecuteTime": {
     "end_time": "2023-09-29T14:28:38.018763538Z",
     "start_time": "2023-09-29T14:28:37.970727675Z"
    }
   },
   "id": "307fb19b0e82e4c6"
  },
  {
   "cell_type": "code",
   "execution_count": null,
   "outputs": [],
   "source": [
    "### Look like `model_1` performed best"
   ],
   "metadata": {
    "collapsed": false
   },
   "id": "5b36e1e7958a0c73"
  },
  {
   "cell_type": "code",
   "execution_count": 159,
   "outputs": [
    {
     "name": "stdout",
     "output_type": "stream",
     "text": [
      "Model: \"sequential_17\"\n",
      "_________________________________________________________________\n",
      " Layer (type)                Output Shape              Param #   \n",
      "=================================================================\n",
      " dense_26 (Dense)            (None, 1)                 2         \n",
      "                                                                 \n",
      "=================================================================\n",
      "Total params: 2\n",
      "Trainable params: 2\n",
      "Non-trainable params: 0\n",
      "_________________________________________________________________\n"
     ]
    }
   ],
   "source": [
    "model_1.summary()"
   ],
   "metadata": {
    "collapsed": false,
    "ExecuteTime": {
     "end_time": "2023-09-29T14:28:52.130841016Z",
     "start_time": "2023-09-29T14:28:51.972787539Z"
    }
   },
   "id": "217c2eae7aa9fffc"
  },
  {
   "cell_type": "markdown",
   "source": [
    ":key **Note:** One of your main goals should be to minimize the time between your experiments. The more experiments you do, the more things you'll figure out which don't work and in turn, get closer to figuring out what does work.Remember the machine learning practioner's motto: \"experiment, experiment, experiment\"."
   ],
   "metadata": {
    "collapsed": false
   },
   "id": "4a1705a03c1bbb72"
  },
  {
   "cell_type": "markdown",
   "source": [
    "## Tracking your experiments\n",
    "\n",
    "One really good habit in machine learning modelling is to track the results of your experiments.\n",
    "\n",
    "And when doing so, it can be tedious if you're running lots of experiments.\n",
    "\n",
    "Luckily, there are tools to help us!\n",
    "\n",
    ":Book **Resource:** As you build more models, you'll want to look into using:\n",
    "\n",
    "* TensorBoard - a component of the TensorFlow library to help track modelling experiments (we'll see this one later).\n",
    "* Weights & Biases - a tool for tracking all of kinds of machine learning experiments (plugs straight into TensorBoard)."
   ],
   "metadata": {
    "collapsed": false
   },
   "id": "17f54b7f126aa329"
  },
  {
   "cell_type": "markdown",
   "source": [
    "## Saving our models"
   ],
   "metadata": {
    "collapsed": false
   },
   "id": "3b39adadf7ace07"
  },
  {
   "cell_type": "code",
   "execution_count": null,
   "outputs": [],
   "source": [],
   "metadata": {
    "collapsed": false
   },
   "id": "f756e5f68dbdd72"
  }
 ],
 "metadata": {
  "kernelspec": {
   "display_name": "Python 3",
   "language": "python",
   "name": "python3"
  },
  "language_info": {
   "codemirror_mode": {
    "name": "ipython",
    "version": 2
   },
   "file_extension": ".py",
   "mimetype": "text/x-python",
   "name": "python",
   "nbconvert_exporter": "python",
   "pygments_lexer": "ipython2",
   "version": "2.7.6"
  }
 },
 "nbformat": 4,
 "nbformat_minor": 5
}
