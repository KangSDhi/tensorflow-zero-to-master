{
 "cells": [
  {
   "cell_type": "markdown",
   "source": [
    "# Introduction to Regression with Neural Networks in TensorFlow\n",
    "\n",
    "There are many definitions for regression problem but in our case, we're going to simplify it: predicting a numerical variable based on some other combination of variables, even shorther... predicting a number."
   ],
   "metadata": {
    "collapsed": false,
    "id": "6ebb1111b9c93791"
   },
   "id": "6ebb1111b9c93791"
  },
  {
   "cell_type": "code",
   "source": [
    "# Import TensorFlow\n",
    "import tensorflow as tf\n",
    "print(tf.__version__)"
   ],
   "metadata": {
    "colab": {
     "base_uri": "https://localhost:8080/"
    },
    "id": "d4e5f09eca05ca59",
    "executionInfo": {
     "status": "ok",
     "timestamp": 1696076685065,
     "user_tz": -420,
     "elapsed": 6829,
     "user": {
      "displayName": "kang sigit",
      "userId": "15887135570512197739"
     }
    },
    "outputId": "8fac66e9-5ff3-47cc-a5a1-950e6758ea44",
    "ExecuteTime": {
     "end_time": "2025-01-28T11:00:31.141356Z",
     "start_time": "2025-01-28T11:00:27.051490Z"
    }
   },
   "id": "d4e5f09eca05ca59",
   "outputs": [
    {
     "name": "stdout",
     "output_type": "stream",
     "text": [
      "2.10.0\n"
     ]
    }
   ],
   "execution_count": 1
  },
  {
   "cell_type": "markdown",
   "source": [
    "## Creating data to view and fit"
   ],
   "metadata": {
    "collapsed": false,
    "id": "8407fe85818d8aac"
   },
   "id": "8407fe85818d8aac"
  },
  {
   "cell_type": "code",
   "source": [
    "import numpy as np\n",
    "import matplotlib.pyplot as plt\n",
    "\n",
    "# Create features\n",
    "X = np.array([-7.0, -4.0, -1.0, 2.0, 5.0, 8.0, 11.0, 14.0])\n",
    "\n",
    "# Create labels\n",
    "y = np.array([3.0, 6.0, 9.0, 12.0, 15.0, 18.0, 21.0, 24.0])\n",
    "\n",
    "# Visualize it\n",
    "plt.scatter(X, y)"
   ],
   "metadata": {
    "colab": {
     "base_uri": "https://localhost:8080/",
     "height": 453
    },
    "id": "135387d48040aa65",
    "executionInfo": {
     "status": "ok",
     "timestamp": 1696076685066,
     "user_tz": -420,
     "elapsed": 7,
     "user": {
      "displayName": "kang sigit",
      "userId": "15887135570512197739"
     }
    },
    "outputId": "4c919eb6-14cb-4524-bef2-d3a95e3bc6a2",
    "ExecuteTime": {
     "end_time": "2025-01-28T11:01:05.021454Z",
     "start_time": "2025-01-28T11:01:04.381033Z"
    }
   },
   "id": "135387d48040aa65",
   "outputs": [
    {
     "data": {
      "text/plain": [
       "<matplotlib.collections.PathCollection at 0x2295200c310>"
      ]
     },
     "execution_count": 2,
     "metadata": {},
     "output_type": "execute_result"
    },
    {
     "data": {
      "text/plain": [
       "<Figure size 640x480 with 1 Axes>"
      ],
      "image/png": "[encoded data removed]"
     },
     "metadata": {},
     "output_type": "display_data"
    }
   ],
   "execution_count": 2
  },
  {
   "cell_type": "code",
   "source": [
    "y == X + 10"
   ],
   "metadata": {
    "colab": {
     "base_uri": "https://localhost:8080/"
    },
    "id": "35d94d5b061cfa67",
    "executionInfo": {
     "status": "ok",
     "timestamp": 1696076685862,
     "user_tz": -420,
     "elapsed": 801,
     "user": {
      "displayName": "kang sigit",
      "userId": "15887135570512197739"
     }
    },
    "outputId": "fd62bc5a-e1d3-41a5-9d24-79c48cbf489f",
    "ExecuteTime": {
     "end_time": "2025-01-28T11:01:08.140544Z",
     "start_time": "2025-01-28T11:01:08.129482Z"
    }
   },
   "id": "35d94d5b061cfa67",
   "outputs": [
    {
     "data": {
      "text/plain": [
       "array([ True,  True,  True,  True,  True,  True,  True,  True])"
      ]
     },
     "execution_count": 3,
     "metadata": {},
     "output_type": "execute_result"
    }
   ],
   "execution_count": 3
  },
  {
   "cell_type": "markdown",
   "source": [
    "## Input and output shapes"
   ],
   "metadata": {
    "collapsed": false,
    "id": "420b161819373fbe"
   },
   "id": "420b161819373fbe"
  },
  {
   "cell_type": "code",
   "source": [
    "# Create a demo tensor for our housing price prediction problem\n",
    "house_info = tf.constant([\"bedroom\", \"bathroom\", \"garage\"])\n",
    "house_price = tf.constant([939700])\n",
    "house_info, house_price"
   ],
   "metadata": {
    "colab": {
     "base_uri": "https://localhost:8080/"
    },
    "id": "f6848417caa4070a",
    "executionInfo": {
     "status": "ok",
     "timestamp": 1696076689508,
     "user_tz": -420,
     "elapsed": 3647,
     "user": {
      "displayName": "kang sigit",
      "userId": "15887135570512197739"
     }
    },
    "outputId": "17142d0f-133c-473d-c2fd-96a0713c7db2",
    "ExecuteTime": {
     "end_time": "2025-01-28T11:01:10.740041Z",
     "start_time": "2025-01-28T11:01:10.584944Z"
    }
   },
   "id": "f6848417caa4070a",
   "outputs": [
    {
     "data": {
      "text/plain": [
       "(<tf.Tensor: shape=(3,), dtype=string, numpy=array([b'bedroom', b'bathroom', b'garage'], dtype=object)>,\n",
       " <tf.Tensor: shape=(1,), dtype=int32, numpy=array([939700])>)"
      ]
     },
     "execution_count": 4,
     "metadata": {},
     "output_type": "execute_result"
    }
   ],
   "execution_count": 4
  },
  {
   "cell_type": "code",
   "source": [
    "X[0], y[0]"
   ],
   "metadata": {
    "colab": {
     "base_uri": "https://localhost:8080/"
    },
    "id": "2af8bcb603f84f47",
    "executionInfo": {
     "status": "ok",
     "timestamp": 1696076689508,
     "user_tz": -420,
     "elapsed": 37,
     "user": {
      "displayName": "kang sigit",
      "userId": "15887135570512197739"
     }
    },
    "outputId": "c3a03743-3370-4244-8d69-6afbcb61deb7",
    "ExecuteTime": {
     "end_time": "2025-01-28T11:01:13.349384Z",
     "start_time": "2025-01-28T11:01:13.342355Z"
    }
   },
   "id": "2af8bcb603f84f47",
   "outputs": [
    {
     "data": {
      "text/plain": [
       "(-7.0, 3.0)"
      ]
     },
     "execution_count": 5,
     "metadata": {},
     "output_type": "execute_result"
    }
   ],
   "execution_count": 5
  },
  {
   "cell_type": "code",
   "source": [
    "X[1], y[1]"
   ],
   "metadata": {
    "colab": {
     "base_uri": "https://localhost:8080/"
    },
    "id": "abfb4fe2f54c9ccd",
    "executionInfo": {
     "status": "ok",
     "timestamp": 1696076689508,
     "user_tz": -420,
     "elapsed": 29,
     "user": {
      "displayName": "kang sigit",
      "userId": "15887135570512197739"
     }
    },
    "outputId": "7bfcf3da-00f5-421c-ae7e-d5586e94b2fc",
    "ExecuteTime": {
     "end_time": "2025-01-28T11:01:17.060613Z",
     "start_time": "2025-01-28T11:01:17.050605Z"
    }
   },
   "id": "abfb4fe2f54c9ccd",
   "outputs": [
    {
     "data": {
      "text/plain": [
       "(-4.0, 6.0)"
      ]
     },
     "execution_count": 6,
     "metadata": {},
     "output_type": "execute_result"
    }
   ],
   "execution_count": 6
  },
  {
   "cell_type": "code",
   "source": [
    "input_shape = X[0].shape\n",
    "output_shape = y[0].shape\n",
    "input_shape, output_shape"
   ],
   "metadata": {
    "colab": {
     "base_uri": "https://localhost:8080/"
    },
    "id": "7ae73a2555815544",
    "executionInfo": {
     "status": "ok",
     "timestamp": 1696076689508,
     "user_tz": -420,
     "elapsed": 23,
     "user": {
      "displayName": "kang sigit",
      "userId": "15887135570512197739"
     }
    },
    "outputId": "c337f811-f992-417d-dba7-d3ccd3ced685",
    "ExecuteTime": {
     "end_time": "2025-01-28T11:01:19.893395Z",
     "start_time": "2025-01-28T11:01:19.883390Z"
    }
   },
   "id": "7ae73a2555815544",
   "outputs": [
    {
     "data": {
      "text/plain": [
       "((), ())"
      ]
     },
     "execution_count": 7,
     "metadata": {},
     "output_type": "execute_result"
    }
   ],
   "execution_count": 7
  },
  {
   "cell_type": "code",
   "source": [
    "X[0].ndim"
   ],
   "metadata": {
    "colab": {
     "base_uri": "https://localhost:8080/"
    },
    "id": "8a2ef4c080258f67",
    "executionInfo": {
     "status": "ok",
     "timestamp": 1696076689508,
     "user_tz": -420,
     "elapsed": 17,
     "user": {
      "displayName": "kang sigit",
      "userId": "15887135570512197739"
     }
    },
    "outputId": "e61e1f1e-abc2-491b-9b2c-7f68a7adfc6c",
    "ExecuteTime": {
     "end_time": "2025-01-28T11:01:27.481903Z",
     "start_time": "2025-01-28T11:01:27.476904Z"
    }
   },
   "id": "8a2ef4c080258f67",
   "outputs": [
    {
     "data": {
      "text/plain": [
       "0"
      ]
     },
     "execution_count": 8,
     "metadata": {},
     "output_type": "execute_result"
    }
   ],
   "execution_count": 8
  },
  {
   "cell_type": "code",
   "source": [
    "X[0], y[0]"
   ],
   "metadata": {
    "colab": {
     "base_uri": "https://localhost:8080/"
    },
    "id": "8dfe9ccbe865992c",
    "executionInfo": {
     "status": "ok",
     "timestamp": 1696076689509,
     "user_tz": -420,
     "elapsed": 14,
     "user": {
      "displayName": "kang sigit",
      "userId": "15887135570512197739"
     }
    },
    "outputId": "d24feca7-e1d3-4194-e935-2ed8a9d36ff4",
    "ExecuteTime": {
     "end_time": "2025-01-28T11:01:28.679350Z",
     "start_time": "2025-01-28T11:01:28.667353Z"
    }
   },
   "id": "8dfe9ccbe865992c",
   "outputs": [
    {
     "data": {
      "text/plain": [
       "(-7.0, 3.0)"
      ]
     },
     "execution_count": 9,
     "metadata": {},
     "output_type": "execute_result"
    }
   ],
   "execution_count": 9
  },
  {
   "cell_type": "code",
   "source": [
    "# Turn our NumPy arrays into tensors with dtype float32\n",
    "X = tf.cast(tf.constant(X), dtype=tf.float32)\n",
    "y = tf.cast(tf.constant(y), dtype=tf.float32)\n",
    "X, y"
   ],
   "metadata": {
    "colab": {
     "base_uri": "https://localhost:8080/"
    },
    "id": "77e963d826e1c5ee",
    "executionInfo": {
     "status": "ok",
     "timestamp": 1696076689509,
     "user_tz": -420,
     "elapsed": 12,
     "user": {
      "displayName": "kang sigit",
      "userId": "15887135570512197739"
     }
    },
    "outputId": "b37e8890-b951-42d6-dd98-70b7876abe48",
    "ExecuteTime": {
     "end_time": "2025-01-28T11:01:30.403858Z",
     "start_time": "2025-01-28T11:01:30.374453Z"
    }
   },
   "id": "77e963d826e1c5ee",
   "outputs": [
    {
     "data": {
      "text/plain": [
       "(<tf.Tensor: shape=(8,), dtype=float32, numpy=array([-7., -4., -1.,  2.,  5.,  8., 11., 14.], dtype=float32)>,\n",
       " <tf.Tensor: shape=(8,), dtype=float32, numpy=array([ 3.,  6.,  9., 12., 15., 18., 21., 24.], dtype=float32)>)"
      ]
     },
     "execution_count": 10,
     "metadata": {},
     "output_type": "execute_result"
    }
   ],
   "execution_count": 10
  },
  {
   "cell_type": "code",
   "source": [
    "input_shape = X[0].shape\n",
    "output_shape = y[0].shape\n",
    "input_shape, output_shape"
   ],
   "metadata": {
    "colab": {
     "base_uri": "https://localhost:8080/"
    },
    "id": "14e27954e5032236",
    "executionInfo": {
     "status": "ok",
     "timestamp": 1696076689509,
     "user_tz": -420,
     "elapsed": 9,
     "user": {
      "displayName": "kang sigit",
      "userId": "15887135570512197739"
     }
    },
    "outputId": "56cd997f-b119-47d1-a2ec-58393a29ffe8",
    "ExecuteTime": {
     "end_time": "2025-01-28T11:01:32.148147Z",
     "start_time": "2025-01-28T11:01:32.117148Z"
    }
   },
   "id": "14e27954e5032236",
   "outputs": [
    {
     "data": {
      "text/plain": [
       "(TensorShape([]), TensorShape([]))"
      ]
     },
     "execution_count": 11,
     "metadata": {},
     "output_type": "execute_result"
    }
   ],
   "execution_count": 11
  },
  {
   "cell_type": "code",
   "source": [
    "plt.scatter(X, y)"
   ],
   "metadata": {
    "colab": {
     "base_uri": "https://localhost:8080/",
     "height": 453
    },
    "id": "e697df78c938eedc",
    "executionInfo": {
     "status": "ok",
     "timestamp": 1696076690202,
     "user_tz": -420,
     "elapsed": 700,
     "user": {
      "displayName": "kang sigit",
      "userId": "15887135570512197739"
     }
    },
    "outputId": "67448415-bb04-4f88-a157-eed404725c38",
    "ExecuteTime": {
     "end_time": "2025-01-28T11:01:33.820361Z",
     "start_time": "2025-01-28T11:01:33.666724Z"
    }
   },
   "id": "e697df78c938eedc",
   "outputs": [
    {
     "data": {
      "text/plain": [
       "<matplotlib.collections.PathCollection at 0x2292ca3c340>"
      ]
     },
     "execution_count": 12,
     "metadata": {},
     "output_type": "execute_result"
    },
    {
     "data": {
      "text/plain": [
       "<Figure size 640x480 with 1 Axes>"
      ],
      "image/png": "[encoded data removed]"
     },
     "metadata": {},
     "output_type": "display_data"
    }
   ],
   "execution_count": 12
  },
  {
   "cell_type": "markdown",
   "source": [
    "## Steps in modeling with TensorFlow\n",
    "\n",
    "1. **Creating a model** - define the input and output layers, as well as the hidden layers of a deep learning model.\n",
    "2. **Compiling a model** - define the loss function (in other words, the function which tells our model how wrong it is) and the optimizer (tells our model how to improve the patterns its learning) and evaluation metrics (what we can use to interpret the performance our model).\n",
    "3. **Fitting a model** - letting the model try to find patterns between X & y (features and labels)."
   ],
   "metadata": {
    "collapsed": false,
    "id": "e9796f121f9b42fe"
   },
   "id": "e9796f121f9b42fe"
  },
  {
   "cell_type": "code",
   "execution_count": 19,
   "outputs": [],
   "source": [
    "# # Optionally, the first layer can receive an `input_shape` argument:\n",
    "# model = tf.keras.Sequential()\n",
    "# model.add(tf.keras.layers.Dense(8, input_shape=(16,)))\n",
    "# # Afterwards, we do automatic shape inference:\n",
    "# model.add(tf.keras.layers.Dense(4))\n",
    "#\n",
    "# model = tf.keras.Sequential()\n",
    "# model.add(tf.keras.layers.Dense(8, input_shape=(16, )))\n",
    "# ...\n",
    "#\n",
    "# model = tf.keras.Sequential()\n",
    "# model.add(tf.keras.layers.Dense(1))"
   ],
   "metadata": {
    "id": "e65f811a3ad5e9e1",
    "executionInfo": {
     "status": "ok",
     "timestamp": 1696076690202,
     "user_tz": -420,
     "elapsed": 6,
     "user": {
      "displayName": "kang sigit",
      "userId": "15887135570512197739"
     }
    },
    "ExecuteTime": {
     "end_time": "2024-01-08T06:37:17.676218355Z",
     "start_time": "2024-01-08T06:37:17.620059309Z"
    }
   },
   "id": "e65f811a3ad5e9e1"
  },
  {
   "cell_type": "code",
   "source": [
    "# Set random seed\n",
    "tf.random.set_seed(42)\n",
    "\n",
    "# 1. Create a model using the Sequential API\n",
    "model = tf.keras.Sequential([\n",
    "    tf.keras.layers.Dense(1)\n",
    "])\n",
    "\n",
    "# 2. Compile the model\n",
    "model.compile(loss=tf.keras.losses.mae, # mae is short for mean absolute error\n",
    "              optimizer=tf.keras.optimizers.SGD(), # sgd is short for stochstic gradient descent\n",
    "              metrics=[\"mae\"])\n",
    "\n",
    "# 3. Fit the model\n",
    "# model.fit(X, y, epochs=5) # This line will error if you're running TensorFlow 2.7.0+!\n",
    "model.fit(tf.expand_dims(X, axis=-1), y, epochs=5)"
   ],
   "metadata": {
    "colab": {
     "base_uri": "https://localhost:8080/"
    },
    "id": "cc71e5f4aac7d8a6",
    "executionInfo": {
     "status": "ok",
     "timestamp": 1696076701552,
     "user_tz": -420,
     "elapsed": 11356,
     "user": {
      "displayName": "kang sigit",
      "userId": "15887135570512197739"
     }
    },
    "outputId": "9fd356b1-7413-439f-c3d2-b533cbde237b",
    "ExecuteTime": {
     "end_time": "2025-01-28T11:02:20.972456Z",
     "start_time": "2025-01-28T11:02:20.456417Z"
    }
   },
   "id": "cc71e5f4aac7d8a6",
   "outputs": [
    {
     "name": "stdout",
     "output_type": "stream",
     "text": [
      "Epoch 1/5\n",
      "1/1 [==============================] - 0s 397ms/step - loss: 17.8101 - mae: 17.8101\n",
      "Epoch 2/5\n",
      "1/1 [==============================] - 0s 7ms/step - loss: 17.5288 - mae: 17.5288\n",
      "Epoch 3/5\n",
      "1/1 [==============================] - 0s 6ms/step - loss: 17.2476 - mae: 17.2476\n",
      "Epoch 4/5\n",
      "1/1 [==============================] - 0s 7ms/step - loss: 16.9663 - mae: 16.9663\n",
      "Epoch 5/5\n",
      "1/1 [==============================] - 0s 7ms/step - loss: 16.6851 - mae: 16.6851\n"
     ]
    },
    {
     "data": {
      "text/plain": [
       "<keras.callbacks.History at 0x2295e0e0670>"
      ]
     },
     "execution_count": 16,
     "metadata": {},
     "output_type": "execute_result"
    }
   ],
   "execution_count": 16
  },
  {
   "cell_type": "code",
   "source": [
    "# Check out X and y\n",
    "X, y"
   ],
   "metadata": {
    "colab": {
     "base_uri": "https://localhost:8080/"
    },
    "id": "b1b4a1c994642378",
    "executionInfo": {
     "status": "ok",
     "timestamp": 1696076701553,
     "user_tz": -420,
     "elapsed": 7,
     "user": {
      "displayName": "kang sigit",
      "userId": "15887135570512197739"
     }
    },
    "outputId": "aee68bdb-665e-4b01-9458-935836d47971",
    "ExecuteTime": {
     "end_time": "2025-01-28T11:01:48.350994Z",
     "start_time": "2025-01-28T11:01:48.331996Z"
    }
   },
   "id": "b1b4a1c994642378",
   "outputs": [
    {
     "data": {
      "text/plain": [
       "(<tf.Tensor: shape=(8,), dtype=float32, numpy=array([-7., -4., -1.,  2.,  5.,  8., 11., 14.], dtype=float32)>,\n",
       " <tf.Tensor: shape=(8,), dtype=float32, numpy=array([ 3.,  6.,  9., 12., 15., 18., 21., 24.], dtype=float32)>)"
      ]
     },
     "execution_count": 13,
     "metadata": {},
     "output_type": "execute_result"
    }
   ],
   "execution_count": 13
  },
  {
   "cell_type": "code",
   "source": [
    "# Try and make a prediction using our model\n",
    "y_pred = model.predict([17.0])\n",
    "y_pred"
   ],
   "metadata": {
    "colab": {
     "base_uri": "https://localhost:8080/"
    },
    "id": "6c9feaa2ed2266c8",
    "executionInfo": {
     "status": "ok",
     "timestamp": 1696076702180,
     "user_tz": -420,
     "elapsed": 631,
     "user": {
      "displayName": "kang sigit",
      "userId": "15887135570512197739"
     }
    },
    "outputId": "2fe08450-005e-44df-934c-53ebd9df5b33",
    "ExecuteTime": {
     "end_time": "2025-01-28T11:02:24.921337Z",
     "start_time": "2025-01-28T11:02:24.785817Z"
    }
   },
   "id": "6c9feaa2ed2266c8",
   "outputs": [
    {
     "name": "stdout",
     "output_type": "stream",
     "text": [
      "1/1 [==============================] - 0s 75ms/step\n"
     ]
    },
    {
     "data": {
      "text/plain": [
       "array([[-11.884983]], dtype=float32)"
      ]
     },
     "execution_count": 17,
     "metadata": {},
     "output_type": "execute_result"
    }
   ],
   "execution_count": 17
  },
  {
   "cell_type": "code",
   "source": [
    "y_pred + 9"
   ],
   "metadata": {
    "colab": {
     "base_uri": "https://localhost:8080/"
    },
    "id": "6ac8363b8e315b33",
    "executionInfo": {
     "status": "ok",
     "timestamp": 1696076702181,
     "user_tz": -420,
     "elapsed": 12,
     "user": {
      "displayName": "kang sigit",
      "userId": "15887135570512197739"
     }
    },
    "outputId": "c034514e-5d78-42d8-ccc3-9ad275e6357a",
    "ExecuteTime": {
     "end_time": "2025-01-28T11:02:27.099572Z",
     "start_time": "2025-01-28T11:02:27.087913Z"
    }
   },
   "id": "6ac8363b8e315b33",
   "outputs": [
    {
     "data": {
      "text/plain": [
       "array([[-2.884983]], dtype=float32)"
      ]
     },
     "execution_count": 18,
     "metadata": {},
     "output_type": "execute_result"
    }
   ],
   "execution_count": 18
  },
  {
   "cell_type": "markdown",
   "source": [
    "## Improving our model\n",
    "\n",
    "We can improve our model, by altering the steps we took to create a model.\n",
    "\n",
    "1. **Creating a model** - here we might add more layers, increase the number of hidden units (all called neurons) within each of the hidden layers, change the activation function of each layer.\n",
    "2. **Compiling a model** - here we might change the optimization function or perhaps the **learning rate** of the optimization function.\n",
    "3. **Fitting a model** - here we might fit a model for more **epochs** (leave it training for longer) or on more data (give the model more examples to learn from)."
   ],
   "metadata": {
    "collapsed": false,
    "id": "ee325f78f13dbc6f"
   },
   "id": "ee325f78f13dbc6f"
  },
  {
   "cell_type": "code",
   "source": [
    "# Let's rebuild our model\n",
    "\n",
    "# 1. Create the model\n",
    "model = tf.keras.Sequential([\n",
    "    tf.keras.layers.Dense(1)\n",
    "])\n",
    "\n",
    "# 2. Compile the model\n",
    "model.compile(loss=tf.keras.losses.mae,\n",
    "              optimizer=tf.keras.optimizers.SGD(),\n",
    "              metrics=[\"mae\"])\n",
    "\n",
    "# 3. Fit the model (this time we'll train for longer)\n",
    "model.fit(tf.expand_dims(X, axis=-1), y, epochs=100)"
   ],
   "metadata": {
    "colab": {
     "base_uri": "https://localhost:8080/"
    },
    "id": "b26232423384ab79",
    "executionInfo": {
     "status": "ok",
     "timestamp": 1696076704042,
     "user_tz": -420,
     "elapsed": 1871,
     "user": {
      "displayName": "kang sigit",
      "userId": "15887135570512197739"
     }
    },
    "outputId": "af574b45-f9db-41fa-835c-d7000afb014d",
    "ExecuteTime": {
     "end_time": "2025-01-28T11:02:33.132678Z",
     "start_time": "2025-01-28T11:02:31.968326Z"
    }
   },
   "id": "b26232423384ab79",
   "outputs": [
    {
     "name": "stdout",
     "output_type": "stream",
     "text": [
      "Epoch 1/100\n",
      "1/1 [==============================] - 0s 136ms/step - loss: 16.2937 - mae: 16.2937\n",
      "Epoch 2/100\n",
      "1/1 [==============================] - 0s 7ms/step - loss: 16.0124 - mae: 16.0124\n",
      "Epoch 3/100\n",
      "1/1 [==============================] - 0s 9ms/step - loss: 15.7312 - mae: 15.7312\n",
      "Epoch 4/100\n",
      "1/1 [==============================] - 0s 7ms/step - loss: 15.4499 - mae: 15.4499\n",
      "Epoch 5/100\n",
      "1/1 [==============================] - 0s 7ms/step - loss: 15.1687 - mae: 15.1687\n",
      "Epoch 6/100\n",
      "1/1 [==============================] - 0s 7ms/step - loss: 14.9062 - mae: 14.9062\n",
      "Epoch 7/100\n",
      "1/1 [==============================] - 0s 8ms/step - loss: 14.7737 - mae: 14.7737\n",
      "Epoch 8/100\n",
      "1/1 [==============================] - 0s 8ms/step - loss: 14.6412 - mae: 14.6412\n",
      "Epoch 9/100\n",
      "1/1 [==============================] - 0s 7ms/step - loss: 14.5087 - mae: 14.5087\n",
      "Epoch 10/100\n",
      "1/1 [==============================] - 0s 7ms/step - loss: 14.3762 - mae: 14.3762\n",
      "Epoch 11/100\n",
      "1/1 [==============================] - 0s 8ms/step - loss: 14.2437 - mae: 14.2437\n",
      "Epoch 12/100\n",
      "1/1 [==============================] - 0s 7ms/step - loss: 14.1112 - mae: 14.1112\n",
      "Epoch 13/100\n",
      "1/1 [==============================] - 0s 7ms/step - loss: 13.9787 - mae: 13.9787\n",
      "Epoch 14/100\n",
      "1/1 [==============================] - 0s 7ms/step - loss: 13.8462 - mae: 13.8462\n",
      "Epoch 15/100\n",
      "1/1 [==============================] - 0s 6ms/step - loss: 13.7137 - mae: 13.7137\n",
      "Epoch 16/100\n",
      "1/1 [==============================] - 0s 7ms/step - loss: 13.5812 - mae: 13.5812\n",
      "Epoch 17/100\n",
      "1/1 [==============================] - 0s 7ms/step - loss: 13.4487 - mae: 13.4487\n",
      "Epoch 18/100\n",
      "1/1 [==============================] - 0s 7ms/step - loss: 13.3162 - mae: 13.3162\n",
      "Epoch 19/100\n",
      "1/1 [==============================] - 0s 9ms/step - loss: 13.1837 - mae: 13.1837\n",
      "Epoch 20/100\n",
      "1/1 [==============================] - 0s 8ms/step - loss: 13.0512 - mae: 13.0512\n",
      "Epoch 21/100\n",
      "1/1 [==============================] - 0s 7ms/step - loss: 12.9187 - mae: 12.9187\n",
      "Epoch 22/100\n",
      "1/1 [==============================] - 0s 8ms/step - loss: 12.7862 - mae: 12.7862\n",
      "Epoch 23/100\n",
      "1/1 [==============================] - 0s 10ms/step - loss: 12.6537 - mae: 12.6537\n",
      "Epoch 24/100\n",
      "1/1 [==============================] - 0s 7ms/step - loss: 12.5212 - mae: 12.5212\n",
      "Epoch 25/100\n",
      "1/1 [==============================] - 0s 7ms/step - loss: 12.3887 - mae: 12.3887\n",
      "Epoch 26/100\n",
      "1/1 [==============================] - 0s 7ms/step - loss: 12.2562 - mae: 12.2562\n",
      "Epoch 27/100\n",
      "1/1 [==============================] - 0s 8ms/step - loss: 12.1237 - mae: 12.1237\n",
      "Epoch 28/100\n",
      "1/1 [==============================] - 0s 8ms/step - loss: 11.9912 - mae: 11.9912\n",
      "Epoch 29/100\n",
      "1/1 [==============================] - 0s 7ms/step - loss: 11.8587 - mae: 11.8587\n",
      "Epoch 30/100\n",
      "1/1 [==============================] - 0s 8ms/step - loss: 11.7262 - mae: 11.7262\n",
      "Epoch 31/100\n",
      "1/1 [==============================] - 0s 6ms/step - loss: 11.5937 - mae: 11.5937\n",
      "Epoch 32/100\n",
      "1/1 [==============================] - 0s 6ms/step - loss: 11.4612 - mae: 11.4612\n",
      "Epoch 33/100\n",
      "1/1 [==============================] - 0s 6ms/step - loss: 11.3287 - mae: 11.3287\n",
      "Epoch 34/100\n",
      "1/1 [==============================] - 0s 7ms/step - loss: 11.1962 - mae: 11.1962\n",
      "Epoch 35/100\n",
      "1/1 [==============================] - 0s 7ms/step - loss: 11.0637 - mae: 11.0637\n",
      "Epoch 36/100\n",
      "1/1 [==============================] - 0s 7ms/step - loss: 10.9312 - mae: 10.9312\n",
      "Epoch 37/100\n",
      "1/1 [==============================] - 0s 6ms/step - loss: 10.7987 - mae: 10.7987\n",
      "Epoch 38/100\n",
      "1/1 [==============================] - 0s 8ms/step - loss: 10.6662 - mae: 10.6662\n",
      "Epoch 39/100\n",
      "1/1 [==============================] - 0s 6ms/step - loss: 10.5337 - mae: 10.5337\n",
      "Epoch 40/100\n",
      "1/1 [==============================] - 0s 8ms/step - loss: 10.4012 - mae: 10.4012\n",
      "Epoch 41/100\n",
      "1/1 [==============================] - 0s 7ms/step - loss: 10.2687 - mae: 10.2687\n",
      "Epoch 42/100\n",
      "1/1 [==============================] - 0s 8ms/step - loss: 10.1362 - mae: 10.1362\n",
      "Epoch 43/100\n",
      "1/1 [==============================] - 0s 7ms/step - loss: 10.0037 - mae: 10.0037\n",
      "Epoch 44/100\n",
      "1/1 [==============================] - 0s 7ms/step - loss: 9.8712 - mae: 9.8712\n",
      "Epoch 45/100\n",
      "1/1 [==============================] - 0s 8ms/step - loss: 9.7387 - mae: 9.7387\n",
      "Epoch 46/100\n",
      "1/1 [==============================] - 0s 7ms/step - loss: 9.6062 - mae: 9.6062\n",
      "Epoch 47/100\n",
      "1/1 [==============================] - 0s 6ms/step - loss: 9.4737 - mae: 9.4737\n",
      "Epoch 48/100\n",
      "1/1 [==============================] - 0s 7ms/step - loss: 9.3412 - mae: 9.3412\n",
      "Epoch 49/100\n",
      "1/1 [==============================] - 0s 7ms/step - loss: 9.2087 - mae: 9.2087\n",
      "Epoch 50/100\n",
      "1/1 [==============================] - 0s 8ms/step - loss: 9.0762 - mae: 9.0762\n",
      "Epoch 51/100\n",
      "1/1 [==============================] - 0s 6ms/step - loss: 8.9437 - mae: 8.9437\n",
      "Epoch 52/100\n",
      "1/1 [==============================] - 0s 7ms/step - loss: 8.8112 - mae: 8.8112\n",
      "Epoch 53/100\n",
      "1/1 [==============================] - 0s 6ms/step - loss: 8.6787 - mae: 8.6787\n",
      "Epoch 54/100\n",
      "1/1 [==============================] - 0s 8ms/step - loss: 8.5462 - mae: 8.5462\n",
      "Epoch 55/100\n",
      "1/1 [==============================] - 0s 7ms/step - loss: 8.4137 - mae: 8.4137\n",
      "Epoch 56/100\n",
      "1/1 [==============================] - 0s 6ms/step - loss: 8.2812 - mae: 8.2812\n",
      "Epoch 57/100\n",
      "1/1 [==============================] - 0s 8ms/step - loss: 8.1487 - mae: 8.1487\n",
      "Epoch 58/100\n",
      "1/1 [==============================] - 0s 6ms/step - loss: 8.0162 - mae: 8.0162\n",
      "Epoch 59/100\n",
      "1/1 [==============================] - 0s 7ms/step - loss: 7.8837 - mae: 7.8837\n",
      "Epoch 60/100\n",
      "1/1 [==============================] - 0s 7ms/step - loss: 7.7512 - mae: 7.7512\n",
      "Epoch 61/100\n",
      "1/1 [==============================] - 0s 7ms/step - loss: 7.6187 - mae: 7.6187\n",
      "Epoch 62/100\n",
      "1/1 [==============================] - 0s 8ms/step - loss: 7.4862 - mae: 7.4862\n",
      "Epoch 63/100\n",
      "1/1 [==============================] - 0s 8ms/step - loss: 7.3537 - mae: 7.3537\n",
      "Epoch 64/100\n",
      "1/1 [==============================] - 0s 7ms/step - loss: 7.2212 - mae: 7.2212\n",
      "Epoch 65/100\n",
      "1/1 [==============================] - 0s 7ms/step - loss: 7.0887 - mae: 7.0887\n",
      "Epoch 66/100\n",
      "1/1 [==============================] - 0s 6ms/step - loss: 7.0219 - mae: 7.0219\n",
      "Epoch 67/100\n",
      "1/1 [==============================] - 0s 6ms/step - loss: 7.0163 - mae: 7.0163\n",
      "Epoch 68/100\n",
      "1/1 [==============================] - 0s 7ms/step - loss: 7.0106 - mae: 7.0106\n",
      "Epoch 69/100\n",
      "1/1 [==============================] - 0s 8ms/step - loss: 7.0050 - mae: 7.0050\n",
      "Epoch 70/100\n",
      "1/1 [==============================] - 0s 8ms/step - loss: 6.9994 - mae: 6.9994\n",
      "Epoch 71/100\n",
      "1/1 [==============================] - 0s 6ms/step - loss: 6.9937 - mae: 6.9937\n",
      "Epoch 72/100\n",
      "1/1 [==============================] - 0s 6ms/step - loss: 6.9881 - mae: 6.9881\n",
      "Epoch 73/100\n",
      "1/1 [==============================] - 0s 7ms/step - loss: 6.9825 - mae: 6.9825\n",
      "Epoch 74/100\n",
      "1/1 [==============================] - 0s 9ms/step - loss: 6.9769 - mae: 6.9769\n",
      "Epoch 75/100\n",
      "1/1 [==============================] - 0s 7ms/step - loss: 6.9713 - mae: 6.9713\n",
      "Epoch 76/100\n",
      "1/1 [==============================] - 0s 6ms/step - loss: 6.9656 - mae: 6.9656\n",
      "Epoch 77/100\n",
      "1/1 [==============================] - 0s 6ms/step - loss: 6.9600 - mae: 6.9600\n",
      "Epoch 78/100\n",
      "1/1 [==============================] - 0s 6ms/step - loss: 6.9544 - mae: 6.9544\n",
      "Epoch 79/100\n",
      "1/1 [==============================] - 0s 7ms/step - loss: 6.9488 - mae: 6.9488\n",
      "Epoch 80/100\n",
      "1/1 [==============================] - 0s 7ms/step - loss: 6.9431 - mae: 6.9431\n",
      "Epoch 81/100\n",
      "1/1 [==============================] - 0s 7ms/step - loss: 6.9375 - mae: 6.9375\n",
      "Epoch 82/100\n",
      "1/1 [==============================] - 0s 6ms/step - loss: 6.9319 - mae: 6.9319\n",
      "Epoch 83/100\n",
      "1/1 [==============================] - 0s 7ms/step - loss: 6.9263 - mae: 6.9263\n",
      "Epoch 84/100\n",
      "1/1 [==============================] - 0s 6ms/step - loss: 6.9206 - mae: 6.9206\n",
      "Epoch 85/100\n",
      "1/1 [==============================] - 0s 7ms/step - loss: 6.9150 - mae: 6.9150\n",
      "Epoch 86/100\n",
      "1/1 [==============================] - 0s 8ms/step - loss: 6.9094 - mae: 6.9094\n",
      "Epoch 87/100\n",
      "1/1 [==============================] - 0s 6ms/step - loss: 6.9038 - mae: 6.9038\n",
      "Epoch 88/100\n",
      "1/1 [==============================] - 0s 7ms/step - loss: 6.8981 - mae: 6.8981\n",
      "Epoch 89/100\n",
      "1/1 [==============================] - 0s 7ms/step - loss: 6.8925 - mae: 6.8925\n",
      "Epoch 90/100\n",
      "1/1 [==============================] - 0s 6ms/step - loss: 6.8869 - mae: 6.8869\n",
      "Epoch 91/100\n",
      "1/1 [==============================] - 0s 6ms/step - loss: 6.8813 - mae: 6.8813\n",
      "Epoch 92/100\n",
      "1/1 [==============================] - 0s 6ms/step - loss: 6.8756 - mae: 6.8756\n",
      "Epoch 93/100\n",
      "1/1 [==============================] - 0s 6ms/step - loss: 6.8700 - mae: 6.8700\n",
      "Epoch 94/100\n",
      "1/1 [==============================] - 0s 7ms/step - loss: 6.8644 - mae: 6.8644\n",
      "Epoch 95/100\n",
      "1/1 [==============================] - 0s 7ms/step - loss: 6.8588 - mae: 6.8588\n",
      "Epoch 96/100\n",
      "1/1 [==============================] - 0s 6ms/step - loss: 6.8531 - mae: 6.8531\n",
      "Epoch 97/100\n",
      "1/1 [==============================] - 0s 6ms/step - loss: 6.8475 - mae: 6.8475\n",
      "Epoch 98/100\n",
      "1/1 [==============================] - 0s 7ms/step - loss: 6.8419 - mae: 6.8419\n",
      "Epoch 99/100\n",
      "1/1 [==============================] - 0s 7ms/step - loss: 6.8363 - mae: 6.8363\n",
      "Epoch 100/100\n",
      "1/1 [==============================] - 0s 6ms/step - loss: 6.8306 - mae: 6.8306\n"
     ]
    },
    {
     "data": {
      "text/plain": [
       "<keras.callbacks.History at 0x2295f4aa040>"
      ]
     },
     "execution_count": 19,
     "metadata": {},
     "output_type": "execute_result"
    }
   ],
   "execution_count": 19
  },
  {
   "cell_type": "code",
   "source": [
    "# Reminder ourselves of the data\n",
    "X, y"
   ],
   "metadata": {
    "colab": {
     "base_uri": "https://localhost:8080/"
    },
    "id": "e9b4e45adea19edc",
    "executionInfo": {
     "status": "ok",
     "timestamp": 1696076704043,
     "user_tz": -420,
     "elapsed": 13,
     "user": {
      "displayName": "kang sigit",
      "userId": "15887135570512197739"
     }
    },
    "outputId": "9c3ea1ed-df93-4a29-8624-0d0df70f77b5",
    "ExecuteTime": {
     "end_time": "2025-01-28T11:02:37.575515Z",
     "start_time": "2025-01-28T11:02:37.556961Z"
    }
   },
   "id": "e9b4e45adea19edc",
   "outputs": [
    {
     "data": {
      "text/plain": [
       "(<tf.Tensor: shape=(8,), dtype=float32, numpy=array([-7., -4., -1.,  2.,  5.,  8., 11., 14.], dtype=float32)>,\n",
       " <tf.Tensor: shape=(8,), dtype=float32, numpy=array([ 3.,  6.,  9., 12., 15., 18., 21., 24.], dtype=float32)>)"
      ]
     },
     "execution_count": 20,
     "metadata": {},
     "output_type": "execute_result"
    }
   ],
   "execution_count": 20
  },
  {
   "cell_type": "code",
   "source": [
    "# Let's see if our model's prediction has improved...\n",
    "model.predict([17.0])"
   ],
   "metadata": {
    "colab": {
     "base_uri": "https://localhost:8080/"
    },
    "id": "4fa1532cec878a87",
    "executionInfo": {
     "status": "ok",
     "timestamp": 1696076704043,
     "user_tz": -420,
     "elapsed": 7,
     "user": {
      "displayName": "kang sigit",
      "userId": "15887135570512197739"
     }
    },
    "outputId": "c3db728e-15ba-48ed-b577-524225c39d2d",
    "ExecuteTime": {
     "end_time": "2025-01-28T11:02:40.600049Z",
     "start_time": "2025-01-28T11:02:40.477617Z"
    }
   },
   "id": "4fa1532cec878a87",
   "outputs": [
    {
     "name": "stdout",
     "output_type": "stream",
     "text": [
      "1/1 [==============================] - 0s 61ms/step\n"
     ]
    },
    {
     "data": {
      "text/plain": [
       "array([[29.58777]], dtype=float32)"
      ]
     },
     "execution_count": 21,
     "metadata": {},
     "output_type": "execute_result"
    }
   ],
   "execution_count": 21
  },
  {
   "cell_type": "code",
   "source": [
    "# Let's see if we can make another to improve our model\n",
    "\n",
    "# 1. Create the model (this time with an extra hidden layer with 100 hidden units)\n",
    "model = tf.keras.Sequential([\n",
    "    tf.keras.layers.Dense(50, activation=None),\n",
    "    tf.keras.layers.Dense(1)\n",
    "])\n",
    "\n",
    "# 2. Compile the model\n",
    "model.compile(loss=\"mae\",\n",
    "              optimizer=tf.keras.optimizers.Adam(learning_rate=0.01),\n",
    "              metrics=[\"mae\"])\n",
    "\n",
    "# 3. Fit the model\n",
    "model.fit(tf.expand_dims(X, axis=-1), y, epochs=100)"
   ],
   "metadata": {
    "colab": {
     "base_uri": "https://localhost:8080/"
    },
    "id": "8b9aa4f166adf717",
    "executionInfo": {
     "status": "ok",
     "timestamp": 1696076707677,
     "user_tz": -420,
     "elapsed": 3639,
     "user": {
      "displayName": "kang sigit",
      "userId": "15887135570512197739"
     }
    },
    "outputId": "09a15c82-6c48-4a25-f2e2-9e9be634ab0e",
    "ExecuteTime": {
     "end_time": "2025-01-28T11:02:53.879139Z",
     "start_time": "2025-01-28T11:02:52.649246Z"
    }
   },
   "id": "8b9aa4f166adf717",
   "outputs": [
    {
     "name": "stdout",
     "output_type": "stream",
     "text": [
      "Epoch 1/100\n",
      "1/1 [==============================] - 0s 311ms/step - loss: 13.8806 - mae: 13.8806\n",
      "Epoch 2/100\n",
      "1/1 [==============================] - 0s 8ms/step - loss: 13.1720 - mae: 13.1720\n",
      "Epoch 3/100\n",
      "1/1 [==============================] - 0s 9ms/step - loss: 12.4594 - mae: 12.4594\n",
      "Epoch 4/100\n",
      "1/1 [==============================] - 0s 9ms/step - loss: 11.7393 - mae: 11.7393\n",
      "Epoch 5/100\n",
      "1/1 [==============================] - 0s 9ms/step - loss: 11.0095 - mae: 11.0095\n",
      "Epoch 6/100\n",
      "1/1 [==============================] - 0s 10ms/step - loss: 10.2673 - mae: 10.2673\n",
      "Epoch 7/100\n",
      "1/1 [==============================] - 0s 9ms/step - loss: 9.5098 - mae: 9.5098\n",
      "Epoch 8/100\n",
      "1/1 [==============================] - 0s 8ms/step - loss: 8.7346 - mae: 8.7346\n",
      "Epoch 9/100\n",
      "1/1 [==============================] - 0s 7ms/step - loss: 7.9392 - mae: 7.9392\n",
      "Epoch 10/100\n",
      "1/1 [==============================] - 0s 6ms/step - loss: 7.1216 - mae: 7.1216\n",
      "Epoch 11/100\n",
      "1/1 [==============================] - 0s 6ms/step - loss: 6.6970 - mae: 6.6970\n",
      "Epoch 12/100\n",
      "1/1 [==============================] - 0s 6ms/step - loss: 6.9993 - mae: 6.9993\n",
      "Epoch 13/100\n",
      "1/1 [==============================] - 0s 7ms/step - loss: 7.3132 - mae: 7.3132\n",
      "Epoch 14/100\n",
      "1/1 [==============================] - 0s 6ms/step - loss: 7.7134 - mae: 7.7134\n",
      "Epoch 15/100\n",
      "1/1 [==============================] - 0s 7ms/step - loss: 7.8299 - mae: 7.8299\n",
      "Epoch 16/100\n",
      "1/1 [==============================] - 0s 6ms/step - loss: 7.7325 - mae: 7.7325\n",
      "Epoch 17/100\n",
      "1/1 [==============================] - 0s 6ms/step - loss: 7.4741 - mae: 7.4741\n",
      "Epoch 18/100\n",
      "1/1 [==============================] - 0s 5ms/step - loss: 7.0939 - mae: 7.0939\n",
      "Epoch 19/100\n",
      "1/1 [==============================] - 0s 7ms/step - loss: 6.7292 - mae: 6.7292\n",
      "Epoch 20/100\n",
      "1/1 [==============================] - 0s 5ms/step - loss: 6.4208 - mae: 6.4208\n",
      "Epoch 21/100\n",
      "1/1 [==============================] - 0s 9ms/step - loss: 6.1025 - mae: 6.1025\n",
      "Epoch 22/100\n",
      "1/1 [==============================] - 0s 6ms/step - loss: 5.9864 - mae: 5.9864\n",
      "Epoch 23/100\n",
      "1/1 [==============================] - 0s 7ms/step - loss: 5.9830 - mae: 5.9830\n",
      "Epoch 24/100\n",
      "1/1 [==============================] - 0s 7ms/step - loss: 6.1270 - mae: 6.1270\n",
      "Epoch 25/100\n",
      "1/1 [==============================] - 0s 7ms/step - loss: 6.1603 - mae: 6.1603\n",
      "Epoch 26/100\n",
      "1/1 [==============================] - 0s 6ms/step - loss: 6.0972 - mae: 6.0972\n",
      "Epoch 27/100\n",
      "1/1 [==============================] - 0s 6ms/step - loss: 5.9486 - mae: 5.9486\n",
      "Epoch 28/100\n",
      "1/1 [==============================] - 0s 6ms/step - loss: 5.7224 - mae: 5.7224\n",
      "Epoch 29/100\n",
      "1/1 [==============================] - 0s 6ms/step - loss: 5.4626 - mae: 5.4626\n",
      "Epoch 30/100\n",
      "1/1 [==============================] - 0s 6ms/step - loss: 5.3574 - mae: 5.3574\n",
      "Epoch 31/100\n",
      "1/1 [==============================] - 0s 5ms/step - loss: 5.2494 - mae: 5.2494\n",
      "Epoch 32/100\n",
      "1/1 [==============================] - 0s 5ms/step - loss: 5.2257 - mae: 5.2257\n",
      "Epoch 33/100\n",
      "1/1 [==============================] - 0s 5ms/step - loss: 5.2102 - mae: 5.2102\n",
      "Epoch 34/100\n",
      "1/1 [==============================] - 0s 6ms/step - loss: 5.1496 - mae: 5.1496\n",
      "Epoch 35/100\n",
      "1/1 [==============================] - 0s 5ms/step - loss: 5.0475 - mae: 5.0475\n",
      "Epoch 36/100\n",
      "1/1 [==============================] - 0s 6ms/step - loss: 4.9074 - mae: 4.9074\n",
      "Epoch 37/100\n",
      "1/1 [==============================] - 0s 6ms/step - loss: 4.7326 - mae: 4.7326\n",
      "Epoch 38/100\n",
      "1/1 [==============================] - 0s 5ms/step - loss: 4.5464 - mae: 4.5464\n",
      "Epoch 39/100\n",
      "1/1 [==============================] - 0s 8ms/step - loss: 4.4480 - mae: 4.4480\n",
      "Epoch 40/100\n",
      "1/1 [==============================] - 0s 6ms/step - loss: 4.3424 - mae: 4.3424\n",
      "Epoch 41/100\n",
      "1/1 [==============================] - 0s 7ms/step - loss: 4.2295 - mae: 4.2295\n",
      "Epoch 42/100\n",
      "1/1 [==============================] - 0s 7ms/step - loss: 4.1317 - mae: 4.1317\n",
      "Epoch 43/100\n",
      "1/1 [==============================] - 0s 7ms/step - loss: 3.9720 - mae: 3.9720\n",
      "Epoch 44/100\n",
      "1/1 [==============================] - 0s 6ms/step - loss: 3.8278 - mae: 3.8278\n",
      "Epoch 45/100\n",
      "1/1 [==============================] - 0s 7ms/step - loss: 3.6764 - mae: 3.6764\n",
      "Epoch 46/100\n",
      "1/1 [==============================] - 0s 6ms/step - loss: 3.5177 - mae: 3.5177\n",
      "Epoch 47/100\n",
      "1/1 [==============================] - 0s 5ms/step - loss: 3.3512 - mae: 3.3512\n",
      "Epoch 48/100\n",
      "1/1 [==============================] - 0s 5ms/step - loss: 3.1769 - mae: 3.1769\n",
      "Epoch 49/100\n",
      "1/1 [==============================] - 0s 6ms/step - loss: 3.0430 - mae: 3.0430\n",
      "Epoch 50/100\n",
      "1/1 [==============================] - 0s 6ms/step - loss: 2.8721 - mae: 2.8721\n",
      "Epoch 51/100\n",
      "1/1 [==============================] - 0s 6ms/step - loss: 2.6458 - mae: 2.6458\n",
      "Epoch 52/100\n",
      "1/1 [==============================] - 0s 6ms/step - loss: 2.4615 - mae: 2.4615\n",
      "Epoch 53/100\n",
      "1/1 [==============================] - 0s 7ms/step - loss: 2.2952 - mae: 2.2952\n",
      "Epoch 54/100\n",
      "1/1 [==============================] - 0s 5ms/step - loss: 2.0701 - mae: 2.0701\n",
      "Epoch 55/100\n",
      "1/1 [==============================] - 0s 7ms/step - loss: 1.8317 - mae: 1.8317\n",
      "Epoch 56/100\n",
      "1/1 [==============================] - 0s 5ms/step - loss: 1.6978 - mae: 1.6978\n",
      "Epoch 57/100\n",
      "1/1 [==============================] - 0s 7ms/step - loss: 1.5142 - mae: 1.5142\n",
      "Epoch 58/100\n",
      "1/1 [==============================] - 0s 6ms/step - loss: 1.2677 - mae: 1.2677\n",
      "Epoch 59/100\n",
      "1/1 [==============================] - 0s 7ms/step - loss: 0.9002 - mae: 0.9002\n",
      "Epoch 60/100\n",
      "1/1 [==============================] - 0s 6ms/step - loss: 0.8347 - mae: 0.8347\n",
      "Epoch 61/100\n",
      "1/1 [==============================] - 0s 6ms/step - loss: 0.6803 - mae: 0.6803\n",
      "Epoch 62/100\n",
      "1/1 [==============================] - 0s 7ms/step - loss: 0.3920 - mae: 0.3920\n",
      "Epoch 63/100\n",
      "1/1 [==============================] - 0s 6ms/step - loss: 0.2188 - mae: 0.2188\n",
      "Epoch 64/100\n",
      "1/1 [==============================] - 0s 6ms/step - loss: 0.5281 - mae: 0.5281\n",
      "Epoch 65/100\n",
      "1/1 [==============================] - 0s 7ms/step - loss: 0.6044 - mae: 0.6044\n",
      "Epoch 66/100\n",
      "1/1 [==============================] - 0s 6ms/step - loss: 0.5467 - mae: 0.5467\n",
      "Epoch 67/100\n",
      "1/1 [==============================] - 0s 5ms/step - loss: 0.6387 - mae: 0.6387\n",
      "Epoch 68/100\n",
      "1/1 [==============================] - 0s 6ms/step - loss: 0.5817 - mae: 0.5817\n",
      "Epoch 69/100\n",
      "1/1 [==============================] - 0s 7ms/step - loss: 0.6732 - mae: 0.6732\n",
      "Epoch 70/100\n",
      "1/1 [==============================] - 0s 7ms/step - loss: 0.6161 - mae: 0.6161\n",
      "Epoch 71/100\n",
      "1/1 [==============================] - 0s 6ms/step - loss: 0.3979 - mae: 0.3979\n",
      "Epoch 72/100\n",
      "1/1 [==============================] - 0s 6ms/step - loss: 0.4138 - mae: 0.4138\n",
      "Epoch 73/100\n",
      "1/1 [==============================] - 0s 6ms/step - loss: 0.2866 - mae: 0.2866\n",
      "Epoch 74/100\n",
      "1/1 [==============================] - 0s 8ms/step - loss: 0.1546 - mae: 0.1546\n",
      "Epoch 75/100\n",
      "1/1 [==============================] - 0s 6ms/step - loss: 0.1727 - mae: 0.1727\n",
      "Epoch 76/100\n",
      "1/1 [==============================] - 0s 6ms/step - loss: 0.3206 - mae: 0.3206\n",
      "Epoch 77/100\n",
      "1/1 [==============================] - 0s 8ms/step - loss: 0.4239 - mae: 0.4239\n",
      "Epoch 78/100\n",
      "1/1 [==============================] - 0s 6ms/step - loss: 0.3568 - mae: 0.3568\n",
      "Epoch 79/100\n",
      "1/1 [==============================] - 0s 7ms/step - loss: 0.2989 - mae: 0.2989\n",
      "Epoch 80/100\n",
      "1/1 [==============================] - 0s 6ms/step - loss: 0.3158 - mae: 0.3158\n",
      "Epoch 81/100\n",
      "1/1 [==============================] - 0s 7ms/step - loss: 0.1535 - mae: 0.1535\n",
      "Epoch 82/100\n",
      "1/1 [==============================] - 0s 7ms/step - loss: 0.0812 - mae: 0.0812\n",
      "Epoch 83/100\n",
      "1/1 [==============================] - 0s 6ms/step - loss: 0.1750 - mae: 0.1750\n",
      "Epoch 84/100\n",
      "1/1 [==============================] - 0s 6ms/step - loss: 0.1392 - mae: 0.1392\n",
      "Epoch 85/100\n",
      "1/1 [==============================] - 0s 7ms/step - loss: 0.3691 - mae: 0.3691\n",
      "Epoch 86/100\n",
      "1/1 [==============================] - 0s 8ms/step - loss: 0.3918 - mae: 0.3918\n",
      "Epoch 87/100\n",
      "1/1 [==============================] - 0s 6ms/step - loss: 0.1986 - mae: 0.1986\n",
      "Epoch 88/100\n",
      "1/1 [==============================] - 0s 7ms/step - loss: 0.3760 - mae: 0.3760\n",
      "Epoch 89/100\n",
      "1/1 [==============================] - 0s 8ms/step - loss: 0.4498 - mae: 0.4498\n",
      "Epoch 90/100\n",
      "1/1 [==============================] - 0s 7ms/step - loss: 0.2543 - mae: 0.2543\n",
      "Epoch 91/100\n",
      "1/1 [==============================] - 0s 6ms/step - loss: 0.2201 - mae: 0.2201\n",
      "Epoch 92/100\n",
      "1/1 [==============================] - 0s 8ms/step - loss: 0.3335 - mae: 0.3335\n",
      "Epoch 93/100\n",
      "1/1 [==============================] - 0s 7ms/step - loss: 0.1784 - mae: 0.1784\n",
      "Epoch 94/100\n",
      "1/1 [==============================] - 0s 7ms/step - loss: 0.2120 - mae: 0.2120\n",
      "Epoch 95/100\n",
      "1/1 [==============================] - 0s 7ms/step - loss: 0.2508 - mae: 0.2508\n",
      "Epoch 96/100\n",
      "1/1 [==============================] - 0s 6ms/step - loss: 0.0618 - mae: 0.0618\n",
      "Epoch 97/100\n",
      "1/1 [==============================] - 0s 6ms/step - loss: 0.2677 - mae: 0.2677\n",
      "Epoch 98/100\n",
      "1/1 [==============================] - 0s 6ms/step - loss: 0.2608 - mae: 0.2608\n",
      "Epoch 99/100\n",
      "1/1 [==============================] - 0s 7ms/step - loss: 0.0931 - mae: 0.0931\n",
      "Epoch 100/100\n",
      "1/1 [==============================] - 0s 6ms/step - loss: 0.1470 - mae: 0.1470\n"
     ]
    },
    {
     "data": {
      "text/plain": [
       "<keras.callbacks.History at 0x2295f5e1fd0>"
      ]
     },
     "execution_count": 22,
     "metadata": {},
     "output_type": "execute_result"
    }
   ],
   "execution_count": 22
  },
  {
   "cell_type": "code",
   "source": [
    "# Let's remind ourselves of the data\n",
    "X, y"
   ],
   "metadata": {
    "colab": {
     "base_uri": "https://localhost:8080/"
    },
    "id": "6b5bd6ece9fcbd99",
    "executionInfo": {
     "status": "ok",
     "timestamp": 1696076707678,
     "user_tz": -420,
     "elapsed": 37,
     "user": {
      "displayName": "kang sigit",
      "userId": "15887135570512197739"
     }
    },
    "outputId": "5cc7cd2b-d423-4cea-c5fb-aeaceda59838",
    "ExecuteTime": {
     "end_time": "2025-01-28T11:03:01.057562Z",
     "start_time": "2025-01-28T11:03:01.043546Z"
    }
   },
   "id": "6b5bd6ece9fcbd99",
   "outputs": [
    {
     "data": {
      "text/plain": [
       "(<tf.Tensor: shape=(8,), dtype=float32, numpy=array([-7., -4., -1.,  2.,  5.,  8., 11., 14.], dtype=float32)>,\n",
       " <tf.Tensor: shape=(8,), dtype=float32, numpy=array([ 3.,  6.,  9., 12., 15., 18., 21., 24.], dtype=float32)>)"
      ]
     },
     "execution_count": 23,
     "metadata": {},
     "output_type": "execute_result"
    }
   ],
   "execution_count": 23
  },
  {
   "cell_type": "code",
   "source": [
    "# Let's  try to make a prediction\n",
    "model.predict([17.0])"
   ],
   "metadata": {
    "colab": {
     "base_uri": "https://localhost:8080/"
    },
    "id": "a0f497158a07079a",
    "executionInfo": {
     "status": "ok",
     "timestamp": 1696076707678,
     "user_tz": -420,
     "elapsed": 30,
     "user": {
      "displayName": "kang sigit",
      "userId": "15887135570512197739"
     }
    },
    "outputId": "5d49bee4-aedd-4687-ee45-a21a4d31ef92",
    "ExecuteTime": {
     "end_time": "2025-01-28T11:03:03.604165Z",
     "start_time": "2025-01-28T11:03:03.530089Z"
    }
   },
   "id": "a0f497158a07079a",
   "outputs": [
    {
     "name": "stdout",
     "output_type": "stream",
     "text": [
      "1/1 [==============================] - 0s 38ms/step\n"
     ]
    },
    {
     "data": {
      "text/plain": [
       "array([[27.072172]], dtype=float32)"
      ]
     },
     "execution_count": 24,
     "metadata": {},
     "output_type": "execute_result"
    }
   ],
   "execution_count": 24
  },
  {
   "cell_type": "markdown",
   "source": [
    "## Evaluating a model\n",
    "\n",
    "In practice, a typical workflow you'll go through when building neural networks is:\n",
    "\n",
    "```\n",
    "Build a model -> fit it -> evaluate it -> tweak a model -> fit it -> evaluate it -> tweak a model -> fit it -> evaluate it...\n",
    "```\n",
    "\n"
   ],
   "metadata": {
    "collapsed": false,
    "id": "8586a632a5e30d87"
   },
   "id": "8586a632a5e30d87"
  },
  {
   "cell_type": "markdown",
   "source": [
    "When it comes to evaluation... there are 3 words you should memorize:\n",
    "\n",
    "> \"Visualize, visualize, visualize\"\n",
    "\n",
    "It's a good idea to visualize:\n",
    "* The data - what data are we working with? What does it look like?\n",
    "* The model itself - what does our model look like?\n",
    "* The training of a model - how does a model perform while it learns?\n",
    "* The predictions of the model - how do the predictions od a model line up against the ground truth (the original labels)?"
   ],
   "metadata": {
    "collapsed": false,
    "id": "b0557d4d9296152e"
   },
   "id": "b0557d4d9296152e"
  },
  {
   "cell_type": "code",
   "source": [
    "# Make a bigger dataset\n",
    "X = tf.range(-100, 100, 4)\n",
    "X"
   ],
   "metadata": {
    "colab": {
     "base_uri": "https://localhost:8080/"
    },
    "id": "ebfdaf1ca49a3887",
    "executionInfo": {
     "status": "ok",
     "timestamp": 1696076707678,
     "user_tz": -420,
     "elapsed": 27,
     "user": {
      "displayName": "kang sigit",
      "userId": "15887135570512197739"
     }
    },
    "outputId": "bc30d2c0-7064-4c85-ad7c-5b2adb992cb9",
    "ExecuteTime": {
     "end_time": "2025-01-28T11:03:09.084413Z",
     "start_time": "2025-01-28T11:03:09.071772Z"
    }
   },
   "id": "ebfdaf1ca49a3887",
   "outputs": [
    {
     "data": {
      "text/plain": [
       "<tf.Tensor: shape=(50,), dtype=int32, numpy=\n",
       "array([-100,  -96,  -92,  -88,  -84,  -80,  -76,  -72,  -68,  -64,  -60,\n",
       "        -56,  -52,  -48,  -44,  -40,  -36,  -32,  -28,  -24,  -20,  -16,\n",
       "        -12,   -8,   -4,    0,    4,    8,   12,   16,   20,   24,   28,\n",
       "         32,   36,   40,   44,   48,   52,   56,   60,   64,   68,   72,\n",
       "         76,   80,   84,   88,   92,   96])>"
      ]
     },
     "execution_count": 25,
     "metadata": {},
     "output_type": "execute_result"
    }
   ],
   "execution_count": 25
  },
  {
   "cell_type": "code",
   "source": [
    "# Make labels for the dataset\n",
    "y = X + 10\n",
    "y"
   ],
   "metadata": {
    "colab": {
     "base_uri": "https://localhost:8080/"
    },
    "id": "5573573108e8addc",
    "executionInfo": {
     "status": "ok",
     "timestamp": 1696076707678,
     "user_tz": -420,
     "elapsed": 25,
     "user": {
      "displayName": "kang sigit",
      "userId": "15887135570512197739"
     }
    },
    "outputId": "799c0f5b-54de-446d-80ad-e0ab45651900",
    "ExecuteTime": {
     "end_time": "2025-01-28T11:03:11.773966Z",
     "start_time": "2025-01-28T11:03:11.758963Z"
    }
   },
   "id": "5573573108e8addc",
   "outputs": [
    {
     "data": {
      "text/plain": [
       "<tf.Tensor: shape=(50,), dtype=int32, numpy=\n",
       "array([-90, -86, -82, -78, -74, -70, -66, -62, -58, -54, -50, -46, -42,\n",
       "       -38, -34, -30, -26, -22, -18, -14, -10,  -6,  -2,   2,   6,  10,\n",
       "        14,  18,  22,  26,  30,  34,  38,  42,  46,  50,  54,  58,  62,\n",
       "        66,  70,  74,  78,  82,  86,  90,  94,  98, 102, 106])>"
      ]
     },
     "execution_count": 26,
     "metadata": {},
     "output_type": "execute_result"
    }
   ],
   "execution_count": 26
  },
  {
   "cell_type": "code",
   "source": [
    "# Visualize the data\n",
    "import matplotlib.pyplot as plt\n",
    "\n",
    "plt.scatter(X, y)"
   ],
   "metadata": {
    "colab": {
     "base_uri": "https://localhost:8080/",
     "height": 448
    },
    "id": "819381cfdadb50fa",
    "executionInfo": {
     "status": "ok",
     "timestamp": 1696076707678,
     "user_tz": -420,
     "elapsed": 23,
     "user": {
      "displayName": "kang sigit",
      "userId": "15887135570512197739"
     }
    },
    "outputId": "50eb4a39-f417-4bbe-8dfa-b4e0ffe18018",
    "ExecuteTime": {
     "end_time": "2025-01-28T11:03:14.292142Z",
     "start_time": "2025-01-28T11:03:14.192031Z"
    }
   },
   "id": "819381cfdadb50fa",
   "outputs": [
    {
     "data": {
      "text/plain": [
       "<matplotlib.collections.PathCollection at 0x2295d61c2e0>"
      ]
     },
     "execution_count": 27,
     "metadata": {},
     "output_type": "execute_result"
    },
    {
     "data": {
      "text/plain": [
       "<Figure size 640x480 with 1 Axes>"
      ],
      "image/png": "[encoded data removed]"
     },
     "metadata": {},
     "output_type": "display_data"
    }
   ],
   "execution_count": 27
  },
  {
   "cell_type": "markdown",
   "source": [
    "### The 3 sets...\n",
    "\n",
    "* **Training set** - the model learns from this data, which is typically 70-80% of total data you have available.\n",
    "* **Validation set** - the model gets tuned oh this data, which is typically 10-15% of the data available.\n",
    "* **Test set** - the model gets evaluated on this data to test what is has learned, this set is typically 10-15% of the total data available."
   ],
   "metadata": {
    "collapsed": false,
    "id": "811bf5a27ae79738"
   },
   "id": "811bf5a27ae79738"
  },
  {
   "cell_type": "code",
   "source": [
    "# Check the length of how many samples we have\n",
    "len(X)"
   ],
   "metadata": {
    "colab": {
     "base_uri": "https://localhost:8080/"
    },
    "id": "65fe1205cafb59",
    "executionInfo": {
     "status": "ok",
     "timestamp": 1696076707678,
     "user_tz": -420,
     "elapsed": 20,
     "user": {
      "displayName": "kang sigit",
      "userId": "15887135570512197739"
     }
    },
    "outputId": "73236141-f7f9-4151-9726-e43586bc76ec",
    "ExecuteTime": {
     "end_time": "2025-01-28T11:03:17.416476Z",
     "start_time": "2025-01-28T11:03:17.403456Z"
    }
   },
   "id": "65fe1205cafb59",
   "outputs": [
    {
     "data": {
      "text/plain": [
       "50"
      ]
     },
     "execution_count": 28,
     "metadata": {},
     "output_type": "execute_result"
    }
   ],
   "execution_count": 28
  },
  {
   "cell_type": "code",
   "source": [
    "# Split the data into train and test sets\n",
    "X_train = X[:40] # first 40 are training samples (80% of the data)\n",
    "y_train = y[:40]\n",
    "X_test = X[40:] # last 10 are testing samples (20% of the data)\n",
    "y_test = y[40:]\n",
    "\n",
    "len(X_train), len(X_test), len(y_train), len(y_test)"
   ],
   "metadata": {
    "colab": {
     "base_uri": "https://localhost:8080/"
    },
    "id": "6d4cae941d61ab0d",
    "executionInfo": {
     "status": "ok",
     "timestamp": 1696076707678,
     "user_tz": -420,
     "elapsed": 19,
     "user": {
      "displayName": "kang sigit",
      "userId": "15887135570512197739"
     }
    },
    "outputId": "222f4a3f-fa48-4167-dd93-388106b231f7",
    "ExecuteTime": {
     "end_time": "2025-01-28T11:03:19.209062Z",
     "start_time": "2025-01-28T11:03:19.185781Z"
    }
   },
   "id": "6d4cae941d61ab0d",
   "outputs": [
    {
     "data": {
      "text/plain": [
       "(40, 10, 40, 10)"
      ]
     },
     "execution_count": 29,
     "metadata": {},
     "output_type": "execute_result"
    }
   ],
   "execution_count": 29
  },
  {
   "cell_type": "markdown",
   "source": [
    "### Visualing the data\n",
    "\n",
    "Now we've got our data in training and test sets... let's visualize it again!"
   ],
   "metadata": {
    "collapsed": false,
    "id": "83c7526489cf18e8"
   },
   "id": "83c7526489cf18e8"
  },
  {
   "cell_type": "code",
   "source": [
    "plt.figure(figsize=(10, 7))\n",
    "# Plot training data in blue\n",
    "plt.scatter(X_train, y_train, c=\"b\", label=\"Training data\")\n",
    "# Plot test data in green\n",
    "plt.scatter(X_test, y_test, c=\"g\", label=\"Testing data\")\n",
    "# Show a legend\n",
    "plt.legend();"
   ],
   "metadata": {
    "colab": {
     "base_uri": "https://localhost:8080/",
     "height": 599
    },
    "id": "ab7249faa73bbe9",
    "executionInfo": {
     "status": "ok",
     "timestamp": 1696076708327,
     "user_tz": -420,
     "elapsed": 666,
     "user": {
      "displayName": "kang sigit",
      "userId": "15887135570512197739"
     }
    },
    "outputId": "6e495691-ff17-4a7f-c1b2-2579095d6b81",
    "ExecuteTime": {
     "end_time": "2025-01-28T11:03:22.593772Z",
     "start_time": "2025-01-28T11:03:22.450974Z"
    }
   },
   "id": "ab7249faa73bbe9",
   "outputs": [
    {
     "data": {
      "text/plain": [
       "<Figure size 1000x700 with 1 Axes>"
      ],
      "image/png": "[encoded data removed]"
     },
     "metadata": {},
     "output_type": "display_data"
    }
   ],
   "execution_count": 30
  },
  {
   "cell_type": "code",
   "source": [
    "# Let's have a look at how to build a neural network for our data\n",
    "\n",
    "# 1. Create a model\n",
    "model = tf.keras.Sequential([\n",
    "    tf.keras.layers.Dense(1)\n",
    "])\n",
    "\n",
    "# 2. Compile the model\n",
    "model.compile(loss=tf.keras.losses.mae,\n",
    "              optimizer=tf.keras.optimizers.SGD(),\n",
    "              metrics=[\"mae\"])\n",
    "\n",
    "# 3. Fit the model\n",
    "# model.fit(tf.expand_dims(X_train, axis=-1), y_train, epochs=100)"
   ],
   "metadata": {
    "id": "d8ffee7c2a8e42f7",
    "executionInfo": {
     "status": "ok",
     "timestamp": 1696076708328,
     "user_tz": -420,
     "elapsed": 10,
     "user": {
      "displayName": "kang sigit",
      "userId": "15887135570512197739"
     }
    },
    "ExecuteTime": {
     "end_time": "2025-01-28T11:03:26.355094Z",
     "start_time": "2025-01-28T11:03:26.339088Z"
    }
   },
   "id": "d8ffee7c2a8e42f7",
   "outputs": [],
   "execution_count": 31
  },
  {
   "cell_type": "markdown",
   "source": [
    "### Visualizing the model"
   ],
   "metadata": {
    "collapsed": false,
    "id": "898b10b4eeedd11e"
   },
   "id": "898b10b4eeedd11e"
  },
  {
   "cell_type": "code",
   "source": [
    "model.summary()"
   ],
   "metadata": {
    "colab": {
     "base_uri": "https://localhost:8080/",
     "height": 346
    },
    "id": "5c62d9de9c0b5118",
    "executionInfo": {
     "status": "error",
     "timestamp": 1696076708328,
     "user_tz": -420,
     "elapsed": 9,
     "user": {
      "displayName": "kang sigit",
      "userId": "15887135570512197739"
     }
    },
    "outputId": "d80a5003-4477-4613-82d5-9ebc9a96dd43",
    "ExecuteTime": {
     "end_time": "2025-01-28T11:03:29.380868Z",
     "start_time": "2025-01-28T11:03:28.951422Z"
    }
   },
   "id": "5c62d9de9c0b5118",
   "outputs": [
    {
     "ename": "ValueError",
     "evalue": "This model has not yet been built. Build the model first by calling `build()` or by calling the model on a batch of data.",
     "output_type": "error",
     "traceback": [
      "\u001B[1;31m---------------------------------------------------------------------------\u001B[0m",
      "\u001B[1;31mValueError\u001B[0m                                Traceback (most recent call last)",
      "Cell \u001B[1;32mIn[32], line 1\u001B[0m\n\u001B[1;32m----> 1\u001B[0m \u001B[43mmodel\u001B[49m\u001B[38;5;241;43m.\u001B[39;49m\u001B[43msummary\u001B[49m\u001B[43m(\u001B[49m\u001B[43m)\u001B[49m\n",
      "File \u001B[1;32m~\\anaconda3\\envs\\tensorflow-zero-to-master\\lib\\site-packages\\keras\\engine\\training.py:3214\u001B[0m, in \u001B[0;36mModel.summary\u001B[1;34m(self, line_length, positions, print_fn, expand_nested, show_trainable, layer_range)\u001B[0m\n\u001B[0;32m   3184\u001B[0m \u001B[38;5;250m\u001B[39m\u001B[38;5;124;03m\"\"\"Prints a string summary of the network.\u001B[39;00m\n\u001B[0;32m   3185\u001B[0m \n\u001B[0;32m   3186\u001B[0m \u001B[38;5;124;03mArgs:\u001B[39;00m\n\u001B[1;32m   (...)\u001B[0m\n\u001B[0;32m   3211\u001B[0m \u001B[38;5;124;03m    ValueError: if `summary()` is called before the model is built.\u001B[39;00m\n\u001B[0;32m   3212\u001B[0m \u001B[38;5;124;03m\"\"\"\u001B[39;00m\n\u001B[0;32m   3213\u001B[0m \u001B[38;5;28;01mif\u001B[39;00m \u001B[38;5;129;01mnot\u001B[39;00m \u001B[38;5;28mself\u001B[39m\u001B[38;5;241m.\u001B[39mbuilt:\n\u001B[1;32m-> 3214\u001B[0m     \u001B[38;5;28;01mraise\u001B[39;00m \u001B[38;5;167;01mValueError\u001B[39;00m(\n\u001B[0;32m   3215\u001B[0m         \u001B[38;5;124m\"\u001B[39m\u001B[38;5;124mThis model has not yet been built. \u001B[39m\u001B[38;5;124m\"\u001B[39m\n\u001B[0;32m   3216\u001B[0m         \u001B[38;5;124m\"\u001B[39m\u001B[38;5;124mBuild the model first by calling `build()` or by calling \u001B[39m\u001B[38;5;124m\"\u001B[39m\n\u001B[0;32m   3217\u001B[0m         \u001B[38;5;124m\"\u001B[39m\u001B[38;5;124mthe model on a batch of data.\u001B[39m\u001B[38;5;124m\"\u001B[39m\n\u001B[0;32m   3218\u001B[0m     )\n\u001B[0;32m   3219\u001B[0m layer_utils\u001B[38;5;241m.\u001B[39mprint_summary(\n\u001B[0;32m   3220\u001B[0m     \u001B[38;5;28mself\u001B[39m,\n\u001B[0;32m   3221\u001B[0m     line_length\u001B[38;5;241m=\u001B[39mline_length,\n\u001B[1;32m   (...)\u001B[0m\n\u001B[0;32m   3226\u001B[0m     layer_range\u001B[38;5;241m=\u001B[39mlayer_range,\n\u001B[0;32m   3227\u001B[0m )\n",
      "\u001B[1;31mValueError\u001B[0m: This model has not yet been built. Build the model first by calling `build()` or by calling the model on a batch of data."
     ]
    }
   ],
   "execution_count": 32
  },
  {
   "cell_type": "code",
   "source": [
    "X[0], y[0]"
   ],
   "metadata": {
    "colab": {
     "base_uri": "https://localhost:8080/"
    },
    "id": "46ca08d5fb0a5d65",
    "executionInfo": {
     "status": "ok",
     "timestamp": 1696076717633,
     "user_tz": -420,
     "elapsed": 10,
     "user": {
      "displayName": "kang sigit",
      "userId": "15887135570512197739"
     }
    },
    "outputId": "7153ad61-fb91-4517-d967-04743d87b16f",
    "ExecuteTime": {
     "end_time": "2025-01-28T11:03:31.597221Z",
     "start_time": "2025-01-28T11:03:31.571467Z"
    }
   },
   "id": "46ca08d5fb0a5d65",
   "outputs": [
    {
     "data": {
      "text/plain": [
       "(<tf.Tensor: shape=(), dtype=int32, numpy=-100>,\n",
       " <tf.Tensor: shape=(), dtype=int32, numpy=-90>)"
      ]
     },
     "execution_count": 33,
     "metadata": {},
     "output_type": "execute_result"
    }
   ],
   "execution_count": 33
  },
  {
   "cell_type": "code",
   "source": [
    "# Let's create a model which builds automatically by defining the input_shape argument in the first layer\n",
    "tf.random.set_seed(42)\n",
    "\n",
    "# 1. Create a model (same as above)\n",
    "model = tf.keras.Sequential([\n",
    "    tf.keras.layers.Dense(10, input_shape=[1], name=\"input_layer\"),\n",
    "    tf.keras.layers.Dense(1, name=\"output_layer\")\n",
    "], name=\"model_1\")\n",
    "\n",
    "# 2. Compile the model (same as above)\n",
    "model.compile(loss=tf.keras.losses.mae,\n",
    "              optimizer=tf.keras.optimizers.SGD(),\n",
    "              metrics=[\"mae\"])"
   ],
   "metadata": {
    "id": "42cd0d927d2d8699",
    "executionInfo": {
     "status": "ok",
     "timestamp": 1696076720211,
     "user_tz": -420,
     "elapsed": 10,
     "user": {
      "displayName": "kang sigit",
      "userId": "15887135570512197739"
     }
    },
    "ExecuteTime": {
     "end_time": "2025-01-28T11:03:34.249150Z",
     "start_time": "2025-01-28T11:03:34.141851Z"
    }
   },
   "id": "42cd0d927d2d8699",
   "outputs": [],
   "execution_count": 34
  },
  {
   "cell_type": "code",
   "source": [
    "model.summary()"
   ],
   "metadata": {
    "colab": {
     "base_uri": "https://localhost:8080/"
    },
    "id": "12813b7ae6d41c34",
    "executionInfo": {
     "status": "ok",
     "timestamp": 1696076725813,
     "user_tz": -420,
     "elapsed": 612,
     "user": {
      "displayName": "kang sigit",
      "userId": "15887135570512197739"
     }
    },
    "outputId": "f12abca0-cc47-466d-fcd4-d44e2144977c",
    "ExecuteTime": {
     "end_time": "2025-01-28T11:03:37.440776Z",
     "start_time": "2025-01-28T11:03:37.407450Z"
    }
   },
   "id": "12813b7ae6d41c34",
   "outputs": [
    {
     "name": "stdout",
     "output_type": "stream",
     "text": [
      "Model: \"model_1\"\n",
      "_________________________________________________________________\n",
      " Layer (type)                Output Shape              Param #   \n",
      "=================================================================\n",
      " input_layer (Dense)         (None, 10)                20        \n",
      "                                                                 \n",
      " output_layer (Dense)        (None, 1)                 11        \n",
      "                                                                 \n",
      "=================================================================\n",
      "Total params: 31\n",
      "Trainable params: 31\n",
      "Non-trainable params: 0\n",
      "_________________________________________________________________\n"
     ]
    }
   ],
   "execution_count": 35
  },
  {
   "cell_type": "markdown",
   "source": [
    "* Total params - total number of parameters in the model.\n",
    "* Trainable parameters - these are the parameters (patterns) the model can update as it trains.\n",
    "* Non-trainable params - these parameters aren't updated during training (this is typical when you bring in already learn patterns or parameters from other models during **transfer learning**)\n",
    "\n",
    "**Resource:** For a more in-depth overview of the trainable parameters within a layer, check out [MIT's introduction to deep learning video](https://www.youtube.com/watch?v=QDX-1M5Nj7s&list=PLtBw6njQRU-rwp5__7C0oIVt26ZgjG9NI&index=2).\n",
    "\n",
    "**Exercise:** Try playing around with the number of hidden units in the dense layer, see how that effects the number of parameters (total and trainable) by calling `model.summary`."
   ],
   "metadata": {
    "collapsed": false,
    "id": "fe2ddf6925ef3e1b"
   },
   "id": "fe2ddf6925ef3e1b"
  },
  {
   "cell_type": "code",
   "source": [
    "# Let's fit our model to the training data\n",
    "model.fit(X_train, y_train, epochs=100, verbose=0)"
   ],
   "metadata": {
    "colab": {
     "base_uri": "https://localhost:8080/"
    },
    "id": "6cae2a5b5d81a33c",
    "executionInfo": {
     "status": "ok",
     "timestamp": 1696076731840,
     "user_tz": -420,
     "elapsed": 2129,
     "user": {
      "displayName": "kang sigit",
      "userId": "15887135570512197739"
     }
    },
    "outputId": "55f2e786-ca32-495c-c4b9-e0d598ca92a0",
    "ExecuteTime": {
     "end_time": "2025-01-28T11:03:43.200792Z",
     "start_time": "2025-01-28T11:03:41.480912Z"
    }
   },
   "id": "6cae2a5b5d81a33c",
   "outputs": [
    {
     "data": {
      "text/plain": [
       "<keras.callbacks.History at 0x229623b2850>"
      ]
     },
     "execution_count": 36,
     "metadata": {},
     "output_type": "execute_result"
    }
   ],
   "execution_count": 36
  },
  {
   "cell_type": "code",
   "source": [
    "# Get a summary of our model\n",
    "model.summary()"
   ],
   "metadata": {
    "colab": {
     "base_uri": "https://localhost:8080/"
    },
    "id": "ef79d837a807dbff",
    "executionInfo": {
     "status": "ok",
     "timestamp": 1696076734841,
     "user_tz": -420,
     "elapsed": 14,
     "user": {
      "displayName": "kang sigit",
      "userId": "15887135570512197739"
     }
    },
    "outputId": "b874b077-66d4-48c3-d617-ab8bd9ea2360",
    "ExecuteTime": {
     "end_time": "2025-01-28T11:03:49.278278Z",
     "start_time": "2025-01-28T11:03:49.258160Z"
    }
   },
   "id": "ef79d837a807dbff",
   "outputs": [
    {
     "name": "stdout",
     "output_type": "stream",
     "text": [
      "Model: \"model_1\"\n",
      "_________________________________________________________________\n",
      " Layer (type)                Output Shape              Param #   \n",
      "=================================================================\n",
      " input_layer (Dense)         (None, 10)                20        \n",
      "                                                                 \n",
      " output_layer (Dense)        (None, 1)                 11        \n",
      "                                                                 \n",
      "=================================================================\n",
      "Total params: 31\n",
      "Trainable params: 31\n",
      "Non-trainable params: 0\n",
      "_________________________________________________________________\n"
     ]
    }
   ],
   "execution_count": 37
  },
  {
   "cell_type": "code",
   "source": [
    "# from tensorflow.keras.utils import plot_model\n",
    "# plot_model(model)\n",
    "tf.keras.utils.plot_model(model=model, show_shapes=True)"
   ],
   "metadata": {
    "colab": {
     "base_uri": "https://localhost:8080/",
     "height": 312
    },
    "id": "9f76823a012a16fc",
    "executionInfo": {
     "status": "ok",
     "timestamp": 1696076739831,
     "user_tz": -420,
     "elapsed": 5,
     "user": {
      "displayName": "kang sigit",
      "userId": "15887135570512197739"
     }
    },
    "outputId": "38ae9add-0cbe-45dd-9626-7c468c85b694",
    "ExecuteTime": {
     "end_time": "2025-01-28T11:04:00.503662Z",
     "start_time": "2025-01-28T11:03:52.501009Z"
    }
   },
   "id": "9f76823a012a16fc",
   "outputs": [
    {
     "data": {
      "image/png": "[encoded data removed]",
      "text/plain": [
       "<IPython.core.display.Image object>"
      ]
     },
     "execution_count": 38,
     "metadata": {},
     "output_type": "execute_result"
    }
   ],
   "execution_count": 38
  },
  {
   "cell_type": "markdown",
   "source": [
    "### Visualizing our model's predictions\n",
    "\n",
    "To visualize predictions, it's a good idea to plot them against the ground truth labels.\n",
    "\n",
    "Often you'll see this in the form of `y_test` or `y_true` versus `y_pred` (ground truth versus your model's predictions)"
   ],
   "metadata": {
    "collapsed": false,
    "id": "f5244483f581fae1"
   },
   "id": "f5244483f581fae1"
  },
  {
   "cell_type": "code",
   "source": [
    "y_pred = model.predict(X_test)\n",
    "y_pred"
   ],
   "metadata": {
    "colab": {
     "base_uri": "https://localhost:8080/"
    },
    "id": "293c2620b65dc170",
    "executionInfo": {
     "status": "ok",
     "timestamp": 1696076744822,
     "user_tz": -420,
     "elapsed": 10,
     "user": {
      "displayName": "kang sigit",
      "userId": "15887135570512197739"
     }
    },
    "outputId": "4ee87d96-0c2e-4169-b0dd-4c1440d57eb3",
    "ExecuteTime": {
     "end_time": "2025-01-28T11:04:09.849524Z",
     "start_time": "2025-01-28T11:04:09.776765Z"
    }
   },
   "id": "293c2620b65dc170",
   "outputs": [
    {
     "name": "stdout",
     "output_type": "stream",
     "text": [
      "1/1 [==============================] - 0s 33ms/step\n"
     ]
    },
    {
     "data": {
      "text/plain": [
       "array([[ 70.51809 ],\n",
       "       [ 75.10498 ],\n",
       "       [ 79.691895],\n",
       "       [ 84.2788  ],\n",
       "       [ 88.8657  ],\n",
       "       [ 93.45261 ],\n",
       "       [ 98.039505],\n",
       "       [102.62642 ],\n",
       "       [107.213326],\n",
       "       [111.80022 ]], dtype=float32)"
      ]
     },
     "execution_count": 39,
     "metadata": {},
     "output_type": "execute_result"
    }
   ],
   "execution_count": 39
  },
  {
   "cell_type": "code",
   "source": [
    "y_test"
   ],
   "metadata": {
    "colab": {
     "base_uri": "https://localhost:8080/"
    },
    "id": "6c948e1753458992",
    "executionInfo": {
     "status": "ok",
     "timestamp": 1696076748866,
     "user_tz": -420,
     "elapsed": 623,
     "user": {
      "displayName": "kang sigit",
      "userId": "15887135570512197739"
     }
    },
    "outputId": "426fda75-0bdc-4f22-828b-160c21f17527",
    "ExecuteTime": {
     "end_time": "2025-01-28T11:04:13.418Z",
     "start_time": "2025-01-28T11:04:13.405552Z"
    }
   },
   "id": "6c948e1753458992",
   "outputs": [
    {
     "data": {
      "text/plain": [
       "<tf.Tensor: shape=(10,), dtype=int32, numpy=array([ 70,  74,  78,  82,  86,  90,  94,  98, 102, 106])>"
      ]
     },
     "execution_count": 40,
     "metadata": {},
     "output_type": "execute_result"
    }
   ],
   "execution_count": 40
  },
  {
   "cell_type": "markdown",
   "source": [
    "🔑 **Note:** If you feel like you're going to reuse some kind of functionality in the future, it's a good idea to turn it into function."
   ],
   "metadata": {
    "collapsed": false,
    "id": "39dcf705504e7045"
   },
   "id": "39dcf705504e7045"
  },
  {
   "cell_type": "code",
   "source": [
    "# Let's create a plotting function\n",
    "def plot_predictions(train_data=X_train,\n",
    "                     train_labels=y_train,\n",
    "                     test_data=X_test,\n",
    "                     test_labels=y_test,\n",
    "                     predictions=y_pred):\n",
    "    \"\"\"\n",
    "    Plots training data, test data and compares predictions to ground truth labels.\n",
    "    \"\"\"\n",
    "\n",
    "    plt.figure(figsize=(10, 7))\n",
    "    # Plot training data in blue\n",
    "    plt.scatter(train_data, train_labels, c=\"b\", label=\"Training data\")\n",
    "    # Plot testing data in green\n",
    "    plt.scatter(test_data, test_labels, c=\"g\", label=\"Testing data\")\n",
    "    # Plot model's predictions in red\n",
    "    plt.scatter(test_data, predictions, c=\"r\", label=\"Predictions\")\n",
    "    # Show the legend\n",
    "    plt.legend();"
   ],
   "metadata": {
    "id": "71cba8a1be7b2c81",
    "executionInfo": {
     "status": "ok",
     "timestamp": 1696076751527,
     "user_tz": -420,
     "elapsed": 6,
     "user": {
      "displayName": "kang sigit",
      "userId": "15887135570512197739"
     }
    },
    "ExecuteTime": {
     "end_time": "2025-01-28T11:04:16.158107Z",
     "start_time": "2025-01-28T11:04:16.143599Z"
    }
   },
   "id": "71cba8a1be7b2c81",
   "outputs": [],
   "execution_count": 41
  },
  {
   "cell_type": "code",
   "source": [
    "plot_predictions(train_data=X_train,\n",
    "                 train_labels=y_train,\n",
    "                 test_data=X_test,\n",
    "                 test_labels=y_test,\n",
    "                 predictions=y_pred)"
   ],
   "metadata": {
    "colab": {
     "base_uri": "https://localhost:8080/",
     "height": 599
    },
    "id": "2a6d51a53151bf01",
    "executionInfo": {
     "status": "ok",
     "timestamp": 1696076756188,
     "user_tz": -420,
     "elapsed": 676,
     "user": {
      "displayName": "kang sigit",
      "userId": "15887135570512197739"
     }
    },
    "outputId": "5622b327-d23a-443a-98eb-37621a728b65",
    "ExecuteTime": {
     "end_time": "2025-01-28T11:04:20.539209Z",
     "start_time": "2025-01-28T11:04:20.180420Z"
    }
   },
   "id": "2a6d51a53151bf01",
   "outputs": [
    {
     "data": {
      "text/plain": [
       "<Figure size 1000x700 with 1 Axes>"
      ],
      "image/png": "[encoded data removed]"
     },
     "metadata": {},
     "output_type": "display_data"
    }
   ],
   "execution_count": 42
  },
  {
   "cell_type": "markdown",
   "source": [
    "### Evaluating our model's predictions with regression evaluation metrics\n",
    "\n",
    "Depending on the problem you're working on, there will be different evaluation metrics to evaluate your model's performance.\n",
    "\n",
    "Since we're working on a regresion, two of the main metrics:\n",
    "* MAE - mean absolute error, \"on average, how wrong is each of my model's predictions\"\n",
    "* MSE - mean square error, \"square the average errors\""
   ],
   "metadata": {
    "collapsed": false,
    "id": "9ebf4e56a0b6b139"
   },
   "id": "9ebf4e56a0b6b139"
  },
  {
   "cell_type": "code",
   "source": [
    "# Evaluate the model on the test\n",
    "model.evaluate(X_test, y_test)"
   ],
   "metadata": {
    "colab": {
     "base_uri": "https://localhost:8080/"
    },
    "id": "36177621aade1e45",
    "executionInfo": {
     "status": "ok",
     "timestamp": 1696076760260,
     "user_tz": -420,
     "elapsed": 3,
     "user": {
      "displayName": "kang sigit",
      "userId": "15887135570512197739"
     }
    },
    "outputId": "8fde979d-d6d8-4b3c-cc52-788e23f56633",
    "ExecuteTime": {
     "end_time": "2025-01-28T11:06:54.091436Z",
     "start_time": "2025-01-28T11:06:53.970909Z"
    }
   },
   "id": "36177621aade1e45",
   "outputs": [
    {
     "name": "stdout",
     "output_type": "stream",
     "text": [
      "1/1 [==============================] - 0s 74ms/step - loss: 3.1592 - mae: 3.1592\n"
     ]
    },
    {
     "data": {
      "text/plain": [
       "[3.159153699874878, 3.159153699874878]"
      ]
     },
     "execution_count": 43,
     "metadata": {},
     "output_type": "execute_result"
    }
   ],
   "execution_count": 43
  },
  {
   "cell_type": "code",
   "source": [
    "# Calculate the mean absolute error (wrong output)\n",
    "mae = tf.metrics.mean_absolute_error(y_true=y_test, y_pred=y_pred)\n",
    "mae"
   ],
   "metadata": {
    "colab": {
     "base_uri": "https://localhost:8080/"
    },
    "id": "575b0fa5aebbd5fd",
    "executionInfo": {
     "status": "ok",
     "timestamp": 1696076763811,
     "user_tz": -420,
     "elapsed": 715,
     "user": {
      "displayName": "kang sigit",
      "userId": "15887135570512197739"
     }
    },
    "outputId": "27b75cf0-09ff-4843-c70c-8761bba46195",
    "ExecuteTime": {
     "end_time": "2025-01-28T11:06:58.142874Z",
     "start_time": "2025-01-28T11:06:58.091331Z"
    }
   },
   "id": "575b0fa5aebbd5fd",
   "outputs": [
    {
     "data": {
      "text/plain": [
       "<tf.Tensor: shape=(10,), dtype=float32, numpy=\n",
       "array([17.58553 , 14.137012, 11.723243, 10.34424 , 10.      , 10.690521,\n",
       "       12.423703, 15.301135, 19.213326, 23.800217], dtype=float32)>"
      ]
     },
     "execution_count": 44,
     "metadata": {},
     "output_type": "execute_result"
    }
   ],
   "execution_count": 44
  },
  {
   "cell_type": "code",
   "source": [
    "y_pred"
   ],
   "metadata": {
    "colab": {
     "base_uri": "https://localhost:8080/"
    },
    "id": "aedf7261aa2cc7ac",
    "executionInfo": {
     "status": "ok",
     "timestamp": 1696076770397,
     "user_tz": -420,
     "elapsed": 550,
     "user": {
      "displayName": "kang sigit",
      "userId": "15887135570512197739"
     }
    },
    "outputId": "780baeaa-5d3c-4eff-94cf-7e86833d9d55",
    "ExecuteTime": {
     "end_time": "2025-01-28T11:06:59.981636Z",
     "start_time": "2025-01-28T11:06:59.970590Z"
    }
   },
   "id": "aedf7261aa2cc7ac",
   "outputs": [
    {
     "data": {
      "text/plain": [
       "array([[ 70.51809 ],\n",
       "       [ 75.10498 ],\n",
       "       [ 79.691895],\n",
       "       [ 84.2788  ],\n",
       "       [ 88.8657  ],\n",
       "       [ 93.45261 ],\n",
       "       [ 98.039505],\n",
       "       [102.62642 ],\n",
       "       [107.213326],\n",
       "       [111.80022 ]], dtype=float32)"
      ]
     },
     "execution_count": 45,
     "metadata": {},
     "output_type": "execute_result"
    }
   ],
   "execution_count": 45
  },
  {
   "cell_type": "code",
   "source": [
    "tf.constant(y_pred)"
   ],
   "metadata": {
    "colab": {
     "base_uri": "https://localhost:8080/"
    },
    "id": "efcfefa487523699",
    "executionInfo": {
     "status": "ok",
     "timestamp": 1696076773607,
     "user_tz": -420,
     "elapsed": 546,
     "user": {
      "displayName": "kang sigit",
      "userId": "15887135570512197739"
     }
    },
    "outputId": "208db3b7-e815-45df-983c-245825caa58f",
    "ExecuteTime": {
     "end_time": "2025-01-28T11:07:02.454949Z",
     "start_time": "2025-01-28T11:07:02.441947Z"
    }
   },
   "id": "efcfefa487523699",
   "outputs": [
    {
     "data": {
      "text/plain": [
       "<tf.Tensor: shape=(10, 1), dtype=float32, numpy=\n",
       "array([[ 70.51809 ],\n",
       "       [ 75.10498 ],\n",
       "       [ 79.691895],\n",
       "       [ 84.2788  ],\n",
       "       [ 88.8657  ],\n",
       "       [ 93.45261 ],\n",
       "       [ 98.039505],\n",
       "       [102.62642 ],\n",
       "       [107.213326],\n",
       "       [111.80022 ]], dtype=float32)>"
      ]
     },
     "execution_count": 46,
     "metadata": {},
     "output_type": "execute_result"
    }
   ],
   "execution_count": 46
  },
  {
   "cell_type": "code",
   "source": [
    "tf.squeeze(y_pred)"
   ],
   "metadata": {
    "colab": {
     "base_uri": "https://localhost:8080/"
    },
    "id": "f5f88f1ace7aeab8",
    "executionInfo": {
     "status": "ok",
     "timestamp": 1696076776274,
     "user_tz": -420,
     "elapsed": 11,
     "user": {
      "displayName": "kang sigit",
      "userId": "15887135570512197739"
     }
    },
    "outputId": "36ecd7c8-310f-4361-8a69-a11728deae72",
    "ExecuteTime": {
     "end_time": "2025-01-28T11:07:05.097161Z",
     "start_time": "2025-01-28T11:07:05.084347Z"
    }
   },
   "id": "f5f88f1ace7aeab8",
   "outputs": [
    {
     "data": {
      "text/plain": [
       "<tf.Tensor: shape=(10,), dtype=float32, numpy=\n",
       "array([ 70.51809 ,  75.10498 ,  79.691895,  84.2788  ,  88.8657  ,\n",
       "        93.45261 ,  98.039505, 102.62642 , 107.213326, 111.80022 ],\n",
       "      dtype=float32)>"
      ]
     },
     "execution_count": 47,
     "metadata": {},
     "output_type": "execute_result"
    }
   ],
   "execution_count": 47
  },
  {
   "cell_type": "code",
   "source": [
    "y_test"
   ],
   "metadata": {
    "colab": {
     "base_uri": "https://localhost:8080/"
    },
    "id": "5dad140f654bcf85",
    "executionInfo": {
     "status": "ok",
     "timestamp": 1696076779803,
     "user_tz": -420,
     "elapsed": 9,
     "user": {
      "displayName": "kang sigit",
      "userId": "15887135570512197739"
     }
    },
    "outputId": "eaa141da-b33a-4245-860d-9bf94dc1184b",
    "ExecuteTime": {
     "end_time": "2025-01-28T11:07:06.995007Z",
     "start_time": "2025-01-28T11:07:06.975988Z"
    }
   },
   "id": "5dad140f654bcf85",
   "outputs": [
    {
     "data": {
      "text/plain": [
       "<tf.Tensor: shape=(10,), dtype=int32, numpy=array([ 70,  74,  78,  82,  86,  90,  94,  98, 102, 106])>"
      ]
     },
     "execution_count": 48,
     "metadata": {},
     "output_type": "execute_result"
    }
   ],
   "execution_count": 48
  },
  {
   "cell_type": "code",
   "source": [
    "# Calculate the mean absolute error\n",
    "mae = tf.metrics.mean_absolute_error(y_true=y_test, y_pred=tf.squeeze(y_pred))\n",
    "mae"
   ],
   "metadata": {
    "colab": {
     "base_uri": "https://localhost:8080/"
    },
    "id": "cd2acac44e2bdbab",
    "executionInfo": {
     "status": "ok",
     "timestamp": 1696076782346,
     "user_tz": -420,
     "elapsed": 7,
     "user": {
      "displayName": "kang sigit",
      "userId": "15887135570512197739"
     }
    },
    "outputId": "080b3669-5b49-49d7-d8b0-369f59c86ff5",
    "ExecuteTime": {
     "end_time": "2025-01-28T11:07:08.694942Z",
     "start_time": "2025-01-28T11:07:08.668950Z"
    }
   },
   "id": "cd2acac44e2bdbab",
   "outputs": [
    {
     "data": {
      "text/plain": [
       "<tf.Tensor: shape=(), dtype=float32, numpy=3.1591537>"
      ]
     },
     "execution_count": 49,
     "metadata": {},
     "output_type": "execute_result"
    }
   ],
   "execution_count": 49
  },
  {
   "cell_type": "code",
   "source": [
    "# Calculate the mean square error\n",
    "mse = tf.metrics.mean_squared_error(y_true=y_test,\n",
    "                                    y_pred=tf.squeeze(y_pred))\n",
    "mse"
   ],
   "metadata": {
    "colab": {
     "base_uri": "https://localhost:8080/"
    },
    "id": "fe4b0fd576d35da1",
    "executionInfo": {
     "status": "ok",
     "timestamp": 1696076787598,
     "user_tz": -420,
     "elapsed": 700,
     "user": {
      "displayName": "kang sigit",
      "userId": "15887135570512197739"
     }
    },
    "outputId": "cc58b7f4-9bc0-49f0-e7f7-1d2fa4171ae7",
    "ExecuteTime": {
     "end_time": "2025-01-28T11:07:10.686192Z",
     "start_time": "2025-01-28T11:07:10.659174Z"
    }
   },
   "id": "fe4b0fd576d35da1",
   "outputs": [
    {
     "data": {
      "text/plain": [
       "<tf.Tensor: shape=(), dtype=float32, numpy=12.822021>"
      ]
     },
     "execution_count": 50,
     "metadata": {},
     "output_type": "execute_result"
    }
   ],
   "execution_count": 50
  },
  {
   "cell_type": "code",
   "source": [
    "# Make some functions to reuse MAE and MSE\n",
    "def mae(y_true, y_pred):\n",
    "    return tf.metrics.mean_absolute_error(y_true=y_true,\n",
    "                                          y_pred=tf.squeeze(y_pred))\n",
    "\n",
    "def mse(y_true, y_pred):\n",
    "    return tf.metrics.mean_squared_error(y_true=y_true,\n",
    "                                         y_pred=tf.squeeze(y_pred))"
   ],
   "metadata": {
    "id": "c6fceadbc41c29ae",
    "executionInfo": {
     "status": "ok",
     "timestamp": 1696076790743,
     "user_tz": -420,
     "elapsed": 675,
     "user": {
      "displayName": "kang sigit",
      "userId": "15887135570512197739"
     }
    },
    "ExecuteTime": {
     "end_time": "2025-01-28T11:07:13.558401Z",
     "start_time": "2025-01-28T11:07:13.549067Z"
    }
   },
   "id": "c6fceadbc41c29ae",
   "outputs": [],
   "execution_count": 51
  },
  {
   "cell_type": "markdown",
   "source": [
    "### Running experiments to improve our model\n",
    "\n",
    "```\n",
    "Build a model -> fit it -> evaluate it -> tweak it -> fit it -> evaluate it -> tweak it -> fit it -> evaluate it ...\n",
    "```\n",
    "\n",
    "1. Get more data - get more examples for your model to train on (more opportunities to learn patterns or relationships between features and labels).\n",
    "2. Make your model larger (using a more complex model) - this might come in the form of more layers or more hidden units in each layer.\n",
    "3. Train for longger - give your model more of a chance to find patterns in the data.\n",
    "\n",
    "Let's do 3 modelling experiments:\n",
    "\n",
    "1. `model_1` - same as original model, 1 layer, trained for 100 epochs.\n",
    "2. `model_2` - 2 layers, trained for 100 epochs.\n",
    "3. `model_3` - 2 layers, trained for 500 epochs.\n",
    "\n",
    "**Build `model_1`**"
   ],
   "metadata": {
    "collapsed": false,
    "id": "b61006e52b76be84"
   },
   "id": "b61006e52b76be84"
  },
  {
   "cell_type": "code",
   "source": [
    "# Set random seed\n",
    "tf.random.set_seed(42)\n",
    "\n",
    "# 1. Create the model\n",
    "model_1 = tf.keras.Sequential([\n",
    "    tf.keras.layers.Dense(1)\n",
    "])\n",
    "\n",
    "# 2. Compile the model\n",
    "model_1.compile(loss=tf.keras.losses.mae,\n",
    "                optimizer=tf.keras.optimizers.SGD(),\n",
    "                metrics=[\"mae\"])\n",
    "\n",
    "# 3. Fit the model\n",
    "model_1.fit(tf.expand_dims(X_train, axis=-1), y_train, epochs=100)"
   ],
   "metadata": {
    "colab": {
     "base_uri": "https://localhost:8080/"
    },
    "id": "722c58063f2b0200",
    "executionInfo": {
     "status": "ok",
     "timestamp": 1696076802171,
     "user_tz": -420,
     "elapsed": 5802,
     "user": {
      "displayName": "kang sigit",
      "userId": "15887135570512197739"
     }
    },
    "outputId": "96af9472-0736-414d-a002-0bf8741f4cd3",
    "ExecuteTime": {
     "end_time": "2025-01-28T11:07:19.860498Z",
     "start_time": "2025-01-28T11:07:17.847252Z"
    }
   },
   "id": "722c58063f2b0200",
   "outputs": [
    {
     "name": "stdout",
     "output_type": "stream",
     "text": [
      "Epoch 1/100\n",
      "2/2 [==============================] - 0s 8ms/step - loss: 26.2213 - mae: 26.2213\n",
      "Epoch 2/100\n",
      "2/2 [==============================] - 0s 9ms/step - loss: 8.5002 - mae: 8.5002\n",
      "Epoch 3/100\n",
      "2/2 [==============================] - 0s 11ms/step - loss: 10.6813 - mae: 10.6813\n",
      "Epoch 4/100\n",
      "2/2 [==============================] - 0s 8ms/step - loss: 13.2657 - mae: 13.2657\n",
      "Epoch 5/100\n",
      "2/2 [==============================] - 0s 7ms/step - loss: 7.7520 - mae: 7.7520\n",
      "Epoch 6/100\n",
      "2/2 [==============================] - 0s 7ms/step - loss: 10.6023 - mae: 10.6023\n",
      "Epoch 7/100\n",
      "2/2 [==============================] - 0s 8ms/step - loss: 9.5564 - mae: 9.5564\n",
      "Epoch 8/100\n",
      "2/2 [==============================] - 0s 9ms/step - loss: 9.0074 - mae: 9.0074\n",
      "Epoch 9/100\n",
      "2/2 [==============================] - 0s 10ms/step - loss: 17.8483 - mae: 17.8483\n",
      "Epoch 10/100\n",
      "2/2 [==============================] - 0s 8ms/step - loss: 9.6073 - mae: 9.6073\n",
      "Epoch 11/100\n",
      "2/2 [==============================] - 0s 19ms/step - loss: 8.1969 - mae: 8.1969\n",
      "Epoch 12/100\n",
      "2/2 [==============================] - 0s 8ms/step - loss: 10.2727 - mae: 10.2727\n",
      "Epoch 13/100\n",
      "2/2 [==============================] - 0s 9ms/step - loss: 12.0273 - mae: 12.0273\n",
      "Epoch 14/100\n",
      "2/2 [==============================] - 0s 9ms/step - loss: 13.9307 - mae: 13.9307\n",
      "Epoch 15/100\n",
      "2/2 [==============================] - 0s 9ms/step - loss: 11.3206 - mae: 11.3206\n",
      "Epoch 16/100\n",
      "2/2 [==============================] - 0s 8ms/step - loss: 8.5555 - mae: 8.5555\n",
      "Epoch 17/100\n",
      "2/2 [==============================] - 0s 7ms/step - loss: 13.6811 - mae: 13.6811\n",
      "Epoch 18/100\n",
      "2/2 [==============================] - 0s 7ms/step - loss: 11.5229 - mae: 11.5229\n",
      "Epoch 19/100\n",
      "2/2 [==============================] - 0s 7ms/step - loss: 17.8264 - mae: 17.8264\n",
      "Epoch 20/100\n",
      "2/2 [==============================] - 0s 6ms/step - loss: 14.9617 - mae: 14.9617\n",
      "Epoch 21/100\n",
      "2/2 [==============================] - 0s 6ms/step - loss: 10.8400 - mae: 10.8400\n",
      "Epoch 22/100\n",
      "2/2 [==============================] - 0s 7ms/step - loss: 8.5908 - mae: 8.5908\n",
      "Epoch 23/100\n",
      "2/2 [==============================] - 0s 7ms/step - loss: 9.6983 - mae: 9.6983\n",
      "Epoch 24/100\n",
      "2/2 [==============================] - 0s 7ms/step - loss: 10.9539 - mae: 10.9539\n",
      "Epoch 25/100\n",
      "2/2 [==============================] - 0s 7ms/step - loss: 9.1531 - mae: 9.1531\n",
      "Epoch 26/100\n",
      "2/2 [==============================] - 0s 8ms/step - loss: 13.1926 - mae: 13.1926\n",
      "Epoch 27/100\n",
      "2/2 [==============================] - 0s 8ms/step - loss: 10.6605 - mae: 10.6605\n",
      "Epoch 28/100\n",
      "2/2 [==============================] - 0s 7ms/step - loss: 12.8837 - mae: 12.8837\n",
      "Epoch 29/100\n",
      "2/2 [==============================] - 0s 8ms/step - loss: 9.5015 - mae: 9.5015\n",
      "Epoch 30/100\n",
      "2/2 [==============================] - 0s 8ms/step - loss: 16.4140 - mae: 16.4140\n",
      "Epoch 31/100\n",
      "2/2 [==============================] - 0s 8ms/step - loss: 23.5691 - mae: 23.5691\n",
      "Epoch 32/100\n",
      "2/2 [==============================] - 0s 9ms/step - loss: 7.5986 - mae: 7.5986\n",
      "Epoch 33/100\n",
      "2/2 [==============================] - 0s 8ms/step - loss: 9.2957 - mae: 9.2957\n",
      "Epoch 34/100\n",
      "2/2 [==============================] - 0s 6ms/step - loss: 13.6687 - mae: 13.6687\n",
      "Epoch 35/100\n",
      "2/2 [==============================] - 0s 6ms/step - loss: 11.1484 - mae: 11.1484\n",
      "Epoch 36/100\n",
      "2/2 [==============================] - 0s 7ms/step - loss: 13.3761 - mae: 13.3761\n",
      "Epoch 37/100\n",
      "2/2 [==============================] - 0s 6ms/step - loss: 9.4413 - mae: 9.4413\n",
      "Epoch 38/100\n",
      "2/2 [==============================] - 0s 8ms/step - loss: 10.0921 - mae: 10.0921\n",
      "Epoch 39/100\n",
      "2/2 [==============================] - 0s 7ms/step - loss: 10.2004 - mae: 10.2004\n",
      "Epoch 40/100\n",
      "2/2 [==============================] - 0s 8ms/step - loss: 10.9475 - mae: 10.9475\n",
      "Epoch 41/100\n",
      "2/2 [==============================] - 0s 8ms/step - loss: 7.9216 - mae: 7.9216\n",
      "Epoch 42/100\n",
      "2/2 [==============================] - 0s 8ms/step - loss: 10.5700 - mae: 10.5700\n",
      "Epoch 43/100\n",
      "2/2 [==============================] - 0s 8ms/step - loss: 7.2002 - mae: 7.2002\n",
      "Epoch 44/100\n",
      "2/2 [==============================] - 0s 8ms/step - loss: 7.9860 - mae: 7.9860\n",
      "Epoch 45/100\n",
      "2/2 [==============================] - 0s 8ms/step - loss: 9.7775 - mae: 9.7775\n",
      "Epoch 46/100\n",
      "2/2 [==============================] - 0s 6ms/step - loss: 8.8535 - mae: 8.8535\n",
      "Epoch 47/100\n",
      "2/2 [==============================] - 0s 6ms/step - loss: 7.5636 - mae: 7.5636\n",
      "Epoch 48/100\n",
      "2/2 [==============================] - 0s 8ms/step - loss: 8.5698 - mae: 8.5698\n",
      "Epoch 49/100\n",
      "2/2 [==============================] - 0s 6ms/step - loss: 9.9819 - mae: 9.9819\n",
      "Epoch 50/100\n",
      "2/2 [==============================] - 0s 6ms/step - loss: 9.0225 - mae: 9.0225\n",
      "Epoch 51/100\n",
      "2/2 [==============================] - 0s 6ms/step - loss: 10.6506 - mae: 10.6506\n",
      "Epoch 52/100\n",
      "2/2 [==============================] - 0s 6ms/step - loss: 15.2943 - mae: 15.2943\n",
      "Epoch 53/100\n",
      "2/2 [==============================] - 0s 6ms/step - loss: 14.3146 - mae: 14.3146\n",
      "Epoch 54/100\n",
      "2/2 [==============================] - 0s 7ms/step - loss: 21.6193 - mae: 21.6193\n",
      "Epoch 55/100\n",
      "2/2 [==============================] - 0s 6ms/step - loss: 15.9761 - mae: 15.9761\n",
      "Epoch 56/100\n",
      "2/2 [==============================] - 0s 6ms/step - loss: 10.2883 - mae: 10.2883\n",
      "Epoch 57/100\n",
      "2/2 [==============================] - 0s 7ms/step - loss: 9.7525 - mae: 9.7525\n",
      "Epoch 58/100\n",
      "2/2 [==============================] - 0s 7ms/step - loss: 9.0386 - mae: 9.0386\n",
      "Epoch 59/100\n",
      "2/2 [==============================] - 0s 6ms/step - loss: 8.2447 - mae: 8.2447\n",
      "Epoch 60/100\n",
      "2/2 [==============================] - 0s 7ms/step - loss: 9.3414 - mae: 9.3414\n",
      "Epoch 61/100\n",
      "2/2 [==============================] - 0s 7ms/step - loss: 11.1467 - mae: 11.1467\n",
      "Epoch 62/100\n",
      "2/2 [==============================] - 0s 6ms/step - loss: 12.0772 - mae: 12.0772\n",
      "Epoch 63/100\n",
      "2/2 [==============================] - 0s 6ms/step - loss: 7.2589 - mae: 7.2589\n",
      "Epoch 64/100\n",
      "2/2 [==============================] - 0s 6ms/step - loss: 12.4165 - mae: 12.4165\n",
      "Epoch 65/100\n",
      "2/2 [==============================] - 0s 6ms/step - loss: 10.4826 - mae: 10.4826\n",
      "Epoch 66/100\n",
      "2/2 [==============================] - 0s 7ms/step - loss: 15.6107 - mae: 15.6107\n",
      "Epoch 67/100\n",
      "2/2 [==============================] - 0s 8ms/step - loss: 10.0084 - mae: 10.0084\n",
      "Epoch 68/100\n",
      "2/2 [==============================] - 0s 7ms/step - loss: 8.9908 - mae: 8.9908\n",
      "Epoch 69/100\n",
      "2/2 [==============================] - 0s 6ms/step - loss: 12.4790 - mae: 12.4790\n",
      "Epoch 70/100\n",
      "2/2 [==============================] - 0s 8ms/step - loss: 8.9717 - mae: 8.9717\n",
      "Epoch 71/100\n",
      "2/2 [==============================] - 0s 9ms/step - loss: 9.9511 - mae: 9.9511\n",
      "Epoch 72/100\n",
      "2/2 [==============================] - 0s 6ms/step - loss: 9.9816 - mae: 9.9816\n",
      "Epoch 73/100\n",
      "2/2 [==============================] - 0s 7ms/step - loss: 12.4835 - mae: 12.4835\n",
      "Epoch 74/100\n",
      "2/2 [==============================] - 0s 7ms/step - loss: 10.4937 - mae: 10.4937\n",
      "Epoch 75/100\n",
      "2/2 [==============================] - 0s 6ms/step - loss: 9.6453 - mae: 9.6453\n",
      "Epoch 76/100\n",
      "2/2 [==============================] - 0s 6ms/step - loss: 11.1226 - mae: 11.1226\n",
      "Epoch 77/100\n",
      "2/2 [==============================] - 0s 8ms/step - loss: 8.2923 - mae: 8.2923\n",
      "Epoch 78/100\n",
      "2/2 [==============================] - 0s 6ms/step - loss: 9.0056 - mae: 9.0056\n",
      "Epoch 79/100\n",
      "2/2 [==============================] - 0s 7ms/step - loss: 19.6799 - mae: 19.6799\n",
      "Epoch 80/100\n",
      "2/2 [==============================] - 0s 7ms/step - loss: 17.8880 - mae: 17.8880\n",
      "Epoch 81/100\n",
      "2/2 [==============================] - 0s 6ms/step - loss: 7.0255 - mae: 7.0255\n",
      "Epoch 82/100\n",
      "2/2 [==============================] - 0s 8ms/step - loss: 10.4287 - mae: 10.4287\n",
      "Epoch 83/100\n",
      "2/2 [==============================] - 0s 5ms/step - loss: 9.8617 - mae: 9.8617\n",
      "Epoch 84/100\n",
      "2/2 [==============================] - 0s 6ms/step - loss: 7.8952 - mae: 7.8952\n",
      "Epoch 85/100\n",
      "2/2 [==============================] - 0s 7ms/step - loss: 9.3900 - mae: 9.3900\n",
      "Epoch 86/100\n",
      "2/2 [==============================] - 0s 6ms/step - loss: 9.2184 - mae: 9.2184\n",
      "Epoch 87/100\n",
      "2/2 [==============================] - 0s 9ms/step - loss: 11.9964 - mae: 11.9964\n",
      "Epoch 88/100\n",
      "2/2 [==============================] - 0s 6ms/step - loss: 10.6120 - mae: 10.6120\n",
      "Epoch 89/100\n",
      "2/2 [==============================] - 0s 6ms/step - loss: 7.2433 - mae: 7.2433\n",
      "Epoch 90/100\n",
      "2/2 [==============================] - 0s 6ms/step - loss: 12.7512 - mae: 12.7512\n",
      "Epoch 91/100\n",
      "2/2 [==============================] - 0s 9ms/step - loss: 7.3222 - mae: 7.3222\n",
      "Epoch 92/100\n",
      "2/2 [==============================] - 0s 7ms/step - loss: 7.6901 - mae: 7.6901\n",
      "Epoch 93/100\n",
      "2/2 [==============================] - 0s 5ms/step - loss: 7.1030 - mae: 7.1030\n",
      "Epoch 94/100\n",
      "2/2 [==============================] - 0s 6ms/step - loss: 12.5919 - mae: 12.5919\n",
      "Epoch 95/100\n",
      "2/2 [==============================] - 0s 7ms/step - loss: 10.0617 - mae: 10.0617\n",
      "Epoch 96/100\n",
      "2/2 [==============================] - 0s 6ms/step - loss: 9.3367 - mae: 9.3367\n",
      "Epoch 97/100\n",
      "2/2 [==============================] - 0s 6ms/step - loss: 12.6774 - mae: 12.6774\n",
      "Epoch 98/100\n",
      "2/2 [==============================] - 0s 5ms/step - loss: 8.6589 - mae: 8.6589\n",
      "Epoch 99/100\n",
      "2/2 [==============================] - 0s 6ms/step - loss: 9.4532 - mae: 9.4532\n",
      "Epoch 100/100\n",
      "2/2 [==============================] - 0s 7ms/step - loss: 8.6793 - mae: 8.6793\n"
     ]
    },
    {
     "data": {
      "text/plain": [
       "<keras.callbacks.History at 0x2295f5bdc70>"
      ]
     },
     "execution_count": 52,
     "metadata": {},
     "output_type": "execute_result"
    }
   ],
   "execution_count": 52
  },
  {
   "cell_type": "code",
   "source": [
    "# Make and plot predictions for model_1\n",
    "y_preds_1 = model_1.predict(X_test)\n",
    "plot_predictions(predictions=y_preds_1)"
   ],
   "metadata": {
    "colab": {
     "base_uri": "https://localhost:8080/",
     "height": 656
    },
    "id": "382f33287c6f7581",
    "executionInfo": {
     "status": "ok",
     "timestamp": 1696076818038,
     "user_tz": -420,
     "elapsed": 674,
     "user": {
      "displayName": "kang sigit",
      "userId": "15887135570512197739"
     }
    },
    "outputId": "ccf8fe91-0129-401c-a1c0-25bb427ce51c",
    "ExecuteTime": {
     "end_time": "2025-01-28T11:07:23.966264Z",
     "start_time": "2025-01-28T11:07:23.599317Z"
    }
   },
   "id": "382f33287c6f7581",
   "outputs": [
    {
     "name": "stdout",
     "output_type": "stream",
     "text": [
      "WARNING:tensorflow:5 out of the last 5 calls to <function Model.make_predict_function.<locals>.predict_function at 0x000002296251FC10> triggered tf.function retracing. Tracing is expensive and the excessive number of tracings could be due to (1) creating @tf.function repeatedly in a loop, (2) passing tensors with different shapes, (3) passing Python objects instead of tensors. For (1), please define your @tf.function outside of the loop. For (2), @tf.function has reduce_retracing=True option that can avoid unnecessary retracing. For (3), please refer to https://www.tensorflow.org/guide/function#controlling_retracing and https://www.tensorflow.org/api_docs/python/tf/function for  more details.\n",
      "1/1 [==============================] - 0s 65ms/step\n"
     ]
    },
    {
     "data": {
      "text/plain": [
       "<Figure size 1000x700 with 1 Axes>"
      ],
      "image/png": "[encoded data removed]"
     },
     "metadata": {},
     "output_type": "display_data"
    }
   ],
   "execution_count": 53
  },
  {
   "cell_type": "code",
   "source": [
    "tf.constant(y_preds_1), tf.squeeze(y_preds_1)"
   ],
   "metadata": {
    "colab": {
     "base_uri": "https://localhost:8080/"
    },
    "id": "d717b5c1f0b6405",
    "executionInfo": {
     "status": "ok",
     "timestamp": 1696076824537,
     "user_tz": -420,
     "elapsed": 618,
     "user": {
      "displayName": "kang sigit",
      "userId": "15887135570512197739"
     }
    },
    "outputId": "c4292f0f-6ede-4cbc-f6cc-5e32de1363fd",
    "ExecuteTime": {
     "end_time": "2025-01-28T11:07:28.496776Z",
     "start_time": "2025-01-28T11:07:28.474041Z"
    }
   },
   "id": "d717b5c1f0b6405",
   "outputs": [
    {
     "data": {
      "text/plain": [
       "(<tf.Tensor: shape=(10, 1), dtype=float32, numpy=\n",
       " array([[53.646034],\n",
       "        [57.134228],\n",
       "        [60.62242 ],\n",
       "        [64.11062 ],\n",
       "        [67.598816],\n",
       "        [71.087006],\n",
       "        [74.5752  ],\n",
       "        [78.06339 ],\n",
       "        [81.55159 ],\n",
       "        [85.03979 ]], dtype=float32)>,\n",
       " <tf.Tensor: shape=(10,), dtype=float32, numpy=\n",
       " array([53.646034, 57.134228, 60.62242 , 64.11062 , 67.598816, 71.087006,\n",
       "        74.5752  , 78.06339 , 81.55159 , 85.03979 ], dtype=float32)>)"
      ]
     },
     "execution_count": 54,
     "metadata": {},
     "output_type": "execute_result"
    }
   ],
   "execution_count": 54
  },
  {
   "cell_type": "code",
   "source": [
    "# Calculate model_1 evaluation metrics\n",
    "mae_1 = mae(y_test, y_preds_1)\n",
    "mse_1 = mse(y_test, y_preds_1)\n",
    "mae_1, mse_1"
   ],
   "metadata": {
    "colab": {
     "base_uri": "https://localhost:8080/"
    },
    "id": "f00fe8d1a1017420",
    "executionInfo": {
     "status": "ok",
     "timestamp": 1696076828361,
     "user_tz": -420,
     "elapsed": 577,
     "user": {
      "displayName": "kang sigit",
      "userId": "15887135570512197739"
     }
    },
    "outputId": "636c597c-4cd6-45be-c773-f547bde4ca55",
    "ExecuteTime": {
     "end_time": "2025-01-28T11:07:34.953817Z",
     "start_time": "2025-01-28T11:07:34.931471Z"
    }
   },
   "id": "f00fe8d1a1017420",
   "outputs": [
    {
     "data": {
      "text/plain": [
       "(<tf.Tensor: shape=(), dtype=float32, numpy=18.657091>,\n",
       " <tf.Tensor: shape=(), dtype=float32, numpy=350.24808>)"
      ]
     },
     "execution_count": 55,
     "metadata": {},
     "output_type": "execute_result"
    }
   ],
   "execution_count": 55
  },
  {
   "cell_type": "markdown",
   "source": [
    "**Build `model_2`**\n",
    "\n",
    "* 2 dense layers, trained for 100 epochs"
   ],
   "metadata": {
    "collapsed": false,
    "id": "ab30453e074532d3"
   },
   "id": "ab30453e074532d3"
  },
  {
   "cell_type": "code",
   "source": [
    "# Set the random seed\n",
    "tf.random.set_seed(42)\n",
    "\n",
    "# 1. Create the model\n",
    "model_2 = tf.keras.Sequential([\n",
    "    tf.keras.layers.Dense(10),\n",
    "    tf.keras.layers.Dense(1)\n",
    "])\n",
    "\n",
    "# 2. Compile the model\n",
    "model_2.compile(loss=tf.keras.losses.mae,\n",
    "                optimizer=tf.keras.optimizers.SGD(),\n",
    "                metrics=[\"mae\"])\n",
    "\n",
    "# 3. Fit the model\n",
    "model_2.fit(tf.expand_dims(X_train, axis=-1), y_train, epochs=100)"
   ],
   "metadata": {
    "colab": {
     "base_uri": "https://localhost:8080/"
    },
    "id": "9acb465fd20c995c",
    "executionInfo": {
     "status": "ok",
     "timestamp": 1696076835059,
     "user_tz": -420,
     "elapsed": 3096,
     "user": {
      "displayName": "kang sigit",
      "userId": "15887135570512197739"
     }
    },
    "outputId": "51e23998-df47-4cb0-ad6f-52ab121a102c",
    "ExecuteTime": {
     "end_time": "2025-01-28T11:07:38.631499Z",
     "start_time": "2025-01-28T11:07:37.028747Z"
    }
   },
   "id": "9acb465fd20c995c",
   "outputs": [
    {
     "name": "stdout",
     "output_type": "stream",
     "text": [
      "Epoch 1/100\n",
      "2/2 [==============================] - 0s 6ms/step - loss: 38.8972 - mae: 38.8972\n",
      "Epoch 2/100\n",
      "2/2 [==============================] - 0s 7ms/step - loss: 27.4376 - mae: 27.4376\n",
      "Epoch 3/100\n",
      "2/2 [==============================] - 0s 7ms/step - loss: 33.0197 - mae: 33.0197\n",
      "Epoch 4/100\n",
      "2/2 [==============================] - 0s 7ms/step - loss: 25.3502 - mae: 25.3502\n",
      "Epoch 5/100\n",
      "2/2 [==============================] - 0s 6ms/step - loss: 14.9807 - mae: 14.9807\n",
      "Epoch 6/100\n",
      "2/2 [==============================] - 0s 6ms/step - loss: 11.9127 - mae: 11.9127\n",
      "Epoch 7/100\n",
      "2/2 [==============================] - 0s 6ms/step - loss: 11.2348 - mae: 11.2348\n",
      "Epoch 8/100\n",
      "2/2 [==============================] - 0s 7ms/step - loss: 11.1144 - mae: 11.1144\n",
      "Epoch 9/100\n",
      "2/2 [==============================] - 0s 9ms/step - loss: 40.7049 - mae: 40.7049\n",
      "Epoch 10/100\n",
      "2/2 [==============================] - 0s 7ms/step - loss: 28.0676 - mae: 28.0676\n",
      "Epoch 11/100\n",
      "2/2 [==============================] - 0s 6ms/step - loss: 10.2491 - mae: 10.2491\n",
      "Epoch 12/100\n",
      "2/2 [==============================] - 0s 6ms/step - loss: 25.2307 - mae: 25.2307\n",
      "Epoch 13/100\n",
      "2/2 [==============================] - 0s 7ms/step - loss: 17.0840 - mae: 17.0840\n",
      "Epoch 14/100\n",
      "2/2 [==============================] - 0s 7ms/step - loss: 26.0934 - mae: 26.0934\n",
      "Epoch 15/100\n",
      "2/2 [==============================] - 0s 8ms/step - loss: 18.1341 - mae: 18.1341\n",
      "Epoch 16/100\n",
      "2/2 [==============================] - 0s 6ms/step - loss: 7.8607 - mae: 7.8607\n",
      "Epoch 17/100\n",
      "2/2 [==============================] - 0s 7ms/step - loss: 22.2468 - mae: 22.2468\n",
      "Epoch 18/100\n",
      "2/2 [==============================] - 0s 8ms/step - loss: 10.8351 - mae: 10.8351\n",
      "Epoch 19/100\n",
      "2/2 [==============================] - 0s 7ms/step - loss: 10.7233 - mae: 10.7233\n",
      "Epoch 20/100\n",
      "2/2 [==============================] - 0s 8ms/step - loss: 12.0451 - mae: 12.0451\n",
      "Epoch 21/100\n",
      "2/2 [==============================] - 0s 9ms/step - loss: 20.1611 - mae: 20.1611\n",
      "Epoch 22/100\n",
      "2/2 [==============================] - 0s 6ms/step - loss: 13.7938 - mae: 13.7938\n",
      "Epoch 23/100\n",
      "2/2 [==============================] - 0s 7ms/step - loss: 9.5401 - mae: 9.5401\n",
      "Epoch 24/100\n",
      "2/2 [==============================] - 0s 8ms/step - loss: 11.8968 - mae: 11.8968\n",
      "Epoch 25/100\n",
      "2/2 [==============================] - 0s 8ms/step - loss: 16.2126 - mae: 16.2126\n",
      "Epoch 26/100\n",
      "2/2 [==============================] - 0s 6ms/step - loss: 16.4040 - mae: 16.4040\n",
      "Epoch 27/100\n",
      "2/2 [==============================] - 0s 6ms/step - loss: 11.5877 - mae: 11.5877\n",
      "Epoch 28/100\n",
      "2/2 [==============================] - 0s 5ms/step - loss: 29.9893 - mae: 29.9893\n",
      "Epoch 29/100\n",
      "2/2 [==============================] - 0s 6ms/step - loss: 9.2519 - mae: 9.2519\n",
      "Epoch 30/100\n",
      "2/2 [==============================] - 0s 5ms/step - loss: 30.5348 - mae: 30.5348\n",
      "Epoch 31/100\n",
      "2/2 [==============================] - 0s 5ms/step - loss: 55.5079 - mae: 55.5079\n",
      "Epoch 32/100\n",
      "2/2 [==============================] - 0s 6ms/step - loss: 9.7293 - mae: 9.7293\n",
      "Epoch 33/100\n",
      "2/2 [==============================] - 0s 5ms/step - loss: 12.3478 - mae: 12.3478\n",
      "Epoch 34/100\n",
      "2/2 [==============================] - 0s 5ms/step - loss: 24.7026 - mae: 24.7026\n",
      "Epoch 35/100\n",
      "2/2 [==============================] - 0s 5ms/step - loss: 11.9185 - mae: 11.9185\n",
      "Epoch 36/100\n",
      "2/2 [==============================] - 0s 6ms/step - loss: 22.1015 - mae: 22.1015\n",
      "Epoch 37/100\n",
      "2/2 [==============================] - 0s 5ms/step - loss: 17.5620 - mae: 17.5620\n",
      "Epoch 38/100\n",
      "2/2 [==============================] - 0s 6ms/step - loss: 10.7293 - mae: 10.7293\n",
      "Epoch 39/100\n",
      "2/2 [==============================] - 0s 5ms/step - loss: 11.2465 - mae: 11.2465\n",
      "Epoch 40/100\n",
      "2/2 [==============================] - 0s 5ms/step - loss: 18.2274 - mae: 18.2274\n",
      "Epoch 41/100\n",
      "2/2 [==============================] - 0s 6ms/step - loss: 10.4961 - mae: 10.4961\n",
      "Epoch 42/100\n",
      "2/2 [==============================] - 0s 6ms/step - loss: 7.8421 - mae: 7.8421\n",
      "Epoch 43/100\n",
      "2/2 [==============================] - 0s 8ms/step - loss: 14.2143 - mae: 14.2143\n",
      "Epoch 44/100\n",
      "2/2 [==============================] - 0s 5ms/step - loss: 24.9793 - mae: 24.9793\n",
      "Epoch 45/100\n",
      "2/2 [==============================] - 0s 5ms/step - loss: 10.9581 - mae: 10.9581\n",
      "Epoch 46/100\n",
      "2/2 [==============================] - 0s 5ms/step - loss: 13.0612 - mae: 13.0612\n",
      "Epoch 47/100\n",
      "2/2 [==============================] - 0s 6ms/step - loss: 10.4309 - mae: 10.4309\n",
      "Epoch 48/100\n",
      "2/2 [==============================] - 0s 5ms/step - loss: 17.1440 - mae: 17.1440\n",
      "Epoch 49/100\n",
      "2/2 [==============================] - 0s 6ms/step - loss: 9.6317 - mae: 9.6317\n",
      "Epoch 50/100\n",
      "2/2 [==============================] - 0s 5ms/step - loss: 13.9235 - mae: 13.9235\n",
      "Epoch 51/100\n",
      "2/2 [==============================] - 0s 5ms/step - loss: 11.6355 - mae: 11.6355\n",
      "Epoch 52/100\n",
      "2/2 [==============================] - 0s 6ms/step - loss: 30.8201 - mae: 30.8201\n",
      "Epoch 53/100\n",
      "2/2 [==============================] - 0s 5ms/step - loss: 14.4704 - mae: 14.4704\n",
      "Epoch 54/100\n",
      "2/2 [==============================] - 0s 5ms/step - loss: 24.1764 - mae: 24.1764\n",
      "Epoch 55/100\n",
      "2/2 [==============================] - 0s 6ms/step - loss: 23.4173 - mae: 23.4173\n",
      "Epoch 56/100\n",
      "2/2 [==============================] - 0s 5ms/step - loss: 10.9546 - mae: 10.9546\n",
      "Epoch 57/100\n",
      "2/2 [==============================] - 0s 6ms/step - loss: 12.8412 - mae: 12.8412\n",
      "Epoch 58/100\n",
      "2/2 [==============================] - 0s 5ms/step - loss: 9.6536 - mae: 9.6536\n",
      "Epoch 59/100\n",
      "2/2 [==============================] - 0s 8ms/step - loss: 13.0061 - mae: 13.0061\n",
      "Epoch 60/100\n",
      "2/2 [==============================] - 0s 6ms/step - loss: 10.6907 - mae: 10.6907\n",
      "Epoch 61/100\n",
      "2/2 [==============================] - 0s 6ms/step - loss: 17.4663 - mae: 17.4663\n",
      "Epoch 62/100\n",
      "2/2 [==============================] - 0s 5ms/step - loss: 10.6071 - mae: 10.6071\n",
      "Epoch 63/100\n",
      "2/2 [==============================] - 0s 5ms/step - loss: 10.4903 - mae: 10.4903\n",
      "Epoch 64/100\n",
      "2/2 [==============================] - 0s 7ms/step - loss: 24.8543 - mae: 24.8543\n",
      "Epoch 65/100\n",
      "2/2 [==============================] - 0s 5ms/step - loss: 10.6772 - mae: 10.6772\n",
      "Epoch 66/100\n",
      "2/2 [==============================] - 0s 4ms/step - loss: 21.7895 - mae: 21.7895\n",
      "Epoch 67/100\n",
      "2/2 [==============================] - 0s 5ms/step - loss: 10.7156 - mae: 10.7156\n",
      "Epoch 68/100\n",
      "2/2 [==============================] - 0s 7ms/step - loss: 10.6410 - mae: 10.6410\n",
      "Epoch 69/100\n",
      "2/2 [==============================] - 0s 5ms/step - loss: 22.7029 - mae: 22.7029\n",
      "Epoch 70/100\n",
      "2/2 [==============================] - 0s 6ms/step - loss: 9.3288 - mae: 9.3288\n",
      "Epoch 71/100\n",
      "2/2 [==============================] - 0s 6ms/step - loss: 15.4311 - mae: 15.4311\n",
      "Epoch 72/100\n",
      "2/2 [==============================] - 0s 6ms/step - loss: 6.7424 - mae: 6.7424\n",
      "Epoch 73/100\n",
      "2/2 [==============================] - 0s 7ms/step - loss: 11.6910 - mae: 11.6910\n",
      "Epoch 74/100\n",
      "2/2 [==============================] - 0s 5ms/step - loss: 24.0531 - mae: 24.0531\n",
      "Epoch 75/100\n",
      "2/2 [==============================] - 0s 5ms/step - loss: 9.5924 - mae: 9.5924\n",
      "Epoch 76/100\n",
      "2/2 [==============================] - 0s 5ms/step - loss: 12.4406 - mae: 12.4406\n",
      "Epoch 77/100\n",
      "2/2 [==============================] - 0s 6ms/step - loss: 16.6583 - mae: 16.6583\n",
      "Epoch 78/100\n",
      "2/2 [==============================] - 0s 6ms/step - loss: 9.0621 - mae: 9.0621\n",
      "Epoch 79/100\n",
      "2/2 [==============================] - 0s 5ms/step - loss: 23.9799 - mae: 23.9799\n",
      "Epoch 80/100\n",
      "2/2 [==============================] - 0s 6ms/step - loss: 26.7612 - mae: 26.7612\n",
      "Epoch 81/100\n",
      "2/2 [==============================] - 0s 6ms/step - loss: 11.6777 - mae: 11.6777\n",
      "Epoch 82/100\n",
      "2/2 [==============================] - 0s 5ms/step - loss: 12.0184 - mae: 12.0184\n",
      "Epoch 83/100\n",
      "2/2 [==============================] - 0s 6ms/step - loss: 17.4156 - mae: 17.4156\n",
      "Epoch 84/100\n",
      "2/2 [==============================] - 0s 7ms/step - loss: 7.2614 - mae: 7.2614\n",
      "Epoch 85/100\n",
      "2/2 [==============================] - 0s 5ms/step - loss: 14.9602 - mae: 14.9602\n",
      "Epoch 86/100\n",
      "2/2 [==============================] - 0s 5ms/step - loss: 15.2823 - mae: 15.2823\n",
      "Epoch 87/100\n",
      "2/2 [==============================] - 0s 5ms/step - loss: 19.1010 - mae: 19.1010\n",
      "Epoch 88/100\n",
      "2/2 [==============================] - 0s 5ms/step - loss: 29.8426 - mae: 29.8426\n",
      "Epoch 89/100\n",
      "2/2 [==============================] - 0s 6ms/step - loss: 10.1767 - mae: 10.1767\n",
      "Epoch 90/100\n",
      "2/2 [==============================] - 0s 5ms/step - loss: 21.5404 - mae: 21.5404\n",
      "Epoch 91/100\n",
      "2/2 [==============================] - 0s 5ms/step - loss: 10.5752 - mae: 10.5752\n",
      "Epoch 92/100\n",
      "2/2 [==============================] - 0s 6ms/step - loss: 18.4125 - mae: 18.4125\n",
      "Epoch 93/100\n",
      "2/2 [==============================] - 0s 6ms/step - loss: 7.4147 - mae: 7.4147\n",
      "Epoch 94/100\n",
      "2/2 [==============================] - 0s 6ms/step - loss: 17.7516 - mae: 17.7516\n",
      "Epoch 95/100\n",
      "2/2 [==============================] - 0s 5ms/step - loss: 11.1195 - mae: 11.1195\n",
      "Epoch 96/100\n",
      "2/2 [==============================] - 0s 7ms/step - loss: 19.4484 - mae: 19.4484\n",
      "Epoch 97/100\n",
      "2/2 [==============================] - 0s 6ms/step - loss: 12.4901 - mae: 12.4901\n",
      "Epoch 98/100\n",
      "2/2 [==============================] - 0s 4ms/step - loss: 10.2881 - mae: 10.2881\n",
      "Epoch 99/100\n",
      "2/2 [==============================] - 0s 6ms/step - loss: 13.8232 - mae: 13.8232\n",
      "Epoch 100/100\n",
      "2/2 [==============================] - 0s 6ms/step - loss: 20.1192 - mae: 20.1192\n"
     ]
    },
    {
     "data": {
      "text/plain": [
       "<keras.callbacks.History at 0x229625c6460>"
      ]
     },
     "execution_count": 56,
     "metadata": {},
     "output_type": "execute_result"
    }
   ],
   "execution_count": 56
  },
  {
   "cell_type": "code",
   "source": [
    "# Make and plot predictions of model_2\n",
    "y_preds_2 = model_2.predict(X_test)\n",
    "plot_predictions(predictions=y_preds_2)"
   ],
   "metadata": {
    "colab": {
     "base_uri": "https://localhost:8080/",
     "height": 656
    },
    "id": "1734489efbd4fb4e",
    "executionInfo": {
     "status": "ok",
     "timestamp": 1696076839093,
     "user_tz": -420,
     "elapsed": 22,
     "user": {
      "displayName": "kang sigit",
      "userId": "15887135570512197739"
     }
    },
    "outputId": "d02300c6-dceb-4b21-cb6f-445de699ad4f",
    "ExecuteTime": {
     "end_time": "2025-01-28T11:07:43.059990Z",
     "start_time": "2025-01-28T11:07:42.833612Z"
    }
   },
   "id": "1734489efbd4fb4e",
   "outputs": [
    {
     "name": "stdout",
     "output_type": "stream",
     "text": [
      "WARNING:tensorflow:6 out of the last 6 calls to <function Model.make_predict_function.<locals>.predict_function at 0x00000229625E5040> triggered tf.function retracing. Tracing is expensive and the excessive number of tracings could be due to (1) creating @tf.function repeatedly in a loop, (2) passing tensors with different shapes, (3) passing Python objects instead of tensors. For (1), please define your @tf.function outside of the loop. For (2), @tf.function has reduce_retracing=True option that can avoid unnecessary retracing. For (3), please refer to https://www.tensorflow.org/guide/function#controlling_retracing and https://www.tensorflow.org/api_docs/python/tf/function for  more details.\n",
      "1/1 [==============================] - 0s 36ms/step\n"
     ]
    },
    {
     "data": {
      "text/plain": [
       "<Figure size 1000x700 with 1 Axes>"
      ],
      "image/png": "[encoded data removed]"
     },
     "metadata": {},
     "output_type": "display_data"
    }
   ],
   "execution_count": 57
  },
  {
   "cell_type": "code",
   "source": [
    "# Calculate model_2 evaluation metrics\n",
    "mae_2 = mae(y_test, y_preds_2)\n",
    "mse_2 = mse(y_test, y_preds_2)\n",
    "mae_2, mse_2"
   ],
   "metadata": {
    "colab": {
     "base_uri": "https://localhost:8080/"
    },
    "id": "c1a1bfe80b2973d1",
    "executionInfo": {
     "status": "ok",
     "timestamp": 1696076843791,
     "user_tz": -420,
     "elapsed": 11,
     "user": {
      "displayName": "kang sigit",
      "userId": "15887135570512197739"
     }
    },
    "outputId": "b1dbc06c-a856-4769-e57a-66b0e8c780ae",
    "ExecuteTime": {
     "end_time": "2025-01-28T11:07:48.260735Z",
     "start_time": "2025-01-28T11:07:48.236410Z"
    }
   },
   "id": "c1a1bfe80b2973d1",
   "outputs": [
    {
     "data": {
      "text/plain": [
       "(<tf.Tensor: shape=(), dtype=float32, numpy=2.924868>,\n",
       " <tf.Tensor: shape=(), dtype=float32, numpy=11.274459>)"
      ]
     },
     "execution_count": 58,
     "metadata": {},
     "output_type": "execute_result"
    }
   ],
   "execution_count": 58
  },
  {
   "cell_type": "markdown",
   "source": [
    "**Build `model_3`**\n",
    "\n",
    "* 2 dense layers, trained for 500 epochs"
   ],
   "metadata": {
    "collapsed": false,
    "id": "e429d78109168242"
   },
   "id": "e429d78109168242"
  },
  {
   "cell_type": "code",
   "source": [
    "# Set the random seed\n",
    "tf.random.set_seed(42)\n",
    "\n",
    "# 1. Create the model\n",
    "model_3 = tf.keras.Sequential([\n",
    "    tf.keras.layers.Dense(10),\n",
    "    tf.keras.layers.Dense(1)\n",
    "])\n",
    "\n",
    "# 2. Compile the model\n",
    "model_3.compile(loss=tf.keras.losses.mae,\n",
    "                optimizer=tf.keras.optimizers.SGD(),\n",
    "                metrics=[\"mae\"])\n",
    "\n",
    "# 3. Fit the model\n",
    "model_3.fit(tf.expand_dims(X_train, axis=-1), y_train, epochs=500)"
   ],
   "metadata": {
    "colab": {
     "base_uri": "https://localhost:8080/"
    },
    "id": "63aa0519b7419682",
    "executionInfo": {
     "status": "ok",
     "timestamp": 1696076859418,
     "user_tz": -420,
     "elapsed": 12407,
     "user": {
      "displayName": "kang sigit",
      "userId": "15887135570512197739"
     }
    },
    "outputId": "b505caf8-a0f1-424c-d542-7479ae153a19",
    "ExecuteTime": {
     "end_time": "2025-01-28T11:07:59.728927Z",
     "start_time": "2025-01-28T11:07:51.123799Z"
    }
   },
   "id": "63aa0519b7419682",
   "outputs": [
    {
     "name": "stdout",
     "output_type": "stream",
     "text": [
      "Epoch 1/500\n",
      "2/2 [==============================] - 0s 6ms/step - loss: 27.9699 - mae: 27.9699\n",
      "Epoch 2/500\n",
      "2/2 [==============================] - 0s 8ms/step - loss: 24.9467 - mae: 24.9467\n",
      "Epoch 3/500\n",
      "2/2 [==============================] - 0s 11ms/step - loss: 30.2511 - mae: 30.2511\n",
      "Epoch 4/500\n",
      "2/2 [==============================] - 0s 10ms/step - loss: 27.1608 - mae: 27.1608\n",
      "Epoch 5/500\n",
      "2/2 [==============================] - 0s 6ms/step - loss: 14.8301 - mae: 14.8301\n",
      "Epoch 6/500\n",
      "2/2 [==============================] - 0s 6ms/step - loss: 11.7972 - mae: 11.7972\n",
      "Epoch 7/500\n",
      "2/2 [==============================] - 0s 7ms/step - loss: 11.1257 - mae: 11.1257\n",
      "Epoch 8/500\n",
      "2/2 [==============================] - 0s 7ms/step - loss: 11.0679 - mae: 11.0679\n",
      "Epoch 9/500\n",
      "2/2 [==============================] - 0s 6ms/step - loss: 40.1877 - mae: 40.1877\n",
      "Epoch 10/500\n",
      "2/2 [==============================] - 0s 6ms/step - loss: 27.6176 - mae: 27.6176\n",
      "Epoch 11/500\n",
      "2/2 [==============================] - 0s 7ms/step - loss: 10.2462 - mae: 10.2462\n",
      "Epoch 12/500\n",
      "2/2 [==============================] - 0s 6ms/step - loss: 25.3583 - mae: 25.3583\n",
      "Epoch 13/500\n",
      "2/2 [==============================] - 0s 6ms/step - loss: 16.8725 - mae: 16.8725\n",
      "Epoch 14/500\n",
      "2/2 [==============================] - 0s 6ms/step - loss: 25.7088 - mae: 25.7088\n",
      "Epoch 15/500\n",
      "2/2 [==============================] - 0s 7ms/step - loss: 17.5713 - mae: 17.5713\n",
      "Epoch 16/500\n",
      "2/2 [==============================] - 0s 6ms/step - loss: 10.0458 - mae: 10.0458\n",
      "Epoch 17/500\n",
      "2/2 [==============================] - 0s 5ms/step - loss: 18.5865 - mae: 18.5865\n",
      "Epoch 18/500\n",
      "2/2 [==============================] - 0s 5ms/step - loss: 11.7452 - mae: 11.7452\n",
      "Epoch 19/500\n",
      "2/2 [==============================] - 0s 8ms/step - loss: 16.4065 - mae: 16.4065\n",
      "Epoch 20/500\n",
      "2/2 [==============================] - 0s 6ms/step - loss: 8.2451 - mae: 8.2451\n",
      "Epoch 21/500\n",
      "2/2 [==============================] - 0s 6ms/step - loss: 14.4468 - mae: 14.4468\n",
      "Epoch 22/500\n",
      "2/2 [==============================] - 0s 5ms/step - loss: 12.8645 - mae: 12.8645\n",
      "Epoch 23/500\n",
      "2/2 [==============================] - 0s 5ms/step - loss: 15.4973 - mae: 15.4973\n",
      "Epoch 24/500\n",
      "2/2 [==============================] - 0s 6ms/step - loss: 15.2878 - mae: 15.2878\n",
      "Epoch 25/500\n",
      "2/2 [==============================] - 0s 7ms/step - loss: 14.3526 - mae: 14.3526\n",
      "Epoch 26/500\n",
      "2/2 [==============================] - 0s 6ms/step - loss: 19.3704 - mae: 19.3704\n",
      "Epoch 27/500\n",
      "2/2 [==============================] - 0s 5ms/step - loss: 11.4367 - mae: 11.4367\n",
      "Epoch 28/500\n",
      "2/2 [==============================] - 0s 5ms/step - loss: 29.0148 - mae: 29.0148\n",
      "Epoch 29/500\n",
      "2/2 [==============================] - 0s 6ms/step - loss: 9.2484 - mae: 9.2484\n",
      "Epoch 30/500\n",
      "2/2 [==============================] - 0s 7ms/step - loss: 29.7689 - mae: 29.7689\n",
      "Epoch 31/500\n",
      "2/2 [==============================] - 0s 6ms/step - loss: 54.0071 - mae: 54.0071\n",
      "Epoch 32/500\n",
      "2/2 [==============================] - 0s 8ms/step - loss: 9.5521 - mae: 9.5521\n",
      "Epoch 33/500\n",
      "2/2 [==============================] - 0s 8ms/step - loss: 12.1414 - mae: 12.1414\n",
      "Epoch 34/500\n",
      "2/2 [==============================] - 0s 8ms/step - loss: 23.8218 - mae: 23.8218\n",
      "Epoch 35/500\n",
      "2/2 [==============================] - 0s 6ms/step - loss: 12.6326 - mae: 12.6326\n",
      "Epoch 36/500\n",
      "2/2 [==============================] - 0s 6ms/step - loss: 21.5604 - mae: 21.5604\n",
      "Epoch 37/500\n",
      "2/2 [==============================] - 0s 6ms/step - loss: 11.3507 - mae: 11.3507\n",
      "Epoch 38/500\n",
      "2/2 [==============================] - 0s 6ms/step - loss: 13.4181 - mae: 13.4181\n",
      "Epoch 39/500\n",
      "2/2 [==============================] - 0s 6ms/step - loss: 10.7664 - mae: 10.7664\n",
      "Epoch 40/500\n",
      "2/2 [==============================] - 0s 7ms/step - loss: 16.5345 - mae: 16.5345\n",
      "Epoch 41/500\n",
      "2/2 [==============================] - 0s 6ms/step - loss: 10.9399 - mae: 10.9399\n",
      "Epoch 42/500\n",
      "2/2 [==============================] - 0s 6ms/step - loss: 9.2754 - mae: 9.2754\n",
      "Epoch 43/500\n",
      "2/2 [==============================] - 0s 5ms/step - loss: 9.5839 - mae: 9.5839\n",
      "Epoch 44/500\n",
      "2/2 [==============================] - 0s 8ms/step - loss: 27.9055 - mae: 27.9055\n",
      "Epoch 45/500\n",
      "2/2 [==============================] - 0s 6ms/step - loss: 11.2590 - mae: 11.2590\n",
      "Epoch 46/500\n",
      "2/2 [==============================] - 0s 6ms/step - loss: 13.8534 - mae: 13.8534\n",
      "Epoch 47/500\n",
      "2/2 [==============================] - 0s 7ms/step - loss: 11.9208 - mae: 11.9208\n",
      "Epoch 48/500\n",
      "2/2 [==============================] - 0s 4ms/step - loss: 16.9552 - mae: 16.9552\n",
      "Epoch 49/500\n",
      "2/2 [==============================] - 0s 5ms/step - loss: 9.7714 - mae: 9.7714\n",
      "Epoch 50/500\n",
      "2/2 [==============================] - 0s 5ms/step - loss: 14.1638 - mae: 14.1638\n",
      "Epoch 51/500\n",
      "2/2 [==============================] - 0s 7ms/step - loss: 11.7335 - mae: 11.7335\n",
      "Epoch 52/500\n",
      "2/2 [==============================] - 0s 6ms/step - loss: 31.3881 - mae: 31.3881\n",
      "Epoch 53/500\n",
      "2/2 [==============================] - 0s 6ms/step - loss: 14.7240 - mae: 14.7240\n",
      "Epoch 54/500\n",
      "2/2 [==============================] - 0s 5ms/step - loss: 24.6154 - mae: 24.6154\n",
      "Epoch 55/500\n",
      "2/2 [==============================] - 0s 5ms/step - loss: 23.8982 - mae: 23.8982\n",
      "Epoch 56/500\n",
      "2/2 [==============================] - 0s 6ms/step - loss: 11.1189 - mae: 11.1189\n",
      "Epoch 57/500\n",
      "2/2 [==============================] - 0s 5ms/step - loss: 13.0588 - mae: 13.0588\n",
      "Epoch 58/500\n",
      "2/2 [==============================] - 0s 6ms/step - loss: 9.7793 - mae: 9.7793\n",
      "Epoch 59/500\n",
      "2/2 [==============================] - 0s 5ms/step - loss: 13.2402 - mae: 13.2402\n",
      "Epoch 60/500\n",
      "2/2 [==============================] - 0s 7ms/step - loss: 10.8331 - mae: 10.8331\n",
      "Epoch 61/500\n",
      "2/2 [==============================] - 0s 6ms/step - loss: 13.4178 - mae: 13.4178\n",
      "Epoch 62/500\n",
      "2/2 [==============================] - 0s 5ms/step - loss: 17.3956 - mae: 17.3956\n",
      "Epoch 63/500\n",
      "2/2 [==============================] - 0s 6ms/step - loss: 9.1370 - mae: 9.1370\n",
      "Epoch 64/500\n",
      "2/2 [==============================] - 0s 5ms/step - loss: 18.2700 - mae: 18.2700\n",
      "Epoch 65/500\n",
      "2/2 [==============================] - 0s 6ms/step - loss: 10.0922 - mae: 10.0922\n",
      "Epoch 66/500\n",
      "2/2 [==============================] - 0s 5ms/step - loss: 24.1082 - mae: 24.1082\n",
      "Epoch 67/500\n",
      "2/2 [==============================] - 0s 5ms/step - loss: 10.8445 - mae: 10.8445\n",
      "Epoch 68/500\n",
      "2/2 [==============================] - 0s 6ms/step - loss: 10.7386 - mae: 10.7386\n",
      "Epoch 69/500\n",
      "2/2 [==============================] - 0s 6ms/step - loss: 23.0841 - mae: 23.0841\n",
      "Epoch 70/500\n",
      "2/2 [==============================] - 0s 7ms/step - loss: 8.8431 - mae: 8.8431\n",
      "Epoch 71/500\n",
      "2/2 [==============================] - 0s 8ms/step - loss: 16.0730 - mae: 16.0730\n",
      "Epoch 72/500\n",
      "2/2 [==============================] - 0s 7ms/step - loss: 7.7577 - mae: 7.7577\n",
      "Epoch 73/500\n",
      "2/2 [==============================] - 0s 8ms/step - loss: 10.1606 - mae: 10.1606\n",
      "Epoch 74/500\n",
      "2/2 [==============================] - 0s 6ms/step - loss: 28.3443 - mae: 28.3443\n",
      "Epoch 75/500\n",
      "2/2 [==============================] - 0s 6ms/step - loss: 9.9968 - mae: 9.9968\n",
      "Epoch 76/500\n",
      "2/2 [==============================] - 0s 7ms/step - loss: 12.9105 - mae: 12.9105\n",
      "Epoch 77/500\n",
      "2/2 [==============================] - 0s 7ms/step - loss: 17.8572 - mae: 17.8572\n",
      "Epoch 78/500\n",
      "2/2 [==============================] - 0s 7ms/step - loss: 8.9598 - mae: 8.9598\n",
      "Epoch 79/500\n",
      "2/2 [==============================] - 0s 7ms/step - loss: 28.6763 - mae: 28.6763\n",
      "Epoch 80/500\n",
      "2/2 [==============================] - 0s 6ms/step - loss: 31.0070 - mae: 31.0070\n",
      "Epoch 81/500\n",
      "2/2 [==============================] - 0s 7ms/step - loss: 13.3886 - mae: 13.3886\n",
      "Epoch 82/500\n",
      "2/2 [==============================] - 0s 10ms/step - loss: 14.5248 - mae: 14.5248\n",
      "Epoch 83/500\n",
      "2/2 [==============================] - 0s 9ms/step - loss: 18.5466 - mae: 18.5466\n",
      "Epoch 84/500\n",
      "2/2 [==============================] - 0s 6ms/step - loss: 8.8164 - mae: 8.8164\n",
      "Epoch 85/500\n",
      "2/2 [==============================] - 0s 5ms/step - loss: 18.4220 - mae: 18.4220\n",
      "Epoch 86/500\n",
      "2/2 [==============================] - 0s 6ms/step - loss: 22.5405 - mae: 22.5405\n",
      "Epoch 87/500\n",
      "2/2 [==============================] - 0s 9ms/step - loss: 11.3664 - mae: 11.3664\n",
      "Epoch 88/500\n",
      "2/2 [==============================] - 0s 7ms/step - loss: 26.5631 - mae: 26.5631\n",
      "Epoch 89/500\n",
      "2/2 [==============================] - 0s 14ms/step - loss: 9.6529 - mae: 9.6529\n",
      "Epoch 90/500\n",
      "2/2 [==============================] - 0s 7ms/step - loss: 18.7193 - mae: 18.7193\n",
      "Epoch 91/500\n",
      "2/2 [==============================] - 0s 6ms/step - loss: 10.4861 - mae: 10.4861\n",
      "Epoch 92/500\n",
      "2/2 [==============================] - 0s 23ms/step - loss: 17.9472 - mae: 17.9472\n",
      "Epoch 93/500\n",
      "2/2 [==============================] - 0s 7ms/step - loss: 6.5890 - mae: 6.5890\n",
      "Epoch 94/500\n",
      "2/2 [==============================] - 0s 7ms/step - loss: 11.1338 - mae: 11.1338\n",
      "Epoch 95/500\n",
      "2/2 [==============================] - 0s 6ms/step - loss: 24.2838 - mae: 24.2838\n",
      "Epoch 96/500\n",
      "2/2 [==============================] - 0s 7ms/step - loss: 10.7381 - mae: 10.7381\n",
      "Epoch 97/500\n",
      "2/2 [==============================] - 0s 9ms/step - loss: 15.3068 - mae: 15.3068\n",
      "Epoch 98/500\n",
      "2/2 [==============================] - 0s 23ms/step - loss: 8.2584 - mae: 8.2584\n",
      "Epoch 99/500\n",
      "2/2 [==============================] - 0s 7ms/step - loss: 16.4666 - mae: 16.4666\n",
      "Epoch 100/500\n",
      "2/2 [==============================] - 0s 7ms/step - loss: 13.8765 - mae: 13.8765\n",
      "Epoch 101/500\n",
      "2/2 [==============================] - 0s 8ms/step - loss: 17.8234 - mae: 17.8234\n",
      "Epoch 102/500\n",
      "2/2 [==============================] - 0s 10ms/step - loss: 11.0219 - mae: 11.0219\n",
      "Epoch 103/500\n",
      "2/2 [==============================] - 0s 19ms/step - loss: 9.2871 - mae: 9.2871\n",
      "Epoch 104/500\n",
      "2/2 [==============================] - 0s 11ms/step - loss: 24.3782 - mae: 24.3782\n",
      "Epoch 105/500\n",
      "2/2 [==============================] - 0s 8ms/step - loss: 11.4087 - mae: 11.4087\n",
      "Epoch 106/500\n",
      "2/2 [==============================] - 0s 12ms/step - loss: 9.9842 - mae: 9.9842\n",
      "Epoch 107/500\n",
      "2/2 [==============================] - 0s 11ms/step - loss: 21.8000 - mae: 21.8000\n",
      "Epoch 108/500\n",
      "2/2 [==============================] - 0s 8ms/step - loss: 8.0200 - mae: 8.0200\n",
      "Epoch 109/500\n",
      "2/2 [==============================] - 0s 8ms/step - loss: 12.3583 - mae: 12.3583\n",
      "Epoch 110/500\n",
      "2/2 [==============================] - 0s 7ms/step - loss: 10.3002 - mae: 10.3002\n",
      "Epoch 111/500\n",
      "2/2 [==============================] - 0s 10ms/step - loss: 16.1194 - mae: 16.1194\n",
      "Epoch 112/500\n",
      "2/2 [==============================] - 0s 7ms/step - loss: 9.3539 - mae: 9.3539\n",
      "Epoch 113/500\n",
      "2/2 [==============================] - 0s 8ms/step - loss: 16.6565 - mae: 16.6565\n",
      "Epoch 114/500\n",
      "2/2 [==============================] - 0s 9ms/step - loss: 18.1368 - mae: 18.1368\n",
      "Epoch 115/500\n",
      "2/2 [==============================] - 0s 10ms/step - loss: 10.8277 - mae: 10.8277\n",
      "Epoch 116/500\n",
      "2/2 [==============================] - 0s 8ms/step - loss: 22.0552 - mae: 22.0552\n",
      "Epoch 117/500\n",
      "2/2 [==============================] - 0s 7ms/step - loss: 9.2539 - mae: 9.2539\n",
      "Epoch 118/500\n",
      "2/2 [==============================] - 0s 6ms/step - loss: 10.2584 - mae: 10.2584\n",
      "Epoch 119/500\n",
      "2/2 [==============================] - 0s 21ms/step - loss: 8.0401 - mae: 8.0401\n",
      "Epoch 120/500\n",
      "2/2 [==============================] - 0s 6ms/step - loss: 46.5424 - mae: 46.5424\n",
      "Epoch 121/500\n",
      "2/2 [==============================] - 0s 6ms/step - loss: 12.1683 - mae: 12.1683\n",
      "Epoch 122/500\n",
      "2/2 [==============================] - 0s 6ms/step - loss: 23.1964 - mae: 23.1964\n",
      "Epoch 123/500\n",
      "2/2 [==============================] - 0s 9ms/step - loss: 27.9638 - mae: 27.9638\n",
      "Epoch 124/500\n",
      "2/2 [==============================] - 0s 13ms/step - loss: 15.6855 - mae: 15.6855\n",
      "Epoch 125/500\n",
      "2/2 [==============================] - 0s 8ms/step - loss: 8.4217 - mae: 8.4217\n",
      "Epoch 126/500\n",
      "2/2 [==============================] - 0s 10ms/step - loss: 11.2818 - mae: 11.2818\n",
      "Epoch 127/500\n",
      "2/2 [==============================] - 0s 9ms/step - loss: 17.5750 - mae: 17.5750\n",
      "Epoch 128/500\n",
      "2/2 [==============================] - 0s 7ms/step - loss: 11.0649 - mae: 11.0649\n",
      "Epoch 129/500\n",
      "2/2 [==============================] - 0s 9ms/step - loss: 19.7316 - mae: 19.7316\n",
      "Epoch 130/500\n",
      "2/2 [==============================] - 0s 8ms/step - loss: 10.2123 - mae: 10.2123\n",
      "Epoch 131/500\n",
      "2/2 [==============================] - 0s 6ms/step - loss: 21.3831 - mae: 21.3831\n",
      "Epoch 132/500\n",
      "2/2 [==============================] - 0s 7ms/step - loss: 8.2469 - mae: 8.2469\n",
      "Epoch 133/500\n",
      "2/2 [==============================] - 0s 8ms/step - loss: 9.0308 - mae: 9.0308\n",
      "Epoch 134/500\n",
      "2/2 [==============================] - 0s 13ms/step - loss: 16.4252 - mae: 16.4252\n",
      "Epoch 135/500\n",
      "2/2 [==============================] - 0s 7ms/step - loss: 11.3350 - mae: 11.3350\n",
      "Epoch 136/500\n",
      "2/2 [==============================] - 0s 6ms/step - loss: 20.3580 - mae: 20.3580\n",
      "Epoch 137/500\n",
      "2/2 [==============================] - 0s 7ms/step - loss: 23.8344 - mae: 23.8344\n",
      "Epoch 138/500\n",
      "2/2 [==============================] - 0s 7ms/step - loss: 9.4385 - mae: 9.4385\n",
      "Epoch 139/500\n",
      "2/2 [==============================] - 0s 7ms/step - loss: 9.1208 - mae: 9.1208\n",
      "Epoch 140/500\n",
      "2/2 [==============================] - 0s 8ms/step - loss: 17.1832 - mae: 17.1832\n",
      "Epoch 141/500\n",
      "2/2 [==============================] - 0s 7ms/step - loss: 8.3768 - mae: 8.3768\n",
      "Epoch 142/500\n",
      "2/2 [==============================] - 0s 9ms/step - loss: 34.3222 - mae: 34.3222\n",
      "Epoch 143/500\n",
      "2/2 [==============================] - 0s 9ms/step - loss: 23.3558 - mae: 23.3558\n",
      "Epoch 144/500\n",
      "2/2 [==============================] - 0s 6ms/step - loss: 10.4978 - mae: 10.4978\n",
      "Epoch 145/500\n",
      "2/2 [==============================] - 0s 7ms/step - loss: 25.8426 - mae: 25.8426\n",
      "Epoch 146/500\n",
      "2/2 [==============================] - 0s 7ms/step - loss: 9.9674 - mae: 9.9674\n",
      "Epoch 147/500\n",
      "2/2 [==============================] - 0s 7ms/step - loss: 14.7475 - mae: 14.7475\n",
      "Epoch 148/500\n",
      "2/2 [==============================] - 0s 7ms/step - loss: 17.8589 - mae: 17.8589\n",
      "Epoch 149/500\n",
      "2/2 [==============================] - 0s 9ms/step - loss: 8.4641 - mae: 8.4641\n",
      "Epoch 150/500\n",
      "2/2 [==============================] - 0s 10ms/step - loss: 7.6373 - mae: 7.6373\n",
      "Epoch 151/500\n",
      "2/2 [==============================] - 0s 8ms/step - loss: 18.8236 - mae: 18.8236\n",
      "Epoch 152/500\n",
      "2/2 [==============================] - 0s 7ms/step - loss: 10.4764 - mae: 10.4764\n",
      "Epoch 153/500\n",
      "2/2 [==============================] - 0s 8ms/step - loss: 30.3289 - mae: 30.3289\n",
      "Epoch 154/500\n",
      "2/2 [==============================] - 0s 7ms/step - loss: 10.0110 - mae: 10.0110\n",
      "Epoch 155/500\n",
      "2/2 [==============================] - 0s 8ms/step - loss: 15.7588 - mae: 15.7588\n",
      "Epoch 156/500\n",
      "2/2 [==============================] - 0s 9ms/step - loss: 17.6850 - mae: 17.6850\n",
      "Epoch 157/500\n",
      "2/2 [==============================] - 0s 8ms/step - loss: 31.0796 - mae: 31.0796\n",
      "Epoch 158/500\n",
      "2/2 [==============================] - 0s 7ms/step - loss: 10.2256 - mae: 10.2256\n",
      "Epoch 159/500\n",
      "2/2 [==============================] - 0s 6ms/step - loss: 8.7039 - mae: 8.7039\n",
      "Epoch 160/500\n",
      "2/2 [==============================] - 0s 7ms/step - loss: 20.7206 - mae: 20.7206\n",
      "Epoch 161/500\n",
      "2/2 [==============================] - 0s 8ms/step - loss: 11.8165 - mae: 11.8165\n",
      "Epoch 162/500\n",
      "2/2 [==============================] - 0s 8ms/step - loss: 21.6964 - mae: 21.6964\n",
      "Epoch 163/500\n",
      "2/2 [==============================] - 0s 6ms/step - loss: 19.3737 - mae: 19.3737\n",
      "Epoch 164/500\n",
      "2/2 [==============================] - 0s 8ms/step - loss: 11.1339 - mae: 11.1339\n",
      "Epoch 165/500\n",
      "2/2 [==============================] - 0s 10ms/step - loss: 9.6296 - mae: 9.6296\n",
      "Epoch 166/500\n",
      "2/2 [==============================] - 0s 9ms/step - loss: 21.5629 - mae: 21.5629\n",
      "Epoch 167/500\n",
      "2/2 [==============================] - 0s 8ms/step - loss: 26.3742 - mae: 26.3742\n",
      "Epoch 168/500\n",
      "2/2 [==============================] - 0s 6ms/step - loss: 9.9307 - mae: 9.9307\n",
      "Epoch 169/500\n",
      "2/2 [==============================] - 0s 7ms/step - loss: 22.6086 - mae: 22.6086\n",
      "Epoch 170/500\n",
      "2/2 [==============================] - 0s 7ms/step - loss: 10.1746 - mae: 10.1746\n",
      "Epoch 171/500\n",
      "2/2 [==============================] - 0s 6ms/step - loss: 18.0439 - mae: 18.0439\n",
      "Epoch 172/500\n",
      "2/2 [==============================] - 0s 7ms/step - loss: 28.8507 - mae: 28.8507\n",
      "Epoch 173/500\n",
      "2/2 [==============================] - 0s 8ms/step - loss: 16.5575 - mae: 16.5575\n",
      "Epoch 174/500\n",
      "2/2 [==============================] - 0s 7ms/step - loss: 11.2392 - mae: 11.2392\n",
      "Epoch 175/500\n",
      "2/2 [==============================] - 0s 7ms/step - loss: 27.5859 - mae: 27.5859\n",
      "Epoch 176/500\n",
      "2/2 [==============================] - 0s 7ms/step - loss: 8.3239 - mae: 8.3239\n",
      "Epoch 177/500\n",
      "2/2 [==============================] - 0s 6ms/step - loss: 9.3160 - mae: 9.3160\n",
      "Epoch 178/500\n",
      "2/2 [==============================] - 0s 10ms/step - loss: 18.1245 - mae: 18.1245\n",
      "Epoch 179/500\n",
      "2/2 [==============================] - 0s 8ms/step - loss: 10.6259 - mae: 10.6259\n",
      "Epoch 180/500\n",
      "2/2 [==============================] - 0s 8ms/step - loss: 7.9490 - mae: 7.9490\n",
      "Epoch 181/500\n",
      "2/2 [==============================] - 0s 8ms/step - loss: 17.3575 - mae: 17.3575\n",
      "Epoch 182/500\n",
      "2/2 [==============================] - 0s 7ms/step - loss: 11.0426 - mae: 11.0426\n",
      "Epoch 183/500\n",
      "2/2 [==============================] - 0s 6ms/step - loss: 11.6913 - mae: 11.6913\n",
      "Epoch 184/500\n",
      "2/2 [==============================] - 0s 9ms/step - loss: 30.2700 - mae: 30.2700\n",
      "Epoch 185/500\n",
      "2/2 [==============================] - 0s 6ms/step - loss: 8.2230 - mae: 8.2230\n",
      "Epoch 186/500\n",
      "2/2 [==============================] - 0s 9ms/step - loss: 18.7029 - mae: 18.7029\n",
      "Epoch 187/500\n",
      "2/2 [==============================] - 0s 9ms/step - loss: 8.8104 - mae: 8.8104\n",
      "Epoch 188/500\n",
      "2/2 [==============================] - 0s 17ms/step - loss: 23.6911 - mae: 23.6911\n",
      "Epoch 189/500\n",
      "2/2 [==============================] - 0s 7ms/step - loss: 9.4307 - mae: 9.4307\n",
      "Epoch 190/500\n",
      "2/2 [==============================] - 0s 6ms/step - loss: 17.1195 - mae: 17.1195\n",
      "Epoch 191/500\n",
      "2/2 [==============================] - 0s 9ms/step - loss: 8.6048 - mae: 8.6048\n",
      "Epoch 192/500\n",
      "2/2 [==============================] - 0s 7ms/step - loss: 15.1877 - mae: 15.1877\n",
      "Epoch 193/500\n",
      "2/2 [==============================] - 0s 7ms/step - loss: 30.0204 - mae: 30.0204\n",
      "Epoch 194/500\n",
      "2/2 [==============================] - 0s 7ms/step - loss: 9.6594 - mae: 9.6594\n",
      "Epoch 195/500\n",
      "2/2 [==============================] - 0s 6ms/step - loss: 12.0318 - mae: 12.0318\n",
      "Epoch 196/500\n",
      "2/2 [==============================] - 0s 7ms/step - loss: 23.3885 - mae: 23.3885\n",
      "Epoch 197/500\n",
      "2/2 [==============================] - 0s 6ms/step - loss: 17.8638 - mae: 17.8638\n",
      "Epoch 198/500\n",
      "2/2 [==============================] - 0s 8ms/step - loss: 12.6440 - mae: 12.6440\n",
      "Epoch 199/500\n",
      "2/2 [==============================] - 0s 7ms/step - loss: 18.1202 - mae: 18.1202\n",
      "Epoch 200/500\n",
      "2/2 [==============================] - 0s 7ms/step - loss: 13.9489 - mae: 13.9489\n",
      "Epoch 201/500\n",
      "2/2 [==============================] - 0s 6ms/step - loss: 6.1134 - mae: 6.1134\n",
      "Epoch 202/500\n",
      "2/2 [==============================] - 0s 9ms/step - loss: 22.9329 - mae: 22.9329\n",
      "Epoch 203/500\n",
      "2/2 [==============================] - 0s 6ms/step - loss: 9.0432 - mae: 9.0432\n",
      "Epoch 204/500\n",
      "2/2 [==============================] - 0s 7ms/step - loss: 18.8687 - mae: 18.8687\n",
      "Epoch 205/500\n",
      "2/2 [==============================] - 0s 7ms/step - loss: 9.4400 - mae: 9.4400\n",
      "Epoch 206/500\n",
      "2/2 [==============================] - 0s 7ms/step - loss: 10.4985 - mae: 10.4985\n",
      "Epoch 207/500\n",
      "2/2 [==============================] - 0s 7ms/step - loss: 21.0579 - mae: 21.0579\n",
      "Epoch 208/500\n",
      "2/2 [==============================] - 0s 7ms/step - loss: 16.4779 - mae: 16.4779\n",
      "Epoch 209/500\n",
      "2/2 [==============================] - 0s 6ms/step - loss: 14.3422 - mae: 14.3422\n",
      "Epoch 210/500\n",
      "2/2 [==============================] - 0s 6ms/step - loss: 17.3039 - mae: 17.3039\n",
      "Epoch 211/500\n",
      "2/2 [==============================] - 0s 8ms/step - loss: 10.3064 - mae: 10.3064\n",
      "Epoch 212/500\n",
      "2/2 [==============================] - 0s 8ms/step - loss: 19.7679 - mae: 19.7679\n",
      "Epoch 213/500\n",
      "2/2 [==============================] - 0s 7ms/step - loss: 14.6885 - mae: 14.6885\n",
      "Epoch 214/500\n",
      "2/2 [==============================] - 0s 7ms/step - loss: 14.3696 - mae: 14.3696\n",
      "Epoch 215/500\n",
      "2/2 [==============================] - 0s 8ms/step - loss: 22.8658 - mae: 22.8658\n",
      "Epoch 216/500\n",
      "2/2 [==============================] - 0s 7ms/step - loss: 13.9255 - mae: 13.9255\n",
      "Epoch 217/500\n",
      "2/2 [==============================] - 0s 5ms/step - loss: 10.3687 - mae: 10.3687\n",
      "Epoch 218/500\n",
      "2/2 [==============================] - 0s 7ms/step - loss: 12.2552 - mae: 12.2552\n",
      "Epoch 219/500\n",
      "2/2 [==============================] - 0s 6ms/step - loss: 6.6063 - mae: 6.6063\n",
      "Epoch 220/500\n",
      "2/2 [==============================] - 0s 6ms/step - loss: 7.1776 - mae: 7.1776\n",
      "Epoch 221/500\n",
      "2/2 [==============================] - 0s 7ms/step - loss: 37.4918 - mae: 37.4918\n",
      "Epoch 222/500\n",
      "2/2 [==============================] - 0s 8ms/step - loss: 37.3007 - mae: 37.3007\n",
      "Epoch 223/500\n",
      "2/2 [==============================] - 0s 6ms/step - loss: 6.1526 - mae: 6.1526\n",
      "Epoch 224/500\n",
      "2/2 [==============================] - 0s 7ms/step - loss: 14.5302 - mae: 14.5302\n",
      "Epoch 225/500\n",
      "2/2 [==============================] - 0s 6ms/step - loss: 16.5440 - mae: 16.5440\n",
      "Epoch 226/500\n",
      "2/2 [==============================] - 0s 6ms/step - loss: 15.6978 - mae: 15.6978\n",
      "Epoch 227/500\n",
      "2/2 [==============================] - 0s 7ms/step - loss: 16.1592 - mae: 16.1592\n",
      "Epoch 228/500\n",
      "2/2 [==============================] - 0s 7ms/step - loss: 9.3279 - mae: 9.3279\n",
      "Epoch 229/500\n",
      "2/2 [==============================] - 0s 9ms/step - loss: 17.9938 - mae: 17.9938\n",
      "Epoch 230/500\n",
      "2/2 [==============================] - 0s 7ms/step - loss: 15.5937 - mae: 15.5937\n",
      "Epoch 231/500\n",
      "2/2 [==============================] - 0s 6ms/step - loss: 21.1094 - mae: 21.1094\n",
      "Epoch 232/500\n",
      "2/2 [==============================] - 0s 7ms/step - loss: 25.5116 - mae: 25.5116\n",
      "Epoch 233/500\n",
      "2/2 [==============================] - 0s 7ms/step - loss: 16.5182 - mae: 16.5182\n",
      "Epoch 234/500\n",
      "2/2 [==============================] - 0s 11ms/step - loss: 7.3940 - mae: 7.3940\n",
      "Epoch 235/500\n",
      "2/2 [==============================] - 0s 6ms/step - loss: 17.1487 - mae: 17.1487\n",
      "Epoch 236/500\n",
      "2/2 [==============================] - 0s 8ms/step - loss: 7.2481 - mae: 7.2481\n",
      "Epoch 237/500\n",
      "2/2 [==============================] - 0s 7ms/step - loss: 9.3389 - mae: 9.3389\n",
      "Epoch 238/500\n",
      "2/2 [==============================] - 0s 6ms/step - loss: 8.2014 - mae: 8.2014\n",
      "Epoch 239/500\n",
      "2/2 [==============================] - 0s 10ms/step - loss: 17.1132 - mae: 17.1132\n",
      "Epoch 240/500\n",
      "2/2 [==============================] - 0s 7ms/step - loss: 8.9590 - mae: 8.9590\n",
      "Epoch 241/500\n",
      "2/2 [==============================] - 0s 7ms/step - loss: 12.8539 - mae: 12.8539\n",
      "Epoch 242/500\n",
      "2/2 [==============================] - 0s 8ms/step - loss: 10.9674 - mae: 10.9674\n",
      "Epoch 243/500\n",
      "2/2 [==============================] - 0s 7ms/step - loss: 17.4052 - mae: 17.4052\n",
      "Epoch 244/500\n",
      "2/2 [==============================] - 0s 10ms/step - loss: 14.5048 - mae: 14.5048\n",
      "Epoch 245/500\n",
      "2/2 [==============================] - 0s 8ms/step - loss: 15.0756 - mae: 15.0756\n",
      "Epoch 246/500\n",
      "2/2 [==============================] - 0s 7ms/step - loss: 16.1845 - mae: 16.1845\n",
      "Epoch 247/500\n",
      "2/2 [==============================] - 0s 7ms/step - loss: 18.1815 - mae: 18.1815\n",
      "Epoch 248/500\n",
      "2/2 [==============================] - 0s 6ms/step - loss: 13.7125 - mae: 13.7125\n",
      "Epoch 249/500\n",
      "2/2 [==============================] - 0s 6ms/step - loss: 14.8128 - mae: 14.8128\n",
      "Epoch 250/500\n",
      "2/2 [==============================] - 0s 7ms/step - loss: 23.7977 - mae: 23.7977\n",
      "Epoch 251/500\n",
      "2/2 [==============================] - 0s 8ms/step - loss: 13.5946 - mae: 13.5946\n",
      "Epoch 252/500\n",
      "2/2 [==============================] - 0s 7ms/step - loss: 22.5317 - mae: 22.5317\n",
      "Epoch 253/500\n",
      "2/2 [==============================] - 0s 8ms/step - loss: 9.8443 - mae: 9.8443\n",
      "Epoch 254/500\n",
      "2/2 [==============================] - 0s 7ms/step - loss: 15.8035 - mae: 15.8035\n",
      "Epoch 255/500\n",
      "2/2 [==============================] - 0s 9ms/step - loss: 13.5574 - mae: 13.5574\n",
      "Epoch 256/500\n",
      "2/2 [==============================] - 0s 6ms/step - loss: 9.9692 - mae: 9.9692\n",
      "Epoch 257/500\n",
      "2/2 [==============================] - 0s 9ms/step - loss: 14.6115 - mae: 14.6115\n",
      "Epoch 258/500\n",
      "2/2 [==============================] - 0s 7ms/step - loss: 5.3016 - mae: 5.3016\n",
      "Epoch 259/500\n",
      "2/2 [==============================] - 0s 8ms/step - loss: 16.6476 - mae: 16.6476\n",
      "Epoch 260/500\n",
      "2/2 [==============================] - 0s 8ms/step - loss: 49.5373 - mae: 49.5373\n",
      "Epoch 261/500\n",
      "2/2 [==============================] - 0s 7ms/step - loss: 22.5230 - mae: 22.5230\n",
      "Epoch 262/500\n",
      "2/2 [==============================] - 0s 7ms/step - loss: 4.7581 - mae: 4.7581\n",
      "Epoch 263/500\n",
      "2/2 [==============================] - 0s 10ms/step - loss: 9.3490 - mae: 9.3490\n",
      "Epoch 264/500\n",
      "2/2 [==============================] - 0s 6ms/step - loss: 22.8668 - mae: 22.8668\n",
      "Epoch 265/500\n",
      "2/2 [==============================] - 0s 6ms/step - loss: 10.8011 - mae: 10.8011\n",
      "Epoch 266/500\n",
      "2/2 [==============================] - 0s 6ms/step - loss: 13.2459 - mae: 13.2459\n",
      "Epoch 267/500\n",
      "2/2 [==============================] - 0s 6ms/step - loss: 11.0754 - mae: 11.0754\n",
      "Epoch 268/500\n",
      "2/2 [==============================] - 0s 5ms/step - loss: 19.0931 - mae: 19.0931\n",
      "Epoch 269/500\n",
      "2/2 [==============================] - 0s 7ms/step - loss: 40.9166 - mae: 40.9166\n",
      "Epoch 270/500\n",
      "2/2 [==============================] - 0s 7ms/step - loss: 13.0737 - mae: 13.0737\n",
      "Epoch 271/500\n",
      "2/2 [==============================] - 0s 7ms/step - loss: 14.7613 - mae: 14.7613\n",
      "Epoch 272/500\n",
      "2/2 [==============================] - 0s 8ms/step - loss: 28.4841 - mae: 28.4841\n",
      "Epoch 273/500\n",
      "2/2 [==============================] - 0s 6ms/step - loss: 7.4564 - mae: 7.4564\n",
      "Epoch 274/500\n",
      "2/2 [==============================] - 0s 6ms/step - loss: 6.4069 - mae: 6.4069\n",
      "Epoch 275/500\n",
      "2/2 [==============================] - 0s 6ms/step - loss: 37.0000 - mae: 37.0000\n",
      "Epoch 276/500\n",
      "2/2 [==============================] - 0s 7ms/step - loss: 8.3556 - mae: 8.3556\n",
      "Epoch 277/500\n",
      "2/2 [==============================] - 0s 6ms/step - loss: 27.7910 - mae: 27.7910\n",
      "Epoch 278/500\n",
      "2/2 [==============================] - 0s 6ms/step - loss: 10.6952 - mae: 10.6952\n",
      "Epoch 279/500\n",
      "2/2 [==============================] - 0s 6ms/step - loss: 16.1194 - mae: 16.1194\n",
      "Epoch 280/500\n",
      "2/2 [==============================] - 0s 6ms/step - loss: 21.2336 - mae: 21.2336\n",
      "Epoch 281/500\n",
      "2/2 [==============================] - 0s 8ms/step - loss: 23.7952 - mae: 23.7952\n",
      "Epoch 282/500\n",
      "2/2 [==============================] - 0s 7ms/step - loss: 8.3187 - mae: 8.3187\n",
      "Epoch 283/500\n",
      "2/2 [==============================] - 0s 6ms/step - loss: 8.4936 - mae: 8.4936\n",
      "Epoch 284/500\n",
      "2/2 [==============================] - 0s 6ms/step - loss: 26.5977 - mae: 26.5977\n",
      "Epoch 285/500\n",
      "2/2 [==============================] - 0s 7ms/step - loss: 14.2149 - mae: 14.2149\n",
      "Epoch 286/500\n",
      "2/2 [==============================] - 0s 7ms/step - loss: 5.3089 - mae: 5.3089\n",
      "Epoch 287/500\n",
      "2/2 [==============================] - 0s 6ms/step - loss: 20.8440 - mae: 20.8440\n",
      "Epoch 288/500\n",
      "2/2 [==============================] - 0s 9ms/step - loss: 27.5502 - mae: 27.5502\n",
      "Epoch 289/500\n",
      "2/2 [==============================] - 0s 8ms/step - loss: 10.4679 - mae: 10.4679\n",
      "Epoch 290/500\n",
      "2/2 [==============================] - 0s 7ms/step - loss: 16.3376 - mae: 16.3376\n",
      "Epoch 291/500\n",
      "2/2 [==============================] - 0s 6ms/step - loss: 16.5346 - mae: 16.5346\n",
      "Epoch 292/500\n",
      "2/2 [==============================] - 0s 6ms/step - loss: 7.4805 - mae: 7.4805\n",
      "Epoch 293/500\n",
      "2/2 [==============================] - 0s 6ms/step - loss: 16.5786 - mae: 16.5786\n",
      "Epoch 294/500\n",
      "2/2 [==============================] - 0s 7ms/step - loss: 25.3738 - mae: 25.3738\n",
      "Epoch 295/500\n",
      "2/2 [==============================] - 0s 9ms/step - loss: 14.5018 - mae: 14.5018\n",
      "Epoch 296/500\n",
      "2/2 [==============================] - 0s 6ms/step - loss: 4.7304 - mae: 4.7304\n",
      "Epoch 297/500\n",
      "2/2 [==============================] - 0s 6ms/step - loss: 6.3069 - mae: 6.3069\n",
      "Epoch 298/500\n",
      "2/2 [==============================] - 0s 6ms/step - loss: 26.6000 - mae: 26.6000\n",
      "Epoch 299/500\n",
      "2/2 [==============================] - 0s 8ms/step - loss: 7.2759 - mae: 7.2759\n",
      "Epoch 300/500\n",
      "2/2 [==============================] - 0s 6ms/step - loss: 26.7451 - mae: 26.7451\n",
      "Epoch 301/500\n",
      "2/2 [==============================] - 0s 10ms/step - loss: 11.7786 - mae: 11.7786\n",
      "Epoch 302/500\n",
      "2/2 [==============================] - 0s 6ms/step - loss: 7.9127 - mae: 7.9127\n",
      "Epoch 303/500\n",
      "2/2 [==============================] - 0s 12ms/step - loss: 19.7894 - mae: 19.7894\n",
      "Epoch 304/500\n",
      "2/2 [==============================] - 0s 7ms/step - loss: 13.6452 - mae: 13.6452\n",
      "Epoch 305/500\n",
      "2/2 [==============================] - 0s 7ms/step - loss: 7.0895 - mae: 7.0895\n",
      "Epoch 306/500\n",
      "2/2 [==============================] - 0s 7ms/step - loss: 19.1172 - mae: 19.1172\n",
      "Epoch 307/500\n",
      "2/2 [==============================] - 0s 5ms/step - loss: 9.5509 - mae: 9.5509\n",
      "Epoch 308/500\n",
      "2/2 [==============================] - 0s 6ms/step - loss: 20.0174 - mae: 20.0174\n",
      "Epoch 309/500\n",
      "2/2 [==============================] - 0s 9ms/step - loss: 14.7121 - mae: 14.7121\n",
      "Epoch 310/500\n",
      "2/2 [==============================] - 0s 7ms/step - loss: 4.3362 - mae: 4.3362\n",
      "Epoch 311/500\n",
      "2/2 [==============================] - 0s 7ms/step - loss: 10.3019 - mae: 10.3019\n",
      "Epoch 312/500\n",
      "2/2 [==============================] - 0s 7ms/step - loss: 21.2759 - mae: 21.2759\n",
      "Epoch 313/500\n",
      "2/2 [==============================] - 0s 9ms/step - loss: 14.5695 - mae: 14.5695\n",
      "Epoch 314/500\n",
      "2/2 [==============================] - 0s 9ms/step - loss: 13.1061 - mae: 13.1061\n",
      "Epoch 315/500\n",
      "2/2 [==============================] - 0s 7ms/step - loss: 22.5789 - mae: 22.5789\n",
      "Epoch 316/500\n",
      "2/2 [==============================] - 0s 7ms/step - loss: 16.3851 - mae: 16.3851\n",
      "Epoch 317/500\n",
      "2/2 [==============================] - 0s 8ms/step - loss: 20.9527 - mae: 20.9527\n",
      "Epoch 318/500\n",
      "2/2 [==============================] - 0s 7ms/step - loss: 9.3203 - mae: 9.3203\n",
      "Epoch 319/500\n",
      "2/2 [==============================] - 0s 6ms/step - loss: 11.9107 - mae: 11.9107\n",
      "Epoch 320/500\n",
      "2/2 [==============================] - 0s 8ms/step - loss: 12.5447 - mae: 12.5447\n",
      "Epoch 321/500\n",
      "2/2 [==============================] - 0s 6ms/step - loss: 4.9420 - mae: 4.9420\n",
      "Epoch 322/500\n",
      "2/2 [==============================] - 0s 6ms/step - loss: 13.5398 - mae: 13.5398\n",
      "Epoch 323/500\n",
      "2/2 [==============================] - 0s 7ms/step - loss: 17.8298 - mae: 17.8298\n",
      "Epoch 324/500\n",
      "2/2 [==============================] - 0s 6ms/step - loss: 15.9326 - mae: 15.9326\n",
      "Epoch 325/500\n",
      "2/2 [==============================] - 0s 7ms/step - loss: 17.5875 - mae: 17.5875\n",
      "Epoch 326/500\n",
      "2/2 [==============================] - 0s 8ms/step - loss: 23.9646 - mae: 23.9646\n",
      "Epoch 327/500\n",
      "2/2 [==============================] - 0s 8ms/step - loss: 10.1709 - mae: 10.1709\n",
      "Epoch 328/500\n",
      "2/2 [==============================] - 0s 6ms/step - loss: 11.8466 - mae: 11.8466\n",
      "Epoch 329/500\n",
      "2/2 [==============================] - 0s 10ms/step - loss: 16.5725 - mae: 16.5725\n",
      "Epoch 330/500\n",
      "2/2 [==============================] - 0s 6ms/step - loss: 7.2623 - mae: 7.2623\n",
      "Epoch 331/500\n",
      "2/2 [==============================] - 0s 6ms/step - loss: 22.1190 - mae: 22.1190\n",
      "Epoch 332/500\n",
      "2/2 [==============================] - 0s 6ms/step - loss: 13.0770 - mae: 13.0770\n",
      "Epoch 333/500\n",
      "2/2 [==============================] - 0s 6ms/step - loss: 9.6311 - mae: 9.6311\n",
      "Epoch 334/500\n",
      "2/2 [==============================] - 0s 6ms/step - loss: 7.7667 - mae: 7.7667\n",
      "Epoch 335/500\n",
      "2/2 [==============================] - 0s 8ms/step - loss: 6.2636 - mae: 6.2636\n",
      "Epoch 336/500\n",
      "2/2 [==============================] - 0s 7ms/step - loss: 38.5741 - mae: 38.5741\n",
      "Epoch 337/500\n",
      "2/2 [==============================] - 0s 6ms/step - loss: 29.9079 - mae: 29.9079\n",
      "Epoch 338/500\n",
      "2/2 [==============================] - 0s 7ms/step - loss: 16.3121 - mae: 16.3121\n",
      "Epoch 339/500\n",
      "2/2 [==============================] - 0s 6ms/step - loss: 9.7597 - mae: 9.7597\n",
      "Epoch 340/500\n",
      "2/2 [==============================] - 0s 6ms/step - loss: 8.6677 - mae: 8.6677\n",
      "Epoch 341/500\n",
      "2/2 [==============================] - 0s 7ms/step - loss: 21.7773 - mae: 21.7773\n",
      "Epoch 342/500\n",
      "2/2 [==============================] - 0s 10ms/step - loss: 14.0077 - mae: 14.0077\n",
      "Epoch 343/500\n",
      "2/2 [==============================] - 0s 6ms/step - loss: 11.5251 - mae: 11.5251\n",
      "Epoch 344/500\n",
      "2/2 [==============================] - 0s 7ms/step - loss: 10.6824 - mae: 10.6824\n",
      "Epoch 345/500\n",
      "2/2 [==============================] - 0s 7ms/step - loss: 30.8253 - mae: 30.8253\n",
      "Epoch 346/500\n",
      "2/2 [==============================] - 0s 5ms/step - loss: 10.0592 - mae: 10.0592\n",
      "Epoch 347/500\n",
      "2/2 [==============================] - 0s 6ms/step - loss: 25.9338 - mae: 25.9338\n",
      "Epoch 348/500\n",
      "2/2 [==============================] - 0s 6ms/step - loss: 12.2790 - mae: 12.2790\n",
      "Epoch 349/500\n",
      "2/2 [==============================] - 0s 6ms/step - loss: 12.6667 - mae: 12.6667\n",
      "Epoch 350/500\n",
      "2/2 [==============================] - 0s 6ms/step - loss: 15.2818 - mae: 15.2818\n",
      "Epoch 351/500\n",
      "2/2 [==============================] - 0s 7ms/step - loss: 32.6361 - mae: 32.6361\n",
      "Epoch 352/500\n",
      "2/2 [==============================] - 0s 6ms/step - loss: 13.6407 - mae: 13.6407\n",
      "Epoch 353/500\n",
      "2/2 [==============================] - 0s 7ms/step - loss: 17.5642 - mae: 17.5642\n",
      "Epoch 354/500\n",
      "2/2 [==============================] - 0s 7ms/step - loss: 11.2441 - mae: 11.2441\n",
      "Epoch 355/500\n",
      "2/2 [==============================] - 0s 6ms/step - loss: 26.5520 - mae: 26.5520\n",
      "Epoch 356/500\n",
      "2/2 [==============================] - 0s 6ms/step - loss: 10.8308 - mae: 10.8308\n",
      "Epoch 357/500\n",
      "2/2 [==============================] - 0s 6ms/step - loss: 13.0620 - mae: 13.0620\n",
      "Epoch 358/500\n",
      "2/2 [==============================] - 0s 6ms/step - loss: 14.4070 - mae: 14.4070\n",
      "Epoch 359/500\n",
      "2/2 [==============================] - 0s 7ms/step - loss: 12.4006 - mae: 12.4006\n",
      "Epoch 360/500\n",
      "2/2 [==============================] - 0s 7ms/step - loss: 20.4467 - mae: 20.4467\n",
      "Epoch 361/500\n",
      "2/2 [==============================] - 0s 6ms/step - loss: 10.7497 - mae: 10.7497\n",
      "Epoch 362/500\n",
      "2/2 [==============================] - 0s 6ms/step - loss: 6.8023 - mae: 6.8023\n",
      "Epoch 363/500\n",
      "2/2 [==============================] - 0s 9ms/step - loss: 23.5998 - mae: 23.5998\n",
      "Epoch 364/500\n",
      "2/2 [==============================] - 0s 10ms/step - loss: 29.2262 - mae: 29.2262\n",
      "Epoch 365/500\n",
      "2/2 [==============================] - 0s 10ms/step - loss: 8.1965 - mae: 8.1965\n",
      "Epoch 366/500\n",
      "2/2 [==============================] - 0s 8ms/step - loss: 6.1108 - mae: 6.1108\n",
      "Epoch 367/500\n",
      "2/2 [==============================] - 0s 7ms/step - loss: 34.2710 - mae: 34.2710\n",
      "Epoch 368/500\n",
      "2/2 [==============================] - 0s 7ms/step - loss: 7.2926 - mae: 7.2926\n",
      "Epoch 369/500\n",
      "2/2 [==============================] - 0s 6ms/step - loss: 8.1408 - mae: 8.1408\n",
      "Epoch 370/500\n",
      "2/2 [==============================] - 0s 8ms/step - loss: 17.8823 - mae: 17.8823\n",
      "Epoch 371/500\n",
      "2/2 [==============================] - 0s 7ms/step - loss: 7.0041 - mae: 7.0041\n",
      "Epoch 372/500\n",
      "2/2 [==============================] - 0s 8ms/step - loss: 6.6178 - mae: 6.6178\n",
      "Epoch 373/500\n",
      "2/2 [==============================] - 0s 7ms/step - loss: 24.6240 - mae: 24.6240\n",
      "Epoch 374/500\n",
      "2/2 [==============================] - 0s 7ms/step - loss: 9.7823 - mae: 9.7823\n",
      "Epoch 375/500\n",
      "2/2 [==============================] - 0s 7ms/step - loss: 13.1144 - mae: 13.1144\n",
      "Epoch 376/500\n",
      "2/2 [==============================] - 0s 8ms/step - loss: 15.0011 - mae: 15.0011\n",
      "Epoch 377/500\n",
      "2/2 [==============================] - 0s 8ms/step - loss: 14.8824 - mae: 14.8824\n",
      "Epoch 378/500\n",
      "2/2 [==============================] - 0s 7ms/step - loss: 16.3408 - mae: 16.3408\n",
      "Epoch 379/500\n",
      "2/2 [==============================] - 0s 7ms/step - loss: 20.9826 - mae: 20.9826\n",
      "Epoch 380/500\n",
      "2/2 [==============================] - 0s 6ms/step - loss: 33.1066 - mae: 33.1066\n",
      "Epoch 381/500\n",
      "2/2 [==============================] - 0s 7ms/step - loss: 8.1105 - mae: 8.1105\n",
      "Epoch 382/500\n",
      "2/2 [==============================] - 0s 6ms/step - loss: 12.6900 - mae: 12.6900\n",
      "Epoch 383/500\n",
      "2/2 [==============================] - 0s 8ms/step - loss: 7.1392 - mae: 7.1392\n",
      "Epoch 384/500\n",
      "2/2 [==============================] - 0s 8ms/step - loss: 6.5677 - mae: 6.5677\n",
      "Epoch 385/500\n",
      "2/2 [==============================] - 0s 16ms/step - loss: 11.5640 - mae: 11.5640\n",
      "Epoch 386/500\n",
      "2/2 [==============================] - 0s 7ms/step - loss: 19.8331 - mae: 19.8331\n",
      "Epoch 387/500\n",
      "2/2 [==============================] - 0s 6ms/step - loss: 24.7108 - mae: 24.7108\n",
      "Epoch 388/500\n",
      "2/2 [==============================] - 0s 8ms/step - loss: 8.6776 - mae: 8.6776\n",
      "Epoch 389/500\n",
      "2/2 [==============================] - 0s 7ms/step - loss: 5.9285 - mae: 5.9285\n",
      "Epoch 390/500\n",
      "2/2 [==============================] - 0s 7ms/step - loss: 24.2852 - mae: 24.2852\n",
      "Epoch 391/500\n",
      "2/2 [==============================] - 0s 7ms/step - loss: 5.9497 - mae: 5.9497\n",
      "Epoch 392/500\n",
      "2/2 [==============================] - 0s 8ms/step - loss: 16.0639 - mae: 16.0639\n",
      "Epoch 393/500\n",
      "2/2 [==============================] - 0s 6ms/step - loss: 6.4669 - mae: 6.4669\n",
      "Epoch 394/500\n",
      "2/2 [==============================] - 0s 8ms/step - loss: 12.5119 - mae: 12.5119\n",
      "Epoch 395/500\n",
      "2/2 [==============================] - 0s 6ms/step - loss: 12.3841 - mae: 12.3841\n",
      "Epoch 396/500\n",
      "2/2 [==============================] - 0s 8ms/step - loss: 7.3260 - mae: 7.3260\n",
      "Epoch 397/500\n",
      "2/2 [==============================] - 0s 7ms/step - loss: 7.5863 - mae: 7.5863\n",
      "Epoch 398/500\n",
      "2/2 [==============================] - 0s 8ms/step - loss: 20.3177 - mae: 20.3177\n",
      "Epoch 399/500\n",
      "2/2 [==============================] - 0s 8ms/step - loss: 5.8944 - mae: 5.8944\n",
      "Epoch 400/500\n",
      "2/2 [==============================] - 0s 8ms/step - loss: 24.6210 - mae: 24.6210\n",
      "Epoch 401/500\n",
      "2/2 [==============================] - 0s 8ms/step - loss: 13.1689 - mae: 13.1689\n",
      "Epoch 402/500\n",
      "2/2 [==============================] - 0s 7ms/step - loss: 8.3455 - mae: 8.3455\n",
      "Epoch 403/500\n",
      "2/2 [==============================] - 0s 5ms/step - loss: 9.8662 - mae: 9.8662\n",
      "Epoch 404/500\n",
      "2/2 [==============================] - 0s 6ms/step - loss: 12.6242 - mae: 12.6242\n",
      "Epoch 405/500\n",
      "2/2 [==============================] - 0s 6ms/step - loss: 8.7462 - mae: 8.7462\n",
      "Epoch 406/500\n",
      "2/2 [==============================] - 0s 7ms/step - loss: 21.5966 - mae: 21.5966\n",
      "Epoch 407/500\n",
      "2/2 [==============================] - 0s 6ms/step - loss: 20.4472 - mae: 20.4472\n",
      "Epoch 408/500\n",
      "2/2 [==============================] - 0s 6ms/step - loss: 10.6890 - mae: 10.6890\n",
      "Epoch 409/500\n",
      "2/2 [==============================] - 0s 6ms/step - loss: 6.2281 - mae: 6.2281\n",
      "Epoch 410/500\n",
      "2/2 [==============================] - 0s 7ms/step - loss: 10.4033 - mae: 10.4033\n",
      "Epoch 411/500\n",
      "2/2 [==============================] - 0s 7ms/step - loss: 11.8052 - mae: 11.8052\n",
      "Epoch 412/500\n",
      "2/2 [==============================] - 0s 7ms/step - loss: 18.6070 - mae: 18.6070\n",
      "Epoch 413/500\n",
      "2/2 [==============================] - 0s 7ms/step - loss: 15.0566 - mae: 15.0566\n",
      "Epoch 414/500\n",
      "2/2 [==============================] - 0s 7ms/step - loss: 21.9717 - mae: 21.9717\n",
      "Epoch 415/500\n",
      "2/2 [==============================] - 0s 8ms/step - loss: 13.0857 - mae: 13.0857\n",
      "Epoch 416/500\n",
      "2/2 [==============================] - 0s 7ms/step - loss: 11.5152 - mae: 11.5152\n",
      "Epoch 417/500\n",
      "2/2 [==============================] - 0s 6ms/step - loss: 5.6494 - mae: 5.6494\n",
      "Epoch 418/500\n",
      "2/2 [==============================] - 0s 7ms/step - loss: 11.7398 - mae: 11.7398\n",
      "Epoch 419/500\n",
      "2/2 [==============================] - 0s 8ms/step - loss: 11.6017 - mae: 11.6017\n",
      "Epoch 420/500\n",
      "2/2 [==============================] - 0s 8ms/step - loss: 24.2051 - mae: 24.2051\n",
      "Epoch 421/500\n",
      "2/2 [==============================] - 0s 7ms/step - loss: 18.9296 - mae: 18.9296\n",
      "Epoch 422/500\n",
      "2/2 [==============================] - 0s 8ms/step - loss: 6.8554 - mae: 6.8554\n",
      "Epoch 423/500\n",
      "2/2 [==============================] - 0s 6ms/step - loss: 26.2758 - mae: 26.2758\n",
      "Epoch 424/500\n",
      "2/2 [==============================] - 0s 7ms/step - loss: 13.1332 - mae: 13.1332\n",
      "Epoch 425/500\n",
      "2/2 [==============================] - 0s 9ms/step - loss: 6.9256 - mae: 6.9256\n",
      "Epoch 426/500\n",
      "2/2 [==============================] - 0s 9ms/step - loss: 19.6115 - mae: 19.6115\n",
      "Epoch 427/500\n",
      "2/2 [==============================] - 0s 8ms/step - loss: 6.0867 - mae: 6.0867\n",
      "Epoch 428/500\n",
      "2/2 [==============================] - 0s 7ms/step - loss: 12.3218 - mae: 12.3218\n",
      "Epoch 429/500\n",
      "2/2 [==============================] - 0s 8ms/step - loss: 11.7672 - mae: 11.7672\n",
      "Epoch 430/500\n",
      "2/2 [==============================] - 0s 9ms/step - loss: 10.5009 - mae: 10.5009\n",
      "Epoch 431/500\n",
      "2/2 [==============================] - 0s 8ms/step - loss: 12.0592 - mae: 12.0592\n",
      "Epoch 432/500\n",
      "2/2 [==============================] - 0s 7ms/step - loss: 7.5725 - mae: 7.5725\n",
      "Epoch 433/500\n",
      "2/2 [==============================] - 0s 7ms/step - loss: 14.8527 - mae: 14.8527\n",
      "Epoch 434/500\n",
      "2/2 [==============================] - 0s 8ms/step - loss: 17.9764 - mae: 17.9764\n",
      "Epoch 435/500\n",
      "2/2 [==============================] - 0s 7ms/step - loss: 9.6873 - mae: 9.6873\n",
      "Epoch 436/500\n",
      "2/2 [==============================] - 0s 7ms/step - loss: 29.1027 - mae: 29.1027\n",
      "Epoch 437/500\n",
      "2/2 [==============================] - 0s 7ms/step - loss: 9.2409 - mae: 9.2409\n",
      "Epoch 438/500\n",
      "2/2 [==============================] - 0s 7ms/step - loss: 12.6762 - mae: 12.6762\n",
      "Epoch 439/500\n",
      "2/2 [==============================] - 0s 6ms/step - loss: 33.5410 - mae: 33.5410\n",
      "Epoch 440/500\n",
      "2/2 [==============================] - 0s 8ms/step - loss: 14.8855 - mae: 14.8855\n",
      "Epoch 441/500\n",
      "2/2 [==============================] - 0s 8ms/step - loss: 17.3215 - mae: 17.3215\n",
      "Epoch 442/500\n",
      "2/2 [==============================] - 0s 11ms/step - loss: 21.9825 - mae: 21.9825\n",
      "Epoch 443/500\n",
      "2/2 [==============================] - 0s 8ms/step - loss: 24.3491 - mae: 24.3491\n",
      "Epoch 444/500\n",
      "2/2 [==============================] - 0s 7ms/step - loss: 11.6069 - mae: 11.6069\n",
      "Epoch 445/500\n",
      "2/2 [==============================] - 0s 6ms/step - loss: 14.7220 - mae: 14.7220\n",
      "Epoch 446/500\n",
      "2/2 [==============================] - 0s 8ms/step - loss: 17.7151 - mae: 17.7151\n",
      "Epoch 447/500\n",
      "2/2 [==============================] - 0s 6ms/step - loss: 5.7008 - mae: 5.7008\n",
      "Epoch 448/500\n",
      "2/2 [==============================] - 0s 8ms/step - loss: 9.4533 - mae: 9.4533\n",
      "Epoch 449/500\n",
      "2/2 [==============================] - 0s 7ms/step - loss: 14.1276 - mae: 14.1276\n",
      "Epoch 450/500\n",
      "2/2 [==============================] - 0s 6ms/step - loss: 16.8901 - mae: 16.8901\n",
      "Epoch 451/500\n",
      "2/2 [==============================] - 0s 7ms/step - loss: 14.3294 - mae: 14.3294\n",
      "Epoch 452/500\n",
      "2/2 [==============================] - 0s 7ms/step - loss: 30.7267 - mae: 30.7267\n",
      "Epoch 453/500\n",
      "2/2 [==============================] - 0s 7ms/step - loss: 8.3852 - mae: 8.3852\n",
      "Epoch 454/500\n",
      "2/2 [==============================] - 0s 9ms/step - loss: 27.6293 - mae: 27.6293\n",
      "Epoch 455/500\n",
      "2/2 [==============================] - 0s 7ms/step - loss: 9.9786 - mae: 9.9786\n",
      "Epoch 456/500\n",
      "2/2 [==============================] - 0s 9ms/step - loss: 14.5617 - mae: 14.5617\n",
      "Epoch 457/500\n",
      "2/2 [==============================] - 0s 6ms/step - loss: 17.7164 - mae: 17.7164\n",
      "Epoch 458/500\n",
      "2/2 [==============================] - 0s 5ms/step - loss: 14.0093 - mae: 14.0093\n",
      "Epoch 459/500\n",
      "2/2 [==============================] - 0s 6ms/step - loss: 25.9185 - mae: 25.9185\n",
      "Epoch 460/500\n",
      "2/2 [==============================] - 0s 6ms/step - loss: 15.0039 - mae: 15.0039\n",
      "Epoch 461/500\n",
      "2/2 [==============================] - 0s 6ms/step - loss: 11.9214 - mae: 11.9214\n",
      "Epoch 462/500\n",
      "2/2 [==============================] - 0s 7ms/step - loss: 13.2708 - mae: 13.2708\n",
      "Epoch 463/500\n",
      "2/2 [==============================] - 0s 7ms/step - loss: 29.4639 - mae: 29.4639\n",
      "Epoch 464/500\n",
      "2/2 [==============================] - 0s 6ms/step - loss: 3.1766 - mae: 3.1766\n",
      "Epoch 465/500\n",
      "2/2 [==============================] - 0s 7ms/step - loss: 7.5742 - mae: 7.5742\n",
      "Epoch 466/500\n",
      "2/2 [==============================] - 0s 8ms/step - loss: 16.4953 - mae: 16.4953\n",
      "Epoch 467/500\n",
      "2/2 [==============================] - 0s 6ms/step - loss: 17.4585 - mae: 17.4585\n",
      "Epoch 468/500\n",
      "2/2 [==============================] - 0s 7ms/step - loss: 12.9087 - mae: 12.9087\n",
      "Epoch 469/500\n",
      "2/2 [==============================] - 0s 6ms/step - loss: 29.1938 - mae: 29.1938\n",
      "Epoch 470/500\n",
      "2/2 [==============================] - 0s 8ms/step - loss: 7.2343 - mae: 7.2343\n",
      "Epoch 471/500\n",
      "2/2 [==============================] - 0s 7ms/step - loss: 26.4051 - mae: 26.4051\n",
      "Epoch 472/500\n",
      "2/2 [==============================] - 0s 7ms/step - loss: 12.4039 - mae: 12.4039\n",
      "Epoch 473/500\n",
      "2/2 [==============================] - 0s 5ms/step - loss: 14.7487 - mae: 14.7487\n",
      "Epoch 474/500\n",
      "2/2 [==============================] - 0s 6ms/step - loss: 18.6794 - mae: 18.6794\n",
      "Epoch 475/500\n",
      "2/2 [==============================] - 0s 6ms/step - loss: 12.2773 - mae: 12.2773\n",
      "Epoch 476/500\n",
      "2/2 [==============================] - 0s 7ms/step - loss: 13.7001 - mae: 13.7001\n",
      "Epoch 477/500\n",
      "2/2 [==============================] - 0s 8ms/step - loss: 30.3389 - mae: 30.3389\n",
      "Epoch 478/500\n",
      "2/2 [==============================] - 0s 6ms/step - loss: 7.4156 - mae: 7.4156\n",
      "Epoch 479/500\n",
      "2/2 [==============================] - 0s 7ms/step - loss: 11.2806 - mae: 11.2806\n",
      "Epoch 480/500\n",
      "2/2 [==============================] - 0s 8ms/step - loss: 17.9490 - mae: 17.9490\n",
      "Epoch 481/500\n",
      "2/2 [==============================] - 0s 8ms/step - loss: 15.8384 - mae: 15.8384\n",
      "Epoch 482/500\n",
      "2/2 [==============================] - 0s 8ms/step - loss: 21.3889 - mae: 21.3889\n",
      "Epoch 483/500\n",
      "2/2 [==============================] - 0s 6ms/step - loss: 25.2147 - mae: 25.2147\n",
      "Epoch 484/500\n",
      "2/2 [==============================] - 0s 9ms/step - loss: 23.7726 - mae: 23.7726\n",
      "Epoch 485/500\n",
      "2/2 [==============================] - 0s 7ms/step - loss: 5.6817 - mae: 5.6817\n",
      "Epoch 486/500\n",
      "2/2 [==============================] - 0s 8ms/step - loss: 19.8339 - mae: 19.8339\n",
      "Epoch 487/500\n",
      "2/2 [==============================] - 0s 8ms/step - loss: 14.0520 - mae: 14.0520\n",
      "Epoch 488/500\n",
      "2/2 [==============================] - 0s 6ms/step - loss: 30.6402 - mae: 30.6402\n",
      "Epoch 489/500\n",
      "2/2 [==============================] - 0s 7ms/step - loss: 11.9746 - mae: 11.9746\n",
      "Epoch 490/500\n",
      "2/2 [==============================] - 0s 7ms/step - loss: 12.7477 - mae: 12.7477\n",
      "Epoch 491/500\n",
      "2/2 [==============================] - 0s 9ms/step - loss: 23.6533 - mae: 23.6533\n",
      "Epoch 492/500\n",
      "2/2 [==============================] - 0s 9ms/step - loss: 20.4401 - mae: 20.4401\n",
      "Epoch 493/500\n",
      "2/2 [==============================] - 0s 7ms/step - loss: 4.9163 - mae: 4.9163\n",
      "Epoch 494/500\n",
      "2/2 [==============================] - 0s 7ms/step - loss: 12.7121 - mae: 12.7121\n",
      "Epoch 495/500\n",
      "2/2 [==============================] - 0s 16ms/step - loss: 13.3895 - mae: 13.3895\n",
      "Epoch 496/500\n",
      "2/2 [==============================] - 0s 11ms/step - loss: 12.6791 - mae: 12.6791\n",
      "Epoch 497/500\n",
      "2/2 [==============================] - 0s 9ms/step - loss: 17.6234 - mae: 17.6234\n",
      "Epoch 498/500\n",
      "2/2 [==============================] - 0s 8ms/step - loss: 23.5283 - mae: 23.5283\n",
      "Epoch 499/500\n",
      "2/2 [==============================] - 0s 7ms/step - loss: 9.3482 - mae: 9.3482\n",
      "Epoch 500/500\n",
      "2/2 [==============================] - 0s 16ms/step - loss: 14.6148 - mae: 14.6148\n"
     ]
    },
    {
     "data": {
      "text/plain": [
       "<keras.callbacks.History at 0x22962723550>"
      ]
     },
     "execution_count": 59,
     "metadata": {},
     "output_type": "execute_result"
    }
   ],
   "execution_count": 59
  },
  {
   "cell_type": "code",
   "source": [
    "# Make and plot some predictions\n",
    "y_preds_3 = model_3.predict(X_test)\n",
    "plot_predictions(predictions=y_preds_3)"
   ],
   "metadata": {
    "colab": {
     "base_uri": "https://localhost:8080/",
     "height": 617
    },
    "id": "14874d471dd92dec",
    "executionInfo": {
     "status": "ok",
     "timestamp": 1696076861937,
     "user_tz": -420,
     "elapsed": 671,
     "user": {
      "displayName": "kang sigit",
      "userId": "15887135570512197739"
     }
    },
    "outputId": "fe1fd6e7-d487-4987-f7e0-fa91d67da44a",
    "ExecuteTime": {
     "end_time": "2025-01-28T11:08:04.109872Z",
     "start_time": "2025-01-28T11:08:03.895828Z"
    }
   },
   "id": "14874d471dd92dec",
   "outputs": [
    {
     "name": "stdout",
     "output_type": "stream",
     "text": [
      "1/1 [==============================] - 0s 33ms/step\n"
     ]
    },
    {
     "data": {
      "text/plain": [
       "<Figure size 1000x700 with 1 Axes>"
      ],
      "image/png": "[encoded data removed]"
     },
     "metadata": {},
     "output_type": "display_data"
    }
   ],
   "execution_count": 60
  },
  {
   "cell_type": "code",
   "source": [
    "# Calculate model_3 evaluation metrics\n",
    "mae_3 = mae(y_test, y_preds_3)\n",
    "mse_3 = mse(y_test, y_preds_3)\n",
    "mae_3, mse_3"
   ],
   "metadata": {
    "colab": {
     "base_uri": "https://localhost:8080/"
    },
    "id": "a1bdb91d97ceeb7a",
    "executionInfo": {
     "status": "ok",
     "timestamp": 1696076867643,
     "user_tz": -420,
     "elapsed": 922,
     "user": {
      "displayName": "kang sigit",
      "userId": "15887135570512197739"
     }
    },
    "outputId": "0ab21741-9a25-46ca-c673-b847793ba5dd",
    "ExecuteTime": {
     "end_time": "2025-01-28T11:08:07.112689Z",
     "start_time": "2025-01-28T11:08:07.100691Z"
    }
   },
   "id": "a1bdb91d97ceeb7a",
   "outputs": [
    {
     "data": {
      "text/plain": [
       "(<tf.Tensor: shape=(), dtype=float32, numpy=68.63775>,\n",
       " <tf.Tensor: shape=(), dtype=float32, numpy=4797.5757>)"
      ]
     },
     "execution_count": 61,
     "metadata": {},
     "output_type": "execute_result"
    }
   ],
   "execution_count": 61
  },
  {
   "cell_type": "markdown",
   "source": [
    "🔑 **Note:** You want to start with small experiments (small models) and make sure they work and than increase their scale when necessary."
   ],
   "metadata": {
    "collapsed": false,
    "id": "13cc26732f4ee288"
   },
   "id": "13cc26732f4ee288"
  },
  {
   "cell_type": "markdown",
   "source": [
    "## Comparing the results of our experiments\n",
    "\n",
    "We've run a few experiments, let's compare the results."
   ],
   "metadata": {
    "collapsed": false,
    "id": "f99513fbb95360d4"
   },
   "id": "f99513fbb95360d4"
  },
  {
   "cell_type": "code",
   "source": [
    "# Let's compare our model's results using a pandas DataFrame\n",
    "import pandas as pd\n",
    "\n",
    "model_results = [[\"model_1\", mae_1.numpy(), mse_1.numpy()],\n",
    "                 [\"model_2\", mae_2.numpy(), mse_2.numpy()],\n",
    "                 [\"model_3\", mae_3.numpy(), mse_3.numpy()]]\n",
    "\n",
    "all_results = pd.DataFrame(model_results, columns=[\"model\", \"mae\", \"mse\"])\n",
    "all_results"
   ],
   "metadata": {
    "colab": {
     "base_uri": "https://localhost:8080/",
     "height": 143
    },
    "id": "307fb19b0e82e4c6",
    "executionInfo": {
     "status": "ok",
     "timestamp": 1696076870784,
     "user_tz": -420,
     "elapsed": 14,
     "user": {
      "displayName": "kang sigit",
      "userId": "15887135570512197739"
     }
    },
    "outputId": "e0578fbd-8dd6-4813-e17d-b81d15efcd8d",
    "ExecuteTime": {
     "end_time": "2025-01-28T11:08:09.751969Z",
     "start_time": "2025-01-28T11:08:09.743965Z"
    }
   },
   "id": "307fb19b0e82e4c6",
   "outputs": [
    {
     "data": {
      "text/plain": [
       "     model        mae          mse\n",
       "0  model_1  18.657091   350.248077\n",
       "1  model_2   2.924868    11.274459\n",
       "2  model_3  68.637749  4797.575684"
      ],
      "text/html": [
       "<div>\n",
       "<style scoped>\n",
       "    .dataframe tbody tr th:only-of-type {\n",
       "        vertical-align: middle;\n",
       "    }\n",
       "\n",
       "    .dataframe tbody tr th {\n",
       "        vertical-align: top;\n",
       "    }\n",
       "\n",
       "    .dataframe thead th {\n",
       "        text-align: right;\n",
       "    }\n",
       "</style>\n",
       "<table border=\"1\" class=\"dataframe\">\n",
       "  <thead>\n",
       "    <tr style=\"text-align: right;\">\n",
       "      <th></th>\n",
       "      <th>model</th>\n",
       "      <th>mae</th>\n",
       "      <th>mse</th>\n",
       "    </tr>\n",
       "  </thead>\n",
       "  <tbody>\n",
       "    <tr>\n",
       "      <th>0</th>\n",
       "      <td>model_1</td>\n",
       "      <td>18.657091</td>\n",
       "      <td>350.248077</td>\n",
       "    </tr>\n",
       "    <tr>\n",
       "      <th>1</th>\n",
       "      <td>model_2</td>\n",
       "      <td>2.924868</td>\n",
       "      <td>11.274459</td>\n",
       "    </tr>\n",
       "    <tr>\n",
       "      <th>2</th>\n",
       "      <td>model_3</td>\n",
       "      <td>68.637749</td>\n",
       "      <td>4797.575684</td>\n",
       "    </tr>\n",
       "  </tbody>\n",
       "</table>\n",
       "</div>"
      ]
     },
     "execution_count": 62,
     "metadata": {},
     "output_type": "execute_result"
    }
   ],
   "execution_count": 62
  },
  {
   "cell_type": "code",
   "execution_count": 68,
   "outputs": [],
   "source": [
    "### Look like `model_2` performed best (maybe)"
   ],
   "metadata": {
    "id": "5b36e1e7958a0c73",
    "executionInfo": {
     "status": "ok",
     "timestamp": 1696076877317,
     "user_tz": -420,
     "elapsed": 560,
     "user": {
      "displayName": "kang sigit",
      "userId": "15887135570512197739"
     }
    },
    "ExecuteTime": {
     "end_time": "2024-01-08T06:40:58.660754511Z",
     "start_time": "2024-01-08T06:40:58.605959193Z"
    }
   },
   "id": "5b36e1e7958a0c73"
  },
  {
   "cell_type": "code",
   "source": [
    "model_2.summary()"
   ],
   "metadata": {
    "colab": {
     "base_uri": "https://localhost:8080/"
    },
    "id": "217c2eae7aa9fffc",
    "executionInfo": {
     "status": "ok",
     "timestamp": 1696076880554,
     "user_tz": -420,
     "elapsed": 824,
     "user": {
      "displayName": "kang sigit",
      "userId": "15887135570512197739"
     }
    },
    "outputId": "ce1b5ae7-6598-4afc-8dda-63d17f521d3a",
    "ExecuteTime": {
     "end_time": "2025-01-28T11:08:21.181201Z",
     "start_time": "2025-01-28T11:08:21.169194Z"
    }
   },
   "id": "217c2eae7aa9fffc",
   "outputs": [
    {
     "name": "stdout",
     "output_type": "stream",
     "text": [
      "Model: \"sequential_5\"\n",
      "_________________________________________________________________\n",
      " Layer (type)                Output Shape              Param #   \n",
      "=================================================================\n",
      " dense_6 (Dense)             (None, 10)                20        \n",
      "                                                                 \n",
      " dense_7 (Dense)             (None, 1)                 11        \n",
      "                                                                 \n",
      "=================================================================\n",
      "Total params: 31\n",
      "Trainable params: 31\n",
      "Non-trainable params: 0\n",
      "_________________________________________________________________\n"
     ]
    }
   ],
   "execution_count": 63
  },
  {
   "cell_type": "markdown",
   "source": [
    ":key **Note:** One of your main goals should be to minimize the time between your experiments. The more experiments you do, the more things you'll figure out which don't work and in turn, get closer to figuring out what does work.Remember the machine learning practioner's motto: \"experiment, experiment, experiment\"."
   ],
   "metadata": {
    "collapsed": false,
    "id": "4a1705a03c1bbb72"
   },
   "id": "4a1705a03c1bbb72"
  },
  {
   "cell_type": "markdown",
   "source": [
    "## Tracking your experiments\n",
    "\n",
    "One really good habit in machine learning modelling is to track the results of your experiments.\n",
    "\n",
    "And when doing so, it can be tedious if you're running lots of experiments.\n",
    "\n",
    "Luckily, there are tools to help us!\n",
    "\n",
    "📖 **Resource:** As you build more models, you'll want to look into using:\n",
    "\n",
    "* TensorBoard - a component of the TensorFlow library to help track modelling experiments (we'll see this one later).\n",
    "* Weights & Biases - a tool for tracking all of kinds of machine learning experiments (plugs straight into TensorBoard)."
   ],
   "metadata": {
    "collapsed": false,
    "id": "17f54b7f126aa329"
   },
   "id": "17f54b7f126aa329"
  },
  {
   "cell_type": "markdown",
   "source": [
    "## Saving our models\n",
    "\n",
    "Saving your models allows us to use them outside of Google Colab (or wherever they were trained) such as in a web application or a mobile app.\n",
    "\n",
    "There are two main formats we can save or model's too:\n",
    "1. The SaveModel Format\n",
    "2. The HDF5 format"
   ],
   "metadata": {
    "collapsed": false,
    "id": "3b39adadf7ace07"
   },
   "id": "3b39adadf7ace07"
  },
  {
   "cell_type": "code",
   "source": [
    "# Save model using the SaveModel format\n",
    "model_2.save(\"best_model_SavedModel_format\")"
   ],
   "metadata": {
    "id": "f756e5f68dbdd72",
    "executionInfo": {
     "status": "aborted",
     "timestamp": 1696076709017,
     "user_tz": -420,
     "elapsed": 12,
     "user": {
      "displayName": "kang sigit",
      "userId": "15887135570512197739"
     }
    },
    "ExecuteTime": {
     "end_time": "2025-01-28T11:08:26.393583Z",
     "start_time": "2025-01-28T11:08:26.102535Z"
    }
   },
   "id": "f756e5f68dbdd72",
   "outputs": [
    {
     "name": "stdout",
     "output_type": "stream",
     "text": [
      "INFO:tensorflow:Assets written to: best_model_SavedModel_format\\assets\n"
     ]
    }
   ],
   "execution_count": 64
  },
  {
   "cell_type": "code",
   "source": [
    "# Save model using the HDF5 format\n",
    "model_2.save(\"best_model_HDF5_format.h5\")"
   ],
   "metadata": {
    "collapsed": false,
    "ExecuteTime": {
     "end_time": "2025-01-28T11:08:27.857050Z",
     "start_time": "2025-01-28T11:08:27.830591Z"
    }
   },
   "id": "3d3318e412be8e5e",
   "outputs": [],
   "execution_count": 65
  },
  {
   "cell_type": "markdown",
   "source": [
    "## Loading in saved model"
   ],
   "metadata": {
    "collapsed": false
   },
   "id": "61263de06c24ec02"
  },
  {
   "cell_type": "code",
   "source": [
    "loaded_SavedModel_format = tf.keras.models.load_model(\"best_model_SavedModel_format\")\n",
    "loaded_SavedModel_format.summary()"
   ],
   "metadata": {
    "collapsed": false,
    "ExecuteTime": {
     "end_time": "2025-01-28T11:08:30.484177Z",
     "start_time": "2025-01-28T11:08:30.364901Z"
    }
   },
   "id": "972570d455c0ea7b",
   "outputs": [
    {
     "name": "stdout",
     "output_type": "stream",
     "text": [
      "Model: \"sequential_5\"\n",
      "_________________________________________________________________\n",
      " Layer (type)                Output Shape              Param #   \n",
      "=================================================================\n",
      " dense_6 (Dense)             (None, 10)                20        \n",
      "                                                                 \n",
      " dense_7 (Dense)             (None, 1)                 11        \n",
      "                                                                 \n",
      "=================================================================\n",
      "Total params: 31\n",
      "Trainable params: 31\n",
      "Non-trainable params: 0\n",
      "_________________________________________________________________\n"
     ]
    }
   ],
   "execution_count": 66
  },
  {
   "cell_type": "code",
   "source": [
    "# Compare model_2 predictions with SavedModel format model predictions\n",
    "model_2_preds = model_2.predict(X_test)\n",
    "loaded_SavedModel_format_preds = loaded_SavedModel_format.predict(X_test);\n",
    "model_2_preds == loaded_SavedModel_format_preds"
   ],
   "metadata": {
    "collapsed": false,
    "ExecuteTime": {
     "end_time": "2025-01-28T11:08:33.529519Z",
     "start_time": "2025-01-28T11:08:33.249369Z"
    }
   },
   "id": "d9bf6d501126be3a",
   "outputs": [
    {
     "name": "stdout",
     "output_type": "stream",
     "text": [
      "1/1 [==============================] - 0s 70ms/step\n",
      "1/1 [==============================] - 0s 65ms/step\n"
     ]
    },
    {
     "data": {
      "text/plain": [
       "array([[ True],\n",
       "       [ True],\n",
       "       [ True],\n",
       "       [ True],\n",
       "       [ True],\n",
       "       [ True],\n",
       "       [ True],\n",
       "       [ True],\n",
       "       [ True],\n",
       "       [ True]])"
      ]
     },
     "execution_count": 67,
     "metadata": {},
     "output_type": "execute_result"
    }
   ],
   "execution_count": 67
  },
  {
   "cell_type": "code",
   "source": [
    "# Compare the MAE of model_2 preds and loaded_SavedModel_preds\n",
    "mae(y_true=y_test, y_pred=model_2_preds) == mae(y_true=y_test, y_pred=loaded_SavedModel_format_preds)"
   ],
   "metadata": {
    "collapsed": false,
    "ExecuteTime": {
     "end_time": "2025-01-28T11:08:36.458727Z",
     "start_time": "2025-01-28T11:08:36.436619Z"
    }
   },
   "id": "2a2862a719eb26ad",
   "outputs": [
    {
     "data": {
      "text/plain": [
       "<tf.Tensor: shape=(), dtype=bool, numpy=True>"
      ]
     },
     "execution_count": 68,
     "metadata": {},
     "output_type": "execute_result"
    }
   ],
   "execution_count": 68
  },
  {
   "cell_type": "code",
   "source": [
    "# Load in model using the .h5 format\n",
    "loaded_h5_model = tf.keras.models.load_model(\"best_model_HDF5_format.h5\")\n",
    "loaded_h5_model.summary()"
   ],
   "metadata": {
    "collapsed": false,
    "ExecuteTime": {
     "end_time": "2025-01-28T11:08:37.691602Z",
     "start_time": "2025-01-28T11:08:37.590608Z"
    }
   },
   "id": "abf2e5db4f1e317d",
   "outputs": [
    {
     "name": "stdout",
     "output_type": "stream",
     "text": [
      "Model: \"sequential_5\"\n",
      "_________________________________________________________________\n",
      " Layer (type)                Output Shape              Param #   \n",
      "=================================================================\n",
      " dense_6 (Dense)             (None, 10)                20        \n",
      "                                                                 \n",
      " dense_7 (Dense)             (None, 1)                 11        \n",
      "                                                                 \n",
      "=================================================================\n",
      "Total params: 31\n",
      "Trainable params: 31\n",
      "Non-trainable params: 0\n",
      "_________________________________________________________________\n"
     ]
    }
   ],
   "execution_count": 69
  },
  {
   "cell_type": "code",
   "source": [
    "# Check to see if loaded .h5 model predictions match model_2\n",
    "model_2_preds = model_2.predict(X_test)\n",
    "loaded_h5_model_preds = loaded_h5_model.predict(X_test)\n",
    "model_2_preds == loaded_h5_model_preds"
   ],
   "metadata": {
    "collapsed": false,
    "ExecuteTime": {
     "end_time": "2025-01-28T11:08:40.572781Z",
     "start_time": "2025-01-28T11:08:40.372927Z"
    }
   },
   "id": "8dfd4812a43168e0",
   "outputs": [
    {
     "name": "stdout",
     "output_type": "stream",
     "text": [
      "1/1 [==============================] - 0s 25ms/step\n",
      "1/1 [==============================] - 0s 44ms/step\n"
     ]
    },
    {
     "data": {
      "text/plain": [
       "array([[ True],\n",
       "       [ True],\n",
       "       [ True],\n",
       "       [ True],\n",
       "       [ True],\n",
       "       [ True],\n",
       "       [ True],\n",
       "       [ True],\n",
       "       [ True],\n",
       "       [ True]])"
      ]
     },
     "execution_count": 70,
     "metadata": {},
     "output_type": "execute_result"
    }
   ],
   "execution_count": 70
  },
  {
   "cell_type": "markdown",
   "source": [
    "## A larger Example"
   ],
   "metadata": {
    "collapsed": false
   },
   "id": "d4f8c8045cd632c9"
  },
  {
   "cell_type": "code",
   "source": [
    "X_train, y_train"
   ],
   "metadata": {
    "collapsed": false,
    "ExecuteTime": {
     "end_time": "2025-01-28T11:08:43.252409Z",
     "start_time": "2025-01-28T11:08:43.242440Z"
    }
   },
   "id": "609978110d94b6ae",
   "outputs": [
    {
     "data": {
      "text/plain": [
       "(<tf.Tensor: shape=(40,), dtype=int32, numpy=\n",
       " array([-100,  -96,  -92,  -88,  -84,  -80,  -76,  -72,  -68,  -64,  -60,\n",
       "         -56,  -52,  -48,  -44,  -40,  -36,  -32,  -28,  -24,  -20,  -16,\n",
       "         -12,   -8,   -4,    0,    4,    8,   12,   16,   20,   24,   28,\n",
       "          32,   36,   40,   44,   48,   52,   56])>,\n",
       " <tf.Tensor: shape=(40,), dtype=int32, numpy=\n",
       " array([-90, -86, -82, -78, -74, -70, -66, -62, -58, -54, -50, -46, -42,\n",
       "        -38, -34, -30, -26, -22, -18, -14, -10,  -6,  -2,   2,   6,  10,\n",
       "         14,  18,  22,  26,  30,  34,  38,  42,  46,  50,  54,  58,  62,\n",
       "         66])>)"
      ]
     },
     "execution_count": 71,
     "metadata": {},
     "output_type": "execute_result"
    }
   ],
   "execution_count": 71
  },
  {
   "cell_type": "code",
   "source": [
    "# Import required libraries\n",
    "import tensorflow as tf\n",
    "import pandas as pd\n",
    "import matplotlib.pyplot as plt"
   ],
   "metadata": {
    "collapsed": false,
    "ExecuteTime": {
     "end_time": "2025-01-28T11:08:52.113083Z",
     "start_time": "2025-01-28T11:08:52.100079Z"
    }
   },
   "id": "5f6b5badf10907a9",
   "outputs": [],
   "execution_count": 72
  },
  {
   "cell_type": "code",
   "source": [
    "# Read in the insurance dataset\n",
    "insurance = pd.read_csv('Dataset/insurance.csv')\n",
    "insurance"
   ],
   "metadata": {
    "collapsed": false,
    "ExecuteTime": {
     "end_time": "2025-01-28T11:08:56.172768Z",
     "start_time": "2025-01-28T11:08:56.152756Z"
    }
   },
   "id": "40cfa82b64bd5417",
   "outputs": [
    {
     "data": {
      "text/plain": [
       "      age     sex     bmi  children smoker     region      charges\n",
       "0      19  female  27.900         0    yes  southwest  16884.92400\n",
       "1      18    male  33.770         1     no  southeast   1725.55230\n",
       "2      28    male  33.000         3     no  southeast   4449.46200\n",
       "3      33    male  22.705         0     no  northwest  21984.47061\n",
       "4      32    male  28.880         0     no  northwest   3866.85520\n",
       "...   ...     ...     ...       ...    ...        ...          ...\n",
       "1333   50    male  30.970         3     no  northwest  10600.54830\n",
       "1334   18  female  31.920         0     no  northeast   2205.98080\n",
       "1335   18  female  36.850         0     no  southeast   1629.83350\n",
       "1336   21  female  25.800         0     no  southwest   2007.94500\n",
       "1337   61  female  29.070         0    yes  northwest  29141.36030\n",
       "\n",
       "[1338 rows x 7 columns]"
      ],
      "text/html": [
       "<div>\n",
       "<style scoped>\n",
       "    .dataframe tbody tr th:only-of-type {\n",
       "        vertical-align: middle;\n",
       "    }\n",
       "\n",
       "    .dataframe tbody tr th {\n",
       "        vertical-align: top;\n",
       "    }\n",
       "\n",
       "    .dataframe thead th {\n",
       "        text-align: right;\n",
       "    }\n",
       "</style>\n",
       "<table border=\"1\" class=\"dataframe\">\n",
       "  <thead>\n",
       "    <tr style=\"text-align: right;\">\n",
       "      <th></th>\n",
       "      <th>age</th>\n",
       "      <th>sex</th>\n",
       "      <th>bmi</th>\n",
       "      <th>children</th>\n",
       "      <th>smoker</th>\n",
       "      <th>region</th>\n",
       "      <th>charges</th>\n",
       "    </tr>\n",
       "  </thead>\n",
       "  <tbody>\n",
       "    <tr>\n",
       "      <th>0</th>\n",
       "      <td>19</td>\n",
       "      <td>female</td>\n",
       "      <td>27.900</td>\n",
       "      <td>0</td>\n",
       "      <td>yes</td>\n",
       "      <td>southwest</td>\n",
       "      <td>16884.92400</td>\n",
       "    </tr>\n",
       "    <tr>\n",
       "      <th>1</th>\n",
       "      <td>18</td>\n",
       "      <td>male</td>\n",
       "      <td>33.770</td>\n",
       "      <td>1</td>\n",
       "      <td>no</td>\n",
       "      <td>southeast</td>\n",
       "      <td>1725.55230</td>\n",
       "    </tr>\n",
       "    <tr>\n",
       "      <th>2</th>\n",
       "      <td>28</td>\n",
       "      <td>male</td>\n",
       "      <td>33.000</td>\n",
       "      <td>3</td>\n",
       "      <td>no</td>\n",
       "      <td>southeast</td>\n",
       "      <td>4449.46200</td>\n",
       "    </tr>\n",
       "    <tr>\n",
       "      <th>3</th>\n",
       "      <td>33</td>\n",
       "      <td>male</td>\n",
       "      <td>22.705</td>\n",
       "      <td>0</td>\n",
       "      <td>no</td>\n",
       "      <td>northwest</td>\n",
       "      <td>21984.47061</td>\n",
       "    </tr>\n",
       "    <tr>\n",
       "      <th>4</th>\n",
       "      <td>32</td>\n",
       "      <td>male</td>\n",
       "      <td>28.880</td>\n",
       "      <td>0</td>\n",
       "      <td>no</td>\n",
       "      <td>northwest</td>\n",
       "      <td>3866.85520</td>\n",
       "    </tr>\n",
       "    <tr>\n",
       "      <th>...</th>\n",
       "      <td>...</td>\n",
       "      <td>...</td>\n",
       "      <td>...</td>\n",
       "      <td>...</td>\n",
       "      <td>...</td>\n",
       "      <td>...</td>\n",
       "      <td>...</td>\n",
       "    </tr>\n",
       "    <tr>\n",
       "      <th>1333</th>\n",
       "      <td>50</td>\n",
       "      <td>male</td>\n",
       "      <td>30.970</td>\n",
       "      <td>3</td>\n",
       "      <td>no</td>\n",
       "      <td>northwest</td>\n",
       "      <td>10600.54830</td>\n",
       "    </tr>\n",
       "    <tr>\n",
       "      <th>1334</th>\n",
       "      <td>18</td>\n",
       "      <td>female</td>\n",
       "      <td>31.920</td>\n",
       "      <td>0</td>\n",
       "      <td>no</td>\n",
       "      <td>northeast</td>\n",
       "      <td>2205.98080</td>\n",
       "    </tr>\n",
       "    <tr>\n",
       "      <th>1335</th>\n",
       "      <td>18</td>\n",
       "      <td>female</td>\n",
       "      <td>36.850</td>\n",
       "      <td>0</td>\n",
       "      <td>no</td>\n",
       "      <td>southeast</td>\n",
       "      <td>1629.83350</td>\n",
       "    </tr>\n",
       "    <tr>\n",
       "      <th>1336</th>\n",
       "      <td>21</td>\n",
       "      <td>female</td>\n",
       "      <td>25.800</td>\n",
       "      <td>0</td>\n",
       "      <td>no</td>\n",
       "      <td>southwest</td>\n",
       "      <td>2007.94500</td>\n",
       "    </tr>\n",
       "    <tr>\n",
       "      <th>1337</th>\n",
       "      <td>61</td>\n",
       "      <td>female</td>\n",
       "      <td>29.070</td>\n",
       "      <td>0</td>\n",
       "      <td>yes</td>\n",
       "      <td>northwest</td>\n",
       "      <td>29141.36030</td>\n",
       "    </tr>\n",
       "  </tbody>\n",
       "</table>\n",
       "<p>1338 rows × 7 columns</p>\n",
       "</div>"
      ]
     },
     "execution_count": 73,
     "metadata": {},
     "output_type": "execute_result"
    }
   ],
   "execution_count": 73
  },
  {
   "cell_type": "code",
   "source": [
    "insurance[\"sex\"]"
   ],
   "metadata": {
    "collapsed": false,
    "ExecuteTime": {
     "end_time": "2025-01-28T11:08:59.759825Z",
     "start_time": "2025-01-28T11:08:59.749825Z"
    }
   },
   "id": "2968facf3ae0337d",
   "outputs": [
    {
     "data": {
      "text/plain": [
       "0       female\n",
       "1         male\n",
       "2         male\n",
       "3         male\n",
       "4         male\n",
       "         ...  \n",
       "1333      male\n",
       "1334    female\n",
       "1335    female\n",
       "1336    female\n",
       "1337    female\n",
       "Name: sex, Length: 1338, dtype: object"
      ]
     },
     "execution_count": 74,
     "metadata": {},
     "output_type": "execute_result"
    }
   ],
   "execution_count": 74
  },
  {
   "cell_type": "code",
   "source": [
    "# Let's try one-hot encode our DataFrame so it's all numbers\n",
    "insurance_one_hot = pd.get_dummies(insurance, dtype=int)\n",
    "insurance_one_hot.head()"
   ],
   "metadata": {
    "collapsed": false,
    "ExecuteTime": {
     "end_time": "2025-01-28T11:09:02.698994Z",
     "start_time": "2025-01-28T11:09:02.676995Z"
    }
   },
   "id": "1cd3a133a4b6f4e1",
   "outputs": [
    {
     "data": {
      "text/plain": [
       "   age     bmi  children      charges  sex_female  sex_male  smoker_no  \\\n",
       "0   19  27.900         0  16884.92400           1         0          0   \n",
       "1   18  33.770         1   1725.55230           0         1          1   \n",
       "2   28  33.000         3   4449.46200           0         1          1   \n",
       "3   33  22.705         0  21984.47061           0         1          1   \n",
       "4   32  28.880         0   3866.85520           0         1          1   \n",
       "\n",
       "   smoker_yes  region_northeast  region_northwest  region_southeast  \\\n",
       "0           1                 0                 0                 0   \n",
       "1           0                 0                 0                 1   \n",
       "2           0                 0                 0                 1   \n",
       "3           0                 0                 1                 0   \n",
       "4           0                 0                 1                 0   \n",
       "\n",
       "   region_southwest  \n",
       "0                 1  \n",
       "1                 0  \n",
       "2                 0  \n",
       "3                 0  \n",
       "4                 0  "
      ],
      "text/html": [
       "<div>\n",
       "<style scoped>\n",
       "    .dataframe tbody tr th:only-of-type {\n",
       "        vertical-align: middle;\n",
       "    }\n",
       "\n",
       "    .dataframe tbody tr th {\n",
       "        vertical-align: top;\n",
       "    }\n",
       "\n",
       "    .dataframe thead th {\n",
       "        text-align: right;\n",
       "    }\n",
       "</style>\n",
       "<table border=\"1\" class=\"dataframe\">\n",
       "  <thead>\n",
       "    <tr style=\"text-align: right;\">\n",
       "      <th></th>\n",
       "      <th>age</th>\n",
       "      <th>bmi</th>\n",
       "      <th>children</th>\n",
       "      <th>charges</th>\n",
       "      <th>sex_female</th>\n",
       "      <th>sex_male</th>\n",
       "      <th>smoker_no</th>\n",
       "      <th>smoker_yes</th>\n",
       "      <th>region_northeast</th>\n",
       "      <th>region_northwest</th>\n",
       "      <th>region_southeast</th>\n",
       "      <th>region_southwest</th>\n",
       "    </tr>\n",
       "  </thead>\n",
       "  <tbody>\n",
       "    <tr>\n",
       "      <th>0</th>\n",
       "      <td>19</td>\n",
       "      <td>27.900</td>\n",
       "      <td>0</td>\n",
       "      <td>16884.92400</td>\n",
       "      <td>1</td>\n",
       "      <td>0</td>\n",
       "      <td>0</td>\n",
       "      <td>1</td>\n",
       "      <td>0</td>\n",
       "      <td>0</td>\n",
       "      <td>0</td>\n",
       "      <td>1</td>\n",
       "    </tr>\n",
       "    <tr>\n",
       "      <th>1</th>\n",
       "      <td>18</td>\n",
       "      <td>33.770</td>\n",
       "      <td>1</td>\n",
       "      <td>1725.55230</td>\n",
       "      <td>0</td>\n",
       "      <td>1</td>\n",
       "      <td>1</td>\n",
       "      <td>0</td>\n",
       "      <td>0</td>\n",
       "      <td>0</td>\n",
       "      <td>1</td>\n",
       "      <td>0</td>\n",
       "    </tr>\n",
       "    <tr>\n",
       "      <th>2</th>\n",
       "      <td>28</td>\n",
       "      <td>33.000</td>\n",
       "      <td>3</td>\n",
       "      <td>4449.46200</td>\n",
       "      <td>0</td>\n",
       "      <td>1</td>\n",
       "      <td>1</td>\n",
       "      <td>0</td>\n",
       "      <td>0</td>\n",
       "      <td>0</td>\n",
       "      <td>1</td>\n",
       "      <td>0</td>\n",
       "    </tr>\n",
       "    <tr>\n",
       "      <th>3</th>\n",
       "      <td>33</td>\n",
       "      <td>22.705</td>\n",
       "      <td>0</td>\n",
       "      <td>21984.47061</td>\n",
       "      <td>0</td>\n",
       "      <td>1</td>\n",
       "      <td>1</td>\n",
       "      <td>0</td>\n",
       "      <td>0</td>\n",
       "      <td>1</td>\n",
       "      <td>0</td>\n",
       "      <td>0</td>\n",
       "    </tr>\n",
       "    <tr>\n",
       "      <th>4</th>\n",
       "      <td>32</td>\n",
       "      <td>28.880</td>\n",
       "      <td>0</td>\n",
       "      <td>3866.85520</td>\n",
       "      <td>0</td>\n",
       "      <td>1</td>\n",
       "      <td>1</td>\n",
       "      <td>0</td>\n",
       "      <td>0</td>\n",
       "      <td>1</td>\n",
       "      <td>0</td>\n",
       "      <td>0</td>\n",
       "    </tr>\n",
       "  </tbody>\n",
       "</table>\n",
       "</div>"
      ]
     },
     "execution_count": 75,
     "metadata": {},
     "output_type": "execute_result"
    }
   ],
   "execution_count": 75
  },
  {
   "cell_type": "code",
   "source": [
    "# Create X & y values (features and labels)\n",
    "X = insurance_one_hot.drop(\"charges\", axis=1)\n",
    "y = insurance_one_hot[\"charges\"]"
   ],
   "metadata": {
    "collapsed": false,
    "ExecuteTime": {
     "end_time": "2025-01-28T11:09:06.766501Z",
     "start_time": "2025-01-28T11:09:06.752531Z"
    }
   },
   "id": "ec14db08cf1f038e",
   "outputs": [],
   "execution_count": 76
  },
  {
   "cell_type": "code",
   "source": [
    "# View X\n",
    "X.head()"
   ],
   "metadata": {
    "collapsed": false,
    "ExecuteTime": {
     "end_time": "2025-01-28T11:09:08.735944Z",
     "start_time": "2025-01-28T11:09:08.724942Z"
    }
   },
   "id": "fbb06cf5039450f0",
   "outputs": [
    {
     "data": {
      "text/plain": [
       "   age     bmi  children  sex_female  sex_male  smoker_no  smoker_yes  \\\n",
       "0   19  27.900         0           1         0          0           1   \n",
       "1   18  33.770         1           0         1          1           0   \n",
       "2   28  33.000         3           0         1          1           0   \n",
       "3   33  22.705         0           0         1          1           0   \n",
       "4   32  28.880         0           0         1          1           0   \n",
       "\n",
       "   region_northeast  region_northwest  region_southeast  region_southwest  \n",
       "0                 0                 0                 0                 1  \n",
       "1                 0                 0                 1                 0  \n",
       "2                 0                 0                 1                 0  \n",
       "3                 0                 1                 0                 0  \n",
       "4                 0                 1                 0                 0  "
      ],
      "text/html": [
       "<div>\n",
       "<style scoped>\n",
       "    .dataframe tbody tr th:only-of-type {\n",
       "        vertical-align: middle;\n",
       "    }\n",
       "\n",
       "    .dataframe tbody tr th {\n",
       "        vertical-align: top;\n",
       "    }\n",
       "\n",
       "    .dataframe thead th {\n",
       "        text-align: right;\n",
       "    }\n",
       "</style>\n",
       "<table border=\"1\" class=\"dataframe\">\n",
       "  <thead>\n",
       "    <tr style=\"text-align: right;\">\n",
       "      <th></th>\n",
       "      <th>age</th>\n",
       "      <th>bmi</th>\n",
       "      <th>children</th>\n",
       "      <th>sex_female</th>\n",
       "      <th>sex_male</th>\n",
       "      <th>smoker_no</th>\n",
       "      <th>smoker_yes</th>\n",
       "      <th>region_northeast</th>\n",
       "      <th>region_northwest</th>\n",
       "      <th>region_southeast</th>\n",
       "      <th>region_southwest</th>\n",
       "    </tr>\n",
       "  </thead>\n",
       "  <tbody>\n",
       "    <tr>\n",
       "      <th>0</th>\n",
       "      <td>19</td>\n",
       "      <td>27.900</td>\n",
       "      <td>0</td>\n",
       "      <td>1</td>\n",
       "      <td>0</td>\n",
       "      <td>0</td>\n",
       "      <td>1</td>\n",
       "      <td>0</td>\n",
       "      <td>0</td>\n",
       "      <td>0</td>\n",
       "      <td>1</td>\n",
       "    </tr>\n",
       "    <tr>\n",
       "      <th>1</th>\n",
       "      <td>18</td>\n",
       "      <td>33.770</td>\n",
       "      <td>1</td>\n",
       "      <td>0</td>\n",
       "      <td>1</td>\n",
       "      <td>1</td>\n",
       "      <td>0</td>\n",
       "      <td>0</td>\n",
       "      <td>0</td>\n",
       "      <td>1</td>\n",
       "      <td>0</td>\n",
       "    </tr>\n",
       "    <tr>\n",
       "      <th>2</th>\n",
       "      <td>28</td>\n",
       "      <td>33.000</td>\n",
       "      <td>3</td>\n",
       "      <td>0</td>\n",
       "      <td>1</td>\n",
       "      <td>1</td>\n",
       "      <td>0</td>\n",
       "      <td>0</td>\n",
       "      <td>0</td>\n",
       "      <td>1</td>\n",
       "      <td>0</td>\n",
       "    </tr>\n",
       "    <tr>\n",
       "      <th>3</th>\n",
       "      <td>33</td>\n",
       "      <td>22.705</td>\n",
       "      <td>0</td>\n",
       "      <td>0</td>\n",
       "      <td>1</td>\n",
       "      <td>1</td>\n",
       "      <td>0</td>\n",
       "      <td>0</td>\n",
       "      <td>1</td>\n",
       "      <td>0</td>\n",
       "      <td>0</td>\n",
       "    </tr>\n",
       "    <tr>\n",
       "      <th>4</th>\n",
       "      <td>32</td>\n",
       "      <td>28.880</td>\n",
       "      <td>0</td>\n",
       "      <td>0</td>\n",
       "      <td>1</td>\n",
       "      <td>1</td>\n",
       "      <td>0</td>\n",
       "      <td>0</td>\n",
       "      <td>1</td>\n",
       "      <td>0</td>\n",
       "      <td>0</td>\n",
       "    </tr>\n",
       "  </tbody>\n",
       "</table>\n",
       "</div>"
      ]
     },
     "execution_count": 77,
     "metadata": {},
     "output_type": "execute_result"
    }
   ],
   "execution_count": 77
  },
  {
   "cell_type": "code",
   "source": [
    "# View y\n",
    "y.head()"
   ],
   "metadata": {
    "collapsed": false,
    "ExecuteTime": {
     "end_time": "2025-01-28T11:09:13.136041Z",
     "start_time": "2025-01-28T11:09:13.116606Z"
    }
   },
   "id": "b131199c8b14bedc",
   "outputs": [
    {
     "data": {
      "text/plain": [
       "0    16884.92400\n",
       "1     1725.55230\n",
       "2     4449.46200\n",
       "3    21984.47061\n",
       "4     3866.85520\n",
       "Name: charges, dtype: float64"
      ]
     },
     "execution_count": 78,
     "metadata": {},
     "output_type": "execute_result"
    }
   ],
   "execution_count": 78
  },
  {
   "cell_type": "code",
   "source": [
    "# Create training and test sets\n",
    "from sklearn.model_selection import train_test_split\n",
    "X_train, X_test, y_train, y_test = train_test_split(X, y, test_size=0.2, random_state=42)\n",
    "len(X), len(X_train), len(X_test)"
   ],
   "metadata": {
    "collapsed": false,
    "ExecuteTime": {
     "end_time": "2025-01-28T11:10:21.038210Z",
     "start_time": "2025-01-28T11:10:16.317423Z"
    }
   },
   "id": "b4b33cdd264babda",
   "outputs": [
    {
     "data": {
      "text/plain": [
       "(1338, 1070, 268)"
      ]
     },
     "execution_count": 79,
     "metadata": {},
     "output_type": "execute_result"
    }
   ],
   "execution_count": 79
  },
  {
   "cell_type": "code",
   "source": [
    "# Build a neural network (sort of like model_2 above)\n",
    "tf.random.set_seed(42)\n",
    "\n",
    "# 1. Create a model\n",
    "insurance_model = tf.keras.Sequential([\n",
    "    tf.keras.layers.Dense(10),\n",
    "    tf.keras.layers.Dense(1)\n",
    "])\n",
    "\n",
    "# 2. Compile the model\n",
    "insurance_model.compile(loss=tf.keras.losses.mae,\n",
    "                        optimizer=tf.keras.optimizers.SGD(),\n",
    "                        metrics=['mae'])\n",
    "\n",
    "# 3. Fit the model\n",
    "insurance_model.fit(X_train, y_train, epochs=100)"
   ],
   "metadata": {
    "collapsed": false,
    "ExecuteTime": {
     "end_time": "2025-01-28T11:10:35.283008Z",
     "start_time": "2025-01-28T11:10:23.339012Z"
    }
   },
   "id": "de634e0199d4a8ab",
   "outputs": [
    {
     "name": "stdout",
     "output_type": "stream",
     "text": [
      "Epoch 1/100\n",
      "34/34 [==============================] - 0s 6ms/step - loss: 8562.6787 - mae: 8562.6787\n",
      "Epoch 2/100\n",
      "34/34 [==============================] - 0s 4ms/step - loss: 7880.6709 - mae: 7880.6709\n",
      "Epoch 3/100\n",
      "34/34 [==============================] - 0s 4ms/step - loss: 7548.6553 - mae: 7548.6553\n",
      "Epoch 4/100\n",
      "34/34 [==============================] - 0s 3ms/step - loss: 7788.3062 - mae: 7788.3062\n",
      "Epoch 5/100\n",
      "34/34 [==============================] - 0s 3ms/step - loss: 7692.8218 - mae: 7692.8218\n",
      "Epoch 6/100\n",
      "34/34 [==============================] - 0s 3ms/step - loss: 7647.0542 - mae: 7647.0542\n",
      "Epoch 7/100\n",
      "34/34 [==============================] - 0s 3ms/step - loss: 7549.6392 - mae: 7549.6392\n",
      "Epoch 8/100\n",
      "34/34 [==============================] - 0s 3ms/step - loss: 7759.0244 - mae: 7759.0244\n",
      "Epoch 9/100\n",
      "34/34 [==============================] - 0s 4ms/step - loss: 7619.2573 - mae: 7619.2573\n",
      "Epoch 10/100\n",
      "34/34 [==============================] - 0s 3ms/step - loss: 7760.0781 - mae: 7760.0781\n",
      "Epoch 11/100\n",
      "34/34 [==============================] - 0s 3ms/step - loss: 7531.6689 - mae: 7531.6689\n",
      "Epoch 12/100\n",
      "34/34 [==============================] - 0s 3ms/step - loss: 7602.6748 - mae: 7602.6748\n",
      "Epoch 13/100\n",
      "34/34 [==============================] - 0s 3ms/step - loss: 7703.8833 - mae: 7703.8833\n",
      "Epoch 14/100\n",
      "34/34 [==============================] - 0s 3ms/step - loss: 7709.6177 - mae: 7709.6177\n",
      "Epoch 15/100\n",
      "34/34 [==============================] - 0s 3ms/step - loss: 7501.6636 - mae: 7501.6636\n",
      "Epoch 16/100\n",
      "34/34 [==============================] - 0s 3ms/step - loss: 7810.0654 - mae: 7810.0654\n",
      "Epoch 17/100\n",
      "34/34 [==============================] - 0s 3ms/step - loss: 7551.3687 - mae: 7551.3687\n",
      "Epoch 18/100\n",
      "34/34 [==============================] - 0s 3ms/step - loss: 7748.5366 - mae: 7748.5366\n",
      "Epoch 19/100\n",
      "34/34 [==============================] - 0s 3ms/step - loss: 7790.2461 - mae: 7790.2461\n",
      "Epoch 20/100\n",
      "34/34 [==============================] - 0s 3ms/step - loss: 7881.0830 - mae: 7881.0830\n",
      "Epoch 21/100\n",
      "34/34 [==============================] - 0s 4ms/step - loss: 7514.2578 - mae: 7514.2578\n",
      "Epoch 22/100\n",
      "34/34 [==============================] - 0s 3ms/step - loss: 7910.1733 - mae: 7910.1733\n",
      "Epoch 23/100\n",
      "34/34 [==============================] - 0s 3ms/step - loss: 7676.7476 - mae: 7676.7476\n",
      "Epoch 24/100\n",
      "34/34 [==============================] - 0s 3ms/step - loss: 7579.0605 - mae: 7579.0605\n",
      "Epoch 25/100\n",
      "34/34 [==============================] - 0s 3ms/step - loss: 7706.1240 - mae: 7706.1240\n",
      "Epoch 26/100\n",
      "34/34 [==============================] - 0s 3ms/step - loss: 7638.9336 - mae: 7638.9336\n",
      "Epoch 27/100\n",
      "34/34 [==============================] - 0s 3ms/step - loss: 7735.5093 - mae: 7735.5093\n",
      "Epoch 28/100\n",
      "34/34 [==============================] - 0s 3ms/step - loss: 7490.4580 - mae: 7490.4580\n",
      "Epoch 29/100\n",
      "34/34 [==============================] - 0s 3ms/step - loss: 7687.7778 - mae: 7687.7778\n",
      "Epoch 30/100\n",
      "34/34 [==============================] - 0s 3ms/step - loss: 7517.6997 - mae: 7517.6997\n",
      "Epoch 31/100\n",
      "34/34 [==============================] - 0s 3ms/step - loss: 7472.6489 - mae: 7472.6489\n",
      "Epoch 32/100\n",
      "34/34 [==============================] - 0s 3ms/step - loss: 7518.7485 - mae: 7518.7485\n",
      "Epoch 33/100\n",
      "34/34 [==============================] - 0s 3ms/step - loss: 7376.6660 - mae: 7376.6660\n",
      "Epoch 34/100\n",
      "34/34 [==============================] - 0s 3ms/step - loss: 7400.8643 - mae: 7400.8647\n",
      "Epoch 35/100\n",
      "34/34 [==============================] - 0s 3ms/step - loss: 7459.5103 - mae: 7459.5103\n",
      "Epoch 36/100\n",
      "34/34 [==============================] - 0s 3ms/step - loss: 7506.1807 - mae: 7506.1807\n",
      "Epoch 37/100\n",
      "34/34 [==============================] - 0s 3ms/step - loss: 7468.3521 - mae: 7468.3521\n",
      "Epoch 38/100\n",
      "34/34 [==============================] - 0s 3ms/step - loss: 7442.1528 - mae: 7442.1528\n",
      "Epoch 39/100\n",
      "34/34 [==============================] - 0s 3ms/step - loss: 7553.0479 - mae: 7553.0479\n",
      "Epoch 40/100\n",
      "34/34 [==============================] - 0s 3ms/step - loss: 7562.4551 - mae: 7562.4551\n",
      "Epoch 41/100\n",
      "34/34 [==============================] - 0s 4ms/step - loss: 7714.4048 - mae: 7714.4048\n",
      "Epoch 42/100\n",
      "34/34 [==============================] - 0s 4ms/step - loss: 7802.6714 - mae: 7802.6714\n",
      "Epoch 43/100\n",
      "34/34 [==============================] - 0s 4ms/step - loss: 7783.2720 - mae: 7783.2720\n",
      "Epoch 44/100\n",
      "34/34 [==============================] - 0s 4ms/step - loss: 7483.0942 - mae: 7483.0942\n",
      "Epoch 45/100\n",
      "34/34 [==============================] - 0s 3ms/step - loss: 7496.4893 - mae: 7496.4893\n",
      "Epoch 46/100\n",
      "34/34 [==============================] - 0s 3ms/step - loss: 7464.9692 - mae: 7464.9692\n",
      "Epoch 47/100\n",
      "34/34 [==============================] - 0s 3ms/step - loss: 7411.8926 - mae: 7411.8926\n",
      "Epoch 48/100\n",
      "34/34 [==============================] - 0s 3ms/step - loss: 7525.2446 - mae: 7525.2446\n",
      "Epoch 49/100\n",
      "34/34 [==============================] - 0s 4ms/step - loss: 7534.8320 - mae: 7534.8320\n",
      "Epoch 50/100\n",
      "34/34 [==============================] - 0s 3ms/step - loss: 7469.3525 - mae: 7469.3525\n",
      "Epoch 51/100\n",
      "34/34 [==============================] - 0s 4ms/step - loss: 7293.1660 - mae: 7293.1660\n",
      "Epoch 52/100\n",
      "34/34 [==============================] - 0s 3ms/step - loss: 7525.7920 - mae: 7525.7920\n",
      "Epoch 53/100\n",
      "34/34 [==============================] - 0s 3ms/step - loss: 7433.6650 - mae: 7433.6650\n",
      "Epoch 54/100\n",
      "34/34 [==============================] - 0s 4ms/step - loss: 7159.6001 - mae: 7159.6001\n",
      "Epoch 55/100\n",
      "34/34 [==============================] - 0s 3ms/step - loss: 7418.1719 - mae: 7418.1719\n",
      "Epoch 56/100\n",
      "34/34 [==============================] - 0s 3ms/step - loss: 7287.9619 - mae: 7287.9619\n",
      "Epoch 57/100\n",
      "34/34 [==============================] - 0s 3ms/step - loss: 7457.9502 - mae: 7457.9502\n",
      "Epoch 58/100\n",
      "34/34 [==============================] - 0s 4ms/step - loss: 7438.5605 - mae: 7438.5605\n",
      "Epoch 59/100\n",
      "34/34 [==============================] - 0s 3ms/step - loss: 7585.9150 - mae: 7585.9150\n",
      "Epoch 60/100\n",
      "34/34 [==============================] - 0s 3ms/step - loss: 7350.9834 - mae: 7350.9834\n",
      "Epoch 61/100\n",
      "34/34 [==============================] - 0s 3ms/step - loss: 7320.0791 - mae: 7320.0791\n",
      "Epoch 62/100\n",
      "34/34 [==============================] - 0s 3ms/step - loss: 7407.8442 - mae: 7407.8442\n",
      "Epoch 63/100\n",
      "34/34 [==============================] - 0s 3ms/step - loss: 7264.9707 - mae: 7264.9707\n",
      "Epoch 64/100\n",
      "34/34 [==============================] - 0s 4ms/step - loss: 7330.5186 - mae: 7330.5186\n",
      "Epoch 65/100\n",
      "34/34 [==============================] - 0s 3ms/step - loss: 7421.9854 - mae: 7421.9854\n",
      "Epoch 66/100\n",
      "34/34 [==============================] - 0s 3ms/step - loss: 7302.3687 - mae: 7302.3687\n",
      "Epoch 67/100\n",
      "34/34 [==============================] - 0s 4ms/step - loss: 7396.8955 - mae: 7396.8955\n",
      "Epoch 68/100\n",
      "34/34 [==============================] - 0s 3ms/step - loss: 7479.1943 - mae: 7479.1943\n",
      "Epoch 69/100\n",
      "34/34 [==============================] - 0s 3ms/step - loss: 7488.6943 - mae: 7488.6943\n",
      "Epoch 70/100\n",
      "34/34 [==============================] - 0s 3ms/step - loss: 7533.9629 - mae: 7533.9629\n",
      "Epoch 71/100\n",
      "34/34 [==============================] - 0s 3ms/step - loss: 7140.4351 - mae: 7140.4351\n",
      "Epoch 72/100\n",
      "34/34 [==============================] - 0s 3ms/step - loss: 7223.4585 - mae: 7223.4585\n",
      "Epoch 73/100\n",
      "34/34 [==============================] - 0s 3ms/step - loss: 7347.9023 - mae: 7347.9023\n",
      "Epoch 74/100\n",
      "34/34 [==============================] - 0s 4ms/step - loss: 7497.5669 - mae: 7497.5669\n",
      "Epoch 75/100\n",
      "34/34 [==============================] - 0s 3ms/step - loss: 7210.1938 - mae: 7210.1938\n",
      "Epoch 76/100\n",
      "34/34 [==============================] - 0s 3ms/step - loss: 7101.7314 - mae: 7101.7314\n",
      "Epoch 77/100\n",
      "34/34 [==============================] - 0s 3ms/step - loss: 7435.4829 - mae: 7435.4829\n",
      "Epoch 78/100\n",
      "34/34 [==============================] - 0s 3ms/step - loss: 7075.3389 - mae: 7075.3389\n",
      "Epoch 79/100\n",
      "34/34 [==============================] - 0s 3ms/step - loss: 7486.8560 - mae: 7486.8560\n",
      "Epoch 80/100\n",
      "34/34 [==============================] - 0s 3ms/step - loss: 7274.1738 - mae: 7274.1738\n",
      "Epoch 81/100\n",
      "34/34 [==============================] - 0s 3ms/step - loss: 7232.2603 - mae: 7232.2603\n",
      "Epoch 82/100\n",
      "34/34 [==============================] - 0s 3ms/step - loss: 7134.9995 - mae: 7134.9995\n",
      "Epoch 83/100\n",
      "34/34 [==============================] - 0s 4ms/step - loss: 7547.6724 - mae: 7547.6724\n",
      "Epoch 84/100\n",
      "34/34 [==============================] - 0s 5ms/step - loss: 7339.2178 - mae: 7339.2178\n",
      "Epoch 85/100\n",
      "34/34 [==============================] - 0s 4ms/step - loss: 7409.4355 - mae: 7409.4355\n",
      "Epoch 86/100\n",
      "34/34 [==============================] - 0s 4ms/step - loss: 7574.9512 - mae: 7574.9512\n",
      "Epoch 87/100\n",
      "34/34 [==============================] - 0s 3ms/step - loss: 7319.7720 - mae: 7319.7720\n",
      "Epoch 88/100\n",
      "34/34 [==============================] - 0s 3ms/step - loss: 7286.1709 - mae: 7286.1709\n",
      "Epoch 89/100\n",
      "34/34 [==============================] - 0s 3ms/step - loss: 7151.5088 - mae: 7151.5088\n",
      "Epoch 90/100\n",
      "34/34 [==============================] - 0s 3ms/step - loss: 7372.0005 - mae: 7372.0005\n",
      "Epoch 91/100\n",
      "34/34 [==============================] - 0s 3ms/step - loss: 7220.9395 - mae: 7220.9395\n",
      "Epoch 92/100\n",
      "34/34 [==============================] - 0s 4ms/step - loss: 7256.5435 - mae: 7256.5435\n",
      "Epoch 93/100\n",
      "34/34 [==============================] - 0s 3ms/step - loss: 7453.1401 - mae: 7453.1401\n",
      "Epoch 94/100\n",
      "34/34 [==============================] - 0s 3ms/step - loss: 7207.7319 - mae: 7207.7319\n",
      "Epoch 95/100\n",
      "34/34 [==============================] - 0s 3ms/step - loss: 7491.2178 - mae: 7491.2178\n",
      "Epoch 96/100\n",
      "34/34 [==============================] - 0s 3ms/step - loss: 7371.9580 - mae: 7371.9580\n",
      "Epoch 97/100\n",
      "34/34 [==============================] - 0s 3ms/step - loss: 7160.1450 - mae: 7160.1450\n",
      "Epoch 98/100\n",
      "34/34 [==============================] - 0s 3ms/step - loss: 7462.5264 - mae: 7462.5264\n",
      "Epoch 99/100\n",
      "34/34 [==============================] - 0s 3ms/step - loss: 7383.0845 - mae: 7383.0845\n",
      "Epoch 100/100\n",
      "34/34 [==============================] - 0s 3ms/step - loss: 7247.4790 - mae: 7247.4790\n"
     ]
    },
    {
     "data": {
      "text/plain": [
       "<keras.callbacks.History at 0x2295e0e5790>"
      ]
     },
     "execution_count": 80,
     "metadata": {},
     "output_type": "execute_result"
    }
   ],
   "execution_count": 80
  },
  {
   "cell_type": "code",
   "source": [
    "# Check the results of the insurance model on the test data\n",
    "insurance_model.evaluate(X_test, y_test)"
   ],
   "metadata": {
    "collapsed": false,
    "ExecuteTime": {
     "end_time": "2025-01-28T11:10:49.136593Z",
     "start_time": "2025-01-28T11:10:48.840480Z"
    }
   },
   "id": "14b3a02e3c33e1c",
   "outputs": [
    {
     "name": "stdout",
     "output_type": "stream",
     "text": [
      "9/9 [==============================] - 0s 8ms/step - loss: 7944.6133 - mae: 7944.6133\n"
     ]
    },
    {
     "data": {
      "text/plain": [
       "[7944.61328125, 7944.61328125]"
      ]
     },
     "execution_count": 81,
     "metadata": {},
     "output_type": "execute_result"
    }
   ],
   "execution_count": 81
  },
  {
   "cell_type": "code",
   "source": [
    "y_train.median(), y_train.mean()"
   ],
   "metadata": {
    "collapsed": false,
    "ExecuteTime": {
     "end_time": "2025-01-28T11:10:50.821357Z",
     "start_time": "2025-01-28T11:10:50.795369Z"
    }
   },
   "id": "a60437ead8ed7d4b",
   "outputs": [
    {
     "data": {
      "text/plain": [
       "(9575.4421, 13346.089736364485)"
      ]
     },
     "execution_count": 82,
     "metadata": {},
     "output_type": "execute_result"
    }
   ],
   "execution_count": 82
  },
  {
   "cell_type": "markdown",
   "source": [
    "Right now it looks like our model Isn't performing to well... let's try and improve it!\n",
    "\n",
    "To (try) improve our model, we'll run 2 experiments:\n",
    "1. Add an extra layer with more hidden units and use the Adam optimizer\n",
    "2. Same as above but train for longger (200 epochs)\n",
    "3. (insert our own experiment here)"
   ],
   "metadata": {
    "collapsed": false
   },
   "id": "a65b590d46ee1758"
  },
  {
   "cell_type": "code",
   "source": [
    "X_train, y_train"
   ],
   "metadata": {
    "collapsed": false,
    "ExecuteTime": {
     "end_time": "2025-01-28T11:10:52.978364Z",
     "start_time": "2025-01-28T11:10:52.966365Z"
    }
   },
   "id": "867239afb5cf971",
   "outputs": [
    {
     "data": {
      "text/plain": [
       "(      age     bmi  children  sex_female  sex_male  smoker_no  smoker_yes  \\\n",
       " 560    46  19.950         2           1         0          1           0   \n",
       " 1285   47  24.320         0           1         0          1           0   \n",
       " 1142   52  24.860         0           1         0          1           0   \n",
       " 969    39  34.320         5           1         0          1           0   \n",
       " 486    54  21.470         3           1         0          1           0   \n",
       " ...   ...     ...       ...         ...       ...        ...         ...   \n",
       " 1095   18  31.350         4           1         0          1           0   \n",
       " 1130   39  23.870         5           1         0          1           0   \n",
       " 1294   58  25.175         0           0         1          1           0   \n",
       " 860    37  47.600         2           1         0          0           1   \n",
       " 1126   55  29.900         0           0         1          1           0   \n",
       " \n",
       "       region_northeast  region_northwest  region_southeast  region_southwest  \n",
       " 560                  0                 1                 0                 0  \n",
       " 1285                 1                 0                 0                 0  \n",
       " 1142                 0                 0                 1                 0  \n",
       " 969                  0                 0                 1                 0  \n",
       " 486                  0                 1                 0                 0  \n",
       " ...                ...               ...               ...               ...  \n",
       " 1095                 1                 0                 0                 0  \n",
       " 1130                 0                 0                 1                 0  \n",
       " 1294                 1                 0                 0                 0  \n",
       " 860                  0                 0                 0                 1  \n",
       " 1126                 0                 0                 0                 1  \n",
       " \n",
       " [1070 rows x 11 columns],\n",
       " 560      9193.83850\n",
       " 1285     8534.67180\n",
       " 1142    27117.99378\n",
       " 969      8596.82780\n",
       " 486     12475.35130\n",
       "            ...     \n",
       " 1095     4561.18850\n",
       " 1130     8582.30230\n",
       " 1294    11931.12525\n",
       " 860     46113.51100\n",
       " 1126    10214.63600\n",
       " Name: charges, Length: 1070, dtype: float64)"
      ]
     },
     "execution_count": 83,
     "metadata": {},
     "output_type": "execute_result"
    }
   ],
   "execution_count": 83
  },
  {
   "cell_type": "code",
   "source": [
    "# Set random seed\n",
    "tf.random.set_seed(42)\n",
    "\n",
    "# 1. Create the model\n",
    "insurance_model_2 = tf.keras.Sequential([\n",
    "    tf.keras.layers.Dense(100),\n",
    "    tf.keras.layers.Dense(10),\n",
    "    tf.keras.layers.Dense(1)\n",
    "])\n",
    "\n",
    "# 2. Compile the model\n",
    "insurance_model_2.compile(loss=tf.keras.losses.mae,\n",
    "                          optimizer=tf.keras.optimizers.Adam(),\n",
    "                          metrics=[\"mae\"])\n",
    "\n",
    "# 3 Fit the model\n",
    "insurance_model_2.fit(X_train, y_train, epochs=100, verbose=1)"
   ],
   "metadata": {
    "collapsed": false,
    "ExecuteTime": {
     "end_time": "2025-01-28T11:11:12.742201Z",
     "start_time": "2025-01-28T11:10:55.051138Z"
    }
   },
   "id": "669143dbe6b04600",
   "outputs": [
    {
     "name": "stdout",
     "output_type": "stream",
     "text": [
      "Epoch 1/100\n",
      "34/34 [==============================] - 1s 9ms/step - loss: 13312.5732 - mae: 13312.5732\n",
      "Epoch 2/100\n",
      "34/34 [==============================] - 0s 8ms/step - loss: 13197.7500 - mae: 13197.7500\n",
      "Epoch 3/100\n",
      "34/34 [==============================] - 0s 7ms/step - loss: 12939.9521 - mae: 12939.9521\n",
      "Epoch 4/100\n",
      "34/34 [==============================] - 0s 7ms/step - loss: 12395.8154 - mae: 12395.8154\n",
      "Epoch 5/100\n",
      "34/34 [==============================] - 0s 7ms/step - loss: 11416.1748 - mae: 11416.1758\n",
      "Epoch 6/100\n",
      "34/34 [==============================] - 0s 6ms/step - loss: 10013.1123 - mae: 10013.1123\n",
      "Epoch 7/100\n",
      "34/34 [==============================] - 0s 6ms/step - loss: 8552.4395 - mae: 8552.4395\n",
      "Epoch 8/100\n",
      "34/34 [==============================] - 0s 7ms/step - loss: 7654.8521 - mae: 7654.8521\n",
      "Epoch 9/100\n",
      "34/34 [==============================] - 0s 7ms/step - loss: 7452.1938 - mae: 7452.1938\n",
      "Epoch 10/100\n",
      "34/34 [==============================] - 0s 7ms/step - loss: 7425.9526 - mae: 7425.9526\n",
      "Epoch 11/100\n",
      "34/34 [==============================] - 0s 6ms/step - loss: 7407.5645 - mae: 7407.5645\n",
      "Epoch 12/100\n",
      "34/34 [==============================] - 0s 7ms/step - loss: 7386.1353 - mae: 7386.1353\n",
      "Epoch 13/100\n",
      "34/34 [==============================] - 0s 5ms/step - loss: 7366.4473 - mae: 7366.4473\n",
      "Epoch 14/100\n",
      "34/34 [==============================] - 0s 5ms/step - loss: 7344.6655 - mae: 7344.6655\n",
      "Epoch 15/100\n",
      "34/34 [==============================] - 0s 5ms/step - loss: 7326.2690 - mae: 7326.2690\n",
      "Epoch 16/100\n",
      "34/34 [==============================] - 0s 5ms/step - loss: 7304.7437 - mae: 7304.7437\n",
      "Epoch 17/100\n",
      "34/34 [==============================] - 0s 5ms/step - loss: 7285.3066 - mae: 7285.3066\n",
      "Epoch 18/100\n",
      "34/34 [==============================] - 0s 5ms/step - loss: 7263.0962 - mae: 7263.0962\n",
      "Epoch 19/100\n",
      "34/34 [==============================] - 0s 5ms/step - loss: 7241.4673 - mae: 7241.4673\n",
      "Epoch 20/100\n",
      "34/34 [==============================] - 0s 5ms/step - loss: 7219.3057 - mae: 7219.3057\n",
      "Epoch 21/100\n",
      "34/34 [==============================] - 0s 5ms/step - loss: 7201.3022 - mae: 7201.3022\n",
      "Epoch 22/100\n",
      "34/34 [==============================] - 0s 5ms/step - loss: 7175.2100 - mae: 7175.2100\n",
      "Epoch 23/100\n",
      "34/34 [==============================] - 0s 5ms/step - loss: 7151.4175 - mae: 7151.4180\n",
      "Epoch 24/100\n",
      "34/34 [==============================] - 0s 5ms/step - loss: 7128.1758 - mae: 7128.1758\n",
      "Epoch 25/100\n",
      "34/34 [==============================] - 0s 5ms/step - loss: 7111.2173 - mae: 7111.2173\n",
      "Epoch 26/100\n",
      "34/34 [==============================] - 0s 5ms/step - loss: 7080.8276 - mae: 7080.8276\n",
      "Epoch 27/100\n",
      "34/34 [==============================] - 0s 5ms/step - loss: 7053.8843 - mae: 7053.8843\n",
      "Epoch 28/100\n",
      "34/34 [==============================] - 0s 5ms/step - loss: 7027.2930 - mae: 7027.2930\n",
      "Epoch 29/100\n",
      "34/34 [==============================] - 0s 5ms/step - loss: 7001.3398 - mae: 7001.3398\n",
      "Epoch 30/100\n",
      "34/34 [==============================] - 0s 6ms/step - loss: 6975.2930 - mae: 6975.2930\n",
      "Epoch 31/100\n",
      "34/34 [==============================] - 0s 5ms/step - loss: 6945.9966 - mae: 6945.9966\n",
      "Epoch 32/100\n",
      "34/34 [==============================] - 0s 5ms/step - loss: 6919.6406 - mae: 6919.6406\n",
      "Epoch 33/100\n",
      "34/34 [==============================] - 0s 5ms/step - loss: 6889.2354 - mae: 6889.2354\n",
      "Epoch 34/100\n",
      "34/34 [==============================] - 0s 5ms/step - loss: 6858.7358 - mae: 6858.7358\n",
      "Epoch 35/100\n",
      "34/34 [==============================] - 0s 5ms/step - loss: 6827.8945 - mae: 6827.8945\n",
      "Epoch 36/100\n",
      "34/34 [==============================] - 0s 5ms/step - loss: 6795.6802 - mae: 6795.6802\n",
      "Epoch 37/100\n",
      "34/34 [==============================] - 0s 5ms/step - loss: 6762.0527 - mae: 6762.0527\n",
      "Epoch 38/100\n",
      "34/34 [==============================] - 0s 5ms/step - loss: 6730.7627 - mae: 6730.7627\n",
      "Epoch 39/100\n",
      "34/34 [==============================] - 0s 5ms/step - loss: 6693.2969 - mae: 6693.2969\n",
      "Epoch 40/100\n",
      "34/34 [==============================] - 0s 5ms/step - loss: 6658.4229 - mae: 6658.4229\n",
      "Epoch 41/100\n",
      "34/34 [==============================] - 0s 5ms/step - loss: 6625.3335 - mae: 6625.3335\n",
      "Epoch 42/100\n",
      "34/34 [==============================] - 0s 5ms/step - loss: 6593.4248 - mae: 6593.4248\n",
      "Epoch 43/100\n",
      "34/34 [==============================] - 0s 5ms/step - loss: 6560.9473 - mae: 6560.9473\n",
      "Epoch 44/100\n",
      "34/34 [==============================] - 0s 5ms/step - loss: 6533.9990 - mae: 6533.9990\n",
      "Epoch 45/100\n",
      "34/34 [==============================] - 0s 5ms/step - loss: 6512.9326 - mae: 6512.9326\n",
      "Epoch 46/100\n",
      "34/34 [==============================] - 0s 5ms/step - loss: 6492.8584 - mae: 6492.8584\n",
      "Epoch 47/100\n",
      "34/34 [==============================] - 0s 5ms/step - loss: 6475.7227 - mae: 6475.7227\n",
      "Epoch 48/100\n",
      "34/34 [==============================] - 0s 5ms/step - loss: 6459.5801 - mae: 6459.5801\n",
      "Epoch 49/100\n",
      "34/34 [==============================] - 0s 5ms/step - loss: 6445.8472 - mae: 6445.8472\n",
      "Epoch 50/100\n",
      "34/34 [==============================] - 0s 6ms/step - loss: 6432.3892 - mae: 6432.3892\n",
      "Epoch 51/100\n",
      "34/34 [==============================] - 0s 5ms/step - loss: 6419.7051 - mae: 6419.7051\n",
      "Epoch 52/100\n",
      "34/34 [==============================] - 0s 5ms/step - loss: 6407.5820 - mae: 6407.5820\n",
      "Epoch 53/100\n",
      "34/34 [==============================] - 0s 5ms/step - loss: 6393.9990 - mae: 6393.9990\n",
      "Epoch 54/100\n",
      "34/34 [==============================] - 0s 5ms/step - loss: 6380.8101 - mae: 6380.8101\n",
      "Epoch 55/100\n",
      "34/34 [==============================] - 0s 5ms/step - loss: 6367.6304 - mae: 6367.6304\n",
      "Epoch 56/100\n",
      "34/34 [==============================] - 0s 4ms/step - loss: 6353.8774 - mae: 6353.8774\n",
      "Epoch 57/100\n",
      "34/34 [==============================] - 0s 4ms/step - loss: 6342.2988 - mae: 6342.2988\n",
      "Epoch 58/100\n",
      "34/34 [==============================] - 0s 5ms/step - loss: 6327.8652 - mae: 6327.8652\n",
      "Epoch 59/100\n",
      "34/34 [==============================] - 0s 4ms/step - loss: 6313.4932 - mae: 6313.4932\n",
      "Epoch 60/100\n",
      "34/34 [==============================] - 0s 4ms/step - loss: 6303.5015 - mae: 6303.5015\n",
      "Epoch 61/100\n",
      "34/34 [==============================] - 0s 4ms/step - loss: 6285.1558 - mae: 6285.1558\n",
      "Epoch 62/100\n",
      "34/34 [==============================] - 0s 5ms/step - loss: 6272.7119 - mae: 6272.7119\n",
      "Epoch 63/100\n",
      "34/34 [==============================] - 0s 4ms/step - loss: 6255.6768 - mae: 6255.6768\n",
      "Epoch 64/100\n",
      "34/34 [==============================] - 0s 4ms/step - loss: 6240.4673 - mae: 6240.4673\n",
      "Epoch 65/100\n",
      "34/34 [==============================] - 0s 5ms/step - loss: 6223.8433 - mae: 6223.8433\n",
      "Epoch 66/100\n",
      "34/34 [==============================] - 0s 4ms/step - loss: 6207.6953 - mae: 6207.6953\n",
      "Epoch 67/100\n",
      "34/34 [==============================] - 0s 4ms/step - loss: 6195.7026 - mae: 6195.7026\n",
      "Epoch 68/100\n",
      "34/34 [==============================] - 0s 4ms/step - loss: 6174.3579 - mae: 6174.3579\n",
      "Epoch 69/100\n",
      "34/34 [==============================] - 0s 4ms/step - loss: 6159.3540 - mae: 6159.3540\n",
      "Epoch 70/100\n",
      "34/34 [==============================] - 0s 4ms/step - loss: 6139.7236 - mae: 6139.7236\n",
      "Epoch 71/100\n",
      "34/34 [==============================] - 0s 4ms/step - loss: 6121.4595 - mae: 6121.4595\n",
      "Epoch 72/100\n",
      "34/34 [==============================] - 0s 5ms/step - loss: 6103.5591 - mae: 6103.5591\n",
      "Epoch 73/100\n",
      "34/34 [==============================] - 0s 5ms/step - loss: 6090.1587 - mae: 6090.1587\n",
      "Epoch 74/100\n",
      "34/34 [==============================] - 0s 4ms/step - loss: 6064.7944 - mae: 6064.7944\n",
      "Epoch 75/100\n",
      "34/34 [==============================] - 0s 4ms/step - loss: 6045.9546 - mae: 6045.9546\n",
      "Epoch 76/100\n",
      "34/34 [==============================] - 0s 4ms/step - loss: 6029.7627 - mae: 6029.7627\n",
      "Epoch 77/100\n",
      "34/34 [==============================] - 0s 4ms/step - loss: 5999.1802 - mae: 5999.1802\n",
      "Epoch 78/100\n",
      "34/34 [==============================] - 0s 5ms/step - loss: 5978.1567 - mae: 5978.1567\n",
      "Epoch 79/100\n",
      "34/34 [==============================] - 0s 4ms/step - loss: 5955.5371 - mae: 5955.5371\n",
      "Epoch 80/100\n",
      "34/34 [==============================] - 0s 4ms/step - loss: 5930.8042 - mae: 5930.8042\n",
      "Epoch 81/100\n",
      "34/34 [==============================] - 0s 4ms/step - loss: 5906.0869 - mae: 5906.0874\n",
      "Epoch 82/100\n",
      "34/34 [==============================] - 0s 4ms/step - loss: 5880.4570 - mae: 5880.4570\n",
      "Epoch 83/100\n",
      "34/34 [==============================] - 0s 4ms/step - loss: 5854.3818 - mae: 5854.3818\n",
      "Epoch 84/100\n",
      "34/34 [==============================] - 0s 4ms/step - loss: 5821.8193 - mae: 5821.8193\n",
      "Epoch 85/100\n",
      "34/34 [==============================] - 0s 5ms/step - loss: 5799.4795 - mae: 5799.4795\n",
      "Epoch 86/100\n",
      "34/34 [==============================] - 0s 4ms/step - loss: 5765.6641 - mae: 5765.6641\n",
      "Epoch 87/100\n",
      "34/34 [==============================] - 0s 4ms/step - loss: 5733.1328 - mae: 5733.1328\n",
      "Epoch 88/100\n",
      "34/34 [==============================] - 0s 5ms/step - loss: 5702.6553 - mae: 5702.6553\n",
      "Epoch 89/100\n",
      "34/34 [==============================] - 0s 4ms/step - loss: 5665.0947 - mae: 5665.0947\n",
      "Epoch 90/100\n",
      "34/34 [==============================] - 0s 4ms/step - loss: 5627.5254 - mae: 5627.5254\n",
      "Epoch 91/100\n",
      "34/34 [==============================] - 0s 4ms/step - loss: 5595.9946 - mae: 5595.9951\n",
      "Epoch 92/100\n",
      "34/34 [==============================] - 0s 5ms/step - loss: 5549.1455 - mae: 5549.1455\n",
      "Epoch 93/100\n",
      "34/34 [==============================] - 0s 4ms/step - loss: 5511.9595 - mae: 5511.9595\n",
      "Epoch 94/100\n",
      "34/34 [==============================] - 0s 4ms/step - loss: 5473.0361 - mae: 5473.0361\n",
      "Epoch 95/100\n",
      "34/34 [==============================] - 0s 4ms/step - loss: 5423.3706 - mae: 5423.3706\n",
      "Epoch 96/100\n",
      "34/34 [==============================] - 0s 4ms/step - loss: 5380.9023 - mae: 5380.9023\n",
      "Epoch 97/100\n",
      "34/34 [==============================] - 0s 4ms/step - loss: 5331.6943 - mae: 5331.6943\n",
      "Epoch 98/100\n",
      "34/34 [==============================] - 0s 4ms/step - loss: 5277.1309 - mae: 5277.1309\n",
      "Epoch 99/100\n",
      "34/34 [==============================] - 0s 5ms/step - loss: 5222.4316 - mae: 5222.4316\n",
      "Epoch 100/100\n",
      "34/34 [==============================] - 0s 4ms/step - loss: 5168.9653 - mae: 5168.9653\n"
     ]
    },
    {
     "data": {
      "text/plain": [
       "<keras.callbacks.History at 0x22963ac1f70>"
      ]
     },
     "execution_count": 84,
     "metadata": {},
     "output_type": "execute_result"
    }
   ],
   "execution_count": 84
  },
  {
   "cell_type": "code",
   "source": [
    "# Evaluate the larger model\n",
    "insurance_model_2.evaluate(X_test, y_test)"
   ],
   "metadata": {
    "collapsed": false,
    "ExecuteTime": {
     "end_time": "2025-01-28T11:11:25.595040Z",
     "start_time": "2025-01-28T11:11:25.308342Z"
    }
   },
   "id": "f464184418e3b1a1",
   "outputs": [
    {
     "name": "stdout",
     "output_type": "stream",
     "text": [
      "9/9 [==============================] - 0s 13ms/step - loss: 5037.4297 - mae: 5037.4297\n"
     ]
    },
    {
     "data": {
      "text/plain": [
       "[5037.4296875, 5037.4296875]"
      ]
     },
     "execution_count": 85,
     "metadata": {},
     "output_type": "execute_result"
    }
   ],
   "execution_count": 85
  },
  {
   "cell_type": "code",
   "source": "insurance_model.evaluate(X_test, y_test)",
   "metadata": {
    "collapsed": false,
    "ExecuteTime": {
     "end_time": "2025-01-28T11:12:07.972980Z",
     "start_time": "2025-01-28T11:12:07.835464Z"
    }
   },
   "id": "3f5ca9d38ec4c2fe",
   "outputs": [
    {
     "name": "stdout",
     "output_type": "stream",
     "text": [
      "9/9 [==============================] - 0s 5ms/step - loss: 7944.6133 - mae: 7944.6133\n"
     ]
    },
    {
     "data": {
      "text/plain": [
       "[7944.61328125, 7944.61328125]"
      ]
     },
     "execution_count": 87,
     "metadata": {},
     "output_type": "execute_result"
    }
   ],
   "execution_count": 87
  },
  {
   "cell_type": "code",
   "source": [
    "# Set random seed\n",
    "tf.random.set_seed(42)\n",
    "\n",
    "# 1. Create the model (same as above)\n",
    "insurance_model_3 = tf.keras.Sequential([\n",
    "    tf.keras.layers.Dense(100),\n",
    "    tf.keras.layers.Dense(10),\n",
    "    tf.keras.layers.Dense(1)\n",
    "])\n",
    "\n",
    "# 2. Compile the model\n",
    "insurance_model_3.compile(loss=tf.keras.losses.mae,\n",
    "                          optimizer=tf.keras.optimizers.Adam(),\n",
    "                          metrics=[\"mae\"])\n",
    "\n",
    "# 3. Fit the model\n",
    "history = insurance_model_3.fit(X_train, y_train, epochs=200)"
   ],
   "metadata": {
    "collapsed": false,
    "ExecuteTime": {
     "end_time": "2025-01-28T11:12:47.577968Z",
     "start_time": "2025-01-28T11:12:10.183894Z"
    }
   },
   "id": "56ece3f24d5d2b4",
   "outputs": [
    {
     "name": "stdout",
     "output_type": "stream",
     "text": [
      "Epoch 1/200\n",
      "34/34 [==============================] - 1s 8ms/step - loss: 13294.2988 - mae: 13294.2988\n",
      "Epoch 2/200\n",
      "34/34 [==============================] - 0s 7ms/step - loss: 13135.5576 - mae: 13135.5576\n",
      "Epoch 3/200\n",
      "34/34 [==============================] - 0s 7ms/step - loss: 12796.7705 - mae: 12796.7705\n",
      "Epoch 4/200\n",
      "34/34 [==============================] - 0s 6ms/step - loss: 12120.6924 - mae: 12120.6924\n",
      "Epoch 5/200\n",
      "34/34 [==============================] - 0s 6ms/step - loss: 10985.5293 - mae: 10985.5293\n",
      "Epoch 6/200\n",
      "34/34 [==============================] - 0s 7ms/step - loss: 9539.9404 - mae: 9539.9404\n",
      "Epoch 7/200\n",
      "34/34 [==============================] - 0s 6ms/step - loss: 8213.5576 - mae: 8213.5576\n",
      "Epoch 8/200\n",
      "34/34 [==============================] - 0s 7ms/step - loss: 7564.1567 - mae: 7564.1567\n",
      "Epoch 9/200\n",
      "34/34 [==============================] - 0s 6ms/step - loss: 7450.2979 - mae: 7450.2979\n",
      "Epoch 10/200\n",
      "34/34 [==============================] - 0s 6ms/step - loss: 7428.2500 - mae: 7428.2500\n",
      "Epoch 11/200\n",
      "34/34 [==============================] - 0s 7ms/step - loss: 7409.3213 - mae: 7409.3213\n",
      "Epoch 12/200\n",
      "34/34 [==============================] - 0s 6ms/step - loss: 7387.0820 - mae: 7387.0820\n",
      "Epoch 13/200\n",
      "34/34 [==============================] - 0s 6ms/step - loss: 7366.5991 - mae: 7366.5991\n",
      "Epoch 14/200\n",
      "34/34 [==============================] - 0s 6ms/step - loss: 7343.9922 - mae: 7343.9922\n",
      "Epoch 15/200\n",
      "34/34 [==============================] - 0s 6ms/step - loss: 7324.6079 - mae: 7324.6079\n",
      "Epoch 16/200\n",
      "34/34 [==============================] - 0s 6ms/step - loss: 7301.6919 - mae: 7301.6919\n",
      "Epoch 17/200\n",
      "34/34 [==============================] - 0s 6ms/step - loss: 7281.7051 - mae: 7281.7051\n",
      "Epoch 18/200\n",
      "34/34 [==============================] - 0s 7ms/step - loss: 7257.7773 - mae: 7257.7773\n",
      "Epoch 19/200\n",
      "34/34 [==============================] - 0s 6ms/step - loss: 7235.2842 - mae: 7235.2842\n",
      "Epoch 20/200\n",
      "34/34 [==============================] - 0s 6ms/step - loss: 7212.0508 - mae: 7212.0508\n",
      "Epoch 21/200\n",
      "34/34 [==============================] - 0s 7ms/step - loss: 7192.6709 - mae: 7192.6709\n",
      "Epoch 22/200\n",
      "34/34 [==============================] - 0s 6ms/step - loss: 7165.5474 - mae: 7165.5474\n",
      "Epoch 23/200\n",
      "34/34 [==============================] - 0s 6ms/step - loss: 7140.5132 - mae: 7140.5132\n",
      "Epoch 24/200\n",
      "34/34 [==============================] - 0s 6ms/step - loss: 7115.7368 - mae: 7115.7368\n",
      "Epoch 25/200\n",
      "34/34 [==============================] - 0s 6ms/step - loss: 7097.5430 - mae: 7097.5430\n",
      "Epoch 26/200\n",
      "34/34 [==============================] - 0s 6ms/step - loss: 7066.0386 - mae: 7066.0386\n",
      "Epoch 27/200\n",
      "34/34 [==============================] - 0s 6ms/step - loss: 7037.2305 - mae: 7037.2305\n",
      "Epoch 28/200\n",
      "34/34 [==============================] - 0s 7ms/step - loss: 7009.1050 - mae: 7009.1050\n",
      "Epoch 29/200\n",
      "34/34 [==============================] - 0s 6ms/step - loss: 6981.4019 - mae: 6981.4019\n",
      "Epoch 30/200\n",
      "34/34 [==============================] - 0s 6ms/step - loss: 6954.0386 - mae: 6954.0386\n",
      "Epoch 31/200\n",
      "34/34 [==============================] - 0s 7ms/step - loss: 6922.6279 - mae: 6922.6279\n",
      "Epoch 32/200\n",
      "34/34 [==============================] - 0s 6ms/step - loss: 6894.0303 - mae: 6894.0303\n",
      "Epoch 33/200\n",
      "34/34 [==============================] - 0s 6ms/step - loss: 6862.2793 - mae: 6862.2793\n",
      "Epoch 34/200\n",
      "34/34 [==============================] - 0s 6ms/step - loss: 6830.9351 - mae: 6830.9351\n",
      "Epoch 35/200\n",
      "34/34 [==============================] - 0s 6ms/step - loss: 6797.5308 - mae: 6797.5308\n",
      "Epoch 36/200\n",
      "34/34 [==============================] - 0s 7ms/step - loss: 6763.1016 - mae: 6763.1016\n",
      "Epoch 37/200\n",
      "34/34 [==============================] - 0s 6ms/step - loss: 6726.9888 - mae: 6726.9888\n",
      "Epoch 38/200\n",
      "34/34 [==============================] - 0s 6ms/step - loss: 6693.9316 - mae: 6693.9316\n",
      "Epoch 39/200\n",
      "34/34 [==============================] - 0s 6ms/step - loss: 6655.1294 - mae: 6655.1294\n",
      "Epoch 40/200\n",
      "34/34 [==============================] - 0s 6ms/step - loss: 6619.1558 - mae: 6619.1558\n",
      "Epoch 41/200\n",
      "34/34 [==============================] - 0s 6ms/step - loss: 6584.6465 - mae: 6584.6465\n",
      "Epoch 42/200\n",
      "34/34 [==============================] - 0s 6ms/step - loss: 6554.6929 - mae: 6554.6929\n",
      "Epoch 43/200\n",
      "34/34 [==============================] - 0s 6ms/step - loss: 6523.8096 - mae: 6523.8096\n",
      "Epoch 44/200\n",
      "34/34 [==============================] - 0s 6ms/step - loss: 6499.1172 - mae: 6499.1172\n",
      "Epoch 45/200\n",
      "34/34 [==============================] - 0s 7ms/step - loss: 6483.3843 - mae: 6483.3843\n",
      "Epoch 46/200\n",
      "34/34 [==============================] - 0s 7ms/step - loss: 6464.3096 - mae: 6464.3096\n",
      "Epoch 47/200\n",
      "34/34 [==============================] - 0s 6ms/step - loss: 6447.1167 - mae: 6447.1167\n",
      "Epoch 48/200\n",
      "34/34 [==============================] - 0s 7ms/step - loss: 6432.2021 - mae: 6432.2021\n",
      "Epoch 49/200\n",
      "34/34 [==============================] - 0s 7ms/step - loss: 6418.6689 - mae: 6418.6689\n",
      "Epoch 50/200\n",
      "34/34 [==============================] - 0s 7ms/step - loss: 6403.2549 - mae: 6403.2549\n",
      "Epoch 51/200\n",
      "34/34 [==============================] - 0s 5ms/step - loss: 6389.3125 - mae: 6389.3125\n",
      "Epoch 52/200\n",
      "34/34 [==============================] - 0s 6ms/step - loss: 6377.2363 - mae: 6377.2363\n",
      "Epoch 53/200\n",
      "34/34 [==============================] - 0s 7ms/step - loss: 6362.6294 - mae: 6362.6294\n",
      "Epoch 54/200\n",
      "34/34 [==============================] - 0s 6ms/step - loss: 6348.4922 - mae: 6348.4922\n",
      "Epoch 55/200\n",
      "34/34 [==============================] - 0s 6ms/step - loss: 6334.1265 - mae: 6334.1265\n",
      "Epoch 56/200\n",
      "34/34 [==============================] - 0s 6ms/step - loss: 6320.1519 - mae: 6320.1519\n",
      "Epoch 57/200\n",
      "34/34 [==============================] - 0s 6ms/step - loss: 6306.4678 - mae: 6306.4678\n",
      "Epoch 58/200\n",
      "34/34 [==============================] - 0s 6ms/step - loss: 6291.5400 - mae: 6291.5400\n",
      "Epoch 59/200\n",
      "34/34 [==============================] - 0s 6ms/step - loss: 6276.0405 - mae: 6276.0405\n",
      "Epoch 60/200\n",
      "34/34 [==============================] - 0s 6ms/step - loss: 6264.7710 - mae: 6264.7710\n",
      "Epoch 61/200\n",
      "34/34 [==============================] - 0s 5ms/step - loss: 6244.5103 - mae: 6244.5103\n",
      "Epoch 62/200\n",
      "34/34 [==============================] - 0s 5ms/step - loss: 6231.0112 - mae: 6231.0112\n",
      "Epoch 63/200\n",
      "34/34 [==============================] - 0s 6ms/step - loss: 6212.1138 - mae: 6212.1138\n",
      "Epoch 64/200\n",
      "34/34 [==============================] - 0s 6ms/step - loss: 6194.5078 - mae: 6194.5078\n",
      "Epoch 65/200\n",
      "34/34 [==============================] - 0s 6ms/step - loss: 6176.6279 - mae: 6176.6279\n",
      "Epoch 66/200\n",
      "34/34 [==============================] - 0s 5ms/step - loss: 6158.4873 - mae: 6158.4873\n",
      "Epoch 67/200\n",
      "34/34 [==============================] - 0s 5ms/step - loss: 6144.6445 - mae: 6144.6445\n",
      "Epoch 68/200\n",
      "34/34 [==============================] - 0s 6ms/step - loss: 6121.2739 - mae: 6121.2739\n",
      "Epoch 69/200\n",
      "34/34 [==============================] - 0s 6ms/step - loss: 6104.3335 - mae: 6104.3335\n",
      "Epoch 70/200\n",
      "34/34 [==============================] - 0s 7ms/step - loss: 6082.9805 - mae: 6082.9805\n",
      "Epoch 71/200\n",
      "34/34 [==============================] - 0s 6ms/step - loss: 6062.1343 - mae: 6062.1343\n",
      "Epoch 72/200\n",
      "34/34 [==============================] - 0s 7ms/step - loss: 6042.1646 - mae: 6042.1646\n",
      "Epoch 73/200\n",
      "34/34 [==============================] - 0s 6ms/step - loss: 6025.9658 - mae: 6025.9658\n",
      "Epoch 74/200\n",
      "34/34 [==============================] - 0s 5ms/step - loss: 5996.4399 - mae: 5996.4399\n",
      "Epoch 75/200\n",
      "34/34 [==============================] - 0s 5ms/step - loss: 5974.1504 - mae: 5974.1504\n",
      "Epoch 76/200\n",
      "34/34 [==============================] - 0s 6ms/step - loss: 5958.6245 - mae: 5958.6245\n",
      "Epoch 77/200\n",
      "34/34 [==============================] - 0s 6ms/step - loss: 5924.8286 - mae: 5924.8286\n",
      "Epoch 78/200\n",
      "34/34 [==============================] - 0s 6ms/step - loss: 5899.1968 - mae: 5899.1968\n",
      "Epoch 79/200\n",
      "34/34 [==============================] - 0s 7ms/step - loss: 5872.9321 - mae: 5872.9321\n",
      "Epoch 80/200\n",
      "34/34 [==============================] - 0s 5ms/step - loss: 5843.1084 - mae: 5843.1084\n",
      "Epoch 81/200\n",
      "34/34 [==============================] - 0s 5ms/step - loss: 5816.1992 - mae: 5816.1997\n",
      "Epoch 82/200\n",
      "34/34 [==============================] - 0s 6ms/step - loss: 5785.0981 - mae: 5785.0981\n",
      "Epoch 83/200\n",
      "34/34 [==============================] - 0s 6ms/step - loss: 5755.3716 - mae: 5755.3716\n",
      "Epoch 84/200\n",
      "34/34 [==============================] - 0s 6ms/step - loss: 5718.9692 - mae: 5718.9692\n",
      "Epoch 85/200\n",
      "34/34 [==============================] - 0s 6ms/step - loss: 5690.4473 - mae: 5690.4473\n",
      "Epoch 86/200\n",
      "34/34 [==============================] - 0s 6ms/step - loss: 5653.9321 - mae: 5653.9321\n",
      "Epoch 87/200\n",
      "34/34 [==============================] - 0s 6ms/step - loss: 5615.7490 - mae: 5615.7490\n",
      "Epoch 88/200\n",
      "34/34 [==============================] - 0s 5ms/step - loss: 5576.6123 - mae: 5576.6123\n",
      "Epoch 89/200\n",
      "34/34 [==============================] - 0s 4ms/step - loss: 5535.6709 - mae: 5535.6709\n",
      "Epoch 90/200\n",
      "34/34 [==============================] - 0s 5ms/step - loss: 5490.3994 - mae: 5490.3994\n",
      "Epoch 91/200\n",
      "34/34 [==============================] - 0s 5ms/step - loss: 5450.3042 - mae: 5450.3042\n",
      "Epoch 92/200\n",
      "34/34 [==============================] - 0s 5ms/step - loss: 5398.0679 - mae: 5398.0679\n",
      "Epoch 93/200\n",
      "34/34 [==============================] - 0s 6ms/step - loss: 5352.4062 - mae: 5352.4062\n",
      "Epoch 94/200\n",
      "34/34 [==============================] - 0s 7ms/step - loss: 5300.9565 - mae: 5300.9565\n",
      "Epoch 95/200\n",
      "34/34 [==============================] - 0s 7ms/step - loss: 5246.8223 - mae: 5246.8223\n",
      "Epoch 96/200\n",
      "34/34 [==============================] - 0s 6ms/step - loss: 5196.3638 - mae: 5196.3638\n",
      "Epoch 97/200\n",
      "34/34 [==============================] - 0s 4ms/step - loss: 5138.6455 - mae: 5138.6455\n",
      "Epoch 98/200\n",
      "34/34 [==============================] - 0s 4ms/step - loss: 5072.2925 - mae: 5072.2925\n",
      "Epoch 99/200\n",
      "34/34 [==============================] - 0s 4ms/step - loss: 5008.5615 - mae: 5008.5615\n",
      "Epoch 100/200\n",
      "34/34 [==============================] - 0s 4ms/step - loss: 4948.8608 - mae: 4948.8608\n",
      "Epoch 101/200\n",
      "34/34 [==============================] - 0s 6ms/step - loss: 4872.7061 - mae: 4872.7061\n",
      "Epoch 102/200\n",
      "34/34 [==============================] - 0s 5ms/step - loss: 4793.5718 - mae: 4793.5718\n",
      "Epoch 103/200\n",
      "34/34 [==============================] - 0s 5ms/step - loss: 4720.7559 - mae: 4720.7559\n",
      "Epoch 104/200\n",
      "34/34 [==============================] - 0s 6ms/step - loss: 4636.4448 - mae: 4636.4448\n",
      "Epoch 105/200\n",
      "34/34 [==============================] - 0s 6ms/step - loss: 4544.7627 - mae: 4544.7627\n",
      "Epoch 106/200\n",
      "34/34 [==============================] - 0s 7ms/step - loss: 4459.8354 - mae: 4459.8354\n",
      "Epoch 107/200\n",
      "34/34 [==============================] - 0s 7ms/step - loss: 4375.4043 - mae: 4375.4043\n",
      "Epoch 108/200\n",
      "34/34 [==============================] - 0s 6ms/step - loss: 4290.2588 - mae: 4290.2588\n",
      "Epoch 109/200\n",
      "34/34 [==============================] - 0s 6ms/step - loss: 4206.8755 - mae: 4206.8755\n",
      "Epoch 110/200\n",
      "34/34 [==============================] - 0s 4ms/step - loss: 4129.8008 - mae: 4129.8008\n",
      "Epoch 111/200\n",
      "34/34 [==============================] - 0s 4ms/step - loss: 4060.3083 - mae: 4060.3083\n",
      "Epoch 112/200\n",
      "34/34 [==============================] - 0s 4ms/step - loss: 4005.0447 - mae: 4005.0447\n",
      "Epoch 113/200\n",
      "34/34 [==============================] - 0s 4ms/step - loss: 3956.7209 - mae: 3956.7209\n",
      "Epoch 114/200\n",
      "34/34 [==============================] - 0s 4ms/step - loss: 3936.5261 - mae: 3936.5261\n",
      "Epoch 115/200\n",
      "34/34 [==============================] - 0s 4ms/step - loss: 3894.5044 - mae: 3894.5044\n",
      "Epoch 116/200\n",
      "34/34 [==============================] - 0s 4ms/step - loss: 3882.6184 - mae: 3882.6184\n",
      "Epoch 117/200\n",
      "34/34 [==============================] - 0s 6ms/step - loss: 3866.5703 - mae: 3866.5703\n",
      "Epoch 118/200\n",
      "34/34 [==============================] - 0s 5ms/step - loss: 3848.7825 - mae: 3848.7825\n",
      "Epoch 119/200\n",
      "34/34 [==============================] - 0s 4ms/step - loss: 3832.7595 - mae: 3832.7595\n",
      "Epoch 120/200\n",
      "34/34 [==============================] - 0s 4ms/step - loss: 3821.3740 - mae: 3821.3740\n",
      "Epoch 121/200\n",
      "34/34 [==============================] - 0s 4ms/step - loss: 3814.3132 - mae: 3814.3132\n",
      "Epoch 122/200\n",
      "34/34 [==============================] - 0s 4ms/step - loss: 3809.3569 - mae: 3809.3569\n",
      "Epoch 123/200\n",
      "34/34 [==============================] - 0s 4ms/step - loss: 3802.9404 - mae: 3802.9404\n",
      "Epoch 124/200\n",
      "34/34 [==============================] - 0s 5ms/step - loss: 3795.9014 - mae: 3795.9014\n",
      "Epoch 125/200\n",
      "34/34 [==============================] - 0s 4ms/step - loss: 3787.3167 - mae: 3787.3167\n",
      "Epoch 126/200\n",
      "34/34 [==============================] - 0s 4ms/step - loss: 3796.9465 - mae: 3796.9465\n",
      "Epoch 127/200\n",
      "34/34 [==============================] - 0s 4ms/step - loss: 3791.7463 - mae: 3791.7463\n",
      "Epoch 128/200\n",
      "34/34 [==============================] - 0s 5ms/step - loss: 3785.2798 - mae: 3785.2798\n",
      "Epoch 129/200\n",
      "34/34 [==============================] - 0s 4ms/step - loss: 3798.2805 - mae: 3798.2805\n",
      "Epoch 130/200\n",
      "34/34 [==============================] - 0s 5ms/step - loss: 3785.9438 - mae: 3785.9438\n",
      "Epoch 131/200\n",
      "34/34 [==============================] - 0s 5ms/step - loss: 3777.4036 - mae: 3777.4036\n",
      "Epoch 132/200\n",
      "34/34 [==============================] - 0s 5ms/step - loss: 3771.2500 - mae: 3771.2500\n",
      "Epoch 133/200\n",
      "34/34 [==============================] - 0s 5ms/step - loss: 3766.9785 - mae: 3766.9785\n",
      "Epoch 134/200\n",
      "34/34 [==============================] - 0s 4ms/step - loss: 3766.1670 - mae: 3766.1670\n",
      "Epoch 135/200\n",
      "34/34 [==============================] - 0s 4ms/step - loss: 3763.2712 - mae: 3763.2712\n",
      "Epoch 136/200\n",
      "34/34 [==============================] - 0s 4ms/step - loss: 3763.1428 - mae: 3763.1428\n",
      "Epoch 137/200\n",
      "34/34 [==============================] - 0s 4ms/step - loss: 3769.9963 - mae: 3769.9966\n",
      "Epoch 138/200\n",
      "34/34 [==============================] - 0s 5ms/step - loss: 3778.0857 - mae: 3778.0857\n",
      "Epoch 139/200\n",
      "34/34 [==============================] - 0s 6ms/step - loss: 3757.7100 - mae: 3757.7100\n",
      "Epoch 140/200\n",
      "34/34 [==============================] - 0s 5ms/step - loss: 3758.4919 - mae: 3758.4919\n",
      "Epoch 141/200\n",
      "34/34 [==============================] - 0s 4ms/step - loss: 3760.3459 - mae: 3760.3459\n",
      "Epoch 142/200\n",
      "34/34 [==============================] - 0s 4ms/step - loss: 3762.0095 - mae: 3762.0095\n",
      "Epoch 143/200\n",
      "34/34 [==============================] - 0s 5ms/step - loss: 3751.1072 - mae: 3751.1072\n",
      "Epoch 144/200\n",
      "34/34 [==============================] - 0s 4ms/step - loss: 3747.3215 - mae: 3747.3215\n",
      "Epoch 145/200\n",
      "34/34 [==============================] - 0s 5ms/step - loss: 3747.4531 - mae: 3747.4531\n",
      "Epoch 146/200\n",
      "34/34 [==============================] - 0s 4ms/step - loss: 3753.7842 - mae: 3753.7842\n",
      "Epoch 147/200\n",
      "34/34 [==============================] - 0s 4ms/step - loss: 3747.3601 - mae: 3747.3601\n",
      "Epoch 148/200\n",
      "34/34 [==============================] - 0s 4ms/step - loss: 3752.0872 - mae: 3752.0872\n",
      "Epoch 149/200\n",
      "34/34 [==============================] - 0s 5ms/step - loss: 3740.4009 - mae: 3740.4009\n",
      "Epoch 150/200\n",
      "34/34 [==============================] - 0s 4ms/step - loss: 3735.5464 - mae: 3735.5464\n",
      "Epoch 151/200\n",
      "34/34 [==============================] - 0s 4ms/step - loss: 3738.1045 - mae: 3738.1045\n",
      "Epoch 152/200\n",
      "34/34 [==============================] - 0s 5ms/step - loss: 3739.7668 - mae: 3739.7668\n",
      "Epoch 153/200\n",
      "34/34 [==============================] - 0s 4ms/step - loss: 3741.8708 - mae: 3741.8708\n",
      "Epoch 154/200\n",
      "34/34 [==============================] - 0s 4ms/step - loss: 3734.0547 - mae: 3734.0547\n",
      "Epoch 155/200\n",
      "34/34 [==============================] - 0s 4ms/step - loss: 3735.7283 - mae: 3735.7283\n",
      "Epoch 156/200\n",
      "34/34 [==============================] - 0s 5ms/step - loss: 3733.5942 - mae: 3733.5942\n",
      "Epoch 157/200\n",
      "34/34 [==============================] - 0s 5ms/step - loss: 3728.9395 - mae: 3728.9395\n",
      "Epoch 158/200\n",
      "34/34 [==============================] - 0s 5ms/step - loss: 3726.0325 - mae: 3726.0325\n",
      "Epoch 159/200\n",
      "34/34 [==============================] - 0s 5ms/step - loss: 3722.8950 - mae: 3722.8950\n",
      "Epoch 160/200\n",
      "34/34 [==============================] - 0s 6ms/step - loss: 3730.3586 - mae: 3730.3586\n",
      "Epoch 161/200\n",
      "34/34 [==============================] - 0s 5ms/step - loss: 3724.4758 - mae: 3724.4758\n",
      "Epoch 162/200\n",
      "34/34 [==============================] - 0s 4ms/step - loss: 3720.3936 - mae: 3720.3936\n",
      "Epoch 163/200\n",
      "34/34 [==============================] - 0s 5ms/step - loss: 3718.9707 - mae: 3718.9707\n",
      "Epoch 164/200\n",
      "34/34 [==============================] - 0s 4ms/step - loss: 3724.0376 - mae: 3724.0376\n",
      "Epoch 165/200\n",
      "34/34 [==============================] - 0s 5ms/step - loss: 3713.2847 - mae: 3713.2847\n",
      "Epoch 166/200\n",
      "34/34 [==============================] - 0s 5ms/step - loss: 3718.1343 - mae: 3718.1343\n",
      "Epoch 167/200\n",
      "34/34 [==============================] - 0s 4ms/step - loss: 3719.0088 - mae: 3719.0088\n",
      "Epoch 168/200\n",
      "34/34 [==============================] - 0s 5ms/step - loss: 3713.0571 - mae: 3713.0571\n",
      "Epoch 169/200\n",
      "34/34 [==============================] - 0s 4ms/step - loss: 3710.9456 - mae: 3710.9456\n",
      "Epoch 170/200\n",
      "34/34 [==============================] - 0s 4ms/step - loss: 3704.9871 - mae: 3704.9871\n",
      "Epoch 171/200\n",
      "34/34 [==============================] - 0s 4ms/step - loss: 3704.6504 - mae: 3704.6504\n",
      "Epoch 172/200\n",
      "34/34 [==============================] - 0s 5ms/step - loss: 3706.7190 - mae: 3706.7190\n",
      "Epoch 173/200\n",
      "34/34 [==============================] - 0s 5ms/step - loss: 3702.4456 - mae: 3702.4456\n",
      "Epoch 174/200\n",
      "34/34 [==============================] - 0s 5ms/step - loss: 3706.0862 - mae: 3706.0862\n",
      "Epoch 175/200\n",
      "34/34 [==============================] - 0s 4ms/step - loss: 3707.2080 - mae: 3707.2080\n",
      "Epoch 176/200\n",
      "34/34 [==============================] - 0s 5ms/step - loss: 3704.6389 - mae: 3704.6389\n",
      "Epoch 177/200\n",
      "34/34 [==============================] - 0s 4ms/step - loss: 3696.5400 - mae: 3696.5400\n",
      "Epoch 178/200\n",
      "34/34 [==============================] - 0s 4ms/step - loss: 3691.5217 - mae: 3691.5217\n",
      "Epoch 179/200\n",
      "34/34 [==============================] - 0s 4ms/step - loss: 3703.3159 - mae: 3703.3159\n",
      "Epoch 180/200\n",
      "34/34 [==============================] - 0s 5ms/step - loss: 3708.1077 - mae: 3708.1077\n",
      "Epoch 181/200\n",
      "34/34 [==============================] - 0s 6ms/step - loss: 3692.8313 - mae: 3692.8313\n",
      "Epoch 182/200\n",
      "34/34 [==============================] - 0s 5ms/step - loss: 3690.6160 - mae: 3690.6160\n",
      "Epoch 183/200\n",
      "34/34 [==============================] - 0s 5ms/step - loss: 3689.2800 - mae: 3689.2800\n",
      "Epoch 184/200\n",
      "34/34 [==============================] - 0s 4ms/step - loss: 3695.9043 - mae: 3695.9043\n",
      "Epoch 185/200\n",
      "34/34 [==============================] - 0s 4ms/step - loss: 3688.9512 - mae: 3688.9512\n",
      "Epoch 186/200\n",
      "34/34 [==============================] - 0s 4ms/step - loss: 3691.9131 - mae: 3691.9131\n",
      "Epoch 187/200\n",
      "34/34 [==============================] - 0s 5ms/step - loss: 3685.2915 - mae: 3685.2915\n",
      "Epoch 188/200\n",
      "34/34 [==============================] - 0s 4ms/step - loss: 3691.4392 - mae: 3691.4392\n",
      "Epoch 189/200\n",
      "34/34 [==============================] - 0s 4ms/step - loss: 3680.2732 - mae: 3680.2732\n",
      "Epoch 190/200\n",
      "34/34 [==============================] - 0s 4ms/step - loss: 3680.8298 - mae: 3680.8298\n",
      "Epoch 191/200\n",
      "34/34 [==============================] - 0s 4ms/step - loss: 3698.5420 - mae: 3698.5420\n",
      "Epoch 192/200\n",
      "34/34 [==============================] - 0s 5ms/step - loss: 3682.9800 - mae: 3682.9800\n",
      "Epoch 193/200\n",
      "34/34 [==============================] - 0s 5ms/step - loss: 3671.6067 - mae: 3671.6067\n",
      "Epoch 194/200\n",
      "34/34 [==============================] - 0s 5ms/step - loss: 3672.9690 - mae: 3672.9690\n",
      "Epoch 195/200\n",
      "34/34 [==============================] - 0s 4ms/step - loss: 3669.9600 - mae: 3669.9600\n",
      "Epoch 196/200\n",
      "34/34 [==============================] - 0s 4ms/step - loss: 3679.0103 - mae: 3679.0103\n",
      "Epoch 197/200\n",
      "34/34 [==============================] - 0s 4ms/step - loss: 3663.0002 - mae: 3663.0002\n",
      "Epoch 198/200\n",
      "34/34 [==============================] - 0s 4ms/step - loss: 3668.7891 - mae: 3668.7891\n",
      "Epoch 199/200\n",
      "34/34 [==============================] - 0s 5ms/step - loss: 3677.3701 - mae: 3677.3701\n",
      "Epoch 200/200\n",
      "34/34 [==============================] - 0s 4ms/step - loss: 3665.9021 - mae: 3665.9021\n"
     ]
    }
   ],
   "execution_count": 88
  },
  {
   "cell_type": "code",
   "source": [
    "# Evaluate our third model\n",
    "insurance_model_3.evaluate(X_test, y_test)"
   ],
   "metadata": {
    "collapsed": false,
    "ExecuteTime": {
     "end_time": "2025-01-28T11:13:05.676907Z",
     "start_time": "2025-01-28T11:13:05.538991Z"
    }
   },
   "id": "3f4dc53266f65536",
   "outputs": [
    {
     "name": "stdout",
     "output_type": "stream",
     "text": [
      "9/9 [==============================] - 0s 5ms/step - loss: 3492.2832 - mae: 3492.2832\n"
     ]
    },
    {
     "data": {
      "text/plain": [
       "[3492.283203125, 3492.283203125]"
      ]
     },
     "execution_count": 89,
     "metadata": {},
     "output_type": "execute_result"
    }
   ],
   "execution_count": 89
  },
  {
   "cell_type": "code",
   "source": [
    "insurance_model.evaluate(X_test, y_test)"
   ],
   "metadata": {
    "collapsed": false,
    "ExecuteTime": {
     "end_time": "2025-01-28T11:13:07.800406Z",
     "start_time": "2025-01-28T11:13:07.662294Z"
    }
   },
   "id": "73bee1d426123d5e",
   "outputs": [
    {
     "name": "stdout",
     "output_type": "stream",
     "text": [
      "9/9 [==============================] - 0s 5ms/step - loss: 7944.6133 - mae: 7944.6133\n"
     ]
    },
    {
     "data": {
      "text/plain": [
       "[7944.61328125, 7944.61328125]"
      ]
     },
     "execution_count": 90,
     "metadata": {},
     "output_type": "execute_result"
    }
   ],
   "execution_count": 90
  },
  {
   "cell_type": "code",
   "source": [
    "# Plot history (also known as a loss curve or a training curve)\n",
    "pd.DataFrame(history.history).plot()\n",
    "plt.ylabel(\"loss\")\n",
    "plt.xlabel(\"epochs\")"
   ],
   "metadata": {
    "collapsed": false,
    "ExecuteTime": {
     "end_time": "2025-01-28T11:13:09.837716Z",
     "start_time": "2025-01-28T11:13:09.660270Z"
    }
   },
   "id": "492df7d0a97992e9",
   "outputs": [
    {
     "data": {
      "text/plain": [
       "Text(0.5, 0, 'epochs')"
      ]
     },
     "execution_count": 91,
     "metadata": {},
     "output_type": "execute_result"
    },
    {
     "data": {
      "text/plain": [
       "<Figure size 640x480 with 1 Axes>"
      ],
      "image/png": "[encoded data removed]"
     },
     "metadata": {},
     "output_type": "display_data"
    }
   ],
   "execution_count": 91
  },
  {
   "cell_type": "markdown",
   "source": [
    "> 🤔 **Question:** How long should you train for? \n",
    "\n",
    "It depends. Really... it depends on the problem you're working on. However, many people have asked this question before... so TensorFlow has a solution! It's called the [EarlyStopping Callback](https://www.tensorflow.org/api_docs/python/tf/keras/callbacks/EarlyStopping), which is a TensorFlow component you can add to your model to stop training once it stops improving a certain metric."
   ],
   "metadata": {
    "collapsed": false
   },
   "id": "e7db529b9bae5eae"
  },
  {
   "cell_type": "markdown",
   "source": [
    "## Preprocessing data (normalization and standardization)\n",
    "\n",
    "In terms of scalimg values, neural networks tend to prefer normalization.\n",
    "\n",
    "If you're not sure on which to use, you could try both and see which performs better."
   ],
   "metadata": {
    "collapsed": false
   },
   "id": "48dd68ad2f5d20e4"
  },
  {
   "cell_type": "code",
   "source": [
    "import pandas as pd\n",
    "import matplotlib.pyplot as plt\n",
    "import tensorflow as tf\n",
    "\n",
    "# Read in the insurance dataframe\n",
    "insurance = pd.read_csv(\"Dataset/insurance.csv\")\n",
    "insurance"
   ],
   "metadata": {
    "collapsed": false,
    "ExecuteTime": {
     "end_time": "2025-01-28T11:13:20.583984Z",
     "start_time": "2025-01-28T11:13:20.568471Z"
    }
   },
   "id": "6bd1bd58c7317a5",
   "outputs": [
    {
     "data": {
      "text/plain": [
       "      age     sex     bmi  children smoker     region      charges\n",
       "0      19  female  27.900         0    yes  southwest  16884.92400\n",
       "1      18    male  33.770         1     no  southeast   1725.55230\n",
       "2      28    male  33.000         3     no  southeast   4449.46200\n",
       "3      33    male  22.705         0     no  northwest  21984.47061\n",
       "4      32    male  28.880         0     no  northwest   3866.85520\n",
       "...   ...     ...     ...       ...    ...        ...          ...\n",
       "1333   50    male  30.970         3     no  northwest  10600.54830\n",
       "1334   18  female  31.920         0     no  northeast   2205.98080\n",
       "1335   18  female  36.850         0     no  southeast   1629.83350\n",
       "1336   21  female  25.800         0     no  southwest   2007.94500\n",
       "1337   61  female  29.070         0    yes  northwest  29141.36030\n",
       "\n",
       "[1338 rows x 7 columns]"
      ],
      "text/html": [
       "<div>\n",
       "<style scoped>\n",
       "    .dataframe tbody tr th:only-of-type {\n",
       "        vertical-align: middle;\n",
       "    }\n",
       "\n",
       "    .dataframe tbody tr th {\n",
       "        vertical-align: top;\n",
       "    }\n",
       "\n",
       "    .dataframe thead th {\n",
       "        text-align: right;\n",
       "    }\n",
       "</style>\n",
       "<table border=\"1\" class=\"dataframe\">\n",
       "  <thead>\n",
       "    <tr style=\"text-align: right;\">\n",
       "      <th></th>\n",
       "      <th>age</th>\n",
       "      <th>sex</th>\n",
       "      <th>bmi</th>\n",
       "      <th>children</th>\n",
       "      <th>smoker</th>\n",
       "      <th>region</th>\n",
       "      <th>charges</th>\n",
       "    </tr>\n",
       "  </thead>\n",
       "  <tbody>\n",
       "    <tr>\n",
       "      <th>0</th>\n",
       "      <td>19</td>\n",
       "      <td>female</td>\n",
       "      <td>27.900</td>\n",
       "      <td>0</td>\n",
       "      <td>yes</td>\n",
       "      <td>southwest</td>\n",
       "      <td>16884.92400</td>\n",
       "    </tr>\n",
       "    <tr>\n",
       "      <th>1</th>\n",
       "      <td>18</td>\n",
       "      <td>male</td>\n",
       "      <td>33.770</td>\n",
       "      <td>1</td>\n",
       "      <td>no</td>\n",
       "      <td>southeast</td>\n",
       "      <td>1725.55230</td>\n",
       "    </tr>\n",
       "    <tr>\n",
       "      <th>2</th>\n",
       "      <td>28</td>\n",
       "      <td>male</td>\n",
       "      <td>33.000</td>\n",
       "      <td>3</td>\n",
       "      <td>no</td>\n",
       "      <td>southeast</td>\n",
       "      <td>4449.46200</td>\n",
       "    </tr>\n",
       "    <tr>\n",
       "      <th>3</th>\n",
       "      <td>33</td>\n",
       "      <td>male</td>\n",
       "      <td>22.705</td>\n",
       "      <td>0</td>\n",
       "      <td>no</td>\n",
       "      <td>northwest</td>\n",
       "      <td>21984.47061</td>\n",
       "    </tr>\n",
       "    <tr>\n",
       "      <th>4</th>\n",
       "      <td>32</td>\n",
       "      <td>male</td>\n",
       "      <td>28.880</td>\n",
       "      <td>0</td>\n",
       "      <td>no</td>\n",
       "      <td>northwest</td>\n",
       "      <td>3866.85520</td>\n",
       "    </tr>\n",
       "    <tr>\n",
       "      <th>...</th>\n",
       "      <td>...</td>\n",
       "      <td>...</td>\n",
       "      <td>...</td>\n",
       "      <td>...</td>\n",
       "      <td>...</td>\n",
       "      <td>...</td>\n",
       "      <td>...</td>\n",
       "    </tr>\n",
       "    <tr>\n",
       "      <th>1333</th>\n",
       "      <td>50</td>\n",
       "      <td>male</td>\n",
       "      <td>30.970</td>\n",
       "      <td>3</td>\n",
       "      <td>no</td>\n",
       "      <td>northwest</td>\n",
       "      <td>10600.54830</td>\n",
       "    </tr>\n",
       "    <tr>\n",
       "      <th>1334</th>\n",
       "      <td>18</td>\n",
       "      <td>female</td>\n",
       "      <td>31.920</td>\n",
       "      <td>0</td>\n",
       "      <td>no</td>\n",
       "      <td>northeast</td>\n",
       "      <td>2205.98080</td>\n",
       "    </tr>\n",
       "    <tr>\n",
       "      <th>1335</th>\n",
       "      <td>18</td>\n",
       "      <td>female</td>\n",
       "      <td>36.850</td>\n",
       "      <td>0</td>\n",
       "      <td>no</td>\n",
       "      <td>southeast</td>\n",
       "      <td>1629.83350</td>\n",
       "    </tr>\n",
       "    <tr>\n",
       "      <th>1336</th>\n",
       "      <td>21</td>\n",
       "      <td>female</td>\n",
       "      <td>25.800</td>\n",
       "      <td>0</td>\n",
       "      <td>no</td>\n",
       "      <td>southwest</td>\n",
       "      <td>2007.94500</td>\n",
       "    </tr>\n",
       "    <tr>\n",
       "      <th>1337</th>\n",
       "      <td>61</td>\n",
       "      <td>female</td>\n",
       "      <td>29.070</td>\n",
       "      <td>0</td>\n",
       "      <td>yes</td>\n",
       "      <td>northwest</td>\n",
       "      <td>29141.36030</td>\n",
       "    </tr>\n",
       "  </tbody>\n",
       "</table>\n",
       "<p>1338 rows × 7 columns</p>\n",
       "</div>"
      ]
     },
     "execution_count": 93,
     "metadata": {},
     "output_type": "execute_result"
    }
   ],
   "execution_count": 93
  },
  {
   "cell_type": "markdown",
   "source": [
    "To prepare our data, we can borrow a few classes from Scikit-Learn."
   ],
   "metadata": {
    "collapsed": false
   },
   "id": "5877de47754a1938"
  },
  {
   "cell_type": "code",
   "source": [
    "from sklearn.compose import make_column_transformer\n",
    "from sklearn.preprocessing import MinMaxScaler, OneHotEncoder\n",
    "from sklearn.model_selection import train_test_split\n",
    "\n",
    "# Create a column transformer\n",
    "ct = make_column_transformer(\n",
    "    (MinMaxScaler(), [\"age\", \"bmi\", \"children\"]), # turn all values in theese columns between 0 and 1\n",
    "    (OneHotEncoder(handle_unknown=\"ignore\"), [\"sex\", \"smoker\", \"region\"])\n",
    ")\n",
    "\n",
    "# Create X & y\n",
    "X = insurance.drop(\"charges\", axis=1)\n",
    "y = insurance[\"charges\"]\n",
    "\n",
    "# Build our train and test sets\n",
    "X_train, X_test, y_train, y_test = train_test_split(X, y, test_size=0.2, random_state=42)\n",
    "\n",
    "# Fit the column transformer to our training data\n",
    "ct.fit(X_train)\n",
    "\n",
    "# Transform training and test data with normalization (MinMaxScaler) and OneHotEncoder\n",
    "X_train_normal = ct.transform(X_train)\n",
    "X_test_normal = ct.transform(X_test)"
   ],
   "metadata": {
    "collapsed": false,
    "ExecuteTime": {
     "end_time": "2025-01-28T11:13:23.496547Z",
     "start_time": "2025-01-28T11:13:23.471971Z"
    }
   },
   "id": "352e885019844f76",
   "outputs": [],
   "execution_count": 94
  },
  {
   "cell_type": "code",
   "source": [
    "# What does our data look like now?\n",
    "X_train.loc[0]"
   ],
   "metadata": {
    "collapsed": false,
    "ExecuteTime": {
     "end_time": "2025-01-28T11:13:26.371795Z",
     "start_time": "2025-01-28T11:13:26.364788Z"
    }
   },
   "id": "2d471eb84effea5c",
   "outputs": [
    {
     "data": {
      "text/plain": [
       "age                19\n",
       "sex            female\n",
       "bmi              27.9\n",
       "children            0\n",
       "smoker            yes\n",
       "region      southwest\n",
       "Name: 0, dtype: object"
      ]
     },
     "execution_count": 95,
     "metadata": {},
     "output_type": "execute_result"
    }
   ],
   "execution_count": 95
  },
  {
   "cell_type": "code",
   "source": [
    "X_train_normal[0]"
   ],
   "metadata": {
    "collapsed": false,
    "ExecuteTime": {
     "end_time": "2025-01-28T11:13:29.100660Z",
     "start_time": "2025-01-28T11:13:29.088138Z"
    }
   },
   "id": "c613d71fa18039fd",
   "outputs": [
    {
     "data": {
      "text/plain": [
       "array([0.60869565, 0.10734463, 0.4       , 1.        , 0.        ,\n",
       "       1.        , 0.        , 0.        , 1.        , 0.        ,\n",
       "       0.        ])"
      ]
     },
     "execution_count": 96,
     "metadata": {},
     "output_type": "execute_result"
    }
   ],
   "execution_count": 96
  },
  {
   "cell_type": "code",
   "source": [
    "X_train.shape, X_train_normal.shape"
   ],
   "metadata": {
    "collapsed": false,
    "ExecuteTime": {
     "end_time": "2025-01-28T11:13:32.912344Z",
     "start_time": "2025-01-28T11:13:32.901352Z"
    }
   },
   "id": "e3718cd0531b4824",
   "outputs": [
    {
     "data": {
      "text/plain": [
       "((1070, 6), (1070, 11))"
      ]
     },
     "execution_count": 97,
     "metadata": {},
     "output_type": "execute_result"
    }
   ],
   "execution_count": 97
  },
  {
   "cell_type": "code",
   "source": [
    "# Build a neural network model to fit on our normalized data\n",
    "tf.random.set_seed(42)\n",
    "\n",
    "# 1. Create the model\n",
    "insurance_model_4 = tf.keras.Sequential([\n",
    "    tf.keras.layers.Dense(100),\n",
    "    tf.keras.layers.Dense(10),\n",
    "    tf.keras.layers.Dense(1)\n",
    "])\n",
    "\n",
    "# 2. Compile the model\n",
    "insurance_model_4.compile(loss=tf.keras.losses.mae,\n",
    "                          optimizer=tf.keras.optimizers.Adam(),\n",
    "                          metrics=[\"mae\"])\n",
    "\n",
    "# 3. Fit the model\n",
    "insurance_model_4.fit(X_train_normal, y_train, epochs=100)"
   ],
   "metadata": {
    "collapsed": false,
    "ExecuteTime": {
     "end_time": "2025-01-28T11:13:56.379004Z",
     "start_time": "2025-01-28T11:13:34.447585Z"
    }
   },
   "id": "1e2657ffce7804e5",
   "outputs": [
    {
     "name": "stdout",
     "output_type": "stream",
     "text": [
      "Epoch 1/100\n",
      "34/34 [==============================] - 1s 10ms/step - loss: 13344.8750 - mae: 13344.8750\n",
      "Epoch 2/100\n",
      "34/34 [==============================] - 0s 9ms/step - loss: 13339.3057 - mae: 13339.3057\n",
      "Epoch 3/100\n",
      "34/34 [==============================] - 0s 10ms/step - loss: 13324.4102 - mae: 13324.4102\n",
      "Epoch 4/100\n",
      "34/34 [==============================] - 0s 9ms/step - loss: 13290.4648 - mae: 13290.4648\n",
      "Epoch 5/100\n",
      "34/34 [==============================] - 0s 10ms/step - loss: 13226.0068 - mae: 13226.0068\n",
      "Epoch 6/100\n",
      "34/34 [==============================] - 0s 10ms/step - loss: 13119.6758 - mae: 13119.6758\n",
      "Epoch 7/100\n",
      "34/34 [==============================] - 0s 10ms/step - loss: 12960.7021 - mae: 12960.7021\n",
      "Epoch 8/100\n",
      "34/34 [==============================] - 0s 10ms/step - loss: 12738.5205 - mae: 12738.5205\n",
      "Epoch 9/100\n",
      "34/34 [==============================] - 0s 8ms/step - loss: 12442.6465 - mae: 12442.6465\n",
      "Epoch 10/100\n",
      "34/34 [==============================] - 0s 9ms/step - loss: 12065.2676 - mae: 12065.2676\n",
      "Epoch 11/100\n",
      "34/34 [==============================] - 0s 11ms/step - loss: 11611.0469 - mae: 11611.0469\n",
      "Epoch 12/100\n",
      "34/34 [==============================] - 0s 8ms/step - loss: 11104.6143 - mae: 11104.6143\n",
      "Epoch 13/100\n",
      "34/34 [==============================] - 0s 8ms/step - loss: 10600.9814 - mae: 10600.9814\n",
      "Epoch 14/100\n",
      "34/34 [==============================] - 0s 8ms/step - loss: 10099.9746 - mae: 10099.9746\n",
      "Epoch 15/100\n",
      "34/34 [==============================] - 0s 6ms/step - loss: 9620.4990 - mae: 9620.4990\n",
      "Epoch 16/100\n",
      "34/34 [==============================] - 0s 6ms/step - loss: 9179.7207 - mae: 9179.7207\n",
      "Epoch 17/100\n",
      "34/34 [==============================] - 0s 6ms/step - loss: 8810.3262 - mae: 8810.3262\n",
      "Epoch 18/100\n",
      "34/34 [==============================] - 0s 6ms/step - loss: 8512.1357 - mae: 8512.1357\n",
      "Epoch 19/100\n",
      "34/34 [==============================] - 0s 6ms/step - loss: 8279.4150 - mae: 8279.4150\n",
      "Epoch 20/100\n",
      "34/34 [==============================] - 0s 6ms/step - loss: 8121.2710 - mae: 8121.2710\n",
      "Epoch 21/100\n",
      "34/34 [==============================] - 0s 6ms/step - loss: 8003.0586 - mae: 8003.0586\n",
      "Epoch 22/100\n",
      "34/34 [==============================] - 0s 6ms/step - loss: 7923.6372 - mae: 7923.6372\n",
      "Epoch 23/100\n",
      "34/34 [==============================] - 0s 6ms/step - loss: 7862.0659 - mae: 7862.0659\n",
      "Epoch 24/100\n",
      "34/34 [==============================] - 0s 7ms/step - loss: 7808.5986 - mae: 7808.5986\n",
      "Epoch 25/100\n",
      "34/34 [==============================] - 0s 6ms/step - loss: 7770.2104 - mae: 7770.2104\n",
      "Epoch 26/100\n",
      "34/34 [==============================] - 0s 6ms/step - loss: 7718.8882 - mae: 7718.8882\n",
      "Epoch 27/100\n",
      "34/34 [==============================] - 0s 6ms/step - loss: 7677.5420 - mae: 7677.5420\n",
      "Epoch 28/100\n",
      "34/34 [==============================] - 0s 6ms/step - loss: 7636.2378 - mae: 7636.2378\n",
      "Epoch 29/100\n",
      "34/34 [==============================] - 0s 6ms/step - loss: 7595.0049 - mae: 7595.0049\n",
      "Epoch 30/100\n",
      "34/34 [==============================] - 0s 6ms/step - loss: 7552.7290 - mae: 7552.7290\n",
      "Epoch 31/100\n",
      "34/34 [==============================] - 0s 5ms/step - loss: 7510.2319 - mae: 7510.2319\n",
      "Epoch 32/100\n",
      "34/34 [==============================] - 0s 6ms/step - loss: 7467.6450 - mae: 7467.6450\n",
      "Epoch 33/100\n",
      "34/34 [==============================] - 0s 6ms/step - loss: 7424.8350 - mae: 7424.8350\n",
      "Epoch 34/100\n",
      "34/34 [==============================] - 0s 8ms/step - loss: 7378.2754 - mae: 7378.2754\n",
      "Epoch 35/100\n",
      "34/34 [==============================] - 0s 7ms/step - loss: 7333.2173 - mae: 7333.2173\n",
      "Epoch 36/100\n",
      "34/34 [==============================] - 0s 5ms/step - loss: 7284.9082 - mae: 7284.9082\n",
      "Epoch 37/100\n",
      "34/34 [==============================] - 0s 6ms/step - loss: 7236.5786 - mae: 7236.5786\n",
      "Epoch 38/100\n",
      "34/34 [==============================] - 0s 6ms/step - loss: 7187.6714 - mae: 7187.6714\n",
      "Epoch 39/100\n",
      "34/34 [==============================] - 0s 6ms/step - loss: 7135.1562 - mae: 7135.1562\n",
      "Epoch 40/100\n",
      "34/34 [==============================] - 0s 5ms/step - loss: 7082.2344 - mae: 7082.2344\n",
      "Epoch 41/100\n",
      "34/34 [==============================] - 0s 6ms/step - loss: 7028.4893 - mae: 7028.4893\n",
      "Epoch 42/100\n",
      "34/34 [==============================] - 0s 6ms/step - loss: 6972.2349 - mae: 6972.2349\n",
      "Epoch 43/100\n",
      "34/34 [==============================] - 0s 6ms/step - loss: 6912.6963 - mae: 6912.6963\n",
      "Epoch 44/100\n",
      "34/34 [==============================] - 0s 5ms/step - loss: 6849.8047 - mae: 6849.8047\n",
      "Epoch 45/100\n",
      "34/34 [==============================] - 0s 6ms/step - loss: 6786.1636 - mae: 6786.1636\n",
      "Epoch 46/100\n",
      "34/34 [==============================] - 0s 6ms/step - loss: 6721.0229 - mae: 6721.0229\n",
      "Epoch 47/100\n",
      "34/34 [==============================] - 0s 6ms/step - loss: 6653.8081 - mae: 6653.8081\n",
      "Epoch 48/100\n",
      "34/34 [==============================] - 0s 6ms/step - loss: 6579.3145 - mae: 6579.3145\n",
      "Epoch 49/100\n",
      "34/34 [==============================] - 0s 6ms/step - loss: 6504.9116 - mae: 6504.9116\n",
      "Epoch 50/100\n",
      "34/34 [==============================] - 0s 6ms/step - loss: 6423.7407 - mae: 6423.7407\n",
      "Epoch 51/100\n",
      "34/34 [==============================] - 0s 5ms/step - loss: 6344.6641 - mae: 6344.6641\n",
      "Epoch 52/100\n",
      "34/34 [==============================] - 0s 6ms/step - loss: 6256.4688 - mae: 6256.4688\n",
      "Epoch 53/100\n",
      "34/34 [==============================] - 0s 7ms/step - loss: 6165.9360 - mae: 6165.9360\n",
      "Epoch 54/100\n",
      "34/34 [==============================] - 0s 6ms/step - loss: 6073.2192 - mae: 6073.2192\n",
      "Epoch 55/100\n",
      "34/34 [==============================] - 0s 6ms/step - loss: 5972.2432 - mae: 5972.2432\n",
      "Epoch 56/100\n",
      "34/34 [==============================] - 0s 7ms/step - loss: 5869.6523 - mae: 5869.6523\n",
      "Epoch 57/100\n",
      "34/34 [==============================] - 0s 6ms/step - loss: 5760.3091 - mae: 5760.3091\n",
      "Epoch 58/100\n",
      "34/34 [==============================] - 0s 6ms/step - loss: 5645.7651 - mae: 5645.7651\n",
      "Epoch 59/100\n",
      "34/34 [==============================] - 0s 6ms/step - loss: 5530.2876 - mae: 5530.2876\n",
      "Epoch 60/100\n",
      "34/34 [==============================] - 0s 7ms/step - loss: 5415.0884 - mae: 5415.0884\n",
      "Epoch 61/100\n",
      "34/34 [==============================] - 0s 7ms/step - loss: 5291.8354 - mae: 5291.8354\n",
      "Epoch 62/100\n",
      "34/34 [==============================] - 0s 5ms/step - loss: 5166.5137 - mae: 5166.5137\n",
      "Epoch 63/100\n",
      "34/34 [==============================] - 0s 5ms/step - loss: 5041.9268 - mae: 5041.9268\n",
      "Epoch 64/100\n",
      "34/34 [==============================] - 0s 6ms/step - loss: 4911.0859 - mae: 4911.0859\n",
      "Epoch 65/100\n",
      "34/34 [==============================] - 0s 6ms/step - loss: 4783.3013 - mae: 4783.3013\n",
      "Epoch 66/100\n",
      "34/34 [==============================] - 0s 6ms/step - loss: 4652.0679 - mae: 4652.0679\n",
      "Epoch 67/100\n",
      "34/34 [==============================] - 0s 6ms/step - loss: 4529.9365 - mae: 4529.9365\n",
      "Epoch 68/100\n",
      "34/34 [==============================] - 0s 5ms/step - loss: 4414.2822 - mae: 4414.2822\n",
      "Epoch 69/100\n",
      "34/34 [==============================] - 0s 6ms/step - loss: 4306.9375 - mae: 4306.9375\n",
      "Epoch 70/100\n",
      "34/34 [==============================] - 0s 6ms/step - loss: 4205.4536 - mae: 4205.4536\n",
      "Epoch 71/100\n",
      "34/34 [==============================] - 0s 6ms/step - loss: 4110.4082 - mae: 4110.4082\n",
      "Epoch 72/100\n",
      "34/34 [==============================] - 0s 7ms/step - loss: 4023.6597 - mae: 4023.6597\n",
      "Epoch 73/100\n",
      "34/34 [==============================] - 0s 6ms/step - loss: 3947.0498 - mae: 3947.0498\n",
      "Epoch 74/100\n",
      "34/34 [==============================] - 0s 7ms/step - loss: 3880.6394 - mae: 3880.6394\n",
      "Epoch 75/100\n",
      "34/34 [==============================] - 0s 6ms/step - loss: 3828.9854 - mae: 3828.9854\n",
      "Epoch 76/100\n",
      "34/34 [==============================] - 0s 6ms/step - loss: 3786.3193 - mae: 3786.3193\n",
      "Epoch 77/100\n",
      "34/34 [==============================] - 0s 6ms/step - loss: 3751.8723 - mae: 3751.8723\n",
      "Epoch 78/100\n",
      "34/34 [==============================] - 0s 6ms/step - loss: 3727.3269 - mae: 3727.3269\n",
      "Epoch 79/100\n",
      "34/34 [==============================] - 0s 6ms/step - loss: 3707.8711 - mae: 3707.8711\n",
      "Epoch 80/100\n",
      "34/34 [==============================] - 0s 6ms/step - loss: 3695.0137 - mae: 3695.0137\n",
      "Epoch 81/100\n",
      "34/34 [==============================] - 0s 5ms/step - loss: 3686.0383 - mae: 3686.0383\n",
      "Epoch 82/100\n",
      "34/34 [==============================] - 0s 6ms/step - loss: 3680.9668 - mae: 3680.9668\n",
      "Epoch 83/100\n",
      "34/34 [==============================] - 0s 5ms/step - loss: 3672.9561 - mae: 3672.9561\n",
      "Epoch 84/100\n",
      "34/34 [==============================] - 0s 4ms/step - loss: 3669.2681 - mae: 3669.2681\n",
      "Epoch 85/100\n",
      "34/34 [==============================] - 0s 4ms/step - loss: 3666.6360 - mae: 3666.6360\n",
      "Epoch 86/100\n",
      "34/34 [==============================] - 0s 4ms/step - loss: 3663.6587 - mae: 3663.6587\n",
      "Epoch 87/100\n",
      "34/34 [==============================] - 0s 5ms/step - loss: 3660.6863 - mae: 3660.6865\n",
      "Epoch 88/100\n",
      "34/34 [==============================] - 0s 5ms/step - loss: 3657.7737 - mae: 3657.7737\n",
      "Epoch 89/100\n",
      "34/34 [==============================] - 0s 4ms/step - loss: 3656.0435 - mae: 3656.0435\n",
      "Epoch 90/100\n",
      "34/34 [==============================] - 0s 4ms/step - loss: 3654.5515 - mae: 3654.5515\n",
      "Epoch 91/100\n",
      "34/34 [==============================] - 0s 5ms/step - loss: 3651.4561 - mae: 3651.4561\n",
      "Epoch 92/100\n",
      "34/34 [==============================] - 0s 4ms/step - loss: 3650.7830 - mae: 3650.7830\n",
      "Epoch 93/100\n",
      "34/34 [==============================] - 0s 4ms/step - loss: 3648.5859 - mae: 3648.5859\n",
      "Epoch 94/100\n",
      "34/34 [==============================] - 0s 5ms/step - loss: 3646.9451 - mae: 3646.9451\n",
      "Epoch 95/100\n",
      "34/34 [==============================] - 0s 5ms/step - loss: 3647.8528 - mae: 3647.8528\n",
      "Epoch 96/100\n",
      "34/34 [==============================] - 0s 4ms/step - loss: 3645.0081 - mae: 3645.0081\n",
      "Epoch 97/100\n",
      "34/34 [==============================] - 0s 5ms/step - loss: 3642.3191 - mae: 3642.3191\n",
      "Epoch 98/100\n",
      "34/34 [==============================] - 0s 4ms/step - loss: 3640.3477 - mae: 3640.3477\n",
      "Epoch 99/100\n",
      "34/34 [==============================] - 0s 4ms/step - loss: 3639.9138 - mae: 3639.9138\n",
      "Epoch 100/100\n",
      "34/34 [==============================] - 0s 4ms/step - loss: 3638.5056 - mae: 3638.5056\n"
     ]
    },
    {
     "data": {
      "text/plain": [
       "<keras.callbacks.History at 0x2295e1e6d90>"
      ]
     },
     "execution_count": 98,
     "metadata": {},
     "output_type": "execute_result"
    }
   ],
   "execution_count": 98
  },
  {
   "cell_type": "code",
   "source": [
    "# Evaluate our insurance model trained on normalized data\n",
    "insurance_model_4.evaluate(X_test_normal, y_test)"
   ],
   "metadata": {
    "collapsed": false,
    "ExecuteTime": {
     "end_time": "2025-01-28T11:33:55.577220Z",
     "start_time": "2025-01-28T11:33:55.440688Z"
    }
   },
   "id": "4fb3b657b6097d3",
   "outputs": [
    {
     "name": "stdout",
     "output_type": "stream",
     "text": [
      "9/9 [==============================] - 0s 4ms/step - loss: 3443.9329 - mae: 3443.9329\n"
     ]
    },
    {
     "data": {
      "text/plain": [
       "[3443.932861328125, 3443.932861328125]"
      ]
     },
     "execution_count": 99,
     "metadata": {},
     "output_type": "execute_result"
    }
   ],
   "execution_count": 99
  },
  {
   "cell_type": "code",
   "source": [
    "# Insurance model 2 results\n",
    "# 9/9 [==============================] - 0s 8ms/step - loss: 4895.3872 - mae: 4895.3872"
   ],
   "metadata": {
    "collapsed": false,
    "ExecuteTime": {
     "end_time": "2025-01-28T11:33:57.547178Z",
     "start_time": "2025-01-28T11:33:57.532160Z"
    }
   },
   "id": "91e076f0b6a086c1",
   "outputs": [],
   "execution_count": 100
  },
  {
   "cell_type": "code",
   "source": [
    "insurance_model_2.summary()"
   ],
   "metadata": {
    "collapsed": false,
    "ExecuteTime": {
     "end_time": "2025-01-28T12:02:10.551573Z",
     "start_time": "2025-01-28T12:02:10.531654Z"
    }
   },
   "id": "1c3942305d559523",
   "outputs": [
    {
     "name": "stdout",
     "output_type": "stream",
     "text": [
      "Model: \"sequential_8\"\n",
      "_________________________________________________________________\n",
      " Layer (type)                Output Shape              Param #   \n",
      "=================================================================\n",
      " dense_12 (Dense)            (None, 100)               1200      \n",
      "                                                                 \n",
      " dense_13 (Dense)            (None, 10)                1010      \n",
      "                                                                 \n",
      " dense_14 (Dense)            (None, 1)                 11        \n",
      "                                                                 \n",
      "=================================================================\n",
      "Total params: 2,221\n",
      "Trainable params: 2,221\n",
      "Non-trainable params: 0\n",
      "_________________________________________________________________\n"
     ]
    }
   ],
   "execution_count": 103
  },
  {
   "cell_type": "markdown",
   "source": [
    "Beautiful! Our data has been normalized and one hot encoded.\n",
    "Now let's build neural network model on it and see how it goes."
   ],
   "metadata": {
    "collapsed": false
   },
   "id": "d6820b5f46da4b9d"
  },
  {
   "cell_type": "code",
   "source": [
    "X[\"age\"].plot(kind=\"hist\")"
   ],
   "metadata": {
    "collapsed": false,
    "ExecuteTime": {
     "end_time": "2025-01-28T12:02:10.893416Z",
     "start_time": "2025-01-28T12:02:10.739232Z"
    }
   },
   "id": "55f0b1c8e43799f2",
   "outputs": [
    {
     "data": {
      "text/plain": [
       "<Axes: ylabel='Frequency'>"
      ]
     },
     "execution_count": 104,
     "metadata": {},
     "output_type": "execute_result"
    },
    {
     "data": {
      "text/plain": [
       "<Figure size 640x480 with 1 Axes>"
      ],
      "image/png": "[encoded data removed]"
     },
     "metadata": {},
     "output_type": "display_data"
    }
   ],
   "execution_count": 104
  },
  {
   "cell_type": "code",
   "source": [
    "X[\"bmi\"].plot(kind=\"hist\")"
   ],
   "metadata": {
    "collapsed": false,
    "ExecuteTime": {
     "end_time": "2025-01-28T12:02:11.113396Z",
     "start_time": "2025-01-28T12:02:10.960222Z"
    }
   },
   "id": "15141e0658c7ff0d",
   "outputs": [
    {
     "data": {
      "text/plain": [
       "<Axes: ylabel='Frequency'>"
      ]
     },
     "execution_count": 105,
     "metadata": {},
     "output_type": "execute_result"
    },
    {
     "data": {
      "text/plain": [
       "<Figure size 640x480 with 1 Axes>"
      ],
      "image/png": "[encoded data removed]"
     },
     "metadata": {},
     "output_type": "display_data"
    }
   ],
   "execution_count": 105
  },
  {
   "cell_type": "code",
   "source": [
    "X[\"children\"].value_counts()"
   ],
   "metadata": {
    "collapsed": false,
    "ExecuteTime": {
     "end_time": "2025-01-28T12:02:11.161670Z",
     "start_time": "2025-01-28T12:02:11.147509Z"
    }
   },
   "id": "e0601d61f80cc28e",
   "outputs": [
    {
     "data": {
      "text/plain": [
       "children\n",
       "0    574\n",
       "1    324\n",
       "2    240\n",
       "3    157\n",
       "4     25\n",
       "5     18\n",
       "Name: count, dtype: int64"
      ]
     },
     "execution_count": 106,
     "metadata": {},
     "output_type": "execute_result"
    }
   ],
   "execution_count": 106
  },
  {
   "cell_type": "code",
   "source": [],
   "metadata": {
    "collapsed": false,
    "ExecuteTime": {
     "end_time": "2025-01-28T12:02:11.271422Z",
     "start_time": "2025-01-28T12:02:11.260427Z"
    }
   },
   "id": "48ee7614f72d2bd4",
   "outputs": [],
   "execution_count": null
  }
 ],
 "metadata": {
  "kernelspec": {
   "name": "python3",
   "language": "python",
   "display_name": "Python 3 (ipykernel)"
  },
  "language_info": {
   "codemirror_mode": {
    "name": "ipython",
    "version": 2
   },
   "file_extension": ".py",
   "mimetype": "text/x-python",
   "name": "python",
   "nbconvert_exporter": "python",
   "pygments_lexer": "ipython2",
   "version": "2.7.6"
  },
  "colab": {
   "provenance": [],
   "gpuType": "T4"
  },
  "accelerator": "GPU"
 },
 "nbformat": 4,
 "nbformat_minor": 5
}
