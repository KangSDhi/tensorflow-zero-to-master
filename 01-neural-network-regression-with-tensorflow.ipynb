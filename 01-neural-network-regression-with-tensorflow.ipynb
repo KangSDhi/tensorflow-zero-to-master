{
 "cells": [
  {
   "cell_type": "markdown",
   "source": [
    "# Introduction to Regression with Neural Networks in TensorFlow\n",
    "\n",
    "There are many definitions for regression problem but in our case, we're going to simplify it: predicting a numerical variable based on some other combination of variables, even shorther... predicting a number."
   ],
   "metadata": {
    "collapsed": false,
    "id": "6ebb1111b9c93791"
   },
   "id": "6ebb1111b9c93791"
  },
  {
   "cell_type": "code",
   "execution_count": 1,
   "outputs": [
    {
     "name": "stderr",
     "output_type": "stream",
     "text": [
      "2023-10-02 14:52:05.682231: I tensorflow/core/platform/cpu_feature_guard.cc:182] This TensorFlow binary is optimized to use available CPU instructions in performance-critical operations.\n",
      "To enable the following instructions: SSE4.1 SSE4.2 AVX AVX2 FMA, in other operations, rebuild TensorFlow with the appropriate compiler flags.\n"
     ]
    },
    {
     "name": "stdout",
     "output_type": "stream",
     "text": [
      "2.12.0\n"
     ]
    }
   ],
   "source": [
    "# Import TensorFlow\n",
    "import tensorflow as tf\n",
    "print(tf.__version__)"
   ],
   "metadata": {
    "colab": {
     "base_uri": "https://localhost:8080/"
    },
    "id": "d4e5f09eca05ca59",
    "executionInfo": {
     "status": "ok",
     "timestamp": 1696076685065,
     "user_tz": -420,
     "elapsed": 6829,
     "user": {
      "displayName": "kang sigit",
      "userId": "15887135570512197739"
     }
    },
    "outputId": "8fac66e9-5ff3-47cc-a5a1-950e6758ea44",
    "ExecuteTime": {
     "end_time": "2023-10-02T07:52:08.900458427Z",
     "start_time": "2023-10-02T07:52:05.255257333Z"
    }
   },
   "id": "d4e5f09eca05ca59"
  },
  {
   "cell_type": "markdown",
   "source": [
    "## Creating data to view and fit"
   ],
   "metadata": {
    "collapsed": false,
    "id": "8407fe85818d8aac"
   },
   "id": "8407fe85818d8aac"
  },
  {
   "cell_type": "code",
   "execution_count": 2,
   "outputs": [
    {
     "data": {
      "text/plain": "<matplotlib.collections.PathCollection at 0x7f89aba47f90>"
     },
     "execution_count": 2,
     "metadata": {},
     "output_type": "execute_result"
    },
    {
     "data": {
      "text/plain": "<Figure size 640x480 with 1 Axes>",
      "image/png": "[encoded data removed]"
     },
     "metadata": {},
     "output_type": "display_data"
    }
   ],
   "source": [
    "import numpy as np\n",
    "import matplotlib.pyplot as plt\n",
    "\n",
    "# Create features\n",
    "X = np.array([-7.0, -4.0, -1.0, 2.0, 5.0, 8.0, 11.0, 14.0])\n",
    "\n",
    "# Create labels\n",
    "y = np.array([3.0, 6.0, 9.0, 12.0, 15.0, 18.0, 21.0, 24.0])\n",
    "\n",
    "# Visualize it\n",
    "plt.scatter(X, y)"
   ],
   "metadata": {
    "colab": {
     "base_uri": "https://localhost:8080/",
     "height": 453
    },
    "id": "135387d48040aa65",
    "executionInfo": {
     "status": "ok",
     "timestamp": 1696076685066,
     "user_tz": -420,
     "elapsed": 7,
     "user": {
      "displayName": "kang sigit",
      "userId": "15887135570512197739"
     }
    },
    "outputId": "4c919eb6-14cb-4524-bef2-d3a95e3bc6a2",
    "ExecuteTime": {
     "end_time": "2023-10-02T07:52:09.531830540Z",
     "start_time": "2023-10-02T07:52:08.896757201Z"
    }
   },
   "id": "135387d48040aa65"
  },
  {
   "cell_type": "code",
   "execution_count": 3,
   "outputs": [
    {
     "data": {
      "text/plain": "array([ True,  True,  True,  True,  True,  True,  True,  True])"
     },
     "execution_count": 3,
     "metadata": {},
     "output_type": "execute_result"
    }
   ],
   "source": [
    "y == X + 10"
   ],
   "metadata": {
    "colab": {
     "base_uri": "https://localhost:8080/"
    },
    "id": "35d94d5b061cfa67",
    "executionInfo": {
     "status": "ok",
     "timestamp": 1696076685862,
     "user_tz": -420,
     "elapsed": 801,
     "user": {
      "displayName": "kang sigit",
      "userId": "15887135570512197739"
     }
    },
    "outputId": "fd62bc5a-e1d3-41a5-9d24-79c48cbf489f",
    "ExecuteTime": {
     "end_time": "2023-10-02T07:52:09.584713634Z",
     "start_time": "2023-10-02T07:52:09.536218295Z"
    }
   },
   "id": "35d94d5b061cfa67"
  },
  {
   "cell_type": "markdown",
   "source": [
    "## Input and output shapes"
   ],
   "metadata": {
    "collapsed": false,
    "id": "420b161819373fbe"
   },
   "id": "420b161819373fbe"
  },
  {
   "cell_type": "code",
   "execution_count": 4,
   "outputs": [
    {
     "name": "stderr",
     "output_type": "stream",
     "text": [
      "2023-10-02 14:52:09.542992: I tensorflow/core/common_runtime/process_util.cc:146] Creating new thread pool with default inter op setting: 2. Tune using inter_op_parallelism_threads for best performance.\n"
     ]
    },
    {
     "data": {
      "text/plain": "(<tf.Tensor: shape=(3,), dtype=string, numpy=array([b'bedroom', b'bathroom', b'garage'], dtype=object)>,\n <tf.Tensor: shape=(1,), dtype=int32, numpy=array([939700], dtype=int32)>)"
     },
     "execution_count": 4,
     "metadata": {},
     "output_type": "execute_result"
    }
   ],
   "source": [
    "# Create a demo tensor for our housing price prediction problem\n",
    "house_info = tf.constant([\"bedroom\", \"bathroom\", \"garage\"])\n",
    "house_price = tf.constant([939700])\n",
    "house_info, house_price"
   ],
   "metadata": {
    "colab": {
     "base_uri": "https://localhost:8080/"
    },
    "id": "f6848417caa4070a",
    "executionInfo": {
     "status": "ok",
     "timestamp": 1696076689508,
     "user_tz": -420,
     "elapsed": 3647,
     "user": {
      "displayName": "kang sigit",
      "userId": "15887135570512197739"
     }
    },
    "outputId": "17142d0f-133c-473d-c2fd-96a0713c7db2",
    "ExecuteTime": {
     "end_time": "2023-10-02T07:52:09.764243646Z",
     "start_time": "2023-10-02T07:52:09.596472932Z"
    }
   },
   "id": "f6848417caa4070a"
  },
  {
   "cell_type": "code",
   "execution_count": 5,
   "outputs": [
    {
     "data": {
      "text/plain": "(-7.0, 3.0)"
     },
     "execution_count": 5,
     "metadata": {},
     "output_type": "execute_result"
    }
   ],
   "source": [
    "X[0], y[0]"
   ],
   "metadata": {
    "colab": {
     "base_uri": "https://localhost:8080/"
    },
    "id": "2af8bcb603f84f47",
    "executionInfo": {
     "status": "ok",
     "timestamp": 1696076689508,
     "user_tz": -420,
     "elapsed": 37,
     "user": {
      "displayName": "kang sigit",
      "userId": "15887135570512197739"
     }
    },
    "outputId": "c3a03743-3370-4244-8d69-6afbcb61deb7",
    "ExecuteTime": {
     "end_time": "2023-10-02T07:52:09.765408835Z",
     "start_time": "2023-10-02T07:52:09.609253319Z"
    }
   },
   "id": "2af8bcb603f84f47"
  },
  {
   "cell_type": "code",
   "execution_count": 6,
   "outputs": [
    {
     "data": {
      "text/plain": "(-4.0, 6.0)"
     },
     "execution_count": 6,
     "metadata": {},
     "output_type": "execute_result"
    }
   ],
   "source": [
    "X[1], y[1]"
   ],
   "metadata": {
    "colab": {
     "base_uri": "https://localhost:8080/"
    },
    "id": "abfb4fe2f54c9ccd",
    "executionInfo": {
     "status": "ok",
     "timestamp": 1696076689508,
     "user_tz": -420,
     "elapsed": 29,
     "user": {
      "displayName": "kang sigit",
      "userId": "15887135570512197739"
     }
    },
    "outputId": "7bfcf3da-00f5-421c-ae7e-d5586e94b2fc",
    "ExecuteTime": {
     "end_time": "2023-10-02T07:52:09.766649744Z",
     "start_time": "2023-10-02T07:52:09.652834616Z"
    }
   },
   "id": "abfb4fe2f54c9ccd"
  },
  {
   "cell_type": "code",
   "execution_count": 7,
   "outputs": [
    {
     "data": {
      "text/plain": "((), ())"
     },
     "execution_count": 7,
     "metadata": {},
     "output_type": "execute_result"
    }
   ],
   "source": [
    "input_shape = X[0].shape\n",
    "output_shape = y[0].shape\n",
    "input_shape, output_shape"
   ],
   "metadata": {
    "colab": {
     "base_uri": "https://localhost:8080/"
    },
    "id": "7ae73a2555815544",
    "executionInfo": {
     "status": "ok",
     "timestamp": 1696076689508,
     "user_tz": -420,
     "elapsed": 23,
     "user": {
      "displayName": "kang sigit",
      "userId": "15887135570512197739"
     }
    },
    "outputId": "c337f811-f992-417d-dba7-d3ccd3ced685",
    "ExecuteTime": {
     "end_time": "2023-10-02T07:52:09.783126857Z",
     "start_time": "2023-10-02T07:52:09.653444786Z"
    }
   },
   "id": "7ae73a2555815544"
  },
  {
   "cell_type": "code",
   "execution_count": 8,
   "outputs": [
    {
     "data": {
      "text/plain": "0"
     },
     "execution_count": 8,
     "metadata": {},
     "output_type": "execute_result"
    }
   ],
   "source": [
    "X[0].ndim"
   ],
   "metadata": {
    "colab": {
     "base_uri": "https://localhost:8080/"
    },
    "id": "8a2ef4c080258f67",
    "executionInfo": {
     "status": "ok",
     "timestamp": 1696076689508,
     "user_tz": -420,
     "elapsed": 17,
     "user": {
      "displayName": "kang sigit",
      "userId": "15887135570512197739"
     }
    },
    "outputId": "e61e1f1e-abc2-491b-9b2c-7f68a7adfc6c",
    "ExecuteTime": {
     "end_time": "2023-10-02T07:52:09.784729812Z",
     "start_time": "2023-10-02T07:52:09.653850222Z"
    }
   },
   "id": "8a2ef4c080258f67"
  },
  {
   "cell_type": "code",
   "execution_count": 9,
   "outputs": [
    {
     "data": {
      "text/plain": "(-7.0, 3.0)"
     },
     "execution_count": 9,
     "metadata": {},
     "output_type": "execute_result"
    }
   ],
   "source": [
    "X[0], y[0]"
   ],
   "metadata": {
    "colab": {
     "base_uri": "https://localhost:8080/"
    },
    "id": "8dfe9ccbe865992c",
    "executionInfo": {
     "status": "ok",
     "timestamp": 1696076689509,
     "user_tz": -420,
     "elapsed": 14,
     "user": {
      "displayName": "kang sigit",
      "userId": "15887135570512197739"
     }
    },
    "outputId": "d24feca7-e1d3-4194-e935-2ed8a9d36ff4",
    "ExecuteTime": {
     "end_time": "2023-10-02T07:52:09.785772430Z",
     "start_time": "2023-10-02T07:52:09.654209828Z"
    }
   },
   "id": "8dfe9ccbe865992c"
  },
  {
   "cell_type": "code",
   "execution_count": 10,
   "outputs": [
    {
     "data": {
      "text/plain": "(<tf.Tensor: shape=(8,), dtype=float32, numpy=array([-7., -4., -1.,  2.,  5.,  8., 11., 14.], dtype=float32)>,\n <tf.Tensor: shape=(8,), dtype=float32, numpy=array([ 3.,  6.,  9., 12., 15., 18., 21., 24.], dtype=float32)>)"
     },
     "execution_count": 10,
     "metadata": {},
     "output_type": "execute_result"
    }
   ],
   "source": [
    "# Turn our NumPy arrays into tensors with dtype float32\n",
    "X = tf.cast(tf.constant(X), dtype=tf.float32)\n",
    "y = tf.cast(tf.constant(y), dtype=tf.float32)\n",
    "X, y"
   ],
   "metadata": {
    "colab": {
     "base_uri": "https://localhost:8080/"
    },
    "id": "77e963d826e1c5ee",
    "executionInfo": {
     "status": "ok",
     "timestamp": 1696076689509,
     "user_tz": -420,
     "elapsed": 12,
     "user": {
      "displayName": "kang sigit",
      "userId": "15887135570512197739"
     }
    },
    "outputId": "b37e8890-b951-42d6-dd98-70b7876abe48",
    "ExecuteTime": {
     "end_time": "2023-10-02T07:52:09.794773304Z",
     "start_time": "2023-10-02T07:52:09.654574070Z"
    }
   },
   "id": "77e963d826e1c5ee"
  },
  {
   "cell_type": "code",
   "execution_count": 11,
   "outputs": [
    {
     "data": {
      "text/plain": "(TensorShape([]), TensorShape([]))"
     },
     "execution_count": 11,
     "metadata": {},
     "output_type": "execute_result"
    }
   ],
   "source": [
    "input_shape = X[0].shape\n",
    "output_shape = y[0].shape\n",
    "input_shape, output_shape"
   ],
   "metadata": {
    "colab": {
     "base_uri": "https://localhost:8080/"
    },
    "id": "14e27954e5032236",
    "executionInfo": {
     "status": "ok",
     "timestamp": 1696076689509,
     "user_tz": -420,
     "elapsed": 9,
     "user": {
      "displayName": "kang sigit",
      "userId": "15887135570512197739"
     }
    },
    "outputId": "56cd997f-b119-47d1-a2ec-58393a29ffe8",
    "ExecuteTime": {
     "end_time": "2023-10-02T07:52:09.795787113Z",
     "start_time": "2023-10-02T07:52:09.698949127Z"
    }
   },
   "id": "14e27954e5032236"
  },
  {
   "cell_type": "code",
   "execution_count": 12,
   "outputs": [
    {
     "data": {
      "text/plain": "<matplotlib.collections.PathCollection at 0x7f89ab7fb9d0>"
     },
     "execution_count": 12,
     "metadata": {},
     "output_type": "execute_result"
    },
    {
     "data": {
      "text/plain": "<Figure size 640x480 with 1 Axes>",
      "image/png": "[encoded data removed]"
     },
     "metadata": {},
     "output_type": "display_data"
    }
   ],
   "source": [
    "plt.scatter(X, y)"
   ],
   "metadata": {
    "colab": {
     "base_uri": "https://localhost:8080/",
     "height": 453
    },
    "id": "e697df78c938eedc",
    "executionInfo": {
     "status": "ok",
     "timestamp": 1696076690202,
     "user_tz": -420,
     "elapsed": 700,
     "user": {
      "displayName": "kang sigit",
      "userId": "15887135570512197739"
     }
    },
    "outputId": "67448415-bb04-4f88-a157-eed404725c38",
    "ExecuteTime": {
     "end_time": "2023-10-02T07:52:10.294115463Z",
     "start_time": "2023-10-02T07:52:09.699720958Z"
    }
   },
   "id": "e697df78c938eedc"
  },
  {
   "cell_type": "markdown",
   "source": [
    "## Steps in modeling with TensorFlow\n",
    "\n",
    "1. **Creating a model** - define the input and output layers, as well as the hidden layers of a deep learning model.\n",
    "2. **Compiling a model** - define the loss function (in other words, the function which tells our model how wrong it is) and the optimizer (tells our model how to improve the patterns its learning) and evaluation metrics (what we can use to interpret the performance our model).\n",
    "3. **Fitting a model** - letting the model try to find patterns between X & y (features and labels)."
   ],
   "metadata": {
    "collapsed": false,
    "id": "e9796f121f9b42fe"
   },
   "id": "e9796f121f9b42fe"
  },
  {
   "cell_type": "code",
   "execution_count": 13,
   "outputs": [],
   "source": [
    "# # Optionally, the first layer can receive an `input_shape` argument:\n",
    "# model = tf.keras.Sequential()\n",
    "# model.add(tf.keras.layers.Dense(8, input_shape=(16,)))\n",
    "# # Afterwards, we do automatic shape inference:\n",
    "# model.add(tf.keras.layers.Dense(4))\n",
    "#\n",
    "# model = tf.keras.Sequential()\n",
    "# model.add(tf.keras.layers.Dense(8, input_shape=(16, )))\n",
    "# ...\n",
    "#\n",
    "# model = tf.keras.Sequential()\n",
    "# model.add(tf.keras.layers.Dense(1))"
   ],
   "metadata": {
    "id": "e65f811a3ad5e9e1",
    "executionInfo": {
     "status": "ok",
     "timestamp": 1696076690202,
     "user_tz": -420,
     "elapsed": 6,
     "user": {
      "displayName": "kang sigit",
      "userId": "15887135570512197739"
     }
    },
    "ExecuteTime": {
     "end_time": "2023-10-02T07:52:10.305510786Z",
     "start_time": "2023-10-02T07:52:09.874953253Z"
    }
   },
   "id": "e65f811a3ad5e9e1"
  },
  {
   "cell_type": "code",
   "execution_count": 14,
   "outputs": [
    {
     "name": "stdout",
     "output_type": "stream",
     "text": [
      "Epoch 1/5\n",
      "1/1 [==============================] - 0s 446ms/step - loss: 18.9493 - mae: 18.9493\n",
      "Epoch 2/5\n",
      "1/1 [==============================] - 0s 5ms/step - loss: 18.6681 - mae: 18.6681\n",
      "Epoch 3/5\n",
      "1/1 [==============================] - 0s 5ms/step - loss: 18.3868 - mae: 18.3868\n",
      "Epoch 4/5\n",
      "1/1 [==============================] - 0s 5ms/step - loss: 18.1056 - mae: 18.1056\n",
      "Epoch 5/5\n",
      "1/1 [==============================] - 0s 7ms/step - loss: 17.8243 - mae: 17.8243\n"
     ]
    },
    {
     "data": {
      "text/plain": "<keras.callbacks.History at 0x7f89aba8d2d0>"
     },
     "execution_count": 14,
     "metadata": {},
     "output_type": "execute_result"
    }
   ],
   "source": [
    "# Set random seed\n",
    "tf.random.set_seed(42)\n",
    "\n",
    "# 1. Create a model using the Sequential API\n",
    "model = tf.keras.Sequential([\n",
    "    tf.keras.layers.Dense(1)\n",
    "])\n",
    "\n",
    "# 2. Compile the model\n",
    "model.compile(loss=tf.keras.losses.mae, # mae is short for mean absolute error\n",
    "              optimizer=tf.keras.optimizers.SGD(), # sgd is short for stochstic gradient descent\n",
    "              metrics=[\"mae\"])\n",
    "\n",
    "# 3. Fit the model\n",
    "# model.fit(X, y, epochs=5) # This line will error if you're running TensorFlow 2.7.0+!\n",
    "model.fit(tf.expand_dims(X, axis=-1), y, epochs=5)"
   ],
   "metadata": {
    "colab": {
     "base_uri": "https://localhost:8080/"
    },
    "id": "cc71e5f4aac7d8a6",
    "executionInfo": {
     "status": "ok",
     "timestamp": 1696076701552,
     "user_tz": -420,
     "elapsed": 11356,
     "user": {
      "displayName": "kang sigit",
      "userId": "15887135570512197739"
     }
    },
    "outputId": "9fd356b1-7413-439f-c3d2-b533cbde237b",
    "ExecuteTime": {
     "end_time": "2023-10-02T07:52:10.815589481Z",
     "start_time": "2023-10-02T07:52:09.903439033Z"
    }
   },
   "id": "cc71e5f4aac7d8a6"
  },
  {
   "cell_type": "code",
   "execution_count": 15,
   "outputs": [
    {
     "data": {
      "text/plain": "(<tf.Tensor: shape=(8,), dtype=float32, numpy=array([-7., -4., -1.,  2.,  5.,  8., 11., 14.], dtype=float32)>,\n <tf.Tensor: shape=(8,), dtype=float32, numpy=array([ 3.,  6.,  9., 12., 15., 18., 21., 24.], dtype=float32)>)"
     },
     "execution_count": 15,
     "metadata": {},
     "output_type": "execute_result"
    }
   ],
   "source": [
    "# Check out X and y\n",
    "X, y"
   ],
   "metadata": {
    "colab": {
     "base_uri": "https://localhost:8080/"
    },
    "id": "b1b4a1c994642378",
    "executionInfo": {
     "status": "ok",
     "timestamp": 1696076701553,
     "user_tz": -420,
     "elapsed": 7,
     "user": {
      "displayName": "kang sigit",
      "userId": "15887135570512197739"
     }
    },
    "outputId": "aee68bdb-665e-4b01-9458-935836d47971",
    "ExecuteTime": {
     "end_time": "2023-10-02T07:52:10.816806279Z",
     "start_time": "2023-10-02T07:52:10.654453258Z"
    }
   },
   "id": "b1b4a1c994642378"
  },
  {
   "cell_type": "code",
   "execution_count": 16,
   "outputs": [
    {
     "name": "stdout",
     "output_type": "stream",
     "text": [
      "1/1 [==============================] - 0s 92ms/step\n"
     ]
    },
    {
     "data": {
      "text/plain": "array([[-15.573973]], dtype=float32)"
     },
     "execution_count": 16,
     "metadata": {},
     "output_type": "execute_result"
    }
   ],
   "source": [
    "# Try and make a prediction using our model\n",
    "y_pred = model.predict([17.0])\n",
    "y_pred"
   ],
   "metadata": {
    "colab": {
     "base_uri": "https://localhost:8080/"
    },
    "id": "6c9feaa2ed2266c8",
    "executionInfo": {
     "status": "ok",
     "timestamp": 1696076702180,
     "user_tz": -420,
     "elapsed": 631,
     "user": {
      "displayName": "kang sigit",
      "userId": "15887135570512197739"
     }
    },
    "outputId": "2fe08450-005e-44df-934c-53ebd9df5b33",
    "ExecuteTime": {
     "end_time": "2023-10-02T07:52:11.030264302Z",
     "start_time": "2023-10-02T07:52:10.658652460Z"
    }
   },
   "id": "6c9feaa2ed2266c8"
  },
  {
   "cell_type": "code",
   "execution_count": 17,
   "outputs": [
    {
     "data": {
      "text/plain": "array([[-6.5739727]], dtype=float32)"
     },
     "execution_count": 17,
     "metadata": {},
     "output_type": "execute_result"
    }
   ],
   "source": [
    "y_pred + 9"
   ],
   "metadata": {
    "colab": {
     "base_uri": "https://localhost:8080/"
    },
    "id": "6ac8363b8e315b33",
    "executionInfo": {
     "status": "ok",
     "timestamp": 1696076702181,
     "user_tz": -420,
     "elapsed": 12,
     "user": {
      "displayName": "kang sigit",
      "userId": "15887135570512197739"
     }
    },
    "outputId": "c034514e-5d78-42d8-ccc3-9ad275e6357a",
    "ExecuteTime": {
     "end_time": "2023-10-02T07:52:11.031504874Z",
     "start_time": "2023-10-02T07:52:10.848987940Z"
    }
   },
   "id": "6ac8363b8e315b33"
  },
  {
   "cell_type": "markdown",
   "source": [
    "## Improving our model\n",
    "\n",
    "We can improve our model, by altering the steps we took to create a model.\n",
    "\n",
    "1. **Creating a model** - here we might add more layers, increase the number of hidden units (all called neurons) within each of the hidden layers, change the activation function of each layer.\n",
    "2. **Compiling a model** - here we might change the optimization function or perhaps the **learning rate** of the optimization function.\n",
    "3. **Fitting a model** - here we might fit a model for more **epochs** (leave it training for longer) or on more data (give the model more examples to learn from)."
   ],
   "metadata": {
    "collapsed": false,
    "id": "ee325f78f13dbc6f"
   },
   "id": "ee325f78f13dbc6f"
  },
  {
   "cell_type": "code",
   "execution_count": 18,
   "outputs": [
    {
     "name": "stdout",
     "output_type": "stream",
     "text": [
      "Epoch 1/100\n",
      "1/1 [==============================] - 0s 335ms/step - loss: 12.1923 - mae: 12.1923\n",
      "Epoch 2/100\n",
      "1/1 [==============================] - 0s 5ms/step - loss: 12.0598 - mae: 12.0598\n",
      "Epoch 3/100\n",
      "1/1 [==============================] - 0s 6ms/step - loss: 11.9273 - mae: 11.9273\n",
      "Epoch 4/100\n",
      "1/1 [==============================] - 0s 6ms/step - loss: 11.7948 - mae: 11.7948\n",
      "Epoch 5/100\n",
      "1/1 [==============================] - 0s 5ms/step - loss: 11.6623 - mae: 11.6623\n",
      "Epoch 6/100\n",
      "1/1 [==============================] - 0s 5ms/step - loss: 11.5298 - mae: 11.5298\n",
      "Epoch 7/100\n",
      "1/1 [==============================] - 0s 6ms/step - loss: 11.3973 - mae: 11.3973\n",
      "Epoch 8/100\n",
      "1/1 [==============================] - 0s 5ms/step - loss: 11.2648 - mae: 11.2648\n",
      "Epoch 9/100\n",
      "1/1 [==============================] - 0s 7ms/step - loss: 11.1323 - mae: 11.1323\n",
      "Epoch 10/100\n",
      "1/1 [==============================] - 0s 6ms/step - loss: 10.9998 - mae: 10.9998\n",
      "Epoch 11/100\n",
      "1/1 [==============================] - 0s 6ms/step - loss: 10.8673 - mae: 10.8673\n",
      "Epoch 12/100\n",
      "1/1 [==============================] - 0s 8ms/step - loss: 10.7348 - mae: 10.7348\n",
      "Epoch 13/100\n",
      "1/1 [==============================] - 0s 6ms/step - loss: 10.6023 - mae: 10.6023\n",
      "Epoch 14/100\n",
      "1/1 [==============================] - 0s 5ms/step - loss: 10.4698 - mae: 10.4698\n",
      "Epoch 15/100\n",
      "1/1 [==============================] - 0s 5ms/step - loss: 10.3373 - mae: 10.3373\n",
      "Epoch 16/100\n",
      "1/1 [==============================] - 0s 6ms/step - loss: 10.2048 - mae: 10.2048\n",
      "Epoch 17/100\n",
      "1/1 [==============================] - 0s 6ms/step - loss: 10.0723 - mae: 10.0723\n",
      "Epoch 18/100\n",
      "1/1 [==============================] - 0s 5ms/step - loss: 9.9398 - mae: 9.9398\n",
      "Epoch 19/100\n",
      "1/1 [==============================] - 0s 5ms/step - loss: 9.8073 - mae: 9.8073\n",
      "Epoch 20/100\n",
      "1/1 [==============================] - 0s 6ms/step - loss: 9.6748 - mae: 9.6748\n",
      "Epoch 21/100\n",
      "1/1 [==============================] - 0s 6ms/step - loss: 9.5423 - mae: 9.5423\n",
      "Epoch 22/100\n",
      "1/1 [==============================] - 0s 6ms/step - loss: 9.4098 - mae: 9.4098\n",
      "Epoch 23/100\n",
      "1/1 [==============================] - 0s 5ms/step - loss: 9.2773 - mae: 9.2773\n",
      "Epoch 24/100\n",
      "1/1 [==============================] - 0s 6ms/step - loss: 9.1448 - mae: 9.1448\n",
      "Epoch 25/100\n",
      "1/1 [==============================] - 0s 5ms/step - loss: 9.0123 - mae: 9.0123\n",
      "Epoch 26/100\n",
      "1/1 [==============================] - 0s 5ms/step - loss: 8.8798 - mae: 8.8798\n",
      "Epoch 27/100\n",
      "1/1 [==============================] - 0s 5ms/step - loss: 8.7473 - mae: 8.7473\n",
      "Epoch 28/100\n",
      "1/1 [==============================] - 0s 4ms/step - loss: 8.6148 - mae: 8.6148\n",
      "Epoch 29/100\n",
      "1/1 [==============================] - 0s 6ms/step - loss: 8.4823 - mae: 8.4823\n",
      "Epoch 30/100\n",
      "1/1 [==============================] - 0s 5ms/step - loss: 8.3498 - mae: 8.3498\n",
      "Epoch 31/100\n",
      "1/1 [==============================] - 0s 5ms/step - loss: 8.2173 - mae: 8.2173\n",
      "Epoch 32/100\n",
      "1/1 [==============================] - 0s 5ms/step - loss: 8.0848 - mae: 8.0848\n",
      "Epoch 33/100\n",
      "1/1 [==============================] - 0s 5ms/step - loss: 7.9523 - mae: 7.9523\n",
      "Epoch 34/100\n",
      "1/1 [==============================] - 0s 5ms/step - loss: 7.8198 - mae: 7.8198\n",
      "Epoch 35/100\n",
      "1/1 [==============================] - 0s 5ms/step - loss: 7.6873 - mae: 7.6873\n",
      "Epoch 36/100\n",
      "1/1 [==============================] - 0s 4ms/step - loss: 7.5548 - mae: 7.5548\n",
      "Epoch 37/100\n",
      "1/1 [==============================] - 0s 5ms/step - loss: 7.4223 - mae: 7.4223\n",
      "Epoch 38/100\n",
      "1/1 [==============================] - 0s 5ms/step - loss: 7.2898 - mae: 7.2898\n",
      "Epoch 39/100\n",
      "1/1 [==============================] - 0s 5ms/step - loss: 7.2150 - mae: 7.2150\n",
      "Epoch 40/100\n",
      "1/1 [==============================] - 0s 4ms/step - loss: 7.2094 - mae: 7.2094\n",
      "Epoch 41/100\n",
      "1/1 [==============================] - 0s 4ms/step - loss: 7.2038 - mae: 7.2038\n",
      "Epoch 42/100\n",
      "1/1 [==============================] - 0s 4ms/step - loss: 7.1981 - mae: 7.1981\n",
      "Epoch 43/100\n",
      "1/1 [==============================] - 0s 4ms/step - loss: 7.1925 - mae: 7.1925\n",
      "Epoch 44/100\n",
      "1/1 [==============================] - 0s 4ms/step - loss: 7.1869 - mae: 7.1869\n",
      "Epoch 45/100\n",
      "1/1 [==============================] - 0s 5ms/step - loss: 7.1813 - mae: 7.1813\n",
      "Epoch 46/100\n",
      "1/1 [==============================] - 0s 5ms/step - loss: 7.1756 - mae: 7.1756\n",
      "Epoch 47/100\n",
      "1/1 [==============================] - 0s 5ms/step - loss: 7.1700 - mae: 7.1700\n",
      "Epoch 48/100\n",
      "1/1 [==============================] - 0s 5ms/step - loss: 7.1644 - mae: 7.1644\n",
      "Epoch 49/100\n",
      "1/1 [==============================] - 0s 4ms/step - loss: 7.1588 - mae: 7.1588\n",
      "Epoch 50/100\n",
      "1/1 [==============================] - 0s 4ms/step - loss: 7.1531 - mae: 7.1531\n",
      "Epoch 51/100\n",
      "1/1 [==============================] - 0s 4ms/step - loss: 7.1475 - mae: 7.1475\n",
      "Epoch 52/100\n",
      "1/1 [==============================] - 0s 4ms/step - loss: 7.1419 - mae: 7.1419\n",
      "Epoch 53/100\n",
      "1/1 [==============================] - 0s 4ms/step - loss: 7.1363 - mae: 7.1363\n",
      "Epoch 54/100\n",
      "1/1 [==============================] - 0s 4ms/step - loss: 7.1306 - mae: 7.1306\n",
      "Epoch 55/100\n",
      "1/1 [==============================] - 0s 4ms/step - loss: 7.1250 - mae: 7.1250\n",
      "Epoch 56/100\n",
      "1/1 [==============================] - 0s 4ms/step - loss: 7.1194 - mae: 7.1194\n",
      "Epoch 57/100\n",
      "1/1 [==============================] - 0s 4ms/step - loss: 7.1137 - mae: 7.1137\n",
      "Epoch 58/100\n",
      "1/1 [==============================] - 0s 4ms/step - loss: 7.1081 - mae: 7.1081\n",
      "Epoch 59/100\n",
      "1/1 [==============================] - 0s 4ms/step - loss: 7.1025 - mae: 7.1025\n",
      "Epoch 60/100\n",
      "1/1 [==============================] - 0s 4ms/step - loss: 7.0969 - mae: 7.0969\n",
      "Epoch 61/100\n",
      "1/1 [==============================] - 0s 4ms/step - loss: 7.0912 - mae: 7.0912\n",
      "Epoch 62/100\n",
      "1/1 [==============================] - 0s 4ms/step - loss: 7.0856 - mae: 7.0856\n",
      "Epoch 63/100\n",
      "1/1 [==============================] - 0s 4ms/step - loss: 7.0800 - mae: 7.0800\n",
      "Epoch 64/100\n",
      "1/1 [==============================] - 0s 5ms/step - loss: 7.0744 - mae: 7.0744\n",
      "Epoch 65/100\n",
      "1/1 [==============================] - 0s 4ms/step - loss: 7.0688 - mae: 7.0688\n",
      "Epoch 66/100\n",
      "1/1 [==============================] - 0s 3ms/step - loss: 7.0631 - mae: 7.0631\n",
      "Epoch 67/100\n",
      "1/1 [==============================] - 0s 4ms/step - loss: 7.0575 - mae: 7.0575\n",
      "Epoch 68/100\n",
      "1/1 [==============================] - 0s 4ms/step - loss: 7.0519 - mae: 7.0519\n",
      "Epoch 69/100\n",
      "1/1 [==============================] - 0s 4ms/step - loss: 7.0463 - mae: 7.0463\n",
      "Epoch 70/100\n",
      "1/1 [==============================] - 0s 5ms/step - loss: 7.0406 - mae: 7.0406\n",
      "Epoch 71/100\n",
      "1/1 [==============================] - 0s 4ms/step - loss: 7.0350 - mae: 7.0350\n",
      "Epoch 72/100\n",
      "1/1 [==============================] - 0s 4ms/step - loss: 7.0294 - mae: 7.0294\n",
      "Epoch 73/100\n",
      "1/1 [==============================] - 0s 4ms/step - loss: 7.0238 - mae: 7.0238\n",
      "Epoch 74/100\n",
      "1/1 [==============================] - 0s 4ms/step - loss: 7.0181 - mae: 7.0181\n",
      "Epoch 75/100\n",
      "1/1 [==============================] - 0s 4ms/step - loss: 7.0125 - mae: 7.0125\n",
      "Epoch 76/100\n",
      "1/1 [==============================] - 0s 4ms/step - loss: 7.0069 - mae: 7.0069\n",
      "Epoch 77/100\n",
      "1/1 [==============================] - 0s 4ms/step - loss: 7.0013 - mae: 7.0013\n",
      "Epoch 78/100\n",
      "1/1 [==============================] - 0s 4ms/step - loss: 6.9956 - mae: 6.9956\n",
      "Epoch 79/100\n",
      "1/1 [==============================] - 0s 4ms/step - loss: 6.9900 - mae: 6.9900\n",
      "Epoch 80/100\n",
      "1/1 [==============================] - 0s 4ms/step - loss: 6.9844 - mae: 6.9844\n",
      "Epoch 81/100\n",
      "1/1 [==============================] - 0s 4ms/step - loss: 6.9788 - mae: 6.9788\n",
      "Epoch 82/100\n",
      "1/1 [==============================] - 0s 4ms/step - loss: 6.9731 - mae: 6.9731\n",
      "Epoch 83/100\n",
      "1/1 [==============================] - 0s 3ms/step - loss: 6.9675 - mae: 6.9675\n",
      "Epoch 84/100\n",
      "1/1 [==============================] - 0s 4ms/step - loss: 6.9619 - mae: 6.9619\n",
      "Epoch 85/100\n",
      "1/1 [==============================] - 0s 3ms/step - loss: 6.9563 - mae: 6.9563\n",
      "Epoch 86/100\n",
      "1/1 [==============================] - 0s 4ms/step - loss: 6.9506 - mae: 6.9506\n",
      "Epoch 87/100\n",
      "1/1 [==============================] - 0s 4ms/step - loss: 6.9450 - mae: 6.9450\n",
      "Epoch 88/100\n",
      "1/1 [==============================] - 0s 4ms/step - loss: 6.9394 - mae: 6.9394\n",
      "Epoch 89/100\n",
      "1/1 [==============================] - 0s 4ms/step - loss: 6.9338 - mae: 6.9338\n",
      "Epoch 90/100\n",
      "1/1 [==============================] - 0s 4ms/step - loss: 6.9281 - mae: 6.9281\n",
      "Epoch 91/100\n",
      "1/1 [==============================] - 0s 4ms/step - loss: 6.9225 - mae: 6.9225\n",
      "Epoch 92/100\n",
      "1/1 [==============================] - 0s 4ms/step - loss: 6.9169 - mae: 6.9169\n",
      "Epoch 93/100\n",
      "1/1 [==============================] - 0s 5ms/step - loss: 6.9113 - mae: 6.9113\n",
      "Epoch 94/100\n",
      "1/1 [==============================] - 0s 4ms/step - loss: 6.9056 - mae: 6.9056\n",
      "Epoch 95/100\n",
      "1/1 [==============================] - 0s 4ms/step - loss: 6.9000 - mae: 6.9000\n",
      "Epoch 96/100\n",
      "1/1 [==============================] - 0s 4ms/step - loss: 6.8944 - mae: 6.8944\n",
      "Epoch 97/100\n",
      "1/1 [==============================] - 0s 4ms/step - loss: 6.8888 - mae: 6.8888\n",
      "Epoch 98/100\n",
      "1/1 [==============================] - 0s 4ms/step - loss: 6.8831 - mae: 6.8831\n",
      "Epoch 99/100\n",
      "1/1 [==============================] - 0s 4ms/step - loss: 6.8775 - mae: 6.8775\n",
      "Epoch 100/100\n",
      "1/1 [==============================] - 0s 5ms/step - loss: 6.8719 - mae: 6.8719\n"
     ]
    },
    {
     "data": {
      "text/plain": "<keras.callbacks.History at 0x7f89a8534b10>"
     },
     "execution_count": 18,
     "metadata": {},
     "output_type": "execute_result"
    }
   ],
   "source": [
    "# Let's rebuild our model\n",
    "\n",
    "# 1. Create the model\n",
    "model = tf.keras.Sequential([\n",
    "    tf.keras.layers.Dense(1)\n",
    "])\n",
    "\n",
    "# 2. Compile the model\n",
    "model.compile(loss=tf.keras.losses.mae,\n",
    "              optimizer=tf.keras.optimizers.SGD(),\n",
    "              metrics=[\"mae\"])\n",
    "\n",
    "# 3. Fit the model (this time we'll train for longer)\n",
    "model.fit(tf.expand_dims(X, axis=-1), y, epochs=100)"
   ],
   "metadata": {
    "colab": {
     "base_uri": "https://localhost:8080/"
    },
    "id": "b26232423384ab79",
    "executionInfo": {
     "status": "ok",
     "timestamp": 1696076704042,
     "user_tz": -420,
     "elapsed": 1871,
     "user": {
      "displayName": "kang sigit",
      "userId": "15887135570512197739"
     }
    },
    "outputId": "af574b45-f9db-41fa-835c-d7000afb014d",
    "ExecuteTime": {
     "end_time": "2023-10-02T07:52:12.660137184Z",
     "start_time": "2023-10-02T07:52:10.849753122Z"
    }
   },
   "id": "b26232423384ab79"
  },
  {
   "cell_type": "code",
   "execution_count": 19,
   "outputs": [
    {
     "data": {
      "text/plain": "(<tf.Tensor: shape=(8,), dtype=float32, numpy=array([-7., -4., -1.,  2.,  5.,  8., 11., 14.], dtype=float32)>,\n <tf.Tensor: shape=(8,), dtype=float32, numpy=array([ 3.,  6.,  9., 12., 15., 18., 21., 24.], dtype=float32)>)"
     },
     "execution_count": 19,
     "metadata": {},
     "output_type": "execute_result"
    }
   ],
   "source": [
    "# Reminder ourselves of the data\n",
    "X, y"
   ],
   "metadata": {
    "colab": {
     "base_uri": "https://localhost:8080/"
    },
    "id": "e9b4e45adea19edc",
    "executionInfo": {
     "status": "ok",
     "timestamp": 1696076704043,
     "user_tz": -420,
     "elapsed": 13,
     "user": {
      "displayName": "kang sigit",
      "userId": "15887135570512197739"
     }
    },
    "outputId": "9c3ea1ed-df93-4a29-8624-0d0df70f77b5",
    "ExecuteTime": {
     "end_time": "2023-10-02T07:52:12.661760678Z",
     "start_time": "2023-10-02T07:52:11.874520446Z"
    }
   },
   "id": "e9b4e45adea19edc"
  },
  {
   "cell_type": "code",
   "execution_count": 20,
   "outputs": [
    {
     "name": "stdout",
     "output_type": "stream",
     "text": [
      "1/1 [==============================] - 0s 55ms/step\n"
     ]
    },
    {
     "data": {
      "text/plain": "array([[29.806467]], dtype=float32)"
     },
     "execution_count": 20,
     "metadata": {},
     "output_type": "execute_result"
    }
   ],
   "source": [
    "# Let's see if our model's prediction has improved...\n",
    "model.predict([17.0])"
   ],
   "metadata": {
    "colab": {
     "base_uri": "https://localhost:8080/"
    },
    "id": "4fa1532cec878a87",
    "executionInfo": {
     "status": "ok",
     "timestamp": 1696076704043,
     "user_tz": -420,
     "elapsed": 7,
     "user": {
      "displayName": "kang sigit",
      "userId": "15887135570512197739"
     }
    },
    "outputId": "c3db728e-15ba-48ed-b577-524225c39d2d",
    "ExecuteTime": {
     "end_time": "2023-10-02T07:52:12.665721656Z",
     "start_time": "2023-10-02T07:52:11.915037076Z"
    }
   },
   "id": "4fa1532cec878a87"
  },
  {
   "cell_type": "code",
   "execution_count": 21,
   "outputs": [
    {
     "name": "stdout",
     "output_type": "stream",
     "text": [
      "Epoch 1/100\n",
      "1/1 [==============================] - 1s 604ms/step - loss: 13.7153 - mae: 13.7153\n",
      "Epoch 2/100\n",
      "1/1 [==============================] - 0s 22ms/step - loss: 13.0046 - mae: 13.0046\n",
      "Epoch 3/100\n",
      "1/1 [==============================] - 0s 7ms/step - loss: 12.2963 - mae: 12.2963\n",
      "Epoch 4/100\n",
      "1/1 [==============================] - 0s 9ms/step - loss: 11.5880 - mae: 11.5880\n",
      "Epoch 5/100\n",
      "1/1 [==============================] - 0s 8ms/step - loss: 10.8762 - mae: 10.8762\n",
      "Epoch 6/100\n",
      "1/1 [==============================] - 0s 9ms/step - loss: 10.1577 - mae: 10.1577\n",
      "Epoch 7/100\n",
      "1/1 [==============================] - 0s 13ms/step - loss: 9.4296 - mae: 9.4296\n",
      "Epoch 8/100\n",
      "1/1 [==============================] - 0s 8ms/step - loss: 8.6893 - mae: 8.6893\n",
      "Epoch 9/100\n",
      "1/1 [==============================] - 0s 10ms/step - loss: 7.9339 - mae: 7.9339\n",
      "Epoch 10/100\n",
      "1/1 [==============================] - 0s 15ms/step - loss: 7.1605 - mae: 7.1605\n",
      "Epoch 11/100\n",
      "1/1 [==============================] - 0s 11ms/step - loss: 6.7180 - mae: 6.7180\n",
      "Epoch 12/100\n",
      "1/1 [==============================] - 0s 8ms/step - loss: 6.9393 - mae: 6.9393\n",
      "Epoch 13/100\n",
      "1/1 [==============================] - 0s 9ms/step - loss: 7.2346 - mae: 7.2346\n",
      "Epoch 14/100\n",
      "1/1 [==============================] - 0s 8ms/step - loss: 7.5301 - mae: 7.5301\n",
      "Epoch 15/100\n",
      "1/1 [==============================] - 0s 11ms/step - loss: 7.6430 - mae: 7.6430\n",
      "Epoch 16/100\n",
      "1/1 [==============================] - 0s 9ms/step - loss: 7.5548 - mae: 7.5548\n",
      "Epoch 17/100\n",
      "1/1 [==============================] - 0s 22ms/step - loss: 7.3149 - mae: 7.3149\n",
      "Epoch 18/100\n",
      "1/1 [==============================] - 0s 22ms/step - loss: 6.9743 - mae: 6.9743\n",
      "Epoch 19/100\n",
      "1/1 [==============================] - 0s 14ms/step - loss: 6.7247 - mae: 6.7247\n",
      "Epoch 20/100\n",
      "1/1 [==============================] - 0s 15ms/step - loss: 6.4578 - mae: 6.4578\n",
      "Epoch 21/100\n",
      "1/1 [==============================] - 0s 23ms/step - loss: 6.1774 - mae: 6.1774\n",
      "Epoch 22/100\n",
      "1/1 [==============================] - 0s 16ms/step - loss: 6.0504 - mae: 6.0504\n",
      "Epoch 23/100\n",
      "1/1 [==============================] - 0s 31ms/step - loss: 6.0069 - mae: 6.0069\n",
      "Epoch 24/100\n",
      "1/1 [==============================] - 0s 20ms/step - loss: 6.1423 - mae: 6.1423\n",
      "Epoch 25/100\n",
      "1/1 [==============================] - 0s 9ms/step - loss: 6.2181 - mae: 6.2181\n",
      "Epoch 26/100\n",
      "1/1 [==============================] - 0s 20ms/step - loss: 6.1907 - mae: 6.1907\n",
      "Epoch 27/100\n",
      "1/1 [==============================] - 0s 25ms/step - loss: 6.0727 - mae: 6.0727\n",
      "Epoch 28/100\n",
      "1/1 [==============================] - 0s 23ms/step - loss: 5.8732 - mae: 5.8732\n",
      "Epoch 29/100\n",
      "1/1 [==============================] - 0s 15ms/step - loss: 5.5988 - mae: 5.5988\n",
      "Epoch 30/100\n",
      "1/1 [==============================] - 0s 10ms/step - loss: 5.4383 - mae: 5.4383\n",
      "Epoch 31/100\n",
      "1/1 [==============================] - 0s 8ms/step - loss: 5.3232 - mae: 5.3232\n",
      "Epoch 32/100\n",
      "1/1 [==============================] - 0s 19ms/step - loss: 5.3226 - mae: 5.3226\n",
      "Epoch 33/100\n",
      "1/1 [==============================] - 0s 14ms/step - loss: 5.3323 - mae: 5.3323\n",
      "Epoch 34/100\n",
      "1/1 [==============================] - 0s 23ms/step - loss: 5.2952 - mae: 5.2952\n",
      "Epoch 35/100\n",
      "1/1 [==============================] - 0s 13ms/step - loss: 5.2147 - mae: 5.2147\n",
      "Epoch 36/100\n",
      "1/1 [==============================] - 0s 14ms/step - loss: 5.0940 - mae: 5.0940\n",
      "Epoch 37/100\n",
      "1/1 [==============================] - 0s 11ms/step - loss: 4.9361 - mae: 4.9361\n",
      "Epoch 38/100\n",
      "1/1 [==============================] - 0s 17ms/step - loss: 4.7441 - mae: 4.7441\n",
      "Epoch 39/100\n",
      "1/1 [==============================] - 0s 11ms/step - loss: 4.5206 - mae: 4.5206\n",
      "Epoch 40/100\n",
      "1/1 [==============================] - 0s 11ms/step - loss: 4.3911 - mae: 4.3911\n",
      "Epoch 41/100\n",
      "1/1 [==============================] - 0s 12ms/step - loss: 4.2889 - mae: 4.2889\n",
      "Epoch 42/100\n",
      "1/1 [==============================] - 0s 10ms/step - loss: 4.2781 - mae: 4.2781\n",
      "Epoch 43/100\n",
      "1/1 [==============================] - 0s 10ms/step - loss: 4.1959 - mae: 4.1959\n",
      "Epoch 44/100\n",
      "1/1 [==============================] - 0s 11ms/step - loss: 3.9950 - mae: 3.9950\n",
      "Epoch 45/100\n",
      "1/1 [==============================] - 0s 17ms/step - loss: 3.7333 - mae: 3.7333\n",
      "Epoch 46/100\n",
      "1/1 [==============================] - 0s 15ms/step - loss: 3.5602 - mae: 3.5602\n",
      "Epoch 47/100\n",
      "1/1 [==============================] - 0s 19ms/step - loss: 3.4091 - mae: 3.4091\n",
      "Epoch 48/100\n",
      "1/1 [==============================] - 0s 21ms/step - loss: 3.3004 - mae: 3.3004\n",
      "Epoch 49/100\n",
      "1/1 [==============================] - 0s 15ms/step - loss: 3.1367 - mae: 3.1367\n",
      "Epoch 50/100\n",
      "1/1 [==============================] - 0s 21ms/step - loss: 2.9207 - mae: 2.9207\n",
      "Epoch 51/100\n",
      "1/1 [==============================] - 0s 9ms/step - loss: 2.6795 - mae: 2.6795\n",
      "Epoch 52/100\n",
      "1/1 [==============================] - 0s 11ms/step - loss: 2.4948 - mae: 2.4948\n",
      "Epoch 53/100\n",
      "1/1 [==============================] - 0s 11ms/step - loss: 2.2982 - mae: 2.2982\n",
      "Epoch 54/100\n",
      "1/1 [==============================] - 0s 11ms/step - loss: 2.1616 - mae: 2.1616\n",
      "Epoch 55/100\n",
      "1/1 [==============================] - 0s 12ms/step - loss: 1.8674 - mae: 1.8674\n",
      "Epoch 56/100\n",
      "1/1 [==============================] - 0s 11ms/step - loss: 1.6294 - mae: 1.6294\n",
      "Epoch 57/100\n",
      "1/1 [==============================] - 0s 12ms/step - loss: 1.4667 - mae: 1.4667\n",
      "Epoch 58/100\n",
      "1/1 [==============================] - 0s 10ms/step - loss: 1.2322 - mae: 1.2322\n",
      "Epoch 59/100\n",
      "1/1 [==============================] - 0s 16ms/step - loss: 0.9288 - mae: 0.9288\n",
      "Epoch 60/100\n",
      "1/1 [==============================] - 0s 8ms/step - loss: 0.5972 - mae: 0.5972\n",
      "Epoch 61/100\n",
      "1/1 [==============================] - 0s 12ms/step - loss: 0.4740 - mae: 0.4740\n",
      "Epoch 62/100\n",
      "1/1 [==============================] - 0s 16ms/step - loss: 0.2251 - mae: 0.2251\n",
      "Epoch 63/100\n",
      "1/1 [==============================] - 0s 8ms/step - loss: 0.3978 - mae: 0.3978\n",
      "Epoch 64/100\n",
      "1/1 [==============================] - 0s 8ms/step - loss: 0.6918 - mae: 0.6918\n",
      "Epoch 65/100\n",
      "1/1 [==============================] - 0s 11ms/step - loss: 0.7444 - mae: 0.7444\n",
      "Epoch 66/100\n",
      "1/1 [==============================] - 0s 8ms/step - loss: 0.6758 - mae: 0.6758\n",
      "Epoch 67/100\n",
      "1/1 [==============================] - 0s 8ms/step - loss: 0.7909 - mae: 0.7909\n",
      "Epoch 68/100\n",
      "1/1 [==============================] - 0s 7ms/step - loss: 0.7389 - mae: 0.7389\n",
      "Epoch 69/100\n",
      "1/1 [==============================] - 0s 10ms/step - loss: 0.7241 - mae: 0.7241\n",
      "Epoch 70/100\n",
      "1/1 [==============================] - 0s 11ms/step - loss: 0.6467 - mae: 0.6467\n",
      "Epoch 71/100\n",
      "1/1 [==============================] - 0s 11ms/step - loss: 0.5586 - mae: 0.5586\n",
      "Epoch 72/100\n",
      "1/1 [==============================] - 0s 11ms/step - loss: 0.5207 - mae: 0.5207\n",
      "Epoch 73/100\n",
      "1/1 [==============================] - 0s 12ms/step - loss: 0.2852 - mae: 0.2852\n",
      "Epoch 74/100\n",
      "1/1 [==============================] - 0s 13ms/step - loss: 0.2303 - mae: 0.2303\n",
      "Epoch 75/100\n",
      "1/1 [==============================] - 0s 7ms/step - loss: 0.2450 - mae: 0.2450\n",
      "Epoch 76/100\n",
      "1/1 [==============================] - 0s 13ms/step - loss: 0.2604 - mae: 0.2604\n",
      "Epoch 77/100\n",
      "1/1 [==============================] - 0s 7ms/step - loss: 0.3981 - mae: 0.3981\n",
      "Epoch 78/100\n",
      "1/1 [==============================] - 0s 13ms/step - loss: 0.3570 - mae: 0.3570\n",
      "Epoch 79/100\n",
      "1/1 [==============================] - 0s 10ms/step - loss: 0.4953 - mae: 0.4953\n",
      "Epoch 80/100\n",
      "1/1 [==============================] - 0s 8ms/step - loss: 0.5469 - mae: 0.5469\n",
      "Epoch 81/100\n",
      "1/1 [==============================] - 0s 17ms/step - loss: 0.3602 - mae: 0.3602\n",
      "Epoch 82/100\n",
      "1/1 [==============================] - 0s 13ms/step - loss: 0.4378 - mae: 0.4378\n",
      "Epoch 83/100\n",
      "1/1 [==============================] - 0s 7ms/step - loss: 0.4849 - mae: 0.4849\n",
      "Epoch 84/100\n",
      "1/1 [==============================] - 0s 16ms/step - loss: 0.3452 - mae: 0.3452\n",
      "Epoch 85/100\n",
      "1/1 [==============================] - 0s 8ms/step - loss: 0.0588 - mae: 0.0588\n",
      "Epoch 86/100\n",
      "1/1 [==============================] - 0s 9ms/step - loss: 0.1336 - mae: 0.1336\n",
      "Epoch 87/100\n",
      "1/1 [==============================] - 0s 15ms/step - loss: 0.1361 - mae: 0.1361\n",
      "Epoch 88/100\n",
      "1/1 [==============================] - 0s 7ms/step - loss: 0.1675 - mae: 0.1675\n",
      "Epoch 89/100\n",
      "1/1 [==============================] - 0s 18ms/step - loss: 0.2175 - mae: 0.2175\n",
      "Epoch 90/100\n",
      "1/1 [==============================] - 0s 9ms/step - loss: 0.1652 - mae: 0.1652\n",
      "Epoch 91/100\n",
      "1/1 [==============================] - 0s 7ms/step - loss: 0.1298 - mae: 0.1298\n",
      "Epoch 92/100\n",
      "1/1 [==============================] - 0s 8ms/step - loss: 0.0334 - mae: 0.0334\n",
      "Epoch 93/100\n",
      "1/1 [==============================] - 0s 7ms/step - loss: 0.3040 - mae: 0.3040\n",
      "Epoch 94/100\n",
      "1/1 [==============================] - 0s 7ms/step - loss: 0.2691 - mae: 0.2691\n",
      "Epoch 95/100\n",
      "1/1 [==============================] - 0s 7ms/step - loss: 0.1379 - mae: 0.1379\n",
      "Epoch 96/100\n",
      "1/1 [==============================] - 0s 16ms/step - loss: 0.1982 - mae: 0.1982\n",
      "Epoch 97/100\n",
      "1/1 [==============================] - 0s 9ms/step - loss: 0.0533 - mae: 0.0533\n",
      "Epoch 98/100\n",
      "1/1 [==============================] - 0s 7ms/step - loss: 0.2808 - mae: 0.2808\n",
      "Epoch 99/100\n",
      "1/1 [==============================] - 0s 8ms/step - loss: 0.2882 - mae: 0.2882\n",
      "Epoch 100/100\n",
      "1/1 [==============================] - 0s 10ms/step - loss: 0.1400 - mae: 0.1400\n"
     ]
    },
    {
     "data": {
      "text/plain": "<keras.callbacks.History at 0x7f89a8711bd0>"
     },
     "execution_count": 21,
     "metadata": {},
     "output_type": "execute_result"
    }
   ],
   "source": [
    "# Let's see if we can make another to improve our model\n",
    "\n",
    "# 1. Create the model (this time with an extra hidden layer with 100 hidden units)\n",
    "model = tf.keras.Sequential([\n",
    "    tf.keras.layers.Dense(50, activation=None),\n",
    "    tf.keras.layers.Dense(1)\n",
    "])\n",
    "\n",
    "# 2. Compile the model\n",
    "model.compile(loss=\"mae\",\n",
    "              optimizer=tf.keras.optimizers.Adam(learning_rate=0.01),\n",
    "              metrics=[\"mae\"])\n",
    "\n",
    "# 3. Fit the model\n",
    "model.fit(tf.expand_dims(X, axis=-1), y, epochs=100)"
   ],
   "metadata": {
    "colab": {
     "base_uri": "https://localhost:8080/"
    },
    "id": "8b9aa4f166adf717",
    "executionInfo": {
     "status": "ok",
     "timestamp": 1696076707677,
     "user_tz": -420,
     "elapsed": 3639,
     "user": {
      "displayName": "kang sigit",
      "userId": "15887135570512197739"
     }
    },
    "outputId": "09a15c82-6c48-4a25-f2e2-9e9be634ab0e",
    "ExecuteTime": {
     "end_time": "2023-10-02T07:52:16.622786052Z",
     "start_time": "2023-10-02T07:52:11.976067900Z"
    }
   },
   "id": "8b9aa4f166adf717"
  },
  {
   "cell_type": "code",
   "execution_count": 22,
   "outputs": [
    {
     "data": {
      "text/plain": "(<tf.Tensor: shape=(8,), dtype=float32, numpy=array([-7., -4., -1.,  2.,  5.,  8., 11., 14.], dtype=float32)>,\n <tf.Tensor: shape=(8,), dtype=float32, numpy=array([ 3.,  6.,  9., 12., 15., 18., 21., 24.], dtype=float32)>)"
     },
     "execution_count": 22,
     "metadata": {},
     "output_type": "execute_result"
    }
   ],
   "source": [
    "# Let's remind ourselves of the data\n",
    "X, y"
   ],
   "metadata": {
    "colab": {
     "base_uri": "https://localhost:8080/"
    },
    "id": "6b5bd6ece9fcbd99",
    "executionInfo": {
     "status": "ok",
     "timestamp": 1696076707678,
     "user_tz": -420,
     "elapsed": 37,
     "user": {
      "displayName": "kang sigit",
      "userId": "15887135570512197739"
     }
    },
    "outputId": "5cc7cd2b-d423-4cea-c5fb-aeaceda59838",
    "ExecuteTime": {
     "end_time": "2023-10-02T07:52:16.623461537Z",
     "start_time": "2023-10-02T07:52:15.163653839Z"
    }
   },
   "id": "6b5bd6ece9fcbd99"
  },
  {
   "cell_type": "code",
   "execution_count": 23,
   "outputs": [
    {
     "name": "stdout",
     "output_type": "stream",
     "text": [
      "1/1 [==============================] - 0s 64ms/step\n"
     ]
    },
    {
     "data": {
      "text/plain": "array([[25.971937]], dtype=float32)"
     },
     "execution_count": 23,
     "metadata": {},
     "output_type": "execute_result"
    }
   ],
   "source": [
    "# Let's  try to make a prediction\n",
    "model.predict([17.0])"
   ],
   "metadata": {
    "colab": {
     "base_uri": "https://localhost:8080/"
    },
    "id": "a0f497158a07079a",
    "executionInfo": {
     "status": "ok",
     "timestamp": 1696076707678,
     "user_tz": -420,
     "elapsed": 30,
     "user": {
      "displayName": "kang sigit",
      "userId": "15887135570512197739"
     }
    },
    "outputId": "5d49bee4-aedd-4687-ee45-a21a4d31ef92",
    "ExecuteTime": {
     "end_time": "2023-10-02T07:52:16.623893145Z",
     "start_time": "2023-10-02T07:52:15.169359668Z"
    }
   },
   "id": "a0f497158a07079a"
  },
  {
   "cell_type": "markdown",
   "source": [
    "## Evaluating a model\n",
    "\n",
    "In practice, a typical workflow you'll go through when building neural networks is:\n",
    "\n",
    "```\n",
    "Build a model -> fit it -> evaluate it -> tweak a model -> fit it -> evaluate it -> tweak a model -> fit it -> evaluate it...\n",
    "```\n",
    "\n"
   ],
   "metadata": {
    "collapsed": false,
    "id": "8586a632a5e30d87"
   },
   "id": "8586a632a5e30d87"
  },
  {
   "cell_type": "markdown",
   "source": [
    "When it comes to evaluation... there are 3 words you should memorize:\n",
    "\n",
    "> \"Visualize, visualize, visualize\"\n",
    "\n",
    "It's a good idea to visualize:\n",
    "* The data - what data are we working with? What does it look like?\n",
    "* The model itself - what does our model look like?\n",
    "* The training of a model - how does a model perform while it learns?\n",
    "* The predictions of the model - how do the predictions od a model line up against the ground truth (the original labels)?"
   ],
   "metadata": {
    "collapsed": false,
    "id": "b0557d4d9296152e"
   },
   "id": "b0557d4d9296152e"
  },
  {
   "cell_type": "code",
   "execution_count": 24,
   "outputs": [
    {
     "data": {
      "text/plain": "<tf.Tensor: shape=(50,), dtype=int32, numpy=\narray([-100,  -96,  -92,  -88,  -84,  -80,  -76,  -72,  -68,  -64,  -60,\n        -56,  -52,  -48,  -44,  -40,  -36,  -32,  -28,  -24,  -20,  -16,\n        -12,   -8,   -4,    0,    4,    8,   12,   16,   20,   24,   28,\n         32,   36,   40,   44,   48,   52,   56,   60,   64,   68,   72,\n         76,   80,   84,   88,   92,   96], dtype=int32)>"
     },
     "execution_count": 24,
     "metadata": {},
     "output_type": "execute_result"
    }
   ],
   "source": [
    "# Make a bigger dataset\n",
    "X = tf.range(-100, 100, 4)\n",
    "X"
   ],
   "metadata": {
    "colab": {
     "base_uri": "https://localhost:8080/"
    },
    "id": "ebfdaf1ca49a3887",
    "executionInfo": {
     "status": "ok",
     "timestamp": 1696076707678,
     "user_tz": -420,
     "elapsed": 27,
     "user": {
      "displayName": "kang sigit",
      "userId": "15887135570512197739"
     }
    },
    "outputId": "bc30d2c0-7064-4c85-ad7c-5b2adb992cb9",
    "ExecuteTime": {
     "end_time": "2023-10-02T07:52:16.624216457Z",
     "start_time": "2023-10-02T07:52:15.286991825Z"
    }
   },
   "id": "ebfdaf1ca49a3887"
  },
  {
   "cell_type": "code",
   "execution_count": 25,
   "outputs": [
    {
     "data": {
      "text/plain": "<tf.Tensor: shape=(50,), dtype=int32, numpy=\narray([-90, -86, -82, -78, -74, -70, -66, -62, -58, -54, -50, -46, -42,\n       -38, -34, -30, -26, -22, -18, -14, -10,  -6,  -2,   2,   6,  10,\n        14,  18,  22,  26,  30,  34,  38,  42,  46,  50,  54,  58,  62,\n        66,  70,  74,  78,  82,  86,  90,  94,  98, 102, 106], dtype=int32)>"
     },
     "execution_count": 25,
     "metadata": {},
     "output_type": "execute_result"
    }
   ],
   "source": [
    "# Make labels for the dataset\n",
    "y = X + 10\n",
    "y"
   ],
   "metadata": {
    "colab": {
     "base_uri": "https://localhost:8080/"
    },
    "id": "5573573108e8addc",
    "executionInfo": {
     "status": "ok",
     "timestamp": 1696076707678,
     "user_tz": -420,
     "elapsed": 25,
     "user": {
      "displayName": "kang sigit",
      "userId": "15887135570512197739"
     }
    },
    "outputId": "799c0f5b-54de-446d-80ad-e0ab45651900",
    "ExecuteTime": {
     "end_time": "2023-10-02T07:52:16.624545866Z",
     "start_time": "2023-10-02T07:52:15.331574463Z"
    }
   },
   "id": "5573573108e8addc"
  },
  {
   "cell_type": "code",
   "execution_count": 26,
   "outputs": [
    {
     "data": {
      "text/plain": "<matplotlib.collections.PathCollection at 0x7f89a84122d0>"
     },
     "execution_count": 26,
     "metadata": {},
     "output_type": "execute_result"
    },
    {
     "data": {
      "text/plain": "<Figure size 640x480 with 1 Axes>",
      "image/png": "[encoded data removed]"
     },
     "metadata": {},
     "output_type": "display_data"
    }
   ],
   "source": [
    "# Visualize the data\n",
    "import matplotlib.pyplot as plt\n",
    "\n",
    "plt.scatter(X, y)"
   ],
   "metadata": {
    "colab": {
     "base_uri": "https://localhost:8080/",
     "height": 448
    },
    "id": "819381cfdadb50fa",
    "executionInfo": {
     "status": "ok",
     "timestamp": 1696076707678,
     "user_tz": -420,
     "elapsed": 23,
     "user": {
      "displayName": "kang sigit",
      "userId": "15887135570512197739"
     }
    },
    "outputId": "50eb4a39-f417-4bbe-8dfa-b4e0ffe18018",
    "ExecuteTime": {
     "end_time": "2023-10-02T07:52:16.625220358Z",
     "start_time": "2023-10-02T07:52:15.331947768Z"
    }
   },
   "id": "819381cfdadb50fa"
  },
  {
   "cell_type": "markdown",
   "source": [
    "### The 3 sets...\n",
    "\n",
    "* **Training set** - the model learns from this data, which is typically 70-80% of total data you have available.\n",
    "* **Validation set** - the model gets tuned oh this data, which is typically 10-15% of the data available.\n",
    "* **Test set** - the model gets evaluated on this data to test what is has learned, this set is typically 10-15% of the total data available."
   ],
   "metadata": {
    "collapsed": false,
    "id": "811bf5a27ae79738"
   },
   "id": "811bf5a27ae79738"
  },
  {
   "cell_type": "code",
   "execution_count": 27,
   "outputs": [
    {
     "data": {
      "text/plain": "50"
     },
     "execution_count": 27,
     "metadata": {},
     "output_type": "execute_result"
    }
   ],
   "source": [
    "# Check the length of how many samples we have\n",
    "len(X)"
   ],
   "metadata": {
    "colab": {
     "base_uri": "https://localhost:8080/"
    },
    "id": "65fe1205cafb59",
    "executionInfo": {
     "status": "ok",
     "timestamp": 1696076707678,
     "user_tz": -420,
     "elapsed": 20,
     "user": {
      "displayName": "kang sigit",
      "userId": "15887135570512197739"
     }
    },
    "outputId": "73236141-f7f9-4151-9726-e43586bc76ec",
    "ExecuteTime": {
     "end_time": "2023-10-02T07:52:16.625571883Z",
     "start_time": "2023-10-02T07:52:15.617569528Z"
    }
   },
   "id": "65fe1205cafb59"
  },
  {
   "cell_type": "code",
   "execution_count": 28,
   "outputs": [
    {
     "data": {
      "text/plain": "(40, 10, 40, 10)"
     },
     "execution_count": 28,
     "metadata": {},
     "output_type": "execute_result"
    }
   ],
   "source": [
    "# Split the data into train and test sets\n",
    "X_train = X[:40] # first 40 are training samples (80% of the data)\n",
    "y_train = y[:40]\n",
    "X_test = X[40:] # last 10 are testing samples (20% of the data)\n",
    "y_test = y[40:]\n",
    "\n",
    "len(X_train), len(X_test), len(y_train), len(y_test)"
   ],
   "metadata": {
    "colab": {
     "base_uri": "https://localhost:8080/"
    },
    "id": "6d4cae941d61ab0d",
    "executionInfo": {
     "status": "ok",
     "timestamp": 1696076707678,
     "user_tz": -420,
     "elapsed": 19,
     "user": {
      "displayName": "kang sigit",
      "userId": "15887135570512197739"
     }
    },
    "outputId": "222f4a3f-fa48-4167-dd93-388106b231f7",
    "ExecuteTime": {
     "end_time": "2023-10-02T07:52:16.625869510Z",
     "start_time": "2023-10-02T07:52:15.658394192Z"
    }
   },
   "id": "6d4cae941d61ab0d"
  },
  {
   "cell_type": "markdown",
   "source": [
    "### Visualing the data\n",
    "\n",
    "Now we've got our data in training and test sets... let's visualize it again!"
   ],
   "metadata": {
    "collapsed": false,
    "id": "83c7526489cf18e8"
   },
   "id": "83c7526489cf18e8"
  },
  {
   "cell_type": "code",
   "execution_count": 29,
   "outputs": [
    {
     "data": {
      "text/plain": "<Figure size 1000x700 with 1 Axes>",
      "image/png": "[encoded data removed]"
     },
     "metadata": {},
     "output_type": "display_data"
    }
   ],
   "source": [
    "plt.figure(figsize=(10, 7))\n",
    "# Plot training data in blue\n",
    "plt.scatter(X_train, y_train, c=\"b\", label=\"Training data\")\n",
    "# Plot test data in green\n",
    "plt.scatter(X_test, y_test, c=\"g\", label=\"Testing data\")\n",
    "# Show a legend\n",
    "plt.legend();"
   ],
   "metadata": {
    "colab": {
     "base_uri": "https://localhost:8080/",
     "height": 599
    },
    "id": "ab7249faa73bbe9",
    "executionInfo": {
     "status": "ok",
     "timestamp": 1696076708327,
     "user_tz": -420,
     "elapsed": 666,
     "user": {
      "displayName": "kang sigit",
      "userId": "15887135570512197739"
     }
    },
    "outputId": "6e495691-ff17-4a7f-c1b2-2579095d6b81",
    "ExecuteTime": {
     "end_time": "2023-10-02T07:52:16.626210773Z",
     "start_time": "2023-10-02T07:52:15.658702237Z"
    }
   },
   "id": "ab7249faa73bbe9"
  },
  {
   "cell_type": "code",
   "execution_count": 30,
   "outputs": [],
   "source": [
    "# Let's have a look at how to build a neural network for our data\n",
    "\n",
    "# 1. Create a model\n",
    "model = tf.keras.Sequential([\n",
    "    tf.keras.layers.Dense(1)\n",
    "])\n",
    "\n",
    "# 2. Compile the model\n",
    "model.compile(loss=tf.keras.losses.mae,\n",
    "              optimizer=tf.keras.optimizers.SGD(),\n",
    "              metrics=[\"mae\"])\n",
    "\n",
    "# 3. Fit the model\n",
    "# model.fit(tf.expand_dims(X_train, axis=-1), y_train, epochs=100)"
   ],
   "metadata": {
    "id": "d8ffee7c2a8e42f7",
    "executionInfo": {
     "status": "ok",
     "timestamp": 1696076708328,
     "user_tz": -420,
     "elapsed": 10,
     "user": {
      "displayName": "kang sigit",
      "userId": "15887135570512197739"
     }
    },
    "ExecuteTime": {
     "end_time": "2023-10-02T07:52:16.626432028Z",
     "start_time": "2023-10-02T07:52:15.908237214Z"
    }
   },
   "id": "d8ffee7c2a8e42f7"
  },
  {
   "cell_type": "markdown",
   "source": [
    "### Visualizing the model"
   ],
   "metadata": {
    "collapsed": false,
    "id": "898b10b4eeedd11e"
   },
   "id": "898b10b4eeedd11e"
  },
  {
   "cell_type": "code",
   "execution_count": 31,
   "outputs": [
    {
     "ename": "ValueError",
     "evalue": "This model has not yet been built. Build the model first by calling `build()` or by calling the model on a batch of data.",
     "output_type": "error",
     "traceback": [
      "\u001B[0;31m---------------------------------------------------------------------------\u001B[0m",
      "\u001B[0;31mValueError\u001B[0m                                Traceback (most recent call last)",
      "Cell \u001B[0;32mIn[31], line 1\u001B[0m\n\u001B[0;32m----> 1\u001B[0m model\u001B[38;5;241m.\u001B[39msummary()\n",
      "File \u001B[0;32m~/anaconda3/envs/tensorflow-zero-to-master/lib/python3.11/site-packages/keras/engine/training.py:3229\u001B[0m, in \u001B[0;36mModel.summary\u001B[0;34m(self, line_length, positions, print_fn, expand_nested, show_trainable, layer_range)\u001B[0m\n\u001B[1;32m   3198\u001B[0m \u001B[38;5;250m\u001B[39m\u001B[38;5;124;03m\"\"\"Prints a string summary of the network.\u001B[39;00m\n\u001B[1;32m   3199\u001B[0m \n\u001B[1;32m   3200\u001B[0m \u001B[38;5;124;03mArgs:\u001B[39;00m\n\u001B[0;32m   (...)\u001B[0m\n\u001B[1;32m   3226\u001B[0m \u001B[38;5;124;03m    ValueError: if `summary()` is called before the model is built.\u001B[39;00m\n\u001B[1;32m   3227\u001B[0m \u001B[38;5;124;03m\"\"\"\u001B[39;00m\n\u001B[1;32m   3228\u001B[0m \u001B[38;5;28;01mif\u001B[39;00m \u001B[38;5;129;01mnot\u001B[39;00m \u001B[38;5;28mself\u001B[39m\u001B[38;5;241m.\u001B[39mbuilt:\n\u001B[0;32m-> 3229\u001B[0m     \u001B[38;5;28;01mraise\u001B[39;00m \u001B[38;5;167;01mValueError\u001B[39;00m(\n\u001B[1;32m   3230\u001B[0m         \u001B[38;5;124m\"\u001B[39m\u001B[38;5;124mThis model has not yet been built. \u001B[39m\u001B[38;5;124m\"\u001B[39m\n\u001B[1;32m   3231\u001B[0m         \u001B[38;5;124m\"\u001B[39m\u001B[38;5;124mBuild the model first by calling `build()` or by calling \u001B[39m\u001B[38;5;124m\"\u001B[39m\n\u001B[1;32m   3232\u001B[0m         \u001B[38;5;124m\"\u001B[39m\u001B[38;5;124mthe model on a batch of data.\u001B[39m\u001B[38;5;124m\"\u001B[39m\n\u001B[1;32m   3233\u001B[0m     )\n\u001B[1;32m   3234\u001B[0m layer_utils\u001B[38;5;241m.\u001B[39mprint_summary(\n\u001B[1;32m   3235\u001B[0m     \u001B[38;5;28mself\u001B[39m,\n\u001B[1;32m   3236\u001B[0m     line_length\u001B[38;5;241m=\u001B[39mline_length,\n\u001B[0;32m   (...)\u001B[0m\n\u001B[1;32m   3241\u001B[0m     layer_range\u001B[38;5;241m=\u001B[39mlayer_range,\n\u001B[1;32m   3242\u001B[0m )\n",
      "\u001B[0;31mValueError\u001B[0m: This model has not yet been built. Build the model first by calling `build()` or by calling the model on a batch of data."
     ]
    }
   ],
   "source": [
    "model.summary()"
   ],
   "metadata": {
    "colab": {
     "base_uri": "https://localhost:8080/",
     "height": 346
    },
    "id": "5c62d9de9c0b5118",
    "executionInfo": {
     "status": "error",
     "timestamp": 1696076708328,
     "user_tz": -420,
     "elapsed": 9,
     "user": {
      "displayName": "kang sigit",
      "userId": "15887135570512197739"
     }
    },
    "outputId": "d80a5003-4477-4613-82d5-9ebc9a96dd43",
    "ExecuteTime": {
     "end_time": "2023-10-02T07:52:19.639658759Z",
     "start_time": "2023-10-02T07:52:15.908416754Z"
    }
   },
   "id": "5c62d9de9c0b5118"
  },
  {
   "cell_type": "code",
   "execution_count": 32,
   "outputs": [
    {
     "data": {
      "text/plain": "(<tf.Tensor: shape=(), dtype=int32, numpy=-100>,\n <tf.Tensor: shape=(), dtype=int32, numpy=-90>)"
     },
     "execution_count": 32,
     "metadata": {},
     "output_type": "execute_result"
    }
   ],
   "source": [
    "X[0], y[0]"
   ],
   "metadata": {
    "colab": {
     "base_uri": "https://localhost:8080/"
    },
    "id": "46ca08d5fb0a5d65",
    "executionInfo": {
     "status": "ok",
     "timestamp": 1696076717633,
     "user_tz": -420,
     "elapsed": 10,
     "user": {
      "displayName": "kang sigit",
      "userId": "15887135570512197739"
     }
    },
    "outputId": "7153ad61-fb91-4517-d967-04743d87b16f",
    "ExecuteTime": {
     "end_time": "2023-10-02T07:52:33.588548225Z",
     "start_time": "2023-10-02T07:52:33.532768702Z"
    }
   },
   "id": "46ca08d5fb0a5d65"
  },
  {
   "cell_type": "code",
   "execution_count": 33,
   "outputs": [],
   "source": [
    "# Let's create a model which builds automatically by defining the input_shape argument in the first layer\n",
    "tf.random.set_seed(42)\n",
    "\n",
    "# 1. Create a model (same as above)\n",
    "model = tf.keras.Sequential([\n",
    "    tf.keras.layers.Dense(10, input_shape=[1], name=\"input_layer\"),\n",
    "    tf.keras.layers.Dense(1, name=\"output_layer\")\n",
    "], name=\"model_1\")\n",
    "\n",
    "# 2. Compile the model (same as above)\n",
    "model.compile(loss=tf.keras.losses.mae,\n",
    "              optimizer=tf.keras.optimizers.SGD(),\n",
    "              metrics=[\"mae\"])"
   ],
   "metadata": {
    "id": "42cd0d927d2d8699",
    "executionInfo": {
     "status": "ok",
     "timestamp": 1696076720211,
     "user_tz": -420,
     "elapsed": 10,
     "user": {
      "displayName": "kang sigit",
      "userId": "15887135570512197739"
     }
    },
    "ExecuteTime": {
     "end_time": "2023-10-02T07:52:34.742148459Z",
     "start_time": "2023-10-02T07:52:34.650388907Z"
    }
   },
   "id": "42cd0d927d2d8699"
  },
  {
   "cell_type": "code",
   "execution_count": 34,
   "outputs": [
    {
     "name": "stdout",
     "output_type": "stream",
     "text": [
      "Model: \"model_1\"\n",
      "_________________________________________________________________\n",
      " Layer (type)                Output Shape              Param #   \n",
      "=================================================================\n",
      " input_layer (Dense)         (None, 10)                20        \n",
      "                                                                 \n",
      " output_layer (Dense)        (None, 1)                 11        \n",
      "                                                                 \n",
      "=================================================================\n",
      "Total params: 31\n",
      "Trainable params: 31\n",
      "Non-trainable params: 0\n",
      "_________________________________________________________________\n"
     ]
    }
   ],
   "source": [
    "model.summary()"
   ],
   "metadata": {
    "colab": {
     "base_uri": "https://localhost:8080/"
    },
    "id": "12813b7ae6d41c34",
    "executionInfo": {
     "status": "ok",
     "timestamp": 1696076725813,
     "user_tz": -420,
     "elapsed": 612,
     "user": {
      "displayName": "kang sigit",
      "userId": "15887135570512197739"
     }
    },
    "outputId": "f12abca0-cc47-466d-fcd4-d44e2144977c",
    "ExecuteTime": {
     "end_time": "2023-10-02T07:52:36.104802309Z",
     "start_time": "2023-10-02T07:52:36.005707551Z"
    }
   },
   "id": "12813b7ae6d41c34"
  },
  {
   "cell_type": "markdown",
   "source": [
    "* Total params - total number of parameters in the model.\n",
    "* Trainable parameters - these are the parameters (patterns) the model can update as it trains.\n",
    "* Non-trainable params - these parameters aren't updated during training (this is typical when you bring in already learn patterns or parameters from other models during **transfer learning**)\n",
    "\n",
    "**Resource:** For a more in-depth overview of the trainable parameters within a layer, check out [MIT's introduction to deep learning video](https://www.youtube.com/watch?v=QDX-1M5Nj7s&list=PLtBw6njQRU-rwp5__7C0oIVt26ZgjG9NI&index=2).\n",
    "\n",
    "**Exercise:** Try playing around with the number of hidden units in the dense layer, see how that effects the number of parameters (total and trainable) by calling `model.summary`."
   ],
   "metadata": {
    "collapsed": false,
    "id": "fe2ddf6925ef3e1b"
   },
   "id": "fe2ddf6925ef3e1b"
  },
  {
   "cell_type": "code",
   "execution_count": 35,
   "outputs": [
    {
     "data": {
      "text/plain": "<keras.callbacks.History at 0x7f8990494390>"
     },
     "execution_count": 35,
     "metadata": {},
     "output_type": "execute_result"
    }
   ],
   "source": [
    "# Let's fit our model to the training data\n",
    "model.fit(X_train, y_train, epochs=100, verbose=0)"
   ],
   "metadata": {
    "colab": {
     "base_uri": "https://localhost:8080/"
    },
    "id": "6cae2a5b5d81a33c",
    "executionInfo": {
     "status": "ok",
     "timestamp": 1696076731840,
     "user_tz": -420,
     "elapsed": 2129,
     "user": {
      "displayName": "kang sigit",
      "userId": "15887135570512197739"
     }
    },
    "outputId": "55f2e786-ca32-495c-c4b9-e0d598ca92a0",
    "ExecuteTime": {
     "end_time": "2023-10-02T07:52:40.050958552Z",
     "start_time": "2023-10-02T07:52:38.216255762Z"
    }
   },
   "id": "6cae2a5b5d81a33c"
  },
  {
   "cell_type": "code",
   "execution_count": 36,
   "outputs": [
    {
     "name": "stdout",
     "output_type": "stream",
     "text": [
      "Model: \"model_1\"\n",
      "_________________________________________________________________\n",
      " Layer (type)                Output Shape              Param #   \n",
      "=================================================================\n",
      " input_layer (Dense)         (None, 10)                20        \n",
      "                                                                 \n",
      " output_layer (Dense)        (None, 1)                 11        \n",
      "                                                                 \n",
      "=================================================================\n",
      "Total params: 31\n",
      "Trainable params: 31\n",
      "Non-trainable params: 0\n",
      "_________________________________________________________________\n"
     ]
    }
   ],
   "source": [
    "# Get a summary of our model\n",
    "model.summary()"
   ],
   "metadata": {
    "colab": {
     "base_uri": "https://localhost:8080/"
    },
    "id": "ef79d837a807dbff",
    "executionInfo": {
     "status": "ok",
     "timestamp": 1696076734841,
     "user_tz": -420,
     "elapsed": 14,
     "user": {
      "displayName": "kang sigit",
      "userId": "15887135570512197739"
     }
    },
    "outputId": "b874b077-66d4-48c3-d617-ab8bd9ea2360",
    "ExecuteTime": {
     "end_time": "2023-10-02T07:52:41.008902922Z",
     "start_time": "2023-10-02T07:52:40.841392738Z"
    }
   },
   "id": "ef79d837a807dbff"
  },
  {
   "cell_type": "code",
   "execution_count": 37,
   "outputs": [
    {
     "data": {
      "image/png": "[encoded data removed]",
      "text/plain": "<IPython.core.display.Image object>"
     },
     "execution_count": 37,
     "metadata": {},
     "output_type": "execute_result"
    }
   ],
   "source": [
    "# from tensorflow.keras.utils import plot_model\n",
    "# plot_model(model)\n",
    "tf.keras.utils.plot_model(model=model, show_shapes=True)"
   ],
   "metadata": {
    "colab": {
     "base_uri": "https://localhost:8080/",
     "height": 312
    },
    "id": "9f76823a012a16fc",
    "executionInfo": {
     "status": "ok",
     "timestamp": 1696076739831,
     "user_tz": -420,
     "elapsed": 5,
     "user": {
      "displayName": "kang sigit",
      "userId": "15887135570512197739"
     }
    },
    "outputId": "38ae9add-0cbe-45dd-9626-7c468c85b694",
    "ExecuteTime": {
     "end_time": "2023-10-02T07:52:41.746956811Z",
     "start_time": "2023-10-02T07:52:41.650796964Z"
    }
   },
   "id": "9f76823a012a16fc"
  },
  {
   "cell_type": "markdown",
   "source": [
    "### Visualizing our model's predictions\n",
    "\n",
    "To visualize predictions, it's a good idea to plot them against the ground truth labels.\n",
    "\n",
    "Often you'll see this in the form of `y_test` or `y_true` versus `y_pred` (ground truth versus your model's predictions)"
   ],
   "metadata": {
    "collapsed": false,
    "id": "f5244483f581fae1"
   },
   "id": "f5244483f581fae1"
  },
  {
   "cell_type": "code",
   "execution_count": 38,
   "outputs": [
    {
     "name": "stdout",
     "output_type": "stream",
     "text": [
      "1/1 [==============================] - 0s 63ms/step\n"
     ]
    },
    {
     "data": {
      "text/plain": "array([[ 91.153275],\n       [ 97.106445],\n       [103.05963 ],\n       [109.01281 ],\n       [114.96599 ],\n       [120.919174],\n       [126.872345],\n       [132.82553 ],\n       [138.7787  ],\n       [144.7319  ]], dtype=float32)"
     },
     "execution_count": 38,
     "metadata": {},
     "output_type": "execute_result"
    }
   ],
   "source": [
    "y_pred = model.predict(X_test)\n",
    "y_pred"
   ],
   "metadata": {
    "colab": {
     "base_uri": "https://localhost:8080/"
    },
    "id": "293c2620b65dc170",
    "executionInfo": {
     "status": "ok",
     "timestamp": 1696076744822,
     "user_tz": -420,
     "elapsed": 10,
     "user": {
      "displayName": "kang sigit",
      "userId": "15887135570512197739"
     }
    },
    "outputId": "4ee87d96-0c2e-4169-b0dd-4c1440d57eb3",
    "ExecuteTime": {
     "end_time": "2023-10-02T07:52:44.241797198Z",
     "start_time": "2023-10-02T07:52:44.087233942Z"
    }
   },
   "id": "293c2620b65dc170"
  },
  {
   "cell_type": "code",
   "execution_count": 39,
   "outputs": [
    {
     "data": {
      "text/plain": "<tf.Tensor: shape=(10,), dtype=int32, numpy=array([ 70,  74,  78,  82,  86,  90,  94,  98, 102, 106], dtype=int32)>"
     },
     "execution_count": 39,
     "metadata": {},
     "output_type": "execute_result"
    }
   ],
   "source": [
    "y_test"
   ],
   "metadata": {
    "colab": {
     "base_uri": "https://localhost:8080/"
    },
    "id": "6c948e1753458992",
    "executionInfo": {
     "status": "ok",
     "timestamp": 1696076748866,
     "user_tz": -420,
     "elapsed": 623,
     "user": {
      "displayName": "kang sigit",
      "userId": "15887135570512197739"
     }
    },
    "outputId": "426fda75-0bdc-4f22-828b-160c21f17527",
    "ExecuteTime": {
     "end_time": "2023-10-02T07:52:45.375573490Z",
     "start_time": "2023-10-02T07:52:45.309163939Z"
    }
   },
   "id": "6c948e1753458992"
  },
  {
   "cell_type": "markdown",
   "source": [
    "🔑 **Note:** If you feel like you're going to reuse some kind of functionality in the future, it's a good idea to turn it into function."
   ],
   "metadata": {
    "collapsed": false,
    "id": "39dcf705504e7045"
   },
   "id": "39dcf705504e7045"
  },
  {
   "cell_type": "code",
   "execution_count": 40,
   "outputs": [],
   "source": [
    "# Let's create a plotting function\n",
    "def plot_predictions(train_data=X_train,\n",
    "                     train_labels=y_train,\n",
    "                     test_data=X_test,\n",
    "                     test_labels=y_test,\n",
    "                     predictions=y_pred):\n",
    "    \"\"\"\n",
    "    Plots training data, test data and compares predictions to ground truth labels.\n",
    "    \"\"\"\n",
    "\n",
    "    plt.figure(figsize=(10, 7))\n",
    "    # Plot training data in blue\n",
    "    plt.scatter(train_data, train_labels, c=\"b\", label=\"Training data\")\n",
    "    # Plot testing data in green\n",
    "    plt.scatter(test_data, test_labels, c=\"g\", label=\"Testing data\")\n",
    "    # Plot model's predictions in red\n",
    "    plt.scatter(test_data, predictions, c=\"r\", label=\"Predictions\")\n",
    "    # Show the legend\n",
    "    plt.legend();"
   ],
   "metadata": {
    "id": "71cba8a1be7b2c81",
    "executionInfo": {
     "status": "ok",
     "timestamp": 1696076751527,
     "user_tz": -420,
     "elapsed": 6,
     "user": {
      "displayName": "kang sigit",
      "userId": "15887135570512197739"
     }
    },
    "ExecuteTime": {
     "end_time": "2023-10-02T07:52:46.838794487Z",
     "start_time": "2023-10-02T07:52:46.776915326Z"
    }
   },
   "id": "71cba8a1be7b2c81"
  },
  {
   "cell_type": "code",
   "execution_count": 41,
   "outputs": [
    {
     "data": {
      "text/plain": "<Figure size 1000x700 with 1 Axes>",
      "image/png": "[encoded data removed]"
     },
     "metadata": {},
     "output_type": "display_data"
    }
   ],
   "source": [
    "plot_predictions(train_data=X_train,\n",
    "                 train_labels=y_train,\n",
    "                 test_data=X_test,\n",
    "                 test_labels=y_test,\n",
    "                 predictions=y_pred)"
   ],
   "metadata": {
    "colab": {
     "base_uri": "https://localhost:8080/",
     "height": 599
    },
    "id": "2a6d51a53151bf01",
    "executionInfo": {
     "status": "ok",
     "timestamp": 1696076756188,
     "user_tz": -420,
     "elapsed": 676,
     "user": {
      "displayName": "kang sigit",
      "userId": "15887135570512197739"
     }
    },
    "outputId": "5622b327-d23a-443a-98eb-37621a728b65",
    "ExecuteTime": {
     "end_time": "2023-10-02T07:52:47.787580260Z",
     "start_time": "2023-10-02T07:52:47.506080590Z"
    }
   },
   "id": "2a6d51a53151bf01"
  },
  {
   "cell_type": "markdown",
   "source": [
    "### Evaluating our model's predictions with regression evaluation metrics\n",
    "\n",
    "Depending on the problem you're working on, there will be different evaluation metrics to evaluate your model's performance.\n",
    "\n",
    "Since we're working on a regresion, two of the main metrics:\n",
    "* MAE - mean absolute error, \"on average, how wrong is each of my model's predictions\"\n",
    "* MSE - mean square error, \"square the average errors\""
   ],
   "metadata": {
    "collapsed": false,
    "id": "9ebf4e56a0b6b139"
   },
   "id": "9ebf4e56a0b6b139"
  },
  {
   "cell_type": "code",
   "execution_count": 42,
   "outputs": [
    {
     "name": "stdout",
     "output_type": "stream",
     "text": [
      "1/1 [==============================] - 0s 121ms/step - loss: 29.9426 - mae: 29.9426\n"
     ]
    },
    {
     "data": {
      "text/plain": "[29.942577362060547, 29.942577362060547]"
     },
     "execution_count": 42,
     "metadata": {},
     "output_type": "execute_result"
    }
   ],
   "source": [
    "# Evaluate the model on the test\n",
    "model.evaluate(X_test, y_test)"
   ],
   "metadata": {
    "colab": {
     "base_uri": "https://localhost:8080/"
    },
    "id": "36177621aade1e45",
    "executionInfo": {
     "status": "ok",
     "timestamp": 1696076760260,
     "user_tz": -420,
     "elapsed": 3,
     "user": {
      "displayName": "kang sigit",
      "userId": "15887135570512197739"
     }
    },
    "outputId": "8fde979d-d6d8-4b3c-cc52-788e23f56633",
    "ExecuteTime": {
     "end_time": "2023-10-02T07:52:50.225320851Z",
     "start_time": "2023-10-02T07:52:50.034649283Z"
    }
   },
   "id": "36177621aade1e45"
  },
  {
   "cell_type": "code",
   "execution_count": 43,
   "outputs": [
    {
     "data": {
      "text/plain": "<tf.Tensor: shape=(10,), dtype=float32, numpy=\narray([10.230655, 12.042578, 15.647705, 21.01281 , 26.965988, 32.919174,\n       38.872345, 44.82553 , 50.7787  , 56.731903], dtype=float32)>"
     },
     "execution_count": 43,
     "metadata": {},
     "output_type": "execute_result"
    }
   ],
   "source": [
    "# Calculate the mean absolute error (wrong output)\n",
    "mae = tf.metrics.mean_absolute_error(y_true=y_test, y_pred=y_pred)\n",
    "mae"
   ],
   "metadata": {
    "colab": {
     "base_uri": "https://localhost:8080/"
    },
    "id": "575b0fa5aebbd5fd",
    "executionInfo": {
     "status": "ok",
     "timestamp": 1696076763811,
     "user_tz": -420,
     "elapsed": 715,
     "user": {
      "displayName": "kang sigit",
      "userId": "15887135570512197739"
     }
    },
    "outputId": "27b75cf0-09ff-4843-c70c-8761bba46195",
    "ExecuteTime": {
     "end_time": "2023-10-02T07:52:50.937441229Z",
     "start_time": "2023-10-02T07:52:50.881867542Z"
    }
   },
   "id": "575b0fa5aebbd5fd"
  },
  {
   "cell_type": "code",
   "execution_count": 44,
   "outputs": [
    {
     "data": {
      "text/plain": "array([[ 91.153275],\n       [ 97.106445],\n       [103.05963 ],\n       [109.01281 ],\n       [114.96599 ],\n       [120.919174],\n       [126.872345],\n       [132.82553 ],\n       [138.7787  ],\n       [144.7319  ]], dtype=float32)"
     },
     "execution_count": 44,
     "metadata": {},
     "output_type": "execute_result"
    }
   ],
   "source": [
    "y_pred"
   ],
   "metadata": {
    "colab": {
     "base_uri": "https://localhost:8080/"
    },
    "id": "aedf7261aa2cc7ac",
    "executionInfo": {
     "status": "ok",
     "timestamp": 1696076770397,
     "user_tz": -420,
     "elapsed": 550,
     "user": {
      "displayName": "kang sigit",
      "userId": "15887135570512197739"
     }
    },
    "outputId": "780baeaa-5d3c-4eff-94cf-7e86833d9d55",
    "ExecuteTime": {
     "end_time": "2023-10-02T07:52:51.623037517Z",
     "start_time": "2023-10-02T07:52:51.573443407Z"
    }
   },
   "id": "aedf7261aa2cc7ac"
  },
  {
   "cell_type": "code",
   "execution_count": 45,
   "outputs": [
    {
     "data": {
      "text/plain": "<tf.Tensor: shape=(10, 1), dtype=float32, numpy=\narray([[ 91.153275],\n       [ 97.106445],\n       [103.05963 ],\n       [109.01281 ],\n       [114.96599 ],\n       [120.919174],\n       [126.872345],\n       [132.82553 ],\n       [138.7787  ],\n       [144.7319  ]], dtype=float32)>"
     },
     "execution_count": 45,
     "metadata": {},
     "output_type": "execute_result"
    }
   ],
   "source": [
    "tf.constant(y_pred)"
   ],
   "metadata": {
    "colab": {
     "base_uri": "https://localhost:8080/"
    },
    "id": "efcfefa487523699",
    "executionInfo": {
     "status": "ok",
     "timestamp": 1696076773607,
     "user_tz": -420,
     "elapsed": 546,
     "user": {
      "displayName": "kang sigit",
      "userId": "15887135570512197739"
     }
    },
    "outputId": "208db3b7-e815-45df-983c-245825caa58f",
    "ExecuteTime": {
     "end_time": "2023-10-02T07:52:52.480755016Z",
     "start_time": "2023-10-02T07:52:52.438819716Z"
    }
   },
   "id": "efcfefa487523699"
  },
  {
   "cell_type": "code",
   "execution_count": 46,
   "outputs": [
    {
     "data": {
      "text/plain": "<tf.Tensor: shape=(10,), dtype=float32, numpy=\narray([ 91.153275,  97.106445, 103.05963 , 109.01281 , 114.96599 ,\n       120.919174, 126.872345, 132.82553 , 138.7787  , 144.7319  ],\n      dtype=float32)>"
     },
     "execution_count": 46,
     "metadata": {},
     "output_type": "execute_result"
    }
   ],
   "source": [
    "tf.squeeze(y_pred)"
   ],
   "metadata": {
    "colab": {
     "base_uri": "https://localhost:8080/"
    },
    "id": "f5f88f1ace7aeab8",
    "executionInfo": {
     "status": "ok",
     "timestamp": 1696076776274,
     "user_tz": -420,
     "elapsed": 11,
     "user": {
      "displayName": "kang sigit",
      "userId": "15887135570512197739"
     }
    },
    "outputId": "36ecd7c8-310f-4361-8a69-a11728deae72",
    "ExecuteTime": {
     "end_time": "2023-10-02T07:52:53.080415788Z",
     "start_time": "2023-10-02T07:52:53.041098152Z"
    }
   },
   "id": "f5f88f1ace7aeab8"
  },
  {
   "cell_type": "code",
   "execution_count": 47,
   "outputs": [
    {
     "data": {
      "text/plain": "<tf.Tensor: shape=(10,), dtype=int32, numpy=array([ 70,  74,  78,  82,  86,  90,  94,  98, 102, 106], dtype=int32)>"
     },
     "execution_count": 47,
     "metadata": {},
     "output_type": "execute_result"
    }
   ],
   "source": [
    "y_test"
   ],
   "metadata": {
    "colab": {
     "base_uri": "https://localhost:8080/"
    },
    "id": "5dad140f654bcf85",
    "executionInfo": {
     "status": "ok",
     "timestamp": 1696076779803,
     "user_tz": -420,
     "elapsed": 9,
     "user": {
      "displayName": "kang sigit",
      "userId": "15887135570512197739"
     }
    },
    "outputId": "eaa141da-b33a-4245-860d-9bf94dc1184b",
    "ExecuteTime": {
     "end_time": "2023-10-02T07:52:53.902193337Z",
     "start_time": "2023-10-02T07:52:53.844230563Z"
    }
   },
   "id": "5dad140f654bcf85"
  },
  {
   "cell_type": "code",
   "execution_count": 48,
   "outputs": [
    {
     "data": {
      "text/plain": "<tf.Tensor: shape=(), dtype=float32, numpy=29.942577>"
     },
     "execution_count": 48,
     "metadata": {},
     "output_type": "execute_result"
    }
   ],
   "source": [
    "# Calculate the mean absolute error\n",
    "mae = tf.metrics.mean_absolute_error(y_true=y_test, y_pred=tf.squeeze(y_pred))\n",
    "mae"
   ],
   "metadata": {
    "colab": {
     "base_uri": "https://localhost:8080/"
    },
    "id": "cd2acac44e2bdbab",
    "executionInfo": {
     "status": "ok",
     "timestamp": 1696076782346,
     "user_tz": -420,
     "elapsed": 7,
     "user": {
      "displayName": "kang sigit",
      "userId": "15887135570512197739"
     }
    },
    "outputId": "080b3669-5b49-49d7-d8b0-369f59c86ff5",
    "ExecuteTime": {
     "end_time": "2023-10-02T07:52:54.482464129Z",
     "start_time": "2023-10-02T07:52:54.424639900Z"
    }
   },
   "id": "cd2acac44e2bdbab"
  },
  {
   "cell_type": "code",
   "execution_count": 49,
   "outputs": [
    {
     "data": {
      "text/plain": "<tf.Tensor: shape=(), dtype=float32, numpy=928.0311>"
     },
     "execution_count": 49,
     "metadata": {},
     "output_type": "execute_result"
    }
   ],
   "source": [
    "# Calculate the mean square error\n",
    "mse = tf.metrics.mean_squared_error(y_true=y_test,\n",
    "                                    y_pred=tf.squeeze(y_pred))\n",
    "mse"
   ],
   "metadata": {
    "colab": {
     "base_uri": "https://localhost:8080/"
    },
    "id": "fe4b0fd576d35da1",
    "executionInfo": {
     "status": "ok",
     "timestamp": 1696076787598,
     "user_tz": -420,
     "elapsed": 700,
     "user": {
      "displayName": "kang sigit",
      "userId": "15887135570512197739"
     }
    },
    "outputId": "cc58b7f4-9bc0-49f0-e7f7-1d2fa4171ae7",
    "ExecuteTime": {
     "end_time": "2023-10-02T07:52:54.984004506Z",
     "start_time": "2023-10-02T07:52:54.944096454Z"
    }
   },
   "id": "fe4b0fd576d35da1"
  },
  {
   "cell_type": "code",
   "execution_count": 50,
   "outputs": [],
   "source": [
    "# Make some functions to reuse MAE and MSE\n",
    "def mae(y_true, y_pred):\n",
    "    return tf.metrics.mean_absolute_error(y_true=y_true,\n",
    "                                          y_pred=tf.squeeze(y_pred))\n",
    "\n",
    "def mse(y_true, y_pred):\n",
    "    return tf.metrics.mean_squared_error(y_true=y_true,\n",
    "                                         y_pred=tf.squeeze(y_pred))"
   ],
   "metadata": {
    "id": "c6fceadbc41c29ae",
    "executionInfo": {
     "status": "ok",
     "timestamp": 1696076790743,
     "user_tz": -420,
     "elapsed": 675,
     "user": {
      "displayName": "kang sigit",
      "userId": "15887135570512197739"
     }
    },
    "ExecuteTime": {
     "end_time": "2023-10-02T07:52:55.633020087Z",
     "start_time": "2023-10-02T07:52:55.577996271Z"
    }
   },
   "id": "c6fceadbc41c29ae"
  },
  {
   "cell_type": "markdown",
   "source": [
    "### Running experiments to improve our model\n",
    "\n",
    "```\n",
    "Build a model -> fit it -> evaluate it -> tweak it -> fit it -> evaluate it -> tweak it -> fit it -> evaluate it ...\n",
    "```\n",
    "\n",
    "1. Get more data - get more examples for your model to train on (more opportunities to learn patterns or relationships between features and labels).\n",
    "2. Make your model larger (using a more complex model) - this might come in the form of more layers or more hidden units in each layer.\n",
    "3. Train for longger - give your model more of a chance to find patterns in the data.\n",
    "\n",
    "Let's do 3 modelling experiments:\n",
    "\n",
    "1. `model_1` - same as original model, 1 layer, trained for 100 epochs.\n",
    "2. `model_2` - 2 layers, trained for 100 epochs.\n",
    "3. `model_3` - 2 layers, trained for 500 epochs.\n",
    "\n",
    "**Build `model_1`**"
   ],
   "metadata": {
    "collapsed": false,
    "id": "b61006e52b76be84"
   },
   "id": "b61006e52b76be84"
  },
  {
   "cell_type": "code",
   "execution_count": 51,
   "outputs": [
    {
     "name": "stdout",
     "output_type": "stream",
     "text": [
      "Epoch 1/100\n",
      "2/2 [==============================] - 0s 5ms/step - loss: 27.6704 - mae: 27.6704\n",
      "Epoch 2/100\n",
      "2/2 [==============================] - 0s 3ms/step - loss: 8.8489 - mae: 8.8489\n",
      "Epoch 3/100\n",
      "2/2 [==============================] - 0s 4ms/step - loss: 9.7131 - mae: 9.7131\n",
      "Epoch 4/100\n",
      "2/2 [==============================] - 0s 4ms/step - loss: 11.8637 - mae: 11.8637\n",
      "Epoch 5/100\n",
      "2/2 [==============================] - 0s 4ms/step - loss: 10.9301 - mae: 10.9301\n",
      "Epoch 6/100\n",
      "2/2 [==============================] - 0s 3ms/step - loss: 10.1000 - mae: 10.1000\n",
      "Epoch 7/100\n",
      "2/2 [==============================] - 0s 4ms/step - loss: 9.1292 - mae: 9.1292\n",
      "Epoch 8/100\n",
      "2/2 [==============================] - 0s 4ms/step - loss: 9.0993 - mae: 9.0993\n",
      "Epoch 9/100\n",
      "2/2 [==============================] - 0s 3ms/step - loss: 15.1203 - mae: 15.1203\n",
      "Epoch 10/100\n",
      "2/2 [==============================] - 0s 4ms/step - loss: 7.5599 - mae: 7.5599\n",
      "Epoch 11/100\n",
      "2/2 [==============================] - 0s 5ms/step - loss: 11.4475 - mae: 11.4475\n",
      "Epoch 12/100\n",
      "2/2 [==============================] - 0s 3ms/step - loss: 16.8450 - mae: 16.8450\n",
      "Epoch 13/100\n",
      "2/2 [==============================] - 0s 5ms/step - loss: 11.9736 - mae: 11.9736\n",
      "Epoch 14/100\n",
      "2/2 [==============================] - 0s 4ms/step - loss: 13.9159 - mae: 13.9159\n",
      "Epoch 15/100\n",
      "2/2 [==============================] - 0s 3ms/step - loss: 11.3051 - mae: 11.3051\n",
      "Epoch 16/100\n",
      "2/2 [==============================] - 0s 5ms/step - loss: 8.5622 - mae: 8.5622\n",
      "Epoch 17/100\n",
      "2/2 [==============================] - 0s 4ms/step - loss: 13.6946 - mae: 13.6946\n",
      "Epoch 18/100\n",
      "2/2 [==============================] - 0s 4ms/step - loss: 11.5394 - mae: 11.5394\n",
      "Epoch 19/100\n",
      "2/2 [==============================] - 0s 4ms/step - loss: 17.8100 - mae: 17.8100\n",
      "Epoch 20/100\n",
      "2/2 [==============================] - 0s 5ms/step - loss: 14.9455 - mae: 14.9455\n",
      "Epoch 21/100\n",
      "2/2 [==============================] - 0s 3ms/step - loss: 10.8282 - mae: 10.8282\n",
      "Epoch 22/100\n",
      "2/2 [==============================] - 0s 4ms/step - loss: 8.5775 - mae: 8.5775\n",
      "Epoch 23/100\n",
      "2/2 [==============================] - 0s 5ms/step - loss: 9.7122 - mae: 9.7122\n",
      "Epoch 24/100\n",
      "2/2 [==============================] - 0s 4ms/step - loss: 10.9401 - mae: 10.9401\n",
      "Epoch 25/100\n",
      "2/2 [==============================] - 0s 4ms/step - loss: 9.1487 - mae: 9.1487\n",
      "Epoch 26/100\n",
      "2/2 [==============================] - 0s 5ms/step - loss: 13.1775 - mae: 13.1775\n",
      "Epoch 27/100\n",
      "2/2 [==============================] - 0s 5ms/step - loss: 10.6510 - mae: 10.6510\n",
      "Epoch 28/100\n",
      "2/2 [==============================] - 0s 5ms/step - loss: 12.8679 - mae: 12.8679\n",
      "Epoch 29/100\n",
      "2/2 [==============================] - 0s 3ms/step - loss: 9.4998 - mae: 9.4998\n",
      "Epoch 30/100\n",
      "2/2 [==============================] - 0s 3ms/step - loss: 16.3879 - mae: 16.3879\n",
      "Epoch 31/100\n",
      "2/2 [==============================] - 0s 3ms/step - loss: 23.5941 - mae: 23.5941\n",
      "Epoch 32/100\n",
      "2/2 [==============================] - 0s 3ms/step - loss: 7.6042 - mae: 7.6042\n",
      "Epoch 33/100\n",
      "2/2 [==============================] - 0s 4ms/step - loss: 9.3025 - mae: 9.3025\n",
      "Epoch 34/100\n",
      "2/2 [==============================] - 0s 4ms/step - loss: 13.6882 - mae: 13.6882\n",
      "Epoch 35/100\n",
      "2/2 [==============================] - 0s 6ms/step - loss: 11.1393 - mae: 11.1393\n",
      "Epoch 36/100\n",
      "2/2 [==============================] - 0s 4ms/step - loss: 13.3563 - mae: 13.3563\n",
      "Epoch 37/100\n",
      "2/2 [==============================] - 0s 3ms/step - loss: 9.4510 - mae: 9.4510\n",
      "Epoch 38/100\n",
      "2/2 [==============================] - 0s 3ms/step - loss: 10.1054 - mae: 10.1054\n",
      "Epoch 39/100\n",
      "2/2 [==============================] - 0s 5ms/step - loss: 10.1912 - mae: 10.1912\n",
      "Epoch 40/100\n",
      "2/2 [==============================] - 0s 4ms/step - loss: 10.9342 - mae: 10.9342\n",
      "Epoch 41/100\n",
      "2/2 [==============================] - 0s 3ms/step - loss: 7.9195 - mae: 7.9195\n",
      "Epoch 42/100\n",
      "2/2 [==============================] - 0s 3ms/step - loss: 10.0625 - mae: 10.0625\n",
      "Epoch 43/100\n",
      "2/2 [==============================] - 0s 4ms/step - loss: 8.6831 - mae: 8.6831\n",
      "Epoch 44/100\n",
      "2/2 [==============================] - 0s 4ms/step - loss: 12.1614 - mae: 12.1614\n",
      "Epoch 45/100\n",
      "2/2 [==============================] - 0s 4ms/step - loss: 13.8245 - mae: 13.8245\n",
      "Epoch 46/100\n",
      "2/2 [==============================] - 0s 4ms/step - loss: 8.4830 - mae: 8.4830\n",
      "Epoch 47/100\n",
      "2/2 [==============================] - 0s 4ms/step - loss: 9.1073 - mae: 9.1073\n",
      "Epoch 48/100\n",
      "2/2 [==============================] - 0s 4ms/step - loss: 10.5849 - mae: 10.5849\n",
      "Epoch 49/100\n",
      "2/2 [==============================] - 0s 4ms/step - loss: 7.7271 - mae: 7.7271\n",
      "Epoch 50/100\n",
      "2/2 [==============================] - 0s 5ms/step - loss: 9.5092 - mae: 9.5092\n",
      "Epoch 51/100\n",
      "2/2 [==============================] - 0s 3ms/step - loss: 9.1441 - mae: 9.1441\n",
      "Epoch 52/100\n",
      "2/2 [==============================] - 0s 5ms/step - loss: 16.3119 - mae: 16.3119\n",
      "Epoch 53/100\n",
      "2/2 [==============================] - 0s 4ms/step - loss: 14.1438 - mae: 14.1438\n",
      "Epoch 54/100\n",
      "2/2 [==============================] - 0s 4ms/step - loss: 21.1732 - mae: 21.1732\n",
      "Epoch 55/100\n",
      "2/2 [==============================] - 0s 3ms/step - loss: 16.3477 - mae: 16.3477\n",
      "Epoch 56/100\n",
      "2/2 [==============================] - 0s 3ms/step - loss: 10.0074 - mae: 10.0074\n",
      "Epoch 57/100\n",
      "2/2 [==============================] - 0s 4ms/step - loss: 9.9309 - mae: 9.9309\n",
      "Epoch 58/100\n",
      "2/2 [==============================] - 0s 3ms/step - loss: 9.1936 - mae: 9.1936\n",
      "Epoch 59/100\n",
      "2/2 [==============================] - 0s 3ms/step - loss: 8.3980 - mae: 8.3980\n",
      "Epoch 60/100\n",
      "2/2 [==============================] - 0s 5ms/step - loss: 9.4637 - mae: 9.4637\n",
      "Epoch 61/100\n",
      "2/2 [==============================] - 0s 4ms/step - loss: 11.3969 - mae: 11.3969\n",
      "Epoch 62/100\n",
      "2/2 [==============================] - 0s 5ms/step - loss: 11.7144 - mae: 11.7144\n",
      "Epoch 63/100\n",
      "2/2 [==============================] - 0s 4ms/step - loss: 7.0635 - mae: 7.0635\n",
      "Epoch 64/100\n",
      "2/2 [==============================] - 0s 5ms/step - loss: 16.9968 - mae: 16.9968\n",
      "Epoch 65/100\n",
      "2/2 [==============================] - 0s 4ms/step - loss: 12.4783 - mae: 12.4783\n",
      "Epoch 66/100\n",
      "2/2 [==============================] - 0s 5ms/step - loss: 13.0454 - mae: 13.0454\n",
      "Epoch 67/100\n",
      "2/2 [==============================] - 0s 4ms/step - loss: 8.0635 - mae: 8.0635\n",
      "Epoch 68/100\n",
      "2/2 [==============================] - 0s 4ms/step - loss: 10.2016 - mae: 10.2016\n",
      "Epoch 69/100\n",
      "2/2 [==============================] - 0s 4ms/step - loss: 12.3924 - mae: 12.3924\n",
      "Epoch 70/100\n",
      "2/2 [==============================] - 0s 4ms/step - loss: 9.0248 - mae: 9.0248\n",
      "Epoch 71/100\n",
      "2/2 [==============================] - 0s 4ms/step - loss: 10.0092 - mae: 10.0092\n",
      "Epoch 72/100\n",
      "2/2 [==============================] - 0s 5ms/step - loss: 10.0277 - mae: 10.0277\n",
      "Epoch 73/100\n",
      "2/2 [==============================] - 0s 4ms/step - loss: 12.5743 - mae: 12.5743\n",
      "Epoch 74/100\n",
      "2/2 [==============================] - 0s 4ms/step - loss: 10.4096 - mae: 10.4096\n",
      "Epoch 75/100\n",
      "2/2 [==============================] - 0s 3ms/step - loss: 9.6970 - mae: 9.6970\n",
      "Epoch 76/100\n",
      "2/2 [==============================] - 0s 6ms/step - loss: 11.1920 - mae: 11.1920\n",
      "Epoch 77/100\n",
      "2/2 [==============================] - 0s 4ms/step - loss: 8.3401 - mae: 8.3401\n",
      "Epoch 78/100\n",
      "2/2 [==============================] - 0s 4ms/step - loss: 9.0889 - mae: 9.0889\n",
      "Epoch 79/100\n",
      "2/2 [==============================] - 0s 6ms/step - loss: 19.5495 - mae: 19.5495\n",
      "Epoch 80/100\n",
      "2/2 [==============================] - 0s 6ms/step - loss: 14.8483 - mae: 14.8483\n",
      "Epoch 81/100\n",
      "2/2 [==============================] - 0s 5ms/step - loss: 9.0361 - mae: 9.0361\n",
      "Epoch 82/100\n",
      "2/2 [==============================] - 0s 6ms/step - loss: 12.9806 - mae: 12.9806\n",
      "Epoch 83/100\n",
      "2/2 [==============================] - 0s 4ms/step - loss: 10.4320 - mae: 10.4320\n",
      "Epoch 84/100\n",
      "2/2 [==============================] - 0s 4ms/step - loss: 10.4751 - mae: 10.4751\n",
      "Epoch 85/100\n",
      "2/2 [==============================] - 0s 3ms/step - loss: 9.2107 - mae: 9.2107\n",
      "Epoch 86/100\n",
      "2/2 [==============================] - 0s 4ms/step - loss: 9.0889 - mae: 9.0889\n",
      "Epoch 87/100\n",
      "2/2 [==============================] - 0s 4ms/step - loss: 11.7583 - mae: 11.7583\n",
      "Epoch 88/100\n",
      "2/2 [==============================] - 0s 4ms/step - loss: 10.3620 - mae: 10.3620\n",
      "Epoch 89/100\n",
      "2/2 [==============================] - 0s 3ms/step - loss: 6.9788 - mae: 6.9788\n",
      "Epoch 90/100\n",
      "2/2 [==============================] - 0s 5ms/step - loss: 13.6695 - mae: 13.6695\n",
      "Epoch 91/100\n",
      "2/2 [==============================] - 0s 3ms/step - loss: 7.8022 - mae: 7.8022\n",
      "Epoch 92/100\n",
      "2/2 [==============================] - 0s 4ms/step - loss: 7.9657 - mae: 7.9657\n",
      "Epoch 93/100\n",
      "2/2 [==============================] - 0s 3ms/step - loss: 9.4723 - mae: 9.4723\n",
      "Epoch 94/100\n",
      "2/2 [==============================] - 0s 5ms/step - loss: 8.7827 - mae: 8.7827\n",
      "Epoch 95/100\n",
      "2/2 [==============================] - 0s 4ms/step - loss: 9.9312 - mae: 9.9312\n",
      "Epoch 96/100\n",
      "2/2 [==============================] - 0s 5ms/step - loss: 7.2957 - mae: 7.2957\n",
      "Epoch 97/100\n",
      "2/2 [==============================] - 0s 4ms/step - loss: 6.7420 - mae: 6.7420\n",
      "Epoch 98/100\n",
      "2/2 [==============================] - 0s 4ms/step - loss: 8.3989 - mae: 8.3989\n",
      "Epoch 99/100\n",
      "2/2 [==============================] - 0s 4ms/step - loss: 8.4874 - mae: 8.4874\n",
      "Epoch 100/100\n",
      "2/2 [==============================] - 0s 4ms/step - loss: 14.4083 - mae: 14.4083\n"
     ]
    },
    {
     "data": {
      "text/plain": "<keras.callbacks.History at 0x7f8992fe27d0>"
     },
     "execution_count": 51,
     "metadata": {},
     "output_type": "execute_result"
    }
   ],
   "source": [
    "# Set random seed\n",
    "tf.random.set_seed(42)\n",
    "\n",
    "# 1. Create the model\n",
    "model_1 = tf.keras.Sequential([\n",
    "    tf.keras.layers.Dense(1)\n",
    "])\n",
    "\n",
    "# 2. Compile the model\n",
    "model_1.compile(loss=tf.keras.losses.mae,\n",
    "                optimizer=tf.keras.optimizers.SGD(),\n",
    "                metrics=[\"mae\"])\n",
    "\n",
    "# 3. Fit the model\n",
    "model_1.fit(tf.expand_dims(X_train, axis=-1), y_train, epochs=100)"
   ],
   "metadata": {
    "colab": {
     "base_uri": "https://localhost:8080/"
    },
    "id": "722c58063f2b0200",
    "executionInfo": {
     "status": "ok",
     "timestamp": 1696076802171,
     "user_tz": -420,
     "elapsed": 5802,
     "user": {
      "displayName": "kang sigit",
      "userId": "15887135570512197739"
     }
    },
    "outputId": "96af9472-0736-414d-a002-0bf8741f4cd3",
    "ExecuteTime": {
     "end_time": "2023-10-02T07:52:58.762075231Z",
     "start_time": "2023-10-02T07:52:56.846412094Z"
    }
   },
   "id": "722c58063f2b0200"
  },
  {
   "cell_type": "code",
   "execution_count": 52,
   "outputs": [
    {
     "name": "stdout",
     "output_type": "stream",
     "text": [
      "WARNING:tensorflow:5 out of the last 5 calls to <function Model.make_predict_function.<locals>.predict_function at 0x7f8992fbd8a0> triggered tf.function retracing. Tracing is expensive and the excessive number of tracings could be due to (1) creating @tf.function repeatedly in a loop, (2) passing tensors with different shapes, (3) passing Python objects instead of tensors. For (1), please define your @tf.function outside of the loop. For (2), @tf.function has reduce_retracing=True option that can avoid unnecessary retracing. For (3), please refer to https://www.tensorflow.org/guide/function#controlling_retracing and https://www.tensorflow.org/api_docs/python/tf/function for  more details.\n",
      "1/1 [==============================] - 0s 50ms/step\n"
     ]
    },
    {
     "data": {
      "text/plain": "<Figure size 1000x700 with 1 Axes>",
      "image/png": "[encoded data removed]"
     },
     "metadata": {},
     "output_type": "display_data"
    }
   ],
   "source": [
    "# Make and plot predictions for model_1\n",
    "y_preds_1 = model_1.predict(X_test)\n",
    "plot_predictions(predictions=y_preds_1)"
   ],
   "metadata": {
    "colab": {
     "base_uri": "https://localhost:8080/",
     "height": 656
    },
    "id": "382f33287c6f7581",
    "executionInfo": {
     "status": "ok",
     "timestamp": 1696076818038,
     "user_tz": -420,
     "elapsed": 674,
     "user": {
      "displayName": "kang sigit",
      "userId": "15887135570512197739"
     }
    },
    "outputId": "ccf8fe91-0129-401c-a1c0-25bb427ce51c",
    "ExecuteTime": {
     "end_time": "2023-10-02T07:53:02.608901749Z",
     "start_time": "2023-10-02T07:53:02.211263174Z"
    }
   },
   "id": "382f33287c6f7581"
  },
  {
   "cell_type": "code",
   "execution_count": 53,
   "outputs": [
    {
     "data": {
      "text/plain": "(<tf.Tensor: shape=(10, 1), dtype=float32, numpy=\n array([[44.36214 ],\n        [47.23287 ],\n        [50.103596],\n        [52.97432 ],\n        [55.845047],\n        [58.71577 ],\n        [61.5865  ],\n        [64.45722 ],\n        [67.32795 ],\n        [70.19868 ]], dtype=float32)>,\n <tf.Tensor: shape=(10,), dtype=float32, numpy=\n array([44.36214 , 47.23287 , 50.103596, 52.97432 , 55.845047, 58.71577 ,\n        61.5865  , 64.45722 , 67.32795 , 70.19868 ], dtype=float32)>)"
     },
     "execution_count": 53,
     "metadata": {},
     "output_type": "execute_result"
    }
   ],
   "source": [
    "tf.constant(y_preds_1), tf.squeeze(y_preds_1)"
   ],
   "metadata": {
    "colab": {
     "base_uri": "https://localhost:8080/"
    },
    "id": "d717b5c1f0b6405",
    "executionInfo": {
     "status": "ok",
     "timestamp": 1696076824537,
     "user_tz": -420,
     "elapsed": 618,
     "user": {
      "displayName": "kang sigit",
      "userId": "15887135570512197739"
     }
    },
    "outputId": "c4292f0f-6ede-4cbc-f6cc-5e32de1363fd",
    "ExecuteTime": {
     "end_time": "2023-10-02T07:53:03.741930824Z",
     "start_time": "2023-10-02T07:53:03.700224911Z"
    }
   },
   "id": "d717b5c1f0b6405"
  },
  {
   "cell_type": "code",
   "execution_count": 54,
   "outputs": [
    {
     "data": {
      "text/plain": "(<tf.Tensor: shape=(), dtype=float32, numpy=30.719593>,\n <tf.Tensor: shape=(), dtype=float32, numpy=954.2142>)"
     },
     "execution_count": 54,
     "metadata": {},
     "output_type": "execute_result"
    }
   ],
   "source": [
    "# Calculate model_1 evaluation metrics\n",
    "mae_1 = mae(y_test, y_preds_1)\n",
    "mse_1 = mse(y_test, y_preds_1)\n",
    "mae_1, mse_1"
   ],
   "metadata": {
    "colab": {
     "base_uri": "https://localhost:8080/"
    },
    "id": "f00fe8d1a1017420",
    "executionInfo": {
     "status": "ok",
     "timestamp": 1696076828361,
     "user_tz": -420,
     "elapsed": 577,
     "user": {
      "displayName": "kang sigit",
      "userId": "15887135570512197739"
     }
    },
    "outputId": "636c597c-4cd6-45be-c773-f547bde4ca55",
    "ExecuteTime": {
     "end_time": "2023-10-02T07:53:04.637781350Z",
     "start_time": "2023-10-02T07:53:04.579789585Z"
    }
   },
   "id": "f00fe8d1a1017420"
  },
  {
   "cell_type": "markdown",
   "source": [
    "**Build `model_2`**\n",
    "\n",
    "* 2 dense layers, trained for 100 epochs"
   ],
   "metadata": {
    "collapsed": false,
    "id": "ab30453e074532d3"
   },
   "id": "ab30453e074532d3"
  },
  {
   "cell_type": "code",
   "execution_count": 55,
   "outputs": [
    {
     "name": "stdout",
     "output_type": "stream",
     "text": [
      "Epoch 1/100\n",
      "2/2 [==============================] - 0s 18ms/step - loss: 71.6396 - mae: 71.6396\n",
      "Epoch 2/100\n",
      "2/2 [==============================] - 0s 16ms/step - loss: 10.6809 - mae: 10.6809\n",
      "Epoch 3/100\n",
      "2/2 [==============================] - 0s 4ms/step - loss: 25.4010 - mae: 25.4010\n",
      "Epoch 4/100\n",
      "2/2 [==============================] - 0s 15ms/step - loss: 13.0687 - mae: 13.0687\n",
      "Epoch 5/100\n",
      "2/2 [==============================] - 0s 19ms/step - loss: 14.3825 - mae: 14.3825\n",
      "Epoch 6/100\n",
      "2/2 [==============================] - 0s 11ms/step - loss: 11.4854 - mae: 11.4854\n",
      "Epoch 7/100\n",
      "2/2 [==============================] - 0s 35ms/step - loss: 12.5251 - mae: 12.5251\n",
      "Epoch 8/100\n",
      "2/2 [==============================] - 0s 4ms/step - loss: 10.9967 - mae: 10.9967\n",
      "Epoch 9/100\n",
      "2/2 [==============================] - 0s 10ms/step - loss: 39.1755 - mae: 39.1755\n",
      "Epoch 10/100\n",
      "2/2 [==============================] - 0s 4ms/step - loss: 26.7334 - mae: 26.7334\n",
      "Epoch 11/100\n",
      "2/2 [==============================] - 0s 20ms/step - loss: 11.7927 - mae: 11.7927\n",
      "Epoch 12/100\n",
      "2/2 [==============================] - 0s 4ms/step - loss: 23.5250 - mae: 23.5250\n",
      "Epoch 13/100\n",
      "2/2 [==============================] - 0s 17ms/step - loss: 21.2800 - mae: 21.2800\n",
      "Epoch 14/100\n",
      "2/2 [==============================] - 0s 22ms/step - loss: 23.7608 - mae: 23.7608\n",
      "Epoch 15/100\n",
      "2/2 [==============================] - 0s 12ms/step - loss: 15.8132 - mae: 15.8132\n",
      "Epoch 16/100\n",
      "2/2 [==============================] - 0s 17ms/step - loss: 10.4576 - mae: 10.4576\n",
      "Epoch 17/100\n",
      "2/2 [==============================] - 0s 13ms/step - loss: 19.7315 - mae: 19.7315\n",
      "Epoch 18/100\n",
      "2/2 [==============================] - 0s 17ms/step - loss: 13.3464 - mae: 13.3464\n",
      "Epoch 19/100\n",
      "2/2 [==============================] - 0s 13ms/step - loss: 16.3426 - mae: 16.3426\n",
      "Epoch 20/100\n",
      "2/2 [==============================] - 0s 15ms/step - loss: 8.2611 - mae: 8.2611\n",
      "Epoch 21/100\n",
      "2/2 [==============================] - 0s 16ms/step - loss: 14.4806 - mae: 14.4806\n",
      "Epoch 22/100\n",
      "2/2 [==============================] - 0s 18ms/step - loss: 12.9002 - mae: 12.9002\n",
      "Epoch 23/100\n",
      "2/2 [==============================] - 0s 17ms/step - loss: 15.5338 - mae: 15.5338\n",
      "Epoch 24/100\n",
      "2/2 [==============================] - 0s 13ms/step - loss: 15.3257 - mae: 15.3257\n",
      "Epoch 25/100\n",
      "2/2 [==============================] - 0s 16ms/step - loss: 14.3821 - mae: 14.3821\n",
      "Epoch 26/100\n",
      "2/2 [==============================] - 0s 14ms/step - loss: 19.4201 - mae: 19.4201\n",
      "Epoch 27/100\n",
      "2/2 [==============================] - 0s 13ms/step - loss: 11.4234 - mae: 11.4234\n",
      "Epoch 28/100\n",
      "2/2 [==============================] - 0s 13ms/step - loss: 28.8524 - mae: 28.8524\n",
      "Epoch 29/100\n",
      "2/2 [==============================] - 0s 15ms/step - loss: 9.2578 - mae: 9.2578\n",
      "Epoch 30/100\n",
      "2/2 [==============================] - 0s 16ms/step - loss: 29.6349 - mae: 29.6349\n",
      "Epoch 31/100\n",
      "2/2 [==============================] - 0s 22ms/step - loss: 53.7460 - mae: 53.7460\n",
      "Epoch 32/100\n",
      "2/2 [==============================] - 0s 9ms/step - loss: 9.5307 - mae: 9.5307\n",
      "Epoch 33/100\n",
      "2/2 [==============================] - 0s 5ms/step - loss: 12.1139 - mae: 12.1139\n",
      "Epoch 34/100\n",
      "2/2 [==============================] - 0s 12ms/step - loss: 23.6543 - mae: 23.6543\n",
      "Epoch 35/100\n",
      "2/2 [==============================] - 0s 13ms/step - loss: 12.6655 - mae: 12.6655\n",
      "Epoch 36/100\n",
      "2/2 [==============================] - 0s 8ms/step - loss: 21.6250 - mae: 21.6250\n",
      "Epoch 37/100\n",
      "2/2 [==============================] - 0s 8ms/step - loss: 11.3078 - mae: 11.3078\n",
      "Epoch 38/100\n",
      "2/2 [==============================] - 0s 8ms/step - loss: 13.3328 - mae: 13.3328\n",
      "Epoch 39/100\n",
      "2/2 [==============================] - 0s 13ms/step - loss: 10.7300 - mae: 10.7300\n",
      "Epoch 40/100\n",
      "2/2 [==============================] - 0s 6ms/step - loss: 16.1199 - mae: 16.1199\n",
      "Epoch 41/100\n",
      "2/2 [==============================] - 0s 5ms/step - loss: 12.1527 - mae: 12.1527\n",
      "Epoch 42/100\n",
      "2/2 [==============================] - 0s 7ms/step - loss: 10.1933 - mae: 10.1933\n",
      "Epoch 43/100\n",
      "2/2 [==============================] - 0s 6ms/step - loss: 9.8927 - mae: 9.8927\n",
      "Epoch 44/100\n",
      "2/2 [==============================] - 0s 15ms/step - loss: 31.4286 - mae: 31.4286\n",
      "Epoch 45/100\n",
      "2/2 [==============================] - 0s 16ms/step - loss: 12.2425 - mae: 12.2425\n",
      "Epoch 46/100\n",
      "2/2 [==============================] - 0s 6ms/step - loss: 16.8615 - mae: 16.8615\n",
      "Epoch 47/100\n",
      "2/2 [==============================] - 0s 6ms/step - loss: 15.9993 - mae: 15.9993\n",
      "Epoch 48/100\n",
      "2/2 [==============================] - 0s 7ms/step - loss: 8.9254 - mae: 8.9254\n",
      "Epoch 49/100\n",
      "2/2 [==============================] - 0s 14ms/step - loss: 13.4536 - mae: 13.4536\n",
      "Epoch 50/100\n",
      "2/2 [==============================] - 0s 5ms/step - loss: 15.0000 - mae: 15.0000\n",
      "Epoch 51/100\n",
      "2/2 [==============================] - 0s 6ms/step - loss: 13.5672 - mae: 13.5672\n",
      "Epoch 52/100\n",
      "2/2 [==============================] - 0s 5ms/step - loss: 18.0043 - mae: 18.0043\n",
      "Epoch 53/100\n",
      "2/2 [==============================] - 0s 11ms/step - loss: 22.5315 - mae: 22.5315\n",
      "Epoch 54/100\n",
      "2/2 [==============================] - 0s 13ms/step - loss: 27.3882 - mae: 27.3882\n",
      "Epoch 55/100\n",
      "2/2 [==============================] - 0s 8ms/step - loss: 27.0943 - mae: 27.0943\n",
      "Epoch 56/100\n",
      "2/2 [==============================] - 0s 5ms/step - loss: 11.5628 - mae: 11.5628\n",
      "Epoch 57/100\n",
      "2/2 [==============================] - 0s 6ms/step - loss: 13.6539 - mae: 13.6539\n",
      "Epoch 58/100\n",
      "2/2 [==============================] - 0s 6ms/step - loss: 10.1152 - mae: 10.1152\n",
      "Epoch 59/100\n",
      "2/2 [==============================] - 0s 6ms/step - loss: 14.5830 - mae: 14.5830\n",
      "Epoch 60/100\n",
      "2/2 [==============================] - 0s 6ms/step - loss: 10.0564 - mae: 10.0564\n",
      "Epoch 61/100\n",
      "2/2 [==============================] - 0s 6ms/step - loss: 15.0949 - mae: 15.0949\n",
      "Epoch 62/100\n",
      "2/2 [==============================] - 0s 6ms/step - loss: 12.0106 - mae: 12.0106\n",
      "Epoch 63/100\n",
      "2/2 [==============================] - 0s 7ms/step - loss: 10.3389 - mae: 10.3389\n",
      "Epoch 64/100\n",
      "2/2 [==============================] - 0s 6ms/step - loss: 24.0635 - mae: 24.0635\n",
      "Epoch 65/100\n",
      "2/2 [==============================] - 0s 6ms/step - loss: 10.5161 - mae: 10.5161\n",
      "Epoch 66/100\n",
      "2/2 [==============================] - 0s 8ms/step - loss: 21.0838 - mae: 21.0838\n",
      "Epoch 67/100\n",
      "2/2 [==============================] - 0s 15ms/step - loss: 10.5004 - mae: 10.5004\n",
      "Epoch 68/100\n",
      "2/2 [==============================] - 0s 6ms/step - loss: 14.2806 - mae: 14.2806\n",
      "Epoch 69/100\n",
      "2/2 [==============================] - 0s 5ms/step - loss: 10.5769 - mae: 10.5769\n",
      "Epoch 70/100\n",
      "2/2 [==============================] - 0s 16ms/step - loss: 12.6536 - mae: 12.6536\n",
      "Epoch 71/100\n",
      "2/2 [==============================] - 0s 5ms/step - loss: 13.0780 - mae: 13.0780\n",
      "Epoch 72/100\n",
      "2/2 [==============================] - 0s 7ms/step - loss: 19.4750 - mae: 19.4750\n",
      "Epoch 73/100\n",
      "2/2 [==============================] - 0s 12ms/step - loss: 11.1697 - mae: 11.1697\n",
      "Epoch 74/100\n",
      "2/2 [==============================] - 0s 14ms/step - loss: 21.7128 - mae: 21.7128\n",
      "Epoch 75/100\n",
      "2/2 [==============================] - 0s 8ms/step - loss: 7.2310 - mae: 7.2310\n",
      "Epoch 76/100\n",
      "2/2 [==============================] - 0s 21ms/step - loss: 9.4520 - mae: 9.4520\n",
      "Epoch 77/100\n",
      "2/2 [==============================] - 0s 10ms/step - loss: 22.1377 - mae: 22.1377\n",
      "Epoch 78/100\n",
      "2/2 [==============================] - 0s 6ms/step - loss: 17.5325 - mae: 17.5325\n",
      "Epoch 79/100\n",
      "2/2 [==============================] - 0s 8ms/step - loss: 14.7569 - mae: 14.7569\n",
      "Epoch 80/100\n",
      "2/2 [==============================] - 0s 7ms/step - loss: 24.9576 - mae: 24.9576\n",
      "Epoch 81/100\n",
      "2/2 [==============================] - 0s 8ms/step - loss: 10.8375 - mae: 10.8375\n",
      "Epoch 82/100\n",
      "2/2 [==============================] - 0s 9ms/step - loss: 12.8128 - mae: 12.8128\n",
      "Epoch 83/100\n",
      "2/2 [==============================] - 0s 5ms/step - loss: 17.6096 - mae: 17.6096\n",
      "Epoch 84/100\n",
      "2/2 [==============================] - 0s 9ms/step - loss: 7.3117 - mae: 7.3117\n",
      "Epoch 85/100\n",
      "2/2 [==============================] - 0s 6ms/step - loss: 15.1122 - mae: 15.1122\n",
      "Epoch 86/100\n",
      "2/2 [==============================] - 0s 9ms/step - loss: 15.4058 - mae: 15.4058\n",
      "Epoch 87/100\n",
      "2/2 [==============================] - 0s 6ms/step - loss: 19.3435 - mae: 19.3435\n",
      "Epoch 88/100\n",
      "2/2 [==============================] - 0s 8ms/step - loss: 29.2139 - mae: 29.2139\n",
      "Epoch 89/100\n",
      "2/2 [==============================] - 0s 7ms/step - loss: 10.0999 - mae: 10.0999\n",
      "Epoch 90/100\n",
      "2/2 [==============================] - 0s 9ms/step - loss: 21.0177 - mae: 21.0177\n",
      "Epoch 91/100\n",
      "2/2 [==============================] - 0s 8ms/step - loss: 10.4633 - mae: 10.4633\n",
      "Epoch 92/100\n",
      "2/2 [==============================] - 0s 9ms/step - loss: 17.9387 - mae: 17.9387\n",
      "Epoch 93/100\n",
      "2/2 [==============================] - 0s 15ms/step - loss: 6.5677 - mae: 6.5677\n",
      "Epoch 94/100\n",
      "2/2 [==============================] - 0s 8ms/step - loss: 11.1159 - mae: 11.1159\n",
      "Epoch 95/100\n",
      "2/2 [==============================] - 0s 13ms/step - loss: 24.2973 - mae: 24.2973\n",
      "Epoch 96/100\n",
      "2/2 [==============================] - 0s 16ms/step - loss: 10.7201 - mae: 10.7201\n",
      "Epoch 97/100\n",
      "2/2 [==============================] - 0s 13ms/step - loss: 15.3100 - mae: 15.3100\n",
      "Epoch 98/100\n",
      "2/2 [==============================] - 0s 11ms/step - loss: 8.2424 - mae: 8.2424\n",
      "Epoch 99/100\n",
      "2/2 [==============================] - 0s 10ms/step - loss: 16.4793 - mae: 16.4793\n",
      "Epoch 100/100\n",
      "2/2 [==============================] - 0s 12ms/step - loss: 14.2701 - mae: 14.2701\n"
     ]
    },
    {
     "data": {
      "text/plain": "<keras.callbacks.History at 0x7f89a17bc5d0>"
     },
     "execution_count": 55,
     "metadata": {},
     "output_type": "execute_result"
    }
   ],
   "source": [
    "# Set the random seed\n",
    "tf.random.set_seed(42)\n",
    "\n",
    "# 1. Create the model\n",
    "model_2 = tf.keras.Sequential([\n",
    "    tf.keras.layers.Dense(10),\n",
    "    tf.keras.layers.Dense(1)\n",
    "])\n",
    "\n",
    "# 2. Compile the model\n",
    "model_2.compile(loss=tf.keras.losses.mae,\n",
    "                optimizer=tf.keras.optimizers.SGD(),\n",
    "                metrics=[\"mae\"])\n",
    "\n",
    "# 3. Fit the model\n",
    "model_2.fit(tf.expand_dims(X_train, axis=-1), y_train, epochs=100)"
   ],
   "metadata": {
    "colab": {
     "base_uri": "https://localhost:8080/"
    },
    "id": "9acb465fd20c995c",
    "executionInfo": {
     "status": "ok",
     "timestamp": 1696076835059,
     "user_tz": -420,
     "elapsed": 3096,
     "user": {
      "displayName": "kang sigit",
      "userId": "15887135570512197739"
     }
    },
    "outputId": "51e23998-df47-4cb0-ad6f-52ab121a102c",
    "ExecuteTime": {
     "end_time": "2023-10-02T07:53:10.405698196Z",
     "start_time": "2023-10-02T07:53:06.704507658Z"
    }
   },
   "id": "9acb465fd20c995c"
  },
  {
   "cell_type": "code",
   "execution_count": 56,
   "outputs": [
    {
     "name": "stdout",
     "output_type": "stream",
     "text": [
      "WARNING:tensorflow:6 out of the last 6 calls to <function Model.make_predict_function.<locals>.predict_function at 0x7f89a1768fe0> triggered tf.function retracing. Tracing is expensive and the excessive number of tracings could be due to (1) creating @tf.function repeatedly in a loop, (2) passing tensors with different shapes, (3) passing Python objects instead of tensors. For (1), please define your @tf.function outside of the loop. For (2), @tf.function has reduce_retracing=True option that can avoid unnecessary retracing. For (3), please refer to https://www.tensorflow.org/guide/function#controlling_retracing and https://www.tensorflow.org/api_docs/python/tf/function for  more details.\n",
      "1/1 [==============================] - 0s 66ms/step\n"
     ]
    },
    {
     "data": {
      "text/plain": "<Figure size 1000x700 with 1 Axes>",
      "image/png": "[encoded data removed]"
     },
     "metadata": {},
     "output_type": "display_data"
    }
   ],
   "source": [
    "# Make and plot predictions of model_2\n",
    "y_preds_2 = model_2.predict(X_test)\n",
    "plot_predictions(predictions=y_preds_2)"
   ],
   "metadata": {
    "colab": {
     "base_uri": "https://localhost:8080/",
     "height": 656
    },
    "id": "1734489efbd4fb4e",
    "executionInfo": {
     "status": "ok",
     "timestamp": 1696076839093,
     "user_tz": -420,
     "elapsed": 22,
     "user": {
      "displayName": "kang sigit",
      "userId": "15887135570512197739"
     }
    },
    "outputId": "d02300c6-dceb-4b21-cb6f-445de699ad4f",
    "ExecuteTime": {
     "end_time": "2023-10-02T07:53:13.484191755Z",
     "start_time": "2023-10-02T07:53:13.041863093Z"
    }
   },
   "id": "1734489efbd4fb4e"
  },
  {
   "cell_type": "code",
   "execution_count": 57,
   "outputs": [
    {
     "data": {
      "text/plain": "(<tf.Tensor: shape=(), dtype=float32, numpy=10.618171>,\n <tf.Tensor: shape=(), dtype=float32, numpy=120.49257>)"
     },
     "execution_count": 57,
     "metadata": {},
     "output_type": "execute_result"
    }
   ],
   "source": [
    "# Calculate model_2 evaluation metrics\n",
    "mae_2 = mae(y_test, y_preds_2)\n",
    "mse_2 = mse(y_test, y_preds_2)\n",
    "mae_2, mse_2"
   ],
   "metadata": {
    "colab": {
     "base_uri": "https://localhost:8080/"
    },
    "id": "c1a1bfe80b2973d1",
    "executionInfo": {
     "status": "ok",
     "timestamp": 1696076843791,
     "user_tz": -420,
     "elapsed": 11,
     "user": {
      "displayName": "kang sigit",
      "userId": "15887135570512197739"
     }
    },
    "outputId": "b1dbc06c-a856-4769-e57a-66b0e8c780ae",
    "ExecuteTime": {
     "end_time": "2023-10-02T07:53:15.086511049Z",
     "start_time": "2023-10-02T07:53:15.039256105Z"
    }
   },
   "id": "c1a1bfe80b2973d1"
  },
  {
   "cell_type": "markdown",
   "source": [
    "**Build `model_3`**\n",
    "\n",
    "* 2 dense layers, trained for 500 epochs"
   ],
   "metadata": {
    "collapsed": false,
    "id": "e429d78109168242"
   },
   "id": "e429d78109168242"
  },
  {
   "cell_type": "code",
   "execution_count": 58,
   "outputs": [
    {
     "name": "stdout",
     "output_type": "stream",
     "text": [
      "Epoch 1/500\n",
      "2/2 [==============================] - 0s 43ms/step - loss: 55.7381 - mae: 55.7381\n",
      "Epoch 2/500\n",
      "2/2 [==============================] - 0s 5ms/step - loss: 39.0293 - mae: 39.0293\n",
      "Epoch 3/500\n",
      "2/2 [==============================] - 0s 5ms/step - loss: 33.5513 - mae: 33.5513\n",
      "Epoch 4/500\n",
      "2/2 [==============================] - 0s 7ms/step - loss: 17.2542 - mae: 17.2542\n",
      "Epoch 5/500\n",
      "2/2 [==============================] - 0s 14ms/step - loss: 22.7234 - mae: 22.7234\n",
      "Epoch 6/500\n",
      "2/2 [==============================] - 0s 15ms/step - loss: 12.1105 - mae: 12.1105\n",
      "Epoch 7/500\n",
      "2/2 [==============================] - 0s 4ms/step - loss: 13.2876 - mae: 13.2876\n",
      "Epoch 8/500\n",
      "2/2 [==============================] - 0s 12ms/step - loss: 11.3122 - mae: 11.3122\n",
      "Epoch 9/500\n",
      "2/2 [==============================] - 0s 14ms/step - loss: 42.5648 - mae: 42.5648\n",
      "Epoch 10/500\n",
      "2/2 [==============================] - 0s 6ms/step - loss: 29.6918 - mae: 29.6918\n",
      "Epoch 11/500\n",
      "2/2 [==============================] - 0s 5ms/step - loss: 7.7386 - mae: 7.7386\n",
      "Epoch 12/500\n",
      "2/2 [==============================] - 0s 8ms/step - loss: 28.6533 - mae: 28.6533\n",
      "Epoch 13/500\n",
      "2/2 [==============================] - 0s 9ms/step - loss: 11.5434 - mae: 11.5434\n",
      "Epoch 14/500\n",
      "2/2 [==============================] - 0s 7ms/step - loss: 30.5097 - mae: 30.5097\n",
      "Epoch 15/500\n",
      "2/2 [==============================] - 0s 15ms/step - loss: 20.4261 - mae: 20.4261\n",
      "Epoch 16/500\n",
      "2/2 [==============================] - 0s 18ms/step - loss: 7.8572 - mae: 7.8572\n",
      "Epoch 17/500\n",
      "2/2 [==============================] - 0s 14ms/step - loss: 22.1997 - mae: 22.1997\n",
      "Epoch 18/500\n",
      "2/2 [==============================] - 0s 10ms/step - loss: 10.8177 - mae: 10.8177\n",
      "Epoch 19/500\n",
      "2/2 [==============================] - 0s 11ms/step - loss: 10.7063 - mae: 10.7063\n",
      "Epoch 20/500\n",
      "2/2 [==============================] - 0s 17ms/step - loss: 12.0294 - mae: 12.0294\n",
      "Epoch 21/500\n",
      "2/2 [==============================] - 0s 6ms/step - loss: 20.1272 - mae: 20.1272\n",
      "Epoch 22/500\n",
      "2/2 [==============================] - 0s 8ms/step - loss: 13.7729 - mae: 13.7729\n",
      "Epoch 23/500\n",
      "2/2 [==============================] - 0s 7ms/step - loss: 9.5285 - mae: 9.5285\n",
      "Epoch 24/500\n",
      "2/2 [==============================] - 0s 8ms/step - loss: 11.8850 - mae: 11.8850\n",
      "Epoch 25/500\n",
      "2/2 [==============================] - 0s 7ms/step - loss: 16.1942 - mae: 16.1942\n",
      "Epoch 26/500\n",
      "2/2 [==============================] - 0s 16ms/step - loss: 16.3864 - mae: 16.3864\n",
      "Epoch 27/500\n",
      "2/2 [==============================] - 0s 7ms/step - loss: 11.5799 - mae: 11.5799\n",
      "Epoch 28/500\n",
      "2/2 [==============================] - 0s 12ms/step - loss: 29.9661 - mae: 29.9661\n",
      "Epoch 29/500\n",
      "2/2 [==============================] - 0s 7ms/step - loss: 9.2485 - mae: 9.2485\n",
      "Epoch 30/500\n",
      "2/2 [==============================] - 0s 8ms/step - loss: 30.5196 - mae: 30.5196\n",
      "Epoch 31/500\n",
      "2/2 [==============================] - 0s 7ms/step - loss: 55.4780 - mae: 55.4780\n",
      "Epoch 32/500\n",
      "2/2 [==============================] - 0s 28ms/step - loss: 9.7231 - mae: 9.7231\n",
      "Epoch 33/500\n",
      "2/2 [==============================] - 0s 13ms/step - loss: 12.3416 - mae: 12.3416\n",
      "Epoch 34/500\n",
      "2/2 [==============================] - 0s 12ms/step - loss: 24.6939 - mae: 24.6939\n",
      "Epoch 35/500\n",
      "2/2 [==============================] - 0s 8ms/step - loss: 11.9172 - mae: 11.9172\n",
      "Epoch 36/500\n",
      "2/2 [==============================] - 0s 10ms/step - loss: 22.1008 - mae: 22.1008\n",
      "Epoch 37/500\n",
      "2/2 [==============================] - 0s 16ms/step - loss: 17.5606 - mae: 17.5606\n",
      "Epoch 38/500\n",
      "2/2 [==============================] - 0s 6ms/step - loss: 10.7272 - mae: 10.7272\n",
      "Epoch 39/500\n",
      "2/2 [==============================] - 0s 13ms/step - loss: 11.2454 - mae: 11.2454\n",
      "Epoch 40/500\n",
      "2/2 [==============================] - 0s 16ms/step - loss: 18.2353 - mae: 18.2353\n",
      "Epoch 41/500\n",
      "2/2 [==============================] - 0s 9ms/step - loss: 10.4983 - mae: 10.4983\n",
      "Epoch 42/500\n",
      "2/2 [==============================] - 0s 7ms/step - loss: 7.8406 - mae: 7.8406\n",
      "Epoch 43/500\n",
      "2/2 [==============================] - 0s 8ms/step - loss: 14.2222 - mae: 14.2222\n",
      "Epoch 44/500\n",
      "2/2 [==============================] - 0s 7ms/step - loss: 25.0033 - mae: 25.0033\n",
      "Epoch 45/500\n",
      "2/2 [==============================] - 0s 7ms/step - loss: 10.9626 - mae: 10.9626\n",
      "Epoch 46/500\n",
      "2/2 [==============================] - 0s 15ms/step - loss: 13.0753 - mae: 13.0753\n",
      "Epoch 47/500\n",
      "2/2 [==============================] - 0s 10ms/step - loss: 10.4232 - mae: 10.4232\n",
      "Epoch 48/500\n",
      "2/2 [==============================] - 0s 9ms/step - loss: 17.1295 - mae: 17.1295\n",
      "Epoch 49/500\n",
      "2/2 [==============================] - 0s 8ms/step - loss: 9.6386 - mae: 9.6386\n",
      "Epoch 50/500\n",
      "2/2 [==============================] - 0s 6ms/step - loss: 13.9389 - mae: 13.9389\n",
      "Epoch 51/500\n",
      "2/2 [==============================] - 0s 5ms/step - loss: 11.6400 - mae: 11.6400\n",
      "Epoch 52/500\n",
      "2/2 [==============================] - 0s 9ms/step - loss: 30.8752 - mae: 30.8752\n",
      "Epoch 53/500\n",
      "2/2 [==============================] - 0s 13ms/step - loss: 14.4929 - mae: 14.4929\n",
      "Epoch 54/500\n",
      "2/2 [==============================] - 0s 24ms/step - loss: 24.2188 - mae: 24.2188\n",
      "Epoch 55/500\n",
      "2/2 [==============================] - 0s 5ms/step - loss: 23.4632 - mae: 23.4632\n",
      "Epoch 56/500\n",
      "2/2 [==============================] - 0s 19ms/step - loss: 10.9674 - mae: 10.9674\n",
      "Epoch 57/500\n",
      "2/2 [==============================] - 0s 8ms/step - loss: 12.8612 - mae: 12.8612\n",
      "Epoch 58/500\n",
      "2/2 [==============================] - 0s 6ms/step - loss: 9.6649 - mae: 9.6649\n",
      "Epoch 59/500\n",
      "2/2 [==============================] - 0s 25ms/step - loss: 13.0330 - mae: 13.0330\n",
      "Epoch 60/500\n",
      "2/2 [==============================] - 0s 15ms/step - loss: 10.7057 - mae: 10.7057\n",
      "Epoch 61/500\n",
      "2/2 [==============================] - 0s 6ms/step - loss: 13.2460 - mae: 13.2460\n",
      "Epoch 62/500\n",
      "2/2 [==============================] - 0s 17ms/step - loss: 17.0924 - mae: 17.0924\n",
      "Epoch 63/500\n",
      "2/2 [==============================] - 0s 16ms/step - loss: 9.0568 - mae: 9.0568\n",
      "Epoch 64/500\n",
      "2/2 [==============================] - 0s 13ms/step - loss: 17.7386 - mae: 17.7386\n",
      "Epoch 65/500\n",
      "2/2 [==============================] - 0s 6ms/step - loss: 10.5313 - mae: 10.5313\n",
      "Epoch 66/500\n",
      "2/2 [==============================] - 0s 13ms/step - loss: 21.2325 - mae: 21.2325\n",
      "Epoch 67/500\n",
      "2/2 [==============================] - 0s 14ms/step - loss: 10.5311 - mae: 10.5311\n",
      "Epoch 68/500\n",
      "2/2 [==============================] - 0s 11ms/step - loss: 14.3920 - mae: 14.3920\n",
      "Epoch 69/500\n",
      "2/2 [==============================] - 0s 10ms/step - loss: 10.6255 - mae: 10.6255\n",
      "Epoch 70/500\n",
      "2/2 [==============================] - 0s 7ms/step - loss: 12.7127 - mae: 12.7127\n",
      "Epoch 71/500\n",
      "2/2 [==============================] - 0s 5ms/step - loss: 13.1432 - mae: 13.1432\n",
      "Epoch 72/500\n",
      "2/2 [==============================] - 0s 7ms/step - loss: 19.6711 - mae: 19.6711\n",
      "Epoch 73/500\n",
      "2/2 [==============================] - 0s 5ms/step - loss: 11.2049 - mae: 11.2049\n",
      "Epoch 74/500\n",
      "2/2 [==============================] - 0s 8ms/step - loss: 21.9679 - mae: 21.9679\n",
      "Epoch 75/500\n",
      "2/2 [==============================] - 0s 11ms/step - loss: 7.1863 - mae: 7.1863\n",
      "Epoch 76/500\n",
      "2/2 [==============================] - 0s 8ms/step - loss: 9.4104 - mae: 9.4104\n",
      "Epoch 77/500\n",
      "2/2 [==============================] - 0s 12ms/step - loss: 22.0221 - mae: 22.0221\n",
      "Epoch 78/500\n",
      "2/2 [==============================] - 0s 17ms/step - loss: 17.7496 - mae: 17.7496\n",
      "Epoch 79/500\n",
      "2/2 [==============================] - 0s 9ms/step - loss: 14.8949 - mae: 14.8949\n",
      "Epoch 80/500\n",
      "2/2 [==============================] - 0s 15ms/step - loss: 25.2509 - mae: 25.2509\n",
      "Epoch 81/500\n",
      "2/2 [==============================] - 0s 9ms/step - loss: 10.9616 - mae: 10.9616\n",
      "Epoch 82/500\n",
      "2/2 [==============================] - 0s 13ms/step - loss: 12.7202 - mae: 12.7202\n",
      "Epoch 83/500\n",
      "2/2 [==============================] - 0s 9ms/step - loss: 17.4817 - mae: 17.4817\n",
      "Epoch 84/500\n",
      "2/2 [==============================] - 0s 8ms/step - loss: 7.2807 - mae: 7.2807\n",
      "Epoch 85/500\n",
      "2/2 [==============================] - 0s 14ms/step - loss: 15.0108 - mae: 15.0108\n",
      "Epoch 86/500\n",
      "2/2 [==============================] - 0s 7ms/step - loss: 15.3231 - mae: 15.3231\n",
      "Epoch 87/500\n",
      "2/2 [==============================] - 0s 8ms/step - loss: 19.1792 - mae: 19.1792\n",
      "Epoch 88/500\n",
      "2/2 [==============================] - 0s 14ms/step - loss: 29.6390 - mae: 29.6390\n",
      "Epoch 89/500\n",
      "2/2 [==============================] - 0s 12ms/step - loss: 10.1543 - mae: 10.1543\n",
      "Epoch 90/500\n",
      "2/2 [==============================] - 0s 14ms/step - loss: 21.3740 - mae: 21.3740\n",
      "Epoch 91/500\n",
      "2/2 [==============================] - 0s 6ms/step - loss: 10.5421 - mae: 10.5421\n",
      "Epoch 92/500\n",
      "2/2 [==============================] - 0s 14ms/step - loss: 18.2644 - mae: 18.2644\n",
      "Epoch 93/500\n",
      "2/2 [==============================] - 0s 8ms/step - loss: 6.8156 - mae: 6.8156\n",
      "Epoch 94/500\n",
      "2/2 [==============================] - 0s 15ms/step - loss: 13.0404 - mae: 13.0404\n",
      "Epoch 95/500\n",
      "2/2 [==============================] - 0s 17ms/step - loss: 18.4583 - mae: 18.4583\n",
      "Epoch 96/500\n",
      "2/2 [==============================] - 0s 17ms/step - loss: 10.3690 - mae: 10.3690\n",
      "Epoch 97/500\n",
      "2/2 [==============================] - 0s 14ms/step - loss: 14.4659 - mae: 14.4659\n",
      "Epoch 98/500\n",
      "2/2 [==============================] - 0s 6ms/step - loss: 6.5761 - mae: 6.5761\n",
      "Epoch 99/500\n",
      "2/2 [==============================] - 0s 7ms/step - loss: 12.5844 - mae: 12.5844\n",
      "Epoch 100/500\n",
      "2/2 [==============================] - 0s 15ms/step - loss: 19.3854 - mae: 19.3854\n",
      "Epoch 101/500\n",
      "2/2 [==============================] - 0s 7ms/step - loss: 16.1071 - mae: 16.1071\n",
      "Epoch 102/500\n",
      "2/2 [==============================] - 0s 16ms/step - loss: 11.2044 - mae: 11.2044\n",
      "Epoch 103/500\n",
      "2/2 [==============================] - 0s 7ms/step - loss: 9.3253 - mae: 9.3253\n",
      "Epoch 104/500\n",
      "2/2 [==============================] - 0s 13ms/step - loss: 25.0191 - mae: 25.0191\n",
      "Epoch 105/500\n",
      "2/2 [==============================] - 0s 9ms/step - loss: 12.0070 - mae: 12.0070\n",
      "Epoch 106/500\n",
      "2/2 [==============================] - 0s 15ms/step - loss: 10.0910 - mae: 10.0910\n",
      "Epoch 107/500\n",
      "2/2 [==============================] - 0s 7ms/step - loss: 22.5883 - mae: 22.5883\n",
      "Epoch 108/500\n",
      "2/2 [==============================] - 0s 13ms/step - loss: 8.1366 - mae: 8.1366\n",
      "Epoch 109/500\n",
      "2/2 [==============================] - 0s 9ms/step - loss: 13.3770 - mae: 13.3770\n",
      "Epoch 110/500\n",
      "2/2 [==============================] - 0s 13ms/step - loss: 7.9732 - mae: 7.9732\n",
      "Epoch 111/500\n",
      "2/2 [==============================] - 0s 10ms/step - loss: 15.7260 - mae: 15.7260\n",
      "Epoch 112/500\n",
      "2/2 [==============================] - 0s 7ms/step - loss: 8.7575 - mae: 8.7575\n",
      "Epoch 113/500\n",
      "2/2 [==============================] - 0s 15ms/step - loss: 22.7457 - mae: 22.7457\n",
      "Epoch 114/500\n",
      "2/2 [==============================] - 0s 7ms/step - loss: 19.0884 - mae: 19.0884\n",
      "Epoch 115/500\n",
      "2/2 [==============================] - 0s 16ms/step - loss: 11.1075 - mae: 11.1075\n",
      "Epoch 116/500\n",
      "2/2 [==============================] - 0s 6ms/step - loss: 23.2014 - mae: 23.2014\n",
      "Epoch 117/500\n",
      "2/2 [==============================] - 0s 15ms/step - loss: 9.5958 - mae: 9.5958\n",
      "Epoch 118/500\n",
      "2/2 [==============================] - 0s 9ms/step - loss: 10.6634 - mae: 10.6634\n",
      "Epoch 119/500\n",
      "2/2 [==============================] - 0s 14ms/step - loss: 8.0458 - mae: 8.0458\n",
      "Epoch 120/500\n",
      "2/2 [==============================] - 0s 7ms/step - loss: 29.5321 - mae: 29.5321\n",
      "Epoch 121/500\n",
      "2/2 [==============================] - 0s 7ms/step - loss: 8.0816 - mae: 8.0816\n",
      "Epoch 122/500\n",
      "2/2 [==============================] - 0s 16ms/step - loss: 28.1769 - mae: 28.1769\n",
      "Epoch 123/500\n",
      "2/2 [==============================] - 0s 15ms/step - loss: 32.7378 - mae: 32.7378\n",
      "Epoch 124/500\n",
      "2/2 [==============================] - 0s 7ms/step - loss: 19.5105 - mae: 19.5105\n",
      "Epoch 125/500\n",
      "2/2 [==============================] - 0s 14ms/step - loss: 6.3923 - mae: 6.3923\n",
      "Epoch 126/500\n",
      "2/2 [==============================] - 0s 7ms/step - loss: 26.8014 - mae: 26.8014\n",
      "Epoch 127/500\n",
      "2/2 [==============================] - 0s 15ms/step - loss: 8.5825 - mae: 8.5825\n",
      "Epoch 128/500\n",
      "2/2 [==============================] - 0s 11ms/step - loss: 13.8314 - mae: 13.8314\n",
      "Epoch 129/500\n",
      "2/2 [==============================] - 0s 15ms/step - loss: 11.3027 - mae: 11.3027\n",
      "Epoch 130/500\n",
      "2/2 [==============================] - 0s 16ms/step - loss: 11.5202 - mae: 11.5202\n",
      "Epoch 131/500\n",
      "2/2 [==============================] - 0s 6ms/step - loss: 20.6653 - mae: 20.6653\n",
      "Epoch 132/500\n",
      "2/2 [==============================] - 0s 21ms/step - loss: 8.0164 - mae: 8.0164\n",
      "Epoch 133/500\n",
      "2/2 [==============================] - 0s 15ms/step - loss: 8.8316 - mae: 8.8316\n",
      "Epoch 134/500\n",
      "2/2 [==============================] - 0s 13ms/step - loss: 21.5113 - mae: 21.5113\n",
      "Epoch 135/500\n",
      "2/2 [==============================] - 0s 11ms/step - loss: 10.8997 - mae: 10.8997\n",
      "Epoch 136/500\n",
      "2/2 [==============================] - 0s 13ms/step - loss: 19.3957 - mae: 19.3957\n",
      "Epoch 137/500\n",
      "2/2 [==============================] - 0s 13ms/step - loss: 22.6046 - mae: 22.6046\n",
      "Epoch 138/500\n",
      "2/2 [==============================] - 0s 6ms/step - loss: 8.9251 - mae: 8.9251\n",
      "Epoch 139/500\n",
      "2/2 [==============================] - 0s 15ms/step - loss: 7.1107 - mae: 7.1107\n",
      "Epoch 140/500\n",
      "2/2 [==============================] - 0s 7ms/step - loss: 21.2974 - mae: 21.2974\n",
      "Epoch 141/500\n",
      "2/2 [==============================] - 0s 15ms/step - loss: 8.4474 - mae: 8.4474\n",
      "Epoch 142/500\n",
      "2/2 [==============================] - 0s 9ms/step - loss: 37.4693 - mae: 37.4693\n",
      "Epoch 143/500\n",
      "2/2 [==============================] - 0s 18ms/step - loss: 26.0104 - mae: 26.0104\n",
      "Epoch 144/500\n",
      "2/2 [==============================] - 0s 7ms/step - loss: 9.5330 - mae: 9.5330\n",
      "Epoch 145/500\n",
      "2/2 [==============================] - 0s 17ms/step - loss: 26.4910 - mae: 26.4910\n",
      "Epoch 146/500\n",
      "2/2 [==============================] - 0s 7ms/step - loss: 8.9099 - mae: 8.9099\n",
      "Epoch 147/500\n",
      "2/2 [==============================] - 0s 17ms/step - loss: 15.5239 - mae: 15.5239\n",
      "Epoch 148/500\n",
      "2/2 [==============================] - 0s 14ms/step - loss: 18.1730 - mae: 18.1730\n",
      "Epoch 149/500\n",
      "2/2 [==============================] - 0s 8ms/step - loss: 8.3268 - mae: 8.3268\n",
      "Epoch 150/500\n",
      "2/2 [==============================] - 0s 16ms/step - loss: 7.5510 - mae: 7.5510\n",
      "Epoch 151/500\n",
      "2/2 [==============================] - 0s 8ms/step - loss: 18.6325 - mae: 18.6325\n",
      "Epoch 152/500\n",
      "2/2 [==============================] - 0s 8ms/step - loss: 10.3758 - mae: 10.3758\n",
      "Epoch 153/500\n",
      "2/2 [==============================] - 0s 9ms/step - loss: 30.0893 - mae: 30.0893\n",
      "Epoch 154/500\n",
      "2/2 [==============================] - 0s 7ms/step - loss: 10.4778 - mae: 10.4778\n",
      "Epoch 155/500\n",
      "2/2 [==============================] - 0s 14ms/step - loss: 15.3813 - mae: 15.3813\n",
      "Epoch 156/500\n",
      "2/2 [==============================] - 0s 13ms/step - loss: 16.8491 - mae: 16.8491\n",
      "Epoch 157/500\n",
      "2/2 [==============================] - 0s 10ms/step - loss: 33.2699 - mae: 33.2699\n",
      "Epoch 158/500\n",
      "2/2 [==============================] - 0s 8ms/step - loss: 10.8507 - mae: 10.8507\n",
      "Epoch 159/500\n",
      "2/2 [==============================] - 0s 8ms/step - loss: 8.9773 - mae: 8.9773\n",
      "Epoch 160/500\n",
      "2/2 [==============================] - 0s 10ms/step - loss: 22.4486 - mae: 22.4486\n",
      "Epoch 161/500\n",
      "2/2 [==============================] - 0s 16ms/step - loss: 11.8429 - mae: 11.8429\n",
      "Epoch 162/500\n",
      "2/2 [==============================] - 0s 10ms/step - loss: 21.8627 - mae: 21.8627\n",
      "Epoch 163/500\n",
      "2/2 [==============================] - 0s 8ms/step - loss: 19.5254 - mae: 19.5254\n",
      "Epoch 164/500\n",
      "2/2 [==============================] - 0s 9ms/step - loss: 11.4116 - mae: 11.4116\n",
      "Epoch 165/500\n",
      "2/2 [==============================] - 0s 17ms/step - loss: 11.6001 - mae: 11.6001\n",
      "Epoch 166/500\n",
      "2/2 [==============================] - 0s 8ms/step - loss: 21.3390 - mae: 21.3390\n",
      "Epoch 167/500\n",
      "2/2 [==============================] - 0s 9ms/step - loss: 26.9208 - mae: 26.9208\n",
      "Epoch 168/500\n",
      "2/2 [==============================] - 0s 11ms/step - loss: 9.9921 - mae: 9.9921\n",
      "Epoch 169/500\n",
      "2/2 [==============================] - 0s 25ms/step - loss: 23.1845 - mae: 23.1845\n",
      "Epoch 170/500\n",
      "2/2 [==============================] - 0s 9ms/step - loss: 9.5710 - mae: 9.5710\n",
      "Epoch 171/500\n",
      "2/2 [==============================] - 0s 8ms/step - loss: 15.8346 - mae: 15.8346\n",
      "Epoch 172/500\n",
      "2/2 [==============================] - 0s 9ms/step - loss: 13.8678 - mae: 13.8678\n",
      "Epoch 173/500\n",
      "2/2 [==============================] - 0s 7ms/step - loss: 22.5504 - mae: 22.5504\n",
      "Epoch 174/500\n",
      "2/2 [==============================] - 0s 11ms/step - loss: 11.3654 - mae: 11.3654\n",
      "Epoch 175/500\n",
      "2/2 [==============================] - 0s 16ms/step - loss: 20.1690 - mae: 20.1690\n",
      "Epoch 176/500\n",
      "2/2 [==============================] - 0s 15ms/step - loss: 7.4187 - mae: 7.4187\n",
      "Epoch 177/500\n",
      "2/2 [==============================] - 0s 14ms/step - loss: 8.6004 - mae: 8.6004\n",
      "Epoch 178/500\n",
      "2/2 [==============================] - 0s 8ms/step - loss: 15.5587 - mae: 15.5587\n",
      "Epoch 179/500\n",
      "2/2 [==============================] - 0s 7ms/step - loss: 9.2493 - mae: 9.2493\n",
      "Epoch 180/500\n",
      "2/2 [==============================] - 0s 16ms/step - loss: 8.1333 - mae: 8.1333\n",
      "Epoch 181/500\n",
      "2/2 [==============================] - 0s 8ms/step - loss: 18.8202 - mae: 18.8202\n",
      "Epoch 182/500\n",
      "2/2 [==============================] - 0s 8ms/step - loss: 10.8049 - mae: 10.8049\n",
      "Epoch 183/500\n",
      "2/2 [==============================] - 0s 7ms/step - loss: 11.5159 - mae: 11.5159\n",
      "Epoch 184/500\n",
      "2/2 [==============================] - 0s 15ms/step - loss: 29.8454 - mae: 29.8454\n",
      "Epoch 185/500\n",
      "2/2 [==============================] - 0s 8ms/step - loss: 7.5447 - mae: 7.5447\n",
      "Epoch 186/500\n",
      "2/2 [==============================] - 0s 11ms/step - loss: 16.4754 - mae: 16.4754\n",
      "Epoch 187/500\n",
      "2/2 [==============================] - 0s 6ms/step - loss: 10.7070 - mae: 10.7070\n",
      "Epoch 188/500\n",
      "2/2 [==============================] - 0s 13ms/step - loss: 22.5102 - mae: 22.5102\n",
      "Epoch 189/500\n",
      "2/2 [==============================] - 0s 5ms/step - loss: 11.6996 - mae: 11.6996\n",
      "Epoch 190/500\n",
      "2/2 [==============================] - 0s 21ms/step - loss: 9.4383 - mae: 9.4383\n",
      "Epoch 191/500\n",
      "2/2 [==============================] - 0s 5ms/step - loss: 15.6645 - mae: 15.6645\n",
      "Epoch 192/500\n",
      "2/2 [==============================] - 0s 5ms/step - loss: 12.8332 - mae: 12.8332\n",
      "Epoch 193/500\n",
      "2/2 [==============================] - 0s 5ms/step - loss: 27.7930 - mae: 27.7930\n",
      "Epoch 194/500\n",
      "2/2 [==============================] - 0s 4ms/step - loss: 7.1301 - mae: 7.1301\n",
      "Epoch 195/500\n",
      "2/2 [==============================] - 0s 4ms/step - loss: 7.0302 - mae: 7.0302\n",
      "Epoch 196/500\n",
      "2/2 [==============================] - 0s 13ms/step - loss: 21.8945 - mae: 21.8945\n",
      "Epoch 197/500\n",
      "2/2 [==============================] - 0s 4ms/step - loss: 21.0895 - mae: 21.0895\n",
      "Epoch 198/500\n",
      "2/2 [==============================] - 0s 4ms/step - loss: 12.6081 - mae: 12.6081\n",
      "Epoch 199/500\n",
      "2/2 [==============================] - 0s 4ms/step - loss: 18.1240 - mae: 18.1240\n",
      "Epoch 200/500\n",
      "2/2 [==============================] - 0s 4ms/step - loss: 13.9474 - mae: 13.9474\n",
      "Epoch 201/500\n",
      "2/2 [==============================] - 0s 19ms/step - loss: 6.0091 - mae: 6.0091\n",
      "Epoch 202/500\n",
      "2/2 [==============================] - 0s 8ms/step - loss: 23.0439 - mae: 23.0439\n",
      "Epoch 203/500\n",
      "2/2 [==============================] - 0s 7ms/step - loss: 8.9621 - mae: 8.9621\n",
      "Epoch 204/500\n",
      "2/2 [==============================] - 0s 14ms/step - loss: 19.0016 - mae: 19.0016\n",
      "Epoch 205/500\n",
      "2/2 [==============================] - 0s 7ms/step - loss: 9.3963 - mae: 9.3963\n",
      "Epoch 206/500\n",
      "2/2 [==============================] - 0s 7ms/step - loss: 11.0429 - mae: 11.0429\n",
      "Epoch 207/500\n",
      "2/2 [==============================] - 0s 17ms/step - loss: 17.5611 - mae: 17.5611\n",
      "Epoch 208/500\n",
      "2/2 [==============================] - 0s 8ms/step - loss: 14.2756 - mae: 14.2756\n",
      "Epoch 209/500\n",
      "2/2 [==============================] - 0s 8ms/step - loss: 16.6139 - mae: 16.6139\n",
      "Epoch 210/500\n",
      "2/2 [==============================] - 0s 6ms/step - loss: 18.1096 - mae: 18.1096\n",
      "Epoch 211/500\n",
      "2/2 [==============================] - 0s 13ms/step - loss: 9.8774 - mae: 9.8774\n",
      "Epoch 212/500\n",
      "2/2 [==============================] - 0s 7ms/step - loss: 18.5994 - mae: 18.5994\n",
      "Epoch 213/500\n",
      "2/2 [==============================] - 0s 16ms/step - loss: 14.9552 - mae: 14.9552\n",
      "Epoch 214/500\n",
      "2/2 [==============================] - 0s 9ms/step - loss: 14.5319 - mae: 14.5319\n",
      "Epoch 215/500\n",
      "2/2 [==============================] - 0s 16ms/step - loss: 23.1970 - mae: 23.1970\n",
      "Epoch 216/500\n",
      "2/2 [==============================] - 0s 13ms/step - loss: 13.5333 - mae: 13.5333\n",
      "Epoch 217/500\n",
      "2/2 [==============================] - 0s 12ms/step - loss: 9.9760 - mae: 9.9760\n",
      "Epoch 218/500\n",
      "2/2 [==============================] - 0s 14ms/step - loss: 12.4189 - mae: 12.4189\n",
      "Epoch 219/500\n",
      "2/2 [==============================] - 0s 7ms/step - loss: 5.8175 - mae: 5.8175\n",
      "Epoch 220/500\n",
      "2/2 [==============================] - 0s 8ms/step - loss: 10.1677 - mae: 10.1677\n",
      "Epoch 221/500\n",
      "2/2 [==============================] - 0s 6ms/step - loss: 28.8766 - mae: 28.8766\n",
      "Epoch 222/500\n",
      "2/2 [==============================] - 0s 17ms/step - loss: 28.0794 - mae: 28.0794\n",
      "Epoch 223/500\n",
      "2/2 [==============================] - 0s 6ms/step - loss: 10.0723 - mae: 10.0723\n",
      "Epoch 224/500\n",
      "2/2 [==============================] - 0s 7ms/step - loss: 14.6083 - mae: 14.6083\n",
      "Epoch 225/500\n",
      "2/2 [==============================] - 0s 7ms/step - loss: 16.6148 - mae: 16.6148\n",
      "Epoch 226/500\n",
      "2/2 [==============================] - 0s 13ms/step - loss: 15.8357 - mae: 15.8357\n",
      "Epoch 227/500\n",
      "2/2 [==============================] - 0s 17ms/step - loss: 16.0561 - mae: 16.0561\n",
      "Epoch 228/500\n",
      "2/2 [==============================] - 0s 8ms/step - loss: 13.8399 - mae: 13.8399\n",
      "Epoch 229/500\n",
      "2/2 [==============================] - 0s 16ms/step - loss: 17.9430 - mae: 17.9430\n",
      "Epoch 230/500\n",
      "2/2 [==============================] - 0s 6ms/step - loss: 15.5318 - mae: 15.5318\n",
      "Epoch 231/500\n",
      "2/2 [==============================] - 0s 9ms/step - loss: 21.0424 - mae: 21.0424\n",
      "Epoch 232/500\n",
      "2/2 [==============================] - 0s 16ms/step - loss: 25.6340 - mae: 25.6340\n",
      "Epoch 233/500\n",
      "2/2 [==============================] - 0s 6ms/step - loss: 16.5964 - mae: 16.5964\n",
      "Epoch 234/500\n",
      "2/2 [==============================] - 0s 9ms/step - loss: 7.3385 - mae: 7.3385\n",
      "Epoch 235/500\n",
      "2/2 [==============================] - 0s 6ms/step - loss: 17.2510 - mae: 17.2510\n",
      "Epoch 236/500\n",
      "2/2 [==============================] - 0s 6ms/step - loss: 7.2189 - mae: 7.2189\n",
      "Epoch 237/500\n",
      "2/2 [==============================] - 0s 6ms/step - loss: 9.3430 - mae: 9.3430\n",
      "Epoch 238/500\n",
      "2/2 [==============================] - 0s 6ms/step - loss: 8.1699 - mae: 8.1699\n",
      "Epoch 239/500\n",
      "2/2 [==============================] - 0s 6ms/step - loss: 17.3522 - mae: 17.3522\n",
      "Epoch 240/500\n",
      "2/2 [==============================] - 0s 9ms/step - loss: 8.9766 - mae: 8.9766\n",
      "Epoch 241/500\n",
      "2/2 [==============================] - 0s 5ms/step - loss: 13.3894 - mae: 13.3894\n",
      "Epoch 242/500\n",
      "2/2 [==============================] - 0s 5ms/step - loss: 8.8731 - mae: 8.8731\n",
      "Epoch 243/500\n",
      "2/2 [==============================] - 0s 6ms/step - loss: 19.2755 - mae: 19.2755\n",
      "Epoch 244/500\n",
      "2/2 [==============================] - 0s 6ms/step - loss: 13.8884 - mae: 13.8884\n",
      "Epoch 245/500\n",
      "2/2 [==============================] - 0s 5ms/step - loss: 14.5378 - mae: 14.5378\n",
      "Epoch 246/500\n",
      "2/2 [==============================] - 0s 8ms/step - loss: 15.6729 - mae: 15.6729\n",
      "Epoch 247/500\n",
      "2/2 [==============================] - 0s 11ms/step - loss: 17.5064 - mae: 17.5064\n",
      "Epoch 248/500\n",
      "2/2 [==============================] - 0s 6ms/step - loss: 13.0726 - mae: 13.0726\n",
      "Epoch 249/500\n",
      "2/2 [==============================] - 0s 6ms/step - loss: 14.4172 - mae: 14.4172\n",
      "Epoch 250/500\n",
      "2/2 [==============================] - 0s 5ms/step - loss: 27.8141 - mae: 27.8141\n",
      "Epoch 251/500\n",
      "2/2 [==============================] - 0s 5ms/step - loss: 7.4892 - mae: 7.4892\n",
      "Epoch 252/500\n",
      "2/2 [==============================] - 0s 6ms/step - loss: 38.2279 - mae: 38.2279\n",
      "Epoch 253/500\n",
      "2/2 [==============================] - 0s 5ms/step - loss: 23.1214 - mae: 23.1214\n",
      "Epoch 254/500\n",
      "2/2 [==============================] - 0s 7ms/step - loss: 7.2793 - mae: 7.2793\n",
      "Epoch 255/500\n",
      "2/2 [==============================] - 0s 6ms/step - loss: 24.6371 - mae: 24.6371\n",
      "Epoch 256/500\n",
      "2/2 [==============================] - 0s 7ms/step - loss: 12.3892 - mae: 12.3892\n",
      "Epoch 257/500\n",
      "2/2 [==============================] - 0s 12ms/step - loss: 10.5591 - mae: 10.5591\n",
      "Epoch 258/500\n",
      "2/2 [==============================] - 0s 6ms/step - loss: 14.1973 - mae: 14.1973\n",
      "Epoch 259/500\n",
      "2/2 [==============================] - 0s 6ms/step - loss: 11.2488 - mae: 11.2488\n",
      "Epoch 260/500\n",
      "2/2 [==============================] - 0s 6ms/step - loss: 31.6460 - mae: 31.6460\n",
      "Epoch 261/500\n",
      "2/2 [==============================] - 0s 11ms/step - loss: 11.1678 - mae: 11.1678\n",
      "Epoch 262/500\n",
      "2/2 [==============================] - 0s 7ms/step - loss: 10.0248 - mae: 10.0248\n",
      "Epoch 263/500\n",
      "2/2 [==============================] - 0s 7ms/step - loss: 8.9366 - mae: 8.9366\n",
      "Epoch 264/500\n",
      "2/2 [==============================] - 0s 7ms/step - loss: 21.5502 - mae: 21.5502\n",
      "Epoch 265/500\n",
      "2/2 [==============================] - 0s 7ms/step - loss: 11.4189 - mae: 11.4189\n",
      "Epoch 266/500\n",
      "2/2 [==============================] - 0s 8ms/step - loss: 13.2496 - mae: 13.2496\n",
      "Epoch 267/500\n",
      "2/2 [==============================] - 0s 7ms/step - loss: 11.0550 - mae: 11.0550\n",
      "Epoch 268/500\n",
      "2/2 [==============================] - 0s 8ms/step - loss: 21.6984 - mae: 21.6984\n",
      "Epoch 269/500\n",
      "2/2 [==============================] - 0s 7ms/step - loss: 32.9717 - mae: 32.9717\n",
      "Epoch 270/500\n",
      "2/2 [==============================] - 0s 10ms/step - loss: 9.7403 - mae: 9.7403\n",
      "Epoch 271/500\n",
      "2/2 [==============================] - 0s 15ms/step - loss: 7.7023 - mae: 7.7023\n",
      "Epoch 272/500\n",
      "2/2 [==============================] - 0s 6ms/step - loss: 28.4914 - mae: 28.4914\n",
      "Epoch 273/500\n",
      "2/2 [==============================] - 0s 7ms/step - loss: 7.3857 - mae: 7.3857\n",
      "Epoch 274/500\n",
      "2/2 [==============================] - 0s 7ms/step - loss: 6.3165 - mae: 6.3165\n",
      "Epoch 275/500\n",
      "2/2 [==============================] - 0s 7ms/step - loss: 37.2516 - mae: 37.2516\n",
      "Epoch 276/500\n",
      "2/2 [==============================] - 0s 7ms/step - loss: 8.2816 - mae: 8.2816\n",
      "Epoch 277/500\n",
      "2/2 [==============================] - 0s 8ms/step - loss: 28.0270 - mae: 28.0270\n",
      "Epoch 278/500\n",
      "2/2 [==============================] - 0s 6ms/step - loss: 10.5917 - mae: 10.5917\n",
      "Epoch 279/500\n",
      "2/2 [==============================] - 0s 7ms/step - loss: 16.0408 - mae: 16.0408\n",
      "Epoch 280/500\n",
      "2/2 [==============================] - 0s 14ms/step - loss: 21.1007 - mae: 21.1007\n",
      "Epoch 281/500\n",
      "2/2 [==============================] - 0s 5ms/step - loss: 18.1250 - mae: 18.1250\n",
      "Epoch 282/500\n",
      "2/2 [==============================] - 0s 7ms/step - loss: 6.8730 - mae: 6.8730\n",
      "Epoch 283/500\n",
      "2/2 [==============================] - 0s 14ms/step - loss: 8.0629 - mae: 8.0629\n",
      "Epoch 284/500\n",
      "2/2 [==============================] - 0s 17ms/step - loss: 24.6798 - mae: 24.6798\n",
      "Epoch 285/500\n",
      "2/2 [==============================] - 0s 16ms/step - loss: 13.4929 - mae: 13.4929\n",
      "Epoch 286/500\n",
      "2/2 [==============================] - 0s 7ms/step - loss: 7.7433 - mae: 7.7433\n",
      "Epoch 287/500\n",
      "2/2 [==============================] - 0s 8ms/step - loss: 23.4049 - mae: 23.4049\n",
      "Epoch 288/500\n",
      "2/2 [==============================] - 0s 17ms/step - loss: 23.5094 - mae: 23.5094\n",
      "Epoch 289/500\n",
      "2/2 [==============================] - 0s 8ms/step - loss: 12.0122 - mae: 12.0122\n",
      "Epoch 290/500\n",
      "2/2 [==============================] - 0s 7ms/step - loss: 16.5802 - mae: 16.5802\n",
      "Epoch 291/500\n",
      "2/2 [==============================] - 0s 7ms/step - loss: 16.8560 - mae: 16.8560\n",
      "Epoch 292/500\n",
      "2/2 [==============================] - 0s 8ms/step - loss: 9.4765 - mae: 9.4765\n",
      "Epoch 293/500\n",
      "2/2 [==============================] - 0s 6ms/step - loss: 15.2886 - mae: 15.2886\n",
      "Epoch 294/500\n",
      "2/2 [==============================] - 0s 15ms/step - loss: 22.7670 - mae: 22.7670\n",
      "Epoch 295/500\n",
      "2/2 [==============================] - 0s 7ms/step - loss: 17.8119 - mae: 17.8119\n",
      "Epoch 296/500\n",
      "2/2 [==============================] - 0s 9ms/step - loss: 6.1030 - mae: 6.1030\n",
      "Epoch 297/500\n",
      "2/2 [==============================] - 0s 12ms/step - loss: 10.9481 - mae: 10.9481\n",
      "Epoch 298/500\n",
      "2/2 [==============================] - 0s 10ms/step - loss: 23.1859 - mae: 23.1859\n",
      "Epoch 299/500\n",
      "2/2 [==============================] - 0s 10ms/step - loss: 17.6589 - mae: 17.6589\n",
      "Epoch 300/500\n",
      "2/2 [==============================] - 0s 5ms/step - loss: 6.9399 - mae: 6.9399\n",
      "Epoch 301/500\n",
      "2/2 [==============================] - 0s 17ms/step - loss: 25.0950 - mae: 25.0950\n",
      "Epoch 302/500\n",
      "2/2 [==============================] - 0s 16ms/step - loss: 8.8550 - mae: 8.8550\n",
      "Epoch 303/500\n",
      "2/2 [==============================] - 0s 9ms/step - loss: 17.7115 - mae: 17.7115\n",
      "Epoch 304/500\n",
      "2/2 [==============================] - 0s 9ms/step - loss: 10.9446 - mae: 10.9446\n",
      "Epoch 305/500\n",
      "2/2 [==============================] - 0s 10ms/step - loss: 12.8835 - mae: 12.8835\n",
      "Epoch 306/500\n",
      "2/2 [==============================] - 0s 16ms/step - loss: 8.3639 - mae: 8.3639\n",
      "Epoch 307/500\n",
      "2/2 [==============================] - 0s 7ms/step - loss: 13.5828 - mae: 13.5828\n",
      "Epoch 308/500\n",
      "2/2 [==============================] - 0s 11ms/step - loss: 7.4088 - mae: 7.4088\n",
      "Epoch 309/500\n",
      "2/2 [==============================] - 0s 9ms/step - loss: 9.4421 - mae: 9.4421\n",
      "Epoch 310/500\n",
      "2/2 [==============================] - 0s 15ms/step - loss: 10.7079 - mae: 10.7079\n",
      "Epoch 311/500\n",
      "2/2 [==============================] - 0s 7ms/step - loss: 13.2658 - mae: 13.2658\n",
      "Epoch 312/500\n",
      "2/2 [==============================] - 0s 6ms/step - loss: 29.9678 - mae: 29.9678\n",
      "Epoch 313/500\n",
      "2/2 [==============================] - 0s 16ms/step - loss: 7.6172 - mae: 7.6172\n",
      "Epoch 314/500\n",
      "2/2 [==============================] - 0s 7ms/step - loss: 9.8895 - mae: 9.8895\n",
      "Epoch 315/500\n",
      "2/2 [==============================] - 0s 11ms/step - loss: 23.7402 - mae: 23.7402\n",
      "Epoch 316/500\n",
      "2/2 [==============================] - 0s 8ms/step - loss: 16.4421 - mae: 16.4421\n",
      "Epoch 317/500\n",
      "2/2 [==============================] - 0s 8ms/step - loss: 21.1318 - mae: 21.1318\n",
      "Epoch 318/500\n",
      "2/2 [==============================] - 0s 7ms/step - loss: 7.9276 - mae: 7.9276\n",
      "Epoch 319/500\n",
      "2/2 [==============================] - 0s 14ms/step - loss: 18.0357 - mae: 18.0357\n",
      "Epoch 320/500\n",
      "2/2 [==============================] - 0s 7ms/step - loss: 10.5696 - mae: 10.5696\n",
      "Epoch 321/500\n",
      "2/2 [==============================] - 0s 7ms/step - loss: 6.9542 - mae: 6.9542\n",
      "Epoch 322/500\n",
      "2/2 [==============================] - 0s 10ms/step - loss: 8.6544 - mae: 8.6544\n",
      "Epoch 323/500\n",
      "2/2 [==============================] - 0s 12ms/step - loss: 18.3308 - mae: 18.3308\n",
      "Epoch 324/500\n",
      "2/2 [==============================] - 0s 8ms/step - loss: 6.2582 - mae: 6.2582\n",
      "Epoch 325/500\n",
      "2/2 [==============================] - 0s 10ms/step - loss: 14.6017 - mae: 14.6017\n",
      "Epoch 326/500\n",
      "2/2 [==============================] - 0s 11ms/step - loss: 6.9471 - mae: 6.9471\n",
      "Epoch 327/500\n",
      "2/2 [==============================] - 0s 6ms/step - loss: 17.6617 - mae: 17.6617\n",
      "Epoch 328/500\n",
      "2/2 [==============================] - 0s 23ms/step - loss: 14.3542 - mae: 14.3542\n",
      "Epoch 329/500\n",
      "2/2 [==============================] - 0s 6ms/step - loss: 17.6480 - mae: 17.6480\n",
      "Epoch 330/500\n",
      "2/2 [==============================] - 0s 6ms/step - loss: 6.7440 - mae: 6.7440\n",
      "Epoch 331/500\n",
      "2/2 [==============================] - 0s 7ms/step - loss: 19.8433 - mae: 19.8433\n",
      "Epoch 332/500\n",
      "2/2 [==============================] - 0s 14ms/step - loss: 10.5487 - mae: 10.5487\n",
      "Epoch 333/500\n",
      "2/2 [==============================] - 0s 5ms/step - loss: 16.5515 - mae: 16.5515\n",
      "Epoch 334/500\n",
      "2/2 [==============================] - 0s 6ms/step - loss: 10.5043 - mae: 10.5043\n",
      "Epoch 335/500\n",
      "2/2 [==============================] - 0s 6ms/step - loss: 13.0752 - mae: 13.0752\n",
      "Epoch 336/500\n",
      "2/2 [==============================] - 0s 7ms/step - loss: 32.5808 - mae: 32.5808\n",
      "Epoch 337/500\n",
      "2/2 [==============================] - 0s 7ms/step - loss: 11.1371 - mae: 11.1371\n",
      "Epoch 338/500\n",
      "2/2 [==============================] - 0s 5ms/step - loss: 20.1694 - mae: 20.1694\n",
      "Epoch 339/500\n",
      "2/2 [==============================] - 0s 6ms/step - loss: 33.7034 - mae: 33.7034\n",
      "Epoch 340/500\n",
      "2/2 [==============================] - 0s 12ms/step - loss: 8.5492 - mae: 8.5492\n",
      "Epoch 341/500\n",
      "2/2 [==============================] - 0s 7ms/step - loss: 21.4718 - mae: 21.4718\n",
      "Epoch 342/500\n",
      "2/2 [==============================] - 0s 6ms/step - loss: 14.0835 - mae: 14.0835\n",
      "Epoch 343/500\n",
      "2/2 [==============================] - 0s 12ms/step - loss: 11.6184 - mae: 11.6184\n",
      "Epoch 344/500\n",
      "2/2 [==============================] - 0s 5ms/step - loss: 10.6492 - mae: 10.6492\n",
      "Epoch 345/500\n",
      "2/2 [==============================] - 0s 6ms/step - loss: 30.8611 - mae: 30.8611\n",
      "Epoch 346/500\n",
      "2/2 [==============================] - 0s 17ms/step - loss: 10.5992 - mae: 10.5992\n",
      "Epoch 347/500\n",
      "2/2 [==============================] - 0s 12ms/step - loss: 25.4942 - mae: 25.4942\n",
      "Epoch 348/500\n",
      "2/2 [==============================] - 0s 9ms/step - loss: 13.4321 - mae: 13.4321\n",
      "Epoch 349/500\n",
      "2/2 [==============================] - 0s 9ms/step - loss: 12.9581 - mae: 12.9581\n",
      "Epoch 350/500\n",
      "2/2 [==============================] - 0s 6ms/step - loss: 15.3620 - mae: 15.3620\n",
      "Epoch 351/500\n",
      "2/2 [==============================] - 0s 6ms/step - loss: 32.8339 - mae: 32.8339\n",
      "Epoch 352/500\n",
      "2/2 [==============================] - 0s 9ms/step - loss: 14.0159 - mae: 14.0159\n",
      "Epoch 353/500\n",
      "2/2 [==============================] - 0s 19ms/step - loss: 17.6882 - mae: 17.6882\n",
      "Epoch 354/500\n",
      "2/2 [==============================] - 0s 7ms/step - loss: 11.3013 - mae: 11.3013\n",
      "Epoch 355/500\n",
      "2/2 [==============================] - 0s 11ms/step - loss: 26.6870 - mae: 26.6870\n",
      "Epoch 356/500\n",
      "2/2 [==============================] - 0s 7ms/step - loss: 10.2553 - mae: 10.2553\n",
      "Epoch 357/500\n",
      "2/2 [==============================] - 0s 10ms/step - loss: 14.8914 - mae: 14.8914\n",
      "Epoch 358/500\n",
      "2/2 [==============================] - 0s 19ms/step - loss: 14.7953 - mae: 14.7953\n",
      "Epoch 359/500\n",
      "2/2 [==============================] - 0s 8ms/step - loss: 12.2662 - mae: 12.2662\n",
      "Epoch 360/500\n",
      "2/2 [==============================] - 0s 15ms/step - loss: 20.2424 - mae: 20.2424\n",
      "Epoch 361/500\n",
      "2/2 [==============================] - 0s 11ms/step - loss: 11.0436 - mae: 11.0436\n",
      "Epoch 362/500\n",
      "2/2 [==============================] - 0s 9ms/step - loss: 6.8016 - mae: 6.8016\n",
      "Epoch 363/500\n",
      "2/2 [==============================] - 0s 10ms/step - loss: 24.0673 - mae: 24.0673\n",
      "Epoch 364/500\n",
      "2/2 [==============================] - 0s 8ms/step - loss: 29.8524 - mae: 29.8524\n",
      "Epoch 365/500\n",
      "2/2 [==============================] - 0s 13ms/step - loss: 8.3597 - mae: 8.3597\n",
      "Epoch 366/500\n",
      "2/2 [==============================] - 0s 12ms/step - loss: 6.0699 - mae: 6.0699\n",
      "Epoch 367/500\n",
      "2/2 [==============================] - 0s 17ms/step - loss: 35.0603 - mae: 35.0603\n",
      "Epoch 368/500\n",
      "2/2 [==============================] - 0s 7ms/step - loss: 7.4141 - mae: 7.4141\n",
      "Epoch 369/500\n",
      "2/2 [==============================] - 0s 14ms/step - loss: 9.6527 - mae: 9.6527\n",
      "Epoch 370/500\n",
      "2/2 [==============================] - 0s 8ms/step - loss: 7.7654 - mae: 7.7654\n",
      "Epoch 371/500\n",
      "2/2 [==============================] - 0s 7ms/step - loss: 20.0284 - mae: 20.0284\n",
      "Epoch 372/500\n",
      "2/2 [==============================] - 0s 12ms/step - loss: 12.5225 - mae: 12.5225\n",
      "Epoch 373/500\n",
      "2/2 [==============================] - 0s 6ms/step - loss: 26.4360 - mae: 26.4360\n",
      "Epoch 374/500\n",
      "2/2 [==============================] - 0s 7ms/step - loss: 9.2212 - mae: 9.2212\n",
      "Epoch 375/500\n",
      "2/2 [==============================] - 0s 6ms/step - loss: 4.8672 - mae: 4.8672\n",
      "Epoch 376/500\n",
      "2/2 [==============================] - 0s 6ms/step - loss: 17.6047 - mae: 17.6047\n",
      "Epoch 377/500\n",
      "2/2 [==============================] - 0s 7ms/step - loss: 14.2585 - mae: 14.2585\n",
      "Epoch 378/500\n",
      "2/2 [==============================] - 0s 6ms/step - loss: 15.9074 - mae: 15.9074\n",
      "Epoch 379/500\n",
      "2/2 [==============================] - 0s 15ms/step - loss: 19.9798 - mae: 19.9798\n",
      "Epoch 380/500\n",
      "2/2 [==============================] - 0s 7ms/step - loss: 36.1745 - mae: 36.1745\n",
      "Epoch 381/500\n",
      "2/2 [==============================] - 0s 16ms/step - loss: 10.5411 - mae: 10.5411\n",
      "Epoch 382/500\n",
      "2/2 [==============================] - 0s 12ms/step - loss: 7.8071 - mae: 7.8071\n",
      "Epoch 383/500\n",
      "2/2 [==============================] - 0s 8ms/step - loss: 18.4047 - mae: 18.4047\n",
      "Epoch 384/500\n",
      "2/2 [==============================] - 0s 12ms/step - loss: 7.9208 - mae: 7.9208\n",
      "Epoch 385/500\n",
      "2/2 [==============================] - 0s 30ms/step - loss: 9.9853 - mae: 9.9853\n",
      "Epoch 386/500\n",
      "2/2 [==============================] - 0s 12ms/step - loss: 19.5106 - mae: 19.5106\n",
      "Epoch 387/500\n",
      "2/2 [==============================] - 0s 6ms/step - loss: 25.6528 - mae: 25.6528\n",
      "Epoch 388/500\n",
      "2/2 [==============================] - 0s 9ms/step - loss: 9.3574 - mae: 9.3574\n",
      "Epoch 389/500\n",
      "2/2 [==============================] - 0s 6ms/step - loss: 5.4254 - mae: 5.4254\n",
      "Epoch 390/500\n",
      "2/2 [==============================] - 0s 10ms/step - loss: 21.2534 - mae: 21.2534\n",
      "Epoch 391/500\n",
      "2/2 [==============================] - 0s 11ms/step - loss: 5.6035 - mae: 5.6035\n",
      "Epoch 392/500\n",
      "2/2 [==============================] - 0s 6ms/step - loss: 16.4032 - mae: 16.4032\n",
      "Epoch 393/500\n",
      "2/2 [==============================] - 0s 5ms/step - loss: 9.1861 - mae: 9.1861\n",
      "Epoch 394/500\n",
      "2/2 [==============================] - 0s 6ms/step - loss: 14.0710 - mae: 14.0710\n",
      "Epoch 395/500\n",
      "2/2 [==============================] - 0s 6ms/step - loss: 28.4491 - mae: 28.4491\n",
      "Epoch 396/500\n",
      "2/2 [==============================] - 0s 14ms/step - loss: 8.4321 - mae: 8.4321\n",
      "Epoch 397/500\n",
      "2/2 [==============================] - 0s 6ms/step - loss: 11.2924 - mae: 11.2924\n",
      "Epoch 398/500\n",
      "2/2 [==============================] - 0s 5ms/step - loss: 6.8439 - mae: 6.8439\n",
      "Epoch 399/500\n",
      "2/2 [==============================] - 0s 6ms/step - loss: 14.1989 - mae: 14.1989\n",
      "Epoch 400/500\n",
      "2/2 [==============================] - 0s 14ms/step - loss: 6.6552 - mae: 6.6552\n",
      "Epoch 401/500\n",
      "2/2 [==============================] - 0s 6ms/step - loss: 8.3931 - mae: 8.3931\n",
      "Epoch 402/500\n",
      "2/2 [==============================] - 0s 5ms/step - loss: 14.9131 - mae: 14.9131\n",
      "Epoch 403/500\n",
      "2/2 [==============================] - 0s 5ms/step - loss: 12.2864 - mae: 12.2864\n",
      "Epoch 404/500\n",
      "2/2 [==============================] - 0s 11ms/step - loss: 22.8517 - mae: 22.8517\n",
      "Epoch 405/500\n",
      "2/2 [==============================] - 0s 6ms/step - loss: 18.2616 - mae: 18.2616\n",
      "Epoch 406/500\n",
      "2/2 [==============================] - 0s 5ms/step - loss: 7.0260 - mae: 7.0260\n",
      "Epoch 407/500\n",
      "2/2 [==============================] - 0s 12ms/step - loss: 12.7501 - mae: 12.7501\n",
      "Epoch 408/500\n",
      "2/2 [==============================] - 0s 6ms/step - loss: 5.6024 - mae: 5.6024\n",
      "Epoch 409/500\n",
      "2/2 [==============================] - 0s 6ms/step - loss: 31.5566 - mae: 31.5566\n",
      "Epoch 410/500\n",
      "2/2 [==============================] - 0s 6ms/step - loss: 9.1407 - mae: 9.1407\n",
      "Epoch 411/500\n",
      "2/2 [==============================] - 0s 14ms/step - loss: 14.7908 - mae: 14.7908\n",
      "Epoch 412/500\n",
      "2/2 [==============================] - 0s 5ms/step - loss: 21.6333 - mae: 21.6333\n",
      "Epoch 413/500\n",
      "2/2 [==============================] - 0s 8ms/step - loss: 12.9459 - mae: 12.9459\n",
      "Epoch 414/500\n",
      "2/2 [==============================] - 0s 6ms/step - loss: 8.2947 - mae: 8.2947\n",
      "Epoch 415/500\n",
      "2/2 [==============================] - 0s 6ms/step - loss: 11.7094 - mae: 11.7094\n",
      "Epoch 416/500\n",
      "2/2 [==============================] - 0s 9ms/step - loss: 25.6769 - mae: 25.6769\n",
      "Epoch 417/500\n",
      "2/2 [==============================] - 0s 9ms/step - loss: 15.5960 - mae: 15.5960\n",
      "Epoch 418/500\n",
      "2/2 [==============================] - 0s 15ms/step - loss: 12.6077 - mae: 12.6077\n",
      "Epoch 419/500\n",
      "2/2 [==============================] - 0s 14ms/step - loss: 15.7230 - mae: 15.7230\n",
      "Epoch 420/500\n",
      "2/2 [==============================] - 0s 9ms/step - loss: 24.4637 - mae: 24.4637\n",
      "Epoch 421/500\n",
      "2/2 [==============================] - 0s 14ms/step - loss: 18.1749 - mae: 18.1749\n",
      "Epoch 422/500\n",
      "2/2 [==============================] - 0s 13ms/step - loss: 8.5896 - mae: 8.5896\n",
      "Epoch 423/500\n",
      "2/2 [==============================] - 0s 15ms/step - loss: 24.6481 - mae: 24.6481\n",
      "Epoch 424/500\n",
      "2/2 [==============================] - 0s 6ms/step - loss: 16.8578 - mae: 16.8578\n",
      "Epoch 425/500\n",
      "2/2 [==============================] - 0s 8ms/step - loss: 7.2414 - mae: 7.2414\n",
      "Epoch 426/500\n",
      "2/2 [==============================] - 0s 14ms/step - loss: 21.0501 - mae: 21.0501\n",
      "Epoch 427/500\n",
      "2/2 [==============================] - 0s 8ms/step - loss: 6.4385 - mae: 6.4385\n",
      "Epoch 428/500\n",
      "2/2 [==============================] - 0s 9ms/step - loss: 13.5239 - mae: 13.5239\n",
      "Epoch 429/500\n",
      "2/2 [==============================] - 0s 8ms/step - loss: 11.5070 - mae: 11.5070\n",
      "Epoch 430/500\n",
      "2/2 [==============================] - 0s 8ms/step - loss: 10.2599 - mae: 10.2599\n",
      "Epoch 431/500\n",
      "2/2 [==============================] - 0s 7ms/step - loss: 11.5491 - mae: 11.5491\n",
      "Epoch 432/500\n",
      "2/2 [==============================] - 0s 7ms/step - loss: 9.9548 - mae: 9.9548\n",
      "Epoch 433/500\n",
      "2/2 [==============================] - 0s 5ms/step - loss: 3.4851 - mae: 3.4851\n",
      "Epoch 434/500\n",
      "2/2 [==============================] - 0s 10ms/step - loss: 37.3053 - mae: 37.3053\n",
      "Epoch 435/500\n",
      "2/2 [==============================] - 0s 10ms/step - loss: 14.1365 - mae: 14.1365\n",
      "Epoch 436/500\n",
      "2/2 [==============================] - 0s 7ms/step - loss: 12.3448 - mae: 12.3448\n",
      "Epoch 437/500\n",
      "2/2 [==============================] - 0s 4ms/step - loss: 16.2515 - mae: 16.2515\n",
      "Epoch 438/500\n",
      "2/2 [==============================] - 0s 19ms/step - loss: 13.9283 - mae: 13.9283\n",
      "Epoch 439/500\n",
      "2/2 [==============================] - 0s 4ms/step - loss: 31.9861 - mae: 31.9861\n",
      "Epoch 440/500\n",
      "2/2 [==============================] - 0s 5ms/step - loss: 12.4675 - mae: 12.4675\n",
      "Epoch 441/500\n",
      "2/2 [==============================] - 0s 6ms/step - loss: 15.7576 - mae: 15.7576\n",
      "Epoch 442/500\n",
      "2/2 [==============================] - 0s 7ms/step - loss: 23.6778 - mae: 23.6778\n",
      "Epoch 443/500\n",
      "2/2 [==============================] - 0s 13ms/step - loss: 20.1737 - mae: 20.1737\n",
      "Epoch 444/500\n",
      "2/2 [==============================] - 0s 6ms/step - loss: 8.7996 - mae: 8.7996\n",
      "Epoch 445/500\n",
      "2/2 [==============================] - 0s 6ms/step - loss: 13.9909 - mae: 13.9909\n",
      "Epoch 446/500\n",
      "2/2 [==============================] - 0s 8ms/step - loss: 16.6545 - mae: 16.6545\n",
      "Epoch 447/500\n",
      "2/2 [==============================] - 0s 10ms/step - loss: 6.7706 - mae: 6.7706\n",
      "Epoch 448/500\n",
      "2/2 [==============================] - 0s 8ms/step - loss: 5.9964 - mae: 5.9964\n",
      "Epoch 449/500\n",
      "2/2 [==============================] - 0s 8ms/step - loss: 16.2189 - mae: 16.2189\n",
      "Epoch 450/500\n",
      "2/2 [==============================] - 0s 10ms/step - loss: 15.1404 - mae: 15.1404\n",
      "Epoch 451/500\n",
      "2/2 [==============================] - 0s 9ms/step - loss: 16.7998 - mae: 16.7998\n",
      "Epoch 452/500\n",
      "2/2 [==============================] - 0s 5ms/step - loss: 46.3495 - mae: 46.3495\n",
      "Epoch 453/500\n",
      "2/2 [==============================] - 0s 5ms/step - loss: 26.7421 - mae: 26.7421\n",
      "Epoch 454/500\n",
      "2/2 [==============================] - 0s 5ms/step - loss: 23.4184 - mae: 23.4184\n",
      "Epoch 455/500\n",
      "2/2 [==============================] - 0s 8ms/step - loss: 8.8203 - mae: 8.8203\n",
      "Epoch 456/500\n",
      "2/2 [==============================] - 0s 8ms/step - loss: 12.9246 - mae: 12.9246\n",
      "Epoch 457/500\n",
      "2/2 [==============================] - 0s 6ms/step - loss: 16.2056 - mae: 16.2056\n",
      "Epoch 458/500\n",
      "2/2 [==============================] - 0s 9ms/step - loss: 13.1312 - mae: 13.1312\n",
      "Epoch 459/500\n",
      "2/2 [==============================] - 0s 7ms/step - loss: 24.1870 - mae: 24.1870\n",
      "Epoch 460/500\n",
      "2/2 [==============================] - 0s 4ms/step - loss: 19.4858 - mae: 19.4858\n",
      "Epoch 461/500\n",
      "2/2 [==============================] - 0s 13ms/step - loss: 9.6690 - mae: 9.6690\n",
      "Epoch 462/500\n",
      "2/2 [==============================] - 0s 14ms/step - loss: 12.9495 - mae: 12.9495\n",
      "Epoch 463/500\n",
      "2/2 [==============================] - 0s 5ms/step - loss: 28.8178 - mae: 28.8178\n",
      "Epoch 464/500\n",
      "2/2 [==============================] - 0s 7ms/step - loss: 7.4901 - mae: 7.4901\n",
      "Epoch 465/500\n",
      "2/2 [==============================] - 0s 6ms/step - loss: 15.8130 - mae: 15.8130\n",
      "Epoch 466/500\n",
      "2/2 [==============================] - 0s 5ms/step - loss: 9.3095 - mae: 9.3095\n",
      "Epoch 467/500\n",
      "2/2 [==============================] - 0s 7ms/step - loss: 21.4311 - mae: 21.4311\n",
      "Epoch 468/500\n",
      "2/2 [==============================] - 0s 6ms/step - loss: 24.0446 - mae: 24.0446\n",
      "Epoch 469/500\n",
      "2/2 [==============================] - 0s 6ms/step - loss: 21.4838 - mae: 21.4838\n",
      "Epoch 470/500\n",
      "2/2 [==============================] - 0s 6ms/step - loss: 9.7223 - mae: 9.7223\n",
      "Epoch 471/500\n",
      "2/2 [==============================] - 0s 6ms/step - loss: 16.2784 - mae: 16.2784\n",
      "Epoch 472/500\n",
      "2/2 [==============================] - 0s 6ms/step - loss: 14.8536 - mae: 14.8536\n",
      "Epoch 473/500\n",
      "2/2 [==============================] - 0s 6ms/step - loss: 18.1312 - mae: 18.1312\n",
      "Epoch 474/500\n",
      "2/2 [==============================] - 0s 17ms/step - loss: 42.4467 - mae: 42.4467\n",
      "Epoch 475/500\n",
      "2/2 [==============================] - 0s 21ms/step - loss: 18.1391 - mae: 18.1391\n",
      "Epoch 476/500\n",
      "2/2 [==============================] - 0s 6ms/step - loss: 13.1618 - mae: 13.1618\n",
      "Epoch 477/500\n",
      "2/2 [==============================] - 0s 7ms/step - loss: 29.2099 - mae: 29.2099\n",
      "Epoch 478/500\n",
      "2/2 [==============================] - 0s 21ms/step - loss: 5.7980 - mae: 5.7980\n",
      "Epoch 479/500\n",
      "2/2 [==============================] - 0s 22ms/step - loss: 6.3483 - mae: 6.3483\n",
      "Epoch 480/500\n",
      "2/2 [==============================] - 0s 10ms/step - loss: 20.0140 - mae: 20.0140\n",
      "Epoch 481/500\n",
      "2/2 [==============================] - 0s 5ms/step - loss: 19.2267 - mae: 19.2267\n",
      "Epoch 482/500\n",
      "2/2 [==============================] - 0s 9ms/step - loss: 7.6999 - mae: 7.6999\n",
      "Epoch 483/500\n",
      "2/2 [==============================] - 0s 10ms/step - loss: 15.7122 - mae: 15.7122\n",
      "Epoch 484/500\n",
      "2/2 [==============================] - 0s 13ms/step - loss: 14.3613 - mae: 14.3613\n",
      "Epoch 485/500\n",
      "2/2 [==============================] - 0s 12ms/step - loss: 10.4477 - mae: 10.4477\n",
      "Epoch 486/500\n",
      "2/2 [==============================] - 0s 12ms/step - loss: 17.9356 - mae: 17.9356\n",
      "Epoch 487/500\n",
      "2/2 [==============================] - 0s 15ms/step - loss: 10.8553 - mae: 10.8553\n",
      "Epoch 488/500\n",
      "2/2 [==============================] - 0s 18ms/step - loss: 27.0116 - mae: 27.0116\n",
      "Epoch 489/500\n",
      "2/2 [==============================] - 0s 9ms/step - loss: 5.2999 - mae: 5.2999\n",
      "Epoch 490/500\n",
      "2/2 [==============================] - 0s 6ms/step - loss: 6.0333 - mae: 6.0333\n",
      "Epoch 491/500\n",
      "2/2 [==============================] - 0s 8ms/step - loss: 19.2083 - mae: 19.2083\n",
      "Epoch 492/500\n",
      "2/2 [==============================] - 0s 25ms/step - loss: 6.7700 - mae: 6.7700\n",
      "Epoch 493/500\n",
      "2/2 [==============================] - 0s 12ms/step - loss: 18.6976 - mae: 18.6976\n",
      "Epoch 494/500\n",
      "2/2 [==============================] - 0s 19ms/step - loss: 19.1475 - mae: 19.1475\n",
      "Epoch 495/500\n",
      "2/2 [==============================] - 0s 9ms/step - loss: 5.6413 - mae: 5.6413\n",
      "Epoch 496/500\n",
      "2/2 [==============================] - 0s 4ms/step - loss: 5.8870 - mae: 5.8870\n",
      "Epoch 497/500\n",
      "2/2 [==============================] - 0s 6ms/step - loss: 12.5485 - mae: 12.5485\n",
      "Epoch 498/500\n",
      "2/2 [==============================] - 0s 6ms/step - loss: 6.2947 - mae: 6.2947\n",
      "Epoch 499/500\n",
      "2/2 [==============================] - 0s 14ms/step - loss: 15.9233 - mae: 15.9233\n",
      "Epoch 500/500\n",
      "2/2 [==============================] - 0s 5ms/step - loss: 14.3077 - mae: 14.3077\n"
     ]
    },
    {
     "data": {
      "text/plain": "<keras.callbacks.History at 0x7f8992fb6cd0>"
     },
     "execution_count": 58,
     "metadata": {},
     "output_type": "execute_result"
    }
   ],
   "source": [
    "# Set the random seed\n",
    "tf.random.set_seed(42)\n",
    "\n",
    "# 1. Create the model\n",
    "model_3 = tf.keras.Sequential([\n",
    "    tf.keras.layers.Dense(10),\n",
    "    tf.keras.layers.Dense(1)\n",
    "])\n",
    "\n",
    "# 2. Compile the model\n",
    "model_3.compile(loss=tf.keras.losses.mae,\n",
    "                optimizer=tf.keras.optimizers.SGD(),\n",
    "                metrics=[\"mae\"])\n",
    "\n",
    "# 3. Fit the model\n",
    "model_3.fit(tf.expand_dims(X_train, axis=-1), y_train, epochs=500)"
   ],
   "metadata": {
    "colab": {
     "base_uri": "https://localhost:8080/"
    },
    "id": "63aa0519b7419682",
    "executionInfo": {
     "status": "ok",
     "timestamp": 1696076859418,
     "user_tz": -420,
     "elapsed": 12407,
     "user": {
      "displayName": "kang sigit",
      "userId": "15887135570512197739"
     }
    },
    "outputId": "b505caf8-a0f1-424c-d542-7479ae153a19",
    "ExecuteTime": {
     "end_time": "2023-10-02T07:53:39.281578279Z",
     "start_time": "2023-10-02T07:53:16.857687379Z"
    }
   },
   "id": "63aa0519b7419682"
  },
  {
   "cell_type": "code",
   "execution_count": 59,
   "outputs": [
    {
     "name": "stdout",
     "output_type": "stream",
     "text": [
      "1/1 [==============================] - 0s 48ms/step\n"
     ]
    },
    {
     "data": {
      "text/plain": "<Figure size 1000x700 with 1 Axes>",
      "image/png": "[encoded data removed]"
     },
     "metadata": {},
     "output_type": "display_data"
    }
   ],
   "source": [
    "# Make and plot some predictions\n",
    "y_preds_3 = model_3.predict(X_test)\n",
    "plot_predictions(predictions=y_preds_3)"
   ],
   "metadata": {
    "colab": {
     "base_uri": "https://localhost:8080/",
     "height": 617
    },
    "id": "14874d471dd92dec",
    "executionInfo": {
     "status": "ok",
     "timestamp": 1696076861937,
     "user_tz": -420,
     "elapsed": 671,
     "user": {
      "displayName": "kang sigit",
      "userId": "15887135570512197739"
     }
    },
    "outputId": "fe1fd6e7-d487-4987-f7e0-fa91d67da44a",
    "ExecuteTime": {
     "end_time": "2023-10-02T07:53:41.292382752Z",
     "start_time": "2023-10-02T07:53:40.900527886Z"
    }
   },
   "id": "14874d471dd92dec"
  },
  {
   "cell_type": "code",
   "execution_count": 60,
   "outputs": [
    {
     "data": {
      "text/plain": "(<tf.Tensor: shape=(), dtype=float32, numpy=67.62519>,\n <tf.Tensor: shape=(), dtype=float32, numpy=4657.2764>)"
     },
     "execution_count": 60,
     "metadata": {},
     "output_type": "execute_result"
    }
   ],
   "source": [
    "# Calculate model_3 evaluation metrics\n",
    "mae_3 = mae(y_test, y_preds_3)\n",
    "mse_3 = mse(y_test, y_preds_3)\n",
    "mae_3, mse_3"
   ],
   "metadata": {
    "colab": {
     "base_uri": "https://localhost:8080/"
    },
    "id": "a1bdb91d97ceeb7a",
    "executionInfo": {
     "status": "ok",
     "timestamp": 1696076867643,
     "user_tz": -420,
     "elapsed": 922,
     "user": {
      "displayName": "kang sigit",
      "userId": "15887135570512197739"
     }
    },
    "outputId": "0ab21741-9a25-46ca-c673-b847793ba5dd",
    "ExecuteTime": {
     "end_time": "2023-10-02T07:53:42.583495605Z",
     "start_time": "2023-10-02T07:53:42.516253396Z"
    }
   },
   "id": "a1bdb91d97ceeb7a"
  },
  {
   "cell_type": "markdown",
   "source": [
    "🔑 **Note:** You want to start with small experiments (small models) and make sure they work and than increase their scale when necessary."
   ],
   "metadata": {
    "collapsed": false,
    "id": "13cc26732f4ee288"
   },
   "id": "13cc26732f4ee288"
  },
  {
   "cell_type": "markdown",
   "source": [
    "## Comparing the results of our experiments\n",
    "\n",
    "We've run a few experiments, let's compare the results."
   ],
   "metadata": {
    "collapsed": false,
    "id": "f99513fbb95360d4"
   },
   "id": "f99513fbb95360d4"
  },
  {
   "cell_type": "code",
   "execution_count": 61,
   "outputs": [
    {
     "data": {
      "text/plain": "     model        mae          mse\n0  model_1  30.719593   954.214172\n1  model_2  10.618171   120.492569\n2  model_3  67.625191  4657.276367",
      "text/html": "<div>\n<style scoped>\n    .dataframe tbody tr th:only-of-type {\n        vertical-align: middle;\n    }\n\n    .dataframe tbody tr th {\n        vertical-align: top;\n    }\n\n    .dataframe thead th {\n        text-align: right;\n    }\n</style>\n<table border=\"1\" class=\"dataframe\">\n  <thead>\n    <tr style=\"text-align: right;\">\n      <th></th>\n      <th>model</th>\n      <th>mae</th>\n      <th>mse</th>\n    </tr>\n  </thead>\n  <tbody>\n    <tr>\n      <th>0</th>\n      <td>model_1</td>\n      <td>30.719593</td>\n      <td>954.214172</td>\n    </tr>\n    <tr>\n      <th>1</th>\n      <td>model_2</td>\n      <td>10.618171</td>\n      <td>120.492569</td>\n    </tr>\n    <tr>\n      <th>2</th>\n      <td>model_3</td>\n      <td>67.625191</td>\n      <td>4657.276367</td>\n    </tr>\n  </tbody>\n</table>\n</div>"
     },
     "execution_count": 61,
     "metadata": {},
     "output_type": "execute_result"
    }
   ],
   "source": [
    "# Let's compare our model's results using a pandas DataFrame\n",
    "import pandas as pd\n",
    "\n",
    "model_results = [[\"model_1\", mae_1.numpy(), mse_1.numpy()],\n",
    "                 [\"model_2\", mae_2.numpy(), mse_2.numpy()],\n",
    "                 [\"model_3\", mae_3.numpy(), mse_3.numpy()]]\n",
    "\n",
    "all_results = pd.DataFrame(model_results, columns=[\"model\", \"mae\", \"mse\"])\n",
    "all_results"
   ],
   "metadata": {
    "colab": {
     "base_uri": "https://localhost:8080/",
     "height": 143
    },
    "id": "307fb19b0e82e4c6",
    "executionInfo": {
     "status": "ok",
     "timestamp": 1696076870784,
     "user_tz": -420,
     "elapsed": 14,
     "user": {
      "displayName": "kang sigit",
      "userId": "15887135570512197739"
     }
    },
    "outputId": "e0578fbd-8dd6-4813-e17d-b81d15efcd8d",
    "ExecuteTime": {
     "end_time": "2023-10-02T07:53:45.048946605Z",
     "start_time": "2023-10-02T07:53:45.015311112Z"
    }
   },
   "id": "307fb19b0e82e4c6"
  },
  {
   "cell_type": "code",
   "execution_count": 62,
   "outputs": [],
   "source": [
    "### Look like `model_2` performed best (maybe)"
   ],
   "metadata": {
    "id": "5b36e1e7958a0c73",
    "executionInfo": {
     "status": "ok",
     "timestamp": 1696076877317,
     "user_tz": -420,
     "elapsed": 560,
     "user": {
      "displayName": "kang sigit",
      "userId": "15887135570512197739"
     }
    },
    "ExecuteTime": {
     "end_time": "2023-10-02T07:53:48.593429926Z",
     "start_time": "2023-10-02T07:53:48.552356441Z"
    }
   },
   "id": "5b36e1e7958a0c73"
  },
  {
   "cell_type": "code",
   "execution_count": 63,
   "outputs": [
    {
     "name": "stdout",
     "output_type": "stream",
     "text": [
      "Model: \"sequential_5\"\n",
      "_________________________________________________________________\n",
      " Layer (type)                Output Shape              Param #   \n",
      "=================================================================\n",
      " dense_6 (Dense)             (None, 10)                20        \n",
      "                                                                 \n",
      " dense_7 (Dense)             (None, 1)                 11        \n",
      "                                                                 \n",
      "=================================================================\n",
      "Total params: 31\n",
      "Trainable params: 31\n",
      "Non-trainable params: 0\n",
      "_________________________________________________________________\n"
     ]
    }
   ],
   "source": [
    "model_2.summary()"
   ],
   "metadata": {
    "colab": {
     "base_uri": "https://localhost:8080/"
    },
    "id": "217c2eae7aa9fffc",
    "executionInfo": {
     "status": "ok",
     "timestamp": 1696076880554,
     "user_tz": -420,
     "elapsed": 824,
     "user": {
      "displayName": "kang sigit",
      "userId": "15887135570512197739"
     }
    },
    "outputId": "ce1b5ae7-6598-4afc-8dda-63d17f521d3a",
    "ExecuteTime": {
     "end_time": "2023-10-02T07:53:49.386093114Z",
     "start_time": "2023-10-02T07:53:49.307102211Z"
    }
   },
   "id": "217c2eae7aa9fffc"
  },
  {
   "cell_type": "markdown",
   "source": [
    ":key **Note:** One of your main goals should be to minimize the time between your experiments. The more experiments you do, the more things you'll figure out which don't work and in turn, get closer to figuring out what does work.Remember the machine learning practioner's motto: \"experiment, experiment, experiment\"."
   ],
   "metadata": {
    "collapsed": false,
    "id": "4a1705a03c1bbb72"
   },
   "id": "4a1705a03c1bbb72"
  },
  {
   "cell_type": "markdown",
   "source": [
    "## Tracking your experiments\n",
    "\n",
    "One really good habit in machine learning modelling is to track the results of your experiments.\n",
    "\n",
    "And when doing so, it can be tedious if you're running lots of experiments.\n",
    "\n",
    "Luckily, there are tools to help us!\n",
    "\n",
    "📖 **Resource:** As you build more models, you'll want to look into using:\n",
    "\n",
    "* TensorBoard - a component of the TensorFlow library to help track modelling experiments (we'll see this one later).\n",
    "* Weights & Biases - a tool for tracking all of kinds of machine learning experiments (plugs straight into TensorBoard)."
   ],
   "metadata": {
    "collapsed": false,
    "id": "17f54b7f126aa329"
   },
   "id": "17f54b7f126aa329"
  },
  {
   "cell_type": "markdown",
   "source": [
    "## Saving our models\n",
    "\n",
    "Saving your models allows us to use them outside of Google Colab (or wherever they were trained) such as in a web application or a mobile app.\n",
    "\n",
    "There are two main formats we can save or model's too:\n",
    "1. The SaveModel Format\n",
    "2. The HDF5 format"
   ],
   "metadata": {
    "collapsed": false,
    "id": "3b39adadf7ace07"
   },
   "id": "3b39adadf7ace07"
  },
  {
   "cell_type": "code",
   "execution_count": 64,
   "outputs": [
    {
     "name": "stderr",
     "output_type": "stream",
     "text": [
      "WARNING:absl:Found untraced functions such as _update_step_xla while saving (showing 1 of 1). These functions will not be directly callable after loading.\n"
     ]
    },
    {
     "name": "stdout",
     "output_type": "stream",
     "text": [
      "INFO:tensorflow:Assets written to: best_model_SavedModel_format/assets\n"
     ]
    },
    {
     "name": "stderr",
     "output_type": "stream",
     "text": [
      "INFO:tensorflow:Assets written to: best_model_SavedModel_format/assets\n"
     ]
    }
   ],
   "source": [
    "# Save model using the SaveModel format\n",
    "model_2.save(\"best_model_SavedModel_format\")"
   ],
   "metadata": {
    "id": "f756e5f68dbdd72",
    "executionInfo": {
     "status": "aborted",
     "timestamp": 1696076709017,
     "user_tz": -420,
     "elapsed": 12,
     "user": {
      "displayName": "kang sigit",
      "userId": "15887135570512197739"
     }
    },
    "ExecuteTime": {
     "end_time": "2023-10-02T07:53:52.990956973Z",
     "start_time": "2023-10-02T07:53:52.461288990Z"
    }
   },
   "id": "f756e5f68dbdd72"
  },
  {
   "cell_type": "code",
   "execution_count": 65,
   "outputs": [],
   "source": [
    "# Save model using the HDF5 format\n",
    "model_2.save(\"best_model_HDF5_format.h5\")"
   ],
   "metadata": {
    "collapsed": false,
    "ExecuteTime": {
     "end_time": "2023-10-02T07:53:54.861940513Z",
     "start_time": "2023-10-02T07:53:54.817599189Z"
    }
   },
   "id": "3d3318e412be8e5e"
  },
  {
   "cell_type": "markdown",
   "source": [
    "## Loading in saved model"
   ],
   "metadata": {
    "collapsed": false
   },
   "id": "61263de06c24ec02"
  },
  {
   "cell_type": "code",
   "execution_count": 66,
   "outputs": [
    {
     "name": "stdout",
     "output_type": "stream",
     "text": [
      "Model: \"sequential_5\"\n",
      "_________________________________________________________________\n",
      " Layer (type)                Output Shape              Param #   \n",
      "=================================================================\n",
      " dense_6 (Dense)             (None, 10)                20        \n",
      "                                                                 \n",
      " dense_7 (Dense)             (None, 1)                 11        \n",
      "                                                                 \n",
      "=================================================================\n",
      "Total params: 31\n",
      "Trainable params: 31\n",
      "Non-trainable params: 0\n",
      "_________________________________________________________________\n"
     ]
    }
   ],
   "source": [
    "loaded_SavedModel_format = tf.keras.models.load_model(\"best_model_SavedModel_format\")\n",
    "loaded_SavedModel_format.summary()"
   ],
   "metadata": {
    "collapsed": false,
    "ExecuteTime": {
     "end_time": "2023-10-02T07:57:33.393849092Z",
     "start_time": "2023-10-02T07:57:33.156267680Z"
    }
   },
   "id": "972570d455c0ea7b"
  },
  {
   "cell_type": "code",
   "execution_count": 69,
   "outputs": [
    {
     "name": "stdout",
     "output_type": "stream",
     "text": [
      "1/1 [==============================] - 0s 16ms/step\n",
      "1/1 [==============================] - 0s 27ms/step\n"
     ]
    },
    {
     "data": {
      "text/plain": "array([[ True],\n       [ True],\n       [ True],\n       [ True],\n       [ True],\n       [ True],\n       [ True],\n       [ True],\n       [ True],\n       [ True]])"
     },
     "execution_count": 69,
     "metadata": {},
     "output_type": "execute_result"
    }
   ],
   "source": [
    "# Compare model_2 predictions with SavedModel format model predictions\n",
    "model_2_preds = model_2.predict(X_test)\n",
    "loaded_SavedModel_format_preds = loaded_SavedModel_format.predict(X_test);\n",
    "model_2_preds == loaded_SavedModel_format_preds"
   ],
   "metadata": {
    "collapsed": false,
    "ExecuteTime": {
     "end_time": "2023-10-02T08:00:07.966859609Z",
     "start_time": "2023-10-02T08:00:07.825113806Z"
    }
   },
   "id": "d9bf6d501126be3a"
  },
  {
   "cell_type": "code",
   "execution_count": 76,
   "outputs": [
    {
     "data": {
      "text/plain": "<tf.Tensor: shape=(), dtype=bool, numpy=True>"
     },
     "execution_count": 76,
     "metadata": {},
     "output_type": "execute_result"
    }
   ],
   "source": [
    "# Compare the MAE of model_2 preds and loaded_SavedModel_preds\n",
    "mae(y_true=y_test, y_pred=model_2_preds) == mae(y_true=y_test, y_pred=loaded_SavedModel_format_preds)"
   ],
   "metadata": {
    "collapsed": false,
    "ExecuteTime": {
     "end_time": "2023-10-02T08:10:26.067016573Z",
     "start_time": "2023-10-02T08:10:26.029343219Z"
    }
   },
   "id": "2a2862a719eb26ad"
  },
  {
   "cell_type": "code",
   "execution_count": 77,
   "outputs": [
    {
     "name": "stdout",
     "output_type": "stream",
     "text": [
      "Model: \"sequential_5\"\n",
      "_________________________________________________________________\n",
      " Layer (type)                Output Shape              Param #   \n",
      "=================================================================\n",
      " dense_6 (Dense)             (None, 10)                20        \n",
      "                                                                 \n",
      " dense_7 (Dense)             (None, 1)                 11        \n",
      "                                                                 \n",
      "=================================================================\n",
      "Total params: 31\n",
      "Trainable params: 31\n",
      "Non-trainable params: 0\n",
      "_________________________________________________________________\n"
     ]
    }
   ],
   "source": [
    "# Load in model using the .h5 format\n",
    "loaded_h5_model = tf.keras.models.load_model(\"best_model_HDF5_format.h5\")\n",
    "loaded_h5_model.summary()"
   ],
   "metadata": {
    "collapsed": false,
    "ExecuteTime": {
     "end_time": "2023-10-02T08:10:26.613258161Z",
     "start_time": "2023-10-02T08:10:26.496038909Z"
    }
   },
   "id": "abf2e5db4f1e317d"
  },
  {
   "cell_type": "code",
   "execution_count": 78,
   "outputs": [
    {
     "name": "stdout",
     "output_type": "stream",
     "text": [
      "1/1 [==============================] - 0s 35ms/step\n",
      "1/1 [==============================] - 0s 77ms/step\n"
     ]
    },
    {
     "data": {
      "text/plain": "array([[ True],\n       [ True],\n       [ True],\n       [ True],\n       [ True],\n       [ True],\n       [ True],\n       [ True],\n       [ True],\n       [ True]])"
     },
     "execution_count": 78,
     "metadata": {},
     "output_type": "execute_result"
    }
   ],
   "source": [
    "# Check to see if loaded .h5 model predictions match model_2\n",
    "model_2_preds = model_2.predict(X_test)\n",
    "loaded_h5_model_preds = loaded_h5_model.predict(X_test)\n",
    "model_2_preds == loaded_h5_model_preds"
   ],
   "metadata": {
    "collapsed": false,
    "ExecuteTime": {
     "end_time": "2023-10-02T08:10:27.671365039Z",
     "start_time": "2023-10-02T08:10:27.373719386Z"
    }
   },
   "id": "8dfd4812a43168e0"
  },
  {
   "cell_type": "markdown",
   "source": [
    "## A larger Example"
   ],
   "metadata": {
    "collapsed": false
   },
   "id": "d4f8c8045cd632c9"
  },
  {
   "cell_type": "code",
   "execution_count": 79,
   "outputs": [
    {
     "data": {
      "text/plain": "(<tf.Tensor: shape=(40,), dtype=int32, numpy=\n array([-100,  -96,  -92,  -88,  -84,  -80,  -76,  -72,  -68,  -64,  -60,\n         -56,  -52,  -48,  -44,  -40,  -36,  -32,  -28,  -24,  -20,  -16,\n         -12,   -8,   -4,    0,    4,    8,   12,   16,   20,   24,   28,\n          32,   36,   40,   44,   48,   52,   56], dtype=int32)>,\n <tf.Tensor: shape=(40,), dtype=int32, numpy=\n array([-90, -86, -82, -78, -74, -70, -66, -62, -58, -54, -50, -46, -42,\n        -38, -34, -30, -26, -22, -18, -14, -10,  -6,  -2,   2,   6,  10,\n         14,  18,  22,  26,  30,  34,  38,  42,  46,  50,  54,  58,  62,\n         66], dtype=int32)>)"
     },
     "execution_count": 79,
     "metadata": {},
     "output_type": "execute_result"
    }
   ],
   "source": [
    "X_train, y_train"
   ],
   "metadata": {
    "collapsed": false,
    "ExecuteTime": {
     "end_time": "2023-10-02T08:14:49.699712620Z",
     "start_time": "2023-10-02T08:14:49.567042594Z"
    }
   },
   "id": "609978110d94b6ae"
  },
  {
   "cell_type": "code",
   "execution_count": 80,
   "outputs": [],
   "source": [
    "# Import required libraries\n",
    "import tensorflow as tf\n",
    "import pandas as pd\n",
    "import matplotlib.pyplot as plt"
   ],
   "metadata": {
    "collapsed": false,
    "ExecuteTime": {
     "end_time": "2023-10-02T08:18:11.835825607Z",
     "start_time": "2023-10-02T08:18:11.717157769Z"
    }
   },
   "id": "5f6b5badf10907a9"
  },
  {
   "cell_type": "code",
   "execution_count": 81,
   "outputs": [
    {
     "data": {
      "text/plain": "      age     sex     bmi  children smoker     region      charges\n0      19  female  27.900         0    yes  southwest  16884.92400\n1      18    male  33.770         1     no  southeast   1725.55230\n2      28    male  33.000         3     no  southeast   4449.46200\n3      33    male  22.705         0     no  northwest  21984.47061\n4      32    male  28.880         0     no  northwest   3866.85520\n...   ...     ...     ...       ...    ...        ...          ...\n1333   50    male  30.970         3     no  northwest  10600.54830\n1334   18  female  31.920         0     no  northeast   2205.98080\n1335   18  female  36.850         0     no  southeast   1629.83350\n1336   21  female  25.800         0     no  southwest   2007.94500\n1337   61  female  29.070         0    yes  northwest  29141.36030\n\n[1338 rows x 7 columns]",
      "text/html": "<div>\n<style scoped>\n    .dataframe tbody tr th:only-of-type {\n        vertical-align: middle;\n    }\n\n    .dataframe tbody tr th {\n        vertical-align: top;\n    }\n\n    .dataframe thead th {\n        text-align: right;\n    }\n</style>\n<table border=\"1\" class=\"dataframe\">\n  <thead>\n    <tr style=\"text-align: right;\">\n      <th></th>\n      <th>age</th>\n      <th>sex</th>\n      <th>bmi</th>\n      <th>children</th>\n      <th>smoker</th>\n      <th>region</th>\n      <th>charges</th>\n    </tr>\n  </thead>\n  <tbody>\n    <tr>\n      <th>0</th>\n      <td>19</td>\n      <td>female</td>\n      <td>27.900</td>\n      <td>0</td>\n      <td>yes</td>\n      <td>southwest</td>\n      <td>16884.92400</td>\n    </tr>\n    <tr>\n      <th>1</th>\n      <td>18</td>\n      <td>male</td>\n      <td>33.770</td>\n      <td>1</td>\n      <td>no</td>\n      <td>southeast</td>\n      <td>1725.55230</td>\n    </tr>\n    <tr>\n      <th>2</th>\n      <td>28</td>\n      <td>male</td>\n      <td>33.000</td>\n      <td>3</td>\n      <td>no</td>\n      <td>southeast</td>\n      <td>4449.46200</td>\n    </tr>\n    <tr>\n      <th>3</th>\n      <td>33</td>\n      <td>male</td>\n      <td>22.705</td>\n      <td>0</td>\n      <td>no</td>\n      <td>northwest</td>\n      <td>21984.47061</td>\n    </tr>\n    <tr>\n      <th>4</th>\n      <td>32</td>\n      <td>male</td>\n      <td>28.880</td>\n      <td>0</td>\n      <td>no</td>\n      <td>northwest</td>\n      <td>3866.85520</td>\n    </tr>\n    <tr>\n      <th>...</th>\n      <td>...</td>\n      <td>...</td>\n      <td>...</td>\n      <td>...</td>\n      <td>...</td>\n      <td>...</td>\n      <td>...</td>\n    </tr>\n    <tr>\n      <th>1333</th>\n      <td>50</td>\n      <td>male</td>\n      <td>30.970</td>\n      <td>3</td>\n      <td>no</td>\n      <td>northwest</td>\n      <td>10600.54830</td>\n    </tr>\n    <tr>\n      <th>1334</th>\n      <td>18</td>\n      <td>female</td>\n      <td>31.920</td>\n      <td>0</td>\n      <td>no</td>\n      <td>northeast</td>\n      <td>2205.98080</td>\n    </tr>\n    <tr>\n      <th>1335</th>\n      <td>18</td>\n      <td>female</td>\n      <td>36.850</td>\n      <td>0</td>\n      <td>no</td>\n      <td>southeast</td>\n      <td>1629.83350</td>\n    </tr>\n    <tr>\n      <th>1336</th>\n      <td>21</td>\n      <td>female</td>\n      <td>25.800</td>\n      <td>0</td>\n      <td>no</td>\n      <td>southwest</td>\n      <td>2007.94500</td>\n    </tr>\n    <tr>\n      <th>1337</th>\n      <td>61</td>\n      <td>female</td>\n      <td>29.070</td>\n      <td>0</td>\n      <td>yes</td>\n      <td>northwest</td>\n      <td>29141.36030</td>\n    </tr>\n  </tbody>\n</table>\n<p>1338 rows × 7 columns</p>\n</div>"
     },
     "execution_count": 81,
     "metadata": {},
     "output_type": "execute_result"
    }
   ],
   "source": [
    "# Read in the insurance dataset\n",
    "insurance = pd.read_csv('Dataset/insurance.csv')\n",
    "insurance"
   ],
   "metadata": {
    "collapsed": false,
    "ExecuteTime": {
     "end_time": "2023-10-02T08:18:58.858584657Z",
     "start_time": "2023-10-02T08:18:58.742027505Z"
    }
   },
   "id": "40cfa82b64bd5417"
  },
  {
   "cell_type": "code",
   "execution_count": 82,
   "outputs": [
    {
     "data": {
      "text/plain": "0       female\n1         male\n2         male\n3         male\n4         male\n         ...  \n1333      male\n1334    female\n1335    female\n1336    female\n1337    female\nName: sex, Length: 1338, dtype: object"
     },
     "execution_count": 82,
     "metadata": {},
     "output_type": "execute_result"
    }
   ],
   "source": [
    "insurance[\"sex\"]"
   ],
   "metadata": {
    "collapsed": false,
    "ExecuteTime": {
     "end_time": "2023-10-02T08:21:56.972478232Z",
     "start_time": "2023-10-02T08:21:56.836703360Z"
    }
   },
   "id": "2968facf3ae0337d"
  },
  {
   "cell_type": "code",
   "execution_count": 87,
   "outputs": [
    {
     "data": {
      "text/plain": "   age     bmi  children      charges  sex_female  sex_male  smoker_no  \\\n0   19  27.900         0  16884.92400           1         0          0   \n1   18  33.770         1   1725.55230           0         1          1   \n2   28  33.000         3   4449.46200           0         1          1   \n3   33  22.705         0  21984.47061           0         1          1   \n4   32  28.880         0   3866.85520           0         1          1   \n\n   smoker_yes  region_northeast  region_northwest  region_southeast  \\\n0           1                 0                 0                 0   \n1           0                 0                 0                 1   \n2           0                 0                 0                 1   \n3           0                 0                 1                 0   \n4           0                 0                 1                 0   \n\n   region_southwest  \n0                 1  \n1                 0  \n2                 0  \n3                 0  \n4                 0  ",
      "text/html": "<div>\n<style scoped>\n    .dataframe tbody tr th:only-of-type {\n        vertical-align: middle;\n    }\n\n    .dataframe tbody tr th {\n        vertical-align: top;\n    }\n\n    .dataframe thead th {\n        text-align: right;\n    }\n</style>\n<table border=\"1\" class=\"dataframe\">\n  <thead>\n    <tr style=\"text-align: right;\">\n      <th></th>\n      <th>age</th>\n      <th>bmi</th>\n      <th>children</th>\n      <th>charges</th>\n      <th>sex_female</th>\n      <th>sex_male</th>\n      <th>smoker_no</th>\n      <th>smoker_yes</th>\n      <th>region_northeast</th>\n      <th>region_northwest</th>\n      <th>region_southeast</th>\n      <th>region_southwest</th>\n    </tr>\n  </thead>\n  <tbody>\n    <tr>\n      <th>0</th>\n      <td>19</td>\n      <td>27.900</td>\n      <td>0</td>\n      <td>16884.92400</td>\n      <td>1</td>\n      <td>0</td>\n      <td>0</td>\n      <td>1</td>\n      <td>0</td>\n      <td>0</td>\n      <td>0</td>\n      <td>1</td>\n    </tr>\n    <tr>\n      <th>1</th>\n      <td>18</td>\n      <td>33.770</td>\n      <td>1</td>\n      <td>1725.55230</td>\n      <td>0</td>\n      <td>1</td>\n      <td>1</td>\n      <td>0</td>\n      <td>0</td>\n      <td>0</td>\n      <td>1</td>\n      <td>0</td>\n    </tr>\n    <tr>\n      <th>2</th>\n      <td>28</td>\n      <td>33.000</td>\n      <td>3</td>\n      <td>4449.46200</td>\n      <td>0</td>\n      <td>1</td>\n      <td>1</td>\n      <td>0</td>\n      <td>0</td>\n      <td>0</td>\n      <td>1</td>\n      <td>0</td>\n    </tr>\n    <tr>\n      <th>3</th>\n      <td>33</td>\n      <td>22.705</td>\n      <td>0</td>\n      <td>21984.47061</td>\n      <td>0</td>\n      <td>1</td>\n      <td>1</td>\n      <td>0</td>\n      <td>0</td>\n      <td>1</td>\n      <td>0</td>\n      <td>0</td>\n    </tr>\n    <tr>\n      <th>4</th>\n      <td>32</td>\n      <td>28.880</td>\n      <td>0</td>\n      <td>3866.85520</td>\n      <td>0</td>\n      <td>1</td>\n      <td>1</td>\n      <td>0</td>\n      <td>0</td>\n      <td>1</td>\n      <td>0</td>\n      <td>0</td>\n    </tr>\n  </tbody>\n</table>\n</div>"
     },
     "execution_count": 87,
     "metadata": {},
     "output_type": "execute_result"
    }
   ],
   "source": [
    "# Let's try one-hot encode our DataFrame so it's all numbers\n",
    "insurance_one_hot = pd.get_dummies(insurance, dtype=int)\n",
    "insurance_one_hot.head()"
   ],
   "metadata": {
    "collapsed": false,
    "ExecuteTime": {
     "end_time": "2023-10-02T08:32:40.071887133Z",
     "start_time": "2023-10-02T08:32:39.949422890Z"
    }
   },
   "id": "1cd3a133a4b6f4e1"
  },
  {
   "cell_type": "code",
   "execution_count": null,
   "outputs": [],
   "source": [],
   "metadata": {
    "collapsed": false
   },
   "id": "ec14db08cf1f038e"
  }
 ],
 "metadata": {
  "kernelspec": {
   "name": "python3",
   "language": "python",
   "display_name": "Python 3 (ipykernel)"
  },
  "language_info": {
   "codemirror_mode": {
    "name": "ipython",
    "version": 2
   },
   "file_extension": ".py",
   "mimetype": "text/x-python",
   "name": "python",
   "nbconvert_exporter": "python",
   "pygments_lexer": "ipython2",
   "version": "2.7.6"
  },
  "colab": {
   "provenance": [],
   "gpuType": "T4"
  },
  "accelerator": "GPU"
 },
 "nbformat": 4,
 "nbformat_minor": 5
}
