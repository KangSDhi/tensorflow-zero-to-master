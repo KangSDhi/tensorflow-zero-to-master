{
 "cells": [
  {
   "cell_type": "markdown",
   "source": [
    "# Introduction to Regression with Neural Networks in TensorFlow\n",
    "\n",
    "There are many definitions for regression problem but in our case, we're going to simplify it: predicting a numerical variable based on some other combination of variables, even shorther... predicting a number."
   ],
   "metadata": {
    "collapsed": false,
    "id": "6ebb1111b9c93791"
   },
   "id": "6ebb1111b9c93791"
  },
  {
   "cell_type": "code",
   "execution_count": 1,
   "outputs": [
    {
     "name": "stderr",
     "output_type": "stream",
     "text": [
      "2023-12-29 20:18:52.864066: I tensorflow/core/platform/cpu_feature_guard.cc:182] This TensorFlow binary is optimized to use available CPU instructions in performance-critical operations.\n",
      "To enable the following instructions: SSE4.1 SSE4.2 AVX AVX2 FMA, in other operations, rebuild TensorFlow with the appropriate compiler flags.\n"
     ]
    },
    {
     "name": "stdout",
     "output_type": "stream",
     "text": [
      "2.12.0\n"
     ]
    }
   ],
   "source": [
    "# Import TensorFlow\n",
    "import tensorflow as tf\n",
    "print(tf.__version__)"
   ],
   "metadata": {
    "colab": {
     "base_uri": "https://localhost:8080/"
    },
    "id": "d4e5f09eca05ca59",
    "executionInfo": {
     "status": "ok",
     "timestamp": 1696076685065,
     "user_tz": -420,
     "elapsed": 6829,
     "user": {
      "displayName": "kang sigit",
      "userId": "15887135570512197739"
     }
    },
    "outputId": "8fac66e9-5ff3-47cc-a5a1-950e6758ea44",
    "ExecuteTime": {
     "end_time": "2023-12-29T13:18:55.359790110Z",
     "start_time": "2023-12-29T13:18:52.491198859Z"
    }
   },
   "id": "d4e5f09eca05ca59"
  },
  {
   "cell_type": "markdown",
   "source": [
    "## Creating data to view and fit"
   ],
   "metadata": {
    "collapsed": false,
    "id": "8407fe85818d8aac"
   },
   "id": "8407fe85818d8aac"
  },
  {
   "cell_type": "code",
   "execution_count": 2,
   "outputs": [
    {
     "data": {
      "text/plain": "<matplotlib.collections.PathCollection at 0x7fda1d1db2d0>"
     },
     "execution_count": 2,
     "metadata": {},
     "output_type": "execute_result"
    },
    {
     "data": {
      "text/plain": "<Figure size 640x480 with 1 Axes>",
      "image/png": "[encoded data removed]"
     },
     "metadata": {},
     "output_type": "display_data"
    }
   ],
   "source": [
    "import numpy as np\n",
    "import matplotlib.pyplot as plt\n",
    "\n",
    "# Create features\n",
    "X = np.array([-7.0, -4.0, -1.0, 2.0, 5.0, 8.0, 11.0, 14.0])\n",
    "\n",
    "# Create labels\n",
    "y = np.array([3.0, 6.0, 9.0, 12.0, 15.0, 18.0, 21.0, 24.0])\n",
    "\n",
    "# Visualize it\n",
    "plt.scatter(X, y)"
   ],
   "metadata": {
    "colab": {
     "base_uri": "https://localhost:8080/",
     "height": 453
    },
    "id": "135387d48040aa65",
    "executionInfo": {
     "status": "ok",
     "timestamp": 1696076685066,
     "user_tz": -420,
     "elapsed": 7,
     "user": {
      "displayName": "kang sigit",
      "userId": "15887135570512197739"
     }
    },
    "outputId": "4c919eb6-14cb-4524-bef2-d3a95e3bc6a2",
    "ExecuteTime": {
     "end_time": "2023-12-29T07:05:14.093048158Z",
     "start_time": "2023-12-29T07:05:13.190075377Z"
    }
   },
   "id": "135387d48040aa65"
  },
  {
   "cell_type": "code",
   "execution_count": 3,
   "outputs": [
    {
     "data": {
      "text/plain": "array([ True,  True,  True,  True,  True,  True,  True,  True])"
     },
     "execution_count": 3,
     "metadata": {},
     "output_type": "execute_result"
    }
   ],
   "source": [
    "y == X + 10"
   ],
   "metadata": {
    "colab": {
     "base_uri": "https://localhost:8080/"
    },
    "id": "35d94d5b061cfa67",
    "executionInfo": {
     "status": "ok",
     "timestamp": 1696076685862,
     "user_tz": -420,
     "elapsed": 801,
     "user": {
      "displayName": "kang sigit",
      "userId": "15887135570512197739"
     }
    },
    "outputId": "fd62bc5a-e1d3-41a5-9d24-79c48cbf489f",
    "ExecuteTime": {
     "end_time": "2023-12-29T07:05:15.231858283Z",
     "start_time": "2023-12-29T07:05:15.187332487Z"
    }
   },
   "id": "35d94d5b061cfa67"
  },
  {
   "cell_type": "markdown",
   "source": [
    "## Input and output shapes"
   ],
   "metadata": {
    "collapsed": false,
    "id": "420b161819373fbe"
   },
   "id": "420b161819373fbe"
  },
  {
   "cell_type": "code",
   "execution_count": 4,
   "outputs": [
    {
     "name": "stderr",
     "output_type": "stream",
     "text": [
      "2023-12-29 14:05:17.624074: I tensorflow/core/common_runtime/process_util.cc:146] Creating new thread pool with default inter op setting: 2. Tune using inter_op_parallelism_threads for best performance.\n"
     ]
    },
    {
     "data": {
      "text/plain": "(<tf.Tensor: shape=(3,), dtype=string, numpy=array([b'bedroom', b'bathroom', b'garage'], dtype=object)>,\n <tf.Tensor: shape=(1,), dtype=int32, numpy=array([939700], dtype=int32)>)"
     },
     "execution_count": 4,
     "metadata": {},
     "output_type": "execute_result"
    }
   ],
   "source": [
    "# Create a demo tensor for our housing price prediction problem\n",
    "house_info = tf.constant([\"bedroom\", \"bathroom\", \"garage\"])\n",
    "house_price = tf.constant([939700])\n",
    "house_info, house_price"
   ],
   "metadata": {
    "colab": {
     "base_uri": "https://localhost:8080/"
    },
    "id": "f6848417caa4070a",
    "executionInfo": {
     "status": "ok",
     "timestamp": 1696076689508,
     "user_tz": -420,
     "elapsed": 3647,
     "user": {
      "displayName": "kang sigit",
      "userId": "15887135570512197739"
     }
    },
    "outputId": "17142d0f-133c-473d-c2fd-96a0713c7db2",
    "ExecuteTime": {
     "end_time": "2023-12-29T07:05:17.710320352Z",
     "start_time": "2023-12-29T07:05:17.623400786Z"
    }
   },
   "id": "f6848417caa4070a"
  },
  {
   "cell_type": "code",
   "execution_count": 5,
   "outputs": [
    {
     "data": {
      "text/plain": "(-7.0, 3.0)"
     },
     "execution_count": 5,
     "metadata": {},
     "output_type": "execute_result"
    }
   ],
   "source": [
    "X[0], y[0]"
   ],
   "metadata": {
    "colab": {
     "base_uri": "https://localhost:8080/"
    },
    "id": "2af8bcb603f84f47",
    "executionInfo": {
     "status": "ok",
     "timestamp": 1696076689508,
     "user_tz": -420,
     "elapsed": 37,
     "user": {
      "displayName": "kang sigit",
      "userId": "15887135570512197739"
     }
    },
    "outputId": "c3a03743-3370-4244-8d69-6afbcb61deb7",
    "ExecuteTime": {
     "end_time": "2023-12-29T07:05:18.572788405Z",
     "start_time": "2023-12-29T07:05:18.528443331Z"
    }
   },
   "id": "2af8bcb603f84f47"
  },
  {
   "cell_type": "code",
   "execution_count": 6,
   "outputs": [
    {
     "data": {
      "text/plain": "(-4.0, 6.0)"
     },
     "execution_count": 6,
     "metadata": {},
     "output_type": "execute_result"
    }
   ],
   "source": [
    "X[1], y[1]"
   ],
   "metadata": {
    "colab": {
     "base_uri": "https://localhost:8080/"
    },
    "id": "abfb4fe2f54c9ccd",
    "executionInfo": {
     "status": "ok",
     "timestamp": 1696076689508,
     "user_tz": -420,
     "elapsed": 29,
     "user": {
      "displayName": "kang sigit",
      "userId": "15887135570512197739"
     }
    },
    "outputId": "7bfcf3da-00f5-421c-ae7e-d5586e94b2fc",
    "ExecuteTime": {
     "end_time": "2023-12-29T07:05:19.137587034Z",
     "start_time": "2023-12-29T07:05:19.096590938Z"
    }
   },
   "id": "abfb4fe2f54c9ccd"
  },
  {
   "cell_type": "code",
   "execution_count": 7,
   "outputs": [
    {
     "data": {
      "text/plain": "((), ())"
     },
     "execution_count": 7,
     "metadata": {},
     "output_type": "execute_result"
    }
   ],
   "source": [
    "input_shape = X[0].shape\n",
    "output_shape = y[0].shape\n",
    "input_shape, output_shape"
   ],
   "metadata": {
    "colab": {
     "base_uri": "https://localhost:8080/"
    },
    "id": "7ae73a2555815544",
    "executionInfo": {
     "status": "ok",
     "timestamp": 1696076689508,
     "user_tz": -420,
     "elapsed": 23,
     "user": {
      "displayName": "kang sigit",
      "userId": "15887135570512197739"
     }
    },
    "outputId": "c337f811-f992-417d-dba7-d3ccd3ced685",
    "ExecuteTime": {
     "end_time": "2023-12-29T07:05:19.755801762Z",
     "start_time": "2023-12-29T07:05:19.703785796Z"
    }
   },
   "id": "7ae73a2555815544"
  },
  {
   "cell_type": "code",
   "execution_count": 8,
   "outputs": [
    {
     "data": {
      "text/plain": "0"
     },
     "execution_count": 8,
     "metadata": {},
     "output_type": "execute_result"
    }
   ],
   "source": [
    "X[0].ndim"
   ],
   "metadata": {
    "colab": {
     "base_uri": "https://localhost:8080/"
    },
    "id": "8a2ef4c080258f67",
    "executionInfo": {
     "status": "ok",
     "timestamp": 1696076689508,
     "user_tz": -420,
     "elapsed": 17,
     "user": {
      "displayName": "kang sigit",
      "userId": "15887135570512197739"
     }
    },
    "outputId": "e61e1f1e-abc2-491b-9b2c-7f68a7adfc6c",
    "ExecuteTime": {
     "end_time": "2023-12-29T07:05:20.563406048Z",
     "start_time": "2023-12-29T07:05:20.517458758Z"
    }
   },
   "id": "8a2ef4c080258f67"
  },
  {
   "cell_type": "code",
   "execution_count": 9,
   "outputs": [
    {
     "data": {
      "text/plain": "(-7.0, 3.0)"
     },
     "execution_count": 9,
     "metadata": {},
     "output_type": "execute_result"
    }
   ],
   "source": [
    "X[0], y[0]"
   ],
   "metadata": {
    "colab": {
     "base_uri": "https://localhost:8080/"
    },
    "id": "8dfe9ccbe865992c",
    "executionInfo": {
     "status": "ok",
     "timestamp": 1696076689509,
     "user_tz": -420,
     "elapsed": 14,
     "user": {
      "displayName": "kang sigit",
      "userId": "15887135570512197739"
     }
    },
    "outputId": "d24feca7-e1d3-4194-e935-2ed8a9d36ff4",
    "ExecuteTime": {
     "end_time": "2023-12-29T07:05:21.395650525Z",
     "start_time": "2023-12-29T07:05:21.341788186Z"
    }
   },
   "id": "8dfe9ccbe865992c"
  },
  {
   "cell_type": "code",
   "execution_count": 10,
   "outputs": [
    {
     "data": {
      "text/plain": "(<tf.Tensor: shape=(8,), dtype=float32, numpy=array([-7., -4., -1.,  2.,  5.,  8., 11., 14.], dtype=float32)>,\n <tf.Tensor: shape=(8,), dtype=float32, numpy=array([ 3.,  6.,  9., 12., 15., 18., 21., 24.], dtype=float32)>)"
     },
     "execution_count": 10,
     "metadata": {},
     "output_type": "execute_result"
    }
   ],
   "source": [
    "# Turn our NumPy arrays into tensors with dtype float32\n",
    "X = tf.cast(tf.constant(X), dtype=tf.float32)\n",
    "y = tf.cast(tf.constant(y), dtype=tf.float32)\n",
    "X, y"
   ],
   "metadata": {
    "colab": {
     "base_uri": "https://localhost:8080/"
    },
    "id": "77e963d826e1c5ee",
    "executionInfo": {
     "status": "ok",
     "timestamp": 1696076689509,
     "user_tz": -420,
     "elapsed": 12,
     "user": {
      "displayName": "kang sigit",
      "userId": "15887135570512197739"
     }
    },
    "outputId": "b37e8890-b951-42d6-dd98-70b7876abe48",
    "ExecuteTime": {
     "end_time": "2023-12-29T07:05:22.692195061Z",
     "start_time": "2023-12-29T07:05:22.656545057Z"
    }
   },
   "id": "77e963d826e1c5ee"
  },
  {
   "cell_type": "code",
   "execution_count": 11,
   "outputs": [
    {
     "data": {
      "text/plain": "(TensorShape([]), TensorShape([]))"
     },
     "execution_count": 11,
     "metadata": {},
     "output_type": "execute_result"
    }
   ],
   "source": [
    "input_shape = X[0].shape\n",
    "output_shape = y[0].shape\n",
    "input_shape, output_shape"
   ],
   "metadata": {
    "colab": {
     "base_uri": "https://localhost:8080/"
    },
    "id": "14e27954e5032236",
    "executionInfo": {
     "status": "ok",
     "timestamp": 1696076689509,
     "user_tz": -420,
     "elapsed": 9,
     "user": {
      "displayName": "kang sigit",
      "userId": "15887135570512197739"
     }
    },
    "outputId": "56cd997f-b119-47d1-a2ec-58393a29ffe8",
    "ExecuteTime": {
     "end_time": "2023-12-29T07:05:23.264430540Z",
     "start_time": "2023-12-29T07:05:23.217132470Z"
    }
   },
   "id": "14e27954e5032236"
  },
  {
   "cell_type": "code",
   "execution_count": 12,
   "outputs": [
    {
     "data": {
      "text/plain": "<matplotlib.collections.PathCollection at 0x7fda1d353bd0>"
     },
     "execution_count": 12,
     "metadata": {},
     "output_type": "execute_result"
    },
    {
     "data": {
      "text/plain": "<Figure size 640x480 with 1 Axes>",
      "image/png": "[encoded data removed]"
     },
     "metadata": {},
     "output_type": "display_data"
    }
   ],
   "source": [
    "plt.scatter(X, y)"
   ],
   "metadata": {
    "colab": {
     "base_uri": "https://localhost:8080/",
     "height": 453
    },
    "id": "e697df78c938eedc",
    "executionInfo": {
     "status": "ok",
     "timestamp": 1696076690202,
     "user_tz": -420,
     "elapsed": 700,
     "user": {
      "displayName": "kang sigit",
      "userId": "15887135570512197739"
     }
    },
    "outputId": "67448415-bb04-4f88-a157-eed404725c38",
    "ExecuteTime": {
     "end_time": "2023-12-29T07:05:24.092154297Z",
     "start_time": "2023-12-29T07:05:23.956108423Z"
    }
   },
   "id": "e697df78c938eedc"
  },
  {
   "cell_type": "markdown",
   "source": [
    "## Steps in modeling with TensorFlow\n",
    "\n",
    "1. **Creating a model** - define the input and output layers, as well as the hidden layers of a deep learning model.\n",
    "2. **Compiling a model** - define the loss function (in other words, the function which tells our model how wrong it is) and the optimizer (tells our model how to improve the patterns its learning) and evaluation metrics (what we can use to interpret the performance our model).\n",
    "3. **Fitting a model** - letting the model try to find patterns between X & y (features and labels)."
   ],
   "metadata": {
    "collapsed": false,
    "id": "e9796f121f9b42fe"
   },
   "id": "e9796f121f9b42fe"
  },
  {
   "cell_type": "code",
   "execution_count": 13,
   "outputs": [],
   "source": [
    "# # Optionally, the first layer can receive an `input_shape` argument:\n",
    "# model = tf.keras.Sequential()\n",
    "# model.add(tf.keras.layers.Dense(8, input_shape=(16,)))\n",
    "# # Afterwards, we do automatic shape inference:\n",
    "# model.add(tf.keras.layers.Dense(4))\n",
    "#\n",
    "# model = tf.keras.Sequential()\n",
    "# model.add(tf.keras.layers.Dense(8, input_shape=(16, )))\n",
    "# ...\n",
    "#\n",
    "# model = tf.keras.Sequential()\n",
    "# model.add(tf.keras.layers.Dense(1))"
   ],
   "metadata": {
    "id": "e65f811a3ad5e9e1",
    "executionInfo": {
     "status": "ok",
     "timestamp": 1696076690202,
     "user_tz": -420,
     "elapsed": 6,
     "user": {
      "displayName": "kang sigit",
      "userId": "15887135570512197739"
     }
    },
    "ExecuteTime": {
     "end_time": "2023-12-29T07:05:25.297838297Z",
     "start_time": "2023-12-29T07:05:25.260302445Z"
    }
   },
   "id": "e65f811a3ad5e9e1"
  },
  {
   "cell_type": "code",
   "execution_count": 14,
   "outputs": [
    {
     "name": "stdout",
     "output_type": "stream",
     "text": [
      "Epoch 1/5\n",
      "1/1 [==============================] - 0s 373ms/step - loss: 11.7812 - mae: 11.7812\n",
      "Epoch 2/5\n",
      "1/1 [==============================] - 0s 4ms/step - loss: 11.6487 - mae: 11.6487\n",
      "Epoch 3/5\n",
      "1/1 [==============================] - 0s 4ms/step - loss: 11.5162 - mae: 11.5162\n",
      "Epoch 4/5\n",
      "1/1 [==============================] - 0s 4ms/step - loss: 11.3837 - mae: 11.3837\n",
      "Epoch 5/5\n",
      "1/1 [==============================] - 0s 5ms/step - loss: 11.2512 - mae: 11.2512\n"
     ]
    },
    {
     "data": {
      "text/plain": "<keras.callbacks.History at 0x7fda1d211610>"
     },
     "execution_count": 14,
     "metadata": {},
     "output_type": "execute_result"
    }
   ],
   "source": [
    "# Set random seed\n",
    "tf.random.set_seed(42)\n",
    "\n",
    "# 1. Create a model using the Sequential API\n",
    "model = tf.keras.Sequential([\n",
    "    tf.keras.layers.Dense(1)\n",
    "])\n",
    "\n",
    "# 2. Compile the model\n",
    "model.compile(loss=tf.keras.losses.mae, # mae is short for mean absolute error\n",
    "              optimizer=tf.keras.optimizers.SGD(), # sgd is short for stochstic gradient descent\n",
    "              metrics=[\"mae\"])\n",
    "\n",
    "# 3. Fit the model\n",
    "# model.fit(X, y, epochs=5) # This line will error if you're running TensorFlow 2.7.0+!\n",
    "model.fit(tf.expand_dims(X, axis=-1), y, epochs=5)"
   ],
   "metadata": {
    "colab": {
     "base_uri": "https://localhost:8080/"
    },
    "id": "cc71e5f4aac7d8a6",
    "executionInfo": {
     "status": "ok",
     "timestamp": 1696076701552,
     "user_tz": -420,
     "elapsed": 11356,
     "user": {
      "displayName": "kang sigit",
      "userId": "15887135570512197739"
     }
    },
    "outputId": "9fd356b1-7413-439f-c3d2-b533cbde237b",
    "ExecuteTime": {
     "end_time": "2023-12-29T07:05:26.511038644Z",
     "start_time": "2023-12-29T07:05:25.914852897Z"
    }
   },
   "id": "cc71e5f4aac7d8a6"
  },
  {
   "cell_type": "code",
   "execution_count": 15,
   "outputs": [
    {
     "data": {
      "text/plain": "(<tf.Tensor: shape=(8,), dtype=float32, numpy=array([-7., -4., -1.,  2.,  5.,  8., 11., 14.], dtype=float32)>,\n <tf.Tensor: shape=(8,), dtype=float32, numpy=array([ 3.,  6.,  9., 12., 15., 18., 21., 24.], dtype=float32)>)"
     },
     "execution_count": 15,
     "metadata": {},
     "output_type": "execute_result"
    }
   ],
   "source": [
    "# Check out X and y\n",
    "X, y"
   ],
   "metadata": {
    "colab": {
     "base_uri": "https://localhost:8080/"
    },
    "id": "b1b4a1c994642378",
    "executionInfo": {
     "status": "ok",
     "timestamp": 1696076701553,
     "user_tz": -420,
     "elapsed": 7,
     "user": {
      "displayName": "kang sigit",
      "userId": "15887135570512197739"
     }
    },
    "outputId": "aee68bdb-665e-4b01-9458-935836d47971",
    "ExecuteTime": {
     "end_time": "2023-12-29T07:05:30.442056502Z",
     "start_time": "2023-12-29T07:05:30.397111645Z"
    }
   },
   "id": "b1b4a1c994642378"
  },
  {
   "cell_type": "code",
   "execution_count": 16,
   "outputs": [
    {
     "name": "stdout",
     "output_type": "stream",
     "text": [
      "1/1 [==============================] - 0s 87ms/step\n"
     ]
    },
    {
     "data": {
      "text/plain": "array([[11.373483]], dtype=float32)"
     },
     "execution_count": 16,
     "metadata": {},
     "output_type": "execute_result"
    }
   ],
   "source": [
    "# Try and make a prediction using our model\n",
    "y_pred = model.predict([17.0])\n",
    "y_pred"
   ],
   "metadata": {
    "colab": {
     "base_uri": "https://localhost:8080/"
    },
    "id": "6c9feaa2ed2266c8",
    "executionInfo": {
     "status": "ok",
     "timestamp": 1696076702180,
     "user_tz": -420,
     "elapsed": 631,
     "user": {
      "displayName": "kang sigit",
      "userId": "15887135570512197739"
     }
    },
    "outputId": "2fe08450-005e-44df-934c-53ebd9df5b33",
    "ExecuteTime": {
     "end_time": "2023-12-29T07:05:31.654724864Z",
     "start_time": "2023-12-29T07:05:31.513187908Z"
    }
   },
   "id": "6c9feaa2ed2266c8"
  },
  {
   "cell_type": "code",
   "execution_count": 17,
   "outputs": [
    {
     "data": {
      "text/plain": "array([[20.373482]], dtype=float32)"
     },
     "execution_count": 17,
     "metadata": {},
     "output_type": "execute_result"
    }
   ],
   "source": [
    "y_pred + 9"
   ],
   "metadata": {
    "colab": {
     "base_uri": "https://localhost:8080/"
    },
    "id": "6ac8363b8e315b33",
    "executionInfo": {
     "status": "ok",
     "timestamp": 1696076702181,
     "user_tz": -420,
     "elapsed": 12,
     "user": {
      "displayName": "kang sigit",
      "userId": "15887135570512197739"
     }
    },
    "outputId": "c034514e-5d78-42d8-ccc3-9ad275e6357a",
    "ExecuteTime": {
     "end_time": "2023-12-29T07:05:33.033348375Z",
     "start_time": "2023-12-29T07:05:32.949378599Z"
    }
   },
   "id": "6ac8363b8e315b33"
  },
  {
   "cell_type": "markdown",
   "source": [
    "## Improving our model\n",
    "\n",
    "We can improve our model, by altering the steps we took to create a model.\n",
    "\n",
    "1. **Creating a model** - here we might add more layers, increase the number of hidden units (all called neurons) within each of the hidden layers, change the activation function of each layer.\n",
    "2. **Compiling a model** - here we might change the optimization function or perhaps the **learning rate** of the optimization function.\n",
    "3. **Fitting a model** - here we might fit a model for more **epochs** (leave it training for longer) or on more data (give the model more examples to learn from)."
   ],
   "metadata": {
    "collapsed": false,
    "id": "ee325f78f13dbc6f"
   },
   "id": "ee325f78f13dbc6f"
  },
  {
   "cell_type": "code",
   "execution_count": 18,
   "outputs": [
    {
     "name": "stdout",
     "output_type": "stream",
     "text": [
      "Epoch 1/100\n",
      "1/1 [==============================] - 0s 278ms/step - loss: 19.3867 - mae: 19.3867\n",
      "Epoch 2/100\n",
      "1/1 [==============================] - 0s 3ms/step - loss: 19.1055 - mae: 19.1055\n",
      "Epoch 3/100\n",
      "1/1 [==============================] - 0s 3ms/step - loss: 18.8242 - mae: 18.8242\n",
      "Epoch 4/100\n",
      "1/1 [==============================] - 0s 3ms/step - loss: 18.5430 - mae: 18.5430\n",
      "Epoch 5/100\n",
      "1/1 [==============================] - 0s 5ms/step - loss: 18.2617 - mae: 18.2617\n",
      "Epoch 6/100\n",
      "1/1 [==============================] - 0s 4ms/step - loss: 17.9805 - mae: 17.9805\n",
      "Epoch 7/100\n",
      "1/1 [==============================] - 0s 4ms/step - loss: 17.6992 - mae: 17.6992\n",
      "Epoch 8/100\n",
      "1/1 [==============================] - 0s 3ms/step - loss: 17.4180 - mae: 17.4180\n",
      "Epoch 9/100\n",
      "1/1 [==============================] - 0s 4ms/step - loss: 17.1367 - mae: 17.1367\n",
      "Epoch 10/100\n",
      "1/1 [==============================] - 0s 4ms/step - loss: 16.8555 - mae: 16.8555\n",
      "Epoch 11/100\n",
      "1/1 [==============================] - 0s 5ms/step - loss: 16.5742 - mae: 16.5742\n",
      "Epoch 12/100\n",
      "1/1 [==============================] - 0s 5ms/step - loss: 16.2930 - mae: 16.2930\n",
      "Epoch 13/100\n",
      "1/1 [==============================] - 0s 5ms/step - loss: 16.0117 - mae: 16.0117\n",
      "Epoch 14/100\n",
      "1/1 [==============================] - 0s 5ms/step - loss: 15.7305 - mae: 15.7305\n",
      "Epoch 15/100\n",
      "1/1 [==============================] - 0s 5ms/step - loss: 15.4492 - mae: 15.4492\n",
      "Epoch 16/100\n",
      "1/1 [==============================] - 0s 5ms/step - loss: 15.1680 - mae: 15.1680\n",
      "Epoch 17/100\n",
      "1/1 [==============================] - 0s 6ms/step - loss: 14.8867 - mae: 14.8867\n",
      "Epoch 18/100\n",
      "1/1 [==============================] - 0s 7ms/step - loss: 14.6732 - mae: 14.6732\n",
      "Epoch 19/100\n",
      "1/1 [==============================] - 0s 5ms/step - loss: 14.5407 - mae: 14.5407\n",
      "Epoch 20/100\n",
      "1/1 [==============================] - 0s 5ms/step - loss: 14.4082 - mae: 14.4082\n",
      "Epoch 21/100\n",
      "1/1 [==============================] - 0s 5ms/step - loss: 14.2757 - mae: 14.2757\n",
      "Epoch 22/100\n",
      "1/1 [==============================] - 0s 5ms/step - loss: 14.1432 - mae: 14.1432\n",
      "Epoch 23/100\n",
      "1/1 [==============================] - 0s 6ms/step - loss: 14.0107 - mae: 14.0107\n",
      "Epoch 24/100\n",
      "1/1 [==============================] - 0s 5ms/step - loss: 13.8782 - mae: 13.8782\n",
      "Epoch 25/100\n",
      "1/1 [==============================] - 0s 6ms/step - loss: 13.7457 - mae: 13.7457\n",
      "Epoch 26/100\n",
      "1/1 [==============================] - 0s 6ms/step - loss: 13.6132 - mae: 13.6132\n",
      "Epoch 27/100\n",
      "1/1 [==============================] - 0s 5ms/step - loss: 13.4807 - mae: 13.4807\n",
      "Epoch 28/100\n",
      "1/1 [==============================] - 0s 5ms/step - loss: 13.3482 - mae: 13.3482\n",
      "Epoch 29/100\n",
      "1/1 [==============================] - 0s 6ms/step - loss: 13.2157 - mae: 13.2157\n",
      "Epoch 30/100\n",
      "1/1 [==============================] - 0s 6ms/step - loss: 13.0832 - mae: 13.0832\n",
      "Epoch 31/100\n",
      "1/1 [==============================] - 0s 5ms/step - loss: 12.9507 - mae: 12.9507\n",
      "Epoch 32/100\n",
      "1/1 [==============================] - 0s 5ms/step - loss: 12.8182 - mae: 12.8182\n",
      "Epoch 33/100\n",
      "1/1 [==============================] - 0s 8ms/step - loss: 12.6857 - mae: 12.6857\n",
      "Epoch 34/100\n",
      "1/1 [==============================] - 0s 9ms/step - loss: 12.5532 - mae: 12.5532\n",
      "Epoch 35/100\n",
      "1/1 [==============================] - 0s 5ms/step - loss: 12.4207 - mae: 12.4207\n",
      "Epoch 36/100\n",
      "1/1 [==============================] - 0s 6ms/step - loss: 12.2882 - mae: 12.2882\n",
      "Epoch 37/100\n",
      "1/1 [==============================] - 0s 5ms/step - loss: 12.1557 - mae: 12.1557\n",
      "Epoch 38/100\n",
      "1/1 [==============================] - 0s 5ms/step - loss: 12.0232 - mae: 12.0232\n",
      "Epoch 39/100\n",
      "1/1 [==============================] - 0s 4ms/step - loss: 11.8907 - mae: 11.8907\n",
      "Epoch 40/100\n",
      "1/1 [==============================] - 0s 6ms/step - loss: 11.7582 - mae: 11.7582\n",
      "Epoch 41/100\n",
      "1/1 [==============================] - 0s 6ms/step - loss: 11.6257 - mae: 11.6257\n",
      "Epoch 42/100\n",
      "1/1 [==============================] - 0s 5ms/step - loss: 11.4932 - mae: 11.4932\n",
      "Epoch 43/100\n",
      "1/1 [==============================] - 0s 7ms/step - loss: 11.3607 - mae: 11.3607\n",
      "Epoch 44/100\n",
      "1/1 [==============================] - 0s 6ms/step - loss: 11.2282 - mae: 11.2282\n",
      "Epoch 45/100\n",
      "1/1 [==============================] - 0s 6ms/step - loss: 11.0957 - mae: 11.0957\n",
      "Epoch 46/100\n",
      "1/1 [==============================] - 0s 5ms/step - loss: 10.9632 - mae: 10.9632\n",
      "Epoch 47/100\n",
      "1/1 [==============================] - 0s 4ms/step - loss: 10.8307 - mae: 10.8307\n",
      "Epoch 48/100\n",
      "1/1 [==============================] - 0s 4ms/step - loss: 10.6982 - mae: 10.6982\n",
      "Epoch 49/100\n",
      "1/1 [==============================] - 0s 7ms/step - loss: 10.5657 - mae: 10.5657\n",
      "Epoch 50/100\n",
      "1/1 [==============================] - 0s 5ms/step - loss: 10.4332 - mae: 10.4332\n",
      "Epoch 51/100\n",
      "1/1 [==============================] - 0s 4ms/step - loss: 10.3007 - mae: 10.3007\n",
      "Epoch 52/100\n",
      "1/1 [==============================] - 0s 5ms/step - loss: 10.1682 - mae: 10.1682\n",
      "Epoch 53/100\n",
      "1/1 [==============================] - 0s 5ms/step - loss: 10.0357 - mae: 10.0357\n",
      "Epoch 54/100\n",
      "1/1 [==============================] - 0s 4ms/step - loss: 9.9032 - mae: 9.9032\n",
      "Epoch 55/100\n",
      "1/1 [==============================] - 0s 5ms/step - loss: 9.7707 - mae: 9.7707\n",
      "Epoch 56/100\n",
      "1/1 [==============================] - 0s 4ms/step - loss: 9.6382 - mae: 9.6382\n",
      "Epoch 57/100\n",
      "1/1 [==============================] - 0s 6ms/step - loss: 9.5057 - mae: 9.5057\n",
      "Epoch 58/100\n",
      "1/1 [==============================] - 0s 5ms/step - loss: 9.3732 - mae: 9.3732\n",
      "Epoch 59/100\n",
      "1/1 [==============================] - 0s 5ms/step - loss: 9.2407 - mae: 9.2407\n",
      "Epoch 60/100\n",
      "1/1 [==============================] - 0s 5ms/step - loss: 9.1082 - mae: 9.1082\n",
      "Epoch 61/100\n",
      "1/1 [==============================] - 0s 6ms/step - loss: 8.9757 - mae: 8.9757\n",
      "Epoch 62/100\n",
      "1/1 [==============================] - 0s 5ms/step - loss: 8.8432 - mae: 8.8432\n",
      "Epoch 63/100\n",
      "1/1 [==============================] - 0s 6ms/step - loss: 8.7107 - mae: 8.7107\n",
      "Epoch 64/100\n",
      "1/1 [==============================] - 0s 5ms/step - loss: 8.5782 - mae: 8.5782\n",
      "Epoch 65/100\n",
      "1/1 [==============================] - 0s 5ms/step - loss: 8.4457 - mae: 8.4457\n",
      "Epoch 66/100\n",
      "1/1 [==============================] - 0s 5ms/step - loss: 8.3132 - mae: 8.3132\n",
      "Epoch 67/100\n",
      "1/1 [==============================] - 0s 5ms/step - loss: 8.1807 - mae: 8.1807\n",
      "Epoch 68/100\n",
      "1/1 [==============================] - 0s 5ms/step - loss: 8.0482 - mae: 8.0482\n",
      "Epoch 69/100\n",
      "1/1 [==============================] - 0s 6ms/step - loss: 7.9157 - mae: 7.9157\n",
      "Epoch 70/100\n",
      "1/1 [==============================] - 0s 6ms/step - loss: 7.7832 - mae: 7.7832\n",
      "Epoch 71/100\n",
      "1/1 [==============================] - 0s 5ms/step - loss: 7.6507 - mae: 7.6507\n",
      "Epoch 72/100\n",
      "1/1 [==============================] - 0s 5ms/step - loss: 7.5182 - mae: 7.5182\n",
      "Epoch 73/100\n",
      "1/1 [==============================] - 0s 4ms/step - loss: 7.3857 - mae: 7.3857\n",
      "Epoch 74/100\n",
      "1/1 [==============================] - 0s 5ms/step - loss: 7.2533 - mae: 7.2533\n",
      "Epoch 75/100\n",
      "1/1 [==============================] - 0s 5ms/step - loss: 7.1207 - mae: 7.1207\n",
      "Epoch 76/100\n",
      "1/1 [==============================] - 0s 6ms/step - loss: 6.9883 - mae: 6.9883\n",
      "Epoch 77/100\n",
      "1/1 [==============================] - 0s 6ms/step - loss: 6.9619 - mae: 6.9619\n",
      "Epoch 78/100\n",
      "1/1 [==============================] - 0s 4ms/step - loss: 6.9563 - mae: 6.9563\n",
      "Epoch 79/100\n",
      "1/1 [==============================] - 0s 5ms/step - loss: 6.9506 - mae: 6.9506\n",
      "Epoch 80/100\n",
      "1/1 [==============================] - 0s 4ms/step - loss: 6.9450 - mae: 6.9450\n",
      "Epoch 81/100\n",
      "1/1 [==============================] - 0s 5ms/step - loss: 6.9394 - mae: 6.9394\n",
      "Epoch 82/100\n",
      "1/1 [==============================] - 0s 6ms/step - loss: 6.9338 - mae: 6.9338\n",
      "Epoch 83/100\n",
      "1/1 [==============================] - 0s 5ms/step - loss: 6.9281 - mae: 6.9281\n",
      "Epoch 84/100\n",
      "1/1 [==============================] - 0s 5ms/step - loss: 6.9225 - mae: 6.9225\n",
      "Epoch 85/100\n",
      "1/1 [==============================] - 0s 5ms/step - loss: 6.9169 - mae: 6.9169\n",
      "Epoch 86/100\n",
      "1/1 [==============================] - 0s 4ms/step - loss: 6.9113 - mae: 6.9113\n",
      "Epoch 87/100\n",
      "1/1 [==============================] - 0s 5ms/step - loss: 6.9056 - mae: 6.9056\n",
      "Epoch 88/100\n",
      "1/1 [==============================] - 0s 6ms/step - loss: 6.9000 - mae: 6.9000\n",
      "Epoch 89/100\n",
      "1/1 [==============================] - 0s 6ms/step - loss: 6.8944 - mae: 6.8944\n",
      "Epoch 90/100\n",
      "1/1 [==============================] - 0s 6ms/step - loss: 6.8888 - mae: 6.8888\n",
      "Epoch 91/100\n",
      "1/1 [==============================] - 0s 6ms/step - loss: 6.8831 - mae: 6.8831\n",
      "Epoch 92/100\n",
      "1/1 [==============================] - 0s 5ms/step - loss: 6.8775 - mae: 6.8775\n",
      "Epoch 93/100\n",
      "1/1 [==============================] - 0s 7ms/step - loss: 6.8719 - mae: 6.8719\n",
      "Epoch 94/100\n",
      "1/1 [==============================] - 0s 5ms/step - loss: 6.8663 - mae: 6.8663\n",
      "Epoch 95/100\n",
      "1/1 [==============================] - 0s 5ms/step - loss: 6.8606 - mae: 6.8606\n",
      "Epoch 96/100\n",
      "1/1 [==============================] - 0s 6ms/step - loss: 6.8550 - mae: 6.8550\n",
      "Epoch 97/100\n",
      "1/1 [==============================] - 0s 4ms/step - loss: 6.8494 - mae: 6.8494\n",
      "Epoch 98/100\n",
      "1/1 [==============================] - 0s 4ms/step - loss: 6.8438 - mae: 6.8438\n",
      "Epoch 99/100\n",
      "1/1 [==============================] - 0s 5ms/step - loss: 6.8381 - mae: 6.8381\n",
      "Epoch 100/100\n",
      "1/1 [==============================] - 0s 5ms/step - loss: 6.8325 - mae: 6.8325\n"
     ]
    },
    {
     "data": {
      "text/plain": "<keras.callbacks.History at 0x7fd9f06b9650>"
     },
     "execution_count": 18,
     "metadata": {},
     "output_type": "execute_result"
    }
   ],
   "source": [
    "# Let's rebuild our model\n",
    "\n",
    "# 1. Create the model\n",
    "model = tf.keras.Sequential([\n",
    "    tf.keras.layers.Dense(1)\n",
    "])\n",
    "\n",
    "# 2. Compile the model\n",
    "model.compile(loss=tf.keras.losses.mae,\n",
    "              optimizer=tf.keras.optimizers.SGD(),\n",
    "              metrics=[\"mae\"])\n",
    "\n",
    "# 3. Fit the model (this time we'll train for longer)\n",
    "model.fit(tf.expand_dims(X, axis=-1), y, epochs=100)"
   ],
   "metadata": {
    "colab": {
     "base_uri": "https://localhost:8080/"
    },
    "id": "b26232423384ab79",
    "executionInfo": {
     "status": "ok",
     "timestamp": 1696076704042,
     "user_tz": -420,
     "elapsed": 1871,
     "user": {
      "displayName": "kang sigit",
      "userId": "15887135570512197739"
     }
    },
    "outputId": "af574b45-f9db-41fa-835c-d7000afb014d",
    "ExecuteTime": {
     "end_time": "2023-12-29T07:05:37.877954934Z",
     "start_time": "2023-12-29T07:05:36.379354821Z"
    }
   },
   "id": "b26232423384ab79"
  },
  {
   "cell_type": "code",
   "execution_count": 19,
   "outputs": [
    {
     "data": {
      "text/plain": "(<tf.Tensor: shape=(8,), dtype=float32, numpy=array([-7., -4., -1.,  2.,  5.,  8., 11., 14.], dtype=float32)>,\n <tf.Tensor: shape=(8,), dtype=float32, numpy=array([ 3.,  6.,  9., 12., 15., 18., 21., 24.], dtype=float32)>)"
     },
     "execution_count": 19,
     "metadata": {},
     "output_type": "execute_result"
    }
   ],
   "source": [
    "# Reminder ourselves of the data\n",
    "X, y"
   ],
   "metadata": {
    "colab": {
     "base_uri": "https://localhost:8080/"
    },
    "id": "e9b4e45adea19edc",
    "executionInfo": {
     "status": "ok",
     "timestamp": 1696076704043,
     "user_tz": -420,
     "elapsed": 13,
     "user": {
      "displayName": "kang sigit",
      "userId": "15887135570512197739"
     }
    },
    "outputId": "9c3ea1ed-df93-4a29-8624-0d0df70f77b5",
    "ExecuteTime": {
     "end_time": "2023-12-29T07:05:39.631394583Z",
     "start_time": "2023-12-29T07:05:39.585225104Z"
    }
   },
   "id": "e9b4e45adea19edc"
  },
  {
   "cell_type": "code",
   "execution_count": 20,
   "outputs": [
    {
     "name": "stdout",
     "output_type": "stream",
     "text": [
      "1/1 [==============================] - 0s 67ms/step\n"
     ]
    },
    {
     "data": {
      "text/plain": "array([[29.68457]], dtype=float32)"
     },
     "execution_count": 20,
     "metadata": {},
     "output_type": "execute_result"
    }
   ],
   "source": [
    "# Let's see if our model's prediction has improved...\n",
    "model.predict([17.0])"
   ],
   "metadata": {
    "colab": {
     "base_uri": "https://localhost:8080/"
    },
    "id": "4fa1532cec878a87",
    "executionInfo": {
     "status": "ok",
     "timestamp": 1696076704043,
     "user_tz": -420,
     "elapsed": 7,
     "user": {
      "displayName": "kang sigit",
      "userId": "15887135570512197739"
     }
    },
    "outputId": "c3db728e-15ba-48ed-b577-524225c39d2d",
    "ExecuteTime": {
     "end_time": "2023-12-29T07:05:40.564853238Z",
     "start_time": "2023-12-29T07:05:40.461292011Z"
    }
   },
   "id": "4fa1532cec878a87"
  },
  {
   "cell_type": "code",
   "execution_count": 21,
   "outputs": [
    {
     "name": "stdout",
     "output_type": "stream",
     "text": [
      "Epoch 1/100\n",
      "1/1 [==============================] - 0s 477ms/step - loss: 13.0884 - mae: 13.0884\n",
      "Epoch 2/100\n",
      "1/1 [==============================] - 0s 18ms/step - loss: 12.3924 - mae: 12.3924\n",
      "Epoch 3/100\n",
      "1/1 [==============================] - 0s 14ms/step - loss: 11.6947 - mae: 11.6947\n",
      "Epoch 4/100\n",
      "1/1 [==============================] - 0s 13ms/step - loss: 10.9932 - mae: 10.9932\n",
      "Epoch 5/100\n",
      "1/1 [==============================] - 0s 12ms/step - loss: 10.2840 - mae: 10.2840\n",
      "Epoch 6/100\n",
      "1/1 [==============================] - 0s 7ms/step - loss: 9.5641 - mae: 9.5641\n",
      "Epoch 7/100\n",
      "1/1 [==============================] - 0s 14ms/step - loss: 8.8314 - mae: 8.8314\n",
      "Epoch 8/100\n",
      "1/1 [==============================] - 0s 22ms/step - loss: 8.0833 - mae: 8.0833\n",
      "Epoch 9/100\n",
      "1/1 [==============================] - 0s 22ms/step - loss: 7.3171 - mae: 7.3171\n",
      "Epoch 10/100\n",
      "1/1 [==============================] - 0s 18ms/step - loss: 6.7942 - mae: 6.7942\n",
      "Epoch 11/100\n",
      "1/1 [==============================] - 0s 13ms/step - loss: 6.9360 - mae: 6.9360\n",
      "Epoch 12/100\n",
      "1/1 [==============================] - 0s 11ms/step - loss: 7.2197 - mae: 7.2197\n",
      "Epoch 13/100\n",
      "1/1 [==============================] - 0s 12ms/step - loss: 7.4143 - mae: 7.4143\n",
      "Epoch 14/100\n",
      "1/1 [==============================] - 0s 14ms/step - loss: 7.4971 - mae: 7.4971\n",
      "Epoch 15/100\n",
      "1/1 [==============================] - 0s 12ms/step - loss: 7.3801 - mae: 7.3801\n",
      "Epoch 16/100\n",
      "1/1 [==============================] - 0s 15ms/step - loss: 7.1187 - mae: 7.1187\n",
      "Epoch 17/100\n",
      "1/1 [==============================] - 0s 11ms/step - loss: 6.9041 - mae: 6.9041\n",
      "Epoch 18/100\n",
      "1/1 [==============================] - 0s 33ms/step - loss: 6.6629 - mae: 6.6629\n",
      "Epoch 19/100\n",
      "1/1 [==============================] - 0s 13ms/step - loss: 6.4005 - mae: 6.4005\n",
      "Epoch 20/100\n",
      "1/1 [==============================] - 0s 21ms/step - loss: 6.1226 - mae: 6.1226\n",
      "Epoch 21/100\n",
      "1/1 [==============================] - 0s 11ms/step - loss: 6.0698 - mae: 6.0698\n",
      "Epoch 22/100\n",
      "1/1 [==============================] - 0s 15ms/step - loss: 6.0134 - mae: 6.0134\n",
      "Epoch 23/100\n",
      "1/1 [==============================] - 0s 12ms/step - loss: 6.0719 - mae: 6.0719\n",
      "Epoch 24/100\n",
      "1/1 [==============================] - 0s 12ms/step - loss: 6.0877 - mae: 6.0877\n",
      "Epoch 25/100\n",
      "1/1 [==============================] - 0s 12ms/step - loss: 6.0027 - mae: 6.0027\n",
      "Epoch 26/100\n",
      "1/1 [==============================] - 0s 11ms/step - loss: 5.8289 - mae: 5.8289\n",
      "Epoch 27/100\n",
      "1/1 [==============================] - 0s 14ms/step - loss: 5.6138 - mae: 5.6138\n",
      "Epoch 28/100\n",
      "1/1 [==============================] - 0s 13ms/step - loss: 5.5121 - mae: 5.5121\n",
      "Epoch 29/100\n",
      "1/1 [==============================] - 0s 13ms/step - loss: 5.4074 - mae: 5.4074\n",
      "Epoch 30/100\n",
      "1/1 [==============================] - 0s 17ms/step - loss: 5.2994 - mae: 5.2994\n",
      "Epoch 31/100\n",
      "1/1 [==============================] - 0s 12ms/step - loss: 5.3055 - mae: 5.3055\n",
      "Epoch 32/100\n",
      "1/1 [==============================] - 0s 16ms/step - loss: 5.2639 - mae: 5.2639\n",
      "Epoch 33/100\n",
      "1/1 [==============================] - 0s 13ms/step - loss: 5.1768 - mae: 5.1768\n",
      "Epoch 34/100\n",
      "1/1 [==============================] - 0s 14ms/step - loss: 5.0482 - mae: 5.0482\n",
      "Epoch 35/100\n",
      "1/1 [==============================] - 0s 13ms/step - loss: 4.8817 - mae: 4.8817\n",
      "Epoch 36/100\n",
      "1/1 [==============================] - 0s 11ms/step - loss: 4.6924 - mae: 4.6924\n",
      "Epoch 37/100\n",
      "1/1 [==============================] - 0s 12ms/step - loss: 4.5933 - mae: 4.5933\n",
      "Epoch 38/100\n",
      "1/1 [==============================] - 0s 10ms/step - loss: 4.4870 - mae: 4.4870\n",
      "Epoch 39/100\n",
      "1/1 [==============================] - 0s 10ms/step - loss: 4.3735 - mae: 4.3735\n",
      "Epoch 40/100\n",
      "1/1 [==============================] - 0s 15ms/step - loss: 4.2526 - mae: 4.2526\n",
      "Epoch 41/100\n",
      "1/1 [==============================] - 0s 14ms/step - loss: 4.1427 - mae: 4.1427\n",
      "Epoch 42/100\n",
      "1/1 [==============================] - 0s 17ms/step - loss: 3.9778 - mae: 3.9778\n",
      "Epoch 43/100\n",
      "1/1 [==============================] - 0s 16ms/step - loss: 3.8243 - mae: 3.8243\n",
      "Epoch 44/100\n",
      "1/1 [==============================] - 0s 14ms/step - loss: 3.6632 - mae: 3.6632\n",
      "Epoch 45/100\n",
      "1/1 [==============================] - 0s 15ms/step - loss: 3.4944 - mae: 3.4944\n",
      "Epoch 46/100\n",
      "1/1 [==============================] - 0s 13ms/step - loss: 3.3466 - mae: 3.3466\n",
      "Epoch 47/100\n",
      "1/1 [==============================] - 0s 12ms/step - loss: 3.1882 - mae: 3.1882\n",
      "Epoch 48/100\n",
      "1/1 [==============================] - 0s 10ms/step - loss: 2.9734 - mae: 2.9734\n",
      "Epoch 49/100\n",
      "1/1 [==============================] - 0s 11ms/step - loss: 2.7924 - mae: 2.7924\n",
      "Epoch 50/100\n",
      "1/1 [==============================] - 0s 15ms/step - loss: 2.6007 - mae: 2.6007\n",
      "Epoch 51/100\n",
      "1/1 [==============================] - 0s 15ms/step - loss: 2.3981 - mae: 2.3981\n",
      "Epoch 52/100\n",
      "1/1 [==============================] - 0s 16ms/step - loss: 2.1846 - mae: 2.1846\n",
      "Epoch 53/100\n",
      "1/1 [==============================] - 0s 10ms/step - loss: 1.9598 - mae: 1.9598\n",
      "Epoch 54/100\n",
      "1/1 [==============================] - 0s 25ms/step - loss: 1.7254 - mae: 1.7254\n",
      "Epoch 55/100\n",
      "1/1 [==============================] - 0s 13ms/step - loss: 1.4893 - mae: 1.4893\n",
      "Epoch 56/100\n",
      "1/1 [==============================] - 0s 16ms/step - loss: 1.2421 - mae: 1.2421\n",
      "Epoch 57/100\n",
      "1/1 [==============================] - 0s 14ms/step - loss: 1.0228 - mae: 1.0228\n",
      "Epoch 58/100\n",
      "1/1 [==============================] - 0s 17ms/step - loss: 0.7150 - mae: 0.7150\n",
      "Epoch 59/100\n",
      "1/1 [==============================] - 0s 7ms/step - loss: 0.4576 - mae: 0.4576\n",
      "Epoch 60/100\n",
      "1/1 [==============================] - 0s 18ms/step - loss: 0.1367 - mae: 0.1367\n",
      "Epoch 61/100\n",
      "1/1 [==============================] - 0s 8ms/step - loss: 0.2590 - mae: 0.2590\n",
      "Epoch 62/100\n",
      "1/1 [==============================] - 0s 16ms/step - loss: 0.4044 - mae: 0.4044\n",
      "Epoch 63/100\n",
      "1/1 [==============================] - 0s 17ms/step - loss: 0.6398 - mae: 0.6398\n",
      "Epoch 64/100\n",
      "1/1 [==============================] - 0s 11ms/step - loss: 0.6973 - mae: 0.6973\n",
      "Epoch 65/100\n",
      "1/1 [==============================] - 0s 6ms/step - loss: 0.8195 - mae: 0.8195\n",
      "Epoch 66/100\n",
      "1/1 [==============================] - 0s 10ms/step - loss: 0.7854 - mae: 0.7854\n",
      "Epoch 67/100\n",
      "1/1 [==============================] - 0s 11ms/step - loss: 0.8341 - mae: 0.8341\n",
      "Epoch 68/100\n",
      "1/1 [==============================] - 0s 7ms/step - loss: 0.7762 - mae: 0.7762\n",
      "Epoch 69/100\n",
      "1/1 [==============================] - 0s 10ms/step - loss: 0.6256 - mae: 0.6256\n",
      "Epoch 70/100\n",
      "1/1 [==============================] - 0s 22ms/step - loss: 0.5570 - mae: 0.5570\n",
      "Epoch 71/100\n",
      "1/1 [==============================] - 0s 8ms/step - loss: 0.3901 - mae: 0.3901\n",
      "Epoch 72/100\n",
      "1/1 [==============================] - 0s 18ms/step - loss: 0.2348 - mae: 0.2348\n",
      "Epoch 73/100\n",
      "1/1 [==============================] - 0s 7ms/step - loss: 0.1360 - mae: 0.1360\n",
      "Epoch 74/100\n",
      "1/1 [==============================] - 0s 18ms/step - loss: 0.1656 - mae: 0.1656\n",
      "Epoch 75/100\n",
      "1/1 [==============================] - 0s 9ms/step - loss: 0.2340 - mae: 0.2340\n",
      "Epoch 76/100\n",
      "1/1 [==============================] - 0s 8ms/step - loss: 0.4481 - mae: 0.4481\n",
      "Epoch 77/100\n",
      "1/1 [==============================] - 0s 14ms/step - loss: 0.4229 - mae: 0.4229\n",
      "Epoch 78/100\n",
      "1/1 [==============================] - 0s 16ms/step - loss: 0.4308 - mae: 0.4308\n",
      "Epoch 79/100\n",
      "1/1 [==============================] - 0s 19ms/step - loss: 0.4561 - mae: 0.4561\n",
      "Epoch 80/100\n",
      "1/1 [==============================] - 0s 17ms/step - loss: 0.3029 - mae: 0.3029\n",
      "Epoch 81/100\n",
      "1/1 [==============================] - 0s 7ms/step - loss: 0.4702 - mae: 0.4702\n",
      "Epoch 82/100\n",
      "1/1 [==============================] - 0s 6ms/step - loss: 0.4328 - mae: 0.4328\n",
      "Epoch 83/100\n",
      "1/1 [==============================] - 0s 7ms/step - loss: 0.0930 - mae: 0.0930\n",
      "Epoch 84/100\n",
      "1/1 [==============================] - 0s 9ms/step - loss: 0.5473 - mae: 0.5473\n",
      "Epoch 85/100\n",
      "1/1 [==============================] - 0s 19ms/step - loss: 0.7506 - mae: 0.7506\n",
      "Epoch 86/100\n",
      "1/1 [==============================] - 0s 9ms/step - loss: 0.5859 - mae: 0.5859\n",
      "Epoch 87/100\n",
      "1/1 [==============================] - 0s 9ms/step - loss: 0.2349 - mae: 0.2349\n",
      "Epoch 88/100\n",
      "1/1 [==============================] - 0s 10ms/step - loss: 0.5364 - mae: 0.5364\n",
      "Epoch 89/100\n",
      "1/1 [==============================] - 0s 9ms/step - loss: 0.7629 - mae: 0.7629\n",
      "Epoch 90/100\n",
      "1/1 [==============================] - 0s 10ms/step - loss: 0.6714 - mae: 0.6714\n",
      "Epoch 91/100\n",
      "1/1 [==============================] - 0s 14ms/step - loss: 0.3059 - mae: 0.3059\n",
      "Epoch 92/100\n",
      "1/1 [==============================] - 0s 7ms/step - loss: 0.3146 - mae: 0.3146\n",
      "Epoch 93/100\n",
      "1/1 [==============================] - 0s 7ms/step - loss: 0.4769 - mae: 0.4769\n",
      "Epoch 94/100\n",
      "1/1 [==============================] - 0s 8ms/step - loss: 0.3311 - mae: 0.3311\n",
      "Epoch 95/100\n",
      "1/1 [==============================] - 0s 10ms/step - loss: 0.1390 - mae: 0.1390\n",
      "Epoch 96/100\n",
      "1/1 [==============================] - 0s 19ms/step - loss: 0.3039 - mae: 0.3039\n",
      "Epoch 97/100\n",
      "1/1 [==============================] - 0s 8ms/step - loss: 0.2120 - mae: 0.2120\n",
      "Epoch 98/100\n",
      "1/1 [==============================] - 0s 13ms/step - loss: 0.2588 - mae: 0.2588\n",
      "Epoch 99/100\n",
      "1/1 [==============================] - 0s 9ms/step - loss: 0.3395 - mae: 0.3395\n",
      "Epoch 100/100\n",
      "1/1 [==============================] - 0s 12ms/step - loss: 0.1810 - mae: 0.1810\n"
     ]
    },
    {
     "data": {
      "text/plain": "<keras.callbacks.History at 0x7fda1d2b1950>"
     },
     "execution_count": 21,
     "metadata": {},
     "output_type": "execute_result"
    }
   ],
   "source": [
    "# Let's see if we can make another to improve our model\n",
    "\n",
    "# 1. Create the model (this time with an extra hidden layer with 100 hidden units)\n",
    "model = tf.keras.Sequential([\n",
    "    tf.keras.layers.Dense(50, activation=None),\n",
    "    tf.keras.layers.Dense(1)\n",
    "])\n",
    "\n",
    "# 2. Compile the model\n",
    "model.compile(loss=\"mae\",\n",
    "              optimizer=tf.keras.optimizers.Adam(learning_rate=0.01),\n",
    "              metrics=[\"mae\"])\n",
    "\n",
    "# 3. Fit the model\n",
    "model.fit(tf.expand_dims(X, axis=-1), y, epochs=100)"
   ],
   "metadata": {
    "colab": {
     "base_uri": "https://localhost:8080/"
    },
    "id": "8b9aa4f166adf717",
    "executionInfo": {
     "status": "ok",
     "timestamp": 1696076707677,
     "user_tz": -420,
     "elapsed": 3639,
     "user": {
      "displayName": "kang sigit",
      "userId": "15887135570512197739"
     }
    },
    "outputId": "09a15c82-6c48-4a25-f2e2-9e9be634ab0e",
    "ExecuteTime": {
     "end_time": "2023-12-29T07:05:45.245935973Z",
     "start_time": "2023-12-29T07:05:42.336491782Z"
    }
   },
   "id": "8b9aa4f166adf717"
  },
  {
   "cell_type": "code",
   "execution_count": 22,
   "outputs": [
    {
     "data": {
      "text/plain": "(<tf.Tensor: shape=(8,), dtype=float32, numpy=array([-7., -4., -1.,  2.,  5.,  8., 11., 14.], dtype=float32)>,\n <tf.Tensor: shape=(8,), dtype=float32, numpy=array([ 3.,  6.,  9., 12., 15., 18., 21., 24.], dtype=float32)>)"
     },
     "execution_count": 22,
     "metadata": {},
     "output_type": "execute_result"
    }
   ],
   "source": [
    "# Let's remind ourselves of the data\n",
    "X, y"
   ],
   "metadata": {
    "colab": {
     "base_uri": "https://localhost:8080/"
    },
    "id": "6b5bd6ece9fcbd99",
    "executionInfo": {
     "status": "ok",
     "timestamp": 1696076707678,
     "user_tz": -420,
     "elapsed": 37,
     "user": {
      "displayName": "kang sigit",
      "userId": "15887135570512197739"
     }
    },
    "outputId": "5cc7cd2b-d423-4cea-c5fb-aeaceda59838",
    "ExecuteTime": {
     "end_time": "2023-12-29T07:05:46.968578633Z",
     "start_time": "2023-12-29T07:05:46.939850113Z"
    }
   },
   "id": "6b5bd6ece9fcbd99"
  },
  {
   "cell_type": "code",
   "execution_count": 23,
   "outputs": [
    {
     "name": "stdout",
     "output_type": "stream",
     "text": [
      "1/1 [==============================] - 0s 93ms/step\n"
     ]
    },
    {
     "data": {
      "text/plain": "array([[27.560272]], dtype=float32)"
     },
     "execution_count": 23,
     "metadata": {},
     "output_type": "execute_result"
    }
   ],
   "source": [
    "# Let's  try to make a prediction\n",
    "model.predict([17.0])"
   ],
   "metadata": {
    "colab": {
     "base_uri": "https://localhost:8080/"
    },
    "id": "a0f497158a07079a",
    "executionInfo": {
     "status": "ok",
     "timestamp": 1696076707678,
     "user_tz": -420,
     "elapsed": 30,
     "user": {
      "displayName": "kang sigit",
      "userId": "15887135570512197739"
     }
    },
    "outputId": "5d49bee4-aedd-4687-ee45-a21a4d31ef92",
    "ExecuteTime": {
     "end_time": "2023-12-29T07:05:47.973214445Z",
     "start_time": "2023-12-29T07:05:47.819220021Z"
    }
   },
   "id": "a0f497158a07079a"
  },
  {
   "cell_type": "markdown",
   "source": [
    "## Evaluating a model\n",
    "\n",
    "In practice, a typical workflow you'll go through when building neural networks is:\n",
    "\n",
    "```\n",
    "Build a model -> fit it -> evaluate it -> tweak a model -> fit it -> evaluate it -> tweak a model -> fit it -> evaluate it...\n",
    "```\n",
    "\n"
   ],
   "metadata": {
    "collapsed": false,
    "id": "8586a632a5e30d87"
   },
   "id": "8586a632a5e30d87"
  },
  {
   "cell_type": "markdown",
   "source": [
    "When it comes to evaluation... there are 3 words you should memorize:\n",
    "\n",
    "> \"Visualize, visualize, visualize\"\n",
    "\n",
    "It's a good idea to visualize:\n",
    "* The data - what data are we working with? What does it look like?\n",
    "* The model itself - what does our model look like?\n",
    "* The training of a model - how does a model perform while it learns?\n",
    "* The predictions of the model - how do the predictions od a model line up against the ground truth (the original labels)?"
   ],
   "metadata": {
    "collapsed": false,
    "id": "b0557d4d9296152e"
   },
   "id": "b0557d4d9296152e"
  },
  {
   "cell_type": "code",
   "execution_count": 24,
   "outputs": [
    {
     "data": {
      "text/plain": "<tf.Tensor: shape=(50,), dtype=int32, numpy=\narray([-100,  -96,  -92,  -88,  -84,  -80,  -76,  -72,  -68,  -64,  -60,\n        -56,  -52,  -48,  -44,  -40,  -36,  -32,  -28,  -24,  -20,  -16,\n        -12,   -8,   -4,    0,    4,    8,   12,   16,   20,   24,   28,\n         32,   36,   40,   44,   48,   52,   56,   60,   64,   68,   72,\n         76,   80,   84,   88,   92,   96], dtype=int32)>"
     },
     "execution_count": 24,
     "metadata": {},
     "output_type": "execute_result"
    }
   ],
   "source": [
    "# Make a bigger dataset\n",
    "X = tf.range(-100, 100, 4)\n",
    "X"
   ],
   "metadata": {
    "colab": {
     "base_uri": "https://localhost:8080/"
    },
    "id": "ebfdaf1ca49a3887",
    "executionInfo": {
     "status": "ok",
     "timestamp": 1696076707678,
     "user_tz": -420,
     "elapsed": 27,
     "user": {
      "displayName": "kang sigit",
      "userId": "15887135570512197739"
     }
    },
    "outputId": "bc30d2c0-7064-4c85-ad7c-5b2adb992cb9",
    "ExecuteTime": {
     "end_time": "2023-12-29T07:05:51.925810475Z",
     "start_time": "2023-12-29T07:05:51.890743089Z"
    }
   },
   "id": "ebfdaf1ca49a3887"
  },
  {
   "cell_type": "code",
   "execution_count": 25,
   "outputs": [
    {
     "data": {
      "text/plain": "<tf.Tensor: shape=(50,), dtype=int32, numpy=\narray([-90, -86, -82, -78, -74, -70, -66, -62, -58, -54, -50, -46, -42,\n       -38, -34, -30, -26, -22, -18, -14, -10,  -6,  -2,   2,   6,  10,\n        14,  18,  22,  26,  30,  34,  38,  42,  46,  50,  54,  58,  62,\n        66,  70,  74,  78,  82,  86,  90,  94,  98, 102, 106], dtype=int32)>"
     },
     "execution_count": 25,
     "metadata": {},
     "output_type": "execute_result"
    }
   ],
   "source": [
    "# Make labels for the dataset\n",
    "y = X + 10\n",
    "y"
   ],
   "metadata": {
    "colab": {
     "base_uri": "https://localhost:8080/"
    },
    "id": "5573573108e8addc",
    "executionInfo": {
     "status": "ok",
     "timestamp": 1696076707678,
     "user_tz": -420,
     "elapsed": 25,
     "user": {
      "displayName": "kang sigit",
      "userId": "15887135570512197739"
     }
    },
    "outputId": "799c0f5b-54de-446d-80ad-e0ab45651900",
    "ExecuteTime": {
     "end_time": "2023-12-29T07:05:52.805806717Z",
     "start_time": "2023-12-29T07:05:52.766357873Z"
    }
   },
   "id": "5573573108e8addc"
  },
  {
   "cell_type": "code",
   "execution_count": 26,
   "outputs": [
    {
     "data": {
      "text/plain": "<matplotlib.collections.PathCollection at 0x7fda1d1aa350>"
     },
     "execution_count": 26,
     "metadata": {},
     "output_type": "execute_result"
    },
    {
     "data": {
      "text/plain": "<Figure size 640x480 with 1 Axes>",
      "image/png": "[encoded data removed]"
     },
     "metadata": {},
     "output_type": "display_data"
    }
   ],
   "source": [
    "# Visualize the data\n",
    "import matplotlib.pyplot as plt\n",
    "\n",
    "plt.scatter(X, y)"
   ],
   "metadata": {
    "colab": {
     "base_uri": "https://localhost:8080/",
     "height": 448
    },
    "id": "819381cfdadb50fa",
    "executionInfo": {
     "status": "ok",
     "timestamp": 1696076707678,
     "user_tz": -420,
     "elapsed": 23,
     "user": {
      "displayName": "kang sigit",
      "userId": "15887135570512197739"
     }
    },
    "outputId": "50eb4a39-f417-4bbe-8dfa-b4e0ffe18018",
    "ExecuteTime": {
     "end_time": "2023-12-29T07:05:53.662749273Z",
     "start_time": "2023-12-29T07:05:53.512194775Z"
    }
   },
   "id": "819381cfdadb50fa"
  },
  {
   "cell_type": "markdown",
   "source": [
    "### The 3 sets...\n",
    "\n",
    "* **Training set** - the model learns from this data, which is typically 70-80% of total data you have available.\n",
    "* **Validation set** - the model gets tuned oh this data, which is typically 10-15% of the data available.\n",
    "* **Test set** - the model gets evaluated on this data to test what is has learned, this set is typically 10-15% of the total data available."
   ],
   "metadata": {
    "collapsed": false,
    "id": "811bf5a27ae79738"
   },
   "id": "811bf5a27ae79738"
  },
  {
   "cell_type": "code",
   "execution_count": 27,
   "outputs": [
    {
     "data": {
      "text/plain": "50"
     },
     "execution_count": 27,
     "metadata": {},
     "output_type": "execute_result"
    }
   ],
   "source": [
    "# Check the length of how many samples we have\n",
    "len(X)"
   ],
   "metadata": {
    "colab": {
     "base_uri": "https://localhost:8080/"
    },
    "id": "65fe1205cafb59",
    "executionInfo": {
     "status": "ok",
     "timestamp": 1696076707678,
     "user_tz": -420,
     "elapsed": 20,
     "user": {
      "displayName": "kang sigit",
      "userId": "15887135570512197739"
     }
    },
    "outputId": "73236141-f7f9-4151-9726-e43586bc76ec",
    "ExecuteTime": {
     "end_time": "2023-12-29T07:05:55.219844124Z",
     "start_time": "2023-12-29T07:05:55.169911302Z"
    }
   },
   "id": "65fe1205cafb59"
  },
  {
   "cell_type": "code",
   "execution_count": 28,
   "outputs": [
    {
     "data": {
      "text/plain": "(40, 10, 40, 10)"
     },
     "execution_count": 28,
     "metadata": {},
     "output_type": "execute_result"
    }
   ],
   "source": [
    "# Split the data into train and test sets\n",
    "X_train = X[:40] # first 40 are training samples (80% of the data)\n",
    "y_train = y[:40]\n",
    "X_test = X[40:] # last 10 are testing samples (20% of the data)\n",
    "y_test = y[40:]\n",
    "\n",
    "len(X_train), len(X_test), len(y_train), len(y_test)"
   ],
   "metadata": {
    "colab": {
     "base_uri": "https://localhost:8080/"
    },
    "id": "6d4cae941d61ab0d",
    "executionInfo": {
     "status": "ok",
     "timestamp": 1696076707678,
     "user_tz": -420,
     "elapsed": 19,
     "user": {
      "displayName": "kang sigit",
      "userId": "15887135570512197739"
     }
    },
    "outputId": "222f4a3f-fa48-4167-dd93-388106b231f7",
    "ExecuteTime": {
     "end_time": "2023-12-29T07:05:55.916341910Z",
     "start_time": "2023-12-29T07:05:55.872788900Z"
    }
   },
   "id": "6d4cae941d61ab0d"
  },
  {
   "cell_type": "markdown",
   "source": [
    "### Visualing the data\n",
    "\n",
    "Now we've got our data in training and test sets... let's visualize it again!"
   ],
   "metadata": {
    "collapsed": false,
    "id": "83c7526489cf18e8"
   },
   "id": "83c7526489cf18e8"
  },
  {
   "cell_type": "code",
   "execution_count": 29,
   "outputs": [
    {
     "data": {
      "text/plain": "<Figure size 1000x700 with 1 Axes>",
      "image/png": "[encoded data removed]"
     },
     "metadata": {},
     "output_type": "display_data"
    }
   ],
   "source": [
    "plt.figure(figsize=(10, 7))\n",
    "# Plot training data in blue\n",
    "plt.scatter(X_train, y_train, c=\"b\", label=\"Training data\")\n",
    "# Plot test data in green\n",
    "plt.scatter(X_test, y_test, c=\"g\", label=\"Testing data\")\n",
    "# Show a legend\n",
    "plt.legend();"
   ],
   "metadata": {
    "colab": {
     "base_uri": "https://localhost:8080/",
     "height": 599
    },
    "id": "ab7249faa73bbe9",
    "executionInfo": {
     "status": "ok",
     "timestamp": 1696076708327,
     "user_tz": -420,
     "elapsed": 666,
     "user": {
      "displayName": "kang sigit",
      "userId": "15887135570512197739"
     }
    },
    "outputId": "6e495691-ff17-4a7f-c1b2-2579095d6b81",
    "ExecuteTime": {
     "end_time": "2023-12-29T07:05:57.433435238Z",
     "start_time": "2023-12-29T07:05:57.201155626Z"
    }
   },
   "id": "ab7249faa73bbe9"
  },
  {
   "cell_type": "code",
   "execution_count": 30,
   "outputs": [],
   "source": [
    "# Let's have a look at how to build a neural network for our data\n",
    "\n",
    "# 1. Create a model\n",
    "model = tf.keras.Sequential([\n",
    "    tf.keras.layers.Dense(1)\n",
    "])\n",
    "\n",
    "# 2. Compile the model\n",
    "model.compile(loss=tf.keras.losses.mae,\n",
    "              optimizer=tf.keras.optimizers.SGD(),\n",
    "              metrics=[\"mae\"])\n",
    "\n",
    "# 3. Fit the model\n",
    "# model.fit(tf.expand_dims(X_train, axis=-1), y_train, epochs=100)"
   ],
   "metadata": {
    "id": "d8ffee7c2a8e42f7",
    "executionInfo": {
     "status": "ok",
     "timestamp": 1696076708328,
     "user_tz": -420,
     "elapsed": 10,
     "user": {
      "displayName": "kang sigit",
      "userId": "15887135570512197739"
     }
    },
    "ExecuteTime": {
     "end_time": "2023-12-29T07:05:57.790310262Z",
     "start_time": "2023-12-29T07:05:57.752948335Z"
    }
   },
   "id": "d8ffee7c2a8e42f7"
  },
  {
   "cell_type": "markdown",
   "source": [
    "### Visualizing the model"
   ],
   "metadata": {
    "collapsed": false,
    "id": "898b10b4eeedd11e"
   },
   "id": "898b10b4eeedd11e"
  },
  {
   "cell_type": "code",
   "execution_count": 31,
   "outputs": [
    {
     "ename": "ValueError",
     "evalue": "This model has not yet been built. Build the model first by calling `build()` or by calling the model on a batch of data.",
     "output_type": "error",
     "traceback": [
      "\u001B[0;31m---------------------------------------------------------------------------\u001B[0m",
      "\u001B[0;31mValueError\u001B[0m                                Traceback (most recent call last)",
      "Cell \u001B[0;32mIn[31], line 1\u001B[0m\n\u001B[0;32m----> 1\u001B[0m model\u001B[38;5;241m.\u001B[39msummary()\n",
      "File \u001B[0;32m~/anaconda3/envs/tensorflow-zero-to-master/lib/python3.11/site-packages/keras/engine/training.py:3229\u001B[0m, in \u001B[0;36mModel.summary\u001B[0;34m(self, line_length, positions, print_fn, expand_nested, show_trainable, layer_range)\u001B[0m\n\u001B[1;32m   3198\u001B[0m \u001B[38;5;250m\u001B[39m\u001B[38;5;124;03m\"\"\"Prints a string summary of the network.\u001B[39;00m\n\u001B[1;32m   3199\u001B[0m \n\u001B[1;32m   3200\u001B[0m \u001B[38;5;124;03mArgs:\u001B[39;00m\n\u001B[0;32m   (...)\u001B[0m\n\u001B[1;32m   3226\u001B[0m \u001B[38;5;124;03m    ValueError: if `summary()` is called before the model is built.\u001B[39;00m\n\u001B[1;32m   3227\u001B[0m \u001B[38;5;124;03m\"\"\"\u001B[39;00m\n\u001B[1;32m   3228\u001B[0m \u001B[38;5;28;01mif\u001B[39;00m \u001B[38;5;129;01mnot\u001B[39;00m \u001B[38;5;28mself\u001B[39m\u001B[38;5;241m.\u001B[39mbuilt:\n\u001B[0;32m-> 3229\u001B[0m     \u001B[38;5;28;01mraise\u001B[39;00m \u001B[38;5;167;01mValueError\u001B[39;00m(\n\u001B[1;32m   3230\u001B[0m         \u001B[38;5;124m\"\u001B[39m\u001B[38;5;124mThis model has not yet been built. \u001B[39m\u001B[38;5;124m\"\u001B[39m\n\u001B[1;32m   3231\u001B[0m         \u001B[38;5;124m\"\u001B[39m\u001B[38;5;124mBuild the model first by calling `build()` or by calling \u001B[39m\u001B[38;5;124m\"\u001B[39m\n\u001B[1;32m   3232\u001B[0m         \u001B[38;5;124m\"\u001B[39m\u001B[38;5;124mthe model on a batch of data.\u001B[39m\u001B[38;5;124m\"\u001B[39m\n\u001B[1;32m   3233\u001B[0m     )\n\u001B[1;32m   3234\u001B[0m layer_utils\u001B[38;5;241m.\u001B[39mprint_summary(\n\u001B[1;32m   3235\u001B[0m     \u001B[38;5;28mself\u001B[39m,\n\u001B[1;32m   3236\u001B[0m     line_length\u001B[38;5;241m=\u001B[39mline_length,\n\u001B[0;32m   (...)\u001B[0m\n\u001B[1;32m   3241\u001B[0m     layer_range\u001B[38;5;241m=\u001B[39mlayer_range,\n\u001B[1;32m   3242\u001B[0m )\n",
      "\u001B[0;31mValueError\u001B[0m: This model has not yet been built. Build the model first by calling `build()` or by calling the model on a batch of data."
     ]
    }
   ],
   "source": [
    "model.summary()"
   ],
   "metadata": {
    "colab": {
     "base_uri": "https://localhost:8080/",
     "height": 346
    },
    "id": "5c62d9de9c0b5118",
    "executionInfo": {
     "status": "error",
     "timestamp": 1696076708328,
     "user_tz": -420,
     "elapsed": 9,
     "user": {
      "displayName": "kang sigit",
      "userId": "15887135570512197739"
     }
    },
    "outputId": "d80a5003-4477-4613-82d5-9ebc9a96dd43",
    "ExecuteTime": {
     "end_time": "2023-12-29T07:06:00.102433928Z",
     "start_time": "2023-12-29T07:05:59.226947077Z"
    }
   },
   "id": "5c62d9de9c0b5118"
  },
  {
   "cell_type": "code",
   "execution_count": 32,
   "outputs": [
    {
     "data": {
      "text/plain": "(<tf.Tensor: shape=(), dtype=int32, numpy=-100>,\n <tf.Tensor: shape=(), dtype=int32, numpy=-90>)"
     },
     "execution_count": 32,
     "metadata": {},
     "output_type": "execute_result"
    }
   ],
   "source": [
    "X[0], y[0]"
   ],
   "metadata": {
    "colab": {
     "base_uri": "https://localhost:8080/"
    },
    "id": "46ca08d5fb0a5d65",
    "executionInfo": {
     "status": "ok",
     "timestamp": 1696076717633,
     "user_tz": -420,
     "elapsed": 10,
     "user": {
      "displayName": "kang sigit",
      "userId": "15887135570512197739"
     }
    },
    "outputId": "7153ad61-fb91-4517-d967-04743d87b16f",
    "ExecuteTime": {
     "end_time": "2023-12-29T07:06:00.849672531Z",
     "start_time": "2023-12-29T07:06:00.806639895Z"
    }
   },
   "id": "46ca08d5fb0a5d65"
  },
  {
   "cell_type": "code",
   "execution_count": 33,
   "outputs": [],
   "source": [
    "# Let's create a model which builds automatically by defining the input_shape argument in the first layer\n",
    "tf.random.set_seed(42)\n",
    "\n",
    "# 1. Create a model (same as above)\n",
    "model = tf.keras.Sequential([\n",
    "    tf.keras.layers.Dense(10, input_shape=[1], name=\"input_layer\"),\n",
    "    tf.keras.layers.Dense(1, name=\"output_layer\")\n",
    "], name=\"model_1\")\n",
    "\n",
    "# 2. Compile the model (same as above)\n",
    "model.compile(loss=tf.keras.losses.mae,\n",
    "              optimizer=tf.keras.optimizers.SGD(),\n",
    "              metrics=[\"mae\"])"
   ],
   "metadata": {
    "id": "42cd0d927d2d8699",
    "executionInfo": {
     "status": "ok",
     "timestamp": 1696076720211,
     "user_tz": -420,
     "elapsed": 10,
     "user": {
      "displayName": "kang sigit",
      "userId": "15887135570512197739"
     }
    },
    "ExecuteTime": {
     "end_time": "2023-12-29T07:06:01.455128515Z",
     "start_time": "2023-12-29T07:06:01.395543145Z"
    }
   },
   "id": "42cd0d927d2d8699"
  },
  {
   "cell_type": "code",
   "execution_count": 34,
   "outputs": [
    {
     "name": "stdout",
     "output_type": "stream",
     "text": [
      "Model: \"model_1\"\n",
      "_________________________________________________________________\n",
      " Layer (type)                Output Shape              Param #   \n",
      "=================================================================\n",
      " input_layer (Dense)         (None, 10)                20        \n",
      "                                                                 \n",
      " output_layer (Dense)        (None, 1)                 11        \n",
      "                                                                 \n",
      "=================================================================\n",
      "Total params: 31\n",
      "Trainable params: 31\n",
      "Non-trainable params: 0\n",
      "_________________________________________________________________\n"
     ]
    }
   ],
   "source": [
    "model.summary()"
   ],
   "metadata": {
    "colab": {
     "base_uri": "https://localhost:8080/"
    },
    "id": "12813b7ae6d41c34",
    "executionInfo": {
     "status": "ok",
     "timestamp": 1696076725813,
     "user_tz": -420,
     "elapsed": 612,
     "user": {
      "displayName": "kang sigit",
      "userId": "15887135570512197739"
     }
    },
    "outputId": "f12abca0-cc47-466d-fcd4-d44e2144977c",
    "ExecuteTime": {
     "end_time": "2023-12-29T07:06:02.796182202Z",
     "start_time": "2023-12-29T07:06:02.719212358Z"
    }
   },
   "id": "12813b7ae6d41c34"
  },
  {
   "cell_type": "markdown",
   "source": [
    "* Total params - total number of parameters in the model.\n",
    "* Trainable parameters - these are the parameters (patterns) the model can update as it trains.\n",
    "* Non-trainable params - these parameters aren't updated during training (this is typical when you bring in already learn patterns or parameters from other models during **transfer learning**)\n",
    "\n",
    "**Resource:** For a more in-depth overview of the trainable parameters within a layer, check out [MIT's introduction to deep learning video](https://www.youtube.com/watch?v=QDX-1M5Nj7s&list=PLtBw6njQRU-rwp5__7C0oIVt26ZgjG9NI&index=2).\n",
    "\n",
    "**Exercise:** Try playing around with the number of hidden units in the dense layer, see how that effects the number of parameters (total and trainable) by calling `model.summary`."
   ],
   "metadata": {
    "collapsed": false,
    "id": "fe2ddf6925ef3e1b"
   },
   "id": "fe2ddf6925ef3e1b"
  },
  {
   "cell_type": "code",
   "execution_count": 35,
   "outputs": [
    {
     "data": {
      "text/plain": "<keras.callbacks.History at 0x7fd9dbfc0550>"
     },
     "execution_count": 35,
     "metadata": {},
     "output_type": "execute_result"
    }
   ],
   "source": [
    "# Let's fit our model to the training data\n",
    "model.fit(X_train, y_train, epochs=100, verbose=0)"
   ],
   "metadata": {
    "colab": {
     "base_uri": "https://localhost:8080/"
    },
    "id": "6cae2a5b5d81a33c",
    "executionInfo": {
     "status": "ok",
     "timestamp": 1696076731840,
     "user_tz": -420,
     "elapsed": 2129,
     "user": {
      "displayName": "kang sigit",
      "userId": "15887135570512197739"
     }
    },
    "outputId": "55f2e786-ca32-495c-c4b9-e0d598ca92a0",
    "ExecuteTime": {
     "end_time": "2023-12-29T07:06:06.276420928Z",
     "start_time": "2023-12-29T07:06:04.448645690Z"
    }
   },
   "id": "6cae2a5b5d81a33c"
  },
  {
   "cell_type": "code",
   "execution_count": 36,
   "outputs": [
    {
     "name": "stdout",
     "output_type": "stream",
     "text": [
      "Model: \"model_1\"\n",
      "_________________________________________________________________\n",
      " Layer (type)                Output Shape              Param #   \n",
      "=================================================================\n",
      " input_layer (Dense)         (None, 10)                20        \n",
      "                                                                 \n",
      " output_layer (Dense)        (None, 1)                 11        \n",
      "                                                                 \n",
      "=================================================================\n",
      "Total params: 31\n",
      "Trainable params: 31\n",
      "Non-trainable params: 0\n",
      "_________________________________________________________________\n"
     ]
    }
   ],
   "source": [
    "# Get a summary of our model\n",
    "model.summary()"
   ],
   "metadata": {
    "colab": {
     "base_uri": "https://localhost:8080/"
    },
    "id": "ef79d837a807dbff",
    "executionInfo": {
     "status": "ok",
     "timestamp": 1696076734841,
     "user_tz": -420,
     "elapsed": 14,
     "user": {
      "displayName": "kang sigit",
      "userId": "15887135570512197739"
     }
    },
    "outputId": "b874b077-66d4-48c3-d617-ab8bd9ea2360",
    "ExecuteTime": {
     "end_time": "2023-12-29T07:06:07.218484744Z",
     "start_time": "2023-12-29T07:06:07.124031445Z"
    }
   },
   "id": "ef79d837a807dbff"
  },
  {
   "cell_type": "code",
   "execution_count": 37,
   "outputs": [
    {
     "data": {
      "image/png": "[encoded data removed]",
      "text/plain": "<IPython.core.display.Image object>"
     },
     "execution_count": 37,
     "metadata": {},
     "output_type": "execute_result"
    }
   ],
   "source": [
    "# from tensorflow.keras.utils import plot_model\n",
    "# plot_model(model)\n",
    "tf.keras.utils.plot_model(model=model, show_shapes=True)"
   ],
   "metadata": {
    "colab": {
     "base_uri": "https://localhost:8080/",
     "height": 312
    },
    "id": "9f76823a012a16fc",
    "executionInfo": {
     "status": "ok",
     "timestamp": 1696076739831,
     "user_tz": -420,
     "elapsed": 5,
     "user": {
      "displayName": "kang sigit",
      "userId": "15887135570512197739"
     }
    },
    "outputId": "38ae9add-0cbe-45dd-9626-7c468c85b694",
    "ExecuteTime": {
     "end_time": "2023-12-29T07:06:08.197652993Z",
     "start_time": "2023-12-29T07:06:08.089497917Z"
    }
   },
   "id": "9f76823a012a16fc"
  },
  {
   "cell_type": "markdown",
   "source": [
    "### Visualizing our model's predictions\n",
    "\n",
    "To visualize predictions, it's a good idea to plot them against the ground truth labels.\n",
    "\n",
    "Often you'll see this in the form of `y_test` or `y_true` versus `y_pred` (ground truth versus your model's predictions)"
   ],
   "metadata": {
    "collapsed": false,
    "id": "f5244483f581fae1"
   },
   "id": "f5244483f581fae1"
  },
  {
   "cell_type": "code",
   "execution_count": 38,
   "outputs": [
    {
     "name": "stdout",
     "output_type": "stream",
     "text": [
      "1/1 [==============================] - 0s 52ms/step\n"
     ]
    },
    {
     "data": {
      "text/plain": "array([[ 70.46393 ],\n       [ 75.04545 ],\n       [ 79.62696 ],\n       [ 84.20848 ],\n       [ 88.79    ],\n       [ 93.37151 ],\n       [ 97.953026],\n       [102.53455 ],\n       [107.116066],\n       [111.697586]], dtype=float32)"
     },
     "execution_count": 38,
     "metadata": {},
     "output_type": "execute_result"
    }
   ],
   "source": [
    "y_pred = model.predict(X_test)\n",
    "y_pred"
   ],
   "metadata": {
    "colab": {
     "base_uri": "https://localhost:8080/"
    },
    "id": "293c2620b65dc170",
    "executionInfo": {
     "status": "ok",
     "timestamp": 1696076744822,
     "user_tz": -420,
     "elapsed": 10,
     "user": {
      "displayName": "kang sigit",
      "userId": "15887135570512197739"
     }
    },
    "outputId": "4ee87d96-0c2e-4169-b0dd-4c1440d57eb3",
    "ExecuteTime": {
     "end_time": "2023-12-29T07:06:10.292876495Z",
     "start_time": "2023-12-29T07:06:10.181219709Z"
    }
   },
   "id": "293c2620b65dc170"
  },
  {
   "cell_type": "code",
   "execution_count": 39,
   "outputs": [
    {
     "data": {
      "text/plain": "<tf.Tensor: shape=(10,), dtype=int32, numpy=array([ 70,  74,  78,  82,  86,  90,  94,  98, 102, 106], dtype=int32)>"
     },
     "execution_count": 39,
     "metadata": {},
     "output_type": "execute_result"
    }
   ],
   "source": [
    "y_test"
   ],
   "metadata": {
    "colab": {
     "base_uri": "https://localhost:8080/"
    },
    "id": "6c948e1753458992",
    "executionInfo": {
     "status": "ok",
     "timestamp": 1696076748866,
     "user_tz": -420,
     "elapsed": 623,
     "user": {
      "displayName": "kang sigit",
      "userId": "15887135570512197739"
     }
    },
    "outputId": "426fda75-0bdc-4f22-828b-160c21f17527",
    "ExecuteTime": {
     "end_time": "2023-12-29T07:06:11.461343855Z",
     "start_time": "2023-12-29T07:06:11.407799399Z"
    }
   },
   "id": "6c948e1753458992"
  },
  {
   "cell_type": "markdown",
   "source": [
    "🔑 **Note:** If you feel like you're going to reuse some kind of functionality in the future, it's a good idea to turn it into function."
   ],
   "metadata": {
    "collapsed": false,
    "id": "39dcf705504e7045"
   },
   "id": "39dcf705504e7045"
  },
  {
   "cell_type": "code",
   "execution_count": 40,
   "outputs": [],
   "source": [
    "# Let's create a plotting function\n",
    "def plot_predictions(train_data=X_train,\n",
    "                     train_labels=y_train,\n",
    "                     test_data=X_test,\n",
    "                     test_labels=y_test,\n",
    "                     predictions=y_pred):\n",
    "    \"\"\"\n",
    "    Plots training data, test data and compares predictions to ground truth labels.\n",
    "    \"\"\"\n",
    "\n",
    "    plt.figure(figsize=(10, 7))\n",
    "    # Plot training data in blue\n",
    "    plt.scatter(train_data, train_labels, c=\"b\", label=\"Training data\")\n",
    "    # Plot testing data in green\n",
    "    plt.scatter(test_data, test_labels, c=\"g\", label=\"Testing data\")\n",
    "    # Plot model's predictions in red\n",
    "    plt.scatter(test_data, predictions, c=\"r\", label=\"Predictions\")\n",
    "    # Show the legend\n",
    "    plt.legend();"
   ],
   "metadata": {
    "id": "71cba8a1be7b2c81",
    "executionInfo": {
     "status": "ok",
     "timestamp": 1696076751527,
     "user_tz": -420,
     "elapsed": 6,
     "user": {
      "displayName": "kang sigit",
      "userId": "15887135570512197739"
     }
    },
    "ExecuteTime": {
     "end_time": "2023-12-29T07:06:12.671605280Z",
     "start_time": "2023-12-29T07:06:12.631489206Z"
    }
   },
   "id": "71cba8a1be7b2c81"
  },
  {
   "cell_type": "code",
   "execution_count": 41,
   "outputs": [
    {
     "data": {
      "text/plain": "<Figure size 1000x700 with 1 Axes>",
      "image/png": "[encoded data removed]"
     },
     "metadata": {},
     "output_type": "display_data"
    }
   ],
   "source": [
    "plot_predictions(train_data=X_train,\n",
    "                 train_labels=y_train,\n",
    "                 test_data=X_test,\n",
    "                 test_labels=y_test,\n",
    "                 predictions=y_pred)"
   ],
   "metadata": {
    "colab": {
     "base_uri": "https://localhost:8080/",
     "height": 599
    },
    "id": "2a6d51a53151bf01",
    "executionInfo": {
     "status": "ok",
     "timestamp": 1696076756188,
     "user_tz": -420,
     "elapsed": 676,
     "user": {
      "displayName": "kang sigit",
      "userId": "15887135570512197739"
     }
    },
    "outputId": "5622b327-d23a-443a-98eb-37621a728b65",
    "ExecuteTime": {
     "end_time": "2023-12-29T07:06:13.542424681Z",
     "start_time": "2023-12-29T07:06:13.278988461Z"
    }
   },
   "id": "2a6d51a53151bf01"
  },
  {
   "cell_type": "markdown",
   "source": [
    "### Evaluating our model's predictions with regression evaluation metrics\n",
    "\n",
    "Depending on the problem you're working on, there will be different evaluation metrics to evaluate your model's performance.\n",
    "\n",
    "Since we're working on a regresion, two of the main metrics:\n",
    "* MAE - mean absolute error, \"on average, how wrong is each of my model's predictions\"\n",
    "* MSE - mean square error, \"square the average errors\""
   ],
   "metadata": {
    "collapsed": false,
    "id": "9ebf4e56a0b6b139"
   },
   "id": "9ebf4e56a0b6b139"
  },
  {
   "cell_type": "code",
   "execution_count": 42,
   "outputs": [
    {
     "name": "stdout",
     "output_type": "stream",
     "text": [
      "1/1 [==============================] - 0s 137ms/step - loss: 3.0808 - mae: 3.0808\n"
     ]
    },
    {
     "data": {
      "text/plain": "[3.080756425857544, 3.080756425857544]"
     },
     "execution_count": 42,
     "metadata": {},
     "output_type": "execute_result"
    }
   ],
   "source": [
    "# Evaluate the model on the test\n",
    "model.evaluate(X_test, y_test)"
   ],
   "metadata": {
    "colab": {
     "base_uri": "https://localhost:8080/"
    },
    "id": "36177621aade1e45",
    "executionInfo": {
     "status": "ok",
     "timestamp": 1696076760260,
     "user_tz": -420,
     "elapsed": 3,
     "user": {
      "displayName": "kang sigit",
      "userId": "15887135570512197739"
     }
    },
    "outputId": "8fde979d-d6d8-4b3c-cc52-788e23f56633",
    "ExecuteTime": {
     "end_time": "2023-12-29T07:06:15.071115644Z",
     "start_time": "2023-12-29T07:06:14.860959771Z"
    }
   },
   "id": "36177621aade1e45"
  },
  {
   "cell_type": "code",
   "execution_count": 43,
   "outputs": [
    {
     "data": {
      "text/plain": "<tf.Tensor: shape=(10,), dtype=float32, numpy=\narray([17.628857, 14.172731, 11.749216, 10.358304, 10.      , 10.674303,\n       12.38121 , 15.227643, 19.116066, 23.697586], dtype=float32)>"
     },
     "execution_count": 43,
     "metadata": {},
     "output_type": "execute_result"
    }
   ],
   "source": [
    "# Calculate the mean absolute error (wrong output)\n",
    "mae = tf.metrics.mean_absolute_error(y_true=y_test, y_pred=y_pred)\n",
    "mae"
   ],
   "metadata": {
    "colab": {
     "base_uri": "https://localhost:8080/"
    },
    "id": "575b0fa5aebbd5fd",
    "executionInfo": {
     "status": "ok",
     "timestamp": 1696076763811,
     "user_tz": -420,
     "elapsed": 715,
     "user": {
      "displayName": "kang sigit",
      "userId": "15887135570512197739"
     }
    },
    "outputId": "27b75cf0-09ff-4843-c70c-8761bba46195",
    "ExecuteTime": {
     "end_time": "2023-12-29T07:06:15.961897081Z",
     "start_time": "2023-12-29T07:06:15.932227742Z"
    }
   },
   "id": "575b0fa5aebbd5fd"
  },
  {
   "cell_type": "code",
   "execution_count": 44,
   "outputs": [
    {
     "data": {
      "text/plain": "array([[ 70.46393 ],\n       [ 75.04545 ],\n       [ 79.62696 ],\n       [ 84.20848 ],\n       [ 88.79    ],\n       [ 93.37151 ],\n       [ 97.953026],\n       [102.53455 ],\n       [107.116066],\n       [111.697586]], dtype=float32)"
     },
     "execution_count": 44,
     "metadata": {},
     "output_type": "execute_result"
    }
   ],
   "source": [
    "y_pred"
   ],
   "metadata": {
    "colab": {
     "base_uri": "https://localhost:8080/"
    },
    "id": "aedf7261aa2cc7ac",
    "executionInfo": {
     "status": "ok",
     "timestamp": 1696076770397,
     "user_tz": -420,
     "elapsed": 550,
     "user": {
      "displayName": "kang sigit",
      "userId": "15887135570512197739"
     }
    },
    "outputId": "780baeaa-5d3c-4eff-94cf-7e86833d9d55",
    "ExecuteTime": {
     "end_time": "2023-12-29T07:06:16.525261154Z",
     "start_time": "2023-12-29T07:06:16.503443390Z"
    }
   },
   "id": "aedf7261aa2cc7ac"
  },
  {
   "cell_type": "code",
   "execution_count": 45,
   "outputs": [
    {
     "data": {
      "text/plain": "<tf.Tensor: shape=(10, 1), dtype=float32, numpy=\narray([[ 70.46393 ],\n       [ 75.04545 ],\n       [ 79.62696 ],\n       [ 84.20848 ],\n       [ 88.79    ],\n       [ 93.37151 ],\n       [ 97.953026],\n       [102.53455 ],\n       [107.116066],\n       [111.697586]], dtype=float32)>"
     },
     "execution_count": 45,
     "metadata": {},
     "output_type": "execute_result"
    }
   ],
   "source": [
    "tf.constant(y_pred)"
   ],
   "metadata": {
    "colab": {
     "base_uri": "https://localhost:8080/"
    },
    "id": "efcfefa487523699",
    "executionInfo": {
     "status": "ok",
     "timestamp": 1696076773607,
     "user_tz": -420,
     "elapsed": 546,
     "user": {
      "displayName": "kang sigit",
      "userId": "15887135570512197739"
     }
    },
    "outputId": "208db3b7-e815-45df-983c-245825caa58f",
    "ExecuteTime": {
     "end_time": "2023-12-29T07:06:17.324200226Z",
     "start_time": "2023-12-29T07:06:17.293566908Z"
    }
   },
   "id": "efcfefa487523699"
  },
  {
   "cell_type": "code",
   "execution_count": 46,
   "outputs": [
    {
     "data": {
      "text/plain": "<tf.Tensor: shape=(10,), dtype=float32, numpy=\narray([ 70.46393 ,  75.04545 ,  79.62696 ,  84.20848 ,  88.79    ,\n        93.37151 ,  97.953026, 102.53455 , 107.116066, 111.697586],\n      dtype=float32)>"
     },
     "execution_count": 46,
     "metadata": {},
     "output_type": "execute_result"
    }
   ],
   "source": [
    "tf.squeeze(y_pred)"
   ],
   "metadata": {
    "colab": {
     "base_uri": "https://localhost:8080/"
    },
    "id": "f5f88f1ace7aeab8",
    "executionInfo": {
     "status": "ok",
     "timestamp": 1696076776274,
     "user_tz": -420,
     "elapsed": 11,
     "user": {
      "displayName": "kang sigit",
      "userId": "15887135570512197739"
     }
    },
    "outputId": "36ecd7c8-310f-4361-8a69-a11728deae72",
    "ExecuteTime": {
     "end_time": "2023-12-29T07:06:18.209244520Z",
     "start_time": "2023-12-29T07:06:18.155575231Z"
    }
   },
   "id": "f5f88f1ace7aeab8"
  },
  {
   "cell_type": "code",
   "execution_count": 47,
   "outputs": [
    {
     "data": {
      "text/plain": "<tf.Tensor: shape=(10,), dtype=int32, numpy=array([ 70,  74,  78,  82,  86,  90,  94,  98, 102, 106], dtype=int32)>"
     },
     "execution_count": 47,
     "metadata": {},
     "output_type": "execute_result"
    }
   ],
   "source": [
    "y_test"
   ],
   "metadata": {
    "colab": {
     "base_uri": "https://localhost:8080/"
    },
    "id": "5dad140f654bcf85",
    "executionInfo": {
     "status": "ok",
     "timestamp": 1696076779803,
     "user_tz": -420,
     "elapsed": 9,
     "user": {
      "displayName": "kang sigit",
      "userId": "15887135570512197739"
     }
    },
    "outputId": "eaa141da-b33a-4245-860d-9bf94dc1184b",
    "ExecuteTime": {
     "end_time": "2023-12-29T07:06:18.926282299Z",
     "start_time": "2023-12-29T07:06:18.880913911Z"
    }
   },
   "id": "5dad140f654bcf85"
  },
  {
   "cell_type": "code",
   "execution_count": 48,
   "outputs": [
    {
     "data": {
      "text/plain": "<tf.Tensor: shape=(), dtype=float32, numpy=3.0807564>"
     },
     "execution_count": 48,
     "metadata": {},
     "output_type": "execute_result"
    }
   ],
   "source": [
    "# Calculate the mean absolute error\n",
    "mae = tf.metrics.mean_absolute_error(y_true=y_test, y_pred=tf.squeeze(y_pred))\n",
    "mae"
   ],
   "metadata": {
    "colab": {
     "base_uri": "https://localhost:8080/"
    },
    "id": "cd2acac44e2bdbab",
    "executionInfo": {
     "status": "ok",
     "timestamp": 1696076782346,
     "user_tz": -420,
     "elapsed": 7,
     "user": {
      "displayName": "kang sigit",
      "userId": "15887135570512197739"
     }
    },
    "outputId": "080b3669-5b49-49d7-d8b0-369f59c86ff5",
    "ExecuteTime": {
     "end_time": "2023-12-29T07:06:19.590944084Z",
     "start_time": "2023-12-29T07:06:19.539524979Z"
    }
   },
   "id": "cd2acac44e2bdbab"
  },
  {
   "cell_type": "code",
   "execution_count": 49,
   "outputs": [
    {
     "data": {
      "text/plain": "<tf.Tensor: shape=(), dtype=float32, numpy=12.2809>"
     },
     "execution_count": 49,
     "metadata": {},
     "output_type": "execute_result"
    }
   ],
   "source": [
    "# Calculate the mean square error\n",
    "mse = tf.metrics.mean_squared_error(y_true=y_test,\n",
    "                                    y_pred=tf.squeeze(y_pred))\n",
    "mse"
   ],
   "metadata": {
    "colab": {
     "base_uri": "https://localhost:8080/"
    },
    "id": "fe4b0fd576d35da1",
    "executionInfo": {
     "status": "ok",
     "timestamp": 1696076787598,
     "user_tz": -420,
     "elapsed": 700,
     "user": {
      "displayName": "kang sigit",
      "userId": "15887135570512197739"
     }
    },
    "outputId": "cc58b7f4-9bc0-49f0-e7f7-1d2fa4171ae7",
    "ExecuteTime": {
     "end_time": "2023-12-29T07:06:20.381867407Z",
     "start_time": "2023-12-29T07:06:20.311582807Z"
    }
   },
   "id": "fe4b0fd576d35da1"
  },
  {
   "cell_type": "code",
   "execution_count": 50,
   "outputs": [],
   "source": [
    "# Make some functions to reuse MAE and MSE\n",
    "def mae(y_true, y_pred):\n",
    "    return tf.metrics.mean_absolute_error(y_true=y_true,\n",
    "                                          y_pred=tf.squeeze(y_pred))\n",
    "\n",
    "def mse(y_true, y_pred):\n",
    "    return tf.metrics.mean_squared_error(y_true=y_true,\n",
    "                                         y_pred=tf.squeeze(y_pred))"
   ],
   "metadata": {
    "id": "c6fceadbc41c29ae",
    "executionInfo": {
     "status": "ok",
     "timestamp": 1696076790743,
     "user_tz": -420,
     "elapsed": 675,
     "user": {
      "displayName": "kang sigit",
      "userId": "15887135570512197739"
     }
    },
    "ExecuteTime": {
     "end_time": "2023-12-29T07:06:21.047524288Z",
     "start_time": "2023-12-29T07:06:21.002346376Z"
    }
   },
   "id": "c6fceadbc41c29ae"
  },
  {
   "cell_type": "markdown",
   "source": [
    "### Running experiments to improve our model\n",
    "\n",
    "```\n",
    "Build a model -> fit it -> evaluate it -> tweak it -> fit it -> evaluate it -> tweak it -> fit it -> evaluate it ...\n",
    "```\n",
    "\n",
    "1. Get more data - get more examples for your model to train on (more opportunities to learn patterns or relationships between features and labels).\n",
    "2. Make your model larger (using a more complex model) - this might come in the form of more layers or more hidden units in each layer.\n",
    "3. Train for longger - give your model more of a chance to find patterns in the data.\n",
    "\n",
    "Let's do 3 modelling experiments:\n",
    "\n",
    "1. `model_1` - same as original model, 1 layer, trained for 100 epochs.\n",
    "2. `model_2` - 2 layers, trained for 100 epochs.\n",
    "3. `model_3` - 2 layers, trained for 500 epochs.\n",
    "\n",
    "**Build `model_1`**"
   ],
   "metadata": {
    "collapsed": false,
    "id": "b61006e52b76be84"
   },
   "id": "b61006e52b76be84"
  },
  {
   "cell_type": "code",
   "execution_count": 51,
   "outputs": [
    {
     "name": "stdout",
     "output_type": "stream",
     "text": [
      "Epoch 1/100\n",
      "2/2 [==============================] - 0s 5ms/step - loss: 9.5182 - mae: 9.5182\n",
      "Epoch 2/100\n",
      "2/2 [==============================] - 0s 4ms/step - loss: 10.1427 - mae: 10.1427\n",
      "Epoch 3/100\n",
      "2/2 [==============================] - 0s 4ms/step - loss: 10.2063 - mae: 10.2063\n",
      "Epoch 4/100\n",
      "2/2 [==============================] - 0s 3ms/step - loss: 9.4384 - mae: 9.4384\n",
      "Epoch 5/100\n",
      "2/2 [==============================] - 0s 4ms/step - loss: 10.3294 - mae: 10.3294\n",
      "Epoch 6/100\n",
      "2/2 [==============================] - 0s 5ms/step - loss: 9.5717 - mae: 9.5717\n",
      "Epoch 7/100\n",
      "2/2 [==============================] - 0s 5ms/step - loss: 8.6877 - mae: 8.6877\n",
      "Epoch 8/100\n",
      "2/2 [==============================] - 0s 6ms/step - loss: 9.0482 - mae: 9.0482\n",
      "Epoch 9/100\n",
      "2/2 [==============================] - 0s 5ms/step - loss: 19.0569 - mae: 19.0569\n",
      "Epoch 10/100\n",
      "2/2 [==============================] - 0s 5ms/step - loss: 10.2797 - mae: 10.2797\n",
      "Epoch 11/100\n",
      "2/2 [==============================] - 0s 5ms/step - loss: 8.4587 - mae: 8.4587\n",
      "Epoch 12/100\n",
      "2/2 [==============================] - 0s 4ms/step - loss: 10.7951 - mae: 10.7951\n",
      "Epoch 13/100\n",
      "2/2 [==============================] - 0s 3ms/step - loss: 9.8567 - mae: 9.8567\n",
      "Epoch 14/100\n",
      "2/2 [==============================] - 0s 4ms/step - loss: 12.0304 - mae: 12.0304\n",
      "Epoch 15/100\n",
      "2/2 [==============================] - 0s 5ms/step - loss: 12.4497 - mae: 12.4497\n",
      "Epoch 16/100\n",
      "2/2 [==============================] - 0s 5ms/step - loss: 7.9061 - mae: 7.9061\n",
      "Epoch 17/100\n",
      "2/2 [==============================] - 0s 4ms/step - loss: 12.8318 - mae: 12.8318\n",
      "Epoch 18/100\n",
      "2/2 [==============================] - 0s 3ms/step - loss: 10.4620 - mae: 10.4620\n",
      "Epoch 19/100\n",
      "2/2 [==============================] - 0s 5ms/step - loss: 19.2354 - mae: 19.2354\n",
      "Epoch 20/100\n",
      "2/2 [==============================] - 0s 4ms/step - loss: 15.8997 - mae: 15.8997\n",
      "Epoch 21/100\n",
      "2/2 [==============================] - 0s 4ms/step - loss: 11.7275 - mae: 11.7275\n",
      "Epoch 22/100\n",
      "2/2 [==============================] - 0s 4ms/step - loss: 8.9298 - mae: 8.9298\n",
      "Epoch 23/100\n",
      "2/2 [==============================] - 0s 4ms/step - loss: 10.0439 - mae: 10.0439\n",
      "Epoch 24/100\n",
      "2/2 [==============================] - 0s 4ms/step - loss: 15.6275 - mae: 15.6275\n",
      "Epoch 25/100\n",
      "2/2 [==============================] - 0s 3ms/step - loss: 12.0930 - mae: 12.0930\n",
      "Epoch 26/100\n",
      "2/2 [==============================] - 0s 3ms/step - loss: 13.2063 - mae: 13.2063\n",
      "Epoch 27/100\n",
      "2/2 [==============================] - 0s 5ms/step - loss: 10.6699 - mae: 10.6699\n",
      "Epoch 28/100\n",
      "2/2 [==============================] - 0s 3ms/step - loss: 12.8982 - mae: 12.8982\n",
      "Epoch 29/100\n",
      "2/2 [==============================] - 0s 5ms/step - loss: 9.5044 - mae: 9.5044\n",
      "Epoch 30/100\n",
      "2/2 [==============================] - 0s 4ms/step - loss: 16.4367 - mae: 16.4367\n",
      "Epoch 31/100\n",
      "2/2 [==============================] - 0s 4ms/step - loss: 23.5485 - mae: 23.5485\n",
      "Epoch 32/100\n",
      "2/2 [==============================] - 0s 5ms/step - loss: 7.5955 - mae: 7.5955\n",
      "Epoch 33/100\n",
      "2/2 [==============================] - 0s 4ms/step - loss: 9.2915 - mae: 9.2915\n",
      "Epoch 34/100\n",
      "2/2 [==============================] - 0s 4ms/step - loss: 13.6537 - mae: 13.6537\n",
      "Epoch 35/100\n",
      "2/2 [==============================] - 0s 3ms/step - loss: 11.1575 - mae: 11.1575\n",
      "Epoch 36/100\n",
      "2/2 [==============================] - 0s 3ms/step - loss: 13.3938 - mae: 13.3938\n",
      "Epoch 37/100\n",
      "2/2 [==============================] - 0s 4ms/step - loss: 9.4347 - mae: 9.4347\n",
      "Epoch 38/100\n",
      "2/2 [==============================] - 0s 3ms/step - loss: 10.0842 - mae: 10.0842\n",
      "Epoch 39/100\n",
      "2/2 [==============================] - 0s 3ms/step - loss: 8.9616 - mae: 8.9616\n",
      "Epoch 40/100\n",
      "2/2 [==============================] - 0s 4ms/step - loss: 9.5891 - mae: 9.5891\n",
      "Epoch 41/100\n",
      "2/2 [==============================] - 0s 4ms/step - loss: 10.5502 - mae: 10.5502\n",
      "Epoch 42/100\n",
      "2/2 [==============================] - 0s 4ms/step - loss: 10.6031 - mae: 10.6031\n",
      "Epoch 43/100\n",
      "2/2 [==============================] - 0s 4ms/step - loss: 7.1973 - mae: 7.1973\n",
      "Epoch 44/100\n",
      "2/2 [==============================] - 0s 3ms/step - loss: 8.0040 - mae: 8.0040\n",
      "Epoch 45/100\n",
      "2/2 [==============================] - 0s 3ms/step - loss: 9.8048 - mae: 9.8048\n",
      "Epoch 46/100\n",
      "2/2 [==============================] - 0s 3ms/step - loss: 8.8851 - mae: 8.8851\n",
      "Epoch 47/100\n",
      "2/2 [==============================] - 0s 3ms/step - loss: 7.5530 - mae: 7.5530\n",
      "Epoch 48/100\n",
      "2/2 [==============================] - 0s 4ms/step - loss: 8.5226 - mae: 8.5226\n",
      "Epoch 49/100\n",
      "2/2 [==============================] - 0s 4ms/step - loss: 10.0158 - mae: 10.0158\n",
      "Epoch 50/100\n",
      "2/2 [==============================] - 0s 4ms/step - loss: 8.9695 - mae: 8.9695\n",
      "Epoch 51/100\n",
      "2/2 [==============================] - 0s 3ms/step - loss: 10.6921 - mae: 10.6921\n",
      "Epoch 52/100\n",
      "2/2 [==============================] - 0s 4ms/step - loss: 15.2507 - mae: 15.2507\n",
      "Epoch 53/100\n",
      "2/2 [==============================] - 0s 6ms/step - loss: 14.2819 - mae: 14.2819\n",
      "Epoch 54/100\n",
      "2/2 [==============================] - 0s 4ms/step - loss: 21.5381 - mae: 21.5381\n",
      "Epoch 55/100\n",
      "2/2 [==============================] - 0s 3ms/step - loss: 16.0409 - mae: 16.0409\n",
      "Epoch 56/100\n",
      "2/2 [==============================] - 0s 3ms/step - loss: 10.2358 - mae: 10.2358\n",
      "Epoch 57/100\n",
      "2/2 [==============================] - 0s 4ms/step - loss: 9.7813 - mae: 9.7813\n",
      "Epoch 58/100\n",
      "2/2 [==============================] - 0s 4ms/step - loss: 9.0632 - mae: 9.0632\n",
      "Epoch 59/100\n",
      "2/2 [==============================] - 0s 3ms/step - loss: 8.2694 - mae: 8.2694\n",
      "Epoch 60/100\n",
      "2/2 [==============================] - 0s 4ms/step - loss: 9.3602 - mae: 9.3602\n",
      "Epoch 61/100\n",
      "2/2 [==============================] - 0s 4ms/step - loss: 11.1883 - mae: 11.1883\n",
      "Epoch 62/100\n",
      "2/2 [==============================] - 0s 4ms/step - loss: 12.0224 - mae: 12.0224\n",
      "Epoch 63/100\n",
      "2/2 [==============================] - 0s 4ms/step - loss: 7.2600 - mae: 7.2600\n",
      "Epoch 64/100\n",
      "2/2 [==============================] - 0s 4ms/step - loss: 12.4552 - mae: 12.4552\n",
      "Epoch 65/100\n",
      "2/2 [==============================] - 0s 4ms/step - loss: 10.5241 - mae: 10.5241\n",
      "Epoch 66/100\n",
      "2/2 [==============================] - 0s 4ms/step - loss: 15.5556 - mae: 15.5556\n",
      "Epoch 67/100\n",
      "2/2 [==============================] - 0s 4ms/step - loss: 9.9674 - mae: 9.9674\n",
      "Epoch 68/100\n",
      "2/2 [==============================] - 0s 3ms/step - loss: 8.6951 - mae: 8.6951\n",
      "Epoch 69/100\n",
      "2/2 [==============================] - 0s 3ms/step - loss: 13.4305 - mae: 13.4305\n",
      "Epoch 70/100\n",
      "2/2 [==============================] - 0s 4ms/step - loss: 7.4550 - mae: 7.4550\n",
      "Epoch 71/100\n",
      "2/2 [==============================] - 0s 3ms/step - loss: 12.2510 - mae: 12.2510\n",
      "Epoch 72/100\n",
      "2/2 [==============================] - 0s 3ms/step - loss: 8.4950 - mae: 8.4950\n",
      "Epoch 73/100\n",
      "2/2 [==============================] - 0s 4ms/step - loss: 7.0225 - mae: 7.0225\n",
      "Epoch 74/100\n",
      "2/2 [==============================] - 0s 3ms/step - loss: 9.8738 - mae: 9.8738\n",
      "Epoch 75/100\n",
      "2/2 [==============================] - 0s 5ms/step - loss: 9.9496 - mae: 9.9496\n",
      "Epoch 76/100\n",
      "2/2 [==============================] - 0s 5ms/step - loss: 10.1096 - mae: 10.1096\n",
      "Epoch 77/100\n",
      "2/2 [==============================] - 0s 5ms/step - loss: 12.9869 - mae: 12.9869\n",
      "Epoch 78/100\n",
      "2/2 [==============================] - 0s 4ms/step - loss: 10.8789 - mae: 10.8789\n",
      "Epoch 79/100\n",
      "2/2 [==============================] - 0s 4ms/step - loss: 15.3564 - mae: 15.3564\n",
      "Epoch 80/100\n",
      "2/2 [==============================] - 0s 4ms/step - loss: 11.7226 - mae: 11.7226\n",
      "Epoch 81/100\n",
      "2/2 [==============================] - 0s 5ms/step - loss: 9.2277 - mae: 9.2277\n",
      "Epoch 82/100\n",
      "2/2 [==============================] - 0s 4ms/step - loss: 12.8191 - mae: 12.8191\n",
      "Epoch 83/100\n",
      "2/2 [==============================] - 0s 6ms/step - loss: 10.2703 - mae: 10.2703\n",
      "Epoch 84/100\n",
      "2/2 [==============================] - 0s 6ms/step - loss: 10.5998 - mae: 10.5998\n",
      "Epoch 85/100\n",
      "2/2 [==============================] - 0s 5ms/step - loss: 9.3081 - mae: 9.3081\n",
      "Epoch 86/100\n",
      "2/2 [==============================] - 0s 4ms/step - loss: 9.1566 - mae: 9.1566\n",
      "Epoch 87/100\n",
      "2/2 [==============================] - 0s 5ms/step - loss: 11.8930 - mae: 11.8930\n",
      "Epoch 88/100\n",
      "2/2 [==============================] - 0s 4ms/step - loss: 10.5028 - mae: 10.5028\n",
      "Epoch 89/100\n",
      "2/2 [==============================] - 0s 6ms/step - loss: 7.2261 - mae: 7.2261\n",
      "Epoch 90/100\n",
      "2/2 [==============================] - 0s 5ms/step - loss: 12.6300 - mae: 12.6300\n",
      "Epoch 91/100\n",
      "2/2 [==============================] - 0s 3ms/step - loss: 7.2720 - mae: 7.2720\n",
      "Epoch 92/100\n",
      "2/2 [==============================] - 0s 3ms/step - loss: 7.6310 - mae: 7.6310\n",
      "Epoch 93/100\n",
      "2/2 [==============================] - 0s 6ms/step - loss: 7.0952 - mae: 7.0952\n",
      "Epoch 94/100\n",
      "2/2 [==============================] - 0s 6ms/step - loss: 12.4819 - mae: 12.4819\n",
      "Epoch 95/100\n",
      "2/2 [==============================] - 0s 5ms/step - loss: 9.8564 - mae: 9.8564\n",
      "Epoch 96/100\n",
      "2/2 [==============================] - 0s 4ms/step - loss: 9.1360 - mae: 9.1360\n",
      "Epoch 97/100\n",
      "2/2 [==============================] - 0s 3ms/step - loss: 12.1123 - mae: 12.1123\n",
      "Epoch 98/100\n",
      "2/2 [==============================] - 0s 4ms/step - loss: 9.0040 - mae: 9.0040\n",
      "Epoch 99/100\n",
      "2/2 [==============================] - 0s 4ms/step - loss: 8.4881 - mae: 8.4881\n",
      "Epoch 100/100\n",
      "2/2 [==============================] - 0s 4ms/step - loss: 14.5113 - mae: 14.5113\n"
     ]
    },
    {
     "data": {
      "text/plain": "<keras.callbacks.History at 0x7fd9d8fcab90>"
     },
     "execution_count": 51,
     "metadata": {},
     "output_type": "execute_result"
    }
   ],
   "source": [
    "# Set random seed\n",
    "tf.random.set_seed(42)\n",
    "\n",
    "# 1. Create the model\n",
    "model_1 = tf.keras.Sequential([\n",
    "    tf.keras.layers.Dense(1)\n",
    "])\n",
    "\n",
    "# 2. Compile the model\n",
    "model_1.compile(loss=tf.keras.losses.mae,\n",
    "                optimizer=tf.keras.optimizers.SGD(),\n",
    "                metrics=[\"mae\"])\n",
    "\n",
    "# 3. Fit the model\n",
    "model_1.fit(tf.expand_dims(X_train, axis=-1), y_train, epochs=100)"
   ],
   "metadata": {
    "colab": {
     "base_uri": "https://localhost:8080/"
    },
    "id": "722c58063f2b0200",
    "executionInfo": {
     "status": "ok",
     "timestamp": 1696076802171,
     "user_tz": -420,
     "elapsed": 5802,
     "user": {
      "displayName": "kang sigit",
      "userId": "15887135570512197739"
     }
    },
    "outputId": "96af9472-0736-414d-a002-0bf8741f4cd3",
    "ExecuteTime": {
     "end_time": "2023-12-29T07:06:24.157385269Z",
     "start_time": "2023-12-29T07:06:22.192881211Z"
    }
   },
   "id": "722c58063f2b0200"
  },
  {
   "cell_type": "code",
   "execution_count": 52,
   "outputs": [
    {
     "name": "stdout",
     "output_type": "stream",
     "text": [
      "WARNING:tensorflow:5 out of the last 5 calls to <function Model.make_predict_function.<locals>.predict_function at 0x7fd9f375ee80> triggered tf.function retracing. Tracing is expensive and the excessive number of tracings could be due to (1) creating @tf.function repeatedly in a loop, (2) passing tensors with different shapes, (3) passing Python objects instead of tensors. For (1), please define your @tf.function outside of the loop. For (2), @tf.function has reduce_retracing=True option that can avoid unnecessary retracing. For (3), please refer to https://www.tensorflow.org/guide/function#controlling_retracing and https://www.tensorflow.org/api_docs/python/tf/function for  more details.\n",
      "1/1 [==============================] - 0s 60ms/step\n"
     ]
    },
    {
     "data": {
      "text/plain": "<Figure size 1000x700 with 1 Axes>",
      "image/png": "[encoded data removed]"
     },
     "metadata": {},
     "output_type": "display_data"
    }
   ],
   "source": [
    "# Make and plot predictions for model_1\n",
    "y_preds_1 = model_1.predict(X_test)\n",
    "plot_predictions(predictions=y_preds_1)"
   ],
   "metadata": {
    "colab": {
     "base_uri": "https://localhost:8080/",
     "height": 656
    },
    "id": "382f33287c6f7581",
    "executionInfo": {
     "status": "ok",
     "timestamp": 1696076818038,
     "user_tz": -420,
     "elapsed": 674,
     "user": {
      "displayName": "kang sigit",
      "userId": "15887135570512197739"
     }
    },
    "outputId": "ccf8fe91-0129-401c-a1c0-25bb427ce51c",
    "ExecuteTime": {
     "end_time": "2023-12-29T07:06:24.475167475Z",
     "start_time": "2023-12-29T07:06:23.437134121Z"
    }
   },
   "id": "382f33287c6f7581"
  },
  {
   "cell_type": "code",
   "execution_count": 53,
   "outputs": [
    {
     "data": {
      "text/plain": "(<tf.Tensor: shape=(10, 1), dtype=float32, numpy=\n array([[44.61844 ],\n        [47.504417],\n        [50.390396],\n        [53.276375],\n        [56.162354],\n        [59.048332],\n        [61.934315],\n        [64.82029 ],\n        [67.70627 ],\n        [70.592255]], dtype=float32)>,\n <tf.Tensor: shape=(10,), dtype=float32, numpy=\n array([44.61844 , 47.504417, 50.390396, 53.276375, 56.162354, 59.048332,\n        61.934315, 64.82029 , 67.70627 , 70.592255], dtype=float32)>)"
     },
     "execution_count": 53,
     "metadata": {},
     "output_type": "execute_result"
    }
   ],
   "source": [
    "tf.constant(y_preds_1), tf.squeeze(y_preds_1)"
   ],
   "metadata": {
    "colab": {
     "base_uri": "https://localhost:8080/"
    },
    "id": "d717b5c1f0b6405",
    "executionInfo": {
     "status": "ok",
     "timestamp": 1696076824537,
     "user_tz": -420,
     "elapsed": 618,
     "user": {
      "displayName": "kang sigit",
      "userId": "15887135570512197739"
     }
    },
    "outputId": "c4292f0f-6ede-4cbc-f6cc-5e32de1363fd",
    "ExecuteTime": {
     "end_time": "2023-12-29T07:06:29.653050285Z",
     "start_time": "2023-12-29T07:06:29.625849080Z"
    }
   },
   "id": "d717b5c1f0b6405"
  },
  {
   "cell_type": "code",
   "execution_count": 54,
   "outputs": [
    {
     "data": {
      "text/plain": "(<tf.Tensor: shape=(), dtype=float32, numpy=30.394657>,\n <tf.Tensor: shape=(), dtype=float32, numpy=934.0737>)"
     },
     "execution_count": 54,
     "metadata": {},
     "output_type": "execute_result"
    }
   ],
   "source": [
    "# Calculate model_1 evaluation metrics\n",
    "mae_1 = mae(y_test, y_preds_1)\n",
    "mse_1 = mse(y_test, y_preds_1)\n",
    "mae_1, mse_1"
   ],
   "metadata": {
    "colab": {
     "base_uri": "https://localhost:8080/"
    },
    "id": "f00fe8d1a1017420",
    "executionInfo": {
     "status": "ok",
     "timestamp": 1696076828361,
     "user_tz": -420,
     "elapsed": 577,
     "user": {
      "displayName": "kang sigit",
      "userId": "15887135570512197739"
     }
    },
    "outputId": "636c597c-4cd6-45be-c773-f547bde4ca55",
    "ExecuteTime": {
     "end_time": "2023-12-29T07:06:30.561787140Z",
     "start_time": "2023-12-29T07:06:30.511561148Z"
    }
   },
   "id": "f00fe8d1a1017420"
  },
  {
   "cell_type": "markdown",
   "source": [
    "**Build `model_2`**\n",
    "\n",
    "* 2 dense layers, trained for 100 epochs"
   ],
   "metadata": {
    "collapsed": false,
    "id": "ab30453e074532d3"
   },
   "id": "ab30453e074532d3"
  },
  {
   "cell_type": "code",
   "execution_count": 55,
   "outputs": [
    {
     "name": "stdout",
     "output_type": "stream",
     "text": [
      "Epoch 1/100\n",
      "2/2 [==============================] - 0s 13ms/step - loss: 16.1766 - mae: 16.1766\n",
      "Epoch 2/100\n",
      "2/2 [==============================] - 0s 8ms/step - loss: 25.4202 - mae: 25.4202\n",
      "Epoch 3/100\n",
      "2/2 [==============================] - 0s 7ms/step - loss: 29.7102 - mae: 29.7102\n",
      "Epoch 4/100\n",
      "2/2 [==============================] - 0s 10ms/step - loss: 13.5544 - mae: 13.5544\n",
      "Epoch 5/100\n",
      "2/2 [==============================] - 0s 7ms/step - loss: 18.2984 - mae: 18.2984\n",
      "Epoch 6/100\n",
      "2/2 [==============================] - 0s 8ms/step - loss: 9.2545 - mae: 9.2545\n",
      "Epoch 7/100\n",
      "2/2 [==============================] - 0s 14ms/step - loss: 10.2387 - mae: 10.2387\n",
      "Epoch 8/100\n",
      "2/2 [==============================] - 0s 8ms/step - loss: 11.2069 - mae: 11.2069\n",
      "Epoch 9/100\n",
      "2/2 [==============================] - 0s 9ms/step - loss: 41.8006 - mae: 41.8006\n",
      "Epoch 10/100\n",
      "2/2 [==============================] - 0s 9ms/step - loss: 29.0226 - mae: 29.0226\n",
      "Epoch 11/100\n",
      "2/2 [==============================] - 0s 8ms/step - loss: 8.5502 - mae: 8.5502\n",
      "Epoch 12/100\n",
      "2/2 [==============================] - 0s 7ms/step - loss: 27.4147 - mae: 27.4147\n",
      "Epoch 13/100\n",
      "2/2 [==============================] - 0s 7ms/step - loss: 12.1358 - mae: 12.1358\n",
      "Epoch 14/100\n",
      "2/2 [==============================] - 0s 7ms/step - loss: 34.9568 - mae: 34.9568\n",
      "Epoch 15/100\n",
      "2/2 [==============================] - 0s 7ms/step - loss: 22.7626 - mae: 22.7626\n",
      "Epoch 16/100\n",
      "2/2 [==============================] - 0s 16ms/step - loss: 9.9626 - mae: 9.9626\n",
      "Epoch 17/100\n",
      "2/2 [==============================] - 0s 8ms/step - loss: 17.9582 - mae: 17.9582\n",
      "Epoch 18/100\n",
      "2/2 [==============================] - 0s 8ms/step - loss: 14.7713 - mae: 14.7713\n",
      "Epoch 19/100\n",
      "2/2 [==============================] - 0s 7ms/step - loss: 11.5957 - mae: 11.5957\n",
      "Epoch 20/100\n",
      "2/2 [==============================] - 0s 7ms/step - loss: 10.5409 - mae: 10.5409\n",
      "Epoch 21/100\n",
      "2/2 [==============================] - 0s 9ms/step - loss: 15.4043 - mae: 15.4043\n",
      "Epoch 22/100\n",
      "2/2 [==============================] - 0s 7ms/step - loss: 16.0773 - mae: 16.0773\n",
      "Epoch 23/100\n",
      "2/2 [==============================] - 0s 6ms/step - loss: 9.2516 - mae: 9.2516\n",
      "Epoch 24/100\n",
      "2/2 [==============================] - 0s 11ms/step - loss: 17.3414 - mae: 17.3414\n",
      "Epoch 25/100\n",
      "2/2 [==============================] - 0s 10ms/step - loss: 15.9924 - mae: 15.9924\n",
      "Epoch 26/100\n",
      "2/2 [==============================] - 0s 7ms/step - loss: 21.0606 - mae: 21.0606\n",
      "Epoch 27/100\n",
      "2/2 [==============================] - 0s 9ms/step - loss: 25.6736 - mae: 25.6736\n",
      "Epoch 28/100\n",
      "2/2 [==============================] - 0s 8ms/step - loss: 18.2090 - mae: 18.2090\n",
      "Epoch 29/100\n",
      "2/2 [==============================] - 0s 8ms/step - loss: 9.2335 - mae: 9.2335\n",
      "Epoch 30/100\n",
      "2/2 [==============================] - 0s 6ms/step - loss: 28.8061 - mae: 28.8061\n",
      "Epoch 31/100\n",
      "2/2 [==============================] - 0s 6ms/step - loss: 52.1417 - mae: 52.1417\n",
      "Epoch 32/100\n",
      "2/2 [==============================] - 0s 11ms/step - loss: 11.4546 - mae: 11.4546\n",
      "Epoch 33/100\n",
      "2/2 [==============================] - 0s 8ms/step - loss: 12.1971 - mae: 12.1971\n",
      "Epoch 34/100\n",
      "2/2 [==============================] - 0s 7ms/step - loss: 24.0331 - mae: 24.0331\n",
      "Epoch 35/100\n",
      "2/2 [==============================] - 0s 7ms/step - loss: 12.0013 - mae: 12.0013\n",
      "Epoch 36/100\n",
      "2/2 [==============================] - 0s 9ms/step - loss: 22.3577 - mae: 22.3577\n",
      "Epoch 37/100\n",
      "2/2 [==============================] - 0s 10ms/step - loss: 17.1301 - mae: 17.1301\n",
      "Epoch 38/100\n",
      "2/2 [==============================] - 0s 7ms/step - loss: 10.5688 - mae: 10.5688\n",
      "Epoch 39/100\n",
      "2/2 [==============================] - 0s 12ms/step - loss: 11.0866 - mae: 11.0866\n",
      "Epoch 40/100\n",
      "2/2 [==============================] - 0s 6ms/step - loss: 17.6953 - mae: 17.6953\n",
      "Epoch 41/100\n",
      "2/2 [==============================] - 0s 7ms/step - loss: 10.2704 - mae: 10.2704\n",
      "Epoch 42/100\n",
      "2/2 [==============================] - 0s 7ms/step - loss: 7.1455 - mae: 7.1455\n",
      "Epoch 43/100\n",
      "2/2 [==============================] - 0s 5ms/step - loss: 15.3574 - mae: 15.3574\n",
      "Epoch 44/100\n",
      "2/2 [==============================] - 0s 6ms/step - loss: 25.0766 - mae: 25.0766\n",
      "Epoch 45/100\n",
      "2/2 [==============================] - 0s 12ms/step - loss: 12.1278 - mae: 12.1278\n",
      "Epoch 46/100\n",
      "2/2 [==============================] - 0s 10ms/step - loss: 16.4932 - mae: 16.4932\n",
      "Epoch 47/100\n",
      "2/2 [==============================] - 0s 7ms/step - loss: 14.9248 - mae: 14.9248\n",
      "Epoch 48/100\n",
      "2/2 [==============================] - 0s 18ms/step - loss: 14.1286 - mae: 14.1286\n",
      "Epoch 49/100\n",
      "2/2 [==============================] - 0s 7ms/step - loss: 13.6919 - mae: 13.6919\n",
      "Epoch 50/100\n",
      "2/2 [==============================] - 0s 13ms/step - loss: 15.2541 - mae: 15.2541\n",
      "Epoch 51/100\n",
      "2/2 [==============================] - 0s 8ms/step - loss: 13.7445 - mae: 13.7445\n",
      "Epoch 52/100\n",
      "2/2 [==============================] - 0s 9ms/step - loss: 18.1496 - mae: 18.1496\n",
      "Epoch 53/100\n",
      "2/2 [==============================] - 0s 11ms/step - loss: 22.8733 - mae: 22.8733\n",
      "Epoch 54/100\n",
      "2/2 [==============================] - 0s 9ms/step - loss: 26.5510 - mae: 26.5510\n",
      "Epoch 55/100\n",
      "2/2 [==============================] - 0s 16ms/step - loss: 26.1527 - mae: 26.1527\n",
      "Epoch 56/100\n",
      "2/2 [==============================] - 0s 9ms/step - loss: 11.2657 - mae: 11.2657\n",
      "Epoch 57/100\n",
      "2/2 [==============================] - 0s 11ms/step - loss: 13.2581 - mae: 13.2581\n",
      "Epoch 58/100\n",
      "2/2 [==============================] - 0s 7ms/step - loss: 9.8886 - mae: 9.8886\n",
      "Epoch 59/100\n",
      "2/2 [==============================] - 0s 9ms/step - loss: 13.4592 - mae: 13.4592\n",
      "Epoch 60/100\n",
      "2/2 [==============================] - 0s 26ms/step - loss: 10.9585 - mae: 10.9585\n",
      "Epoch 61/100\n",
      "2/2 [==============================] - 0s 7ms/step - loss: 13.5997 - mae: 13.5997\n",
      "Epoch 62/100\n",
      "2/2 [==============================] - 0s 16ms/step - loss: 17.9766 - mae: 17.9766\n",
      "Epoch 63/100\n",
      "2/2 [==============================] - 0s 7ms/step - loss: 8.7478 - mae: 8.7478\n",
      "Epoch 64/100\n",
      "2/2 [==============================] - 0s 7ms/step - loss: 16.2092 - mae: 16.2092\n",
      "Epoch 65/100\n",
      "2/2 [==============================] - 0s 8ms/step - loss: 10.7621 - mae: 10.7621\n",
      "Epoch 66/100\n",
      "2/2 [==============================] - 0s 8ms/step - loss: 22.2969 - mae: 22.2969\n",
      "Epoch 67/100\n",
      "2/2 [==============================] - 0s 9ms/step - loss: 10.2904 - mae: 10.2904\n",
      "Epoch 68/100\n",
      "2/2 [==============================] - 0s 7ms/step - loss: 13.5300 - mae: 13.5300\n",
      "Epoch 69/100\n",
      "2/2 [==============================] - 0s 7ms/step - loss: 11.4662 - mae: 11.4662\n",
      "Epoch 70/100\n",
      "2/2 [==============================] - 0s 7ms/step - loss: 14.0751 - mae: 14.0751\n",
      "Epoch 71/100\n",
      "2/2 [==============================] - 0s 9ms/step - loss: 15.6231 - mae: 15.6231\n",
      "Epoch 72/100\n",
      "2/2 [==============================] - 0s 6ms/step - loss: 11.8458 - mae: 11.8458\n",
      "Epoch 73/100\n",
      "2/2 [==============================] - 0s 11ms/step - loss: 16.6242 - mae: 16.6242\n",
      "Epoch 74/100\n",
      "2/2 [==============================] - 0s 8ms/step - loss: 24.1458 - mae: 24.1458\n",
      "Epoch 75/100\n",
      "2/2 [==============================] - 0s 7ms/step - loss: 9.6245 - mae: 9.6245\n",
      "Epoch 76/100\n",
      "2/2 [==============================] - 0s 5ms/step - loss: 12.4759 - mae: 12.4759\n",
      "Epoch 77/100\n",
      "2/2 [==============================] - 0s 6ms/step - loss: 16.7147 - mae: 16.7147\n",
      "Epoch 78/100\n",
      "2/2 [==============================] - 0s 7ms/step - loss: 9.0782 - mae: 9.0782\n",
      "Epoch 79/100\n",
      "2/2 [==============================] - 0s 6ms/step - loss: 24.0390 - mae: 24.0390\n",
      "Epoch 80/100\n",
      "2/2 [==============================] - 0s 8ms/step - loss: 26.8324 - mae: 26.8324\n",
      "Epoch 81/100\n",
      "2/2 [==============================] - 0s 6ms/step - loss: 11.7173 - mae: 11.7173\n",
      "Epoch 82/100\n",
      "2/2 [==============================] - 0s 6ms/step - loss: 12.0050 - mae: 12.0050\n",
      "Epoch 83/100\n",
      "2/2 [==============================] - 0s 5ms/step - loss: 17.3979 - mae: 17.3979\n",
      "Epoch 84/100\n",
      "2/2 [==============================] - 0s 6ms/step - loss: 7.2655 - mae: 7.2655\n",
      "Epoch 85/100\n",
      "2/2 [==============================] - 0s 5ms/step - loss: 14.9509 - mae: 14.9509\n",
      "Epoch 86/100\n",
      "2/2 [==============================] - 0s 5ms/step - loss: 15.2765 - mae: 15.2765\n",
      "Epoch 87/100\n",
      "2/2 [==============================] - 0s 5ms/step - loss: 19.0873 - mae: 19.0873\n",
      "Epoch 88/100\n",
      "2/2 [==============================] - 0s 6ms/step - loss: 29.8810 - mae: 29.8810\n",
      "Epoch 89/100\n",
      "2/2 [==============================] - 0s 6ms/step - loss: 10.1898 - mae: 10.1898\n",
      "Epoch 90/100\n",
      "2/2 [==============================] - 0s 5ms/step - loss: 21.5648 - mae: 21.5648\n",
      "Epoch 91/100\n",
      "2/2 [==============================] - 0s 7ms/step - loss: 10.5875 - mae: 10.5875\n",
      "Epoch 92/100\n",
      "2/2 [==============================] - 0s 4ms/step - loss: 18.4291 - mae: 18.4291\n",
      "Epoch 93/100\n",
      "2/2 [==============================] - 0s 8ms/step - loss: 7.4221 - mae: 7.4221\n",
      "Epoch 94/100\n",
      "2/2 [==============================] - 0s 6ms/step - loss: 17.7616 - mae: 17.7616\n",
      "Epoch 95/100\n",
      "2/2 [==============================] - 0s 6ms/step - loss: 11.1284 - mae: 11.1284\n",
      "Epoch 96/100\n",
      "2/2 [==============================] - 0s 6ms/step - loss: 19.4551 - mae: 19.4551\n",
      "Epoch 97/100\n",
      "2/2 [==============================] - 0s 11ms/step - loss: 12.4960 - mae: 12.4960\n",
      "Epoch 98/100\n",
      "2/2 [==============================] - 0s 7ms/step - loss: 10.2930 - mae: 10.2930\n",
      "Epoch 99/100\n",
      "2/2 [==============================] - 0s 6ms/step - loss: 13.8231 - mae: 13.8231\n",
      "Epoch 100/100\n",
      "2/2 [==============================] - 0s 5ms/step - loss: 20.1104 - mae: 20.1104\n"
     ]
    },
    {
     "data": {
      "text/plain": "<keras.callbacks.History at 0x7fd9f3475390>"
     },
     "execution_count": 55,
     "metadata": {},
     "output_type": "execute_result"
    }
   ],
   "source": [
    "# Set the random seed\n",
    "tf.random.set_seed(42)\n",
    "\n",
    "# 1. Create the model\n",
    "model_2 = tf.keras.Sequential([\n",
    "    tf.keras.layers.Dense(10),\n",
    "    tf.keras.layers.Dense(1)\n",
    "])\n",
    "\n",
    "# 2. Compile the model\n",
    "model_2.compile(loss=tf.keras.losses.mae,\n",
    "                optimizer=tf.keras.optimizers.SGD(),\n",
    "                metrics=[\"mae\"])\n",
    "\n",
    "# 3. Fit the model\n",
    "model_2.fit(tf.expand_dims(X_train, axis=-1), y_train, epochs=100)"
   ],
   "metadata": {
    "colab": {
     "base_uri": "https://localhost:8080/"
    },
    "id": "9acb465fd20c995c",
    "executionInfo": {
     "status": "ok",
     "timestamp": 1696076835059,
     "user_tz": -420,
     "elapsed": 3096,
     "user": {
      "displayName": "kang sigit",
      "userId": "15887135570512197739"
     }
    },
    "outputId": "51e23998-df47-4cb0-ad6f-52ab121a102c",
    "ExecuteTime": {
     "end_time": "2023-12-29T07:06:36.226464274Z",
     "start_time": "2023-12-29T07:06:33.139610623Z"
    }
   },
   "id": "9acb465fd20c995c"
  },
  {
   "cell_type": "code",
   "execution_count": 56,
   "outputs": [
    {
     "name": "stdout",
     "output_type": "stream",
     "text": [
      "WARNING:tensorflow:6 out of the last 6 calls to <function Model.make_predict_function.<locals>.predict_function at 0x7fd9f345aa20> triggered tf.function retracing. Tracing is expensive and the excessive number of tracings could be due to (1) creating @tf.function repeatedly in a loop, (2) passing tensors with different shapes, (3) passing Python objects instead of tensors. For (1), please define your @tf.function outside of the loop. For (2), @tf.function has reduce_retracing=True option that can avoid unnecessary retracing. For (3), please refer to https://www.tensorflow.org/guide/function#controlling_retracing and https://www.tensorflow.org/api_docs/python/tf/function for  more details.\n",
      "1/1 [==============================] - 0s 53ms/step\n"
     ]
    },
    {
     "data": {
      "text/plain": "<Figure size 1000x700 with 1 Axes>",
      "image/png": "[encoded data removed]"
     },
     "metadata": {},
     "output_type": "display_data"
    }
   ],
   "source": [
    "# Make and plot predictions of model_2\n",
    "y_preds_2 = model_2.predict(X_test)\n",
    "plot_predictions(predictions=y_preds_2)"
   ],
   "metadata": {
    "colab": {
     "base_uri": "https://localhost:8080/",
     "height": 656
    },
    "id": "1734489efbd4fb4e",
    "executionInfo": {
     "status": "ok",
     "timestamp": 1696076839093,
     "user_tz": -420,
     "elapsed": 22,
     "user": {
      "displayName": "kang sigit",
      "userId": "15887135570512197739"
     }
    },
    "outputId": "d02300c6-dceb-4b21-cb6f-445de699ad4f",
    "ExecuteTime": {
     "end_time": "2023-12-29T07:06:38.254774743Z",
     "start_time": "2023-12-29T07:06:37.659256369Z"
    }
   },
   "id": "1734489efbd4fb4e"
  },
  {
   "cell_type": "code",
   "execution_count": 57,
   "outputs": [
    {
     "data": {
      "text/plain": "(<tf.Tensor: shape=(), dtype=float32, numpy=2.8776016>,\n <tf.Tensor: shape=(), dtype=float32, numpy=10.9818735>)"
     },
     "execution_count": 57,
     "metadata": {},
     "output_type": "execute_result"
    }
   ],
   "source": [
    "# Calculate model_2 evaluation metrics\n",
    "mae_2 = mae(y_test, y_preds_2)\n",
    "mse_2 = mse(y_test, y_preds_2)\n",
    "mae_2, mse_2"
   ],
   "metadata": {
    "colab": {
     "base_uri": "https://localhost:8080/"
    },
    "id": "c1a1bfe80b2973d1",
    "executionInfo": {
     "status": "ok",
     "timestamp": 1696076843791,
     "user_tz": -420,
     "elapsed": 11,
     "user": {
      "displayName": "kang sigit",
      "userId": "15887135570512197739"
     }
    },
    "outputId": "b1dbc06c-a856-4769-e57a-66b0e8c780ae",
    "ExecuteTime": {
     "end_time": "2023-12-29T07:06:40.750412968Z",
     "start_time": "2023-12-29T07:06:40.701840927Z"
    }
   },
   "id": "c1a1bfe80b2973d1"
  },
  {
   "cell_type": "markdown",
   "source": [
    "**Build `model_3`**\n",
    "\n",
    "* 2 dense layers, trained for 500 epochs"
   ],
   "metadata": {
    "collapsed": false,
    "id": "e429d78109168242"
   },
   "id": "e429d78109168242"
  },
  {
   "cell_type": "code",
   "execution_count": 58,
   "outputs": [
    {
     "name": "stdout",
     "output_type": "stream",
     "text": [
      "Epoch 1/500\n",
      "2/2 [==============================] - 0s 8ms/step - loss: 73.7778 - mae: 73.7778\n",
      "Epoch 2/500\n",
      "2/2 [==============================] - 0s 6ms/step - loss: 10.0576 - mae: 10.0576\n",
      "Epoch 3/500\n",
      "2/2 [==============================] - 0s 12ms/step - loss: 22.2521 - mae: 22.2521\n",
      "Epoch 4/500\n",
      "2/2 [==============================] - 0s 9ms/step - loss: 12.7996 - mae: 12.7996\n",
      "Epoch 5/500\n",
      "2/2 [==============================] - 0s 7ms/step - loss: 14.0629 - mae: 14.0629\n",
      "Epoch 6/500\n",
      "2/2 [==============================] - 0s 7ms/step - loss: 11.2646 - mae: 11.2646\n",
      "Epoch 7/500\n",
      "2/2 [==============================] - 0s 6ms/step - loss: 12.2817 - mae: 12.2817\n",
      "Epoch 8/500\n",
      "2/2 [==============================] - 0s 9ms/step - loss: 10.9272 - mae: 10.9272\n",
      "Epoch 9/500\n",
      "2/2 [==============================] - 0s 7ms/step - loss: 38.3432 - mae: 38.3432\n",
      "Epoch 10/500\n",
      "2/2 [==============================] - 0s 7ms/step - loss: 25.8763 - mae: 25.8763\n",
      "Epoch 11/500\n",
      "2/2 [==============================] - 0s 7ms/step - loss: 10.2488 - mae: 10.2488\n",
      "Epoch 12/500\n",
      "2/2 [==============================] - 0s 8ms/step - loss: 25.1783 - mae: 25.1783\n",
      "Epoch 13/500\n",
      "2/2 [==============================] - 0s 7ms/step - loss: 17.1605 - mae: 17.1605\n",
      "Epoch 14/500\n",
      "2/2 [==============================] - 0s 8ms/step - loss: 26.4116 - mae: 26.4116\n",
      "Epoch 15/500\n",
      "2/2 [==============================] - 0s 7ms/step - loss: 16.8890 - mae: 16.8890\n",
      "Epoch 16/500\n",
      "2/2 [==============================] - 0s 7ms/step - loss: 9.8337 - mae: 9.8337\n",
      "Epoch 17/500\n",
      "2/2 [==============================] - 0s 7ms/step - loss: 17.6245 - mae: 17.6245\n",
      "Epoch 18/500\n",
      "2/2 [==============================] - 0s 8ms/step - loss: 14.0951 - mae: 14.0951\n",
      "Epoch 19/500\n",
      "2/2 [==============================] - 0s 8ms/step - loss: 13.9334 - mae: 13.9334\n",
      "Epoch 20/500\n",
      "2/2 [==============================] - 0s 7ms/step - loss: 11.2010 - mae: 11.2010\n",
      "Epoch 21/500\n",
      "2/2 [==============================] - 0s 7ms/step - loss: 17.2473 - mae: 17.2473\n",
      "Epoch 22/500\n",
      "2/2 [==============================] - 0s 8ms/step - loss: 15.4842 - mae: 15.4842\n",
      "Epoch 23/500\n",
      "2/2 [==============================] - 0s 8ms/step - loss: 9.2480 - mae: 9.2480\n",
      "Epoch 24/500\n",
      "2/2 [==============================] - 0s 8ms/step - loss: 17.2838 - mae: 17.2838\n",
      "Epoch 25/500\n",
      "2/2 [==============================] - 0s 10ms/step - loss: 15.9544 - mae: 15.9544\n",
      "Epoch 26/500\n",
      "2/2 [==============================] - 0s 10ms/step - loss: 20.9636 - mae: 20.9636\n",
      "Epoch 27/500\n",
      "2/2 [==============================] - 0s 9ms/step - loss: 25.8919 - mae: 25.8919\n",
      "Epoch 28/500\n",
      "2/2 [==============================] - 0s 9ms/step - loss: 18.3995 - mae: 18.3995\n",
      "Epoch 29/500\n",
      "2/2 [==============================] - 0s 10ms/step - loss: 9.2469 - mae: 9.2469\n",
      "Epoch 30/500\n",
      "2/2 [==============================] - 0s 12ms/step - loss: 29.0047 - mae: 29.0047\n",
      "Epoch 31/500\n",
      "2/2 [==============================] - 0s 8ms/step - loss: 52.5246 - mae: 52.5246\n",
      "Epoch 32/500\n",
      "2/2 [==============================] - 0s 11ms/step - loss: 11.9002 - mae: 11.9002\n",
      "Epoch 33/500\n",
      "2/2 [==============================] - 0s 9ms/step - loss: 15.4675 - mae: 15.4675\n",
      "Epoch 34/500\n",
      "2/2 [==============================] - 0s 10ms/step - loss: 12.5782 - mae: 12.5782\n",
      "Epoch 35/500\n",
      "2/2 [==============================] - 0s 11ms/step - loss: 9.1907 - mae: 9.1907\n",
      "Epoch 36/500\n",
      "2/2 [==============================] - 0s 11ms/step - loss: 16.4326 - mae: 16.4326\n",
      "Epoch 37/500\n",
      "2/2 [==============================] - 0s 7ms/step - loss: 11.1020 - mae: 11.1020\n",
      "Epoch 38/500\n",
      "2/2 [==============================] - 0s 8ms/step - loss: 18.2329 - mae: 18.2329\n",
      "Epoch 39/500\n",
      "2/2 [==============================] - 0s 9ms/step - loss: 19.1638 - mae: 19.1638\n",
      "Epoch 40/500\n",
      "2/2 [==============================] - 0s 5ms/step - loss: 20.5454 - mae: 20.5454\n",
      "Epoch 41/500\n",
      "2/2 [==============================] - 0s 7ms/step - loss: 14.7751 - mae: 14.7751\n",
      "Epoch 42/500\n",
      "2/2 [==============================] - 0s 6ms/step - loss: 12.1787 - mae: 12.1787\n",
      "Epoch 43/500\n",
      "2/2 [==============================] - 0s 5ms/step - loss: 10.6879 - mae: 10.6879\n",
      "Epoch 44/500\n",
      "2/2 [==============================] - 0s 8ms/step - loss: 32.1589 - mae: 32.1589\n",
      "Epoch 45/500\n",
      "2/2 [==============================] - 0s 5ms/step - loss: 12.4440 - mae: 12.4440\n",
      "Epoch 46/500\n",
      "2/2 [==============================] - 0s 7ms/step - loss: 17.4297 - mae: 17.4297\n",
      "Epoch 47/500\n",
      "2/2 [==============================] - 0s 4ms/step - loss: 15.7916 - mae: 15.7916\n",
      "Epoch 48/500\n",
      "2/2 [==============================] - 0s 5ms/step - loss: 8.3995 - mae: 8.3995\n",
      "Epoch 49/500\n",
      "2/2 [==============================] - 0s 5ms/step - loss: 14.2517 - mae: 14.2517\n",
      "Epoch 50/500\n",
      "2/2 [==============================] - 0s 12ms/step - loss: 15.1821 - mae: 15.1821\n",
      "Epoch 51/500\n",
      "2/2 [==============================] - 0s 10ms/step - loss: 13.6975 - mae: 13.6975\n",
      "Epoch 52/500\n",
      "2/2 [==============================] - 0s 5ms/step - loss: 18.1123 - mae: 18.1123\n",
      "Epoch 53/500\n",
      "2/2 [==============================] - 0s 5ms/step - loss: 22.7773 - mae: 22.7773\n",
      "Epoch 54/500\n",
      "2/2 [==============================] - 0s 8ms/step - loss: 26.7881 - mae: 26.7881\n",
      "Epoch 55/500\n",
      "2/2 [==============================] - 0s 5ms/step - loss: 26.4205 - mae: 26.4205\n",
      "Epoch 56/500\n",
      "2/2 [==============================] - 0s 5ms/step - loss: 11.3592 - mae: 11.3592\n",
      "Epoch 57/500\n",
      "2/2 [==============================] - 0s 17ms/step - loss: 13.3783 - mae: 13.3783\n",
      "Epoch 58/500\n",
      "2/2 [==============================] - 0s 10ms/step - loss: 9.9603 - mae: 9.9603\n",
      "Epoch 59/500\n",
      "2/2 [==============================] - 0s 6ms/step - loss: 13.9246 - mae: 13.9246\n",
      "Epoch 60/500\n",
      "2/2 [==============================] - 0s 6ms/step - loss: 10.0002 - mae: 10.0002\n",
      "Epoch 61/500\n",
      "2/2 [==============================] - 0s 6ms/step - loss: 14.9745 - mae: 14.9745\n",
      "Epoch 62/500\n",
      "2/2 [==============================] - 0s 7ms/step - loss: 11.9315 - mae: 11.9315\n",
      "Epoch 63/500\n",
      "2/2 [==============================] - 0s 6ms/step - loss: 10.2932 - mae: 10.2932\n",
      "Epoch 64/500\n",
      "2/2 [==============================] - 0s 11ms/step - loss: 23.8686 - mae: 23.8686\n",
      "Epoch 65/500\n",
      "2/2 [==============================] - 0s 5ms/step - loss: 10.4685 - mae: 10.4685\n",
      "Epoch 66/500\n",
      "2/2 [==============================] - 0s 6ms/step - loss: 20.9120 - mae: 20.9120\n",
      "Epoch 67/500\n",
      "2/2 [==============================] - 0s 8ms/step - loss: 10.4425 - mae: 10.4425\n",
      "Epoch 68/500\n",
      "2/2 [==============================] - 0s 9ms/step - loss: 14.1589 - mae: 14.1589\n",
      "Epoch 69/500\n",
      "2/2 [==============================] - 0s 7ms/step - loss: 10.5085 - mae: 10.5085\n",
      "Epoch 70/500\n",
      "2/2 [==============================] - 0s 10ms/step - loss: 12.5771 - mae: 12.5771\n",
      "Epoch 71/500\n",
      "2/2 [==============================] - 0s 10ms/step - loss: 13.0039 - mae: 13.0039\n",
      "Epoch 72/500\n",
      "2/2 [==============================] - 0s 6ms/step - loss: 19.3155 - mae: 19.3155\n",
      "Epoch 73/500\n",
      "2/2 [==============================] - 0s 14ms/step - loss: 11.1240 - mae: 11.1240\n",
      "Epoch 74/500\n",
      "2/2 [==============================] - 0s 5ms/step - loss: 21.3865 - mae: 21.3865\n",
      "Epoch 75/500\n",
      "2/2 [==============================] - 0s 5ms/step - loss: 9.4486 - mae: 9.4486\n",
      "Epoch 76/500\n",
      "2/2 [==============================] - 0s 6ms/step - loss: 12.2674 - mae: 12.2674\n",
      "Epoch 77/500\n",
      "2/2 [==============================] - 0s 8ms/step - loss: 16.2695 - mae: 16.2695\n",
      "Epoch 78/500\n",
      "2/2 [==============================] - 0s 5ms/step - loss: 9.0082 - mae: 9.0082\n",
      "Epoch 79/500\n",
      "2/2 [==============================] - 0s 5ms/step - loss: 23.4967 - mae: 23.4967\n",
      "Epoch 80/500\n",
      "2/2 [==============================] - 0s 8ms/step - loss: 26.1782 - mae: 26.1782\n",
      "Epoch 81/500\n",
      "2/2 [==============================] - 0s 6ms/step - loss: 11.4071 - mae: 11.4071\n",
      "Epoch 82/500\n",
      "2/2 [==============================] - 0s 6ms/step - loss: 12.4707 - mae: 12.4707\n",
      "Epoch 83/500\n",
      "2/2 [==============================] - 0s 5ms/step - loss: 17.1480 - mae: 17.1480\n",
      "Epoch 84/500\n",
      "2/2 [==============================] - 0s 7ms/step - loss: 6.5708 - mae: 6.5708\n",
      "Epoch 85/500\n",
      "2/2 [==============================] - 0s 5ms/step - loss: 20.3588 - mae: 20.3588\n",
      "Epoch 86/500\n",
      "2/2 [==============================] - 0s 5ms/step - loss: 10.1665 - mae: 10.1665\n",
      "Epoch 87/500\n",
      "2/2 [==============================] - 0s 6ms/step - loss: 24.4127 - mae: 24.4127\n",
      "Epoch 88/500\n",
      "2/2 [==============================] - 0s 6ms/step - loss: 19.0744 - mae: 19.0744\n",
      "Epoch 89/500\n",
      "2/2 [==============================] - 0s 5ms/step - loss: 7.1512 - mae: 7.1512\n",
      "Epoch 90/500\n",
      "2/2 [==============================] - 0s 10ms/step - loss: 18.2281 - mae: 18.2281\n",
      "Epoch 91/500\n",
      "2/2 [==============================] - 0s 5ms/step - loss: 13.2771 - mae: 13.2771\n",
      "Epoch 92/500\n",
      "2/2 [==============================] - 0s 8ms/step - loss: 14.8175 - mae: 14.8175\n",
      "Epoch 93/500\n",
      "2/2 [==============================] - 0s 7ms/step - loss: 11.6173 - mae: 11.6173\n",
      "Epoch 94/500\n",
      "2/2 [==============================] - 0s 20ms/step - loss: 16.1736 - mae: 16.1736\n",
      "Epoch 95/500\n",
      "2/2 [==============================] - 0s 5ms/step - loss: 15.5155 - mae: 15.5155\n",
      "Epoch 96/500\n",
      "2/2 [==============================] - 0s 6ms/step - loss: 15.0454 - mae: 15.0454\n",
      "Epoch 97/500\n",
      "2/2 [==============================] - 0s 5ms/step - loss: 10.8761 - mae: 10.8761\n",
      "Epoch 98/500\n",
      "2/2 [==============================] - 0s 5ms/step - loss: 14.3350 - mae: 14.3350\n",
      "Epoch 99/500\n",
      "2/2 [==============================] - 0s 8ms/step - loss: 13.3603 - mae: 13.3603\n",
      "Epoch 100/500\n",
      "2/2 [==============================] - 0s 5ms/step - loss: 19.9625 - mae: 19.9625\n",
      "Epoch 101/500\n",
      "2/2 [==============================] - 0s 9ms/step - loss: 22.5925 - mae: 22.5925\n",
      "Epoch 102/500\n",
      "2/2 [==============================] - 0s 9ms/step - loss: 11.2950 - mae: 11.2950\n",
      "Epoch 103/500\n",
      "2/2 [==============================] - 0s 9ms/step - loss: 9.3589 - mae: 9.3589\n",
      "Epoch 104/500\n",
      "2/2 [==============================] - 0s 9ms/step - loss: 25.2313 - mae: 25.2313\n",
      "Epoch 105/500\n",
      "2/2 [==============================] - 0s 12ms/step - loss: 12.4491 - mae: 12.4491\n",
      "Epoch 106/500\n",
      "2/2 [==============================] - 0s 9ms/step - loss: 9.3977 - mae: 9.3977\n",
      "Epoch 107/500\n",
      "2/2 [==============================] - 0s 11ms/step - loss: 23.2524 - mae: 23.2524\n",
      "Epoch 108/500\n",
      "2/2 [==============================] - 0s 5ms/step - loss: 8.2776 - mae: 8.2776\n",
      "Epoch 109/500\n",
      "2/2 [==============================] - 0s 6ms/step - loss: 14.0592 - mae: 14.0592\n",
      "Epoch 110/500\n",
      "2/2 [==============================] - 0s 12ms/step - loss: 10.6144 - mae: 10.6144\n",
      "Epoch 111/500\n",
      "2/2 [==============================] - 0s 5ms/step - loss: 16.9263 - mae: 16.9263\n",
      "Epoch 112/500\n",
      "2/2 [==============================] - 0s 5ms/step - loss: 8.2676 - mae: 8.2676\n",
      "Epoch 113/500\n",
      "2/2 [==============================] - 0s 9ms/step - loss: 19.7194 - mae: 19.7194\n",
      "Epoch 114/500\n",
      "2/2 [==============================] - 0s 11ms/step - loss: 17.4204 - mae: 17.4204\n",
      "Epoch 115/500\n",
      "2/2 [==============================] - 0s 5ms/step - loss: 11.2329 - mae: 11.2329\n",
      "Epoch 116/500\n",
      "2/2 [==============================] - 0s 12ms/step - loss: 23.6008 - mae: 23.6008\n",
      "Epoch 117/500\n",
      "2/2 [==============================] - 0s 5ms/step - loss: 9.7348 - mae: 9.7348\n",
      "Epoch 118/500\n",
      "2/2 [==============================] - 0s 5ms/step - loss: 10.8177 - mae: 10.8177\n",
      "Epoch 119/500\n",
      "2/2 [==============================] - 0s 7ms/step - loss: 8.0847 - mae: 8.0847\n",
      "Epoch 120/500\n",
      "2/2 [==============================] - 0s 7ms/step - loss: 29.9607 - mae: 29.9607\n",
      "Epoch 121/500\n",
      "2/2 [==============================] - 0s 8ms/step - loss: 8.1146 - mae: 8.1146\n",
      "Epoch 122/500\n",
      "2/2 [==============================] - 0s 6ms/step - loss: 28.5155 - mae: 28.5155\n",
      "Epoch 123/500\n",
      "2/2 [==============================] - 0s 13ms/step - loss: 33.1540 - mae: 33.1540\n",
      "Epoch 124/500\n",
      "2/2 [==============================] - 0s 14ms/step - loss: 19.8277 - mae: 19.8277\n",
      "Epoch 125/500\n",
      "2/2 [==============================] - 0s 8ms/step - loss: 7.6842 - mae: 7.6842\n",
      "Epoch 126/500\n",
      "2/2 [==============================] - 0s 10ms/step - loss: 17.0873 - mae: 17.0873\n",
      "Epoch 127/500\n",
      "2/2 [==============================] - 0s 10ms/step - loss: 7.5126 - mae: 7.5126\n",
      "Epoch 128/500\n",
      "2/2 [==============================] - 0s 6ms/step - loss: 18.0731 - mae: 18.0731\n",
      "Epoch 129/500\n",
      "2/2 [==============================] - 0s 11ms/step - loss: 8.7787 - mae: 8.7787\n",
      "Epoch 130/500\n",
      "2/2 [==============================] - 0s 15ms/step - loss: 22.4617 - mae: 22.4617\n",
      "Epoch 131/500\n",
      "2/2 [==============================] - 0s 8ms/step - loss: 9.8026 - mae: 9.8026\n",
      "Epoch 132/500\n",
      "2/2 [==============================] - 0s 9ms/step - loss: 18.3757 - mae: 18.3757\n",
      "Epoch 133/500\n",
      "2/2 [==============================] - 0s 7ms/step - loss: 7.6175 - mae: 7.6175\n",
      "Epoch 134/500\n",
      "2/2 [==============================] - 0s 8ms/step - loss: 18.6329 - mae: 18.6329\n",
      "Epoch 135/500\n",
      "2/2 [==============================] - 0s 11ms/step - loss: 10.5773 - mae: 10.5773\n",
      "Epoch 136/500\n",
      "2/2 [==============================] - 0s 13ms/step - loss: 18.3053 - mae: 18.3053\n",
      "Epoch 137/500\n",
      "2/2 [==============================] - 0s 10ms/step - loss: 23.2071 - mae: 23.2071\n",
      "Epoch 138/500\n",
      "2/2 [==============================] - 0s 9ms/step - loss: 9.1694 - mae: 9.1694\n",
      "Epoch 139/500\n",
      "2/2 [==============================] - 0s 8ms/step - loss: 8.9442 - mae: 8.9442\n",
      "Epoch 140/500\n",
      "2/2 [==============================] - 0s 8ms/step - loss: 16.4802 - mae: 16.4802\n",
      "Epoch 141/500\n",
      "2/2 [==============================] - 0s 7ms/step - loss: 8.4479 - mae: 8.4479\n",
      "Epoch 142/500\n",
      "2/2 [==============================] - 0s 8ms/step - loss: 36.9103 - mae: 36.9103\n",
      "Epoch 143/500\n",
      "2/2 [==============================] - 0s 7ms/step - loss: 25.5643 - mae: 25.5643\n",
      "Epoch 144/500\n",
      "2/2 [==============================] - 0s 7ms/step - loss: 9.5611 - mae: 9.5611\n",
      "Epoch 145/500\n",
      "2/2 [==============================] - 0s 9ms/step - loss: 26.6243 - mae: 26.6243\n",
      "Epoch 146/500\n",
      "2/2 [==============================] - 0s 9ms/step - loss: 8.7282 - mae: 8.7282\n",
      "Epoch 147/500\n",
      "2/2 [==============================] - 0s 8ms/step - loss: 15.6507 - mae: 15.6507\n",
      "Epoch 148/500\n",
      "2/2 [==============================] - 0s 7ms/step - loss: 18.3457 - mae: 18.3457\n",
      "Epoch 149/500\n",
      "2/2 [==============================] - 0s 7ms/step - loss: 8.1941 - mae: 8.1941\n",
      "Epoch 150/500\n",
      "2/2 [==============================] - 0s 10ms/step - loss: 7.5095 - mae: 7.5095\n",
      "Epoch 151/500\n",
      "2/2 [==============================] - 0s 11ms/step - loss: 18.2525 - mae: 18.2525\n",
      "Epoch 152/500\n",
      "2/2 [==============================] - 0s 8ms/step - loss: 10.2900 - mae: 10.2900\n",
      "Epoch 153/500\n",
      "2/2 [==============================] - 0s 8ms/step - loss: 29.4855 - mae: 29.4855\n",
      "Epoch 154/500\n",
      "2/2 [==============================] - 0s 11ms/step - loss: 10.6009 - mae: 10.6009\n",
      "Epoch 155/500\n",
      "2/2 [==============================] - 0s 8ms/step - loss: 15.4948 - mae: 15.4948\n",
      "Epoch 156/500\n",
      "2/2 [==============================] - 0s 8ms/step - loss: 17.1008 - mae: 17.1008\n",
      "Epoch 157/500\n",
      "2/2 [==============================] - 0s 8ms/step - loss: 32.6110 - mae: 32.6110\n",
      "Epoch 158/500\n",
      "2/2 [==============================] - 0s 8ms/step - loss: 10.6674 - mae: 10.6674\n",
      "Epoch 159/500\n",
      "2/2 [==============================] - 0s 8ms/step - loss: 8.8986 - mae: 8.8986\n",
      "Epoch 160/500\n",
      "2/2 [==============================] - 0s 8ms/step - loss: 21.9632 - mae: 21.9632\n",
      "Epoch 161/500\n",
      "2/2 [==============================] - 0s 7ms/step - loss: 11.1265 - mae: 11.1265\n",
      "Epoch 162/500\n",
      "2/2 [==============================] - 0s 8ms/step - loss: 21.4850 - mae: 21.4850\n",
      "Epoch 163/500\n",
      "2/2 [==============================] - 0s 8ms/step - loss: 19.1668 - mae: 19.1668\n",
      "Epoch 164/500\n",
      "2/2 [==============================] - 0s 9ms/step - loss: 10.9763 - mae: 10.9763\n",
      "Epoch 165/500\n",
      "2/2 [==============================] - 0s 8ms/step - loss: 9.6454 - mae: 9.6454\n",
      "Epoch 166/500\n",
      "2/2 [==============================] - 0s 7ms/step - loss: 21.6504 - mae: 21.6504\n",
      "Epoch 167/500\n",
      "2/2 [==============================] - 0s 21ms/step - loss: 26.1449 - mae: 26.1449\n",
      "Epoch 168/500\n",
      "2/2 [==============================] - 0s 10ms/step - loss: 9.8466 - mae: 9.8466\n",
      "Epoch 169/500\n",
      "2/2 [==============================] - 0s 8ms/step - loss: 22.4054 - mae: 22.4054\n",
      "Epoch 170/500\n",
      "2/2 [==============================] - 0s 8ms/step - loss: 10.1863 - mae: 10.1863\n",
      "Epoch 171/500\n",
      "2/2 [==============================] - 0s 9ms/step - loss: 18.1211 - mae: 18.1211\n",
      "Epoch 172/500\n",
      "2/2 [==============================] - 0s 7ms/step - loss: 28.6608 - mae: 28.6608\n",
      "Epoch 173/500\n",
      "2/2 [==============================] - 0s 8ms/step - loss: 16.3948 - mae: 16.3948\n",
      "Epoch 174/500\n",
      "2/2 [==============================] - 0s 8ms/step - loss: 11.7426 - mae: 11.7426\n",
      "Epoch 175/500\n",
      "2/2 [==============================] - 0s 8ms/step - loss: 27.1850 - mae: 27.1850\n",
      "Epoch 176/500\n",
      "2/2 [==============================] - 0s 8ms/step - loss: 8.7497 - mae: 8.7497\n",
      "Epoch 177/500\n",
      "2/2 [==============================] - 0s 9ms/step - loss: 8.7704 - mae: 8.7704\n",
      "Epoch 178/500\n",
      "2/2 [==============================] - 0s 8ms/step - loss: 16.1625 - mae: 16.1625\n",
      "Epoch 179/500\n",
      "2/2 [==============================] - 0s 8ms/step - loss: 10.4245 - mae: 10.4245\n",
      "Epoch 180/500\n",
      "2/2 [==============================] - 0s 8ms/step - loss: 7.9909 - mae: 7.9909\n",
      "Epoch 181/500\n",
      "2/2 [==============================] - 0s 9ms/step - loss: 17.7315 - mae: 17.7315\n",
      "Epoch 182/500\n",
      "2/2 [==============================] - 0s 8ms/step - loss: 11.1802 - mae: 11.1802\n",
      "Epoch 183/500\n",
      "2/2 [==============================] - 0s 8ms/step - loss: 12.3761 - mae: 12.3761\n",
      "Epoch 184/500\n",
      "2/2 [==============================] - 0s 9ms/step - loss: 27.3085 - mae: 27.3085\n",
      "Epoch 185/500\n",
      "2/2 [==============================] - 0s 9ms/step - loss: 7.5718 - mae: 7.5718\n",
      "Epoch 186/500\n",
      "2/2 [==============================] - 0s 9ms/step - loss: 15.9723 - mae: 15.9723\n",
      "Epoch 187/500\n",
      "2/2 [==============================] - 0s 5ms/step - loss: 8.5907 - mae: 8.5907\n",
      "Epoch 188/500\n",
      "2/2 [==============================] - 0s 6ms/step - loss: 28.7911 - mae: 28.7911\n",
      "Epoch 189/500\n",
      "2/2 [==============================] - 0s 6ms/step - loss: 13.1668 - mae: 13.1668\n",
      "Epoch 190/500\n",
      "2/2 [==============================] - 0s 10ms/step - loss: 18.3092 - mae: 18.3092\n",
      "Epoch 191/500\n",
      "2/2 [==============================] - 0s 6ms/step - loss: 13.7379 - mae: 13.7379\n",
      "Epoch 192/500\n",
      "2/2 [==============================] - 0s 10ms/step - loss: 13.7196 - mae: 13.7196\n",
      "Epoch 193/500\n",
      "2/2 [==============================] - 0s 11ms/step - loss: 28.5836 - mae: 28.5836\n",
      "Epoch 194/500\n",
      "2/2 [==============================] - 0s 6ms/step - loss: 7.0921 - mae: 7.0921\n",
      "Epoch 195/500\n",
      "2/2 [==============================] - 0s 6ms/step - loss: 7.0751 - mae: 7.0751\n",
      "Epoch 196/500\n",
      "2/2 [==============================] - 0s 5ms/step - loss: 22.0204 - mae: 22.0204\n",
      "Epoch 197/500\n",
      "2/2 [==============================] - 0s 7ms/step - loss: 20.8200 - mae: 20.8200\n",
      "Epoch 198/500\n",
      "2/2 [==============================] - 0s 6ms/step - loss: 12.4639 - mae: 12.4639\n",
      "Epoch 199/500\n",
      "2/2 [==============================] - 0s 6ms/step - loss: 17.8862 - mae: 17.8862\n",
      "Epoch 200/500\n",
      "2/2 [==============================] - 0s 6ms/step - loss: 13.7280 - mae: 13.7280\n",
      "Epoch 201/500\n",
      "2/2 [==============================] - 0s 6ms/step - loss: 5.4943 - mae: 5.4943\n",
      "Epoch 202/500\n",
      "2/2 [==============================] - 0s 6ms/step - loss: 13.6747 - mae: 13.6747\n",
      "Epoch 203/500\n",
      "2/2 [==============================] - 0s 6ms/step - loss: 9.4236 - mae: 9.4236\n",
      "Epoch 204/500\n",
      "2/2 [==============================] - 0s 6ms/step - loss: 20.9068 - mae: 20.9068\n",
      "Epoch 205/500\n",
      "2/2 [==============================] - 0s 6ms/step - loss: 9.5430 - mae: 9.5430\n",
      "Epoch 206/500\n",
      "2/2 [==============================] - 0s 7ms/step - loss: 11.7024 - mae: 11.7024\n",
      "Epoch 207/500\n",
      "2/2 [==============================] - 0s 6ms/step - loss: 14.3144 - mae: 14.3144\n",
      "Epoch 208/500\n",
      "2/2 [==============================] - 0s 7ms/step - loss: 14.8093 - mae: 14.8093\n",
      "Epoch 209/500\n",
      "2/2 [==============================] - 0s 5ms/step - loss: 14.5940 - mae: 14.5940\n",
      "Epoch 210/500\n",
      "2/2 [==============================] - 0s 6ms/step - loss: 17.8270 - mae: 17.8270\n",
      "Epoch 211/500\n",
      "2/2 [==============================] - 0s 6ms/step - loss: 9.8273 - mae: 9.8273\n",
      "Epoch 212/500\n",
      "2/2 [==============================] - 0s 9ms/step - loss: 18.2322 - mae: 18.2322\n",
      "Epoch 213/500\n",
      "2/2 [==============================] - 0s 7ms/step - loss: 15.0783 - mae: 15.0783\n",
      "Epoch 214/500\n",
      "2/2 [==============================] - 0s 6ms/step - loss: 14.6159 - mae: 14.6159\n",
      "Epoch 215/500\n",
      "2/2 [==============================] - 0s 6ms/step - loss: 23.3518 - mae: 23.3518\n",
      "Epoch 216/500\n",
      "2/2 [==============================] - 0s 5ms/step - loss: 13.2876 - mae: 13.2876\n",
      "Epoch 217/500\n",
      "2/2 [==============================] - 0s 6ms/step - loss: 9.8063 - mae: 9.8063\n",
      "Epoch 218/500\n",
      "2/2 [==============================] - 0s 5ms/step - loss: 12.6104 - mae: 12.6104\n",
      "Epoch 219/500\n",
      "2/2 [==============================] - 0s 6ms/step - loss: 5.3428 - mae: 5.3428\n",
      "Epoch 220/500\n",
      "2/2 [==============================] - 0s 7ms/step - loss: 14.7016 - mae: 14.7016\n",
      "Epoch 221/500\n",
      "2/2 [==============================] - 0s 6ms/step - loss: 33.5492 - mae: 33.5492\n",
      "Epoch 222/500\n",
      "2/2 [==============================] - 0s 6ms/step - loss: 13.9068 - mae: 13.9068\n",
      "Epoch 223/500\n",
      "2/2 [==============================] - 0s 6ms/step - loss: 11.0040 - mae: 11.0040\n",
      "Epoch 224/500\n",
      "2/2 [==============================] - 0s 6ms/step - loss: 14.9575 - mae: 14.9575\n",
      "Epoch 225/500\n",
      "2/2 [==============================] - 0s 6ms/step - loss: 17.0068 - mae: 17.0068\n",
      "Epoch 226/500\n",
      "2/2 [==============================] - 0s 6ms/step - loss: 16.1953 - mae: 16.1953\n",
      "Epoch 227/500\n",
      "2/2 [==============================] - 0s 12ms/step - loss: 16.5178 - mae: 16.5178\n",
      "Epoch 228/500\n",
      "2/2 [==============================] - 0s 9ms/step - loss: 9.9540 - mae: 9.9540\n",
      "Epoch 229/500\n",
      "2/2 [==============================] - 0s 11ms/step - loss: 17.8542 - mae: 17.8542\n",
      "Epoch 230/500\n",
      "2/2 [==============================] - 0s 6ms/step - loss: 15.4718 - mae: 15.4718\n",
      "Epoch 231/500\n",
      "2/2 [==============================] - 0s 10ms/step - loss: 20.9102 - mae: 20.9102\n",
      "Epoch 232/500\n",
      "2/2 [==============================] - 0s 6ms/step - loss: 25.9478 - mae: 25.9478\n",
      "Epoch 233/500\n",
      "2/2 [==============================] - 0s 6ms/step - loss: 17.0241 - mae: 17.0241\n",
      "Epoch 234/500\n",
      "2/2 [==============================] - 0s 6ms/step - loss: 7.0369 - mae: 7.0369\n",
      "Epoch 235/500\n",
      "2/2 [==============================] - 0s 6ms/step - loss: 15.9903 - mae: 15.9903\n",
      "Epoch 236/500\n",
      "2/2 [==============================] - 0s 6ms/step - loss: 6.7831 - mae: 6.7831\n",
      "Epoch 237/500\n",
      "2/2 [==============================] - 0s 5ms/step - loss: 8.7293 - mae: 8.7293\n",
      "Epoch 238/500\n",
      "2/2 [==============================] - 0s 6ms/step - loss: 7.8371 - mae: 7.8371\n",
      "Epoch 239/500\n",
      "2/2 [==============================] - 0s 7ms/step - loss: 15.8865 - mae: 15.8865\n",
      "Epoch 240/500\n",
      "2/2 [==============================] - 0s 6ms/step - loss: 9.1115 - mae: 9.1115\n",
      "Epoch 241/500\n",
      "2/2 [==============================] - 0s 6ms/step - loss: 13.6068 - mae: 13.6068\n",
      "Epoch 242/500\n",
      "2/2 [==============================] - 0s 6ms/step - loss: 8.9740 - mae: 8.9740\n",
      "Epoch 243/500\n",
      "2/2 [==============================] - 0s 6ms/step - loss: 19.5974 - mae: 19.5974\n",
      "Epoch 244/500\n",
      "2/2 [==============================] - 0s 6ms/step - loss: 13.8046 - mae: 13.8046\n",
      "Epoch 245/500\n",
      "2/2 [==============================] - 0s 7ms/step - loss: 14.4696 - mae: 14.4696\n",
      "Epoch 246/500\n",
      "2/2 [==============================] - 0s 6ms/step - loss: 18.1276 - mae: 18.1276\n",
      "Epoch 247/500\n",
      "2/2 [==============================] - 0s 6ms/step - loss: 37.1889 - mae: 37.1889\n",
      "Epoch 248/500\n",
      "2/2 [==============================] - 0s 7ms/step - loss: 6.7666 - mae: 6.7666\n",
      "Epoch 249/500\n",
      "2/2 [==============================] - 0s 6ms/step - loss: 7.9994 - mae: 7.9994\n",
      "Epoch 250/500\n",
      "2/2 [==============================] - 0s 6ms/step - loss: 24.9201 - mae: 24.9201\n",
      "Epoch 251/500\n",
      "2/2 [==============================] - 0s 11ms/step - loss: 10.4342 - mae: 10.4342\n",
      "Epoch 252/500\n",
      "2/2 [==============================] - 0s 5ms/step - loss: 30.8398 - mae: 30.8398\n",
      "Epoch 253/500\n",
      "2/2 [==============================] - 0s 7ms/step - loss: 8.1515 - mae: 8.1515\n",
      "Epoch 254/500\n",
      "2/2 [==============================] - 0s 6ms/step - loss: 16.3058 - mae: 16.3058\n",
      "Epoch 255/500\n",
      "2/2 [==============================] - 0s 6ms/step - loss: 22.0624 - mae: 22.0624\n",
      "Epoch 256/500\n",
      "2/2 [==============================] - 0s 6ms/step - loss: 26.7771 - mae: 26.7771\n",
      "Epoch 257/500\n",
      "2/2 [==============================] - 0s 5ms/step - loss: 11.8607 - mae: 11.8607\n",
      "Epoch 258/500\n",
      "2/2 [==============================] - 0s 8ms/step - loss: 8.4987 - mae: 8.4987\n",
      "Epoch 259/500\n",
      "2/2 [==============================] - 0s 6ms/step - loss: 22.7844 - mae: 22.7844\n",
      "Epoch 260/500\n",
      "2/2 [==============================] - 0s 6ms/step - loss: 31.2329 - mae: 31.2329\n",
      "Epoch 261/500\n",
      "2/2 [==============================] - 0s 7ms/step - loss: 11.0748 - mae: 11.0748\n",
      "Epoch 262/500\n",
      "2/2 [==============================] - 0s 6ms/step - loss: 9.9440 - mae: 9.9440\n",
      "Epoch 263/500\n",
      "2/2 [==============================] - 0s 6ms/step - loss: 8.9007 - mae: 8.9007\n",
      "Epoch 264/500\n",
      "2/2 [==============================] - 0s 6ms/step - loss: 21.1803 - mae: 21.1803\n",
      "Epoch 265/500\n",
      "2/2 [==============================] - 0s 6ms/step - loss: 11.5624 - mae: 11.5624\n",
      "Epoch 266/500\n",
      "2/2 [==============================] - 0s 6ms/step - loss: 13.4169 - mae: 13.4169\n",
      "Epoch 267/500\n",
      "2/2 [==============================] - 0s 5ms/step - loss: 11.1532 - mae: 11.1532\n",
      "Epoch 268/500\n",
      "2/2 [==============================] - 0s 6ms/step - loss: 19.3170 - mae: 19.3170\n",
      "Epoch 269/500\n",
      "2/2 [==============================] - 0s 6ms/step - loss: 40.2211 - mae: 40.2211\n",
      "Epoch 270/500\n",
      "2/2 [==============================] - 0s 7ms/step - loss: 12.6745 - mae: 12.6745\n",
      "Epoch 271/500\n",
      "2/2 [==============================] - 0s 7ms/step - loss: 14.8171 - mae: 14.8171\n",
      "Epoch 272/500\n",
      "2/2 [==============================] - 0s 6ms/step - loss: 28.6036 - mae: 28.6036\n",
      "Epoch 273/500\n",
      "2/2 [==============================] - 0s 6ms/step - loss: 7.2845 - mae: 7.2845\n",
      "Epoch 274/500\n",
      "2/2 [==============================] - 0s 11ms/step - loss: 6.3718 - mae: 6.3718\n",
      "Epoch 275/500\n",
      "2/2 [==============================] - 0s 7ms/step - loss: 36.4139 - mae: 36.4139\n",
      "Epoch 276/500\n",
      "2/2 [==============================] - 0s 10ms/step - loss: 8.2587 - mae: 8.2587\n",
      "Epoch 277/500\n",
      "2/2 [==============================] - 0s 7ms/step - loss: 27.3084 - mae: 27.3084\n",
      "Epoch 278/500\n",
      "2/2 [==============================] - 0s 6ms/step - loss: 10.7694 - mae: 10.7694\n",
      "Epoch 279/500\n",
      "2/2 [==============================] - 0s 5ms/step - loss: 16.1839 - mae: 16.1839\n",
      "Epoch 280/500\n",
      "2/2 [==============================] - 0s 7ms/step - loss: 21.3926 - mae: 21.3926\n",
      "Epoch 281/500\n",
      "2/2 [==============================] - 0s 12ms/step - loss: 23.4189 - mae: 23.4189\n",
      "Epoch 282/500\n",
      "2/2 [==============================] - 0s 9ms/step - loss: 8.1694 - mae: 8.1694\n",
      "Epoch 283/500\n",
      "2/2 [==============================] - 0s 6ms/step - loss: 8.3977 - mae: 8.3977\n",
      "Epoch 284/500\n",
      "2/2 [==============================] - 0s 5ms/step - loss: 26.1432 - mae: 26.1432\n",
      "Epoch 285/500\n",
      "2/2 [==============================] - 0s 11ms/step - loss: 14.7844 - mae: 14.7844\n",
      "Epoch 286/500\n",
      "2/2 [==============================] - 0s 10ms/step - loss: 8.6721 - mae: 8.6721\n",
      "Epoch 287/500\n",
      "2/2 [==============================] - 0s 6ms/step - loss: 22.4966 - mae: 22.4966\n",
      "Epoch 288/500\n",
      "2/2 [==============================] - 0s 5ms/step - loss: 22.8558 - mae: 22.8558\n",
      "Epoch 289/500\n",
      "2/2 [==============================] - 0s 12ms/step - loss: 12.1983 - mae: 12.1983\n",
      "Epoch 290/500\n",
      "2/2 [==============================] - 0s 8ms/step - loss: 16.7571 - mae: 16.7571\n",
      "Epoch 291/500\n",
      "2/2 [==============================] - 0s 14ms/step - loss: 17.0917 - mae: 17.0917\n",
      "Epoch 292/500\n",
      "2/2 [==============================] - 0s 14ms/step - loss: 10.2466 - mae: 10.2466\n",
      "Epoch 293/500\n",
      "2/2 [==============================] - 0s 6ms/step - loss: 15.0162 - mae: 15.0162\n",
      "Epoch 294/500\n",
      "2/2 [==============================] - 0s 6ms/step - loss: 22.1851 - mae: 22.1851\n",
      "Epoch 295/500\n",
      "2/2 [==============================] - 0s 9ms/step - loss: 19.1186 - mae: 19.1186\n",
      "Epoch 296/500\n",
      "2/2 [==============================] - 0s 5ms/step - loss: 6.6831 - mae: 6.6831\n",
      "Epoch 297/500\n",
      "2/2 [==============================] - 0s 5ms/step - loss: 9.7314 - mae: 9.7314\n",
      "Epoch 298/500\n",
      "2/2 [==============================] - 0s 5ms/step - loss: 23.8874 - mae: 23.8874\n",
      "Epoch 299/500\n",
      "2/2 [==============================] - 0s 5ms/step - loss: 18.7042 - mae: 18.7042\n",
      "Epoch 300/500\n",
      "2/2 [==============================] - 0s 5ms/step - loss: 8.2803 - mae: 8.2803\n",
      "Epoch 301/500\n",
      "2/2 [==============================] - 0s 6ms/step - loss: 18.8089 - mae: 18.8089\n",
      "Epoch 302/500\n",
      "2/2 [==============================] - 0s 5ms/step - loss: 6.7802 - mae: 6.7802\n",
      "Epoch 303/500\n",
      "2/2 [==============================] - 0s 5ms/step - loss: 15.7412 - mae: 15.7412\n",
      "Epoch 304/500\n",
      "2/2 [==============================] - 0s 11ms/step - loss: 10.7002 - mae: 10.7002\n",
      "Epoch 305/500\n",
      "2/2 [==============================] - 0s 7ms/step - loss: 12.1114 - mae: 12.1114\n",
      "Epoch 306/500\n",
      "2/2 [==============================] - 0s 10ms/step - loss: 10.0322 - mae: 10.0322\n",
      "Epoch 307/500\n",
      "2/2 [==============================] - 0s 13ms/step - loss: 8.8662 - mae: 8.8662\n",
      "Epoch 308/500\n",
      "2/2 [==============================] - 0s 5ms/step - loss: 15.5750 - mae: 15.5750\n",
      "Epoch 309/500\n",
      "2/2 [==============================] - 0s 5ms/step - loss: 10.8335 - mae: 10.8335\n",
      "Epoch 310/500\n",
      "2/2 [==============================] - 0s 10ms/step - loss: 18.8427 - mae: 18.8427\n",
      "Epoch 311/500\n",
      "2/2 [==============================] - 0s 10ms/step - loss: 11.8698 - mae: 11.8698\n",
      "Epoch 312/500\n",
      "2/2 [==============================] - 0s 5ms/step - loss: 28.7789 - mae: 28.7789\n",
      "Epoch 313/500\n",
      "2/2 [==============================] - 0s 11ms/step - loss: 9.7320 - mae: 9.7320\n",
      "Epoch 314/500\n",
      "2/2 [==============================] - 0s 9ms/step - loss: 5.2440 - mae: 5.2440\n",
      "Epoch 315/500\n",
      "2/2 [==============================] - 0s 9ms/step - loss: 32.4891 - mae: 32.4891\n",
      "Epoch 316/500\n",
      "2/2 [==============================] - 0s 10ms/step - loss: 12.2485 - mae: 12.2485\n",
      "Epoch 317/500\n",
      "2/2 [==============================] - 0s 6ms/step - loss: 21.2245 - mae: 21.2245\n",
      "Epoch 318/500\n",
      "2/2 [==============================] - 0s 6ms/step - loss: 8.0063 - mae: 8.0063\n",
      "Epoch 319/500\n",
      "2/2 [==============================] - 0s 6ms/step - loss: 18.0843 - mae: 18.0843\n",
      "Epoch 320/500\n",
      "2/2 [==============================] - 0s 7ms/step - loss: 10.6278 - mae: 10.6278\n",
      "Epoch 321/500\n",
      "2/2 [==============================] - 0s 5ms/step - loss: 7.0242 - mae: 7.0242\n",
      "Epoch 322/500\n",
      "2/2 [==============================] - 0s 6ms/step - loss: 8.6898 - mae: 8.6898\n",
      "Epoch 323/500\n",
      "2/2 [==============================] - 0s 6ms/step - loss: 18.3633 - mae: 18.3633\n",
      "Epoch 324/500\n",
      "2/2 [==============================] - 0s 6ms/step - loss: 6.3079 - mae: 6.3079\n",
      "Epoch 325/500\n",
      "2/2 [==============================] - 0s 6ms/step - loss: 14.5680 - mae: 14.5680\n",
      "Epoch 326/500\n",
      "2/2 [==============================] - 0s 8ms/step - loss: 6.9880 - mae: 6.9880\n",
      "Epoch 327/500\n",
      "2/2 [==============================] - 0s 10ms/step - loss: 17.5452 - mae: 17.5452\n",
      "Epoch 328/500\n",
      "2/2 [==============================] - 0s 11ms/step - loss: 14.3973 - mae: 14.3973\n",
      "Epoch 329/500\n",
      "2/2 [==============================] - 0s 7ms/step - loss: 17.7221 - mae: 17.7221\n",
      "Epoch 330/500\n",
      "2/2 [==============================] - 0s 6ms/step - loss: 6.7823 - mae: 6.7823\n",
      "Epoch 331/500\n",
      "2/2 [==============================] - 0s 7ms/step - loss: 19.6485 - mae: 19.6485\n",
      "Epoch 332/500\n",
      "2/2 [==============================] - 0s 6ms/step - loss: 10.5214 - mae: 10.5214\n",
      "Epoch 333/500\n",
      "2/2 [==============================] - 0s 6ms/step - loss: 16.2521 - mae: 16.2521\n",
      "Epoch 334/500\n",
      "2/2 [==============================] - 0s 11ms/step - loss: 9.7568 - mae: 9.7568\n",
      "Epoch 335/500\n",
      "2/2 [==============================] - 0s 6ms/step - loss: 13.0693 - mae: 13.0693\n",
      "Epoch 336/500\n",
      "2/2 [==============================] - 0s 6ms/step - loss: 32.5149 - mae: 32.5149\n",
      "Epoch 337/500\n",
      "2/2 [==============================] - 0s 6ms/step - loss: 11.0614 - mae: 11.0614\n",
      "Epoch 338/500\n",
      "2/2 [==============================] - 0s 5ms/step - loss: 20.0044 - mae: 20.0044\n",
      "Epoch 339/500\n",
      "2/2 [==============================] - 0s 10ms/step - loss: 34.1762 - mae: 34.1762\n",
      "Epoch 340/500\n",
      "2/2 [==============================] - 0s 8ms/step - loss: 8.7060 - mae: 8.7060\n",
      "Epoch 341/500\n",
      "2/2 [==============================] - 0s 6ms/step - loss: 21.8279 - mae: 21.8279\n",
      "Epoch 342/500\n",
      "2/2 [==============================] - 0s 6ms/step - loss: 13.8861 - mae: 13.8861\n",
      "Epoch 343/500\n",
      "2/2 [==============================] - 0s 6ms/step - loss: 11.7395 - mae: 11.7395\n",
      "Epoch 344/500\n",
      "2/2 [==============================] - 0s 6ms/step - loss: 10.7050 - mae: 10.7050\n",
      "Epoch 345/500\n",
      "2/2 [==============================] - 0s 9ms/step - loss: 30.9339 - mae: 30.9339\n",
      "Epoch 346/500\n",
      "2/2 [==============================] - 0s 7ms/step - loss: 10.6620 - mae: 10.6620\n",
      "Epoch 347/500\n",
      "2/2 [==============================] - 0s 6ms/step - loss: 25.6088 - mae: 25.6088\n",
      "Epoch 348/500\n",
      "2/2 [==============================] - 0s 6ms/step - loss: 13.1836 - mae: 13.1836\n",
      "Epoch 349/500\n",
      "2/2 [==============================] - 0s 6ms/step - loss: 13.0773 - mae: 13.0773\n",
      "Epoch 350/500\n",
      "2/2 [==============================] - 0s 8ms/step - loss: 15.4178 - mae: 15.4178\n",
      "Epoch 351/500\n",
      "2/2 [==============================] - 0s 6ms/step - loss: 32.9008 - mae: 32.9008\n",
      "Epoch 352/500\n",
      "2/2 [==============================] - 0s 7ms/step - loss: 14.1253 - mae: 14.1253\n",
      "Epoch 353/500\n",
      "2/2 [==============================] - 0s 6ms/step - loss: 15.8578 - mae: 15.8578\n",
      "Epoch 354/500\n",
      "2/2 [==============================] - 0s 6ms/step - loss: 18.9542 - mae: 18.9542\n",
      "Epoch 355/500\n",
      "2/2 [==============================] - 0s 6ms/step - loss: 34.5015 - mae: 34.5015\n",
      "Epoch 356/500\n",
      "2/2 [==============================] - 0s 6ms/step - loss: 8.3551 - mae: 8.3551\n",
      "Epoch 357/500\n",
      "2/2 [==============================] - 0s 6ms/step - loss: 21.9484 - mae: 21.9484\n",
      "Epoch 358/500\n",
      "2/2 [==============================] - 0s 11ms/step - loss: 20.1059 - mae: 20.1059\n",
      "Epoch 359/500\n",
      "2/2 [==============================] - 0s 9ms/step - loss: 11.0510 - mae: 11.0510\n",
      "Epoch 360/500\n",
      "2/2 [==============================] - 0s 19ms/step - loss: 20.2575 - mae: 20.2575\n",
      "Epoch 361/500\n",
      "2/2 [==============================] - 0s 8ms/step - loss: 11.0546 - mae: 11.0546\n",
      "Epoch 362/500\n",
      "2/2 [==============================] - 0s 5ms/step - loss: 6.8529 - mae: 6.8529\n",
      "Epoch 363/500\n",
      "2/2 [==============================] - 0s 13ms/step - loss: 24.0209 - mae: 24.0209\n",
      "Epoch 364/500\n",
      "2/2 [==============================] - 0s 11ms/step - loss: 29.7970 - mae: 29.7970\n",
      "Epoch 365/500\n",
      "2/2 [==============================] - 0s 4ms/step - loss: 8.3885 - mae: 8.3885\n",
      "Epoch 366/500\n",
      "2/2 [==============================] - 0s 8ms/step - loss: 6.1220 - mae: 6.1220\n",
      "Epoch 367/500\n",
      "2/2 [==============================] - 0s 10ms/step - loss: 34.8979 - mae: 34.8979\n",
      "Epoch 368/500\n",
      "2/2 [==============================] - 0s 6ms/step - loss: 7.4357 - mae: 7.4357\n",
      "Epoch 369/500\n",
      "2/2 [==============================] - 0s 5ms/step - loss: 9.2425 - mae: 9.2425\n",
      "Epoch 370/500\n",
      "2/2 [==============================] - 0s 6ms/step - loss: 10.9360 - mae: 10.9360\n",
      "Epoch 371/500\n",
      "2/2 [==============================] - 0s 6ms/step - loss: 8.9981 - mae: 8.9981\n",
      "Epoch 372/500\n",
      "2/2 [==============================] - 0s 7ms/step - loss: 7.7196 - mae: 7.7196\n",
      "Epoch 373/500\n",
      "2/2 [==============================] - 0s 5ms/step - loss: 25.0726 - mae: 25.0726\n",
      "Epoch 374/500\n",
      "2/2 [==============================] - 0s 7ms/step - loss: 13.1955 - mae: 13.1955\n",
      "Epoch 375/500\n",
      "2/2 [==============================] - 0s 6ms/step - loss: 11.8732 - mae: 11.8732\n",
      "Epoch 376/500\n",
      "2/2 [==============================] - 0s 6ms/step - loss: 14.1448 - mae: 14.1448\n",
      "Epoch 377/500\n",
      "2/2 [==============================] - 0s 5ms/step - loss: 15.7385 - mae: 15.7385\n",
      "Epoch 378/500\n",
      "2/2 [==============================] - 0s 6ms/step - loss: 17.0711 - mae: 17.0711\n",
      "Epoch 379/500\n",
      "2/2 [==============================] - 0s 5ms/step - loss: 19.3429 - mae: 19.3429\n",
      "Epoch 380/500\n",
      "2/2 [==============================] - 0s 6ms/step - loss: 15.6998 - mae: 15.6998\n",
      "Epoch 381/500\n",
      "2/2 [==============================] - 0s 6ms/step - loss: 11.4850 - mae: 11.4850\n",
      "Epoch 382/500\n",
      "2/2 [==============================] - 0s 7ms/step - loss: 16.3619 - mae: 16.3619\n",
      "Epoch 383/500\n",
      "2/2 [==============================] - 0s 5ms/step - loss: 22.1288 - mae: 22.1288\n",
      "Epoch 384/500\n",
      "2/2 [==============================] - 0s 6ms/step - loss: 7.7436 - mae: 7.7436\n",
      "Epoch 385/500\n",
      "2/2 [==============================] - 0s 11ms/step - loss: 10.6434 - mae: 10.6434\n",
      "Epoch 386/500\n",
      "2/2 [==============================] - 0s 10ms/step - loss: 19.1440 - mae: 19.1440\n",
      "Epoch 387/500\n",
      "2/2 [==============================] - 0s 9ms/step - loss: 26.3763 - mae: 26.3763\n",
      "Epoch 388/500\n",
      "2/2 [==============================] - 0s 8ms/step - loss: 10.0597 - mae: 10.0597\n",
      "Epoch 389/500\n",
      "2/2 [==============================] - 0s 8ms/step - loss: 5.1823 - mae: 5.1823\n",
      "Epoch 390/500\n",
      "2/2 [==============================] - 0s 8ms/step - loss: 18.7131 - mae: 18.7131\n",
      "Epoch 391/500\n",
      "2/2 [==============================] - 0s 7ms/step - loss: 9.3732 - mae: 9.3732\n",
      "Epoch 392/500\n",
      "2/2 [==============================] - 0s 8ms/step - loss: 14.4398 - mae: 14.4398\n",
      "Epoch 393/500\n",
      "2/2 [==============================] - 0s 5ms/step - loss: 12.1120 - mae: 12.1120\n",
      "Epoch 394/500\n",
      "2/2 [==============================] - 0s 6ms/step - loss: 14.1059 - mae: 14.1059\n",
      "Epoch 395/500\n",
      "2/2 [==============================] - 0s 6ms/step - loss: 28.4776 - mae: 28.4776\n",
      "Epoch 396/500\n",
      "2/2 [==============================] - 0s 6ms/step - loss: 8.4797 - mae: 8.4797\n",
      "Epoch 397/500\n",
      "2/2 [==============================] - 0s 5ms/step - loss: 11.1640 - mae: 11.1640\n",
      "Epoch 398/500\n",
      "2/2 [==============================] - 0s 6ms/step - loss: 6.8897 - mae: 6.8897\n",
      "Epoch 399/500\n",
      "2/2 [==============================] - 0s 5ms/step - loss: 13.9663 - mae: 13.9663\n",
      "Epoch 400/500\n",
      "2/2 [==============================] - 0s 7ms/step - loss: 6.6678 - mae: 6.6678\n",
      "Epoch 401/500\n",
      "2/2 [==============================] - 0s 6ms/step - loss: 7.4861 - mae: 7.4861\n",
      "Epoch 402/500\n",
      "2/2 [==============================] - 0s 9ms/step - loss: 19.3863 - mae: 19.3863\n",
      "Epoch 403/500\n",
      "2/2 [==============================] - 0s 12ms/step - loss: 10.4781 - mae: 10.4781\n",
      "Epoch 404/500\n",
      "2/2 [==============================] - 0s 8ms/step - loss: 23.2423 - mae: 23.2423\n",
      "Epoch 405/500\n",
      "2/2 [==============================] - 0s 6ms/step - loss: 17.4324 - mae: 17.4324\n",
      "Epoch 406/500\n",
      "2/2 [==============================] - 0s 5ms/step - loss: 6.8387 - mae: 6.8387\n",
      "Epoch 407/500\n",
      "2/2 [==============================] - 0s 5ms/step - loss: 11.9247 - mae: 11.9247\n",
      "Epoch 408/500\n",
      "2/2 [==============================] - 0s 6ms/step - loss: 7.0972 - mae: 7.0972\n",
      "Epoch 409/500\n",
      "2/2 [==============================] - 0s 6ms/step - loss: 23.4350 - mae: 23.4350\n",
      "Epoch 410/500\n",
      "2/2 [==============================] - 0s 5ms/step - loss: 12.4071 - mae: 12.4071\n",
      "Epoch 411/500\n",
      "2/2 [==============================] - 0s 7ms/step - loss: 15.1990 - mae: 15.1990\n",
      "Epoch 412/500\n",
      "2/2 [==============================] - 0s 11ms/step - loss: 22.3214 - mae: 22.3214\n",
      "Epoch 413/500\n",
      "2/2 [==============================] - 0s 6ms/step - loss: 15.6624 - mae: 15.6624\n",
      "Epoch 414/500\n",
      "2/2 [==============================] - 0s 5ms/step - loss: 6.6224 - mae: 6.6224\n",
      "Epoch 415/500\n",
      "2/2 [==============================] - 0s 11ms/step - loss: 12.6995 - mae: 12.6995\n",
      "Epoch 416/500\n",
      "2/2 [==============================] - 0s 7ms/step - loss: 26.9296 - mae: 26.9296\n",
      "Epoch 417/500\n",
      "2/2 [==============================] - 0s 14ms/step - loss: 12.0496 - mae: 12.0496\n",
      "Epoch 418/500\n",
      "2/2 [==============================] - 0s 9ms/step - loss: 13.0694 - mae: 13.0694\n",
      "Epoch 419/500\n",
      "2/2 [==============================] - 0s 11ms/step - loss: 16.0381 - mae: 16.0381\n",
      "Epoch 420/500\n",
      "2/2 [==============================] - 0s 8ms/step - loss: 25.0761 - mae: 25.0761\n",
      "Epoch 421/500\n",
      "2/2 [==============================] - 0s 9ms/step - loss: 16.5855 - mae: 16.5855\n",
      "Epoch 422/500\n",
      "2/2 [==============================] - 0s 8ms/step - loss: 8.6993 - mae: 8.6993\n",
      "Epoch 423/500\n",
      "2/2 [==============================] - 0s 13ms/step - loss: 24.8060 - mae: 24.8060\n",
      "Epoch 424/500\n",
      "2/2 [==============================] - 0s 9ms/step - loss: 16.4951 - mae: 16.4951\n",
      "Epoch 425/500\n",
      "2/2 [==============================] - 0s 9ms/step - loss: 7.2447 - mae: 7.2447\n",
      "Epoch 426/500\n",
      "2/2 [==============================] - 0s 7ms/step - loss: 20.6309 - mae: 20.6309\n",
      "Epoch 427/500\n",
      "2/2 [==============================] - 0s 10ms/step - loss: 6.4114 - mae: 6.4114\n",
      "Epoch 428/500\n",
      "2/2 [==============================] - 0s 7ms/step - loss: 13.1932 - mae: 13.1932\n",
      "Epoch 429/500\n",
      "2/2 [==============================] - 0s 11ms/step - loss: 10.9567 - mae: 10.9567\n",
      "Epoch 430/500\n",
      "2/2 [==============================] - 0s 7ms/step - loss: 11.8286 - mae: 11.8286\n",
      "Epoch 431/500\n",
      "2/2 [==============================] - 0s 7ms/step - loss: 7.9711 - mae: 7.9711\n",
      "Epoch 432/500\n",
      "2/2 [==============================] - 0s 7ms/step - loss: 22.2868 - mae: 22.2868\n",
      "Epoch 433/500\n",
      "2/2 [==============================] - 0s 11ms/step - loss: 5.9438 - mae: 5.9438\n",
      "Epoch 434/500\n",
      "2/2 [==============================] - 0s 8ms/step - loss: 32.6386 - mae: 32.6386\n",
      "Epoch 435/500\n",
      "2/2 [==============================] - 0s 10ms/step - loss: 13.4925 - mae: 13.4925\n",
      "Epoch 436/500\n",
      "2/2 [==============================] - 0s 10ms/step - loss: 29.0529 - mae: 29.0529\n",
      "Epoch 437/500\n",
      "2/2 [==============================] - 0s 8ms/step - loss: 9.1790 - mae: 9.1790\n",
      "Epoch 438/500\n",
      "2/2 [==============================] - 0s 9ms/step - loss: 12.3644 - mae: 12.3644\n",
      "Epoch 439/500\n",
      "2/2 [==============================] - 0s 12ms/step - loss: 33.6484 - mae: 33.6484\n",
      "Epoch 440/500\n",
      "2/2 [==============================] - 0s 8ms/step - loss: 15.0483 - mae: 15.0483\n",
      "Epoch 441/500\n",
      "2/2 [==============================] - 0s 8ms/step - loss: 17.4465 - mae: 17.4465\n",
      "Epoch 442/500\n",
      "2/2 [==============================] - 0s 8ms/step - loss: 22.2354 - mae: 22.2354\n",
      "Epoch 443/500\n",
      "2/2 [==============================] - 0s 8ms/step - loss: 23.7529 - mae: 23.7529\n",
      "Epoch 444/500\n",
      "2/2 [==============================] - 0s 10ms/step - loss: 11.1339 - mae: 11.1339\n",
      "Epoch 445/500\n",
      "2/2 [==============================] - 0s 8ms/step - loss: 14.8779 - mae: 14.8779\n",
      "Epoch 446/500\n",
      "2/2 [==============================] - 0s 11ms/step - loss: 17.9415 - mae: 17.9415\n",
      "Epoch 447/500\n",
      "2/2 [==============================] - 0s 7ms/step - loss: 5.5022 - mae: 5.5022\n",
      "Epoch 448/500\n",
      "2/2 [==============================] - 0s 13ms/step - loss: 9.6624 - mae: 9.6624\n",
      "Epoch 449/500\n",
      "2/2 [==============================] - 0s 9ms/step - loss: 14.2986 - mae: 14.2986\n",
      "Epoch 450/500\n",
      "2/2 [==============================] - 0s 6ms/step - loss: 17.0609 - mae: 17.0609\n",
      "Epoch 451/500\n",
      "2/2 [==============================] - 0s 8ms/step - loss: 14.4102 - mae: 14.4102\n",
      "Epoch 452/500\n",
      "2/2 [==============================] - 0s 9ms/step - loss: 30.8728 - mae: 30.8728\n",
      "Epoch 453/500\n",
      "2/2 [==============================] - 0s 8ms/step - loss: 9.1372 - mae: 9.1372\n",
      "Epoch 454/500\n",
      "2/2 [==============================] - 0s 7ms/step - loss: 27.2437 - mae: 27.2437\n",
      "Epoch 455/500\n",
      "2/2 [==============================] - 0s 9ms/step - loss: 11.2696 - mae: 11.2696\n",
      "Epoch 456/500\n",
      "2/2 [==============================] - 0s 6ms/step - loss: 15.6857 - mae: 15.6857\n",
      "Epoch 457/500\n",
      "2/2 [==============================] - 0s 6ms/step - loss: 19.3747 - mae: 19.3747\n",
      "Epoch 458/500\n",
      "2/2 [==============================] - 0s 5ms/step - loss: 22.8171 - mae: 22.8171\n",
      "Epoch 459/500\n",
      "2/2 [==============================] - 0s 7ms/step - loss: 16.2096 - mae: 16.2096\n",
      "Epoch 460/500\n",
      "2/2 [==============================] - 0s 5ms/step - loss: 4.0916 - mae: 4.0916\n",
      "Epoch 461/500\n",
      "2/2 [==============================] - 0s 6ms/step - loss: 16.1559 - mae: 16.1559\n",
      "Epoch 462/500\n",
      "2/2 [==============================] - 0s 6ms/step - loss: 15.5818 - mae: 15.5818\n",
      "Epoch 463/500\n",
      "2/2 [==============================] - 0s 6ms/step - loss: 17.3733 - mae: 17.3733\n",
      "Epoch 464/500\n",
      "2/2 [==============================] - 0s 7ms/step - loss: 11.5743 - mae: 11.5743\n",
      "Epoch 465/500\n",
      "2/2 [==============================] - 0s 11ms/step - loss: 22.2725 - mae: 22.2725\n",
      "Epoch 466/500\n",
      "2/2 [==============================] - 0s 6ms/step - loss: 23.3319 - mae: 23.3319\n",
      "Epoch 467/500\n",
      "2/2 [==============================] - 0s 7ms/step - loss: 13.3231 - mae: 13.3231\n",
      "Epoch 468/500\n",
      "2/2 [==============================] - 0s 6ms/step - loss: 10.3725 - mae: 10.3725\n",
      "Epoch 469/500\n",
      "2/2 [==============================] - 0s 8ms/step - loss: 27.3607 - mae: 27.3607\n",
      "Epoch 470/500\n",
      "2/2 [==============================] - 0s 11ms/step - loss: 12.4555 - mae: 12.4555\n",
      "Epoch 471/500\n",
      "2/2 [==============================] - 0s 8ms/step - loss: 12.0930 - mae: 12.0930\n",
      "Epoch 472/500\n",
      "2/2 [==============================] - 0s 7ms/step - loss: 15.5120 - mae: 15.5120\n",
      "Epoch 473/500\n",
      "2/2 [==============================] - 0s 6ms/step - loss: 15.5272 - mae: 15.5272\n",
      "Epoch 474/500\n",
      "2/2 [==============================] - 0s 8ms/step - loss: 9.1047 - mae: 9.1047\n",
      "Epoch 475/500\n",
      "2/2 [==============================] - 0s 7ms/step - loss: 7.1969 - mae: 7.1969\n",
      "Epoch 476/500\n",
      "2/2 [==============================] - 0s 8ms/step - loss: 11.9232 - mae: 11.9232\n",
      "Epoch 477/500\n",
      "2/2 [==============================] - 0s 6ms/step - loss: 27.9713 - mae: 27.9713\n",
      "Epoch 478/500\n",
      "2/2 [==============================] - 0s 6ms/step - loss: 8.3425 - mae: 8.3425\n",
      "Epoch 479/500\n",
      "2/2 [==============================] - 0s 5ms/step - loss: 10.6659 - mae: 10.6659\n",
      "Epoch 480/500\n",
      "2/2 [==============================] - 0s 7ms/step - loss: 17.8520 - mae: 17.8520\n",
      "Epoch 481/500\n",
      "2/2 [==============================] - 0s 6ms/step - loss: 15.7725 - mae: 15.7725\n",
      "Epoch 482/500\n",
      "2/2 [==============================] - 0s 5ms/step - loss: 21.2199 - mae: 21.2199\n",
      "Epoch 483/500\n",
      "2/2 [==============================] - 0s 6ms/step - loss: 25.6344 - mae: 25.6344\n",
      "Epoch 484/500\n",
      "2/2 [==============================] - 0s 6ms/step - loss: 24.2468 - mae: 24.2468\n",
      "Epoch 485/500\n",
      "2/2 [==============================] - 0s 9ms/step - loss: 5.8168 - mae: 5.8168\n",
      "Epoch 486/500\n",
      "2/2 [==============================] - 0s 6ms/step - loss: 20.2673 - mae: 20.2673\n",
      "Epoch 487/500\n",
      "2/2 [==============================] - 0s 6ms/step - loss: 14.0159 - mae: 14.0159\n",
      "Epoch 488/500\n",
      "2/2 [==============================] - 0s 6ms/step - loss: 30.5603 - mae: 30.5603\n",
      "Epoch 489/500\n",
      "2/2 [==============================] - 0s 6ms/step - loss: 11.8594 - mae: 11.8594\n",
      "Epoch 490/500\n",
      "2/2 [==============================] - 0s 5ms/step - loss: 12.5142 - mae: 12.5142\n",
      "Epoch 491/500\n",
      "2/2 [==============================] - 0s 5ms/step - loss: 23.7582 - mae: 23.7582\n",
      "Epoch 492/500\n",
      "2/2 [==============================] - 0s 13ms/step - loss: 20.1884 - mae: 20.1884\n",
      "Epoch 493/500\n",
      "2/2 [==============================] - 0s 6ms/step - loss: 4.9182 - mae: 4.9182\n",
      "Epoch 494/500\n",
      "2/2 [==============================] - 0s 9ms/step - loss: 12.5008 - mae: 12.5008\n",
      "Epoch 495/500\n",
      "2/2 [==============================] - 0s 11ms/step - loss: 13.5036 - mae: 13.5036\n",
      "Epoch 496/500\n",
      "2/2 [==============================] - 0s 11ms/step - loss: 12.7614 - mae: 12.7614\n",
      "Epoch 497/500\n",
      "2/2 [==============================] - 0s 5ms/step - loss: 17.7780 - mae: 17.7780\n",
      "Epoch 498/500\n",
      "2/2 [==============================] - 0s 10ms/step - loss: 23.2062 - mae: 23.2062\n",
      "Epoch 499/500\n",
      "2/2 [==============================] - 0s 11ms/step - loss: 8.9865 - mae: 8.9865\n",
      "Epoch 500/500\n",
      "2/2 [==============================] - 0s 5ms/step - loss: 14.3997 - mae: 14.3997\n"
     ]
    },
    {
     "data": {
      "text/plain": "<keras.callbacks.History at 0x7fd9f3382790>"
     },
     "execution_count": 58,
     "metadata": {},
     "output_type": "execute_result"
    }
   ],
   "source": [
    "# Set the random seed\n",
    "tf.random.set_seed(42)\n",
    "\n",
    "# 1. Create the model\n",
    "model_3 = tf.keras.Sequential([\n",
    "    tf.keras.layers.Dense(10),\n",
    "    tf.keras.layers.Dense(1)\n",
    "])\n",
    "\n",
    "# 2. Compile the model\n",
    "model_3.compile(loss=tf.keras.losses.mae,\n",
    "                optimizer=tf.keras.optimizers.SGD(),\n",
    "                metrics=[\"mae\"])\n",
    "\n",
    "# 3. Fit the model\n",
    "model_3.fit(tf.expand_dims(X_train, axis=-1), y_train, epochs=500)"
   ],
   "metadata": {
    "colab": {
     "base_uri": "https://localhost:8080/"
    },
    "id": "63aa0519b7419682",
    "executionInfo": {
     "status": "ok",
     "timestamp": 1696076859418,
     "user_tz": -420,
     "elapsed": 12407,
     "user": {
      "displayName": "kang sigit",
      "userId": "15887135570512197739"
     }
    },
    "outputId": "b505caf8-a0f1-424c-d542-7479ae153a19",
    "ExecuteTime": {
     "end_time": "2023-12-29T07:06:54.925308836Z",
     "start_time": "2023-12-29T07:06:42.268860216Z"
    }
   },
   "id": "63aa0519b7419682"
  },
  {
   "cell_type": "code",
   "execution_count": 59,
   "outputs": [
    {
     "name": "stdout",
     "output_type": "stream",
     "text": [
      "1/1 [==============================] - 0s 58ms/step\n"
     ]
    },
    {
     "data": {
      "text/plain": "<Figure size 1000x700 with 1 Axes>",
      "image/png": "[encoded data removed]"
     },
     "metadata": {},
     "output_type": "display_data"
    }
   ],
   "source": [
    "# Make and plot some predictions\n",
    "y_preds_3 = model_3.predict(X_test)\n",
    "plot_predictions(predictions=y_preds_3)"
   ],
   "metadata": {
    "colab": {
     "base_uri": "https://localhost:8080/",
     "height": 617
    },
    "id": "14874d471dd92dec",
    "executionInfo": {
     "status": "ok",
     "timestamp": 1696076861937,
     "user_tz": -420,
     "elapsed": 671,
     "user": {
      "displayName": "kang sigit",
      "userId": "15887135570512197739"
     }
    },
    "outputId": "fe1fd6e7-d487-4987-f7e0-fa91d67da44a",
    "ExecuteTime": {
     "end_time": "2023-12-29T07:06:57.976443798Z",
     "start_time": "2023-12-29T07:06:57.421463193Z"
    }
   },
   "id": "14874d471dd92dec"
  },
  {
   "cell_type": "code",
   "execution_count": 60,
   "outputs": [
    {
     "data": {
      "text/plain": "(<tf.Tensor: shape=(), dtype=float32, numpy=67.96137>,\n <tf.Tensor: shape=(), dtype=float32, numpy=4703.282>)"
     },
     "execution_count": 60,
     "metadata": {},
     "output_type": "execute_result"
    }
   ],
   "source": [
    "# Calculate model_3 evaluation metrics\n",
    "mae_3 = mae(y_test, y_preds_3)\n",
    "mse_3 = mse(y_test, y_preds_3)\n",
    "mae_3, mse_3"
   ],
   "metadata": {
    "colab": {
     "base_uri": "https://localhost:8080/"
    },
    "id": "a1bdb91d97ceeb7a",
    "executionInfo": {
     "status": "ok",
     "timestamp": 1696076867643,
     "user_tz": -420,
     "elapsed": 922,
     "user": {
      "displayName": "kang sigit",
      "userId": "15887135570512197739"
     }
    },
    "outputId": "0ab21741-9a25-46ca-c673-b847793ba5dd",
    "ExecuteTime": {
     "end_time": "2023-12-29T07:06:59.088264937Z",
     "start_time": "2023-12-29T07:06:59.034640580Z"
    }
   },
   "id": "a1bdb91d97ceeb7a"
  },
  {
   "cell_type": "markdown",
   "source": [
    "🔑 **Note:** You want to start with small experiments (small models) and make sure they work and than increase their scale when necessary."
   ],
   "metadata": {
    "collapsed": false,
    "id": "13cc26732f4ee288"
   },
   "id": "13cc26732f4ee288"
  },
  {
   "cell_type": "markdown",
   "source": [
    "## Comparing the results of our experiments\n",
    "\n",
    "We've run a few experiments, let's compare the results."
   ],
   "metadata": {
    "collapsed": false,
    "id": "f99513fbb95360d4"
   },
   "id": "f99513fbb95360d4"
  },
  {
   "cell_type": "code",
   "execution_count": 61,
   "outputs": [
    {
     "data": {
      "text/plain": "     model        mae          mse\n0  model_1  30.394657   934.073730\n1  model_2   2.877602    10.981874\n2  model_3  67.961372  4703.282227",
      "text/html": "<div>\n<style scoped>\n    .dataframe tbody tr th:only-of-type {\n        vertical-align: middle;\n    }\n\n    .dataframe tbody tr th {\n        vertical-align: top;\n    }\n\n    .dataframe thead th {\n        text-align: right;\n    }\n</style>\n<table border=\"1\" class=\"dataframe\">\n  <thead>\n    <tr style=\"text-align: right;\">\n      <th></th>\n      <th>model</th>\n      <th>mae</th>\n      <th>mse</th>\n    </tr>\n  </thead>\n  <tbody>\n    <tr>\n      <th>0</th>\n      <td>model_1</td>\n      <td>30.394657</td>\n      <td>934.073730</td>\n    </tr>\n    <tr>\n      <th>1</th>\n      <td>model_2</td>\n      <td>2.877602</td>\n      <td>10.981874</td>\n    </tr>\n    <tr>\n      <th>2</th>\n      <td>model_3</td>\n      <td>67.961372</td>\n      <td>4703.282227</td>\n    </tr>\n  </tbody>\n</table>\n</div>"
     },
     "execution_count": 61,
     "metadata": {},
     "output_type": "execute_result"
    }
   ],
   "source": [
    "# Let's compare our model's results using a pandas DataFrame\n",
    "import pandas as pd\n",
    "\n",
    "model_results = [[\"model_1\", mae_1.numpy(), mse_1.numpy()],\n",
    "                 [\"model_2\", mae_2.numpy(), mse_2.numpy()],\n",
    "                 [\"model_3\", mae_3.numpy(), mse_3.numpy()]]\n",
    "\n",
    "all_results = pd.DataFrame(model_results, columns=[\"model\", \"mae\", \"mse\"])\n",
    "all_results"
   ],
   "metadata": {
    "colab": {
     "base_uri": "https://localhost:8080/",
     "height": 143
    },
    "id": "307fb19b0e82e4c6",
    "executionInfo": {
     "status": "ok",
     "timestamp": 1696076870784,
     "user_tz": -420,
     "elapsed": 14,
     "user": {
      "displayName": "kang sigit",
      "userId": "15887135570512197739"
     }
    },
    "outputId": "e0578fbd-8dd6-4813-e17d-b81d15efcd8d",
    "ExecuteTime": {
     "end_time": "2023-12-29T07:07:00.977758654Z",
     "start_time": "2023-12-29T07:07:00.929084467Z"
    }
   },
   "id": "307fb19b0e82e4c6"
  },
  {
   "cell_type": "code",
   "execution_count": 62,
   "outputs": [],
   "source": [
    "### Look like `model_2` performed best (maybe)"
   ],
   "metadata": {
    "id": "5b36e1e7958a0c73",
    "executionInfo": {
     "status": "ok",
     "timestamp": 1696076877317,
     "user_tz": -420,
     "elapsed": 560,
     "user": {
      "displayName": "kang sigit",
      "userId": "15887135570512197739"
     }
    },
    "ExecuteTime": {
     "end_time": "2023-12-29T07:07:02.492047195Z",
     "start_time": "2023-12-29T07:07:02.385905205Z"
    }
   },
   "id": "5b36e1e7958a0c73"
  },
  {
   "cell_type": "code",
   "execution_count": 63,
   "outputs": [
    {
     "name": "stdout",
     "output_type": "stream",
     "text": [
      "Model: \"sequential_5\"\n",
      "_________________________________________________________________\n",
      " Layer (type)                Output Shape              Param #   \n",
      "=================================================================\n",
      " dense_6 (Dense)             (None, 10)                20        \n",
      "                                                                 \n",
      " dense_7 (Dense)             (None, 1)                 11        \n",
      "                                                                 \n",
      "=================================================================\n",
      "Total params: 31\n",
      "Trainable params: 31\n",
      "Non-trainable params: 0\n",
      "_________________________________________________________________\n"
     ]
    }
   ],
   "source": [
    "model_2.summary()"
   ],
   "metadata": {
    "colab": {
     "base_uri": "https://localhost:8080/"
    },
    "id": "217c2eae7aa9fffc",
    "executionInfo": {
     "status": "ok",
     "timestamp": 1696076880554,
     "user_tz": -420,
     "elapsed": 824,
     "user": {
      "displayName": "kang sigit",
      "userId": "15887135570512197739"
     }
    },
    "outputId": "ce1b5ae7-6598-4afc-8dda-63d17f521d3a",
    "ExecuteTime": {
     "end_time": "2023-12-29T07:07:03.579466222Z",
     "start_time": "2023-12-29T07:07:03.483925304Z"
    }
   },
   "id": "217c2eae7aa9fffc"
  },
  {
   "cell_type": "markdown",
   "source": [
    ":key **Note:** One of your main goals should be to minimize the time between your experiments. The more experiments you do, the more things you'll figure out which don't work and in turn, get closer to figuring out what does work.Remember the machine learning practioner's motto: \"experiment, experiment, experiment\"."
   ],
   "metadata": {
    "collapsed": false,
    "id": "4a1705a03c1bbb72"
   },
   "id": "4a1705a03c1bbb72"
  },
  {
   "cell_type": "markdown",
   "source": [
    "## Tracking your experiments\n",
    "\n",
    "One really good habit in machine learning modelling is to track the results of your experiments.\n",
    "\n",
    "And when doing so, it can be tedious if you're running lots of experiments.\n",
    "\n",
    "Luckily, there are tools to help us!\n",
    "\n",
    "📖 **Resource:** As you build more models, you'll want to look into using:\n",
    "\n",
    "* TensorBoard - a component of the TensorFlow library to help track modelling experiments (we'll see this one later).\n",
    "* Weights & Biases - a tool for tracking all of kinds of machine learning experiments (plugs straight into TensorBoard)."
   ],
   "metadata": {
    "collapsed": false,
    "id": "17f54b7f126aa329"
   },
   "id": "17f54b7f126aa329"
  },
  {
   "cell_type": "markdown",
   "source": [
    "## Saving our models\n",
    "\n",
    "Saving your models allows us to use them outside of Google Colab (or wherever they were trained) such as in a web application or a mobile app.\n",
    "\n",
    "There are two main formats we can save or model's too:\n",
    "1. The SaveModel Format\n",
    "2. The HDF5 format"
   ],
   "metadata": {
    "collapsed": false,
    "id": "3b39adadf7ace07"
   },
   "id": "3b39adadf7ace07"
  },
  {
   "cell_type": "code",
   "execution_count": 64,
   "outputs": [
    {
     "name": "stderr",
     "output_type": "stream",
     "text": [
      "WARNING:absl:Found untraced functions such as _update_step_xla while saving (showing 1 of 1). These functions will not be directly callable after loading.\n"
     ]
    },
    {
     "name": "stdout",
     "output_type": "stream",
     "text": [
      "INFO:tensorflow:Assets written to: best_model_SavedModel_format/assets\n"
     ]
    },
    {
     "name": "stderr",
     "output_type": "stream",
     "text": [
      "INFO:tensorflow:Assets written to: best_model_SavedModel_format/assets\n"
     ]
    }
   ],
   "source": [
    "# Save model using the SaveModel format\n",
    "model_2.save(\"best_model_SavedModel_format\")"
   ],
   "metadata": {
    "id": "f756e5f68dbdd72",
    "executionInfo": {
     "status": "aborted",
     "timestamp": 1696076709017,
     "user_tz": -420,
     "elapsed": 12,
     "user": {
      "displayName": "kang sigit",
      "userId": "15887135570512197739"
     }
    },
    "ExecuteTime": {
     "end_time": "2023-12-29T07:07:06.400365394Z",
     "start_time": "2023-12-29T07:07:05.884448152Z"
    }
   },
   "id": "f756e5f68dbdd72"
  },
  {
   "cell_type": "code",
   "execution_count": 65,
   "outputs": [],
   "source": [
    "# Save model using the HDF5 format\n",
    "model_2.save(\"best_model_HDF5_format.h5\")"
   ],
   "metadata": {
    "collapsed": false,
    "ExecuteTime": {
     "end_time": "2023-12-29T07:07:07.302056031Z",
     "start_time": "2023-12-29T07:07:07.255522776Z"
    }
   },
   "id": "3d3318e412be8e5e"
  },
  {
   "cell_type": "markdown",
   "source": [
    "## Loading in saved model"
   ],
   "metadata": {
    "collapsed": false
   },
   "id": "61263de06c24ec02"
  },
  {
   "cell_type": "code",
   "execution_count": 66,
   "outputs": [
    {
     "name": "stdout",
     "output_type": "stream",
     "text": [
      "Model: \"sequential_5\"\n",
      "_________________________________________________________________\n",
      " Layer (type)                Output Shape              Param #   \n",
      "=================================================================\n",
      " dense_6 (Dense)             (None, 10)                20        \n",
      "                                                                 \n",
      " dense_7 (Dense)             (None, 1)                 11        \n",
      "                                                                 \n",
      "=================================================================\n",
      "Total params: 31\n",
      "Trainable params: 31\n",
      "Non-trainable params: 0\n",
      "_________________________________________________________________\n"
     ]
    }
   ],
   "source": [
    "loaded_SavedModel_format = tf.keras.models.load_model(\"best_model_SavedModel_format\")\n",
    "loaded_SavedModel_format.summary()"
   ],
   "metadata": {
    "collapsed": false,
    "ExecuteTime": {
     "end_time": "2023-12-29T07:07:08.719987238Z",
     "start_time": "2023-12-29T07:07:08.511940433Z"
    }
   },
   "id": "972570d455c0ea7b"
  },
  {
   "cell_type": "code",
   "execution_count": 67,
   "outputs": [
    {
     "name": "stdout",
     "output_type": "stream",
     "text": [
      "1/1 [==============================] - 0s 34ms/step\n",
      "1/1 [==============================] - 0s 69ms/step\n"
     ]
    },
    {
     "data": {
      "text/plain": "array([[ True],\n       [ True],\n       [ True],\n       [ True],\n       [ True],\n       [ True],\n       [ True],\n       [ True],\n       [ True],\n       [ True]])"
     },
     "execution_count": 67,
     "metadata": {},
     "output_type": "execute_result"
    }
   ],
   "source": [
    "# Compare model_2 predictions with SavedModel format model predictions\n",
    "model_2_preds = model_2.predict(X_test)\n",
    "loaded_SavedModel_format_preds = loaded_SavedModel_format.predict(X_test);\n",
    "model_2_preds == loaded_SavedModel_format_preds"
   ],
   "metadata": {
    "collapsed": false,
    "ExecuteTime": {
     "end_time": "2023-12-29T07:07:09.850535702Z",
     "start_time": "2023-12-29T07:07:09.615434257Z"
    }
   },
   "id": "d9bf6d501126be3a"
  },
  {
   "cell_type": "code",
   "execution_count": 68,
   "outputs": [
    {
     "data": {
      "text/plain": "<tf.Tensor: shape=(), dtype=bool, numpy=True>"
     },
     "execution_count": 68,
     "metadata": {},
     "output_type": "execute_result"
    }
   ],
   "source": [
    "# Compare the MAE of model_2 preds and loaded_SavedModel_preds\n",
    "mae(y_true=y_test, y_pred=model_2_preds) == mae(y_true=y_test, y_pred=loaded_SavedModel_format_preds)"
   ],
   "metadata": {
    "collapsed": false,
    "ExecuteTime": {
     "end_time": "2023-12-29T07:07:10.268313869Z",
     "start_time": "2023-12-29T07:07:10.146377105Z"
    }
   },
   "id": "2a2862a719eb26ad"
  },
  {
   "cell_type": "code",
   "execution_count": 69,
   "outputs": [
    {
     "name": "stdout",
     "output_type": "stream",
     "text": [
      "Model: \"sequential_5\"\n",
      "_________________________________________________________________\n",
      " Layer (type)                Output Shape              Param #   \n",
      "=================================================================\n",
      " dense_6 (Dense)             (None, 10)                20        \n",
      "                                                                 \n",
      " dense_7 (Dense)             (None, 1)                 11        \n",
      "                                                                 \n",
      "=================================================================\n",
      "Total params: 31\n",
      "Trainable params: 31\n",
      "Non-trainable params: 0\n",
      "_________________________________________________________________\n"
     ]
    }
   ],
   "source": [
    "# Load in model using the .h5 format\n",
    "loaded_h5_model = tf.keras.models.load_model(\"best_model_HDF5_format.h5\")\n",
    "loaded_h5_model.summary()"
   ],
   "metadata": {
    "collapsed": false,
    "ExecuteTime": {
     "end_time": "2023-12-29T07:07:11.301050818Z",
     "start_time": "2023-12-29T07:07:11.213868449Z"
    }
   },
   "id": "abf2e5db4f1e317d"
  },
  {
   "cell_type": "code",
   "execution_count": 70,
   "outputs": [
    {
     "name": "stdout",
     "output_type": "stream",
     "text": [
      "1/1 [==============================] - 0s 32ms/step\n",
      "1/1 [==============================] - 0s 105ms/step\n"
     ]
    },
    {
     "data": {
      "text/plain": "array([[ True],\n       [ True],\n       [ True],\n       [ True],\n       [ True],\n       [ True],\n       [ True],\n       [ True],\n       [ True],\n       [ True]])"
     },
     "execution_count": 70,
     "metadata": {},
     "output_type": "execute_result"
    }
   ],
   "source": [
    "# Check to see if loaded .h5 model predictions match model_2\n",
    "model_2_preds = model_2.predict(X_test)\n",
    "loaded_h5_model_preds = loaded_h5_model.predict(X_test)\n",
    "model_2_preds == loaded_h5_model_preds"
   ],
   "metadata": {
    "collapsed": false,
    "ExecuteTime": {
     "end_time": "2023-12-29T07:07:12.398428227Z",
     "start_time": "2023-12-29T07:07:12.006952265Z"
    }
   },
   "id": "8dfd4812a43168e0"
  },
  {
   "cell_type": "markdown",
   "source": [
    "## A larger Example"
   ],
   "metadata": {
    "collapsed": false
   },
   "id": "d4f8c8045cd632c9"
  },
  {
   "cell_type": "code",
   "execution_count": 71,
   "outputs": [
    {
     "data": {
      "text/plain": "(<tf.Tensor: shape=(40,), dtype=int32, numpy=\n array([-100,  -96,  -92,  -88,  -84,  -80,  -76,  -72,  -68,  -64,  -60,\n         -56,  -52,  -48,  -44,  -40,  -36,  -32,  -28,  -24,  -20,  -16,\n         -12,   -8,   -4,    0,    4,    8,   12,   16,   20,   24,   28,\n          32,   36,   40,   44,   48,   52,   56], dtype=int32)>,\n <tf.Tensor: shape=(40,), dtype=int32, numpy=\n array([-90, -86, -82, -78, -74, -70, -66, -62, -58, -54, -50, -46, -42,\n        -38, -34, -30, -26, -22, -18, -14, -10,  -6,  -2,   2,   6,  10,\n         14,  18,  22,  26,  30,  34,  38,  42,  46,  50,  54,  58,  62,\n         66], dtype=int32)>)"
     },
     "execution_count": 71,
     "metadata": {},
     "output_type": "execute_result"
    }
   ],
   "source": [
    "X_train, y_train"
   ],
   "metadata": {
    "collapsed": false,
    "ExecuteTime": {
     "end_time": "2023-12-29T07:07:14.650689461Z",
     "start_time": "2023-12-29T07:07:14.614482882Z"
    }
   },
   "id": "609978110d94b6ae"
  },
  {
   "cell_type": "code",
   "execution_count": 37,
   "outputs": [],
   "source": [
    "# Import required libraries\n",
    "import tensorflow as tf\n",
    "import pandas as pd\n",
    "import matplotlib.pyplot as plt"
   ],
   "metadata": {
    "collapsed": false,
    "ExecuteTime": {
     "end_time": "2024-01-01T07:30:00.871561478Z",
     "start_time": "2024-01-01T07:30:00.793703959Z"
    }
   },
   "id": "5f6b5badf10907a9"
  },
  {
   "cell_type": "code",
   "execution_count": 38,
   "outputs": [
    {
     "data": {
      "text/plain": "      age     sex     bmi  children smoker     region      charges\n0      19  female  27.900         0    yes  southwest  16884.92400\n1      18    male  33.770         1     no  southeast   1725.55230\n2      28    male  33.000         3     no  southeast   4449.46200\n3      33    male  22.705         0     no  northwest  21984.47061\n4      32    male  28.880         0     no  northwest   3866.85520\n...   ...     ...     ...       ...    ...        ...          ...\n1333   50    male  30.970         3     no  northwest  10600.54830\n1334   18  female  31.920         0     no  northeast   2205.98080\n1335   18  female  36.850         0     no  southeast   1629.83350\n1336   21  female  25.800         0     no  southwest   2007.94500\n1337   61  female  29.070         0    yes  northwest  29141.36030\n\n[1338 rows x 7 columns]",
      "text/html": "<div>\n<style scoped>\n    .dataframe tbody tr th:only-of-type {\n        vertical-align: middle;\n    }\n\n    .dataframe tbody tr th {\n        vertical-align: top;\n    }\n\n    .dataframe thead th {\n        text-align: right;\n    }\n</style>\n<table border=\"1\" class=\"dataframe\">\n  <thead>\n    <tr style=\"text-align: right;\">\n      <th></th>\n      <th>age</th>\n      <th>sex</th>\n      <th>bmi</th>\n      <th>children</th>\n      <th>smoker</th>\n      <th>region</th>\n      <th>charges</th>\n    </tr>\n  </thead>\n  <tbody>\n    <tr>\n      <th>0</th>\n      <td>19</td>\n      <td>female</td>\n      <td>27.900</td>\n      <td>0</td>\n      <td>yes</td>\n      <td>southwest</td>\n      <td>16884.92400</td>\n    </tr>\n    <tr>\n      <th>1</th>\n      <td>18</td>\n      <td>male</td>\n      <td>33.770</td>\n      <td>1</td>\n      <td>no</td>\n      <td>southeast</td>\n      <td>1725.55230</td>\n    </tr>\n    <tr>\n      <th>2</th>\n      <td>28</td>\n      <td>male</td>\n      <td>33.000</td>\n      <td>3</td>\n      <td>no</td>\n      <td>southeast</td>\n      <td>4449.46200</td>\n    </tr>\n    <tr>\n      <th>3</th>\n      <td>33</td>\n      <td>male</td>\n      <td>22.705</td>\n      <td>0</td>\n      <td>no</td>\n      <td>northwest</td>\n      <td>21984.47061</td>\n    </tr>\n    <tr>\n      <th>4</th>\n      <td>32</td>\n      <td>male</td>\n      <td>28.880</td>\n      <td>0</td>\n      <td>no</td>\n      <td>northwest</td>\n      <td>3866.85520</td>\n    </tr>\n    <tr>\n      <th>...</th>\n      <td>...</td>\n      <td>...</td>\n      <td>...</td>\n      <td>...</td>\n      <td>...</td>\n      <td>...</td>\n      <td>...</td>\n    </tr>\n    <tr>\n      <th>1333</th>\n      <td>50</td>\n      <td>male</td>\n      <td>30.970</td>\n      <td>3</td>\n      <td>no</td>\n      <td>northwest</td>\n      <td>10600.54830</td>\n    </tr>\n    <tr>\n      <th>1334</th>\n      <td>18</td>\n      <td>female</td>\n      <td>31.920</td>\n      <td>0</td>\n      <td>no</td>\n      <td>northeast</td>\n      <td>2205.98080</td>\n    </tr>\n    <tr>\n      <th>1335</th>\n      <td>18</td>\n      <td>female</td>\n      <td>36.850</td>\n      <td>0</td>\n      <td>no</td>\n      <td>southeast</td>\n      <td>1629.83350</td>\n    </tr>\n    <tr>\n      <th>1336</th>\n      <td>21</td>\n      <td>female</td>\n      <td>25.800</td>\n      <td>0</td>\n      <td>no</td>\n      <td>southwest</td>\n      <td>2007.94500</td>\n    </tr>\n    <tr>\n      <th>1337</th>\n      <td>61</td>\n      <td>female</td>\n      <td>29.070</td>\n      <td>0</td>\n      <td>yes</td>\n      <td>northwest</td>\n      <td>29141.36030</td>\n    </tr>\n  </tbody>\n</table>\n<p>1338 rows × 7 columns</p>\n</div>"
     },
     "execution_count": 38,
     "metadata": {},
     "output_type": "execute_result"
    }
   ],
   "source": [
    "# Read in the insurance dataset\n",
    "insurance = pd.read_csv('Dataset/insurance.csv')\n",
    "insurance"
   ],
   "metadata": {
    "collapsed": false,
    "ExecuteTime": {
     "end_time": "2024-01-01T07:30:02.258275012Z",
     "start_time": "2024-01-01T07:30:02.162960644Z"
    }
   },
   "id": "40cfa82b64bd5417"
  },
  {
   "cell_type": "code",
   "execution_count": 39,
   "outputs": [
    {
     "data": {
      "text/plain": "0       female\n1         male\n2         male\n3         male\n4         male\n         ...  \n1333      male\n1334    female\n1335    female\n1336    female\n1337    female\nName: sex, Length: 1338, dtype: object"
     },
     "execution_count": 39,
     "metadata": {},
     "output_type": "execute_result"
    }
   ],
   "source": [
    "insurance[\"sex\"]"
   ],
   "metadata": {
    "collapsed": false,
    "ExecuteTime": {
     "end_time": "2024-01-01T07:30:03.496507490Z",
     "start_time": "2024-01-01T07:30:03.402803308Z"
    }
   },
   "id": "2968facf3ae0337d"
  },
  {
   "cell_type": "code",
   "execution_count": 40,
   "outputs": [
    {
     "data": {
      "text/plain": "   age     bmi  children      charges  sex_female  sex_male  smoker_no  \\\n0   19  27.900         0  16884.92400           1         0          0   \n1   18  33.770         1   1725.55230           0         1          1   \n2   28  33.000         3   4449.46200           0         1          1   \n3   33  22.705         0  21984.47061           0         1          1   \n4   32  28.880         0   3866.85520           0         1          1   \n\n   smoker_yes  region_northeast  region_northwest  region_southeast  \\\n0           1                 0                 0                 0   \n1           0                 0                 0                 1   \n2           0                 0                 0                 1   \n3           0                 0                 1                 0   \n4           0                 0                 1                 0   \n\n   region_southwest  \n0                 1  \n1                 0  \n2                 0  \n3                 0  \n4                 0  ",
      "text/html": "<div>\n<style scoped>\n    .dataframe tbody tr th:only-of-type {\n        vertical-align: middle;\n    }\n\n    .dataframe tbody tr th {\n        vertical-align: top;\n    }\n\n    .dataframe thead th {\n        text-align: right;\n    }\n</style>\n<table border=\"1\" class=\"dataframe\">\n  <thead>\n    <tr style=\"text-align: right;\">\n      <th></th>\n      <th>age</th>\n      <th>bmi</th>\n      <th>children</th>\n      <th>charges</th>\n      <th>sex_female</th>\n      <th>sex_male</th>\n      <th>smoker_no</th>\n      <th>smoker_yes</th>\n      <th>region_northeast</th>\n      <th>region_northwest</th>\n      <th>region_southeast</th>\n      <th>region_southwest</th>\n    </tr>\n  </thead>\n  <tbody>\n    <tr>\n      <th>0</th>\n      <td>19</td>\n      <td>27.900</td>\n      <td>0</td>\n      <td>16884.92400</td>\n      <td>1</td>\n      <td>0</td>\n      <td>0</td>\n      <td>1</td>\n      <td>0</td>\n      <td>0</td>\n      <td>0</td>\n      <td>1</td>\n    </tr>\n    <tr>\n      <th>1</th>\n      <td>18</td>\n      <td>33.770</td>\n      <td>1</td>\n      <td>1725.55230</td>\n      <td>0</td>\n      <td>1</td>\n      <td>1</td>\n      <td>0</td>\n      <td>0</td>\n      <td>0</td>\n      <td>1</td>\n      <td>0</td>\n    </tr>\n    <tr>\n      <th>2</th>\n      <td>28</td>\n      <td>33.000</td>\n      <td>3</td>\n      <td>4449.46200</td>\n      <td>0</td>\n      <td>1</td>\n      <td>1</td>\n      <td>0</td>\n      <td>0</td>\n      <td>0</td>\n      <td>1</td>\n      <td>0</td>\n    </tr>\n    <tr>\n      <th>3</th>\n      <td>33</td>\n      <td>22.705</td>\n      <td>0</td>\n      <td>21984.47061</td>\n      <td>0</td>\n      <td>1</td>\n      <td>1</td>\n      <td>0</td>\n      <td>0</td>\n      <td>1</td>\n      <td>0</td>\n      <td>0</td>\n    </tr>\n    <tr>\n      <th>4</th>\n      <td>32</td>\n      <td>28.880</td>\n      <td>0</td>\n      <td>3866.85520</td>\n      <td>0</td>\n      <td>1</td>\n      <td>1</td>\n      <td>0</td>\n      <td>0</td>\n      <td>1</td>\n      <td>0</td>\n      <td>0</td>\n    </tr>\n  </tbody>\n</table>\n</div>"
     },
     "execution_count": 40,
     "metadata": {},
     "output_type": "execute_result"
    }
   ],
   "source": [
    "# Let's try one-hot encode our DataFrame so it's all numbers\n",
    "insurance_one_hot = pd.get_dummies(insurance, dtype=int)\n",
    "insurance_one_hot.head()"
   ],
   "metadata": {
    "collapsed": false,
    "ExecuteTime": {
     "end_time": "2024-01-01T07:30:04.414227670Z",
     "start_time": "2024-01-01T07:30:04.303492770Z"
    }
   },
   "id": "1cd3a133a4b6f4e1"
  },
  {
   "cell_type": "code",
   "execution_count": 41,
   "outputs": [],
   "source": [
    "# Create X & y values (features and labels)\n",
    "X = insurance_one_hot.drop(\"charges\", axis=1)\n",
    "y = insurance_one_hot[\"charges\"]"
   ],
   "metadata": {
    "collapsed": false,
    "ExecuteTime": {
     "end_time": "2024-01-01T07:30:05.431500419Z",
     "start_time": "2024-01-01T07:30:05.331075429Z"
    }
   },
   "id": "ec14db08cf1f038e"
  },
  {
   "cell_type": "code",
   "outputs": [
    {
     "data": {
      "text/plain": "   age     bmi  children  sex_female  sex_male  smoker_no  smoker_yes  \\\n0   19  27.900         0           1         0          0           1   \n1   18  33.770         1           0         1          1           0   \n2   28  33.000         3           0         1          1           0   \n3   33  22.705         0           0         1          1           0   \n4   32  28.880         0           0         1          1           0   \n\n   region_northeast  region_northwest  region_southeast  region_southwest  \n0                 0                 0                 0                 1  \n1                 0                 0                 1                 0  \n2                 0                 0                 1                 0  \n3                 0                 1                 0                 0  \n4                 0                 1                 0                 0  ",
      "text/html": "<div>\n<style scoped>\n    .dataframe tbody tr th:only-of-type {\n        vertical-align: middle;\n    }\n\n    .dataframe tbody tr th {\n        vertical-align: top;\n    }\n\n    .dataframe thead th {\n        text-align: right;\n    }\n</style>\n<table border=\"1\" class=\"dataframe\">\n  <thead>\n    <tr style=\"text-align: right;\">\n      <th></th>\n      <th>age</th>\n      <th>bmi</th>\n      <th>children</th>\n      <th>sex_female</th>\n      <th>sex_male</th>\n      <th>smoker_no</th>\n      <th>smoker_yes</th>\n      <th>region_northeast</th>\n      <th>region_northwest</th>\n      <th>region_southeast</th>\n      <th>region_southwest</th>\n    </tr>\n  </thead>\n  <tbody>\n    <tr>\n      <th>0</th>\n      <td>19</td>\n      <td>27.900</td>\n      <td>0</td>\n      <td>1</td>\n      <td>0</td>\n      <td>0</td>\n      <td>1</td>\n      <td>0</td>\n      <td>0</td>\n      <td>0</td>\n      <td>1</td>\n    </tr>\n    <tr>\n      <th>1</th>\n      <td>18</td>\n      <td>33.770</td>\n      <td>1</td>\n      <td>0</td>\n      <td>1</td>\n      <td>1</td>\n      <td>0</td>\n      <td>0</td>\n      <td>0</td>\n      <td>1</td>\n      <td>0</td>\n    </tr>\n    <tr>\n      <th>2</th>\n      <td>28</td>\n      <td>33.000</td>\n      <td>3</td>\n      <td>0</td>\n      <td>1</td>\n      <td>1</td>\n      <td>0</td>\n      <td>0</td>\n      <td>0</td>\n      <td>1</td>\n      <td>0</td>\n    </tr>\n    <tr>\n      <th>3</th>\n      <td>33</td>\n      <td>22.705</td>\n      <td>0</td>\n      <td>0</td>\n      <td>1</td>\n      <td>1</td>\n      <td>0</td>\n      <td>0</td>\n      <td>1</td>\n      <td>0</td>\n      <td>0</td>\n    </tr>\n    <tr>\n      <th>4</th>\n      <td>32</td>\n      <td>28.880</td>\n      <td>0</td>\n      <td>0</td>\n      <td>1</td>\n      <td>1</td>\n      <td>0</td>\n      <td>0</td>\n      <td>1</td>\n      <td>0</td>\n      <td>0</td>\n    </tr>\n  </tbody>\n</table>\n</div>"
     },
     "execution_count": 42,
     "metadata": {},
     "output_type": "execute_result"
    }
   ],
   "source": [
    "# View X\n",
    "X.head()"
   ],
   "metadata": {
    "collapsed": false,
    "ExecuteTime": {
     "end_time": "2024-01-01T07:30:06.479977094Z",
     "start_time": "2024-01-01T07:30:06.350284185Z"
    }
   },
   "id": "fbb06cf5039450f0",
   "execution_count": 42
  },
  {
   "cell_type": "code",
   "outputs": [
    {
     "data": {
      "text/plain": "0    16884.92400\n1     1725.55230\n2     4449.46200\n3    21984.47061\n4     3866.85520\nName: charges, dtype: float64"
     },
     "execution_count": 43,
     "metadata": {},
     "output_type": "execute_result"
    }
   ],
   "source": [
    "# View y\n",
    "y.head()"
   ],
   "metadata": {
    "collapsed": false,
    "ExecuteTime": {
     "end_time": "2024-01-01T07:30:07.448246637Z",
     "start_time": "2024-01-01T07:30:07.377630347Z"
    }
   },
   "id": "b131199c8b14bedc",
   "execution_count": 43
  },
  {
   "cell_type": "code",
   "outputs": [
    {
     "data": {
      "text/plain": "(1338, 1070, 268)"
     },
     "execution_count": 44,
     "metadata": {},
     "output_type": "execute_result"
    }
   ],
   "source": [
    "# Create training and test sets\n",
    "from sklearn.model_selection import train_test_split\n",
    "X_train, X_test, y_train, y_test = train_test_split(X, y, test_size=0.2, random_state=42)\n",
    "len(X), len(X_train), len(X_test)"
   ],
   "metadata": {
    "collapsed": false,
    "ExecuteTime": {
     "end_time": "2024-01-01T07:30:08.493595990Z",
     "start_time": "2024-01-01T07:30:08.430393350Z"
    }
   },
   "id": "b4b33cdd264babda",
   "execution_count": 44
  },
  {
   "cell_type": "code",
   "outputs": [
    {
     "name": "stdout",
     "output_type": "stream",
     "text": [
      "Epoch 1/100\n",
      "34/34 [==============================] - 0s 2ms/step - loss: 8725.5654 - mae: 8725.5654\n",
      "Epoch 2/100\n",
      "34/34 [==============================] - 0s 3ms/step - loss: 7887.3252 - mae: 7887.3252\n",
      "Epoch 3/100\n",
      "34/34 [==============================] - 0s 3ms/step - loss: 7582.1670 - mae: 7582.1670\n",
      "Epoch 4/100\n",
      "34/34 [==============================] - 0s 3ms/step - loss: 7851.5054 - mae: 7851.5054\n",
      "Epoch 5/100\n",
      "34/34 [==============================] - 0s 3ms/step - loss: 7715.9868 - mae: 7715.9868\n",
      "Epoch 6/100\n",
      "34/34 [==============================] - 0s 3ms/step - loss: 7655.9131 - mae: 7655.9131\n",
      "Epoch 7/100\n",
      "34/34 [==============================] - 0s 3ms/step - loss: 7651.3926 - mae: 7651.3926\n",
      "Epoch 8/100\n",
      "34/34 [==============================] - 0s 4ms/step - loss: 7752.4619 - mae: 7752.4619\n",
      "Epoch 9/100\n",
      "34/34 [==============================] - 0s 3ms/step - loss: 7444.0400 - mae: 7444.0400\n",
      "Epoch 10/100\n",
      "34/34 [==============================] - 0s 3ms/step - loss: 7747.4390 - mae: 7747.4390\n",
      "Epoch 11/100\n",
      "34/34 [==============================] - 0s 2ms/step - loss: 7452.3457 - mae: 7452.3457\n",
      "Epoch 12/100\n",
      "34/34 [==============================] - 0s 3ms/step - loss: 7713.8291 - mae: 7713.8291\n",
      "Epoch 13/100\n",
      "34/34 [==============================] - 0s 3ms/step - loss: 7645.1890 - mae: 7645.1890\n",
      "Epoch 14/100\n",
      "34/34 [==============================] - 0s 2ms/step - loss: 7606.0742 - mae: 7606.0742\n",
      "Epoch 15/100\n",
      "34/34 [==============================] - 0s 2ms/step - loss: 7333.9995 - mae: 7333.9995\n",
      "Epoch 16/100\n",
      "34/34 [==============================] - 0s 2ms/step - loss: 7772.3022 - mae: 7772.3022\n",
      "Epoch 17/100\n",
      "34/34 [==============================] - 0s 2ms/step - loss: 7573.0215 - mae: 7573.0215\n",
      "Epoch 18/100\n",
      "34/34 [==============================] - 0s 2ms/step - loss: 7788.9097 - mae: 7788.9097\n",
      "Epoch 19/100\n",
      "34/34 [==============================] - 0s 2ms/step - loss: 7741.0273 - mae: 7741.0273\n",
      "Epoch 20/100\n",
      "34/34 [==============================] - 0s 2ms/step - loss: 7861.0615 - mae: 7861.0615\n",
      "Epoch 21/100\n",
      "34/34 [==============================] - 0s 2ms/step - loss: 7460.0659 - mae: 7460.0659\n",
      "Epoch 22/100\n",
      "34/34 [==============================] - 0s 2ms/step - loss: 7850.2075 - mae: 7850.2075\n",
      "Epoch 23/100\n",
      "34/34 [==============================] - 0s 2ms/step - loss: 7629.6240 - mae: 7629.6240\n",
      "Epoch 24/100\n",
      "34/34 [==============================] - 0s 3ms/step - loss: 7588.3838 - mae: 7588.3838\n",
      "Epoch 25/100\n",
      "34/34 [==============================] - 0s 2ms/step - loss: 7654.1938 - mae: 7654.1938\n",
      "Epoch 26/100\n",
      "34/34 [==============================] - 0s 2ms/step - loss: 7592.0703 - mae: 7592.0703\n",
      "Epoch 27/100\n",
      "34/34 [==============================] - 0s 2ms/step - loss: 7293.7695 - mae: 7293.7695\n",
      "Epoch 28/100\n",
      "34/34 [==============================] - 0s 2ms/step - loss: 7579.6772 - mae: 7579.6772\n",
      "Epoch 29/100\n",
      "34/34 [==============================] - 0s 2ms/step - loss: 7665.1348 - mae: 7665.1348\n",
      "Epoch 30/100\n",
      "34/34 [==============================] - 0s 2ms/step - loss: 7624.6631 - mae: 7624.6631\n",
      "Epoch 31/100\n",
      "34/34 [==============================] - 0s 2ms/step - loss: 7721.9297 - mae: 7721.9297\n",
      "Epoch 32/100\n",
      "34/34 [==============================] - 0s 3ms/step - loss: 7574.2568 - mae: 7574.2568\n",
      "Epoch 33/100\n",
      "34/34 [==============================] - 0s 3ms/step - loss: 7444.4307 - mae: 7444.4307\n",
      "Epoch 34/100\n",
      "34/34 [==============================] - 0s 3ms/step - loss: 7336.2095 - mae: 7336.2095\n",
      "Epoch 35/100\n",
      "34/34 [==============================] - 0s 3ms/step - loss: 7414.1650 - mae: 7414.1650\n",
      "Epoch 36/100\n",
      "34/34 [==============================] - 0s 3ms/step - loss: 7564.6240 - mae: 7564.6240\n",
      "Epoch 37/100\n",
      "34/34 [==============================] - 0s 2ms/step - loss: 7632.4722 - mae: 7632.4722\n",
      "Epoch 38/100\n",
      "34/34 [==============================] - 0s 2ms/step - loss: 7355.2559 - mae: 7355.2559\n",
      "Epoch 39/100\n",
      "34/34 [==============================] - 0s 2ms/step - loss: 7507.2603 - mae: 7507.2603\n",
      "Epoch 40/100\n",
      "34/34 [==============================] - 0s 2ms/step - loss: 7223.7388 - mae: 7223.7388\n",
      "Epoch 41/100\n",
      "34/34 [==============================] - 0s 2ms/step - loss: 7679.5576 - mae: 7679.5576\n",
      "Epoch 42/100\n",
      "34/34 [==============================] - 0s 2ms/step - loss: 7513.0234 - mae: 7513.0234\n",
      "Epoch 43/100\n",
      "34/34 [==============================] - 0s 3ms/step - loss: 7777.8145 - mae: 7777.8145\n",
      "Epoch 44/100\n",
      "34/34 [==============================] - 0s 3ms/step - loss: 7509.8398 - mae: 7509.8398\n",
      "Epoch 45/100\n",
      "34/34 [==============================] - 0s 3ms/step - loss: 7434.9619 - mae: 7434.9619\n",
      "Epoch 46/100\n",
      "34/34 [==============================] - 0s 3ms/step - loss: 7399.3765 - mae: 7399.3765\n",
      "Epoch 47/100\n",
      "34/34 [==============================] - 0s 3ms/step - loss: 7318.8926 - mae: 7318.8926\n",
      "Epoch 48/100\n",
      "34/34 [==============================] - 0s 3ms/step - loss: 7620.8916 - mae: 7620.8916\n",
      "Epoch 49/100\n",
      "34/34 [==============================] - 0s 3ms/step - loss: 7538.4624 - mae: 7538.4624\n",
      "Epoch 50/100\n",
      "34/34 [==============================] - 0s 3ms/step - loss: 7505.0737 - mae: 7505.0737\n",
      "Epoch 51/100\n",
      "34/34 [==============================] - 0s 3ms/step - loss: 7290.8193 - mae: 7290.8193\n",
      "Epoch 52/100\n",
      "34/34 [==============================] - 0s 3ms/step - loss: 7537.3926 - mae: 7537.3926\n",
      "Epoch 53/100\n",
      "34/34 [==============================] - 0s 2ms/step - loss: 7552.3525 - mae: 7552.3525\n",
      "Epoch 54/100\n",
      "34/34 [==============================] - 0s 2ms/step - loss: 7198.6948 - mae: 7198.6948\n",
      "Epoch 55/100\n",
      "34/34 [==============================] - 0s 2ms/step - loss: 7143.8384 - mae: 7143.8384\n",
      "Epoch 56/100\n",
      "34/34 [==============================] - 0s 2ms/step - loss: 7437.0347 - mae: 7437.0347\n",
      "Epoch 57/100\n",
      "34/34 [==============================] - 0s 2ms/step - loss: 7576.2134 - mae: 7576.2134\n",
      "Epoch 58/100\n",
      "34/34 [==============================] - 0s 2ms/step - loss: 7481.5146 - mae: 7481.5146\n",
      "Epoch 59/100\n",
      "34/34 [==============================] - 0s 2ms/step - loss: 7665.7607 - mae: 7665.7607\n",
      "Epoch 60/100\n",
      "34/34 [==============================] - 0s 2ms/step - loss: 7441.6543 - mae: 7441.6543\n",
      "Epoch 61/100\n",
      "34/34 [==============================] - 0s 2ms/step - loss: 7483.9883 - mae: 7483.9883\n",
      "Epoch 62/100\n",
      "34/34 [==============================] - 0s 2ms/step - loss: 7410.3149 - mae: 7410.3149\n",
      "Epoch 63/100\n",
      "34/34 [==============================] - 0s 2ms/step - loss: 7445.7388 - mae: 7445.7388\n",
      "Epoch 64/100\n",
      "34/34 [==============================] - 0s 2ms/step - loss: 7400.8281 - mae: 7400.8281\n",
      "Epoch 65/100\n",
      "34/34 [==============================] - 0s 2ms/step - loss: 7582.0054 - mae: 7582.0054\n",
      "Epoch 66/100\n",
      "34/34 [==============================] - 0s 3ms/step - loss: 7459.6567 - mae: 7459.6567\n",
      "Epoch 67/100\n",
      "34/34 [==============================] - 0s 3ms/step - loss: 7256.4185 - mae: 7256.4185\n",
      "Epoch 68/100\n",
      "34/34 [==============================] - 0s 3ms/step - loss: 7515.2480 - mae: 7515.2480\n",
      "Epoch 69/100\n",
      "34/34 [==============================] - 0s 3ms/step - loss: 7542.1240 - mae: 7542.1240\n",
      "Epoch 70/100\n",
      "34/34 [==============================] - 0s 4ms/step - loss: 7586.9365 - mae: 7586.9365\n",
      "Epoch 71/100\n",
      "34/34 [==============================] - 0s 3ms/step - loss: 7253.9707 - mae: 7253.9707\n",
      "Epoch 72/100\n",
      "34/34 [==============================] - 0s 3ms/step - loss: 7271.5083 - mae: 7271.5083\n",
      "Epoch 73/100\n",
      "34/34 [==============================] - 0s 3ms/step - loss: 7298.5884 - mae: 7298.5884\n",
      "Epoch 74/100\n",
      "34/34 [==============================] - 0s 2ms/step - loss: 7464.6455 - mae: 7464.6455\n",
      "Epoch 75/100\n",
      "34/34 [==============================] - 0s 2ms/step - loss: 7156.5054 - mae: 7156.5054\n",
      "Epoch 76/100\n",
      "34/34 [==============================] - 0s 3ms/step - loss: 7074.7412 - mae: 7074.7412\n",
      "Epoch 77/100\n",
      "34/34 [==============================] - 0s 3ms/step - loss: 7363.9849 - mae: 7363.9849\n",
      "Epoch 78/100\n",
      "34/34 [==============================] - 0s 2ms/step - loss: 7361.3276 - mae: 7361.3276\n",
      "Epoch 79/100\n",
      "34/34 [==============================] - 0s 2ms/step - loss: 7420.6904 - mae: 7420.6904\n",
      "Epoch 80/100\n",
      "34/34 [==============================] - 0s 2ms/step - loss: 7454.2656 - mae: 7454.2656\n",
      "Epoch 81/100\n",
      "34/34 [==============================] - 0s 2ms/step - loss: 7207.6885 - mae: 7207.6885\n",
      "Epoch 82/100\n",
      "34/34 [==============================] - 0s 3ms/step - loss: 7193.9565 - mae: 7193.9565\n",
      "Epoch 83/100\n",
      "34/34 [==============================] - 0s 4ms/step - loss: 7498.4683 - mae: 7498.4683\n",
      "Epoch 84/100\n",
      "34/34 [==============================] - 0s 3ms/step - loss: 7217.7461 - mae: 7217.7461\n",
      "Epoch 85/100\n",
      "34/34 [==============================] - 0s 3ms/step - loss: 7257.6206 - mae: 7257.6206\n",
      "Epoch 86/100\n",
      "34/34 [==============================] - 0s 3ms/step - loss: 7498.6528 - mae: 7498.6528\n",
      "Epoch 87/100\n",
      "34/34 [==============================] - 0s 3ms/step - loss: 7211.5679 - mae: 7211.5679\n",
      "Epoch 88/100\n",
      "34/34 [==============================] - 0s 3ms/step - loss: 7232.1011 - mae: 7232.1011\n",
      "Epoch 89/100\n",
      "34/34 [==============================] - 0s 2ms/step - loss: 7522.0645 - mae: 7522.0645\n",
      "Epoch 90/100\n",
      "34/34 [==============================] - 0s 2ms/step - loss: 7170.7046 - mae: 7170.7046\n",
      "Epoch 91/100\n",
      "34/34 [==============================] - 0s 2ms/step - loss: 7055.2524 - mae: 7055.2524\n",
      "Epoch 92/100\n",
      "34/34 [==============================] - 0s 2ms/step - loss: 7258.5840 - mae: 7258.5840\n",
      "Epoch 93/100\n",
      "34/34 [==============================] - 0s 4ms/step - loss: 7461.7520 - mae: 7461.7520\n",
      "Epoch 94/100\n",
      "34/34 [==============================] - 0s 3ms/step - loss: 7277.6318 - mae: 7277.6318\n",
      "Epoch 95/100\n",
      "34/34 [==============================] - 0s 3ms/step - loss: 7271.8506 - mae: 7271.8506\n",
      "Epoch 96/100\n",
      "34/34 [==============================] - 0s 2ms/step - loss: 7209.2368 - mae: 7209.2368\n",
      "Epoch 97/100\n",
      "34/34 [==============================] - 0s 2ms/step - loss: 7161.6367 - mae: 7161.6367\n",
      "Epoch 98/100\n",
      "34/34 [==============================] - 0s 2ms/step - loss: 7450.1357 - mae: 7450.1357\n",
      "Epoch 99/100\n",
      "34/34 [==============================] - 0s 2ms/step - loss: 7394.5737 - mae: 7394.5737\n",
      "Epoch 100/100\n",
      "34/34 [==============================] - 0s 3ms/step - loss: 7257.0283 - mae: 7257.0283\n"
     ]
    },
    {
     "data": {
      "text/plain": "<keras.callbacks.History at 0x7fcc3e378d50>"
     },
     "execution_count": 45,
     "metadata": {},
     "output_type": "execute_result"
    }
   ],
   "source": [
    "# Build a neural network (sort of like model_2 above)\n",
    "tf.random.set_seed(42)\n",
    "\n",
    "# 1. Create a model\n",
    "insurance_model = tf.keras.Sequential([\n",
    "    tf.keras.layers.Dense(10),\n",
    "    tf.keras.layers.Dense(1)\n",
    "])\n",
    "\n",
    "# 2. Compile the model\n",
    "insurance_model.compile(loss=tf.keras.losses.mae,\n",
    "                        optimizer=tf.keras.optimizers.SGD(),\n",
    "                        metrics=['mae'])\n",
    "\n",
    "# 3. Fit the model\n",
    "insurance_model.fit(X_train, y_train, epochs=100)"
   ],
   "metadata": {
    "collapsed": false,
    "ExecuteTime": {
     "end_time": "2024-01-01T07:30:19.470015129Z",
     "start_time": "2024-01-01T07:30:09.811202997Z"
    }
   },
   "id": "de634e0199d4a8ab",
   "execution_count": 45
  },
  {
   "cell_type": "code",
   "outputs": [
    {
     "name": "stdout",
     "output_type": "stream",
     "text": [
      "9/9 [==============================] - 0s 7ms/step - loss: 5899.0342 - mae: 5899.0342\n"
     ]
    },
    {
     "data": {
      "text/plain": "[5899.0341796875, 5899.0341796875]"
     },
     "execution_count": 46,
     "metadata": {},
     "output_type": "execute_result"
    }
   ],
   "source": [
    "# Check the results of the insurance model on the test data\n",
    "insurance_model.evaluate(X_test, y_test)"
   ],
   "metadata": {
    "collapsed": false,
    "ExecuteTime": {
     "end_time": "2024-01-01T07:30:21.730525444Z",
     "start_time": "2024-01-01T07:30:21.435852236Z"
    }
   },
   "id": "14b3a02e3c33e1c",
   "execution_count": 46
  },
  {
   "cell_type": "code",
   "outputs": [
    {
     "data": {
      "text/plain": "(9575.4421, 13346.089736364485)"
     },
     "execution_count": 47,
     "metadata": {},
     "output_type": "execute_result"
    }
   ],
   "source": [
    "y_train.median(), y_train.mean()"
   ],
   "metadata": {
    "collapsed": false,
    "ExecuteTime": {
     "end_time": "2024-01-01T07:30:23.013119912Z",
     "start_time": "2024-01-01T07:30:22.927877156Z"
    }
   },
   "id": "a60437ead8ed7d4b",
   "execution_count": 47
  },
  {
   "cell_type": "markdown",
   "source": [
    "Right now it looks like our model Isn't performing to well... let's try and improve it!\n",
    "\n",
    "To (try) improve our model, we'll run 2 experiments:\n",
    "1. Add an extra layer with more hidden units and use the Adam optimizer\n",
    "2. Same as above but train for longger (200 epochs)\n",
    "3. (insert our own experiment here)"
   ],
   "metadata": {
    "collapsed": false
   },
   "id": "a65b590d46ee1758"
  },
  {
   "cell_type": "code",
   "outputs": [
    {
     "data": {
      "text/plain": "(      age     bmi  children  sex_female  sex_male  smoker_no  smoker_yes  \\\n 560    46  19.950         2           1         0          1           0   \n 1285   47  24.320         0           1         0          1           0   \n 1142   52  24.860         0           1         0          1           0   \n 969    39  34.320         5           1         0          1           0   \n 486    54  21.470         3           1         0          1           0   \n ...   ...     ...       ...         ...       ...        ...         ...   \n 1095   18  31.350         4           1         0          1           0   \n 1130   39  23.870         5           1         0          1           0   \n 1294   58  25.175         0           0         1          1           0   \n 860    37  47.600         2           1         0          0           1   \n 1126   55  29.900         0           0         1          1           0   \n \n       region_northeast  region_northwest  region_southeast  region_southwest  \n 560                  0                 1                 0                 0  \n 1285                 1                 0                 0                 0  \n 1142                 0                 0                 1                 0  \n 969                  0                 0                 1                 0  \n 486                  0                 1                 0                 0  \n ...                ...               ...               ...               ...  \n 1095                 1                 0                 0                 0  \n 1130                 0                 0                 1                 0  \n 1294                 1                 0                 0                 0  \n 860                  0                 0                 0                 1  \n 1126                 0                 0                 0                 1  \n \n [1070 rows x 11 columns],\n 560      9193.83850\n 1285     8534.67180\n 1142    27117.99378\n 969      8596.82780\n 486     12475.35130\n            ...     \n 1095     4561.18850\n 1130     8582.30230\n 1294    11931.12525\n 860     46113.51100\n 1126    10214.63600\n Name: charges, Length: 1070, dtype: float64)"
     },
     "execution_count": 48,
     "metadata": {},
     "output_type": "execute_result"
    }
   ],
   "source": [
    "X_train, y_train"
   ],
   "metadata": {
    "collapsed": false,
    "ExecuteTime": {
     "end_time": "2024-01-01T07:30:24.893480482Z",
     "start_time": "2024-01-01T07:30:24.802324460Z"
    }
   },
   "id": "867239afb5cf971",
   "execution_count": 48
  },
  {
   "cell_type": "code",
   "outputs": [
    {
     "name": "stdout",
     "output_type": "stream",
     "text": [
      "Epoch 1/100\n",
      "34/34 [==============================] - 1s 7ms/step - loss: 13274.5605 - mae: 13274.5605\n",
      "Epoch 2/100\n",
      "34/34 [==============================] - 0s 6ms/step - loss: 13110.6543 - mae: 13110.6543\n",
      "Epoch 3/100\n",
      "34/34 [==============================] - 0s 4ms/step - loss: 12776.7354 - mae: 12776.7354\n",
      "Epoch 4/100\n",
      "34/34 [==============================] - 0s 4ms/step - loss: 12121.6836 - mae: 12121.6836\n",
      "Epoch 5/100\n",
      "34/34 [==============================] - 0s 4ms/step - loss: 11009.5225 - mae: 11009.5225\n",
      "Epoch 6/100\n",
      "34/34 [==============================] - 0s 4ms/step - loss: 9551.9980 - mae: 9551.9980\n",
      "Epoch 7/100\n",
      "34/34 [==============================] - 0s 3ms/step - loss: 8197.8584 - mae: 8197.8584\n",
      "Epoch 8/100\n",
      "34/34 [==============================] - 0s 4ms/step - loss: 7525.0439 - mae: 7525.0439\n",
      "Epoch 9/100\n",
      "34/34 [==============================] - 0s 4ms/step - loss: 7409.4658 - mae: 7409.4658\n",
      "Epoch 10/100\n",
      "34/34 [==============================] - 0s 3ms/step - loss: 7388.9312 - mae: 7388.9312\n",
      "Epoch 11/100\n",
      "34/34 [==============================] - 0s 3ms/step - loss: 7369.8706 - mae: 7369.8706\n",
      "Epoch 12/100\n",
      "34/34 [==============================] - 0s 4ms/step - loss: 7347.9136 - mae: 7347.9136\n",
      "Epoch 13/100\n",
      "34/34 [==============================] - 0s 4ms/step - loss: 7327.4609 - mae: 7327.4609\n",
      "Epoch 14/100\n",
      "34/34 [==============================] - 0s 4ms/step - loss: 7304.9878 - mae: 7304.9878\n",
      "Epoch 15/100\n",
      "34/34 [==============================] - 0s 4ms/step - loss: 7285.9917 - mae: 7285.9917\n",
      "Epoch 16/100\n",
      "34/34 [==============================] - 0s 5ms/step - loss: 7264.0762 - mae: 7264.0762\n",
      "Epoch 17/100\n",
      "34/34 [==============================] - 0s 3ms/step - loss: 7242.5435 - mae: 7242.5435\n",
      "Epoch 18/100\n",
      "34/34 [==============================] - 0s 2ms/step - loss: 7219.6470 - mae: 7219.6470\n",
      "Epoch 19/100\n",
      "34/34 [==============================] - 0s 2ms/step - loss: 7196.9478 - mae: 7196.9478\n",
      "Epoch 20/100\n",
      "34/34 [==============================] - 0s 3ms/step - loss: 7172.7969 - mae: 7172.7969\n",
      "Epoch 21/100\n",
      "34/34 [==============================] - 0s 3ms/step - loss: 7153.4028 - mae: 7153.4028\n",
      "Epoch 22/100\n",
      "34/34 [==============================] - 0s 2ms/step - loss: 7125.3325 - mae: 7125.3325\n",
      "Epoch 23/100\n",
      "34/34 [==============================] - 0s 3ms/step - loss: 7100.1182 - mae: 7100.1182\n",
      "Epoch 24/100\n",
      "34/34 [==============================] - 0s 2ms/step - loss: 7074.1357 - mae: 7074.1357\n",
      "Epoch 25/100\n",
      "34/34 [==============================] - 0s 3ms/step - loss: 7055.1143 - mae: 7055.1143\n",
      "Epoch 26/100\n",
      "34/34 [==============================] - 0s 2ms/step - loss: 7022.7534 - mae: 7022.7534\n",
      "Epoch 27/100\n",
      "34/34 [==============================] - 0s 3ms/step - loss: 6994.0435 - mae: 6994.0435\n",
      "Epoch 28/100\n",
      "34/34 [==============================] - 0s 3ms/step - loss: 6965.2563 - mae: 6965.2563\n",
      "Epoch 29/100\n",
      "34/34 [==============================] - 0s 3ms/step - loss: 6936.1440 - mae: 6936.1440\n",
      "Epoch 30/100\n",
      "34/34 [==============================] - 0s 3ms/step - loss: 6909.0303 - mae: 6909.0303\n",
      "Epoch 31/100\n",
      "34/34 [==============================] - 0s 3ms/step - loss: 6877.4648 - mae: 6877.4648\n",
      "Epoch 32/100\n",
      "34/34 [==============================] - 0s 2ms/step - loss: 6848.3062 - mae: 6848.3062\n",
      "Epoch 33/100\n",
      "34/34 [==============================] - 0s 3ms/step - loss: 6816.0884 - mae: 6816.0884\n",
      "Epoch 34/100\n",
      "34/34 [==============================] - 0s 2ms/step - loss: 6784.4741 - mae: 6784.4741\n",
      "Epoch 35/100\n",
      "34/34 [==============================] - 0s 3ms/step - loss: 6749.2837 - mae: 6749.2837\n",
      "Epoch 36/100\n",
      "34/34 [==============================] - 0s 2ms/step - loss: 6715.2944 - mae: 6715.2944\n",
      "Epoch 37/100\n",
      "34/34 [==============================] - 0s 2ms/step - loss: 6679.1621 - mae: 6679.1621\n",
      "Epoch 38/100\n",
      "34/34 [==============================] - 0s 3ms/step - loss: 6650.2227 - mae: 6650.2227\n",
      "Epoch 39/100\n",
      "34/34 [==============================] - 0s 2ms/step - loss: 6612.1904 - mae: 6612.1904\n",
      "Epoch 40/100\n",
      "34/34 [==============================] - 0s 3ms/step - loss: 6580.4409 - mae: 6580.4409\n",
      "Epoch 41/100\n",
      "34/34 [==============================] - 0s 2ms/step - loss: 6553.8442 - mae: 6553.8442\n",
      "Epoch 42/100\n",
      "34/34 [==============================] - 0s 2ms/step - loss: 6531.8716 - mae: 6531.8716\n",
      "Epoch 43/100\n",
      "34/34 [==============================] - 0s 3ms/step - loss: 6510.0767 - mae: 6510.0767\n",
      "Epoch 44/100\n",
      "34/34 [==============================] - 0s 3ms/step - loss: 6491.5366 - mae: 6491.5366\n",
      "Epoch 45/100\n",
      "34/34 [==============================] - 0s 3ms/step - loss: 6481.8589 - mae: 6481.8589\n",
      "Epoch 46/100\n",
      "34/34 [==============================] - 0s 3ms/step - loss: 6465.2266 - mae: 6465.2266\n",
      "Epoch 47/100\n",
      "34/34 [==============================] - 0s 3ms/step - loss: 6449.7881 - mae: 6449.7881\n",
      "Epoch 48/100\n",
      "34/34 [==============================] - 0s 3ms/step - loss: 6436.0356 - mae: 6436.0356\n",
      "Epoch 49/100\n",
      "34/34 [==============================] - 0s 2ms/step - loss: 6424.7168 - mae: 6424.7168\n",
      "Epoch 50/100\n",
      "34/34 [==============================] - 0s 3ms/step - loss: 6410.6880 - mae: 6410.6880\n",
      "Epoch 51/100\n",
      "34/34 [==============================] - 0s 3ms/step - loss: 6397.9849 - mae: 6397.9849\n",
      "Epoch 52/100\n",
      "34/34 [==============================] - 0s 3ms/step - loss: 6386.1279 - mae: 6386.1279\n",
      "Epoch 53/100\n",
      "34/34 [==============================] - 0s 2ms/step - loss: 6371.9004 - mae: 6371.9004\n",
      "Epoch 54/100\n",
      "34/34 [==============================] - 0s 3ms/step - loss: 6358.4722 - mae: 6358.4722\n",
      "Epoch 55/100\n",
      "34/34 [==============================] - 0s 2ms/step - loss: 6345.0522 - mae: 6345.0522\n",
      "Epoch 56/100\n",
      "34/34 [==============================] - 0s 3ms/step - loss: 6331.0576 - mae: 6331.0576\n",
      "Epoch 57/100\n",
      "34/34 [==============================] - 0s 3ms/step - loss: 6318.0942 - mae: 6318.0942\n",
      "Epoch 58/100\n",
      "34/34 [==============================] - 0s 3ms/step - loss: 6304.1558 - mae: 6304.1558\n",
      "Epoch 59/100\n",
      "34/34 [==============================] - 0s 2ms/step - loss: 6289.0229 - mae: 6289.0229\n",
      "Epoch 60/100\n",
      "34/34 [==============================] - 0s 3ms/step - loss: 6278.7637 - mae: 6278.7637\n",
      "Epoch 61/100\n",
      "34/34 [==============================] - 0s 3ms/step - loss: 6258.8691 - mae: 6258.8691\n",
      "Epoch 62/100\n",
      "34/34 [==============================] - 0s 3ms/step - loss: 6246.5776 - mae: 6246.5776\n",
      "Epoch 63/100\n",
      "34/34 [==============================] - 0s 3ms/step - loss: 6228.1992 - mae: 6228.1992\n",
      "Epoch 64/100\n",
      "34/34 [==============================] - 0s 3ms/step - loss: 6210.6577 - mae: 6210.6577\n",
      "Epoch 65/100\n",
      "34/34 [==============================] - 0s 2ms/step - loss: 6193.7666 - mae: 6193.7666\n",
      "Epoch 66/100\n",
      "34/34 [==============================] - 0s 3ms/step - loss: 6176.4961 - mae: 6176.4961\n",
      "Epoch 67/100\n",
      "34/34 [==============================] - 0s 3ms/step - loss: 6163.8062 - mae: 6163.8062\n",
      "Epoch 68/100\n",
      "34/34 [==============================] - 0s 2ms/step - loss: 6140.9229 - mae: 6140.9229\n",
      "Epoch 69/100\n",
      "34/34 [==============================] - 0s 3ms/step - loss: 6124.6426 - mae: 6124.6426\n",
      "Epoch 70/100\n",
      "34/34 [==============================] - 0s 3ms/step - loss: 6103.9678 - mae: 6103.9678\n",
      "Epoch 71/100\n",
      "34/34 [==============================] - 0s 3ms/step - loss: 6084.2300 - mae: 6084.2300\n",
      "Epoch 72/100\n",
      "34/34 [==============================] - 0s 3ms/step - loss: 6063.8677 - mae: 6063.8677\n",
      "Epoch 73/100\n",
      "34/34 [==============================] - 0s 3ms/step - loss: 6050.5801 - mae: 6050.5801\n",
      "Epoch 74/100\n",
      "34/34 [==============================] - 0s 3ms/step - loss: 6021.8267 - mae: 6021.8267\n",
      "Epoch 75/100\n",
      "34/34 [==============================] - 0s 3ms/step - loss: 5999.8555 - mae: 5999.8555\n",
      "Epoch 76/100\n",
      "34/34 [==============================] - 0s 3ms/step - loss: 5985.5210 - mae: 5985.5210\n",
      "Epoch 77/100\n",
      "34/34 [==============================] - 0s 2ms/step - loss: 5952.1865 - mae: 5952.1865\n",
      "Epoch 78/100\n",
      "34/34 [==============================] - 0s 2ms/step - loss: 5928.7437 - mae: 5928.7437\n",
      "Epoch 79/100\n",
      "34/34 [==============================] - 0s 3ms/step - loss: 5903.5728 - mae: 5903.5728\n",
      "Epoch 80/100\n",
      "34/34 [==============================] - 0s 4ms/step - loss: 5875.7124 - mae: 5875.7124\n",
      "Epoch 81/100\n",
      "34/34 [==============================] - 0s 3ms/step - loss: 5849.5435 - mae: 5849.5435\n",
      "Epoch 82/100\n",
      "34/34 [==============================] - 0s 3ms/step - loss: 5820.2891 - mae: 5820.2891\n",
      "Epoch 83/100\n",
      "34/34 [==============================] - 0s 3ms/step - loss: 5791.8081 - mae: 5791.8081\n",
      "Epoch 84/100\n",
      "34/34 [==============================] - 0s 2ms/step - loss: 5758.1523 - mae: 5758.1523\n",
      "Epoch 85/100\n",
      "34/34 [==============================] - 0s 2ms/step - loss: 5731.7778 - mae: 5731.7778\n",
      "Epoch 86/100\n",
      "34/34 [==============================] - 0s 2ms/step - loss: 5696.5576 - mae: 5696.5576\n",
      "Epoch 87/100\n",
      "34/34 [==============================] - 0s 2ms/step - loss: 5658.4863 - mae: 5658.4863\n",
      "Epoch 88/100\n",
      "34/34 [==============================] - 0s 2ms/step - loss: 5622.8809 - mae: 5622.8809\n",
      "Epoch 89/100\n",
      "34/34 [==============================] - 0s 3ms/step - loss: 5583.0488 - mae: 5583.0488\n",
      "Epoch 90/100\n",
      "34/34 [==============================] - 0s 4ms/step - loss: 5541.0420 - mae: 5541.0420\n",
      "Epoch 91/100\n",
      "34/34 [==============================] - 0s 2ms/step - loss: 5502.7632 - mae: 5502.7632\n",
      "Epoch 92/100\n",
      "34/34 [==============================] - 0s 2ms/step - loss: 5452.9512 - mae: 5452.9512\n",
      "Epoch 93/100\n",
      "34/34 [==============================] - 0s 3ms/step - loss: 5409.9521 - mae: 5409.9521\n",
      "Epoch 94/100\n",
      "34/34 [==============================] - 0s 2ms/step - loss: 5362.9863 - mae: 5362.9863\n",
      "Epoch 95/100\n",
      "34/34 [==============================] - 0s 3ms/step - loss: 5310.0327 - mae: 5310.0327\n",
      "Epoch 96/100\n",
      "34/34 [==============================] - 0s 2ms/step - loss: 5262.7339 - mae: 5262.7339\n",
      "Epoch 97/100\n",
      "34/34 [==============================] - 0s 2ms/step - loss: 5207.9644 - mae: 5207.9644\n",
      "Epoch 98/100\n",
      "34/34 [==============================] - 0s 2ms/step - loss: 5144.1821 - mae: 5144.1821\n",
      "Epoch 99/100\n",
      "34/34 [==============================] - 0s 3ms/step - loss: 5084.7695 - mae: 5084.7695\n",
      "Epoch 100/100\n",
      "34/34 [==============================] - 0s 2ms/step - loss: 5029.8589 - mae: 5029.8589\n"
     ]
    },
    {
     "data": {
      "text/plain": "<keras.callbacks.History at 0x7fcc3d822ed0>"
     },
     "execution_count": 49,
     "metadata": {},
     "output_type": "execute_result"
    }
   ],
   "source": [
    "# Set random seed\n",
    "tf.random.set_seed(42)\n",
    "\n",
    "# 1. Create the model\n",
    "insurance_model_2 = tf.keras.Sequential([\n",
    "    tf.keras.layers.Dense(100),\n",
    "    tf.keras.layers.Dense(10),\n",
    "    tf.keras.layers.Dense(1)\n",
    "])\n",
    "\n",
    "# 2. Compile the model\n",
    "insurance_model_2.compile(loss=tf.keras.losses.mae,\n",
    "                          optimizer=tf.keras.optimizers.Adam(),\n",
    "                          metrics=[\"mae\"])\n",
    "\n",
    "# 3 Fit the model\n",
    "insurance_model_2.fit(X_train, y_train, epochs=100, verbose=1)"
   ],
   "metadata": {
    "collapsed": false,
    "ExecuteTime": {
     "end_time": "2024-01-01T07:30:37.267708406Z",
     "start_time": "2024-01-01T07:30:25.481882972Z"
    }
   },
   "id": "669143dbe6b04600",
   "execution_count": 49
  },
  {
   "cell_type": "code",
   "outputs": [
    {
     "name": "stdout",
     "output_type": "stream",
     "text": [
      "9/9 [==============================] - 0s 8ms/step - loss: 4895.3872 - mae: 4895.3872\n"
     ]
    },
    {
     "data": {
      "text/plain": "[4895.38720703125, 4895.38720703125]"
     },
     "execution_count": 50,
     "metadata": {},
     "output_type": "execute_result"
    }
   ],
   "source": [
    "# Evaluate the larger model\n",
    "insurance_model_2.evaluate(X_test, y_test)"
   ],
   "metadata": {
    "collapsed": false,
    "ExecuteTime": {
     "end_time": "2024-01-01T07:30:40.153554293Z",
     "start_time": "2024-01-01T07:30:39.872169314Z"
    }
   },
   "id": "f464184418e3b1a1",
   "execution_count": 50
  },
  {
   "cell_type": "code",
   "outputs": [
    {
     "name": "stdout",
     "output_type": "stream",
     "text": [
      "9/9 [==============================] - 0s 4ms/step - loss: 5899.0342 - mae: 5899.0342\n"
     ]
    },
    {
     "data": {
      "text/plain": "[5899.0341796875, 5899.0341796875]"
     },
     "execution_count": 51,
     "metadata": {},
     "output_type": "execute_result"
    }
   ],
   "source": [
    "insurance_model.evaluate(X_test, y_test)"
   ],
   "metadata": {
    "collapsed": false,
    "ExecuteTime": {
     "end_time": "2024-01-01T07:31:13.009212546Z",
     "start_time": "2024-01-01T07:31:12.702547467Z"
    }
   },
   "id": "3f5ca9d38ec4c2fe",
   "execution_count": 51
  },
  {
   "cell_type": "code",
   "outputs": [
    {
     "name": "stdout",
     "output_type": "stream",
     "text": [
      "Epoch 1/200\n",
      "34/34 [==============================] - 1s 5ms/step - loss: 13287.6396 - mae: 13287.6396\n",
      "Epoch 2/200\n",
      "34/34 [==============================] - 0s 4ms/step - loss: 13118.4004 - mae: 13118.4004\n",
      "Epoch 3/200\n",
      "34/34 [==============================] - 0s 4ms/step - loss: 12784.0957 - mae: 12784.0957\n",
      "Epoch 4/200\n",
      "34/34 [==============================] - 0s 3ms/step - loss: 12143.4102 - mae: 12143.4102\n",
      "Epoch 5/200\n",
      "34/34 [==============================] - 0s 3ms/step - loss: 11059.9980 - mae: 11059.9980\n",
      "Epoch 6/200\n",
      "34/34 [==============================] - 0s 3ms/step - loss: 9625.7686 - mae: 9625.7686\n",
      "Epoch 7/200\n",
      "34/34 [==============================] - 0s 3ms/step - loss: 8257.4736 - mae: 8257.4736\n",
      "Epoch 8/200\n",
      "34/34 [==============================] - 0s 3ms/step - loss: 7543.2109 - mae: 7543.2109\n",
      "Epoch 9/200\n",
      "34/34 [==============================] - 0s 3ms/step - loss: 7412.4473 - mae: 7412.4473\n",
      "Epoch 10/200\n",
      "34/34 [==============================] - 0s 3ms/step - loss: 7391.4429 - mae: 7391.4429\n",
      "Epoch 11/200\n",
      "34/34 [==============================] - 0s 3ms/step - loss: 7372.7788 - mae: 7372.7788\n",
      "Epoch 12/200\n",
      "34/34 [==============================] - 0s 3ms/step - loss: 7351.6470 - mae: 7351.6470\n",
      "Epoch 13/200\n",
      "34/34 [==============================] - 0s 5ms/step - loss: 7331.6816 - mae: 7331.6816\n",
      "Epoch 14/200\n",
      "34/34 [==============================] - 0s 4ms/step - loss: 7309.7231 - mae: 7309.7231\n",
      "Epoch 15/200\n",
      "34/34 [==============================] - 0s 5ms/step - loss: 7291.4580 - mae: 7291.4580\n",
      "Epoch 16/200\n",
      "34/34 [==============================] - 0s 4ms/step - loss: 7269.7271 - mae: 7269.7271\n",
      "Epoch 17/200\n",
      "34/34 [==============================] - 0s 3ms/step - loss: 7249.4927 - mae: 7249.4927\n",
      "Epoch 18/200\n",
      "34/34 [==============================] - 0s 4ms/step - loss: 7226.7354 - mae: 7226.7354\n",
      "Epoch 19/200\n",
      "34/34 [==============================] - 0s 3ms/step - loss: 7204.6880 - mae: 7204.6880\n",
      "Epoch 20/200\n",
      "34/34 [==============================] - 0s 4ms/step - loss: 7181.3315 - mae: 7181.3315\n",
      "Epoch 21/200\n",
      "34/34 [==============================] - 0s 3ms/step - loss: 7162.6792 - mae: 7162.6792\n",
      "Epoch 22/200\n",
      "34/34 [==============================] - 0s 3ms/step - loss: 7135.1846 - mae: 7135.1846\n",
      "Epoch 23/200\n",
      "34/34 [==============================] - 0s 4ms/step - loss: 7110.3188 - mae: 7110.3188\n",
      "Epoch 24/200\n",
      "34/34 [==============================] - 0s 3ms/step - loss: 7085.1162 - mae: 7085.1162\n",
      "Epoch 25/200\n",
      "34/34 [==============================] - 0s 3ms/step - loss: 7065.7769 - mae: 7065.7769\n",
      "Epoch 26/200\n",
      "34/34 [==============================] - 0s 4ms/step - loss: 7034.9268 - mae: 7034.9268\n",
      "Epoch 27/200\n",
      "34/34 [==============================] - 0s 4ms/step - loss: 7006.4233 - mae: 7006.4233\n",
      "Epoch 28/200\n",
      "34/34 [==============================] - 0s 5ms/step - loss: 6977.8774 - mae: 6977.8774\n",
      "Epoch 29/200\n",
      "34/34 [==============================] - 0s 5ms/step - loss: 6949.0288 - mae: 6949.0288\n",
      "Epoch 30/200\n",
      "34/34 [==============================] - 0s 4ms/step - loss: 6921.1860 - mae: 6921.1860\n",
      "Epoch 31/200\n",
      "34/34 [==============================] - 0s 4ms/step - loss: 6889.8745 - mae: 6889.8745\n",
      "Epoch 32/200\n",
      "34/34 [==============================] - 0s 5ms/step - loss: 6861.0137 - mae: 6861.0137\n",
      "Epoch 33/200\n",
      "34/34 [==============================] - 0s 5ms/step - loss: 6828.7607 - mae: 6828.7607\n",
      "Epoch 34/200\n",
      "34/34 [==============================] - 0s 4ms/step - loss: 6796.6108 - mae: 6796.6108\n",
      "Epoch 35/200\n",
      "34/34 [==============================] - 0s 5ms/step - loss: 6761.4087 - mae: 6761.4087\n",
      "Epoch 36/200\n",
      "34/34 [==============================] - 0s 5ms/step - loss: 6726.7446 - mae: 6726.7446\n",
      "Epoch 37/200\n",
      "34/34 [==============================] - 0s 4ms/step - loss: 6689.2124 - mae: 6689.2124\n",
      "Epoch 38/200\n",
      "34/34 [==============================] - 0s 3ms/step - loss: 6659.3599 - mae: 6659.3599\n",
      "Epoch 39/200\n",
      "34/34 [==============================] - 0s 3ms/step - loss: 6619.6167 - mae: 6619.6167\n",
      "Epoch 40/200\n",
      "34/34 [==============================] - 0s 3ms/step - loss: 6585.0508 - mae: 6585.0508\n",
      "Epoch 41/200\n",
      "34/34 [==============================] - 0s 4ms/step - loss: 6555.4717 - mae: 6555.4717\n",
      "Epoch 42/200\n",
      "34/34 [==============================] - 0s 4ms/step - loss: 6531.3682 - mae: 6531.3682\n",
      "Epoch 43/200\n",
      "34/34 [==============================] - 0s 3ms/step - loss: 6506.1250 - mae: 6506.1250\n",
      "Epoch 44/200\n",
      "34/34 [==============================] - 0s 4ms/step - loss: 6485.6987 - mae: 6485.6987\n",
      "Epoch 45/200\n",
      "34/34 [==============================] - 0s 3ms/step - loss: 6477.2661 - mae: 6477.2661\n",
      "Epoch 46/200\n",
      "34/34 [==============================] - 0s 2ms/step - loss: 6457.4775 - mae: 6457.4775\n",
      "Epoch 47/200\n",
      "34/34 [==============================] - 0s 3ms/step - loss: 6442.0942 - mae: 6442.0942\n",
      "Epoch 48/200\n",
      "34/34 [==============================] - 0s 3ms/step - loss: 6428.2646 - mae: 6428.2646\n",
      "Epoch 49/200\n",
      "34/34 [==============================] - 0s 4ms/step - loss: 6416.8857 - mae: 6416.8857\n",
      "Epoch 50/200\n",
      "34/34 [==============================] - 0s 3ms/step - loss: 6402.5151 - mae: 6402.5151\n",
      "Epoch 51/200\n",
      "34/34 [==============================] - 0s 3ms/step - loss: 6389.6426 - mae: 6389.6426\n",
      "Epoch 52/200\n",
      "34/34 [==============================] - 0s 3ms/step - loss: 6377.2173 - mae: 6377.2173\n",
      "Epoch 53/200\n",
      "34/34 [==============================] - 0s 3ms/step - loss: 6362.8857 - mae: 6362.8857\n",
      "Epoch 54/200\n",
      "34/34 [==============================] - 0s 3ms/step - loss: 6348.8916 - mae: 6348.8916\n",
      "Epoch 55/200\n",
      "34/34 [==============================] - 0s 3ms/step - loss: 6335.1572 - mae: 6335.1572\n",
      "Epoch 56/200\n",
      "34/34 [==============================] - 0s 3ms/step - loss: 6321.4287 - mae: 6321.4287\n",
      "Epoch 57/200\n",
      "34/34 [==============================] - 0s 3ms/step - loss: 6307.7622 - mae: 6307.7622\n",
      "Epoch 58/200\n",
      "34/34 [==============================] - 0s 4ms/step - loss: 6294.0522 - mae: 6294.0522\n",
      "Epoch 59/200\n",
      "34/34 [==============================] - 0s 2ms/step - loss: 6278.4668 - mae: 6278.4668\n",
      "Epoch 60/200\n",
      "34/34 [==============================] - 0s 2ms/step - loss: 6267.8042 - mae: 6267.8042\n",
      "Epoch 61/200\n",
      "34/34 [==============================] - 0s 2ms/step - loss: 6247.6914 - mae: 6247.6914\n",
      "Epoch 62/200\n",
      "34/34 [==============================] - 0s 2ms/step - loss: 6235.8604 - mae: 6235.8604\n",
      "Epoch 63/200\n",
      "34/34 [==============================] - 0s 3ms/step - loss: 6217.2515 - mae: 6217.2515\n",
      "Epoch 64/200\n",
      "34/34 [==============================] - 0s 3ms/step - loss: 6199.3940 - mae: 6199.3940\n",
      "Epoch 65/200\n",
      "34/34 [==============================] - 0s 2ms/step - loss: 6182.0171 - mae: 6182.0171\n",
      "Epoch 66/200\n",
      "34/34 [==============================] - 0s 2ms/step - loss: 6164.6553 - mae: 6164.6553\n",
      "Epoch 67/200\n",
      "34/34 [==============================] - 0s 3ms/step - loss: 6151.3823 - mae: 6151.3823\n",
      "Epoch 68/200\n",
      "34/34 [==============================] - 0s 2ms/step - loss: 6129.1143 - mae: 6129.1143\n",
      "Epoch 69/200\n",
      "34/34 [==============================] - 0s 2ms/step - loss: 6111.9844 - mae: 6111.9844\n",
      "Epoch 70/200\n",
      "34/34 [==============================] - 0s 2ms/step - loss: 6091.2368 - mae: 6091.2368\n",
      "Epoch 71/200\n",
      "34/34 [==============================] - 0s 2ms/step - loss: 6071.5376 - mae: 6071.5376\n",
      "Epoch 72/200\n",
      "34/34 [==============================] - 0s 2ms/step - loss: 6050.8330 - mae: 6050.8330\n",
      "Epoch 73/200\n",
      "34/34 [==============================] - 0s 3ms/step - loss: 6037.7202 - mae: 6037.7202\n",
      "Epoch 74/200\n",
      "34/34 [==============================] - 0s 3ms/step - loss: 6007.8188 - mae: 6007.8188\n",
      "Epoch 75/200\n",
      "34/34 [==============================] - 0s 2ms/step - loss: 5985.8936 - mae: 5985.8936\n",
      "Epoch 76/200\n",
      "34/34 [==============================] - 0s 3ms/step - loss: 5970.6685 - mae: 5970.6685\n",
      "Epoch 77/200\n",
      "34/34 [==============================] - 0s 3ms/step - loss: 5938.5625 - mae: 5938.5625\n",
      "Epoch 78/200\n",
      "34/34 [==============================] - 0s 5ms/step - loss: 5914.5186 - mae: 5914.5186\n",
      "Epoch 79/200\n",
      "34/34 [==============================] - 0s 4ms/step - loss: 5889.6802 - mae: 5889.6802\n",
      "Epoch 80/200\n",
      "34/34 [==============================] - 0s 4ms/step - loss: 5860.8354 - mae: 5860.8354\n",
      "Epoch 81/200\n",
      "34/34 [==============================] - 0s 3ms/step - loss: 5834.5337 - mae: 5834.5337\n",
      "Epoch 82/200\n",
      "34/34 [==============================] - 0s 3ms/step - loss: 5805.5518 - mae: 5805.5518\n",
      "Epoch 83/200\n",
      "34/34 [==============================] - 0s 4ms/step - loss: 5776.2222 - mae: 5776.2222\n",
      "Epoch 84/200\n",
      "34/34 [==============================] - 0s 4ms/step - loss: 5742.5376 - mae: 5742.5376\n",
      "Epoch 85/200\n",
      "34/34 [==============================] - 0s 4ms/step - loss: 5713.6948 - mae: 5713.6948\n",
      "Epoch 86/200\n",
      "34/34 [==============================] - 0s 4ms/step - loss: 5679.9785 - mae: 5679.9785\n",
      "Epoch 87/200\n",
      "34/34 [==============================] - 0s 4ms/step - loss: 5644.1797 - mae: 5644.1797\n",
      "Epoch 88/200\n",
      "34/34 [==============================] - 0s 4ms/step - loss: 5607.4116 - mae: 5607.4116\n",
      "Epoch 89/200\n",
      "34/34 [==============================] - 0s 3ms/step - loss: 5567.3262 - mae: 5567.3262\n",
      "Epoch 90/200\n",
      "34/34 [==============================] - 0s 4ms/step - loss: 5524.8291 - mae: 5524.8291\n",
      "Epoch 91/200\n",
      "34/34 [==============================] - 0s 4ms/step - loss: 5486.0771 - mae: 5486.0771\n",
      "Epoch 92/200\n",
      "34/34 [==============================] - 0s 3ms/step - loss: 5437.6646 - mae: 5437.6646\n",
      "Epoch 93/200\n",
      "34/34 [==============================] - 0s 3ms/step - loss: 5394.8315 - mae: 5394.8315\n",
      "Epoch 94/200\n",
      "34/34 [==============================] - 0s 3ms/step - loss: 5347.0845 - mae: 5347.0845\n",
      "Epoch 95/200\n",
      "34/34 [==============================] - 0s 4ms/step - loss: 5293.5376 - mae: 5293.5376\n",
      "Epoch 96/200\n",
      "34/34 [==============================] - 0s 4ms/step - loss: 5246.9019 - mae: 5246.9019\n",
      "Epoch 97/200\n",
      "34/34 [==============================] - 0s 3ms/step - loss: 5193.0269 - mae: 5193.0269\n",
      "Epoch 98/200\n",
      "34/34 [==============================] - 0s 3ms/step - loss: 5130.2495 - mae: 5130.2495\n",
      "Epoch 99/200\n",
      "34/34 [==============================] - 0s 3ms/step - loss: 5069.4600 - mae: 5069.4600\n",
      "Epoch 100/200\n",
      "34/34 [==============================] - 0s 3ms/step - loss: 5014.8159 - mae: 5014.8159\n",
      "Epoch 101/200\n",
      "34/34 [==============================] - 0s 3ms/step - loss: 4941.0923 - mae: 4941.0923\n",
      "Epoch 102/200\n",
      "34/34 [==============================] - 0s 3ms/step - loss: 4867.8784 - mae: 4867.8784\n",
      "Epoch 103/200\n",
      "34/34 [==============================] - 0s 3ms/step - loss: 4803.5654 - mae: 4803.5654\n",
      "Epoch 104/200\n",
      "34/34 [==============================] - 0s 3ms/step - loss: 4722.1172 - mae: 4722.1172\n",
      "Epoch 105/200\n",
      "34/34 [==============================] - 0s 3ms/step - loss: 4634.5806 - mae: 4634.5806\n",
      "Epoch 106/200\n",
      "34/34 [==============================] - 0s 3ms/step - loss: 4551.9375 - mae: 4551.9375\n",
      "Epoch 107/200\n",
      "34/34 [==============================] - 0s 3ms/step - loss: 4468.6709 - mae: 4468.6709\n",
      "Epoch 108/200\n",
      "34/34 [==============================] - 0s 3ms/step - loss: 4380.7676 - mae: 4380.7676\n",
      "Epoch 109/200\n",
      "34/34 [==============================] - 0s 4ms/step - loss: 4299.1177 - mae: 4299.1177\n",
      "Epoch 110/200\n",
      "34/34 [==============================] - 0s 4ms/step - loss: 4218.7173 - mae: 4218.7173\n",
      "Epoch 111/200\n",
      "34/34 [==============================] - 0s 3ms/step - loss: 4141.4697 - mae: 4141.4697\n",
      "Epoch 112/200\n",
      "34/34 [==============================] - 0s 2ms/step - loss: 4073.2705 - mae: 4073.2705\n",
      "Epoch 113/200\n",
      "34/34 [==============================] - 0s 3ms/step - loss: 4012.3682 - mae: 4012.3682\n",
      "Epoch 114/200\n",
      "34/34 [==============================] - 0s 4ms/step - loss: 3974.1990 - mae: 3974.1990\n",
      "Epoch 115/200\n",
      "34/34 [==============================] - 0s 3ms/step - loss: 3936.3000 - mae: 3936.3000\n",
      "Epoch 116/200\n",
      "34/34 [==============================] - 0s 3ms/step - loss: 3909.0903 - mae: 3909.0903\n",
      "Epoch 117/200\n",
      "34/34 [==============================] - 0s 3ms/step - loss: 3891.2051 - mae: 3891.2051\n",
      "Epoch 118/200\n",
      "34/34 [==============================] - 0s 3ms/step - loss: 3868.5830 - mae: 3868.5830\n",
      "Epoch 119/200\n",
      "34/34 [==============================] - 0s 4ms/step - loss: 3850.5601 - mae: 3850.5601\n",
      "Epoch 120/200\n",
      "34/34 [==============================] - 0s 4ms/step - loss: 3833.7346 - mae: 3833.7346\n",
      "Epoch 121/200\n",
      "34/34 [==============================] - 0s 4ms/step - loss: 3826.8669 - mae: 3826.8669\n",
      "Epoch 122/200\n",
      "34/34 [==============================] - 0s 3ms/step - loss: 3820.9978 - mae: 3820.9978\n",
      "Epoch 123/200\n",
      "34/34 [==============================] - 0s 4ms/step - loss: 3815.0908 - mae: 3815.0908\n",
      "Epoch 124/200\n",
      "34/34 [==============================] - 0s 4ms/step - loss: 3806.5330 - mae: 3806.5330\n",
      "Epoch 125/200\n",
      "34/34 [==============================] - 0s 4ms/step - loss: 3796.4878 - mae: 3796.4878\n",
      "Epoch 126/200\n",
      "34/34 [==============================] - 0s 4ms/step - loss: 3807.4397 - mae: 3807.4397\n",
      "Epoch 127/200\n",
      "34/34 [==============================] - 0s 3ms/step - loss: 3796.5222 - mae: 3796.5222\n",
      "Epoch 128/200\n",
      "34/34 [==============================] - 0s 3ms/step - loss: 3792.7930 - mae: 3792.7930\n",
      "Epoch 129/200\n",
      "34/34 [==============================] - 0s 4ms/step - loss: 3803.2612 - mae: 3803.2612\n",
      "Epoch 130/200\n",
      "34/34 [==============================] - 0s 3ms/step - loss: 3790.9626 - mae: 3790.9626\n",
      "Epoch 131/200\n",
      "34/34 [==============================] - 0s 3ms/step - loss: 3783.0085 - mae: 3783.0085\n",
      "Epoch 132/200\n",
      "34/34 [==============================] - 0s 3ms/step - loss: 3775.6094 - mae: 3775.6094\n",
      "Epoch 133/200\n",
      "34/34 [==============================] - 0s 3ms/step - loss: 3772.4448 - mae: 3772.4448\n",
      "Epoch 134/200\n",
      "34/34 [==============================] - 0s 3ms/step - loss: 3772.2061 - mae: 3772.2061\n",
      "Epoch 135/200\n",
      "34/34 [==============================] - 0s 3ms/step - loss: 3768.1143 - mae: 3768.1143\n",
      "Epoch 136/200\n",
      "34/34 [==============================] - 0s 3ms/step - loss: 3766.3247 - mae: 3766.3247\n",
      "Epoch 137/200\n",
      "34/34 [==============================] - 0s 4ms/step - loss: 3775.9365 - mae: 3775.9365\n",
      "Epoch 138/200\n",
      "34/34 [==============================] - 0s 3ms/step - loss: 3784.8118 - mae: 3784.8118\n",
      "Epoch 139/200\n",
      "34/34 [==============================] - 0s 2ms/step - loss: 3762.2698 - mae: 3762.2698\n",
      "Epoch 140/200\n",
      "34/34 [==============================] - 0s 3ms/step - loss: 3763.8557 - mae: 3763.8557\n",
      "Epoch 141/200\n",
      "34/34 [==============================] - 0s 4ms/step - loss: 3764.7517 - mae: 3764.7517\n",
      "Epoch 142/200\n",
      "34/34 [==============================] - 0s 3ms/step - loss: 3765.9355 - mae: 3765.9355\n",
      "Epoch 143/200\n",
      "34/34 [==============================] - 0s 3ms/step - loss: 3754.9026 - mae: 3754.9026\n",
      "Epoch 144/200\n",
      "34/34 [==============================] - 0s 3ms/step - loss: 3751.4636 - mae: 3751.4636\n",
      "Epoch 145/200\n",
      "34/34 [==============================] - 0s 4ms/step - loss: 3751.7498 - mae: 3751.7498\n",
      "Epoch 146/200\n",
      "34/34 [==============================] - 0s 5ms/step - loss: 3755.6453 - mae: 3755.6453\n",
      "Epoch 147/200\n",
      "34/34 [==============================] - 0s 6ms/step - loss: 3753.1064 - mae: 3753.1064\n",
      "Epoch 148/200\n",
      "34/34 [==============================] - 0s 4ms/step - loss: 3756.5283 - mae: 3756.5283\n",
      "Epoch 149/200\n",
      "34/34 [==============================] - 0s 4ms/step - loss: 3744.6331 - mae: 3744.6331\n",
      "Epoch 150/200\n",
      "34/34 [==============================] - 0s 4ms/step - loss: 3739.6631 - mae: 3739.6631\n",
      "Epoch 151/200\n",
      "34/34 [==============================] - 0s 3ms/step - loss: 3742.2524 - mae: 3742.2524\n",
      "Epoch 152/200\n",
      "34/34 [==============================] - 0s 4ms/step - loss: 3744.1545 - mae: 3744.1545\n",
      "Epoch 153/200\n",
      "34/34 [==============================] - 0s 4ms/step - loss: 3743.9670 - mae: 3743.9670\n",
      "Epoch 154/200\n",
      "34/34 [==============================] - 0s 5ms/step - loss: 3738.5686 - mae: 3738.5686\n",
      "Epoch 155/200\n",
      "34/34 [==============================] - 0s 4ms/step - loss: 3740.8455 - mae: 3740.8455\n",
      "Epoch 156/200\n",
      "34/34 [==============================] - 0s 4ms/step - loss: 3736.3994 - mae: 3736.3994\n",
      "Epoch 157/200\n",
      "34/34 [==============================] - 0s 4ms/step - loss: 3734.1177 - mae: 3734.1177\n",
      "Epoch 158/200\n",
      "34/34 [==============================] - 0s 4ms/step - loss: 3730.3699 - mae: 3730.3699\n",
      "Epoch 159/200\n",
      "34/34 [==============================] - 0s 5ms/step - loss: 3729.2273 - mae: 3729.2273\n",
      "Epoch 160/200\n",
      "34/34 [==============================] - 0s 5ms/step - loss: 3734.9216 - mae: 3734.9216\n",
      "Epoch 161/200\n",
      "34/34 [==============================] - 0s 4ms/step - loss: 3729.0862 - mae: 3729.0862\n",
      "Epoch 162/200\n",
      "34/34 [==============================] - 0s 3ms/step - loss: 3724.7690 - mae: 3724.7690\n",
      "Epoch 163/200\n",
      "34/34 [==============================] - 0s 5ms/step - loss: 3723.5330 - mae: 3723.5330\n",
      "Epoch 164/200\n",
      "34/34 [==============================] - 0s 4ms/step - loss: 3728.4087 - mae: 3728.4087\n",
      "Epoch 165/200\n",
      "34/34 [==============================] - 0s 4ms/step - loss: 3719.0034 - mae: 3719.0034\n",
      "Epoch 166/200\n",
      "34/34 [==============================] - 0s 5ms/step - loss: 3722.3560 - mae: 3722.3560\n",
      "Epoch 167/200\n",
      "34/34 [==============================] - 0s 6ms/step - loss: 3721.8521 - mae: 3721.8521\n",
      "Epoch 168/200\n",
      "34/34 [==============================] - 0s 4ms/step - loss: 3717.5679 - mae: 3717.5679\n",
      "Epoch 169/200\n",
      "34/34 [==============================] - 0s 4ms/step - loss: 3715.4734 - mae: 3715.4734\n",
      "Epoch 170/200\n",
      "34/34 [==============================] - 0s 4ms/step - loss: 3709.7908 - mae: 3709.7908\n",
      "Epoch 171/200\n",
      "34/34 [==============================] - 0s 4ms/step - loss: 3709.2942 - mae: 3709.2942\n",
      "Epoch 172/200\n",
      "34/34 [==============================] - 0s 4ms/step - loss: 3711.5898 - mae: 3711.5898\n",
      "Epoch 173/200\n",
      "34/34 [==============================] - 0s 4ms/step - loss: 3707.3362 - mae: 3707.3362\n",
      "Epoch 174/200\n",
      "34/34 [==============================] - 0s 5ms/step - loss: 3711.8484 - mae: 3711.8484\n",
      "Epoch 175/200\n",
      "34/34 [==============================] - 0s 6ms/step - loss: 3712.4736 - mae: 3712.4736\n",
      "Epoch 176/200\n",
      "34/34 [==============================] - 0s 5ms/step - loss: 3708.7146 - mae: 3708.7146\n",
      "Epoch 177/200\n",
      "34/34 [==============================] - 0s 4ms/step - loss: 3702.0901 - mae: 3702.0901\n",
      "Epoch 178/200\n",
      "34/34 [==============================] - 0s 4ms/step - loss: 3698.8069 - mae: 3698.8069\n",
      "Epoch 179/200\n",
      "34/34 [==============================] - 0s 4ms/step - loss: 3707.7722 - mae: 3707.7722\n",
      "Epoch 180/200\n",
      "34/34 [==============================] - 0s 4ms/step - loss: 3713.4724 - mae: 3713.4724\n",
      "Epoch 181/200\n",
      "34/34 [==============================] - 0s 6ms/step - loss: 3698.5505 - mae: 3698.5505\n",
      "Epoch 182/200\n",
      "34/34 [==============================] - 0s 5ms/step - loss: 3695.5571 - mae: 3695.5571\n",
      "Epoch 183/200\n",
      "34/34 [==============================] - 0s 3ms/step - loss: 3693.7539 - mae: 3693.7539\n",
      "Epoch 184/200\n",
      "34/34 [==============================] - 0s 4ms/step - loss: 3701.5005 - mae: 3701.5005\n",
      "Epoch 185/200\n",
      "34/34 [==============================] - 0s 4ms/step - loss: 3696.0752 - mae: 3696.0752\n",
      "Epoch 186/200\n",
      "34/34 [==============================] - 0s 4ms/step - loss: 3698.9932 - mae: 3698.9932\n",
      "Epoch 187/200\n",
      "34/34 [==============================] - 0s 3ms/step - loss: 3690.7551 - mae: 3690.7551\n",
      "Epoch 188/200\n",
      "34/34 [==============================] - 0s 4ms/step - loss: 3695.1221 - mae: 3695.1221\n",
      "Epoch 189/200\n",
      "34/34 [==============================] - 0s 5ms/step - loss: 3685.2822 - mae: 3685.2822\n",
      "Epoch 190/200\n",
      "34/34 [==============================] - 0s 4ms/step - loss: 3685.9736 - mae: 3685.9736\n",
      "Epoch 191/200\n",
      "34/34 [==============================] - 0s 4ms/step - loss: 3701.5405 - mae: 3701.5405\n",
      "Epoch 192/200\n",
      "34/34 [==============================] - 0s 4ms/step - loss: 3686.8323 - mae: 3686.8323\n",
      "Epoch 193/200\n",
      "34/34 [==============================] - 0s 4ms/step - loss: 3676.7979 - mae: 3676.7979\n",
      "Epoch 194/200\n",
      "34/34 [==============================] - 0s 4ms/step - loss: 3678.0391 - mae: 3678.0391\n",
      "Epoch 195/200\n",
      "34/34 [==============================] - 0s 4ms/step - loss: 3675.1621 - mae: 3675.1621\n",
      "Epoch 196/200\n",
      "34/34 [==============================] - 0s 4ms/step - loss: 3683.8762 - mae: 3683.8762\n",
      "Epoch 197/200\n",
      "34/34 [==============================] - 0s 4ms/step - loss: 3668.7593 - mae: 3668.7593\n",
      "Epoch 198/200\n",
      "34/34 [==============================] - 0s 4ms/step - loss: 3674.9531 - mae: 3674.9531\n",
      "Epoch 199/200\n",
      "34/34 [==============================] - 0s 4ms/step - loss: 3682.4058 - mae: 3682.4058\n",
      "Epoch 200/200\n",
      "34/34 [==============================] - 0s 4ms/step - loss: 3669.5537 - mae: 3669.5537\n"
     ]
    }
   ],
   "source": [
    "# Set random seed\n",
    "tf.random.set_seed(42)\n",
    "\n",
    "# 1. Create the model (same as above)\n",
    "insurance_model_3 = tf.keras.Sequential([\n",
    "    tf.keras.layers.Dense(100),\n",
    "    tf.keras.layers.Dense(10),\n",
    "    tf.keras.layers.Dense(1)\n",
    "])\n",
    "\n",
    "# 2. Compile the model\n",
    "insurance_model_3.compile(loss=tf.keras.losses.mae,\n",
    "                          optimizer=tf.keras.optimizers.Adam(),\n",
    "                          metrics=[\"mae\"])\n",
    "\n",
    "# 3. Fit the model\n",
    "history = insurance_model_3.fit(X_train, y_train, epochs=200)"
   ],
   "metadata": {
    "collapsed": false,
    "ExecuteTime": {
     "end_time": "2024-01-01T07:31:43.948092814Z",
     "start_time": "2024-01-01T07:31:16.228921671Z"
    }
   },
   "id": "56ece3f24d5d2b4",
   "execution_count": 52
  },
  {
   "cell_type": "code",
   "outputs": [
    {
     "name": "stdout",
     "output_type": "stream",
     "text": [
      "9/9 [==============================] - 0s 3ms/step - loss: 3494.7031 - mae: 3494.7031\n"
     ]
    },
    {
     "data": {
      "text/plain": "[3494.703125, 3494.703125]"
     },
     "execution_count": 53,
     "metadata": {},
     "output_type": "execute_result"
    }
   ],
   "source": [
    "# Evaluate our third model\n",
    "insurance_model_3.evaluate(X_test, y_test)"
   ],
   "metadata": {
    "collapsed": false,
    "ExecuteTime": {
     "end_time": "2024-01-01T07:31:51.913753296Z",
     "start_time": "2024-01-01T07:31:51.677748865Z"
    }
   },
   "id": "3f4dc53266f65536",
   "execution_count": 53
  },
  {
   "cell_type": "code",
   "outputs": [
    {
     "name": "stdout",
     "output_type": "stream",
     "text": [
      "9/9 [==============================] - 0s 3ms/step - loss: 5899.0342 - mae: 5899.0342\n"
     ]
    },
    {
     "data": {
      "text/plain": "[5899.0341796875, 5899.0341796875]"
     },
     "execution_count": 54,
     "metadata": {},
     "output_type": "execute_result"
    }
   ],
   "source": [
    "insurance_model.evaluate(X_test, y_test)"
   ],
   "metadata": {
    "collapsed": false,
    "ExecuteTime": {
     "end_time": "2024-01-01T07:31:58.013852975Z",
     "start_time": "2024-01-01T07:31:57.888753162Z"
    }
   },
   "id": "73bee1d426123d5e",
   "execution_count": 54
  },
  {
   "cell_type": "code",
   "outputs": [
    {
     "data": {
      "text/plain": "Text(0.5, 0, 'epochs')"
     },
     "execution_count": 55,
     "metadata": {},
     "output_type": "execute_result"
    },
    {
     "data": {
      "text/plain": "<Figure size 640x480 with 1 Axes>",
      "image/png": "[encoded data removed]"
     },
     "metadata": {},
     "output_type": "display_data"
    }
   ],
   "source": [
    "# Plot history (also known as a loss curve or a training curve)\n",
    "pd.DataFrame(history.history).plot()\n",
    "plt.ylabel(\"loss\")\n",
    "plt.xlabel(\"epochs\")"
   ],
   "metadata": {
    "collapsed": false,
    "ExecuteTime": {
     "end_time": "2024-01-01T07:31:59.649376386Z",
     "start_time": "2024-01-01T07:31:59.499367457Z"
    }
   },
   "id": "492df7d0a97992e9",
   "execution_count": 55
  },
  {
   "cell_type": "markdown",
   "source": [
    "> 🤔 **Question:** How long should you train for? \n",
    "\n",
    "It depends. Really... it depends on the problem you're working on. However, many people have asked this question before... so TensorFlow has a solution! It's called the [EarlyStopping Callback](https://www.tensorflow.org/api_docs/python/tf/keras/callbacks/EarlyStopping), which is a TensorFlow component you can add to your model to stop training once it stops improving a certain metric."
   ],
   "metadata": {
    "collapsed": false
   },
   "id": "e7db529b9bae5eae"
  },
  {
   "cell_type": "markdown",
   "source": [
    "## Preprocessing data (normalization and standardization)\n",
    "\n",
    "In terms of scalimg values, neural networks tend to prefer normalization.\n",
    "\n",
    "If you're not sure on which to use, you could try both and see which performs better."
   ],
   "metadata": {
    "collapsed": false
   },
   "id": "48dd68ad2f5d20e4"
  },
  {
   "cell_type": "code",
   "outputs": [
    {
     "data": {
      "text/plain": "      age     sex     bmi  children smoker     region      charges\n0      19  female  27.900         0    yes  southwest  16884.92400\n1      18    male  33.770         1     no  southeast   1725.55230\n2      28    male  33.000         3     no  southeast   4449.46200\n3      33    male  22.705         0     no  northwest  21984.47061\n4      32    male  28.880         0     no  northwest   3866.85520\n...   ...     ...     ...       ...    ...        ...          ...\n1333   50    male  30.970         3     no  northwest  10600.54830\n1334   18  female  31.920         0     no  northeast   2205.98080\n1335   18  female  36.850         0     no  southeast   1629.83350\n1336   21  female  25.800         0     no  southwest   2007.94500\n1337   61  female  29.070         0    yes  northwest  29141.36030\n\n[1338 rows x 7 columns]",
      "text/html": "<div>\n<style scoped>\n    .dataframe tbody tr th:only-of-type {\n        vertical-align: middle;\n    }\n\n    .dataframe tbody tr th {\n        vertical-align: top;\n    }\n\n    .dataframe thead th {\n        text-align: right;\n    }\n</style>\n<table border=\"1\" class=\"dataframe\">\n  <thead>\n    <tr style=\"text-align: right;\">\n      <th></th>\n      <th>age</th>\n      <th>sex</th>\n      <th>bmi</th>\n      <th>children</th>\n      <th>smoker</th>\n      <th>region</th>\n      <th>charges</th>\n    </tr>\n  </thead>\n  <tbody>\n    <tr>\n      <th>0</th>\n      <td>19</td>\n      <td>female</td>\n      <td>27.900</td>\n      <td>0</td>\n      <td>yes</td>\n      <td>southwest</td>\n      <td>16884.92400</td>\n    </tr>\n    <tr>\n      <th>1</th>\n      <td>18</td>\n      <td>male</td>\n      <td>33.770</td>\n      <td>1</td>\n      <td>no</td>\n      <td>southeast</td>\n      <td>1725.55230</td>\n    </tr>\n    <tr>\n      <th>2</th>\n      <td>28</td>\n      <td>male</td>\n      <td>33.000</td>\n      <td>3</td>\n      <td>no</td>\n      <td>southeast</td>\n      <td>4449.46200</td>\n    </tr>\n    <tr>\n      <th>3</th>\n      <td>33</td>\n      <td>male</td>\n      <td>22.705</td>\n      <td>0</td>\n      <td>no</td>\n      <td>northwest</td>\n      <td>21984.47061</td>\n    </tr>\n    <tr>\n      <th>4</th>\n      <td>32</td>\n      <td>male</td>\n      <td>28.880</td>\n      <td>0</td>\n      <td>no</td>\n      <td>northwest</td>\n      <td>3866.85520</td>\n    </tr>\n    <tr>\n      <th>...</th>\n      <td>...</td>\n      <td>...</td>\n      <td>...</td>\n      <td>...</td>\n      <td>...</td>\n      <td>...</td>\n      <td>...</td>\n    </tr>\n    <tr>\n      <th>1333</th>\n      <td>50</td>\n      <td>male</td>\n      <td>30.970</td>\n      <td>3</td>\n      <td>no</td>\n      <td>northwest</td>\n      <td>10600.54830</td>\n    </tr>\n    <tr>\n      <th>1334</th>\n      <td>18</td>\n      <td>female</td>\n      <td>31.920</td>\n      <td>0</td>\n      <td>no</td>\n      <td>northeast</td>\n      <td>2205.98080</td>\n    </tr>\n    <tr>\n      <th>1335</th>\n      <td>18</td>\n      <td>female</td>\n      <td>36.850</td>\n      <td>0</td>\n      <td>no</td>\n      <td>southeast</td>\n      <td>1629.83350</td>\n    </tr>\n    <tr>\n      <th>1336</th>\n      <td>21</td>\n      <td>female</td>\n      <td>25.800</td>\n      <td>0</td>\n      <td>no</td>\n      <td>southwest</td>\n      <td>2007.94500</td>\n    </tr>\n    <tr>\n      <th>1337</th>\n      <td>61</td>\n      <td>female</td>\n      <td>29.070</td>\n      <td>0</td>\n      <td>yes</td>\n      <td>northwest</td>\n      <td>29141.36030</td>\n    </tr>\n  </tbody>\n</table>\n<p>1338 rows × 7 columns</p>\n</div>"
     },
     "execution_count": 56,
     "metadata": {},
     "output_type": "execute_result"
    }
   ],
   "source": [
    "import pandas as pd\n",
    "import matplotlib.pyplot as plt\n",
    "import tensorflow as tf\n",
    "\n",
    "# Read in the insurance dataframe\n",
    "insurance = pd.read_csv(\"Dataset/insurance.csv\")\n",
    "insurance"
   ],
   "metadata": {
    "collapsed": false,
    "ExecuteTime": {
     "end_time": "2024-01-01T07:32:02.167682074Z",
     "start_time": "2024-01-01T07:32:02.060874750Z"
    }
   },
   "id": "6bd1bd58c7317a5",
   "execution_count": 56
  },
  {
   "cell_type": "markdown",
   "source": [
    "To prepare our data, we can borrow a few classes from Scikit-Learn."
   ],
   "metadata": {
    "collapsed": false
   },
   "id": "5877de47754a1938"
  },
  {
   "cell_type": "code",
   "outputs": [],
   "source": [
    "from sklearn.compose import make_column_transformer\n",
    "from sklearn.preprocessing import MinMaxScaler, OneHotEncoder\n",
    "from sklearn.model_selection import train_test_split\n",
    "\n",
    "# Create a column transformer\n",
    "ct = make_column_transformer(\n",
    "    (MinMaxScaler(), [\"age\", \"bmi\", \"children\"]), # turn all values in theese columns between 0 and 1\n",
    "    (OneHotEncoder(handle_unknown=\"ignore\"), [\"sex\", \"smoker\", \"region\"])\n",
    ")\n",
    "\n",
    "# Create X & y\n",
    "X = insurance.drop(\"charges\", axis=1)\n",
    "y = insurance[\"charges\"]\n",
    "\n",
    "# Build our train and test sets\n",
    "X_train, X_test, y_train, y_test = train_test_split(X, y, test_size=0.2, random_state=42)\n",
    "\n",
    "# Fit the column transformer to our training data\n",
    "ct.fit(X_train)\n",
    "\n",
    "# Transform training and test data with normalization (MinMaxScaler) and OneHotEncoder\n",
    "X_train_normal = ct.transform(X_train)\n",
    "X_test_normal = ct.transform(X_test)"
   ],
   "metadata": {
    "collapsed": false,
    "ExecuteTime": {
     "end_time": "2024-01-01T07:32:03.917007433Z",
     "start_time": "2024-01-01T07:32:03.858629313Z"
    }
   },
   "id": "352e885019844f76",
   "execution_count": 57
  },
  {
   "cell_type": "code",
   "outputs": [
    {
     "data": {
      "text/plain": "age                19\nsex            female\nbmi              27.9\nchildren            0\nsmoker            yes\nregion      southwest\nName: 0, dtype: object"
     },
     "execution_count": 58,
     "metadata": {},
     "output_type": "execute_result"
    }
   ],
   "source": [
    "# What does our data look like now?\n",
    "X_train.loc[0]"
   ],
   "metadata": {
    "collapsed": false,
    "ExecuteTime": {
     "end_time": "2024-01-01T07:32:04.826028462Z",
     "start_time": "2024-01-01T07:32:04.738113951Z"
    }
   },
   "id": "2d471eb84effea5c",
   "execution_count": 58
  },
  {
   "cell_type": "code",
   "outputs": [
    {
     "data": {
      "text/plain": "array([0.60869565, 0.10734463, 0.4       , 1.        , 0.        ,\n       1.        , 0.        , 0.        , 1.        , 0.        ,\n       0.        ])"
     },
     "execution_count": 59,
     "metadata": {},
     "output_type": "execute_result"
    }
   ],
   "source": [
    "X_train_normal[0]"
   ],
   "metadata": {
    "collapsed": false,
    "ExecuteTime": {
     "end_time": "2024-01-01T07:32:05.349190600Z",
     "start_time": "2024-01-01T07:32:05.273782982Z"
    }
   },
   "id": "c613d71fa18039fd",
   "execution_count": 59
  },
  {
   "cell_type": "code",
   "outputs": [
    {
     "data": {
      "text/plain": "((1070, 6), (1070, 11))"
     },
     "execution_count": 60,
     "metadata": {},
     "output_type": "execute_result"
    }
   ],
   "source": [
    "X_train.shape, X_train_normal.shape"
   ],
   "metadata": {
    "collapsed": false,
    "ExecuteTime": {
     "end_time": "2024-01-01T07:32:06.208425800Z",
     "start_time": "2024-01-01T07:32:06.144126317Z"
    }
   },
   "id": "e3718cd0531b4824",
   "execution_count": 60
  },
  {
   "cell_type": "code",
   "outputs": [
    {
     "name": "stdout",
     "output_type": "stream",
     "text": [
      "Epoch 1/100\n",
      "34/34 [==============================] - 1s 6ms/step - loss: 13343.7666 - mae: 13343.7666\n",
      "Epoch 2/100\n",
      "34/34 [==============================] - 0s 4ms/step - loss: 13334.4258 - mae: 13334.4258\n",
      "Epoch 3/100\n",
      "34/34 [==============================] - 0s 4ms/step - loss: 13311.5811 - mae: 13311.5811\n",
      "Epoch 4/100\n",
      "34/34 [==============================] - 0s 3ms/step - loss: 13264.1182 - mae: 13264.1182\n",
      "Epoch 5/100\n",
      "34/34 [==============================] - 0s 4ms/step - loss: 13180.5488 - mae: 13180.5488\n",
      "Epoch 6/100\n",
      "34/34 [==============================] - 0s 4ms/step - loss: 13049.6709 - mae: 13049.6709\n",
      "Epoch 7/100\n",
      "34/34 [==============================] - 0s 4ms/step - loss: 12861.2490 - mae: 12861.2490\n",
      "Epoch 8/100\n",
      "34/34 [==============================] - 0s 4ms/step - loss: 12605.2764 - mae: 12605.2764\n",
      "Epoch 9/100\n",
      "34/34 [==============================] - 0s 4ms/step - loss: 12271.7080 - mae: 12271.7080\n",
      "Epoch 10/100\n",
      "34/34 [==============================] - 0s 5ms/step - loss: 11858.3965 - mae: 11858.3965\n",
      "Epoch 11/100\n",
      "34/34 [==============================] - 0s 5ms/step - loss: 11377.9131 - mae: 11377.9131\n",
      "Epoch 12/100\n",
      "34/34 [==============================] - 0s 4ms/step - loss: 10870.8525 - mae: 10870.8525\n",
      "Epoch 13/100\n",
      "34/34 [==============================] - 0s 3ms/step - loss: 10369.4893 - mae: 10369.4893\n",
      "Epoch 14/100\n",
      "34/34 [==============================] - 0s 3ms/step - loss: 9877.9365 - mae: 9877.9365\n",
      "Epoch 15/100\n",
      "34/34 [==============================] - 0s 2ms/step - loss: 9415.9990 - mae: 9415.9990\n",
      "Epoch 16/100\n",
      "34/34 [==============================] - 0s 2ms/step - loss: 9009.0361 - mae: 9009.0361\n",
      "Epoch 17/100\n",
      "34/34 [==============================] - 0s 2ms/step - loss: 8677.1299 - mae: 8677.1299\n",
      "Epoch 18/100\n",
      "34/34 [==============================] - 0s 3ms/step - loss: 8405.9258 - mae: 8405.9258\n",
      "Epoch 19/100\n",
      "34/34 [==============================] - 0s 4ms/step - loss: 8205.2598 - mae: 8205.2598\n",
      "Epoch 20/100\n",
      "34/34 [==============================] - 0s 2ms/step - loss: 8066.8804 - mae: 8066.8804\n",
      "Epoch 21/100\n",
      "34/34 [==============================] - 0s 2ms/step - loss: 7963.0859 - mae: 7963.0859\n",
      "Epoch 22/100\n",
      "34/34 [==============================] - 0s 2ms/step - loss: 7891.6055 - mae: 7891.6055\n",
      "Epoch 23/100\n",
      "34/34 [==============================] - 0s 2ms/step - loss: 7834.7920 - mae: 7834.7920\n",
      "Epoch 24/100\n",
      "34/34 [==============================] - 0s 2ms/step - loss: 7783.4370 - mae: 7783.4370\n",
      "Epoch 25/100\n",
      "34/34 [==============================] - 0s 2ms/step - loss: 7744.6338 - mae: 7744.6338\n",
      "Epoch 26/100\n",
      "34/34 [==============================] - 0s 2ms/step - loss: 7692.6465 - mae: 7692.6465\n",
      "Epoch 27/100\n",
      "34/34 [==============================] - 0s 2ms/step - loss: 7649.8970 - mae: 7649.8970\n",
      "Epoch 28/100\n",
      "34/34 [==============================] - 0s 2ms/step - loss: 7606.9541 - mae: 7606.9541\n",
      "Epoch 29/100\n",
      "34/34 [==============================] - 0s 2ms/step - loss: 7563.8623 - mae: 7563.8623\n",
      "Epoch 30/100\n",
      "34/34 [==============================] - 0s 2ms/step - loss: 7519.5278 - mae: 7519.5278\n",
      "Epoch 31/100\n",
      "34/34 [==============================] - 0s 2ms/step - loss: 7474.7886 - mae: 7474.7886\n",
      "Epoch 32/100\n",
      "34/34 [==============================] - 0s 2ms/step - loss: 7429.8301 - mae: 7429.8301\n",
      "Epoch 33/100\n",
      "34/34 [==============================] - 0s 2ms/step - loss: 7384.4658 - mae: 7384.4658\n",
      "Epoch 34/100\n",
      "34/34 [==============================] - 0s 2ms/step - loss: 7335.2480 - mae: 7335.2480\n",
      "Epoch 35/100\n",
      "34/34 [==============================] - 0s 2ms/step - loss: 7287.3823 - mae: 7287.3823\n",
      "Epoch 36/100\n",
      "34/34 [==============================] - 0s 2ms/step - loss: 7235.9897 - mae: 7235.9897\n",
      "Epoch 37/100\n",
      "34/34 [==============================] - 0s 2ms/step - loss: 7184.4478 - mae: 7184.4478\n",
      "Epoch 38/100\n",
      "34/34 [==============================] - 0s 2ms/step - loss: 7132.0410 - mae: 7132.0410\n",
      "Epoch 39/100\n",
      "34/34 [==============================] - 0s 2ms/step - loss: 7075.7856 - mae: 7075.7856\n",
      "Epoch 40/100\n",
      "34/34 [==============================] - 0s 2ms/step - loss: 7018.8477 - mae: 7018.8477\n",
      "Epoch 41/100\n",
      "34/34 [==============================] - 0s 2ms/step - loss: 6960.7529 - mae: 6960.7529\n",
      "Epoch 42/100\n",
      "34/34 [==============================] - 0s 2ms/step - loss: 6899.9043 - mae: 6899.9043\n",
      "Epoch 43/100\n",
      "34/34 [==============================] - 0s 2ms/step - loss: 6835.3716 - mae: 6835.3716\n",
      "Epoch 44/100\n",
      "34/34 [==============================] - 0s 2ms/step - loss: 6766.9365 - mae: 6766.9365\n",
      "Epoch 45/100\n",
      "34/34 [==============================] - 0s 2ms/step - loss: 6697.5122 - mae: 6697.5122\n",
      "Epoch 46/100\n",
      "34/34 [==============================] - 0s 2ms/step - loss: 6626.2007 - mae: 6626.2007\n",
      "Epoch 47/100\n",
      "34/34 [==============================] - 0s 2ms/step - loss: 6552.3794 - mae: 6552.3794\n",
      "Epoch 48/100\n",
      "34/34 [==============================] - 0s 2ms/step - loss: 6470.8062 - mae: 6470.8062\n",
      "Epoch 49/100\n",
      "34/34 [==============================] - 0s 2ms/step - loss: 6389.2808 - mae: 6389.2808\n",
      "Epoch 50/100\n",
      "34/34 [==============================] - 0s 2ms/step - loss: 6300.2964 - mae: 6300.2964\n",
      "Epoch 51/100\n",
      "34/34 [==============================] - 0s 2ms/step - loss: 6212.3042 - mae: 6212.3042\n",
      "Epoch 52/100\n",
      "34/34 [==============================] - 0s 2ms/step - loss: 6115.6924 - mae: 6115.6924\n",
      "Epoch 53/100\n",
      "34/34 [==============================] - 0s 2ms/step - loss: 6015.9585 - mae: 6015.9585\n",
      "Epoch 54/100\n",
      "34/34 [==============================] - 0s 2ms/step - loss: 5913.4038 - mae: 5913.4038\n",
      "Epoch 55/100\n",
      "34/34 [==============================] - 0s 2ms/step - loss: 5802.1235 - mae: 5802.1235\n",
      "Epoch 56/100\n",
      "34/34 [==============================] - 0s 2ms/step - loss: 5689.5513 - mae: 5689.5513\n",
      "Epoch 57/100\n",
      "34/34 [==============================] - 0s 2ms/step - loss: 5570.6958 - mae: 5570.6958\n",
      "Epoch 58/100\n",
      "34/34 [==============================] - 0s 2ms/step - loss: 5451.7715 - mae: 5451.7715\n",
      "Epoch 59/100\n",
      "34/34 [==============================] - 0s 2ms/step - loss: 5328.3433 - mae: 5328.3433\n",
      "Epoch 60/100\n",
      "34/34 [==============================] - 0s 2ms/step - loss: 5202.4404 - mae: 5202.4404\n",
      "Epoch 61/100\n",
      "34/34 [==============================] - 0s 3ms/step - loss: 5074.5854 - mae: 5074.5854\n",
      "Epoch 62/100\n",
      "34/34 [==============================] - 0s 3ms/step - loss: 4940.7500 - mae: 4940.7500\n",
      "Epoch 63/100\n",
      "34/34 [==============================] - 0s 3ms/step - loss: 4811.3994 - mae: 4811.3994\n",
      "Epoch 64/100\n",
      "34/34 [==============================] - 0s 3ms/step - loss: 4679.5972 - mae: 4679.5972\n",
      "Epoch 65/100\n",
      "34/34 [==============================] - 0s 3ms/step - loss: 4554.7266 - mae: 4554.7266\n",
      "Epoch 66/100\n",
      "34/34 [==============================] - 0s 3ms/step - loss: 4436.4282 - mae: 4436.4282\n",
      "Epoch 67/100\n",
      "34/34 [==============================] - 0s 3ms/step - loss: 4330.5947 - mae: 4330.5947\n",
      "Epoch 68/100\n",
      "34/34 [==============================] - 0s 3ms/step - loss: 4225.8906 - mae: 4225.8906\n",
      "Epoch 69/100\n",
      "34/34 [==============================] - 0s 3ms/step - loss: 4128.6855 - mae: 4128.6855\n",
      "Epoch 70/100\n",
      "34/34 [==============================] - 0s 3ms/step - loss: 4039.7520 - mae: 4039.7520\n",
      "Epoch 71/100\n",
      "34/34 [==============================] - 0s 2ms/step - loss: 3960.3130 - mae: 3960.3130\n",
      "Epoch 72/100\n",
      "34/34 [==============================] - 0s 3ms/step - loss: 3891.2644 - mae: 3891.2644\n",
      "Epoch 73/100\n",
      "34/34 [==============================] - 0s 3ms/step - loss: 3835.9915 - mae: 3835.9915\n",
      "Epoch 74/100\n",
      "34/34 [==============================] - 0s 2ms/step - loss: 3788.1958 - mae: 3788.1958\n",
      "Epoch 75/100\n",
      "34/34 [==============================] - 0s 2ms/step - loss: 3754.8784 - mae: 3754.8784\n",
      "Epoch 76/100\n",
      "34/34 [==============================] - 0s 2ms/step - loss: 3730.1758 - mae: 3730.1758\n",
      "Epoch 77/100\n",
      "34/34 [==============================] - 0s 2ms/step - loss: 3709.2466 - mae: 3709.2466\n",
      "Epoch 78/100\n",
      "34/34 [==============================] - 0s 2ms/step - loss: 3695.8267 - mae: 3695.8267\n",
      "Epoch 79/100\n",
      "34/34 [==============================] - 0s 3ms/step - loss: 3686.5320 - mae: 3686.5320\n",
      "Epoch 80/100\n",
      "34/34 [==============================] - 0s 3ms/step - loss: 3678.2683 - mae: 3678.2683\n",
      "Epoch 81/100\n",
      "34/34 [==============================] - 0s 3ms/step - loss: 3673.3647 - mae: 3673.3647\n",
      "Epoch 82/100\n",
      "34/34 [==============================] - 0s 3ms/step - loss: 3670.6252 - mae: 3670.6252\n",
      "Epoch 83/100\n",
      "34/34 [==============================] - 0s 3ms/step - loss: 3665.0347 - mae: 3665.0347\n",
      "Epoch 84/100\n",
      "34/34 [==============================] - 0s 3ms/step - loss: 3662.5259 - mae: 3662.5259\n",
      "Epoch 85/100\n",
      "34/34 [==============================] - 0s 3ms/step - loss: 3660.0549 - mae: 3660.0549\n",
      "Epoch 86/100\n",
      "34/34 [==============================] - 0s 3ms/step - loss: 3658.9888 - mae: 3658.9888\n",
      "Epoch 87/100\n",
      "34/34 [==============================] - 0s 3ms/step - loss: 3656.0361 - mae: 3656.0361\n",
      "Epoch 88/100\n",
      "34/34 [==============================] - 0s 3ms/step - loss: 3653.6226 - mae: 3653.6226\n",
      "Epoch 89/100\n",
      "34/34 [==============================] - 0s 3ms/step - loss: 3652.2532 - mae: 3652.2532\n",
      "Epoch 90/100\n",
      "34/34 [==============================] - 0s 3ms/step - loss: 3650.6060 - mae: 3650.6060\n",
      "Epoch 91/100\n",
      "34/34 [==============================] - 0s 3ms/step - loss: 3647.5173 - mae: 3647.5173\n",
      "Epoch 92/100\n",
      "34/34 [==============================] - 0s 3ms/step - loss: 3646.8840 - mae: 3646.8840\n",
      "Epoch 93/100\n",
      "34/34 [==============================] - 0s 3ms/step - loss: 3644.5474 - mae: 3644.5474\n",
      "Epoch 94/100\n",
      "34/34 [==============================] - 0s 3ms/step - loss: 3642.8967 - mae: 3642.8967\n",
      "Epoch 95/100\n",
      "34/34 [==============================] - 0s 3ms/step - loss: 3643.5867 - mae: 3643.5867\n",
      "Epoch 96/100\n",
      "34/34 [==============================] - 0s 2ms/step - loss: 3640.9622 - mae: 3640.9622\n",
      "Epoch 97/100\n",
      "34/34 [==============================] - 0s 2ms/step - loss: 3638.3521 - mae: 3638.3521\n",
      "Epoch 98/100\n",
      "34/34 [==============================] - 0s 2ms/step - loss: 3636.4614 - mae: 3636.4614\n",
      "Epoch 99/100\n",
      "34/34 [==============================] - 0s 3ms/step - loss: 3635.4331 - mae: 3635.4331\n",
      "Epoch 100/100\n",
      "34/34 [==============================] - 0s 3ms/step - loss: 3634.2607 - mae: 3634.2607\n"
     ]
    },
    {
     "data": {
      "text/plain": "<keras.callbacks.History at 0x7fcc3dae4dd0>"
     },
     "execution_count": 65,
     "metadata": {},
     "output_type": "execute_result"
    }
   ],
   "source": [
    "# Build a neural network model to fit on our normalized data\n",
    "tf.random.set_seed(42)\n",
    "\n",
    "# 1. Create the model\n",
    "insurance_model_4 = tf.keras.Sequential([\n",
    "    tf.keras.layers.Dense(100),\n",
    "    tf.keras.layers.Dense(10),\n",
    "    tf.keras.layers.Dense(1)\n",
    "])\n",
    "\n",
    "# 2. Compile the model\n",
    "insurance_model_4.compile(loss=tf.keras.losses.mae,\n",
    "                          optimizer=tf.keras.optimizers.Adam(),\n",
    "                          metrics=[\"mae\"])\n",
    "\n",
    "# 3. Fit the model\n",
    "insurance_model_4.fit(X_train_normal, y_train, epochs=100)"
   ],
   "metadata": {
    "collapsed": false,
    "ExecuteTime": {
     "end_time": "2024-01-01T07:36:49.447548464Z",
     "start_time": "2024-01-01T07:36:38.579764924Z"
    }
   },
   "id": "1e2657ffce7804e5",
   "execution_count": 65
  },
  {
   "cell_type": "code",
   "outputs": [
    {
     "name": "stdout",
     "output_type": "stream",
     "text": [
      "9/9 [==============================] - 0s 2ms/step - loss: 3436.5659 - mae: 3436.5659\n"
     ]
    },
    {
     "data": {
      "text/plain": "[3436.56591796875, 3436.56591796875]"
     },
     "execution_count": 66,
     "metadata": {},
     "output_type": "execute_result"
    }
   ],
   "source": [
    "# Evaluate our insurance model trained on normalized data\n",
    "insurance_model_4.evaluate(X_test_normal, y_test)"
   ],
   "metadata": {
    "collapsed": false,
    "ExecuteTime": {
     "end_time": "2024-01-01T07:36:52.314737666Z",
     "start_time": "2024-01-01T07:36:52.129185947Z"
    }
   },
   "id": "4fb3b657b6097d3",
   "execution_count": 66
  },
  {
   "cell_type": "code",
   "outputs": [],
   "source": [
    "# Insurance model 2 results\n",
    "# 9/9 [==============================] - 0s 8ms/step - loss: 4895.3872 - mae: 4895.3872"
   ],
   "metadata": {
    "collapsed": false,
    "ExecuteTime": {
     "end_time": "2024-01-01T07:36:54.882980447Z",
     "start_time": "2024-01-01T07:36:54.829170384Z"
    }
   },
   "id": "91e076f0b6a086c1",
   "execution_count": 67
  },
  {
   "cell_type": "code",
   "outputs": [
    {
     "name": "stdout",
     "output_type": "stream",
     "text": [
      "Model: \"sequential_6\"\n",
      "_________________________________________________________________\n",
      " Layer (type)                Output Shape              Param #   \n",
      "=================================================================\n",
      " dense_16 (Dense)            (None, 100)               1200      \n",
      "                                                                 \n",
      " dense_17 (Dense)            (None, 10)                1010      \n",
      "                                                                 \n",
      " dense_18 (Dense)            (None, 1)                 11        \n",
      "                                                                 \n",
      "=================================================================\n",
      "Total params: 2,221\n",
      "Trainable params: 2,221\n",
      "Non-trainable params: 0\n",
      "_________________________________________________________________\n"
     ]
    }
   ],
   "source": [
    "insurance_model_2.summary()"
   ],
   "metadata": {
    "collapsed": false,
    "ExecuteTime": {
     "end_time": "2024-01-01T07:36:56.989447108Z",
     "start_time": "2024-01-01T07:36:56.915852119Z"
    }
   },
   "id": "1c3942305d559523",
   "execution_count": 68
  },
  {
   "cell_type": "markdown",
   "source": [
    "Beautiful! Our data has been normalized and one hot encoded.\n",
    "Now let's build neural network model on it and see how it goes."
   ],
   "metadata": {
    "collapsed": false
   },
   "id": "d6820b5f46da4b9d"
  },
  {
   "cell_type": "code",
   "outputs": [
    {
     "data": {
      "text/plain": "<Axes: ylabel='Frequency'>"
     },
     "execution_count": 24,
     "metadata": {},
     "output_type": "execute_result"
    },
    {
     "data": {
      "text/plain": "<Figure size 640x480 with 1 Axes>",
      "image/png": "[encoded data removed]"
     },
     "metadata": {},
     "output_type": "display_data"
    }
   ],
   "source": [
    "X[\"age\"].plot(kind=\"hist\")"
   ],
   "metadata": {
    "collapsed": false,
    "ExecuteTime": {
     "end_time": "2024-01-01T04:11:21.273294327Z",
     "start_time": "2024-01-01T04:11:21.144427059Z"
    }
   },
   "id": "55f0b1c8e43799f2",
   "execution_count": 24
  },
  {
   "cell_type": "code",
   "outputs": [
    {
     "data": {
      "text/plain": "<Axes: ylabel='Frequency'>"
     },
     "execution_count": 28,
     "metadata": {},
     "output_type": "execute_result"
    },
    {
     "data": {
      "text/plain": "<Figure size 640x480 with 1 Axes>",
      "image/png": "[encoded data removed]"
     },
     "metadata": {},
     "output_type": "display_data"
    }
   ],
   "source": [
    "X[\"bmi\"].plot(kind=\"hist\")"
   ],
   "metadata": {
    "collapsed": false,
    "ExecuteTime": {
     "end_time": "2024-01-01T04:12:52.377000158Z",
     "start_time": "2024-01-01T04:12:52.212636931Z"
    }
   },
   "id": "15141e0658c7ff0d",
   "execution_count": 28
  },
  {
   "cell_type": "code",
   "outputs": [
    {
     "data": {
      "text/plain": "children\n0    574\n1    324\n2    240\n3    157\n4     25\n5     18\nName: count, dtype: int64"
     },
     "execution_count": 29,
     "metadata": {},
     "output_type": "execute_result"
    }
   ],
   "source": [
    "X[\"children\"].value_counts()"
   ],
   "metadata": {
    "collapsed": false,
    "ExecuteTime": {
     "end_time": "2024-01-01T04:14:28.836759212Z",
     "start_time": "2024-01-01T04:14:28.720274551Z"
    }
   },
   "id": "e0601d61f80cc28e",
   "execution_count": 29
  },
  {
   "cell_type": "code",
   "outputs": [],
   "source": [],
   "metadata": {
    "collapsed": false
   },
   "id": "48ee7614f72d2bd4"
  }
 ],
 "metadata": {
  "kernelspec": {
   "name": "python3",
   "language": "python",
   "display_name": "Python 3 (ipykernel)"
  },
  "language_info": {
   "codemirror_mode": {
    "name": "ipython",
    "version": 2
   },
   "file_extension": ".py",
   "mimetype": "text/x-python",
   "name": "python",
   "nbconvert_exporter": "python",
   "pygments_lexer": "ipython2",
   "version": "2.7.6"
  },
  "colab": {
   "provenance": [],
   "gpuType": "T4"
  },
  "accelerator": "GPU"
 },
 "nbformat": 4,
 "nbformat_minor": 5
}
