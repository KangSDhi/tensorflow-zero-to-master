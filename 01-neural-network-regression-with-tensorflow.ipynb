{
 "cells": [
  {
   "cell_type": "markdown",
   "source": [
    "# Introduction to Regression with Neural Networks in TensorFlow\n",
    "\n",
    "There are many definitions for regression problem but in our case, we're going to simplify it: predicting a numerical variable based on some other combination of variables, even shorther... predicting a number."
   ],
   "metadata": {
    "collapsed": false,
    "id": "6ebb1111b9c93791"
   },
   "id": "6ebb1111b9c93791"
  },
  {
   "cell_type": "code",
   "execution_count": 1,
   "outputs": [
    {
     "name": "stderr",
     "output_type": "stream",
     "text": [
      "2024-01-02 14:36:12.236955: I tensorflow/core/platform/cpu_feature_guard.cc:182] This TensorFlow binary is optimized to use available CPU instructions in performance-critical operations.\n",
      "To enable the following instructions: SSE4.1 SSE4.2 AVX AVX2 FMA, in other operations, rebuild TensorFlow with the appropriate compiler flags.\n"
     ]
    },
    {
     "name": "stdout",
     "output_type": "stream",
     "text": [
      "2.12.0\n"
     ]
    }
   ],
   "source": [
    "# Import TensorFlow\n",
    "import tensorflow as tf\n",
    "print(tf.__version__)"
   ],
   "metadata": {
    "colab": {
     "base_uri": "https://localhost:8080/"
    },
    "id": "d4e5f09eca05ca59",
    "executionInfo": {
     "status": "ok",
     "timestamp": 1696076685065,
     "user_tz": -420,
     "elapsed": 6829,
     "user": {
      "displayName": "kang sigit",
      "userId": "15887135570512197739"
     }
    },
    "outputId": "8fac66e9-5ff3-47cc-a5a1-950e6758ea44",
    "ExecuteTime": {
     "end_time": "2024-01-02T07:36:14.710563921Z",
     "start_time": "2024-01-02T07:36:11.905769204Z"
    }
   },
   "id": "d4e5f09eca05ca59"
  },
  {
   "cell_type": "markdown",
   "source": [
    "## Creating data to view and fit"
   ],
   "metadata": {
    "collapsed": false,
    "id": "8407fe85818d8aac"
   },
   "id": "8407fe85818d8aac"
  },
  {
   "cell_type": "code",
   "execution_count": 2,
   "outputs": [
    {
     "data": {
      "text/plain": "<matplotlib.collections.PathCollection at 0x7f65c27b6ad0>"
     },
     "execution_count": 2,
     "metadata": {},
     "output_type": "execute_result"
    },
    {
     "data": {
      "text/plain": "<Figure size 640x480 with 1 Axes>",
      "image/png": "[encoded data removed]"
     },
     "metadata": {},
     "output_type": "display_data"
    }
   ],
   "source": [
    "import numpy as np\n",
    "import matplotlib.pyplot as plt\n",
    "\n",
    "# Create features\n",
    "X = np.array([-7.0, -4.0, -1.0, 2.0, 5.0, 8.0, 11.0, 14.0])\n",
    "\n",
    "# Create labels\n",
    "y = np.array([3.0, 6.0, 9.0, 12.0, 15.0, 18.0, 21.0, 24.0])\n",
    "\n",
    "# Visualize it\n",
    "plt.scatter(X, y)"
   ],
   "metadata": {
    "colab": {
     "base_uri": "https://localhost:8080/",
     "height": 453
    },
    "id": "135387d48040aa65",
    "executionInfo": {
     "status": "ok",
     "timestamp": 1696076685066,
     "user_tz": -420,
     "elapsed": 7,
     "user": {
      "displayName": "kang sigit",
      "userId": "15887135570512197739"
     }
    },
    "outputId": "4c919eb6-14cb-4524-bef2-d3a95e3bc6a2",
    "ExecuteTime": {
     "end_time": "2024-01-02T07:37:00.857672049Z",
     "start_time": "2024-01-02T07:37:00.225373330Z"
    }
   },
   "id": "135387d48040aa65"
  },
  {
   "cell_type": "code",
   "execution_count": 3,
   "outputs": [
    {
     "data": {
      "text/plain": "array([ True,  True,  True,  True,  True,  True,  True,  True])"
     },
     "execution_count": 3,
     "metadata": {},
     "output_type": "execute_result"
    }
   ],
   "source": [
    "y == X + 10"
   ],
   "metadata": {
    "colab": {
     "base_uri": "https://localhost:8080/"
    },
    "id": "35d94d5b061cfa67",
    "executionInfo": {
     "status": "ok",
     "timestamp": 1696076685862,
     "user_tz": -420,
     "elapsed": 801,
     "user": {
      "displayName": "kang sigit",
      "userId": "15887135570512197739"
     }
    },
    "outputId": "fd62bc5a-e1d3-41a5-9d24-79c48cbf489f",
    "ExecuteTime": {
     "end_time": "2024-01-02T07:37:03.822379602Z",
     "start_time": "2024-01-02T07:37:03.759553527Z"
    }
   },
   "id": "35d94d5b061cfa67"
  },
  {
   "cell_type": "markdown",
   "source": [
    "## Input and output shapes"
   ],
   "metadata": {
    "collapsed": false,
    "id": "420b161819373fbe"
   },
   "id": "420b161819373fbe"
  },
  {
   "cell_type": "code",
   "execution_count": 4,
   "outputs": [
    {
     "name": "stderr",
     "output_type": "stream",
     "text": [
      "2024-01-02 14:37:06.144904: I tensorflow/core/common_runtime/process_util.cc:146] Creating new thread pool with default inter op setting: 2. Tune using inter_op_parallelism_threads for best performance.\n"
     ]
    },
    {
     "data": {
      "text/plain": "(<tf.Tensor: shape=(3,), dtype=string, numpy=array([b'bedroom', b'bathroom', b'garage'], dtype=object)>,\n <tf.Tensor: shape=(1,), dtype=int32, numpy=array([939700], dtype=int32)>)"
     },
     "execution_count": 4,
     "metadata": {},
     "output_type": "execute_result"
    }
   ],
   "source": [
    "# Create a demo tensor for our housing price prediction problem\n",
    "house_info = tf.constant([\"bedroom\", \"bathroom\", \"garage\"])\n",
    "house_price = tf.constant([939700])\n",
    "house_info, house_price"
   ],
   "metadata": {
    "colab": {
     "base_uri": "https://localhost:8080/"
    },
    "id": "f6848417caa4070a",
    "executionInfo": {
     "status": "ok",
     "timestamp": 1696076689508,
     "user_tz": -420,
     "elapsed": 3647,
     "user": {
      "displayName": "kang sigit",
      "userId": "15887135570512197739"
     }
    },
    "outputId": "17142d0f-133c-473d-c2fd-96a0713c7db2",
    "ExecuteTime": {
     "end_time": "2024-01-02T07:37:06.218519720Z",
     "start_time": "2024-01-02T07:37:06.186356180Z"
    }
   },
   "id": "f6848417caa4070a"
  },
  {
   "cell_type": "code",
   "execution_count": 5,
   "outputs": [
    {
     "data": {
      "text/plain": "(-7.0, 3.0)"
     },
     "execution_count": 5,
     "metadata": {},
     "output_type": "execute_result"
    }
   ],
   "source": [
    "X[0], y[0]"
   ],
   "metadata": {
    "colab": {
     "base_uri": "https://localhost:8080/"
    },
    "id": "2af8bcb603f84f47",
    "executionInfo": {
     "status": "ok",
     "timestamp": 1696076689508,
     "user_tz": -420,
     "elapsed": 37,
     "user": {
      "displayName": "kang sigit",
      "userId": "15887135570512197739"
     }
    },
    "outputId": "c3a03743-3370-4244-8d69-6afbcb61deb7",
    "ExecuteTime": {
     "end_time": "2024-01-02T07:37:08.959938047Z",
     "start_time": "2024-01-02T07:37:08.869290165Z"
    }
   },
   "id": "2af8bcb603f84f47"
  },
  {
   "cell_type": "code",
   "execution_count": 6,
   "outputs": [
    {
     "data": {
      "text/plain": "(-4.0, 6.0)"
     },
     "execution_count": 6,
     "metadata": {},
     "output_type": "execute_result"
    }
   ],
   "source": [
    "X[1], y[1]"
   ],
   "metadata": {
    "colab": {
     "base_uri": "https://localhost:8080/"
    },
    "id": "abfb4fe2f54c9ccd",
    "executionInfo": {
     "status": "ok",
     "timestamp": 1696076689508,
     "user_tz": -420,
     "elapsed": 29,
     "user": {
      "displayName": "kang sigit",
      "userId": "15887135570512197739"
     }
    },
    "outputId": "7bfcf3da-00f5-421c-ae7e-d5586e94b2fc",
    "ExecuteTime": {
     "end_time": "2024-01-02T07:37:17.893222453Z",
     "start_time": "2024-01-02T07:37:17.841731Z"
    }
   },
   "id": "abfb4fe2f54c9ccd"
  },
  {
   "cell_type": "code",
   "execution_count": 7,
   "outputs": [
    {
     "data": {
      "text/plain": "((), ())"
     },
     "execution_count": 7,
     "metadata": {},
     "output_type": "execute_result"
    }
   ],
   "source": [
    "input_shape = X[0].shape\n",
    "output_shape = y[0].shape\n",
    "input_shape, output_shape"
   ],
   "metadata": {
    "colab": {
     "base_uri": "https://localhost:8080/"
    },
    "id": "7ae73a2555815544",
    "executionInfo": {
     "status": "ok",
     "timestamp": 1696076689508,
     "user_tz": -420,
     "elapsed": 23,
     "user": {
      "displayName": "kang sigit",
      "userId": "15887135570512197739"
     }
    },
    "outputId": "c337f811-f992-417d-dba7-d3ccd3ced685",
    "ExecuteTime": {
     "end_time": "2024-01-02T07:37:18.661955179Z",
     "start_time": "2024-01-02T07:37:18.604031900Z"
    }
   },
   "id": "7ae73a2555815544"
  },
  {
   "cell_type": "code",
   "execution_count": 8,
   "outputs": [
    {
     "data": {
      "text/plain": "0"
     },
     "execution_count": 8,
     "metadata": {},
     "output_type": "execute_result"
    }
   ],
   "source": [
    "X[0].ndim"
   ],
   "metadata": {
    "colab": {
     "base_uri": "https://localhost:8080/"
    },
    "id": "8a2ef4c080258f67",
    "executionInfo": {
     "status": "ok",
     "timestamp": 1696076689508,
     "user_tz": -420,
     "elapsed": 17,
     "user": {
      "displayName": "kang sigit",
      "userId": "15887135570512197739"
     }
    },
    "outputId": "e61e1f1e-abc2-491b-9b2c-7f68a7adfc6c",
    "ExecuteTime": {
     "end_time": "2024-01-02T07:37:22.058045797Z",
     "start_time": "2024-01-02T07:37:21.997006006Z"
    }
   },
   "id": "8a2ef4c080258f67"
  },
  {
   "cell_type": "code",
   "execution_count": 9,
   "outputs": [
    {
     "data": {
      "text/plain": "(-7.0, 3.0)"
     },
     "execution_count": 9,
     "metadata": {},
     "output_type": "execute_result"
    }
   ],
   "source": [
    "X[0], y[0]"
   ],
   "metadata": {
    "colab": {
     "base_uri": "https://localhost:8080/"
    },
    "id": "8dfe9ccbe865992c",
    "executionInfo": {
     "status": "ok",
     "timestamp": 1696076689509,
     "user_tz": -420,
     "elapsed": 14,
     "user": {
      "displayName": "kang sigit",
      "userId": "15887135570512197739"
     }
    },
    "outputId": "d24feca7-e1d3-4194-e935-2ed8a9d36ff4",
    "ExecuteTime": {
     "end_time": "2024-01-02T07:37:23.122420377Z",
     "start_time": "2024-01-02T07:37:23.038627738Z"
    }
   },
   "id": "8dfe9ccbe865992c"
  },
  {
   "cell_type": "code",
   "execution_count": 10,
   "outputs": [
    {
     "data": {
      "text/plain": "(<tf.Tensor: shape=(8,), dtype=float32, numpy=array([-7., -4., -1.,  2.,  5.,  8., 11., 14.], dtype=float32)>,\n <tf.Tensor: shape=(8,), dtype=float32, numpy=array([ 3.,  6.,  9., 12., 15., 18., 21., 24.], dtype=float32)>)"
     },
     "execution_count": 10,
     "metadata": {},
     "output_type": "execute_result"
    }
   ],
   "source": [
    "# Turn our NumPy arrays into tensors with dtype float32\n",
    "X = tf.cast(tf.constant(X), dtype=tf.float32)\n",
    "y = tf.cast(tf.constant(y), dtype=tf.float32)\n",
    "X, y"
   ],
   "metadata": {
    "colab": {
     "base_uri": "https://localhost:8080/"
    },
    "id": "77e963d826e1c5ee",
    "executionInfo": {
     "status": "ok",
     "timestamp": 1696076689509,
     "user_tz": -420,
     "elapsed": 12,
     "user": {
      "displayName": "kang sigit",
      "userId": "15887135570512197739"
     }
    },
    "outputId": "b37e8890-b951-42d6-dd98-70b7876abe48",
    "ExecuteTime": {
     "end_time": "2024-01-02T07:37:24.627498132Z",
     "start_time": "2024-01-02T07:37:24.573247205Z"
    }
   },
   "id": "77e963d826e1c5ee"
  },
  {
   "cell_type": "code",
   "execution_count": 11,
   "outputs": [
    {
     "data": {
      "text/plain": "(TensorShape([]), TensorShape([]))"
     },
     "execution_count": 11,
     "metadata": {},
     "output_type": "execute_result"
    }
   ],
   "source": [
    "input_shape = X[0].shape\n",
    "output_shape = y[0].shape\n",
    "input_shape, output_shape"
   ],
   "metadata": {
    "colab": {
     "base_uri": "https://localhost:8080/"
    },
    "id": "14e27954e5032236",
    "executionInfo": {
     "status": "ok",
     "timestamp": 1696076689509,
     "user_tz": -420,
     "elapsed": 9,
     "user": {
      "displayName": "kang sigit",
      "userId": "15887135570512197739"
     }
    },
    "outputId": "56cd997f-b119-47d1-a2ec-58393a29ffe8",
    "ExecuteTime": {
     "end_time": "2024-01-02T07:37:25.689255423Z",
     "start_time": "2024-01-02T07:37:25.628726616Z"
    }
   },
   "id": "14e27954e5032236"
  },
  {
   "cell_type": "code",
   "execution_count": 12,
   "outputs": [
    {
     "data": {
      "text/plain": "<matplotlib.collections.PathCollection at 0x7f65c297f890>"
     },
     "execution_count": 12,
     "metadata": {},
     "output_type": "execute_result"
    },
    {
     "data": {
      "text/plain": "<Figure size 640x480 with 1 Axes>",
      "image/png": "[encoded data removed]"
     },
     "metadata": {},
     "output_type": "display_data"
    }
   ],
   "source": [
    "plt.scatter(X, y)"
   ],
   "metadata": {
    "colab": {
     "base_uri": "https://localhost:8080/",
     "height": 453
    },
    "id": "e697df78c938eedc",
    "executionInfo": {
     "status": "ok",
     "timestamp": 1696076690202,
     "user_tz": -420,
     "elapsed": 700,
     "user": {
      "displayName": "kang sigit",
      "userId": "15887135570512197739"
     }
    },
    "outputId": "67448415-bb04-4f88-a157-eed404725c38",
    "ExecuteTime": {
     "end_time": "2024-01-02T07:37:26.932031762Z",
     "start_time": "2024-01-02T07:37:26.789585279Z"
    }
   },
   "id": "e697df78c938eedc"
  },
  {
   "cell_type": "markdown",
   "source": [
    "## Steps in modeling with TensorFlow\n",
    "\n",
    "1. **Creating a model** - define the input and output layers, as well as the hidden layers of a deep learning model.\n",
    "2. **Compiling a model** - define the loss function (in other words, the function which tells our model how wrong it is) and the optimizer (tells our model how to improve the patterns its learning) and evaluation metrics (what we can use to interpret the performance our model).\n",
    "3. **Fitting a model** - letting the model try to find patterns between X & y (features and labels)."
   ],
   "metadata": {
    "collapsed": false,
    "id": "e9796f121f9b42fe"
   },
   "id": "e9796f121f9b42fe"
  },
  {
   "cell_type": "code",
   "execution_count": 13,
   "outputs": [],
   "source": [
    "# # Optionally, the first layer can receive an `input_shape` argument:\n",
    "# model = tf.keras.Sequential()\n",
    "# model.add(tf.keras.layers.Dense(8, input_shape=(16,)))\n",
    "# # Afterwards, we do automatic shape inference:\n",
    "# model.add(tf.keras.layers.Dense(4))\n",
    "#\n",
    "# model = tf.keras.Sequential()\n",
    "# model.add(tf.keras.layers.Dense(8, input_shape=(16, )))\n",
    "# ...\n",
    "#\n",
    "# model = tf.keras.Sequential()\n",
    "# model.add(tf.keras.layers.Dense(1))"
   ],
   "metadata": {
    "id": "e65f811a3ad5e9e1",
    "executionInfo": {
     "status": "ok",
     "timestamp": 1696076690202,
     "user_tz": -420,
     "elapsed": 6,
     "user": {
      "displayName": "kang sigit",
      "userId": "15887135570512197739"
     }
    },
    "ExecuteTime": {
     "end_time": "2024-01-02T07:37:28.794737505Z",
     "start_time": "2024-01-02T07:37:28.740794788Z"
    }
   },
   "id": "e65f811a3ad5e9e1"
  },
  {
   "cell_type": "code",
   "execution_count": 14,
   "outputs": [
    {
     "name": "stdout",
     "output_type": "stream",
     "text": [
      "Epoch 1/5\n",
      "1/1 [==============================] - 0s 360ms/step - loss: 17.1134 - mae: 17.1134\n",
      "Epoch 2/5\n",
      "1/1 [==============================] - 0s 4ms/step - loss: 16.8322 - mae: 16.8322\n",
      "Epoch 3/5\n",
      "1/1 [==============================] - 0s 4ms/step - loss: 16.5509 - mae: 16.5509\n",
      "Epoch 4/5\n",
      "1/1 [==============================] - 0s 6ms/step - loss: 16.2697 - mae: 16.2697\n",
      "Epoch 5/5\n",
      "1/1 [==============================] - 0s 5ms/step - loss: 15.9884 - mae: 15.9884\n"
     ]
    },
    {
     "data": {
      "text/plain": "<keras.callbacks.History at 0x7f65c269a2d0>"
     },
     "execution_count": 14,
     "metadata": {},
     "output_type": "execute_result"
    }
   ],
   "source": [
    "# Set random seed\n",
    "tf.random.set_seed(42)\n",
    "\n",
    "# 1. Create a model using the Sequential API\n",
    "model = tf.keras.Sequential([\n",
    "    tf.keras.layers.Dense(1)\n",
    "])\n",
    "\n",
    "# 2. Compile the model\n",
    "model.compile(loss=tf.keras.losses.mae, # mae is short for mean absolute error\n",
    "              optimizer=tf.keras.optimizers.SGD(), # sgd is short for stochstic gradient descent\n",
    "              metrics=[\"mae\"])\n",
    "\n",
    "# 3. Fit the model\n",
    "# model.fit(X, y, epochs=5) # This line will error if you're running TensorFlow 2.7.0+!\n",
    "model.fit(tf.expand_dims(X, axis=-1), y, epochs=5)"
   ],
   "metadata": {
    "colab": {
     "base_uri": "https://localhost:8080/"
    },
    "id": "cc71e5f4aac7d8a6",
    "executionInfo": {
     "status": "ok",
     "timestamp": 1696076701552,
     "user_tz": -420,
     "elapsed": 11356,
     "user": {
      "displayName": "kang sigit",
      "userId": "15887135570512197739"
     }
    },
    "outputId": "9fd356b1-7413-439f-c3d2-b533cbde237b",
    "ExecuteTime": {
     "end_time": "2024-01-02T07:37:30.969758385Z",
     "start_time": "2024-01-02T07:37:30.344963362Z"
    }
   },
   "id": "cc71e5f4aac7d8a6"
  },
  {
   "cell_type": "code",
   "execution_count": 15,
   "outputs": [
    {
     "data": {
      "text/plain": "(<tf.Tensor: shape=(8,), dtype=float32, numpy=array([-7., -4., -1.,  2.,  5.,  8., 11., 14.], dtype=float32)>,\n <tf.Tensor: shape=(8,), dtype=float32, numpy=array([ 3.,  6.,  9., 12., 15., 18., 21., 24.], dtype=float32)>)"
     },
     "execution_count": 15,
     "metadata": {},
     "output_type": "execute_result"
    }
   ],
   "source": [
    "# Check out X and y\n",
    "X, y"
   ],
   "metadata": {
    "colab": {
     "base_uri": "https://localhost:8080/"
    },
    "id": "b1b4a1c994642378",
    "executionInfo": {
     "status": "ok",
     "timestamp": 1696076701553,
     "user_tz": -420,
     "elapsed": 7,
     "user": {
      "displayName": "kang sigit",
      "userId": "15887135570512197739"
     }
    },
    "outputId": "aee68bdb-665e-4b01-9458-935836d47971",
    "ExecuteTime": {
     "end_time": "2024-01-02T07:37:37.851182705Z",
     "start_time": "2024-01-02T07:37:37.804610918Z"
    }
   },
   "id": "b1b4a1c994642378"
  },
  {
   "cell_type": "code",
   "execution_count": 16,
   "outputs": [
    {
     "name": "stdout",
     "output_type": "stream",
     "text": [
      "1/1 [==============================] - 0s 97ms/step\n"
     ]
    },
    {
     "data": {
      "text/plain": "array([[-9.6292095]], dtype=float32)"
     },
     "execution_count": 16,
     "metadata": {},
     "output_type": "execute_result"
    }
   ],
   "source": [
    "# Try and make a prediction using our model\n",
    "y_pred = model.predict([17.0])\n",
    "y_pred"
   ],
   "metadata": {
    "colab": {
     "base_uri": "https://localhost:8080/"
    },
    "id": "6c9feaa2ed2266c8",
    "executionInfo": {
     "status": "ok",
     "timestamp": 1696076702180,
     "user_tz": -420,
     "elapsed": 631,
     "user": {
      "displayName": "kang sigit",
      "userId": "15887135570512197739"
     }
    },
    "outputId": "2fe08450-005e-44df-934c-53ebd9df5b33",
    "ExecuteTime": {
     "end_time": "2024-01-02T07:37:41.036234904Z",
     "start_time": "2024-01-02T07:37:40.900152039Z"
    }
   },
   "id": "6c9feaa2ed2266c8"
  },
  {
   "cell_type": "code",
   "execution_count": 17,
   "outputs": [
    {
     "data": {
      "text/plain": "array([[-0.6292095]], dtype=float32)"
     },
     "execution_count": 17,
     "metadata": {},
     "output_type": "execute_result"
    }
   ],
   "source": [
    "y_pred + 9"
   ],
   "metadata": {
    "colab": {
     "base_uri": "https://localhost:8080/"
    },
    "id": "6ac8363b8e315b33",
    "executionInfo": {
     "status": "ok",
     "timestamp": 1696076702181,
     "user_tz": -420,
     "elapsed": 12,
     "user": {
      "displayName": "kang sigit",
      "userId": "15887135570512197739"
     }
    },
    "outputId": "c034514e-5d78-42d8-ccc3-9ad275e6357a",
    "ExecuteTime": {
     "end_time": "2024-01-02T07:37:46.386329702Z",
     "start_time": "2024-01-02T07:37:46.295030995Z"
    }
   },
   "id": "6ac8363b8e315b33"
  },
  {
   "cell_type": "markdown",
   "source": [
    "## Improving our model\n",
    "\n",
    "We can improve our model, by altering the steps we took to create a model.\n",
    "\n",
    "1. **Creating a model** - here we might add more layers, increase the number of hidden units (all called neurons) within each of the hidden layers, change the activation function of each layer.\n",
    "2. **Compiling a model** - here we might change the optimization function or perhaps the **learning rate** of the optimization function.\n",
    "3. **Fitting a model** - here we might fit a model for more **epochs** (leave it training for longer) or on more data (give the model more examples to learn from)."
   ],
   "metadata": {
    "collapsed": false,
    "id": "ee325f78f13dbc6f"
   },
   "id": "ee325f78f13dbc6f"
  },
  {
   "cell_type": "code",
   "execution_count": 18,
   "outputs": [
    {
     "name": "stdout",
     "output_type": "stream",
     "text": [
      "Epoch 1/100\n",
      "1/1 [==============================] - 0s 259ms/step - loss: 14.3355 - mae: 14.3355\n",
      "Epoch 2/100\n",
      "1/1 [==============================] - 0s 3ms/step - loss: 14.2030 - mae: 14.2030\n",
      "Epoch 3/100\n",
      "1/1 [==============================] - 0s 3ms/step - loss: 14.0705 - mae: 14.0705\n",
      "Epoch 4/100\n",
      "1/1 [==============================] - 0s 3ms/step - loss: 13.9380 - mae: 13.9380\n",
      "Epoch 5/100\n",
      "1/1 [==============================] - 0s 5ms/step - loss: 13.8055 - mae: 13.8055\n",
      "Epoch 6/100\n",
      "1/1 [==============================] - 0s 5ms/step - loss: 13.6730 - mae: 13.6730\n",
      "Epoch 7/100\n",
      "1/1 [==============================] - 0s 5ms/step - loss: 13.5405 - mae: 13.5405\n",
      "Epoch 8/100\n",
      "1/1 [==============================] - 0s 6ms/step - loss: 13.4080 - mae: 13.4080\n",
      "Epoch 9/100\n",
      "1/1 [==============================] - 0s 4ms/step - loss: 13.2755 - mae: 13.2755\n",
      "Epoch 10/100\n",
      "1/1 [==============================] - 0s 7ms/step - loss: 13.1430 - mae: 13.1430\n",
      "Epoch 11/100\n",
      "1/1 [==============================] - 0s 5ms/step - loss: 13.0105 - mae: 13.0105\n",
      "Epoch 12/100\n",
      "1/1 [==============================] - 0s 4ms/step - loss: 12.8780 - mae: 12.8780\n",
      "Epoch 13/100\n",
      "1/1 [==============================] - 0s 4ms/step - loss: 12.7455 - mae: 12.7455\n",
      "Epoch 14/100\n",
      "1/1 [==============================] - 0s 4ms/step - loss: 12.6130 - mae: 12.6130\n",
      "Epoch 15/100\n",
      "1/1 [==============================] - 0s 6ms/step - loss: 12.4805 - mae: 12.4805\n",
      "Epoch 16/100\n",
      "1/1 [==============================] - 0s 6ms/step - loss: 12.3480 - mae: 12.3480\n",
      "Epoch 17/100\n",
      "1/1 [==============================] - 0s 5ms/step - loss: 12.2155 - mae: 12.2155\n",
      "Epoch 18/100\n",
      "1/1 [==============================] - 0s 5ms/step - loss: 12.0830 - mae: 12.0830\n",
      "Epoch 19/100\n",
      "1/1 [==============================] - 0s 5ms/step - loss: 11.9505 - mae: 11.9505\n",
      "Epoch 20/100\n",
      "1/1 [==============================] - 0s 5ms/step - loss: 11.8180 - mae: 11.8180\n",
      "Epoch 21/100\n",
      "1/1 [==============================] - 0s 5ms/step - loss: 11.6855 - mae: 11.6855\n",
      "Epoch 22/100\n",
      "1/1 [==============================] - 0s 6ms/step - loss: 11.5530 - mae: 11.5530\n",
      "Epoch 23/100\n",
      "1/1 [==============================] - 0s 5ms/step - loss: 11.4205 - mae: 11.4205\n",
      "Epoch 24/100\n",
      "1/1 [==============================] - 0s 5ms/step - loss: 11.2880 - mae: 11.2880\n",
      "Epoch 25/100\n",
      "1/1 [==============================] - 0s 4ms/step - loss: 11.1555 - mae: 11.1555\n",
      "Epoch 26/100\n",
      "1/1 [==============================] - 0s 4ms/step - loss: 11.0230 - mae: 11.0230\n",
      "Epoch 27/100\n",
      "1/1 [==============================] - 0s 4ms/step - loss: 10.8905 - mae: 10.8905\n",
      "Epoch 28/100\n",
      "1/1 [==============================] - 0s 5ms/step - loss: 10.7580 - mae: 10.7580\n",
      "Epoch 29/100\n",
      "1/1 [==============================] - 0s 4ms/step - loss: 10.6255 - mae: 10.6255\n",
      "Epoch 30/100\n",
      "1/1 [==============================] - 0s 4ms/step - loss: 10.4930 - mae: 10.4930\n",
      "Epoch 31/100\n",
      "1/1 [==============================] - 0s 4ms/step - loss: 10.3605 - mae: 10.3605\n",
      "Epoch 32/100\n",
      "1/1 [==============================] - 0s 4ms/step - loss: 10.2280 - mae: 10.2280\n",
      "Epoch 33/100\n",
      "1/1 [==============================] - 0s 5ms/step - loss: 10.0955 - mae: 10.0955\n",
      "Epoch 34/100\n",
      "1/1 [==============================] - 0s 5ms/step - loss: 9.9630 - mae: 9.9630\n",
      "Epoch 35/100\n",
      "1/1 [==============================] - 0s 5ms/step - loss: 9.8305 - mae: 9.8305\n",
      "Epoch 36/100\n",
      "1/1 [==============================] - 0s 4ms/step - loss: 9.6980 - mae: 9.6980\n",
      "Epoch 37/100\n",
      "1/1 [==============================] - 0s 5ms/step - loss: 9.5655 - mae: 9.5655\n",
      "Epoch 38/100\n",
      "1/1 [==============================] - 0s 4ms/step - loss: 9.4330 - mae: 9.4330\n",
      "Epoch 39/100\n",
      "1/1 [==============================] - 0s 5ms/step - loss: 9.3005 - mae: 9.3005\n",
      "Epoch 40/100\n",
      "1/1 [==============================] - 0s 4ms/step - loss: 9.1680 - mae: 9.1680\n",
      "Epoch 41/100\n",
      "1/1 [==============================] - 0s 4ms/step - loss: 9.0355 - mae: 9.0355\n",
      "Epoch 42/100\n",
      "1/1 [==============================] - 0s 4ms/step - loss: 8.9030 - mae: 8.9030\n",
      "Epoch 43/100\n",
      "1/1 [==============================] - 0s 5ms/step - loss: 8.7705 - mae: 8.7705\n",
      "Epoch 44/100\n",
      "1/1 [==============================] - 0s 4ms/step - loss: 8.6380 - mae: 8.6380\n",
      "Epoch 45/100\n",
      "1/1 [==============================] - 0s 4ms/step - loss: 8.5055 - mae: 8.5055\n",
      "Epoch 46/100\n",
      "1/1 [==============================] - 0s 3ms/step - loss: 8.3730 - mae: 8.3730\n",
      "Epoch 47/100\n",
      "1/1 [==============================] - 0s 4ms/step - loss: 8.2405 - mae: 8.2405\n",
      "Epoch 48/100\n",
      "1/1 [==============================] - 0s 4ms/step - loss: 8.1080 - mae: 8.1080\n",
      "Epoch 49/100\n",
      "1/1 [==============================] - 0s 5ms/step - loss: 7.9755 - mae: 7.9755\n",
      "Epoch 50/100\n",
      "1/1 [==============================] - 0s 4ms/step - loss: 7.8430 - mae: 7.8430\n",
      "Epoch 51/100\n",
      "1/1 [==============================] - 0s 5ms/step - loss: 7.7105 - mae: 7.7105\n",
      "Epoch 52/100\n",
      "1/1 [==============================] - 0s 4ms/step - loss: 7.5780 - mae: 7.5780\n",
      "Epoch 53/100\n",
      "1/1 [==============================] - 0s 4ms/step - loss: 7.4455 - mae: 7.4455\n",
      "Epoch 54/100\n",
      "1/1 [==============================] - 0s 5ms/step - loss: 7.3130 - mae: 7.3130\n",
      "Epoch 55/100\n",
      "1/1 [==============================] - 0s 4ms/step - loss: 7.1805 - mae: 7.1805\n",
      "Epoch 56/100\n",
      "1/1 [==============================] - 0s 4ms/step - loss: 7.0875 - mae: 7.0875\n",
      "Epoch 57/100\n",
      "1/1 [==============================] - 0s 4ms/step - loss: 7.0819 - mae: 7.0819\n",
      "Epoch 58/100\n",
      "1/1 [==============================] - 0s 4ms/step - loss: 7.0763 - mae: 7.0763\n",
      "Epoch 59/100\n",
      "1/1 [==============================] - 0s 6ms/step - loss: 7.0706 - mae: 7.0706\n",
      "Epoch 60/100\n",
      "1/1 [==============================] - 0s 10ms/step - loss: 7.0650 - mae: 7.0650\n",
      "Epoch 61/100\n",
      "1/1 [==============================] - 0s 6ms/step - loss: 7.0594 - mae: 7.0594\n",
      "Epoch 62/100\n",
      "1/1 [==============================] - 0s 5ms/step - loss: 7.0538 - mae: 7.0538\n",
      "Epoch 63/100\n",
      "1/1 [==============================] - 0s 4ms/step - loss: 7.0481 - mae: 7.0481\n",
      "Epoch 64/100\n",
      "1/1 [==============================] - 0s 4ms/step - loss: 7.0425 - mae: 7.0425\n",
      "Epoch 65/100\n",
      "1/1 [==============================] - 0s 4ms/step - loss: 7.0369 - mae: 7.0369\n",
      "Epoch 66/100\n",
      "1/1 [==============================] - 0s 5ms/step - loss: 7.0312 - mae: 7.0312\n",
      "Epoch 67/100\n",
      "1/1 [==============================] - 0s 5ms/step - loss: 7.0256 - mae: 7.0256\n",
      "Epoch 68/100\n",
      "1/1 [==============================] - 0s 4ms/step - loss: 7.0200 - mae: 7.0200\n",
      "Epoch 69/100\n",
      "1/1 [==============================] - 0s 4ms/step - loss: 7.0144 - mae: 7.0144\n",
      "Epoch 70/100\n",
      "1/1 [==============================] - 0s 3ms/step - loss: 7.0087 - mae: 7.0087\n",
      "Epoch 71/100\n",
      "1/1 [==============================] - 0s 3ms/step - loss: 7.0031 - mae: 7.0031\n",
      "Epoch 72/100\n",
      "1/1 [==============================] - 0s 3ms/step - loss: 6.9975 - mae: 6.9975\n",
      "Epoch 73/100\n",
      "1/1 [==============================] - 0s 3ms/step - loss: 6.9919 - mae: 6.9919\n",
      "Epoch 74/100\n",
      "1/1 [==============================] - 0s 6ms/step - loss: 6.9862 - mae: 6.9862\n",
      "Epoch 75/100\n",
      "1/1 [==============================] - 0s 4ms/step - loss: 6.9806 - mae: 6.9806\n",
      "Epoch 76/100\n",
      "1/1 [==============================] - 0s 4ms/step - loss: 6.9750 - mae: 6.9750\n",
      "Epoch 77/100\n",
      "1/1 [==============================] - 0s 3ms/step - loss: 6.9694 - mae: 6.9694\n",
      "Epoch 78/100\n",
      "1/1 [==============================] - 0s 3ms/step - loss: 6.9637 - mae: 6.9637\n",
      "Epoch 79/100\n",
      "1/1 [==============================] - 0s 5ms/step - loss: 6.9581 - mae: 6.9581\n",
      "Epoch 80/100\n",
      "1/1 [==============================] - 0s 4ms/step - loss: 6.9525 - mae: 6.9525\n",
      "Epoch 81/100\n",
      "1/1 [==============================] - 0s 3ms/step - loss: 6.9469 - mae: 6.9469\n",
      "Epoch 82/100\n",
      "1/1 [==============================] - 0s 3ms/step - loss: 6.9412 - mae: 6.9412\n",
      "Epoch 83/100\n",
      "1/1 [==============================] - 0s 3ms/step - loss: 6.9356 - mae: 6.9356\n",
      "Epoch 84/100\n",
      "1/1 [==============================] - 0s 4ms/step - loss: 6.9300 - mae: 6.9300\n",
      "Epoch 85/100\n",
      "1/1 [==============================] - 0s 5ms/step - loss: 6.9244 - mae: 6.9244\n",
      "Epoch 86/100\n",
      "1/1 [==============================] - 0s 4ms/step - loss: 6.9188 - mae: 6.9188\n",
      "Epoch 87/100\n",
      "1/1 [==============================] - 0s 3ms/step - loss: 6.9131 - mae: 6.9131\n",
      "Epoch 88/100\n",
      "1/1 [==============================] - 0s 4ms/step - loss: 6.9075 - mae: 6.9075\n",
      "Epoch 89/100\n",
      "1/1 [==============================] - 0s 5ms/step - loss: 6.9019 - mae: 6.9019\n",
      "Epoch 90/100\n",
      "1/1 [==============================] - 0s 4ms/step - loss: 6.8962 - mae: 6.8962\n",
      "Epoch 91/100\n",
      "1/1 [==============================] - 0s 4ms/step - loss: 6.8906 - mae: 6.8906\n",
      "Epoch 92/100\n",
      "1/1 [==============================] - 0s 4ms/step - loss: 6.8850 - mae: 6.8850\n",
      "Epoch 93/100\n",
      "1/1 [==============================] - 0s 4ms/step - loss: 6.8794 - mae: 6.8794\n",
      "Epoch 94/100\n",
      "1/1 [==============================] - 0s 4ms/step - loss: 6.8738 - mae: 6.8738\n",
      "Epoch 95/100\n",
      "1/1 [==============================] - 0s 6ms/step - loss: 6.8681 - mae: 6.8681\n",
      "Epoch 96/100\n",
      "1/1 [==============================] - 0s 4ms/step - loss: 6.8625 - mae: 6.8625\n",
      "Epoch 97/100\n",
      "1/1 [==============================] - 0s 4ms/step - loss: 6.8569 - mae: 6.8569\n",
      "Epoch 98/100\n",
      "1/1 [==============================] - 0s 4ms/step - loss: 6.8513 - mae: 6.8513\n",
      "Epoch 99/100\n",
      "1/1 [==============================] - 0s 4ms/step - loss: 6.8456 - mae: 6.8456\n",
      "Epoch 100/100\n",
      "1/1 [==============================] - 0s 4ms/step - loss: 6.8400 - mae: 6.8400\n"
     ]
    },
    {
     "data": {
      "text/plain": "<keras.callbacks.History at 0x7f65c05a4bd0>"
     },
     "execution_count": 18,
     "metadata": {},
     "output_type": "execute_result"
    }
   ],
   "source": [
    "# Let's rebuild our model\n",
    "\n",
    "# 1. Create the model\n",
    "model = tf.keras.Sequential([\n",
    "    tf.keras.layers.Dense(1)\n",
    "])\n",
    "\n",
    "# 2. Compile the model\n",
    "model.compile(loss=tf.keras.losses.mae,\n",
    "              optimizer=tf.keras.optimizers.SGD(),\n",
    "              metrics=[\"mae\"])\n",
    "\n",
    "# 3. Fit the model (this time we'll train for longer)\n",
    "model.fit(tf.expand_dims(X, axis=-1), y, epochs=100)"
   ],
   "metadata": {
    "colab": {
     "base_uri": "https://localhost:8080/"
    },
    "id": "b26232423384ab79",
    "executionInfo": {
     "status": "ok",
     "timestamp": 1696076704042,
     "user_tz": -420,
     "elapsed": 1871,
     "user": {
      "displayName": "kang sigit",
      "userId": "15887135570512197739"
     }
    },
    "outputId": "af574b45-f9db-41fa-835c-d7000afb014d",
    "ExecuteTime": {
     "end_time": "2024-01-02T07:37:52.197482750Z",
     "start_time": "2024-01-02T07:37:50.949159890Z"
    }
   },
   "id": "b26232423384ab79"
  },
  {
   "cell_type": "code",
   "execution_count": 19,
   "outputs": [
    {
     "data": {
      "text/plain": "(<tf.Tensor: shape=(8,), dtype=float32, numpy=array([-7., -4., -1.,  2.,  5.,  8., 11., 14.], dtype=float32)>,\n <tf.Tensor: shape=(8,), dtype=float32, numpy=array([ 3.,  6.,  9., 12., 15., 18., 21., 24.], dtype=float32)>)"
     },
     "execution_count": 19,
     "metadata": {},
     "output_type": "execute_result"
    }
   ],
   "source": [
    "# Reminder ourselves of the data\n",
    "X, y"
   ],
   "metadata": {
    "colab": {
     "base_uri": "https://localhost:8080/"
    },
    "id": "e9b4e45adea19edc",
    "executionInfo": {
     "status": "ok",
     "timestamp": 1696076704043,
     "user_tz": -420,
     "elapsed": 13,
     "user": {
      "displayName": "kang sigit",
      "userId": "15887135570512197739"
     }
    },
    "outputId": "9c3ea1ed-df93-4a29-8624-0d0df70f77b5",
    "ExecuteTime": {
     "end_time": "2024-01-02T07:37:59.642224678Z",
     "start_time": "2024-01-02T07:37:59.601455499Z"
    }
   },
   "id": "e9b4e45adea19edc"
  },
  {
   "cell_type": "code",
   "execution_count": 20,
   "outputs": [
    {
     "name": "stdout",
     "output_type": "stream",
     "text": [
      "1/1 [==============================] - 0s 58ms/step\n"
     ]
    },
    {
     "data": {
      "text/plain": "array([[29.554466]], dtype=float32)"
     },
     "execution_count": 20,
     "metadata": {},
     "output_type": "execute_result"
    }
   ],
   "source": [
    "# Let's see if our model's prediction has improved...\n",
    "model.predict([17.0])"
   ],
   "metadata": {
    "colab": {
     "base_uri": "https://localhost:8080/"
    },
    "id": "4fa1532cec878a87",
    "executionInfo": {
     "status": "ok",
     "timestamp": 1696076704043,
     "user_tz": -420,
     "elapsed": 7,
     "user": {
      "displayName": "kang sigit",
      "userId": "15887135570512197739"
     }
    },
    "outputId": "c3db728e-15ba-48ed-b577-524225c39d2d",
    "ExecuteTime": {
     "end_time": "2024-01-02T07:38:00.631840401Z",
     "start_time": "2024-01-02T07:38:00.523601526Z"
    }
   },
   "id": "4fa1532cec878a87"
  },
  {
   "cell_type": "code",
   "execution_count": 21,
   "outputs": [
    {
     "name": "stdout",
     "output_type": "stream",
     "text": [
      "Epoch 1/100\n",
      "1/1 [==============================] - 0s 420ms/step - loss: 13.3621 - mae: 13.3621\n",
      "Epoch 2/100\n",
      "1/1 [==============================] - 0s 8ms/step - loss: 12.6732 - mae: 12.6732\n",
      "Epoch 3/100\n",
      "1/1 [==============================] - 0s 9ms/step - loss: 11.9748 - mae: 11.9748\n",
      "Epoch 4/100\n",
      "1/1 [==============================] - 0s 9ms/step - loss: 11.2658 - mae: 11.2658\n",
      "Epoch 5/100\n",
      "1/1 [==============================] - 0s 12ms/step - loss: 10.5450 - mae: 10.5450\n",
      "Epoch 6/100\n",
      "1/1 [==============================] - 0s 11ms/step - loss: 9.8104 - mae: 9.8104\n",
      "Epoch 7/100\n",
      "1/1 [==============================] - 0s 13ms/step - loss: 9.0593 - mae: 9.0593\n",
      "Epoch 8/100\n",
      "1/1 [==============================] - 0s 17ms/step - loss: 8.2887 - mae: 8.2887\n",
      "Epoch 9/100\n",
      "1/1 [==============================] - 0s 10ms/step - loss: 7.4962 - mae: 7.4962\n",
      "Epoch 10/100\n",
      "1/1 [==============================] - 0s 14ms/step - loss: 6.8099 - mae: 6.8099\n",
      "Epoch 11/100\n",
      "1/1 [==============================] - 0s 9ms/step - loss: 6.8670 - mae: 6.8670\n",
      "Epoch 12/100\n",
      "1/1 [==============================] - 0s 8ms/step - loss: 7.1665 - mae: 7.1665\n",
      "Epoch 13/100\n",
      "1/1 [==============================] - 0s 10ms/step - loss: 7.3438 - mae: 7.3438\n",
      "Epoch 14/100\n",
      "1/1 [==============================] - 0s 7ms/step - loss: 7.5215 - mae: 7.5215\n",
      "Epoch 15/100\n",
      "1/1 [==============================] - 0s 9ms/step - loss: 7.4683 - mae: 7.4683\n",
      "Epoch 16/100\n",
      "1/1 [==============================] - 0s 8ms/step - loss: 7.2359 - mae: 7.2359\n",
      "Epoch 17/100\n",
      "1/1 [==============================] - 0s 9ms/step - loss: 6.9548 - mae: 6.9548\n",
      "Epoch 18/100\n",
      "1/1 [==============================] - 0s 9ms/step - loss: 6.6928 - mae: 6.6928\n",
      "Epoch 19/100\n",
      "1/1 [==============================] - 0s 9ms/step - loss: 6.4105 - mae: 6.4105\n",
      "Epoch 20/100\n",
      "1/1 [==============================] - 0s 8ms/step - loss: 6.1450 - mae: 6.1450\n",
      "Epoch 21/100\n",
      "1/1 [==============================] - 0s 11ms/step - loss: 6.0974 - mae: 6.0974\n",
      "Epoch 22/100\n",
      "1/1 [==============================] - 0s 17ms/step - loss: 6.0580 - mae: 6.0580\n",
      "Epoch 23/100\n",
      "1/1 [==============================] - 0s 11ms/step - loss: 6.1221 - mae: 6.1221\n",
      "Epoch 24/100\n",
      "1/1 [==============================] - 0s 8ms/step - loss: 6.0755 - mae: 6.0755\n",
      "Epoch 25/100\n",
      "1/1 [==============================] - 0s 10ms/step - loss: 5.9325 - mae: 5.9325\n",
      "Epoch 26/100\n",
      "1/1 [==============================] - 0s 10ms/step - loss: 5.7360 - mae: 5.7360\n",
      "Epoch 27/100\n",
      "1/1 [==============================] - 0s 10ms/step - loss: 5.6413 - mae: 5.6413\n",
      "Epoch 28/100\n",
      "1/1 [==============================] - 0s 9ms/step - loss: 5.5438 - mae: 5.5438\n",
      "Epoch 29/100\n",
      "1/1 [==============================] - 0s 9ms/step - loss: 5.4434 - mae: 5.4434\n",
      "Epoch 30/100\n",
      "1/1 [==============================] - 0s 14ms/step - loss: 5.3974 - mae: 5.3974\n",
      "Epoch 31/100\n",
      "1/1 [==============================] - 0s 8ms/step - loss: 5.3532 - mae: 5.3532\n",
      "Epoch 32/100\n",
      "1/1 [==============================] - 0s 8ms/step - loss: 5.2640 - mae: 5.2640\n",
      "Epoch 33/100\n",
      "1/1 [==============================] - 0s 11ms/step - loss: 5.1341 - mae: 5.1341\n",
      "Epoch 34/100\n",
      "1/1 [==============================] - 0s 8ms/step - loss: 4.9754 - mae: 4.9754\n",
      "Epoch 35/100\n",
      "1/1 [==============================] - 0s 13ms/step - loss: 4.8856 - mae: 4.8856\n",
      "Epoch 36/100\n",
      "1/1 [==============================] - 0s 15ms/step - loss: 4.7900 - mae: 4.7900\n",
      "Epoch 37/100\n",
      "1/1 [==============================] - 0s 15ms/step - loss: 4.6885 - mae: 4.6885\n",
      "Epoch 38/100\n",
      "1/1 [==============================] - 0s 19ms/step - loss: 4.5810 - mae: 4.5810\n",
      "Epoch 39/100\n",
      "1/1 [==============================] - 0s 15ms/step - loss: 4.4673 - mae: 4.4673\n",
      "Epoch 40/100\n",
      "1/1 [==============================] - 0s 17ms/step - loss: 4.3472 - mae: 4.3472\n",
      "Epoch 41/100\n",
      "1/1 [==============================] - 0s 22ms/step - loss: 4.2205 - mae: 4.2205\n",
      "Epoch 42/100\n",
      "1/1 [==============================] - 0s 16ms/step - loss: 4.0870 - mae: 4.0870\n",
      "Epoch 43/100\n",
      "1/1 [==============================] - 0s 16ms/step - loss: 3.9465 - mae: 3.9465\n",
      "Epoch 44/100\n",
      "1/1 [==============================] - 0s 19ms/step - loss: 3.7987 - mae: 3.7987\n",
      "Epoch 45/100\n",
      "1/1 [==============================] - 0s 16ms/step - loss: 3.6435 - mae: 3.6435\n",
      "Epoch 46/100\n",
      "1/1 [==============================] - 0s 11ms/step - loss: 3.4947 - mae: 3.4947\n",
      "Epoch 47/100\n",
      "1/1 [==============================] - 0s 19ms/step - loss: 3.3289 - mae: 3.3289\n",
      "Epoch 48/100\n",
      "1/1 [==============================] - 0s 14ms/step - loss: 3.1694 - mae: 3.1694\n",
      "Epoch 49/100\n",
      "1/1 [==============================] - 0s 18ms/step - loss: 3.0060 - mae: 3.0060\n",
      "Epoch 50/100\n",
      "1/1 [==============================] - 0s 16ms/step - loss: 2.8324 - mae: 2.8324\n",
      "Epoch 51/100\n",
      "1/1 [==============================] - 0s 16ms/step - loss: 2.6486 - mae: 2.6486\n",
      "Epoch 52/100\n",
      "1/1 [==============================] - 0s 9ms/step - loss: 2.4542 - mae: 2.4542\n",
      "Epoch 53/100\n",
      "1/1 [==============================] - 0s 14ms/step - loss: 2.2550 - mae: 2.2550\n",
      "Epoch 54/100\n",
      "1/1 [==============================] - 0s 12ms/step - loss: 2.0198 - mae: 2.0198\n",
      "Epoch 55/100\n",
      "1/1 [==============================] - 0s 12ms/step - loss: 1.8817 - mae: 1.8817\n",
      "Epoch 56/100\n",
      "1/1 [==============================] - 0s 18ms/step - loss: 1.6950 - mae: 1.6950\n",
      "Epoch 57/100\n",
      "1/1 [==============================] - 0s 12ms/step - loss: 1.4311 - mae: 1.4311\n",
      "Epoch 58/100\n",
      "1/1 [==============================] - 0s 14ms/step - loss: 1.0950 - mae: 1.0950\n",
      "Epoch 59/100\n",
      "1/1 [==============================] - 0s 10ms/step - loss: 1.0011 - mae: 1.0011\n",
      "Epoch 60/100\n",
      "1/1 [==============================] - 0s 18ms/step - loss: 0.7982 - mae: 0.7982\n",
      "Epoch 61/100\n",
      "1/1 [==============================] - 0s 8ms/step - loss: 0.3949 - mae: 0.3949\n",
      "Epoch 62/100\n",
      "1/1 [==============================] - 0s 10ms/step - loss: 0.3799 - mae: 0.3799\n",
      "Epoch 63/100\n",
      "1/1 [==============================] - 0s 8ms/step - loss: 0.4317 - mae: 0.4317\n",
      "Epoch 64/100\n",
      "1/1 [==============================] - 0s 10ms/step - loss: 0.4252 - mae: 0.4252\n",
      "Epoch 65/100\n",
      "1/1 [==============================] - 0s 19ms/step - loss: 0.8542 - mae: 0.8542\n",
      "Epoch 66/100\n",
      "1/1 [==============================] - 0s 8ms/step - loss: 0.9997 - mae: 0.9997\n",
      "Epoch 67/100\n",
      "1/1 [==============================] - 0s 11ms/step - loss: 0.8437 - mae: 0.8437\n",
      "Epoch 68/100\n",
      "1/1 [==============================] - 0s 15ms/step - loss: 0.8922 - mae: 0.8922\n",
      "Epoch 69/100\n",
      "1/1 [==============================] - 0s 19ms/step - loss: 1.0327 - mae: 1.0327\n",
      "Epoch 70/100\n",
      "1/1 [==============================] - 0s 14ms/step - loss: 0.9583 - mae: 0.9583\n",
      "Epoch 71/100\n",
      "1/1 [==============================] - 0s 14ms/step - loss: 0.6983 - mae: 0.6983\n",
      "Epoch 72/100\n",
      "1/1 [==============================] - 0s 10ms/step - loss: 0.7308 - mae: 0.7308\n",
      "Epoch 73/100\n",
      "1/1 [==============================] - 0s 17ms/step - loss: 0.8031 - mae: 0.8031\n",
      "Epoch 74/100\n",
      "1/1 [==============================] - 0s 20ms/step - loss: 0.5851 - mae: 0.5851\n",
      "Epoch 75/100\n",
      "1/1 [==============================] - 0s 22ms/step - loss: 0.1895 - mae: 0.1895\n",
      "Epoch 76/100\n",
      "1/1 [==============================] - 0s 11ms/step - loss: 0.1853 - mae: 0.1853\n",
      "Epoch 77/100\n",
      "1/1 [==============================] - 0s 13ms/step - loss: 0.0875 - mae: 0.0875\n",
      "Epoch 78/100\n",
      "1/1 [==============================] - 0s 14ms/step - loss: 0.2499 - mae: 0.2499\n",
      "Epoch 79/100\n",
      "1/1 [==============================] - 0s 29ms/step - loss: 0.2379 - mae: 0.2379\n",
      "Epoch 80/100\n",
      "1/1 [==============================] - 0s 8ms/step - loss: 0.3702 - mae: 0.3702\n",
      "Epoch 81/100\n",
      "1/1 [==============================] - 0s 41ms/step - loss: 0.3414 - mae: 0.3414\n",
      "Epoch 82/100\n",
      "1/1 [==============================] - 0s 21ms/step - loss: 0.2568 - mae: 0.2568\n",
      "Epoch 83/100\n",
      "1/1 [==============================] - 0s 14ms/step - loss: 0.2586 - mae: 0.2586\n",
      "Epoch 84/100\n",
      "1/1 [==============================] - 0s 10ms/step - loss: 0.1058 - mae: 0.1058\n",
      "Epoch 85/100\n",
      "1/1 [==============================] - 0s 10ms/step - loss: 0.2985 - mae: 0.2985\n",
      "Epoch 86/100\n",
      "1/1 [==============================] - 0s 11ms/step - loss: 0.2793 - mae: 0.2793\n",
      "Epoch 87/100\n",
      "1/1 [==============================] - 0s 8ms/step - loss: 0.1537 - mae: 0.1537\n",
      "Epoch 88/100\n",
      "1/1 [==============================] - 0s 9ms/step - loss: 0.3910 - mae: 0.3910\n",
      "Epoch 89/100\n",
      "1/1 [==============================] - 0s 9ms/step - loss: 0.3856 - mae: 0.3856\n",
      "Epoch 90/100\n",
      "1/1 [==============================] - 0s 12ms/step - loss: 0.1880 - mae: 0.1880\n",
      "Epoch 91/100\n",
      "1/1 [==============================] - 0s 11ms/step - loss: 0.2833 - mae: 0.2833\n",
      "Epoch 92/100\n",
      "1/1 [==============================] - 0s 12ms/step - loss: 0.2304 - mae: 0.2304\n",
      "Epoch 93/100\n",
      "1/1 [==============================] - 0s 10ms/step - loss: 0.0467 - mae: 0.0467\n",
      "Epoch 94/100\n",
      "1/1 [==============================] - 0s 8ms/step - loss: 0.0591 - mae: 0.0591\n",
      "Epoch 95/100\n",
      "1/1 [==============================] - 0s 9ms/step - loss: 0.2502 - mae: 0.2502\n",
      "Epoch 96/100\n",
      "1/1 [==============================] - 0s 7ms/step - loss: 0.2085 - mae: 0.2085\n",
      "Epoch 97/100\n",
      "1/1 [==============================] - 0s 7ms/step - loss: 0.2240 - mae: 0.2240\n",
      "Epoch 98/100\n",
      "1/1 [==============================] - 0s 13ms/step - loss: 0.2650 - mae: 0.2650\n",
      "Epoch 99/100\n",
      "1/1 [==============================] - 0s 11ms/step - loss: 0.1246 - mae: 0.1246\n",
      "Epoch 100/100\n",
      "1/1 [==============================] - 0s 10ms/step - loss: 0.2383 - mae: 0.2383\n"
     ]
    },
    {
     "data": {
      "text/plain": "<keras.callbacks.History at 0x7f65c033f010>"
     },
     "execution_count": 21,
     "metadata": {},
     "output_type": "execute_result"
    }
   ],
   "source": [
    "# Let's see if we can make another to improve our model\n",
    "\n",
    "# 1. Create the model (this time with an extra hidden layer with 100 hidden units)\n",
    "model = tf.keras.Sequential([\n",
    "    tf.keras.layers.Dense(50, activation=None),\n",
    "    tf.keras.layers.Dense(1)\n",
    "])\n",
    "\n",
    "# 2. Compile the model\n",
    "model.compile(loss=\"mae\",\n",
    "              optimizer=tf.keras.optimizers.Adam(learning_rate=0.01),\n",
    "              metrics=[\"mae\"])\n",
    "\n",
    "# 3. Fit the model\n",
    "model.fit(tf.expand_dims(X, axis=-1), y, epochs=100)"
   ],
   "metadata": {
    "colab": {
     "base_uri": "https://localhost:8080/"
    },
    "id": "8b9aa4f166adf717",
    "executionInfo": {
     "status": "ok",
     "timestamp": 1696076707677,
     "user_tz": -420,
     "elapsed": 3639,
     "user": {
      "displayName": "kang sigit",
      "userId": "15887135570512197739"
     }
    },
    "outputId": "09a15c82-6c48-4a25-f2e2-9e9be634ab0e",
    "ExecuteTime": {
     "end_time": "2024-01-02T07:38:07.927301173Z",
     "start_time": "2024-01-02T07:38:05.012004489Z"
    }
   },
   "id": "8b9aa4f166adf717"
  },
  {
   "cell_type": "code",
   "execution_count": 22,
   "outputs": [
    {
     "data": {
      "text/plain": "(<tf.Tensor: shape=(8,), dtype=float32, numpy=array([-7., -4., -1.,  2.,  5.,  8., 11., 14.], dtype=float32)>,\n <tf.Tensor: shape=(8,), dtype=float32, numpy=array([ 3.,  6.,  9., 12., 15., 18., 21., 24.], dtype=float32)>)"
     },
     "execution_count": 22,
     "metadata": {},
     "output_type": "execute_result"
    }
   ],
   "source": [
    "# Let's remind ourselves of the data\n",
    "X, y"
   ],
   "metadata": {
    "colab": {
     "base_uri": "https://localhost:8080/"
    },
    "id": "6b5bd6ece9fcbd99",
    "executionInfo": {
     "status": "ok",
     "timestamp": 1696076707678,
     "user_tz": -420,
     "elapsed": 37,
     "user": {
      "displayName": "kang sigit",
      "userId": "15887135570512197739"
     }
    },
    "outputId": "5cc7cd2b-d423-4cea-c5fb-aeaceda59838",
    "ExecuteTime": {
     "end_time": "2024-01-02T07:38:10.727690698Z",
     "start_time": "2024-01-02T07:38:10.683551406Z"
    }
   },
   "id": "6b5bd6ece9fcbd99"
  },
  {
   "cell_type": "code",
   "execution_count": 23,
   "outputs": [
    {
     "name": "stdout",
     "output_type": "stream",
     "text": [
      "1/1 [==============================] - 0s 99ms/step\n"
     ]
    },
    {
     "data": {
      "text/plain": "array([[27.639418]], dtype=float32)"
     },
     "execution_count": 23,
     "metadata": {},
     "output_type": "execute_result"
    }
   ],
   "source": [
    "# Let's  try to make a prediction\n",
    "model.predict([17.0])"
   ],
   "metadata": {
    "colab": {
     "base_uri": "https://localhost:8080/"
    },
    "id": "a0f497158a07079a",
    "executionInfo": {
     "status": "ok",
     "timestamp": 1696076707678,
     "user_tz": -420,
     "elapsed": 30,
     "user": {
      "displayName": "kang sigit",
      "userId": "15887135570512197739"
     }
    },
    "outputId": "5d49bee4-aedd-4687-ee45-a21a4d31ef92",
    "ExecuteTime": {
     "end_time": "2024-01-02T07:38:12.482300038Z",
     "start_time": "2024-01-02T07:38:12.277571063Z"
    }
   },
   "id": "a0f497158a07079a"
  },
  {
   "cell_type": "markdown",
   "source": [
    "## Evaluating a model\n",
    "\n",
    "In practice, a typical workflow you'll go through when building neural networks is:\n",
    "\n",
    "```\n",
    "Build a model -> fit it -> evaluate it -> tweak a model -> fit it -> evaluate it -> tweak a model -> fit it -> evaluate it...\n",
    "```\n",
    "\n"
   ],
   "metadata": {
    "collapsed": false,
    "id": "8586a632a5e30d87"
   },
   "id": "8586a632a5e30d87"
  },
  {
   "cell_type": "markdown",
   "source": [
    "When it comes to evaluation... there are 3 words you should memorize:\n",
    "\n",
    "> \"Visualize, visualize, visualize\"\n",
    "\n",
    "It's a good idea to visualize:\n",
    "* The data - what data are we working with? What does it look like?\n",
    "* The model itself - what does our model look like?\n",
    "* The training of a model - how does a model perform while it learns?\n",
    "* The predictions of the model - how do the predictions od a model line up against the ground truth (the original labels)?"
   ],
   "metadata": {
    "collapsed": false,
    "id": "b0557d4d9296152e"
   },
   "id": "b0557d4d9296152e"
  },
  {
   "cell_type": "code",
   "execution_count": 24,
   "outputs": [
    {
     "data": {
      "text/plain": "<tf.Tensor: shape=(50,), dtype=int32, numpy=\narray([-100,  -96,  -92,  -88,  -84,  -80,  -76,  -72,  -68,  -64,  -60,\n        -56,  -52,  -48,  -44,  -40,  -36,  -32,  -28,  -24,  -20,  -16,\n        -12,   -8,   -4,    0,    4,    8,   12,   16,   20,   24,   28,\n         32,   36,   40,   44,   48,   52,   56,   60,   64,   68,   72,\n         76,   80,   84,   88,   92,   96], dtype=int32)>"
     },
     "execution_count": 24,
     "metadata": {},
     "output_type": "execute_result"
    }
   ],
   "source": [
    "# Make a bigger dataset\n",
    "X = tf.range(-100, 100, 4)\n",
    "X"
   ],
   "metadata": {
    "colab": {
     "base_uri": "https://localhost:8080/"
    },
    "id": "ebfdaf1ca49a3887",
    "executionInfo": {
     "status": "ok",
     "timestamp": 1696076707678,
     "user_tz": -420,
     "elapsed": 27,
     "user": {
      "displayName": "kang sigit",
      "userId": "15887135570512197739"
     }
    },
    "outputId": "bc30d2c0-7064-4c85-ad7c-5b2adb992cb9",
    "ExecuteTime": {
     "end_time": "2024-01-02T07:38:20.081783129Z",
     "start_time": "2024-01-02T07:38:20.036563947Z"
    }
   },
   "id": "ebfdaf1ca49a3887"
  },
  {
   "cell_type": "code",
   "execution_count": 25,
   "outputs": [
    {
     "data": {
      "text/plain": "<tf.Tensor: shape=(50,), dtype=int32, numpy=\narray([-90, -86, -82, -78, -74, -70, -66, -62, -58, -54, -50, -46, -42,\n       -38, -34, -30, -26, -22, -18, -14, -10,  -6,  -2,   2,   6,  10,\n        14,  18,  22,  26,  30,  34,  38,  42,  46,  50,  54,  58,  62,\n        66,  70,  74,  78,  82,  86,  90,  94,  98, 102, 106], dtype=int32)>"
     },
     "execution_count": 25,
     "metadata": {},
     "output_type": "execute_result"
    }
   ],
   "source": [
    "# Make labels for the dataset\n",
    "y = X + 10\n",
    "y"
   ],
   "metadata": {
    "colab": {
     "base_uri": "https://localhost:8080/"
    },
    "id": "5573573108e8addc",
    "executionInfo": {
     "status": "ok",
     "timestamp": 1696076707678,
     "user_tz": -420,
     "elapsed": 25,
     "user": {
      "displayName": "kang sigit",
      "userId": "15887135570512197739"
     }
    },
    "outputId": "799c0f5b-54de-446d-80ad-e0ab45651900",
    "ExecuteTime": {
     "end_time": "2024-01-02T07:38:24.160289475Z",
     "start_time": "2024-01-02T07:38:24.112404414Z"
    }
   },
   "id": "5573573108e8addc"
  },
  {
   "cell_type": "code",
   "execution_count": 26,
   "outputs": [
    {
     "data": {
      "text/plain": "<matplotlib.collections.PathCollection at 0x7f65c02f7890>"
     },
     "execution_count": 26,
     "metadata": {},
     "output_type": "execute_result"
    },
    {
     "data": {
      "text/plain": "<Figure size 640x480 with 1 Axes>",
      "image/png": "[encoded data removed]"
     },
     "metadata": {},
     "output_type": "display_data"
    }
   ],
   "source": [
    "# Visualize the data\n",
    "import matplotlib.pyplot as plt\n",
    "\n",
    "plt.scatter(X, y)"
   ],
   "metadata": {
    "colab": {
     "base_uri": "https://localhost:8080/",
     "height": 448
    },
    "id": "819381cfdadb50fa",
    "executionInfo": {
     "status": "ok",
     "timestamp": 1696076707678,
     "user_tz": -420,
     "elapsed": 23,
     "user": {
      "displayName": "kang sigit",
      "userId": "15887135570512197739"
     }
    },
    "outputId": "50eb4a39-f417-4bbe-8dfa-b4e0ffe18018",
    "ExecuteTime": {
     "end_time": "2024-01-02T07:38:29.482411519Z",
     "start_time": "2024-01-02T07:38:29.343251459Z"
    }
   },
   "id": "819381cfdadb50fa"
  },
  {
   "cell_type": "markdown",
   "source": [
    "### The 3 sets...\n",
    "\n",
    "* **Training set** - the model learns from this data, which is typically 70-80% of total data you have available.\n",
    "* **Validation set** - the model gets tuned oh this data, which is typically 10-15% of the data available.\n",
    "* **Test set** - the model gets evaluated on this data to test what is has learned, this set is typically 10-15% of the total data available."
   ],
   "metadata": {
    "collapsed": false,
    "id": "811bf5a27ae79738"
   },
   "id": "811bf5a27ae79738"
  },
  {
   "cell_type": "code",
   "execution_count": 27,
   "outputs": [
    {
     "data": {
      "text/plain": "50"
     },
     "execution_count": 27,
     "metadata": {},
     "output_type": "execute_result"
    }
   ],
   "source": [
    "# Check the length of how many samples we have\n",
    "len(X)"
   ],
   "metadata": {
    "colab": {
     "base_uri": "https://localhost:8080/"
    },
    "id": "65fe1205cafb59",
    "executionInfo": {
     "status": "ok",
     "timestamp": 1696076707678,
     "user_tz": -420,
     "elapsed": 20,
     "user": {
      "displayName": "kang sigit",
      "userId": "15887135570512197739"
     }
    },
    "outputId": "73236141-f7f9-4151-9726-e43586bc76ec",
    "ExecuteTime": {
     "end_time": "2024-01-02T07:38:32.666640810Z",
     "start_time": "2024-01-02T07:38:32.623512777Z"
    }
   },
   "id": "65fe1205cafb59"
  },
  {
   "cell_type": "code",
   "execution_count": 28,
   "outputs": [
    {
     "data": {
      "text/plain": "(40, 10, 40, 10)"
     },
     "execution_count": 28,
     "metadata": {},
     "output_type": "execute_result"
    }
   ],
   "source": [
    "# Split the data into train and test sets\n",
    "X_train = X[:40] # first 40 are training samples (80% of the data)\n",
    "y_train = y[:40]\n",
    "X_test = X[40:] # last 10 are testing samples (20% of the data)\n",
    "y_test = y[40:]\n",
    "\n",
    "len(X_train), len(X_test), len(y_train), len(y_test)"
   ],
   "metadata": {
    "colab": {
     "base_uri": "https://localhost:8080/"
    },
    "id": "6d4cae941d61ab0d",
    "executionInfo": {
     "status": "ok",
     "timestamp": 1696076707678,
     "user_tz": -420,
     "elapsed": 19,
     "user": {
      "displayName": "kang sigit",
      "userId": "15887135570512197739"
     }
    },
    "outputId": "222f4a3f-fa48-4167-dd93-388106b231f7",
    "ExecuteTime": {
     "end_time": "2024-01-02T07:38:34.376896250Z",
     "start_time": "2024-01-02T07:38:34.313840080Z"
    }
   },
   "id": "6d4cae941d61ab0d"
  },
  {
   "cell_type": "markdown",
   "source": [
    "### Visualing the data\n",
    "\n",
    "Now we've got our data in training and test sets... let's visualize it again!"
   ],
   "metadata": {
    "collapsed": false,
    "id": "83c7526489cf18e8"
   },
   "id": "83c7526489cf18e8"
  },
  {
   "cell_type": "code",
   "execution_count": 29,
   "outputs": [
    {
     "data": {
      "text/plain": "<Figure size 1000x700 with 1 Axes>",
      "image/png": "[encoded data removed]"
     },
     "metadata": {},
     "output_type": "display_data"
    }
   ],
   "source": [
    "plt.figure(figsize=(10, 7))\n",
    "# Plot training data in blue\n",
    "plt.scatter(X_train, y_train, c=\"b\", label=\"Training data\")\n",
    "# Plot test data in green\n",
    "plt.scatter(X_test, y_test, c=\"g\", label=\"Testing data\")\n",
    "# Show a legend\n",
    "plt.legend();"
   ],
   "metadata": {
    "colab": {
     "base_uri": "https://localhost:8080/",
     "height": 599
    },
    "id": "ab7249faa73bbe9",
    "executionInfo": {
     "status": "ok",
     "timestamp": 1696076708327,
     "user_tz": -420,
     "elapsed": 666,
     "user": {
      "displayName": "kang sigit",
      "userId": "15887135570512197739"
     }
    },
    "outputId": "6e495691-ff17-4a7f-c1b2-2579095d6b81",
    "ExecuteTime": {
     "end_time": "2024-01-02T07:38:43.327798151Z",
     "start_time": "2024-01-02T07:38:43.104695896Z"
    }
   },
   "id": "ab7249faa73bbe9"
  },
  {
   "cell_type": "code",
   "execution_count": 30,
   "outputs": [],
   "source": [
    "# Let's have a look at how to build a neural network for our data\n",
    "\n",
    "# 1. Create a model\n",
    "model = tf.keras.Sequential([\n",
    "    tf.keras.layers.Dense(1)\n",
    "])\n",
    "\n",
    "# 2. Compile the model\n",
    "model.compile(loss=tf.keras.losses.mae,\n",
    "              optimizer=tf.keras.optimizers.SGD(),\n",
    "              metrics=[\"mae\"])\n",
    "\n",
    "# 3. Fit the model\n",
    "# model.fit(tf.expand_dims(X_train, axis=-1), y_train, epochs=100)"
   ],
   "metadata": {
    "id": "d8ffee7c2a8e42f7",
    "executionInfo": {
     "status": "ok",
     "timestamp": 1696076708328,
     "user_tz": -420,
     "elapsed": 10,
     "user": {
      "displayName": "kang sigit",
      "userId": "15887135570512197739"
     }
    },
    "ExecuteTime": {
     "end_time": "2024-01-02T07:38:48.108988332Z",
     "start_time": "2024-01-02T07:38:48.068598027Z"
    }
   },
   "id": "d8ffee7c2a8e42f7"
  },
  {
   "cell_type": "markdown",
   "source": [
    "### Visualizing the model"
   ],
   "metadata": {
    "collapsed": false,
    "id": "898b10b4eeedd11e"
   },
   "id": "898b10b4eeedd11e"
  },
  {
   "cell_type": "code",
   "execution_count": 31,
   "outputs": [
    {
     "ename": "ValueError",
     "evalue": "This model has not yet been built. Build the model first by calling `build()` or by calling the model on a batch of data.",
     "output_type": "error",
     "traceback": [
      "\u001B[0;31m---------------------------------------------------------------------------\u001B[0m",
      "\u001B[0;31mValueError\u001B[0m                                Traceback (most recent call last)",
      "Cell \u001B[0;32mIn[31], line 1\u001B[0m\n\u001B[0;32m----> 1\u001B[0m model\u001B[38;5;241m.\u001B[39msummary()\n",
      "File \u001B[0;32m~/anaconda3/envs/tensorflow-zero-to-master/lib/python3.11/site-packages/keras/engine/training.py:3229\u001B[0m, in \u001B[0;36mModel.summary\u001B[0;34m(self, line_length, positions, print_fn, expand_nested, show_trainable, layer_range)\u001B[0m\n\u001B[1;32m   3198\u001B[0m \u001B[38;5;250m\u001B[39m\u001B[38;5;124;03m\"\"\"Prints a string summary of the network.\u001B[39;00m\n\u001B[1;32m   3199\u001B[0m \n\u001B[1;32m   3200\u001B[0m \u001B[38;5;124;03mArgs:\u001B[39;00m\n\u001B[0;32m   (...)\u001B[0m\n\u001B[1;32m   3226\u001B[0m \u001B[38;5;124;03m    ValueError: if `summary()` is called before the model is built.\u001B[39;00m\n\u001B[1;32m   3227\u001B[0m \u001B[38;5;124;03m\"\"\"\u001B[39;00m\n\u001B[1;32m   3228\u001B[0m \u001B[38;5;28;01mif\u001B[39;00m \u001B[38;5;129;01mnot\u001B[39;00m \u001B[38;5;28mself\u001B[39m\u001B[38;5;241m.\u001B[39mbuilt:\n\u001B[0;32m-> 3229\u001B[0m     \u001B[38;5;28;01mraise\u001B[39;00m \u001B[38;5;167;01mValueError\u001B[39;00m(\n\u001B[1;32m   3230\u001B[0m         \u001B[38;5;124m\"\u001B[39m\u001B[38;5;124mThis model has not yet been built. \u001B[39m\u001B[38;5;124m\"\u001B[39m\n\u001B[1;32m   3231\u001B[0m         \u001B[38;5;124m\"\u001B[39m\u001B[38;5;124mBuild the model first by calling `build()` or by calling \u001B[39m\u001B[38;5;124m\"\u001B[39m\n\u001B[1;32m   3232\u001B[0m         \u001B[38;5;124m\"\u001B[39m\u001B[38;5;124mthe model on a batch of data.\u001B[39m\u001B[38;5;124m\"\u001B[39m\n\u001B[1;32m   3233\u001B[0m     )\n\u001B[1;32m   3234\u001B[0m layer_utils\u001B[38;5;241m.\u001B[39mprint_summary(\n\u001B[1;32m   3235\u001B[0m     \u001B[38;5;28mself\u001B[39m,\n\u001B[1;32m   3236\u001B[0m     line_length\u001B[38;5;241m=\u001B[39mline_length,\n\u001B[0;32m   (...)\u001B[0m\n\u001B[1;32m   3241\u001B[0m     layer_range\u001B[38;5;241m=\u001B[39mlayer_range,\n\u001B[1;32m   3242\u001B[0m )\n",
      "\u001B[0;31mValueError\u001B[0m: This model has not yet been built. Build the model first by calling `build()` or by calling the model on a batch of data."
     ]
    }
   ],
   "source": [
    "model.summary()"
   ],
   "metadata": {
    "colab": {
     "base_uri": "https://localhost:8080/",
     "height": 346
    },
    "id": "5c62d9de9c0b5118",
    "executionInfo": {
     "status": "error",
     "timestamp": 1696076708328,
     "user_tz": -420,
     "elapsed": 9,
     "user": {
      "displayName": "kang sigit",
      "userId": "15887135570512197739"
     }
    },
    "outputId": "d80a5003-4477-4613-82d5-9ebc9a96dd43",
    "ExecuteTime": {
     "end_time": "2024-01-02T07:38:52.637418481Z",
     "start_time": "2024-01-02T07:38:51.601914356Z"
    }
   },
   "id": "5c62d9de9c0b5118"
  },
  {
   "cell_type": "code",
   "execution_count": 32,
   "outputs": [
    {
     "data": {
      "text/plain": "(<tf.Tensor: shape=(), dtype=int32, numpy=-100>,\n <tf.Tensor: shape=(), dtype=int32, numpy=-90>)"
     },
     "execution_count": 32,
     "metadata": {},
     "output_type": "execute_result"
    }
   ],
   "source": [
    "X[0], y[0]"
   ],
   "metadata": {
    "colab": {
     "base_uri": "https://localhost:8080/"
    },
    "id": "46ca08d5fb0a5d65",
    "executionInfo": {
     "status": "ok",
     "timestamp": 1696076717633,
     "user_tz": -420,
     "elapsed": 10,
     "user": {
      "displayName": "kang sigit",
      "userId": "15887135570512197739"
     }
    },
    "outputId": "7153ad61-fb91-4517-d967-04743d87b16f",
    "ExecuteTime": {
     "end_time": "2024-01-02T07:38:56.395980874Z",
     "start_time": "2024-01-02T07:38:56.341387857Z"
    }
   },
   "id": "46ca08d5fb0a5d65"
  },
  {
   "cell_type": "code",
   "execution_count": 33,
   "outputs": [],
   "source": [
    "# Let's create a model which builds automatically by defining the input_shape argument in the first layer\n",
    "tf.random.set_seed(42)\n",
    "\n",
    "# 1. Create a model (same as above)\n",
    "model = tf.keras.Sequential([\n",
    "    tf.keras.layers.Dense(10, input_shape=[1], name=\"input_layer\"),\n",
    "    tf.keras.layers.Dense(1, name=\"output_layer\")\n",
    "], name=\"model_1\")\n",
    "\n",
    "# 2. Compile the model (same as above)\n",
    "model.compile(loss=tf.keras.losses.mae,\n",
    "              optimizer=tf.keras.optimizers.SGD(),\n",
    "              metrics=[\"mae\"])"
   ],
   "metadata": {
    "id": "42cd0d927d2d8699",
    "executionInfo": {
     "status": "ok",
     "timestamp": 1696076720211,
     "user_tz": -420,
     "elapsed": 10,
     "user": {
      "displayName": "kang sigit",
      "userId": "15887135570512197739"
     }
    },
    "ExecuteTime": {
     "end_time": "2024-01-02T07:38:57.515645964Z",
     "start_time": "2024-01-02T07:38:57.430228576Z"
    }
   },
   "id": "42cd0d927d2d8699"
  },
  {
   "cell_type": "code",
   "execution_count": 34,
   "outputs": [
    {
     "name": "stdout",
     "output_type": "stream",
     "text": [
      "Model: \"model_1\"\n",
      "_________________________________________________________________\n",
      " Layer (type)                Output Shape              Param #   \n",
      "=================================================================\n",
      " input_layer (Dense)         (None, 10)                20        \n",
      "                                                                 \n",
      " output_layer (Dense)        (None, 1)                 11        \n",
      "                                                                 \n",
      "=================================================================\n",
      "Total params: 31\n",
      "Trainable params: 31\n",
      "Non-trainable params: 0\n",
      "_________________________________________________________________\n"
     ]
    }
   ],
   "source": [
    "model.summary()"
   ],
   "metadata": {
    "colab": {
     "base_uri": "https://localhost:8080/"
    },
    "id": "12813b7ae6d41c34",
    "executionInfo": {
     "status": "ok",
     "timestamp": 1696076725813,
     "user_tz": -420,
     "elapsed": 612,
     "user": {
      "displayName": "kang sigit",
      "userId": "15887135570512197739"
     }
    },
    "outputId": "f12abca0-cc47-466d-fcd4-d44e2144977c",
    "ExecuteTime": {
     "end_time": "2024-01-02T07:38:59.322153367Z",
     "start_time": "2024-01-02T07:38:59.207286129Z"
    }
   },
   "id": "12813b7ae6d41c34"
  },
  {
   "cell_type": "markdown",
   "source": [
    "* Total params - total number of parameters in the model.\n",
    "* Trainable parameters - these are the parameters (patterns) the model can update as it trains.\n",
    "* Non-trainable params - these parameters aren't updated during training (this is typical when you bring in already learn patterns or parameters from other models during **transfer learning**)\n",
    "\n",
    "**Resource:** For a more in-depth overview of the trainable parameters within a layer, check out [MIT's introduction to deep learning video](https://www.youtube.com/watch?v=QDX-1M5Nj7s&list=PLtBw6njQRU-rwp5__7C0oIVt26ZgjG9NI&index=2).\n",
    "\n",
    "**Exercise:** Try playing around with the number of hidden units in the dense layer, see how that effects the number of parameters (total and trainable) by calling `model.summary`."
   ],
   "metadata": {
    "collapsed": false,
    "id": "fe2ddf6925ef3e1b"
   },
   "id": "fe2ddf6925ef3e1b"
  },
  {
   "cell_type": "code",
   "execution_count": 35,
   "outputs": [
    {
     "data": {
      "text/plain": "<keras.callbacks.History at 0x7f65c0331a10>"
     },
     "execution_count": 35,
     "metadata": {},
     "output_type": "execute_result"
    }
   ],
   "source": [
    "# Let's fit our model to the training data\n",
    "model.fit(X_train, y_train, epochs=100, verbose=0)"
   ],
   "metadata": {
    "colab": {
     "base_uri": "https://localhost:8080/"
    },
    "id": "6cae2a5b5d81a33c",
    "executionInfo": {
     "status": "ok",
     "timestamp": 1696076731840,
     "user_tz": -420,
     "elapsed": 2129,
     "user": {
      "displayName": "kang sigit",
      "userId": "15887135570512197739"
     }
    },
    "outputId": "55f2e786-ca32-495c-c4b9-e0d598ca92a0",
    "ExecuteTime": {
     "end_time": "2024-01-02T07:39:04.693492317Z",
     "start_time": "2024-01-02T07:39:03.332740377Z"
    }
   },
   "id": "6cae2a5b5d81a33c"
  },
  {
   "cell_type": "code",
   "execution_count": 36,
   "outputs": [
    {
     "name": "stdout",
     "output_type": "stream",
     "text": [
      "Model: \"model_1\"\n",
      "_________________________________________________________________\n",
      " Layer (type)                Output Shape              Param #   \n",
      "=================================================================\n",
      " input_layer (Dense)         (None, 10)                20        \n",
      "                                                                 \n",
      " output_layer (Dense)        (None, 1)                 11        \n",
      "                                                                 \n",
      "=================================================================\n",
      "Total params: 31\n",
      "Trainable params: 31\n",
      "Non-trainable params: 0\n",
      "_________________________________________________________________\n"
     ]
    }
   ],
   "source": [
    "# Get a summary of our model\n",
    "model.summary()"
   ],
   "metadata": {
    "colab": {
     "base_uri": "https://localhost:8080/"
    },
    "id": "ef79d837a807dbff",
    "executionInfo": {
     "status": "ok",
     "timestamp": 1696076734841,
     "user_tz": -420,
     "elapsed": 14,
     "user": {
      "displayName": "kang sigit",
      "userId": "15887135570512197739"
     }
    },
    "outputId": "b874b077-66d4-48c3-d617-ab8bd9ea2360",
    "ExecuteTime": {
     "end_time": "2024-01-02T07:39:06.865964803Z",
     "start_time": "2024-01-02T07:39:06.768861456Z"
    }
   },
   "id": "ef79d837a807dbff"
  },
  {
   "cell_type": "code",
   "execution_count": 37,
   "outputs": [
    {
     "data": {
      "image/png": "[encoded data removed]",
      "text/plain": "<IPython.core.display.Image object>"
     },
     "execution_count": 37,
     "metadata": {},
     "output_type": "execute_result"
    }
   ],
   "source": [
    "# from tensorflow.keras.utils import plot_model\n",
    "# plot_model(model)\n",
    "tf.keras.utils.plot_model(model=model, show_shapes=True)"
   ],
   "metadata": {
    "colab": {
     "base_uri": "https://localhost:8080/",
     "height": 312
    },
    "id": "9f76823a012a16fc",
    "executionInfo": {
     "status": "ok",
     "timestamp": 1696076739831,
     "user_tz": -420,
     "elapsed": 5,
     "user": {
      "displayName": "kang sigit",
      "userId": "15887135570512197739"
     }
    },
    "outputId": "38ae9add-0cbe-45dd-9626-7c468c85b694",
    "ExecuteTime": {
     "end_time": "2024-01-02T07:39:08.227255398Z",
     "start_time": "2024-01-02T07:39:08.131697634Z"
    }
   },
   "id": "9f76823a012a16fc"
  },
  {
   "cell_type": "markdown",
   "source": [
    "### Visualizing our model's predictions\n",
    "\n",
    "To visualize predictions, it's a good idea to plot them against the ground truth labels.\n",
    "\n",
    "Often you'll see this in the form of `y_test` or `y_true` versus `y_pred` (ground truth versus your model's predictions)"
   ],
   "metadata": {
    "collapsed": false,
    "id": "f5244483f581fae1"
   },
   "id": "f5244483f581fae1"
  },
  {
   "cell_type": "code",
   "execution_count": 38,
   "outputs": [
    {
     "name": "stdout",
     "output_type": "stream",
     "text": [
      "1/1 [==============================] - 0s 47ms/step\n"
     ]
    },
    {
     "data": {
      "text/plain": "array([[ 76.59567 ],\n       [ 81.585335],\n       [ 86.57499 ],\n       [ 91.56465 ],\n       [ 96.55431 ],\n       [101.54398 ],\n       [106.533646],\n       [111.5233  ],\n       [116.51296 ],\n       [121.502625]], dtype=float32)"
     },
     "execution_count": 38,
     "metadata": {},
     "output_type": "execute_result"
    }
   ],
   "source": [
    "y_pred = model.predict(X_test)\n",
    "y_pred"
   ],
   "metadata": {
    "colab": {
     "base_uri": "https://localhost:8080/"
    },
    "id": "293c2620b65dc170",
    "executionInfo": {
     "status": "ok",
     "timestamp": 1696076744822,
     "user_tz": -420,
     "elapsed": 10,
     "user": {
      "displayName": "kang sigit",
      "userId": "15887135570512197739"
     }
    },
    "outputId": "4ee87d96-0c2e-4169-b0dd-4c1440d57eb3",
    "ExecuteTime": {
     "end_time": "2024-01-02T07:39:10.439527446Z",
     "start_time": "2024-01-02T07:39:10.260959017Z"
    }
   },
   "id": "293c2620b65dc170"
  },
  {
   "cell_type": "code",
   "execution_count": 39,
   "outputs": [
    {
     "data": {
      "text/plain": "<tf.Tensor: shape=(10,), dtype=int32, numpy=array([ 70,  74,  78,  82,  86,  90,  94,  98, 102, 106], dtype=int32)>"
     },
     "execution_count": 39,
     "metadata": {},
     "output_type": "execute_result"
    }
   ],
   "source": [
    "y_test"
   ],
   "metadata": {
    "colab": {
     "base_uri": "https://localhost:8080/"
    },
    "id": "6c948e1753458992",
    "executionInfo": {
     "status": "ok",
     "timestamp": 1696076748866,
     "user_tz": -420,
     "elapsed": 623,
     "user": {
      "displayName": "kang sigit",
      "userId": "15887135570512197739"
     }
    },
    "outputId": "426fda75-0bdc-4f22-828b-160c21f17527",
    "ExecuteTime": {
     "end_time": "2024-01-02T07:39:11.851974356Z",
     "start_time": "2024-01-02T07:39:11.764503449Z"
    }
   },
   "id": "6c948e1753458992"
  },
  {
   "cell_type": "markdown",
   "source": [
    "🔑 **Note:** If you feel like you're going to reuse some kind of functionality in the future, it's a good idea to turn it into function."
   ],
   "metadata": {
    "collapsed": false,
    "id": "39dcf705504e7045"
   },
   "id": "39dcf705504e7045"
  },
  {
   "cell_type": "code",
   "execution_count": 40,
   "outputs": [],
   "source": [
    "# Let's create a plotting function\n",
    "def plot_predictions(train_data=X_train,\n",
    "                     train_labels=y_train,\n",
    "                     test_data=X_test,\n",
    "                     test_labels=y_test,\n",
    "                     predictions=y_pred):\n",
    "    \"\"\"\n",
    "    Plots training data, test data and compares predictions to ground truth labels.\n",
    "    \"\"\"\n",
    "\n",
    "    plt.figure(figsize=(10, 7))\n",
    "    # Plot training data in blue\n",
    "    plt.scatter(train_data, train_labels, c=\"b\", label=\"Training data\")\n",
    "    # Plot testing data in green\n",
    "    plt.scatter(test_data, test_labels, c=\"g\", label=\"Testing data\")\n",
    "    # Plot model's predictions in red\n",
    "    plt.scatter(test_data, predictions, c=\"r\", label=\"Predictions\")\n",
    "    # Show the legend\n",
    "    plt.legend();"
   ],
   "metadata": {
    "id": "71cba8a1be7b2c81",
    "executionInfo": {
     "status": "ok",
     "timestamp": 1696076751527,
     "user_tz": -420,
     "elapsed": 6,
     "user": {
      "displayName": "kang sigit",
      "userId": "15887135570512197739"
     }
    },
    "ExecuteTime": {
     "end_time": "2024-01-02T07:39:14.714346641Z",
     "start_time": "2024-01-02T07:39:14.651025830Z"
    }
   },
   "id": "71cba8a1be7b2c81"
  },
  {
   "cell_type": "code",
   "execution_count": 41,
   "outputs": [
    {
     "data": {
      "text/plain": "<Figure size 1000x700 with 1 Axes>",
      "image/png": "[encoded data removed]"
     },
     "metadata": {},
     "output_type": "display_data"
    }
   ],
   "source": [
    "plot_predictions(train_data=X_train,\n",
    "                 train_labels=y_train,\n",
    "                 test_data=X_test,\n",
    "                 test_labels=y_test,\n",
    "                 predictions=y_pred)"
   ],
   "metadata": {
    "colab": {
     "base_uri": "https://localhost:8080/",
     "height": 599
    },
    "id": "2a6d51a53151bf01",
    "executionInfo": {
     "status": "ok",
     "timestamp": 1696076756188,
     "user_tz": -420,
     "elapsed": 676,
     "user": {
      "displayName": "kang sigit",
      "userId": "15887135570512197739"
     }
    },
    "outputId": "5622b327-d23a-443a-98eb-37621a728b65",
    "ExecuteTime": {
     "end_time": "2024-01-02T07:39:16.265126288Z",
     "start_time": "2024-01-02T07:39:16.031519484Z"
    }
   },
   "id": "2a6d51a53151bf01"
  },
  {
   "cell_type": "markdown",
   "source": [
    "### Evaluating our model's predictions with regression evaluation metrics\n",
    "\n",
    "Depending on the problem you're working on, there will be different evaluation metrics to evaluate your model's performance.\n",
    "\n",
    "Since we're working on a regresion, two of the main metrics:\n",
    "* MAE - mean absolute error, \"on average, how wrong is each of my model's predictions\"\n",
    "* MSE - mean square error, \"square the average errors\""
   ],
   "metadata": {
    "collapsed": false,
    "id": "9ebf4e56a0b6b139"
   },
   "id": "9ebf4e56a0b6b139"
  },
  {
   "cell_type": "code",
   "execution_count": 42,
   "outputs": [
    {
     "name": "stdout",
     "output_type": "stream",
     "text": [
      "1/1 [==============================] - 0s 108ms/step - loss: 11.0491 - mae: 11.0491\n"
     ]
    },
    {
     "data": {
      "text/plain": "[11.049147605895996, 11.049147605895996]"
     },
     "execution_count": 42,
     "metadata": {},
     "output_type": "execute_result"
    }
   ],
   "source": [
    "# Evaluate the model on the test\n",
    "model.evaluate(X_test, y_test)"
   ],
   "metadata": {
    "colab": {
     "base_uri": "https://localhost:8080/"
    },
    "id": "36177621aade1e45",
    "executionInfo": {
     "status": "ok",
     "timestamp": 1696076760260,
     "user_tz": -420,
     "elapsed": 3,
     "user": {
      "displayName": "kang sigit",
      "userId": "15887135570512197739"
     }
    },
    "outputId": "8fde979d-d6d8-4b3c-cc52-788e23f56633",
    "ExecuteTime": {
     "end_time": "2024-01-02T07:39:19.947488805Z",
     "start_time": "2024-01-02T07:39:19.774469084Z"
    }
   },
   "id": "36177621aade1e45"
  },
  {
   "cell_type": "code",
   "execution_count": 43,
   "outputs": [
    {
     "data": {
      "text/plain": "<tf.Tensor: shape=(10,), dtype=float32, numpy=\narray([13.242597, 10.965866, 10.      , 10.31293 , 11.821726, 14.52639 ,\n       18.533646, 23.5233  , 28.512964, 33.502625], dtype=float32)>"
     },
     "execution_count": 43,
     "metadata": {},
     "output_type": "execute_result"
    }
   ],
   "source": [
    "# Calculate the mean absolute error (wrong output)\n",
    "mae = tf.metrics.mean_absolute_error(y_true=y_test, y_pred=y_pred)\n",
    "mae"
   ],
   "metadata": {
    "colab": {
     "base_uri": "https://localhost:8080/"
    },
    "id": "575b0fa5aebbd5fd",
    "executionInfo": {
     "status": "ok",
     "timestamp": 1696076763811,
     "user_tz": -420,
     "elapsed": 715,
     "user": {
      "displayName": "kang sigit",
      "userId": "15887135570512197739"
     }
    },
    "outputId": "27b75cf0-09ff-4843-c70c-8761bba46195",
    "ExecuteTime": {
     "end_time": "2024-01-02T07:39:21.019442473Z",
     "start_time": "2024-01-02T07:39:20.964098466Z"
    }
   },
   "id": "575b0fa5aebbd5fd"
  },
  {
   "cell_type": "code",
   "execution_count": 44,
   "outputs": [
    {
     "data": {
      "text/plain": "array([[ 76.59567 ],\n       [ 81.585335],\n       [ 86.57499 ],\n       [ 91.56465 ],\n       [ 96.55431 ],\n       [101.54398 ],\n       [106.533646],\n       [111.5233  ],\n       [116.51296 ],\n       [121.502625]], dtype=float32)"
     },
     "execution_count": 44,
     "metadata": {},
     "output_type": "execute_result"
    }
   ],
   "source": [
    "y_pred"
   ],
   "metadata": {
    "colab": {
     "base_uri": "https://localhost:8080/"
    },
    "id": "aedf7261aa2cc7ac",
    "executionInfo": {
     "status": "ok",
     "timestamp": 1696076770397,
     "user_tz": -420,
     "elapsed": 550,
     "user": {
      "displayName": "kang sigit",
      "userId": "15887135570512197739"
     }
    },
    "outputId": "780baeaa-5d3c-4eff-94cf-7e86833d9d55",
    "ExecuteTime": {
     "end_time": "2024-01-02T07:39:22.146307661Z",
     "start_time": "2024-01-02T07:39:22.094857833Z"
    }
   },
   "id": "aedf7261aa2cc7ac"
  },
  {
   "cell_type": "code",
   "execution_count": 45,
   "outputs": [
    {
     "data": {
      "text/plain": "<tf.Tensor: shape=(10, 1), dtype=float32, numpy=\narray([[ 76.59567 ],\n       [ 81.585335],\n       [ 86.57499 ],\n       [ 91.56465 ],\n       [ 96.55431 ],\n       [101.54398 ],\n       [106.533646],\n       [111.5233  ],\n       [116.51296 ],\n       [121.502625]], dtype=float32)>"
     },
     "execution_count": 45,
     "metadata": {},
     "output_type": "execute_result"
    }
   ],
   "source": [
    "tf.constant(y_pred)"
   ],
   "metadata": {
    "colab": {
     "base_uri": "https://localhost:8080/"
    },
    "id": "efcfefa487523699",
    "executionInfo": {
     "status": "ok",
     "timestamp": 1696076773607,
     "user_tz": -420,
     "elapsed": 546,
     "user": {
      "displayName": "kang sigit",
      "userId": "15887135570512197739"
     }
    },
    "outputId": "208db3b7-e815-45df-983c-245825caa58f",
    "ExecuteTime": {
     "end_time": "2024-01-02T07:39:23.463852004Z",
     "start_time": "2024-01-02T07:39:23.410745212Z"
    }
   },
   "id": "efcfefa487523699"
  },
  {
   "cell_type": "code",
   "execution_count": 46,
   "outputs": [
    {
     "data": {
      "text/plain": "<tf.Tensor: shape=(10,), dtype=float32, numpy=\narray([ 76.59567 ,  81.585335,  86.57499 ,  91.56465 ,  96.55431 ,\n       101.54398 , 106.533646, 111.5233  , 116.51296 , 121.502625],\n      dtype=float32)>"
     },
     "execution_count": 46,
     "metadata": {},
     "output_type": "execute_result"
    }
   ],
   "source": [
    "tf.squeeze(y_pred)"
   ],
   "metadata": {
    "colab": {
     "base_uri": "https://localhost:8080/"
    },
    "id": "f5f88f1ace7aeab8",
    "executionInfo": {
     "status": "ok",
     "timestamp": 1696076776274,
     "user_tz": -420,
     "elapsed": 11,
     "user": {
      "displayName": "kang sigit",
      "userId": "15887135570512197739"
     }
    },
    "outputId": "36ecd7c8-310f-4361-8a69-a11728deae72",
    "ExecuteTime": {
     "end_time": "2024-01-02T07:39:24.647107810Z",
     "start_time": "2024-01-02T07:39:24.587600327Z"
    }
   },
   "id": "f5f88f1ace7aeab8"
  },
  {
   "cell_type": "code",
   "execution_count": 47,
   "outputs": [
    {
     "data": {
      "text/plain": "<tf.Tensor: shape=(10,), dtype=int32, numpy=array([ 70,  74,  78,  82,  86,  90,  94,  98, 102, 106], dtype=int32)>"
     },
     "execution_count": 47,
     "metadata": {},
     "output_type": "execute_result"
    }
   ],
   "source": [
    "y_test"
   ],
   "metadata": {
    "colab": {
     "base_uri": "https://localhost:8080/"
    },
    "id": "5dad140f654bcf85",
    "executionInfo": {
     "status": "ok",
     "timestamp": 1696076779803,
     "user_tz": -420,
     "elapsed": 9,
     "user": {
      "displayName": "kang sigit",
      "userId": "15887135570512197739"
     }
    },
    "outputId": "eaa141da-b33a-4245-860d-9bf94dc1184b",
    "ExecuteTime": {
     "end_time": "2024-01-02T07:39:25.862255688Z",
     "start_time": "2024-01-02T07:39:25.807148571Z"
    }
   },
   "id": "5dad140f654bcf85"
  },
  {
   "cell_type": "code",
   "execution_count": 48,
   "outputs": [
    {
     "data": {
      "text/plain": "<tf.Tensor: shape=(), dtype=float32, numpy=11.049148>"
     },
     "execution_count": 48,
     "metadata": {},
     "output_type": "execute_result"
    }
   ],
   "source": [
    "# Calculate the mean absolute error\n",
    "mae = tf.metrics.mean_absolute_error(y_true=y_test, y_pred=tf.squeeze(y_pred))\n",
    "mae"
   ],
   "metadata": {
    "colab": {
     "base_uri": "https://localhost:8080/"
    },
    "id": "cd2acac44e2bdbab",
    "executionInfo": {
     "status": "ok",
     "timestamp": 1696076782346,
     "user_tz": -420,
     "elapsed": 7,
     "user": {
      "displayName": "kang sigit",
      "userId": "15887135570512197739"
     }
    },
    "outputId": "080b3669-5b49-49d7-d8b0-369f59c86ff5",
    "ExecuteTime": {
     "end_time": "2024-01-02T07:39:26.842004751Z",
     "start_time": "2024-01-02T07:39:26.798894658Z"
    }
   },
   "id": "cd2acac44e2bdbab"
  },
  {
   "cell_type": "code",
   "execution_count": 49,
   "outputs": [
    {
     "data": {
      "text/plain": "<tf.Tensor: shape=(), dtype=float32, numpy=130.16397>"
     },
     "execution_count": 49,
     "metadata": {},
     "output_type": "execute_result"
    }
   ],
   "source": [
    "# Calculate the mean square error\n",
    "mse = tf.metrics.mean_squared_error(y_true=y_test,\n",
    "                                    y_pred=tf.squeeze(y_pred))\n",
    "mse"
   ],
   "metadata": {
    "colab": {
     "base_uri": "https://localhost:8080/"
    },
    "id": "fe4b0fd576d35da1",
    "executionInfo": {
     "status": "ok",
     "timestamp": 1696076787598,
     "user_tz": -420,
     "elapsed": 700,
     "user": {
      "displayName": "kang sigit",
      "userId": "15887135570512197739"
     }
    },
    "outputId": "cc58b7f4-9bc0-49f0-e7f7-1d2fa4171ae7",
    "ExecuteTime": {
     "end_time": "2024-01-02T07:39:27.930996541Z",
     "start_time": "2024-01-02T07:39:27.879104203Z"
    }
   },
   "id": "fe4b0fd576d35da1"
  },
  {
   "cell_type": "code",
   "execution_count": 50,
   "outputs": [],
   "source": [
    "# Make some functions to reuse MAE and MSE\n",
    "def mae(y_true, y_pred):\n",
    "    return tf.metrics.mean_absolute_error(y_true=y_true,\n",
    "                                          y_pred=tf.squeeze(y_pred))\n",
    "\n",
    "def mse(y_true, y_pred):\n",
    "    return tf.metrics.mean_squared_error(y_true=y_true,\n",
    "                                         y_pred=tf.squeeze(y_pred))"
   ],
   "metadata": {
    "id": "c6fceadbc41c29ae",
    "executionInfo": {
     "status": "ok",
     "timestamp": 1696076790743,
     "user_tz": -420,
     "elapsed": 675,
     "user": {
      "displayName": "kang sigit",
      "userId": "15887135570512197739"
     }
    },
    "ExecuteTime": {
     "end_time": "2024-01-02T07:39:29.207467634Z",
     "start_time": "2024-01-02T07:39:29.154415326Z"
    }
   },
   "id": "c6fceadbc41c29ae"
  },
  {
   "cell_type": "markdown",
   "source": [
    "### Running experiments to improve our model\n",
    "\n",
    "```\n",
    "Build a model -> fit it -> evaluate it -> tweak it -> fit it -> evaluate it -> tweak it -> fit it -> evaluate it ...\n",
    "```\n",
    "\n",
    "1. Get more data - get more examples for your model to train on (more opportunities to learn patterns or relationships between features and labels).\n",
    "2. Make your model larger (using a more complex model) - this might come in the form of more layers or more hidden units in each layer.\n",
    "3. Train for longger - give your model more of a chance to find patterns in the data.\n",
    "\n",
    "Let's do 3 modelling experiments:\n",
    "\n",
    "1. `model_1` - same as original model, 1 layer, trained for 100 epochs.\n",
    "2. `model_2` - 2 layers, trained for 100 epochs.\n",
    "3. `model_3` - 2 layers, trained for 500 epochs.\n",
    "\n",
    "**Build `model_1`**"
   ],
   "metadata": {
    "collapsed": false,
    "id": "b61006e52b76be84"
   },
   "id": "b61006e52b76be84"
  },
  {
   "cell_type": "code",
   "execution_count": 51,
   "outputs": [
    {
     "name": "stdout",
     "output_type": "stream",
     "text": [
      "Epoch 1/100\n",
      "2/2 [==============================] - 0s 5ms/step - loss: 30.3633 - mae: 30.3633\n",
      "Epoch 2/100\n",
      "2/2 [==============================] - 0s 3ms/step - loss: 9.7048 - mae: 9.7048\n",
      "Epoch 3/100\n",
      "2/2 [==============================] - 0s 4ms/step - loss: 10.8773 - mae: 10.8773\n",
      "Epoch 4/100\n",
      "2/2 [==============================] - 0s 3ms/step - loss: 9.4279 - mae: 9.4279\n",
      "Epoch 5/100\n",
      "2/2 [==============================] - 0s 3ms/step - loss: 10.3175 - mae: 10.3175\n",
      "Epoch 6/100\n",
      "2/2 [==============================] - 0s 3ms/step - loss: 9.5610 - mae: 9.5610\n",
      "Epoch 7/100\n",
      "2/2 [==============================] - 0s 3ms/step - loss: 8.6787 - mae: 8.6787\n",
      "Epoch 8/100\n",
      "2/2 [==============================] - 0s 4ms/step - loss: 9.0467 - mae: 9.0467\n",
      "Epoch 9/100\n",
      "2/2 [==============================] - 0s 4ms/step - loss: 19.0359 - mae: 19.0359\n",
      "Epoch 10/100\n",
      "2/2 [==============================] - 0s 3ms/step - loss: 10.2674 - mae: 10.2674\n",
      "Epoch 11/100\n",
      "2/2 [==============================] - 0s 3ms/step - loss: 8.4534 - mae: 8.4534\n",
      "Epoch 12/100\n",
      "2/2 [==============================] - 0s 3ms/step - loss: 10.7851 - mae: 10.7851\n",
      "Epoch 13/100\n",
      "2/2 [==============================] - 0s 3ms/step - loss: 9.8498 - mae: 9.8498\n",
      "Epoch 14/100\n",
      "2/2 [==============================] - 0s 3ms/step - loss: 12.0148 - mae: 12.0148\n",
      "Epoch 15/100\n",
      "2/2 [==============================] - 0s 3ms/step - loss: 12.4672 - mae: 12.4672\n",
      "Epoch 16/100\n",
      "2/2 [==============================] - 0s 3ms/step - loss: 7.9023 - mae: 7.9023\n",
      "Epoch 17/100\n",
      "2/2 [==============================] - 0s 3ms/step - loss: 12.8191 - mae: 12.8191\n",
      "Epoch 18/100\n",
      "2/2 [==============================] - 0s 2ms/step - loss: 10.4464 - mae: 10.4464\n",
      "Epoch 19/100\n",
      "2/2 [==============================] - 0s 3ms/step - loss: 19.2532 - mae: 19.2532\n",
      "Epoch 20/100\n",
      "2/2 [==============================] - 0s 3ms/step - loss: 15.9166 - mae: 15.9166\n",
      "Epoch 21/100\n",
      "2/2 [==============================] - 0s 3ms/step - loss: 11.8401 - mae: 11.8401\n",
      "Epoch 22/100\n",
      "2/2 [==============================] - 0s 3ms/step - loss: 8.4473 - mae: 8.4473\n",
      "Epoch 23/100\n",
      "2/2 [==============================] - 0s 4ms/step - loss: 9.8099 - mae: 9.8099\n",
      "Epoch 24/100\n",
      "2/2 [==============================] - 0s 3ms/step - loss: 10.8082 - mae: 10.8082\n",
      "Epoch 25/100\n",
      "2/2 [==============================] - 0s 3ms/step - loss: 9.0921 - mae: 9.0921\n",
      "Epoch 26/100\n",
      "2/2 [==============================] - 0s 3ms/step - loss: 13.0357 - mae: 13.0357\n",
      "Epoch 27/100\n",
      "2/2 [==============================] - 0s 3ms/step - loss: 10.3772 - mae: 10.3772\n",
      "Epoch 28/100\n",
      "2/2 [==============================] - 0s 3ms/step - loss: 13.3727 - mae: 13.3727\n",
      "Epoch 29/100\n",
      "2/2 [==============================] - 0s 4ms/step - loss: 9.5963 - mae: 9.5963\n",
      "Epoch 30/100\n",
      "2/2 [==============================] - 0s 4ms/step - loss: 17.1811 - mae: 17.1811\n",
      "Epoch 31/100\n",
      "2/2 [==============================] - 0s 3ms/step - loss: 22.8710 - mae: 22.8710\n",
      "Epoch 32/100\n",
      "2/2 [==============================] - 0s 5ms/step - loss: 7.9031 - mae: 7.9031\n",
      "Epoch 33/100\n",
      "2/2 [==============================] - 0s 4ms/step - loss: 14.1258 - mae: 14.1258\n",
      "Epoch 34/100\n",
      "2/2 [==============================] - 0s 3ms/step - loss: 12.3699 - mae: 12.3699\n",
      "Epoch 35/100\n",
      "2/2 [==============================] - 0s 5ms/step - loss: 8.2490 - mae: 8.2490\n",
      "Epoch 36/100\n",
      "2/2 [==============================] - 0s 3ms/step - loss: 10.4684 - mae: 10.4684\n",
      "Epoch 37/100\n",
      "2/2 [==============================] - 0s 3ms/step - loss: 10.1142 - mae: 10.1142\n",
      "Epoch 38/100\n",
      "2/2 [==============================] - 0s 3ms/step - loss: 11.3064 - mae: 11.3064\n",
      "Epoch 39/100\n",
      "2/2 [==============================] - 0s 3ms/step - loss: 14.7475 - mae: 14.7475\n",
      "Epoch 40/100\n",
      "2/2 [==============================] - 0s 3ms/step - loss: 12.8778 - mae: 12.8778\n",
      "Epoch 41/100\n",
      "2/2 [==============================] - 0s 3ms/step - loss: 9.2672 - mae: 9.2672\n",
      "Epoch 42/100\n",
      "2/2 [==============================] - 0s 4ms/step - loss: 10.9882 - mae: 10.9882\n",
      "Epoch 43/100\n",
      "2/2 [==============================] - 0s 3ms/step - loss: 8.3208 - mae: 8.3208\n",
      "Epoch 44/100\n",
      "2/2 [==============================] - 0s 4ms/step - loss: 13.0354 - mae: 13.0354\n",
      "Epoch 45/100\n",
      "2/2 [==============================] - 0s 4ms/step - loss: 13.6689 - mae: 13.6689\n",
      "Epoch 46/100\n",
      "2/2 [==============================] - 0s 4ms/step - loss: 8.2749 - mae: 8.2749\n",
      "Epoch 47/100\n",
      "2/2 [==============================] - 0s 3ms/step - loss: 8.7104 - mae: 8.7104\n",
      "Epoch 48/100\n",
      "2/2 [==============================] - 0s 4ms/step - loss: 10.0099 - mae: 10.0099\n",
      "Epoch 49/100\n",
      "2/2 [==============================] - 0s 3ms/step - loss: 8.4954 - mae: 8.4954\n",
      "Epoch 50/100\n",
      "2/2 [==============================] - 0s 3ms/step - loss: 9.0009 - mae: 9.0009\n",
      "Epoch 51/100\n",
      "2/2 [==============================] - 0s 3ms/step - loss: 9.3598 - mae: 9.3598\n",
      "Epoch 52/100\n",
      "2/2 [==============================] - 0s 3ms/step - loss: 13.9975 - mae: 13.9975\n",
      "Epoch 53/100\n",
      "2/2 [==============================] - 0s 3ms/step - loss: 15.4284 - mae: 15.4284\n",
      "Epoch 54/100\n",
      "2/2 [==============================] - 0s 4ms/step - loss: 8.2900 - mae: 8.2900\n",
      "Epoch 55/100\n",
      "2/2 [==============================] - 0s 4ms/step - loss: 17.0725 - mae: 17.0725\n",
      "Epoch 56/100\n",
      "2/2 [==============================] - 0s 3ms/step - loss: 9.8168 - mae: 9.8168\n",
      "Epoch 57/100\n",
      "2/2 [==============================] - 0s 4ms/step - loss: 9.6676 - mae: 9.6676\n",
      "Epoch 58/100\n",
      "2/2 [==============================] - 0s 4ms/step - loss: 8.9801 - mae: 8.9801\n",
      "Epoch 59/100\n",
      "2/2 [==============================] - 0s 4ms/step - loss: 10.2021 - mae: 10.2021\n",
      "Epoch 60/100\n",
      "2/2 [==============================] - 0s 5ms/step - loss: 8.3858 - mae: 8.3858\n",
      "Epoch 61/100\n",
      "2/2 [==============================] - 0s 4ms/step - loss: 9.2138 - mae: 9.2138\n",
      "Epoch 62/100\n",
      "2/2 [==============================] - 0s 4ms/step - loss: 7.2654 - mae: 7.2654\n",
      "Epoch 63/100\n",
      "2/2 [==============================] - 0s 4ms/step - loss: 8.1729 - mae: 8.1729\n",
      "Epoch 64/100\n",
      "2/2 [==============================] - 0s 4ms/step - loss: 12.5509 - mae: 12.5509\n",
      "Epoch 65/100\n",
      "2/2 [==============================] - 0s 4ms/step - loss: 10.6292 - mae: 10.6292\n",
      "Epoch 66/100\n",
      "2/2 [==============================] - 0s 4ms/step - loss: 15.4349 - mae: 15.4349\n",
      "Epoch 67/100\n",
      "2/2 [==============================] - 0s 4ms/step - loss: 9.8807 - mae: 9.8807\n",
      "Epoch 68/100\n",
      "2/2 [==============================] - 0s 4ms/step - loss: 8.6598 - mae: 8.6598\n",
      "Epoch 69/100\n",
      "2/2 [==============================] - 0s 5ms/step - loss: 13.3076 - mae: 13.3076\n",
      "Epoch 70/100\n",
      "2/2 [==============================] - 0s 3ms/step - loss: 7.8452 - mae: 7.8452\n",
      "Epoch 71/100\n",
      "2/2 [==============================] - 0s 3ms/step - loss: 11.3495 - mae: 11.3495\n",
      "Epoch 72/100\n",
      "2/2 [==============================] - 0s 4ms/step - loss: 9.5419 - mae: 9.5419\n",
      "Epoch 73/100\n",
      "2/2 [==============================] - 0s 3ms/step - loss: 11.6439 - mae: 11.6439\n",
      "Epoch 74/100\n",
      "2/2 [==============================] - 0s 3ms/step - loss: 10.7409 - mae: 10.7409\n",
      "Epoch 75/100\n",
      "2/2 [==============================] - 0s 4ms/step - loss: 9.5404 - mae: 9.5404\n",
      "Epoch 76/100\n",
      "2/2 [==============================] - 0s 3ms/step - loss: 10.9875 - mae: 10.9875\n",
      "Epoch 77/100\n",
      "2/2 [==============================] - 0s 3ms/step - loss: 11.0535 - mae: 11.0535\n",
      "Epoch 78/100\n",
      "2/2 [==============================] - 0s 4ms/step - loss: 11.5769 - mae: 11.5769\n",
      "Epoch 79/100\n",
      "2/2 [==============================] - 0s 3ms/step - loss: 15.6377 - mae: 15.6377\n",
      "Epoch 80/100\n",
      "2/2 [==============================] - 0s 3ms/step - loss: 11.5514 - mae: 11.5514\n",
      "Epoch 81/100\n",
      "2/2 [==============================] - 0s 4ms/step - loss: 9.4906 - mae: 9.4906\n",
      "Epoch 82/100\n",
      "2/2 [==============================] - 0s 3ms/step - loss: 12.5433 - mae: 12.5433\n",
      "Epoch 83/100\n",
      "2/2 [==============================] - 0s 3ms/step - loss: 8.1453 - mae: 8.1453\n",
      "Epoch 84/100\n",
      "2/2 [==============================] - 0s 3ms/step - loss: 7.5402 - mae: 7.5402\n",
      "Epoch 85/100\n",
      "2/2 [==============================] - 0s 4ms/step - loss: 9.7352 - mae: 9.7352\n",
      "Epoch 86/100\n",
      "2/2 [==============================] - 0s 3ms/step - loss: 9.0385 - mae: 9.0385\n",
      "Epoch 87/100\n",
      "2/2 [==============================] - 0s 3ms/step - loss: 11.6816 - mae: 11.6816\n",
      "Epoch 88/100\n",
      "2/2 [==============================] - 0s 3ms/step - loss: 10.2805 - mae: 10.2805\n",
      "Epoch 89/100\n",
      "2/2 [==============================] - 0s 4ms/step - loss: 6.7356 - mae: 6.7356\n",
      "Epoch 90/100\n",
      "2/2 [==============================] - 0s 3ms/step - loss: 8.1074 - mae: 8.1074\n",
      "Epoch 91/100\n",
      "2/2 [==============================] - 0s 4ms/step - loss: 6.8833 - mae: 6.8833\n",
      "Epoch 92/100\n",
      "2/2 [==============================] - 0s 3ms/step - loss: 8.9787 - mae: 8.9787\n",
      "Epoch 93/100\n",
      "2/2 [==============================] - 0s 3ms/step - loss: 7.4834 - mae: 7.4834\n",
      "Epoch 94/100\n",
      "2/2 [==============================] - 0s 3ms/step - loss: 9.1014 - mae: 9.1014\n",
      "Epoch 95/100\n",
      "2/2 [==============================] - 0s 3ms/step - loss: 10.5642 - mae: 10.5642\n",
      "Epoch 96/100\n",
      "2/2 [==============================] - 0s 4ms/step - loss: 10.5706 - mae: 10.5706\n",
      "Epoch 97/100\n",
      "2/2 [==============================] - 0s 3ms/step - loss: 6.9895 - mae: 6.9895\n",
      "Epoch 98/100\n",
      "2/2 [==============================] - 0s 4ms/step - loss: 9.1364 - mae: 9.1364\n",
      "Epoch 99/100\n",
      "2/2 [==============================] - 0s 4ms/step - loss: 8.9397 - mae: 8.9397\n",
      "Epoch 100/100\n",
      "2/2 [==============================] - 0s 3ms/step - loss: 13.0841 - mae: 13.0841\n"
     ]
    },
    {
     "data": {
      "text/plain": "<keras.callbacks.History at 0x7f6573b2b710>"
     },
     "execution_count": 51,
     "metadata": {},
     "output_type": "execute_result"
    }
   ],
   "source": [
    "# Set random seed\n",
    "tf.random.set_seed(42)\n",
    "\n",
    "# 1. Create the model\n",
    "model_1 = tf.keras.Sequential([\n",
    "    tf.keras.layers.Dense(1)\n",
    "])\n",
    "\n",
    "# 2. Compile the model\n",
    "model_1.compile(loss=tf.keras.losses.mae,\n",
    "                optimizer=tf.keras.optimizers.SGD(),\n",
    "                metrics=[\"mae\"])\n",
    "\n",
    "# 3. Fit the model\n",
    "model_1.fit(tf.expand_dims(X_train, axis=-1), y_train, epochs=100)"
   ],
   "metadata": {
    "colab": {
     "base_uri": "https://localhost:8080/"
    },
    "id": "722c58063f2b0200",
    "executionInfo": {
     "status": "ok",
     "timestamp": 1696076802171,
     "user_tz": -420,
     "elapsed": 5802,
     "user": {
      "displayName": "kang sigit",
      "userId": "15887135570512197739"
     }
    },
    "outputId": "96af9472-0736-414d-a002-0bf8741f4cd3",
    "ExecuteTime": {
     "end_time": "2024-01-02T07:39:34.833092079Z",
     "start_time": "2024-01-02T07:39:33.507140316Z"
    }
   },
   "id": "722c58063f2b0200"
  },
  {
   "cell_type": "code",
   "execution_count": 52,
   "outputs": [
    {
     "name": "stdout",
     "output_type": "stream",
     "text": [
      "WARNING:tensorflow:5 out of the last 5 calls to <function Model.make_predict_function.<locals>.predict_function at 0x7f65731cc9a0> triggered tf.function retracing. Tracing is expensive and the excessive number of tracings could be due to (1) creating @tf.function repeatedly in a loop, (2) passing tensors with different shapes, (3) passing Python objects instead of tensors. For (1), please define your @tf.function outside of the loop. For (2), @tf.function has reduce_retracing=True option that can avoid unnecessary retracing. For (3), please refer to https://www.tensorflow.org/guide/function#controlling_retracing and https://www.tensorflow.org/api_docs/python/tf/function for  more details.\n",
      "1/1 [==============================] - 0s 56ms/step\n"
     ]
    },
    {
     "data": {
      "text/plain": "<Figure size 1000x700 with 1 Axes>",
      "image/png": "[encoded data removed]"
     },
     "metadata": {},
     "output_type": "display_data"
    }
   ],
   "source": [
    "# Make and plot predictions for model_1\n",
    "y_preds_1 = model_1.predict(X_test)\n",
    "plot_predictions(predictions=y_preds_1)"
   ],
   "metadata": {
    "colab": {
     "base_uri": "https://localhost:8080/",
     "height": 656
    },
    "id": "382f33287c6f7581",
    "executionInfo": {
     "status": "ok",
     "timestamp": 1696076818038,
     "user_tz": -420,
     "elapsed": 674,
     "user": {
      "displayName": "kang sigit",
      "userId": "15887135570512197739"
     }
    },
    "outputId": "ccf8fe91-0129-401c-a1c0-25bb427ce51c",
    "ExecuteTime": {
     "end_time": "2024-01-02T07:39:45.250371875Z",
     "start_time": "2024-01-02T07:39:44.839702847Z"
    }
   },
   "id": "382f33287c6f7581"
  },
  {
   "cell_type": "code",
   "execution_count": 53,
   "outputs": [
    {
     "data": {
      "text/plain": "(<tf.Tensor: shape=(10, 1), dtype=float32, numpy=\n array([[42.924923],\n        [45.69829 ],\n        [48.47166 ],\n        [51.24503 ],\n        [54.018402],\n        [56.79177 ],\n        [59.56514 ],\n        [62.338512],\n        [65.11188 ],\n        [67.88525 ]], dtype=float32)>,\n <tf.Tensor: shape=(10,), dtype=float32, numpy=\n array([42.924923, 45.69829 , 48.47166 , 51.24503 , 54.018402, 56.79177 ,\n        59.56514 , 62.338512, 65.11188 , 67.88525 ], dtype=float32)>)"
     },
     "execution_count": 53,
     "metadata": {},
     "output_type": "execute_result"
    }
   ],
   "source": [
    "tf.constant(y_preds_1), tf.squeeze(y_preds_1)"
   ],
   "metadata": {
    "colab": {
     "base_uri": "https://localhost:8080/"
    },
    "id": "d717b5c1f0b6405",
    "executionInfo": {
     "status": "ok",
     "timestamp": 1696076824537,
     "user_tz": -420,
     "elapsed": 618,
     "user": {
      "displayName": "kang sigit",
      "userId": "15887135570512197739"
     }
    },
    "outputId": "c4292f0f-6ede-4cbc-f6cc-5e32de1363fd",
    "ExecuteTime": {
     "end_time": "2024-01-02T07:39:47.396645593Z",
     "start_time": "2024-01-02T07:39:47.349937332Z"
    }
   },
   "id": "d717b5c1f0b6405"
  },
  {
   "cell_type": "code",
   "execution_count": 54,
   "outputs": [
    {
     "data": {
      "text/plain": "(<tf.Tensor: shape=(), dtype=float32, numpy=32.594913>,\n <tf.Tensor: shape=(), dtype=float32, numpy=1074.8416>)"
     },
     "execution_count": 54,
     "metadata": {},
     "output_type": "execute_result"
    }
   ],
   "source": [
    "# Calculate model_1 evaluation metrics\n",
    "mae_1 = mae(y_test, y_preds_1)\n",
    "mse_1 = mse(y_test, y_preds_1)\n",
    "mae_1, mse_1"
   ],
   "metadata": {
    "colab": {
     "base_uri": "https://localhost:8080/"
    },
    "id": "f00fe8d1a1017420",
    "executionInfo": {
     "status": "ok",
     "timestamp": 1696076828361,
     "user_tz": -420,
     "elapsed": 577,
     "user": {
      "displayName": "kang sigit",
      "userId": "15887135570512197739"
     }
    },
    "outputId": "636c597c-4cd6-45be-c773-f547bde4ca55",
    "ExecuteTime": {
     "end_time": "2024-01-02T07:39:49.017560614Z",
     "start_time": "2024-01-02T07:39:48.950182257Z"
    }
   },
   "id": "f00fe8d1a1017420"
  },
  {
   "cell_type": "markdown",
   "source": [
    "**Build `model_2`**\n",
    "\n",
    "* 2 dense layers, trained for 100 epochs"
   ],
   "metadata": {
    "collapsed": false,
    "id": "ab30453e074532d3"
   },
   "id": "ab30453e074532d3"
  },
  {
   "cell_type": "code",
   "execution_count": 55,
   "outputs": [
    {
     "name": "stdout",
     "output_type": "stream",
     "text": [
      "Epoch 1/100\n",
      "2/2 [==============================] - 0s 6ms/step - loss: 12.6154 - mae: 12.6154\n",
      "Epoch 2/100\n",
      "2/2 [==============================] - 0s 4ms/step - loss: 24.5137 - mae: 24.5137\n",
      "Epoch 3/100\n",
      "2/2 [==============================] - 0s 7ms/step - loss: 30.6839 - mae: 30.6839\n",
      "Epoch 4/100\n",
      "2/2 [==============================] - 0s 12ms/step - loss: 23.2512 - mae: 23.2512\n",
      "Epoch 5/100\n",
      "2/2 [==============================] - 0s 7ms/step - loss: 13.8874 - mae: 13.8874\n",
      "Epoch 6/100\n",
      "2/2 [==============================] - 0s 11ms/step - loss: 11.1304 - mae: 11.1304\n",
      "Epoch 7/100\n",
      "2/2 [==============================] - 0s 7ms/step - loss: 12.1243 - mae: 12.1243\n",
      "Epoch 8/100\n",
      "2/2 [==============================] - 0s 11ms/step - loss: 10.8669 - mae: 10.8669\n",
      "Epoch 9/100\n",
      "2/2 [==============================] - 0s 7ms/step - loss: 37.7053 - mae: 37.7053\n",
      "Epoch 10/100\n",
      "2/2 [==============================] - 0s 8ms/step - loss: 25.3383 - mae: 25.3383\n",
      "Epoch 11/100\n",
      "2/2 [==============================] - 0s 7ms/step - loss: 10.2433 - mae: 10.2433\n",
      "Epoch 12/100\n",
      "2/2 [==============================] - 0s 6ms/step - loss: 25.3378 - mae: 25.3378\n",
      "Epoch 13/100\n",
      "2/2 [==============================] - 0s 4ms/step - loss: 16.8838 - mae: 16.8838\n",
      "Epoch 14/100\n",
      "2/2 [==============================] - 0s 4ms/step - loss: 25.7299 - mae: 25.7299\n",
      "Epoch 15/100\n",
      "2/2 [==============================] - 0s 6ms/step - loss: 17.5855 - mae: 17.5855\n",
      "Epoch 16/100\n",
      "2/2 [==============================] - 0s 6ms/step - loss: 10.0482 - mae: 10.0482\n",
      "Epoch 17/100\n",
      "2/2 [==============================] - 0s 7ms/step - loss: 18.5966 - mae: 18.5966\n",
      "Epoch 18/100\n",
      "2/2 [==============================] - 0s 9ms/step - loss: 11.7497 - mae: 11.7497\n",
      "Epoch 19/100\n",
      "2/2 [==============================] - 0s 11ms/step - loss: 16.4184 - mae: 16.4184\n",
      "Epoch 20/100\n",
      "2/2 [==============================] - 0s 7ms/step - loss: 8.2416 - mae: 8.2416\n",
      "Epoch 21/100\n",
      "2/2 [==============================] - 0s 7ms/step - loss: 14.4420 - mae: 14.4420\n",
      "Epoch 22/100\n",
      "2/2 [==============================] - 0s 8ms/step - loss: 12.8607 - mae: 12.8607\n",
      "Epoch 23/100\n",
      "2/2 [==============================] - 0s 8ms/step - loss: 15.4929 - mae: 15.4929\n",
      "Epoch 24/100\n",
      "2/2 [==============================] - 0s 8ms/step - loss: 15.2844 - mae: 15.2844\n",
      "Epoch 25/100\n",
      "2/2 [==============================] - 0s 9ms/step - loss: 14.3495 - mae: 14.3495\n",
      "Epoch 26/100\n",
      "2/2 [==============================] - 0s 9ms/step - loss: 19.3679 - mae: 19.3679\n",
      "Epoch 27/100\n",
      "2/2 [==============================] - 0s 8ms/step - loss: 11.4356 - mae: 11.4356\n",
      "Epoch 28/100\n",
      "2/2 [==============================] - 0s 9ms/step - loss: 29.0193 - mae: 29.0193\n",
      "Epoch 29/100\n",
      "2/2 [==============================] - 0s 9ms/step - loss: 9.2465 - mae: 9.2465\n",
      "Epoch 30/100\n",
      "2/2 [==============================] - 0s 8ms/step - loss: 29.7717 - mae: 29.7717\n",
      "Epoch 31/100\n",
      "2/2 [==============================] - 0s 8ms/step - loss: 54.0120 - mae: 54.0120\n",
      "Epoch 32/100\n",
      "2/2 [==============================] - 0s 11ms/step - loss: 9.5499 - mae: 9.5499\n",
      "Epoch 33/100\n",
      "2/2 [==============================] - 0s 6ms/step - loss: 12.1390 - mae: 12.1390\n",
      "Epoch 34/100\n",
      "2/2 [==============================] - 0s 5ms/step - loss: 23.8198 - mae: 23.8198\n",
      "Epoch 35/100\n",
      "2/2 [==============================] - 0s 5ms/step - loss: 12.6308 - mae: 12.6308\n",
      "Epoch 36/100\n",
      "2/2 [==============================] - 0s 7ms/step - loss: 21.5620 - mae: 21.5620\n",
      "Epoch 37/100\n",
      "2/2 [==============================] - 0s 10ms/step - loss: 11.3466 - mae: 11.3466\n",
      "Epoch 38/100\n",
      "2/2 [==============================] - 0s 5ms/step - loss: 13.4128 - mae: 13.4128\n",
      "Epoch 39/100\n",
      "2/2 [==============================] - 0s 5ms/step - loss: 10.7618 - mae: 10.7618\n",
      "Epoch 40/100\n",
      "2/2 [==============================] - 0s 7ms/step - loss: 16.5262 - mae: 16.5262\n",
      "Epoch 41/100\n",
      "2/2 [==============================] - 0s 7ms/step - loss: 10.9328 - mae: 10.9328\n",
      "Epoch 42/100\n",
      "2/2 [==============================] - 0s 8ms/step - loss: 9.2688 - mae: 9.2688\n",
      "Epoch 43/100\n",
      "2/2 [==============================] - 0s 8ms/step - loss: 9.5803 - mae: 9.5803\n",
      "Epoch 44/100\n",
      "2/2 [==============================] - 0s 13ms/step - loss: 27.8874 - mae: 27.8874\n",
      "Epoch 45/100\n",
      "2/2 [==============================] - 0s 14ms/step - loss: 11.2515 - mae: 11.2515\n",
      "Epoch 46/100\n",
      "2/2 [==============================] - 0s 9ms/step - loss: 13.8395 - mae: 13.8395\n",
      "Epoch 47/100\n",
      "2/2 [==============================] - 0s 13ms/step - loss: 11.9244 - mae: 11.9244\n",
      "Epoch 48/100\n",
      "2/2 [==============================] - 0s 6ms/step - loss: 16.9625 - mae: 16.9625\n",
      "Epoch 49/100\n",
      "2/2 [==============================] - 0s 11ms/step - loss: 9.7633 - mae: 9.7633\n",
      "Epoch 50/100\n",
      "2/2 [==============================] - 0s 7ms/step - loss: 14.1506 - mae: 14.1506\n",
      "Epoch 51/100\n",
      "2/2 [==============================] - 0s 6ms/step - loss: 11.7269 - mae: 11.7269\n",
      "Epoch 52/100\n",
      "2/2 [==============================] - 0s 10ms/step - loss: 31.3579 - mae: 31.3579\n",
      "Epoch 53/100\n",
      "2/2 [==============================] - 0s 5ms/step - loss: 14.7101 - mae: 14.7101\n",
      "Epoch 54/100\n",
      "2/2 [==============================] - 0s 7ms/step - loss: 24.5917 - mae: 24.5917\n",
      "Epoch 55/100\n",
      "2/2 [==============================] - 0s 9ms/step - loss: 23.8715 - mae: 23.8715\n",
      "Epoch 56/100\n",
      "2/2 [==============================] - 0s 7ms/step - loss: 11.1075 - mae: 11.1075\n",
      "Epoch 57/100\n",
      "2/2 [==============================] - 0s 5ms/step - loss: 13.0435 - mae: 13.0435\n",
      "Epoch 58/100\n",
      "2/2 [==============================] - 0s 5ms/step - loss: 9.7691 - mae: 9.7691\n",
      "Epoch 59/100\n",
      "2/2 [==============================] - 0s 7ms/step - loss: 13.2224 - mae: 13.2224\n",
      "Epoch 60/100\n",
      "2/2 [==============================] - 0s 5ms/step - loss: 10.8208 - mae: 10.8208\n",
      "Epoch 61/100\n",
      "2/2 [==============================] - 0s 4ms/step - loss: 13.4012 - mae: 13.4012\n",
      "Epoch 62/100\n",
      "2/2 [==============================] - 0s 6ms/step - loss: 17.3660 - mae: 17.3660\n",
      "Epoch 63/100\n",
      "2/2 [==============================] - 0s 13ms/step - loss: 9.1280 - mae: 9.1280\n",
      "Epoch 64/100\n",
      "2/2 [==============================] - 0s 9ms/step - loss: 18.2392 - mae: 18.2392\n",
      "Epoch 65/100\n",
      "2/2 [==============================] - 0s 17ms/step - loss: 10.0827 - mae: 10.0827\n",
      "Epoch 66/100\n",
      "2/2 [==============================] - 0s 5ms/step - loss: 24.0685 - mae: 24.0685\n",
      "Epoch 67/100\n",
      "2/2 [==============================] - 0s 5ms/step - loss: 10.8293 - mae: 10.8293\n",
      "Epoch 68/100\n",
      "2/2 [==============================] - 0s 5ms/step - loss: 10.7267 - mae: 10.7267\n",
      "Epoch 69/100\n",
      "2/2 [==============================] - 0s 5ms/step - loss: 23.0369 - mae: 23.0369\n",
      "Epoch 70/100\n",
      "2/2 [==============================] - 0s 11ms/step - loss: 8.8494 - mae: 8.8494\n",
      "Epoch 71/100\n",
      "2/2 [==============================] - 0s 5ms/step - loss: 16.0881 - mae: 16.0881\n",
      "Epoch 72/100\n",
      "2/2 [==============================] - 0s 11ms/step - loss: 7.7613 - mae: 7.7613\n",
      "Epoch 73/100\n",
      "2/2 [==============================] - 0s 12ms/step - loss: 10.6351 - mae: 10.6351\n",
      "Epoch 74/100\n",
      "2/2 [==============================] - 0s 15ms/step - loss: 27.9169 - mae: 27.9169\n",
      "Epoch 75/100\n",
      "2/2 [==============================] - 0s 10ms/step - loss: 10.4556 - mae: 10.4556\n",
      "Epoch 76/100\n",
      "2/2 [==============================] - 0s 8ms/step - loss: 13.4510 - mae: 13.4510\n",
      "Epoch 77/100\n",
      "2/2 [==============================] - 0s 9ms/step - loss: 19.2918 - mae: 19.2918\n",
      "Epoch 78/100\n",
      "2/2 [==============================] - 0s 7ms/step - loss: 8.8980 - mae: 8.8980\n",
      "Epoch 79/100\n",
      "2/2 [==============================] - 0s 10ms/step - loss: 27.9558 - mae: 27.9558\n",
      "Epoch 80/100\n",
      "2/2 [==============================] - 0s 7ms/step - loss: 30.0382 - mae: 30.0382\n",
      "Epoch 81/100\n",
      "2/2 [==============================] - 0s 7ms/step - loss: 13.8289 - mae: 13.8289\n",
      "Epoch 82/100\n",
      "2/2 [==============================] - 0s 8ms/step - loss: 15.7389 - mae: 15.7389\n",
      "Epoch 83/100\n",
      "2/2 [==============================] - 0s 7ms/step - loss: 9.2551 - mae: 9.2551\n",
      "Epoch 84/100\n",
      "2/2 [==============================] - 0s 8ms/step - loss: 8.1889 - mae: 8.1889\n",
      "Epoch 85/100\n",
      "2/2 [==============================] - 0s 7ms/step - loss: 18.7482 - mae: 18.7482\n",
      "Epoch 86/100\n",
      "2/2 [==============================] - 0s 8ms/step - loss: 22.2631 - mae: 22.2631\n",
      "Epoch 87/100\n",
      "2/2 [==============================] - 0s 7ms/step - loss: 11.2852 - mae: 11.2852\n",
      "Epoch 88/100\n",
      "2/2 [==============================] - 0s 10ms/step - loss: 26.2540 - mae: 26.2540\n",
      "Epoch 89/100\n",
      "2/2 [==============================] - 0s 9ms/step - loss: 9.5820 - mae: 9.5820\n",
      "Epoch 90/100\n",
      "2/2 [==============================] - 0s 14ms/step - loss: 18.4848 - mae: 18.4848\n",
      "Epoch 91/100\n",
      "2/2 [==============================] - 0s 8ms/step - loss: 10.4007 - mae: 10.4007\n",
      "Epoch 92/100\n",
      "2/2 [==============================] - 0s 8ms/step - loss: 17.7234 - mae: 17.7234\n",
      "Epoch 93/100\n",
      "2/2 [==============================] - 0s 7ms/step - loss: 6.8484 - mae: 6.8484\n",
      "Epoch 94/100\n",
      "2/2 [==============================] - 0s 6ms/step - loss: 17.5988 - mae: 17.5988\n",
      "Epoch 95/100\n",
      "2/2 [==============================] - 0s 8ms/step - loss: 17.2986 - mae: 17.2986\n",
      "Epoch 96/100\n",
      "2/2 [==============================] - 0s 6ms/step - loss: 11.4864 - mae: 11.4864\n",
      "Epoch 97/100\n",
      "2/2 [==============================] - 0s 9ms/step - loss: 18.2331 - mae: 18.2331\n",
      "Epoch 98/100\n",
      "2/2 [==============================] - 0s 7ms/step - loss: 9.7128 - mae: 9.7128\n",
      "Epoch 99/100\n",
      "2/2 [==============================] - 0s 6ms/step - loss: 16.8954 - mae: 16.8954\n",
      "Epoch 100/100\n",
      "2/2 [==============================] - 0s 9ms/step - loss: 17.7608 - mae: 17.7608\n"
     ]
    },
    {
     "data": {
      "text/plain": "<keras.callbacks.History at 0x7f65731c9a10>"
     },
     "execution_count": 55,
     "metadata": {},
     "output_type": "execute_result"
    }
   ],
   "source": [
    "# Set the random seed\n",
    "tf.random.set_seed(42)\n",
    "\n",
    "# 1. Create the model\n",
    "model_2 = tf.keras.Sequential([\n",
    "    tf.keras.layers.Dense(10),\n",
    "    tf.keras.layers.Dense(1)\n",
    "])\n",
    "\n",
    "# 2. Compile the model\n",
    "model_2.compile(loss=tf.keras.losses.mae,\n",
    "                optimizer=tf.keras.optimizers.SGD(),\n",
    "                metrics=[\"mae\"])\n",
    "\n",
    "# 3. Fit the model\n",
    "model_2.fit(tf.expand_dims(X_train, axis=-1), y_train, epochs=100)"
   ],
   "metadata": {
    "colab": {
     "base_uri": "https://localhost:8080/"
    },
    "id": "9acb465fd20c995c",
    "executionInfo": {
     "status": "ok",
     "timestamp": 1696076835059,
     "user_tz": -420,
     "elapsed": 3096,
     "user": {
      "displayName": "kang sigit",
      "userId": "15887135570512197739"
     }
    },
    "outputId": "51e23998-df47-4cb0-ad6f-52ab121a102c",
    "ExecuteTime": {
     "end_time": "2024-01-02T07:40:02.189665253Z",
     "start_time": "2024-01-02T07:39:59.555110398Z"
    }
   },
   "id": "9acb465fd20c995c"
  },
  {
   "cell_type": "code",
   "execution_count": 56,
   "outputs": [
    {
     "name": "stdout",
     "output_type": "stream",
     "text": [
      "WARNING:tensorflow:6 out of the last 6 calls to <function Model.make_predict_function.<locals>.predict_function at 0x7f657305e3e0> triggered tf.function retracing. Tracing is expensive and the excessive number of tracings could be due to (1) creating @tf.function repeatedly in a loop, (2) passing tensors with different shapes, (3) passing Python objects instead of tensors. For (1), please define your @tf.function outside of the loop. For (2), @tf.function has reduce_retracing=True option that can avoid unnecessary retracing. For (3), please refer to https://www.tensorflow.org/guide/function#controlling_retracing and https://www.tensorflow.org/api_docs/python/tf/function for  more details.\n",
      "1/1 [==============================] - 0s 49ms/step\n"
     ]
    },
    {
     "data": {
      "text/plain": "<Figure size 1000x700 with 1 Axes>",
      "image/png": "[encoded data removed]"
     },
     "metadata": {},
     "output_type": "display_data"
    }
   ],
   "source": [
    "# Make and plot predictions of model_2\n",
    "y_preds_2 = model_2.predict(X_test)\n",
    "plot_predictions(predictions=y_preds_2)"
   ],
   "metadata": {
    "colab": {
     "base_uri": "https://localhost:8080/",
     "height": 656
    },
    "id": "1734489efbd4fb4e",
    "executionInfo": {
     "status": "ok",
     "timestamp": 1696076839093,
     "user_tz": -420,
     "elapsed": 22,
     "user": {
      "displayName": "kang sigit",
      "userId": "15887135570512197739"
     }
    },
    "outputId": "d02300c6-dceb-4b21-cb6f-445de699ad4f",
    "ExecuteTime": {
     "end_time": "2024-01-02T07:40:05.514335339Z",
     "start_time": "2024-01-02T07:40:04.791862055Z"
    }
   },
   "id": "1734489efbd4fb4e"
  },
  {
   "cell_type": "code",
   "execution_count": 57,
   "outputs": [
    {
     "data": {
      "text/plain": "(<tf.Tensor: shape=(), dtype=float32, numpy=42.87731>,\n <tf.Tensor: shape=(), dtype=float32, numpy=1864.013>)"
     },
     "execution_count": 57,
     "metadata": {},
     "output_type": "execute_result"
    }
   ],
   "source": [
    "# Calculate model_2 evaluation metrics\n",
    "mae_2 = mae(y_test, y_preds_2)\n",
    "mse_2 = mse(y_test, y_preds_2)\n",
    "mae_2, mse_2"
   ],
   "metadata": {
    "colab": {
     "base_uri": "https://localhost:8080/"
    },
    "id": "c1a1bfe80b2973d1",
    "executionInfo": {
     "status": "ok",
     "timestamp": 1696076843791,
     "user_tz": -420,
     "elapsed": 11,
     "user": {
      "displayName": "kang sigit",
      "userId": "15887135570512197739"
     }
    },
    "outputId": "b1dbc06c-a856-4769-e57a-66b0e8c780ae",
    "ExecuteTime": {
     "end_time": "2024-01-02T07:40:10.921024583Z",
     "start_time": "2024-01-02T07:40:10.855319374Z"
    }
   },
   "id": "c1a1bfe80b2973d1"
  },
  {
   "cell_type": "markdown",
   "source": [
    "**Build `model_3`**\n",
    "\n",
    "* 2 dense layers, trained for 500 epochs"
   ],
   "metadata": {
    "collapsed": false,
    "id": "e429d78109168242"
   },
   "id": "e429d78109168242"
  },
  {
   "cell_type": "code",
   "execution_count": 58,
   "outputs": [
    {
     "name": "stdout",
     "output_type": "stream",
     "text": [
      "Epoch 1/500\n",
      "2/2 [==============================] - 0s 7ms/step - loss: 29.3689 - mae: 29.3689\n",
      "Epoch 2/500\n",
      "2/2 [==============================] - 0s 6ms/step - loss: 25.7330 - mae: 25.7330\n",
      "Epoch 3/500\n",
      "2/2 [==============================] - 0s 7ms/step - loss: 31.4184 - mae: 31.4184\n",
      "Epoch 4/500\n",
      "2/2 [==============================] - 0s 8ms/step - loss: 25.1493 - mae: 25.1493\n",
      "Epoch 5/500\n",
      "2/2 [==============================] - 0s 8ms/step - loss: 14.8727 - mae: 14.8727\n",
      "Epoch 6/500\n",
      "2/2 [==============================] - 0s 10ms/step - loss: 11.8295 - mae: 11.8295\n",
      "Epoch 7/500\n",
      "2/2 [==============================] - 0s 6ms/step - loss: 11.1549 - mae: 11.1549\n",
      "Epoch 8/500\n",
      "2/2 [==============================] - 0s 5ms/step - loss: 11.0796 - mae: 11.0796\n",
      "Epoch 9/500\n",
      "2/2 [==============================] - 0s 6ms/step - loss: 40.3058 - mae: 40.3058\n",
      "Epoch 10/500\n",
      "2/2 [==============================] - 0s 5ms/step - loss: 27.7197 - mae: 27.7197\n",
      "Epoch 11/500\n",
      "2/2 [==============================] - 0s 5ms/step - loss: 10.2480 - mae: 10.2480\n",
      "Epoch 12/500\n",
      "2/2 [==============================] - 0s 5ms/step - loss: 25.3285 - mae: 25.3285\n",
      "Epoch 13/500\n",
      "2/2 [==============================] - 0s 5ms/step - loss: 16.9194 - mae: 16.9194\n",
      "Epoch 14/500\n",
      "2/2 [==============================] - 0s 6ms/step - loss: 25.7920 - mae: 25.7920\n",
      "Epoch 15/500\n",
      "2/2 [==============================] - 0s 6ms/step - loss: 17.6343 - mae: 17.6343\n",
      "Epoch 16/500\n",
      "2/2 [==============================] - 0s 7ms/step - loss: 10.0663 - mae: 10.0663\n",
      "Epoch 17/500\n",
      "2/2 [==============================] - 0s 7ms/step - loss: 18.6407 - mae: 18.6407\n",
      "Epoch 18/500\n",
      "2/2 [==============================] - 0s 7ms/step - loss: 11.7758 - mae: 11.7758\n",
      "Epoch 19/500\n",
      "2/2 [==============================] - 0s 6ms/step - loss: 16.4706 - mae: 16.4706\n",
      "Epoch 20/500\n",
      "2/2 [==============================] - 0s 5ms/step - loss: 8.2417 - mae: 8.2417\n",
      "Epoch 21/500\n",
      "2/2 [==============================] - 0s 6ms/step - loss: 14.4254 - mae: 14.4254\n",
      "Epoch 22/500\n",
      "2/2 [==============================] - 0s 7ms/step - loss: 12.8406 - mae: 12.8406\n",
      "Epoch 23/500\n",
      "2/2 [==============================] - 0s 6ms/step - loss: 15.4767 - mae: 15.4767\n",
      "Epoch 24/500\n",
      "2/2 [==============================] - 0s 6ms/step - loss: 15.2666 - mae: 15.2666\n",
      "Epoch 25/500\n",
      "2/2 [==============================] - 0s 7ms/step - loss: 14.3397 - mae: 14.3397\n",
      "Epoch 26/500\n",
      "2/2 [==============================] - 0s 7ms/step - loss: 19.3452 - mae: 19.3452\n",
      "Epoch 27/500\n",
      "2/2 [==============================] - 0s 6ms/step - loss: 11.4521 - mae: 11.4521\n",
      "Epoch 28/500\n",
      "2/2 [==============================] - 0s 9ms/step - loss: 29.0963 - mae: 29.0963\n",
      "Epoch 29/500\n",
      "2/2 [==============================] - 0s 9ms/step - loss: 9.2510 - mae: 9.2510\n",
      "Epoch 30/500\n",
      "2/2 [==============================] - 0s 7ms/step - loss: 29.8314 - mae: 29.8314\n",
      "Epoch 31/500\n",
      "2/2 [==============================] - 0s 6ms/step - loss: 54.1299 - mae: 54.1299\n",
      "Epoch 32/500\n",
      "2/2 [==============================] - 0s 9ms/step - loss: 9.5687 - mae: 9.5687\n",
      "Epoch 33/500\n",
      "2/2 [==============================] - 0s 10ms/step - loss: 12.1601 - mae: 12.1601\n",
      "Epoch 34/500\n",
      "2/2 [==============================] - 0s 6ms/step - loss: 23.8902 - mae: 23.8902\n",
      "Epoch 35/500\n",
      "2/2 [==============================] - 0s 8ms/step - loss: 12.6244 - mae: 12.6244\n",
      "Epoch 36/500\n",
      "2/2 [==============================] - 0s 6ms/step - loss: 21.5388 - mae: 21.5388\n",
      "Epoch 37/500\n",
      "2/2 [==============================] - 0s 7ms/step - loss: 11.3709 - mae: 11.3709\n",
      "Epoch 38/500\n",
      "2/2 [==============================] - 0s 6ms/step - loss: 13.4495 - mae: 13.4495\n",
      "Epoch 39/500\n",
      "2/2 [==============================] - 0s 9ms/step - loss: 10.7829 - mae: 10.7829\n",
      "Epoch 40/500\n",
      "2/2 [==============================] - 0s 9ms/step - loss: 16.5771 - mae: 16.5771\n",
      "Epoch 41/500\n",
      "2/2 [==============================] - 0s 7ms/step - loss: 10.9621 - mae: 10.9621\n",
      "Epoch 42/500\n",
      "2/2 [==============================] - 0s 11ms/step - loss: 9.2919 - mae: 9.2919\n",
      "Epoch 43/500\n",
      "2/2 [==============================] - 0s 8ms/step - loss: 9.5901 - mae: 9.5901\n",
      "Epoch 44/500\n",
      "2/2 [==============================] - 0s 7ms/step - loss: 27.9623 - mae: 27.9623\n",
      "Epoch 45/500\n",
      "2/2 [==============================] - 0s 11ms/step - loss: 11.2760 - mae: 11.2760\n",
      "Epoch 46/500\n",
      "2/2 [==============================] - 0s 12ms/step - loss: 14.0486 - mae: 14.0486\n",
      "Epoch 47/500\n",
      "2/2 [==============================] - 0s 12ms/step - loss: 13.5094 - mae: 13.5094\n",
      "Epoch 48/500\n",
      "2/2 [==============================] - 0s 9ms/step - loss: 17.3499 - mae: 17.3499\n",
      "Epoch 49/500\n",
      "2/2 [==============================] - 0s 8ms/step - loss: 9.5084 - mae: 9.5084\n",
      "Epoch 50/500\n",
      "2/2 [==============================] - 0s 6ms/step - loss: 13.6927 - mae: 13.6927\n",
      "Epoch 51/500\n",
      "2/2 [==============================] - 0s 6ms/step - loss: 11.5549 - mae: 11.5549\n",
      "Epoch 52/500\n",
      "2/2 [==============================] - 0s 8ms/step - loss: 30.1895 - mae: 30.1895\n",
      "Epoch 53/500\n",
      "2/2 [==============================] - 0s 12ms/step - loss: 13.7181 - mae: 13.7181\n",
      "Epoch 54/500\n",
      "2/2 [==============================] - 0s 10ms/step - loss: 26.4154 - mae: 26.4154\n",
      "Epoch 55/500\n",
      "2/2 [==============================] - 0s 8ms/step - loss: 26.0021 - mae: 26.0021\n",
      "Epoch 56/500\n",
      "2/2 [==============================] - 0s 14ms/step - loss: 11.2297 - mae: 11.2297\n",
      "Epoch 57/500\n",
      "2/2 [==============================] - 0s 14ms/step - loss: 13.2059 - mae: 13.2059\n",
      "Epoch 58/500\n",
      "2/2 [==============================] - 0s 9ms/step - loss: 9.8629 - mae: 9.8629\n",
      "Epoch 59/500\n",
      "2/2 [==============================] - 0s 5ms/step - loss: 13.3979 - mae: 13.3979\n",
      "Epoch 60/500\n",
      "2/2 [==============================] - 0s 12ms/step - loss: 10.9276 - mae: 10.9276\n",
      "Epoch 61/500\n",
      "2/2 [==============================] - 0s 8ms/step - loss: 13.5491 - mae: 13.5491\n",
      "Epoch 62/500\n",
      "2/2 [==============================] - 0s 8ms/step - loss: 17.8603 - mae: 17.8603\n",
      "Epoch 63/500\n",
      "2/2 [==============================] - 0s 13ms/step - loss: 8.7327 - mae: 8.7327\n",
      "Epoch 64/500\n",
      "2/2 [==============================] - 0s 6ms/step - loss: 16.1239 - mae: 16.1239\n",
      "Epoch 65/500\n",
      "2/2 [==============================] - 0s 6ms/step - loss: 10.7402 - mae: 10.7402\n",
      "Epoch 66/500\n",
      "2/2 [==============================] - 0s 9ms/step - loss: 22.1691 - mae: 22.1691\n",
      "Epoch 67/500\n",
      "2/2 [==============================] - 0s 10ms/step - loss: 10.2616 - mae: 10.2616\n",
      "Epoch 68/500\n",
      "2/2 [==============================] - 0s 5ms/step - loss: 13.4587 - mae: 13.4587\n",
      "Epoch 69/500\n",
      "2/2 [==============================] - 0s 7ms/step - loss: 11.4252 - mae: 11.4252\n",
      "Epoch 70/500\n",
      "2/2 [==============================] - 0s 5ms/step - loss: 13.6091 - mae: 13.6091\n",
      "Epoch 71/500\n",
      "2/2 [==============================] - 0s 6ms/step - loss: 15.6161 - mae: 15.6161\n",
      "Epoch 72/500\n",
      "2/2 [==============================] - 0s 6ms/step - loss: 11.8456 - mae: 11.8456\n",
      "Epoch 73/500\n",
      "2/2 [==============================] - 0s 7ms/step - loss: 16.6202 - mae: 16.6202\n",
      "Epoch 74/500\n",
      "2/2 [==============================] - 0s 10ms/step - loss: 24.1331 - mae: 24.1331\n",
      "Epoch 75/500\n",
      "2/2 [==============================] - 0s 9ms/step - loss: 9.6259 - mae: 9.6259\n",
      "Epoch 76/500\n",
      "2/2 [==============================] - 0s 8ms/step - loss: 12.4771 - mae: 12.4771\n",
      "Epoch 77/500\n",
      "2/2 [==============================] - 0s 7ms/step - loss: 16.7093 - mae: 16.7093\n",
      "Epoch 78/500\n",
      "2/2 [==============================] - 0s 6ms/step - loss: 9.0819 - mae: 9.0819\n",
      "Epoch 79/500\n",
      "2/2 [==============================] - 0s 10ms/step - loss: 24.0312 - mae: 24.0312\n",
      "Epoch 80/500\n",
      "2/2 [==============================] - 0s 9ms/step - loss: 26.8238 - mae: 26.8238\n",
      "Epoch 81/500\n",
      "2/2 [==============================] - 0s 8ms/step - loss: 11.7189 - mae: 11.7189\n",
      "Epoch 82/500\n",
      "2/2 [==============================] - 0s 7ms/step - loss: 12.0080 - mae: 12.0080\n",
      "Epoch 83/500\n",
      "2/2 [==============================] - 0s 11ms/step - loss: 17.4020 - mae: 17.4020\n",
      "Epoch 84/500\n",
      "2/2 [==============================] - 0s 9ms/step - loss: 7.2708 - mae: 7.2708\n",
      "Epoch 85/500\n",
      "2/2 [==============================] - 0s 12ms/step - loss: 14.9540 - mae: 14.9540\n",
      "Epoch 86/500\n",
      "2/2 [==============================] - 0s 8ms/step - loss: 15.2790 - mae: 15.2790\n",
      "Epoch 87/500\n",
      "2/2 [==============================] - 0s 10ms/step - loss: 19.0887 - mae: 19.0887\n",
      "Epoch 88/500\n",
      "2/2 [==============================] - 0s 7ms/step - loss: 29.8792 - mae: 29.8792\n",
      "Epoch 89/500\n",
      "2/2 [==============================] - 0s 8ms/step - loss: 10.1947 - mae: 10.1947\n",
      "Epoch 90/500\n",
      "2/2 [==============================] - 0s 8ms/step - loss: 21.5653 - mae: 21.5653\n",
      "Epoch 91/500\n",
      "2/2 [==============================] - 0s 9ms/step - loss: 10.5927 - mae: 10.5927\n",
      "Epoch 92/500\n",
      "2/2 [==============================] - 0s 9ms/step - loss: 18.4319 - mae: 18.4319\n",
      "Epoch 93/500\n",
      "2/2 [==============================] - 0s 13ms/step - loss: 7.4270 - mae: 7.4270\n",
      "Epoch 94/500\n",
      "2/2 [==============================] - 0s 8ms/step - loss: 17.7650 - mae: 17.7650\n",
      "Epoch 95/500\n",
      "2/2 [==============================] - 0s 8ms/step - loss: 11.1339 - mae: 11.1339\n",
      "Epoch 96/500\n",
      "2/2 [==============================] - 0s 10ms/step - loss: 19.4605 - mae: 19.4605\n",
      "Epoch 97/500\n",
      "2/2 [==============================] - 0s 7ms/step - loss: 12.5029 - mae: 12.5029\n",
      "Epoch 98/500\n",
      "2/2 [==============================] - 0s 8ms/step - loss: 10.2997 - mae: 10.2997\n",
      "Epoch 99/500\n",
      "2/2 [==============================] - 0s 8ms/step - loss: 13.8293 - mae: 13.8293\n",
      "Epoch 100/500\n",
      "2/2 [==============================] - 0s 9ms/step - loss: 20.1177 - mae: 20.1177\n",
      "Epoch 101/500\n",
      "2/2 [==============================] - 0s 8ms/step - loss: 11.4194 - mae: 11.4194\n",
      "Epoch 102/500\n",
      "2/2 [==============================] - 0s 7ms/step - loss: 17.3823 - mae: 17.3823\n",
      "Epoch 103/500\n",
      "2/2 [==============================] - 0s 7ms/step - loss: 7.7729 - mae: 7.7729\n",
      "Epoch 104/500\n",
      "2/2 [==============================] - 0s 6ms/step - loss: 22.1328 - mae: 22.1328\n",
      "Epoch 105/500\n",
      "2/2 [==============================] - 0s 9ms/step - loss: 20.6431 - mae: 20.6431\n",
      "Epoch 106/500\n",
      "2/2 [==============================] - 0s 7ms/step - loss: 10.0578 - mae: 10.0578\n",
      "Epoch 107/500\n",
      "2/2 [==============================] - 0s 7ms/step - loss: 24.6560 - mae: 24.6560\n",
      "Epoch 108/500\n",
      "2/2 [==============================] - 0s 10ms/step - loss: 15.4298 - mae: 15.4298\n",
      "Epoch 109/500\n",
      "2/2 [==============================] - 0s 8ms/step - loss: 8.1673 - mae: 8.1673\n",
      "Epoch 110/500\n",
      "2/2 [==============================] - 0s 7ms/step - loss: 7.0121 - mae: 7.0121\n",
      "Epoch 111/500\n",
      "2/2 [==============================] - 0s 8ms/step - loss: 9.7653 - mae: 9.7653\n",
      "Epoch 112/500\n",
      "2/2 [==============================] - 0s 7ms/step - loss: 19.2534 - mae: 19.2534\n",
      "Epoch 113/500\n",
      "2/2 [==============================] - 0s 7ms/step - loss: 9.0695 - mae: 9.0695\n",
      "Epoch 114/500\n",
      "2/2 [==============================] - 0s 9ms/step - loss: 26.5913 - mae: 26.5913\n",
      "Epoch 115/500\n",
      "2/2 [==============================] - 0s 9ms/step - loss: 14.7893 - mae: 14.7893\n",
      "Epoch 116/500\n",
      "2/2 [==============================] - 0s 14ms/step - loss: 12.3888 - mae: 12.3888\n",
      "Epoch 117/500\n",
      "2/2 [==============================] - 0s 8ms/step - loss: 16.0180 - mae: 16.0180\n",
      "Epoch 118/500\n",
      "2/2 [==============================] - 0s 13ms/step - loss: 6.4395 - mae: 6.4395\n",
      "Epoch 119/500\n",
      "2/2 [==============================] - 0s 8ms/step - loss: 9.8583 - mae: 9.8583\n",
      "Epoch 120/500\n",
      "2/2 [==============================] - 0s 9ms/step - loss: 32.0637 - mae: 32.0637\n",
      "Epoch 121/500\n",
      "2/2 [==============================] - 0s 7ms/step - loss: 14.1994 - mae: 14.1994\n",
      "Epoch 122/500\n",
      "2/2 [==============================] - 0s 10ms/step - loss: 28.4244 - mae: 28.4244\n",
      "Epoch 123/500\n",
      "2/2 [==============================] - 0s 7ms/step - loss: 13.1955 - mae: 13.1955\n",
      "Epoch 124/500\n",
      "2/2 [==============================] - 0s 7ms/step - loss: 15.2537 - mae: 15.2537\n",
      "Epoch 125/500\n",
      "2/2 [==============================] - 0s 11ms/step - loss: 7.0113 - mae: 7.0113\n",
      "Epoch 126/500\n",
      "2/2 [==============================] - 0s 8ms/step - loss: 21.8967 - mae: 21.8967\n",
      "Epoch 127/500\n",
      "2/2 [==============================] - 0s 9ms/step - loss: 7.9983 - mae: 7.9983\n",
      "Epoch 128/500\n",
      "2/2 [==============================] - 0s 12ms/step - loss: 21.1431 - mae: 21.1431\n",
      "Epoch 129/500\n",
      "2/2 [==============================] - 0s 9ms/step - loss: 9.0307 - mae: 9.0307\n",
      "Epoch 130/500\n",
      "2/2 [==============================] - 0s 18ms/step - loss: 24.1426 - mae: 24.1426\n",
      "Epoch 131/500\n",
      "2/2 [==============================] - 0s 10ms/step - loss: 9.7795 - mae: 9.7795\n",
      "Epoch 132/500\n",
      "2/2 [==============================] - 0s 8ms/step - loss: 18.3843 - mae: 18.3843\n",
      "Epoch 133/500\n",
      "2/2 [==============================] - 0s 9ms/step - loss: 7.5987 - mae: 7.5987\n",
      "Epoch 134/500\n",
      "2/2 [==============================] - 0s 12ms/step - loss: 18.6497 - mae: 18.6497\n",
      "Epoch 135/500\n",
      "2/2 [==============================] - 0s 9ms/step - loss: 10.5641 - mae: 10.5641\n",
      "Epoch 136/500\n",
      "2/2 [==============================] - 0s 8ms/step - loss: 18.3298 - mae: 18.3298\n",
      "Epoch 137/500\n",
      "2/2 [==============================] - 0s 8ms/step - loss: 23.2498 - mae: 23.2498\n",
      "Epoch 138/500\n",
      "2/2 [==============================] - 0s 9ms/step - loss: 9.1711 - mae: 9.1711\n",
      "Epoch 139/500\n",
      "2/2 [==============================] - 0s 8ms/step - loss: 8.9407 - mae: 8.9407\n",
      "Epoch 140/500\n",
      "2/2 [==============================] - 0s 14ms/step - loss: 16.5309 - mae: 16.5309\n",
      "Epoch 141/500\n",
      "2/2 [==============================] - 0s 10ms/step - loss: 8.4284 - mae: 8.4284\n",
      "Epoch 142/500\n",
      "2/2 [==============================] - 0s 9ms/step - loss: 37.0544 - mae: 37.0544\n",
      "Epoch 143/500\n",
      "2/2 [==============================] - 0s 8ms/step - loss: 25.6669 - mae: 25.6669\n",
      "Epoch 144/500\n",
      "2/2 [==============================] - 0s 10ms/step - loss: 9.5396 - mae: 9.5396\n",
      "Epoch 145/500\n",
      "2/2 [==============================] - 0s 8ms/step - loss: 26.5837 - mae: 26.5837\n",
      "Epoch 146/500\n",
      "2/2 [==============================] - 0s 11ms/step - loss: 8.7623 - mae: 8.7623\n",
      "Epoch 147/500\n",
      "2/2 [==============================] - 0s 11ms/step - loss: 15.6007 - mae: 15.6007\n",
      "Epoch 148/500\n",
      "2/2 [==============================] - 0s 9ms/step - loss: 18.2824 - mae: 18.2824\n",
      "Epoch 149/500\n",
      "2/2 [==============================] - 0s 15ms/step - loss: 8.2246 - mae: 8.2246\n",
      "Epoch 150/500\n",
      "2/2 [==============================] - 0s 5ms/step - loss: 7.5083 - mae: 7.5083\n",
      "Epoch 151/500\n",
      "2/2 [==============================] - 0s 9ms/step - loss: 18.3905 - mae: 18.3905\n",
      "Epoch 152/500\n",
      "2/2 [==============================] - 0s 9ms/step - loss: 10.3068 - mae: 10.3068\n",
      "Epoch 153/500\n",
      "2/2 [==============================] - 0s 12ms/step - loss: 29.7208 - mae: 29.7208\n",
      "Epoch 154/500\n",
      "2/2 [==============================] - 0s 10ms/step - loss: 10.5432 - mae: 10.5432\n",
      "Epoch 155/500\n",
      "2/2 [==============================] - 0s 8ms/step - loss: 15.4421 - mae: 15.4421\n",
      "Epoch 156/500\n",
      "2/2 [==============================] - 0s 7ms/step - loss: 16.9897 - mae: 16.9897\n",
      "Epoch 157/500\n",
      "2/2 [==============================] - 0s 9ms/step - loss: 32.8964 - mae: 32.8964\n",
      "Epoch 158/500\n",
      "2/2 [==============================] - 0s 6ms/step - loss: 10.7305 - mae: 10.7305\n",
      "Epoch 159/500\n",
      "2/2 [==============================] - 0s 6ms/step - loss: 8.9193 - mae: 8.9193\n",
      "Epoch 160/500\n",
      "2/2 [==============================] - 0s 9ms/step - loss: 22.1833 - mae: 22.1833\n",
      "Epoch 161/500\n",
      "2/2 [==============================] - 0s 6ms/step - loss: 11.7341 - mae: 11.7341\n",
      "Epoch 162/500\n",
      "2/2 [==============================] - 0s 7ms/step - loss: 21.6193 - mae: 21.6193\n",
      "Epoch 163/500\n",
      "2/2 [==============================] - 0s 10ms/step - loss: 19.2926 - mae: 19.2926\n",
      "Epoch 164/500\n",
      "2/2 [==============================] - 0s 5ms/step - loss: 11.0458 - mae: 11.0458\n",
      "Epoch 165/500\n",
      "2/2 [==============================] - 0s 7ms/step - loss: 9.6128 - mae: 9.6128\n",
      "Epoch 166/500\n",
      "2/2 [==============================] - 0s 7ms/step - loss: 21.5699 - mae: 21.5699\n",
      "Epoch 167/500\n",
      "2/2 [==============================] - 0s 6ms/step - loss: 26.3394 - mae: 26.3394\n",
      "Epoch 168/500\n",
      "2/2 [==============================] - 0s 7ms/step - loss: 9.8666 - mae: 9.8666\n",
      "Epoch 169/500\n",
      "2/2 [==============================] - 0s 6ms/step - loss: 22.6146 - mae: 22.6146\n",
      "Epoch 170/500\n",
      "2/2 [==============================] - 0s 5ms/step - loss: 10.1435 - mae: 10.1435\n",
      "Epoch 171/500\n",
      "2/2 [==============================] - 0s 10ms/step - loss: 18.0254 - mae: 18.0254\n",
      "Epoch 172/500\n",
      "2/2 [==============================] - 0s 7ms/step - loss: 28.8889 - mae: 28.8889\n",
      "Epoch 173/500\n",
      "2/2 [==============================] - 0s 5ms/step - loss: 16.5696 - mae: 16.5696\n",
      "Epoch 174/500\n",
      "2/2 [==============================] - 0s 5ms/step - loss: 11.2088 - mae: 11.2088\n",
      "Epoch 175/500\n",
      "2/2 [==============================] - 0s 5ms/step - loss: 27.5711 - mae: 27.5711\n",
      "Epoch 176/500\n",
      "2/2 [==============================] - 0s 5ms/step - loss: 8.2856 - mae: 8.2856\n",
      "Epoch 177/500\n",
      "2/2 [==============================] - 0s 9ms/step - loss: 9.2723 - mae: 9.2723\n",
      "Epoch 178/500\n",
      "2/2 [==============================] - 0s 5ms/step - loss: 18.1848 - mae: 18.1848\n",
      "Epoch 179/500\n",
      "2/2 [==============================] - 0s 5ms/step - loss: 10.5821 - mae: 10.5821\n",
      "Epoch 180/500\n",
      "2/2 [==============================] - 0s 8ms/step - loss: 7.9095 - mae: 7.9095\n",
      "Epoch 181/500\n",
      "2/2 [==============================] - 0s 7ms/step - loss: 17.4344 - mae: 17.4344\n",
      "Epoch 182/500\n",
      "2/2 [==============================] - 0s 7ms/step - loss: 11.0270 - mae: 11.0270\n",
      "Epoch 183/500\n",
      "2/2 [==============================] - 0s 11ms/step - loss: 11.7189 - mae: 11.7189\n",
      "Epoch 184/500\n",
      "2/2 [==============================] - 0s 6ms/step - loss: 30.4540 - mae: 30.4540\n",
      "Epoch 185/500\n",
      "2/2 [==============================] - 0s 7ms/step - loss: 7.5552 - mae: 7.5552\n",
      "Epoch 186/500\n",
      "2/2 [==============================] - 0s 8ms/step - loss: 15.9777 - mae: 15.9777\n",
      "Epoch 187/500\n",
      "2/2 [==============================] - 0s 9ms/step - loss: 8.5658 - mae: 8.5658\n",
      "Epoch 188/500\n",
      "2/2 [==============================] - 0s 8ms/step - loss: 28.7764 - mae: 28.7764\n",
      "Epoch 189/500\n",
      "2/2 [==============================] - 0s 9ms/step - loss: 13.1616 - mae: 13.1616\n",
      "Epoch 190/500\n",
      "2/2 [==============================] - 0s 8ms/step - loss: 18.3021 - mae: 18.3021\n",
      "Epoch 191/500\n",
      "2/2 [==============================] - 0s 7ms/step - loss: 13.7283 - mae: 13.7283\n",
      "Epoch 192/500\n",
      "2/2 [==============================] - 0s 8ms/step - loss: 13.7080 - mae: 13.7080\n",
      "Epoch 193/500\n",
      "2/2 [==============================] - 0s 8ms/step - loss: 28.5762 - mae: 28.5762\n",
      "Epoch 194/500\n",
      "2/2 [==============================] - 0s 7ms/step - loss: 7.0829 - mae: 7.0829\n",
      "Epoch 195/500\n",
      "2/2 [==============================] - 0s 7ms/step - loss: 7.0575 - mae: 7.0575\n",
      "Epoch 196/500\n",
      "2/2 [==============================] - 0s 7ms/step - loss: 21.9962 - mae: 21.9962\n",
      "Epoch 197/500\n",
      "2/2 [==============================] - 0s 5ms/step - loss: 20.8667 - mae: 20.8667\n",
      "Epoch 198/500\n",
      "2/2 [==============================] - 0s 5ms/step - loss: 12.4854 - mae: 12.4854\n",
      "Epoch 199/500\n",
      "2/2 [==============================] - 0s 5ms/step - loss: 17.9290 - mae: 17.9290\n",
      "Epoch 200/500\n",
      "2/2 [==============================] - 0s 11ms/step - loss: 13.7673 - mae: 13.7673\n",
      "Epoch 201/500\n",
      "2/2 [==============================] - 0s 5ms/step - loss: 5.4713 - mae: 5.4713\n",
      "Epoch 202/500\n",
      "2/2 [==============================] - 0s 5ms/step - loss: 13.7167 - mae: 13.7167\n",
      "Epoch 203/500\n",
      "2/2 [==============================] - 0s 10ms/step - loss: 9.4220 - mae: 9.4220\n",
      "Epoch 204/500\n",
      "2/2 [==============================] - 0s 7ms/step - loss: 20.9985 - mae: 20.9985\n",
      "Epoch 205/500\n",
      "2/2 [==============================] - 0s 7ms/step - loss: 9.5566 - mae: 9.5566\n",
      "Epoch 206/500\n",
      "2/2 [==============================] - 0s 7ms/step - loss: 11.7360 - mae: 11.7360\n",
      "Epoch 207/500\n",
      "2/2 [==============================] - 0s 5ms/step - loss: 14.3889 - mae: 14.3889\n",
      "Epoch 208/500\n",
      "2/2 [==============================] - 0s 5ms/step - loss: 14.8694 - mae: 14.8694\n",
      "Epoch 209/500\n",
      "2/2 [==============================] - 0s 5ms/step - loss: 14.9811 - mae: 14.9811\n",
      "Epoch 210/500\n",
      "2/2 [==============================] - 0s 6ms/step - loss: 17.9136 - mae: 17.9136\n",
      "Epoch 211/500\n",
      "2/2 [==============================] - 0s 9ms/step - loss: 9.8400 - mae: 9.8400\n",
      "Epoch 212/500\n",
      "2/2 [==============================] - 0s 9ms/step - loss: 18.3499 - mae: 18.3499\n",
      "Epoch 213/500\n",
      "2/2 [==============================] - 0s 6ms/step - loss: 15.0358 - mae: 15.0358\n",
      "Epoch 214/500\n",
      "2/2 [==============================] - 0s 6ms/step - loss: 14.5860 - mae: 14.5860\n",
      "Epoch 215/500\n",
      "2/2 [==============================] - 0s 5ms/step - loss: 23.2975 - mae: 23.2975\n",
      "Epoch 216/500\n",
      "2/2 [==============================] - 0s 6ms/step - loss: 13.3694 - mae: 13.3694\n",
      "Epoch 217/500\n",
      "2/2 [==============================] - 0s 6ms/step - loss: 9.8605 - mae: 9.8605\n",
      "Epoch 218/500\n",
      "2/2 [==============================] - 0s 5ms/step - loss: 12.5422 - mae: 12.5422\n",
      "Epoch 219/500\n",
      "2/2 [==============================] - 0s 5ms/step - loss: 4.9505 - mae: 4.9505\n",
      "Epoch 220/500\n",
      "2/2 [==============================] - 0s 8ms/step - loss: 7.1159 - mae: 7.1159\n",
      "Epoch 221/500\n",
      "2/2 [==============================] - 0s 5ms/step - loss: 35.4644 - mae: 35.4644\n",
      "Epoch 222/500\n",
      "2/2 [==============================] - 0s 6ms/step - loss: 34.8720 - mae: 34.8720\n",
      "Epoch 223/500\n",
      "2/2 [==============================] - 0s 7ms/step - loss: 7.9839 - mae: 7.9839\n",
      "Epoch 224/500\n",
      "2/2 [==============================] - 0s 5ms/step - loss: 14.6998 - mae: 14.6998\n",
      "Epoch 225/500\n",
      "2/2 [==============================] - 0s 5ms/step - loss: 16.7193 - mae: 16.7193\n",
      "Epoch 226/500\n",
      "2/2 [==============================] - 0s 5ms/step - loss: 15.9327 - mae: 15.9327\n",
      "Epoch 227/500\n",
      "2/2 [==============================] - 0s 7ms/step - loss: 16.1639 - mae: 16.1639\n",
      "Epoch 228/500\n",
      "2/2 [==============================] - 0s 5ms/step - loss: 13.9319 - mae: 13.9319\n",
      "Epoch 229/500\n",
      "2/2 [==============================] - 0s 5ms/step - loss: 18.0504 - mae: 18.0504\n",
      "Epoch 230/500\n",
      "2/2 [==============================] - 0s 8ms/step - loss: 15.6129 - mae: 15.6129\n",
      "Epoch 231/500\n",
      "2/2 [==============================] - 0s 5ms/step - loss: 21.2038 - mae: 21.2038\n",
      "Epoch 232/500\n",
      "2/2 [==============================] - 0s 5ms/step - loss: 25.2740 - mae: 25.2740\n",
      "Epoch 233/500\n",
      "2/2 [==============================] - 0s 5ms/step - loss: 16.3189 - mae: 16.3189\n",
      "Epoch 234/500\n",
      "2/2 [==============================] - 0s 9ms/step - loss: 7.2758 - mae: 7.2758\n",
      "Epoch 235/500\n",
      "2/2 [==============================] - 0s 5ms/step - loss: 16.9695 - mae: 16.9695\n",
      "Epoch 236/500\n",
      "2/2 [==============================] - 0s 7ms/step - loss: 7.1250 - mae: 7.1250\n",
      "Epoch 237/500\n",
      "2/2 [==============================] - 0s 6ms/step - loss: 9.2080 - mae: 9.2080\n",
      "Epoch 238/500\n",
      "2/2 [==============================] - 0s 6ms/step - loss: 8.0984 - mae: 8.0984\n",
      "Epoch 239/500\n",
      "2/2 [==============================] - 0s 6ms/step - loss: 17.0507 - mae: 17.0507\n",
      "Epoch 240/500\n",
      "2/2 [==============================] - 0s 5ms/step - loss: 8.8641 - mae: 8.8641\n",
      "Epoch 241/500\n",
      "2/2 [==============================] - 0s 5ms/step - loss: 13.1695 - mae: 13.1695\n",
      "Epoch 242/500\n",
      "2/2 [==============================] - 0s 5ms/step - loss: 8.7902 - mae: 8.7902\n",
      "Epoch 243/500\n",
      "2/2 [==============================] - 0s 6ms/step - loss: 18.8094 - mae: 18.8094\n",
      "Epoch 244/500\n",
      "2/2 [==============================] - 0s 5ms/step - loss: 14.0565 - mae: 14.0565\n",
      "Epoch 245/500\n",
      "2/2 [==============================] - 0s 9ms/step - loss: 14.6859 - mae: 14.6859\n",
      "Epoch 246/500\n",
      "2/2 [==============================] - 0s 7ms/step - loss: 15.8078 - mae: 15.8078\n",
      "Epoch 247/500\n",
      "2/2 [==============================] - 0s 4ms/step - loss: 17.6852 - mae: 17.6852\n",
      "Epoch 248/500\n",
      "2/2 [==============================] - 0s 12ms/step - loss: 13.2407 - mae: 13.2407\n",
      "Epoch 249/500\n",
      "2/2 [==============================] - 0s 6ms/step - loss: 14.5100 - mae: 14.5100\n",
      "Epoch 250/500\n",
      "2/2 [==============================] - 0s 11ms/step - loss: 23.2368 - mae: 23.2368\n",
      "Epoch 251/500\n",
      "2/2 [==============================] - 0s 5ms/step - loss: 9.3012 - mae: 9.3012\n",
      "Epoch 252/500\n",
      "2/2 [==============================] - 0s 5ms/step - loss: 36.6407 - mae: 36.6407\n",
      "Epoch 253/500\n",
      "2/2 [==============================] - 0s 7ms/step - loss: 21.8092 - mae: 21.8092\n",
      "Epoch 254/500\n",
      "2/2 [==============================] - 0s 7ms/step - loss: 7.2805 - mae: 7.2805\n",
      "Epoch 255/500\n",
      "2/2 [==============================] - 0s 8ms/step - loss: 24.6997 - mae: 24.6997\n",
      "Epoch 256/500\n",
      "2/2 [==============================] - 0s 5ms/step - loss: 12.4173 - mae: 12.4173\n",
      "Epoch 257/500\n",
      "2/2 [==============================] - 0s 7ms/step - loss: 10.5791 - mae: 10.5791\n",
      "Epoch 258/500\n",
      "2/2 [==============================] - 0s 5ms/step - loss: 14.4786 - mae: 14.4786\n",
      "Epoch 259/500\n",
      "2/2 [==============================] - 0s 5ms/step - loss: 8.6148 - mae: 8.6148\n",
      "Epoch 260/500\n",
      "2/2 [==============================] - 0s 5ms/step - loss: 43.0320 - mae: 43.0320\n",
      "Epoch 261/500\n",
      "2/2 [==============================] - 0s 8ms/step - loss: 18.4480 - mae: 18.4480\n",
      "Epoch 262/500\n",
      "2/2 [==============================] - 0s 8ms/step - loss: 6.8869 - mae: 6.8869\n",
      "Epoch 263/500\n",
      "2/2 [==============================] - 0s 7ms/step - loss: 13.7253 - mae: 13.7253\n",
      "Epoch 264/500\n",
      "2/2 [==============================] - 0s 8ms/step - loss: 21.0233 - mae: 21.0233\n",
      "Epoch 265/500\n",
      "2/2 [==============================] - 0s 7ms/step - loss: 19.3562 - mae: 19.3562\n",
      "Epoch 266/500\n",
      "2/2 [==============================] - 0s 11ms/step - loss: 11.4820 - mae: 11.4820\n",
      "Epoch 267/500\n",
      "2/2 [==============================] - 0s 13ms/step - loss: 7.5333 - mae: 7.5333\n",
      "Epoch 268/500\n",
      "2/2 [==============================] - 0s 8ms/step - loss: 21.6536 - mae: 21.6536\n",
      "Epoch 269/500\n",
      "2/2 [==============================] - 0s 8ms/step - loss: 33.1530 - mae: 33.1530\n",
      "Epoch 270/500\n",
      "2/2 [==============================] - 0s 6ms/step - loss: 10.0762 - mae: 10.0762\n",
      "Epoch 271/500\n",
      "2/2 [==============================] - 0s 5ms/step - loss: 12.1055 - mae: 12.1055\n",
      "Epoch 272/500\n",
      "2/2 [==============================] - 0s 5ms/step - loss: 26.1442 - mae: 26.1442\n",
      "Epoch 273/500\n",
      "2/2 [==============================] - 0s 5ms/step - loss: 12.1615 - mae: 12.1615\n",
      "Epoch 274/500\n",
      "2/2 [==============================] - 0s 4ms/step - loss: 13.3314 - mae: 13.3314\n",
      "Epoch 275/500\n",
      "2/2 [==============================] - 0s 11ms/step - loss: 29.3832 - mae: 29.3832\n",
      "Epoch 276/500\n",
      "2/2 [==============================] - 0s 9ms/step - loss: 7.3339 - mae: 7.3339\n",
      "Epoch 277/500\n",
      "2/2 [==============================] - 0s 7ms/step - loss: 31.1412 - mae: 31.1412\n",
      "Epoch 278/500\n",
      "2/2 [==============================] - 0s 7ms/step - loss: 12.3085 - mae: 12.3085\n",
      "Epoch 279/500\n",
      "2/2 [==============================] - 0s 6ms/step - loss: 16.4157 - mae: 16.4157\n",
      "Epoch 280/500\n",
      "2/2 [==============================] - 0s 6ms/step - loss: 21.9223 - mae: 21.9223\n",
      "Epoch 281/500\n",
      "2/2 [==============================] - 0s 5ms/step - loss: 22.1248 - mae: 22.1248\n",
      "Epoch 282/500\n",
      "2/2 [==============================] - 0s 10ms/step - loss: 7.7384 - mae: 7.7384\n",
      "Epoch 283/500\n",
      "2/2 [==============================] - 0s 5ms/step - loss: 8.1414 - mae: 8.1414\n",
      "Epoch 284/500\n",
      "2/2 [==============================] - 0s 5ms/step - loss: 24.9173 - mae: 24.9173\n",
      "Epoch 285/500\n",
      "2/2 [==============================] - 0s 5ms/step - loss: 13.6758 - mae: 13.6758\n",
      "Epoch 286/500\n",
      "2/2 [==============================] - 0s 5ms/step - loss: 7.7597 - mae: 7.7597\n",
      "Epoch 287/500\n",
      "2/2 [==============================] - 0s 5ms/step - loss: 23.3212 - mae: 23.3212\n",
      "Epoch 288/500\n",
      "2/2 [==============================] - 0s 6ms/step - loss: 23.7528 - mae: 23.7528\n",
      "Epoch 289/500\n",
      "2/2 [==============================] - 0s 5ms/step - loss: 11.9606 - mae: 11.9606\n",
      "Epoch 290/500\n",
      "2/2 [==============================] - 0s 6ms/step - loss: 16.5351 - mae: 16.5351\n",
      "Epoch 291/500\n",
      "2/2 [==============================] - 0s 5ms/step - loss: 16.7967 - mae: 16.7967\n",
      "Epoch 292/500\n",
      "2/2 [==============================] - 0s 5ms/step - loss: 9.4610 - mae: 9.4610\n",
      "Epoch 293/500\n",
      "2/2 [==============================] - 0s 7ms/step - loss: 15.2696 - mae: 15.2696\n",
      "Epoch 294/500\n",
      "2/2 [==============================] - 0s 5ms/step - loss: 22.7137 - mae: 22.7137\n",
      "Epoch 295/500\n",
      "2/2 [==============================] - 0s 5ms/step - loss: 17.9378 - mae: 17.9378\n",
      "Epoch 296/500\n",
      "2/2 [==============================] - 0s 9ms/step - loss: 6.1812 - mae: 6.1812\n",
      "Epoch 297/500\n",
      "2/2 [==============================] - 0s 5ms/step - loss: 10.9422 - mae: 10.9422\n",
      "Epoch 298/500\n",
      "2/2 [==============================] - 0s 11ms/step - loss: 23.1479 - mae: 23.1479\n",
      "Epoch 299/500\n",
      "2/2 [==============================] - 0s 5ms/step - loss: 17.7455 - mae: 17.7455\n",
      "Epoch 300/500\n",
      "2/2 [==============================] - 0s 5ms/step - loss: 6.9863 - mae: 6.9863\n",
      "Epoch 301/500\n",
      "2/2 [==============================] - 0s 5ms/step - loss: 25.2008 - mae: 25.2008\n",
      "Epoch 302/500\n",
      "2/2 [==============================] - 0s 5ms/step - loss: 8.9084 - mae: 8.9084\n",
      "Epoch 303/500\n",
      "2/2 [==============================] - 0s 6ms/step - loss: 17.7780 - mae: 17.7780\n",
      "Epoch 304/500\n",
      "2/2 [==============================] - 0s 5ms/step - loss: 11.0075 - mae: 11.0075\n",
      "Epoch 305/500\n",
      "2/2 [==============================] - 0s 5ms/step - loss: 12.9276 - mae: 12.9276\n",
      "Epoch 306/500\n",
      "2/2 [==============================] - 0s 9ms/step - loss: 8.4087 - mae: 8.4087\n",
      "Epoch 307/500\n",
      "2/2 [==============================] - 0s 5ms/step - loss: 13.6176 - mae: 13.6176\n",
      "Epoch 308/500\n",
      "2/2 [==============================] - 0s 7ms/step - loss: 7.4452 - mae: 7.4452\n",
      "Epoch 309/500\n",
      "2/2 [==============================] - 0s 5ms/step - loss: 9.4697 - mae: 9.4697\n",
      "Epoch 310/500\n",
      "2/2 [==============================] - 0s 10ms/step - loss: 10.7172 - mae: 10.7172\n",
      "Epoch 311/500\n",
      "2/2 [==============================] - 0s 6ms/step - loss: 13.2812 - mae: 13.2812\n",
      "Epoch 312/500\n",
      "2/2 [==============================] - 0s 6ms/step - loss: 29.9742 - mae: 29.9742\n",
      "Epoch 313/500\n",
      "2/2 [==============================] - 0s 5ms/step - loss: 7.6355 - mae: 7.6355\n",
      "Epoch 314/500\n",
      "2/2 [==============================] - 0s 6ms/step - loss: 9.9104 - mae: 9.9104\n",
      "Epoch 315/500\n",
      "2/2 [==============================] - 0s 5ms/step - loss: 23.7645 - mae: 23.7645\n",
      "Epoch 316/500\n",
      "2/2 [==============================] - 0s 6ms/step - loss: 16.3983 - mae: 16.3983\n",
      "Epoch 317/500\n",
      "2/2 [==============================] - 0s 6ms/step - loss: 21.0823 - mae: 21.0823\n",
      "Epoch 318/500\n",
      "2/2 [==============================] - 0s 5ms/step - loss: 7.9399 - mae: 7.9399\n",
      "Epoch 319/500\n",
      "2/2 [==============================] - 0s 25ms/step - loss: 17.9781 - mae: 17.9781\n",
      "Epoch 320/500\n",
      "2/2 [==============================] - 0s 11ms/step - loss: 10.2416 - mae: 10.2416\n",
      "Epoch 321/500\n",
      "2/2 [==============================] - 0s 22ms/step - loss: 8.3376 - mae: 8.3376\n",
      "Epoch 322/500\n",
      "2/2 [==============================] - 0s 5ms/step - loss: 5.0637 - mae: 5.0637\n",
      "Epoch 323/500\n",
      "2/2 [==============================] - 0s 5ms/step - loss: 23.5148 - mae: 23.5148\n",
      "Epoch 324/500\n",
      "2/2 [==============================] - 0s 6ms/step - loss: 6.8332 - mae: 6.8332\n",
      "Epoch 325/500\n",
      "2/2 [==============================] - 0s 8ms/step - loss: 16.3893 - mae: 16.3893\n",
      "Epoch 326/500\n",
      "2/2 [==============================] - 0s 6ms/step - loss: 7.5041 - mae: 7.5041\n",
      "Epoch 327/500\n",
      "2/2 [==============================] - 0s 5ms/step - loss: 20.0600 - mae: 20.0600\n",
      "Epoch 328/500\n",
      "2/2 [==============================] - 0s 7ms/step - loss: 13.7657 - mae: 13.7657\n",
      "Epoch 329/500\n",
      "2/2 [==============================] - 0s 5ms/step - loss: 16.8281 - mae: 16.8281\n",
      "Epoch 330/500\n",
      "2/2 [==============================] - 0s 5ms/step - loss: 7.0532 - mae: 7.0532\n",
      "Epoch 331/500\n",
      "2/2 [==============================] - 0s 8ms/step - loss: 21.4850 - mae: 21.4850\n",
      "Epoch 332/500\n",
      "2/2 [==============================] - 0s 5ms/step - loss: 12.2896 - mae: 12.2896\n",
      "Epoch 333/500\n",
      "2/2 [==============================] - 0s 6ms/step - loss: 11.8128 - mae: 11.8128\n",
      "Epoch 334/500\n",
      "2/2 [==============================] - 0s 7ms/step - loss: 8.3605 - mae: 8.3605\n",
      "Epoch 335/500\n",
      "2/2 [==============================] - 0s 5ms/step - loss: 12.4840 - mae: 12.4840\n",
      "Epoch 336/500\n",
      "2/2 [==============================] - 0s 5ms/step - loss: 32.2171 - mae: 32.2171\n",
      "Epoch 337/500\n",
      "2/2 [==============================] - 0s 5ms/step - loss: 10.4479 - mae: 10.4479\n",
      "Epoch 338/500\n",
      "2/2 [==============================] - 0s 5ms/step - loss: 19.6834 - mae: 19.6834\n",
      "Epoch 339/500\n",
      "2/2 [==============================] - 0s 14ms/step - loss: 35.0756 - mae: 35.0756\n",
      "Epoch 340/500\n",
      "2/2 [==============================] - 0s 9ms/step - loss: 10.4200 - mae: 10.4200\n",
      "Epoch 341/500\n",
      "2/2 [==============================] - 0s 5ms/step - loss: 9.7627 - mae: 9.7627\n",
      "Epoch 342/500\n",
      "2/2 [==============================] - 0s 5ms/step - loss: 11.9506 - mae: 11.9506\n",
      "Epoch 343/500\n",
      "2/2 [==============================] - 0s 14ms/step - loss: 9.3953 - mae: 9.3953\n",
      "Epoch 344/500\n",
      "2/2 [==============================] - 0s 7ms/step - loss: 5.6086 - mae: 5.6086\n",
      "Epoch 345/500\n",
      "2/2 [==============================] - 0s 4ms/step - loss: 37.4847 - mae: 37.4847\n",
      "Epoch 346/500\n",
      "2/2 [==============================] - 0s 4ms/step - loss: 16.8818 - mae: 16.8818\n",
      "Epoch 347/500\n",
      "2/2 [==============================] - 0s 5ms/step - loss: 12.8736 - mae: 12.8736\n",
      "Epoch 348/500\n",
      "2/2 [==============================] - 0s 5ms/step - loss: 8.1975 - mae: 8.1975\n",
      "Epoch 349/500\n",
      "2/2 [==============================] - 0s 6ms/step - loss: 13.5581 - mae: 13.5581\n",
      "Epoch 350/500\n",
      "2/2 [==============================] - 0s 8ms/step - loss: 15.4363 - mae: 15.4363\n",
      "Epoch 351/500\n",
      "2/2 [==============================] - 0s 11ms/step - loss: 32.9631 - mae: 32.9631\n",
      "Epoch 352/500\n",
      "2/2 [==============================] - 0s 6ms/step - loss: 14.2054 - mae: 14.2054\n",
      "Epoch 353/500\n",
      "2/2 [==============================] - 0s 8ms/step - loss: 15.9207 - mae: 15.9207\n",
      "Epoch 354/500\n",
      "2/2 [==============================] - 0s 9ms/step - loss: 19.0899 - mae: 19.0899\n",
      "Epoch 355/500\n",
      "2/2 [==============================] - 0s 5ms/step - loss: 34.1121 - mae: 34.1121\n",
      "Epoch 356/500\n",
      "2/2 [==============================] - 0s 15ms/step - loss: 7.6801 - mae: 7.6801\n",
      "Epoch 357/500\n",
      "2/2 [==============================] - 0s 6ms/step - loss: 25.2237 - mae: 25.2237\n",
      "Epoch 358/500\n",
      "2/2 [==============================] - 0s 6ms/step - loss: 22.6711 - mae: 22.6711\n",
      "Epoch 359/500\n",
      "2/2 [==============================] - 0s 5ms/step - loss: 8.8783 - mae: 8.8783\n",
      "Epoch 360/500\n",
      "2/2 [==============================] - 0s 8ms/step - loss: 21.4733 - mae: 21.4733\n",
      "Epoch 361/500\n",
      "2/2 [==============================] - 0s 5ms/step - loss: 20.6021 - mae: 20.6021\n",
      "Epoch 362/500\n",
      "2/2 [==============================] - 0s 5ms/step - loss: 7.0621 - mae: 7.0621\n",
      "Epoch 363/500\n",
      "2/2 [==============================] - 0s 5ms/step - loss: 25.8062 - mae: 25.8062\n",
      "Epoch 364/500\n",
      "2/2 [==============================] - 0s 13ms/step - loss: 32.2175 - mae: 32.2175\n",
      "Epoch 365/500\n",
      "2/2 [==============================] - 0s 7ms/step - loss: 10.0182 - mae: 10.0182\n",
      "Epoch 366/500\n",
      "2/2 [==============================] - 0s 9ms/step - loss: 9.6735 - mae: 9.6735\n",
      "Epoch 367/500\n",
      "2/2 [==============================] - 0s 7ms/step - loss: 30.4186 - mae: 30.4186\n",
      "Epoch 368/500\n",
      "2/2 [==============================] - 0s 7ms/step - loss: 10.5043 - mae: 10.5043\n",
      "Epoch 369/500\n",
      "2/2 [==============================] - 0s 9ms/step - loss: 14.9932 - mae: 14.9932\n",
      "Epoch 370/500\n",
      "2/2 [==============================] - 0s 13ms/step - loss: 14.6595 - mae: 14.6595\n",
      "Epoch 371/500\n",
      "2/2 [==============================] - 0s 7ms/step - loss: 23.3702 - mae: 23.3702\n",
      "Epoch 372/500\n",
      "2/2 [==============================] - 0s 6ms/step - loss: 13.0979 - mae: 13.0979\n",
      "Epoch 373/500\n",
      "2/2 [==============================] - 0s 9ms/step - loss: 9.2551 - mae: 9.2551\n",
      "Epoch 374/500\n",
      "2/2 [==============================] - 0s 8ms/step - loss: 9.6679 - mae: 9.6679\n",
      "Epoch 375/500\n",
      "2/2 [==============================] - 0s 14ms/step - loss: 13.0067 - mae: 13.0067\n",
      "Epoch 376/500\n",
      "2/2 [==============================] - 0s 8ms/step - loss: 14.8889 - mae: 14.8889\n",
      "Epoch 377/500\n",
      "2/2 [==============================] - 0s 12ms/step - loss: 14.7960 - mae: 14.7960\n",
      "Epoch 378/500\n",
      "2/2 [==============================] - 0s 7ms/step - loss: 16.2772 - mae: 16.2772\n",
      "Epoch 379/500\n",
      "2/2 [==============================] - 0s 14ms/step - loss: 20.8348 - mae: 20.8348\n",
      "Epoch 380/500\n",
      "2/2 [==============================] - 0s 8ms/step - loss: 33.5199 - mae: 33.5199\n",
      "Epoch 381/500\n",
      "2/2 [==============================] - 0s 9ms/step - loss: 8.2152 - mae: 8.2152\n",
      "Epoch 382/500\n",
      "2/2 [==============================] - 0s 10ms/step - loss: 13.0885 - mae: 13.0885\n",
      "Epoch 383/500\n",
      "2/2 [==============================] - 0s 8ms/step - loss: 8.4046 - mae: 8.4046\n",
      "Epoch 384/500\n",
      "2/2 [==============================] - 0s 13ms/step - loss: 7.1258 - mae: 7.1258\n",
      "Epoch 385/500\n",
      "2/2 [==============================] - 0s 10ms/step - loss: 10.9417 - mae: 10.9417\n",
      "Epoch 386/500\n",
      "2/2 [==============================] - 0s 11ms/step - loss: 19.7702 - mae: 19.7702\n",
      "Epoch 387/500\n",
      "2/2 [==============================] - 0s 9ms/step - loss: 24.8513 - mae: 24.8513\n",
      "Epoch 388/500\n",
      "2/2 [==============================] - 0s 8ms/step - loss: 8.7386 - mae: 8.7386\n",
      "Epoch 389/500\n",
      "2/2 [==============================] - 0s 9ms/step - loss: 5.9487 - mae: 5.9487\n",
      "Epoch 390/500\n",
      "2/2 [==============================] - 0s 5ms/step - loss: 24.4280 - mae: 24.4280\n",
      "Epoch 391/500\n",
      "2/2 [==============================] - 0s 6ms/step - loss: 5.9765 - mae: 5.9765\n",
      "Epoch 392/500\n",
      "2/2 [==============================] - 0s 6ms/step - loss: 16.3166 - mae: 16.3166\n",
      "Epoch 393/500\n",
      "2/2 [==============================] - 0s 5ms/step - loss: 6.0905 - mae: 6.0905\n",
      "Epoch 394/500\n",
      "2/2 [==============================] - 0s 6ms/step - loss: 11.0910 - mae: 11.0910\n",
      "Epoch 395/500\n",
      "2/2 [==============================] - 0s 6ms/step - loss: 14.9518 - mae: 14.9518\n",
      "Epoch 396/500\n",
      "2/2 [==============================] - 0s 5ms/step - loss: 7.6437 - mae: 7.6437\n",
      "Epoch 397/500\n",
      "2/2 [==============================] - 0s 6ms/step - loss: 8.7615 - mae: 8.7615\n",
      "Epoch 398/500\n",
      "2/2 [==============================] - 0s 6ms/step - loss: 14.5892 - mae: 14.5892\n",
      "Epoch 399/500\n",
      "2/2 [==============================] - 0s 5ms/step - loss: 11.3198 - mae: 11.3198\n",
      "Epoch 400/500\n",
      "2/2 [==============================] - 0s 5ms/step - loss: 21.9133 - mae: 21.9133\n",
      "Epoch 401/500\n",
      "2/2 [==============================] - 0s 6ms/step - loss: 14.8547 - mae: 14.8547\n",
      "Epoch 402/500\n",
      "2/2 [==============================] - 0s 5ms/step - loss: 8.4941 - mae: 8.4941\n",
      "Epoch 403/500\n",
      "2/2 [==============================] - 0s 5ms/step - loss: 10.3885 - mae: 10.3885\n",
      "Epoch 404/500\n",
      "2/2 [==============================] - 0s 5ms/step - loss: 10.2487 - mae: 10.2487\n",
      "Epoch 405/500\n",
      "2/2 [==============================] - 0s 5ms/step - loss: 6.3383 - mae: 6.3383\n",
      "Epoch 406/500\n",
      "2/2 [==============================] - 0s 5ms/step - loss: 17.4472 - mae: 17.4472\n",
      "Epoch 407/500\n",
      "2/2 [==============================] - 0s 6ms/step - loss: 11.4660 - mae: 11.4660\n",
      "Epoch 408/500\n",
      "2/2 [==============================] - 0s 13ms/step - loss: 20.7357 - mae: 20.7357\n",
      "Epoch 409/500\n",
      "2/2 [==============================] - 0s 7ms/step - loss: 31.3147 - mae: 31.3147\n",
      "Epoch 410/500\n",
      "2/2 [==============================] - 0s 4ms/step - loss: 9.2590 - mae: 9.2590\n",
      "Epoch 411/500\n",
      "2/2 [==============================] - 0s 4ms/step - loss: 14.8657 - mae: 14.8657\n",
      "Epoch 412/500\n",
      "2/2 [==============================] - 0s 4ms/step - loss: 21.7239 - mae: 21.7239\n",
      "Epoch 413/500\n",
      "2/2 [==============================] - 0s 4ms/step - loss: 12.6516 - mae: 12.6516\n",
      "Epoch 414/500\n",
      "2/2 [==============================] - 0s 4ms/step - loss: 6.0725 - mae: 6.0725\n",
      "Epoch 415/500\n",
      "2/2 [==============================] - 0s 4ms/step - loss: 13.2223 - mae: 13.2223\n",
      "Epoch 416/500\n",
      "2/2 [==============================] - 0s 15ms/step - loss: 27.4288 - mae: 27.4288\n",
      "Epoch 417/500\n",
      "2/2 [==============================] - 0s 13ms/step - loss: 10.6298 - mae: 10.6298\n",
      "Epoch 418/500\n",
      "2/2 [==============================] - 0s 6ms/step - loss: 12.8272 - mae: 12.8272\n",
      "Epoch 419/500\n",
      "2/2 [==============================] - 0s 11ms/step - loss: 15.8865 - mae: 15.8865\n",
      "Epoch 420/500\n",
      "2/2 [==============================] - 0s 7ms/step - loss: 24.7564 - mae: 24.7564\n",
      "Epoch 421/500\n",
      "2/2 [==============================] - 0s 7ms/step - loss: 17.3624 - mae: 17.3624\n",
      "Epoch 422/500\n",
      "2/2 [==============================] - 0s 5ms/step - loss: 7.8260 - mae: 7.8260\n",
      "Epoch 423/500\n",
      "2/2 [==============================] - 0s 8ms/step - loss: 25.3843 - mae: 25.3843\n",
      "Epoch 424/500\n",
      "2/2 [==============================] - 0s 8ms/step - loss: 15.0910 - mae: 15.0910\n",
      "Epoch 425/500\n",
      "2/2 [==============================] - 0s 6ms/step - loss: 7.1621 - mae: 7.1621\n",
      "Epoch 426/500\n",
      "2/2 [==============================] - 0s 7ms/step - loss: 20.3172 - mae: 20.3172\n",
      "Epoch 427/500\n",
      "2/2 [==============================] - 0s 7ms/step - loss: 6.3256 - mae: 6.3256\n",
      "Epoch 428/500\n",
      "2/2 [==============================] - 0s 6ms/step - loss: 12.9858 - mae: 12.9858\n",
      "Epoch 429/500\n",
      "2/2 [==============================] - 0s 9ms/step - loss: 10.7780 - mae: 10.7780\n",
      "Epoch 430/500\n",
      "2/2 [==============================] - 0s 8ms/step - loss: 11.3914 - mae: 11.3914\n",
      "Epoch 431/500\n",
      "2/2 [==============================] - 0s 6ms/step - loss: 10.6067 - mae: 10.6067\n",
      "Epoch 432/500\n",
      "2/2 [==============================] - 0s 8ms/step - loss: 11.4475 - mae: 11.4475\n",
      "Epoch 433/500\n",
      "2/2 [==============================] - 0s 8ms/step - loss: 11.3872 - mae: 11.3872\n",
      "Epoch 434/500\n",
      "2/2 [==============================] - 0s 10ms/step - loss: 30.4025 - mae: 30.4025\n",
      "Epoch 435/500\n",
      "2/2 [==============================] - 0s 11ms/step - loss: 10.5077 - mae: 10.5077\n",
      "Epoch 436/500\n",
      "2/2 [==============================] - 0s 7ms/step - loss: 28.8856 - mae: 28.8856\n",
      "Epoch 437/500\n",
      "2/2 [==============================] - 0s 7ms/step - loss: 8.5981 - mae: 8.5981\n",
      "Epoch 438/500\n",
      "2/2 [==============================] - 0s 7ms/step - loss: 12.7395 - mae: 12.7395\n",
      "Epoch 439/500\n",
      "2/2 [==============================] - 0s 9ms/step - loss: 33.6782 - mae: 33.6782\n",
      "Epoch 440/500\n",
      "2/2 [==============================] - 0s 8ms/step - loss: 15.1013 - mae: 15.1013\n",
      "Epoch 441/500\n",
      "2/2 [==============================] - 0s 16ms/step - loss: 17.4852 - mae: 17.4852\n",
      "Epoch 442/500\n",
      "2/2 [==============================] - 0s 8ms/step - loss: 22.3124 - mae: 22.3124\n",
      "Epoch 443/500\n",
      "2/2 [==============================] - 0s 7ms/step - loss: 23.5664 - mae: 23.5664\n",
      "Epoch 444/500\n",
      "2/2 [==============================] - 0s 7ms/step - loss: 10.9869 - mae: 10.9869\n",
      "Epoch 445/500\n",
      "2/2 [==============================] - 0s 8ms/step - loss: 14.9222 - mae: 14.9222\n",
      "Epoch 446/500\n",
      "2/2 [==============================] - 0s 8ms/step - loss: 18.0047 - mae: 18.0047\n",
      "Epoch 447/500\n",
      "2/2 [==============================] - 0s 7ms/step - loss: 5.4427 - mae: 5.4427\n",
      "Epoch 448/500\n",
      "2/2 [==============================] - 0s 7ms/step - loss: 10.0593 - mae: 10.0593\n",
      "Epoch 449/500\n",
      "2/2 [==============================] - 0s 6ms/step - loss: 14.0104 - mae: 14.0104\n",
      "Epoch 450/500\n",
      "2/2 [==============================] - 0s 6ms/step - loss: 16.7835 - mae: 16.7835\n",
      "Epoch 451/500\n",
      "2/2 [==============================] - 0s 5ms/step - loss: 14.2963 - mae: 14.2963\n",
      "Epoch 452/500\n",
      "2/2 [==============================] - 0s 6ms/step - loss: 30.6236 - mae: 30.6236\n",
      "Epoch 453/500\n",
      "2/2 [==============================] - 0s 7ms/step - loss: 7.6556 - mae: 7.6556\n",
      "Epoch 454/500\n",
      "2/2 [==============================] - 0s 7ms/step - loss: 28.1483 - mae: 28.1483\n",
      "Epoch 455/500\n",
      "2/2 [==============================] - 0s 4ms/step - loss: 7.9927 - mae: 7.9927\n",
      "Epoch 456/500\n",
      "2/2 [==============================] - 0s 9ms/step - loss: 10.3996 - mae: 10.3996\n",
      "Epoch 457/500\n",
      "2/2 [==============================] - 0s 4ms/step - loss: 15.0292 - mae: 15.0292\n",
      "Epoch 458/500\n",
      "2/2 [==============================] - 0s 5ms/step - loss: 16.5688 - mae: 16.5688\n",
      "Epoch 459/500\n",
      "2/2 [==============================] - 0s 4ms/step - loss: 26.8628 - mae: 26.8628\n",
      "Epoch 460/500\n",
      "2/2 [==============================] - 0s 7ms/step - loss: 12.4695 - mae: 12.4695\n",
      "Epoch 461/500\n",
      "2/2 [==============================] - 0s 4ms/step - loss: 12.4855 - mae: 12.4855\n",
      "Epoch 462/500\n",
      "2/2 [==============================] - 0s 5ms/step - loss: 13.3213 - mae: 13.3213\n",
      "Epoch 463/500\n",
      "2/2 [==============================] - 0s 4ms/step - loss: 29.5574 - mae: 29.5574\n",
      "Epoch 464/500\n",
      "2/2 [==============================] - 0s 4ms/step - loss: 3.4677 - mae: 3.4677\n",
      "Epoch 465/500\n",
      "2/2 [==============================] - 0s 4ms/step - loss: 15.2177 - mae: 15.2177\n",
      "Epoch 466/500\n",
      "2/2 [==============================] - 0s 4ms/step - loss: 20.8418 - mae: 20.8418\n",
      "Epoch 467/500\n",
      "2/2 [==============================] - 0s 4ms/step - loss: 30.4859 - mae: 30.4859\n",
      "Epoch 468/500\n",
      "2/2 [==============================] - 0s 6ms/step - loss: 11.0494 - mae: 11.0494\n",
      "Epoch 469/500\n",
      "2/2 [==============================] - 0s 7ms/step - loss: 12.8228 - mae: 12.8228\n",
      "Epoch 470/500\n",
      "2/2 [==============================] - 0s 4ms/step - loss: 3.2403 - mae: 3.2403\n",
      "Epoch 471/500\n",
      "2/2 [==============================] - 0s 6ms/step - loss: 16.7036 - mae: 16.7036\n",
      "Epoch 472/500\n",
      "2/2 [==============================] - 0s 4ms/step - loss: 13.3940 - mae: 13.3940\n",
      "Epoch 473/500\n",
      "2/2 [==============================] - 0s 4ms/step - loss: 15.2837 - mae: 15.2837\n",
      "Epoch 474/500\n",
      "2/2 [==============================] - 0s 4ms/step - loss: 11.7513 - mae: 11.7513\n",
      "Epoch 475/500\n",
      "2/2 [==============================] - 0s 4ms/step - loss: 16.4174 - mae: 16.4174\n",
      "Epoch 476/500\n",
      "2/2 [==============================] - 0s 4ms/step - loss: 13.8812 - mae: 13.8812\n",
      "Epoch 477/500\n",
      "2/2 [==============================] - 0s 4ms/step - loss: 30.6750 - mae: 30.6750\n",
      "Epoch 478/500\n",
      "2/2 [==============================] - 0s 4ms/step - loss: 8.5964 - mae: 8.5964\n",
      "Epoch 479/500\n",
      "2/2 [==============================] - 0s 4ms/step - loss: 10.7441 - mae: 10.7441\n",
      "Epoch 480/500\n",
      "2/2 [==============================] - 0s 5ms/step - loss: 17.9109 - mae: 17.9109\n",
      "Epoch 481/500\n",
      "2/2 [==============================] - 0s 4ms/step - loss: 15.8141 - mae: 15.8141\n",
      "Epoch 482/500\n",
      "2/2 [==============================] - 0s 8ms/step - loss: 21.3148 - mae: 21.3148\n",
      "Epoch 483/500\n",
      "2/2 [==============================] - 0s 5ms/step - loss: 25.3637 - mae: 25.3637\n",
      "Epoch 484/500\n",
      "2/2 [==============================] - 0s 5ms/step - loss: 23.9601 - mae: 23.9601\n",
      "Epoch 485/500\n",
      "2/2 [==============================] - 0s 5ms/step - loss: 5.7712 - mae: 5.7712\n",
      "Epoch 486/500\n",
      "2/2 [==============================] - 0s 7ms/step - loss: 19.9774 - mae: 19.9774\n",
      "Epoch 487/500\n",
      "2/2 [==============================] - 0s 7ms/step - loss: 14.0447 - mae: 14.0447\n",
      "Epoch 488/500\n",
      "2/2 [==============================] - 0s 14ms/step - loss: 30.6137 - mae: 30.6137\n",
      "Epoch 489/500\n",
      "2/2 [==============================] - 0s 7ms/step - loss: 11.9490 - mae: 11.9490\n",
      "Epoch 490/500\n",
      "2/2 [==============================] - 0s 7ms/step - loss: 12.7395 - mae: 12.7395\n",
      "Epoch 491/500\n",
      "2/2 [==============================] - 0s 7ms/step - loss: 23.6223 - mae: 23.6223\n",
      "Epoch 492/500\n",
      "2/2 [==============================] - 0s 12ms/step - loss: 20.5156 - mae: 20.5156\n",
      "Epoch 493/500\n",
      "2/2 [==============================] - 0s 10ms/step - loss: 4.9913 - mae: 4.9913\n",
      "Epoch 494/500\n",
      "2/2 [==============================] - 0s 12ms/step - loss: 12.7814 - mae: 12.7814\n",
      "Epoch 495/500\n",
      "2/2 [==============================] - 0s 8ms/step - loss: 13.3850 - mae: 13.3850\n",
      "Epoch 496/500\n",
      "2/2 [==============================] - 0s 7ms/step - loss: 12.6783 - mae: 12.6783\n",
      "Epoch 497/500\n",
      "2/2 [==============================] - 0s 9ms/step - loss: 17.6293 - mae: 17.6293\n",
      "Epoch 498/500\n",
      "2/2 [==============================] - 0s 9ms/step - loss: 23.5407 - mae: 23.5407\n",
      "Epoch 499/500\n",
      "2/2 [==============================] - 0s 8ms/step - loss: 9.3572 - mae: 9.3572\n",
      "Epoch 500/500\n",
      "2/2 [==============================] - 0s 9ms/step - loss: 14.6344 - mae: 14.6344\n"
     ]
    },
    {
     "data": {
      "text/plain": "<keras.callbacks.History at 0x7f6573009a10>"
     },
     "execution_count": 58,
     "metadata": {},
     "output_type": "execute_result"
    }
   ],
   "source": [
    "# Set the random seed\n",
    "tf.random.set_seed(42)\n",
    "\n",
    "# 1. Create the model\n",
    "model_3 = tf.keras.Sequential([\n",
    "    tf.keras.layers.Dense(10),\n",
    "    tf.keras.layers.Dense(1)\n",
    "])\n",
    "\n",
    "# 2. Compile the model\n",
    "model_3.compile(loss=tf.keras.losses.mae,\n",
    "                optimizer=tf.keras.optimizers.SGD(),\n",
    "                metrics=[\"mae\"])\n",
    "\n",
    "# 3. Fit the model\n",
    "model_3.fit(tf.expand_dims(X_train, axis=-1), y_train, epochs=500)"
   ],
   "metadata": {
    "colab": {
     "base_uri": "https://localhost:8080/"
    },
    "id": "63aa0519b7419682",
    "executionInfo": {
     "status": "ok",
     "timestamp": 1696076859418,
     "user_tz": -420,
     "elapsed": 12407,
     "user": {
      "displayName": "kang sigit",
      "userId": "15887135570512197739"
     }
    },
    "outputId": "b505caf8-a0f1-424c-d542-7479ae153a19",
    "ExecuteTime": {
     "end_time": "2024-01-02T07:40:23.620924523Z",
     "start_time": "2024-01-02T07:40:12.722672725Z"
    }
   },
   "id": "63aa0519b7419682"
  },
  {
   "cell_type": "code",
   "execution_count": 59,
   "outputs": [
    {
     "name": "stdout",
     "output_type": "stream",
     "text": [
      "1/1 [==============================] - 0s 45ms/step\n"
     ]
    },
    {
     "data": {
      "text/plain": "<Figure size 1000x700 with 1 Axes>",
      "image/png": "[encoded data removed]"
     },
     "metadata": {},
     "output_type": "display_data"
    }
   ],
   "source": [
    "# Make and plot some predictions\n",
    "y_preds_3 = model_3.predict(X_test)\n",
    "plot_predictions(predictions=y_preds_3)"
   ],
   "metadata": {
    "colab": {
     "base_uri": "https://localhost:8080/",
     "height": 617
    },
    "id": "14874d471dd92dec",
    "executionInfo": {
     "status": "ok",
     "timestamp": 1696076861937,
     "user_tz": -420,
     "elapsed": 671,
     "user": {
      "displayName": "kang sigit",
      "userId": "15887135570512197739"
     }
    },
    "outputId": "fe1fd6e7-d487-4987-f7e0-fa91d67da44a",
    "ExecuteTime": {
     "end_time": "2024-01-02T07:40:30.342949596Z",
     "start_time": "2024-01-02T07:40:29.968645620Z"
    }
   },
   "id": "14874d471dd92dec"
  },
  {
   "cell_type": "code",
   "execution_count": 60,
   "outputs": [
    {
     "data": {
      "text/plain": "(<tf.Tensor: shape=(), dtype=float32, numpy=68.723114>,\n <tf.Tensor: shape=(), dtype=float32, numpy=4809.354>)"
     },
     "execution_count": 60,
     "metadata": {},
     "output_type": "execute_result"
    }
   ],
   "source": [
    "# Calculate model_3 evaluation metrics\n",
    "mae_3 = mae(y_test, y_preds_3)\n",
    "mse_3 = mse(y_test, y_preds_3)\n",
    "mae_3, mse_3"
   ],
   "metadata": {
    "colab": {
     "base_uri": "https://localhost:8080/"
    },
    "id": "a1bdb91d97ceeb7a",
    "executionInfo": {
     "status": "ok",
     "timestamp": 1696076867643,
     "user_tz": -420,
     "elapsed": 922,
     "user": {
      "displayName": "kang sigit",
      "userId": "15887135570512197739"
     }
    },
    "outputId": "0ab21741-9a25-46ca-c673-b847793ba5dd",
    "ExecuteTime": {
     "end_time": "2024-01-02T07:40:31.822334258Z",
     "start_time": "2024-01-02T07:40:31.747429565Z"
    }
   },
   "id": "a1bdb91d97ceeb7a"
  },
  {
   "cell_type": "markdown",
   "source": [
    "🔑 **Note:** You want to start with small experiments (small models) and make sure they work and than increase their scale when necessary."
   ],
   "metadata": {
    "collapsed": false,
    "id": "13cc26732f4ee288"
   },
   "id": "13cc26732f4ee288"
  },
  {
   "cell_type": "markdown",
   "source": [
    "## Comparing the results of our experiments\n",
    "\n",
    "We've run a few experiments, let's compare the results."
   ],
   "metadata": {
    "collapsed": false,
    "id": "f99513fbb95360d4"
   },
   "id": "f99513fbb95360d4"
  },
  {
   "cell_type": "code",
   "execution_count": 61,
   "outputs": [
    {
     "data": {
      "text/plain": "     model        mae          mse\n0  model_1  32.594913  1074.841553\n1  model_2  42.877312  1864.012939\n2  model_3  68.723114  4809.354004",
      "text/html": "<div>\n<style scoped>\n    .dataframe tbody tr th:only-of-type {\n        vertical-align: middle;\n    }\n\n    .dataframe tbody tr th {\n        vertical-align: top;\n    }\n\n    .dataframe thead th {\n        text-align: right;\n    }\n</style>\n<table border=\"1\" class=\"dataframe\">\n  <thead>\n    <tr style=\"text-align: right;\">\n      <th></th>\n      <th>model</th>\n      <th>mae</th>\n      <th>mse</th>\n    </tr>\n  </thead>\n  <tbody>\n    <tr>\n      <th>0</th>\n      <td>model_1</td>\n      <td>32.594913</td>\n      <td>1074.841553</td>\n    </tr>\n    <tr>\n      <th>1</th>\n      <td>model_2</td>\n      <td>42.877312</td>\n      <td>1864.012939</td>\n    </tr>\n    <tr>\n      <th>2</th>\n      <td>model_3</td>\n      <td>68.723114</td>\n      <td>4809.354004</td>\n    </tr>\n  </tbody>\n</table>\n</div>"
     },
     "execution_count": 61,
     "metadata": {},
     "output_type": "execute_result"
    }
   ],
   "source": [
    "# Let's compare our model's results using a pandas DataFrame\n",
    "import pandas as pd\n",
    "\n",
    "model_results = [[\"model_1\", mae_1.numpy(), mse_1.numpy()],\n",
    "                 [\"model_2\", mae_2.numpy(), mse_2.numpy()],\n",
    "                 [\"model_3\", mae_3.numpy(), mse_3.numpy()]]\n",
    "\n",
    "all_results = pd.DataFrame(model_results, columns=[\"model\", \"mae\", \"mse\"])\n",
    "all_results"
   ],
   "metadata": {
    "colab": {
     "base_uri": "https://localhost:8080/",
     "height": 143
    },
    "id": "307fb19b0e82e4c6",
    "executionInfo": {
     "status": "ok",
     "timestamp": 1696076870784,
     "user_tz": -420,
     "elapsed": 14,
     "user": {
      "displayName": "kang sigit",
      "userId": "15887135570512197739"
     }
    },
    "outputId": "e0578fbd-8dd6-4813-e17d-b81d15efcd8d",
    "ExecuteTime": {
     "end_time": "2024-01-02T07:40:35.718651151Z",
     "start_time": "2024-01-02T07:40:35.679140999Z"
    }
   },
   "id": "307fb19b0e82e4c6"
  },
  {
   "cell_type": "code",
   "execution_count": 62,
   "outputs": [],
   "source": [
    "### Look like `model_2` performed best (maybe)"
   ],
   "metadata": {
    "id": "5b36e1e7958a0c73",
    "executionInfo": {
     "status": "ok",
     "timestamp": 1696076877317,
     "user_tz": -420,
     "elapsed": 560,
     "user": {
      "displayName": "kang sigit",
      "userId": "15887135570512197739"
     }
    },
    "ExecuteTime": {
     "end_time": "2024-01-02T07:40:41.361624636Z",
     "start_time": "2024-01-02T07:40:41.290042369Z"
    }
   },
   "id": "5b36e1e7958a0c73"
  },
  {
   "cell_type": "code",
   "execution_count": 63,
   "outputs": [
    {
     "name": "stdout",
     "output_type": "stream",
     "text": [
      "Model: \"sequential_5\"\n",
      "_________________________________________________________________\n",
      " Layer (type)                Output Shape              Param #   \n",
      "=================================================================\n",
      " dense_6 (Dense)             (None, 10)                20        \n",
      "                                                                 \n",
      " dense_7 (Dense)             (None, 1)                 11        \n",
      "                                                                 \n",
      "=================================================================\n",
      "Total params: 31\n",
      "Trainable params: 31\n",
      "Non-trainable params: 0\n",
      "_________________________________________________________________\n"
     ]
    }
   ],
   "source": [
    "model_2.summary()"
   ],
   "metadata": {
    "colab": {
     "base_uri": "https://localhost:8080/"
    },
    "id": "217c2eae7aa9fffc",
    "executionInfo": {
     "status": "ok",
     "timestamp": 1696076880554,
     "user_tz": -420,
     "elapsed": 824,
     "user": {
      "displayName": "kang sigit",
      "userId": "15887135570512197739"
     }
    },
    "outputId": "ce1b5ae7-6598-4afc-8dda-63d17f521d3a",
    "ExecuteTime": {
     "end_time": "2024-01-02T07:40:42.243271839Z",
     "start_time": "2024-01-02T07:40:42.150763422Z"
    }
   },
   "id": "217c2eae7aa9fffc"
  },
  {
   "cell_type": "markdown",
   "source": [
    ":key **Note:** One of your main goals should be to minimize the time between your experiments. The more experiments you do, the more things you'll figure out which don't work and in turn, get closer to figuring out what does work.Remember the machine learning practioner's motto: \"experiment, experiment, experiment\"."
   ],
   "metadata": {
    "collapsed": false,
    "id": "4a1705a03c1bbb72"
   },
   "id": "4a1705a03c1bbb72"
  },
  {
   "cell_type": "markdown",
   "source": [
    "## Tracking your experiments\n",
    "\n",
    "One really good habit in machine learning modelling is to track the results of your experiments.\n",
    "\n",
    "And when doing so, it can be tedious if you're running lots of experiments.\n",
    "\n",
    "Luckily, there are tools to help us!\n",
    "\n",
    "📖 **Resource:** As you build more models, you'll want to look into using:\n",
    "\n",
    "* TensorBoard - a component of the TensorFlow library to help track modelling experiments (we'll see this one later).\n",
    "* Weights & Biases - a tool for tracking all of kinds of machine learning experiments (plugs straight into TensorBoard)."
   ],
   "metadata": {
    "collapsed": false,
    "id": "17f54b7f126aa329"
   },
   "id": "17f54b7f126aa329"
  },
  {
   "cell_type": "markdown",
   "source": [
    "## Saving our models\n",
    "\n",
    "Saving your models allows us to use them outside of Google Colab (or wherever they were trained) such as in a web application or a mobile app.\n",
    "\n",
    "There are two main formats we can save or model's too:\n",
    "1. The SaveModel Format\n",
    "2. The HDF5 format"
   ],
   "metadata": {
    "collapsed": false,
    "id": "3b39adadf7ace07"
   },
   "id": "3b39adadf7ace07"
  },
  {
   "cell_type": "code",
   "execution_count": 64,
   "outputs": [
    {
     "name": "stderr",
     "output_type": "stream",
     "text": [
      "WARNING:absl:Found untraced functions such as _update_step_xla while saving (showing 1 of 1). These functions will not be directly callable after loading.\n"
     ]
    },
    {
     "name": "stdout",
     "output_type": "stream",
     "text": [
      "INFO:tensorflow:Assets written to: best_model_SavedModel_format/assets\n"
     ]
    },
    {
     "name": "stderr",
     "output_type": "stream",
     "text": [
      "INFO:tensorflow:Assets written to: best_model_SavedModel_format/assets\n"
     ]
    }
   ],
   "source": [
    "# Save model using the SaveModel format\n",
    "model_2.save(\"best_model_SavedModel_format\")"
   ],
   "metadata": {
    "id": "f756e5f68dbdd72",
    "executionInfo": {
     "status": "aborted",
     "timestamp": 1696076709017,
     "user_tz": -420,
     "elapsed": 12,
     "user": {
      "displayName": "kang sigit",
      "userId": "15887135570512197739"
     }
    },
    "ExecuteTime": {
     "end_time": "2024-01-02T07:40:46.448325614Z",
     "start_time": "2024-01-02T07:40:45.939354012Z"
    }
   },
   "id": "f756e5f68dbdd72"
  },
  {
   "cell_type": "code",
   "execution_count": 65,
   "outputs": [],
   "source": [
    "# Save model using the HDF5 format\n",
    "model_2.save(\"best_model_HDF5_format.h5\")"
   ],
   "metadata": {
    "collapsed": false,
    "ExecuteTime": {
     "end_time": "2024-01-02T07:40:47.414643328Z",
     "start_time": "2024-01-02T07:40:47.349856858Z"
    }
   },
   "id": "3d3318e412be8e5e"
  },
  {
   "cell_type": "markdown",
   "source": [
    "## Loading in saved model"
   ],
   "metadata": {
    "collapsed": false
   },
   "id": "61263de06c24ec02"
  },
  {
   "cell_type": "code",
   "execution_count": 66,
   "outputs": [
    {
     "name": "stdout",
     "output_type": "stream",
     "text": [
      "Model: \"sequential_5\"\n",
      "_________________________________________________________________\n",
      " Layer (type)                Output Shape              Param #   \n",
      "=================================================================\n",
      " dense_6 (Dense)             (None, 10)                20        \n",
      "                                                                 \n",
      " dense_7 (Dense)             (None, 1)                 11        \n",
      "                                                                 \n",
      "=================================================================\n",
      "Total params: 31\n",
      "Trainable params: 31\n",
      "Non-trainable params: 0\n",
      "_________________________________________________________________\n"
     ]
    }
   ],
   "source": [
    "loaded_SavedModel_format = tf.keras.models.load_model(\"best_model_SavedModel_format\")\n",
    "loaded_SavedModel_format.summary()"
   ],
   "metadata": {
    "collapsed": false,
    "ExecuteTime": {
     "end_time": "2024-01-02T07:40:49.457622334Z",
     "start_time": "2024-01-02T07:40:49.255424495Z"
    }
   },
   "id": "972570d455c0ea7b"
  },
  {
   "cell_type": "code",
   "execution_count": 67,
   "outputs": [
    {
     "name": "stdout",
     "output_type": "stream",
     "text": [
      "1/1 [==============================] - 0s 33ms/step\n",
      "1/1 [==============================] - 0s 70ms/step\n"
     ]
    },
    {
     "data": {
      "text/plain": "array([[ True],\n       [ True],\n       [ True],\n       [ True],\n       [ True],\n       [ True],\n       [ True],\n       [ True],\n       [ True],\n       [ True]])"
     },
     "execution_count": 67,
     "metadata": {},
     "output_type": "execute_result"
    }
   ],
   "source": [
    "# Compare model_2 predictions with SavedModel format model predictions\n",
    "model_2_preds = model_2.predict(X_test)\n",
    "loaded_SavedModel_format_preds = loaded_SavedModel_format.predict(X_test);\n",
    "model_2_preds == loaded_SavedModel_format_preds"
   ],
   "metadata": {
    "collapsed": false,
    "ExecuteTime": {
     "end_time": "2024-01-02T07:40:50.506908697Z",
     "start_time": "2024-01-02T07:40:50.272849300Z"
    }
   },
   "id": "d9bf6d501126be3a"
  },
  {
   "cell_type": "code",
   "execution_count": 68,
   "outputs": [
    {
     "data": {
      "text/plain": "<tf.Tensor: shape=(), dtype=bool, numpy=True>"
     },
     "execution_count": 68,
     "metadata": {},
     "output_type": "execute_result"
    }
   ],
   "source": [
    "# Compare the MAE of model_2 preds and loaded_SavedModel_preds\n",
    "mae(y_true=y_test, y_pred=model_2_preds) == mae(y_true=y_test, y_pred=loaded_SavedModel_format_preds)"
   ],
   "metadata": {
    "collapsed": false,
    "ExecuteTime": {
     "end_time": "2024-01-02T07:40:51.070725086Z",
     "start_time": "2024-01-02T07:40:51.020206833Z"
    }
   },
   "id": "2a2862a719eb26ad"
  },
  {
   "cell_type": "code",
   "execution_count": 69,
   "outputs": [
    {
     "name": "stdout",
     "output_type": "stream",
     "text": [
      "Model: \"sequential_5\"\n",
      "_________________________________________________________________\n",
      " Layer (type)                Output Shape              Param #   \n",
      "=================================================================\n",
      " dense_6 (Dense)             (None, 10)                20        \n",
      "                                                                 \n",
      " dense_7 (Dense)             (None, 1)                 11        \n",
      "                                                                 \n",
      "=================================================================\n",
      "Total params: 31\n",
      "Trainable params: 31\n",
      "Non-trainable params: 0\n",
      "_________________________________________________________________\n"
     ]
    }
   ],
   "source": [
    "# Load in model using the .h5 format\n",
    "loaded_h5_model = tf.keras.models.load_model(\"best_model_HDF5_format.h5\")\n",
    "loaded_h5_model.summary()"
   ],
   "metadata": {
    "collapsed": false,
    "ExecuteTime": {
     "end_time": "2024-01-02T07:40:52.266959610Z",
     "start_time": "2024-01-02T07:40:52.172515438Z"
    }
   },
   "id": "abf2e5db4f1e317d"
  },
  {
   "cell_type": "code",
   "execution_count": 70,
   "outputs": [
    {
     "name": "stdout",
     "output_type": "stream",
     "text": [
      "1/1 [==============================] - 0s 17ms/step\n",
      "1/1 [==============================] - 0s 65ms/step\n"
     ]
    },
    {
     "data": {
      "text/plain": "array([[ True],\n       [ True],\n       [ True],\n       [ True],\n       [ True],\n       [ True],\n       [ True],\n       [ True],\n       [ True],\n       [ True]])"
     },
     "execution_count": 70,
     "metadata": {},
     "output_type": "execute_result"
    }
   ],
   "source": [
    "# Check to see if loaded .h5 model predictions match model_2\n",
    "model_2_preds = model_2.predict(X_test)\n",
    "loaded_h5_model_preds = loaded_h5_model.predict(X_test)\n",
    "model_2_preds == loaded_h5_model_preds"
   ],
   "metadata": {
    "collapsed": false,
    "ExecuteTime": {
     "end_time": "2024-01-02T07:40:53.686387844Z",
     "start_time": "2024-01-02T07:40:53.406470512Z"
    }
   },
   "id": "8dfd4812a43168e0"
  },
  {
   "cell_type": "markdown",
   "source": [
    "## A larger Example"
   ],
   "metadata": {
    "collapsed": false
   },
   "id": "d4f8c8045cd632c9"
  },
  {
   "cell_type": "code",
   "execution_count": 71,
   "outputs": [
    {
     "data": {
      "text/plain": "(<tf.Tensor: shape=(40,), dtype=int32, numpy=\n array([-100,  -96,  -92,  -88,  -84,  -80,  -76,  -72,  -68,  -64,  -60,\n         -56,  -52,  -48,  -44,  -40,  -36,  -32,  -28,  -24,  -20,  -16,\n         -12,   -8,   -4,    0,    4,    8,   12,   16,   20,   24,   28,\n          32,   36,   40,   44,   48,   52,   56], dtype=int32)>,\n <tf.Tensor: shape=(40,), dtype=int32, numpy=\n array([-90, -86, -82, -78, -74, -70, -66, -62, -58, -54, -50, -46, -42,\n        -38, -34, -30, -26, -22, -18, -14, -10,  -6,  -2,   2,   6,  10,\n         14,  18,  22,  26,  30,  34,  38,  42,  46,  50,  54,  58,  62,\n         66], dtype=int32)>)"
     },
     "execution_count": 71,
     "metadata": {},
     "output_type": "execute_result"
    }
   ],
   "source": [
    "X_train, y_train"
   ],
   "metadata": {
    "collapsed": false,
    "ExecuteTime": {
     "end_time": "2024-01-02T07:40:59.966335999Z",
     "start_time": "2024-01-02T07:40:59.920224732Z"
    }
   },
   "id": "609978110d94b6ae"
  },
  {
   "cell_type": "code",
   "execution_count": 72,
   "outputs": [],
   "source": [
    "# Import required libraries\n",
    "import tensorflow as tf\n",
    "import pandas as pd\n",
    "import matplotlib.pyplot as plt"
   ],
   "metadata": {
    "collapsed": false,
    "ExecuteTime": {
     "end_time": "2024-01-02T07:41:08.817100218Z",
     "start_time": "2024-01-02T07:41:08.745461267Z"
    }
   },
   "id": "5f6b5badf10907a9"
  },
  {
   "cell_type": "code",
   "execution_count": 73,
   "outputs": [
    {
     "data": {
      "text/plain": "      age     sex     bmi  children smoker     region      charges\n0      19  female  27.900         0    yes  southwest  16884.92400\n1      18    male  33.770         1     no  southeast   1725.55230\n2      28    male  33.000         3     no  southeast   4449.46200\n3      33    male  22.705         0     no  northwest  21984.47061\n4      32    male  28.880         0     no  northwest   3866.85520\n...   ...     ...     ...       ...    ...        ...          ...\n1333   50    male  30.970         3     no  northwest  10600.54830\n1334   18  female  31.920         0     no  northeast   2205.98080\n1335   18  female  36.850         0     no  southeast   1629.83350\n1336   21  female  25.800         0     no  southwest   2007.94500\n1337   61  female  29.070         0    yes  northwest  29141.36030\n\n[1338 rows x 7 columns]",
      "text/html": "<div>\n<style scoped>\n    .dataframe tbody tr th:only-of-type {\n        vertical-align: middle;\n    }\n\n    .dataframe tbody tr th {\n        vertical-align: top;\n    }\n\n    .dataframe thead th {\n        text-align: right;\n    }\n</style>\n<table border=\"1\" class=\"dataframe\">\n  <thead>\n    <tr style=\"text-align: right;\">\n      <th></th>\n      <th>age</th>\n      <th>sex</th>\n      <th>bmi</th>\n      <th>children</th>\n      <th>smoker</th>\n      <th>region</th>\n      <th>charges</th>\n    </tr>\n  </thead>\n  <tbody>\n    <tr>\n      <th>0</th>\n      <td>19</td>\n      <td>female</td>\n      <td>27.900</td>\n      <td>0</td>\n      <td>yes</td>\n      <td>southwest</td>\n      <td>16884.92400</td>\n    </tr>\n    <tr>\n      <th>1</th>\n      <td>18</td>\n      <td>male</td>\n      <td>33.770</td>\n      <td>1</td>\n      <td>no</td>\n      <td>southeast</td>\n      <td>1725.55230</td>\n    </tr>\n    <tr>\n      <th>2</th>\n      <td>28</td>\n      <td>male</td>\n      <td>33.000</td>\n      <td>3</td>\n      <td>no</td>\n      <td>southeast</td>\n      <td>4449.46200</td>\n    </tr>\n    <tr>\n      <th>3</th>\n      <td>33</td>\n      <td>male</td>\n      <td>22.705</td>\n      <td>0</td>\n      <td>no</td>\n      <td>northwest</td>\n      <td>21984.47061</td>\n    </tr>\n    <tr>\n      <th>4</th>\n      <td>32</td>\n      <td>male</td>\n      <td>28.880</td>\n      <td>0</td>\n      <td>no</td>\n      <td>northwest</td>\n      <td>3866.85520</td>\n    </tr>\n    <tr>\n      <th>...</th>\n      <td>...</td>\n      <td>...</td>\n      <td>...</td>\n      <td>...</td>\n      <td>...</td>\n      <td>...</td>\n      <td>...</td>\n    </tr>\n    <tr>\n      <th>1333</th>\n      <td>50</td>\n      <td>male</td>\n      <td>30.970</td>\n      <td>3</td>\n      <td>no</td>\n      <td>northwest</td>\n      <td>10600.54830</td>\n    </tr>\n    <tr>\n      <th>1334</th>\n      <td>18</td>\n      <td>female</td>\n      <td>31.920</td>\n      <td>0</td>\n      <td>no</td>\n      <td>northeast</td>\n      <td>2205.98080</td>\n    </tr>\n    <tr>\n      <th>1335</th>\n      <td>18</td>\n      <td>female</td>\n      <td>36.850</td>\n      <td>0</td>\n      <td>no</td>\n      <td>southeast</td>\n      <td>1629.83350</td>\n    </tr>\n    <tr>\n      <th>1336</th>\n      <td>21</td>\n      <td>female</td>\n      <td>25.800</td>\n      <td>0</td>\n      <td>no</td>\n      <td>southwest</td>\n      <td>2007.94500</td>\n    </tr>\n    <tr>\n      <th>1337</th>\n      <td>61</td>\n      <td>female</td>\n      <td>29.070</td>\n      <td>0</td>\n      <td>yes</td>\n      <td>northwest</td>\n      <td>29141.36030</td>\n    </tr>\n  </tbody>\n</table>\n<p>1338 rows × 7 columns</p>\n</div>"
     },
     "execution_count": 73,
     "metadata": {},
     "output_type": "execute_result"
    }
   ],
   "source": [
    "# Read in the insurance dataset\n",
    "insurance = pd.read_csv('Dataset/insurance.csv')\n",
    "insurance"
   ],
   "metadata": {
    "collapsed": false,
    "ExecuteTime": {
     "end_time": "2024-01-02T07:41:09.849379254Z",
     "start_time": "2024-01-02T07:41:09.775535354Z"
    }
   },
   "id": "40cfa82b64bd5417"
  },
  {
   "cell_type": "code",
   "execution_count": 74,
   "outputs": [
    {
     "data": {
      "text/plain": "0       female\n1         male\n2         male\n3         male\n4         male\n         ...  \n1333      male\n1334    female\n1335    female\n1336    female\n1337    female\nName: sex, Length: 1338, dtype: object"
     },
     "execution_count": 74,
     "metadata": {},
     "output_type": "execute_result"
    }
   ],
   "source": [
    "insurance[\"sex\"]"
   ],
   "metadata": {
    "collapsed": false,
    "ExecuteTime": {
     "end_time": "2024-01-02T07:41:12.834325470Z",
     "start_time": "2024-01-02T07:41:12.769668236Z"
    }
   },
   "id": "2968facf3ae0337d"
  },
  {
   "cell_type": "code",
   "execution_count": 75,
   "outputs": [
    {
     "data": {
      "text/plain": "   age     bmi  children      charges  sex_female  sex_male  smoker_no  \\\n0   19  27.900         0  16884.92400           1         0          0   \n1   18  33.770         1   1725.55230           0         1          1   \n2   28  33.000         3   4449.46200           0         1          1   \n3   33  22.705         0  21984.47061           0         1          1   \n4   32  28.880         0   3866.85520           0         1          1   \n\n   smoker_yes  region_northeast  region_northwest  region_southeast  \\\n0           1                 0                 0                 0   \n1           0                 0                 0                 1   \n2           0                 0                 0                 1   \n3           0                 0                 1                 0   \n4           0                 0                 1                 0   \n\n   region_southwest  \n0                 1  \n1                 0  \n2                 0  \n3                 0  \n4                 0  ",
      "text/html": "<div>\n<style scoped>\n    .dataframe tbody tr th:only-of-type {\n        vertical-align: middle;\n    }\n\n    .dataframe tbody tr th {\n        vertical-align: top;\n    }\n\n    .dataframe thead th {\n        text-align: right;\n    }\n</style>\n<table border=\"1\" class=\"dataframe\">\n  <thead>\n    <tr style=\"text-align: right;\">\n      <th></th>\n      <th>age</th>\n      <th>bmi</th>\n      <th>children</th>\n      <th>charges</th>\n      <th>sex_female</th>\n      <th>sex_male</th>\n      <th>smoker_no</th>\n      <th>smoker_yes</th>\n      <th>region_northeast</th>\n      <th>region_northwest</th>\n      <th>region_southeast</th>\n      <th>region_southwest</th>\n    </tr>\n  </thead>\n  <tbody>\n    <tr>\n      <th>0</th>\n      <td>19</td>\n      <td>27.900</td>\n      <td>0</td>\n      <td>16884.92400</td>\n      <td>1</td>\n      <td>0</td>\n      <td>0</td>\n      <td>1</td>\n      <td>0</td>\n      <td>0</td>\n      <td>0</td>\n      <td>1</td>\n    </tr>\n    <tr>\n      <th>1</th>\n      <td>18</td>\n      <td>33.770</td>\n      <td>1</td>\n      <td>1725.55230</td>\n      <td>0</td>\n      <td>1</td>\n      <td>1</td>\n      <td>0</td>\n      <td>0</td>\n      <td>0</td>\n      <td>1</td>\n      <td>0</td>\n    </tr>\n    <tr>\n      <th>2</th>\n      <td>28</td>\n      <td>33.000</td>\n      <td>3</td>\n      <td>4449.46200</td>\n      <td>0</td>\n      <td>1</td>\n      <td>1</td>\n      <td>0</td>\n      <td>0</td>\n      <td>0</td>\n      <td>1</td>\n      <td>0</td>\n    </tr>\n    <tr>\n      <th>3</th>\n      <td>33</td>\n      <td>22.705</td>\n      <td>0</td>\n      <td>21984.47061</td>\n      <td>0</td>\n      <td>1</td>\n      <td>1</td>\n      <td>0</td>\n      <td>0</td>\n      <td>1</td>\n      <td>0</td>\n      <td>0</td>\n    </tr>\n    <tr>\n      <th>4</th>\n      <td>32</td>\n      <td>28.880</td>\n      <td>0</td>\n      <td>3866.85520</td>\n      <td>0</td>\n      <td>1</td>\n      <td>1</td>\n      <td>0</td>\n      <td>0</td>\n      <td>1</td>\n      <td>0</td>\n      <td>0</td>\n    </tr>\n  </tbody>\n</table>\n</div>"
     },
     "execution_count": 75,
     "metadata": {},
     "output_type": "execute_result"
    }
   ],
   "source": [
    "# Let's try one-hot encode our DataFrame so it's all numbers\n",
    "insurance_one_hot = pd.get_dummies(insurance, dtype=int)\n",
    "insurance_one_hot.head()"
   ],
   "metadata": {
    "collapsed": false,
    "ExecuteTime": {
     "end_time": "2024-01-02T07:41:13.905386986Z",
     "start_time": "2024-01-02T07:41:13.850287878Z"
    }
   },
   "id": "1cd3a133a4b6f4e1"
  },
  {
   "cell_type": "code",
   "execution_count": 76,
   "outputs": [],
   "source": [
    "# Create X & y values (features and labels)\n",
    "X = insurance_one_hot.drop(\"charges\", axis=1)\n",
    "y = insurance_one_hot[\"charges\"]"
   ],
   "metadata": {
    "collapsed": false,
    "ExecuteTime": {
     "end_time": "2024-01-02T07:41:15.042871872Z",
     "start_time": "2024-01-02T07:41:14.977757412Z"
    }
   },
   "id": "ec14db08cf1f038e"
  },
  {
   "cell_type": "code",
   "outputs": [
    {
     "data": {
      "text/plain": "   age     bmi  children  sex_female  sex_male  smoker_no  smoker_yes  \\\n0   19  27.900         0           1         0          0           1   \n1   18  33.770         1           0         1          1           0   \n2   28  33.000         3           0         1          1           0   \n3   33  22.705         0           0         1          1           0   \n4   32  28.880         0           0         1          1           0   \n\n   region_northeast  region_northwest  region_southeast  region_southwest  \n0                 0                 0                 0                 1  \n1                 0                 0                 1                 0  \n2                 0                 0                 1                 0  \n3                 0                 1                 0                 0  \n4                 0                 1                 0                 0  ",
      "text/html": "<div>\n<style scoped>\n    .dataframe tbody tr th:only-of-type {\n        vertical-align: middle;\n    }\n\n    .dataframe tbody tr th {\n        vertical-align: top;\n    }\n\n    .dataframe thead th {\n        text-align: right;\n    }\n</style>\n<table border=\"1\" class=\"dataframe\">\n  <thead>\n    <tr style=\"text-align: right;\">\n      <th></th>\n      <th>age</th>\n      <th>bmi</th>\n      <th>children</th>\n      <th>sex_female</th>\n      <th>sex_male</th>\n      <th>smoker_no</th>\n      <th>smoker_yes</th>\n      <th>region_northeast</th>\n      <th>region_northwest</th>\n      <th>region_southeast</th>\n      <th>region_southwest</th>\n    </tr>\n  </thead>\n  <tbody>\n    <tr>\n      <th>0</th>\n      <td>19</td>\n      <td>27.900</td>\n      <td>0</td>\n      <td>1</td>\n      <td>0</td>\n      <td>0</td>\n      <td>1</td>\n      <td>0</td>\n      <td>0</td>\n      <td>0</td>\n      <td>1</td>\n    </tr>\n    <tr>\n      <th>1</th>\n      <td>18</td>\n      <td>33.770</td>\n      <td>1</td>\n      <td>0</td>\n      <td>1</td>\n      <td>1</td>\n      <td>0</td>\n      <td>0</td>\n      <td>0</td>\n      <td>1</td>\n      <td>0</td>\n    </tr>\n    <tr>\n      <th>2</th>\n      <td>28</td>\n      <td>33.000</td>\n      <td>3</td>\n      <td>0</td>\n      <td>1</td>\n      <td>1</td>\n      <td>0</td>\n      <td>0</td>\n      <td>0</td>\n      <td>1</td>\n      <td>0</td>\n    </tr>\n    <tr>\n      <th>3</th>\n      <td>33</td>\n      <td>22.705</td>\n      <td>0</td>\n      <td>0</td>\n      <td>1</td>\n      <td>1</td>\n      <td>0</td>\n      <td>0</td>\n      <td>1</td>\n      <td>0</td>\n      <td>0</td>\n    </tr>\n    <tr>\n      <th>4</th>\n      <td>32</td>\n      <td>28.880</td>\n      <td>0</td>\n      <td>0</td>\n      <td>1</td>\n      <td>1</td>\n      <td>0</td>\n      <td>0</td>\n      <td>1</td>\n      <td>0</td>\n      <td>0</td>\n    </tr>\n  </tbody>\n</table>\n</div>"
     },
     "execution_count": 77,
     "metadata": {},
     "output_type": "execute_result"
    }
   ],
   "source": [
    "# View X\n",
    "X.head()"
   ],
   "metadata": {
    "collapsed": false,
    "ExecuteTime": {
     "end_time": "2024-01-02T07:41:15.835642384Z",
     "start_time": "2024-01-02T07:41:15.686561164Z"
    }
   },
   "id": "fbb06cf5039450f0",
   "execution_count": 77
  },
  {
   "cell_type": "code",
   "outputs": [
    {
     "data": {
      "text/plain": "0    16884.92400\n1     1725.55230\n2     4449.46200\n3    21984.47061\n4     3866.85520\nName: charges, dtype: float64"
     },
     "execution_count": 78,
     "metadata": {},
     "output_type": "execute_result"
    }
   ],
   "source": [
    "# View y\n",
    "y.head()"
   ],
   "metadata": {
    "collapsed": false,
    "ExecuteTime": {
     "end_time": "2024-01-02T07:41:17.067311437Z",
     "start_time": "2024-01-02T07:41:16.996096034Z"
    }
   },
   "id": "b131199c8b14bedc",
   "execution_count": 78
  },
  {
   "cell_type": "code",
   "outputs": [
    {
     "data": {
      "text/plain": "(1338, 1070, 268)"
     },
     "execution_count": 79,
     "metadata": {},
     "output_type": "execute_result"
    }
   ],
   "source": [
    "# Create training and test sets\n",
    "from sklearn.model_selection import train_test_split\n",
    "X_train, X_test, y_train, y_test = train_test_split(X, y, test_size=0.2, random_state=42)\n",
    "len(X), len(X_train), len(X_test)"
   ],
   "metadata": {
    "collapsed": false,
    "ExecuteTime": {
     "end_time": "2024-01-02T07:41:20.173439962Z",
     "start_time": "2024-01-02T07:41:19.761460525Z"
    }
   },
   "id": "b4b33cdd264babda",
   "execution_count": 79
  },
  {
   "cell_type": "code",
   "outputs": [
    {
     "name": "stdout",
     "output_type": "stream",
     "text": [
      "Epoch 1/100\n",
      "34/34 [==============================] - 0s 5ms/step - loss: 8694.0918 - mae: 8694.0918\n",
      "Epoch 2/100\n",
      "34/34 [==============================] - 0s 4ms/step - loss: 7872.6880 - mae: 7872.6880\n",
      "Epoch 3/100\n",
      "34/34 [==============================] - 0s 5ms/step - loss: 7605.8369 - mae: 7605.8369\n",
      "Epoch 4/100\n",
      "34/34 [==============================] - 0s 4ms/step - loss: 7769.3818 - mae: 7769.3818\n",
      "Epoch 5/100\n",
      "34/34 [==============================] - 0s 4ms/step - loss: 7640.7231 - mae: 7640.7231\n",
      "Epoch 6/100\n",
      "34/34 [==============================] - 0s 4ms/step - loss: 7664.2490 - mae: 7664.2490\n",
      "Epoch 7/100\n",
      "34/34 [==============================] - 0s 4ms/step - loss: 7555.5752 - mae: 7555.5752\n",
      "Epoch 8/100\n",
      "34/34 [==============================] - 0s 6ms/step - loss: 7732.5146 - mae: 7732.5146\n",
      "Epoch 9/100\n",
      "34/34 [==============================] - 0s 4ms/step - loss: 7579.7500 - mae: 7579.7500\n",
      "Epoch 10/100\n",
      "34/34 [==============================] - 0s 4ms/step - loss: 7685.6821 - mae: 7685.6821\n",
      "Epoch 11/100\n",
      "34/34 [==============================] - 0s 5ms/step - loss: 7625.7827 - mae: 7625.7827\n",
      "Epoch 12/100\n",
      "34/34 [==============================] - 0s 5ms/step - loss: 7469.4316 - mae: 7469.4316\n",
      "Epoch 13/100\n",
      "34/34 [==============================] - 0s 5ms/step - loss: 7622.3853 - mae: 7622.3853\n",
      "Epoch 14/100\n",
      "34/34 [==============================] - 0s 5ms/step - loss: 7754.0898 - mae: 7754.0898\n",
      "Epoch 15/100\n",
      "34/34 [==============================] - 0s 4ms/step - loss: 7513.9097 - mae: 7513.9097\n",
      "Epoch 16/100\n",
      "34/34 [==============================] - 0s 5ms/step - loss: 7666.5171 - mae: 7666.5171\n",
      "Epoch 17/100\n",
      "34/34 [==============================] - 0s 5ms/step - loss: 7564.4727 - mae: 7564.4727\n",
      "Epoch 18/100\n",
      "34/34 [==============================] - 0s 5ms/step - loss: 7779.6382 - mae: 7779.6382\n",
      "Epoch 19/100\n",
      "34/34 [==============================] - 0s 5ms/step - loss: 7673.9189 - mae: 7673.9189\n",
      "Epoch 20/100\n",
      "34/34 [==============================] - 0s 4ms/step - loss: 7853.0083 - mae: 7853.0083\n",
      "Epoch 21/100\n",
      "34/34 [==============================] - 0s 3ms/step - loss: 7436.2661 - mae: 7436.2661\n",
      "Epoch 22/100\n",
      "34/34 [==============================] - 0s 3ms/step - loss: 7775.2471 - mae: 7775.2471\n",
      "Epoch 23/100\n",
      "34/34 [==============================] - 0s 3ms/step - loss: 7664.8081 - mae: 7664.8081\n",
      "Epoch 24/100\n",
      "34/34 [==============================] - 0s 3ms/step - loss: 7581.9380 - mae: 7581.9380\n",
      "Epoch 25/100\n",
      "34/34 [==============================] - 0s 4ms/step - loss: 7640.6426 - mae: 7640.6426\n",
      "Epoch 26/100\n",
      "34/34 [==============================] - 0s 5ms/step - loss: 7597.0796 - mae: 7597.0796\n",
      "Epoch 27/100\n",
      "34/34 [==============================] - 0s 2ms/step - loss: 7723.3755 - mae: 7723.3755\n",
      "Epoch 28/100\n",
      "34/34 [==============================] - 0s 2ms/step - loss: 7425.1270 - mae: 7425.1270\n",
      "Epoch 29/100\n",
      "34/34 [==============================] - 0s 2ms/step - loss: 7683.4951 - mae: 7683.4951\n",
      "Epoch 30/100\n",
      "34/34 [==============================] - 0s 2ms/step - loss: 7684.6270 - mae: 7684.6270\n",
      "Epoch 31/100\n",
      "34/34 [==============================] - 0s 2ms/step - loss: 7643.4678 - mae: 7643.4678\n",
      "Epoch 32/100\n",
      "34/34 [==============================] - 0s 2ms/step - loss: 7567.9961 - mae: 7567.9961\n",
      "Epoch 33/100\n",
      "34/34 [==============================] - 0s 2ms/step - loss: 7507.9116 - mae: 7507.9116\n",
      "Epoch 34/100\n",
      "34/34 [==============================] - 0s 3ms/step - loss: 7459.1553 - mae: 7459.1553\n",
      "Epoch 35/100\n",
      "34/34 [==============================] - 0s 3ms/step - loss: 7617.0596 - mae: 7617.0596\n",
      "Epoch 36/100\n",
      "34/34 [==============================] - 0s 2ms/step - loss: 7518.7842 - mae: 7518.7842\n",
      "Epoch 37/100\n",
      "34/34 [==============================] - 0s 3ms/step - loss: 7654.9868 - mae: 7654.9868\n",
      "Epoch 38/100\n",
      "34/34 [==============================] - 0s 3ms/step - loss: 7602.3701 - mae: 7602.3701\n",
      "Epoch 39/100\n",
      "34/34 [==============================] - 0s 2ms/step - loss: 7516.5664 - mae: 7516.5664\n",
      "Epoch 40/100\n",
      "34/34 [==============================] - 0s 3ms/step - loss: 7357.6294 - mae: 7357.6294\n",
      "Epoch 41/100\n",
      "34/34 [==============================] - 0s 4ms/step - loss: 7737.1348 - mae: 7737.1348\n",
      "Epoch 42/100\n",
      "34/34 [==============================] - 0s 3ms/step - loss: 7380.8047 - mae: 7380.8047\n",
      "Epoch 43/100\n",
      "34/34 [==============================] - 0s 3ms/step - loss: 7768.3765 - mae: 7768.3765\n",
      "Epoch 44/100\n",
      "34/34 [==============================] - 0s 3ms/step - loss: 7439.2275 - mae: 7439.2275\n",
      "Epoch 45/100\n",
      "34/34 [==============================] - 0s 3ms/step - loss: 7547.6958 - mae: 7547.6958\n",
      "Epoch 46/100\n",
      "34/34 [==============================] - 0s 4ms/step - loss: 7401.5967 - mae: 7401.5967\n",
      "Epoch 47/100\n",
      "34/34 [==============================] - 0s 4ms/step - loss: 7345.2910 - mae: 7345.2910\n",
      "Epoch 48/100\n",
      "34/34 [==============================] - 0s 4ms/step - loss: 7473.3838 - mae: 7473.3838\n",
      "Epoch 49/100\n",
      "34/34 [==============================] - 0s 3ms/step - loss: 7541.1343 - mae: 7541.1343\n",
      "Epoch 50/100\n",
      "34/34 [==============================] - 0s 3ms/step - loss: 7502.7236 - mae: 7502.7236\n",
      "Epoch 51/100\n",
      "34/34 [==============================] - 0s 3ms/step - loss: 7419.5288 - mae: 7419.5288\n",
      "Epoch 52/100\n",
      "34/34 [==============================] - 0s 3ms/step - loss: 7358.0806 - mae: 7358.0806\n",
      "Epoch 53/100\n",
      "34/34 [==============================] - 0s 4ms/step - loss: 7546.1313 - mae: 7546.1313\n",
      "Epoch 54/100\n",
      "34/34 [==============================] - 0s 3ms/step - loss: 7182.8794 - mae: 7182.8794\n",
      "Epoch 55/100\n",
      "34/34 [==============================] - 0s 3ms/step - loss: 7398.3179 - mae: 7398.3179\n",
      "Epoch 56/100\n",
      "34/34 [==============================] - 0s 2ms/step - loss: 7420.8672 - mae: 7420.8672\n",
      "Epoch 57/100\n",
      "34/34 [==============================] - 0s 4ms/step - loss: 7493.2593 - mae: 7493.2593\n",
      "Epoch 58/100\n",
      "34/34 [==============================] - 0s 4ms/step - loss: 7571.9878 - mae: 7571.9878\n",
      "Epoch 59/100\n",
      "34/34 [==============================] - 0s 3ms/step - loss: 7339.3379 - mae: 7339.3379\n",
      "Epoch 60/100\n",
      "34/34 [==============================] - 0s 4ms/step - loss: 7356.5381 - mae: 7356.5381\n",
      "Epoch 61/100\n",
      "34/34 [==============================] - 0s 3ms/step - loss: 7432.5537 - mae: 7432.5537\n",
      "Epoch 62/100\n",
      "34/34 [==============================] - 0s 3ms/step - loss: 7394.0166 - mae: 7394.0166\n",
      "Epoch 63/100\n",
      "34/34 [==============================] - 0s 4ms/step - loss: 7405.3667 - mae: 7405.3667\n",
      "Epoch 64/100\n",
      "34/34 [==============================] - 0s 4ms/step - loss: 7227.4639 - mae: 7227.4639\n",
      "Epoch 65/100\n",
      "34/34 [==============================] - 0s 4ms/step - loss: 7340.1201 - mae: 7340.1201\n",
      "Epoch 66/100\n",
      "34/34 [==============================] - 0s 3ms/step - loss: 7154.1133 - mae: 7154.1133\n",
      "Epoch 67/100\n",
      "34/34 [==============================] - 0s 2ms/step - loss: 7388.2056 - mae: 7388.2056\n",
      "Epoch 68/100\n",
      "34/34 [==============================] - 0s 2ms/step - loss: 7512.7832 - mae: 7512.7832\n",
      "Epoch 69/100\n",
      "34/34 [==============================] - 0s 3ms/step - loss: 7526.3428 - mae: 7526.3428\n",
      "Epoch 70/100\n",
      "34/34 [==============================] - 0s 3ms/step - loss: 7598.4282 - mae: 7598.4282\n",
      "Epoch 71/100\n",
      "34/34 [==============================] - 0s 2ms/step - loss: 7307.5430 - mae: 7307.5430\n",
      "Epoch 72/100\n",
      "34/34 [==============================] - 0s 3ms/step - loss: 7406.8418 - mae: 7406.8418\n",
      "Epoch 73/100\n",
      "34/34 [==============================] - 0s 2ms/step - loss: 7200.0093 - mae: 7200.0093\n",
      "Epoch 74/100\n",
      "34/34 [==============================] - 0s 2ms/step - loss: 7459.3779 - mae: 7459.3779\n",
      "Epoch 75/100\n",
      "34/34 [==============================] - 0s 3ms/step - loss: 7293.1523 - mae: 7293.1523\n",
      "Epoch 76/100\n",
      "34/34 [==============================] - 0s 2ms/step - loss: 7085.6431 - mae: 7085.6431\n",
      "Epoch 77/100\n",
      "34/34 [==============================] - 0s 2ms/step - loss: 7510.0444 - mae: 7510.0444\n",
      "Epoch 78/100\n",
      "34/34 [==============================] - 0s 3ms/step - loss: 7138.4565 - mae: 7138.4565\n",
      "Epoch 79/100\n",
      "34/34 [==============================] - 0s 3ms/step - loss: 7506.9814 - mae: 7506.9814\n",
      "Epoch 80/100\n",
      "34/34 [==============================] - 0s 2ms/step - loss: 7312.7178 - mae: 7312.7178\n",
      "Epoch 81/100\n",
      "34/34 [==============================] - 0s 2ms/step - loss: 7217.8984 - mae: 7217.8984\n",
      "Epoch 82/100\n",
      "34/34 [==============================] - 0s 2ms/step - loss: 7281.4883 - mae: 7281.4883\n",
      "Epoch 83/100\n",
      "34/34 [==============================] - 0s 3ms/step - loss: 7478.7681 - mae: 7478.7681\n",
      "Epoch 84/100\n",
      "34/34 [==============================] - 0s 3ms/step - loss: 7272.1782 - mae: 7272.1782\n",
      "Epoch 85/100\n",
      "34/34 [==============================] - 0s 3ms/step - loss: 7503.2910 - mae: 7503.2910\n",
      "Epoch 86/100\n",
      "34/34 [==============================] - 0s 3ms/step - loss: 7462.8955 - mae: 7462.8955\n",
      "Epoch 87/100\n",
      "34/34 [==============================] - 0s 3ms/step - loss: 7224.8730 - mae: 7224.8730\n",
      "Epoch 88/100\n",
      "34/34 [==============================] - 0s 3ms/step - loss: 7305.4180 - mae: 7305.4180\n",
      "Epoch 89/100\n",
      "34/34 [==============================] - 0s 4ms/step - loss: 7473.7280 - mae: 7473.7280\n",
      "Epoch 90/100\n",
      "34/34 [==============================] - 0s 3ms/step - loss: 7023.4434 - mae: 7023.4434\n",
      "Epoch 91/100\n",
      "34/34 [==============================] - 0s 2ms/step - loss: 7203.2339 - mae: 7203.2339\n",
      "Epoch 92/100\n",
      "34/34 [==============================] - 0s 2ms/step - loss: 7319.3906 - mae: 7319.3906\n",
      "Epoch 93/100\n",
      "34/34 [==============================] - 0s 2ms/step - loss: 7423.6577 - mae: 7423.6577\n",
      "Epoch 94/100\n",
      "34/34 [==============================] - 0s 2ms/step - loss: 7289.5200 - mae: 7289.5200\n",
      "Epoch 95/100\n",
      "34/34 [==============================] - 0s 3ms/step - loss: 7399.1367 - mae: 7399.1367\n",
      "Epoch 96/100\n",
      "34/34 [==============================] - 0s 2ms/step - loss: 7167.2188 - mae: 7167.2188\n",
      "Epoch 97/100\n",
      "34/34 [==============================] - 0s 2ms/step - loss: 7239.4600 - mae: 7239.4600\n",
      "Epoch 98/100\n",
      "34/34 [==============================] - 0s 2ms/step - loss: 7319.3125 - mae: 7319.3125\n",
      "Epoch 99/100\n",
      "34/34 [==============================] - 0s 2ms/step - loss: 7410.5264 - mae: 7410.5264\n",
      "Epoch 100/100\n",
      "34/34 [==============================] - 0s 2ms/step - loss: 7149.8467 - mae: 7149.8467\n"
     ]
    },
    {
     "data": {
      "text/plain": "<keras.callbacks.History at 0x7f65c0586dd0>"
     },
     "execution_count": 80,
     "metadata": {},
     "output_type": "execute_result"
    }
   ],
   "source": [
    "# Build a neural network (sort of like model_2 above)\n",
    "tf.random.set_seed(42)\n",
    "\n",
    "# 1. Create a model\n",
    "insurance_model = tf.keras.Sequential([\n",
    "    tf.keras.layers.Dense(10),\n",
    "    tf.keras.layers.Dense(1)\n",
    "])\n",
    "\n",
    "# 2. Compile the model\n",
    "insurance_model.compile(loss=tf.keras.losses.mae,\n",
    "                        optimizer=tf.keras.optimizers.SGD(),\n",
    "                        metrics=['mae'])\n",
    "\n",
    "# 3. Fit the model\n",
    "insurance_model.fit(X_train, y_train, epochs=100)"
   ],
   "metadata": {
    "collapsed": false,
    "ExecuteTime": {
     "end_time": "2024-01-02T07:41:33.862907023Z",
     "start_time": "2024-01-02T07:41:21.202220587Z"
    }
   },
   "id": "de634e0199d4a8ab",
   "execution_count": 80
  },
  {
   "cell_type": "code",
   "outputs": [
    {
     "name": "stdout",
     "output_type": "stream",
     "text": [
      "9/9 [==============================] - 0s 2ms/step - loss: 8535.0859 - mae: 8535.0859\n"
     ]
    },
    {
     "data": {
      "text/plain": "[8535.0859375, 8535.0859375]"
     },
     "execution_count": 81,
     "metadata": {},
     "output_type": "execute_result"
    }
   ],
   "source": [
    "# Check the results of the insurance model on the test data\n",
    "insurance_model.evaluate(X_test, y_test)"
   ],
   "metadata": {
    "collapsed": false,
    "ExecuteTime": {
     "end_time": "2024-01-02T07:41:37.023158422Z",
     "start_time": "2024-01-02T07:41:36.725423117Z"
    }
   },
   "id": "14b3a02e3c33e1c",
   "execution_count": 81
  },
  {
   "cell_type": "code",
   "outputs": [
    {
     "data": {
      "text/plain": "(9575.4421, 13346.089736364485)"
     },
     "execution_count": 82,
     "metadata": {},
     "output_type": "execute_result"
    }
   ],
   "source": [
    "y_train.median(), y_train.mean()"
   ],
   "metadata": {
    "collapsed": false,
    "ExecuteTime": {
     "end_time": "2024-01-02T07:41:38.173410552Z",
     "start_time": "2024-01-02T07:41:38.076249446Z"
    }
   },
   "id": "a60437ead8ed7d4b",
   "execution_count": 82
  },
  {
   "cell_type": "markdown",
   "source": [
    "Right now it looks like our model Isn't performing to well... let's try and improve it!\n",
    "\n",
    "To (try) improve our model, we'll run 2 experiments:\n",
    "1. Add an extra layer with more hidden units and use the Adam optimizer\n",
    "2. Same as above but train for longger (200 epochs)\n",
    "3. (insert our own experiment here)"
   ],
   "metadata": {
    "collapsed": false
   },
   "id": "a65b590d46ee1758"
  },
  {
   "cell_type": "code",
   "outputs": [
    {
     "data": {
      "text/plain": "(      age     bmi  children  sex_female  sex_male  smoker_no  smoker_yes  \\\n 560    46  19.950         2           1         0          1           0   \n 1285   47  24.320         0           1         0          1           0   \n 1142   52  24.860         0           1         0          1           0   \n 969    39  34.320         5           1         0          1           0   \n 486    54  21.470         3           1         0          1           0   \n ...   ...     ...       ...         ...       ...        ...         ...   \n 1095   18  31.350         4           1         0          1           0   \n 1130   39  23.870         5           1         0          1           0   \n 1294   58  25.175         0           0         1          1           0   \n 860    37  47.600         2           1         0          0           1   \n 1126   55  29.900         0           0         1          1           0   \n \n       region_northeast  region_northwest  region_southeast  region_southwest  \n 560                  0                 1                 0                 0  \n 1285                 1                 0                 0                 0  \n 1142                 0                 0                 1                 0  \n 969                  0                 0                 1                 0  \n 486                  0                 1                 0                 0  \n ...                ...               ...               ...               ...  \n 1095                 1                 0                 0                 0  \n 1130                 0                 0                 1                 0  \n 1294                 1                 0                 0                 0  \n 860                  0                 0                 0                 1  \n 1126                 0                 0                 0                 1  \n \n [1070 rows x 11 columns],\n 560      9193.83850\n 1285     8534.67180\n 1142    27117.99378\n 969      8596.82780\n 486     12475.35130\n            ...     \n 1095     4561.18850\n 1130     8582.30230\n 1294    11931.12525\n 860     46113.51100\n 1126    10214.63600\n Name: charges, Length: 1070, dtype: float64)"
     },
     "execution_count": 83,
     "metadata": {},
     "output_type": "execute_result"
    }
   ],
   "source": [
    "X_train, y_train"
   ],
   "metadata": {
    "collapsed": false,
    "ExecuteTime": {
     "end_time": "2024-01-02T07:41:39.677164116Z",
     "start_time": "2024-01-02T07:41:39.634337973Z"
    }
   },
   "id": "867239afb5cf971",
   "execution_count": 83
  },
  {
   "cell_type": "code",
   "outputs": [
    {
     "name": "stdout",
     "output_type": "stream",
     "text": [
      "Epoch 1/100\n",
      "34/34 [==============================] - 1s 6ms/step - loss: 13318.2285 - mae: 13318.2285\n",
      "Epoch 2/100\n",
      "34/34 [==============================] - 0s 4ms/step - loss: 13192.4336 - mae: 13192.4336\n",
      "Epoch 3/100\n",
      "34/34 [==============================] - 0s 3ms/step - loss: 12922.8877 - mae: 12922.8877\n",
      "Epoch 4/100\n",
      "34/34 [==============================] - 0s 4ms/step - loss: 12365.3477 - mae: 12365.3477\n",
      "Epoch 5/100\n",
      "34/34 [==============================] - 0s 4ms/step - loss: 11368.8701 - mae: 11368.8701\n",
      "Epoch 6/100\n",
      "34/34 [==============================] - 0s 5ms/step - loss: 9953.4678 - mae: 9953.4678\n",
      "Epoch 7/100\n",
      "34/34 [==============================] - 0s 4ms/step - loss: 8490.9932 - mae: 8490.9932\n",
      "Epoch 8/100\n",
      "34/34 [==============================] - 0s 5ms/step - loss: 7611.3711 - mae: 7611.3711\n",
      "Epoch 9/100\n",
      "34/34 [==============================] - 0s 4ms/step - loss: 7426.0518 - mae: 7426.0518\n",
      "Epoch 10/100\n",
      "34/34 [==============================] - 0s 4ms/step - loss: 7401.5796 - mae: 7401.5796\n",
      "Epoch 11/100\n",
      "34/34 [==============================] - 0s 5ms/step - loss: 7383.3203 - mae: 7383.3203\n",
      "Epoch 12/100\n",
      "34/34 [==============================] - 0s 5ms/step - loss: 7362.8345 - mae: 7362.8345\n",
      "Epoch 13/100\n",
      "34/34 [==============================] - 0s 4ms/step - loss: 7343.4727 - mae: 7343.4727\n",
      "Epoch 14/100\n",
      "34/34 [==============================] - 0s 4ms/step - loss: 7322.0864 - mae: 7322.0864\n",
      "Epoch 15/100\n",
      "34/34 [==============================] - 0s 4ms/step - loss: 7304.5054 - mae: 7304.5054\n",
      "Epoch 16/100\n",
      "34/34 [==============================] - 0s 4ms/step - loss: 7283.4004 - mae: 7283.4004\n",
      "Epoch 17/100\n",
      "34/34 [==============================] - 0s 4ms/step - loss: 7264.4795 - mae: 7264.4795\n",
      "Epoch 18/100\n",
      "34/34 [==============================] - 0s 4ms/step - loss: 7242.4160 - mae: 7242.4160\n",
      "Epoch 19/100\n",
      "34/34 [==============================] - 0s 4ms/step - loss: 7221.3467 - mae: 7221.3467\n",
      "Epoch 20/100\n",
      "34/34 [==============================] - 0s 4ms/step - loss: 7199.1211 - mae: 7199.1211\n",
      "Epoch 21/100\n",
      "34/34 [==============================] - 0s 3ms/step - loss: 7182.1211 - mae: 7182.1211\n",
      "Epoch 22/100\n",
      "34/34 [==============================] - 0s 3ms/step - loss: 7155.3125 - mae: 7155.3125\n",
      "Epoch 23/100\n",
      "34/34 [==============================] - 0s 3ms/step - loss: 7131.8745 - mae: 7131.8745\n",
      "Epoch 24/100\n",
      "34/34 [==============================] - 0s 2ms/step - loss: 7108.2427 - mae: 7108.2427\n",
      "Epoch 25/100\n",
      "34/34 [==============================] - 0s 2ms/step - loss: 7092.3296 - mae: 7092.3296\n",
      "Epoch 26/100\n",
      "34/34 [==============================] - 0s 3ms/step - loss: 7060.7847 - mae: 7060.7847\n",
      "Epoch 27/100\n",
      "34/34 [==============================] - 0s 5ms/step - loss: 7034.5352 - mae: 7034.5352\n",
      "Epoch 28/100\n",
      "34/34 [==============================] - 0s 3ms/step - loss: 7008.1274 - mae: 7008.1274\n",
      "Epoch 29/100\n",
      "34/34 [==============================] - 0s 3ms/step - loss: 6981.7417 - mae: 6981.7417\n",
      "Epoch 30/100\n",
      "34/34 [==============================] - 0s 3ms/step - loss: 6956.1260 - mae: 6956.1260\n",
      "Epoch 31/100\n",
      "34/34 [==============================] - 0s 3ms/step - loss: 6926.7417 - mae: 6926.7417\n",
      "Epoch 32/100\n",
      "34/34 [==============================] - 0s 3ms/step - loss: 6900.8555 - mae: 6900.8555\n",
      "Epoch 33/100\n",
      "34/34 [==============================] - 0s 3ms/step - loss: 6870.2988 - mae: 6870.2988\n",
      "Epoch 34/100\n",
      "34/34 [==============================] - 0s 3ms/step - loss: 6841.6924 - mae: 6841.6924\n",
      "Epoch 35/100\n",
      "34/34 [==============================] - 0s 2ms/step - loss: 6809.9819 - mae: 6809.9819\n",
      "Epoch 36/100\n",
      "34/34 [==============================] - 0s 2ms/step - loss: 6777.5986 - mae: 6777.5986\n",
      "Epoch 37/100\n",
      "34/34 [==============================] - 0s 3ms/step - loss: 6743.6826 - mae: 6743.6826\n",
      "Epoch 38/100\n",
      "34/34 [==============================] - 0s 2ms/step - loss: 6713.8569 - mae: 6713.8569\n",
      "Epoch 39/100\n",
      "34/34 [==============================] - 0s 2ms/step - loss: 6676.6416 - mae: 6676.6416\n",
      "Epoch 40/100\n",
      "34/34 [==============================] - 0s 3ms/step - loss: 6643.2251 - mae: 6643.2251\n",
      "Epoch 41/100\n",
      "34/34 [==============================] - 0s 5ms/step - loss: 6610.8218 - mae: 6610.8218\n",
      "Epoch 42/100\n",
      "34/34 [==============================] - 0s 3ms/step - loss: 6581.4072 - mae: 6581.4072\n",
      "Epoch 43/100\n",
      "34/34 [==============================] - 0s 2ms/step - loss: 6551.7861 - mae: 6551.7861\n",
      "Epoch 44/100\n",
      "34/34 [==============================] - 0s 2ms/step - loss: 6526.8843 - mae: 6526.8843\n",
      "Epoch 45/100\n",
      "34/34 [==============================] - 0s 2ms/step - loss: 6511.5415 - mae: 6511.5415\n",
      "Epoch 46/100\n",
      "34/34 [==============================] - 0s 4ms/step - loss: 6490.9951 - mae: 6490.9951\n",
      "Epoch 47/100\n",
      "34/34 [==============================] - 0s 3ms/step - loss: 6475.7852 - mae: 6475.7852\n",
      "Epoch 48/100\n",
      "34/34 [==============================] - 0s 2ms/step - loss: 6460.6606 - mae: 6460.6606\n",
      "Epoch 49/100\n",
      "34/34 [==============================] - 0s 2ms/step - loss: 6447.9468 - mae: 6447.9468\n",
      "Epoch 50/100\n",
      "34/34 [==============================] - 0s 2ms/step - loss: 6434.6489 - mae: 6434.6489\n",
      "Epoch 51/100\n",
      "34/34 [==============================] - 0s 2ms/step - loss: 6420.9565 - mae: 6420.9565\n",
      "Epoch 52/100\n",
      "34/34 [==============================] - 0s 2ms/step - loss: 6410.6802 - mae: 6410.6802\n",
      "Epoch 53/100\n",
      "34/34 [==============================] - 0s 3ms/step - loss: 6397.2812 - mae: 6397.2812\n",
      "Epoch 54/100\n",
      "34/34 [==============================] - 0s 2ms/step - loss: 6383.9839 - mae: 6383.9839\n",
      "Epoch 55/100\n",
      "34/34 [==============================] - 0s 3ms/step - loss: 6371.3550 - mae: 6371.3550\n",
      "Epoch 56/100\n",
      "34/34 [==============================] - 0s 4ms/step - loss: 6357.3130 - mae: 6357.3130\n",
      "Epoch 57/100\n",
      "34/34 [==============================] - 0s 4ms/step - loss: 6345.5708 - mae: 6345.5708\n",
      "Epoch 58/100\n",
      "34/34 [==============================] - 0s 4ms/step - loss: 6331.8755 - mae: 6331.8755\n",
      "Epoch 59/100\n",
      "34/34 [==============================] - 0s 4ms/step - loss: 6317.9268 - mae: 6317.9268\n",
      "Epoch 60/100\n",
      "34/34 [==============================] - 0s 4ms/step - loss: 6308.2661 - mae: 6308.2661\n",
      "Epoch 61/100\n",
      "34/34 [==============================] - 0s 5ms/step - loss: 6289.5386 - mae: 6289.5386\n",
      "Epoch 62/100\n",
      "34/34 [==============================] - 0s 5ms/step - loss: 6278.3281 - mae: 6278.3281\n",
      "Epoch 63/100\n",
      "34/34 [==============================] - 0s 5ms/step - loss: 6260.9067 - mae: 6260.9067\n",
      "Epoch 64/100\n",
      "34/34 [==============================] - 0s 5ms/step - loss: 6245.7686 - mae: 6245.7686\n",
      "Epoch 65/100\n",
      "34/34 [==============================] - 0s 6ms/step - loss: 6229.6035 - mae: 6229.6035\n",
      "Epoch 66/100\n",
      "34/34 [==============================] - 0s 6ms/step - loss: 6213.7305 - mae: 6213.7305\n",
      "Epoch 67/100\n",
      "34/34 [==============================] - 0s 4ms/step - loss: 6202.3335 - mae: 6202.3335\n",
      "Epoch 68/100\n",
      "34/34 [==============================] - 0s 4ms/step - loss: 6181.8145 - mae: 6181.8145\n",
      "Epoch 69/100\n",
      "34/34 [==============================] - 0s 3ms/step - loss: 6165.8364 - mae: 6165.8364\n",
      "Epoch 70/100\n",
      "34/34 [==============================] - 0s 4ms/step - loss: 6146.9170 - mae: 6146.9170\n",
      "Epoch 71/100\n",
      "34/34 [==============================] - 0s 4ms/step - loss: 6128.6201 - mae: 6128.6201\n",
      "Epoch 72/100\n",
      "34/34 [==============================] - 0s 3ms/step - loss: 6111.6514 - mae: 6111.6514\n",
      "Epoch 73/100\n",
      "34/34 [==============================] - 0s 3ms/step - loss: 6096.9819 - mae: 6096.9819\n",
      "Epoch 74/100\n",
      "34/34 [==============================] - 0s 3ms/step - loss: 6072.7354 - mae: 6072.7354\n",
      "Epoch 75/100\n",
      "34/34 [==============================] - 0s 3ms/step - loss: 6054.4331 - mae: 6054.4331\n",
      "Epoch 76/100\n",
      "34/34 [==============================] - 0s 2ms/step - loss: 6040.2549 - mae: 6040.2549\n",
      "Epoch 77/100\n",
      "34/34 [==============================] - 0s 4ms/step - loss: 6009.8159 - mae: 6009.8159\n",
      "Epoch 78/100\n",
      "34/34 [==============================] - 0s 3ms/step - loss: 5989.4097 - mae: 5989.4097\n",
      "Epoch 79/100\n",
      "34/34 [==============================] - 0s 3ms/step - loss: 5967.3032 - mae: 5967.3032\n",
      "Epoch 80/100\n",
      "34/34 [==============================] - 0s 2ms/step - loss: 5943.2520 - mae: 5943.2520\n",
      "Epoch 81/100\n",
      "34/34 [==============================] - 0s 3ms/step - loss: 5919.1201 - mae: 5919.1201\n",
      "Epoch 82/100\n",
      "34/34 [==============================] - 0s 3ms/step - loss: 5894.0728 - mae: 5894.0728\n",
      "Epoch 83/100\n",
      "34/34 [==============================] - 0s 3ms/step - loss: 5868.7046 - mae: 5868.7046\n",
      "Epoch 84/100\n",
      "34/34 [==============================] - 0s 3ms/step - loss: 5837.8701 - mae: 5837.8701\n",
      "Epoch 85/100\n",
      "34/34 [==============================] - 0s 3ms/step - loss: 5816.0381 - mae: 5816.0381\n",
      "Epoch 86/100\n",
      "34/34 [==============================] - 0s 3ms/step - loss: 5783.0571 - mae: 5783.0571\n",
      "Epoch 87/100\n",
      "34/34 [==============================] - 0s 3ms/step - loss: 5751.5020 - mae: 5751.5020\n",
      "Epoch 88/100\n",
      "34/34 [==============================] - 0s 3ms/step - loss: 5721.9590 - mae: 5721.9590\n",
      "Epoch 89/100\n",
      "34/34 [==============================] - 0s 2ms/step - loss: 5685.9160 - mae: 5685.9160\n",
      "Epoch 90/100\n",
      "34/34 [==============================] - 0s 2ms/step - loss: 5649.4707 - mae: 5649.4707\n",
      "Epoch 91/100\n",
      "34/34 [==============================] - 0s 3ms/step - loss: 5618.5625 - mae: 5618.5625\n",
      "Epoch 92/100\n",
      "34/34 [==============================] - 0s 3ms/step - loss: 5574.3052 - mae: 5574.3052\n",
      "Epoch 93/100\n",
      "34/34 [==============================] - 0s 3ms/step - loss: 5538.9570 - mae: 5538.9570\n",
      "Epoch 94/100\n",
      "34/34 [==============================] - 0s 3ms/step - loss: 5502.7520 - mae: 5502.7520\n",
      "Epoch 95/100\n",
      "34/34 [==============================] - 0s 3ms/step - loss: 5454.7778 - mae: 5454.7778\n",
      "Epoch 96/100\n",
      "34/34 [==============================] - 0s 3ms/step - loss: 5413.3774 - mae: 5413.3774\n",
      "Epoch 97/100\n",
      "34/34 [==============================] - 0s 3ms/step - loss: 5369.1577 - mae: 5369.1577\n",
      "Epoch 98/100\n",
      "34/34 [==============================] - 0s 2ms/step - loss: 5314.3740 - mae: 5314.3740\n",
      "Epoch 99/100\n",
      "34/34 [==============================] - 0s 2ms/step - loss: 5262.9312 - mae: 5262.9312\n",
      "Epoch 100/100\n",
      "34/34 [==============================] - 0s 2ms/step - loss: 5211.8462 - mae: 5211.8462\n"
     ]
    },
    {
     "data": {
      "text/plain": "<keras.callbacks.History at 0x7f657303ae10>"
     },
     "execution_count": 84,
     "metadata": {},
     "output_type": "execute_result"
    }
   ],
   "source": [
    "# Set random seed\n",
    "tf.random.set_seed(42)\n",
    "\n",
    "# 1. Create the model\n",
    "insurance_model_2 = tf.keras.Sequential([\n",
    "    tf.keras.layers.Dense(100),\n",
    "    tf.keras.layers.Dense(10),\n",
    "    tf.keras.layers.Dense(1)\n",
    "])\n",
    "\n",
    "# 2. Compile the model\n",
    "insurance_model_2.compile(loss=tf.keras.losses.mae,\n",
    "                          optimizer=tf.keras.optimizers.Adam(),\n",
    "                          metrics=[\"mae\"])\n",
    "\n",
    "# 3 Fit the model\n",
    "insurance_model_2.fit(X_train, y_train, epochs=100, verbose=1)"
   ],
   "metadata": {
    "collapsed": false,
    "ExecuteTime": {
     "end_time": "2024-01-02T07:41:54.534221556Z",
     "start_time": "2024-01-02T07:41:40.991217772Z"
    }
   },
   "id": "669143dbe6b04600",
   "execution_count": 84
  },
  {
   "cell_type": "code",
   "outputs": [
    {
     "name": "stdout",
     "output_type": "stream",
     "text": [
      "9/9 [==============================] - 0s 6ms/step - loss: 5080.5049 - mae: 5080.5049\n"
     ]
    },
    {
     "data": {
      "text/plain": "[5080.5048828125, 5080.5048828125]"
     },
     "execution_count": 85,
     "metadata": {},
     "output_type": "execute_result"
    }
   ],
   "source": [
    "# Evaluate the larger model\n",
    "insurance_model_2.evaluate(X_test, y_test)"
   ],
   "metadata": {
    "collapsed": false,
    "ExecuteTime": {
     "end_time": "2024-01-02T07:41:57.699073005Z",
     "start_time": "2024-01-02T07:41:57.415644628Z"
    }
   },
   "id": "f464184418e3b1a1",
   "execution_count": 85
  },
  {
   "cell_type": "code",
   "outputs": [
    {
     "name": "stdout",
     "output_type": "stream",
     "text": [
      "9/9 [==============================] - 0s 7ms/step - loss: 8535.0859 - mae: 8535.0859\n"
     ]
    },
    {
     "data": {
      "text/plain": "[8535.0859375, 8535.0859375]"
     },
     "execution_count": 86,
     "metadata": {},
     "output_type": "execute_result"
    }
   ],
   "source": [
    "insurance_model.evaluate(X_test, y_test)"
   ],
   "metadata": {
    "collapsed": false,
    "ExecuteTime": {
     "end_time": "2024-01-02T07:41:59.703427980Z",
     "start_time": "2024-01-02T07:41:59.475269184Z"
    }
   },
   "id": "3f5ca9d38ec4c2fe",
   "execution_count": 86
  },
  {
   "cell_type": "code",
   "outputs": [
    {
     "name": "stdout",
     "output_type": "stream",
     "text": [
      "Epoch 1/200\n",
      "34/34 [==============================] - 1s 5ms/step - loss: 13306.9111 - mae: 13306.9111\n",
      "Epoch 2/200\n",
      "34/34 [==============================] - 0s 6ms/step - loss: 13157.9160 - mae: 13157.9160\n",
      "Epoch 3/200\n",
      "34/34 [==============================] - 0s 4ms/step - loss: 12834.7412 - mae: 12834.7412\n",
      "Epoch 4/200\n",
      "34/34 [==============================] - 0s 3ms/step - loss: 12176.9365 - mae: 12176.9365\n",
      "Epoch 5/200\n",
      "34/34 [==============================] - 0s 3ms/step - loss: 11044.5723 - mae: 11044.5723\n",
      "Epoch 6/200\n",
      "34/34 [==============================] - 0s 3ms/step - loss: 9578.4199 - mae: 9578.4199\n",
      "Epoch 7/200\n",
      "34/34 [==============================] - 0s 6ms/step - loss: 8227.2686 - mae: 8227.2686\n",
      "Epoch 8/200\n",
      "34/34 [==============================] - 0s 4ms/step - loss: 7564.4746 - mae: 7564.4746\n",
      "Epoch 9/200\n",
      "34/34 [==============================] - 0s 6ms/step - loss: 7449.8867 - mae: 7449.8867\n",
      "Epoch 10/200\n",
      "34/34 [==============================] - 0s 4ms/step - loss: 7427.4380 - mae: 7427.4380\n",
      "Epoch 11/200\n",
      "34/34 [==============================] - 0s 3ms/step - loss: 7408.1646 - mae: 7408.1646\n",
      "Epoch 12/200\n",
      "34/34 [==============================] - 0s 2ms/step - loss: 7385.7119 - mae: 7385.7119\n",
      "Epoch 13/200\n",
      "34/34 [==============================] - 0s 4ms/step - loss: 7364.7544 - mae: 7364.7544\n",
      "Epoch 14/200\n",
      "34/34 [==============================] - 0s 4ms/step - loss: 7341.8315 - mae: 7341.8315\n",
      "Epoch 15/200\n",
      "34/34 [==============================] - 0s 4ms/step - loss: 7322.2163 - mae: 7322.2163\n",
      "Epoch 16/200\n",
      "34/34 [==============================] - 0s 4ms/step - loss: 7299.4976 - mae: 7299.4976\n",
      "Epoch 17/200\n",
      "34/34 [==============================] - 0s 4ms/step - loss: 7278.5645 - mae: 7278.5645\n",
      "Epoch 18/200\n",
      "34/34 [==============================] - 0s 4ms/step - loss: 7254.7773 - mae: 7254.7773\n",
      "Epoch 19/200\n",
      "34/34 [==============================] - 0s 3ms/step - loss: 7232.1528 - mae: 7232.1528\n",
      "Epoch 20/200\n",
      "34/34 [==============================] - 0s 3ms/step - loss: 7208.5947 - mae: 7208.5947\n",
      "Epoch 21/200\n",
      "34/34 [==============================] - 0s 4ms/step - loss: 7188.9863 - mae: 7188.9863\n",
      "Epoch 22/200\n",
      "34/34 [==============================] - 0s 2ms/step - loss: 7161.7949 - mae: 7161.7949\n",
      "Epoch 23/200\n",
      "34/34 [==============================] - 0s 3ms/step - loss: 7136.6211 - mae: 7136.6211\n",
      "Epoch 24/200\n",
      "34/34 [==============================] - 0s 4ms/step - loss: 7111.6802 - mae: 7111.6802\n",
      "Epoch 25/200\n",
      "34/34 [==============================] - 0s 4ms/step - loss: 7093.2598 - mae: 7093.2598\n",
      "Epoch 26/200\n",
      "34/34 [==============================] - 0s 4ms/step - loss: 7061.9087 - mae: 7061.9087\n",
      "Epoch 27/200\n",
      "34/34 [==============================] - 0s 3ms/step - loss: 7032.9951 - mae: 7032.9951\n",
      "Epoch 28/200\n",
      "34/34 [==============================] - 0s 4ms/step - loss: 7004.8491 - mae: 7004.8491\n",
      "Epoch 29/200\n",
      "34/34 [==============================] - 0s 4ms/step - loss: 6977.3560 - mae: 6977.3560\n",
      "Epoch 30/200\n",
      "34/34 [==============================] - 0s 2ms/step - loss: 6949.4404 - mae: 6949.4404\n",
      "Epoch 31/200\n",
      "34/34 [==============================] - 0s 2ms/step - loss: 6918.4653 - mae: 6918.4653\n",
      "Epoch 32/200\n",
      "34/34 [==============================] - 0s 2ms/step - loss: 6890.6162 - mae: 6890.6162\n",
      "Epoch 33/200\n",
      "34/34 [==============================] - 0s 2ms/step - loss: 6859.1802 - mae: 6859.1802\n",
      "Epoch 34/200\n",
      "34/34 [==============================] - 0s 3ms/step - loss: 6827.8096 - mae: 6827.8096\n",
      "Epoch 35/200\n",
      "34/34 [==============================] - 0s 2ms/step - loss: 6794.5215 - mae: 6794.5215\n",
      "Epoch 36/200\n",
      "34/34 [==============================] - 0s 2ms/step - loss: 6760.5508 - mae: 6760.5508\n",
      "Epoch 37/200\n",
      "34/34 [==============================] - 0s 2ms/step - loss: 6724.4268 - mae: 6724.4268\n",
      "Epoch 38/200\n",
      "34/34 [==============================] - 0s 2ms/step - loss: 6692.1304 - mae: 6692.1304\n",
      "Epoch 39/200\n",
      "34/34 [==============================] - 0s 2ms/step - loss: 6654.3086 - mae: 6654.3086\n",
      "Epoch 40/200\n",
      "34/34 [==============================] - 0s 2ms/step - loss: 6618.9292 - mae: 6618.9292\n",
      "Epoch 41/200\n",
      "34/34 [==============================] - 0s 2ms/step - loss: 6585.0234 - mae: 6585.0234\n",
      "Epoch 42/200\n",
      "34/34 [==============================] - 0s 3ms/step - loss: 6556.1626 - mae: 6556.1626\n",
      "Epoch 43/200\n",
      "34/34 [==============================] - 0s 4ms/step - loss: 6526.9717 - mae: 6526.9717\n",
      "Epoch 44/200\n",
      "34/34 [==============================] - 0s 4ms/step - loss: 6502.4878 - mae: 6502.4878\n",
      "Epoch 45/200\n",
      "34/34 [==============================] - 0s 4ms/step - loss: 6488.0229 - mae: 6488.0229\n",
      "Epoch 46/200\n",
      "34/34 [==============================] - 0s 4ms/step - loss: 6469.7759 - mae: 6469.7759\n",
      "Epoch 47/200\n",
      "34/34 [==============================] - 0s 4ms/step - loss: 6452.6328 - mae: 6452.6328\n",
      "Epoch 48/200\n",
      "34/34 [==============================] - 0s 4ms/step - loss: 6437.4590 - mae: 6437.4590\n",
      "Epoch 49/200\n",
      "34/34 [==============================] - 0s 4ms/step - loss: 6424.3101 - mae: 6424.3101\n",
      "Epoch 50/200\n",
      "34/34 [==============================] - 0s 4ms/step - loss: 6409.5757 - mae: 6409.5757\n",
      "Epoch 51/200\n",
      "34/34 [==============================] - 0s 4ms/step - loss: 6396.2559 - mae: 6396.2559\n",
      "Epoch 52/200\n",
      "34/34 [==============================] - 0s 4ms/step - loss: 6384.3149 - mae: 6384.3149\n",
      "Epoch 53/200\n",
      "34/34 [==============================] - 0s 5ms/step - loss: 6369.5884 - mae: 6369.5884\n",
      "Epoch 54/200\n",
      "34/34 [==============================] - 0s 4ms/step - loss: 6355.3848 - mae: 6355.3848\n",
      "Epoch 55/200\n",
      "34/34 [==============================] - 0s 4ms/step - loss: 6341.1753 - mae: 6341.1753\n",
      "Epoch 56/200\n",
      "34/34 [==============================] - 0s 5ms/step - loss: 6326.7827 - mae: 6326.7827\n",
      "Epoch 57/200\n",
      "34/34 [==============================] - 0s 6ms/step - loss: 6313.1006 - mae: 6313.1006\n",
      "Epoch 58/200\n",
      "34/34 [==============================] - 0s 5ms/step - loss: 6298.7764 - mae: 6298.7764\n",
      "Epoch 59/200\n",
      "34/34 [==============================] - 0s 5ms/step - loss: 6282.9814 - mae: 6282.9814\n",
      "Epoch 60/200\n",
      "34/34 [==============================] - 0s 5ms/step - loss: 6272.0186 - mae: 6272.0186\n",
      "Epoch 61/200\n",
      "34/34 [==============================] - 0s 6ms/step - loss: 6252.0200 - mae: 6252.0200\n",
      "Epoch 62/200\n",
      "34/34 [==============================] - 0s 7ms/step - loss: 6239.1470 - mae: 6239.1470\n",
      "Epoch 63/200\n",
      "34/34 [==============================] - 0s 6ms/step - loss: 6219.5068 - mae: 6219.5068\n",
      "Epoch 64/200\n",
      "34/34 [==============================] - 0s 4ms/step - loss: 6201.6416 - mae: 6201.6416\n",
      "Epoch 65/200\n",
      "34/34 [==============================] - 0s 4ms/step - loss: 6183.8462 - mae: 6183.8462\n",
      "Epoch 66/200\n",
      "34/34 [==============================] - 0s 5ms/step - loss: 6165.8208 - mae: 6165.8208\n",
      "Epoch 67/200\n",
      "34/34 [==============================] - 0s 5ms/step - loss: 6152.1255 - mae: 6152.1255\n",
      "Epoch 68/200\n",
      "34/34 [==============================] - 0s 4ms/step - loss: 6128.9233 - mae: 6128.9233\n",
      "Epoch 69/200\n",
      "34/34 [==============================] - 0s 4ms/step - loss: 6111.6548 - mae: 6111.6548\n",
      "Epoch 70/200\n",
      "34/34 [==============================] - 0s 6ms/step - loss: 6090.2119 - mae: 6090.2119\n",
      "Epoch 71/200\n",
      "34/34 [==============================] - 0s 5ms/step - loss: 6069.5078 - mae: 6069.5078\n",
      "Epoch 72/200\n",
      "34/34 [==============================] - 0s 5ms/step - loss: 6047.8379 - mae: 6047.8379\n",
      "Epoch 73/200\n",
      "34/34 [==============================] - 0s 6ms/step - loss: 6033.8491 - mae: 6033.8491\n",
      "Epoch 74/200\n",
      "34/34 [==============================] - 0s 6ms/step - loss: 6003.3013 - mae: 6003.3013\n",
      "Epoch 75/200\n",
      "34/34 [==============================] - 0s 5ms/step - loss: 5980.0957 - mae: 5980.0957\n",
      "Epoch 76/200\n",
      "34/34 [==============================] - 0s 5ms/step - loss: 5964.4077 - mae: 5964.4077\n",
      "Epoch 77/200\n",
      "34/34 [==============================] - 0s 4ms/step - loss: 5931.2637 - mae: 5931.2637\n",
      "Epoch 78/200\n",
      "34/34 [==============================] - 0s 3ms/step - loss: 5905.3237 - mae: 5905.3237\n",
      "Epoch 79/200\n",
      "34/34 [==============================] - 0s 3ms/step - loss: 5878.8672 - mae: 5878.8672\n",
      "Epoch 80/200\n",
      "34/34 [==============================] - 0s 4ms/step - loss: 5848.7280 - mae: 5848.7280\n",
      "Epoch 81/200\n",
      "34/34 [==============================] - 0s 5ms/step - loss: 5821.1680 - mae: 5821.1680\n",
      "Epoch 82/200\n",
      "34/34 [==============================] - 0s 6ms/step - loss: 5790.1851 - mae: 5790.1851\n",
      "Epoch 83/200\n",
      "34/34 [==============================] - 0s 5ms/step - loss: 5759.6973 - mae: 5759.6973\n",
      "Epoch 84/200\n",
      "34/34 [==============================] - 0s 5ms/step - loss: 5724.1343 - mae: 5724.1343\n",
      "Epoch 85/200\n",
      "34/34 [==============================] - 0s 5ms/step - loss: 5698.4614 - mae: 5698.4614\n",
      "Epoch 86/200\n",
      "34/34 [==============================] - 0s 6ms/step - loss: 5658.7944 - mae: 5658.7944\n",
      "Epoch 87/200\n",
      "34/34 [==============================] - 0s 5ms/step - loss: 5618.6436 - mae: 5618.6436\n",
      "Epoch 88/200\n",
      "34/34 [==============================] - 0s 7ms/step - loss: 5579.6367 - mae: 5579.6367\n",
      "Epoch 89/200\n",
      "34/34 [==============================] - 0s 5ms/step - loss: 5537.0957 - mae: 5537.0957\n",
      "Epoch 90/200\n",
      "34/34 [==============================] - 0s 5ms/step - loss: 5491.7476 - mae: 5491.7476\n",
      "Epoch 91/200\n",
      "34/34 [==============================] - 0s 5ms/step - loss: 5450.0181 - mae: 5450.0181\n",
      "Epoch 92/200\n",
      "34/34 [==============================] - 0s 5ms/step - loss: 5398.6392 - mae: 5398.6392\n",
      "Epoch 93/200\n",
      "34/34 [==============================] - 0s 6ms/step - loss: 5351.8208 - mae: 5351.8208\n",
      "Epoch 94/200\n",
      "34/34 [==============================] - 0s 6ms/step - loss: 5300.1758 - mae: 5300.1758\n",
      "Epoch 95/200\n",
      "34/34 [==============================] - 0s 6ms/step - loss: 5244.3364 - mae: 5244.3364\n",
      "Epoch 96/200\n",
      "34/34 [==============================] - 0s 5ms/step - loss: 5194.0918 - mae: 5194.0918\n",
      "Epoch 97/200\n",
      "34/34 [==============================] - 0s 6ms/step - loss: 5134.5820 - mae: 5134.5820\n",
      "Epoch 98/200\n",
      "34/34 [==============================] - 0s 5ms/step - loss: 5067.2188 - mae: 5067.2188\n",
      "Epoch 99/200\n",
      "34/34 [==============================] - 0s 3ms/step - loss: 5002.0488 - mae: 5002.0488\n",
      "Epoch 100/200\n",
      "34/34 [==============================] - 0s 4ms/step - loss: 4943.4282 - mae: 4943.4282\n",
      "Epoch 101/200\n",
      "34/34 [==============================] - 0s 5ms/step - loss: 4863.4077 - mae: 4863.4077\n",
      "Epoch 102/200\n",
      "34/34 [==============================] - 0s 4ms/step - loss: 4783.2520 - mae: 4783.2520\n",
      "Epoch 103/200\n",
      "34/34 [==============================] - 0s 5ms/step - loss: 4709.1099 - mae: 4709.1099\n",
      "Epoch 104/200\n",
      "34/34 [==============================] - 0s 5ms/step - loss: 4622.7817 - mae: 4622.7817\n",
      "Epoch 105/200\n",
      "34/34 [==============================] - 0s 4ms/step - loss: 4530.5083 - mae: 4530.5083\n",
      "Epoch 106/200\n",
      "34/34 [==============================] - 0s 4ms/step - loss: 4445.5322 - mae: 4445.5322\n",
      "Epoch 107/200\n",
      "34/34 [==============================] - 0s 4ms/step - loss: 4362.2769 - mae: 4362.2769\n",
      "Epoch 108/200\n",
      "34/34 [==============================] - 0s 5ms/step - loss: 4274.4038 - mae: 4274.4038\n",
      "Epoch 109/200\n",
      "34/34 [==============================] - 0s 5ms/step - loss: 4191.0220 - mae: 4191.0220\n",
      "Epoch 110/200\n",
      "34/34 [==============================] - 0s 8ms/step - loss: 4115.3809 - mae: 4115.3809\n",
      "Epoch 111/200\n",
      "34/34 [==============================] - 0s 7ms/step - loss: 4046.7473 - mae: 4046.7473\n",
      "Epoch 112/200\n",
      "34/34 [==============================] - 0s 5ms/step - loss: 3993.1248 - mae: 3993.1248\n",
      "Epoch 113/200\n",
      "34/34 [==============================] - 0s 5ms/step - loss: 3953.5725 - mae: 3953.5725\n",
      "Epoch 114/200\n",
      "34/34 [==============================] - 0s 8ms/step - loss: 3928.5071 - mae: 3928.5071\n",
      "Epoch 115/200\n",
      "34/34 [==============================] - 0s 11ms/step - loss: 3891.0735 - mae: 3891.0735\n",
      "Epoch 116/200\n",
      "34/34 [==============================] - 0s 8ms/step - loss: 3879.9895 - mae: 3879.9895\n",
      "Epoch 117/200\n",
      "34/34 [==============================] - 0s 9ms/step - loss: 3866.2380 - mae: 3866.2380\n",
      "Epoch 118/200\n",
      "34/34 [==============================] - 0s 7ms/step - loss: 3846.9458 - mae: 3846.9458\n",
      "Epoch 119/200\n",
      "34/34 [==============================] - 0s 5ms/step - loss: 3833.3354 - mae: 3833.3354\n",
      "Epoch 120/200\n",
      "34/34 [==============================] - 0s 4ms/step - loss: 3821.0369 - mae: 3821.0369\n",
      "Epoch 121/200\n",
      "34/34 [==============================] - 0s 4ms/step - loss: 3813.2595 - mae: 3813.2595\n",
      "Epoch 122/200\n",
      "34/34 [==============================] - 0s 4ms/step - loss: 3809.9583 - mae: 3809.9583\n",
      "Epoch 123/200\n",
      "34/34 [==============================] - 0s 5ms/step - loss: 3803.7703 - mae: 3803.7703\n",
      "Epoch 124/200\n",
      "34/34 [==============================] - 0s 7ms/step - loss: 3799.5205 - mae: 3799.5205\n",
      "Epoch 125/200\n",
      "34/34 [==============================] - 0s 5ms/step - loss: 3787.8506 - mae: 3787.8506\n",
      "Epoch 126/200\n",
      "34/34 [==============================] - 0s 6ms/step - loss: 3795.5999 - mae: 3795.5999\n",
      "Epoch 127/200\n",
      "34/34 [==============================] - 0s 6ms/step - loss: 3791.7051 - mae: 3791.7051\n",
      "Epoch 128/200\n",
      "34/34 [==============================] - 0s 5ms/step - loss: 3785.6035 - mae: 3785.6035\n",
      "Epoch 129/200\n",
      "34/34 [==============================] - 0s 4ms/step - loss: 3794.8630 - mae: 3794.8630\n",
      "Epoch 130/200\n",
      "34/34 [==============================] - 0s 5ms/step - loss: 3783.3452 - mae: 3783.3452\n",
      "Epoch 131/200\n",
      "34/34 [==============================] - 0s 4ms/step - loss: 3777.7627 - mae: 3777.7627\n",
      "Epoch 132/200\n",
      "34/34 [==============================] - 0s 7ms/step - loss: 3770.9048 - mae: 3770.9048\n",
      "Epoch 133/200\n",
      "34/34 [==============================] - 0s 4ms/step - loss: 3767.4131 - mae: 3767.4131\n",
      "Epoch 134/200\n",
      "34/34 [==============================] - 0s 4ms/step - loss: 3767.7786 - mae: 3767.7786\n",
      "Epoch 135/200\n",
      "34/34 [==============================] - 0s 4ms/step - loss: 3763.8083 - mae: 3763.8083\n",
      "Epoch 136/200\n",
      "34/34 [==============================] - 0s 2ms/step - loss: 3763.3284 - mae: 3763.3284\n",
      "Epoch 137/200\n",
      "34/34 [==============================] - 0s 2ms/step - loss: 3769.9236 - mae: 3769.9236\n",
      "Epoch 138/200\n",
      "34/34 [==============================] - 0s 3ms/step - loss: 3780.7454 - mae: 3780.7454\n",
      "Epoch 139/200\n",
      "34/34 [==============================] - 0s 4ms/step - loss: 3758.0745 - mae: 3758.0745\n",
      "Epoch 140/200\n",
      "34/34 [==============================] - 0s 2ms/step - loss: 3759.2419 - mae: 3759.2419\n",
      "Epoch 141/200\n",
      "34/34 [==============================] - 0s 4ms/step - loss: 3760.6584 - mae: 3760.6584\n",
      "Epoch 142/200\n",
      "34/34 [==============================] - 0s 2ms/step - loss: 3760.8296 - mae: 3760.8296\n",
      "Epoch 143/200\n",
      "34/34 [==============================] - 0s 3ms/step - loss: 3751.1921 - mae: 3751.1921\n",
      "Epoch 144/200\n",
      "34/34 [==============================] - 0s 3ms/step - loss: 3747.5000 - mae: 3747.5000\n",
      "Epoch 145/200\n",
      "34/34 [==============================] - 0s 3ms/step - loss: 3746.9534 - mae: 3746.9534\n",
      "Epoch 146/200\n",
      "34/34 [==============================] - 0s 2ms/step - loss: 3751.8123 - mae: 3751.8123\n",
      "Epoch 147/200\n",
      "34/34 [==============================] - 0s 3ms/step - loss: 3748.6545 - mae: 3748.6545\n",
      "Epoch 148/200\n",
      "34/34 [==============================] - 0s 3ms/step - loss: 3753.9910 - mae: 3753.9910\n",
      "Epoch 149/200\n",
      "34/34 [==============================] - 0s 3ms/step - loss: 3740.6995 - mae: 3740.6995\n",
      "Epoch 150/200\n",
      "34/34 [==============================] - 0s 4ms/step - loss: 3736.1687 - mae: 3736.1687\n",
      "Epoch 151/200\n",
      "34/34 [==============================] - 0s 3ms/step - loss: 3737.4187 - mae: 3737.4187\n",
      "Epoch 152/200\n",
      "34/34 [==============================] - 0s 4ms/step - loss: 3738.6211 - mae: 3738.6211\n",
      "Epoch 153/200\n",
      "34/34 [==============================] - 0s 3ms/step - loss: 3742.1670 - mae: 3742.1670\n",
      "Epoch 154/200\n",
      "34/34 [==============================] - 0s 3ms/step - loss: 3734.4106 - mae: 3734.4106\n",
      "Epoch 155/200\n",
      "34/34 [==============================] - 0s 2ms/step - loss: 3735.1318 - mae: 3735.1318\n",
      "Epoch 156/200\n",
      "34/34 [==============================] - 0s 2ms/step - loss: 3733.2019 - mae: 3733.2019\n",
      "Epoch 157/200\n",
      "34/34 [==============================] - 0s 3ms/step - loss: 3729.6299 - mae: 3729.6299\n",
      "Epoch 158/200\n",
      "34/34 [==============================] - 0s 3ms/step - loss: 3726.8669 - mae: 3726.8669\n",
      "Epoch 159/200\n",
      "34/34 [==============================] - 0s 2ms/step - loss: 3723.9937 - mae: 3723.9937\n",
      "Epoch 160/200\n",
      "34/34 [==============================] - 0s 3ms/step - loss: 3730.2197 - mae: 3730.2197\n",
      "Epoch 161/200\n",
      "34/34 [==============================] - 0s 3ms/step - loss: 3725.5583 - mae: 3725.5583\n",
      "Epoch 162/200\n",
      "34/34 [==============================] - 0s 3ms/step - loss: 3721.9810 - mae: 3721.9810\n",
      "Epoch 163/200\n",
      "34/34 [==============================] - 0s 2ms/step - loss: 3720.5208 - mae: 3720.5208\n",
      "Epoch 164/200\n",
      "34/34 [==============================] - 0s 3ms/step - loss: 3723.9414 - mae: 3723.9414\n",
      "Epoch 165/200\n",
      "34/34 [==============================] - 0s 2ms/step - loss: 3714.1890 - mae: 3714.1890\n",
      "Epoch 166/200\n",
      "34/34 [==============================] - 0s 5ms/step - loss: 3718.2773 - mae: 3718.2773\n",
      "Epoch 167/200\n",
      "34/34 [==============================] - 0s 4ms/step - loss: 3716.4619 - mae: 3716.4619\n",
      "Epoch 168/200\n",
      "34/34 [==============================] - 0s 3ms/step - loss: 3711.4897 - mae: 3711.4897\n",
      "Epoch 169/200\n",
      "34/34 [==============================] - 0s 6ms/step - loss: 3709.4128 - mae: 3709.4128\n",
      "Epoch 170/200\n",
      "34/34 [==============================] - 0s 4ms/step - loss: 3704.9258 - mae: 3704.9258\n",
      "Epoch 171/200\n",
      "34/34 [==============================] - 0s 5ms/step - loss: 3704.5435 - mae: 3704.5435\n",
      "Epoch 172/200\n",
      "34/34 [==============================] - 0s 4ms/step - loss: 3706.9021 - mae: 3706.9021\n",
      "Epoch 173/200\n",
      "34/34 [==============================] - 0s 3ms/step - loss: 3702.3987 - mae: 3702.3987\n",
      "Epoch 174/200\n",
      "34/34 [==============================] - 0s 4ms/step - loss: 3706.6763 - mae: 3706.6763\n",
      "Epoch 175/200\n",
      "34/34 [==============================] - 0s 3ms/step - loss: 3709.2737 - mae: 3709.2737\n",
      "Epoch 176/200\n",
      "34/34 [==============================] - 0s 3ms/step - loss: 3703.8442 - mae: 3703.8442\n",
      "Epoch 177/200\n",
      "34/34 [==============================] - 0s 3ms/step - loss: 3696.1621 - mae: 3696.1621\n",
      "Epoch 178/200\n",
      "34/34 [==============================] - 0s 3ms/step - loss: 3691.0647 - mae: 3691.0647\n",
      "Epoch 179/200\n",
      "34/34 [==============================] - 0s 3ms/step - loss: 3703.5310 - mae: 3703.5310\n",
      "Epoch 180/200\n",
      "34/34 [==============================] - 0s 3ms/step - loss: 3709.6689 - mae: 3709.6689\n",
      "Epoch 181/200\n",
      "34/34 [==============================] - 0s 3ms/step - loss: 3693.9966 - mae: 3693.9966\n",
      "Epoch 182/200\n",
      "34/34 [==============================] - 0s 3ms/step - loss: 3690.1858 - mae: 3690.1858\n",
      "Epoch 183/200\n",
      "34/34 [==============================] - 0s 2ms/step - loss: 3688.2424 - mae: 3688.2424\n",
      "Epoch 184/200\n",
      "34/34 [==============================] - 0s 3ms/step - loss: 3695.7986 - mae: 3695.7986\n",
      "Epoch 185/200\n",
      "34/34 [==============================] - 0s 3ms/step - loss: 3691.5422 - mae: 3691.5422\n",
      "Epoch 186/200\n",
      "34/34 [==============================] - 0s 3ms/step - loss: 3694.8311 - mae: 3694.8311\n",
      "Epoch 187/200\n",
      "34/34 [==============================] - 0s 3ms/step - loss: 3686.0461 - mae: 3686.0461\n",
      "Epoch 188/200\n",
      "34/34 [==============================] - 0s 2ms/step - loss: 3690.9785 - mae: 3690.9785\n",
      "Epoch 189/200\n",
      "34/34 [==============================] - 0s 3ms/step - loss: 3680.5071 - mae: 3680.5071\n",
      "Epoch 190/200\n",
      "34/34 [==============================] - 0s 2ms/step - loss: 3681.0273 - mae: 3681.0273\n",
      "Epoch 191/200\n",
      "34/34 [==============================] - 0s 3ms/step - loss: 3694.0889 - mae: 3694.0889\n",
      "Epoch 192/200\n",
      "34/34 [==============================] - 0s 3ms/step - loss: 3680.8604 - mae: 3680.8604\n",
      "Epoch 193/200\n",
      "34/34 [==============================] - 0s 3ms/step - loss: 3672.6812 - mae: 3672.6812\n",
      "Epoch 194/200\n",
      "34/34 [==============================] - 0s 2ms/step - loss: 3674.0864 - mae: 3674.0864\n",
      "Epoch 195/200\n",
      "34/34 [==============================] - 0s 2ms/step - loss: 3670.4592 - mae: 3670.4592\n",
      "Epoch 196/200\n",
      "34/34 [==============================] - 0s 2ms/step - loss: 3678.8955 - mae: 3678.8955\n",
      "Epoch 197/200\n",
      "34/34 [==============================] - 0s 3ms/step - loss: 3664.9431 - mae: 3664.9431\n",
      "Epoch 198/200\n",
      "34/34 [==============================] - 0s 5ms/step - loss: 3671.3550 - mae: 3671.3550\n",
      "Epoch 199/200\n",
      "34/34 [==============================] - 0s 5ms/step - loss: 3679.3428 - mae: 3679.3428\n",
      "Epoch 200/200\n",
      "34/34 [==============================] - 0s 4ms/step - loss: 3665.1575 - mae: 3665.1575\n"
     ]
    }
   ],
   "source": [
    "# Set random seed\n",
    "tf.random.set_seed(42)\n",
    "\n",
    "# 1. Create the model (same as above)\n",
    "insurance_model_3 = tf.keras.Sequential([\n",
    "    tf.keras.layers.Dense(100),\n",
    "    tf.keras.layers.Dense(10),\n",
    "    tf.keras.layers.Dense(1)\n",
    "])\n",
    "\n",
    "# 2. Compile the model\n",
    "insurance_model_3.compile(loss=tf.keras.losses.mae,\n",
    "                          optimizer=tf.keras.optimizers.Adam(),\n",
    "                          metrics=[\"mae\"])\n",
    "\n",
    "# 3. Fit the model\n",
    "history = insurance_model_3.fit(X_train, y_train, epochs=200)"
   ],
   "metadata": {
    "collapsed": false,
    "ExecuteTime": {
     "end_time": "2024-01-02T07:42:43.082970937Z",
     "start_time": "2024-01-02T07:42:01.250295233Z"
    }
   },
   "id": "56ece3f24d5d2b4",
   "execution_count": 87
  },
  {
   "cell_type": "code",
   "outputs": [
    {
     "name": "stdout",
     "output_type": "stream",
     "text": [
      "9/9 [==============================] - 0s 5ms/step - loss: 3488.8174 - mae: 3488.8174\n"
     ]
    },
    {
     "data": {
      "text/plain": "[3488.8173828125, 3488.8173828125]"
     },
     "execution_count": 88,
     "metadata": {},
     "output_type": "execute_result"
    }
   ],
   "source": [
    "# Evaluate our third model\n",
    "insurance_model_3.evaluate(X_test, y_test)"
   ],
   "metadata": {
    "collapsed": false,
    "ExecuteTime": {
     "end_time": "2024-01-02T07:42:55.423660990Z",
     "start_time": "2024-01-02T07:42:55.076867093Z"
    }
   },
   "id": "3f4dc53266f65536",
   "execution_count": 88
  },
  {
   "cell_type": "code",
   "outputs": [
    {
     "name": "stdout",
     "output_type": "stream",
     "text": [
      "9/9 [==============================] - 0s 2ms/step - loss: 8535.0859 - mae: 8535.0859\n"
     ]
    },
    {
     "data": {
      "text/plain": "[8535.0859375, 8535.0859375]"
     },
     "execution_count": 89,
     "metadata": {},
     "output_type": "execute_result"
    }
   ],
   "source": [
    "insurance_model.evaluate(X_test, y_test)"
   ],
   "metadata": {
    "collapsed": false,
    "ExecuteTime": {
     "end_time": "2024-01-02T07:42:57.248511157Z",
     "start_time": "2024-01-02T07:42:57.064026580Z"
    }
   },
   "id": "73bee1d426123d5e",
   "execution_count": 89
  },
  {
   "cell_type": "code",
   "outputs": [
    {
     "data": {
      "text/plain": "Text(0.5, 0, 'epochs')"
     },
     "execution_count": 90,
     "metadata": {},
     "output_type": "execute_result"
    },
    {
     "data": {
      "text/plain": "<Figure size 640x480 with 1 Axes>",
      "image/png": "[encoded data removed]"
     },
     "metadata": {},
     "output_type": "display_data"
    }
   ],
   "source": [
    "# Plot history (also known as a loss curve or a training curve)\n",
    "pd.DataFrame(history.history).plot()\n",
    "plt.ylabel(\"loss\")\n",
    "plt.xlabel(\"epochs\")"
   ],
   "metadata": {
    "collapsed": false,
    "ExecuteTime": {
     "end_time": "2024-01-02T07:42:58.803760848Z",
     "start_time": "2024-01-02T07:42:58.609028174Z"
    }
   },
   "id": "492df7d0a97992e9",
   "execution_count": 90
  },
  {
   "cell_type": "markdown",
   "source": [
    "> 🤔 **Question:** How long should you train for? \n",
    "\n",
    "It depends. Really... it depends on the problem you're working on. However, many people have asked this question before... so TensorFlow has a solution! It's called the [EarlyStopping Callback](https://www.tensorflow.org/api_docs/python/tf/keras/callbacks/EarlyStopping), which is a TensorFlow component you can add to your model to stop training once it stops improving a certain metric."
   ],
   "metadata": {
    "collapsed": false
   },
   "id": "e7db529b9bae5eae"
  },
  {
   "cell_type": "markdown",
   "source": [
    "## Preprocessing data (normalization and standardization)\n",
    "\n",
    "In terms of scalimg values, neural networks tend to prefer normalization.\n",
    "\n",
    "If you're not sure on which to use, you could try both and see which performs better."
   ],
   "metadata": {
    "collapsed": false
   },
   "id": "48dd68ad2f5d20e4"
  },
  {
   "cell_type": "code",
   "outputs": [
    {
     "data": {
      "text/plain": "      age     sex     bmi  children smoker     region      charges\n0      19  female  27.900         0    yes  southwest  16884.92400\n1      18    male  33.770         1     no  southeast   1725.55230\n2      28    male  33.000         3     no  southeast   4449.46200\n3      33    male  22.705         0     no  northwest  21984.47061\n4      32    male  28.880         0     no  northwest   3866.85520\n...   ...     ...     ...       ...    ...        ...          ...\n1333   50    male  30.970         3     no  northwest  10600.54830\n1334   18  female  31.920         0     no  northeast   2205.98080\n1335   18  female  36.850         0     no  southeast   1629.83350\n1336   21  female  25.800         0     no  southwest   2007.94500\n1337   61  female  29.070         0    yes  northwest  29141.36030\n\n[1338 rows x 7 columns]",
      "text/html": "<div>\n<style scoped>\n    .dataframe tbody tr th:only-of-type {\n        vertical-align: middle;\n    }\n\n    .dataframe tbody tr th {\n        vertical-align: top;\n    }\n\n    .dataframe thead th {\n        text-align: right;\n    }\n</style>\n<table border=\"1\" class=\"dataframe\">\n  <thead>\n    <tr style=\"text-align: right;\">\n      <th></th>\n      <th>age</th>\n      <th>sex</th>\n      <th>bmi</th>\n      <th>children</th>\n      <th>smoker</th>\n      <th>region</th>\n      <th>charges</th>\n    </tr>\n  </thead>\n  <tbody>\n    <tr>\n      <th>0</th>\n      <td>19</td>\n      <td>female</td>\n      <td>27.900</td>\n      <td>0</td>\n      <td>yes</td>\n      <td>southwest</td>\n      <td>16884.92400</td>\n    </tr>\n    <tr>\n      <th>1</th>\n      <td>18</td>\n      <td>male</td>\n      <td>33.770</td>\n      <td>1</td>\n      <td>no</td>\n      <td>southeast</td>\n      <td>1725.55230</td>\n    </tr>\n    <tr>\n      <th>2</th>\n      <td>28</td>\n      <td>male</td>\n      <td>33.000</td>\n      <td>3</td>\n      <td>no</td>\n      <td>southeast</td>\n      <td>4449.46200</td>\n    </tr>\n    <tr>\n      <th>3</th>\n      <td>33</td>\n      <td>male</td>\n      <td>22.705</td>\n      <td>0</td>\n      <td>no</td>\n      <td>northwest</td>\n      <td>21984.47061</td>\n    </tr>\n    <tr>\n      <th>4</th>\n      <td>32</td>\n      <td>male</td>\n      <td>28.880</td>\n      <td>0</td>\n      <td>no</td>\n      <td>northwest</td>\n      <td>3866.85520</td>\n    </tr>\n    <tr>\n      <th>...</th>\n      <td>...</td>\n      <td>...</td>\n      <td>...</td>\n      <td>...</td>\n      <td>...</td>\n      <td>...</td>\n      <td>...</td>\n    </tr>\n    <tr>\n      <th>1333</th>\n      <td>50</td>\n      <td>male</td>\n      <td>30.970</td>\n      <td>3</td>\n      <td>no</td>\n      <td>northwest</td>\n      <td>10600.54830</td>\n    </tr>\n    <tr>\n      <th>1334</th>\n      <td>18</td>\n      <td>female</td>\n      <td>31.920</td>\n      <td>0</td>\n      <td>no</td>\n      <td>northeast</td>\n      <td>2205.98080</td>\n    </tr>\n    <tr>\n      <th>1335</th>\n      <td>18</td>\n      <td>female</td>\n      <td>36.850</td>\n      <td>0</td>\n      <td>no</td>\n      <td>southeast</td>\n      <td>1629.83350</td>\n    </tr>\n    <tr>\n      <th>1336</th>\n      <td>21</td>\n      <td>female</td>\n      <td>25.800</td>\n      <td>0</td>\n      <td>no</td>\n      <td>southwest</td>\n      <td>2007.94500</td>\n    </tr>\n    <tr>\n      <th>1337</th>\n      <td>61</td>\n      <td>female</td>\n      <td>29.070</td>\n      <td>0</td>\n      <td>yes</td>\n      <td>northwest</td>\n      <td>29141.36030</td>\n    </tr>\n  </tbody>\n</table>\n<p>1338 rows × 7 columns</p>\n</div>"
     },
     "execution_count": 91,
     "metadata": {},
     "output_type": "execute_result"
    }
   ],
   "source": [
    "import pandas as pd\n",
    "import matplotlib.pyplot as plt\n",
    "import tensorflow as tf\n",
    "\n",
    "# Read in the insurance dataframe\n",
    "insurance = pd.read_csv(\"Dataset/insurance.csv\")\n",
    "insurance"
   ],
   "metadata": {
    "collapsed": false,
    "ExecuteTime": {
     "end_time": "2024-01-02T07:43:15.877026015Z",
     "start_time": "2024-01-02T07:43:15.815776282Z"
    }
   },
   "id": "6bd1bd58c7317a5",
   "execution_count": 91
  },
  {
   "cell_type": "markdown",
   "source": [
    "To prepare our data, we can borrow a few classes from Scikit-Learn."
   ],
   "metadata": {
    "collapsed": false
   },
   "id": "5877de47754a1938"
  },
  {
   "cell_type": "code",
   "outputs": [],
   "source": [
    "from sklearn.compose import make_column_transformer\n",
    "from sklearn.preprocessing import MinMaxScaler, OneHotEncoder\n",
    "from sklearn.model_selection import train_test_split\n",
    "\n",
    "# Create a column transformer\n",
    "ct = make_column_transformer(\n",
    "    (MinMaxScaler(), [\"age\", \"bmi\", \"children\"]), # turn all values in theese columns between 0 and 1\n",
    "    (OneHotEncoder(handle_unknown=\"ignore\"), [\"sex\", \"smoker\", \"region\"])\n",
    ")\n",
    "\n",
    "# Create X & y\n",
    "X = insurance.drop(\"charges\", axis=1)\n",
    "y = insurance[\"charges\"]\n",
    "\n",
    "# Build our train and test sets\n",
    "X_train, X_test, y_train, y_test = train_test_split(X, y, test_size=0.2, random_state=42)\n",
    "\n",
    "# Fit the column transformer to our training data\n",
    "ct.fit(X_train)\n",
    "\n",
    "# Transform training and test data with normalization (MinMaxScaler) and OneHotEncoder\n",
    "X_train_normal = ct.transform(X_train)\n",
    "X_test_normal = ct.transform(X_test)"
   ],
   "metadata": {
    "collapsed": false,
    "ExecuteTime": {
     "end_time": "2024-01-02T07:43:18.069616053Z",
     "start_time": "2024-01-02T07:43:18.008611296Z"
    }
   },
   "id": "352e885019844f76",
   "execution_count": 92
  },
  {
   "cell_type": "code",
   "outputs": [
    {
     "data": {
      "text/plain": "age                19\nsex            female\nbmi              27.9\nchildren            0\nsmoker            yes\nregion      southwest\nName: 0, dtype: object"
     },
     "execution_count": 93,
     "metadata": {},
     "output_type": "execute_result"
    }
   ],
   "source": [
    "# What does our data look like now?\n",
    "X_train.loc[0]"
   ],
   "metadata": {
    "collapsed": false,
    "ExecuteTime": {
     "end_time": "2024-01-02T07:43:19.327584519Z",
     "start_time": "2024-01-02T07:43:19.271332101Z"
    }
   },
   "id": "2d471eb84effea5c",
   "execution_count": 93
  },
  {
   "cell_type": "code",
   "outputs": [
    {
     "data": {
      "text/plain": "array([0.60869565, 0.10734463, 0.4       , 1.        , 0.        ,\n       1.        , 0.        , 0.        , 1.        , 0.        ,\n       0.        ])"
     },
     "execution_count": 94,
     "metadata": {},
     "output_type": "execute_result"
    }
   ],
   "source": [
    "X_train_normal[0]"
   ],
   "metadata": {
    "collapsed": false,
    "ExecuteTime": {
     "end_time": "2024-01-02T07:43:20.503350202Z",
     "start_time": "2024-01-02T07:43:20.439051825Z"
    }
   },
   "id": "c613d71fa18039fd",
   "execution_count": 94
  },
  {
   "cell_type": "code",
   "outputs": [
    {
     "data": {
      "text/plain": "((1070, 6), (1070, 11))"
     },
     "execution_count": 95,
     "metadata": {},
     "output_type": "execute_result"
    }
   ],
   "source": [
    "X_train.shape, X_train_normal.shape"
   ],
   "metadata": {
    "collapsed": false,
    "ExecuteTime": {
     "end_time": "2024-01-02T07:43:21.465932116Z",
     "start_time": "2024-01-02T07:43:21.386744614Z"
    }
   },
   "id": "e3718cd0531b4824",
   "execution_count": 95
  },
  {
   "cell_type": "code",
   "outputs": [
    {
     "name": "stdout",
     "output_type": "stream",
     "text": [
      "Epoch 1/100\n",
      "34/34 [==============================] - 1s 7ms/step - loss: 13344.0059 - mae: 13344.0059\n",
      "Epoch 2/100\n",
      "34/34 [==============================] - 0s 4ms/step - loss: 13336.5527 - mae: 13336.5527\n",
      "Epoch 3/100\n",
      "34/34 [==============================] - 0s 4ms/step - loss: 13317.7646 - mae: 13317.7646\n",
      "Epoch 4/100\n",
      "34/34 [==============================] - 0s 5ms/step - loss: 13277.2676 - mae: 13277.2676\n",
      "Epoch 5/100\n",
      "34/34 [==============================] - 0s 5ms/step - loss: 13203.9160 - mae: 13203.9160\n",
      "Epoch 6/100\n",
      "34/34 [==============================] - 0s 3ms/step - loss: 13086.5059 - mae: 13086.5059\n",
      "Epoch 7/100\n",
      "34/34 [==============================] - 0s 4ms/step - loss: 12914.4180 - mae: 12914.4180\n",
      "Epoch 8/100\n",
      "34/34 [==============================] - 0s 2ms/step - loss: 12677.3643 - mae: 12677.3643\n",
      "Epoch 9/100\n",
      "34/34 [==============================] - 0s 3ms/step - loss: 12365.0811 - mae: 12365.0811\n",
      "Epoch 10/100\n",
      "34/34 [==============================] - 0s 3ms/step - loss: 11971.8203 - mae: 11971.8203\n",
      "Epoch 11/100\n",
      "34/34 [==============================] - 0s 3ms/step - loss: 11504.9014 - mae: 11504.9014\n",
      "Epoch 12/100\n",
      "34/34 [==============================] - 0s 4ms/step - loss: 10999.1738 - mae: 10999.1738\n",
      "Epoch 13/100\n",
      "34/34 [==============================] - 0s 3ms/step - loss: 10496.4795 - mae: 10496.4795\n",
      "Epoch 14/100\n",
      "34/34 [==============================] - 0s 4ms/step - loss: 9997.2793 - mae: 9997.2793\n",
      "Epoch 15/100\n",
      "34/34 [==============================] - 0s 3ms/step - loss: 9524.5166 - mae: 9524.5166\n",
      "Epoch 16/100\n",
      "34/34 [==============================] - 0s 4ms/step - loss: 9101.9072 - mae: 9101.9072\n",
      "Epoch 17/100\n",
      "34/34 [==============================] - 0s 4ms/step - loss: 8749.6279 - mae: 8749.6279\n",
      "Epoch 18/100\n",
      "34/34 [==============================] - 0s 5ms/step - loss: 8465.8389 - mae: 8465.8389\n",
      "Epoch 19/100\n",
      "34/34 [==============================] - 0s 4ms/step - loss: 8245.6504 - mae: 8245.6504\n",
      "Epoch 20/100\n",
      "34/34 [==============================] - 0s 3ms/step - loss: 8096.1924 - mae: 8096.1924\n",
      "Epoch 21/100\n",
      "34/34 [==============================] - 0s 4ms/step - loss: 7985.9868 - mae: 7985.9868\n",
      "Epoch 22/100\n",
      "34/34 [==============================] - 0s 3ms/step - loss: 7910.7046 - mae: 7910.7046\n",
      "Epoch 23/100\n",
      "34/34 [==============================] - 0s 4ms/step - loss: 7851.4692 - mae: 7851.4692\n",
      "Epoch 24/100\n",
      "34/34 [==============================] - 0s 3ms/step - loss: 7798.9805 - mae: 7798.9805\n",
      "Epoch 25/100\n",
      "34/34 [==============================] - 0s 4ms/step - loss: 7760.4004 - mae: 7760.4004\n",
      "Epoch 26/100\n",
      "34/34 [==============================] - 0s 3ms/step - loss: 7708.8555 - mae: 7708.8555\n",
      "Epoch 27/100\n",
      "34/34 [==============================] - 0s 4ms/step - loss: 7667.1094 - mae: 7667.1094\n",
      "Epoch 28/100\n",
      "34/34 [==============================] - 0s 3ms/step - loss: 7624.9468 - mae: 7624.9468\n",
      "Epoch 29/100\n",
      "34/34 [==============================] - 0s 3ms/step - loss: 7582.7842 - mae: 7582.7842\n",
      "Epoch 30/100\n",
      "34/34 [==============================] - 0s 4ms/step - loss: 7539.6187 - mae: 7539.6187\n",
      "Epoch 31/100\n",
      "34/34 [==============================] - 0s 3ms/step - loss: 7496.1626 - mae: 7496.1626\n",
      "Epoch 32/100\n",
      "34/34 [==============================] - 0s 3ms/step - loss: 7452.4648 - mae: 7452.4648\n",
      "Epoch 33/100\n",
      "34/34 [==============================] - 0s 3ms/step - loss: 7408.4805 - mae: 7408.4805\n",
      "Epoch 34/100\n",
      "34/34 [==============================] - 0s 3ms/step - loss: 7360.6362 - mae: 7360.6362\n",
      "Epoch 35/100\n",
      "34/34 [==============================] - 0s 5ms/step - loss: 7314.3804 - mae: 7314.3804\n",
      "Epoch 36/100\n",
      "34/34 [==============================] - 0s 4ms/step - loss: 7264.7227 - mae: 7264.7227\n",
      "Epoch 37/100\n",
      "34/34 [==============================] - 0s 4ms/step - loss: 7214.8662 - mae: 7214.8662\n",
      "Epoch 38/100\n",
      "34/34 [==============================] - 0s 4ms/step - loss: 7164.5825 - mae: 7164.5825\n",
      "Epoch 39/100\n",
      "34/34 [==============================] - 0s 4ms/step - loss: 7110.4429 - mae: 7110.4429\n",
      "Epoch 40/100\n",
      "34/34 [==============================] - 0s 3ms/step - loss: 7055.6836 - mae: 7055.6836\n",
      "Epoch 41/100\n",
      "34/34 [==============================] - 0s 3ms/step - loss: 7000.0049 - mae: 7000.0049\n",
      "Epoch 42/100\n",
      "34/34 [==============================] - 0s 3ms/step - loss: 6941.9697 - mae: 6941.9697\n",
      "Epoch 43/100\n",
      "34/34 [==============================] - 0s 4ms/step - loss: 6880.2202 - mae: 6880.2202\n",
      "Epoch 44/100\n",
      "34/34 [==============================] - 0s 4ms/step - loss: 6814.9771 - mae: 6814.9771\n",
      "Epoch 45/100\n",
      "34/34 [==============================] - 0s 5ms/step - loss: 6748.7949 - mae: 6748.7949\n",
      "Epoch 46/100\n",
      "34/34 [==============================] - 0s 5ms/step - loss: 6680.8345 - mae: 6680.8345\n",
      "Epoch 47/100\n",
      "34/34 [==============================] - 0s 4ms/step - loss: 6610.8940 - mae: 6610.8940\n",
      "Epoch 48/100\n",
      "34/34 [==============================] - 0s 4ms/step - loss: 6533.2441 - mae: 6533.2441\n",
      "Epoch 49/100\n",
      "34/34 [==============================] - 0s 5ms/step - loss: 6455.4502 - mae: 6455.4502\n",
      "Epoch 50/100\n",
      "34/34 [==============================] - 0s 4ms/step - loss: 6371.2036 - mae: 6371.2036\n",
      "Epoch 51/100\n",
      "34/34 [==============================] - 0s 5ms/step - loss: 6288.0010 - mae: 6288.0010\n",
      "Epoch 52/100\n",
      "34/34 [==============================] - 0s 4ms/step - loss: 6196.1602 - mae: 6196.1602\n",
      "Epoch 53/100\n",
      "34/34 [==============================] - 0s 5ms/step - loss: 6101.8135 - mae: 6101.8135\n",
      "Epoch 54/100\n",
      "34/34 [==============================] - 0s 5ms/step - loss: 6004.6768 - mae: 6004.6768\n",
      "Epoch 55/100\n",
      "34/34 [==============================] - 0s 7ms/step - loss: 5898.9556 - mae: 5898.9556\n",
      "Epoch 56/100\n",
      "34/34 [==============================] - 0s 6ms/step - loss: 5792.3018 - mae: 5792.3018\n",
      "Epoch 57/100\n",
      "34/34 [==============================] - 0s 4ms/step - loss: 5678.0771 - mae: 5678.0771\n",
      "Epoch 58/100\n",
      "34/34 [==============================] - 0s 6ms/step - loss: 5560.1094 - mae: 5560.1094\n",
      "Epoch 59/100\n",
      "34/34 [==============================] - 0s 6ms/step - loss: 5443.3511 - mae: 5443.3511\n",
      "Epoch 60/100\n",
      "34/34 [==============================] - 0s 3ms/step - loss: 5321.7305 - mae: 5321.7305\n",
      "Epoch 61/100\n",
      "34/34 [==============================] - 0s 5ms/step - loss: 5194.1841 - mae: 5194.1841\n",
      "Epoch 62/100\n",
      "34/34 [==============================] - 0s 5ms/step - loss: 5066.0708 - mae: 5066.0708\n",
      "Epoch 63/100\n",
      "34/34 [==============================] - 0s 6ms/step - loss: 4937.1523 - mae: 4937.1523\n",
      "Epoch 64/100\n",
      "34/34 [==============================] - 0s 5ms/step - loss: 4804.6499 - mae: 4804.6499\n",
      "Epoch 65/100\n",
      "34/34 [==============================] - 0s 5ms/step - loss: 4676.3101 - mae: 4676.3101\n",
      "Epoch 66/100\n",
      "34/34 [==============================] - 0s 4ms/step - loss: 4546.2241 - mae: 4546.2241\n",
      "Epoch 67/100\n",
      "34/34 [==============================] - 0s 5ms/step - loss: 4432.0142 - mae: 4432.0142\n",
      "Epoch 68/100\n",
      "34/34 [==============================] - 0s 4ms/step - loss: 4322.1489 - mae: 4322.1489\n",
      "Epoch 69/100\n",
      "34/34 [==============================] - 0s 4ms/step - loss: 4217.7471 - mae: 4217.7471\n",
      "Epoch 70/100\n",
      "34/34 [==============================] - 0s 4ms/step - loss: 4122.0996 - mae: 4122.0996\n",
      "Epoch 71/100\n",
      "34/34 [==============================] - 0s 4ms/step - loss: 4033.3022 - mae: 4033.3022\n",
      "Epoch 72/100\n",
      "34/34 [==============================] - 0s 4ms/step - loss: 3955.6340 - mae: 3955.6340\n",
      "Epoch 73/100\n",
      "34/34 [==============================] - 0s 4ms/step - loss: 3889.2551 - mae: 3889.2551\n",
      "Epoch 74/100\n",
      "34/34 [==============================] - 0s 4ms/step - loss: 3834.9583 - mae: 3834.9583\n",
      "Epoch 75/100\n",
      "34/34 [==============================] - 0s 4ms/step - loss: 3790.1362 - mae: 3790.1362\n",
      "Epoch 76/100\n",
      "34/34 [==============================] - 0s 4ms/step - loss: 3755.7192 - mae: 3755.7192\n",
      "Epoch 77/100\n",
      "34/34 [==============================] - 0s 4ms/step - loss: 3729.2312 - mae: 3729.2312\n",
      "Epoch 78/100\n",
      "34/34 [==============================] - 0s 4ms/step - loss: 3710.2095 - mae: 3710.2095\n",
      "Epoch 79/100\n",
      "34/34 [==============================] - 0s 5ms/step - loss: 3696.4180 - mae: 3696.4180\n",
      "Epoch 80/100\n",
      "34/34 [==============================] - 0s 3ms/step - loss: 3686.8999 - mae: 3686.8999\n",
      "Epoch 81/100\n",
      "34/34 [==============================] - 0s 5ms/step - loss: 3679.8335 - mae: 3679.8335\n",
      "Epoch 82/100\n",
      "34/34 [==============================] - 0s 4ms/step - loss: 3676.3503 - mae: 3676.3503\n",
      "Epoch 83/100\n",
      "34/34 [==============================] - 0s 4ms/step - loss: 3669.6736 - mae: 3669.6736\n",
      "Epoch 84/100\n",
      "34/34 [==============================] - 0s 4ms/step - loss: 3666.3904 - mae: 3666.3904\n",
      "Epoch 85/100\n",
      "34/34 [==============================] - 0s 5ms/step - loss: 3663.5801 - mae: 3663.5801\n",
      "Epoch 86/100\n",
      "34/34 [==============================] - 0s 3ms/step - loss: 3661.8398 - mae: 3661.8398\n",
      "Epoch 87/100\n",
      "34/34 [==============================] - 0s 3ms/step - loss: 3658.7085 - mae: 3658.7085\n",
      "Epoch 88/100\n",
      "34/34 [==============================] - 0s 4ms/step - loss: 3656.5420 - mae: 3656.5420\n",
      "Epoch 89/100\n",
      "34/34 [==============================] - 0s 4ms/step - loss: 3654.7893 - mae: 3654.7893\n",
      "Epoch 90/100\n",
      "34/34 [==============================] - 0s 4ms/step - loss: 3653.2639 - mae: 3653.2639\n",
      "Epoch 91/100\n",
      "34/34 [==============================] - 0s 3ms/step - loss: 3650.1895 - mae: 3650.1895\n",
      "Epoch 92/100\n",
      "34/34 [==============================] - 0s 3ms/step - loss: 3649.5959 - mae: 3649.5959\n",
      "Epoch 93/100\n",
      "34/34 [==============================] - 0s 3ms/step - loss: 3647.2971 - mae: 3647.2971\n",
      "Epoch 94/100\n",
      "34/34 [==============================] - 0s 3ms/step - loss: 3645.6426 - mae: 3645.6426\n",
      "Epoch 95/100\n",
      "34/34 [==============================] - 0s 3ms/step - loss: 3646.6797 - mae: 3646.6797\n",
      "Epoch 96/100\n",
      "34/34 [==============================] - 0s 3ms/step - loss: 3643.6387 - mae: 3643.6387\n",
      "Epoch 97/100\n",
      "34/34 [==============================] - 0s 3ms/step - loss: 3641.3132 - mae: 3641.3132\n",
      "Epoch 98/100\n",
      "34/34 [==============================] - 0s 4ms/step - loss: 3639.2942 - mae: 3639.2942\n",
      "Epoch 99/100\n",
      "34/34 [==============================] - 0s 4ms/step - loss: 3638.5964 - mae: 3638.5964\n",
      "Epoch 100/100\n",
      "34/34 [==============================] - 0s 3ms/step - loss: 3637.1167 - mae: 3637.1167\n"
     ]
    },
    {
     "data": {
      "text/plain": "<keras.callbacks.History at 0x7f659a393310>"
     },
     "execution_count": 96,
     "metadata": {},
     "output_type": "execute_result"
    }
   ],
   "source": [
    "# Build a neural network model to fit on our normalized data\n",
    "tf.random.set_seed(42)\n",
    "\n",
    "# 1. Create the model\n",
    "insurance_model_4 = tf.keras.Sequential([\n",
    "    tf.keras.layers.Dense(100),\n",
    "    tf.keras.layers.Dense(10),\n",
    "    tf.keras.layers.Dense(1)\n",
    "])\n",
    "\n",
    "# 2. Compile the model\n",
    "insurance_model_4.compile(loss=tf.keras.losses.mae,\n",
    "                          optimizer=tf.keras.optimizers.Adam(),\n",
    "                          metrics=[\"mae\"])\n",
    "\n",
    "# 3. Fit the model\n",
    "insurance_model_4.fit(X_train_normal, y_train, epochs=100)"
   ],
   "metadata": {
    "collapsed": false,
    "ExecuteTime": {
     "end_time": "2024-01-02T07:43:38.279695321Z",
     "start_time": "2024-01-02T07:43:22.316786116Z"
    }
   },
   "id": "1e2657ffce7804e5",
   "execution_count": 96
  },
  {
   "cell_type": "code",
   "outputs": [
    {
     "name": "stdout",
     "output_type": "stream",
     "text": [
      "9/9 [==============================] - 0s 6ms/step - loss: 3441.2822 - mae: 3441.2822\n"
     ]
    },
    {
     "data": {
      "text/plain": "[3441.2822265625, 3441.2822265625]"
     },
     "execution_count": 97,
     "metadata": {},
     "output_type": "execute_result"
    }
   ],
   "source": [
    "# Evaluate our insurance model trained on normalized data\n",
    "insurance_model_4.evaluate(X_test_normal, y_test)"
   ],
   "metadata": {
    "collapsed": false,
    "ExecuteTime": {
     "end_time": "2024-01-02T07:43:46.213187394Z",
     "start_time": "2024-01-02T07:43:45.802370273Z"
    }
   },
   "id": "4fb3b657b6097d3",
   "execution_count": 97
  },
  {
   "cell_type": "code",
   "outputs": [],
   "source": [
    "# Insurance model 2 results\n",
    "# 9/9 [==============================] - 0s 8ms/step - loss: 4895.3872 - mae: 4895.3872"
   ],
   "metadata": {
    "collapsed": false,
    "ExecuteTime": {
     "end_time": "2024-01-02T07:44:15.409465958Z",
     "start_time": "2024-01-02T07:44:15.350649686Z"
    }
   },
   "id": "91e076f0b6a086c1",
   "execution_count": 98
  },
  {
   "cell_type": "code",
   "outputs": [
    {
     "name": "stdout",
     "output_type": "stream",
     "text": [
      "Model: \"sequential_8\"\n",
      "_________________________________________________________________\n",
      " Layer (type)                Output Shape              Param #   \n",
      "=================================================================\n",
      " dense_12 (Dense)            (None, 100)               1200      \n",
      "                                                                 \n",
      " dense_13 (Dense)            (None, 10)                1010      \n",
      "                                                                 \n",
      " dense_14 (Dense)            (None, 1)                 11        \n",
      "                                                                 \n",
      "=================================================================\n",
      "Total params: 2,221\n",
      "Trainable params: 2,221\n",
      "Non-trainable params: 0\n",
      "_________________________________________________________________\n"
     ]
    }
   ],
   "source": [
    "insurance_model_2.summary()"
   ],
   "metadata": {
    "collapsed": false,
    "ExecuteTime": {
     "end_time": "2024-01-02T07:44:15.895319964Z",
     "start_time": "2024-01-02T07:44:15.821916252Z"
    }
   },
   "id": "1c3942305d559523",
   "execution_count": 99
  },
  {
   "cell_type": "markdown",
   "source": [
    "Beautiful! Our data has been normalized and one hot encoded.\n",
    "Now let's build neural network model on it and see how it goes."
   ],
   "metadata": {
    "collapsed": false
   },
   "id": "d6820b5f46da4b9d"
  },
  {
   "cell_type": "code",
   "outputs": [
    {
     "data": {
      "text/plain": "<Axes: ylabel='Frequency'>"
     },
     "execution_count": 100,
     "metadata": {},
     "output_type": "execute_result"
    },
    {
     "data": {
      "text/plain": "<Figure size 640x480 with 1 Axes>",
      "image/png": "[encoded data removed]"
     },
     "metadata": {},
     "output_type": "display_data"
    }
   ],
   "source": [
    "X[\"age\"].plot(kind=\"hist\")"
   ],
   "metadata": {
    "collapsed": false,
    "ExecuteTime": {
     "end_time": "2024-01-02T07:44:17.811116717Z",
     "start_time": "2024-01-02T07:44:17.638508570Z"
    }
   },
   "id": "55f0b1c8e43799f2",
   "execution_count": 100
  },
  {
   "cell_type": "code",
   "outputs": [
    {
     "data": {
      "text/plain": "<Axes: ylabel='Frequency'>"
     },
     "execution_count": 101,
     "metadata": {},
     "output_type": "execute_result"
    },
    {
     "data": {
      "text/plain": "<Figure size 640x480 with 1 Axes>",
      "image/png": "[encoded data removed]"
     },
     "metadata": {},
     "output_type": "display_data"
    }
   ],
   "source": [
    "X[\"bmi\"].plot(kind=\"hist\")"
   ],
   "metadata": {
    "collapsed": false,
    "ExecuteTime": {
     "end_time": "2024-01-02T07:44:18.798954455Z",
     "start_time": "2024-01-02T07:44:18.665235007Z"
    }
   },
   "id": "15141e0658c7ff0d",
   "execution_count": 101
  },
  {
   "cell_type": "code",
   "outputs": [
    {
     "data": {
      "text/plain": "children\n0    574\n1    324\n2    240\n3    157\n4     25\n5     18\nName: count, dtype: int64"
     },
     "execution_count": 102,
     "metadata": {},
     "output_type": "execute_result"
    }
   ],
   "source": [
    "X[\"children\"].value_counts()"
   ],
   "metadata": {
    "collapsed": false,
    "ExecuteTime": {
     "end_time": "2024-01-02T07:44:20.445448143Z",
     "start_time": "2024-01-02T07:44:20.393087153Z"
    }
   },
   "id": "e0601d61f80cc28e",
   "execution_count": 102
  },
  {
   "cell_type": "code",
   "outputs": [],
   "source": [],
   "metadata": {
    "collapsed": false
   },
   "id": "48ee7614f72d2bd4"
  }
 ],
 "metadata": {
  "kernelspec": {
   "name": "python3",
   "language": "python",
   "display_name": "Python 3 (ipykernel)"
  },
  "language_info": {
   "codemirror_mode": {
    "name": "ipython",
    "version": 2
   },
   "file_extension": ".py",
   "mimetype": "text/x-python",
   "name": "python",
   "nbconvert_exporter": "python",
   "pygments_lexer": "ipython2",
   "version": "2.7.6"
  },
  "colab": {
   "provenance": [],
   "gpuType": "T4"
  },
  "accelerator": "GPU"
 },
 "nbformat": 4,
 "nbformat_minor": 5
}
