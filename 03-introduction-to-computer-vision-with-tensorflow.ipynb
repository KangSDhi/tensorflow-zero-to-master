{
 "cells": [
  {
   "cell_type": "markdown",
   "source": [
    "# Introduction to Convolutional Neural Networks and Computer Vision with TensorFlow\n",
    "\n",
    "Computer vision is the practice of writing algorithms which can discover patterns in visual data. Such as the camera of a self-driving car recognizing the car in front."
   ],
   "metadata": {
    "collapsed": false
   },
   "id": "aab7784b19cda878"
  },
  {
   "cell_type": "markdown",
   "source": [
    "## Get the data\n",
    "\n",
    "The images we're working with are from the Food101 dataset (101 different classes of food): https://www.kaggle.com/datasets/dansbecker/food-101\n",
    "\n",
    "However we've modified it to only use two classes (pizza 🍕 & steak 🥩) using the image data modification notebook:\n",
    "https://github.com/mrdbourke/tensorflow-deep-learning/blob/main/extras/image_data_modification.ipynb\n",
    "\n",
    "> 🔑 **Note:** We start with a smaller dataset so we can experiment quickly and figure what works (or better yet what doesn't work) before scaling up"
   ],
   "metadata": {
    "collapsed": false
   },
   "id": "242a2cf49706c6c"
  },
  {
   "cell_type": "code",
   "outputs": [
    {
     "name": "stdout",
     "output_type": "stream",
     "text": [
      "--2024-03-30 20:56:14--  https://storage.googleapis.com/ztm_tf_course/food_vision/pizza_steak.zip\r\n",
      "Loaded CA certificate '/etc/ssl/certs/ca-certificates.crt'\r\n",
      "Resolving storage.googleapis.com (storage.googleapis.com)... 34.101.5.91, 34.101.5.123, 142.251.223.27, ...\r\n",
      "Connecting to storage.googleapis.com (storage.googleapis.com)|34.101.5.91|:443... connected.\r\n",
      "HTTP request sent, awaiting response... 200 OK\r\n",
      "Length: 109540975 (104M) [application/zip]\r\n",
      "Saving to: ‘pizza_steak.zip’\r\n",
      "\r\n",
      "pizza_steak.zip     100%[===================>] 104.47M  12.3MB/s    in 8.4s    \r\n",
      "\r\n",
      "2024-03-30 20:56:23 (12.4 MB/s) - ‘pizza_steak.zip’ saved [109540975/109540975]\r\n",
      "\r\n"
     ]
    }
   ],
   "source": [
    "import zipfile\n",
    "\n",
    "!wget https://storage.googleapis.com/ztm_tf_course/food_vision/pizza_steak.zip\n",
    "\n",
    "# Unzip the download file\n",
    "zip_ref = zipfile.ZipFile(\"pizza_steak.zip\")\n",
    "zip_ref.extractall()\n",
    "zip_ref.close()"
   ],
   "metadata": {
    "collapsed": false,
    "ExecuteTime": {
     "end_time": "2024-03-30T13:56:24.224883Z",
     "start_time": "2024-03-30T13:56:14.653823Z"
    }
   },
   "id": "8f796b5bad12c54",
   "execution_count": 1
  },
  {
   "cell_type": "code",
   "outputs": [],
   "source": [],
   "metadata": {
    "collapsed": false
   },
   "id": "84b3d7376069fbd"
  }
 ],
 "metadata": {
  "kernelspec": {
   "display_name": "Python 3",
   "language": "python",
   "name": "python3"
  },
  "language_info": {
   "codemirror_mode": {
    "name": "ipython",
    "version": 2
   },
   "file_extension": ".py",
   "mimetype": "text/x-python",
   "name": "python",
   "nbconvert_exporter": "python",
   "pygments_lexer": "ipython2",
   "version": "2.7.6"
  }
 },
 "nbformat": 4,
 "nbformat_minor": 5
}
